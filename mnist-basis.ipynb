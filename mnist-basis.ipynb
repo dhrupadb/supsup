{
 "cells": [
  {
   "cell_type": "markdown",
   "metadata": {},
   "source": [
    "# Supermasks in Superposition: Training and Task Inference\n",
    "\n",
    "<img src=\"images/teaser_supsup.png\">"
   ]
  },
  {
   "cell_type": "code",
   "execution_count": 1,
   "metadata": {
    "tags": []
   },
   "outputs": [
    {
     "name": "stdout",
     "output_type": "stream",
     "text": [
      "Packages loaded\n"
     ]
    }
   ],
   "source": [
    "import torch\n",
    "import torch.optim as optim\n",
    "import torch.nn as nn\n",
    "import torch.autograd as autograd\n",
    "import torch.nn.functional as F\n",
    "\n",
    "import torchvision\n",
    "import numpy as np\n",
    "import math\n",
    "\n",
    "from tqdm.notebook import tqdm\n",
    "\n",
    "print(\"Packages loaded\")\n",
    "# note at edits"
   ]
  },
  {
   "cell_type": "markdown",
   "metadata": {},
   "source": [
    "## Training\n",
    "\n",
    "We train our model using the procedure from \"What's Hidden in a Randomly Weighted Neural Network\" (Ramanujan et al. 2019). Below is a modification of the layers (using signed constant initialization) from this paper for our continual learning setup. As a deviation from this setup, we assume that an edge (u, v) is included in the subnetwork if its score is greater than 0, rather than use it's absolute magnitude to construct a threshold. "
   ]
  },
  {
   "cell_type": "code",
   "execution_count": 2,
   "metadata": {},
   "outputs": [],
   "source": [
    "# Subnetwork forward from hidden networks\n",
    "class GetSubnet(autograd.Function):\n",
    "    @staticmethod\n",
    "    def forward(ctx, scores):\n",
    "        return (scores >= 0).float()\n",
    "\n",
    "    @staticmethod\n",
    "    def backward(ctx, g):\n",
    "        # send the gradient g straight-through on the backward pass.\n",
    "        return g\n",
    "    \n",
    "class GetSubnetSparse(autograd.Function):\n",
    "    @staticmethod\n",
    "    def forward(ctx, scores, k):\n",
    "        # Get the supermask by sorting the scores and using the top k%\n",
    "        out = scores.clone()\n",
    "        _, idx = scores.flatten().sort()\n",
    "        j = int((1 - k) * scores.numel())\n",
    "\n",
    "        # flat_out and out access the same memory.\n",
    "        flat_out = out.flatten()\n",
    "        flat_out[idx[:j]] = 0\n",
    "        flat_out[idx[j:]] = 1\n",
    "\n",
    "        return out\n",
    "\n",
    "    @staticmethod\n",
    "    def backward(ctx, g):\n",
    "        # send the gradient g straight-through on the backward pass.\n",
    "        return g, None\n",
    "\n",
    "def mask_init(module):\n",
    "    scores = torch.Tensor(module.weight.size())\n",
    "    nn.init.kaiming_uniform_(scores, a=math.sqrt(5))\n",
    "    return scores\n",
    "\n",
    "\n",
    "def signed_constant(module):\n",
    "    fan = nn.init._calculate_correct_fan(module.weight, 'fan_in')\n",
    "    gain = nn.init.calculate_gain('relu')\n",
    "    std = gain / math.sqrt(fan)\n",
    "    module.weight.data = module.weight.data.sign() * std\n",
    "\n",
    "\n",
    "class MultitaskMaskLinear(nn.Linear):\n",
    "    def __init__(self, *args, num_tasks=1, **kwargs):\n",
    "        super().__init__(*args, **kwargs)\n",
    "        self.num_tasks = num_tasks\n",
    "        self.scores = nn.ParameterList(\n",
    "            [\n",
    "                nn.Parameter(mask_init(self))\n",
    "                for _ in range(num_tasks)\n",
    "            ]\n",
    "        )\n",
    "        \n",
    "        # Keep weights untrained\n",
    "        self.weight.requires_grad = False\n",
    "        signed_constant(self)\n",
    "    \n",
    "    @torch.no_grad()\n",
    "    def cache_masks(self):\n",
    "        self.register_buffer(\n",
    "            \"stacked\",\n",
    "            torch.stack(\n",
    "                [\n",
    "                    GetSubnet.apply(self.scores[j])\n",
    "                    for j in range(self.num_tasks)\n",
    "                ]\n",
    "            ),\n",
    "        )\n",
    "\n",
    "    def forward(self, x):\n",
    "        if self.task < 0:\n",
    "            # Superimposed forward pass\n",
    "            alpha_weights = self.alphas[: self.num_tasks_learned]\n",
    "            idxs = (alpha_weights > 0).squeeze().view(self.num_tasks_learned)\n",
    "            if len(idxs.shape) == 0:\n",
    "                idxs = idxs.view(1)\n",
    "            subnet = (\n",
    "                alpha_weights[idxs]\n",
    "                * self.stacked[: self.num_tasks_learned][idxs]\n",
    "            ).sum(dim=0)\n",
    "        else:\n",
    "            # Subnet forward pass (given task info in self.task)\n",
    "            subnet = GetSubnet.apply(self.scores[self.task])\n",
    "        w = self.weight * subnet\n",
    "        x = F.linear(x, w, self.bias)\n",
    "        return x\n",
    "\n",
    "\n",
    "    def __repr__(self):\n",
    "        return f\"MultitaskMaskLinear({self.in_dims}, {self.out_dims})\"\n",
    "    \n",
    "class MultitaskMaskLinearSparse(nn.Linear):\n",
    "    def __init__(self, *args, num_tasks=1, sparsity=0.5, **kwargs):\n",
    "        super().__init__(*args, **kwargs)\n",
    "        self.num_tasks = num_tasks\n",
    "        self.sparsity = sparsity\n",
    "        self.scores = nn.ParameterList(\n",
    "            [\n",
    "                nn.Parameter(mask_init(self))\n",
    "                for _ in range(num_tasks)\n",
    "            ]\n",
    "        )\n",
    "        \n",
    "        # Keep weights untrained\n",
    "        self.weight.requires_grad = False\n",
    "        signed_constant(self)\n",
    "    \n",
    "    @torch.no_grad()\n",
    "    def cache_masks(self):\n",
    "        self.register_buffer(\n",
    "            \"stacked\",\n",
    "            torch.stack(\n",
    "                [\n",
    "                    GetSubnetSparse.apply(self.scores[j], self.sparsity)\n",
    "                    for j in range(self.num_tasks)\n",
    "                ]\n",
    "            ),\n",
    "        )\n",
    "\n",
    "    def forward(self, x):\n",
    "        if self.task < 0:\n",
    "            # Superimposed forward pass\n",
    "            alpha_weights = self.alphas[: self.num_tasks_learned]\n",
    "            idxs = (alpha_weights > 0).squeeze().view(self.num_tasks_learned)\n",
    "            if len(idxs.shape) == 0:\n",
    "                idxs = idxs.view(1)\n",
    "            subnet = (\n",
    "                alpha_weights[idxs]\n",
    "                * self.stacked[: self.num_tasks_learned][idxs]\n",
    "            ).sum(dim=0)\n",
    "        else:\n",
    "            # Subnet forward pass (given task info in self.task)\n",
    "            subnet = GetSubnetSparse.apply(self.scores[self.task], self.sparsity)\n",
    "        w = self.weight * subnet\n",
    "        x = F.linear(x, w, self.bias)\n",
    "        return x\n",
    "\n",
    "\n",
    "    def __repr__(self):\n",
    "        return f\"MultitaskMaskLinearSparse({self.size()})\""
   ]
  },
  {
   "cell_type": "code",
   "execution_count": 3,
   "metadata": {},
   "outputs": [],
   "source": [
    "class BasisMultitaskMaskLinear(nn.Linear):\n",
    "    def __init__(self, *args, num_tasks=1, num_seed_tasks_learned=1, start_at_optimal=True, **kwargs):\n",
    "        super().__init__(*args, **kwargs)\n",
    "        assert num_tasks >= num_seed_tasks_learned, \"Seed tasks cannot be more than total tasks!\"\n",
    "        self.num_tasks = num_tasks\n",
    "        self.num_seed_tasks_learned = num_seed_tasks_learned\n",
    "        self.scores = nn.ParameterList(\n",
    "            [\n",
    "                nn.Parameter(mask_init(self))\n",
    "                for _ in range(num_tasks)\n",
    "            ]\n",
    "        )\n",
    "        self.task = -1\n",
    "        \n",
    "        # Keep weights untrained\n",
    "        self.weight.requires_grad = False\n",
    "        for s in self.scores:\n",
    "            s.requires_grad = False\n",
    "        self.scores.requires_grad = False\n",
    "        if start_at_optimal:\n",
    "            self.basis_alphas = nn.ParameterList(\n",
    "                [\n",
    "                    nn.Parameter(torch.eye(self.num_seed_tasks_learned)[i])\n",
    "                    for i in range(self.num_seed_tasks_learned)\n",
    "                ]\n",
    "                +\n",
    "                [\n",
    "                    nn.Parameter(torch.ones(self.num_seed_tasks_learned)/self.num_seed_tasks_learned)\n",
    "                    for _ in range(self.num_seed_tasks_learned, self.num_tasks)\n",
    "                ]\n",
    "            )\n",
    "        else:\n",
    "            self.basis_alphas = nn.ParameterList(\n",
    "                [\n",
    "                    nn.Parameter(torch.ones(self.num_seed_tasks_learned)/self.num_seed_tasks_learned)\n",
    "                    for _ in range(self.num_tasks)\n",
    "                ]\n",
    "            )\n",
    "        \n",
    "        signed_constant(self)\n",
    "    \n",
    "    @torch.no_grad()\n",
    "    def cache_masks(self):\n",
    "        self.register_buffer(\n",
    "            \"stacked\",\n",
    "            torch.stack(\n",
    "                [\n",
    "                    GetSubnet.apply(self.scores[j])\n",
    "                    for j in range(self.num_tasks)\n",
    "                ]\n",
    "            ),\n",
    "        )\n",
    "\n",
    "    def forward(self, x):\n",
    "        if self.task < 0:\n",
    "            raise NotImplemented(\"Need task identity at inference time.\")\n",
    "        else:\n",
    "            # Subnet forward pass (given task info in self.task)\n",
    "            subnet = GetSubnet.apply(\n",
    "                self.scores[0]\n",
    "            )\n",
    "            task_alpha = self.basis_alphas[self.task]\n",
    "            w = self.weight * subnet * task_alpha[0]\n",
    "            for i in range(1, self.num_seed_tasks_learned):\n",
    "                subnet = GetSubnet.apply(\n",
    "                    self.scores[i]\n",
    "                )\n",
    "                w += self.weight * subnet * task_alpha[i]\n",
    "        x = F.linear(x, w, self.bias)\n",
    "        return x\n",
    "\n",
    "\n",
    "    def __repr__(self):\n",
    "        return f\"BasisMultitaskMaskLinear({self.size()})\""
   ]
  },
  {
   "cell_type": "code",
   "execution_count": 4,
   "metadata": {},
   "outputs": [],
   "source": [
    "class BasisMultitaskMaskLinearSparse(nn.Linear):\n",
    "    def __init__(self, *args, num_tasks=1, num_seed_tasks_learned=1, start_at_optimal=True, sparsity=0.5, **kwargs):\n",
    "        super().__init__(*args, **kwargs)\n",
    "        assert num_tasks >= num_seed_tasks_learned, \"Seed tasks cannot be more than total tasks!\"\n",
    "        self.num_tasks = num_tasks\n",
    "        self.num_seed_tasks_learned = num_seed_tasks_learned\n",
    "        self.sparsity = sparsity\n",
    "        self.scores = nn.ParameterList(\n",
    "            [\n",
    "                nn.Parameter(mask_init(self))\n",
    "                for _ in range(num_tasks)\n",
    "            ]\n",
    "        )\n",
    "        self.task = -1\n",
    "        \n",
    "        # Keep weights untrained\n",
    "        self.weight.requires_grad = False\n",
    "        for s in self.scores:\n",
    "            s.requires_grad = False\n",
    "        self.scores.requires_grad = False\n",
    "        if start_at_optimal:\n",
    "            self.basis_alphas = nn.ParameterList(\n",
    "                [\n",
    "                    nn.Parameter(torch.eye(self.num_seed_tasks_learned)[i])\n",
    "                    for i in range(self.num_seed_tasks_learned)\n",
    "                ]\n",
    "                +\n",
    "                [\n",
    "                    nn.Parameter(torch.ones(self.num_seed_tasks_learned)/self.num_seed_tasks_learned)\n",
    "                    for _ in range(self.num_seed_tasks_learned, self.num_tasks)\n",
    "                ]\n",
    "            )\n",
    "        else:\n",
    "            self.basis_alphas = nn.ParameterList(\n",
    "                [\n",
    "                    nn.Parameter(torch.ones(self.num_seed_tasks_learned)/self.num_seed_tasks_learned)\n",
    "                    for _ in range(self.num_tasks)\n",
    "                ]\n",
    "            )\n",
    "        \n",
    "        signed_constant(self)\n",
    "    \n",
    "    @torch.no_grad()\n",
    "    def cache_masks(self):\n",
    "        self.register_buffer(\n",
    "            \"stacked\",\n",
    "            torch.stack(\n",
    "                [\n",
    "                    GetSubnetSparse.apply(self.scores[j], self.sparsity)\n",
    "                    for j in range(self.num_tasks)\n",
    "                ]\n",
    "            ),\n",
    "        )\n",
    "\n",
    "    def forward(self, x):\n",
    "        if self.task < 0:\n",
    "            raise NotImplemented(\"Need task identity at inference time.\")\n",
    "        else:\n",
    "            # Subnet forward pass (given task info in self.task)\n",
    "            subnet = GetSubnetSparse.apply(\n",
    "                self.scores[0], self.sparsity\n",
    "            )\n",
    "            task_alpha = self.basis_alphas[self.task]\n",
    "            w = self.weight * subnet * task_alpha[0]\n",
    "            for i in range(1, self.num_seed_tasks_learned):\n",
    "                subnet = GetSubnetSparse.apply(\n",
    "                    self.scores[i], self.sparsity\n",
    "                )\n",
    "                w += self.weight * subnet * task_alpha[i]\n",
    "        x = F.linear(x, w, self.bias)\n",
    "        return x\n",
    "\n",
    "\n",
    "    def __repr__(self):\n",
    "        return f\"BasisMultitaskMaskLinearSparse({self.size()})\""
   ]
  },
  {
   "cell_type": "code",
   "execution_count": 5,
   "metadata": {},
   "outputs": [],
   "source": [
    "class BasisMultitaskMaskLinearFrozen(nn.Linear):\n",
    "    def __init__(self, *args, num_tasks=1, num_seed_tasks_learned=1, start_at_optimal=True, **kwargs):\n",
    "        super().__init__(*args, **kwargs)\n",
    "        assert num_tasks >= num_seed_tasks_learned, \"Seed tasks cannot be more than total tasks!\"\n",
    "        self.num_tasks = num_tasks\n",
    "        self.num_seed_tasks_learned = num_seed_tasks_learned\n",
    "        self.scores = nn.ParameterList(\n",
    "            [\n",
    "                nn.Parameter(mask_init(self))\n",
    "                for _ in range(num_tasks)\n",
    "            ]\n",
    "        )\n",
    "        self.task = -1\n",
    "        \n",
    "        # Keep weights untrained\n",
    "        self.weight.requires_grad = False\n",
    "        for s in self.scores:\n",
    "            s.requires_grad = False\n",
    "        self.scores.requires_grad = False\n",
    "        if start_at_optimal:\n",
    "            self.basis_alphas = nn.ParameterList(\n",
    "                [\n",
    "                    nn.Parameter(torch.eye(self.num_seed_tasks_learned)[i])\n",
    "                    for i in range(self.num_seed_tasks_learned)\n",
    "                ]\n",
    "                +\n",
    "                [\n",
    "                    nn.Parameter(torch.ones(self.num_seed_tasks_learned)/self.num_seed_tasks_learned)\n",
    "                    for _ in range(self.num_seed_tasks_learned, self.num_tasks)\n",
    "                ]\n",
    "            )\n",
    "        else:\n",
    "            self.basis_alphas = nn.ParameterList(\n",
    "                [\n",
    "                    nn.Parameter(torch.ones(self.num_seed_tasks_learned)/self.num_seed_tasks_learned)\n",
    "                    for _ in range(self.num_tasks)\n",
    "                ]\n",
    "            )\n",
    "        for a in self.basis_alphas:\n",
    "            a.requires_grad = False\n",
    "        self.basis_alphas.requires_grad = False\n",
    "        \n",
    "        signed_constant(self)\n",
    "    \n",
    "    @torch.no_grad()\n",
    "    def cache_masks(self):\n",
    "        self.register_buffer(\n",
    "            \"stacked\",\n",
    "            torch.stack(\n",
    "                [\n",
    "                    GetSubnet.apply(self.scores[j])\n",
    "                    for j in range(self.num_tasks)\n",
    "                ]\n",
    "            ),\n",
    "        )\n",
    "\n",
    "    def forward(self, x):\n",
    "        if self.task < 0:\n",
    "            raise NotImplemented(\"Need task identity at inference time.\")\n",
    "        else:\n",
    "            # Subnet forward pass (given task info in self.task)\n",
    "            subnet = GetSubnet.apply(\n",
    "                self.scores[0]\n",
    "            )\n",
    "            task_alpha = self.basis_alphas[self.task]\n",
    "            w = self.weight * subnet * task_alpha[0]\n",
    "            for i in range(1, self.num_seed_tasks_learned):\n",
    "                subnet = GetSubnet.apply(\n",
    "                    self.scores[i]\n",
    "                )\n",
    "                w += self.weight * subnet * task_alpha[i]\n",
    "        x = F.linear(x, w, self.bias)\n",
    "        return x\n",
    "\n",
    "\n",
    "    def __repr__(self):\n",
    "        return f\"BasisMultitaskMaskLinearFrozen({self.size()})\""
   ]
  },
  {
   "cell_type": "code",
   "execution_count": 6,
   "metadata": {},
   "outputs": [],
   "source": [
    "class BasisMultitaskMaskLinearFrozenSparse(nn.Linear):\n",
    "    def __init__(self, *args, num_tasks=1, num_seed_tasks_learned=1, start_at_optimal=True, sparsity=0.5, **kwargs):\n",
    "        super().__init__(*args, **kwargs)\n",
    "        assert num_tasks >= num_seed_tasks_learned, \"Seed tasks cannot be more than total tasks!\"\n",
    "        self.num_tasks = num_tasks\n",
    "        self.sparsity = sparsity\n",
    "        self.num_seed_tasks_learned = num_seed_tasks_learned\n",
    "        self.scores = nn.ParameterList(\n",
    "            [\n",
    "                nn.Parameter(mask_init(self))\n",
    "                for _ in range(num_tasks)\n",
    "            ]\n",
    "        )\n",
    "        self.task = -1\n",
    "        \n",
    "        # Keep weights untrained\n",
    "        self.weight.requires_grad = False\n",
    "        for s in self.scores:\n",
    "            s.requires_grad = False\n",
    "        self.scores.requires_grad = False\n",
    "        if start_at_optimal:\n",
    "            self.basis_alphas = nn.ParameterList(\n",
    "                [\n",
    "                    nn.Parameter(torch.eye(self.num_seed_tasks_learned)[i])\n",
    "                    for i in range(self.num_seed_tasks_learned)\n",
    "                ]\n",
    "                +\n",
    "                [\n",
    "                    nn.Parameter(torch.ones(self.num_seed_tasks_learned)/self.num_seed_tasks_learned)\n",
    "                    for _ in range(self.num_seed_tasks_learned, self.num_tasks)\n",
    "                ]\n",
    "            )\n",
    "        else:\n",
    "            self.basis_alphas = nn.ParameterList(\n",
    "                [\n",
    "                    nn.Parameter(torch.ones(self.num_seed_tasks_learned)/self.num_seed_tasks_learned)\n",
    "                    for _ in range(self.num_tasks)\n",
    "                ]\n",
    "            )\n",
    "        for a in self.basis_alphas:\n",
    "            a.requires_grad = False\n",
    "        self.basis_alphas.requires_grad = False\n",
    "        \n",
    "        signed_constant(self)\n",
    "    \n",
    "    @torch.no_grad()\n",
    "    def cache_masks(self):\n",
    "        self.register_buffer(\n",
    "            \"stacked\",\n",
    "            torch.stack(\n",
    "                [\n",
    "                    GetSubnetSparse.apply(self.scores[j], self.sparsity)\n",
    "                    for j in range(self.num_tasks)\n",
    "                ]\n",
    "            ),\n",
    "        )\n",
    "\n",
    "    def forward(self, x):\n",
    "        if self.task < 0:\n",
    "            raise NotImplemented(\"Need task identity at inference time.\")\n",
    "        else:\n",
    "            # Subnet forward pass (given task info in self.task)\n",
    "            subnet = GetSubnetSparse.apply(\n",
    "                self.scores[0], self.sparsity\n",
    "            )\n",
    "            task_alpha = self.basis_alphas[self.task]\n",
    "            w = self.weight * subnet * task_alpha[0]\n",
    "            for i in range(1, self.num_seed_tasks_learned):\n",
    "                subnet = GetSubnetSparse.apply(\n",
    "                    self.scores[i], self.sparsity\n",
    "                )\n",
    "                w += self.weight * subnet * task_alpha[i]\n",
    "        x = F.linear(x, w, self.bias)\n",
    "        return x\n",
    "\n",
    "\n",
    "    def __repr__(self):\n",
    "        return f\"BasisMultitaskMaskLinearFrozenSparse({self.size()})\""
   ]
  },
  {
   "cell_type": "code",
   "execution_count": 8,
   "metadata": {},
   "outputs": [],
   "source": [
    "ValidConvs = [\n",
    "    MultitaskMaskLinear,\n",
    "    MultitaskMaskLinearSparse,\n",
    "    BasisMultitaskMaskLinear,\n",
    "    BasisMultitaskMaskLinearSparse,\n",
    "    BasisMultitaskMaskLinearFrozen,\n",
    "    BasisMultitaskMaskLinearFrozenSparse\n",
    "]\n",
    "\n",
    "def isoftype(m, cls_lst):\n",
    "    return any([isinstance(m, c) for c in cls_lst])"
   ]
  },
  {
   "cell_type": "code",
   "execution_count": 9,
   "metadata": {},
   "outputs": [],
   "source": [
    "# Utility functions\n",
    "def set_model_task(model, task, verbose=True):\n",
    "    for n, m in model.named_modules():\n",
    "        if isoftype(m, ValidConvs):\n",
    "            if verbose:\n",
    "                print(f\"=> Set task of {n} to {task}\")\n",
    "            m.task = task\n",
    "\n",
    "def cache_masks(model):\n",
    "    for n, m in model.named_modules():\n",
    "        if isoftype(m, ValidConvs):\n",
    "            print(f\"=> Caching mask state for {n}\")\n",
    "            m.cache_masks()\n",
    "\n",
    "def set_num_tasks_learned(model, num_tasks_learned):\n",
    "    for n, m in model.named_modules():\n",
    "        if isoftype(m, ValidConvs):\n",
    "            print(f\"=> Setting learned tasks of {n} to {num_tasks_learned}\")\n",
    "            m.num_tasks_learned = num_tasks_learned\n",
    "\n",
    "def set_alphas(model, alphas, verbose=True):\n",
    "    for n, m in model.named_modules():\n",
    "        if isoftype(m, ValidConvs):\n",
    "            if verbose:\n",
    "                print(f\"=> Setting alphas for {n}\")\n",
    "            m.alphas = alphas"
   ]
  },
  {
   "cell_type": "markdown",
   "metadata": {},
   "source": [
    "## Model\n",
    "\n",
    "For simplicity we use a simple 3-layer fully connected neural network. Note that you can make any neural by replacing a standard layer with its corresponding mask layer."
   ]
  },
  {
   "cell_type": "code",
   "execution_count": 10,
   "metadata": {},
   "outputs": [],
   "source": [
    "# Multitask Model, a simple fully connected model in this case\n",
    "class MultitaskFC(nn.Module):\n",
    "    def __init__(self, hidden_size, num_tasks):\n",
    "        super().__init__()\n",
    "        self.model = nn.Sequential(\n",
    "            MultitaskMaskLinear(\n",
    "                784,\n",
    "                hidden_size,\n",
    "                num_tasks=num_tasks,\n",
    "                bias=False\n",
    "            ),\n",
    "            nn.ReLU(),\n",
    "            MultitaskMaskLinear(\n",
    "                hidden_size,\n",
    "                hidden_size,\n",
    "                num_tasks=num_tasks,\n",
    "                bias=False\n",
    "            ),\n",
    "            nn.ReLU(),\n",
    "            MultitaskMaskLinear(\n",
    "                hidden_size,\n",
    "                100,\n",
    "                num_tasks=num_tasks,\n",
    "                bias=False\n",
    "            )\n",
    "        )\n",
    "    \n",
    "    def forward(self, x):\n",
    "        return self.model(x.flatten(1))"
   ]
  },
  {
   "cell_type": "code",
   "execution_count": 11,
   "metadata": {},
   "outputs": [],
   "source": [
    "# Multitask Model, a simple fully connected model in this case\n",
    "class MultitaskFCSparse(nn.Module):\n",
    "    def __init__(self, hidden_size, num_tasks, sparsity):\n",
    "        super().__init__()\n",
    "        self.model = nn.Sequential(\n",
    "            MultitaskMaskLinearSparse(\n",
    "                784,\n",
    "                hidden_size,\n",
    "                num_tasks=num_tasks,\n",
    "                sparsity=sparsity,\n",
    "                bias=False\n",
    "            ),\n",
    "            nn.ReLU(),\n",
    "            MultitaskMaskLinearSparse(\n",
    "                hidden_size,\n",
    "                hidden_size,\n",
    "                num_tasks=num_tasks,\n",
    "                sparsity=sparsity,\n",
    "                bias=False\n",
    "            ),\n",
    "            nn.ReLU(),\n",
    "            MultitaskMaskLinearSparse(\n",
    "                hidden_size,\n",
    "                100,\n",
    "                num_tasks=num_tasks,\n",
    "                sparsity=sparsity,\n",
    "                bias=False\n",
    "            )\n",
    "        )\n",
    "    \n",
    "    def forward(self, x):\n",
    "        return self.model(x.flatten(1))"
   ]
  },
  {
   "cell_type": "code",
   "execution_count": 12,
   "metadata": {},
   "outputs": [],
   "source": [
    "# Multitask Model, a simple fully connected model in this case\n",
    "class BasisMultitaskFC(nn.Module):\n",
    "    def __init__(self, hidden_size, num_tasks, num_seed_tasks_learned, start_at_optimal=True):\n",
    "        super().__init__()\n",
    "        self.model = nn.Sequential(\n",
    "            BasisMultitaskMaskLinear(\n",
    "                784,\n",
    "                hidden_size,\n",
    "                num_tasks=num_tasks,\n",
    "                num_seed_tasks_learned=num_seed_tasks_learned,\n",
    "                start_at_optimal=start_at_optimal,\n",
    "                bias=False\n",
    "            ),\n",
    "            nn.ReLU(),\n",
    "            BasisMultitaskMaskLinear(\n",
    "                hidden_size,\n",
    "                hidden_size,\n",
    "                num_tasks=num_tasks,\n",
    "                num_seed_tasks_learned=num_seed_tasks_learned,\n",
    "                start_at_optimal=start_at_optimal,\n",
    "                bias=False\n",
    "            ),\n",
    "            nn.ReLU(),\n",
    "            BasisMultitaskMaskLinear(\n",
    "                hidden_size,\n",
    "                100,\n",
    "                num_tasks=num_tasks,\n",
    "                num_seed_tasks_learned=num_seed_tasks_learned,\n",
    "                start_at_optimal=start_at_optimal,\n",
    "                bias=False\n",
    "            )\n",
    "        )\n",
    "    \n",
    "    def forward(self, x):\n",
    "        return self.model(x.flatten(1))"
   ]
  },
  {
   "cell_type": "code",
   "execution_count": 13,
   "metadata": {},
   "outputs": [],
   "source": [
    "class BasisHiddenOnlyMultitaskFC(nn.Module):\n",
    "    def __init__(self, hidden_size, num_tasks, num_seed_tasks_learned, start_at_optimal=True):\n",
    "        super().__init__()\n",
    "        self.model = nn.Sequential(\n",
    "            BasisMultitaskMaskLinear(\n",
    "                784,\n",
    "                hidden_size,\n",
    "                num_tasks=num_tasks,\n",
    "                num_seed_tasks_learned=num_seed_tasks_learned,\n",
    "                start_at_optimal=start_at_optimal,\n",
    "                bias=False\n",
    "            ),\n",
    "            nn.ReLU(),\n",
    "            BasisMultitaskMaskLinear(\n",
    "                hidden_size,\n",
    "                hidden_size,\n",
    "                num_tasks=num_tasks,\n",
    "                num_seed_tasks_learned=num_seed_tasks_learned,\n",
    "                start_at_optimal=start_at_optimal,\n",
    "                bias=False\n",
    "            ),\n",
    "            nn.ReLU(),\n",
    "            MultitaskMaskLinear(\n",
    "                hidden_size,\n",
    "                100,\n",
    "                num_tasks=num_tasks,\n",
    "                bias=False\n",
    "            )\n",
    "        )\n",
    "    \n",
    "    def forward(self, x):\n",
    "        return self.model(x.flatten(1))"
   ]
  },
  {
   "cell_type": "code",
   "execution_count": 14,
   "metadata": {},
   "outputs": [],
   "source": [
    "class BasisHiddenOnlyFrozenMultitaskFC(nn.Module):\n",
    "    def __init__(self, hidden_size, num_tasks, num_seed_tasks_learned, start_at_optimal=True):\n",
    "        super().__init__()\n",
    "        self.model = nn.Sequential(\n",
    "            BasisMultitaskMaskLinearFrozen(\n",
    "                784,\n",
    "                hidden_size,\n",
    "                num_tasks=num_tasks,\n",
    "                num_seed_tasks_learned=num_seed_tasks_learned,\n",
    "                start_at_optimal=start_at_optimal,\n",
    "                bias=False\n",
    "            ),\n",
    "            nn.ReLU(),\n",
    "            BasisMultitaskMaskLinearFrozen(\n",
    "                hidden_size,\n",
    "                hidden_size,\n",
    "                num_tasks=num_tasks,\n",
    "                num_seed_tasks_learned=num_seed_tasks_learned,\n",
    "                start_at_optimal=start_at_optimal,\n",
    "                bias=False\n",
    "            ),\n",
    "            nn.ReLU(),\n",
    "            MultitaskMaskLinear(\n",
    "                hidden_size,\n",
    "                100,\n",
    "                num_tasks=num_tasks,\n",
    "                bias=False\n",
    "            )\n",
    "        )\n",
    "    \n",
    "    def forward(self, x):\n",
    "        return self.model(x.flatten(1))"
   ]
  },
  {
   "cell_type": "code",
   "execution_count": 15,
   "metadata": {},
   "outputs": [],
   "source": [
    "# Multitask Model, a simple fully connected model in this case\n",
    "class BasisSparseMultitaskFC(nn.Module):\n",
    "    def __init__(self, hidden_size, num_tasks, num_seed_tasks_learned, sparsity, start_at_optimal=True):\n",
    "        super().__init__()\n",
    "        self.model = nn.Sequential(\n",
    "            BasisMultitaskMaskLinearSparse(\n",
    "                784,\n",
    "                hidden_size,\n",
    "                num_tasks=num_tasks,\n",
    "                num_seed_tasks_learned=num_seed_tasks_learned,\n",
    "                start_at_optimal=start_at_optimal,\n",
    "                sparsity=sparsity,\n",
    "                bias=False\n",
    "            ),\n",
    "            nn.ReLU(),\n",
    "            BasisMultitaskMaskLinearSparse(\n",
    "                hidden_size,\n",
    "                hidden_size,\n",
    "                num_tasks=num_tasks,\n",
    "                num_seed_tasks_learned=num_seed_tasks_learned,\n",
    "                start_at_optimal=start_at_optimal,\n",
    "                sparsity=sparsity,\n",
    "                bias=False\n",
    "            ),\n",
    "            nn.ReLU(),\n",
    "            BasisMultitaskMaskLinearSparse(\n",
    "                hidden_size,\n",
    "                100,\n",
    "                num_tasks=num_tasks,\n",
    "                num_seed_tasks_learned=num_seed_tasks_learned,\n",
    "                start_at_optimal=start_at_optimal,\n",
    "                sparsity=sparsity,\n",
    "                bias=False\n",
    "            )\n",
    "        )\n",
    "    \n",
    "    def forward(self, x):\n",
    "        return self.model(x.flatten(1))"
   ]
  },
  {
   "cell_type": "code",
   "execution_count": 16,
   "metadata": {},
   "outputs": [],
   "source": [
    "class BasisHiddenOnlySparseMultitaskFC(nn.Module):\n",
    "    def __init__(self, hidden_size, num_tasks, num_seed_tasks_learned, sparsity, start_at_optimal=True):\n",
    "        super().__init__()\n",
    "        self.model = nn.Sequential(\n",
    "            BasisMultitaskMaskLinear(\n",
    "                784,\n",
    "                hidden_size,\n",
    "                num_tasks=num_tasks,\n",
    "                num_seed_tasks_learned=num_seed_tasks_learned,\n",
    "                start_at_optimal=start_at_optimal,\n",
    "                sparsity=sparsity,\n",
    "                bias=False\n",
    "            ),\n",
    "            nn.ReLU(),\n",
    "            BasisMultitaskMaskLinear(\n",
    "                hidden_size,\n",
    "                hidden_size,\n",
    "                num_tasks=num_tasks,\n",
    "                num_seed_tasks_learned=num_seed_tasks_learned,\n",
    "                start_at_optimal=start_at_optimal,\n",
    "                sparsity=sparsity,\n",
    "                bias=False\n",
    "            ),\n",
    "            nn.ReLU(),\n",
    "            MultitaskMaskLinearSparse(\n",
    "                hidden_size,\n",
    "                100,\n",
    "                num_tasks=num_tasks,\n",
    "                sparsity=sparsity,\n",
    "                bias=False\n",
    "            )\n",
    "        )\n",
    "    \n",
    "    def forward(self, x):\n",
    "        return self.model(x.flatten(1))"
   ]
  },
  {
   "cell_type": "code",
   "execution_count": 17,
   "metadata": {},
   "outputs": [],
   "source": [
    "class BasisHiddenOnlySparseFrozenMultitaskFC(nn.Module):\n",
    "    def __init__(self, hidden_size, num_tasks, num_seed_tasks_learned, sparsity, start_at_optimal=True):\n",
    "        super().__init__()\n",
    "        self.model = nn.Sequential(\n",
    "            BasisMultitaskMaskLinearFrozenSparse(\n",
    "                784,\n",
    "                hidden_size,\n",
    "                num_tasks=num_tasks,\n",
    "                num_seed_tasks_learned=num_seed_tasks_learned,\n",
    "                start_at_optimal=start_at_optimal,\n",
    "                sparsity=sparsity,\n",
    "                bias=False\n",
    "            ),\n",
    "            nn.ReLU(),\n",
    "            BasisMultitaskMaskLinearFrozen(\n",
    "                hidden_size,\n",
    "                hidden_size,\n",
    "                num_tasks=num_tasks,\n",
    "                num_seed_tasks_learned=num_seed_tasks_learned,\n",
    "                start_at_optimal=start_at_optimal,\n",
    "                sparsity=sparsity,\n",
    "                bias=False\n",
    "            ),\n",
    "            nn.ReLU(),\n",
    "            MultitaskMaskLinear(\n",
    "                hidden_size,\n",
    "                100,\n",
    "                num_tasks=num_tasks,\n",
    "                sparsity=sparsity,\n",
    "                bias=False\n",
    "            )\n",
    "        )\n",
    "    \n",
    "    def forward(self, x):\n",
    "        return self.model(x.flatten(1))"
   ]
  },
  {
   "cell_type": "markdown",
   "metadata": {},
   "source": [
    "## Dataset \n",
    "\n",
    "Our \"base\" dataset is MNIST. Each task is a random permutation of the pixels of MNIST. Namely, given a dataset $\\{(x_i, y_i)\\}_i$ for each task $t$, we take a random permutation $S^t\\in S_{784}$ and construct a dataset $\\{(S^t(x_i), y_i)\\}_i$. \n",
    "\n",
    "Below we show this process and an example of a particular task. `MNISTPerm` uses an update task method to generate a particular sub-task. To assure these splits are reproducible, `MNISTPerm` takes a `seed` argument. In our paper we evaluate on seeds 0 through 4."
   ]
  },
  {
   "cell_type": "code",
   "execution_count": 8,
   "metadata": {
    "scrolled": true,
    "tags": []
   },
   "outputs": [
    {
     "data": {
      "image/png": "[encoded data removed]",
      "text/plain": [
       "<PIL.Image.Image image mode=RGB size=493x269 at 0x7FD13C48E8D0>"
      ]
     },
     "execution_count": 8,
     "metadata": {},
     "output_type": "execute_result"
    }
   ],
   "source": [
    "class MNISTPerm:\n",
    "    class permute(object):\n",
    "        def __call__(self, tensor):\n",
    "            out = tensor.flatten()\n",
    "            out = out[self.perm]\n",
    "            return out.view(1, 28, 28)\n",
    "\n",
    "        def __repr__(self):\n",
    "            return self.__class__.__name__\n",
    "\n",
    "    def __init__(self, seed=0):\n",
    "        super(MNISTPerm, self).__init__()\n",
    "        \n",
    "        data_root = \"mnist\"\n",
    "        self.permuter = self.permute()\n",
    "        self.seed = seed\n",
    "        train_dataset = torchvision.datasets.MNIST(\n",
    "            data_root,\n",
    "            train=True,\n",
    "            download=True,\n",
    "            transform=torchvision.transforms.Compose(\n",
    "                [\n",
    "                    torchvision.transforms.ToTensor(),\n",
    "                    torchvision.transforms.Normalize((0.1307,), (0.3081,)),\n",
    "                    self.permuter,\n",
    "                ]\n",
    "            ),\n",
    "        )\n",
    "\n",
    "        # Data loading code\n",
    "        self.train_loader = torch.utils.data.DataLoader(\n",
    "            train_dataset, batch_size=128, shuffle=True\n",
    "        )\n",
    "        self.val_loader = torch.utils.data.DataLoader(\n",
    "            torchvision.datasets.MNIST(\n",
    "                data_root,\n",
    "                train=False,\n",
    "                transform=torchvision.transforms.Compose(\n",
    "                    [\n",
    "                        torchvision.transforms.ToTensor(),\n",
    "                        torchvision.transforms.Normalize((0.1307,), (0.3081,)),\n",
    "                        self.permuter,\n",
    "                    ]\n",
    "                ),\n",
    "            ),\n",
    "            batch_size=128,\n",
    "            shuffle=False,\n",
    "        )\n",
    "\n",
    "    def update_task(self, i):\n",
    "        np.random.seed(i + self.seed)\n",
    "        self.permuter.__setattr__(\"perm\", np.random.permutation(784))\n",
    "    \n",
    "    def unpermute(self):\n",
    "        self.permuter.__setattr__(\"perm\", np.arange(784))\n",
    "\n",
    "mnist = MNISTPerm()\n",
    "\n",
    "# Showing some example images from MNISTPerm\n",
    "mnist.unpermute()\n",
    "batch, labels = next(iter(mnist.val_loader))\n",
    "\n",
    "mnist.update_task(0)\n",
    "task0, labels = next(iter(mnist.val_loader))\n",
    "\n",
    "torchvision.transforms.ToPILImage()(\n",
    "    torchvision.utils.make_grid(\n",
    "        torch.cat([batch, task0], dim=-1)[:64],\n",
    "        normalize=True,\n",
    "        padding=5,\n",
    "        pad_value=0.2\n",
    "    )\n",
    ")"
   ]
  },
  {
   "cell_type": "code",
   "execution_count": 9,
   "metadata": {},
   "outputs": [
    {
     "data": {
      "image/png": "[encoded data removed]",
      "text/plain": [
       "<PIL.Image.Image image mode=RGB size=493x269 at 0x7FD13C486D10>"
      ]
     },
     "execution_count": 9,
     "metadata": {},
     "output_type": "execute_result"
    }
   ],
   "source": [
    "import random\n",
    "\n",
    "class MNISTRot:\n",
    "    class rot(object):\n",
    "        def __call__(self, img):\n",
    "            if self.rotate:\n",
    "                return torchvision.transforms.RandomRotation(90)(img)\n",
    "            return img\n",
    "\n",
    "        def __repr__(self):\n",
    "            return self.__class__.__name__\n",
    "\n",
    "    def __init__(self, seed=0):\n",
    "        super(MNISTRot, self).__init__()\n",
    "        \n",
    "        data_root = \"mnist\"\n",
    "        self.seed = seed\n",
    "        self.rotator = self.rot()\n",
    "        train_dataset = torchvision.datasets.MNIST(\n",
    "            data_root,\n",
    "            train=True,\n",
    "            download=True,\n",
    "            transform=torchvision.transforms.Compose(\n",
    "                [\n",
    "                    self.rotator,\n",
    "                    torchvision.transforms.ToTensor(),\n",
    "                    torchvision.transforms.Normalize((0.1307,), (0.3081,)),\n",
    "                ]\n",
    "            ),\n",
    "        )\n",
    "\n",
    "        # Data loading code\n",
    "        self.train_loader = torch.utils.data.DataLoader(\n",
    "            train_dataset, batch_size=128, shuffle=True\n",
    "        )\n",
    "        self.val_loader = torch.utils.data.DataLoader(\n",
    "            torchvision.datasets.MNIST(\n",
    "                data_root,\n",
    "                train=False,\n",
    "                transform=torchvision.transforms.Compose(\n",
    "                     [\n",
    "                         self.rotator,\n",
    "                         torchvision.transforms.ToTensor(),\n",
    "                         torchvision.transforms.Normalize((0.1307,), (0.3081,))\n",
    "                     ]\n",
    "                 ),\n",
    "            ),\n",
    "            batch_size=128,\n",
    "            shuffle=False,\n",
    "        )\n",
    "\n",
    "    def update_task(self, i):\n",
    "        random.seed(i + self.seed)\n",
    "        self.rotator.__setattr__(\"rotate\", True)\n",
    "    \n",
    "    def unrotate(self):\n",
    "        self.rotator.__setattr__(\"rotate\", False)\n",
    "\n",
    "mnist_rot = MNISTRot()\n",
    "\n",
    "# Showing some example images from MNISTPerm\n",
    "mnist_rot.unrotate()\n",
    "batch, labels = next(iter(mnist_rot.val_loader))\n",
    "\n",
    "mnist_rot.update_task(0)\n",
    "task0, labels = next(iter(mnist_rot.val_loader))\n",
    "\n",
    "torchvision.transforms.ToPILImage()(\n",
    "    torchvision.utils.make_grid(\n",
    "        torch.cat([batch, task0], dim=-1)[:64],\n",
    "        normalize=True,\n",
    "        padding=5,\n",
    "        pad_value=0.2\n",
    "    )\n",
    ")"
   ]
  },
  {
   "cell_type": "markdown",
   "metadata": {},
   "source": [
    "### Simple train and evaluation loops for classification"
   ]
  },
  {
   "cell_type": "code",
   "execution_count": 10,
   "metadata": {},
   "outputs": [],
   "source": [
    "# Finding supermasks per task\n",
    "\n",
    "def train(model, trainloader, optimizer, epoch):\n",
    "    model.train()\n",
    "\n",
    "    criterion = nn.CrossEntropyLoss()\n",
    "    num_correct = 0\n",
    "    total_seen = 0\n",
    "    for i, (batch, labels) in tqdm(\n",
    "        enumerate(trainloader),\n",
    "        ascii=True,\n",
    "        total=len(trainloader)\n",
    "    ):\n",
    "        logits = model(batch)\n",
    "        loss = criterion(logits, labels)\n",
    "\n",
    "        optimizer.zero_grad()\n",
    "        loss.backward()\n",
    "        optimizer.step()\n",
    "\n",
    "        if i % 20 == 0:\n",
    "            predictions = logits.argmax(dim=-1)\n",
    "            num_correct += (predictions == labels).float().sum()\n",
    "            total_seen += logits.size(0) \n",
    "            tqdm.write(\n",
    "                (f\"e{epoch} {i+1}/{len(trainloader)}\"\n",
    "                f\" => Loss {loss.item():0.4f}, \"\n",
    "                f\"Acc@1 {(num_correct / total_seen):0.4f}\"),\n",
    "                end=\"\\r\"\n",
    "            )\n",
    "\n",
    "\n",
    "@torch.no_grad()\n",
    "def evaluate(model, val_loader, epoch):\n",
    "    model.eval()\n",
    "    num_correct = 0\n",
    "    total_seen = 0\n",
    "    for batch, labels in tqdm(\n",
    "        val_loader,\n",
    "        ascii=True,\n",
    "        total=len(val_loader)\n",
    "    ):\n",
    "        logits = model(batch)\n",
    "        predictions = logits.argmax(dim=-1)\n",
    "        num_correct += (predictions == labels).float().sum()\n",
    "        total_seen += logits.size(0) \n",
    "    \n",
    "\n",
    "    tqdm.write(\n",
    "        f\"Val Perf after {epoch + 1} epochs \"\n",
    "        f\"Acc@1 {(num_correct / total_seen):0.4f}\", \n",
    "    )\n",
    "    return num_correct / total_seen\n",
    "\n"
   ]
  },
  {
   "cell_type": "markdown",
   "metadata": {},
   "source": [
    "For any scenario where task ID is given during train time, we simply train each supermask independently, one per task. We make use of our utility function `set_model_task` to do this. We use 5 tasks for demonstration purposes. Feel free to increase `num_tasks` in the following cell. In our paper we use as many as 2500 tasks with no drop in performance for either task inference or validation accuracy."
   ]
  },
  {
   "cell_type": "code",
   "execution_count": 11,
   "metadata": {
    "scrolled": true
   },
   "outputs": [
    {
     "name": "stdout",
     "output_type": "stream",
     "text": [
      "Training for task 0\n",
      "=> Set task of model.0 to 0\n",
      "=> Set task of model.2 to 0\n",
      "=> Set task of model.4 to 0\n"
     ]
    },
    {
     "data": {
      "application/vnd.jupyter.widget-view+json": {
       "model_id": "",
       "version_major": 2,
       "version_minor": 0
      },
      "text/plain": [
       "  0%|          | 0/469 [00:00<?, ?it/s]"
      ]
     },
     "metadata": {},
     "output_type": "display_data"
    },
    {
     "name": "stdout",
     "output_type": "stream",
     "text": [
      "Validation => Loss 0.3304, Acc@1 0.8555\n",
      "============\n"
     ]
    },
    {
     "data": {
      "application/vnd.jupyter.widget-view+json": {
       "model_id": "",
       "version_major": 2,
       "version_minor": 0
      },
      "text/plain": [
       "  0%|          | 0/79 [00:00<?, ?it/s]"
      ]
     },
     "metadata": {},
     "output_type": "display_data"
    },
    {
     "name": "stdout",
     "output_type": "stream",
     "text": [
      "Val Perf after 1 epochs Acc@1 0.9234\n",
      "=> Caching mask state for model.0\n",
      "=> Caching mask state for model.2\n",
      "=> Caching mask state for model.4\n",
      "\n",
      "=> Setting learned tasks of model.0 to 1\n",
      "=> Setting learned tasks of model.2 to 1\n",
      "=> Setting learned tasks of model.4 to 1\n",
      "\n",
      "Training for task 1\n",
      "=> Set task of model.0 to 1\n",
      "=> Set task of model.2 to 1\n",
      "=> Set task of model.4 to 1\n"
     ]
    },
    {
     "data": {
      "application/vnd.jupyter.widget-view+json": {
       "model_id": "",
       "version_major": 2,
       "version_minor": 0
      },
      "text/plain": [
       "  0%|          | 0/469 [00:00<?, ?it/s]"
      ]
     },
     "metadata": {},
     "output_type": "display_data"
    },
    {
     "name": "stdout",
     "output_type": "stream",
     "text": [
      "Validation => Loss 0.2478, Acc@1 0.8529\n",
      "============\n"
     ]
    },
    {
     "data": {
      "application/vnd.jupyter.widget-view+json": {
       "model_id": "",
       "version_major": 2,
       "version_minor": 0
      },
      "text/plain": [
       "  0%|          | 0/79 [00:00<?, ?it/s]"
      ]
     },
     "metadata": {},
     "output_type": "display_data"
    },
    {
     "name": "stdout",
     "output_type": "stream",
     "text": [
      "Val Perf after 1 epochs Acc@1 0.9254\n",
      "=> Caching mask state for model.0\n",
      "=> Caching mask state for model.2\n",
      "=> Caching mask state for model.4\n",
      "\n",
      "=> Setting learned tasks of model.0 to 2\n",
      "=> Setting learned tasks of model.2 to 2\n",
      "=> Setting learned tasks of model.4 to 2\n",
      "\n",
      "Training for task 2\n",
      "=> Set task of model.0 to 2\n",
      "=> Set task of model.2 to 2\n",
      "=> Set task of model.4 to 2\n"
     ]
    },
    {
     "data": {
      "application/vnd.jupyter.widget-view+json": {
       "model_id": "",
       "version_major": 2,
       "version_minor": 0
      },
      "text/plain": [
       "  0%|          | 0/469 [00:00<?, ?it/s]"
      ]
     },
     "metadata": {},
     "output_type": "display_data"
    },
    {
     "name": "stdout",
     "output_type": "stream",
     "text": [
      "Validation => Loss 0.3299, Acc@1 0.8561\n",
      "============\n"
     ]
    },
    {
     "data": {
      "application/vnd.jupyter.widget-view+json": {
       "model_id": "",
       "version_major": 2,
       "version_minor": 0
      },
      "text/plain": [
       "  0%|          | 0/79 [00:00<?, ?it/s]"
      ]
     },
     "metadata": {},
     "output_type": "display_data"
    },
    {
     "name": "stdout",
     "output_type": "stream",
     "text": [
      "Val Perf after 1 epochs Acc@1 0.9223\n",
      "=> Caching mask state for model.0\n",
      "=> Caching mask state for model.2\n",
      "=> Caching mask state for model.4\n",
      "\n",
      "=> Setting learned tasks of model.0 to 3\n",
      "=> Setting learned tasks of model.2 to 3\n",
      "=> Setting learned tasks of model.4 to 3\n",
      "\n",
      "Training for task 3\n",
      "=> Set task of model.0 to 3\n",
      "=> Set task of model.2 to 3\n",
      "=> Set task of model.4 to 3\n"
     ]
    },
    {
     "data": {
      "application/vnd.jupyter.widget-view+json": {
       "model_id": "",
       "version_major": 2,
       "version_minor": 0
      },
      "text/plain": [
       "  0%|          | 0/469 [00:00<?, ?it/s]"
      ]
     },
     "metadata": {},
     "output_type": "display_data"
    },
    {
     "name": "stdout",
     "output_type": "stream",
     "text": [
      "Validation => Loss 0.2713, Acc@1 0.8613\n",
      "============\n"
     ]
    },
    {
     "data": {
      "application/vnd.jupyter.widget-view+json": {
       "model_id": "",
       "version_major": 2,
       "version_minor": 0
      },
      "text/plain": [
       "  0%|          | 0/79 [00:00<?, ?it/s]"
      ]
     },
     "metadata": {},
     "output_type": "display_data"
    },
    {
     "name": "stdout",
     "output_type": "stream",
     "text": [
      "Val Perf after 1 epochs Acc@1 0.9260\n",
      "=> Caching mask state for model.0\n",
      "=> Caching mask state for model.2\n",
      "=> Caching mask state for model.4\n",
      "\n",
      "=> Setting learned tasks of model.0 to 4\n",
      "=> Setting learned tasks of model.2 to 4\n",
      "=> Setting learned tasks of model.4 to 4\n",
      "\n",
      "Training for task 4\n",
      "=> Set task of model.0 to 4\n",
      "=> Set task of model.2 to 4\n",
      "=> Set task of model.4 to 4\n"
     ]
    },
    {
     "data": {
      "application/vnd.jupyter.widget-view+json": {
       "model_id": "",
       "version_major": 2,
       "version_minor": 0
      },
      "text/plain": [
       "  0%|          | 0/469 [00:00<?, ?it/s]"
      ]
     },
     "metadata": {},
     "output_type": "display_data"
    },
    {
     "name": "stdout",
     "output_type": "stream",
     "text": [
      "Validation => Loss 0.2664, Acc@1 0.8457\n",
      "============\n"
     ]
    },
    {
     "data": {
      "application/vnd.jupyter.widget-view+json": {
       "model_id": "",
       "version_major": 2,
       "version_minor": 0
      },
      "text/plain": [
       "  0%|          | 0/79 [00:00<?, ?it/s]"
      ]
     },
     "metadata": {},
     "output_type": "display_data"
    },
    {
     "name": "stdout",
     "output_type": "stream",
     "text": [
      "Val Perf after 1 epochs Acc@1 0.9264\n",
      "=> Caching mask state for model.0\n",
      "=> Caching mask state for model.2\n",
      "=> Caching mask state for model.4\n",
      "\n",
      "=> Setting learned tasks of model.0 to 5\n",
      "=> Setting learned tasks of model.2 to 5\n",
      "=> Setting learned tasks of model.4 to 5\n",
      "\n",
      "Training for task 5\n",
      "=> Set task of model.0 to 5\n",
      "=> Set task of model.2 to 5\n",
      "=> Set task of model.4 to 5\n"
     ]
    },
    {
     "data": {
      "application/vnd.jupyter.widget-view+json": {
       "model_id": "",
       "version_major": 2,
       "version_minor": 0
      },
      "text/plain": [
       "  0%|          | 0/469 [00:00<?, ?it/s]"
      ]
     },
     "metadata": {},
     "output_type": "display_data"
    },
    {
     "name": "stdout",
     "output_type": "stream",
     "text": [
      "Validation => Loss 0.2593, Acc@1 0.8623\n",
      "============\n"
     ]
    },
    {
     "data": {
      "application/vnd.jupyter.widget-view+json": {
       "model_id": "",
       "version_major": 2,
       "version_minor": 0
      },
      "text/plain": [
       "  0%|          | 0/79 [00:00<?, ?it/s]"
      ]
     },
     "metadata": {},
     "output_type": "display_data"
    },
    {
     "name": "stdout",
     "output_type": "stream",
     "text": [
      "Val Perf after 1 epochs Acc@1 0.9265\n",
      "=> Caching mask state for model.0\n",
      "=> Caching mask state for model.2\n",
      "=> Caching mask state for model.4\n",
      "\n",
      "=> Setting learned tasks of model.0 to 6\n",
      "=> Setting learned tasks of model.2 to 6\n",
      "=> Setting learned tasks of model.4 to 6\n",
      "\n",
      "Training for task 6\n",
      "=> Set task of model.0 to 6\n",
      "=> Set task of model.2 to 6\n",
      "=> Set task of model.4 to 6\n"
     ]
    },
    {
     "data": {
      "application/vnd.jupyter.widget-view+json": {
       "model_id": "",
       "version_major": 2,
       "version_minor": 0
      },
      "text/plain": [
       "  0%|          | 0/469 [00:00<?, ?it/s]"
      ]
     },
     "metadata": {},
     "output_type": "display_data"
    },
    {
     "name": "stdout",
     "output_type": "stream",
     "text": [
      "Validation => Loss 0.3485, Acc@1 0.8594\n",
      "============\n"
     ]
    },
    {
     "data": {
      "application/vnd.jupyter.widget-view+json": {
       "model_id": "",
       "version_major": 2,
       "version_minor": 0
      },
      "text/plain": [
       "  0%|          | 0/79 [00:00<?, ?it/s]"
      ]
     },
     "metadata": {},
     "output_type": "display_data"
    },
    {
     "name": "stdout",
     "output_type": "stream",
     "text": [
      "Val Perf after 1 epochs Acc@1 0.9229\n",
      "=> Caching mask state for model.0\n",
      "=> Caching mask state for model.2\n",
      "=> Caching mask state for model.4\n",
      "\n",
      "=> Setting learned tasks of model.0 to 7\n",
      "=> Setting learned tasks of model.2 to 7\n",
      "=> Setting learned tasks of model.4 to 7\n",
      "\n",
      "Training for task 7\n",
      "=> Set task of model.0 to 7\n",
      "=> Set task of model.2 to 7\n",
      "=> Set task of model.4 to 7\n"
     ]
    },
    {
     "data": {
      "application/vnd.jupyter.widget-view+json": {
       "model_id": "",
       "version_major": 2,
       "version_minor": 0
      },
      "text/plain": [
       "  0%|          | 0/469 [00:00<?, ?it/s]"
      ]
     },
     "metadata": {},
     "output_type": "display_data"
    },
    {
     "name": "stdout",
     "output_type": "stream",
     "text": [
      "Validation => Loss 0.2515, Acc@1 0.8551\n",
      "============\n"
     ]
    },
    {
     "data": {
      "application/vnd.jupyter.widget-view+json": {
       "model_id": "",
       "version_major": 2,
       "version_minor": 0
      },
      "text/plain": [
       "  0%|          | 0/79 [00:00<?, ?it/s]"
      ]
     },
     "metadata": {},
     "output_type": "display_data"
    },
    {
     "name": "stdout",
     "output_type": "stream",
     "text": [
      "Val Perf after 1 epochs Acc@1 0.9229\n",
      "=> Caching mask state for model.0\n",
      "=> Caching mask state for model.2\n",
      "=> Caching mask state for model.4\n",
      "\n",
      "=> Setting learned tasks of model.0 to 8\n",
      "=> Setting learned tasks of model.2 to 8\n",
      "=> Setting learned tasks of model.4 to 8\n",
      "\n",
      "Training for task 8\n",
      "=> Set task of model.0 to 8\n",
      "=> Set task of model.2 to 8\n",
      "=> Set task of model.4 to 8\n"
     ]
    },
    {
     "data": {
      "application/vnd.jupyter.widget-view+json": {
       "model_id": "",
       "version_major": 2,
       "version_minor": 0
      },
      "text/plain": [
       "  0%|          | 0/469 [00:00<?, ?it/s]"
      ]
     },
     "metadata": {},
     "output_type": "display_data"
    },
    {
     "name": "stdout",
     "output_type": "stream",
     "text": [
      "Validation => Loss 0.4318, Acc@1 0.8636\n",
      "============\n"
     ]
    },
    {
     "data": {
      "application/vnd.jupyter.widget-view+json": {
       "model_id": "",
       "version_major": 2,
       "version_minor": 0
      },
      "text/plain": [
       "  0%|          | 0/79 [00:00<?, ?it/s]"
      ]
     },
     "metadata": {},
     "output_type": "display_data"
    },
    {
     "name": "stdout",
     "output_type": "stream",
     "text": [
      "Val Perf after 1 epochs Acc@1 0.9252\n",
      "=> Caching mask state for model.0\n",
      "=> Caching mask state for model.2\n",
      "=> Caching mask state for model.4\n",
      "\n",
      "=> Setting learned tasks of model.0 to 9\n",
      "=> Setting learned tasks of model.2 to 9\n",
      "=> Setting learned tasks of model.4 to 9\n",
      "\n",
      "Training for task 9\n",
      "=> Set task of model.0 to 9\n",
      "=> Set task of model.2 to 9\n",
      "=> Set task of model.4 to 9\n"
     ]
    },
    {
     "data": {
      "application/vnd.jupyter.widget-view+json": {
       "model_id": "",
       "version_major": 2,
       "version_minor": 0
      },
      "text/plain": [
       "  0%|          | 0/469 [00:00<?, ?it/s]"
      ]
     },
     "metadata": {},
     "output_type": "display_data"
    },
    {
     "name": "stdout",
     "output_type": "stream",
     "text": [
      "Validation => Loss 0.3058, Acc@1 0.8649\n",
      "============\n"
     ]
    },
    {
     "data": {
      "application/vnd.jupyter.widget-view+json": {
       "model_id": "",
       "version_major": 2,
       "version_minor": 0
      },
      "text/plain": [
       "  0%|          | 0/79 [00:00<?, ?it/s]"
      ]
     },
     "metadata": {},
     "output_type": "display_data"
    },
    {
     "name": "stdout",
     "output_type": "stream",
     "text": [
      "Val Perf after 1 epochs Acc@1 0.9261\n",
      "=> Caching mask state for model.0\n",
      "=> Caching mask state for model.2\n",
      "=> Caching mask state for model.4\n",
      "\n",
      "=> Setting learned tasks of model.0 to 10\n",
      "=> Setting learned tasks of model.2 to 10\n",
      "=> Setting learned tasks of model.4 to 10\n",
      "\n",
      "Training for task 10\n",
      "=> Set task of model.0 to 10\n",
      "=> Set task of model.2 to 10\n",
      "=> Set task of model.4 to 10\n"
     ]
    },
    {
     "data": {
      "application/vnd.jupyter.widget-view+json": {
       "model_id": "",
       "version_major": 2,
       "version_minor": 0
      },
      "text/plain": [
       "  0%|          | 0/469 [00:00<?, ?it/s]"
      ]
     },
     "metadata": {},
     "output_type": "display_data"
    },
    {
     "name": "stdout",
     "output_type": "stream",
     "text": [
      "Validation => Loss 0.2764, Acc@1 0.8678\n",
      "============\n"
     ]
    },
    {
     "data": {
      "application/vnd.jupyter.widget-view+json": {
       "model_id": "",
       "version_major": 2,
       "version_minor": 0
      },
      "text/plain": [
       "  0%|          | 0/79 [00:00<?, ?it/s]"
      ]
     },
     "metadata": {},
     "output_type": "display_data"
    },
    {
     "name": "stdout",
     "output_type": "stream",
     "text": [
      "Val Perf after 1 epochs Acc@1 0.9285\n",
      "=> Caching mask state for model.0\n",
      "=> Caching mask state for model.2\n",
      "=> Caching mask state for model.4\n",
      "\n",
      "=> Setting learned tasks of model.0 to 11\n",
      "=> Setting learned tasks of model.2 to 11\n",
      "=> Setting learned tasks of model.4 to 11\n",
      "\n",
      "Training for task 11\n",
      "=> Set task of model.0 to 11\n",
      "=> Set task of model.2 to 11\n",
      "=> Set task of model.4 to 11\n"
     ]
    },
    {
     "data": {
      "application/vnd.jupyter.widget-view+json": {
       "model_id": "",
       "version_major": 2,
       "version_minor": 0
      },
      "text/plain": [
       "  0%|          | 0/469 [00:00<?, ?it/s]"
      ]
     },
     "metadata": {},
     "output_type": "display_data"
    },
    {
     "name": "stdout",
     "output_type": "stream",
     "text": [
      "Validation => Loss 0.2894, Acc@1 0.8571\n",
      "============\n"
     ]
    },
    {
     "data": {
      "application/vnd.jupyter.widget-view+json": {
       "model_id": "",
       "version_major": 2,
       "version_minor": 0
      },
      "text/plain": [
       "  0%|          | 0/79 [00:00<?, ?it/s]"
      ]
     },
     "metadata": {},
     "output_type": "display_data"
    },
    {
     "name": "stdout",
     "output_type": "stream",
     "text": [
      "Val Perf after 1 epochs Acc@1 0.9251\n",
      "=> Caching mask state for model.0\n",
      "=> Caching mask state for model.2\n",
      "=> Caching mask state for model.4\n",
      "\n",
      "=> Setting learned tasks of model.0 to 12\n",
      "=> Setting learned tasks of model.2 to 12\n",
      "=> Setting learned tasks of model.4 to 12\n",
      "\n",
      "Training for task 12\n",
      "=> Set task of model.0 to 12\n",
      "=> Set task of model.2 to 12\n",
      "=> Set task of model.4 to 12\n"
     ]
    },
    {
     "data": {
      "application/vnd.jupyter.widget-view+json": {
       "model_id": "",
       "version_major": 2,
       "version_minor": 0
      },
      "text/plain": [
       "  0%|          | 0/469 [00:00<?, ?it/s]"
      ]
     },
     "metadata": {},
     "output_type": "display_data"
    },
    {
     "name": "stdout",
     "output_type": "stream",
     "text": [
      "Validation => Loss 0.2614, Acc@1 0.8584\n",
      "============\n"
     ]
    },
    {
     "data": {
      "application/vnd.jupyter.widget-view+json": {
       "model_id": "",
       "version_major": 2,
       "version_minor": 0
      },
      "text/plain": [
       "  0%|          | 0/79 [00:00<?, ?it/s]"
      ]
     },
     "metadata": {},
     "output_type": "display_data"
    },
    {
     "name": "stdout",
     "output_type": "stream",
     "text": [
      "Val Perf after 1 epochs Acc@1 0.9244\n",
      "=> Caching mask state for model.0\n",
      "=> Caching mask state for model.2\n",
      "=> Caching mask state for model.4\n",
      "\n",
      "=> Setting learned tasks of model.0 to 13\n",
      "=> Setting learned tasks of model.2 to 13\n",
      "=> Setting learned tasks of model.4 to 13\n",
      "\n",
      "Training for task 13\n",
      "=> Set task of model.0 to 13\n",
      "=> Set task of model.2 to 13\n",
      "=> Set task of model.4 to 13\n"
     ]
    },
    {
     "data": {
      "application/vnd.jupyter.widget-view+json": {
       "model_id": "",
       "version_major": 2,
       "version_minor": 0
      },
      "text/plain": [
       "  0%|          | 0/469 [00:00<?, ?it/s]"
      ]
     },
     "metadata": {},
     "output_type": "display_data"
    },
    {
     "name": "stdout",
     "output_type": "stream",
     "text": [
      "Validation => Loss 0.2859, Acc@1 0.8669\n",
      "============\n"
     ]
    },
    {
     "data": {
      "application/vnd.jupyter.widget-view+json": {
       "model_id": "",
       "version_major": 2,
       "version_minor": 0
      },
      "text/plain": [
       "  0%|          | 0/79 [00:00<?, ?it/s]"
      ]
     },
     "metadata": {},
     "output_type": "display_data"
    },
    {
     "name": "stdout",
     "output_type": "stream",
     "text": [
      "Val Perf after 1 epochs Acc@1 0.9230\n",
      "=> Caching mask state for model.0\n",
      "=> Caching mask state for model.2\n",
      "=> Caching mask state for model.4\n",
      "\n",
      "=> Setting learned tasks of model.0 to 14\n",
      "=> Setting learned tasks of model.2 to 14\n",
      "=> Setting learned tasks of model.4 to 14\n",
      "\n",
      "Training for task 14\n",
      "=> Set task of model.0 to 14\n",
      "=> Set task of model.2 to 14\n",
      "=> Set task of model.4 to 14\n"
     ]
    },
    {
     "data": {
      "application/vnd.jupyter.widget-view+json": {
       "model_id": "",
       "version_major": 2,
       "version_minor": 0
      },
      "text/plain": [
       "  0%|          | 0/469 [00:00<?, ?it/s]"
      ]
     },
     "metadata": {},
     "output_type": "display_data"
    },
    {
     "name": "stdout",
     "output_type": "stream",
     "text": [
      "Validation => Loss 0.2593, Acc@1 0.8551\n",
      "============\n"
     ]
    },
    {
     "data": {
      "application/vnd.jupyter.widget-view+json": {
       "model_id": "",
       "version_major": 2,
       "version_minor": 0
      },
      "text/plain": [
       "  0%|          | 0/79 [00:00<?, ?it/s]"
      ]
     },
     "metadata": {},
     "output_type": "display_data"
    },
    {
     "name": "stdout",
     "output_type": "stream",
     "text": [
      "Val Perf after 1 epochs Acc@1 0.9257\n",
      "=> Caching mask state for model.0\n",
      "=> Caching mask state for model.2\n",
      "=> Caching mask state for model.4\n",
      "\n",
      "=> Setting learned tasks of model.0 to 15\n",
      "=> Setting learned tasks of model.2 to 15\n",
      "=> Setting learned tasks of model.4 to 15\n",
      "\n",
      "Training for task 15\n",
      "=> Set task of model.0 to 15\n",
      "=> Set task of model.2 to 15\n",
      "=> Set task of model.4 to 15\n"
     ]
    },
    {
     "data": {
      "application/vnd.jupyter.widget-view+json": {
       "model_id": "",
       "version_major": 2,
       "version_minor": 0
      },
      "text/plain": [
       "  0%|          | 0/469 [00:00<?, ?it/s]"
      ]
     },
     "metadata": {},
     "output_type": "display_data"
    },
    {
     "name": "stdout",
     "output_type": "stream",
     "text": [
      "Validation => Loss 0.2067, Acc@1 0.8590\n",
      "============\n"
     ]
    },
    {
     "data": {
      "application/vnd.jupyter.widget-view+json": {
       "model_id": "",
       "version_major": 2,
       "version_minor": 0
      },
      "text/plain": [
       "  0%|          | 0/79 [00:00<?, ?it/s]"
      ]
     },
     "metadata": {},
     "output_type": "display_data"
    },
    {
     "name": "stdout",
     "output_type": "stream",
     "text": [
      "Val Perf after 1 epochs Acc@1 0.9227\n",
      "=> Caching mask state for model.0\n",
      "=> Caching mask state for model.2\n",
      "=> Caching mask state for model.4\n",
      "\n",
      "=> Setting learned tasks of model.0 to 16\n",
      "=> Setting learned tasks of model.2 to 16\n",
      "=> Setting learned tasks of model.4 to 16\n",
      "\n",
      "Training for task 16\n",
      "=> Set task of model.0 to 16\n",
      "=> Set task of model.2 to 16\n",
      "=> Set task of model.4 to 16\n"
     ]
    },
    {
     "data": {
      "application/vnd.jupyter.widget-view+json": {
       "model_id": "",
       "version_major": 2,
       "version_minor": 0
      },
      "text/plain": [
       "  0%|          | 0/469 [00:00<?, ?it/s]"
      ]
     },
     "metadata": {},
     "output_type": "display_data"
    },
    {
     "name": "stdout",
     "output_type": "stream",
     "text": [
      "Validation => Loss 0.2981, Acc@1 0.8496\n",
      "============\n"
     ]
    },
    {
     "data": {
      "application/vnd.jupyter.widget-view+json": {
       "model_id": "",
       "version_major": 2,
       "version_minor": 0
      },
      "text/plain": [
       "  0%|          | 0/79 [00:00<?, ?it/s]"
      ]
     },
     "metadata": {},
     "output_type": "display_data"
    },
    {
     "name": "stdout",
     "output_type": "stream",
     "text": [
      "Val Perf after 1 epochs Acc@1 0.9218\n",
      "=> Caching mask state for model.0\n",
      "=> Caching mask state for model.2\n",
      "=> Caching mask state for model.4\n",
      "\n",
      "=> Setting learned tasks of model.0 to 17\n",
      "=> Setting learned tasks of model.2 to 17\n",
      "=> Setting learned tasks of model.4 to 17\n",
      "\n",
      "Training for task 17\n",
      "=> Set task of model.0 to 17\n",
      "=> Set task of model.2 to 17\n",
      "=> Set task of model.4 to 17\n"
     ]
    },
    {
     "data": {
      "application/vnd.jupyter.widget-view+json": {
       "model_id": "",
       "version_major": 2,
       "version_minor": 0
      },
      "text/plain": [
       "  0%|          | 0/469 [00:00<?, ?it/s]"
      ]
     },
     "metadata": {},
     "output_type": "display_data"
    },
    {
     "name": "stdout",
     "output_type": "stream",
     "text": [
      "Validation => Loss 0.2434, Acc@1 0.8643\n",
      "============\n"
     ]
    },
    {
     "data": {
      "application/vnd.jupyter.widget-view+json": {
       "model_id": "",
       "version_major": 2,
       "version_minor": 0
      },
      "text/plain": [
       "  0%|          | 0/79 [00:00<?, ?it/s]"
      ]
     },
     "metadata": {},
     "output_type": "display_data"
    },
    {
     "name": "stdout",
     "output_type": "stream",
     "text": [
      "Val Perf after 1 epochs Acc@1 0.9261\n",
      "=> Caching mask state for model.0\n",
      "=> Caching mask state for model.2\n",
      "=> Caching mask state for model.4\n",
      "\n",
      "=> Setting learned tasks of model.0 to 18\n",
      "=> Setting learned tasks of model.2 to 18\n",
      "=> Setting learned tasks of model.4 to 18\n",
      "\n",
      "Training for task 18\n",
      "=> Set task of model.0 to 18\n",
      "=> Set task of model.2 to 18\n",
      "=> Set task of model.4 to 18\n"
     ]
    },
    {
     "data": {
      "application/vnd.jupyter.widget-view+json": {
       "model_id": "",
       "version_major": 2,
       "version_minor": 0
      },
      "text/plain": [
       "  0%|          | 0/469 [00:00<?, ?it/s]"
      ]
     },
     "metadata": {},
     "output_type": "display_data"
    },
    {
     "name": "stdout",
     "output_type": "stream",
     "text": [
      "Validation => Loss 0.2881, Acc@1 0.8604\n",
      "============\n"
     ]
    },
    {
     "data": {
      "application/vnd.jupyter.widget-view+json": {
       "model_id": "",
       "version_major": 2,
       "version_minor": 0
      },
      "text/plain": [
       "  0%|          | 0/79 [00:00<?, ?it/s]"
      ]
     },
     "metadata": {},
     "output_type": "display_data"
    },
    {
     "name": "stdout",
     "output_type": "stream",
     "text": [
      "Val Perf after 1 epochs Acc@1 0.9263\n",
      "=> Caching mask state for model.0\n",
      "=> Caching mask state for model.2\n",
      "=> Caching mask state for model.4\n",
      "\n",
      "=> Setting learned tasks of model.0 to 19\n",
      "=> Setting learned tasks of model.2 to 19\n",
      "=> Setting learned tasks of model.4 to 19\n",
      "\n",
      "Training for task 19\n",
      "=> Set task of model.0 to 19\n",
      "=> Set task of model.2 to 19\n",
      "=> Set task of model.4 to 19\n"
     ]
    },
    {
     "data": {
      "application/vnd.jupyter.widget-view+json": {
       "model_id": "",
       "version_major": 2,
       "version_minor": 0
      },
      "text/plain": [
       "  0%|          | 0/469 [00:00<?, ?it/s]"
      ]
     },
     "metadata": {},
     "output_type": "display_data"
    },
    {
     "name": "stdout",
     "output_type": "stream",
     "text": [
      "Validation => Loss 0.2913, Acc@1 0.8418\n",
      "============\n"
     ]
    },
    {
     "data": {
      "application/vnd.jupyter.widget-view+json": {
       "model_id": "",
       "version_major": 2,
       "version_minor": 0
      },
      "text/plain": [
       "  0%|          | 0/79 [00:00<?, ?it/s]"
      ]
     },
     "metadata": {},
     "output_type": "display_data"
    },
    {
     "name": "stdout",
     "output_type": "stream",
     "text": [
      "Val Perf after 1 epochs Acc@1 0.9250\n",
      "=> Caching mask state for model.0\n",
      "=> Caching mask state for model.2\n",
      "=> Caching mask state for model.4\n",
      "\n",
      "=> Setting learned tasks of model.0 to 20\n",
      "=> Setting learned tasks of model.2 to 20\n",
      "=> Setting learned tasks of model.4 to 20\n",
      "\n"
     ]
    }
   ],
   "source": [
    "# Task ID given during train time\n",
    "from IPython.display import clear_output\n",
    "\n",
    "num_tasks = 20 # For demonstration purposes, we go up to 2500 in our paper\n",
    "model = MultitaskFC(hidden_size=300, num_tasks=num_tasks)\n",
    "\n",
    "for task in range(num_tasks):\n",
    "    print(f\"Training for task {task}\")\n",
    "    set_model_task(model, task)\n",
    "    mnist.update_task(task)\n",
    "\n",
    "    optimizer = optim.RMSprop([p for p in model.parameters() if p.requires_grad], lr=1e-4)\n",
    "    # Train for 1 epoch\n",
    "    for e in range(1):\n",
    "        train(model, mnist.train_loader, optimizer, e)\n",
    "        \n",
    "        print(\"Validation\")\n",
    "        print(\"============\")\n",
    "        acc1 = evaluate(model, mnist.val_loader, e)\n",
    "        \n",
    "    \n",
    "    cache_masks(model)\n",
    "    print()\n",
    "    set_num_tasks_learned(model, task + 1)\n",
    "    print()"
   ]
  },
  {
   "cell_type": "code",
   "execution_count": 38,
   "metadata": {},
   "outputs": [],
   "source": [
    "performance_map = {}"
   ]
  },
  {
   "cell_type": "code",
   "execution_count": 44,
   "metadata": {},
   "outputs": [
    {
     "name": "stdout",
     "output_type": "stream",
     "text": [
      "Average top 1 performance: 0.9248\n",
      "Per task performance\n",
      "Task 0: 0.9234\n",
      "Task 1: 0.9254\n",
      "Task 2: 0.9223\n",
      "Task 3: 0.9260\n",
      "Task 4: 0.9264\n",
      "Task 5: 0.9265\n",
      "Task 6: 0.9229\n",
      "Task 7: 0.9229\n",
      "Task 8: 0.9252\n",
      "Task 9: 0.9261\n",
      "Task 10: 0.9285\n",
      "Task 11: 0.9251\n",
      "Task 12: 0.9244\n",
      "Task 13: 0.9230\n",
      "Task 14: 0.9257\n",
      "Task 15: 0.9227\n",
      "Task 16: 0.9218\n",
      "Task 17: 0.9261\n",
      "Task 18: 0.9263\n",
      "Task 19: 0.9250\n"
     ]
    }
   ],
   "source": [
    "# When task ID we can simply set the mask and evaluate\n",
    "\n",
    "gg_performance = []\n",
    "for task in range(num_tasks):\n",
    "    set_model_task(model, task)\n",
    "    mnist.update_task(task)\n",
    "    acc1 = evaluate(model, mnist.val_loader, 0)\n",
    "    gg_performance.append(acc1.item())\n",
    "\n",
    "clear_output()\n",
    "    \n",
    "print(f\"Average top 1 performance: {(sum(gg_performance) / len(gg_performance)):.4f}\")\n",
    "\n",
    "print(\"Per task performance\")\n",
    "for t in range(num_tasks):\n",
    "    print(f\"Task {t}: {gg_performance[t]:.4f}\")"
   ]
  },
  {
   "cell_type": "code",
   "execution_count": 45,
   "metadata": {},
   "outputs": [],
   "source": [
    "performance_map['supsup_mnist'] = gg_performance.copy()"
   ]
  },
  {
   "cell_type": "markdown",
   "metadata": {},
   "source": [
    "### MNIST Perm with Sparsity"
   ]
  },
  {
   "cell_type": "code",
   "execution_count": 266,
   "metadata": {
    "scrolled": true
   },
   "outputs": [
    {
     "name": "stdout",
     "output_type": "stream",
     "text": [
      "Training for task 0\n",
      "=> Set task of model.0 to 0\n",
      "=> Set task of model.2 to 0\n",
      "=> Set task of model.4 to 0\n"
     ]
    },
    {
     "data": {
      "application/vnd.jupyter.widget-view+json": {
       "model_id": "57e5cce05e4a4399992faf9b50ea01d0",
       "version_major": 2,
       "version_minor": 0
      },
      "text/plain": [
       "  0%|          | 0/469 [00:00<?, ?it/s]"
      ]
     },
     "metadata": {},
     "output_type": "display_data"
    },
    {
     "name": "stdout",
     "output_type": "stream",
     "text": [
      "Validation => Loss 0.3344, Acc@1 0.8392\n",
      "============\n"
     ]
    },
    {
     "data": {
      "application/vnd.jupyter.widget-view+json": {
       "model_id": "04a3e862eb5241068ee4b6c3eb0b467a",
       "version_major": 2,
       "version_minor": 0
      },
      "text/plain": [
       "  0%|          | 0/79 [00:00<?, ?it/s]"
      ]
     },
     "metadata": {},
     "output_type": "display_data"
    },
    {
     "name": "stdout",
     "output_type": "stream",
     "text": [
      "Val Perf after 1 epochs Acc@1 0.9134\n",
      "=> Caching mask state for model.0\n",
      "=> Caching mask state for model.2\n",
      "=> Caching mask state for model.4\n",
      "\n",
      "=> Setting learned tasks of model.0 to 1\n",
      "=> Setting learned tasks of model.2 to 1\n",
      "=> Setting learned tasks of model.4 to 1\n",
      "\n",
      "Training for task 1\n",
      "=> Set task of model.0 to 1\n",
      "=> Set task of model.2 to 1\n",
      "=> Set task of model.4 to 1\n"
     ]
    },
    {
     "data": {
      "application/vnd.jupyter.widget-view+json": {
       "model_id": "f42c47e9dd864cca830a766ceaa05256",
       "version_major": 2,
       "version_minor": 0
      },
      "text/plain": [
       "  0%|          | 0/469 [00:00<?, ?it/s]"
      ]
     },
     "metadata": {},
     "output_type": "display_data"
    },
    {
     "name": "stdout",
     "output_type": "stream",
     "text": [
      "Validation => Loss 0.4962, Acc@1 0.8421\n",
      "============\n"
     ]
    },
    {
     "data": {
      "application/vnd.jupyter.widget-view+json": {
       "model_id": "74c11a1f111c4ae2b67633dc2facb8b1",
       "version_major": 2,
       "version_minor": 0
      },
      "text/plain": [
       "  0%|          | 0/79 [00:00<?, ?it/s]"
      ]
     },
     "metadata": {},
     "output_type": "display_data"
    },
    {
     "name": "stdout",
     "output_type": "stream",
     "text": [
      "Val Perf after 1 epochs Acc@1 0.9105\n",
      "=> Caching mask state for model.0\n",
      "=> Caching mask state for model.2\n",
      "=> Caching mask state for model.4\n",
      "\n",
      "=> Setting learned tasks of model.0 to 2\n",
      "=> Setting learned tasks of model.2 to 2\n",
      "=> Setting learned tasks of model.4 to 2\n",
      "\n",
      "Training for task 2\n",
      "=> Set task of model.0 to 2\n",
      "=> Set task of model.2 to 2\n",
      "=> Set task of model.4 to 2\n"
     ]
    },
    {
     "data": {
      "application/vnd.jupyter.widget-view+json": {
       "model_id": "7632e18a155d4298b8026809199b01f8",
       "version_major": 2,
       "version_minor": 0
      },
      "text/plain": [
       "  0%|          | 0/469 [00:00<?, ?it/s]"
      ]
     },
     "metadata": {},
     "output_type": "display_data"
    },
    {
     "name": "stdout",
     "output_type": "stream",
     "text": [
      "Validation => Loss 0.4172, Acc@1 0.8311\n",
      "============\n"
     ]
    },
    {
     "data": {
      "application/vnd.jupyter.widget-view+json": {
       "model_id": "a4d30ce41c7440d7820a8f125b68e068",
       "version_major": 2,
       "version_minor": 0
      },
      "text/plain": [
       "  0%|          | 0/79 [00:00<?, ?it/s]"
      ]
     },
     "metadata": {},
     "output_type": "display_data"
    },
    {
     "name": "stdout",
     "output_type": "stream",
     "text": [
      "Val Perf after 1 epochs Acc@1 0.9112\n",
      "=> Caching mask state for model.0\n",
      "=> Caching mask state for model.2\n",
      "=> Caching mask state for model.4\n",
      "\n",
      "=> Setting learned tasks of model.0 to 3\n",
      "=> Setting learned tasks of model.2 to 3\n",
      "=> Setting learned tasks of model.4 to 3\n",
      "\n",
      "Training for task 3\n",
      "=> Set task of model.0 to 3\n",
      "=> Set task of model.2 to 3\n",
      "=> Set task of model.4 to 3\n"
     ]
    },
    {
     "data": {
      "application/vnd.jupyter.widget-view+json": {
       "model_id": "2b4665df87d74f7db972e3dc4cd8cc90",
       "version_major": 2,
       "version_minor": 0
      },
      "text/plain": [
       "  0%|          | 0/469 [00:00<?, ?it/s]"
      ]
     },
     "metadata": {},
     "output_type": "display_data"
    },
    {
     "name": "stdout",
     "output_type": "stream",
     "text": [
      "Validation => Loss 0.3272, Acc@1 0.8376\n",
      "============\n"
     ]
    },
    {
     "data": {
      "application/vnd.jupyter.widget-view+json": {
       "model_id": "baaedd7b34404b378107d2a92a18f884",
       "version_major": 2,
       "version_minor": 0
      },
      "text/plain": [
       "  0%|          | 0/79 [00:00<?, ?it/s]"
      ]
     },
     "metadata": {},
     "output_type": "display_data"
    },
    {
     "name": "stdout",
     "output_type": "stream",
     "text": [
      "Val Perf after 1 epochs Acc@1 0.9079\n",
      "=> Caching mask state for model.0\n",
      "=> Caching mask state for model.2\n",
      "=> Caching mask state for model.4\n",
      "\n",
      "=> Setting learned tasks of model.0 to 4\n",
      "=> Setting learned tasks of model.2 to 4\n",
      "=> Setting learned tasks of model.4 to 4\n",
      "\n",
      "Training for task 4\n",
      "=> Set task of model.0 to 4\n",
      "=> Set task of model.2 to 4\n",
      "=> Set task of model.4 to 4\n"
     ]
    },
    {
     "data": {
      "application/vnd.jupyter.widget-view+json": {
       "model_id": "dec5aaf3ef5a447f8aa6b6ae9d4bcb27",
       "version_major": 2,
       "version_minor": 0
      },
      "text/plain": [
       "  0%|          | 0/469 [00:00<?, ?it/s]"
      ]
     },
     "metadata": {},
     "output_type": "display_data"
    },
    {
     "name": "stdout",
     "output_type": "stream",
     "text": [
      "Validation => Loss 0.4826, Acc@1 0.8369\n",
      "============\n"
     ]
    },
    {
     "data": {
      "application/vnd.jupyter.widget-view+json": {
       "model_id": "ea71e84f159d4eeea8aef04b90da5f19",
       "version_major": 2,
       "version_minor": 0
      },
      "text/plain": [
       "  0%|          | 0/79 [00:00<?, ?it/s]"
      ]
     },
     "metadata": {},
     "output_type": "display_data"
    },
    {
     "name": "stdout",
     "output_type": "stream",
     "text": [
      "Val Perf after 1 epochs Acc@1 0.9135\n",
      "=> Caching mask state for model.0\n",
      "=> Caching mask state for model.2\n",
      "=> Caching mask state for model.4\n",
      "\n",
      "=> Setting learned tasks of model.0 to 5\n",
      "=> Setting learned tasks of model.2 to 5\n",
      "=> Setting learned tasks of model.4 to 5\n",
      "\n",
      "Training for task 5\n",
      "=> Set task of model.0 to 5\n",
      "=> Set task of model.2 to 5\n",
      "=> Set task of model.4 to 5\n"
     ]
    },
    {
     "data": {
      "application/vnd.jupyter.widget-view+json": {
       "model_id": "643815be3ae34c1488a520a0be9d48bf",
       "version_major": 2,
       "version_minor": 0
      },
      "text/plain": [
       "  0%|          | 0/469 [00:00<?, ?it/s]"
      ]
     },
     "metadata": {},
     "output_type": "display_data"
    },
    {
     "name": "stdout",
     "output_type": "stream",
     "text": [
      "Validation => Loss 0.2662, Acc@1 0.8353\n",
      "============\n"
     ]
    },
    {
     "data": {
      "application/vnd.jupyter.widget-view+json": {
       "model_id": "2cf9e1f9baf94c409c724811f39990cf",
       "version_major": 2,
       "version_minor": 0
      },
      "text/plain": [
       "  0%|          | 0/79 [00:00<?, ?it/s]"
      ]
     },
     "metadata": {},
     "output_type": "display_data"
    },
    {
     "name": "stdout",
     "output_type": "stream",
     "text": [
      "Val Perf after 1 epochs Acc@1 0.9116\n",
      "=> Caching mask state for model.0\n",
      "=> Caching mask state for model.2\n",
      "=> Caching mask state for model.4\n",
      "\n",
      "=> Setting learned tasks of model.0 to 6\n",
      "=> Setting learned tasks of model.2 to 6\n",
      "=> Setting learned tasks of model.4 to 6\n",
      "\n",
      "Training for task 6\n",
      "=> Set task of model.0 to 6\n",
      "=> Set task of model.2 to 6\n",
      "=> Set task of model.4 to 6\n"
     ]
    },
    {
     "data": {
      "application/vnd.jupyter.widget-view+json": {
       "model_id": "94e5c1e0766d4df3b42100eb5c27bec8",
       "version_major": 2,
       "version_minor": 0
      },
      "text/plain": [
       "  0%|          | 0/469 [00:00<?, ?it/s]"
      ]
     },
     "metadata": {},
     "output_type": "display_data"
    },
    {
     "name": "stdout",
     "output_type": "stream",
     "text": [
      "Validation => Loss 0.4406, Acc@1 0.8424\n",
      "============\n"
     ]
    },
    {
     "data": {
      "application/vnd.jupyter.widget-view+json": {
       "model_id": "c66566e9d6424f158c8866f5f891b08c",
       "version_major": 2,
       "version_minor": 0
      },
      "text/plain": [
       "  0%|          | 0/79 [00:00<?, ?it/s]"
      ]
     },
     "metadata": {},
     "output_type": "display_data"
    },
    {
     "name": "stdout",
     "output_type": "stream",
     "text": [
      "Val Perf after 1 epochs Acc@1 0.9109\n",
      "=> Caching mask state for model.0\n",
      "=> Caching mask state for model.2\n",
      "=> Caching mask state for model.4\n",
      "\n",
      "=> Setting learned tasks of model.0 to 7\n",
      "=> Setting learned tasks of model.2 to 7\n",
      "=> Setting learned tasks of model.4 to 7\n",
      "\n",
      "Training for task 7\n",
      "=> Set task of model.0 to 7\n",
      "=> Set task of model.2 to 7\n",
      "=> Set task of model.4 to 7\n"
     ]
    },
    {
     "data": {
      "application/vnd.jupyter.widget-view+json": {
       "model_id": "7a1dc4d245064c5ebed1806e81420ab7",
       "version_major": 2,
       "version_minor": 0
      },
      "text/plain": [
       "  0%|          | 0/469 [00:00<?, ?it/s]"
      ]
     },
     "metadata": {},
     "output_type": "display_data"
    },
    {
     "name": "stdout",
     "output_type": "stream",
     "text": [
      "Validation => Loss 0.1645, Acc@1 0.8340\n",
      "============\n"
     ]
    },
    {
     "data": {
      "application/vnd.jupyter.widget-view+json": {
       "model_id": "687903ed7ac841c7bbe9f8aefc4e44b4",
       "version_major": 2,
       "version_minor": 0
      },
      "text/plain": [
       "  0%|          | 0/79 [00:00<?, ?it/s]"
      ]
     },
     "metadata": {},
     "output_type": "display_data"
    },
    {
     "name": "stdout",
     "output_type": "stream",
     "text": [
      "Val Perf after 1 epochs Acc@1 0.9113\n",
      "=> Caching mask state for model.0\n",
      "=> Caching mask state for model.2\n",
      "=> Caching mask state for model.4\n",
      "\n",
      "=> Setting learned tasks of model.0 to 8\n",
      "=> Setting learned tasks of model.2 to 8\n",
      "=> Setting learned tasks of model.4 to 8\n",
      "\n",
      "Training for task 8\n",
      "=> Set task of model.0 to 8\n",
      "=> Set task of model.2 to 8\n",
      "=> Set task of model.4 to 8\n"
     ]
    },
    {
     "data": {
      "application/vnd.jupyter.widget-view+json": {
       "model_id": "96fe5bd05eb04df4ada4b1befa98137b",
       "version_major": 2,
       "version_minor": 0
      },
      "text/plain": [
       "  0%|          | 0/469 [00:00<?, ?it/s]"
      ]
     },
     "metadata": {},
     "output_type": "display_data"
    },
    {
     "name": "stdout",
     "output_type": "stream",
     "text": [
      "Validation => Loss 0.2586, Acc@1 0.8551\n",
      "============\n"
     ]
    },
    {
     "data": {
      "application/vnd.jupyter.widget-view+json": {
       "model_id": "0e97d517183947eba913f18b2e6f5712",
       "version_major": 2,
       "version_minor": 0
      },
      "text/plain": [
       "  0%|          | 0/79 [00:00<?, ?it/s]"
      ]
     },
     "metadata": {},
     "output_type": "display_data"
    },
    {
     "name": "stdout",
     "output_type": "stream",
     "text": [
      "Val Perf after 1 epochs Acc@1 0.9113\n",
      "=> Caching mask state for model.0\n",
      "=> Caching mask state for model.2\n",
      "=> Caching mask state for model.4\n",
      "\n",
      "=> Setting learned tasks of model.0 to 9\n",
      "=> Setting learned tasks of model.2 to 9\n",
      "=> Setting learned tasks of model.4 to 9\n",
      "\n",
      "Training for task 9\n",
      "=> Set task of model.0 to 9\n",
      "=> Set task of model.2 to 9\n",
      "=> Set task of model.4 to 9\n"
     ]
    },
    {
     "data": {
      "application/vnd.jupyter.widget-view+json": {
       "model_id": "5026ed72fe0e4662af187995108168f8",
       "version_major": 2,
       "version_minor": 0
      },
      "text/plain": [
       "  0%|          | 0/469 [00:00<?, ?it/s]"
      ]
     },
     "metadata": {},
     "output_type": "display_data"
    },
    {
     "name": "stdout",
     "output_type": "stream",
     "text": [
      "Validation => Loss 0.4018, Acc@1 0.8431\n",
      "============\n"
     ]
    },
    {
     "data": {
      "application/vnd.jupyter.widget-view+json": {
       "model_id": "a4fddb22d5fb43bb83cadc1686c57838",
       "version_major": 2,
       "version_minor": 0
      },
      "text/plain": [
       "  0%|          | 0/79 [00:00<?, ?it/s]"
      ]
     },
     "metadata": {},
     "output_type": "display_data"
    },
    {
     "name": "stdout",
     "output_type": "stream",
     "text": [
      "Val Perf after 1 epochs Acc@1 0.9153\n",
      "=> Caching mask state for model.0\n",
      "=> Caching mask state for model.2\n",
      "=> Caching mask state for model.4\n",
      "\n",
      "=> Setting learned tasks of model.0 to 10\n",
      "=> Setting learned tasks of model.2 to 10\n",
      "=> Setting learned tasks of model.4 to 10\n",
      "\n",
      "Training for task 10\n",
      "=> Set task of model.0 to 10\n",
      "=> Set task of model.2 to 10\n",
      "=> Set task of model.4 to 10\n"
     ]
    },
    {
     "data": {
      "application/vnd.jupyter.widget-view+json": {
       "model_id": "43c9e5c700c944088f21becc4a91d423",
       "version_major": 2,
       "version_minor": 0
      },
      "text/plain": [
       "  0%|          | 0/469 [00:00<?, ?it/s]"
      ]
     },
     "metadata": {},
     "output_type": "display_data"
    },
    {
     "name": "stdout",
     "output_type": "stream",
     "text": [
      "Validation => Loss 0.2806, Acc@1 0.8376\n",
      "============\n"
     ]
    },
    {
     "data": {
      "application/vnd.jupyter.widget-view+json": {
       "model_id": "5a835db6de974a2a85ac6b038edda19b",
       "version_major": 2,
       "version_minor": 0
      },
      "text/plain": [
       "  0%|          | 0/79 [00:00<?, ?it/s]"
      ]
     },
     "metadata": {},
     "output_type": "display_data"
    },
    {
     "name": "stdout",
     "output_type": "stream",
     "text": [
      "Val Perf after 1 epochs Acc@1 0.9141\n",
      "=> Caching mask state for model.0\n",
      "=> Caching mask state for model.2\n",
      "=> Caching mask state for model.4\n",
      "\n",
      "=> Setting learned tasks of model.0 to 11\n",
      "=> Setting learned tasks of model.2 to 11\n",
      "=> Setting learned tasks of model.4 to 11\n",
      "\n",
      "Training for task 11\n",
      "=> Set task of model.0 to 11\n",
      "=> Set task of model.2 to 11\n",
      "=> Set task of model.4 to 11\n"
     ]
    },
    {
     "data": {
      "application/vnd.jupyter.widget-view+json": {
       "model_id": "d53de191981149f0b3105ce829a25a0a",
       "version_major": 2,
       "version_minor": 0
      },
      "text/plain": [
       "  0%|          | 0/469 [00:00<?, ?it/s]"
      ]
     },
     "metadata": {},
     "output_type": "display_data"
    },
    {
     "name": "stdout",
     "output_type": "stream",
     "text": [
      "Validation => Loss 0.3099, Acc@1 0.8389\n",
      "============\n"
     ]
    },
    {
     "data": {
      "application/vnd.jupyter.widget-view+json": {
       "model_id": "8c08c2f3153840bf9bec14182f673306",
       "version_major": 2,
       "version_minor": 0
      },
      "text/plain": [
       "  0%|          | 0/79 [00:00<?, ?it/s]"
      ]
     },
     "metadata": {},
     "output_type": "display_data"
    },
    {
     "name": "stdout",
     "output_type": "stream",
     "text": [
      "Val Perf after 1 epochs Acc@1 0.9147\n",
      "=> Caching mask state for model.0\n",
      "=> Caching mask state for model.2\n",
      "=> Caching mask state for model.4\n",
      "\n",
      "=> Setting learned tasks of model.0 to 12\n",
      "=> Setting learned tasks of model.2 to 12\n",
      "=> Setting learned tasks of model.4 to 12\n",
      "\n",
      "Training for task 12\n",
      "=> Set task of model.0 to 12\n",
      "=> Set task of model.2 to 12\n",
      "=> Set task of model.4 to 12\n"
     ]
    },
    {
     "data": {
      "application/vnd.jupyter.widget-view+json": {
       "model_id": "50302a43cb1e4315b6d241898d4a5b67",
       "version_major": 2,
       "version_minor": 0
      },
      "text/plain": [
       "  0%|          | 0/469 [00:00<?, ?it/s]"
      ]
     },
     "metadata": {},
     "output_type": "display_data"
    },
    {
     "name": "stdout",
     "output_type": "stream",
     "text": [
      "Validation => Loss 0.3000, Acc@1 0.8457\n",
      "============\n"
     ]
    },
    {
     "data": {
      "application/vnd.jupyter.widget-view+json": {
       "model_id": "47949b5b42f34927aaf9e36e29adadaa",
       "version_major": 2,
       "version_minor": 0
      },
      "text/plain": [
       "  0%|          | 0/79 [00:00<?, ?it/s]"
      ]
     },
     "metadata": {},
     "output_type": "display_data"
    },
    {
     "name": "stdout",
     "output_type": "stream",
     "text": [
      "Val Perf after 1 epochs Acc@1 0.9122\n",
      "=> Caching mask state for model.0\n",
      "=> Caching mask state for model.2\n",
      "=> Caching mask state for model.4\n",
      "\n",
      "=> Setting learned tasks of model.0 to 13\n",
      "=> Setting learned tasks of model.2 to 13\n",
      "=> Setting learned tasks of model.4 to 13\n",
      "\n",
      "Training for task 13\n",
      "=> Set task of model.0 to 13\n",
      "=> Set task of model.2 to 13\n",
      "=> Set task of model.4 to 13\n"
     ]
    },
    {
     "data": {
      "application/vnd.jupyter.widget-view+json": {
       "model_id": "2c5c42c4bdc647d3b80ba16451d3a9eb",
       "version_major": 2,
       "version_minor": 0
      },
      "text/plain": [
       "  0%|          | 0/469 [00:00<?, ?it/s]"
      ]
     },
     "metadata": {},
     "output_type": "display_data"
    },
    {
     "name": "stdout",
     "output_type": "stream",
     "text": [
      "Validation => Loss 0.3152, Acc@1 0.8363\n",
      "============\n"
     ]
    },
    {
     "data": {
      "application/vnd.jupyter.widget-view+json": {
       "model_id": "410e9ad56a3a471fabdfcbcc5c27c52d",
       "version_major": 2,
       "version_minor": 0
      },
      "text/plain": [
       "  0%|          | 0/79 [00:00<?, ?it/s]"
      ]
     },
     "metadata": {},
     "output_type": "display_data"
    },
    {
     "name": "stdout",
     "output_type": "stream",
     "text": [
      "Val Perf after 1 epochs Acc@1 0.9122\n",
      "=> Caching mask state for model.0\n",
      "=> Caching mask state for model.2\n",
      "=> Caching mask state for model.4\n",
      "\n",
      "=> Setting learned tasks of model.0 to 14\n",
      "=> Setting learned tasks of model.2 to 14\n",
      "=> Setting learned tasks of model.4 to 14\n",
      "\n",
      "Training for task 14\n",
      "=> Set task of model.0 to 14\n",
      "=> Set task of model.2 to 14\n",
      "=> Set task of model.4 to 14\n"
     ]
    },
    {
     "data": {
      "application/vnd.jupyter.widget-view+json": {
       "model_id": "60a754289a744af492055eaf5503285b",
       "version_major": 2,
       "version_minor": 0
      },
      "text/plain": [
       "  0%|          | 0/469 [00:00<?, ?it/s]"
      ]
     },
     "metadata": {},
     "output_type": "display_data"
    },
    {
     "name": "stdout",
     "output_type": "stream",
     "text": [
      "Validation => Loss 0.3632, Acc@1 0.8389\n",
      "============\n"
     ]
    },
    {
     "data": {
      "application/vnd.jupyter.widget-view+json": {
       "model_id": "d0ef425ec5c14afdaebff08bc7caf4a7",
       "version_major": 2,
       "version_minor": 0
      },
      "text/plain": [
       "  0%|          | 0/79 [00:00<?, ?it/s]"
      ]
     },
     "metadata": {},
     "output_type": "display_data"
    },
    {
     "name": "stdout",
     "output_type": "stream",
     "text": [
      "Val Perf after 1 epochs Acc@1 0.9053\n",
      "=> Caching mask state for model.0\n",
      "=> Caching mask state for model.2\n",
      "=> Caching mask state for model.4\n",
      "\n",
      "=> Setting learned tasks of model.0 to 15\n",
      "=> Setting learned tasks of model.2 to 15\n",
      "=> Setting learned tasks of model.4 to 15\n",
      "\n",
      "Training for task 15\n",
      "=> Set task of model.0 to 15\n",
      "=> Set task of model.2 to 15\n",
      "=> Set task of model.4 to 15\n"
     ]
    },
    {
     "data": {
      "application/vnd.jupyter.widget-view+json": {
       "model_id": "3649637e90834c538f7baf9708e2048d",
       "version_major": 2,
       "version_minor": 0
      },
      "text/plain": [
       "  0%|          | 0/469 [00:00<?, ?it/s]"
      ]
     },
     "metadata": {},
     "output_type": "display_data"
    },
    {
     "name": "stdout",
     "output_type": "stream",
     "text": [
      "Validation => Loss 0.4768, Acc@1 0.8291\n",
      "============\n"
     ]
    },
    {
     "data": {
      "application/vnd.jupyter.widget-view+json": {
       "model_id": "ea3341f9c70f49d6a0579a4b56322abc",
       "version_major": 2,
       "version_minor": 0
      },
      "text/plain": [
       "  0%|          | 0/79 [00:00<?, ?it/s]"
      ]
     },
     "metadata": {},
     "output_type": "display_data"
    },
    {
     "name": "stdout",
     "output_type": "stream",
     "text": [
      "Val Perf after 1 epochs Acc@1 0.9093\n",
      "=> Caching mask state for model.0\n",
      "=> Caching mask state for model.2\n",
      "=> Caching mask state for model.4\n",
      "\n",
      "=> Setting learned tasks of model.0 to 16\n",
      "=> Setting learned tasks of model.2 to 16\n",
      "=> Setting learned tasks of model.4 to 16\n",
      "\n",
      "Training for task 16\n",
      "=> Set task of model.0 to 16\n",
      "=> Set task of model.2 to 16\n",
      "=> Set task of model.4 to 16\n"
     ]
    },
    {
     "data": {
      "application/vnd.jupyter.widget-view+json": {
       "model_id": "98703eeb534044579142303e043db3d7",
       "version_major": 2,
       "version_minor": 0
      },
      "text/plain": [
       "  0%|          | 0/469 [00:00<?, ?it/s]"
      ]
     },
     "metadata": {},
     "output_type": "display_data"
    },
    {
     "name": "stdout",
     "output_type": "stream",
     "text": [
      "Validation => Loss 0.3480, Acc@1 0.8330\n",
      "============\n"
     ]
    },
    {
     "data": {
      "application/vnd.jupyter.widget-view+json": {
       "model_id": "3499ffa61d2e4f60bf39e3f82d03edd0",
       "version_major": 2,
       "version_minor": 0
      },
      "text/plain": [
       "  0%|          | 0/79 [00:00<?, ?it/s]"
      ]
     },
     "metadata": {},
     "output_type": "display_data"
    },
    {
     "name": "stdout",
     "output_type": "stream",
     "text": [
      "Val Perf after 1 epochs Acc@1 0.9097\n",
      "=> Caching mask state for model.0\n",
      "=> Caching mask state for model.2\n",
      "=> Caching mask state for model.4\n",
      "\n",
      "=> Setting learned tasks of model.0 to 17\n",
      "=> Setting learned tasks of model.2 to 17\n",
      "=> Setting learned tasks of model.4 to 17\n",
      "\n",
      "Training for task 17\n",
      "=> Set task of model.0 to 17\n",
      "=> Set task of model.2 to 17\n",
      "=> Set task of model.4 to 17\n"
     ]
    },
    {
     "data": {
      "application/vnd.jupyter.widget-view+json": {
       "model_id": "0c1500fcfebd4150abc7b1fac59501d4",
       "version_major": 2,
       "version_minor": 0
      },
      "text/plain": [
       "  0%|          | 0/469 [00:00<?, ?it/s]"
      ]
     },
     "metadata": {},
     "output_type": "display_data"
    },
    {
     "name": "stdout",
     "output_type": "stream",
     "text": [
      "Validation => Loss 0.3789, Acc@1 0.8350\n",
      "============\n"
     ]
    },
    {
     "data": {
      "application/vnd.jupyter.widget-view+json": {
       "model_id": "e35ab503bb1d4658ace02081120bf6a0",
       "version_major": 2,
       "version_minor": 0
      },
      "text/plain": [
       "  0%|          | 0/79 [00:00<?, ?it/s]"
      ]
     },
     "metadata": {},
     "output_type": "display_data"
    },
    {
     "name": "stdout",
     "output_type": "stream",
     "text": [
      "Val Perf after 1 epochs Acc@1 0.9118\n",
      "=> Caching mask state for model.0\n",
      "=> Caching mask state for model.2\n",
      "=> Caching mask state for model.4\n",
      "\n",
      "=> Setting learned tasks of model.0 to 18\n",
      "=> Setting learned tasks of model.2 to 18\n",
      "=> Setting learned tasks of model.4 to 18\n",
      "\n",
      "Training for task 18\n",
      "=> Set task of model.0 to 18\n",
      "=> Set task of model.2 to 18\n",
      "=> Set task of model.4 to 18\n"
     ]
    },
    {
     "data": {
      "application/vnd.jupyter.widget-view+json": {
       "model_id": "68390dc23ef3400fabf6111868d9d454",
       "version_major": 2,
       "version_minor": 0
      },
      "text/plain": [
       "  0%|          | 0/469 [00:00<?, ?it/s]"
      ]
     },
     "metadata": {},
     "output_type": "display_data"
    },
    {
     "name": "stdout",
     "output_type": "stream",
     "text": [
      "Validation => Loss 0.3796, Acc@1 0.8395\n",
      "============\n"
     ]
    },
    {
     "data": {
      "application/vnd.jupyter.widget-view+json": {
       "model_id": "24c44814c8964839920889657a58f5ee",
       "version_major": 2,
       "version_minor": 0
      },
      "text/plain": [
       "  0%|          | 0/79 [00:00<?, ?it/s]"
      ]
     },
     "metadata": {},
     "output_type": "display_data"
    },
    {
     "name": "stdout",
     "output_type": "stream",
     "text": [
      "Val Perf after 1 epochs Acc@1 0.9146\n",
      "=> Caching mask state for model.0\n",
      "=> Caching mask state for model.2\n",
      "=> Caching mask state for model.4\n",
      "\n",
      "=> Setting learned tasks of model.0 to 19\n",
      "=> Setting learned tasks of model.2 to 19\n",
      "=> Setting learned tasks of model.4 to 19\n",
      "\n",
      "Training for task 19\n",
      "=> Set task of model.0 to 19\n",
      "=> Set task of model.2 to 19\n",
      "=> Set task of model.4 to 19\n"
     ]
    },
    {
     "data": {
      "application/vnd.jupyter.widget-view+json": {
       "model_id": "7b7250df6f5b4439af08a50387dc1e22",
       "version_major": 2,
       "version_minor": 0
      },
      "text/plain": [
       "  0%|          | 0/469 [00:00<?, ?it/s]"
      ]
     },
     "metadata": {},
     "output_type": "display_data"
    },
    {
     "name": "stdout",
     "output_type": "stream",
     "text": [
      "Validation => Loss 0.2508, Acc@1 0.8392\n",
      "============\n"
     ]
    },
    {
     "data": {
      "application/vnd.jupyter.widget-view+json": {
       "model_id": "277bd449067a486dac5f48c64b9832e1",
       "version_major": 2,
       "version_minor": 0
      },
      "text/plain": [
       "  0%|          | 0/79 [00:00<?, ?it/s]"
      ]
     },
     "metadata": {},
     "output_type": "display_data"
    },
    {
     "name": "stdout",
     "output_type": "stream",
     "text": [
      "Val Perf after 1 epochs Acc@1 0.9111\n",
      "=> Caching mask state for model.0\n",
      "=> Caching mask state for model.2\n",
      "=> Caching mask state for model.4\n",
      "\n",
      "=> Setting learned tasks of model.0 to 20\n",
      "=> Setting learned tasks of model.2 to 20\n",
      "=> Setting learned tasks of model.4 to 20\n",
      "\n"
     ]
    }
   ],
   "source": [
    "# Task ID given during train time\n",
    "from IPython.display import clear_output\n",
    "\n",
    "num_tasks = 20 # For demonstration purposes, we go up to 2500 in our paper\n",
    "models = MultitaskFCSparse(hidden_size=300, num_tasks=num_tasks, sparsity=0.25)\n",
    "\n",
    "for task in range(num_tasks):\n",
    "    print(f\"Training for task {task}\")\n",
    "    set_model_task(models, task)\n",
    "    mnist.update_task(task)\n",
    "\n",
    "    optimizer = optim.RMSprop([p for p in models.parameters() if p.requires_grad], lr=1e-4)\n",
    "    # Train for 1 epoch\n",
    "    for e in range(1):\n",
    "        train(models, mnist.train_loader, optimizer, e)\n",
    "        \n",
    "        print(\"Validation\")\n",
    "        print(\"============\")\n",
    "        acc1 = evaluate(models, mnist.val_loader, e)\n",
    "        \n",
    "    \n",
    "    cache_masks(models)\n",
    "    print()\n",
    "    set_num_tasks_learned(models, task + 1)\n",
    "    print()"
   ]
  },
  {
   "cell_type": "code",
   "execution_count": 267,
   "metadata": {},
   "outputs": [
    {
     "name": "stdout",
     "output_type": "stream",
     "text": [
      "Average top 1 performance: 0.9116\n",
      "Per task performance\n",
      "Task 0: 0.9134\n",
      "Task 1: 0.9105\n",
      "Task 2: 0.9112\n",
      "Task 3: 0.9079\n",
      "Task 4: 0.9135\n",
      "Task 5: 0.9116\n",
      "Task 6: 0.9109\n",
      "Task 7: 0.9113\n",
      "Task 8: 0.9113\n",
      "Task 9: 0.9153\n",
      "Task 10: 0.9141\n",
      "Task 11: 0.9147\n",
      "Task 12: 0.9122\n",
      "Task 13: 0.9122\n",
      "Task 14: 0.9053\n",
      "Task 15: 0.9093\n",
      "Task 16: 0.9097\n",
      "Task 17: 0.9118\n",
      "Task 18: 0.9146\n",
      "Task 19: 0.9111\n"
     ]
    }
   ],
   "source": [
    "# When task ID we can simply set the mask and evaluate\n",
    "\n",
    "gg_performance = []\n",
    "for task in range(num_tasks):\n",
    "    set_model_task(models, task)\n",
    "    mnist.update_task(task)\n",
    "    acc1 = evaluate(models, mnist.val_loader, 0)\n",
    "    gg_performance.append(acc1.item())\n",
    "\n",
    "clear_output()\n",
    "    \n",
    "print(f\"Average top 1 performance: {(sum(gg_performance) / len(gg_performance)):.4f}\")\n",
    "\n",
    "print(\"Per task performance\")\n",
    "for t in range(num_tasks):\n",
    "    print(f\"Task {t}: {gg_performance[t]:.4f}\")"
   ]
  },
  {
   "cell_type": "code",
   "execution_count": 268,
   "metadata": {},
   "outputs": [],
   "source": [
    "performance_map['supsup_mnist_sparsity_25'] = gg_performance.copy()"
   ]
  },
  {
   "cell_type": "markdown",
   "metadata": {},
   "source": [
    "### MNIST Rotated"
   ]
  },
  {
   "cell_type": "code",
   "execution_count": 13,
   "metadata": {
    "scrolled": true
   },
   "outputs": [
    {
     "name": "stdout",
     "output_type": "stream",
     "text": [
      "Training for task 0\n",
      "=> Set task of model.0 to 0\n",
      "=> Set task of model.2 to 0\n",
      "=> Set task of model.4 to 0\n"
     ]
    },
    {
     "data": {
      "application/vnd.jupyter.widget-view+json": {
       "model_id": "dfd2db74825a47a08e9b6fd1fa08b7f6",
       "version_major": 2,
       "version_minor": 0
      },
      "text/plain": [
       "  0%|          | 0/469 [00:00<?, ?it/s]"
      ]
     },
     "metadata": {},
     "output_type": "display_data"
    },
    {
     "name": "stdout",
     "output_type": "stream",
     "text": [
      "Validation => Loss 0.8802, Acc@1 0.6816\n",
      "============\n"
     ]
    },
    {
     "data": {
      "application/vnd.jupyter.widget-view+json": {
       "model_id": "4f3c93fd1cc54ce69770da7561208a99",
       "version_major": 2,
       "version_minor": 0
      },
      "text/plain": [
       "  0%|          | 0/79 [00:00<?, ?it/s]"
      ]
     },
     "metadata": {},
     "output_type": "display_data"
    },
    {
     "name": "stdout",
     "output_type": "stream",
     "text": [
      "Val Perf after 1 epochs Acc@1 0.7755\n",
      "=> Caching mask state for model.0\n",
      "=> Caching mask state for model.2\n",
      "=> Caching mask state for model.4\n",
      "\n",
      "=> Setting learned tasks of model.0 to 1\n",
      "=> Setting learned tasks of model.2 to 1\n",
      "=> Setting learned tasks of model.4 to 1\n",
      "\n",
      "Training for task 1\n",
      "=> Set task of model.0 to 1\n",
      "=> Set task of model.2 to 1\n",
      "=> Set task of model.4 to 1\n"
     ]
    },
    {
     "data": {
      "application/vnd.jupyter.widget-view+json": {
       "model_id": "243d99306d26420e84c7efee5e17254a",
       "version_major": 2,
       "version_minor": 0
      },
      "text/plain": [
       "  0%|          | 0/469 [00:00<?, ?it/s]"
      ]
     },
     "metadata": {},
     "output_type": "display_data"
    },
    {
     "name": "stdout",
     "output_type": "stream",
     "text": [
      "Validation => Loss 0.7023, Acc@1 0.6634\n",
      "============\n"
     ]
    },
    {
     "data": {
      "application/vnd.jupyter.widget-view+json": {
       "model_id": "03f1ec89c9b1461aa8fbe216fea657d0",
       "version_major": 2,
       "version_minor": 0
      },
      "text/plain": [
       "  0%|          | 0/79 [00:00<?, ?it/s]"
      ]
     },
     "metadata": {},
     "output_type": "display_data"
    },
    {
     "name": "stdout",
     "output_type": "stream",
     "text": [
      "Val Perf after 1 epochs Acc@1 0.7818\n",
      "=> Caching mask state for model.0\n",
      "=> Caching mask state for model.2\n",
      "=> Caching mask state for model.4\n",
      "\n",
      "=> Setting learned tasks of model.0 to 2\n",
      "=> Setting learned tasks of model.2 to 2\n",
      "=> Setting learned tasks of model.4 to 2\n",
      "\n",
      "Training for task 2\n",
      "=> Set task of model.0 to 2\n",
      "=> Set task of model.2 to 2\n",
      "=> Set task of model.4 to 2\n"
     ]
    },
    {
     "data": {
      "application/vnd.jupyter.widget-view+json": {
       "model_id": "a8488447ea934f72b8ce04a35059b435",
       "version_major": 2,
       "version_minor": 0
      },
      "text/plain": [
       "  0%|          | 0/469 [00:00<?, ?it/s]"
      ]
     },
     "metadata": {},
     "output_type": "display_data"
    },
    {
     "name": "stdout",
     "output_type": "stream",
     "text": [
      "Validation => Loss 0.7017, Acc@1 0.6491\n",
      "============\n"
     ]
    },
    {
     "data": {
      "application/vnd.jupyter.widget-view+json": {
       "model_id": "d2960cd57f4b415693b5177ec662fb5b",
       "version_major": 2,
       "version_minor": 0
      },
      "text/plain": [
       "  0%|          | 0/79 [00:00<?, ?it/s]"
      ]
     },
     "metadata": {},
     "output_type": "display_data"
    },
    {
     "name": "stdout",
     "output_type": "stream",
     "text": [
      "Val Perf after 1 epochs Acc@1 0.7789\n",
      "=> Caching mask state for model.0\n",
      "=> Caching mask state for model.2\n",
      "=> Caching mask state for model.4\n",
      "\n",
      "=> Setting learned tasks of model.0 to 3\n",
      "=> Setting learned tasks of model.2 to 3\n",
      "=> Setting learned tasks of model.4 to 3\n",
      "\n",
      "Training for task 3\n",
      "=> Set task of model.0 to 3\n",
      "=> Set task of model.2 to 3\n",
      "=> Set task of model.4 to 3\n"
     ]
    },
    {
     "data": {
      "application/vnd.jupyter.widget-view+json": {
       "model_id": "27db7ab0ecbd44fd9a9a38b8c62d91ed",
       "version_major": 2,
       "version_minor": 0
      },
      "text/plain": [
       "  0%|          | 0/469 [00:00<?, ?it/s]"
      ]
     },
     "metadata": {},
     "output_type": "display_data"
    },
    {
     "name": "stdout",
     "output_type": "stream",
     "text": [
      "Validation => Loss 0.8558, Acc@1 0.6556\n",
      "============\n"
     ]
    },
    {
     "data": {
      "application/vnd.jupyter.widget-view+json": {
       "model_id": "b792613d4d114d59850eba95566c7a01",
       "version_major": 2,
       "version_minor": 0
      },
      "text/plain": [
       "  0%|          | 0/79 [00:00<?, ?it/s]"
      ]
     },
     "metadata": {},
     "output_type": "display_data"
    },
    {
     "name": "stdout",
     "output_type": "stream",
     "text": [
      "Val Perf after 1 epochs Acc@1 0.7753\n",
      "=> Caching mask state for model.0\n",
      "=> Caching mask state for model.2\n",
      "=> Caching mask state for model.4\n",
      "\n",
      "=> Setting learned tasks of model.0 to 4\n",
      "=> Setting learned tasks of model.2 to 4\n",
      "=> Setting learned tasks of model.4 to 4\n",
      "\n",
      "Training for task 4\n",
      "=> Set task of model.0 to 4\n",
      "=> Set task of model.2 to 4\n",
      "=> Set task of model.4 to 4\n"
     ]
    },
    {
     "data": {
      "application/vnd.jupyter.widget-view+json": {
       "model_id": "f1933602dfb74a7fa2010b0733b1978d",
       "version_major": 2,
       "version_minor": 0
      },
      "text/plain": [
       "  0%|          | 0/469 [00:00<?, ?it/s]"
      ]
     },
     "metadata": {},
     "output_type": "display_data"
    },
    {
     "name": "stdout",
     "output_type": "stream",
     "text": [
      "Validation => Loss 0.6947, Acc@1 0.6536\n",
      "============\n"
     ]
    },
    {
     "data": {
      "application/vnd.jupyter.widget-view+json": {
       "model_id": "fb1afc94d29a4ea8b8afa4adec5c9216",
       "version_major": 2,
       "version_minor": 0
      },
      "text/plain": [
       "  0%|          | 0/79 [00:00<?, ?it/s]"
      ]
     },
     "metadata": {},
     "output_type": "display_data"
    },
    {
     "name": "stdout",
     "output_type": "stream",
     "text": [
      "Val Perf after 1 epochs Acc@1 0.7566\n",
      "=> Caching mask state for model.0\n",
      "=> Caching mask state for model.2\n",
      "=> Caching mask state for model.4\n",
      "\n",
      "=> Setting learned tasks of model.0 to 5\n",
      "=> Setting learned tasks of model.2 to 5\n",
      "=> Setting learned tasks of model.4 to 5\n",
      "\n",
      "Training for task 5\n",
      "=> Set task of model.0 to 5\n",
      "=> Set task of model.2 to 5\n",
      "=> Set task of model.4 to 5\n"
     ]
    },
    {
     "data": {
      "application/vnd.jupyter.widget-view+json": {
       "model_id": "70602f70990549ef84e836c6a84b6b7b",
       "version_major": 2,
       "version_minor": 0
      },
      "text/plain": [
       "  0%|          | 0/469 [00:00<?, ?it/s]"
      ]
     },
     "metadata": {},
     "output_type": "display_data"
    },
    {
     "name": "stdout",
     "output_type": "stream",
     "text": [
      "Validation => Loss 0.7667, Acc@1 0.6527\n",
      "============\n"
     ]
    },
    {
     "data": {
      "application/vnd.jupyter.widget-view+json": {
       "model_id": "9cc2e5bd46714645983ee3cb6091fe92",
       "version_major": 2,
       "version_minor": 0
      },
      "text/plain": [
       "  0%|          | 0/79 [00:00<?, ?it/s]"
      ]
     },
     "metadata": {},
     "output_type": "display_data"
    },
    {
     "name": "stdout",
     "output_type": "stream",
     "text": [
      "Val Perf after 1 epochs Acc@1 0.7755\n",
      "=> Caching mask state for model.0\n",
      "=> Caching mask state for model.2\n",
      "=> Caching mask state for model.4\n",
      "\n",
      "=> Setting learned tasks of model.0 to 6\n",
      "=> Setting learned tasks of model.2 to 6\n",
      "=> Setting learned tasks of model.4 to 6\n",
      "\n",
      "Training for task 6\n",
      "=> Set task of model.0 to 6\n",
      "=> Set task of model.2 to 6\n",
      "=> Set task of model.4 to 6\n"
     ]
    },
    {
     "data": {
      "application/vnd.jupyter.widget-view+json": {
       "model_id": "d7a08cc71b8a4378b17f9b60c6d6d422",
       "version_major": 2,
       "version_minor": 0
      },
      "text/plain": [
       "  0%|          | 0/469 [00:00<?, ?it/s]"
      ]
     },
     "metadata": {},
     "output_type": "display_data"
    },
    {
     "name": "stdout",
     "output_type": "stream",
     "text": [
      "Validation => Loss 0.7885, Acc@1 0.6680\n",
      "============\n"
     ]
    },
    {
     "data": {
      "application/vnd.jupyter.widget-view+json": {
       "model_id": "e2308158a8054d1ca7ae6d9dddaf9d7d",
       "version_major": 2,
       "version_minor": 0
      },
      "text/plain": [
       "  0%|          | 0/79 [00:00<?, ?it/s]"
      ]
     },
     "metadata": {},
     "output_type": "display_data"
    },
    {
     "name": "stdout",
     "output_type": "stream",
     "text": [
      "Val Perf after 1 epochs Acc@1 0.7751\n",
      "=> Caching mask state for model.0\n",
      "=> Caching mask state for model.2\n",
      "=> Caching mask state for model.4\n",
      "\n",
      "=> Setting learned tasks of model.0 to 7\n",
      "=> Setting learned tasks of model.2 to 7\n",
      "=> Setting learned tasks of model.4 to 7\n",
      "\n",
      "Training for task 7\n",
      "=> Set task of model.0 to 7\n",
      "=> Set task of model.2 to 7\n",
      "=> Set task of model.4 to 7\n"
     ]
    },
    {
     "data": {
      "application/vnd.jupyter.widget-view+json": {
       "model_id": "9df2eaaffc304787b0a89e10bf427cc7",
       "version_major": 2,
       "version_minor": 0
      },
      "text/plain": [
       "  0%|          | 0/469 [00:00<?, ?it/s]"
      ]
     },
     "metadata": {},
     "output_type": "display_data"
    },
    {
     "name": "stdout",
     "output_type": "stream",
     "text": [
      "Validation => Loss 0.8172, Acc@1 0.6605\n",
      "============\n"
     ]
    },
    {
     "data": {
      "application/vnd.jupyter.widget-view+json": {
       "model_id": "e7d43f5310964134bac32961da9caa41",
       "version_major": 2,
       "version_minor": 0
      },
      "text/plain": [
       "  0%|          | 0/79 [00:00<?, ?it/s]"
      ]
     },
     "metadata": {},
     "output_type": "display_data"
    },
    {
     "name": "stdout",
     "output_type": "stream",
     "text": [
      "Val Perf after 1 epochs Acc@1 0.7799\n",
      "=> Caching mask state for model.0\n",
      "=> Caching mask state for model.2\n",
      "=> Caching mask state for model.4\n",
      "\n",
      "=> Setting learned tasks of model.0 to 8\n",
      "=> Setting learned tasks of model.2 to 8\n",
      "=> Setting learned tasks of model.4 to 8\n",
      "\n",
      "Training for task 8\n",
      "=> Set task of model.0 to 8\n",
      "=> Set task of model.2 to 8\n",
      "=> Set task of model.4 to 8\n"
     ]
    },
    {
     "data": {
      "application/vnd.jupyter.widget-view+json": {
       "model_id": "bea16b567dff490480a3026f2ed3c0ab",
       "version_major": 2,
       "version_minor": 0
      },
      "text/plain": [
       "  0%|          | 0/469 [00:00<?, ?it/s]"
      ]
     },
     "metadata": {},
     "output_type": "display_data"
    },
    {
     "name": "stdout",
     "output_type": "stream",
     "text": [
      "Validation => Loss 0.8389, Acc@1 0.6657\n",
      "============\n"
     ]
    },
    {
     "data": {
      "application/vnd.jupyter.widget-view+json": {
       "model_id": "c7f0b2304a5f438b8cd0ce77fecedbb3",
       "version_major": 2,
       "version_minor": 0
      },
      "text/plain": [
       "  0%|          | 0/79 [00:00<?, ?it/s]"
      ]
     },
     "metadata": {},
     "output_type": "display_data"
    },
    {
     "name": "stdout",
     "output_type": "stream",
     "text": [
      "Val Perf after 1 epochs Acc@1 0.7838\n",
      "=> Caching mask state for model.0\n",
      "=> Caching mask state for model.2\n",
      "=> Caching mask state for model.4\n",
      "\n",
      "=> Setting learned tasks of model.0 to 9\n",
      "=> Setting learned tasks of model.2 to 9\n",
      "=> Setting learned tasks of model.4 to 9\n",
      "\n",
      "Training for task 9\n",
      "=> Set task of model.0 to 9\n",
      "=> Set task of model.2 to 9\n",
      "=> Set task of model.4 to 9\n"
     ]
    },
    {
     "data": {
      "application/vnd.jupyter.widget-view+json": {
       "model_id": "6ffce6eb28d84f67846c3a762cfdba4c",
       "version_major": 2,
       "version_minor": 0
      },
      "text/plain": [
       "  0%|          | 0/469 [00:00<?, ?it/s]"
      ]
     },
     "metadata": {},
     "output_type": "display_data"
    },
    {
     "name": "stdout",
     "output_type": "stream",
     "text": [
      "Validation => Loss 0.7702, Acc@1 0.6680\n",
      "============\n"
     ]
    },
    {
     "data": {
      "application/vnd.jupyter.widget-view+json": {
       "model_id": "06cbf0831bbf4f6397cdf0af51b5c3a7",
       "version_major": 2,
       "version_minor": 0
      },
      "text/plain": [
       "  0%|          | 0/79 [00:00<?, ?it/s]"
      ]
     },
     "metadata": {},
     "output_type": "display_data"
    },
    {
     "name": "stdout",
     "output_type": "stream",
     "text": [
      "Val Perf after 1 epochs Acc@1 0.7847\n",
      "=> Caching mask state for model.0\n",
      "=> Caching mask state for model.2\n",
      "=> Caching mask state for model.4\n",
      "\n",
      "=> Setting learned tasks of model.0 to 10\n",
      "=> Setting learned tasks of model.2 to 10\n",
      "=> Setting learned tasks of model.4 to 10\n",
      "\n",
      "Training for task 10\n",
      "=> Set task of model.0 to 10\n",
      "=> Set task of model.2 to 10\n",
      "=> Set task of model.4 to 10\n"
     ]
    },
    {
     "data": {
      "application/vnd.jupyter.widget-view+json": {
       "model_id": "1728ec06739b4bf399e23c67b87a940f",
       "version_major": 2,
       "version_minor": 0
      },
      "text/plain": [
       "  0%|          | 0/469 [00:00<?, ?it/s]"
      ]
     },
     "metadata": {},
     "output_type": "display_data"
    },
    {
     "name": "stdout",
     "output_type": "stream",
     "text": [
      "Validation => Loss 0.8262, Acc@1 0.6722\n",
      "============\n"
     ]
    },
    {
     "data": {
      "application/vnd.jupyter.widget-view+json": {
       "model_id": "285e91c4e1204bd5884c7805593cf054",
       "version_major": 2,
       "version_minor": 0
      },
      "text/plain": [
       "  0%|          | 0/79 [00:00<?, ?it/s]"
      ]
     },
     "metadata": {},
     "output_type": "display_data"
    },
    {
     "name": "stdout",
     "output_type": "stream",
     "text": [
      "Val Perf after 1 epochs Acc@1 0.7769\n",
      "=> Caching mask state for model.0\n",
      "=> Caching mask state for model.2\n",
      "=> Caching mask state for model.4\n",
      "\n",
      "=> Setting learned tasks of model.0 to 11\n",
      "=> Setting learned tasks of model.2 to 11\n",
      "=> Setting learned tasks of model.4 to 11\n",
      "\n",
      "Training for task 11\n",
      "=> Set task of model.0 to 11\n",
      "=> Set task of model.2 to 11\n",
      "=> Set task of model.4 to 11\n"
     ]
    },
    {
     "data": {
      "application/vnd.jupyter.widget-view+json": {
       "model_id": "8d1c9240ba414056936b3ce7626619b6",
       "version_major": 2,
       "version_minor": 0
      },
      "text/plain": [
       "  0%|          | 0/469 [00:00<?, ?it/s]"
      ]
     },
     "metadata": {},
     "output_type": "display_data"
    },
    {
     "name": "stdout",
     "output_type": "stream",
     "text": [
      "Validation => Loss 0.9156, Acc@1 0.6449\n",
      "============\n"
     ]
    },
    {
     "data": {
      "application/vnd.jupyter.widget-view+json": {
       "model_id": "6e156842abb14656a6dd83f150035771",
       "version_major": 2,
       "version_minor": 0
      },
      "text/plain": [
       "  0%|          | 0/79 [00:00<?, ?it/s]"
      ]
     },
     "metadata": {},
     "output_type": "display_data"
    },
    {
     "name": "stdout",
     "output_type": "stream",
     "text": [
      "Val Perf after 1 epochs Acc@1 0.7619\n",
      "=> Caching mask state for model.0\n",
      "=> Caching mask state for model.2\n",
      "=> Caching mask state for model.4\n",
      "\n",
      "=> Setting learned tasks of model.0 to 12\n",
      "=> Setting learned tasks of model.2 to 12\n",
      "=> Setting learned tasks of model.4 to 12\n",
      "\n",
      "Training for task 12\n",
      "=> Set task of model.0 to 12\n",
      "=> Set task of model.2 to 12\n",
      "=> Set task of model.4 to 12\n"
     ]
    },
    {
     "data": {
      "application/vnd.jupyter.widget-view+json": {
       "model_id": "550ee71433c842709c8d01e261592695",
       "version_major": 2,
       "version_minor": 0
      },
      "text/plain": [
       "  0%|          | 0/469 [00:00<?, ?it/s]"
      ]
     },
     "metadata": {},
     "output_type": "display_data"
    },
    {
     "name": "stdout",
     "output_type": "stream",
     "text": [
      "Validation => Loss 0.7426, Acc@1 0.6559\n",
      "============\n"
     ]
    },
    {
     "data": {
      "application/vnd.jupyter.widget-view+json": {
       "model_id": "6bd6b202c20a44eeadc989a5838d2e8c",
       "version_major": 2,
       "version_minor": 0
      },
      "text/plain": [
       "  0%|          | 0/79 [00:00<?, ?it/s]"
      ]
     },
     "metadata": {},
     "output_type": "display_data"
    },
    {
     "name": "stdout",
     "output_type": "stream",
     "text": [
      "Val Perf after 1 epochs Acc@1 0.7844\n",
      "=> Caching mask state for model.0\n",
      "=> Caching mask state for model.2\n",
      "=> Caching mask state for model.4\n",
      "\n",
      "=> Setting learned tasks of model.0 to 13\n",
      "=> Setting learned tasks of model.2 to 13\n",
      "=> Setting learned tasks of model.4 to 13\n",
      "\n",
      "Training for task 13\n",
      "=> Set task of model.0 to 13\n",
      "=> Set task of model.2 to 13\n",
      "=> Set task of model.4 to 13\n"
     ]
    },
    {
     "data": {
      "application/vnd.jupyter.widget-view+json": {
       "model_id": "6380b96de575459aae82304793cf054a",
       "version_major": 2,
       "version_minor": 0
      },
      "text/plain": [
       "  0%|          | 0/469 [00:00<?, ?it/s]"
      ]
     },
     "metadata": {},
     "output_type": "display_data"
    },
    {
     "name": "stdout",
     "output_type": "stream",
     "text": [
      "Validation => Loss 0.8253, Acc@1 0.6553\n",
      "============\n"
     ]
    },
    {
     "data": {
      "application/vnd.jupyter.widget-view+json": {
       "model_id": "c86eb37da5854688918ba03fe8ef166b",
       "version_major": 2,
       "version_minor": 0
      },
      "text/plain": [
       "  0%|          | 0/79 [00:00<?, ?it/s]"
      ]
     },
     "metadata": {},
     "output_type": "display_data"
    },
    {
     "name": "stdout",
     "output_type": "stream",
     "text": [
      "Val Perf after 1 epochs Acc@1 0.7843\n",
      "=> Caching mask state for model.0\n",
      "=> Caching mask state for model.2\n",
      "=> Caching mask state for model.4\n",
      "\n",
      "=> Setting learned tasks of model.0 to 14\n",
      "=> Setting learned tasks of model.2 to 14\n",
      "=> Setting learned tasks of model.4 to 14\n",
      "\n",
      "Training for task 14\n",
      "=> Set task of model.0 to 14\n",
      "=> Set task of model.2 to 14\n",
      "=> Set task of model.4 to 14\n"
     ]
    },
    {
     "data": {
      "application/vnd.jupyter.widget-view+json": {
       "model_id": "f1d2c453f8574e1d81a1a5ec61ae5adb",
       "version_major": 2,
       "version_minor": 0
      },
      "text/plain": [
       "  0%|          | 0/469 [00:00<?, ?it/s]"
      ]
     },
     "metadata": {},
     "output_type": "display_data"
    },
    {
     "name": "stdout",
     "output_type": "stream",
     "text": [
      "Validation => Loss 0.7067, Acc@1 0.6706\n",
      "============\n"
     ]
    },
    {
     "data": {
      "application/vnd.jupyter.widget-view+json": {
       "model_id": "e4f3c9819467422692ac439260ea863d",
       "version_major": 2,
       "version_minor": 0
      },
      "text/plain": [
       "  0%|          | 0/79 [00:00<?, ?it/s]"
      ]
     },
     "metadata": {},
     "output_type": "display_data"
    },
    {
     "name": "stdout",
     "output_type": "stream",
     "text": [
      "Val Perf after 1 epochs Acc@1 0.7746\n",
      "=> Caching mask state for model.0\n",
      "=> Caching mask state for model.2\n",
      "=> Caching mask state for model.4\n",
      "\n",
      "=> Setting learned tasks of model.0 to 15\n",
      "=> Setting learned tasks of model.2 to 15\n",
      "=> Setting learned tasks of model.4 to 15\n",
      "\n",
      "Training for task 15\n",
      "=> Set task of model.0 to 15\n",
      "=> Set task of model.2 to 15\n",
      "=> Set task of model.4 to 15\n"
     ]
    },
    {
     "data": {
      "application/vnd.jupyter.widget-view+json": {
       "model_id": "f2e76453c5f94e6f9e7d2a73398adef8",
       "version_major": 2,
       "version_minor": 0
      },
      "text/plain": [
       "  0%|          | 0/469 [00:00<?, ?it/s]"
      ]
     },
     "metadata": {},
     "output_type": "display_data"
    },
    {
     "name": "stdout",
     "output_type": "stream",
     "text": [
      "Validation => Loss 0.6729, Acc@1 0.6706\n",
      "============\n"
     ]
    },
    {
     "data": {
      "application/vnd.jupyter.widget-view+json": {
       "model_id": "ece1a17a7e26452681fcdfadd650e5b5",
       "version_major": 2,
       "version_minor": 0
      },
      "text/plain": [
       "  0%|          | 0/79 [00:00<?, ?it/s]"
      ]
     },
     "metadata": {},
     "output_type": "display_data"
    },
    {
     "name": "stdout",
     "output_type": "stream",
     "text": [
      "Val Perf after 1 epochs Acc@1 0.7796\n",
      "=> Caching mask state for model.0\n",
      "=> Caching mask state for model.2\n",
      "=> Caching mask state for model.4\n",
      "\n",
      "=> Setting learned tasks of model.0 to 16\n",
      "=> Setting learned tasks of model.2 to 16\n",
      "=> Setting learned tasks of model.4 to 16\n",
      "\n",
      "Training for task 16\n",
      "=> Set task of model.0 to 16\n",
      "=> Set task of model.2 to 16\n",
      "=> Set task of model.4 to 16\n"
     ]
    },
    {
     "data": {
      "application/vnd.jupyter.widget-view+json": {
       "model_id": "088bdac876994e33b27d519d53f3b04e",
       "version_major": 2,
       "version_minor": 0
      },
      "text/plain": [
       "  0%|          | 0/469 [00:00<?, ?it/s]"
      ]
     },
     "metadata": {},
     "output_type": "display_data"
    },
    {
     "name": "stdout",
     "output_type": "stream",
     "text": [
      "Validation => Loss 0.8166, Acc@1 0.6725\n",
      "============\n"
     ]
    },
    {
     "data": {
      "application/vnd.jupyter.widget-view+json": {
       "model_id": "a84eec4527874f70895b545603d0d7b0",
       "version_major": 2,
       "version_minor": 0
      },
      "text/plain": [
       "  0%|          | 0/79 [00:00<?, ?it/s]"
      ]
     },
     "metadata": {},
     "output_type": "display_data"
    },
    {
     "name": "stdout",
     "output_type": "stream",
     "text": [
      "Val Perf after 1 epochs Acc@1 0.7830\n",
      "=> Caching mask state for model.0\n",
      "=> Caching mask state for model.2\n",
      "=> Caching mask state for model.4\n",
      "\n",
      "=> Setting learned tasks of model.0 to 17\n",
      "=> Setting learned tasks of model.2 to 17\n",
      "=> Setting learned tasks of model.4 to 17\n",
      "\n",
      "Training for task 17\n",
      "=> Set task of model.0 to 17\n",
      "=> Set task of model.2 to 17\n",
      "=> Set task of model.4 to 17\n"
     ]
    },
    {
     "data": {
      "application/vnd.jupyter.widget-view+json": {
       "model_id": "62e1e164a9d34601af238641a6f3eabb",
       "version_major": 2,
       "version_minor": 0
      },
      "text/plain": [
       "  0%|          | 0/469 [00:00<?, ?it/s]"
      ]
     },
     "metadata": {},
     "output_type": "display_data"
    },
    {
     "name": "stdout",
     "output_type": "stream",
     "text": [
      "Validation => Loss 0.6515, Acc@1 0.6660\n",
      "============\n"
     ]
    },
    {
     "data": {
      "application/vnd.jupyter.widget-view+json": {
       "model_id": "c0af18d5ef974a95b337309ff1a16f86",
       "version_major": 2,
       "version_minor": 0
      },
      "text/plain": [
       "  0%|          | 0/79 [00:00<?, ?it/s]"
      ]
     },
     "metadata": {},
     "output_type": "display_data"
    },
    {
     "name": "stdout",
     "output_type": "stream",
     "text": [
      "Val Perf after 1 epochs Acc@1 0.7749\n",
      "=> Caching mask state for model.0\n",
      "=> Caching mask state for model.2\n",
      "=> Caching mask state for model.4\n",
      "\n",
      "=> Setting learned tasks of model.0 to 18\n",
      "=> Setting learned tasks of model.2 to 18\n",
      "=> Setting learned tasks of model.4 to 18\n",
      "\n",
      "Training for task 18\n",
      "=> Set task of model.0 to 18\n",
      "=> Set task of model.2 to 18\n",
      "=> Set task of model.4 to 18\n"
     ]
    },
    {
     "data": {
      "application/vnd.jupyter.widget-view+json": {
       "model_id": "a7c584fc2f4a47fa8e9356c83bdc156a",
       "version_major": 2,
       "version_minor": 0
      },
      "text/plain": [
       "  0%|          | 0/469 [00:00<?, ?it/s]"
      ]
     },
     "metadata": {},
     "output_type": "display_data"
    },
    {
     "name": "stdout",
     "output_type": "stream",
     "text": [
      "Validation => Loss 0.9614, Acc@1 0.6888\n",
      "============\n"
     ]
    },
    {
     "data": {
      "application/vnd.jupyter.widget-view+json": {
       "model_id": "0993d55f3dff40cdb9a55e3638a1ddcb",
       "version_major": 2,
       "version_minor": 0
      },
      "text/plain": [
       "  0%|          | 0/79 [00:00<?, ?it/s]"
      ]
     },
     "metadata": {},
     "output_type": "display_data"
    },
    {
     "name": "stdout",
     "output_type": "stream",
     "text": [
      "Val Perf after 1 epochs Acc@1 0.7848\n",
      "=> Caching mask state for model.0\n",
      "=> Caching mask state for model.2\n",
      "=> Caching mask state for model.4\n",
      "\n",
      "=> Setting learned tasks of model.0 to 19\n",
      "=> Setting learned tasks of model.2 to 19\n",
      "=> Setting learned tasks of model.4 to 19\n",
      "\n",
      "Training for task 19\n",
      "=> Set task of model.0 to 19\n",
      "=> Set task of model.2 to 19\n",
      "=> Set task of model.4 to 19\n"
     ]
    },
    {
     "data": {
      "application/vnd.jupyter.widget-view+json": {
       "model_id": "7bc80271f7d745f19ab07f0fc585a223",
       "version_major": 2,
       "version_minor": 0
      },
      "text/plain": [
       "  0%|          | 0/469 [00:00<?, ?it/s]"
      ]
     },
     "metadata": {},
     "output_type": "display_data"
    },
    {
     "name": "stdout",
     "output_type": "stream",
     "text": [
      "Validation => Loss 0.8477, Acc@1 0.6764\n",
      "============\n"
     ]
    },
    {
     "data": {
      "application/vnd.jupyter.widget-view+json": {
       "model_id": "fc06b41cd4c4475e8595bcedb638815c",
       "version_major": 2,
       "version_minor": 0
      },
      "text/plain": [
       "  0%|          | 0/79 [00:00<?, ?it/s]"
      ]
     },
     "metadata": {},
     "output_type": "display_data"
    },
    {
     "name": "stdout",
     "output_type": "stream",
     "text": [
      "Val Perf after 1 epochs Acc@1 0.7713\n",
      "=> Caching mask state for model.0\n",
      "=> Caching mask state for model.2\n",
      "=> Caching mask state for model.4\n",
      "\n",
      "=> Setting learned tasks of model.0 to 20\n",
      "=> Setting learned tasks of model.2 to 20\n",
      "=> Setting learned tasks of model.4 to 20\n",
      "\n"
     ]
    }
   ],
   "source": [
    "# Task ID given during train time\n",
    "from IPython.display import clear_output\n",
    "\n",
    "num_tasks = 20 # For demonstration purposes, we go up to 2500 in our paper\n",
    "model_rot = MultitaskFC(hidden_size=300, num_tasks=num_tasks)\n",
    "\n",
    "for task in range(num_tasks):\n",
    "    print(f\"Training for task {task}\")\n",
    "    set_model_task(model_rot, task)\n",
    "    mnist_rot.update_task(task)\n",
    "\n",
    "    optimizer = optim.RMSprop([p for p in model_rot.parameters() if p.requires_grad], lr=1e-4)\n",
    "    # Train for 1 epoch\n",
    "    for e in range(1):\n",
    "        train(model_rot, mnist_rot.train_loader, optimizer, e)\n",
    "        \n",
    "        print(\"Validation\")\n",
    "        print(\"============\")\n",
    "        acc1 = evaluate(model_rot, mnist_rot.val_loader, e)\n",
    "        \n",
    "    \n",
    "    cache_masks(model_rot)\n",
    "    print()\n",
    "    set_num_tasks_learned(model_rot, task + 1)\n",
    "    print()"
   ]
  },
  {
   "cell_type": "code",
   "execution_count": 47,
   "metadata": {},
   "outputs": [
    {
     "name": "stdout",
     "output_type": "stream",
     "text": [
      "Average top 1 performance: 0.7775\n",
      "Per task performance\n",
      "Task 0: 0.7763\n",
      "Task 1: 0.7798\n",
      "Task 2: 0.7839\n",
      "Task 3: 0.7713\n",
      "Task 4: 0.7626\n",
      "Task 5: 0.7727\n",
      "Task 6: 0.7822\n",
      "Task 7: 0.7752\n",
      "Task 8: 0.7852\n",
      "Task 9: 0.7813\n",
      "Task 10: 0.7787\n",
      "Task 11: 0.7709\n",
      "Task 12: 0.7815\n",
      "Task 13: 0.7819\n",
      "Task 14: 0.7702\n",
      "Task 15: 0.7845\n",
      "Task 16: 0.7836\n",
      "Task 17: 0.7708\n",
      "Task 18: 0.7839\n",
      "Task 19: 0.7728\n"
     ]
    }
   ],
   "source": [
    "# When task ID we can simply set the mask and evaluate\n",
    "\n",
    "gg_performance = []\n",
    "for task in range(num_tasks):\n",
    "    set_model_task(model_rot, task)\n",
    "    mnist_rot.update_task(task)\n",
    "    acc1 = evaluate(model_rot, mnist_rot.val_loader, 0)\n",
    "    gg_performance.append(acc1.item())\n",
    "\n",
    "clear_output()\n",
    "    \n",
    "print(f\"Average top 1 performance: {(sum(gg_performance) / len(gg_performance)):.4f}\")\n",
    "\n",
    "print(\"Per task performance\")\n",
    "for t in range(num_tasks):\n",
    "    print(f\"Task {t}: {gg_performance[t]:.4f}\")"
   ]
  },
  {
   "cell_type": "code",
   "execution_count": 48,
   "metadata": {},
   "outputs": [],
   "source": [
    "performance_map['supsup_mnist_rot'] = gg_performance.copy()"
   ]
  },
  {
   "cell_type": "markdown",
   "metadata": {},
   "source": [
    "# Basis Masks "
   ]
  },
  {
   "cell_type": "markdown",
   "metadata": {},
   "source": [
    "### Model Initialization (Only New Tasks)"
   ]
  },
  {
   "cell_type": "code",
   "execution_count": 15,
   "metadata": {},
   "outputs": [],
   "source": [
    "num_tasks = 20 # For demonstration purposes, we go up to 2500 in our paper\n",
    "num_seed_tasks_learned = 15\n",
    "basis_model = BasisMultitaskFC(hidden_size=300, num_tasks=num_tasks, num_seed_tasks_learned=num_seed_tasks_learned, start_at_optimal=True)"
   ]
  },
  {
   "cell_type": "code",
   "execution_count": 16,
   "metadata": {},
   "outputs": [
    {
     "data": {
      "text/plain": [
       "<All keys matched successfully>"
      ]
     },
     "execution_count": 16,
     "metadata": {},
     "output_type": "execute_result"
    }
   ],
   "source": [
    "seed_dict = model.state_dict()\n",
    "basis_dict = basis_model.state_dict()\n",
    "load_dict = {k: seed_dict[k] for k in basis_model.state_dict().keys() if k in seed_dict.keys()}\n",
    "basis_dict.update(load_dict)\n",
    "basis_model.load_state_dict(basis_dict, False)"
   ]
  },
  {
   "cell_type": "code",
   "execution_count": 17,
   "metadata": {
    "scrolled": true
   },
   "outputs": [
    {
     "name": "stdout",
     "output_type": "stream",
     "text": [
      "Training for task 15\n",
      "=> Set task of model.0 to 15\n",
      "=> Set task of model.2 to 15\n",
      "=> Set task of model.4 to 15\n"
     ]
    },
    {
     "data": {
      "application/vnd.jupyter.widget-view+json": {
       "model_id": "",
       "version_major": 2,
       "version_minor": 0
      },
      "text/plain": [
       "  0%|          | 0/469 [00:00<?, ?it/s]"
      ]
     },
     "metadata": {},
     "output_type": "display_data"
    },
    {
     "name": "stdout",
     "output_type": "stream",
     "text": [
      "Validation => Loss 1.7601, Acc@1 0.3291\n",
      "============\n"
     ]
    },
    {
     "data": {
      "application/vnd.jupyter.widget-view+json": {
       "model_id": "",
       "version_major": 2,
       "version_minor": 0
      },
      "text/plain": [
       "  0%|          | 0/79 [00:00<?, ?it/s]"
      ]
     },
     "metadata": {},
     "output_type": "display_data"
    },
    {
     "name": "stdout",
     "output_type": "stream",
     "text": [
      "Val Perf after 1 epochs Acc@1 0.3957\n"
     ]
    },
    {
     "data": {
      "application/vnd.jupyter.widget-view+json": {
       "model_id": "",
       "version_major": 2,
       "version_minor": 0
      },
      "text/plain": [
       "  0%|          | 0/469 [00:00<?, ?it/s]"
      ]
     },
     "metadata": {},
     "output_type": "display_data"
    },
    {
     "name": "stdout",
     "output_type": "stream",
     "text": [
      "Validation => Loss 1.8303, Acc@1 0.4251\n",
      "============\n"
     ]
    },
    {
     "data": {
      "application/vnd.jupyter.widget-view+json": {
       "model_id": "",
       "version_major": 2,
       "version_minor": 0
      },
      "text/plain": [
       "  0%|          | 0/79 [00:00<?, ?it/s]"
      ]
     },
     "metadata": {},
     "output_type": "display_data"
    },
    {
     "name": "stdout",
     "output_type": "stream",
     "text": [
      "Val Perf after 2 epochs Acc@1 0.4049\n",
      "=> Caching mask state for model.0\n",
      "=> Caching mask state for model.2\n",
      "=> Caching mask state for model.4\n",
      "\n",
      "=> Setting learned tasks of model.0 to 16\n",
      "=> Setting learned tasks of model.2 to 16\n",
      "=> Setting learned tasks of model.4 to 16\n",
      "\n",
      "Training for task 16\n",
      "=> Set task of model.0 to 16\n",
      "=> Set task of model.2 to 16\n",
      "=> Set task of model.4 to 16\n"
     ]
    },
    {
     "data": {
      "application/vnd.jupyter.widget-view+json": {
       "model_id": "",
       "version_major": 2,
       "version_minor": 0
      },
      "text/plain": [
       "  0%|          | 0/469 [00:00<?, ?it/s]"
      ]
     },
     "metadata": {},
     "output_type": "display_data"
    },
    {
     "name": "stdout",
     "output_type": "stream",
     "text": [
      "Validation => Loss 2.0481, Acc@1 0.2783\n",
      "============\n"
     ]
    },
    {
     "data": {
      "application/vnd.jupyter.widget-view+json": {
       "model_id": "",
       "version_major": 2,
       "version_minor": 0
      },
      "text/plain": [
       "  0%|          | 0/79 [00:00<?, ?it/s]"
      ]
     },
     "metadata": {},
     "output_type": "display_data"
    },
    {
     "name": "stdout",
     "output_type": "stream",
     "text": [
      "Val Perf after 1 epochs Acc@1 0.3473\n"
     ]
    },
    {
     "data": {
      "application/vnd.jupyter.widget-view+json": {
       "model_id": "",
       "version_major": 2,
       "version_minor": 0
      },
      "text/plain": [
       "  0%|          | 0/469 [00:00<?, ?it/s]"
      ]
     },
     "metadata": {},
     "output_type": "display_data"
    },
    {
     "name": "stdout",
     "output_type": "stream",
     "text": [
      "Validation => Loss 1.8990, Acc@1 0.3460\n",
      "============\n"
     ]
    },
    {
     "data": {
      "application/vnd.jupyter.widget-view+json": {
       "model_id": "",
       "version_major": 2,
       "version_minor": 0
      },
      "text/plain": [
       "  0%|          | 0/79 [00:00<?, ?it/s]"
      ]
     },
     "metadata": {},
     "output_type": "display_data"
    },
    {
     "name": "stdout",
     "output_type": "stream",
     "text": [
      "Val Perf after 2 epochs Acc@1 0.3619\n",
      "=> Caching mask state for model.0\n",
      "=> Caching mask state for model.2\n",
      "=> Caching mask state for model.4\n",
      "\n",
      "=> Setting learned tasks of model.0 to 17\n",
      "=> Setting learned tasks of model.2 to 17\n",
      "=> Setting learned tasks of model.4 to 17\n",
      "\n",
      "Training for task 17\n",
      "=> Set task of model.0 to 17\n",
      "=> Set task of model.2 to 17\n",
      "=> Set task of model.4 to 17\n"
     ]
    },
    {
     "data": {
      "application/vnd.jupyter.widget-view+json": {
       "model_id": "",
       "version_major": 2,
       "version_minor": 0
      },
      "text/plain": [
       "  0%|          | 0/469 [00:00<?, ?it/s]"
      ]
     },
     "metadata": {},
     "output_type": "display_data"
    },
    {
     "name": "stdout",
     "output_type": "stream",
     "text": [
      "Validation => Loss 1.6282, Acc@1 0.3291\n",
      "============\n"
     ]
    },
    {
     "data": {
      "application/vnd.jupyter.widget-view+json": {
       "model_id": "",
       "version_major": 2,
       "version_minor": 0
      },
      "text/plain": [
       "  0%|          | 0/79 [00:00<?, ?it/s]"
      ]
     },
     "metadata": {},
     "output_type": "display_data"
    },
    {
     "name": "stdout",
     "output_type": "stream",
     "text": [
      "Val Perf after 1 epochs Acc@1 0.4468\n"
     ]
    },
    {
     "data": {
      "application/vnd.jupyter.widget-view+json": {
       "model_id": "",
       "version_major": 2,
       "version_minor": 0
      },
      "text/plain": [
       "  0%|          | 0/469 [00:00<?, ?it/s]"
      ]
     },
     "metadata": {},
     "output_type": "display_data"
    },
    {
     "name": "stdout",
     "output_type": "stream",
     "text": [
      "Validation => Loss 1.6969, Acc@1 0.4574\n",
      "============\n"
     ]
    },
    {
     "data": {
      "application/vnd.jupyter.widget-view+json": {
       "model_id": "",
       "version_major": 2,
       "version_minor": 0
      },
      "text/plain": [
       "  0%|          | 0/79 [00:00<?, ?it/s]"
      ]
     },
     "metadata": {},
     "output_type": "display_data"
    },
    {
     "name": "stdout",
     "output_type": "stream",
     "text": [
      "Val Perf after 2 epochs Acc@1 0.4501\n",
      "=> Caching mask state for model.0\n",
      "=> Caching mask state for model.2\n",
      "=> Caching mask state for model.4\n",
      "\n",
      "=> Setting learned tasks of model.0 to 18\n",
      "=> Setting learned tasks of model.2 to 18\n",
      "=> Setting learned tasks of model.4 to 18\n",
      "\n",
      "Training for task 18\n",
      "=> Set task of model.0 to 18\n",
      "=> Set task of model.2 to 18\n",
      "=> Set task of model.4 to 18\n"
     ]
    },
    {
     "data": {
      "application/vnd.jupyter.widget-view+json": {
       "model_id": "",
       "version_major": 2,
       "version_minor": 0
      },
      "text/plain": [
       "  0%|          | 0/469 [00:00<?, ?it/s]"
      ]
     },
     "metadata": {},
     "output_type": "display_data"
    },
    {
     "name": "stdout",
     "output_type": "stream",
     "text": [
      "Validation => Loss 1.8859, Acc@1 0.3405\n",
      "============\n"
     ]
    },
    {
     "data": {
      "application/vnd.jupyter.widget-view+json": {
       "model_id": "",
       "version_major": 2,
       "version_minor": 0
      },
      "text/plain": [
       "  0%|          | 0/79 [00:00<?, ?it/s]"
      ]
     },
     "metadata": {},
     "output_type": "display_data"
    },
    {
     "name": "stdout",
     "output_type": "stream",
     "text": [
      "Val Perf after 1 epochs Acc@1 0.3812\n"
     ]
    },
    {
     "data": {
      "application/vnd.jupyter.widget-view+json": {
       "model_id": "",
       "version_major": 2,
       "version_minor": 0
      },
      "text/plain": [
       "  0%|          | 0/469 [00:00<?, ?it/s]"
      ]
     },
     "metadata": {},
     "output_type": "display_data"
    },
    {
     "name": "stdout",
     "output_type": "stream",
     "text": [
      "Validation => Loss 1.8604, Acc@1 0.3815\n",
      "============\n"
     ]
    },
    {
     "data": {
      "application/vnd.jupyter.widget-view+json": {
       "model_id": "",
       "version_major": 2,
       "version_minor": 0
      },
      "text/plain": [
       "  0%|          | 0/79 [00:00<?, ?it/s]"
      ]
     },
     "metadata": {},
     "output_type": "display_data"
    },
    {
     "name": "stdout",
     "output_type": "stream",
     "text": [
      "Val Perf after 2 epochs Acc@1 0.3991\n",
      "=> Caching mask state for model.0\n",
      "=> Caching mask state for model.2\n",
      "=> Caching mask state for model.4\n",
      "\n",
      "=> Setting learned tasks of model.0 to 19\n",
      "=> Setting learned tasks of model.2 to 19\n",
      "=> Setting learned tasks of model.4 to 19\n",
      "\n",
      "Training for task 19\n",
      "=> Set task of model.0 to 19\n",
      "=> Set task of model.2 to 19\n",
      "=> Set task of model.4 to 19\n"
     ]
    },
    {
     "data": {
      "application/vnd.jupyter.widget-view+json": {
       "model_id": "",
       "version_major": 2,
       "version_minor": 0
      },
      "text/plain": [
       "  0%|          | 0/469 [00:00<?, ?it/s]"
      ]
     },
     "metadata": {},
     "output_type": "display_data"
    },
    {
     "name": "stdout",
     "output_type": "stream",
     "text": [
      "Validation => Loss 1.6791, Acc@1 0.3604\n",
      "============\n"
     ]
    },
    {
     "data": {
      "application/vnd.jupyter.widget-view+json": {
       "model_id": "",
       "version_major": 2,
       "version_minor": 0
      },
      "text/plain": [
       "  0%|          | 0/79 [00:00<?, ?it/s]"
      ]
     },
     "metadata": {},
     "output_type": "display_data"
    },
    {
     "name": "stdout",
     "output_type": "stream",
     "text": [
      "Val Perf after 1 epochs Acc@1 0.4153\n"
     ]
    },
    {
     "data": {
      "application/vnd.jupyter.widget-view+json": {
       "model_id": "",
       "version_major": 2,
       "version_minor": 0
      },
      "text/plain": [
       "  0%|          | 0/469 [00:00<?, ?it/s]"
      ]
     },
     "metadata": {},
     "output_type": "display_data"
    },
    {
     "name": "stdout",
     "output_type": "stream",
     "text": [
      "Validation => Loss 1.8859, Acc@1 0.4072\n",
      "============\n"
     ]
    },
    {
     "data": {
      "application/vnd.jupyter.widget-view+json": {
       "model_id": "",
       "version_major": 2,
       "version_minor": 0
      },
      "text/plain": [
       "  0%|          | 0/79 [00:00<?, ?it/s]"
      ]
     },
     "metadata": {},
     "output_type": "display_data"
    },
    {
     "name": "stdout",
     "output_type": "stream",
     "text": [
      "Val Perf after 2 epochs Acc@1 0.4057\n",
      "=> Caching mask state for model.0\n",
      "=> Caching mask state for model.2\n",
      "=> Caching mask state for model.4\n",
      "\n",
      "=> Setting learned tasks of model.0 to 20\n",
      "=> Setting learned tasks of model.2 to 20\n",
      "=> Setting learned tasks of model.4 to 20\n",
      "\n"
     ]
    }
   ],
   "source": [
    "for task in range(num_seed_tasks_learned, num_tasks):\n",
    "    print(f\"Training for task {task}\")\n",
    "    set_model_task(basis_model, task)\n",
    "    mnist.update_task(task)\n",
    "\n",
    "    optimizer = optim.RMSprop([p for p in basis_model.parameters() if p.requires_grad], lr=1e-2)\n",
    "    # Train for 1 epoch\n",
    "    for e in range(2):\n",
    "        train(basis_model, mnist.train_loader, optimizer, e)\n",
    "        \n",
    "        print(\"Validation\")\n",
    "        print(\"============\")\n",
    "        acc1 = evaluate(basis_model, mnist.val_loader, e)\n",
    "        \n",
    "    \n",
    "    cache_masks(basis_model)\n",
    "    print()\n",
    "    set_num_tasks_learned(basis_model, task + 1)\n",
    "    print()"
   ]
  },
  {
   "cell_type": "code",
   "execution_count": 49,
   "metadata": {
    "scrolled": false
   },
   "outputs": [
    {
     "name": "stdout",
     "output_type": "stream",
     "text": [
      "Average top 1 performance: 0.7948\n",
      "Per task performance\n",
      "Task 0: 0.9234\n",
      "Task 1: 0.9254\n",
      "Task 2: 0.9223\n",
      "Task 3: 0.9260\n",
      "Task 4: 0.9264\n",
      "Task 5: 0.9265\n",
      "Task 6: 0.9229\n",
      "Task 7: 0.9229\n",
      "Task 8: 0.9252\n",
      "Task 9: 0.9261\n",
      "Task 10: 0.9285\n",
      "Task 11: 0.9251\n",
      "Task 12: 0.9244\n",
      "Task 13: 0.9230\n",
      "Task 14: 0.9257\n",
      "Task 15: 0.4049\n",
      "Task 16: 0.3619\n",
      "Task 17: 0.4501\n",
      "Task 18: 0.3991\n",
      "Task 19: 0.4057\n"
     ]
    }
   ],
   "source": [
    "# When task ID we can simply set the mask and evaluate\n",
    "\n",
    "gg_performance = []\n",
    "for task in range(num_tasks):\n",
    "    set_model_task(basis_model, task)\n",
    "    mnist.update_task(task)\n",
    "    acc1 = evaluate(basis_model, mnist.val_loader, 0)\n",
    "    gg_performance.append(acc1.item())\n",
    "\n",
    "clear_output()\n",
    "    \n",
    "print(f\"Average top 1 performance: {(sum(gg_performance) / len(gg_performance)):.4f}\")\n",
    "\n",
    "print(\"Per task performance\")\n",
    "for t in range(num_tasks):\n",
    "    print(f\"Task {t}: {gg_performance[t]:.4f}\")"
   ]
  },
  {
   "cell_type": "code",
   "execution_count": 50,
   "metadata": {},
   "outputs": [],
   "source": [
    "performance_map['basis_mnist'] = gg_performance.copy()"
   ]
  },
  {
   "cell_type": "markdown",
   "metadata": {},
   "source": [
    "### Model Initialization (Only New Tasks) Sparsity Enabled"
   ]
  },
  {
   "cell_type": "code",
   "execution_count": 272,
   "metadata": {},
   "outputs": [],
   "source": [
    "num_tasks = 20 # For demonstration purposes, we go up to 2500 in our paper\n",
    "num_seed_tasks_learned = 15\n",
    "basis_models = BasisSparseMultitaskFC(hidden_size=300, num_tasks=num_tasks, num_seed_tasks_learned=num_seed_tasks_learned, sparsity=0.25, start_at_optimal=True)"
   ]
  },
  {
   "cell_type": "code",
   "execution_count": 273,
   "metadata": {},
   "outputs": [
    {
     "data": {
      "text/plain": [
       "<All keys matched successfully>"
      ]
     },
     "execution_count": 273,
     "metadata": {},
     "output_type": "execute_result"
    }
   ],
   "source": [
    "seed_dict = models.state_dict()\n",
    "basis_dict = basis_models.state_dict()\n",
    "load_dict = {k: seed_dict[k] for k in basis_models.state_dict().keys() if k in seed_dict.keys()}\n",
    "basis_dict.update(load_dict)\n",
    "basis_models.load_state_dict(basis_dict, False)"
   ]
  },
  {
   "cell_type": "code",
   "execution_count": 274,
   "metadata": {
    "scrolled": true
   },
   "outputs": [
    {
     "name": "stdout",
     "output_type": "stream",
     "text": [
      "Training for task 15\n",
      "=> Set task of model.0 to 15\n",
      "=> Set task of model.2 to 15\n",
      "=> Set task of model.4 to 15\n"
     ]
    },
    {
     "data": {
      "application/vnd.jupyter.widget-view+json": {
       "model_id": "e18c370dbf8f452d8f306bfdaefe13eb",
       "version_major": 2,
       "version_minor": 0
      },
      "text/plain": [
       "  0%|          | 0/469 [00:00<?, ?it/s]"
      ]
     },
     "metadata": {},
     "output_type": "display_data"
    },
    {
     "name": "stdout",
     "output_type": "stream",
     "text": [
      "Validation => Loss 1.5478, Acc@1 0.3913\n",
      "============\n"
     ]
    },
    {
     "data": {
      "application/vnd.jupyter.widget-view+json": {
       "model_id": "9abedfa3571846ff847b86e538c0bd78",
       "version_major": 2,
       "version_minor": 0
      },
      "text/plain": [
       "  0%|          | 0/79 [00:00<?, ?it/s]"
      ]
     },
     "metadata": {},
     "output_type": "display_data"
    },
    {
     "name": "stdout",
     "output_type": "stream",
     "text": [
      "Val Perf after 1 epochs Acc@1 0.4439\n"
     ]
    },
    {
     "data": {
      "application/vnd.jupyter.widget-view+json": {
       "model_id": "94ccbe5d873841dbbcde153e01eb42ee",
       "version_major": 2,
       "version_minor": 0
      },
      "text/plain": [
       "  0%|          | 0/469 [00:00<?, ?it/s]"
      ]
     },
     "metadata": {},
     "output_type": "display_data"
    },
    {
     "name": "stdout",
     "output_type": "stream",
     "text": [
      "Validation => Loss 1.6404, Acc@1 0.4525\n",
      "============\n"
     ]
    },
    {
     "data": {
      "application/vnd.jupyter.widget-view+json": {
       "model_id": "1d209778514e4fe3943e1235c666f1fd",
       "version_major": 2,
       "version_minor": 0
      },
      "text/plain": [
       "  0%|          | 0/79 [00:00<?, ?it/s]"
      ]
     },
     "metadata": {},
     "output_type": "display_data"
    },
    {
     "name": "stdout",
     "output_type": "stream",
     "text": [
      "Val Perf after 2 epochs Acc@1 0.4672\n",
      "=> Caching mask state for model.0\n",
      "=> Caching mask state for model.2\n",
      "=> Caching mask state for model.4\n",
      "\n",
      "=> Setting learned tasks of model.0 to 16\n",
      "=> Setting learned tasks of model.2 to 16\n",
      "=> Setting learned tasks of model.4 to 16\n",
      "\n",
      "Training for task 16\n",
      "=> Set task of model.0 to 16\n",
      "=> Set task of model.2 to 16\n",
      "=> Set task of model.4 to 16\n"
     ]
    },
    {
     "data": {
      "application/vnd.jupyter.widget-view+json": {
       "model_id": "1f7c26996dbf4b32a002e1e1544fda57",
       "version_major": 2,
       "version_minor": 0
      },
      "text/plain": [
       "  0%|          | 0/469 [00:00<?, ?it/s]"
      ]
     },
     "metadata": {},
     "output_type": "display_data"
    },
    {
     "name": "stdout",
     "output_type": "stream",
     "text": [
      "Validation => Loss 1.6193, Acc@1 0.3600\n",
      "============\n"
     ]
    },
    {
     "data": {
      "application/vnd.jupyter.widget-view+json": {
       "model_id": "48cf7549c24241f18c81c0ecafc26bf8",
       "version_major": 2,
       "version_minor": 0
      },
      "text/plain": [
       "  0%|          | 0/79 [00:00<?, ?it/s]"
      ]
     },
     "metadata": {},
     "output_type": "display_data"
    },
    {
     "name": "stdout",
     "output_type": "stream",
     "text": [
      "Val Perf after 1 epochs Acc@1 0.4131\n"
     ]
    },
    {
     "data": {
      "application/vnd.jupyter.widget-view+json": {
       "model_id": "f13c7272d41943ed98fdacd3736b64d0",
       "version_major": 2,
       "version_minor": 0
      },
      "text/plain": [
       "  0%|          | 0/469 [00:00<?, ?it/s]"
      ]
     },
     "metadata": {},
     "output_type": "display_data"
    },
    {
     "name": "stdout",
     "output_type": "stream",
     "text": [
      "Validation => Loss 1.7328, Acc@1 0.4134\n",
      "============\n"
     ]
    },
    {
     "data": {
      "application/vnd.jupyter.widget-view+json": {
       "model_id": "c9c87741751c41a3a078b0736b96c129",
       "version_major": 2,
       "version_minor": 0
      },
      "text/plain": [
       "  0%|          | 0/79 [00:00<?, ?it/s]"
      ]
     },
     "metadata": {},
     "output_type": "display_data"
    },
    {
     "name": "stdout",
     "output_type": "stream",
     "text": [
      "Val Perf after 2 epochs Acc@1 0.4131\n",
      "=> Caching mask state for model.0\n",
      "=> Caching mask state for model.2\n",
      "=> Caching mask state for model.4\n",
      "\n",
      "=> Setting learned tasks of model.0 to 17\n",
      "=> Setting learned tasks of model.2 to 17\n",
      "=> Setting learned tasks of model.4 to 17\n",
      "\n",
      "Training for task 17\n",
      "=> Set task of model.0 to 17\n",
      "=> Set task of model.2 to 17\n",
      "=> Set task of model.4 to 17\n"
     ]
    },
    {
     "data": {
      "application/vnd.jupyter.widget-view+json": {
       "model_id": "34dfbc5d39d34035bbbaa4e399497b25",
       "version_major": 2,
       "version_minor": 0
      },
      "text/plain": [
       "  0%|          | 0/469 [00:00<?, ?it/s]"
      ]
     },
     "metadata": {},
     "output_type": "display_data"
    },
    {
     "name": "stdout",
     "output_type": "stream",
     "text": [
      "Validation => Loss 1.5466, Acc@1 0.3577\n",
      "============\n"
     ]
    },
    {
     "data": {
      "application/vnd.jupyter.widget-view+json": {
       "model_id": "8590cd97f3c1493ab8f84b6474d05dd4",
       "version_major": 2,
       "version_minor": 0
      },
      "text/plain": [
       "  0%|          | 0/79 [00:00<?, ?it/s]"
      ]
     },
     "metadata": {},
     "output_type": "display_data"
    },
    {
     "name": "stdout",
     "output_type": "stream",
     "text": [
      "Val Perf after 1 epochs Acc@1 0.4346\n"
     ]
    },
    {
     "data": {
      "application/vnd.jupyter.widget-view+json": {
       "model_id": "0a9a22e2e7df47f4ad9e021a87be5171",
       "version_major": 2,
       "version_minor": 0
      },
      "text/plain": [
       "  0%|          | 0/469 [00:00<?, ?it/s]"
      ]
     },
     "metadata": {},
     "output_type": "display_data"
    },
    {
     "name": "stdout",
     "output_type": "stream",
     "text": [
      "Validation => Loss 1.6606, Acc@1 0.4499\n",
      "============\n"
     ]
    },
    {
     "data": {
      "application/vnd.jupyter.widget-view+json": {
       "model_id": "1066529b43204ef78530fae58f068474",
       "version_major": 2,
       "version_minor": 0
      },
      "text/plain": [
       "  0%|          | 0/79 [00:00<?, ?it/s]"
      ]
     },
     "metadata": {},
     "output_type": "display_data"
    },
    {
     "name": "stdout",
     "output_type": "stream",
     "text": [
      "Val Perf after 2 epochs Acc@1 0.4415\n",
      "=> Caching mask state for model.0\n",
      "=> Caching mask state for model.2\n",
      "=> Caching mask state for model.4\n",
      "\n",
      "=> Setting learned tasks of model.0 to 18\n",
      "=> Setting learned tasks of model.2 to 18\n",
      "=> Setting learned tasks of model.4 to 18\n",
      "\n",
      "Training for task 18\n",
      "=> Set task of model.0 to 18\n",
      "=> Set task of model.2 to 18\n",
      "=> Set task of model.4 to 18\n"
     ]
    },
    {
     "data": {
      "application/vnd.jupyter.widget-view+json": {
       "model_id": "1fbed2bdb69f486fb27611757cae7a59",
       "version_major": 2,
       "version_minor": 0
      },
      "text/plain": [
       "  0%|          | 0/469 [00:00<?, ?it/s]"
      ]
     },
     "metadata": {},
     "output_type": "display_data"
    },
    {
     "name": "stdout",
     "output_type": "stream",
     "text": [
      "e0 241/469 => Loss 1.6983, Acc@1 0.3191\r"
     ]
    },
    {
     "ename": "KeyboardInterrupt",
     "evalue": "",
     "output_type": "error",
     "traceback": [
      "\u001b[0;31m---------------------------------------------------------------------------\u001b[0m",
      "\u001b[0;31mKeyboardInterrupt\u001b[0m                         Traceback (most recent call last)",
      "\u001b[0;32m<ipython-input-274-d25de37cd7cb>\u001b[0m in \u001b[0;36m<module>\u001b[0;34m\u001b[0m\n\u001b[1;32m      7\u001b[0m     \u001b[0;31m# Train for 1 epoch\u001b[0m\u001b[0;34m\u001b[0m\u001b[0;34m\u001b[0m\u001b[0;34m\u001b[0m\u001b[0m\n\u001b[1;32m      8\u001b[0m     \u001b[0;32mfor\u001b[0m \u001b[0me\u001b[0m \u001b[0;32min\u001b[0m \u001b[0mrange\u001b[0m\u001b[0;34m(\u001b[0m\u001b[0;36m2\u001b[0m\u001b[0;34m)\u001b[0m\u001b[0;34m:\u001b[0m\u001b[0;34m\u001b[0m\u001b[0;34m\u001b[0m\u001b[0m\n\u001b[0;32m----> 9\u001b[0;31m         \u001b[0mtrain\u001b[0m\u001b[0;34m(\u001b[0m\u001b[0mbasis_models\u001b[0m\u001b[0;34m,\u001b[0m \u001b[0mmnist\u001b[0m\u001b[0;34m.\u001b[0m\u001b[0mtrain_loader\u001b[0m\u001b[0;34m,\u001b[0m \u001b[0moptimizer\u001b[0m\u001b[0;34m,\u001b[0m \u001b[0me\u001b[0m\u001b[0;34m)\u001b[0m\u001b[0;34m\u001b[0m\u001b[0;34m\u001b[0m\u001b[0m\n\u001b[0m\u001b[1;32m     10\u001b[0m \u001b[0;34m\u001b[0m\u001b[0m\n\u001b[1;32m     11\u001b[0m         \u001b[0mprint\u001b[0m\u001b[0;34m(\u001b[0m\u001b[0;34m\"Validation\"\u001b[0m\u001b[0;34m)\u001b[0m\u001b[0;34m\u001b[0m\u001b[0;34m\u001b[0m\u001b[0m\n",
      "\u001b[0;32m<ipython-input-10-1ee29611b038>\u001b[0m in \u001b[0;36mtrain\u001b[0;34m(model, trainloader, optimizer, epoch)\u001b[0m\n\u001b[1;32m     12\u001b[0m         \u001b[0mtotal\u001b[0m\u001b[0;34m=\u001b[0m\u001b[0mlen\u001b[0m\u001b[0;34m(\u001b[0m\u001b[0mtrainloader\u001b[0m\u001b[0;34m)\u001b[0m\u001b[0;34m\u001b[0m\u001b[0;34m\u001b[0m\u001b[0m\n\u001b[1;32m     13\u001b[0m     ):\n\u001b[0;32m---> 14\u001b[0;31m         \u001b[0mlogits\u001b[0m \u001b[0;34m=\u001b[0m \u001b[0mmodel\u001b[0m\u001b[0;34m(\u001b[0m\u001b[0mbatch\u001b[0m\u001b[0;34m)\u001b[0m\u001b[0;34m\u001b[0m\u001b[0;34m\u001b[0m\u001b[0m\n\u001b[0m\u001b[1;32m     15\u001b[0m         \u001b[0mloss\u001b[0m \u001b[0;34m=\u001b[0m \u001b[0mcriterion\u001b[0m\u001b[0;34m(\u001b[0m\u001b[0mlogits\u001b[0m\u001b[0;34m,\u001b[0m \u001b[0mlabels\u001b[0m\u001b[0;34m)\u001b[0m\u001b[0;34m\u001b[0m\u001b[0;34m\u001b[0m\u001b[0m\n\u001b[1;32m     16\u001b[0m \u001b[0;34m\u001b[0m\u001b[0m\n",
      "\u001b[0;32m~/anaconda3/envs/ds-nyu/lib/python3.7/site-packages/torch/nn/modules/module.py\u001b[0m in \u001b[0;36m__call__\u001b[0;34m(self, *input, **kwargs)\u001b[0m\n\u001b[1;32m    539\u001b[0m             \u001b[0mresult\u001b[0m \u001b[0;34m=\u001b[0m \u001b[0mself\u001b[0m\u001b[0;34m.\u001b[0m\u001b[0m_slow_forward\u001b[0m\u001b[0;34m(\u001b[0m\u001b[0;34m*\u001b[0m\u001b[0minput\u001b[0m\u001b[0;34m,\u001b[0m \u001b[0;34m**\u001b[0m\u001b[0mkwargs\u001b[0m\u001b[0;34m)\u001b[0m\u001b[0;34m\u001b[0m\u001b[0;34m\u001b[0m\u001b[0m\n\u001b[1;32m    540\u001b[0m         \u001b[0;32melse\u001b[0m\u001b[0;34m:\u001b[0m\u001b[0;34m\u001b[0m\u001b[0;34m\u001b[0m\u001b[0m\n\u001b[0;32m--> 541\u001b[0;31m             \u001b[0mresult\u001b[0m \u001b[0;34m=\u001b[0m \u001b[0mself\u001b[0m\u001b[0;34m.\u001b[0m\u001b[0mforward\u001b[0m\u001b[0;34m(\u001b[0m\u001b[0;34m*\u001b[0m\u001b[0minput\u001b[0m\u001b[0;34m,\u001b[0m \u001b[0;34m**\u001b[0m\u001b[0mkwargs\u001b[0m\u001b[0;34m)\u001b[0m\u001b[0;34m\u001b[0m\u001b[0;34m\u001b[0m\u001b[0m\n\u001b[0m\u001b[1;32m    542\u001b[0m         \u001b[0;32mfor\u001b[0m \u001b[0mhook\u001b[0m \u001b[0;32min\u001b[0m \u001b[0mself\u001b[0m\u001b[0;34m.\u001b[0m\u001b[0m_forward_hooks\u001b[0m\u001b[0;34m.\u001b[0m\u001b[0mvalues\u001b[0m\u001b[0;34m(\u001b[0m\u001b[0;34m)\u001b[0m\u001b[0;34m:\u001b[0m\u001b[0;34m\u001b[0m\u001b[0;34m\u001b[0m\u001b[0m\n\u001b[1;32m    543\u001b[0m             \u001b[0mhook_result\u001b[0m \u001b[0;34m=\u001b[0m \u001b[0mhook\u001b[0m\u001b[0;34m(\u001b[0m\u001b[0mself\u001b[0m\u001b[0;34m,\u001b[0m \u001b[0minput\u001b[0m\u001b[0;34m,\u001b[0m \u001b[0mresult\u001b[0m\u001b[0;34m)\u001b[0m\u001b[0;34m\u001b[0m\u001b[0;34m\u001b[0m\u001b[0m\n",
      "\u001b[0;32m<ipython-input-252-78ff12aa758b>\u001b[0m in \u001b[0;36mforward\u001b[0;34m(self, x)\u001b[0m\n\u001b[1;32m     36\u001b[0m \u001b[0;34m\u001b[0m\u001b[0m\n\u001b[1;32m     37\u001b[0m     \u001b[0;32mdef\u001b[0m \u001b[0mforward\u001b[0m\u001b[0;34m(\u001b[0m\u001b[0mself\u001b[0m\u001b[0;34m,\u001b[0m \u001b[0mx\u001b[0m\u001b[0;34m)\u001b[0m\u001b[0;34m:\u001b[0m\u001b[0;34m\u001b[0m\u001b[0;34m\u001b[0m\u001b[0m\n\u001b[0;32m---> 38\u001b[0;31m         \u001b[0;32mreturn\u001b[0m \u001b[0mself\u001b[0m\u001b[0;34m.\u001b[0m\u001b[0mmodel\u001b[0m\u001b[0;34m(\u001b[0m\u001b[0mx\u001b[0m\u001b[0;34m.\u001b[0m\u001b[0mflatten\u001b[0m\u001b[0;34m(\u001b[0m\u001b[0;36m1\u001b[0m\u001b[0;34m)\u001b[0m\u001b[0;34m)\u001b[0m\u001b[0;34m\u001b[0m\u001b[0;34m\u001b[0m\u001b[0m\n\u001b[0m",
      "\u001b[0;32m~/anaconda3/envs/ds-nyu/lib/python3.7/site-packages/torch/nn/modules/module.py\u001b[0m in \u001b[0;36m__call__\u001b[0;34m(self, *input, **kwargs)\u001b[0m\n\u001b[1;32m    539\u001b[0m             \u001b[0mresult\u001b[0m \u001b[0;34m=\u001b[0m \u001b[0mself\u001b[0m\u001b[0;34m.\u001b[0m\u001b[0m_slow_forward\u001b[0m\u001b[0;34m(\u001b[0m\u001b[0;34m*\u001b[0m\u001b[0minput\u001b[0m\u001b[0;34m,\u001b[0m \u001b[0;34m**\u001b[0m\u001b[0mkwargs\u001b[0m\u001b[0;34m)\u001b[0m\u001b[0;34m\u001b[0m\u001b[0;34m\u001b[0m\u001b[0m\n\u001b[1;32m    540\u001b[0m         \u001b[0;32melse\u001b[0m\u001b[0;34m:\u001b[0m\u001b[0;34m\u001b[0m\u001b[0;34m\u001b[0m\u001b[0m\n\u001b[0;32m--> 541\u001b[0;31m             \u001b[0mresult\u001b[0m \u001b[0;34m=\u001b[0m \u001b[0mself\u001b[0m\u001b[0;34m.\u001b[0m\u001b[0mforward\u001b[0m\u001b[0;34m(\u001b[0m\u001b[0;34m*\u001b[0m\u001b[0minput\u001b[0m\u001b[0;34m,\u001b[0m \u001b[0;34m**\u001b[0m\u001b[0mkwargs\u001b[0m\u001b[0;34m)\u001b[0m\u001b[0;34m\u001b[0m\u001b[0;34m\u001b[0m\u001b[0m\n\u001b[0m\u001b[1;32m    542\u001b[0m         \u001b[0;32mfor\u001b[0m \u001b[0mhook\u001b[0m \u001b[0;32min\u001b[0m \u001b[0mself\u001b[0m\u001b[0;34m.\u001b[0m\u001b[0m_forward_hooks\u001b[0m\u001b[0;34m.\u001b[0m\u001b[0mvalues\u001b[0m\u001b[0;34m(\u001b[0m\u001b[0;34m)\u001b[0m\u001b[0;34m:\u001b[0m\u001b[0;34m\u001b[0m\u001b[0;34m\u001b[0m\u001b[0m\n\u001b[1;32m    543\u001b[0m             \u001b[0mhook_result\u001b[0m \u001b[0;34m=\u001b[0m \u001b[0mhook\u001b[0m\u001b[0;34m(\u001b[0m\u001b[0mself\u001b[0m\u001b[0;34m,\u001b[0m \u001b[0minput\u001b[0m\u001b[0;34m,\u001b[0m \u001b[0mresult\u001b[0m\u001b[0;34m)\u001b[0m\u001b[0;34m\u001b[0m\u001b[0;34m\u001b[0m\u001b[0m\n",
      "\u001b[0;32m~/anaconda3/envs/ds-nyu/lib/python3.7/site-packages/torch/nn/modules/container.py\u001b[0m in \u001b[0;36mforward\u001b[0;34m(self, input)\u001b[0m\n\u001b[1;32m     90\u001b[0m     \u001b[0;32mdef\u001b[0m \u001b[0mforward\u001b[0m\u001b[0;34m(\u001b[0m\u001b[0mself\u001b[0m\u001b[0;34m,\u001b[0m \u001b[0minput\u001b[0m\u001b[0;34m)\u001b[0m\u001b[0;34m:\u001b[0m\u001b[0;34m\u001b[0m\u001b[0;34m\u001b[0m\u001b[0m\n\u001b[1;32m     91\u001b[0m         \u001b[0;32mfor\u001b[0m \u001b[0mmodule\u001b[0m \u001b[0;32min\u001b[0m \u001b[0mself\u001b[0m\u001b[0;34m.\u001b[0m\u001b[0m_modules\u001b[0m\u001b[0;34m.\u001b[0m\u001b[0mvalues\u001b[0m\u001b[0;34m(\u001b[0m\u001b[0;34m)\u001b[0m\u001b[0;34m:\u001b[0m\u001b[0;34m\u001b[0m\u001b[0;34m\u001b[0m\u001b[0m\n\u001b[0;32m---> 92\u001b[0;31m             \u001b[0minput\u001b[0m \u001b[0;34m=\u001b[0m \u001b[0mmodule\u001b[0m\u001b[0;34m(\u001b[0m\u001b[0minput\u001b[0m\u001b[0;34m)\u001b[0m\u001b[0;34m\u001b[0m\u001b[0;34m\u001b[0m\u001b[0m\n\u001b[0m\u001b[1;32m     93\u001b[0m         \u001b[0;32mreturn\u001b[0m \u001b[0minput\u001b[0m\u001b[0;34m\u001b[0m\u001b[0;34m\u001b[0m\u001b[0m\n\u001b[1;32m     94\u001b[0m \u001b[0;34m\u001b[0m\u001b[0m\n",
      "\u001b[0;32m~/anaconda3/envs/ds-nyu/lib/python3.7/site-packages/torch/nn/modules/module.py\u001b[0m in \u001b[0;36m__call__\u001b[0;34m(self, *input, **kwargs)\u001b[0m\n\u001b[1;32m    539\u001b[0m             \u001b[0mresult\u001b[0m \u001b[0;34m=\u001b[0m \u001b[0mself\u001b[0m\u001b[0;34m.\u001b[0m\u001b[0m_slow_forward\u001b[0m\u001b[0;34m(\u001b[0m\u001b[0;34m*\u001b[0m\u001b[0minput\u001b[0m\u001b[0;34m,\u001b[0m \u001b[0;34m**\u001b[0m\u001b[0mkwargs\u001b[0m\u001b[0;34m)\u001b[0m\u001b[0;34m\u001b[0m\u001b[0;34m\u001b[0m\u001b[0m\n\u001b[1;32m    540\u001b[0m         \u001b[0;32melse\u001b[0m\u001b[0;34m:\u001b[0m\u001b[0;34m\u001b[0m\u001b[0;34m\u001b[0m\u001b[0m\n\u001b[0;32m--> 541\u001b[0;31m             \u001b[0mresult\u001b[0m \u001b[0;34m=\u001b[0m \u001b[0mself\u001b[0m\u001b[0;34m.\u001b[0m\u001b[0mforward\u001b[0m\u001b[0;34m(\u001b[0m\u001b[0;34m*\u001b[0m\u001b[0minput\u001b[0m\u001b[0;34m,\u001b[0m \u001b[0;34m**\u001b[0m\u001b[0mkwargs\u001b[0m\u001b[0;34m)\u001b[0m\u001b[0;34m\u001b[0m\u001b[0;34m\u001b[0m\u001b[0m\n\u001b[0m\u001b[1;32m    542\u001b[0m         \u001b[0;32mfor\u001b[0m \u001b[0mhook\u001b[0m \u001b[0;32min\u001b[0m \u001b[0mself\u001b[0m\u001b[0;34m.\u001b[0m\u001b[0m_forward_hooks\u001b[0m\u001b[0;34m.\u001b[0m\u001b[0mvalues\u001b[0m\u001b[0;34m(\u001b[0m\u001b[0;34m)\u001b[0m\u001b[0;34m:\u001b[0m\u001b[0;34m\u001b[0m\u001b[0;34m\u001b[0m\u001b[0m\n\u001b[1;32m    543\u001b[0m             \u001b[0mhook_result\u001b[0m \u001b[0;34m=\u001b[0m \u001b[0mhook\u001b[0m\u001b[0;34m(\u001b[0m\u001b[0mself\u001b[0m\u001b[0;34m,\u001b[0m \u001b[0minput\u001b[0m\u001b[0;34m,\u001b[0m \u001b[0mresult\u001b[0m\u001b[0;34m)\u001b[0m\u001b[0;34m\u001b[0m\u001b[0;34m\u001b[0m\u001b[0m\n",
      "\u001b[0;32m<ipython-input-246-f7c492439cfc>\u001b[0m in \u001b[0;36mforward\u001b[0;34m(self, x)\u001b[0m\n\u001b[1;32m     65\u001b[0m             \u001b[0;32mfor\u001b[0m \u001b[0mi\u001b[0m \u001b[0;32min\u001b[0m \u001b[0mrange\u001b[0m\u001b[0;34m(\u001b[0m\u001b[0;36m1\u001b[0m\u001b[0;34m,\u001b[0m \u001b[0mself\u001b[0m\u001b[0;34m.\u001b[0m\u001b[0mnum_seed_tasks_learned\u001b[0m\u001b[0;34m)\u001b[0m\u001b[0;34m:\u001b[0m\u001b[0;34m\u001b[0m\u001b[0;34m\u001b[0m\u001b[0m\n\u001b[1;32m     66\u001b[0m                 subnet = GetSubnetSparse.apply(\n\u001b[0;32m---> 67\u001b[0;31m                     \u001b[0mself\u001b[0m\u001b[0;34m.\u001b[0m\u001b[0mscores\u001b[0m\u001b[0;34m[\u001b[0m\u001b[0mi\u001b[0m\u001b[0;34m]\u001b[0m\u001b[0;34m,\u001b[0m \u001b[0mself\u001b[0m\u001b[0;34m.\u001b[0m\u001b[0msparsity\u001b[0m\u001b[0;34m\u001b[0m\u001b[0;34m\u001b[0m\u001b[0m\n\u001b[0m\u001b[1;32m     68\u001b[0m                 )\n\u001b[1;32m     69\u001b[0m                 \u001b[0mw\u001b[0m \u001b[0;34m+=\u001b[0m \u001b[0mself\u001b[0m\u001b[0;34m.\u001b[0m\u001b[0mweight\u001b[0m \u001b[0;34m*\u001b[0m \u001b[0msubnet\u001b[0m \u001b[0;34m*\u001b[0m \u001b[0mtask_alpha\u001b[0m\u001b[0;34m[\u001b[0m\u001b[0mi\u001b[0m\u001b[0;34m]\u001b[0m\u001b[0;34m\u001b[0m\u001b[0;34m\u001b[0m\u001b[0m\n",
      "\u001b[0;32m<ipython-input-262-3efb546657a8>\u001b[0m in \u001b[0;36mforward\u001b[0;34m(ctx, scores, k)\u001b[0m\n\u001b[1;32m     15\u001b[0m         \u001b[0;31m# Get the supermask by sorting the scores and using the top k%\u001b[0m\u001b[0;34m\u001b[0m\u001b[0;34m\u001b[0m\u001b[0;34m\u001b[0m\u001b[0m\n\u001b[1;32m     16\u001b[0m         \u001b[0mout\u001b[0m \u001b[0;34m=\u001b[0m \u001b[0mscores\u001b[0m\u001b[0;34m.\u001b[0m\u001b[0mclone\u001b[0m\u001b[0;34m(\u001b[0m\u001b[0;34m)\u001b[0m\u001b[0;34m\u001b[0m\u001b[0;34m\u001b[0m\u001b[0m\n\u001b[0;32m---> 17\u001b[0;31m         \u001b[0m_\u001b[0m\u001b[0;34m,\u001b[0m \u001b[0midx\u001b[0m \u001b[0;34m=\u001b[0m \u001b[0mscores\u001b[0m\u001b[0;34m.\u001b[0m\u001b[0mflatten\u001b[0m\u001b[0;34m(\u001b[0m\u001b[0;34m)\u001b[0m\u001b[0;34m.\u001b[0m\u001b[0msort\u001b[0m\u001b[0;34m(\u001b[0m\u001b[0;34m)\u001b[0m\u001b[0;34m\u001b[0m\u001b[0;34m\u001b[0m\u001b[0m\n\u001b[0m\u001b[1;32m     18\u001b[0m         \u001b[0mj\u001b[0m \u001b[0;34m=\u001b[0m \u001b[0mint\u001b[0m\u001b[0;34m(\u001b[0m\u001b[0;34m(\u001b[0m\u001b[0;36m1\u001b[0m \u001b[0;34m-\u001b[0m \u001b[0mk\u001b[0m\u001b[0;34m)\u001b[0m \u001b[0;34m*\u001b[0m \u001b[0mscores\u001b[0m\u001b[0;34m.\u001b[0m\u001b[0mnumel\u001b[0m\u001b[0;34m(\u001b[0m\u001b[0;34m)\u001b[0m\u001b[0;34m)\u001b[0m\u001b[0;34m\u001b[0m\u001b[0;34m\u001b[0m\u001b[0m\n\u001b[1;32m     19\u001b[0m \u001b[0;34m\u001b[0m\u001b[0m\n",
      "\u001b[0;31mKeyboardInterrupt\u001b[0m: "
     ]
    }
   ],
   "source": [
    "for task in range(num_seed_tasks_learned, num_tasks):\n",
    "    print(f\"Training for task {task}\")\n",
    "    set_model_task(basis_models, task)\n",
    "    mnist.update_task(task)\n",
    "\n",
    "    optimizer = optim.RMSprop([p for p in basis_models.parameters() if p.requires_grad], lr=1e-2)\n",
    "    # Train for 1 epoch\n",
    "    for e in range(2):\n",
    "        train(basis_models, mnist.train_loader, optimizer, e)\n",
    "        \n",
    "        print(\"Validation\")\n",
    "        print(\"============\")\n",
    "        acc1 = evaluate(basis_models, mnist.val_loader, e)\n",
    "        \n",
    "    \n",
    "    cache_masks(basis_models)\n",
    "    print()\n",
    "    set_num_tasks_learned(basis_models, task + 1)\n",
    "    print()"
   ]
  },
  {
   "cell_type": "code",
   "execution_count": null,
   "metadata": {
    "scrolled": false
   },
   "outputs": [],
   "source": [
    "# When task ID we can simply set the mask and evaluate\n",
    "\n",
    "gg_performance = []\n",
    "for task in range(num_tasks):\n",
    "    set_model_task(basis_models, task)\n",
    "    mnist.update_task(task)\n",
    "    acc1 = evaluate(basis_models, mnist.val_loader, 0)\n",
    "    gg_performance.append(acc1.item())\n",
    "\n",
    "clear_output()\n",
    "    \n",
    "print(f\"Average top 1 performance: {(sum(gg_performance) / len(gg_performance)):.4f}\")\n",
    "\n",
    "print(\"Per task performance\")\n",
    "for t in range(num_tasks):\n",
    "    print(f\"Task {t}: {gg_performance[t]:.4f}\")"
   ]
  },
  {
   "cell_type": "code",
   "execution_count": null,
   "metadata": {},
   "outputs": [],
   "source": [
    "performance_map['basis_mnist_sparsity_25'] = gg_performance.copy()"
   ]
  },
  {
   "cell_type": "markdown",
   "metadata": {},
   "source": [
    "### Model Initialization (Only New Tasks, Rotation MNIST)"
   ]
  },
  {
   "cell_type": "code",
   "execution_count": 19,
   "metadata": {},
   "outputs": [],
   "source": [
    "num_tasks = 20 # For demonstration purposes, we go up to 2500 in our paper\n",
    "num_seed_tasks_learned = 15\n",
    "basis_model_rot = BasisMultitaskFC(hidden_size=300, num_tasks=num_tasks, num_seed_tasks_learned=num_seed_tasks_learned, start_at_optimal=True)"
   ]
  },
  {
   "cell_type": "code",
   "execution_count": 20,
   "metadata": {},
   "outputs": [
    {
     "data": {
      "text/plain": [
       "<All keys matched successfully>"
      ]
     },
     "execution_count": 20,
     "metadata": {},
     "output_type": "execute_result"
    }
   ],
   "source": [
    "seed_dictr = model_rot.state_dict()\n",
    "basis_dictr = basis_model_rot.state_dict()\n",
    "load_dictr = {k: seed_dictr[k] for k in basis_model_rot.state_dict().keys() if k in seed_dictr.keys()}\n",
    "basis_dictr.update(load_dictr)\n",
    "basis_model_rot.load_state_dict(basis_dictr, False)"
   ]
  },
  {
   "cell_type": "code",
   "execution_count": 21,
   "metadata": {
    "scrolled": true
   },
   "outputs": [
    {
     "name": "stdout",
     "output_type": "stream",
     "text": [
      "Training for task 15\n",
      "=> Set task of model.0 to 15\n",
      "=> Set task of model.2 to 15\n",
      "=> Set task of model.4 to 15\n"
     ]
    },
    {
     "data": {
      "application/vnd.jupyter.widget-view+json": {
       "model_id": "1948f0cd980c4b909d78ac4c17dfbd61",
       "version_major": 2,
       "version_minor": 0
      },
      "text/plain": [
       "  0%|          | 0/469 [00:00<?, ?it/s]"
      ]
     },
     "metadata": {},
     "output_type": "display_data"
    },
    {
     "name": "stdout",
     "output_type": "stream",
     "text": [
      "Validation => Loss 0.8649, Acc@1 0.7194\n",
      "============\n"
     ]
    },
    {
     "data": {
      "application/vnd.jupyter.widget-view+json": {
       "model_id": "454f851cfcc445f49cb6e34e81635ed7",
       "version_major": 2,
       "version_minor": 0
      },
      "text/plain": [
       "  0%|          | 0/79 [00:00<?, ?it/s]"
      ]
     },
     "metadata": {},
     "output_type": "display_data"
    },
    {
     "name": "stdout",
     "output_type": "stream",
     "text": [
      "Val Perf after 1 epochs Acc@1 0.7835\n"
     ]
    },
    {
     "data": {
      "application/vnd.jupyter.widget-view+json": {
       "model_id": "d88dcbd3d11d42e7aa9608113fcfc781",
       "version_major": 2,
       "version_minor": 0
      },
      "text/plain": [
       "  0%|          | 0/469 [00:00<?, ?it/s]"
      ]
     },
     "metadata": {},
     "output_type": "display_data"
    },
    {
     "name": "stdout",
     "output_type": "stream",
     "text": [
      "Validation => Loss 0.9070, Acc@1 0.7673\n",
      "============\n"
     ]
    },
    {
     "data": {
      "application/vnd.jupyter.widget-view+json": {
       "model_id": "c21b5f8de1084d7b8a8afe6d26063579",
       "version_major": 2,
       "version_minor": 0
      },
      "text/plain": [
       "  0%|          | 0/79 [00:00<?, ?it/s]"
      ]
     },
     "metadata": {},
     "output_type": "display_data"
    },
    {
     "name": "stdout",
     "output_type": "stream",
     "text": [
      "Val Perf after 2 epochs Acc@1 0.7851\n",
      "=> Caching mask state for model.0\n",
      "=> Caching mask state for model.2\n",
      "=> Caching mask state for model.4\n",
      "\n",
      "=> Setting learned tasks of model.0 to 16\n",
      "=> Setting learned tasks of model.2 to 16\n",
      "=> Setting learned tasks of model.4 to 16\n",
      "\n",
      "Training for task 16\n",
      "=> Set task of model.0 to 16\n",
      "=> Set task of model.2 to 16\n",
      "=> Set task of model.4 to 16\n"
     ]
    },
    {
     "data": {
      "application/vnd.jupyter.widget-view+json": {
       "model_id": "27ba22eb9adf45d78ecc1d679dc15342",
       "version_major": 2,
       "version_minor": 0
      },
      "text/plain": [
       "  0%|          | 0/469 [00:00<?, ?it/s]"
      ]
     },
     "metadata": {},
     "output_type": "display_data"
    },
    {
     "name": "stdout",
     "output_type": "stream",
     "text": [
      "Validation => Loss 0.7501, Acc@1 0.7357\n",
      "============\n"
     ]
    },
    {
     "data": {
      "application/vnd.jupyter.widget-view+json": {
       "model_id": "319aa16572f042979540f8897f00cc07",
       "version_major": 2,
       "version_minor": 0
      },
      "text/plain": [
       "  0%|          | 0/79 [00:00<?, ?it/s]"
      ]
     },
     "metadata": {},
     "output_type": "display_data"
    },
    {
     "name": "stdout",
     "output_type": "stream",
     "text": [
      "Val Perf after 1 epochs Acc@1 0.7803\n"
     ]
    },
    {
     "data": {
      "application/vnd.jupyter.widget-view+json": {
       "model_id": "e970689445b941ca83a59fe6db923072",
       "version_major": 2,
       "version_minor": 0
      },
      "text/plain": [
       "  0%|          | 0/469 [00:00<?, ?it/s]"
      ]
     },
     "metadata": {},
     "output_type": "display_data"
    },
    {
     "name": "stdout",
     "output_type": "stream",
     "text": [
      "Validation => Loss 0.7097, Acc@1 0.7620\n",
      "============\n"
     ]
    },
    {
     "data": {
      "application/vnd.jupyter.widget-view+json": {
       "model_id": "93126060dc5347aaabb197c4d26bd4e1",
       "version_major": 2,
       "version_minor": 0
      },
      "text/plain": [
       "  0%|          | 0/79 [00:00<?, ?it/s]"
      ]
     },
     "metadata": {},
     "output_type": "display_data"
    },
    {
     "name": "stdout",
     "output_type": "stream",
     "text": [
      "Val Perf after 2 epochs Acc@1 0.7872\n",
      "=> Caching mask state for model.0\n",
      "=> Caching mask state for model.2\n",
      "=> Caching mask state for model.4\n",
      "\n",
      "=> Setting learned tasks of model.0 to 17\n",
      "=> Setting learned tasks of model.2 to 17\n",
      "=> Setting learned tasks of model.4 to 17\n",
      "\n",
      "Training for task 17\n",
      "=> Set task of model.0 to 17\n",
      "=> Set task of model.2 to 17\n",
      "=> Set task of model.4 to 17\n"
     ]
    },
    {
     "data": {
      "application/vnd.jupyter.widget-view+json": {
       "model_id": "0e63a30809ee4f3a8ec10e8f8ed7b8b5",
       "version_major": 2,
       "version_minor": 0
      },
      "text/plain": [
       "  0%|          | 0/469 [00:00<?, ?it/s]"
      ]
     },
     "metadata": {},
     "output_type": "display_data"
    },
    {
     "name": "stdout",
     "output_type": "stream",
     "text": [
      "Validation => Loss 0.7523, Acc@1 0.7432\n",
      "============\n"
     ]
    },
    {
     "data": {
      "application/vnd.jupyter.widget-view+json": {
       "model_id": "9cc7bb2c5071442294cbfc0cf414f951",
       "version_major": 2,
       "version_minor": 0
      },
      "text/plain": [
       "  0%|          | 0/79 [00:00<?, ?it/s]"
      ]
     },
     "metadata": {},
     "output_type": "display_data"
    },
    {
     "name": "stdout",
     "output_type": "stream",
     "text": [
      "Val Perf after 1 epochs Acc@1 0.7864\n"
     ]
    },
    {
     "data": {
      "application/vnd.jupyter.widget-view+json": {
       "model_id": "271da1cf072244d19b53b331ca3969c7",
       "version_major": 2,
       "version_minor": 0
      },
      "text/plain": [
       "  0%|          | 0/469 [00:00<?, ?it/s]"
      ]
     },
     "metadata": {},
     "output_type": "display_data"
    },
    {
     "name": "stdout",
     "output_type": "stream",
     "text": [
      "Validation => Loss 0.8012, Acc@1 0.7852\n",
      "============\n"
     ]
    },
    {
     "data": {
      "application/vnd.jupyter.widget-view+json": {
       "model_id": "a360f2fbc4884def98141bbbece3773a",
       "version_major": 2,
       "version_minor": 0
      },
      "text/plain": [
       "  0%|          | 0/79 [00:00<?, ?it/s]"
      ]
     },
     "metadata": {},
     "output_type": "display_data"
    },
    {
     "name": "stdout",
     "output_type": "stream",
     "text": [
      "Val Perf after 2 epochs Acc@1 0.7827\n",
      "=> Caching mask state for model.0\n",
      "=> Caching mask state for model.2\n",
      "=> Caching mask state for model.4\n",
      "\n",
      "=> Setting learned tasks of model.0 to 18\n",
      "=> Setting learned tasks of model.2 to 18\n",
      "=> Setting learned tasks of model.4 to 18\n",
      "\n",
      "Training for task 18\n",
      "=> Set task of model.0 to 18\n",
      "=> Set task of model.2 to 18\n",
      "=> Set task of model.4 to 18\n"
     ]
    },
    {
     "data": {
      "application/vnd.jupyter.widget-view+json": {
       "model_id": "f88b30ce8c734142b950f2e28e826c6a",
       "version_major": 2,
       "version_minor": 0
      },
      "text/plain": [
       "  0%|          | 0/469 [00:00<?, ?it/s]"
      ]
     },
     "metadata": {},
     "output_type": "display_data"
    },
    {
     "name": "stdout",
     "output_type": "stream",
     "text": [
      "Validation => Loss 0.7315, Acc@1 0.7174\n",
      "============\n"
     ]
    },
    {
     "data": {
      "application/vnd.jupyter.widget-view+json": {
       "model_id": "84cba1feeb8f4988bb4ac24605425bb5",
       "version_major": 2,
       "version_minor": 0
      },
      "text/plain": [
       "  0%|          | 0/79 [00:00<?, ?it/s]"
      ]
     },
     "metadata": {},
     "output_type": "display_data"
    },
    {
     "name": "stdout",
     "output_type": "stream",
     "text": [
      "Val Perf after 1 epochs Acc@1 0.7793\n"
     ]
    },
    {
     "data": {
      "application/vnd.jupyter.widget-view+json": {
       "model_id": "74b043deb19d466088b570197396291e",
       "version_major": 2,
       "version_minor": 0
      },
      "text/plain": [
       "  0%|          | 0/469 [00:00<?, ?it/s]"
      ]
     },
     "metadata": {},
     "output_type": "display_data"
    },
    {
     "name": "stdout",
     "output_type": "stream",
     "text": [
      "Validation => Loss 0.7141, Acc@1 0.7604\n",
      "============\n"
     ]
    },
    {
     "data": {
      "application/vnd.jupyter.widget-view+json": {
       "model_id": "868134127de9484dbdb8215e089ecf63",
       "version_major": 2,
       "version_minor": 0
      },
      "text/plain": [
       "  0%|          | 0/79 [00:00<?, ?it/s]"
      ]
     },
     "metadata": {},
     "output_type": "display_data"
    },
    {
     "name": "stdout",
     "output_type": "stream",
     "text": [
      "Val Perf after 2 epochs Acc@1 0.7769\n",
      "=> Caching mask state for model.0\n",
      "=> Caching mask state for model.2\n",
      "=> Caching mask state for model.4\n",
      "\n",
      "=> Setting learned tasks of model.0 to 19\n",
      "=> Setting learned tasks of model.2 to 19\n",
      "=> Setting learned tasks of model.4 to 19\n",
      "\n",
      "Training for task 19\n",
      "=> Set task of model.0 to 19\n",
      "=> Set task of model.2 to 19\n",
      "=> Set task of model.4 to 19\n"
     ]
    },
    {
     "data": {
      "application/vnd.jupyter.widget-view+json": {
       "model_id": "a480a35651a0443a867d2c35fd0dd219",
       "version_major": 2,
       "version_minor": 0
      },
      "text/plain": [
       "  0%|          | 0/469 [00:00<?, ?it/s]"
      ]
     },
     "metadata": {},
     "output_type": "display_data"
    },
    {
     "name": "stdout",
     "output_type": "stream",
     "text": [
      "Validation => Loss 0.6945, Acc@1 0.7386\n",
      "============\n"
     ]
    },
    {
     "data": {
      "application/vnd.jupyter.widget-view+json": {
       "model_id": "b388981416374992ac69027a8307c486",
       "version_major": 2,
       "version_minor": 0
      },
      "text/plain": [
       "  0%|          | 0/79 [00:00<?, ?it/s]"
      ]
     },
     "metadata": {},
     "output_type": "display_data"
    },
    {
     "name": "stdout",
     "output_type": "stream",
     "text": [
      "Val Perf after 1 epochs Acc@1 0.7807\n"
     ]
    },
    {
     "data": {
      "application/vnd.jupyter.widget-view+json": {
       "model_id": "0ae60a8a437141de95cb2f66680a077a",
       "version_major": 2,
       "version_minor": 0
      },
      "text/plain": [
       "  0%|          | 0/469 [00:00<?, ?it/s]"
      ]
     },
     "metadata": {},
     "output_type": "display_data"
    },
    {
     "name": "stdout",
     "output_type": "stream",
     "text": [
      "Validation => Loss 0.9245, Acc@1 0.7780\n",
      "============\n"
     ]
    },
    {
     "data": {
      "application/vnd.jupyter.widget-view+json": {
       "model_id": "5a5925322b7c4ca5b419e2537ea22d8c",
       "version_major": 2,
       "version_minor": 0
      },
      "text/plain": [
       "  0%|          | 0/79 [00:00<?, ?it/s]"
      ]
     },
     "metadata": {},
     "output_type": "display_data"
    },
    {
     "name": "stdout",
     "output_type": "stream",
     "text": [
      "Val Perf after 2 epochs Acc@1 0.7803\n",
      "=> Caching mask state for model.0\n",
      "=> Caching mask state for model.2\n",
      "=> Caching mask state for model.4\n",
      "\n",
      "=> Setting learned tasks of model.0 to 20\n",
      "=> Setting learned tasks of model.2 to 20\n",
      "=> Setting learned tasks of model.4 to 20\n",
      "\n"
     ]
    }
   ],
   "source": [
    "for task in range(num_seed_tasks_learned, num_tasks):\n",
    "    print(f\"Training for task {task}\")\n",
    "    set_model_task(basis_model_rot, task)\n",
    "    mnist_rot.update_task(task)\n",
    "\n",
    "    optimizer = optim.RMSprop([p for p in basis_model_rot.parameters() if p.requires_grad], lr=1e-2)\n",
    "    # Train for 1 epoch\n",
    "    for e in range(2):\n",
    "        train(basis_model_rot, mnist_rot.train_loader, optimizer, e)\n",
    "        \n",
    "        print(\"Validation\")\n",
    "        print(\"============\")\n",
    "        acc1 = evaluate(basis_model_rot, mnist_rot.val_loader, e)\n",
    "        \n",
    "    \n",
    "    cache_masks(basis_model_rot)\n",
    "    print()\n",
    "    set_num_tasks_learned(basis_model_rot, task + 1)\n",
    "    print()"
   ]
  },
  {
   "cell_type": "code",
   "execution_count": 52,
   "metadata": {},
   "outputs": [
    {
     "name": "stdout",
     "output_type": "stream",
     "text": [
      "Average top 1 performance: 0.7787\n",
      "Per task performance\n",
      "Task 0: 0.7763\n",
      "Task 1: 0.7798\n",
      "Task 2: 0.7839\n",
      "Task 3: 0.7713\n",
      "Task 4: 0.7626\n",
      "Task 5: 0.7727\n",
      "Task 6: 0.7822\n",
      "Task 7: 0.7752\n",
      "Task 8: 0.7852\n",
      "Task 9: 0.7813\n",
      "Task 10: 0.7787\n",
      "Task 11: 0.7709\n",
      "Task 12: 0.7815\n",
      "Task 13: 0.7819\n",
      "Task 14: 0.7702\n",
      "Task 15: 0.7850\n",
      "Task 16: 0.7891\n",
      "Task 17: 0.7840\n",
      "Task 18: 0.7797\n",
      "Task 19: 0.7826\n"
     ]
    }
   ],
   "source": [
    "# When task ID we can simply set the mask and evaluate\n",
    "\n",
    "gg_performance = []\n",
    "for task in range(num_tasks):\n",
    "    set_model_task(basis_model_rot, task)\n",
    "    mnist_rot.update_task(task)\n",
    "    acc1 = evaluate(basis_model_rot, mnist_rot.val_loader, 0)\n",
    "    gg_performance.append(acc1.item())\n",
    "\n",
    "clear_output()\n",
    "    \n",
    "print(f\"Average top 1 performance: {(sum(gg_performance) / len(gg_performance)):.4f}\")\n",
    "\n",
    "print(\"Per task performance\")\n",
    "for t in range(num_tasks):\n",
    "    print(f\"Task {t}: {gg_performance[t]:.4f}\")"
   ]
  },
  {
   "cell_type": "code",
   "execution_count": 53,
   "metadata": {},
   "outputs": [],
   "source": [
    "performance_map['basis_mnist_rot'] = gg_performance.copy()"
   ]
  },
  {
   "cell_type": "markdown",
   "metadata": {},
   "source": [
    "## Except Final Layer"
   ]
  },
  {
   "cell_type": "markdown",
   "metadata": {},
   "source": [
    "### Model Initialization (Only New Tasks)"
   ]
  },
  {
   "cell_type": "code",
   "execution_count": 23,
   "metadata": {},
   "outputs": [],
   "source": [
    "num_tasks = 20 # For demonstration purposes, we go up to 2500 in our paper\n",
    "num_seed_tasks_learned = 15\n",
    "basis_model_hid = BasisHiddenOnlyMultitaskFC(hidden_size=300, num_tasks=num_tasks, num_seed_tasks_learned=num_seed_tasks_learned, start_at_optimal=True)"
   ]
  },
  {
   "cell_type": "code",
   "execution_count": 31,
   "metadata": {},
   "outputs": [
    {
     "data": {
      "text/plain": [
       "<All keys matched successfully>"
      ]
     },
     "execution_count": 31,
     "metadata": {},
     "output_type": "execute_result"
    }
   ],
   "source": [
    "seed_dict_hid = model.state_dict()\n",
    "basis_dict_hid = basis_model_hid.state_dict()\n",
    "load_dict_hid = {k: seed_dict_hid[k] for k in basis_model_hid.state_dict().keys() if k in seed_dict_hid.keys()}\n",
    "basis_dict_hid.update(load_dict_hid)\n",
    "basis_model_hid.load_state_dict(basis_dict_hid, False)"
   ]
  },
  {
   "cell_type": "code",
   "execution_count": 32,
   "metadata": {
    "scrolled": true
   },
   "outputs": [
    {
     "name": "stdout",
     "output_type": "stream",
     "text": [
      "Training for task 15\n",
      "=> Set task of model.0 to 15\n",
      "=> Set task of model.2 to 15\n",
      "=> Set task of model.4 to 15\n"
     ]
    },
    {
     "data": {
      "application/vnd.jupyter.widget-view+json": {
       "model_id": "",
       "version_major": 2,
       "version_minor": 0
      },
      "text/plain": [
       "  0%|          | 0/469 [00:00<?, ?it/s]"
      ]
     },
     "metadata": {},
     "output_type": "display_data"
    },
    {
     "name": "stdout",
     "output_type": "stream",
     "text": [
      "Validation => Loss 0.5508, Acc@1 0.7249\n",
      "============\n"
     ]
    },
    {
     "data": {
      "application/vnd.jupyter.widget-view+json": {
       "model_id": "",
       "version_major": 2,
       "version_minor": 0
      },
      "text/plain": [
       "  0%|          | 0/79 [00:00<?, ?it/s]"
      ]
     },
     "metadata": {},
     "output_type": "display_data"
    },
    {
     "name": "stdout",
     "output_type": "stream",
     "text": [
      "Val Perf after 1 epochs Acc@1 0.8280\n"
     ]
    },
    {
     "data": {
      "application/vnd.jupyter.widget-view+json": {
       "model_id": "",
       "version_major": 2,
       "version_minor": 0
      },
      "text/plain": [
       "  0%|          | 0/469 [00:00<?, ?it/s]"
      ]
     },
     "metadata": {},
     "output_type": "display_data"
    },
    {
     "name": "stdout",
     "output_type": "stream",
     "text": [
      "Validation => Loss 0.6937, Acc@1 0.7865\n",
      "============\n"
     ]
    },
    {
     "data": {
      "application/vnd.jupyter.widget-view+json": {
       "model_id": "",
       "version_major": 2,
       "version_minor": 0
      },
      "text/plain": [
       "  0%|          | 0/79 [00:00<?, ?it/s]"
      ]
     },
     "metadata": {},
     "output_type": "display_data"
    },
    {
     "name": "stdout",
     "output_type": "stream",
     "text": [
      "Val Perf after 2 epochs Acc@1 0.7982\n"
     ]
    },
    {
     "data": {
      "application/vnd.jupyter.widget-view+json": {
       "model_id": "",
       "version_major": 2,
       "version_minor": 0
      },
      "text/plain": [
       "  0%|          | 0/469 [00:00<?, ?it/s]"
      ]
     },
     "metadata": {},
     "output_type": "display_data"
    },
    {
     "name": "stdout",
     "output_type": "stream",
     "text": [
      "Validation => Loss 0.9618, Acc@1 0.8040\n",
      "============\n"
     ]
    },
    {
     "data": {
      "application/vnd.jupyter.widget-view+json": {
       "model_id": "",
       "version_major": 2,
       "version_minor": 0
      },
      "text/plain": [
       "  0%|          | 0/79 [00:00<?, ?it/s]"
      ]
     },
     "metadata": {},
     "output_type": "display_data"
    },
    {
     "name": "stdout",
     "output_type": "stream",
     "text": [
      "Val Perf after 3 epochs Acc@1 0.8373\n",
      "=> Caching mask state for model.0\n",
      "=> Caching mask state for model.2\n",
      "=> Caching mask state for model.4\n",
      "\n",
      "=> Setting learned tasks of model.0 to 16\n",
      "=> Setting learned tasks of model.2 to 16\n",
      "=> Setting learned tasks of model.4 to 16\n",
      "\n",
      "Training for task 16\n",
      "=> Set task of model.0 to 16\n",
      "=> Set task of model.2 to 16\n",
      "=> Set task of model.4 to 16\n"
     ]
    },
    {
     "data": {
      "application/vnd.jupyter.widget-view+json": {
       "model_id": "",
       "version_major": 2,
       "version_minor": 0
      },
      "text/plain": [
       "  0%|          | 0/469 [00:00<?, ?it/s]"
      ]
     },
     "metadata": {},
     "output_type": "display_data"
    },
    {
     "name": "stdout",
     "output_type": "stream",
     "text": [
      "Validation => Loss 0.6697, Acc@1 0.7461\n",
      "============\n"
     ]
    },
    {
     "data": {
      "application/vnd.jupyter.widget-view+json": {
       "model_id": "",
       "version_major": 2,
       "version_minor": 0
      },
      "text/plain": [
       "  0%|          | 0/79 [00:00<?, ?it/s]"
      ]
     },
     "metadata": {},
     "output_type": "display_data"
    },
    {
     "name": "stdout",
     "output_type": "stream",
     "text": [
      "Val Perf after 1 epochs Acc@1 0.7764\n"
     ]
    },
    {
     "data": {
      "application/vnd.jupyter.widget-view+json": {
       "model_id": "",
       "version_major": 2,
       "version_minor": 0
      },
      "text/plain": [
       "  0%|          | 0/469 [00:00<?, ?it/s]"
      ]
     },
     "metadata": {},
     "output_type": "display_data"
    },
    {
     "name": "stdout",
     "output_type": "stream",
     "text": [
      "Validation => Loss 0.3521, Acc@1 0.7897\n",
      "============\n"
     ]
    },
    {
     "data": {
      "application/vnd.jupyter.widget-view+json": {
       "model_id": "",
       "version_major": 2,
       "version_minor": 0
      },
      "text/plain": [
       "  0%|          | 0/79 [00:00<?, ?it/s]"
      ]
     },
     "metadata": {},
     "output_type": "display_data"
    },
    {
     "name": "stdout",
     "output_type": "stream",
     "text": [
      "Val Perf after 2 epochs Acc@1 0.7662\n"
     ]
    },
    {
     "data": {
      "application/vnd.jupyter.widget-view+json": {
       "model_id": "",
       "version_major": 2,
       "version_minor": 0
      },
      "text/plain": [
       "  0%|          | 0/469 [00:00<?, ?it/s]"
      ]
     },
     "metadata": {},
     "output_type": "display_data"
    },
    {
     "name": "stdout",
     "output_type": "stream",
     "text": [
      "Validation => Loss 0.3993, Acc@1 0.7913\n",
      "============\n"
     ]
    },
    {
     "data": {
      "application/vnd.jupyter.widget-view+json": {
       "model_id": "",
       "version_major": 2,
       "version_minor": 0
      },
      "text/plain": [
       "  0%|          | 0/79 [00:00<?, ?it/s]"
      ]
     },
     "metadata": {},
     "output_type": "display_data"
    },
    {
     "name": "stdout",
     "output_type": "stream",
     "text": [
      "Val Perf after 3 epochs Acc@1 0.8105\n",
      "=> Caching mask state for model.0\n",
      "=> Caching mask state for model.2\n",
      "=> Caching mask state for model.4\n",
      "\n",
      "=> Setting learned tasks of model.0 to 17\n",
      "=> Setting learned tasks of model.2 to 17\n",
      "=> Setting learned tasks of model.4 to 17\n",
      "\n",
      "Training for task 17\n",
      "=> Set task of model.0 to 17\n",
      "=> Set task of model.2 to 17\n",
      "=> Set task of model.4 to 17\n"
     ]
    },
    {
     "data": {
      "application/vnd.jupyter.widget-view+json": {
       "model_id": "",
       "version_major": 2,
       "version_minor": 0
      },
      "text/plain": [
       "  0%|          | 0/469 [00:00<?, ?it/s]"
      ]
     },
     "metadata": {},
     "output_type": "display_data"
    },
    {
     "name": "stdout",
     "output_type": "stream",
     "text": [
      "Validation => Loss 0.6844, Acc@1 0.7344\n",
      "============\n"
     ]
    },
    {
     "data": {
      "application/vnd.jupyter.widget-view+json": {
       "model_id": "",
       "version_major": 2,
       "version_minor": 0
      },
      "text/plain": [
       "  0%|          | 0/79 [00:00<?, ?it/s]"
      ]
     },
     "metadata": {},
     "output_type": "display_data"
    },
    {
     "name": "stdout",
     "output_type": "stream",
     "text": [
      "Val Perf after 1 epochs Acc@1 0.7880\n"
     ]
    },
    {
     "data": {
      "application/vnd.jupyter.widget-view+json": {
       "model_id": "",
       "version_major": 2,
       "version_minor": 0
      },
      "text/plain": [
       "  0%|          | 0/469 [00:00<?, ?it/s]"
      ]
     },
     "metadata": {},
     "output_type": "display_data"
    },
    {
     "name": "stdout",
     "output_type": "stream",
     "text": [
      "Validation => Loss 0.5632, Acc@1 0.7826\n",
      "============\n"
     ]
    },
    {
     "data": {
      "application/vnd.jupyter.widget-view+json": {
       "model_id": "",
       "version_major": 2,
       "version_minor": 0
      },
      "text/plain": [
       "  0%|          | 0/79 [00:00<?, ?it/s]"
      ]
     },
     "metadata": {},
     "output_type": "display_data"
    },
    {
     "name": "stdout",
     "output_type": "stream",
     "text": [
      "Val Perf after 2 epochs Acc@1 0.7987\n"
     ]
    },
    {
     "data": {
      "application/vnd.jupyter.widget-view+json": {
       "model_id": "",
       "version_major": 2,
       "version_minor": 0
      },
      "text/plain": [
       "  0%|          | 0/469 [00:00<?, ?it/s]"
      ]
     },
     "metadata": {},
     "output_type": "display_data"
    },
    {
     "name": "stdout",
     "output_type": "stream",
     "text": [
      "Validation => Loss 0.7682, Acc@1 0.7946\n",
      "============\n"
     ]
    },
    {
     "data": {
      "application/vnd.jupyter.widget-view+json": {
       "model_id": "",
       "version_major": 2,
       "version_minor": 0
      },
      "text/plain": [
       "  0%|          | 0/79 [00:00<?, ?it/s]"
      ]
     },
     "metadata": {},
     "output_type": "display_data"
    },
    {
     "name": "stdout",
     "output_type": "stream",
     "text": [
      "Val Perf after 3 epochs Acc@1 0.6822\n",
      "=> Caching mask state for model.0\n",
      "=> Caching mask state for model.2\n",
      "=> Caching mask state for model.4\n",
      "\n",
      "=> Setting learned tasks of model.0 to 18\n",
      "=> Setting learned tasks of model.2 to 18\n",
      "=> Setting learned tasks of model.4 to 18\n",
      "\n",
      "Training for task 18\n",
      "=> Set task of model.0 to 18\n",
      "=> Set task of model.2 to 18\n",
      "=> Set task of model.4 to 18\n"
     ]
    },
    {
     "data": {
      "application/vnd.jupyter.widget-view+json": {
       "model_id": "",
       "version_major": 2,
       "version_minor": 0
      },
      "text/plain": [
       "  0%|          | 0/469 [00:00<?, ?it/s]"
      ]
     },
     "metadata": {},
     "output_type": "display_data"
    },
    {
     "name": "stdout",
     "output_type": "stream",
     "text": [
      "Validation => Loss 0.8983, Acc@1 0.7393\n",
      "============\n"
     ]
    },
    {
     "data": {
      "application/vnd.jupyter.widget-view+json": {
       "model_id": "",
       "version_major": 2,
       "version_minor": 0
      },
      "text/plain": [
       "  0%|          | 0/79 [00:00<?, ?it/s]"
      ]
     },
     "metadata": {},
     "output_type": "display_data"
    },
    {
     "name": "stdout",
     "output_type": "stream",
     "text": [
      "Val Perf after 1 epochs Acc@1 0.7338\n"
     ]
    },
    {
     "data": {
      "application/vnd.jupyter.widget-view+json": {
       "model_id": "",
       "version_major": 2,
       "version_minor": 0
      },
      "text/plain": [
       "  0%|          | 0/469 [00:00<?, ?it/s]"
      ]
     },
     "metadata": {},
     "output_type": "display_data"
    },
    {
     "name": "stdout",
     "output_type": "stream",
     "text": [
      "Validation => Loss 0.3736, Acc@1 0.8141\n",
      "============\n"
     ]
    },
    {
     "data": {
      "application/vnd.jupyter.widget-view+json": {
       "model_id": "",
       "version_major": 2,
       "version_minor": 0
      },
      "text/plain": [
       "  0%|          | 0/79 [00:00<?, ?it/s]"
      ]
     },
     "metadata": {},
     "output_type": "display_data"
    },
    {
     "name": "stdout",
     "output_type": "stream",
     "text": [
      "Val Perf after 2 epochs Acc@1 0.8440\n"
     ]
    },
    {
     "data": {
      "application/vnd.jupyter.widget-view+json": {
       "model_id": "",
       "version_major": 2,
       "version_minor": 0
      },
      "text/plain": [
       "  0%|          | 0/469 [00:00<?, ?it/s]"
      ]
     },
     "metadata": {},
     "output_type": "display_data"
    },
    {
     "name": "stdout",
     "output_type": "stream",
     "text": [
      "Validation => Loss 0.5603, Acc@1 0.8151\n",
      "============\n"
     ]
    },
    {
     "data": {
      "application/vnd.jupyter.widget-view+json": {
       "model_id": "",
       "version_major": 2,
       "version_minor": 0
      },
      "text/plain": [
       "  0%|          | 0/79 [00:00<?, ?it/s]"
      ]
     },
     "metadata": {},
     "output_type": "display_data"
    },
    {
     "name": "stdout",
     "output_type": "stream",
     "text": [
      "Val Perf after 3 epochs Acc@1 0.7532\n",
      "=> Caching mask state for model.0\n",
      "=> Caching mask state for model.2\n",
      "=> Caching mask state for model.4\n",
      "\n",
      "=> Setting learned tasks of model.0 to 19\n",
      "=> Setting learned tasks of model.2 to 19\n",
      "=> Setting learned tasks of model.4 to 19\n",
      "\n",
      "Training for task 19\n",
      "=> Set task of model.0 to 19\n",
      "=> Set task of model.2 to 19\n",
      "=> Set task of model.4 to 19\n"
     ]
    },
    {
     "data": {
      "application/vnd.jupyter.widget-view+json": {
       "model_id": "",
       "version_major": 2,
       "version_minor": 0
      },
      "text/plain": [
       "  0%|          | 0/469 [00:00<?, ?it/s]"
      ]
     },
     "metadata": {},
     "output_type": "display_data"
    },
    {
     "name": "stdout",
     "output_type": "stream",
     "text": [
      "Validation => Loss 0.5874, Acc@1 0.7490\n",
      "============\n"
     ]
    },
    {
     "data": {
      "application/vnd.jupyter.widget-view+json": {
       "model_id": "",
       "version_major": 2,
       "version_minor": 0
      },
      "text/plain": [
       "  0%|          | 0/79 [00:00<?, ?it/s]"
      ]
     },
     "metadata": {},
     "output_type": "display_data"
    },
    {
     "name": "stdout",
     "output_type": "stream",
     "text": [
      "Val Perf after 1 epochs Acc@1 0.8040\n"
     ]
    },
    {
     "data": {
      "application/vnd.jupyter.widget-view+json": {
       "model_id": "",
       "version_major": 2,
       "version_minor": 0
      },
      "text/plain": [
       "  0%|          | 0/469 [00:00<?, ?it/s]"
      ]
     },
     "metadata": {},
     "output_type": "display_data"
    },
    {
     "name": "stdout",
     "output_type": "stream",
     "text": [
      "Validation => Loss 0.4111, Acc@1 0.8105\n",
      "============\n"
     ]
    },
    {
     "data": {
      "application/vnd.jupyter.widget-view+json": {
       "model_id": "",
       "version_major": 2,
       "version_minor": 0
      },
      "text/plain": [
       "  0%|          | 0/79 [00:00<?, ?it/s]"
      ]
     },
     "metadata": {},
     "output_type": "display_data"
    },
    {
     "name": "stdout",
     "output_type": "stream",
     "text": [
      "Val Perf after 2 epochs Acc@1 0.8084\n"
     ]
    },
    {
     "data": {
      "application/vnd.jupyter.widget-view+json": {
       "model_id": "",
       "version_major": 2,
       "version_minor": 0
      },
      "text/plain": [
       "  0%|          | 0/469 [00:00<?, ?it/s]"
      ]
     },
     "metadata": {},
     "output_type": "display_data"
    },
    {
     "name": "stdout",
     "output_type": "stream",
     "text": [
      "Validation => Loss 0.4368, Acc@1 0.8057\n",
      "============\n"
     ]
    },
    {
     "data": {
      "application/vnd.jupyter.widget-view+json": {
       "model_id": "",
       "version_major": 2,
       "version_minor": 0
      },
      "text/plain": [
       "  0%|          | 0/79 [00:00<?, ?it/s]"
      ]
     },
     "metadata": {},
     "output_type": "display_data"
    },
    {
     "name": "stdout",
     "output_type": "stream",
     "text": [
      "Val Perf after 3 epochs Acc@1 0.8224\n",
      "=> Caching mask state for model.0\n",
      "=> Caching mask state for model.2\n",
      "=> Caching mask state for model.4\n",
      "\n",
      "=> Setting learned tasks of model.0 to 20\n",
      "=> Setting learned tasks of model.2 to 20\n",
      "=> Setting learned tasks of model.4 to 20\n",
      "\n"
     ]
    }
   ],
   "source": [
    "for task in range(num_seed_tasks_learned, num_tasks):\n",
    "    print(f\"Training for task {task}\")\n",
    "    set_model_task(basis_model_hid, task)\n",
    "    mnist.update_task(task)\n",
    "\n",
    "    optimizer = optim.RMSprop([p for p in basis_model_hid.parameters() if p.requires_grad], lr=1e-2)\n",
    "    # Train for 1 epoch\n",
    "    for e in range(3):\n",
    "        train(basis_model_hid, mnist.train_loader, optimizer, e)\n",
    "        \n",
    "        print(\"Validation\")\n",
    "        print(\"============\")\n",
    "        acc1 = evaluate(basis_model_hid, mnist.val_loader, e)\n",
    "        \n",
    "    \n",
    "    cache_masks(basis_model_hid)\n",
    "    print()\n",
    "    set_num_tasks_learned(basis_model_hid, task + 1)\n",
    "    print()"
   ]
  },
  {
   "cell_type": "code",
   "execution_count": 54,
   "metadata": {},
   "outputs": [
    {
     "name": "stdout",
     "output_type": "stream",
     "text": [
      "Average top 1 performance: 0.8890\n",
      "Per task performance\n",
      "Task 0: 0.9234\n",
      "Task 1: 0.9254\n",
      "Task 2: 0.9223\n",
      "Task 3: 0.9260\n",
      "Task 4: 0.9264\n",
      "Task 5: 0.9265\n",
      "Task 6: 0.9229\n",
      "Task 7: 0.9229\n",
      "Task 8: 0.9252\n",
      "Task 9: 0.9261\n",
      "Task 10: 0.9285\n",
      "Task 11: 0.9251\n",
      "Task 12: 0.9244\n",
      "Task 13: 0.9230\n",
      "Task 14: 0.9257\n",
      "Task 15: 0.8373\n",
      "Task 16: 0.8105\n",
      "Task 17: 0.6822\n",
      "Task 18: 0.7532\n",
      "Task 19: 0.8224\n"
     ]
    }
   ],
   "source": [
    "# When task ID we can simply set the mask and evaluate\n",
    "\n",
    "gg_performance = []\n",
    "for task in range(num_tasks):\n",
    "    set_model_task(basis_model_hid, task)\n",
    "    mnist.update_task(task)\n",
    "    acc1 = evaluate(basis_model_hid, mnist.val_loader, 0)\n",
    "    gg_performance.append(acc1.item())\n",
    "\n",
    "clear_output()\n",
    "    \n",
    "print(f\"Average top 1 performance: {(sum(gg_performance) / len(gg_performance)):.4f}\")\n",
    "\n",
    "print(\"Per task performance\")\n",
    "for t in range(num_tasks):\n",
    "    print(f\"Task {t}: {gg_performance[t]:.4f}\")"
   ]
  },
  {
   "cell_type": "code",
   "execution_count": 55,
   "metadata": {},
   "outputs": [],
   "source": [
    "performance_map['basis_hybrid_mnist'] = gg_performance.copy()"
   ]
  },
  {
   "cell_type": "markdown",
   "metadata": {},
   "source": [
    "### Model Initialization (Only New Tasks) Sparsity Enabled"
   ]
  },
  {
   "cell_type": "code",
   "execution_count": null,
   "metadata": {},
   "outputs": [],
   "source": [
    "num_tasks = 20 # For demonstration purposes, we go up to 2500 in our paper\n",
    "num_seed_tasks_learned = 15\n",
    "basis_model_hids = BasisHiddenOnlySparseMultitaskFC(hidden_size=300, num_tasks=num_tasks, num_seed_tasks_learned=num_seed_tasks_learned, start_at_optimal=True, sparsity=0.25)"
   ]
  },
  {
   "cell_type": "code",
   "execution_count": null,
   "metadata": {},
   "outputs": [],
   "source": [
    "seed_dict_hid = models.state_dict()\n",
    "basis_dict_hid = basis_model_hids.state_dict()\n",
    "load_dict_hid = {k: seed_dict_hid[k] for k in basis_model_hids.state_dict().keys() if k in seed_dict_hid.keys()}\n",
    "basis_dict_hid.update(load_dict_hid)\n",
    "basis_model_hids.load_state_dict(basis_dict_hid, False)"
   ]
  },
  {
   "cell_type": "code",
   "execution_count": null,
   "metadata": {
    "scrolled": true
   },
   "outputs": [],
   "source": [
    "for task in range(num_seed_tasks_learned, num_tasks):\n",
    "    print(f\"Training for task {task}\")\n",
    "    set_model_task(basis_model_hids, task)\n",
    "    mnist.update_task(task)\n",
    "\n",
    "    optimizer = optim.RMSprop([p for p in basis_model_hids.parameters() if p.requires_grad], lr=1e-2)\n",
    "    # Train for 1 epoch\n",
    "    for e in range(2):\n",
    "        train(basis_model_hids, mnist.train_loader, optimizer, e)\n",
    "        \n",
    "        print(\"Validation\")\n",
    "        print(\"============\")\n",
    "        acc1 = evaluate(basis_model_hids, mnist.val_loader, e)\n",
    "        \n",
    "    \n",
    "    cache_masks(basis_model_hids)\n",
    "    print()\n",
    "    set_num_tasks_learned(basis_model_hids, task + 1)\n",
    "    print()"
   ]
  },
  {
   "cell_type": "code",
   "execution_count": null,
   "metadata": {},
   "outputs": [],
   "source": [
    "# When task ID we can simply set the mask and evaluate\n",
    "\n",
    "gg_performance = []\n",
    "for task in range(num_tasks):\n",
    "    set_model_task(basis_model_hids, task)\n",
    "    mnist.update_task(task)\n",
    "    acc1 = evaluate(basis_model_hids, mnist.val_loader, 0)\n",
    "    gg_performance.append(acc1.item())\n",
    "\n",
    "clear_output()\n",
    "    \n",
    "print(f\"Average top 1 performance: {(sum(gg_performance) / len(gg_performance)):.4f}\")\n",
    "\n",
    "print(\"Per task performance\")\n",
    "for t in range(num_tasks):\n",
    "    print(f\"Task {t}: {gg_performance[t]:.4f}\")"
   ]
  },
  {
   "cell_type": "code",
   "execution_count": null,
   "metadata": {},
   "outputs": [],
   "source": [
    "performance_map['basis_hybrid_mnist_sparsity_25'] = gg_performance.copy()"
   ]
  },
  {
   "cell_type": "markdown",
   "metadata": {},
   "source": [
    "### Model Initialization (Only New Tasks, Rotation MNIST)"
   ]
  },
  {
   "cell_type": "code",
   "execution_count": 34,
   "metadata": {},
   "outputs": [],
   "source": [
    "num_tasks = 20 # For demonstration purposes, we go up to 2500 in our paper\n",
    "num_seed_tasks_learned = 15\n",
    "basis_model_roth = BasisHiddenOnlyMultitaskFC(hidden_size=300, num_tasks=num_tasks, num_seed_tasks_learned=num_seed_tasks_learned, start_at_optimal=True)"
   ]
  },
  {
   "cell_type": "code",
   "execution_count": 35,
   "metadata": {},
   "outputs": [
    {
     "data": {
      "text/plain": [
       "<All keys matched successfully>"
      ]
     },
     "execution_count": 35,
     "metadata": {},
     "output_type": "execute_result"
    }
   ],
   "source": [
    "seed_dictr = model_rot.state_dict()\n",
    "basis_dictrh = basis_model_roth.state_dict()\n",
    "load_dictrh = {k: seed_dictr[k] for k in basis_model_roth.state_dict().keys() if k in seed_dictr.keys()}\n",
    "basis_dictrh.update(load_dictrh)\n",
    "basis_model_roth.load_state_dict(basis_dictrh, False)"
   ]
  },
  {
   "cell_type": "code",
   "execution_count": 36,
   "metadata": {
    "scrolled": true
   },
   "outputs": [
    {
     "name": "stdout",
     "output_type": "stream",
     "text": [
      "Training for task 15\n",
      "=> Set task of model.0 to 15\n",
      "=> Set task of model.2 to 15\n",
      "=> Set task of model.4 to 15\n"
     ]
    },
    {
     "data": {
      "application/vnd.jupyter.widget-view+json": {
       "model_id": "208c0d9c85594cc5bf8f5021147defce",
       "version_major": 2,
       "version_minor": 0
      },
      "text/plain": [
       "  0%|          | 0/469 [00:00<?, ?it/s]"
      ]
     },
     "metadata": {},
     "output_type": "display_data"
    },
    {
     "name": "stdout",
     "output_type": "stream",
     "text": [
      "Validation => Loss 0.9669, Acc@1 0.6243\n",
      "============\n"
     ]
    },
    {
     "data": {
      "application/vnd.jupyter.widget-view+json": {
       "model_id": "34b2f3de914549028f8fee48ca82a78d",
       "version_major": 2,
       "version_minor": 0
      },
      "text/plain": [
       "  0%|          | 0/79 [00:00<?, ?it/s]"
      ]
     },
     "metadata": {},
     "output_type": "display_data"
    },
    {
     "name": "stdout",
     "output_type": "stream",
     "text": [
      "Val Perf after 1 epochs Acc@1 0.7220\n"
     ]
    },
    {
     "data": {
      "application/vnd.jupyter.widget-view+json": {
       "model_id": "8bc8d4558d824e09a6d258262b050783",
       "version_major": 2,
       "version_minor": 0
      },
      "text/plain": [
       "  0%|          | 0/469 [00:00<?, ?it/s]"
      ]
     },
     "metadata": {},
     "output_type": "display_data"
    },
    {
     "name": "stdout",
     "output_type": "stream",
     "text": [
      "Validation => Loss 0.6509, Acc@1 0.7373\n",
      "============\n"
     ]
    },
    {
     "data": {
      "application/vnd.jupyter.widget-view+json": {
       "model_id": "114c8619ff5e462fb80210cef397e7fd",
       "version_major": 2,
       "version_minor": 0
      },
      "text/plain": [
       "  0%|          | 0/79 [00:00<?, ?it/s]"
      ]
     },
     "metadata": {},
     "output_type": "display_data"
    },
    {
     "name": "stdout",
     "output_type": "stream",
     "text": [
      "Val Perf after 2 epochs Acc@1 0.7681\n"
     ]
    },
    {
     "data": {
      "application/vnd.jupyter.widget-view+json": {
       "model_id": "bc1ea07ec03a4ce3ba5f40183d80419a",
       "version_major": 2,
       "version_minor": 0
      },
      "text/plain": [
       "  0%|          | 0/469 [00:00<?, ?it/s]"
      ]
     },
     "metadata": {},
     "output_type": "display_data"
    },
    {
     "name": "stdout",
     "output_type": "stream",
     "text": [
      "Validation => Loss 0.8128, Acc@1 0.7354\n",
      "============\n"
     ]
    },
    {
     "data": {
      "application/vnd.jupyter.widget-view+json": {
       "model_id": "3db35ef542764fbfab99d709dbf8efb3",
       "version_major": 2,
       "version_minor": 0
      },
      "text/plain": [
       "  0%|          | 0/79 [00:00<?, ?it/s]"
      ]
     },
     "metadata": {},
     "output_type": "display_data"
    },
    {
     "name": "stdout",
     "output_type": "stream",
     "text": [
      "Val Perf after 3 epochs Acc@1 0.7053\n",
      "=> Caching mask state for model.0\n",
      "=> Caching mask state for model.2\n",
      "=> Caching mask state for model.4\n",
      "\n",
      "=> Setting learned tasks of model.0 to 16\n",
      "=> Setting learned tasks of model.2 to 16\n",
      "=> Setting learned tasks of model.4 to 16\n",
      "\n",
      "Training for task 16\n",
      "=> Set task of model.0 to 16\n",
      "=> Set task of model.2 to 16\n",
      "=> Set task of model.4 to 16\n"
     ]
    },
    {
     "data": {
      "application/vnd.jupyter.widget-view+json": {
       "model_id": "56917e5d89374cd08ce11c177d4a7d85",
       "version_major": 2,
       "version_minor": 0
      },
      "text/plain": [
       "  0%|          | 0/469 [00:00<?, ?it/s]"
      ]
     },
     "metadata": {},
     "output_type": "display_data"
    },
    {
     "name": "stdout",
     "output_type": "stream",
     "text": [
      "Validation => Loss 1.2530, Acc@1 0.5521\n",
      "============\n"
     ]
    },
    {
     "data": {
      "application/vnd.jupyter.widget-view+json": {
       "model_id": "c9d27197ff4e4b08be5731ad3622dd3b",
       "version_major": 2,
       "version_minor": 0
      },
      "text/plain": [
       "  0%|          | 0/79 [00:00<?, ?it/s]"
      ]
     },
     "metadata": {},
     "output_type": "display_data"
    },
    {
     "name": "stdout",
     "output_type": "stream",
     "text": [
      "Val Perf after 1 epochs Acc@1 0.6004\n"
     ]
    },
    {
     "data": {
      "application/vnd.jupyter.widget-view+json": {
       "model_id": "ea15080cfa074782be7d8bbeef6a69b2",
       "version_major": 2,
       "version_minor": 0
      },
      "text/plain": [
       "  0%|          | 0/469 [00:00<?, ?it/s]"
      ]
     },
     "metadata": {},
     "output_type": "display_data"
    },
    {
     "name": "stdout",
     "output_type": "stream",
     "text": [
      "Validation => Loss 1.3314, Acc@1 0.5824\n",
      "============\n"
     ]
    },
    {
     "data": {
      "application/vnd.jupyter.widget-view+json": {
       "model_id": "7c9725527296451784cef64524711e3b",
       "version_major": 2,
       "version_minor": 0
      },
      "text/plain": [
       "  0%|          | 0/79 [00:00<?, ?it/s]"
      ]
     },
     "metadata": {},
     "output_type": "display_data"
    },
    {
     "name": "stdout",
     "output_type": "stream",
     "text": [
      "Val Perf after 2 epochs Acc@1 0.6237\n"
     ]
    },
    {
     "data": {
      "application/vnd.jupyter.widget-view+json": {
       "model_id": "f77a8a1f73c44c0c80b211f635adf4c8",
       "version_major": 2,
       "version_minor": 0
      },
      "text/plain": [
       "  0%|          | 0/469 [00:00<?, ?it/s]"
      ]
     },
     "metadata": {},
     "output_type": "display_data"
    },
    {
     "name": "stdout",
     "output_type": "stream",
     "text": [
      "Validation => Loss 1.1173, Acc@1 0.5941\n",
      "============\n"
     ]
    },
    {
     "data": {
      "application/vnd.jupyter.widget-view+json": {
       "model_id": "c640c7920f9c48fe872118c50bc50440",
       "version_major": 2,
       "version_minor": 0
      },
      "text/plain": [
       "  0%|          | 0/79 [00:00<?, ?it/s]"
      ]
     },
     "metadata": {},
     "output_type": "display_data"
    },
    {
     "name": "stdout",
     "output_type": "stream",
     "text": [
      "Val Perf after 3 epochs Acc@1 0.6187\n",
      "=> Caching mask state for model.0\n",
      "=> Caching mask state for model.2\n",
      "=> Caching mask state for model.4\n",
      "\n",
      "=> Setting learned tasks of model.0 to 17\n",
      "=> Setting learned tasks of model.2 to 17\n",
      "=> Setting learned tasks of model.4 to 17\n",
      "\n",
      "Training for task 17\n",
      "=> Set task of model.0 to 17\n",
      "=> Set task of model.2 to 17\n",
      "=> Set task of model.4 to 17\n"
     ]
    },
    {
     "data": {
      "application/vnd.jupyter.widget-view+json": {
       "model_id": "a592ec2d48f04f759ecdad223b0ec734",
       "version_major": 2,
       "version_minor": 0
      },
      "text/plain": [
       "  0%|          | 0/469 [00:00<?, ?it/s]"
      ]
     },
     "metadata": {},
     "output_type": "display_data"
    },
    {
     "name": "stdout",
     "output_type": "stream",
     "text": [
      "Validation => Loss 0.8844, Acc@1 0.6224\n",
      "============\n"
     ]
    },
    {
     "data": {
      "application/vnd.jupyter.widget-view+json": {
       "model_id": "f14cf8a327bd41c38afe773fc069a8f4",
       "version_major": 2,
       "version_minor": 0
      },
      "text/plain": [
       "  0%|          | 0/79 [00:00<?, ?it/s]"
      ]
     },
     "metadata": {},
     "output_type": "display_data"
    },
    {
     "name": "stdout",
     "output_type": "stream",
     "text": [
      "Val Perf after 1 epochs Acc@1 0.7086\n"
     ]
    },
    {
     "data": {
      "application/vnd.jupyter.widget-view+json": {
       "model_id": "0249a409faf7433baffc40bf9491a6c9",
       "version_major": 2,
       "version_minor": 0
      },
      "text/plain": [
       "  0%|          | 0/469 [00:00<?, ?it/s]"
      ]
     },
     "metadata": {},
     "output_type": "display_data"
    },
    {
     "name": "stdout",
     "output_type": "stream",
     "text": [
      "Validation => Loss 0.8941, Acc@1 0.7253\n",
      "============\n"
     ]
    },
    {
     "data": {
      "application/vnd.jupyter.widget-view+json": {
       "model_id": "7daf79688f584ba489028b1fd2a4038d",
       "version_major": 2,
       "version_minor": 0
      },
      "text/plain": [
       "  0%|          | 0/79 [00:00<?, ?it/s]"
      ]
     },
     "metadata": {},
     "output_type": "display_data"
    },
    {
     "name": "stdout",
     "output_type": "stream",
     "text": [
      "Val Perf after 2 epochs Acc@1 0.7281\n"
     ]
    },
    {
     "data": {
      "application/vnd.jupyter.widget-view+json": {
       "model_id": "1f7525e44ec44fc8bc0a9fb01e301303",
       "version_major": 2,
       "version_minor": 0
      },
      "text/plain": [
       "  0%|          | 0/469 [00:00<?, ?it/s]"
      ]
     },
     "metadata": {},
     "output_type": "display_data"
    },
    {
     "name": "stdout",
     "output_type": "stream",
     "text": [
      "Validation => Loss 0.6960, Acc@1 0.7539\n",
      "============\n"
     ]
    },
    {
     "data": {
      "application/vnd.jupyter.widget-view+json": {
       "model_id": "972ac1d0a95b4b1dbded724291d7ad2b",
       "version_major": 2,
       "version_minor": 0
      },
      "text/plain": [
       "  0%|          | 0/79 [00:00<?, ?it/s]"
      ]
     },
     "metadata": {},
     "output_type": "display_data"
    },
    {
     "name": "stdout",
     "output_type": "stream",
     "text": [
      "Val Perf after 3 epochs Acc@1 0.7911\n",
      "=> Caching mask state for model.0\n",
      "=> Caching mask state for model.2\n",
      "=> Caching mask state for model.4\n",
      "\n",
      "=> Setting learned tasks of model.0 to 18\n",
      "=> Setting learned tasks of model.2 to 18\n",
      "=> Setting learned tasks of model.4 to 18\n",
      "\n",
      "Training for task 18\n",
      "=> Set task of model.0 to 18\n",
      "=> Set task of model.2 to 18\n",
      "=> Set task of model.4 to 18\n"
     ]
    },
    {
     "data": {
      "application/vnd.jupyter.widget-view+json": {
       "model_id": "9fd5438c7be44250a2bb3cec8c7007e1",
       "version_major": 2,
       "version_minor": 0
      },
      "text/plain": [
       "  0%|          | 0/469 [00:00<?, ?it/s]"
      ]
     },
     "metadata": {},
     "output_type": "display_data"
    },
    {
     "name": "stdout",
     "output_type": "stream",
     "text": [
      "Validation => Loss 0.9723, Acc@1 0.6325\n",
      "============\n"
     ]
    },
    {
     "data": {
      "application/vnd.jupyter.widget-view+json": {
       "model_id": "46c778aa909343f294ba3e1960adfa74",
       "version_major": 2,
       "version_minor": 0
      },
      "text/plain": [
       "  0%|          | 0/79 [00:00<?, ?it/s]"
      ]
     },
     "metadata": {},
     "output_type": "display_data"
    },
    {
     "name": "stdout",
     "output_type": "stream",
     "text": [
      "Val Perf after 1 epochs Acc@1 0.7080\n"
     ]
    },
    {
     "data": {
      "application/vnd.jupyter.widget-view+json": {
       "model_id": "dc1c98c152c8479a9848b6dedeb31244",
       "version_major": 2,
       "version_minor": 0
      },
      "text/plain": [
       "  0%|          | 0/469 [00:00<?, ?it/s]"
      ]
     },
     "metadata": {},
     "output_type": "display_data"
    },
    {
     "name": "stdout",
     "output_type": "stream",
     "text": [
      "Validation => Loss 0.7660, Acc@1 0.7249\n",
      "============\n"
     ]
    },
    {
     "data": {
      "application/vnd.jupyter.widget-view+json": {
       "model_id": "8e5a8b75fca245c68212808192229f99",
       "version_major": 2,
       "version_minor": 0
      },
      "text/plain": [
       "  0%|          | 0/79 [00:00<?, ?it/s]"
      ]
     },
     "metadata": {},
     "output_type": "display_data"
    },
    {
     "name": "stdout",
     "output_type": "stream",
     "text": [
      "Val Perf after 2 epochs Acc@1 0.7450\n"
     ]
    },
    {
     "data": {
      "application/vnd.jupyter.widget-view+json": {
       "model_id": "1fbf7ef8ef1540959bda8580afec7ba1",
       "version_major": 2,
       "version_minor": 0
      },
      "text/plain": [
       "  0%|          | 0/469 [00:00<?, ?it/s]"
      ]
     },
     "metadata": {},
     "output_type": "display_data"
    },
    {
     "name": "stdout",
     "output_type": "stream",
     "text": [
      "Validation => Loss 0.8134, Acc@1 0.7503\n",
      "============\n"
     ]
    },
    {
     "data": {
      "application/vnd.jupyter.widget-view+json": {
       "model_id": "61fcf2e8e8c34816a5557445aa322e94",
       "version_major": 2,
       "version_minor": 0
      },
      "text/plain": [
       "  0%|          | 0/79 [00:00<?, ?it/s]"
      ]
     },
     "metadata": {},
     "output_type": "display_data"
    },
    {
     "name": "stdout",
     "output_type": "stream",
     "text": [
      "Val Perf after 3 epochs Acc@1 0.7776\n",
      "=> Caching mask state for model.0\n",
      "=> Caching mask state for model.2\n",
      "=> Caching mask state for model.4\n",
      "\n",
      "=> Setting learned tasks of model.0 to 19\n",
      "=> Setting learned tasks of model.2 to 19\n",
      "=> Setting learned tasks of model.4 to 19\n",
      "\n",
      "Training for task 19\n",
      "=> Set task of model.0 to 19\n",
      "=> Set task of model.2 to 19\n",
      "=> Set task of model.4 to 19\n"
     ]
    },
    {
     "data": {
      "application/vnd.jupyter.widget-view+json": {
       "model_id": "61abea9afed44877840fe05ac1a1b7c8",
       "version_major": 2,
       "version_minor": 0
      },
      "text/plain": [
       "  0%|          | 0/469 [00:00<?, ?it/s]"
      ]
     },
     "metadata": {},
     "output_type": "display_data"
    },
    {
     "name": "stdout",
     "output_type": "stream",
     "text": [
      "Validation => Loss 0.8865, Acc@1 0.6276\n",
      "============\n"
     ]
    },
    {
     "data": {
      "application/vnd.jupyter.widget-view+json": {
       "model_id": "b28f25be2f8a42bb86ede90807e56254",
       "version_major": 2,
       "version_minor": 0
      },
      "text/plain": [
       "  0%|          | 0/79 [00:00<?, ?it/s]"
      ]
     },
     "metadata": {},
     "output_type": "display_data"
    },
    {
     "name": "stdout",
     "output_type": "stream",
     "text": [
      "Val Perf after 1 epochs Acc@1 0.7057\n"
     ]
    },
    {
     "data": {
      "application/vnd.jupyter.widget-view+json": {
       "model_id": "d639a68a82ef4a4fb50348f4c635cd15",
       "version_major": 2,
       "version_minor": 0
      },
      "text/plain": [
       "  0%|          | 0/469 [00:00<?, ?it/s]"
      ]
     },
     "metadata": {},
     "output_type": "display_data"
    },
    {
     "name": "stdout",
     "output_type": "stream",
     "text": [
      "Validation => Loss 1.0621, Acc@1 0.7334\n",
      "============\n"
     ]
    },
    {
     "data": {
      "application/vnd.jupyter.widget-view+json": {
       "model_id": "9c477ec9fc1947fd818c35ae5341e041",
       "version_major": 2,
       "version_minor": 0
      },
      "text/plain": [
       "  0%|          | 0/79 [00:00<?, ?it/s]"
      ]
     },
     "metadata": {},
     "output_type": "display_data"
    },
    {
     "name": "stdout",
     "output_type": "stream",
     "text": [
      "Val Perf after 2 epochs Acc@1 0.7375\n"
     ]
    },
    {
     "data": {
      "application/vnd.jupyter.widget-view+json": {
       "model_id": "1f6ea469e51f4c159701261c68479967",
       "version_major": 2,
       "version_minor": 0
      },
      "text/plain": [
       "  0%|          | 0/469 [00:00<?, ?it/s]"
      ]
     },
     "metadata": {},
     "output_type": "display_data"
    },
    {
     "name": "stdout",
     "output_type": "stream",
     "text": [
      "Validation => Loss 0.7026, Acc@1 0.7480\n",
      "============\n"
     ]
    },
    {
     "data": {
      "application/vnd.jupyter.widget-view+json": {
       "model_id": "0800dbb2e5c7437ca750f972674e2622",
       "version_major": 2,
       "version_minor": 0
      },
      "text/plain": [
       "  0%|          | 0/79 [00:00<?, ?it/s]"
      ]
     },
     "metadata": {},
     "output_type": "display_data"
    },
    {
     "name": "stdout",
     "output_type": "stream",
     "text": [
      "Val Perf after 3 epochs Acc@1 0.7773\n",
      "=> Caching mask state for model.0\n",
      "=> Caching mask state for model.2\n",
      "=> Caching mask state for model.4\n",
      "\n",
      "=> Setting learned tasks of model.0 to 20\n",
      "=> Setting learned tasks of model.2 to 20\n",
      "=> Setting learned tasks of model.4 to 20\n",
      "\n"
     ]
    }
   ],
   "source": [
    "for task in range(num_seed_tasks_learned, num_tasks):\n",
    "    print(f\"Training for task {task}\")\n",
    "    set_model_task(basis_model_roth, task)\n",
    "    mnist_rot.update_task(task)\n",
    "\n",
    "    optimizer = optim.RMSprop([p for p in basis_model_roth.parameters() if p.requires_grad], lr=1e-2)\n",
    "    # Train for 1 epoch\n",
    "    for e in range(3):\n",
    "        train(basis_model_roth, mnist_rot.train_loader, optimizer, e)\n",
    "        \n",
    "        print(\"Validation\")\n",
    "        print(\"============\")\n",
    "        acc1 = evaluate(basis_model_roth, mnist_rot.val_loader, e)\n",
    "        \n",
    "    \n",
    "    cache_masks(basis_model_roth)\n",
    "    print()\n",
    "    set_num_tasks_learned(basis_model_roth, task + 1)\n",
    "    print()"
   ]
  },
  {
   "cell_type": "code",
   "execution_count": 56,
   "metadata": {},
   "outputs": [
    {
     "name": "stdout",
     "output_type": "stream",
     "text": [
      "Average top 1 performance: 0.7666\n",
      "Per task performance\n",
      "Task 0: 0.7763\n",
      "Task 1: 0.7798\n",
      "Task 2: 0.7839\n",
      "Task 3: 0.7713\n",
      "Task 4: 0.7626\n",
      "Task 5: 0.7727\n",
      "Task 6: 0.7822\n",
      "Task 7: 0.7752\n",
      "Task 8: 0.7852\n",
      "Task 9: 0.7813\n",
      "Task 10: 0.7787\n",
      "Task 11: 0.7709\n",
      "Task 12: 0.7815\n",
      "Task 13: 0.7819\n",
      "Task 14: 0.7702\n",
      "Task 15: 0.7137\n",
      "Task 16: 0.6178\n",
      "Task 17: 0.7893\n",
      "Task 18: 0.7755\n",
      "Task 19: 0.7817\n"
     ]
    }
   ],
   "source": [
    "# When task ID we can simply set the mask and evaluate\n",
    "\n",
    "gg_performance = []\n",
    "for task in range(num_tasks):\n",
    "    set_model_task(basis_model_roth, task)\n",
    "    mnist_rot.update_task(task)\n",
    "    acc1 = evaluate(basis_model_roth, mnist_rot.val_loader, 0)\n",
    "    gg_performance.append(acc1.item())\n",
    "\n",
    "clear_output()\n",
    "    \n",
    "print(f\"Average top 1 performance: {(sum(gg_performance) / len(gg_performance)):.4f}\")\n",
    "\n",
    "print(\"Per task performance\")\n",
    "for t in range(num_tasks):\n",
    "    print(f\"Task {t}: {gg_performance[t]:.4f}\")"
   ]
  },
  {
   "cell_type": "code",
   "execution_count": 99,
   "metadata": {},
   "outputs": [
    {
     "name": "stdout",
     "output_type": "stream",
     "text": [
      "Average top 1 performance: 0.7735\n",
      "Per task performance\n",
      "Task 0: 0.7763\n",
      "Task 1: 0.7721\n",
      "Task 2: 0.7753\n",
      "Task 3: 0.7746\n",
      "Task 4: 0.7747\n",
      "Task 5: 0.7800\n",
      "Task 6: 0.7710\n",
      "Task 7: 0.7736\n",
      "Task 8: 0.7742\n",
      "Task 9: 0.7769\n",
      "Task 10: 0.7759\n",
      "Task 11: 0.7715\n",
      "Task 12: 0.7743\n",
      "Task 13: 0.7758\n",
      "Task 14: 0.7643\n",
      "Task 15: 0.7711\n",
      "Task 16: 0.7736\n",
      "Task 17: 0.7706\n",
      "Task 18: 0.7710\n",
      "Task 19: 0.7732\n"
     ]
    }
   ],
   "source": [
    "# When task ID we can simply set the mask and evaluate\n",
    "\n",
    "gg_performance = []\n",
    "for task in range(num_tasks):\n",
    "    set_model_task(basis_model_roth, 0)\n",
    "    mnist_rot.update_task(task)\n",
    "    acc1 = evaluate(basis_model_roth, mnist_rot.val_loader, 0)\n",
    "    gg_performance.append(acc1.item())\n",
    "\n",
    "clear_output()\n",
    "    \n",
    "print(f\"Average top 1 performance: {(sum(gg_performance) / len(gg_performance)):.4f}\")\n",
    "\n",
    "print(\"Per task performance\")\n",
    "for t in range(num_tasks):\n",
    "    print(f\"Task {t}: {gg_performance[t]:.4f}\")"
   ]
  },
  {
   "cell_type": "code",
   "execution_count": 57,
   "metadata": {},
   "outputs": [],
   "source": [
    "performance_map['basis_hybrid_mnist_rot'] = gg_performance.copy()"
   ]
  },
  {
   "cell_type": "code",
   "execution_count": 67,
   "metadata": {},
   "outputs": [],
   "source": [
    "import pandas as pd\n",
    "import matplotlib.pyplot as plt\n",
    "\n",
    "%matplotlib inline"
   ]
  },
  {
   "cell_type": "code",
   "execution_count": 68,
   "metadata": {},
   "outputs": [],
   "source": [
    "df = pd.DataFrame(performance_map)"
   ]
  },
  {
   "cell_type": "code",
   "execution_count": 79,
   "metadata": {},
   "outputs": [],
   "source": [
    "df.loc[:14, 'Seen'] = True\n",
    "df.loc[15:, 'Seen'] = False"
   ]
  },
  {
   "cell_type": "code",
   "execution_count": 80,
   "metadata": {},
   "outputs": [],
   "source": [
    "df = df.drop(['Seed'], axis=1)"
   ]
  },
  {
   "cell_type": "code",
   "execution_count": 97,
   "metadata": {},
   "outputs": [
    {
     "data": {
      "text/html": [
       "<style  type=\"text/css\" >\n",
       "    #T_c9dbcc5c_a616_11eb_b07c_8c8590bf39c4row0_col0 {\n",
       "            background-color:  #fff7fb;\n",
       "            color:  #000000;\n",
       "        }    #T_c9dbcc5c_a616_11eb_b07c_8c8590bf39c4row0_col1 {\n",
       "            background-color:  #fff7fb;\n",
       "            color:  #000000;\n",
       "        }    #T_c9dbcc5c_a616_11eb_b07c_8c8590bf39c4row0_col2 {\n",
       "            background-color:  #fff7fb;\n",
       "            color:  #000000;\n",
       "        }    #T_c9dbcc5c_a616_11eb_b07c_8c8590bf39c4row1_col0 {\n",
       "            background-color:  #fff7fb;\n",
       "            color:  #000000;\n",
       "        }    #T_c9dbcc5c_a616_11eb_b07c_8c8590bf39c4row1_col1 {\n",
       "            background-color:  #fff7fb;\n",
       "            color:  #000000;\n",
       "        }    #T_c9dbcc5c_a616_11eb_b07c_8c8590bf39c4row1_col2 {\n",
       "            background-color:  #fff7fb;\n",
       "            color:  #000000;\n",
       "        }    #T_c9dbcc5c_a616_11eb_b07c_8c8590bf39c4row2_col0 {\n",
       "            background-color:  #fff7fb;\n",
       "            color:  #000000;\n",
       "        }    #T_c9dbcc5c_a616_11eb_b07c_8c8590bf39c4row2_col1 {\n",
       "            background-color:  #fff7fb;\n",
       "            color:  #000000;\n",
       "        }    #T_c9dbcc5c_a616_11eb_b07c_8c8590bf39c4row2_col2 {\n",
       "            background-color:  #fff7fb;\n",
       "            color:  #000000;\n",
       "        }    #T_c9dbcc5c_a616_11eb_b07c_8c8590bf39c4row3_col0 {\n",
       "            background-color:  #fff7fb;\n",
       "            color:  #000000;\n",
       "        }    #T_c9dbcc5c_a616_11eb_b07c_8c8590bf39c4row3_col1 {\n",
       "            background-color:  #fff7fb;\n",
       "            color:  #000000;\n",
       "        }    #T_c9dbcc5c_a616_11eb_b07c_8c8590bf39c4row3_col2 {\n",
       "            background-color:  #fff7fb;\n",
       "            color:  #000000;\n",
       "        }    #T_c9dbcc5c_a616_11eb_b07c_8c8590bf39c4row4_col0 {\n",
       "            background-color:  #fff7fb;\n",
       "            color:  #000000;\n",
       "        }    #T_c9dbcc5c_a616_11eb_b07c_8c8590bf39c4row4_col1 {\n",
       "            background-color:  #fff7fb;\n",
       "            color:  #000000;\n",
       "        }    #T_c9dbcc5c_a616_11eb_b07c_8c8590bf39c4row4_col2 {\n",
       "            background-color:  #fff7fb;\n",
       "            color:  #000000;\n",
       "        }    #T_c9dbcc5c_a616_11eb_b07c_8c8590bf39c4row5_col0 {\n",
       "            background-color:  #fff7fb;\n",
       "            color:  #000000;\n",
       "        }    #T_c9dbcc5c_a616_11eb_b07c_8c8590bf39c4row5_col1 {\n",
       "            background-color:  #fff7fb;\n",
       "            color:  #000000;\n",
       "        }    #T_c9dbcc5c_a616_11eb_b07c_8c8590bf39c4row5_col2 {\n",
       "            background-color:  #fff7fb;\n",
       "            color:  #000000;\n",
       "        }    #T_c9dbcc5c_a616_11eb_b07c_8c8590bf39c4row6_col0 {\n",
       "            background-color:  #fff7fb;\n",
       "            color:  #000000;\n",
       "        }    #T_c9dbcc5c_a616_11eb_b07c_8c8590bf39c4row6_col1 {\n",
       "            background-color:  #fff7fb;\n",
       "            color:  #000000;\n",
       "        }    #T_c9dbcc5c_a616_11eb_b07c_8c8590bf39c4row6_col2 {\n",
       "            background-color:  #fff7fb;\n",
       "            color:  #000000;\n",
       "        }    #T_c9dbcc5c_a616_11eb_b07c_8c8590bf39c4row7_col0 {\n",
       "            background-color:  #fff7fb;\n",
       "            color:  #000000;\n",
       "        }    #T_c9dbcc5c_a616_11eb_b07c_8c8590bf39c4row7_col1 {\n",
       "            background-color:  #fff7fb;\n",
       "            color:  #000000;\n",
       "        }    #T_c9dbcc5c_a616_11eb_b07c_8c8590bf39c4row7_col2 {\n",
       "            background-color:  #fff7fb;\n",
       "            color:  #000000;\n",
       "        }    #T_c9dbcc5c_a616_11eb_b07c_8c8590bf39c4row8_col0 {\n",
       "            background-color:  #fff7fb;\n",
       "            color:  #000000;\n",
       "        }    #T_c9dbcc5c_a616_11eb_b07c_8c8590bf39c4row8_col1 {\n",
       "            background-color:  #fff7fb;\n",
       "            color:  #000000;\n",
       "        }    #T_c9dbcc5c_a616_11eb_b07c_8c8590bf39c4row8_col2 {\n",
       "            background-color:  #fff7fb;\n",
       "            color:  #000000;\n",
       "        }    #T_c9dbcc5c_a616_11eb_b07c_8c8590bf39c4row9_col0 {\n",
       "            background-color:  #fff7fb;\n",
       "            color:  #000000;\n",
       "        }    #T_c9dbcc5c_a616_11eb_b07c_8c8590bf39c4row9_col1 {\n",
       "            background-color:  #fff7fb;\n",
       "            color:  #000000;\n",
       "        }    #T_c9dbcc5c_a616_11eb_b07c_8c8590bf39c4row9_col2 {\n",
       "            background-color:  #fff7fb;\n",
       "            color:  #000000;\n",
       "        }    #T_c9dbcc5c_a616_11eb_b07c_8c8590bf39c4row10_col0 {\n",
       "            background-color:  #fff7fb;\n",
       "            color:  #000000;\n",
       "        }    #T_c9dbcc5c_a616_11eb_b07c_8c8590bf39c4row10_col1 {\n",
       "            background-color:  #fff7fb;\n",
       "            color:  #000000;\n",
       "        }    #T_c9dbcc5c_a616_11eb_b07c_8c8590bf39c4row10_col2 {\n",
       "            background-color:  #fff7fb;\n",
       "            color:  #000000;\n",
       "        }    #T_c9dbcc5c_a616_11eb_b07c_8c8590bf39c4row11_col0 {\n",
       "            background-color:  #fff7fb;\n",
       "            color:  #000000;\n",
       "        }    #T_c9dbcc5c_a616_11eb_b07c_8c8590bf39c4row11_col1 {\n",
       "            background-color:  #fff7fb;\n",
       "            color:  #000000;\n",
       "        }    #T_c9dbcc5c_a616_11eb_b07c_8c8590bf39c4row11_col2 {\n",
       "            background-color:  #fff7fb;\n",
       "            color:  #000000;\n",
       "        }    #T_c9dbcc5c_a616_11eb_b07c_8c8590bf39c4row12_col0 {\n",
       "            background-color:  #fff7fb;\n",
       "            color:  #000000;\n",
       "        }    #T_c9dbcc5c_a616_11eb_b07c_8c8590bf39c4row12_col1 {\n",
       "            background-color:  #fff7fb;\n",
       "            color:  #000000;\n",
       "        }    #T_c9dbcc5c_a616_11eb_b07c_8c8590bf39c4row12_col2 {\n",
       "            background-color:  #fff7fb;\n",
       "            color:  #000000;\n",
       "        }    #T_c9dbcc5c_a616_11eb_b07c_8c8590bf39c4row13_col0 {\n",
       "            background-color:  #fff7fb;\n",
       "            color:  #000000;\n",
       "        }    #T_c9dbcc5c_a616_11eb_b07c_8c8590bf39c4row13_col1 {\n",
       "            background-color:  #fff7fb;\n",
       "            color:  #000000;\n",
       "        }    #T_c9dbcc5c_a616_11eb_b07c_8c8590bf39c4row13_col2 {\n",
       "            background-color:  #fff7fb;\n",
       "            color:  #000000;\n",
       "        }    #T_c9dbcc5c_a616_11eb_b07c_8c8590bf39c4row14_col0 {\n",
       "            background-color:  #fff7fb;\n",
       "            color:  #000000;\n",
       "        }    #T_c9dbcc5c_a616_11eb_b07c_8c8590bf39c4row14_col1 {\n",
       "            background-color:  #fff7fb;\n",
       "            color:  #000000;\n",
       "        }    #T_c9dbcc5c_a616_11eb_b07c_8c8590bf39c4row14_col2 {\n",
       "            background-color:  #fff7fb;\n",
       "            color:  #000000;\n",
       "        }    #T_c9dbcc5c_a616_11eb_b07c_8c8590bf39c4row15_col0 {\n",
       "            background-color:  #73a9cf;\n",
       "            color:  #000000;\n",
       "        }    #T_c9dbcc5c_a616_11eb_b07c_8c8590bf39c4row15_col1 {\n",
       "            background-color:  #fff7fb;\n",
       "            color:  #000000;\n",
       "        }    #T_c9dbcc5c_a616_11eb_b07c_8c8590bf39c4row15_col2 {\n",
       "            background-color:  #96b6d7;\n",
       "            color:  #000000;\n",
       "        }    #T_c9dbcc5c_a616_11eb_b07c_8c8590bf39c4row16_col0 {\n",
       "            background-color:  #73a9cf;\n",
       "            color:  #000000;\n",
       "        }    #T_c9dbcc5c_a616_11eb_b07c_8c8590bf39c4row16_col1 {\n",
       "            background-color:  #fff7fb;\n",
       "            color:  #000000;\n",
       "        }    #T_c9dbcc5c_a616_11eb_b07c_8c8590bf39c4row16_col2 {\n",
       "            background-color:  #9cb9d9;\n",
       "            color:  #000000;\n",
       "        }    #T_c9dbcc5c_a616_11eb_b07c_8c8590bf39c4row17_col0 {\n",
       "            background-color:  #73a9cf;\n",
       "            color:  #000000;\n",
       "        }    #T_c9dbcc5c_a616_11eb_b07c_8c8590bf39c4row17_col1 {\n",
       "            background-color:  #fff7fb;\n",
       "            color:  #000000;\n",
       "        }    #T_c9dbcc5c_a616_11eb_b07c_8c8590bf39c4row17_col2 {\n",
       "            background-color:  #d2d2e7;\n",
       "            color:  #000000;\n",
       "        }    #T_c9dbcc5c_a616_11eb_b07c_8c8590bf39c4row18_col0 {\n",
       "            background-color:  #73a9cf;\n",
       "            color:  #000000;\n",
       "        }    #T_c9dbcc5c_a616_11eb_b07c_8c8590bf39c4row18_col1 {\n",
       "            background-color:  #fff7fb;\n",
       "            color:  #000000;\n",
       "        }    #T_c9dbcc5c_a616_11eb_b07c_8c8590bf39c4row18_col2 {\n",
       "            background-color:  #b4c4df;\n",
       "            color:  #000000;\n",
       "        }    #T_c9dbcc5c_a616_11eb_b07c_8c8590bf39c4row19_col0 {\n",
       "            background-color:  #73a9cf;\n",
       "            color:  #000000;\n",
       "        }    #T_c9dbcc5c_a616_11eb_b07c_8c8590bf39c4row19_col1 {\n",
       "            background-color:  #fff7fb;\n",
       "            color:  #000000;\n",
       "        }    #T_c9dbcc5c_a616_11eb_b07c_8c8590bf39c4row19_col2 {\n",
       "            background-color:  #9cb9d9;\n",
       "            color:  #000000;\n",
       "        }</style><table id=\"T_c9dbcc5c_a616_11eb_b07c_8c8590bf39c4\" ><thead>    <tr>        <th class=\"blank level0\" ></th>        <th class=\"col_heading level0 col0\" >supsup_mnist</th>        <th class=\"col_heading level0 col1\" >basis_mnist</th>        <th class=\"col_heading level0 col2\" >basis_hybrid_mnist</th>        <th class=\"col_heading level0 col3\" >Seen</th>    </tr>    <tr>        <th class=\"index_name level0\" >Task</th>        <th class=\"blank\" ></th>        <th class=\"blank\" ></th>        <th class=\"blank\" ></th>        <th class=\"blank\" ></th>    </tr></thead><tbody>\n",
       "                <tr>\n",
       "                        <th id=\"T_c9dbcc5c_a616_11eb_b07c_8c8590bf39c4level0_row0\" class=\"row_heading level0 row0\" >0</th>\n",
       "                        <td id=\"T_c9dbcc5c_a616_11eb_b07c_8c8590bf39c4row0_col0\" class=\"data row0 col0\" >0.923400</td>\n",
       "                        <td id=\"T_c9dbcc5c_a616_11eb_b07c_8c8590bf39c4row0_col1\" class=\"data row0 col1\" >0.923400</td>\n",
       "                        <td id=\"T_c9dbcc5c_a616_11eb_b07c_8c8590bf39c4row0_col2\" class=\"data row0 col2\" >0.923400</td>\n",
       "                        <td id=\"T_c9dbcc5c_a616_11eb_b07c_8c8590bf39c4row0_col3\" class=\"data row0 col3\" >True</td>\n",
       "            </tr>\n",
       "            <tr>\n",
       "                        <th id=\"T_c9dbcc5c_a616_11eb_b07c_8c8590bf39c4level0_row1\" class=\"row_heading level0 row1\" >1</th>\n",
       "                        <td id=\"T_c9dbcc5c_a616_11eb_b07c_8c8590bf39c4row1_col0\" class=\"data row1 col0\" >0.925400</td>\n",
       "                        <td id=\"T_c9dbcc5c_a616_11eb_b07c_8c8590bf39c4row1_col1\" class=\"data row1 col1\" >0.925400</td>\n",
       "                        <td id=\"T_c9dbcc5c_a616_11eb_b07c_8c8590bf39c4row1_col2\" class=\"data row1 col2\" >0.925400</td>\n",
       "                        <td id=\"T_c9dbcc5c_a616_11eb_b07c_8c8590bf39c4row1_col3\" class=\"data row1 col3\" >True</td>\n",
       "            </tr>\n",
       "            <tr>\n",
       "                        <th id=\"T_c9dbcc5c_a616_11eb_b07c_8c8590bf39c4level0_row2\" class=\"row_heading level0 row2\" >2</th>\n",
       "                        <td id=\"T_c9dbcc5c_a616_11eb_b07c_8c8590bf39c4row2_col0\" class=\"data row2 col0\" >0.922300</td>\n",
       "                        <td id=\"T_c9dbcc5c_a616_11eb_b07c_8c8590bf39c4row2_col1\" class=\"data row2 col1\" >0.922300</td>\n",
       "                        <td id=\"T_c9dbcc5c_a616_11eb_b07c_8c8590bf39c4row2_col2\" class=\"data row2 col2\" >0.922300</td>\n",
       "                        <td id=\"T_c9dbcc5c_a616_11eb_b07c_8c8590bf39c4row2_col3\" class=\"data row2 col3\" >True</td>\n",
       "            </tr>\n",
       "            <tr>\n",
       "                        <th id=\"T_c9dbcc5c_a616_11eb_b07c_8c8590bf39c4level0_row3\" class=\"row_heading level0 row3\" >3</th>\n",
       "                        <td id=\"T_c9dbcc5c_a616_11eb_b07c_8c8590bf39c4row3_col0\" class=\"data row3 col0\" >0.926000</td>\n",
       "                        <td id=\"T_c9dbcc5c_a616_11eb_b07c_8c8590bf39c4row3_col1\" class=\"data row3 col1\" >0.926000</td>\n",
       "                        <td id=\"T_c9dbcc5c_a616_11eb_b07c_8c8590bf39c4row3_col2\" class=\"data row3 col2\" >0.926000</td>\n",
       "                        <td id=\"T_c9dbcc5c_a616_11eb_b07c_8c8590bf39c4row3_col3\" class=\"data row3 col3\" >True</td>\n",
       "            </tr>\n",
       "            <tr>\n",
       "                        <th id=\"T_c9dbcc5c_a616_11eb_b07c_8c8590bf39c4level0_row4\" class=\"row_heading level0 row4\" >4</th>\n",
       "                        <td id=\"T_c9dbcc5c_a616_11eb_b07c_8c8590bf39c4row4_col0\" class=\"data row4 col0\" >0.926400</td>\n",
       "                        <td id=\"T_c9dbcc5c_a616_11eb_b07c_8c8590bf39c4row4_col1\" class=\"data row4 col1\" >0.926400</td>\n",
       "                        <td id=\"T_c9dbcc5c_a616_11eb_b07c_8c8590bf39c4row4_col2\" class=\"data row4 col2\" >0.926400</td>\n",
       "                        <td id=\"T_c9dbcc5c_a616_11eb_b07c_8c8590bf39c4row4_col3\" class=\"data row4 col3\" >True</td>\n",
       "            </tr>\n",
       "            <tr>\n",
       "                        <th id=\"T_c9dbcc5c_a616_11eb_b07c_8c8590bf39c4level0_row5\" class=\"row_heading level0 row5\" >5</th>\n",
       "                        <td id=\"T_c9dbcc5c_a616_11eb_b07c_8c8590bf39c4row5_col0\" class=\"data row5 col0\" >0.926500</td>\n",
       "                        <td id=\"T_c9dbcc5c_a616_11eb_b07c_8c8590bf39c4row5_col1\" class=\"data row5 col1\" >0.926500</td>\n",
       "                        <td id=\"T_c9dbcc5c_a616_11eb_b07c_8c8590bf39c4row5_col2\" class=\"data row5 col2\" >0.926500</td>\n",
       "                        <td id=\"T_c9dbcc5c_a616_11eb_b07c_8c8590bf39c4row5_col3\" class=\"data row5 col3\" >True</td>\n",
       "            </tr>\n",
       "            <tr>\n",
       "                        <th id=\"T_c9dbcc5c_a616_11eb_b07c_8c8590bf39c4level0_row6\" class=\"row_heading level0 row6\" >6</th>\n",
       "                        <td id=\"T_c9dbcc5c_a616_11eb_b07c_8c8590bf39c4row6_col0\" class=\"data row6 col0\" >0.922900</td>\n",
       "                        <td id=\"T_c9dbcc5c_a616_11eb_b07c_8c8590bf39c4row6_col1\" class=\"data row6 col1\" >0.922900</td>\n",
       "                        <td id=\"T_c9dbcc5c_a616_11eb_b07c_8c8590bf39c4row6_col2\" class=\"data row6 col2\" >0.922900</td>\n",
       "                        <td id=\"T_c9dbcc5c_a616_11eb_b07c_8c8590bf39c4row6_col3\" class=\"data row6 col3\" >True</td>\n",
       "            </tr>\n",
       "            <tr>\n",
       "                        <th id=\"T_c9dbcc5c_a616_11eb_b07c_8c8590bf39c4level0_row7\" class=\"row_heading level0 row7\" >7</th>\n",
       "                        <td id=\"T_c9dbcc5c_a616_11eb_b07c_8c8590bf39c4row7_col0\" class=\"data row7 col0\" >0.922900</td>\n",
       "                        <td id=\"T_c9dbcc5c_a616_11eb_b07c_8c8590bf39c4row7_col1\" class=\"data row7 col1\" >0.922900</td>\n",
       "                        <td id=\"T_c9dbcc5c_a616_11eb_b07c_8c8590bf39c4row7_col2\" class=\"data row7 col2\" >0.922900</td>\n",
       "                        <td id=\"T_c9dbcc5c_a616_11eb_b07c_8c8590bf39c4row7_col3\" class=\"data row7 col3\" >True</td>\n",
       "            </tr>\n",
       "            <tr>\n",
       "                        <th id=\"T_c9dbcc5c_a616_11eb_b07c_8c8590bf39c4level0_row8\" class=\"row_heading level0 row8\" >8</th>\n",
       "                        <td id=\"T_c9dbcc5c_a616_11eb_b07c_8c8590bf39c4row8_col0\" class=\"data row8 col0\" >0.925200</td>\n",
       "                        <td id=\"T_c9dbcc5c_a616_11eb_b07c_8c8590bf39c4row8_col1\" class=\"data row8 col1\" >0.925200</td>\n",
       "                        <td id=\"T_c9dbcc5c_a616_11eb_b07c_8c8590bf39c4row8_col2\" class=\"data row8 col2\" >0.925200</td>\n",
       "                        <td id=\"T_c9dbcc5c_a616_11eb_b07c_8c8590bf39c4row8_col3\" class=\"data row8 col3\" >True</td>\n",
       "            </tr>\n",
       "            <tr>\n",
       "                        <th id=\"T_c9dbcc5c_a616_11eb_b07c_8c8590bf39c4level0_row9\" class=\"row_heading level0 row9\" >9</th>\n",
       "                        <td id=\"T_c9dbcc5c_a616_11eb_b07c_8c8590bf39c4row9_col0\" class=\"data row9 col0\" >0.926100</td>\n",
       "                        <td id=\"T_c9dbcc5c_a616_11eb_b07c_8c8590bf39c4row9_col1\" class=\"data row9 col1\" >0.926100</td>\n",
       "                        <td id=\"T_c9dbcc5c_a616_11eb_b07c_8c8590bf39c4row9_col2\" class=\"data row9 col2\" >0.926100</td>\n",
       "                        <td id=\"T_c9dbcc5c_a616_11eb_b07c_8c8590bf39c4row9_col3\" class=\"data row9 col3\" >True</td>\n",
       "            </tr>\n",
       "            <tr>\n",
       "                        <th id=\"T_c9dbcc5c_a616_11eb_b07c_8c8590bf39c4level0_row10\" class=\"row_heading level0 row10\" >10</th>\n",
       "                        <td id=\"T_c9dbcc5c_a616_11eb_b07c_8c8590bf39c4row10_col0\" class=\"data row10 col0\" >0.928500</td>\n",
       "                        <td id=\"T_c9dbcc5c_a616_11eb_b07c_8c8590bf39c4row10_col1\" class=\"data row10 col1\" >0.928500</td>\n",
       "                        <td id=\"T_c9dbcc5c_a616_11eb_b07c_8c8590bf39c4row10_col2\" class=\"data row10 col2\" >0.928500</td>\n",
       "                        <td id=\"T_c9dbcc5c_a616_11eb_b07c_8c8590bf39c4row10_col3\" class=\"data row10 col3\" >True</td>\n",
       "            </tr>\n",
       "            <tr>\n",
       "                        <th id=\"T_c9dbcc5c_a616_11eb_b07c_8c8590bf39c4level0_row11\" class=\"row_heading level0 row11\" >11</th>\n",
       "                        <td id=\"T_c9dbcc5c_a616_11eb_b07c_8c8590bf39c4row11_col0\" class=\"data row11 col0\" >0.925100</td>\n",
       "                        <td id=\"T_c9dbcc5c_a616_11eb_b07c_8c8590bf39c4row11_col1\" class=\"data row11 col1\" >0.925100</td>\n",
       "                        <td id=\"T_c9dbcc5c_a616_11eb_b07c_8c8590bf39c4row11_col2\" class=\"data row11 col2\" >0.925100</td>\n",
       "                        <td id=\"T_c9dbcc5c_a616_11eb_b07c_8c8590bf39c4row11_col3\" class=\"data row11 col3\" >True</td>\n",
       "            </tr>\n",
       "            <tr>\n",
       "                        <th id=\"T_c9dbcc5c_a616_11eb_b07c_8c8590bf39c4level0_row12\" class=\"row_heading level0 row12\" >12</th>\n",
       "                        <td id=\"T_c9dbcc5c_a616_11eb_b07c_8c8590bf39c4row12_col0\" class=\"data row12 col0\" >0.924400</td>\n",
       "                        <td id=\"T_c9dbcc5c_a616_11eb_b07c_8c8590bf39c4row12_col1\" class=\"data row12 col1\" >0.924400</td>\n",
       "                        <td id=\"T_c9dbcc5c_a616_11eb_b07c_8c8590bf39c4row12_col2\" class=\"data row12 col2\" >0.924400</td>\n",
       "                        <td id=\"T_c9dbcc5c_a616_11eb_b07c_8c8590bf39c4row12_col3\" class=\"data row12 col3\" >True</td>\n",
       "            </tr>\n",
       "            <tr>\n",
       "                        <th id=\"T_c9dbcc5c_a616_11eb_b07c_8c8590bf39c4level0_row13\" class=\"row_heading level0 row13\" >13</th>\n",
       "                        <td id=\"T_c9dbcc5c_a616_11eb_b07c_8c8590bf39c4row13_col0\" class=\"data row13 col0\" >0.923000</td>\n",
       "                        <td id=\"T_c9dbcc5c_a616_11eb_b07c_8c8590bf39c4row13_col1\" class=\"data row13 col1\" >0.923000</td>\n",
       "                        <td id=\"T_c9dbcc5c_a616_11eb_b07c_8c8590bf39c4row13_col2\" class=\"data row13 col2\" >0.923000</td>\n",
       "                        <td id=\"T_c9dbcc5c_a616_11eb_b07c_8c8590bf39c4row13_col3\" class=\"data row13 col3\" >True</td>\n",
       "            </tr>\n",
       "            <tr>\n",
       "                        <th id=\"T_c9dbcc5c_a616_11eb_b07c_8c8590bf39c4level0_row14\" class=\"row_heading level0 row14\" >14</th>\n",
       "                        <td id=\"T_c9dbcc5c_a616_11eb_b07c_8c8590bf39c4row14_col0\" class=\"data row14 col0\" >0.925700</td>\n",
       "                        <td id=\"T_c9dbcc5c_a616_11eb_b07c_8c8590bf39c4row14_col1\" class=\"data row14 col1\" >0.925700</td>\n",
       "                        <td id=\"T_c9dbcc5c_a616_11eb_b07c_8c8590bf39c4row14_col2\" class=\"data row14 col2\" >0.925700</td>\n",
       "                        <td id=\"T_c9dbcc5c_a616_11eb_b07c_8c8590bf39c4row14_col3\" class=\"data row14 col3\" >True</td>\n",
       "            </tr>\n",
       "            <tr>\n",
       "                        <th id=\"T_c9dbcc5c_a616_11eb_b07c_8c8590bf39c4level0_row15\" class=\"row_heading level0 row15\" >15</th>\n",
       "                        <td id=\"T_c9dbcc5c_a616_11eb_b07c_8c8590bf39c4row15_col0\" class=\"data row15 col0\" >0.922700</td>\n",
       "                        <td id=\"T_c9dbcc5c_a616_11eb_b07c_8c8590bf39c4row15_col1\" class=\"data row15 col1\" >0.404900</td>\n",
       "                        <td id=\"T_c9dbcc5c_a616_11eb_b07c_8c8590bf39c4row15_col2\" class=\"data row15 col2\" >0.837300</td>\n",
       "                        <td id=\"T_c9dbcc5c_a616_11eb_b07c_8c8590bf39c4row15_col3\" class=\"data row15 col3\" >False</td>\n",
       "            </tr>\n",
       "            <tr>\n",
       "                        <th id=\"T_c9dbcc5c_a616_11eb_b07c_8c8590bf39c4level0_row16\" class=\"row_heading level0 row16\" >16</th>\n",
       "                        <td id=\"T_c9dbcc5c_a616_11eb_b07c_8c8590bf39c4row16_col0\" class=\"data row16 col0\" >0.921800</td>\n",
       "                        <td id=\"T_c9dbcc5c_a616_11eb_b07c_8c8590bf39c4row16_col1\" class=\"data row16 col1\" >0.361900</td>\n",
       "                        <td id=\"T_c9dbcc5c_a616_11eb_b07c_8c8590bf39c4row16_col2\" class=\"data row16 col2\" >0.810500</td>\n",
       "                        <td id=\"T_c9dbcc5c_a616_11eb_b07c_8c8590bf39c4row16_col3\" class=\"data row16 col3\" >False</td>\n",
       "            </tr>\n",
       "            <tr>\n",
       "                        <th id=\"T_c9dbcc5c_a616_11eb_b07c_8c8590bf39c4level0_row17\" class=\"row_heading level0 row17\" >17</th>\n",
       "                        <td id=\"T_c9dbcc5c_a616_11eb_b07c_8c8590bf39c4row17_col0\" class=\"data row17 col0\" >0.926100</td>\n",
       "                        <td id=\"T_c9dbcc5c_a616_11eb_b07c_8c8590bf39c4row17_col1\" class=\"data row17 col1\" >0.450100</td>\n",
       "                        <td id=\"T_c9dbcc5c_a616_11eb_b07c_8c8590bf39c4row17_col2\" class=\"data row17 col2\" >0.682200</td>\n",
       "                        <td id=\"T_c9dbcc5c_a616_11eb_b07c_8c8590bf39c4row17_col3\" class=\"data row17 col3\" >False</td>\n",
       "            </tr>\n",
       "            <tr>\n",
       "                        <th id=\"T_c9dbcc5c_a616_11eb_b07c_8c8590bf39c4level0_row18\" class=\"row_heading level0 row18\" >18</th>\n",
       "                        <td id=\"T_c9dbcc5c_a616_11eb_b07c_8c8590bf39c4row18_col0\" class=\"data row18 col0\" >0.926300</td>\n",
       "                        <td id=\"T_c9dbcc5c_a616_11eb_b07c_8c8590bf39c4row18_col1\" class=\"data row18 col1\" >0.399100</td>\n",
       "                        <td id=\"T_c9dbcc5c_a616_11eb_b07c_8c8590bf39c4row18_col2\" class=\"data row18 col2\" >0.753200</td>\n",
       "                        <td id=\"T_c9dbcc5c_a616_11eb_b07c_8c8590bf39c4row18_col3\" class=\"data row18 col3\" >False</td>\n",
       "            </tr>\n",
       "            <tr>\n",
       "                        <th id=\"T_c9dbcc5c_a616_11eb_b07c_8c8590bf39c4level0_row19\" class=\"row_heading level0 row19\" >19</th>\n",
       "                        <td id=\"T_c9dbcc5c_a616_11eb_b07c_8c8590bf39c4row19_col0\" class=\"data row19 col0\" >0.925000</td>\n",
       "                        <td id=\"T_c9dbcc5c_a616_11eb_b07c_8c8590bf39c4row19_col1\" class=\"data row19 col1\" >0.405700</td>\n",
       "                        <td id=\"T_c9dbcc5c_a616_11eb_b07c_8c8590bf39c4row19_col2\" class=\"data row19 col2\" >0.822400</td>\n",
       "                        <td id=\"T_c9dbcc5c_a616_11eb_b07c_8c8590bf39c4row19_col3\" class=\"data row19 col3\" >False</td>\n",
       "            </tr>\n",
       "    </tbody></table>"
      ],
      "text/plain": [
       "<pandas.io.formats.style.Styler at 0x7fd1113fbd50>"
      ]
     },
     "execution_count": 97,
     "metadata": {},
     "output_type": "execute_result"
    }
   ],
   "source": [
    "df[[c for c in df.columns if not 'rot' in c]].reset_index().rename(columns={'index': 'Task'}).set_index('Task').style.background_gradient(low=df.min().min(), high=df.max().max(), axis=1)"
   ]
  },
  {
   "cell_type": "code",
   "execution_count": 98,
   "metadata": {},
   "outputs": [
    {
     "data": {
      "text/html": [
       "<style  type=\"text/css\" >\n",
       "    #T_cd65e4b6_a616_11eb_b07c_8c8590bf39c4row0_col0 {\n",
       "            background-color:  #fff7fb;\n",
       "            color:  #000000;\n",
       "        }    #T_cd65e4b6_a616_11eb_b07c_8c8590bf39c4row0_col1 {\n",
       "            background-color:  #fff7fb;\n",
       "            color:  #000000;\n",
       "        }    #T_cd65e4b6_a616_11eb_b07c_8c8590bf39c4row0_col2 {\n",
       "            background-color:  #fff7fb;\n",
       "            color:  #000000;\n",
       "        }    #T_cd65e4b6_a616_11eb_b07c_8c8590bf39c4row1_col0 {\n",
       "            background-color:  #fff7fb;\n",
       "            color:  #000000;\n",
       "        }    #T_cd65e4b6_a616_11eb_b07c_8c8590bf39c4row1_col1 {\n",
       "            background-color:  #fff7fb;\n",
       "            color:  #000000;\n",
       "        }    #T_cd65e4b6_a616_11eb_b07c_8c8590bf39c4row1_col2 {\n",
       "            background-color:  #fff7fb;\n",
       "            color:  #000000;\n",
       "        }    #T_cd65e4b6_a616_11eb_b07c_8c8590bf39c4row2_col0 {\n",
       "            background-color:  #fff7fb;\n",
       "            color:  #000000;\n",
       "        }    #T_cd65e4b6_a616_11eb_b07c_8c8590bf39c4row2_col1 {\n",
       "            background-color:  #fff7fb;\n",
       "            color:  #000000;\n",
       "        }    #T_cd65e4b6_a616_11eb_b07c_8c8590bf39c4row2_col2 {\n",
       "            background-color:  #fff7fb;\n",
       "            color:  #000000;\n",
       "        }    #T_cd65e4b6_a616_11eb_b07c_8c8590bf39c4row3_col0 {\n",
       "            background-color:  #fff7fb;\n",
       "            color:  #000000;\n",
       "        }    #T_cd65e4b6_a616_11eb_b07c_8c8590bf39c4row3_col1 {\n",
       "            background-color:  #fff7fb;\n",
       "            color:  #000000;\n",
       "        }    #T_cd65e4b6_a616_11eb_b07c_8c8590bf39c4row3_col2 {\n",
       "            background-color:  #fff7fb;\n",
       "            color:  #000000;\n",
       "        }    #T_cd65e4b6_a616_11eb_b07c_8c8590bf39c4row4_col0 {\n",
       "            background-color:  #fff7fb;\n",
       "            color:  #000000;\n",
       "        }    #T_cd65e4b6_a616_11eb_b07c_8c8590bf39c4row4_col1 {\n",
       "            background-color:  #fff7fb;\n",
       "            color:  #000000;\n",
       "        }    #T_cd65e4b6_a616_11eb_b07c_8c8590bf39c4row4_col2 {\n",
       "            background-color:  #fff7fb;\n",
       "            color:  #000000;\n",
       "        }    #T_cd65e4b6_a616_11eb_b07c_8c8590bf39c4row5_col0 {\n",
       "            background-color:  #fff7fb;\n",
       "            color:  #000000;\n",
       "        }    #T_cd65e4b6_a616_11eb_b07c_8c8590bf39c4row5_col1 {\n",
       "            background-color:  #fff7fb;\n",
       "            color:  #000000;\n",
       "        }    #T_cd65e4b6_a616_11eb_b07c_8c8590bf39c4row5_col2 {\n",
       "            background-color:  #fff7fb;\n",
       "            color:  #000000;\n",
       "        }    #T_cd65e4b6_a616_11eb_b07c_8c8590bf39c4row6_col0 {\n",
       "            background-color:  #fff7fb;\n",
       "            color:  #000000;\n",
       "        }    #T_cd65e4b6_a616_11eb_b07c_8c8590bf39c4row6_col1 {\n",
       "            background-color:  #fff7fb;\n",
       "            color:  #000000;\n",
       "        }    #T_cd65e4b6_a616_11eb_b07c_8c8590bf39c4row6_col2 {\n",
       "            background-color:  #fff7fb;\n",
       "            color:  #000000;\n",
       "        }    #T_cd65e4b6_a616_11eb_b07c_8c8590bf39c4row7_col0 {\n",
       "            background-color:  #fff7fb;\n",
       "            color:  #000000;\n",
       "        }    #T_cd65e4b6_a616_11eb_b07c_8c8590bf39c4row7_col1 {\n",
       "            background-color:  #fff7fb;\n",
       "            color:  #000000;\n",
       "        }    #T_cd65e4b6_a616_11eb_b07c_8c8590bf39c4row7_col2 {\n",
       "            background-color:  #fff7fb;\n",
       "            color:  #000000;\n",
       "        }    #T_cd65e4b6_a616_11eb_b07c_8c8590bf39c4row8_col0 {\n",
       "            background-color:  #fff7fb;\n",
       "            color:  #000000;\n",
       "        }    #T_cd65e4b6_a616_11eb_b07c_8c8590bf39c4row8_col1 {\n",
       "            background-color:  #fff7fb;\n",
       "            color:  #000000;\n",
       "        }    #T_cd65e4b6_a616_11eb_b07c_8c8590bf39c4row8_col2 {\n",
       "            background-color:  #fff7fb;\n",
       "            color:  #000000;\n",
       "        }    #T_cd65e4b6_a616_11eb_b07c_8c8590bf39c4row9_col0 {\n",
       "            background-color:  #fff7fb;\n",
       "            color:  #000000;\n",
       "        }    #T_cd65e4b6_a616_11eb_b07c_8c8590bf39c4row9_col1 {\n",
       "            background-color:  #fff7fb;\n",
       "            color:  #000000;\n",
       "        }    #T_cd65e4b6_a616_11eb_b07c_8c8590bf39c4row9_col2 {\n",
       "            background-color:  #fff7fb;\n",
       "            color:  #000000;\n",
       "        }    #T_cd65e4b6_a616_11eb_b07c_8c8590bf39c4row10_col0 {\n",
       "            background-color:  #fff7fb;\n",
       "            color:  #000000;\n",
       "        }    #T_cd65e4b6_a616_11eb_b07c_8c8590bf39c4row10_col1 {\n",
       "            background-color:  #fff7fb;\n",
       "            color:  #000000;\n",
       "        }    #T_cd65e4b6_a616_11eb_b07c_8c8590bf39c4row10_col2 {\n",
       "            background-color:  #fff7fb;\n",
       "            color:  #000000;\n",
       "        }    #T_cd65e4b6_a616_11eb_b07c_8c8590bf39c4row11_col0 {\n",
       "            background-color:  #fff7fb;\n",
       "            color:  #000000;\n",
       "        }    #T_cd65e4b6_a616_11eb_b07c_8c8590bf39c4row11_col1 {\n",
       "            background-color:  #fff7fb;\n",
       "            color:  #000000;\n",
       "        }    #T_cd65e4b6_a616_11eb_b07c_8c8590bf39c4row11_col2 {\n",
       "            background-color:  #fff7fb;\n",
       "            color:  #000000;\n",
       "        }    #T_cd65e4b6_a616_11eb_b07c_8c8590bf39c4row12_col0 {\n",
       "            background-color:  #fff7fb;\n",
       "            color:  #000000;\n",
       "        }    #T_cd65e4b6_a616_11eb_b07c_8c8590bf39c4row12_col1 {\n",
       "            background-color:  #fff7fb;\n",
       "            color:  #000000;\n",
       "        }    #T_cd65e4b6_a616_11eb_b07c_8c8590bf39c4row12_col2 {\n",
       "            background-color:  #fff7fb;\n",
       "            color:  #000000;\n",
       "        }    #T_cd65e4b6_a616_11eb_b07c_8c8590bf39c4row13_col0 {\n",
       "            background-color:  #fff7fb;\n",
       "            color:  #000000;\n",
       "        }    #T_cd65e4b6_a616_11eb_b07c_8c8590bf39c4row13_col1 {\n",
       "            background-color:  #fff7fb;\n",
       "            color:  #000000;\n",
       "        }    #T_cd65e4b6_a616_11eb_b07c_8c8590bf39c4row13_col2 {\n",
       "            background-color:  #fff7fb;\n",
       "            color:  #000000;\n",
       "        }    #T_cd65e4b6_a616_11eb_b07c_8c8590bf39c4row14_col0 {\n",
       "            background-color:  #fff7fb;\n",
       "            color:  #000000;\n",
       "        }    #T_cd65e4b6_a616_11eb_b07c_8c8590bf39c4row14_col1 {\n",
       "            background-color:  #fff7fb;\n",
       "            color:  #000000;\n",
       "        }    #T_cd65e4b6_a616_11eb_b07c_8c8590bf39c4row14_col2 {\n",
       "            background-color:  #fff7fb;\n",
       "            color:  #000000;\n",
       "        }    #T_cd65e4b6_a616_11eb_b07c_8c8590bf39c4row15_col0 {\n",
       "            background-color:  #75a9cf;\n",
       "            color:  #000000;\n",
       "        }    #T_cd65e4b6_a616_11eb_b07c_8c8590bf39c4row15_col1 {\n",
       "            background-color:  #73a9cf;\n",
       "            color:  #000000;\n",
       "        }    #T_cd65e4b6_a616_11eb_b07c_8c8590bf39c4row15_col2 {\n",
       "            background-color:  #fff7fb;\n",
       "            color:  #000000;\n",
       "        }    #T_cd65e4b6_a616_11eb_b07c_8c8590bf39c4row16_col0 {\n",
       "            background-color:  #7bacd1;\n",
       "            color:  #000000;\n",
       "        }    #T_cd65e4b6_a616_11eb_b07c_8c8590bf39c4row16_col1 {\n",
       "            background-color:  #73a9cf;\n",
       "            color:  #000000;\n",
       "        }    #T_cd65e4b6_a616_11eb_b07c_8c8590bf39c4row16_col2 {\n",
       "            background-color:  #fff7fb;\n",
       "            color:  #000000;\n",
       "        }    #T_cd65e4b6_a616_11eb_b07c_8c8590bf39c4row17_col0 {\n",
       "            background-color:  #fff7fb;\n",
       "            color:  #000000;\n",
       "        }    #T_cd65e4b6_a616_11eb_b07c_8c8590bf39c4row17_col1 {\n",
       "            background-color:  #acc0dd;\n",
       "            color:  #000000;\n",
       "        }    #T_cd65e4b6_a616_11eb_b07c_8c8590bf39c4row17_col2 {\n",
       "            background-color:  #73a9cf;\n",
       "            color:  #000000;\n",
       "        }    #T_cd65e4b6_a616_11eb_b07c_8c8590bf39c4row18_col0 {\n",
       "            background-color:  #73a9cf;\n",
       "            color:  #000000;\n",
       "        }    #T_cd65e4b6_a616_11eb_b07c_8c8590bf39c4row18_col1 {\n",
       "            background-color:  #d1d2e6;\n",
       "            color:  #000000;\n",
       "        }    #T_cd65e4b6_a616_11eb_b07c_8c8590bf39c4row18_col2 {\n",
       "            background-color:  #fff7fb;\n",
       "            color:  #000000;\n",
       "        }    #T_cd65e4b6_a616_11eb_b07c_8c8590bf39c4row19_col0 {\n",
       "            background-color:  #fff7fb;\n",
       "            color:  #000000;\n",
       "        }    #T_cd65e4b6_a616_11eb_b07c_8c8590bf39c4row19_col1 {\n",
       "            background-color:  #73a9cf;\n",
       "            color:  #000000;\n",
       "        }    #T_cd65e4b6_a616_11eb_b07c_8c8590bf39c4row19_col2 {\n",
       "            background-color:  #86b0d3;\n",
       "            color:  #000000;\n",
       "        }</style><table id=\"T_cd65e4b6_a616_11eb_b07c_8c8590bf39c4\" ><thead>    <tr>        <th class=\"blank level0\" ></th>        <th class=\"col_heading level0 col0\" >supsup_mnist_rot</th>        <th class=\"col_heading level0 col1\" >basis_mnist_rot</th>        <th class=\"col_heading level0 col2\" >basis_hybrid_mnist_rot</th>        <th class=\"col_heading level0 col3\" >Seen</th>    </tr>    <tr>        <th class=\"index_name level0\" >Task</th>        <th class=\"blank\" ></th>        <th class=\"blank\" ></th>        <th class=\"blank\" ></th>        <th class=\"blank\" ></th>    </tr></thead><tbody>\n",
       "                <tr>\n",
       "                        <th id=\"T_cd65e4b6_a616_11eb_b07c_8c8590bf39c4level0_row0\" class=\"row_heading level0 row0\" >0</th>\n",
       "                        <td id=\"T_cd65e4b6_a616_11eb_b07c_8c8590bf39c4row0_col0\" class=\"data row0 col0\" >0.776300</td>\n",
       "                        <td id=\"T_cd65e4b6_a616_11eb_b07c_8c8590bf39c4row0_col1\" class=\"data row0 col1\" >0.776300</td>\n",
       "                        <td id=\"T_cd65e4b6_a616_11eb_b07c_8c8590bf39c4row0_col2\" class=\"data row0 col2\" >0.776300</td>\n",
       "                        <td id=\"T_cd65e4b6_a616_11eb_b07c_8c8590bf39c4row0_col3\" class=\"data row0 col3\" >True</td>\n",
       "            </tr>\n",
       "            <tr>\n",
       "                        <th id=\"T_cd65e4b6_a616_11eb_b07c_8c8590bf39c4level0_row1\" class=\"row_heading level0 row1\" >1</th>\n",
       "                        <td id=\"T_cd65e4b6_a616_11eb_b07c_8c8590bf39c4row1_col0\" class=\"data row1 col0\" >0.779800</td>\n",
       "                        <td id=\"T_cd65e4b6_a616_11eb_b07c_8c8590bf39c4row1_col1\" class=\"data row1 col1\" >0.779800</td>\n",
       "                        <td id=\"T_cd65e4b6_a616_11eb_b07c_8c8590bf39c4row1_col2\" class=\"data row1 col2\" >0.779800</td>\n",
       "                        <td id=\"T_cd65e4b6_a616_11eb_b07c_8c8590bf39c4row1_col3\" class=\"data row1 col3\" >True</td>\n",
       "            </tr>\n",
       "            <tr>\n",
       "                        <th id=\"T_cd65e4b6_a616_11eb_b07c_8c8590bf39c4level0_row2\" class=\"row_heading level0 row2\" >2</th>\n",
       "                        <td id=\"T_cd65e4b6_a616_11eb_b07c_8c8590bf39c4row2_col0\" class=\"data row2 col0\" >0.783900</td>\n",
       "                        <td id=\"T_cd65e4b6_a616_11eb_b07c_8c8590bf39c4row2_col1\" class=\"data row2 col1\" >0.783900</td>\n",
       "                        <td id=\"T_cd65e4b6_a616_11eb_b07c_8c8590bf39c4row2_col2\" class=\"data row2 col2\" >0.783900</td>\n",
       "                        <td id=\"T_cd65e4b6_a616_11eb_b07c_8c8590bf39c4row2_col3\" class=\"data row2 col3\" >True</td>\n",
       "            </tr>\n",
       "            <tr>\n",
       "                        <th id=\"T_cd65e4b6_a616_11eb_b07c_8c8590bf39c4level0_row3\" class=\"row_heading level0 row3\" >3</th>\n",
       "                        <td id=\"T_cd65e4b6_a616_11eb_b07c_8c8590bf39c4row3_col0\" class=\"data row3 col0\" >0.771300</td>\n",
       "                        <td id=\"T_cd65e4b6_a616_11eb_b07c_8c8590bf39c4row3_col1\" class=\"data row3 col1\" >0.771300</td>\n",
       "                        <td id=\"T_cd65e4b6_a616_11eb_b07c_8c8590bf39c4row3_col2\" class=\"data row3 col2\" >0.771300</td>\n",
       "                        <td id=\"T_cd65e4b6_a616_11eb_b07c_8c8590bf39c4row3_col3\" class=\"data row3 col3\" >True</td>\n",
       "            </tr>\n",
       "            <tr>\n",
       "                        <th id=\"T_cd65e4b6_a616_11eb_b07c_8c8590bf39c4level0_row4\" class=\"row_heading level0 row4\" >4</th>\n",
       "                        <td id=\"T_cd65e4b6_a616_11eb_b07c_8c8590bf39c4row4_col0\" class=\"data row4 col0\" >0.762600</td>\n",
       "                        <td id=\"T_cd65e4b6_a616_11eb_b07c_8c8590bf39c4row4_col1\" class=\"data row4 col1\" >0.762600</td>\n",
       "                        <td id=\"T_cd65e4b6_a616_11eb_b07c_8c8590bf39c4row4_col2\" class=\"data row4 col2\" >0.762600</td>\n",
       "                        <td id=\"T_cd65e4b6_a616_11eb_b07c_8c8590bf39c4row4_col3\" class=\"data row4 col3\" >True</td>\n",
       "            </tr>\n",
       "            <tr>\n",
       "                        <th id=\"T_cd65e4b6_a616_11eb_b07c_8c8590bf39c4level0_row5\" class=\"row_heading level0 row5\" >5</th>\n",
       "                        <td id=\"T_cd65e4b6_a616_11eb_b07c_8c8590bf39c4row5_col0\" class=\"data row5 col0\" >0.772700</td>\n",
       "                        <td id=\"T_cd65e4b6_a616_11eb_b07c_8c8590bf39c4row5_col1\" class=\"data row5 col1\" >0.772700</td>\n",
       "                        <td id=\"T_cd65e4b6_a616_11eb_b07c_8c8590bf39c4row5_col2\" class=\"data row5 col2\" >0.772700</td>\n",
       "                        <td id=\"T_cd65e4b6_a616_11eb_b07c_8c8590bf39c4row5_col3\" class=\"data row5 col3\" >True</td>\n",
       "            </tr>\n",
       "            <tr>\n",
       "                        <th id=\"T_cd65e4b6_a616_11eb_b07c_8c8590bf39c4level0_row6\" class=\"row_heading level0 row6\" >6</th>\n",
       "                        <td id=\"T_cd65e4b6_a616_11eb_b07c_8c8590bf39c4row6_col0\" class=\"data row6 col0\" >0.782200</td>\n",
       "                        <td id=\"T_cd65e4b6_a616_11eb_b07c_8c8590bf39c4row6_col1\" class=\"data row6 col1\" >0.782200</td>\n",
       "                        <td id=\"T_cd65e4b6_a616_11eb_b07c_8c8590bf39c4row6_col2\" class=\"data row6 col2\" >0.782200</td>\n",
       "                        <td id=\"T_cd65e4b6_a616_11eb_b07c_8c8590bf39c4row6_col3\" class=\"data row6 col3\" >True</td>\n",
       "            </tr>\n",
       "            <tr>\n",
       "                        <th id=\"T_cd65e4b6_a616_11eb_b07c_8c8590bf39c4level0_row7\" class=\"row_heading level0 row7\" >7</th>\n",
       "                        <td id=\"T_cd65e4b6_a616_11eb_b07c_8c8590bf39c4row7_col0\" class=\"data row7 col0\" >0.775200</td>\n",
       "                        <td id=\"T_cd65e4b6_a616_11eb_b07c_8c8590bf39c4row7_col1\" class=\"data row7 col1\" >0.775200</td>\n",
       "                        <td id=\"T_cd65e4b6_a616_11eb_b07c_8c8590bf39c4row7_col2\" class=\"data row7 col2\" >0.775200</td>\n",
       "                        <td id=\"T_cd65e4b6_a616_11eb_b07c_8c8590bf39c4row7_col3\" class=\"data row7 col3\" >True</td>\n",
       "            </tr>\n",
       "            <tr>\n",
       "                        <th id=\"T_cd65e4b6_a616_11eb_b07c_8c8590bf39c4level0_row8\" class=\"row_heading level0 row8\" >8</th>\n",
       "                        <td id=\"T_cd65e4b6_a616_11eb_b07c_8c8590bf39c4row8_col0\" class=\"data row8 col0\" >0.785200</td>\n",
       "                        <td id=\"T_cd65e4b6_a616_11eb_b07c_8c8590bf39c4row8_col1\" class=\"data row8 col1\" >0.785200</td>\n",
       "                        <td id=\"T_cd65e4b6_a616_11eb_b07c_8c8590bf39c4row8_col2\" class=\"data row8 col2\" >0.785200</td>\n",
       "                        <td id=\"T_cd65e4b6_a616_11eb_b07c_8c8590bf39c4row8_col3\" class=\"data row8 col3\" >True</td>\n",
       "            </tr>\n",
       "            <tr>\n",
       "                        <th id=\"T_cd65e4b6_a616_11eb_b07c_8c8590bf39c4level0_row9\" class=\"row_heading level0 row9\" >9</th>\n",
       "                        <td id=\"T_cd65e4b6_a616_11eb_b07c_8c8590bf39c4row9_col0\" class=\"data row9 col0\" >0.781300</td>\n",
       "                        <td id=\"T_cd65e4b6_a616_11eb_b07c_8c8590bf39c4row9_col1\" class=\"data row9 col1\" >0.781300</td>\n",
       "                        <td id=\"T_cd65e4b6_a616_11eb_b07c_8c8590bf39c4row9_col2\" class=\"data row9 col2\" >0.781300</td>\n",
       "                        <td id=\"T_cd65e4b6_a616_11eb_b07c_8c8590bf39c4row9_col3\" class=\"data row9 col3\" >True</td>\n",
       "            </tr>\n",
       "            <tr>\n",
       "                        <th id=\"T_cd65e4b6_a616_11eb_b07c_8c8590bf39c4level0_row10\" class=\"row_heading level0 row10\" >10</th>\n",
       "                        <td id=\"T_cd65e4b6_a616_11eb_b07c_8c8590bf39c4row10_col0\" class=\"data row10 col0\" >0.778700</td>\n",
       "                        <td id=\"T_cd65e4b6_a616_11eb_b07c_8c8590bf39c4row10_col1\" class=\"data row10 col1\" >0.778700</td>\n",
       "                        <td id=\"T_cd65e4b6_a616_11eb_b07c_8c8590bf39c4row10_col2\" class=\"data row10 col2\" >0.778700</td>\n",
       "                        <td id=\"T_cd65e4b6_a616_11eb_b07c_8c8590bf39c4row10_col3\" class=\"data row10 col3\" >True</td>\n",
       "            </tr>\n",
       "            <tr>\n",
       "                        <th id=\"T_cd65e4b6_a616_11eb_b07c_8c8590bf39c4level0_row11\" class=\"row_heading level0 row11\" >11</th>\n",
       "                        <td id=\"T_cd65e4b6_a616_11eb_b07c_8c8590bf39c4row11_col0\" class=\"data row11 col0\" >0.770900</td>\n",
       "                        <td id=\"T_cd65e4b6_a616_11eb_b07c_8c8590bf39c4row11_col1\" class=\"data row11 col1\" >0.770900</td>\n",
       "                        <td id=\"T_cd65e4b6_a616_11eb_b07c_8c8590bf39c4row11_col2\" class=\"data row11 col2\" >0.770900</td>\n",
       "                        <td id=\"T_cd65e4b6_a616_11eb_b07c_8c8590bf39c4row11_col3\" class=\"data row11 col3\" >True</td>\n",
       "            </tr>\n",
       "            <tr>\n",
       "                        <th id=\"T_cd65e4b6_a616_11eb_b07c_8c8590bf39c4level0_row12\" class=\"row_heading level0 row12\" >12</th>\n",
       "                        <td id=\"T_cd65e4b6_a616_11eb_b07c_8c8590bf39c4row12_col0\" class=\"data row12 col0\" >0.781500</td>\n",
       "                        <td id=\"T_cd65e4b6_a616_11eb_b07c_8c8590bf39c4row12_col1\" class=\"data row12 col1\" >0.781500</td>\n",
       "                        <td id=\"T_cd65e4b6_a616_11eb_b07c_8c8590bf39c4row12_col2\" class=\"data row12 col2\" >0.781500</td>\n",
       "                        <td id=\"T_cd65e4b6_a616_11eb_b07c_8c8590bf39c4row12_col3\" class=\"data row12 col3\" >True</td>\n",
       "            </tr>\n",
       "            <tr>\n",
       "                        <th id=\"T_cd65e4b6_a616_11eb_b07c_8c8590bf39c4level0_row13\" class=\"row_heading level0 row13\" >13</th>\n",
       "                        <td id=\"T_cd65e4b6_a616_11eb_b07c_8c8590bf39c4row13_col0\" class=\"data row13 col0\" >0.781900</td>\n",
       "                        <td id=\"T_cd65e4b6_a616_11eb_b07c_8c8590bf39c4row13_col1\" class=\"data row13 col1\" >0.781900</td>\n",
       "                        <td id=\"T_cd65e4b6_a616_11eb_b07c_8c8590bf39c4row13_col2\" class=\"data row13 col2\" >0.781900</td>\n",
       "                        <td id=\"T_cd65e4b6_a616_11eb_b07c_8c8590bf39c4row13_col3\" class=\"data row13 col3\" >True</td>\n",
       "            </tr>\n",
       "            <tr>\n",
       "                        <th id=\"T_cd65e4b6_a616_11eb_b07c_8c8590bf39c4level0_row14\" class=\"row_heading level0 row14\" >14</th>\n",
       "                        <td id=\"T_cd65e4b6_a616_11eb_b07c_8c8590bf39c4row14_col0\" class=\"data row14 col0\" >0.770200</td>\n",
       "                        <td id=\"T_cd65e4b6_a616_11eb_b07c_8c8590bf39c4row14_col1\" class=\"data row14 col1\" >0.770200</td>\n",
       "                        <td id=\"T_cd65e4b6_a616_11eb_b07c_8c8590bf39c4row14_col2\" class=\"data row14 col2\" >0.770200</td>\n",
       "                        <td id=\"T_cd65e4b6_a616_11eb_b07c_8c8590bf39c4row14_col3\" class=\"data row14 col3\" >True</td>\n",
       "            </tr>\n",
       "            <tr>\n",
       "                        <th id=\"T_cd65e4b6_a616_11eb_b07c_8c8590bf39c4level0_row15\" class=\"row_heading level0 row15\" >15</th>\n",
       "                        <td id=\"T_cd65e4b6_a616_11eb_b07c_8c8590bf39c4row15_col0\" class=\"data row15 col0\" >0.784500</td>\n",
       "                        <td id=\"T_cd65e4b6_a616_11eb_b07c_8c8590bf39c4row15_col1\" class=\"data row15 col1\" >0.785000</td>\n",
       "                        <td id=\"T_cd65e4b6_a616_11eb_b07c_8c8590bf39c4row15_col2\" class=\"data row15 col2\" >0.713700</td>\n",
       "                        <td id=\"T_cd65e4b6_a616_11eb_b07c_8c8590bf39c4row15_col3\" class=\"data row15 col3\" >False</td>\n",
       "            </tr>\n",
       "            <tr>\n",
       "                        <th id=\"T_cd65e4b6_a616_11eb_b07c_8c8590bf39c4level0_row16\" class=\"row_heading level0 row16\" >16</th>\n",
       "                        <td id=\"T_cd65e4b6_a616_11eb_b07c_8c8590bf39c4row16_col0\" class=\"data row16 col0\" >0.783600</td>\n",
       "                        <td id=\"T_cd65e4b6_a616_11eb_b07c_8c8590bf39c4row16_col1\" class=\"data row16 col1\" >0.789100</td>\n",
       "                        <td id=\"T_cd65e4b6_a616_11eb_b07c_8c8590bf39c4row16_col2\" class=\"data row16 col2\" >0.617800</td>\n",
       "                        <td id=\"T_cd65e4b6_a616_11eb_b07c_8c8590bf39c4row16_col3\" class=\"data row16 col3\" >False</td>\n",
       "            </tr>\n",
       "            <tr>\n",
       "                        <th id=\"T_cd65e4b6_a616_11eb_b07c_8c8590bf39c4level0_row17\" class=\"row_heading level0 row17\" >17</th>\n",
       "                        <td id=\"T_cd65e4b6_a616_11eb_b07c_8c8590bf39c4row17_col0\" class=\"data row17 col0\" >0.770800</td>\n",
       "                        <td id=\"T_cd65e4b6_a616_11eb_b07c_8c8590bf39c4row17_col1\" class=\"data row17 col1\" >0.784000</td>\n",
       "                        <td id=\"T_cd65e4b6_a616_11eb_b07c_8c8590bf39c4row17_col2\" class=\"data row17 col2\" >0.789300</td>\n",
       "                        <td id=\"T_cd65e4b6_a616_11eb_b07c_8c8590bf39c4row17_col3\" class=\"data row17 col3\" >False</td>\n",
       "            </tr>\n",
       "            <tr>\n",
       "                        <th id=\"T_cd65e4b6_a616_11eb_b07c_8c8590bf39c4level0_row18\" class=\"row_heading level0 row18\" >18</th>\n",
       "                        <td id=\"T_cd65e4b6_a616_11eb_b07c_8c8590bf39c4row18_col0\" class=\"data row18 col0\" >0.783900</td>\n",
       "                        <td id=\"T_cd65e4b6_a616_11eb_b07c_8c8590bf39c4row18_col1\" class=\"data row18 col1\" >0.779700</td>\n",
       "                        <td id=\"T_cd65e4b6_a616_11eb_b07c_8c8590bf39c4row18_col2\" class=\"data row18 col2\" >0.775500</td>\n",
       "                        <td id=\"T_cd65e4b6_a616_11eb_b07c_8c8590bf39c4row18_col3\" class=\"data row18 col3\" >False</td>\n",
       "            </tr>\n",
       "            <tr>\n",
       "                        <th id=\"T_cd65e4b6_a616_11eb_b07c_8c8590bf39c4level0_row19\" class=\"row_heading level0 row19\" >19</th>\n",
       "                        <td id=\"T_cd65e4b6_a616_11eb_b07c_8c8590bf39c4row19_col0\" class=\"data row19 col0\" >0.772800</td>\n",
       "                        <td id=\"T_cd65e4b6_a616_11eb_b07c_8c8590bf39c4row19_col1\" class=\"data row19 col1\" >0.782600</td>\n",
       "                        <td id=\"T_cd65e4b6_a616_11eb_b07c_8c8590bf39c4row19_col2\" class=\"data row19 col2\" >0.781700</td>\n",
       "                        <td id=\"T_cd65e4b6_a616_11eb_b07c_8c8590bf39c4row19_col3\" class=\"data row19 col3\" >False</td>\n",
       "            </tr>\n",
       "    </tbody></table>"
      ],
      "text/plain": [
       "<pandas.io.formats.style.Styler at 0x7fd1111a15d0>"
      ]
     },
     "execution_count": 98,
     "metadata": {},
     "output_type": "execute_result"
    }
   ],
   "source": [
    "df[[c for c in df.columns if 'rot' in c] + ['Seen']].reset_index().rename(columns={'index': 'Task'}).set_index('Task').style.background_gradient(low=df.min().min(), high=df.max().max(), axis=1)"
   ]
  },
  {
   "cell_type": "code",
   "execution_count": null,
   "metadata": {},
   "outputs": [],
   "source": []
  },
  {
   "cell_type": "code",
   "execution_count": null,
   "metadata": {},
   "outputs": [],
   "source": []
  },
  {
   "cell_type": "markdown",
   "metadata": {},
   "source": [
    "### Model Initialization (Cross task analysts, retraining last layer) -- Using mask from task 1"
   ]
  },
  {
   "cell_type": "code",
   "execution_count": 150,
   "metadata": {},
   "outputs": [],
   "source": [
    "num_tasks = 20 # For demonstration purposes, we go up to 2500 in our paper\n",
    "num_seed_tasks_learned = 15\n",
    "basis_model_hidf = BasisHiddenOnlyFrozenMultitaskFC(hidden_size=300,\n",
    "                            num_tasks=num_tasks, num_seed_tasks_learned=num_seed_tasks_learned, start_at_optimal=True)"
   ]
  },
  {
   "cell_type": "code",
   "execution_count": 151,
   "metadata": {},
   "outputs": [],
   "source": [
    "custom_state_dict = basis_model_hidf.state_dict().copy()\n",
    "custom_state_dict.update({k:v for k,v in model.state_dict().items() if k in custom_state_dict.keys()})"
   ]
  },
  {
   "cell_type": "code",
   "execution_count": 152,
   "metadata": {},
   "outputs": [],
   "source": [
    "for k in custom_state_dict.keys():\n",
    "    if k.startswith('model.0.scores.'):\n",
    "        custom_state_dict[k] = model.state_dict()['model.0.scores.1']\n",
    "    elif k.startswith('model.2.scores.'):\n",
    "        custom_state_dict[k] = model.state_dict()['model.2.scores.1']\n",
    "    elif k.startswith('model.0.basis_alphas.'):\n",
    "        custom_state_dict[k] = custom_state_dict['model.0.basis_alphas.1'] \n",
    "    elif k.startswith('model.2.basis_alphas.'):\n",
    "        custom_state_dict[k] = custom_state_dict['model.2.basis_alphas.1']"
   ]
  },
  {
   "cell_type": "code",
   "execution_count": 153,
   "metadata": {},
   "outputs": [
    {
     "data": {
      "text/plain": [
       "<All keys matched successfully>"
      ]
     },
     "execution_count": 153,
     "metadata": {},
     "output_type": "execute_result"
    }
   ],
   "source": [
    "basis_model_hidf.load_state_dict(custom_state_dict, False)"
   ]
  },
  {
   "cell_type": "code",
   "execution_count": 154,
   "metadata": {
    "scrolled": true
   },
   "outputs": [
    {
     "name": "stdout",
     "output_type": "stream",
     "text": [
      "Training for task 0\n",
      "=> Set task of model.0 to 0\n",
      "=> Set task of model.2 to 0\n",
      "=> Set task of model.4 to 0\n"
     ]
    },
    {
     "data": {
      "application/vnd.jupyter.widget-view+json": {
       "model_id": "",
       "version_major": 2,
       "version_minor": 0
      },
      "text/plain": [
       "  0%|          | 0/469 [00:00<?, ?it/s]"
      ]
     },
     "metadata": {},
     "output_type": "display_data"
    },
    {
     "name": "stdout",
     "output_type": "stream",
     "text": [
      "Validation => Loss 1.2569, Acc@1 0.6781\n",
      "============\n"
     ]
    },
    {
     "data": {
      "application/vnd.jupyter.widget-view+json": {
       "model_id": "",
       "version_major": 2,
       "version_minor": 0
      },
      "text/plain": [
       "  0%|          | 0/79 [00:00<?, ?it/s]"
      ]
     },
     "metadata": {},
     "output_type": "display_data"
    },
    {
     "name": "stdout",
     "output_type": "stream",
     "text": [
      "Val Perf after 1 epochs Acc@1 0.7532\n",
      "=> Caching mask state for model.0\n",
      "=> Caching mask state for model.2\n",
      "=> Caching mask state for model.4\n",
      "\n",
      "=> Setting learned tasks of model.0 to 1\n",
      "=> Setting learned tasks of model.2 to 1\n",
      "=> Setting learned tasks of model.4 to 1\n",
      "\n",
      "Training for task 1\n",
      "=> Set task of model.0 to 1\n",
      "=> Set task of model.2 to 1\n",
      "=> Set task of model.4 to 1\n"
     ]
    },
    {
     "data": {
      "application/vnd.jupyter.widget-view+json": {
       "model_id": "",
       "version_major": 2,
       "version_minor": 0
      },
      "text/plain": [
       "  0%|          | 0/469 [00:00<?, ?it/s]"
      ]
     },
     "metadata": {},
     "output_type": "display_data"
    },
    {
     "name": "stdout",
     "output_type": "stream",
     "text": [
      "Validation => Loss 0.2466, Acc@1 0.9264\n",
      "============\n"
     ]
    },
    {
     "data": {
      "application/vnd.jupyter.widget-view+json": {
       "model_id": "",
       "version_major": 2,
       "version_minor": 0
      },
      "text/plain": [
       "  0%|          | 0/79 [00:00<?, ?it/s]"
      ]
     },
     "metadata": {},
     "output_type": "display_data"
    },
    {
     "name": "stdout",
     "output_type": "stream",
     "text": [
      "Val Perf after 1 epochs Acc@1 0.9255\n",
      "=> Caching mask state for model.0\n",
      "=> Caching mask state for model.2\n",
      "=> Caching mask state for model.4\n",
      "\n",
      "=> Setting learned tasks of model.0 to 2\n",
      "=> Setting learned tasks of model.2 to 2\n",
      "=> Setting learned tasks of model.4 to 2\n",
      "\n",
      "Training for task 2\n",
      "=> Set task of model.0 to 2\n",
      "=> Set task of model.2 to 2\n",
      "=> Set task of model.4 to 2\n"
     ]
    },
    {
     "data": {
      "application/vnd.jupyter.widget-view+json": {
       "model_id": "",
       "version_major": 2,
       "version_minor": 0
      },
      "text/plain": [
       "  0%|          | 0/469 [00:00<?, ?it/s]"
      ]
     },
     "metadata": {},
     "output_type": "display_data"
    },
    {
     "name": "stdout",
     "output_type": "stream",
     "text": [
      "Validation => Loss 1.3622, Acc@1 0.6823\n",
      "============\n"
     ]
    },
    {
     "data": {
      "application/vnd.jupyter.widget-view+json": {
       "model_id": "",
       "version_major": 2,
       "version_minor": 0
      },
      "text/plain": [
       "  0%|          | 0/79 [00:00<?, ?it/s]"
      ]
     },
     "metadata": {},
     "output_type": "display_data"
    },
    {
     "name": "stdout",
     "output_type": "stream",
     "text": [
      "Val Perf after 1 epochs Acc@1 0.7264\n",
      "=> Caching mask state for model.0\n",
      "=> Caching mask state for model.2\n",
      "=> Caching mask state for model.4\n",
      "\n",
      "=> Setting learned tasks of model.0 to 3\n",
      "=> Setting learned tasks of model.2 to 3\n",
      "=> Setting learned tasks of model.4 to 3\n",
      "\n",
      "Training for task 3\n",
      "=> Set task of model.0 to 3\n",
      "=> Set task of model.2 to 3\n",
      "=> Set task of model.4 to 3\n"
     ]
    },
    {
     "data": {
      "application/vnd.jupyter.widget-view+json": {
       "model_id": "",
       "version_major": 2,
       "version_minor": 0
      },
      "text/plain": [
       "  0%|          | 0/469 [00:00<?, ?it/s]"
      ]
     },
     "metadata": {},
     "output_type": "display_data"
    },
    {
     "name": "stdout",
     "output_type": "stream",
     "text": [
      "Validation => Loss 1.2099, Acc@1 0.6797\n",
      "============\n"
     ]
    },
    {
     "data": {
      "application/vnd.jupyter.widget-view+json": {
       "model_id": "",
       "version_major": 2,
       "version_minor": 0
      },
      "text/plain": [
       "  0%|          | 0/79 [00:00<?, ?it/s]"
      ]
     },
     "metadata": {},
     "output_type": "display_data"
    },
    {
     "name": "stdout",
     "output_type": "stream",
     "text": [
      "Val Perf after 1 epochs Acc@1 0.7545\n",
      "=> Caching mask state for model.0\n",
      "=> Caching mask state for model.2\n",
      "=> Caching mask state for model.4\n",
      "\n",
      "=> Setting learned tasks of model.0 to 4\n",
      "=> Setting learned tasks of model.2 to 4\n",
      "=> Setting learned tasks of model.4 to 4\n",
      "\n",
      "Training for task 4\n",
      "=> Set task of model.0 to 4\n",
      "=> Set task of model.2 to 4\n",
      "=> Set task of model.4 to 4\n"
     ]
    },
    {
     "data": {
      "application/vnd.jupyter.widget-view+json": {
       "model_id": "",
       "version_major": 2,
       "version_minor": 0
      },
      "text/plain": [
       "  0%|          | 0/469 [00:00<?, ?it/s]"
      ]
     },
     "metadata": {},
     "output_type": "display_data"
    },
    {
     "name": "stdout",
     "output_type": "stream",
     "text": [
      "Validation => Loss 1.2536, Acc@1 0.6992\n",
      "============\n"
     ]
    },
    {
     "data": {
      "application/vnd.jupyter.widget-view+json": {
       "model_id": "",
       "version_major": 2,
       "version_minor": 0
      },
      "text/plain": [
       "  0%|          | 0/79 [00:00<?, ?it/s]"
      ]
     },
     "metadata": {},
     "output_type": "display_data"
    },
    {
     "name": "stdout",
     "output_type": "stream",
     "text": [
      "Val Perf after 1 epochs Acc@1 0.7502\n",
      "=> Caching mask state for model.0\n",
      "=> Caching mask state for model.2\n",
      "=> Caching mask state for model.4\n",
      "\n",
      "=> Setting learned tasks of model.0 to 5\n",
      "=> Setting learned tasks of model.2 to 5\n",
      "=> Setting learned tasks of model.4 to 5\n",
      "\n",
      "Training for task 5\n",
      "=> Set task of model.0 to 5\n",
      "=> Set task of model.2 to 5\n",
      "=> Set task of model.4 to 5\n"
     ]
    },
    {
     "data": {
      "application/vnd.jupyter.widget-view+json": {
       "model_id": "",
       "version_major": 2,
       "version_minor": 0
      },
      "text/plain": [
       "  0%|          | 0/469 [00:00<?, ?it/s]"
      ]
     },
     "metadata": {},
     "output_type": "display_data"
    },
    {
     "name": "stdout",
     "output_type": "stream",
     "text": [
      "Validation => Loss 1.2599, Acc@1 0.6986\n",
      "============\n"
     ]
    },
    {
     "data": {
      "application/vnd.jupyter.widget-view+json": {
       "model_id": "",
       "version_major": 2,
       "version_minor": 0
      },
      "text/plain": [
       "  0%|          | 0/79 [00:00<?, ?it/s]"
      ]
     },
     "metadata": {},
     "output_type": "display_data"
    },
    {
     "name": "stdout",
     "output_type": "stream",
     "text": [
      "Val Perf after 1 epochs Acc@1 0.7388\n",
      "=> Caching mask state for model.0\n",
      "=> Caching mask state for model.2\n",
      "=> Caching mask state for model.4\n",
      "\n",
      "=> Setting learned tasks of model.0 to 6\n",
      "=> Setting learned tasks of model.2 to 6\n",
      "=> Setting learned tasks of model.4 to 6\n",
      "\n",
      "Training for task 6\n",
      "=> Set task of model.0 to 6\n",
      "=> Set task of model.2 to 6\n",
      "=> Set task of model.4 to 6\n"
     ]
    },
    {
     "data": {
      "application/vnd.jupyter.widget-view+json": {
       "model_id": "",
       "version_major": 2,
       "version_minor": 0
      },
      "text/plain": [
       "  0%|          | 0/469 [00:00<?, ?it/s]"
      ]
     },
     "metadata": {},
     "output_type": "display_data"
    },
    {
     "name": "stdout",
     "output_type": "stream",
     "text": [
      "Validation => Loss 1.4251, Acc@1 0.6702\n",
      "============\n"
     ]
    },
    {
     "data": {
      "application/vnd.jupyter.widget-view+json": {
       "model_id": "",
       "version_major": 2,
       "version_minor": 0
      },
      "text/plain": [
       "  0%|          | 0/79 [00:00<?, ?it/s]"
      ]
     },
     "metadata": {},
     "output_type": "display_data"
    },
    {
     "name": "stdout",
     "output_type": "stream",
     "text": [
      "Val Perf after 1 epochs Acc@1 0.7403\n",
      "=> Caching mask state for model.0\n",
      "=> Caching mask state for model.2\n",
      "=> Caching mask state for model.4\n",
      "\n",
      "=> Setting learned tasks of model.0 to 7\n",
      "=> Setting learned tasks of model.2 to 7\n",
      "=> Setting learned tasks of model.4 to 7\n",
      "\n",
      "Training for task 7\n",
      "=> Set task of model.0 to 7\n",
      "=> Set task of model.2 to 7\n",
      "=> Set task of model.4 to 7\n"
     ]
    },
    {
     "data": {
      "application/vnd.jupyter.widget-view+json": {
       "model_id": "",
       "version_major": 2,
       "version_minor": 0
      },
      "text/plain": [
       "  0%|          | 0/469 [00:00<?, ?it/s]"
      ]
     },
     "metadata": {},
     "output_type": "display_data"
    },
    {
     "name": "stdout",
     "output_type": "stream",
     "text": [
      "Validation => Loss 1.2303, Acc@1 0.6891\n",
      "============\n"
     ]
    },
    {
     "data": {
      "application/vnd.jupyter.widget-view+json": {
       "model_id": "",
       "version_major": 2,
       "version_minor": 0
      },
      "text/plain": [
       "  0%|          | 0/79 [00:00<?, ?it/s]"
      ]
     },
     "metadata": {},
     "output_type": "display_data"
    },
    {
     "name": "stdout",
     "output_type": "stream",
     "text": [
      "Val Perf after 1 epochs Acc@1 0.7418\n",
      "=> Caching mask state for model.0\n",
      "=> Caching mask state for model.2\n",
      "=> Caching mask state for model.4\n",
      "\n",
      "=> Setting learned tasks of model.0 to 8\n",
      "=> Setting learned tasks of model.2 to 8\n",
      "=> Setting learned tasks of model.4 to 8\n",
      "\n",
      "Training for task 8\n",
      "=> Set task of model.0 to 8\n",
      "=> Set task of model.2 to 8\n",
      "=> Set task of model.4 to 8\n"
     ]
    },
    {
     "data": {
      "application/vnd.jupyter.widget-view+json": {
       "model_id": "",
       "version_major": 2,
       "version_minor": 0
      },
      "text/plain": [
       "  0%|          | 0/469 [00:00<?, ?it/s]"
      ]
     },
     "metadata": {},
     "output_type": "display_data"
    },
    {
     "name": "stdout",
     "output_type": "stream",
     "text": [
      "Validation => Loss 1.3831, Acc@1 0.6735\n",
      "============\n"
     ]
    },
    {
     "data": {
      "application/vnd.jupyter.widget-view+json": {
       "model_id": "",
       "version_major": 2,
       "version_minor": 0
      },
      "text/plain": [
       "  0%|          | 0/79 [00:00<?, ?it/s]"
      ]
     },
     "metadata": {},
     "output_type": "display_data"
    },
    {
     "name": "stdout",
     "output_type": "stream",
     "text": [
      "Val Perf after 1 epochs Acc@1 0.7159\n",
      "=> Caching mask state for model.0\n",
      "=> Caching mask state for model.2\n",
      "=> Caching mask state for model.4\n",
      "\n",
      "=> Setting learned tasks of model.0 to 9\n",
      "=> Setting learned tasks of model.2 to 9\n",
      "=> Setting learned tasks of model.4 to 9\n",
      "\n",
      "Training for task 9\n",
      "=> Set task of model.0 to 9\n",
      "=> Set task of model.2 to 9\n",
      "=> Set task of model.4 to 9\n"
     ]
    },
    {
     "data": {
      "application/vnd.jupyter.widget-view+json": {
       "model_id": "",
       "version_major": 2,
       "version_minor": 0
      },
      "text/plain": [
       "  0%|          | 0/469 [00:00<?, ?it/s]"
      ]
     },
     "metadata": {},
     "output_type": "display_data"
    },
    {
     "name": "stdout",
     "output_type": "stream",
     "text": [
      "Validation => Loss 1.3074, Acc@1 0.6859\n",
      "============\n"
     ]
    },
    {
     "data": {
      "application/vnd.jupyter.widget-view+json": {
       "model_id": "",
       "version_major": 2,
       "version_minor": 0
      },
      "text/plain": [
       "  0%|          | 0/79 [00:00<?, ?it/s]"
      ]
     },
     "metadata": {},
     "output_type": "display_data"
    },
    {
     "name": "stdout",
     "output_type": "stream",
     "text": [
      "Val Perf after 1 epochs Acc@1 0.7426\n",
      "=> Caching mask state for model.0\n",
      "=> Caching mask state for model.2\n",
      "=> Caching mask state for model.4\n",
      "\n",
      "=> Setting learned tasks of model.0 to 10\n",
      "=> Setting learned tasks of model.2 to 10\n",
      "=> Setting learned tasks of model.4 to 10\n",
      "\n",
      "Training for task 10\n",
      "=> Set task of model.0 to 10\n",
      "=> Set task of model.2 to 10\n",
      "=> Set task of model.4 to 10\n"
     ]
    },
    {
     "data": {
      "application/vnd.jupyter.widget-view+json": {
       "model_id": "",
       "version_major": 2,
       "version_minor": 0
      },
      "text/plain": [
       "  0%|          | 0/469 [00:00<?, ?it/s]"
      ]
     },
     "metadata": {},
     "output_type": "display_data"
    },
    {
     "name": "stdout",
     "output_type": "stream",
     "text": [
      "Validation => Loss 1.3204, Acc@1 0.6790\n",
      "============\n"
     ]
    },
    {
     "data": {
      "application/vnd.jupyter.widget-view+json": {
       "model_id": "",
       "version_major": 2,
       "version_minor": 0
      },
      "text/plain": [
       "  0%|          | 0/79 [00:00<?, ?it/s]"
      ]
     },
     "metadata": {},
     "output_type": "display_data"
    },
    {
     "name": "stdout",
     "output_type": "stream",
     "text": [
      "Val Perf after 1 epochs Acc@1 0.7348\n",
      "=> Caching mask state for model.0\n",
      "=> Caching mask state for model.2\n",
      "=> Caching mask state for model.4\n",
      "\n",
      "=> Setting learned tasks of model.0 to 11\n",
      "=> Setting learned tasks of model.2 to 11\n",
      "=> Setting learned tasks of model.4 to 11\n",
      "\n",
      "Training for task 11\n",
      "=> Set task of model.0 to 11\n",
      "=> Set task of model.2 to 11\n",
      "=> Set task of model.4 to 11\n"
     ]
    },
    {
     "data": {
      "application/vnd.jupyter.widget-view+json": {
       "model_id": "",
       "version_major": 2,
       "version_minor": 0
      },
      "text/plain": [
       "  0%|          | 0/469 [00:00<?, ?it/s]"
      ]
     },
     "metadata": {},
     "output_type": "display_data"
    },
    {
     "name": "stdout",
     "output_type": "stream",
     "text": [
      "Validation => Loss 1.2982, Acc@1 0.6995\n",
      "============\n"
     ]
    },
    {
     "data": {
      "application/vnd.jupyter.widget-view+json": {
       "model_id": "",
       "version_major": 2,
       "version_minor": 0
      },
      "text/plain": [
       "  0%|          | 0/79 [00:00<?, ?it/s]"
      ]
     },
     "metadata": {},
     "output_type": "display_data"
    },
    {
     "name": "stdout",
     "output_type": "stream",
     "text": [
      "Val Perf after 1 epochs Acc@1 0.7444\n",
      "=> Caching mask state for model.0\n",
      "=> Caching mask state for model.2\n",
      "=> Caching mask state for model.4\n",
      "\n",
      "=> Setting learned tasks of model.0 to 12\n",
      "=> Setting learned tasks of model.2 to 12\n",
      "=> Setting learned tasks of model.4 to 12\n",
      "\n",
      "Training for task 12\n",
      "=> Set task of model.0 to 12\n",
      "=> Set task of model.2 to 12\n",
      "=> Set task of model.4 to 12\n"
     ]
    },
    {
     "data": {
      "application/vnd.jupyter.widget-view+json": {
       "model_id": "",
       "version_major": 2,
       "version_minor": 0
      },
      "text/plain": [
       "  0%|          | 0/469 [00:00<?, ?it/s]"
      ]
     },
     "metadata": {},
     "output_type": "display_data"
    },
    {
     "name": "stdout",
     "output_type": "stream",
     "text": [
      "Validation => Loss 1.3106, Acc@1 0.6895\n",
      "============\n"
     ]
    },
    {
     "data": {
      "application/vnd.jupyter.widget-view+json": {
       "model_id": "",
       "version_major": 2,
       "version_minor": 0
      },
      "text/plain": [
       "  0%|          | 0/79 [00:00<?, ?it/s]"
      ]
     },
     "metadata": {},
     "output_type": "display_data"
    },
    {
     "name": "stdout",
     "output_type": "stream",
     "text": [
      "Val Perf after 1 epochs Acc@1 0.7263\n",
      "=> Caching mask state for model.0\n",
      "=> Caching mask state for model.2\n",
      "=> Caching mask state for model.4\n",
      "\n",
      "=> Setting learned tasks of model.0 to 13\n",
      "=> Setting learned tasks of model.2 to 13\n",
      "=> Setting learned tasks of model.4 to 13\n",
      "\n",
      "Training for task 13\n",
      "=> Set task of model.0 to 13\n",
      "=> Set task of model.2 to 13\n",
      "=> Set task of model.4 to 13\n"
     ]
    },
    {
     "data": {
      "application/vnd.jupyter.widget-view+json": {
       "model_id": "",
       "version_major": 2,
       "version_minor": 0
      },
      "text/plain": [
       "  0%|          | 0/469 [00:00<?, ?it/s]"
      ]
     },
     "metadata": {},
     "output_type": "display_data"
    },
    {
     "name": "stdout",
     "output_type": "stream",
     "text": [
      "Validation => Loss 1.4135, Acc@1 0.6686\n",
      "============\n"
     ]
    },
    {
     "data": {
      "application/vnd.jupyter.widget-view+json": {
       "model_id": "",
       "version_major": 2,
       "version_minor": 0
      },
      "text/plain": [
       "  0%|          | 0/79 [00:00<?, ?it/s]"
      ]
     },
     "metadata": {},
     "output_type": "display_data"
    },
    {
     "name": "stdout",
     "output_type": "stream",
     "text": [
      "Val Perf after 1 epochs Acc@1 0.7333\n",
      "=> Caching mask state for model.0\n",
      "=> Caching mask state for model.2\n",
      "=> Caching mask state for model.4\n",
      "\n",
      "=> Setting learned tasks of model.0 to 14\n",
      "=> Setting learned tasks of model.2 to 14\n",
      "=> Setting learned tasks of model.4 to 14\n",
      "\n",
      "Training for task 14\n",
      "=> Set task of model.0 to 14\n",
      "=> Set task of model.2 to 14\n",
      "=> Set task of model.4 to 14\n"
     ]
    },
    {
     "data": {
      "application/vnd.jupyter.widget-view+json": {
       "model_id": "",
       "version_major": 2,
       "version_minor": 0
      },
      "text/plain": [
       "  0%|          | 0/469 [00:00<?, ?it/s]"
      ]
     },
     "metadata": {},
     "output_type": "display_data"
    },
    {
     "name": "stdout",
     "output_type": "stream",
     "text": [
      "Validation => Loss 1.3660, Acc@1 0.6878\n",
      "============\n"
     ]
    },
    {
     "data": {
      "application/vnd.jupyter.widget-view+json": {
       "model_id": "",
       "version_major": 2,
       "version_minor": 0
      },
      "text/plain": [
       "  0%|          | 0/79 [00:00<?, ?it/s]"
      ]
     },
     "metadata": {},
     "output_type": "display_data"
    },
    {
     "name": "stdout",
     "output_type": "stream",
     "text": [
      "Val Perf after 1 epochs Acc@1 0.7275\n",
      "=> Caching mask state for model.0\n",
      "=> Caching mask state for model.2\n",
      "=> Caching mask state for model.4\n",
      "\n",
      "=> Setting learned tasks of model.0 to 15\n",
      "=> Setting learned tasks of model.2 to 15\n",
      "=> Setting learned tasks of model.4 to 15\n",
      "\n",
      "Training for task 15\n",
      "=> Set task of model.0 to 15\n",
      "=> Set task of model.2 to 15\n",
      "=> Set task of model.4 to 15\n"
     ]
    },
    {
     "data": {
      "application/vnd.jupyter.widget-view+json": {
       "model_id": "",
       "version_major": 2,
       "version_minor": 0
      },
      "text/plain": [
       "  0%|          | 0/469 [00:00<?, ?it/s]"
      ]
     },
     "metadata": {},
     "output_type": "display_data"
    },
    {
     "name": "stdout",
     "output_type": "stream",
     "text": [
      "Validation => Loss 1.4274, Acc@1 0.6774\n",
      "============\n"
     ]
    },
    {
     "data": {
      "application/vnd.jupyter.widget-view+json": {
       "model_id": "",
       "version_major": 2,
       "version_minor": 0
      },
      "text/plain": [
       "  0%|          | 0/79 [00:00<?, ?it/s]"
      ]
     },
     "metadata": {},
     "output_type": "display_data"
    },
    {
     "name": "stdout",
     "output_type": "stream",
     "text": [
      "Val Perf after 1 epochs Acc@1 0.7323\n",
      "=> Caching mask state for model.0\n",
      "=> Caching mask state for model.2\n",
      "=> Caching mask state for model.4\n",
      "\n",
      "=> Setting learned tasks of model.0 to 16\n",
      "=> Setting learned tasks of model.2 to 16\n",
      "=> Setting learned tasks of model.4 to 16\n",
      "\n",
      "Training for task 16\n",
      "=> Set task of model.0 to 16\n",
      "=> Set task of model.2 to 16\n",
      "=> Set task of model.4 to 16\n"
     ]
    },
    {
     "data": {
      "application/vnd.jupyter.widget-view+json": {
       "model_id": "",
       "version_major": 2,
       "version_minor": 0
      },
      "text/plain": [
       "  0%|          | 0/469 [00:00<?, ?it/s]"
      ]
     },
     "metadata": {},
     "output_type": "display_data"
    },
    {
     "name": "stdout",
     "output_type": "stream",
     "text": [
      "Validation => Loss 1.1801, Acc@1 0.6914\n",
      "============\n"
     ]
    },
    {
     "data": {
      "application/vnd.jupyter.widget-view+json": {
       "model_id": "",
       "version_major": 2,
       "version_minor": 0
      },
      "text/plain": [
       "  0%|          | 0/79 [00:00<?, ?it/s]"
      ]
     },
     "metadata": {},
     "output_type": "display_data"
    },
    {
     "name": "stdout",
     "output_type": "stream",
     "text": [
      "Val Perf after 1 epochs Acc@1 0.7298\n",
      "=> Caching mask state for model.0\n",
      "=> Caching mask state for model.2\n",
      "=> Caching mask state for model.4\n",
      "\n",
      "=> Setting learned tasks of model.0 to 17\n",
      "=> Setting learned tasks of model.2 to 17\n",
      "=> Setting learned tasks of model.4 to 17\n",
      "\n",
      "Training for task 17\n",
      "=> Set task of model.0 to 17\n",
      "=> Set task of model.2 to 17\n",
      "=> Set task of model.4 to 17\n"
     ]
    },
    {
     "data": {
      "application/vnd.jupyter.widget-view+json": {
       "model_id": "",
       "version_major": 2,
       "version_minor": 0
      },
      "text/plain": [
       "  0%|          | 0/469 [00:00<?, ?it/s]"
      ]
     },
     "metadata": {},
     "output_type": "display_data"
    },
    {
     "name": "stdout",
     "output_type": "stream",
     "text": [
      "Validation => Loss 1.3168, Acc@1 0.6771\n",
      "============\n"
     ]
    },
    {
     "data": {
      "application/vnd.jupyter.widget-view+json": {
       "model_id": "",
       "version_major": 2,
       "version_minor": 0
      },
      "text/plain": [
       "  0%|          | 0/79 [00:00<?, ?it/s]"
      ]
     },
     "metadata": {},
     "output_type": "display_data"
    },
    {
     "name": "stdout",
     "output_type": "stream",
     "text": [
      "Val Perf after 1 epochs Acc@1 0.7155\n",
      "=> Caching mask state for model.0\n",
      "=> Caching mask state for model.2\n",
      "=> Caching mask state for model.4\n",
      "\n",
      "=> Setting learned tasks of model.0 to 18\n",
      "=> Setting learned tasks of model.2 to 18\n",
      "=> Setting learned tasks of model.4 to 18\n",
      "\n",
      "Training for task 18\n",
      "=> Set task of model.0 to 18\n",
      "=> Set task of model.2 to 18\n",
      "=> Set task of model.4 to 18\n"
     ]
    },
    {
     "data": {
      "application/vnd.jupyter.widget-view+json": {
       "model_id": "",
       "version_major": 2,
       "version_minor": 0
      },
      "text/plain": [
       "  0%|          | 0/469 [00:00<?, ?it/s]"
      ]
     },
     "metadata": {},
     "output_type": "display_data"
    },
    {
     "name": "stdout",
     "output_type": "stream",
     "text": [
      "Validation => Loss 1.4470, Acc@1 0.6465\n",
      "============\n"
     ]
    },
    {
     "data": {
      "application/vnd.jupyter.widget-view+json": {
       "model_id": "",
       "version_major": 2,
       "version_minor": 0
      },
      "text/plain": [
       "  0%|          | 0/79 [00:00<?, ?it/s]"
      ]
     },
     "metadata": {},
     "output_type": "display_data"
    },
    {
     "name": "stdout",
     "output_type": "stream",
     "text": [
      "Val Perf after 1 epochs Acc@1 0.7047\n",
      "=> Caching mask state for model.0\n",
      "=> Caching mask state for model.2\n",
      "=> Caching mask state for model.4\n",
      "\n",
      "=> Setting learned tasks of model.0 to 19\n",
      "=> Setting learned tasks of model.2 to 19\n",
      "=> Setting learned tasks of model.4 to 19\n",
      "\n",
      "Training for task 19\n",
      "=> Set task of model.0 to 19\n",
      "=> Set task of model.2 to 19\n",
      "=> Set task of model.4 to 19\n"
     ]
    },
    {
     "data": {
      "application/vnd.jupyter.widget-view+json": {
       "model_id": "",
       "version_major": 2,
       "version_minor": 0
      },
      "text/plain": [
       "  0%|          | 0/469 [00:00<?, ?it/s]"
      ]
     },
     "metadata": {},
     "output_type": "display_data"
    },
    {
     "name": "stdout",
     "output_type": "stream",
     "text": [
      "Validation => Loss 1.3594, Acc@1 0.6986\n",
      "============\n"
     ]
    },
    {
     "data": {
      "application/vnd.jupyter.widget-view+json": {
       "model_id": "",
       "version_major": 2,
       "version_minor": 0
      },
      "text/plain": [
       "  0%|          | 0/79 [00:00<?, ?it/s]"
      ]
     },
     "metadata": {},
     "output_type": "display_data"
    },
    {
     "name": "stdout",
     "output_type": "stream",
     "text": [
      "Val Perf after 1 epochs Acc@1 0.7639\n",
      "=> Caching mask state for model.0\n",
      "=> Caching mask state for model.2\n",
      "=> Caching mask state for model.4\n",
      "\n",
      "=> Setting learned tasks of model.0 to 20\n",
      "=> Setting learned tasks of model.2 to 20\n",
      "=> Setting learned tasks of model.4 to 20\n",
      "\n"
     ]
    }
   ],
   "source": [
    "for task in range(0, num_tasks):\n",
    "    print(f\"Training for task {task}\")\n",
    "    set_model_task(basis_model_hidf, task)\n",
    "    mnist.update_task(task)\n",
    "\n",
    "    optimizer = optim.RMSprop([p for p in basis_model_hidf.parameters() if p.requires_grad], lr=1e-3)\n",
    "    # Train for 1 epoch\n",
    "    for e in range(1):\n",
    "        train(basis_model_hidf, mnist.train_loader, optimizer, e)\n",
    "        \n",
    "        print(\"Validation\")\n",
    "        print(\"============\")\n",
    "        acc1 = evaluate(basis_model_hidf, mnist.val_loader, e)\n",
    "        \n",
    "    \n",
    "    cache_masks(basis_model_hidf)\n",
    "    print()\n",
    "    set_num_tasks_learned(basis_model_hidf, task + 1)\n",
    "    print()"
   ]
  },
  {
   "cell_type": "code",
   "execution_count": 155,
   "metadata": {},
   "outputs": [
    {
     "name": "stdout",
     "output_type": "stream",
     "text": [
      "Average top 1 performance: 0.7451\n",
      "Per task performance\n",
      "Task 0: 0.7532\n",
      "Task 1: 0.9255\n",
      "Task 2: 0.7264\n",
      "Task 3: 0.7545\n",
      "Task 4: 0.7502\n",
      "Task 5: 0.7388\n",
      "Task 6: 0.7403\n",
      "Task 7: 0.7418\n",
      "Task 8: 0.7159\n",
      "Task 9: 0.7426\n",
      "Task 10: 0.7348\n",
      "Task 11: 0.7444\n",
      "Task 12: 0.7263\n",
      "Task 13: 0.7333\n",
      "Task 14: 0.7275\n",
      "Task 15: 0.7323\n",
      "Task 16: 0.7298\n",
      "Task 17: 0.7155\n",
      "Task 18: 0.7047\n",
      "Task 19: 0.7639\n"
     ]
    }
   ],
   "source": [
    "# When task ID we can simply set the mask and evaluate\n",
    "\n",
    "gg_performance = []\n",
    "for task in range(num_tasks):\n",
    "    set_model_task(basis_model_hidf, task)\n",
    "    mnist.update_task(task)\n",
    "    acc1 = evaluate(basis_model_hidf, mnist.val_loader, 0)\n",
    "    gg_performance.append(acc1.item())\n",
    "\n",
    "clear_output()\n",
    "    \n",
    "print(f\"Average top 1 performance: {(sum(gg_performance) / len(gg_performance)):.4f}\")\n",
    "\n",
    "print(\"Per task performance\")\n",
    "for t in range(num_tasks):\n",
    "    print(f\"Task {t}: {gg_performance[t]:.4f}\")"
   ]
  },
  {
   "cell_type": "code",
   "execution_count": null,
   "metadata": {},
   "outputs": [],
   "source": []
  },
  {
   "cell_type": "markdown",
   "metadata": {},
   "source": [
    "### Model Initialization (Cross task analysis, no retraining) -- Using mask from task 1"
   ]
  },
  {
   "cell_type": "code",
   "execution_count": 156,
   "metadata": {},
   "outputs": [],
   "source": [
    "num_tasks = 20 # For demonstration purposes, we go up to 2500 in our paper\n",
    "num_seed_tasks_learned = 15\n",
    "basis_model_hidf = BasisHiddenOnlyFrozenMultitaskFC(hidden_size=300,\n",
    "                            num_tasks=num_tasks, num_seed_tasks_learned=num_seed_tasks_learned, start_at_optimal=True)"
   ]
  },
  {
   "cell_type": "code",
   "execution_count": 157,
   "metadata": {},
   "outputs": [],
   "source": [
    "custom_state_dict = basis_model_hidf.state_dict().copy()\n",
    "custom_state_dict.update({k:v for k,v in model.state_dict().items() if k in custom_state_dict.keys()})"
   ]
  },
  {
   "cell_type": "code",
   "execution_count": 158,
   "metadata": {},
   "outputs": [],
   "source": [
    "for k in custom_state_dict.keys():\n",
    "    if k.startswith('model.0.scores.'):\n",
    "        custom_state_dict[k] = model.state_dict()['model.0.scores.1']\n",
    "    elif k.startswith('model.2.scores.'):\n",
    "        custom_state_dict[k] = model.state_dict()['model.2.scores.1']\n",
    "    elif k.startswith('model.0.basis_alphas.'):\n",
    "        custom_state_dict[k] = custom_state_dict['model.0.basis_alphas.1'] \n",
    "    elif k.startswith('model.2.basis_alphas.'):\n",
    "        custom_state_dict[k] = custom_state_dict['model.2.basis_alphas.1']"
   ]
  },
  {
   "cell_type": "code",
   "execution_count": 159,
   "metadata": {},
   "outputs": [
    {
     "data": {
      "text/plain": [
       "<All keys matched successfully>"
      ]
     },
     "execution_count": 159,
     "metadata": {},
     "output_type": "execute_result"
    }
   ],
   "source": [
    "basis_model_hidf.load_state_dict(custom_state_dict, False)"
   ]
  },
  {
   "cell_type": "code",
   "execution_count": 160,
   "metadata": {},
   "outputs": [
    {
     "name": "stdout",
     "output_type": "stream",
     "text": [
      "Average top 1 performance: 0.1613\n",
      "Per task performance\n",
      "Task 0: 0.1073\n",
      "Task 1: 0.9254\n",
      "Task 2: 0.1172\n",
      "Task 3: 0.1276\n",
      "Task 4: 0.1462\n",
      "Task 5: 0.1692\n",
      "Task 6: 0.0631\n",
      "Task 7: 0.1727\n",
      "Task 8: 0.1064\n",
      "Task 9: 0.1177\n",
      "Task 10: 0.0599\n",
      "Task 11: 0.0703\n",
      "Task 12: 0.1214\n",
      "Task 13: 0.1373\n",
      "Task 14: 0.2012\n",
      "Task 15: 0.0746\n",
      "Task 16: 0.0833\n",
      "Task 17: 0.1350\n",
      "Task 18: 0.1045\n",
      "Task 19: 0.1858\n"
     ]
    }
   ],
   "source": [
    "# When task ID we can simply set the mask and evaluate\n",
    "\n",
    "gg_performance = []\n",
    "for task in range(num_tasks):\n",
    "    set_model_task(basis_model_hidf, task)\n",
    "    mnist.update_task(task)\n",
    "    acc1 = evaluate(basis_model_hidf, mnist.val_loader, 0)\n",
    "    gg_performance.append(acc1.item())\n",
    "\n",
    "clear_output()\n",
    "    \n",
    "print(f\"Average top 1 performance: {(sum(gg_performance) / len(gg_performance)):.4f}\")\n",
    "\n",
    "print(\"Per task performance\")\n",
    "for t in range(num_tasks):\n",
    "    print(f\"Task {t}: {gg_performance[t]:.4f}\")"
   ]
  },
  {
   "cell_type": "code",
   "execution_count": null,
   "metadata": {},
   "outputs": [],
   "source": []
  },
  {
   "cell_type": "code",
   "execution_count": 204,
   "metadata": {},
   "outputs": [],
   "source": [
    "mnist1 = MNISTPerm()\n",
    "mnist2 = MNISTPerm()\n",
    "mnist3 = MNISTPerm()\n",
    "mnist4 = MNISTPerm()"
   ]
  },
  {
   "cell_type": "code",
   "execution_count": 207,
   "metadata": {},
   "outputs": [],
   "source": [
    "weight_dict = {k: v for k,v in model.state_dict().items() if k.endswith('weight')}"
   ]
  },
  {
   "cell_type": "code",
   "execution_count": 208,
   "metadata": {},
   "outputs": [
    {
     "data": {
      "text/plain": [
       "<All keys matched successfully>"
      ]
     },
     "execution_count": 208,
     "metadata": {},
     "output_type": "execute_result"
    }
   ],
   "source": [
    "# Task ID given during train time\n",
    "from IPython.display import clear_output\n",
    "\n",
    "num_tasks = 5 # For demonstration purposes, we go up to 2500 in our paper\n",
    "model1 = MultitaskFC(hidden_size=300, num_tasks=num_tasks)\n",
    "sd1 = model1.state_dict()\n",
    "sd1.update(weight_dict)\n",
    "model1.load_state_dict(sd1)\n",
    "model2 = MultitaskFC(hidden_size=300, num_tasks=num_tasks)\n",
    "sd2 = model2.state_dict()\n",
    "sd2.update(weight_dict)\n",
    "model2.load_state_dict(sd2)\n",
    "model3 = MultitaskFC(hidden_size=300, num_tasks=num_tasks)\n",
    "sd3 = model3.state_dict()\n",
    "sd3.update(weight_dict)\n",
    "model3.load_state_dict(sd3)"
   ]
  },
  {
   "cell_type": "code",
   "execution_count": 209,
   "metadata": {
    "scrolled": true
   },
   "outputs": [
    {
     "name": "stdout",
     "output_type": "stream",
     "text": [
      "Training for task 0\n",
      "=> Set task of model.0 to 0\n",
      "=> Set task of model.2 to 0\n",
      "=> Set task of model.4 to 0\n",
      "=> Set task of model.0 to 0\n",
      "=> Set task of model.2 to 0\n",
      "=> Set task of model.4 to 0\n",
      "=> Set task of model.0 to 0\n",
      "=> Set task of model.2 to 0\n",
      "=> Set task of model.4 to 0\n"
     ]
    },
    {
     "data": {
      "application/vnd.jupyter.widget-view+json": {
       "model_id": "be45a9b0a49945f698382dc9a25dde9c",
       "version_major": 2,
       "version_minor": 0
      },
      "text/plain": [
       "  0%|          | 0/469 [00:00<?, ?it/s]"
      ]
     },
     "metadata": {},
     "output_type": "display_data"
    },
    {
     "name": "stdout",
     "output_type": "stream",
     "text": [
      "e0 461/469 => Loss 0.3208, Acc@1 0.8499\r"
     ]
    },
    {
     "data": {
      "application/vnd.jupyter.widget-view+json": {
       "model_id": "6d0f21b121124cd0995b65c192a37aa7",
       "version_major": 2,
       "version_minor": 0
      },
      "text/plain": [
       "  0%|          | 0/469 [00:00<?, ?it/s]"
      ]
     },
     "metadata": {},
     "output_type": "display_data"
    },
    {
     "name": "stdout",
     "output_type": "stream",
     "text": [
      "e0 461/469 => Loss 0.2200, Acc@1 0.8571\r"
     ]
    },
    {
     "data": {
      "application/vnd.jupyter.widget-view+json": {
       "model_id": "a18258a1ab4543de9a4bbaf45d645f14",
       "version_major": 2,
       "version_minor": 0
      },
      "text/plain": [
       "  0%|          | 0/469 [00:00<?, ?it/s]"
      ]
     },
     "metadata": {},
     "output_type": "display_data"
    },
    {
     "name": "stdout",
     "output_type": "stream",
     "text": [
      "=> Caching mask state for model.00.8561\n",
      "=> Caching mask state for model.2\n",
      "=> Caching mask state for model.4\n",
      "=> Caching mask state for model.0\n",
      "=> Caching mask state for model.2\n",
      "=> Caching mask state for model.4\n",
      "=> Caching mask state for model.0\n",
      "=> Caching mask state for model.2\n",
      "=> Caching mask state for model.4\n",
      "\n",
      "=> Setting learned tasks of model.0 to 1\n",
      "=> Setting learned tasks of model.2 to 1\n",
      "=> Setting learned tasks of model.4 to 1\n",
      "=> Setting learned tasks of model.0 to 1\n",
      "=> Setting learned tasks of model.2 to 1\n",
      "=> Setting learned tasks of model.4 to 1\n",
      "=> Setting learned tasks of model.0 to 1\n",
      "=> Setting learned tasks of model.2 to 1\n",
      "=> Setting learned tasks of model.4 to 1\n",
      "\n",
      "Training for task 1\n",
      "=> Set task of model.0 to 1\n",
      "=> Set task of model.2 to 1\n",
      "=> Set task of model.4 to 1\n",
      "=> Set task of model.0 to 1\n",
      "=> Set task of model.2 to 1\n",
      "=> Set task of model.4 to 1\n",
      "=> Set task of model.0 to 1\n",
      "=> Set task of model.2 to 1\n",
      "=> Set task of model.4 to 1\n"
     ]
    },
    {
     "data": {
      "application/vnd.jupyter.widget-view+json": {
       "model_id": "6d09ef3b464c4057ad0ef1ec5de5f4a3",
       "version_major": 2,
       "version_minor": 0
      },
      "text/plain": [
       "  0%|          | 0/469 [00:00<?, ?it/s]"
      ]
     },
     "metadata": {},
     "output_type": "display_data"
    },
    {
     "name": "stdout",
     "output_type": "stream",
     "text": [
      "e0 461/469 => Loss 0.3774, Acc@1 0.8480\r"
     ]
    },
    {
     "data": {
      "application/vnd.jupyter.widget-view+json": {
       "model_id": "d925365b74cb4b1e8eaa05605236f68c",
       "version_major": 2,
       "version_minor": 0
      },
      "text/plain": [
       "  0%|          | 0/469 [00:00<?, ?it/s]"
      ]
     },
     "metadata": {},
     "output_type": "display_data"
    },
    {
     "name": "stdout",
     "output_type": "stream",
     "text": [
      "e0 461/469 => Loss 0.2575, Acc@1 0.8548\r"
     ]
    },
    {
     "data": {
      "application/vnd.jupyter.widget-view+json": {
       "model_id": "51ae14c6db60464695c29dba537e7183",
       "version_major": 2,
       "version_minor": 0
      },
      "text/plain": [
       "  0%|          | 0/469 [00:00<?, ?it/s]"
      ]
     },
     "metadata": {},
     "output_type": "display_data"
    },
    {
     "name": "stdout",
     "output_type": "stream",
     "text": [
      "=> Caching mask state for model.00.8451\n",
      "=> Caching mask state for model.2\n",
      "=> Caching mask state for model.4\n",
      "=> Caching mask state for model.0\n",
      "=> Caching mask state for model.2\n",
      "=> Caching mask state for model.4\n",
      "=> Caching mask state for model.0\n",
      "=> Caching mask state for model.2\n",
      "=> Caching mask state for model.4\n",
      "\n",
      "=> Setting learned tasks of model.0 to 2\n",
      "=> Setting learned tasks of model.2 to 2\n",
      "=> Setting learned tasks of model.4 to 2\n",
      "=> Setting learned tasks of model.0 to 2\n",
      "=> Setting learned tasks of model.2 to 2\n",
      "=> Setting learned tasks of model.4 to 2\n",
      "=> Setting learned tasks of model.0 to 2\n",
      "=> Setting learned tasks of model.2 to 2\n",
      "=> Setting learned tasks of model.4 to 2\n",
      "\n",
      "Training for task 2\n",
      "=> Set task of model.0 to 2\n",
      "=> Set task of model.2 to 2\n",
      "=> Set task of model.4 to 2\n",
      "=> Set task of model.0 to 2\n",
      "=> Set task of model.2 to 2\n",
      "=> Set task of model.4 to 2\n",
      "=> Set task of model.0 to 2\n",
      "=> Set task of model.2 to 2\n",
      "=> Set task of model.4 to 2\n"
     ]
    },
    {
     "data": {
      "application/vnd.jupyter.widget-view+json": {
       "model_id": "7246efa0cb4742d8bbc5e081023323ee",
       "version_major": 2,
       "version_minor": 0
      },
      "text/plain": [
       "  0%|          | 0/469 [00:00<?, ?it/s]"
      ]
     },
     "metadata": {},
     "output_type": "display_data"
    },
    {
     "name": "stdout",
     "output_type": "stream",
     "text": [
      "e0 461/469 => Loss 0.2476, Acc@1 0.8516\r"
     ]
    },
    {
     "data": {
      "application/vnd.jupyter.widget-view+json": {
       "model_id": "371739c02ec64e6485728fe27012285a",
       "version_major": 2,
       "version_minor": 0
      },
      "text/plain": [
       "  0%|          | 0/469 [00:00<?, ?it/s]"
      ]
     },
     "metadata": {},
     "output_type": "display_data"
    },
    {
     "name": "stdout",
     "output_type": "stream",
     "text": [
      "e0 461/469 => Loss 0.2449, Acc@1 0.8646\r"
     ]
    },
    {
     "data": {
      "application/vnd.jupyter.widget-view+json": {
       "model_id": "d8bc9d3df70a403abda45ace7e6fe79b",
       "version_major": 2,
       "version_minor": 0
      },
      "text/plain": [
       "  0%|          | 0/469 [00:00<?, ?it/s]"
      ]
     },
     "metadata": {},
     "output_type": "display_data"
    },
    {
     "name": "stdout",
     "output_type": "stream",
     "text": [
      "=> Caching mask state for model.00.8568\n",
      "=> Caching mask state for model.2\n",
      "=> Caching mask state for model.4\n",
      "=> Caching mask state for model.0\n",
      "=> Caching mask state for model.2\n",
      "=> Caching mask state for model.4\n",
      "=> Caching mask state for model.0\n",
      "=> Caching mask state for model.2\n",
      "=> Caching mask state for model.4\n",
      "\n",
      "=> Setting learned tasks of model.0 to 3\n",
      "=> Setting learned tasks of model.2 to 3\n",
      "=> Setting learned tasks of model.4 to 3\n",
      "=> Setting learned tasks of model.0 to 3\n",
      "=> Setting learned tasks of model.2 to 3\n",
      "=> Setting learned tasks of model.4 to 3\n",
      "=> Setting learned tasks of model.0 to 3\n",
      "=> Setting learned tasks of model.2 to 3\n",
      "=> Setting learned tasks of model.4 to 3\n",
      "\n",
      "Training for task 3\n",
      "=> Set task of model.0 to 3\n",
      "=> Set task of model.2 to 3\n",
      "=> Set task of model.4 to 3\n",
      "=> Set task of model.0 to 3\n",
      "=> Set task of model.2 to 3\n",
      "=> Set task of model.4 to 3\n",
      "=> Set task of model.0 to 3\n",
      "=> Set task of model.2 to 3\n",
      "=> Set task of model.4 to 3\n"
     ]
    },
    {
     "data": {
      "application/vnd.jupyter.widget-view+json": {
       "model_id": "703768bb286844c7b145534f8d5584d1",
       "version_major": 2,
       "version_minor": 0
      },
      "text/plain": [
       "  0%|          | 0/469 [00:00<?, ?it/s]"
      ]
     },
     "metadata": {},
     "output_type": "display_data"
    },
    {
     "name": "stdout",
     "output_type": "stream",
     "text": [
      "e0 461/469 => Loss 0.2482, Acc@1 0.8483\r"
     ]
    },
    {
     "data": {
      "application/vnd.jupyter.widget-view+json": {
       "model_id": "7765e24f43ae4014bc18f495e1d28231",
       "version_major": 2,
       "version_minor": 0
      },
      "text/plain": [
       "  0%|          | 0/469 [00:00<?, ?it/s]"
      ]
     },
     "metadata": {},
     "output_type": "display_data"
    },
    {
     "name": "stdout",
     "output_type": "stream",
     "text": [
      "e0 461/469 => Loss 0.2075, Acc@1 0.8649\r"
     ]
    },
    {
     "data": {
      "application/vnd.jupyter.widget-view+json": {
       "model_id": "c8a61a4b93f64d15b2ee7e16eff3fb1f",
       "version_major": 2,
       "version_minor": 0
      },
      "text/plain": [
       "  0%|          | 0/469 [00:00<?, ?it/s]"
      ]
     },
     "metadata": {},
     "output_type": "display_data"
    },
    {
     "name": "stdout",
     "output_type": "stream",
     "text": [
      "=> Caching mask state for model.00.8558\n",
      "=> Caching mask state for model.2\n",
      "=> Caching mask state for model.4\n",
      "=> Caching mask state for model.0\n",
      "=> Caching mask state for model.2\n",
      "=> Caching mask state for model.4\n",
      "=> Caching mask state for model.0\n",
      "=> Caching mask state for model.2\n",
      "=> Caching mask state for model.4\n",
      "\n",
      "=> Setting learned tasks of model.0 to 4\n",
      "=> Setting learned tasks of model.2 to 4\n",
      "=> Setting learned tasks of model.4 to 4\n",
      "=> Setting learned tasks of model.0 to 4\n",
      "=> Setting learned tasks of model.2 to 4\n",
      "=> Setting learned tasks of model.4 to 4\n",
      "=> Setting learned tasks of model.0 to 4\n",
      "=> Setting learned tasks of model.2 to 4\n",
      "=> Setting learned tasks of model.4 to 4\n",
      "\n",
      "Training for task 4\n",
      "=> Set task of model.0 to 4\n",
      "=> Set task of model.2 to 4\n",
      "=> Set task of model.4 to 4\n",
      "=> Set task of model.0 to 4\n",
      "=> Set task of model.2 to 4\n",
      "=> Set task of model.4 to 4\n",
      "=> Set task of model.0 to 4\n",
      "=> Set task of model.2 to 4\n",
      "=> Set task of model.4 to 4\n"
     ]
    },
    {
     "data": {
      "application/vnd.jupyter.widget-view+json": {
       "model_id": "412e0a1003414040a7d33f9b72b1a39d",
       "version_major": 2,
       "version_minor": 0
      },
      "text/plain": [
       "  0%|          | 0/469 [00:00<?, ?it/s]"
      ]
     },
     "metadata": {},
     "output_type": "display_data"
    },
    {
     "name": "stdout",
     "output_type": "stream",
     "text": [
      "e0 461/469 => Loss 0.2583, Acc@1 0.8571\r"
     ]
    },
    {
     "data": {
      "application/vnd.jupyter.widget-view+json": {
       "model_id": "5dc216b7afc54a06994498183de87ff5",
       "version_major": 2,
       "version_minor": 0
      },
      "text/plain": [
       "  0%|          | 0/469 [00:00<?, ?it/s]"
      ]
     },
     "metadata": {},
     "output_type": "display_data"
    },
    {
     "name": "stdout",
     "output_type": "stream",
     "text": [
      "e0 461/469 => Loss 0.1734, Acc@1 0.8522\r"
     ]
    },
    {
     "data": {
      "application/vnd.jupyter.widget-view+json": {
       "model_id": "4e144db3a2d6453ab0227bddca8bbfa4",
       "version_major": 2,
       "version_minor": 0
      },
      "text/plain": [
       "  0%|          | 0/469 [00:00<?, ?it/s]"
      ]
     },
     "metadata": {},
     "output_type": "display_data"
    },
    {
     "name": "stdout",
     "output_type": "stream",
     "text": [
      "=> Caching mask state for model.00.8561\n",
      "=> Caching mask state for model.2\n",
      "=> Caching mask state for model.4\n",
      "=> Caching mask state for model.0\n",
      "=> Caching mask state for model.2\n",
      "=> Caching mask state for model.4\n",
      "=> Caching mask state for model.0\n",
      "=> Caching mask state for model.2\n",
      "=> Caching mask state for model.4\n",
      "\n",
      "=> Setting learned tasks of model.0 to 5\n",
      "=> Setting learned tasks of model.2 to 5\n",
      "=> Setting learned tasks of model.4 to 5\n",
      "=> Setting learned tasks of model.0 to 5\n",
      "=> Setting learned tasks of model.2 to 5\n",
      "=> Setting learned tasks of model.4 to 5\n",
      "=> Setting learned tasks of model.0 to 5\n",
      "=> Setting learned tasks of model.2 to 5\n",
      "=> Setting learned tasks of model.4 to 5\n",
      "\n"
     ]
    }
   ],
   "source": [
    "for task in range(num_tasks):\n",
    "    print(f\"Training for task {task}\")\n",
    "    set_model_task(model1, task)\n",
    "    set_model_task(model2, task)\n",
    "    set_model_task(model3, task)\n",
    "    mnist1.update_task(task)\n",
    "    mnist2.update_task(task)\n",
    "    mnist3.update_task(task)\n",
    "\n",
    "    optimizer1 = optim.RMSprop([p for p in model1.parameters() if p.requires_grad], lr=1e-4)\n",
    "    optimizer2 = optim.RMSprop([p for p in model2.parameters() if p.requires_grad], lr=1e-4)\n",
    "    optimizer3 = optim.RMSprop([p for p in model3.parameters() if p.requires_grad], lr=1e-4)\n",
    "    # Train for 1 epoch\n",
    "    for e in range(1):\n",
    "        train(model1, mnist1.train_loader, optimizer1, e)\n",
    "        train(model2, mnist2.train_loader, optimizer2, e)\n",
    "        train(model3, mnist3.train_loader, optimizer3, e)\n",
    "\n",
    "#         print(\"Validation\")\n",
    "#         print(\"============\")\n",
    "#         acc1 = evaluate(model, mnist.val_loader, e)\n",
    "\n",
    "\n",
    "    cache_masks(model1)\n",
    "    cache_masks(model2)\n",
    "    cache_masks(model3)\n",
    "    print()\n",
    "    set_num_tasks_learned(model1, task + 1)\n",
    "    set_num_tasks_learned(model2, task + 1)\n",
    "    set_num_tasks_learned(model3, task + 1)\n",
    "    print()"
   ]
  },
  {
   "cell_type": "code",
   "execution_count": 228,
   "metadata": {},
   "outputs": [],
   "source": [
    "def overlap(mask1, mask2):\n",
    "    assert mask1.shape == mask2.shape\n",
    "    count_same = (mask1 + mask2 - 1).abs().sum()\n",
    "    return count_same / (1.0*(mask1.shape[0] * mask1.shape[1]))"
   ]
  },
  {
   "cell_type": "code",
   "execution_count": 229,
   "metadata": {},
   "outputs": [],
   "source": [
    "from itertools import product"
   ]
  },
  {
   "cell_type": "code",
   "execution_count": 235,
   "metadata": {},
   "outputs": [
    {
     "name": "stdout",
     "output_type": "stream",
     "text": [
      "Layer: 0, Task: 0, Overlap: 0.5113732814788818\n",
      "Layer: 0, Task: 1, Overlap: 0.511313796043396\n",
      "Layer: 0, Task: 2, Overlap: 0.5113690495491028\n",
      "Layer: 0, Task: 3, Overlap: 0.5138393044471741\n",
      "Layer: 0, Task: 4, Overlap: 0.5115433931350708\n",
      "Layer: 2, Task: 0, Overlap: 0.5028111338615417\n",
      "Layer: 2, Task: 1, Overlap: 0.5050110816955566\n",
      "Layer: 2, Task: 2, Overlap: 0.5040777921676636\n",
      "Layer: 2, Task: 3, Overlap: 0.5004000067710876\n",
      "Layer: 2, Task: 4, Overlap: 0.5055555701255798\n",
      "Layer: 4, Task: 0, Overlap: 0.5098999738693237\n",
      "Layer: 4, Task: 1, Overlap: 0.5173333287239075\n",
      "Layer: 4, Task: 2, Overlap: 0.5098333358764648\n",
      "Layer: 4, Task: 3, Overlap: 0.5102333426475525\n",
      "Layer: 4, Task: 4, Overlap: 0.5132333040237427\n"
     ]
    }
   ],
   "source": [
    "for layer, task in product([0,2,4], [i for i in range(5)]):\n",
    "    print('Layer: {}, Task: {}, Overlap: {}'.format(layer, task,\n",
    "        overlap(model2.state_dict()['model.{}.stacked'.format(layer)][task],\n",
    "                model3.state_dict()['model.{}.stacked'.format(layer)][task])))"
   ]
  },
  {
   "cell_type": "code",
   "execution_count": null,
   "metadata": {},
   "outputs": [],
   "source": []
  },
  {
   "cell_type": "code",
   "execution_count": null,
   "metadata": {},
   "outputs": [],
   "source": []
  },
  {
   "cell_type": "code",
   "execution_count": null,
   "metadata": {},
   "outputs": [],
   "source": []
  },
  {
   "cell_type": "markdown",
   "metadata": {},
   "source": [
    "### Model Initialization (All Tasks, Zero start)"
   ]
  },
  {
   "cell_type": "code",
   "execution_count": 86,
   "metadata": {},
   "outputs": [],
   "source": [
    "num_tasks = 7 # For demonstration purposes, we go up to 2500 in our paper\n",
    "basis_model = BasisMultitaskFC(hidden_size=300, num_tasks=num_tasks, num_seed_tasks_learned=5, start_at_optimal=False)"
   ]
  },
  {
   "cell_type": "code",
   "execution_count": 88,
   "metadata": {},
   "outputs": [
    {
     "data": {
      "text/plain": [
       "<All keys matched successfully>"
      ]
     },
     "execution_count": 88,
     "metadata": {},
     "output_type": "execute_result"
    }
   ],
   "source": [
    "seed_dict = model.state_dict()\n",
    "basis_dict = basis_model.state_dict()\n",
    "load_dict = {k: seed_dict[k] for k in basis_model.state_dict().keys() if k in seed_dict.keys()}\n",
    "basis_dict.update(load_dict)\n",
    "basis_model.load_state_dict(basis_dict, False)"
   ]
  },
  {
   "cell_type": "code",
   "execution_count": 89,
   "metadata": {
    "scrolled": true
   },
   "outputs": [
    {
     "name": "stdout",
     "output_type": "stream",
     "text": [
      "Training for task 0\n",
      "=> Set task of model.0 to 0\n",
      "=> Set task of model.2 to 0\n",
      "=> Set task of model.4 to 0\n"
     ]
    },
    {
     "data": {
      "application/vnd.jupyter.widget-view+json": {
       "model_id": "d9a9f6a3e9e04d9b8a03234c04bf1293",
       "version_major": 2,
       "version_minor": 0
      },
      "text/plain": [
       "  0%|          | 0/469 [00:00<?, ?it/s]"
      ]
     },
     "metadata": {},
     "output_type": "display_data"
    },
    {
     "name": "stdout",
     "output_type": "stream",
     "text": [
      "Validation => Loss 0.4129, Acc@1 0.7158\n",
      "============\n"
     ]
    },
    {
     "data": {
      "application/vnd.jupyter.widget-view+json": {
       "model_id": "2b43cc81590043678a3361a4e9b1a891",
       "version_major": 2,
       "version_minor": 0
      },
      "text/plain": [
       "  0%|          | 0/79 [00:00<?, ?it/s]"
      ]
     },
     "metadata": {},
     "output_type": "display_data"
    },
    {
     "name": "stdout",
     "output_type": "stream",
     "text": [
      "Val Perf after 1 epochs Acc@1 0.8939\n",
      "=> Caching mask state for model.0\n",
      "=> Caching mask state for model.2\n",
      "=> Caching mask state for model.4\n",
      "\n",
      "=> Setting learned tasks of model.0 to 1\n",
      "=> Setting learned tasks of model.2 to 1\n",
      "=> Setting learned tasks of model.4 to 1\n",
      "\n",
      "Training for task 1\n",
      "=> Set task of model.0 to 1\n",
      "=> Set task of model.2 to 1\n",
      "=> Set task of model.4 to 1\n"
     ]
    },
    {
     "data": {
      "application/vnd.jupyter.widget-view+json": {
       "model_id": "8e5a9084a964439cb99bfaf0deb5a6b0",
       "version_major": 2,
       "version_minor": 0
      },
      "text/plain": [
       "  0%|          | 0/469 [00:00<?, ?it/s]"
      ]
     },
     "metadata": {},
     "output_type": "display_data"
    },
    {
     "name": "stdout",
     "output_type": "stream",
     "text": [
      "Validation => Loss 0.6004, Acc@1 0.7243\n",
      "============\n"
     ]
    },
    {
     "data": {
      "application/vnd.jupyter.widget-view+json": {
       "model_id": "9fa98618251e4b1f883ed15622d81d91",
       "version_major": 2,
       "version_minor": 0
      },
      "text/plain": [
       "  0%|          | 0/79 [00:00<?, ?it/s]"
      ]
     },
     "metadata": {},
     "output_type": "display_data"
    },
    {
     "name": "stdout",
     "output_type": "stream",
     "text": [
      "Val Perf after 1 epochs Acc@1 0.8756\n",
      "=> Caching mask state for model.0\n",
      "=> Caching mask state for model.2\n",
      "=> Caching mask state for model.4\n",
      "\n",
      "=> Setting learned tasks of model.0 to 2\n",
      "=> Setting learned tasks of model.2 to 2\n",
      "=> Setting learned tasks of model.4 to 2\n",
      "\n",
      "Training for task 2\n",
      "=> Set task of model.0 to 2\n",
      "=> Set task of model.2 to 2\n",
      "=> Set task of model.4 to 2\n"
     ]
    },
    {
     "data": {
      "application/vnd.jupyter.widget-view+json": {
       "model_id": "3851f42ad8f34ece902e47c84c1975dc",
       "version_major": 2,
       "version_minor": 0
      },
      "text/plain": [
       "  0%|          | 0/469 [00:00<?, ?it/s]"
      ]
     },
     "metadata": {},
     "output_type": "display_data"
    },
    {
     "name": "stdout",
     "output_type": "stream",
     "text": [
      "Validation => Loss 0.4409, Acc@1 0.7106\n",
      "============\n"
     ]
    },
    {
     "data": {
      "application/vnd.jupyter.widget-view+json": {
       "model_id": "e6ac8fe495fb43cbbd2a52feb33dc317",
       "version_major": 2,
       "version_minor": 0
      },
      "text/plain": [
       "  0%|          | 0/79 [00:00<?, ?it/s]"
      ]
     },
     "metadata": {},
     "output_type": "display_data"
    },
    {
     "name": "stdout",
     "output_type": "stream",
     "text": [
      "Val Perf after 1 epochs Acc@1 0.8795\n",
      "=> Caching mask state for model.0\n",
      "=> Caching mask state for model.2\n",
      "=> Caching mask state for model.4\n",
      "\n",
      "=> Setting learned tasks of model.0 to 3\n",
      "=> Setting learned tasks of model.2 to 3\n",
      "=> Setting learned tasks of model.4 to 3\n",
      "\n",
      "Training for task 3\n",
      "=> Set task of model.0 to 3\n",
      "=> Set task of model.2 to 3\n",
      "=> Set task of model.4 to 3\n"
     ]
    },
    {
     "data": {
      "application/vnd.jupyter.widget-view+json": {
       "model_id": "de4f41b295914cecba899cc9ae17c565",
       "version_major": 2,
       "version_minor": 0
      },
      "text/plain": [
       "  0%|          | 0/469 [00:00<?, ?it/s]"
      ]
     },
     "metadata": {},
     "output_type": "display_data"
    },
    {
     "name": "stdout",
     "output_type": "stream",
     "text": [
      "Validation => Loss 0.4672, Acc@1 0.7074\n",
      "============\n"
     ]
    },
    {
     "data": {
      "application/vnd.jupyter.widget-view+json": {
       "model_id": "0683679676264e0b8c2868fbfe46ec35",
       "version_major": 2,
       "version_minor": 0
      },
      "text/plain": [
       "  0%|          | 0/79 [00:00<?, ?it/s]"
      ]
     },
     "metadata": {},
     "output_type": "display_data"
    },
    {
     "name": "stdout",
     "output_type": "stream",
     "text": [
      "Val Perf after 1 epochs Acc@1 0.8598\n",
      "=> Caching mask state for model.0\n",
      "=> Caching mask state for model.2\n",
      "=> Caching mask state for model.4\n",
      "\n",
      "=> Setting learned tasks of model.0 to 4\n",
      "=> Setting learned tasks of model.2 to 4\n",
      "=> Setting learned tasks of model.4 to 4\n",
      "\n",
      "Training for task 4\n",
      "=> Set task of model.0 to 4\n",
      "=> Set task of model.2 to 4\n",
      "=> Set task of model.4 to 4\n"
     ]
    },
    {
     "data": {
      "application/vnd.jupyter.widget-view+json": {
       "model_id": "82e8a568894444a8be067d79f4e000ed",
       "version_major": 2,
       "version_minor": 0
      },
      "text/plain": [
       "  0%|          | 0/469 [00:00<?, ?it/s]"
      ]
     },
     "metadata": {},
     "output_type": "display_data"
    },
    {
     "name": "stdout",
     "output_type": "stream",
     "text": [
      "Validation => Loss 0.4723, Acc@1 0.7223\n",
      "============\n"
     ]
    },
    {
     "data": {
      "application/vnd.jupyter.widget-view+json": {
       "model_id": "3b9e48cbd75941f1a6f93f5c99bfb4fd",
       "version_major": 2,
       "version_minor": 0
      },
      "text/plain": [
       "  0%|          | 0/79 [00:00<?, ?it/s]"
      ]
     },
     "metadata": {},
     "output_type": "display_data"
    },
    {
     "name": "stdout",
     "output_type": "stream",
     "text": [
      "Val Perf after 1 epochs Acc@1 0.8615\n",
      "=> Caching mask state for model.0\n",
      "=> Caching mask state for model.2\n",
      "=> Caching mask state for model.4\n",
      "\n",
      "=> Setting learned tasks of model.0 to 5\n",
      "=> Setting learned tasks of model.2 to 5\n",
      "=> Setting learned tasks of model.4 to 5\n",
      "\n",
      "Training for task 5\n",
      "=> Set task of model.0 to 5\n",
      "=> Set task of model.2 to 5\n",
      "=> Set task of model.4 to 5\n"
     ]
    },
    {
     "data": {
      "application/vnd.jupyter.widget-view+json": {
       "model_id": "cbc97da398f24fb5815a86a3f10bbb79",
       "version_major": 2,
       "version_minor": 0
      },
      "text/plain": [
       "  0%|          | 0/469 [00:00<?, ?it/s]"
      ]
     },
     "metadata": {},
     "output_type": "display_data"
    },
    {
     "name": "stdout",
     "output_type": "stream",
     "text": [
      "Validation => Loss 2.7254, Acc@1 0.1221\n",
      "============\n"
     ]
    },
    {
     "data": {
      "application/vnd.jupyter.widget-view+json": {
       "model_id": "6286febb88f2467184c2bfea2d346194",
       "version_major": 2,
       "version_minor": 0
      },
      "text/plain": [
       "  0%|          | 0/79 [00:00<?, ?it/s]"
      ]
     },
     "metadata": {},
     "output_type": "display_data"
    },
    {
     "name": "stdout",
     "output_type": "stream",
     "text": [
      "Val Perf after 1 epochs Acc@1 0.1388\n",
      "=> Caching mask state for model.0\n",
      "=> Caching mask state for model.2\n",
      "=> Caching mask state for model.4\n",
      "\n",
      "=> Setting learned tasks of model.0 to 6\n",
      "=> Setting learned tasks of model.2 to 6\n",
      "=> Setting learned tasks of model.4 to 6\n",
      "\n",
      "Training for task 6\n",
      "=> Set task of model.0 to 6\n",
      "=> Set task of model.2 to 6\n",
      "=> Set task of model.4 to 6\n"
     ]
    },
    {
     "data": {
      "application/vnd.jupyter.widget-view+json": {
       "model_id": "827a6aaefcbd44258cd8cd7a5b4dd567",
       "version_major": 2,
       "version_minor": 0
      },
      "text/plain": [
       "  0%|          | 0/469 [00:00<?, ?it/s]"
      ]
     },
     "metadata": {},
     "output_type": "display_data"
    },
    {
     "name": "stdout",
     "output_type": "stream",
     "text": [
      "Validation => Loss 2.4990, Acc@1 0.1807\n",
      "============\n"
     ]
    },
    {
     "data": {
      "application/vnd.jupyter.widget-view+json": {
       "model_id": "8ad606b74b2e4e808d353a35738ae184",
       "version_major": 2,
       "version_minor": 0
      },
      "text/plain": [
       "  0%|          | 0/79 [00:00<?, ?it/s]"
      ]
     },
     "metadata": {},
     "output_type": "display_data"
    },
    {
     "name": "stdout",
     "output_type": "stream",
     "text": [
      "Val Perf after 1 epochs Acc@1 0.2016\n",
      "=> Caching mask state for model.0\n",
      "=> Caching mask state for model.2\n",
      "=> Caching mask state for model.4\n",
      "\n",
      "=> Setting learned tasks of model.0 to 7\n",
      "=> Setting learned tasks of model.2 to 7\n",
      "=> Setting learned tasks of model.4 to 7\n",
      "\n"
     ]
    }
   ],
   "source": [
    "for task in range(7):\n",
    "    print(f\"Training for task {task}\")\n",
    "    set_model_task(basis_model, task)\n",
    "    mnist.update_task(task)\n",
    "\n",
    "    optimizer = optim.RMSprop([p for p in basis_model.parameters() if p.requires_grad], lr=1e-3)\n",
    "    # Train for 1 epoch\n",
    "    for e in range(1):\n",
    "        train(basis_model, mnist.train_loader, optimizer, e)\n",
    "        \n",
    "        print(\"Validation\")\n",
    "        print(\"============\")\n",
    "        acc1 = evaluate(basis_model, mnist.val_loader, e)\n",
    "        \n",
    "    \n",
    "    cache_masks(basis_model)\n",
    "    print()\n",
    "    set_num_tasks_learned(basis_model, task + 1)\n",
    "    print()"
   ]
  },
  {
   "cell_type": "markdown",
   "metadata": {},
   "source": [
    "## Inference"
   ]
  },
  {
   "cell_type": "markdown",
   "metadata": {},
   "source": [
    "### Scenario GG: Task ID is given at train time and inference time\n",
    "\n",
    "If task ID is given at inference time, we simply evaluate using the mask we have trained for that ID. This procedure is shown below."
   ]
  },
  {
   "cell_type": "code",
   "execution_count": 8,
   "metadata": {},
   "outputs": [
    {
     "name": "stdout",
     "output_type": "stream",
     "text": [
      "Average top 1 performance: 0.9253\n",
      "Per task performance\n",
      "Task 0: 0.9255\n",
      "Task 1: 0.9290\n",
      "Task 2: 0.9222\n",
      "Task 3: 0.9253\n",
      "Task 4: 0.9243\n"
     ]
    }
   ],
   "source": [
    "# When task ID we can simply set the mask and evaluate\n",
    "\n",
    "gg_performance = []\n",
    "for task in range(5):\n",
    "    set_model_task(model, task)\n",
    "    mnist.update_task(task)\n",
    "    acc1 = evaluate(model, mnist.val_loader, 0)\n",
    "    gg_performance.append(acc1.item())\n",
    "\n",
    "clear_output()\n",
    "    \n",
    "print(f\"Average top 1 performance: {(sum(gg_performance) / len(gg_performance)):.4f}\")\n",
    "\n",
    "print(\"Per task performance\")\n",
    "for t in range(5):\n",
    "    print(f\"Task {t}: {gg_performance[t]:.4f}\")"
   ]
  },
  {
   "cell_type": "markdown",
   "metadata": {},
   "source": [
    "### Scenario GNs: Task ID is given at train time but not inference time\n",
    "\n",
    "We can infer task identity at inference time for arbitrary pieces of data. Here we use the one-shot algorithm described in the paper for simplicity. In short, we assign each learned supermask $M^i$ a weight $\\alpha_i$ such that $\\sum_{i} \\alpha_i = 1$ and $\\alpha_i >= 0$. \n",
    "\n",
    "Given an example data point $x$ to classify, we can compute our loss as $H = \\mathcal{H}\\left(f\\left(x, \\theta \\odot \\left(\\sum_i \\alpha_i M^i\\right)\\right)\\right)$ where $f(x, \\theta)$ is our neural network which outputs logits and $\\mathcal H$ is our entropy function. From here our inferred task is simply \n",
    "$$t = \\text{argmin}_i \\frac{\\partial\\mathcal{H}}{\\partial \\alpha_i}.$$\n",
    "\n",
    "#### Intuition\n",
    "\n",
    "We can see entropy as a measure of confidence in our prediction. High entropy prediction distributions are very uncertain (close to uniform) and lowest entropy is reached when our distribution is very certain (at a one hot vector). So it stands to reason that supermasks which haven't been trained on the exemplar data will have high entropy. Further, instead of showing each individual supermask $x$, which would be computationally intractible for many tasks, we can show $x$ to a _superposition_ of supermasks and optimize for superposition coefficients $\\alpha_i$. Choosing the smallest $\\alpha_i$ for our task is essentially greedily moving in the direction of maximal decrease in entropy. \n",
    "\n",
    "Below is a simple implementation of oneshot task inference."
   ]
  },
  {
   "cell_type": "code",
   "execution_count": 8,
   "metadata": {},
   "outputs": [],
   "source": [
    "# When task info is not provided we can infer it\n",
    "# here we use the oneshot task inference alg detailed in the paper\n",
    "\n",
    "def oneshot_task_inference(model, batch, num_tasks):\n",
    "    # Set task < 0 for inference mode\n",
    "    set_model_task(model, -1, verbose=False)\n",
    "    \n",
    "    # Initialize alphas to uniform\n",
    "    alphas = torch.ones(num_tasks, 1, 1) / num_tasks\n",
    "    alphas.requires_grad_(True)\n",
    "    set_alphas(model, alphas, verbose=False)\n",
    "    \n",
    "    logits = model(batch)\n",
    "    \n",
    "    # Entropy of logits\n",
    "    entropy = -(logits.softmax(dim=1) * logits.log_softmax(dim=1)).sum(1).mean()\n",
    "    \n",
    "    # Gradient wrt alphas\n",
    "    g, = autograd.grad(entropy, alphas)\n",
    "    \n",
    "    inferred_task = (-g).squeeze().argmax()\n",
    "\n",
    "    return inferred_task.item()"
   ]
  },
  {
   "cell_type": "markdown",
   "metadata": {},
   "source": [
    "#### Task inference accuracy\n",
    "\n",
    "Below we show how accurate task inference is using our oneshot algorithm. If you would like to evaluate on more tasks (we use 5 for demonstration), just modify the `num_tasks` variable in the cell where we declare `MultitaskFC`. \n",
    "\n",
    "Here we evaluate task inference on 50 random images per task (the `trials` variable modifies this number) and show we predict the correct task with 100% accuracy. "
   ]
  },
  {
   "cell_type": "code",
   "execution_count": 9,
   "metadata": {},
   "outputs": [
    {
     "data": {
      "application/vnd.jupyter.widget-view+json": {
       "model_id": "ad31d78ed0ba45d8887ceaaff5aa1de8",
       "version_major": 2,
       "version_minor": 0
      },
      "text/plain": [
       "  0%|          | 0/50 [00:00<?, ?it/s]"
      ]
     },
     "metadata": {},
     "output_type": "display_data"
    },
    {
     "ename": "NameError",
     "evalue": "name 'model' is not defined",
     "output_type": "error",
     "traceback": [
      "\u001b[0;31m---------------------------------------------------------------------------\u001b[0m",
      "\u001b[0;31mNameError\u001b[0m                                 Traceback (most recent call last)",
      "\u001b[0;32m<ipython-input-9-59ae2beeb500>\u001b[0m in \u001b[0;36m<module>\u001b[0;34m\u001b[0m\n\u001b[1;32m      8\u001b[0m         \u001b[0mmnist\u001b[0m\u001b[0;34m.\u001b[0m\u001b[0mupdate_task\u001b[0m\u001b[0;34m(\u001b[0m\u001b[0mtask\u001b[0m\u001b[0;34m)\u001b[0m\u001b[0;34m\u001b[0m\u001b[0;34m\u001b[0m\u001b[0m\n\u001b[1;32m      9\u001b[0m         inferred_task = oneshot_task_inference(\n\u001b[0;32m---> 10\u001b[0;31m             \u001b[0mmodel\u001b[0m\u001b[0;34m,\u001b[0m\u001b[0;34m\u001b[0m\u001b[0;34m\u001b[0m\u001b[0m\n\u001b[0m\u001b[1;32m     11\u001b[0m             \u001b[0mbatch\u001b[0m\u001b[0;34m=\u001b[0m\u001b[0mnext\u001b[0m\u001b[0;34m(\u001b[0m\u001b[0miter\u001b[0m\u001b[0;34m(\u001b[0m\u001b[0mmnist\u001b[0m\u001b[0;34m.\u001b[0m\u001b[0mval_loader\u001b[0m\u001b[0;34m)\u001b[0m\u001b[0;34m)\u001b[0m\u001b[0;34m[\u001b[0m\u001b[0;36m0\u001b[0m\u001b[0;34m]\u001b[0m\u001b[0;34m[\u001b[0m\u001b[0;34m:\u001b[0m\u001b[0mnum_examples\u001b[0m\u001b[0;34m]\u001b[0m\u001b[0;34m,\u001b[0m\u001b[0;34m\u001b[0m\u001b[0;34m\u001b[0m\u001b[0m\n\u001b[1;32m     12\u001b[0m             \u001b[0mnum_tasks\u001b[0m\u001b[0;34m=\u001b[0m\u001b[0;36m5\u001b[0m\u001b[0;34m\u001b[0m\u001b[0;34m\u001b[0m\u001b[0m\n",
      "\u001b[0;31mNameError\u001b[0m: name 'model' is not defined"
     ]
    }
   ],
   "source": [
    "# How many examples to show for task inference\n",
    "num_examples = 1\n",
    "trials = 50\n",
    "num_correct = 0\n",
    "num_seen = 0\n",
    "for _ in tqdm(range(trials)):\n",
    "    for task in range(5):\n",
    "        mnist.update_task(task)\n",
    "        inferred_task = oneshot_task_inference(\n",
    "            model,\n",
    "            batch=next(iter(mnist.val_loader))[0][:num_examples],\n",
    "            num_tasks=5\n",
    "        )\n",
    "        if inferred_task == task:\n",
    "            num_correct += 1\n",
    "        num_seen += 1\n",
    "\n",
    "print(f\"Task inference accuracy: {100 * num_correct / num_seen}%\")"
   ]
  },
  {
   "cell_type": "markdown",
   "metadata": {},
   "source": [
    "#### Full inference procedure\n",
    "\n",
    "Below is an example of how this could be used in an inference pipeline. In this scenario, we use one random image from the validation set to infer task identity $t$ and then evaluate with the appropriate mask $M^t$ on all tasks. We see that there is no drop in performance from the GG scenario. \n",
    "\n",
    "Note that for simplicity this is a small deviation from the evaluation setup in our paper. In our paper we use 1 image per batch to determine the task identity of the batch, and evaluate that batch using the inferred task. So task inference needs to be correct more often to match GG performance. We have already shown task inference accuracy is 100% with high probability in the previous cell so we don't need to do that here. "
   ]
  },
  {
   "cell_type": "code",
   "execution_count": 11,
   "metadata": {},
   "outputs": [
    {
     "name": "stdout",
     "output_type": "stream",
     "text": [
      "=> Average top 1 performance: 92.5260%\n",
      "=> Difference from GG performance: 0.0000\n"
     ]
    }
   ],
   "source": [
    "# Evaluation\n",
    "\n",
    "num_examples = 1\n",
    "\n",
    "# After task inference, we just perform the same evaluation procedure as before\n",
    "gns_performance = []\n",
    "for task in range(5):\n",
    "    mnist.update_task(task)\n",
    "    inferred_task = oneshot_task_inference(\n",
    "        model,\n",
    "        batch=next(iter(mnist.val_loader))[0][:num_examples],\n",
    "        num_tasks=5\n",
    "    )\n",
    "    set_model_task(model, inferred_task)\n",
    "    acc1 = evaluate(model, mnist.val_loader, 0)\n",
    "    gns_performance.append(acc1.item())\n",
    "\n",
    "clear_output()\n",
    "avg_acc = (sum(gns_performance) / len(gns_performance))\n",
    "print(f\"=> Average top 1 performance: {100*avg_acc:.4f}%\")\n",
    "print(f\"=> Difference from GG performance: \"\n",
    "      f\"{(sum(gg_performance) / len(gg_performance) - avg_acc):.4f}\")"
   ]
  }
 ],
 "metadata": {
  "@webio": {
   "lastCommId": null,
   "lastKernelId": null
  },
  "kernelspec": {
   "display_name": "Python 3",
   "language": "python",
   "name": "python3"
  },
  "language_info": {
   "codemirror_mode": {
    "name": "ipython",
    "version": 3
   },
   "file_extension": ".py",
   "mimetype": "text/x-python",
   "name": "python",
   "nbconvert_exporter": "python",
   "pygments_lexer": "ipython3",
   "version": "3.7.6"
  }
 },
 "nbformat": 4,
 "nbformat_minor": 2
}
