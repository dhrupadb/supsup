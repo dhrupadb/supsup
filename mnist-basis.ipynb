{
 "cells": [
  {
   "cell_type": "markdown",
   "metadata": {},
   "source": [
    "# Supermasks in Superposition: Training and Task Inference\n",
    "\n",
    "<img src=\"images/teaser_supsup.png\">"
   ]
  },
  {
   "cell_type": "code",
   "execution_count": 30,
   "metadata": {
    "tags": []
   },
   "outputs": [
    {
     "name": "stdout",
     "output_type": "stream",
     "text": [
      "Packages loaded\n"
     ]
    }
   ],
   "source": [
    "import torch\n",
    "import torch.optim as optim\n",
    "import torch.nn as nn\n",
    "import torch.autograd as autograd\n",
    "import torch.nn.functional as F\n",
    "\n",
    "import torchvision\n",
    "import numpy as np\n",
    "import math\n",
    "\n",
    "from tqdm.notebook import tqdm\n",
    "\n",
    "print(\"Packages loaded\")\n",
    "# note at edits"
   ]
  },
  {
   "cell_type": "code",
   "execution_count": 316,
   "metadata": {},
   "outputs": [
    {
     "data": {
      "text/html": [
       "<style>.container { width:100% !important; }</style>"
      ],
      "text/plain": [
       "<IPython.core.display.HTML object>"
      ]
     },
     "metadata": {},
     "output_type": "display_data"
    }
   ],
   "source": [
    "from IPython.core.display import display, HTML\n",
    "display(HTML(\"<style>.container { width:100% !important; }</style>\"))"
   ]
  },
  {
   "cell_type": "markdown",
   "metadata": {},
   "source": [
    "## Training\n",
    "\n",
    "We train our model using the procedure from \"What's Hidden in a Randomly Weighted Neural Network\" (Ramanujan et al. 2019). Below is a modification of the layers (using signed constant initialization) from this paper for our continual learning setup. As a deviation from this setup, we assume that an edge (u, v) is included in the subnetwork if its score is greater than 0, rather than use it's absolute magnitude to construct a threshold. "
   ]
  },
  {
   "cell_type": "code",
   "execution_count": 62,
   "metadata": {},
   "outputs": [],
   "source": [
    "# Subnetwork forward from hidden networks\n",
    "class GetSubnet(autograd.Function):\n",
    "    @staticmethod\n",
    "    def forward(ctx, scores):\n",
    "        return (scores >= 0).float()\n",
    "\n",
    "    @staticmethod\n",
    "    def backward(ctx, g):\n",
    "        # send the gradient g straight-through on the backward pass.\n",
    "        return g\n",
    "    \n",
    "class GetSubnetSparse(autograd.Function):\n",
    "    @staticmethod\n",
    "    def forward(ctx, scores, k):\n",
    "        # Get the supermask by sorting the scores and using the top k%\n",
    "        out = scores.clone()\n",
    "        _, idx = scores.flatten().sort()\n",
    "        j = int((1 - k) * scores.numel())\n",
    "\n",
    "        # flat_out and out access the same memory.\n",
    "        flat_out = out.flatten()\n",
    "        flat_out[idx[:j]] = 0\n",
    "        flat_out[idx[j:]] = 1\n",
    "\n",
    "        return out\n",
    "\n",
    "    @staticmethod\n",
    "    def backward(ctx, g):\n",
    "        # send the gradient g straight-through on the backward pass.\n",
    "        return g, None\n",
    "\n",
    "def mask_init(module):\n",
    "    scores = torch.Tensor(module.weight.size())\n",
    "    nn.init.kaiming_uniform_(scores, a=math.sqrt(5))\n",
    "    return scores\n",
    "\n",
    "\n",
    "def signed_constant(module):\n",
    "    fan = nn.init._calculate_correct_fan(module.weight, 'fan_in')\n",
    "    gain = nn.init.calculate_gain('relu')\n",
    "    std = gain / math.sqrt(fan)\n",
    "    module.weight.data = module.weight.data.sign() * std\n",
    "\n",
    "\n",
    "class MultitaskMaskLinear(nn.Linear):\n",
    "    def __init__(self, *args, num_tasks=1, **kwargs):\n",
    "        super().__init__(*args, **kwargs)\n",
    "        self.num_tasks = num_tasks\n",
    "        self.scores = nn.ParameterList(\n",
    "            [\n",
    "                nn.Parameter(mask_init(self))\n",
    "                for _ in range(num_tasks)\n",
    "            ]\n",
    "        )\n",
    "        \n",
    "        # Keep weights untrained\n",
    "        self.weight.requires_grad = False\n",
    "        signed_constant(self)\n",
    "    \n",
    "    @torch.no_grad()\n",
    "    def cache_masks(self):\n",
    "        self.register_buffer(\n",
    "            \"stacked\",\n",
    "            torch.stack(\n",
    "                [\n",
    "                    GetSubnet.apply(self.scores[j])\n",
    "                    for j in range(self.num_tasks)\n",
    "                ]\n",
    "            ),\n",
    "        )\n",
    "\n",
    "    def forward(self, x):\n",
    "        if self.task < 0:\n",
    "            # Superimposed forward pass\n",
    "            alpha_weights = self.alphas[: self.num_tasks_learned]\n",
    "            idxs = (alpha_weights > 0).squeeze().view(self.num_tasks_learned)\n",
    "            if len(idxs.shape) == 0:\n",
    "                idxs = idxs.view(1)\n",
    "            subnet = (\n",
    "                alpha_weights[idxs]\n",
    "                * self.stacked[: self.num_tasks_learned][idxs]\n",
    "            ).sum(dim=0)\n",
    "        else:\n",
    "            # Subnet forward pass (given task info in self.task)\n",
    "            subnet = GetSubnet.apply(self.scores[self.task])\n",
    "        w = self.weight * subnet\n",
    "        x = F.linear(x, w, self.bias)\n",
    "        return x\n",
    "\n",
    "\n",
    "    def __repr__(self):\n",
    "        return f\"MultitaskMaskLinear({self.size()})\"\n",
    "    \n",
    "class MultitaskMaskLinearSparse(nn.Linear):\n",
    "    def __init__(self, *args, num_tasks=1, sparsity=0.5, **kwargs):\n",
    "        super().__init__(*args, **kwargs)\n",
    "        self.num_tasks = num_tasks\n",
    "        self.sparsity = sparsity\n",
    "        self.scores = nn.ParameterList(\n",
    "            [\n",
    "                nn.Parameter(mask_init(self))\n",
    "                for _ in range(num_tasks)\n",
    "            ]\n",
    "        )\n",
    "        \n",
    "        # Keep weights untrained\n",
    "        self.weight.requires_grad = False\n",
    "        signed_constant(self)\n",
    "    \n",
    "    @torch.no_grad()\n",
    "    def cache_masks(self):\n",
    "        self.register_buffer(\n",
    "            \"stacked\",\n",
    "            torch.stack(\n",
    "                [\n",
    "                    GetSubnetSparse.apply(self.scores[j], self.sparsity)\n",
    "                    for j in range(self.num_tasks)\n",
    "                ]\n",
    "            ),\n",
    "        )\n",
    "\n",
    "    def forward(self, x):\n",
    "        if self.task < 0:\n",
    "            # Superimposed forward pass\n",
    "            alpha_weights = self.alphas[: self.num_tasks_learned]\n",
    "            idxs = (alpha_weights > 0).squeeze().view(self.num_tasks_learned)\n",
    "            if len(idxs.shape) == 0:\n",
    "                idxs = idxs.view(1)\n",
    "            subnet = (\n",
    "                alpha_weights[idxs]\n",
    "                * self.stacked[: self.num_tasks_learned][idxs]\n",
    "            ).sum(dim=0)\n",
    "        else:\n",
    "            # Subnet forward pass (given task info in self.task)\n",
    "            subnet = GetSubnetSparse.apply(self.scores[self.task], self.sparsity)\n",
    "        w = self.weight * subnet\n",
    "        x = F.linear(x, w, self.bias)\n",
    "        return x\n",
    "\n",
    "\n",
    "    def __repr__(self):\n",
    "        return f\"MultitaskMaskLinearSparse({self.size()})\""
   ]
  },
  {
   "cell_type": "code",
   "execution_count": 63,
   "metadata": {},
   "outputs": [],
   "source": [
    "class BasisMultitaskMaskLinear(nn.Linear):\n",
    "    def __init__(self, *args, num_tasks=1, num_seed_tasks_learned=1, start_at_optimal=True, **kwargs):\n",
    "        super().__init__(*args, **kwargs)\n",
    "        assert num_tasks >= num_seed_tasks_learned, \"Seed tasks cannot be more than total tasks!\"\n",
    "        self.num_tasks = num_tasks\n",
    "        self.num_seed_tasks_learned = num_seed_tasks_learned\n",
    "        self.scores = nn.ParameterList(\n",
    "            [\n",
    "                nn.Parameter(mask_init(self))\n",
    "                for _ in range(num_tasks)\n",
    "            ]\n",
    "        )\n",
    "        self.task = -1\n",
    "        \n",
    "        # Keep weights untrained\n",
    "        self.weight.requires_grad = False\n",
    "        for s in self.scores:\n",
    "            s.requires_grad = False\n",
    "        self.scores.requires_grad = False\n",
    "        if start_at_optimal:\n",
    "            self.basis_alphas = nn.ParameterList(\n",
    "                [\n",
    "                    nn.Parameter(torch.eye(self.num_seed_tasks_learned)[i])\n",
    "                    for i in range(self.num_seed_tasks_learned)\n",
    "                ]\n",
    "                +\n",
    "                [\n",
    "                    nn.Parameter(torch.ones(self.num_seed_tasks_learned)/self.num_seed_tasks_learned)\n",
    "                    for _ in range(self.num_seed_tasks_learned, self.num_tasks)\n",
    "                ]\n",
    "            )\n",
    "        else:\n",
    "            self.basis_alphas = nn.ParameterList(\n",
    "                [\n",
    "                    nn.Parameter(torch.ones(self.num_seed_tasks_learned)/self.num_seed_tasks_learned)\n",
    "                    for _ in range(self.num_tasks)\n",
    "                ]\n",
    "            )\n",
    "        \n",
    "        signed_constant(self)\n",
    "    \n",
    "    @torch.no_grad()\n",
    "    def cache_masks(self):\n",
    "        self.register_buffer(\n",
    "            \"stacked\",\n",
    "            torch.stack(\n",
    "                [\n",
    "                    GetSubnet.apply(self.scores[j])\n",
    "                    for j in range(self.num_tasks)\n",
    "                ]\n",
    "            ),\n",
    "        )\n",
    "\n",
    "    def forward(self, x):\n",
    "        if self.task < 0:\n",
    "            raise NotImplemented(\"Need task identity at inference time.\")\n",
    "        else:\n",
    "            # Subnet forward pass (given task info in self.task)\n",
    "            subnet = self.stacked[: self.num_seed_tasks_learned][0]\n",
    "            task_alpha = self.basis_alphas[self.task]\n",
    "            w = self.weight * subnet * task_alpha[0]\n",
    "            for i in range(1, self.num_seed_tasks_learned):\n",
    "                subnet = self.stacked[: self.num_seed_tasks_learned][i]\n",
    "                w += self.weight * subnet * task_alpha[i]\n",
    "        x = F.linear(x, w, self.bias)\n",
    "        return x\n",
    "\n",
    "\n",
    "    def __repr__(self):\n",
    "        return f\"BasisMultitaskMaskLinear({self.size()})\""
   ]
  },
  {
   "cell_type": "code",
   "execution_count": 64,
   "metadata": {},
   "outputs": [],
   "source": [
    "class BasisMultitaskMaskLinearSparse(nn.Linear):\n",
    "    def __init__(self, *args, num_tasks=1, num_seed_tasks_learned=1, start_at_optimal=True, sparsity=0.5, **kwargs):\n",
    "        super().__init__(*args, **kwargs)\n",
    "        assert num_tasks >= num_seed_tasks_learned, \"Seed tasks cannot be more than total tasks!\"\n",
    "        self.num_tasks = num_tasks\n",
    "        self.num_seed_tasks_learned = num_seed_tasks_learned\n",
    "        self.sparsity = sparsity\n",
    "        self.scores = nn.ParameterList(\n",
    "            [\n",
    "                nn.Parameter(mask_init(self))\n",
    "                for _ in range(num_tasks)\n",
    "            ]\n",
    "        )\n",
    "        self.task = -1\n",
    "        \n",
    "        # Keep weights untrained\n",
    "        self.weight.requires_grad = False\n",
    "        for s in self.scores:\n",
    "            s.requires_grad = False\n",
    "        self.scores.requires_grad = False\n",
    "        if start_at_optimal:\n",
    "            self.basis_alphas = nn.ParameterList(\n",
    "                [\n",
    "                    nn.Parameter(torch.eye(self.num_seed_tasks_learned)[i])\n",
    "                    for i in range(self.num_seed_tasks_learned)\n",
    "                ]\n",
    "                +\n",
    "                [\n",
    "                    nn.Parameter(torch.ones(self.num_seed_tasks_learned)/self.num_seed_tasks_learned)\n",
    "                    for _ in range(self.num_seed_tasks_learned, self.num_tasks)\n",
    "                ]\n",
    "            )\n",
    "        else:\n",
    "            self.basis_alphas = nn.ParameterList(\n",
    "                [\n",
    "                    nn.Parameter(torch.ones(self.num_seed_tasks_learned)/self.num_seed_tasks_learned)\n",
    "                    for _ in range(self.num_tasks)\n",
    "                ]\n",
    "            )\n",
    "        \n",
    "        signed_constant(self)\n",
    "    \n",
    "    @torch.no_grad()\n",
    "    def cache_masks(self):\n",
    "        self.register_buffer(\n",
    "            \"stacked\",\n",
    "            torch.stack(\n",
    "                [\n",
    "                    GetSubnetSparse.apply(self.scores[j], self.sparsity)\n",
    "                    for j in range(self.num_tasks)\n",
    "                ]\n",
    "            ),\n",
    "        )\n",
    "\n",
    "    def forward(self, x):\n",
    "        if self.task < 0:\n",
    "            raise NotImplemented(\"Need task identity at inference time.\")\n",
    "        else:\n",
    "            # Subnet forward pass (given task info in self.task)\n",
    "            subnet = self.stacked[: self.num_seed_tasks_learned][0]\n",
    "            task_alpha = self.basis_alphas[self.task]\n",
    "            w = self.weight * subnet * task_alpha[0]\n",
    "            for i in range(1, self.num_seed_tasks_learned):\n",
    "                subnet = self.stacked[: self.num_seed_tasks_learned][i]\n",
    "                w += self.weight * subnet * task_alpha[i]\n",
    "        x = F.linear(x, w, self.bias)\n",
    "        return x\n",
    "\n",
    "\n",
    "    def __repr__(self):\n",
    "        return f\"BasisMultitaskMaskLinearSparse({self.size()})\""
   ]
  },
  {
   "cell_type": "code",
   "execution_count": 65,
   "metadata": {},
   "outputs": [],
   "source": [
    "class BasisMultitaskMaskLinearFrozen(nn.Linear):\n",
    "    def __init__(self, *args, num_tasks=1, num_seed_tasks_learned=1, start_at_optimal=True, **kwargs):\n",
    "        super().__init__(*args, **kwargs)\n",
    "        assert num_tasks >= num_seed_tasks_learned, \"Seed tasks cannot be more than total tasks!\"\n",
    "        self.num_tasks = num_tasks\n",
    "        self.num_seed_tasks_learned = num_seed_tasks_learned\n",
    "        self.scores = nn.ParameterList(\n",
    "            [\n",
    "                nn.Parameter(mask_init(self))\n",
    "                for _ in range(num_tasks)\n",
    "            ]\n",
    "        )\n",
    "        self.task = -1\n",
    "        \n",
    "        # Keep weights untrained\n",
    "        self.weight.requires_grad = False\n",
    "        for s in self.scores:\n",
    "            s.requires_grad = False\n",
    "        self.scores.requires_grad = False\n",
    "        if start_at_optimal:\n",
    "            self.basis_alphas = nn.ParameterList(\n",
    "                [\n",
    "                    nn.Parameter(torch.eye(self.num_seed_tasks_learned)[i])\n",
    "                    for i in range(self.num_seed_tasks_learned)\n",
    "                ]\n",
    "                +\n",
    "                [\n",
    "                    nn.Parameter(torch.ones(self.num_seed_tasks_learned)/self.num_seed_tasks_learned)\n",
    "                    for _ in range(self.num_seed_tasks_learned, self.num_tasks)\n",
    "                ]\n",
    "            )\n",
    "        else:\n",
    "            self.basis_alphas = nn.ParameterList(\n",
    "                [\n",
    "                    nn.Parameter(torch.ones(self.num_seed_tasks_learned)/self.num_seed_tasks_learned)\n",
    "                    for _ in range(self.num_tasks)\n",
    "                ]\n",
    "            )\n",
    "        for a in self.basis_alphas:\n",
    "            a.requires_grad = False\n",
    "        self.basis_alphas.requires_grad = False\n",
    "        \n",
    "        signed_constant(self)\n",
    "    \n",
    "    @torch.no_grad()\n",
    "    def cache_masks(self):\n",
    "        self.register_buffer(\n",
    "            \"stacked\",\n",
    "            torch.stack(\n",
    "                [\n",
    "                    GetSubnet.apply(self.scores[j])\n",
    "                    for j in range(self.num_tasks)\n",
    "                ]\n",
    "            ),\n",
    "        )\n",
    "\n",
    "    def forward(self, x):\n",
    "        if self.task < 0:\n",
    "            raise NotImplemented(\"Need task identity at inference time.\")\n",
    "        else:\n",
    "            # Subnet forward pass (given task info in self.task)\n",
    "            subnet = self.stacked[: self.num_seed_tasks_learned][0]\n",
    "            task_alpha = self.basis_alphas[self.task]\n",
    "            w = self.weight * subnet * task_alpha[0]\n",
    "            for i in range(1, self.num_seed_tasks_learned):\n",
    "                subnet = self.stacked[: self.num_seed_tasks_learned][i]\n",
    "                w += self.weight * subnet * task_alpha[i]\n",
    "        x = F.linear(x, w, self.bias)\n",
    "        return x\n",
    "\n",
    "\n",
    "    def __repr__(self):\n",
    "        return f\"BasisMultitaskMaskLinearFrozen({self.size()})\""
   ]
  },
  {
   "cell_type": "code",
   "execution_count": 66,
   "metadata": {},
   "outputs": [],
   "source": [
    "class BasisMultitaskMaskLinearFrozenSparse(nn.Linear):\n",
    "    def __init__(self, *args, num_tasks=1, num_seed_tasks_learned=1, start_at_optimal=True, sparsity=0.5, **kwargs):\n",
    "        super().__init__(*args, **kwargs)\n",
    "        assert num_tasks >= num_seed_tasks_learned, \"Seed tasks cannot be more than total tasks!\"\n",
    "        self.num_tasks = num_tasks\n",
    "        self.sparsity = sparsity\n",
    "        self.num_seed_tasks_learned = num_seed_tasks_learned\n",
    "        self.scores = nn.ParameterList(\n",
    "            [\n",
    "                nn.Parameter(mask_init(self))\n",
    "                for _ in range(num_tasks)\n",
    "            ]\n",
    "        )\n",
    "        self.task = -1\n",
    "        \n",
    "        # Keep weights untrained\n",
    "        self.weight.requires_grad = False\n",
    "        for s in self.scores:\n",
    "            s.requires_grad = False\n",
    "        self.scores.requires_grad = False\n",
    "        if start_at_optimal:\n",
    "            self.basis_alphas = nn.ParameterList(\n",
    "                [\n",
    "                    nn.Parameter(torch.eye(self.num_seed_tasks_learned)[i])\n",
    "                    for i in range(self.num_seed_tasks_learned)\n",
    "                ]\n",
    "                +\n",
    "                [\n",
    "                    nn.Parameter(torch.ones(self.num_seed_tasks_learned)/self.num_seed_tasks_learned)\n",
    "                    for _ in range(self.num_seed_tasks_learned, self.num_tasks)\n",
    "                ]\n",
    "            )\n",
    "        else:\n",
    "            self.basis_alphas = nn.ParameterList(\n",
    "                [\n",
    "                    nn.Parameter(torch.ones(self.num_seed_tasks_learned)/self.num_seed_tasks_learned)\n",
    "                    for _ in range(self.num_tasks)\n",
    "                ]\n",
    "            )\n",
    "        for a in self.basis_alphas:\n",
    "            a.requires_grad = False\n",
    "        self.basis_alphas.requires_grad = False\n",
    "        \n",
    "        signed_constant(self)\n",
    "    \n",
    "    @torch.no_grad()\n",
    "    def cache_masks(self):\n",
    "        self.register_buffer(\n",
    "            \"stacked\",\n",
    "            torch.stack(\n",
    "                [\n",
    "                    GetSubnetSparse.apply(self.scores[j], self.sparsity)\n",
    "                    for j in range(self.num_tasks)\n",
    "                ]\n",
    "            ),\n",
    "        )\n",
    "\n",
    "    def forward(self, x):\n",
    "        if self.task < 0:\n",
    "            raise NotImplemented(\"Need task identity at inference time.\")\n",
    "        else:\n",
    "            # Subnet forward pass (given task info in self.task)\n",
    "            subnet = self.stacked[: self.num_seed_tasks_learned][0]\n",
    "            task_alpha = self.basis_alphas[self.task]\n",
    "            w = self.weight * subnet * task_alpha[0]\n",
    "            for i in range(1, self.num_seed_tasks_learned):\n",
    "                subnet = self.stacked[: self.num_seed_tasks_learned][i]\n",
    "                w += self.weight * subnet * task_alpha[i]\n",
    "        x = F.linear(x, w, self.bias)\n",
    "        return x\n",
    "\n",
    "\n",
    "    def __repr__(self):\n",
    "        return f\"BasisMultitaskMaskLinearFrozenSparse({self.size()})\""
   ]
  },
  {
   "cell_type": "code",
   "execution_count": 67,
   "metadata": {},
   "outputs": [],
   "source": [
    "ValidConvs = [\n",
    "    MultitaskMaskLinear,\n",
    "    MultitaskMaskLinearSparse,\n",
    "    BasisMultitaskMaskLinear,\n",
    "    BasisMultitaskMaskLinearSparse,\n",
    "    BasisMultitaskMaskLinearFrozen,\n",
    "    BasisMultitaskMaskLinearFrozenSparse\n",
    "]\n",
    "\n",
    "def isoftype(m, cls_lst):\n",
    "    return any([isinstance(m, c) for c in cls_lst])"
   ]
  },
  {
   "cell_type": "code",
   "execution_count": 68,
   "metadata": {},
   "outputs": [],
   "source": [
    "# Utility functions\n",
    "def set_model_task(model, task, verbose=True):\n",
    "    for n, m in model.named_modules():\n",
    "        if isoftype(m, ValidConvs):\n",
    "            if verbose:\n",
    "                print(f\"=> Set task of {n} to {task}\")\n",
    "            m.task = task\n",
    "\n",
    "def cache_masks(model):\n",
    "    for n, m in model.named_modules():\n",
    "        if isoftype(m, ValidConvs):\n",
    "            print(f\"=> Caching mask state for {n}\")\n",
    "            m.cache_masks()\n",
    "\n",
    "def set_num_tasks_learned(model, num_tasks_learned):\n",
    "    for n, m in model.named_modules():\n",
    "        if isoftype(m, ValidConvs):\n",
    "            print(f\"=> Setting learned tasks of {n} to {num_tasks_learned}\")\n",
    "            m.num_tasks_learned = num_tasks_learned\n",
    "\n",
    "def set_alphas(model, alphas, verbose=True):\n",
    "    for n, m in model.named_modules():\n",
    "        if isoftype(m, ValidConvs):\n",
    "            if verbose:\n",
    "                print(f\"=> Setting alphas for {n}\")\n",
    "            m.alphas = alphas"
   ]
  },
  {
   "cell_type": "markdown",
   "metadata": {},
   "source": [
    "## Model\n",
    "\n",
    "For simplicity we use a simple 3-layer fully connected neural network. Note that you can make any neural by replacing a standard layer with its corresponding mask layer."
   ]
  },
  {
   "cell_type": "code",
   "execution_count": 69,
   "metadata": {},
   "outputs": [],
   "source": [
    "# Multitask Model, a simple fully connected model in this case\n",
    "class MultitaskFC(nn.Module):\n",
    "    def __init__(self, hidden_size, num_tasks):\n",
    "        super().__init__()\n",
    "        self.model = nn.Sequential(\n",
    "            MultitaskMaskLinear(\n",
    "                784,\n",
    "                hidden_size,\n",
    "                num_tasks=num_tasks,\n",
    "                bias=False\n",
    "            ),\n",
    "            nn.ReLU(),\n",
    "            MultitaskMaskLinear(\n",
    "                hidden_size,\n",
    "                hidden_size,\n",
    "                num_tasks=num_tasks,\n",
    "                bias=False\n",
    "            ),\n",
    "            nn.ReLU(),\n",
    "            MultitaskMaskLinear(\n",
    "                hidden_size,\n",
    "                100,\n",
    "                num_tasks=num_tasks,\n",
    "                bias=False\n",
    "            )\n",
    "        )\n",
    "    \n",
    "    def forward(self, x):\n",
    "        return self.model(x.flatten(1))"
   ]
  },
  {
   "cell_type": "code",
   "execution_count": 70,
   "metadata": {},
   "outputs": [],
   "source": [
    "# Multitask Model, a simple fully connected model in this case\n",
    "class MultitaskFCSparse(nn.Module):\n",
    "    def __init__(self, hidden_size, num_tasks, sparsity):\n",
    "        super().__init__()\n",
    "        self.model = nn.Sequential(\n",
    "            MultitaskMaskLinearSparse(\n",
    "                784,\n",
    "                hidden_size,\n",
    "                num_tasks=num_tasks,\n",
    "                sparsity=sparsity,\n",
    "                bias=False\n",
    "            ),\n",
    "            nn.ReLU(),\n",
    "            MultitaskMaskLinearSparse(\n",
    "                hidden_size,\n",
    "                hidden_size,\n",
    "                num_tasks=num_tasks,\n",
    "                sparsity=sparsity,\n",
    "                bias=False\n",
    "            ),\n",
    "            nn.ReLU(),\n",
    "            MultitaskMaskLinearSparse(\n",
    "                hidden_size,\n",
    "                100,\n",
    "                num_tasks=num_tasks,\n",
    "                sparsity=sparsity,\n",
    "                bias=False\n",
    "            )\n",
    "        )\n",
    "    \n",
    "    def forward(self, x):\n",
    "        return self.model(x.flatten(1))"
   ]
  },
  {
   "cell_type": "code",
   "execution_count": 71,
   "metadata": {},
   "outputs": [],
   "source": [
    "# Multitask Model, a simple fully connected model in this case\n",
    "class BasisMultitaskFC(nn.Module):\n",
    "    def __init__(self, hidden_size, num_tasks, num_seed_tasks_learned, start_at_optimal=True):\n",
    "        super().__init__()\n",
    "        self.model = nn.Sequential(\n",
    "            BasisMultitaskMaskLinear(\n",
    "                784,\n",
    "                hidden_size,\n",
    "                num_tasks=num_tasks,\n",
    "                num_seed_tasks_learned=num_seed_tasks_learned,\n",
    "                start_at_optimal=start_at_optimal,\n",
    "                bias=False\n",
    "            ),\n",
    "            nn.ReLU(),\n",
    "            BasisMultitaskMaskLinear(\n",
    "                hidden_size,\n",
    "                hidden_size,\n",
    "                num_tasks=num_tasks,\n",
    "                num_seed_tasks_learned=num_seed_tasks_learned,\n",
    "                start_at_optimal=start_at_optimal,\n",
    "                bias=False\n",
    "            ),\n",
    "            nn.ReLU(),\n",
    "            BasisMultitaskMaskLinear(\n",
    "                hidden_size,\n",
    "                100,\n",
    "                num_tasks=num_tasks,\n",
    "                num_seed_tasks_learned=num_seed_tasks_learned,\n",
    "                start_at_optimal=start_at_optimal,\n",
    "                bias=False\n",
    "            )\n",
    "        )\n",
    "    \n",
    "    def forward(self, x):\n",
    "        return self.model(x.flatten(1))"
   ]
  },
  {
   "cell_type": "code",
   "execution_count": 72,
   "metadata": {},
   "outputs": [],
   "source": [
    "class BasisHiddenOnlyMultitaskFC(nn.Module):\n",
    "    def __init__(self, hidden_size, num_tasks, num_seed_tasks_learned, start_at_optimal=True):\n",
    "        super().__init__()\n",
    "        self.model = nn.Sequential(\n",
    "            BasisMultitaskMaskLinear(\n",
    "                784,\n",
    "                hidden_size,\n",
    "                num_tasks=num_tasks,\n",
    "                num_seed_tasks_learned=num_seed_tasks_learned,\n",
    "                start_at_optimal=start_at_optimal,\n",
    "                bias=False\n",
    "            ),\n",
    "            nn.ReLU(),\n",
    "            BasisMultitaskMaskLinear(\n",
    "                hidden_size,\n",
    "                hidden_size,\n",
    "                num_tasks=num_tasks,\n",
    "                num_seed_tasks_learned=num_seed_tasks_learned,\n",
    "                start_at_optimal=start_at_optimal,\n",
    "                bias=False\n",
    "            ),\n",
    "            nn.ReLU(),\n",
    "            MultitaskMaskLinear(\n",
    "                hidden_size,\n",
    "                100,\n",
    "                num_tasks=num_tasks,\n",
    "                bias=False\n",
    "            )\n",
    "        )\n",
    "    \n",
    "    def forward(self, x):\n",
    "        return self.model(x.flatten(1))"
   ]
  },
  {
   "cell_type": "code",
   "execution_count": 73,
   "metadata": {},
   "outputs": [],
   "source": [
    "class BasisHiddenOnlyFrozenMultitaskFC(nn.Module):\n",
    "    def __init__(self, hidden_size, num_tasks, num_seed_tasks_learned, start_at_optimal=True):\n",
    "        super().__init__()\n",
    "        self.model = nn.Sequential(\n",
    "            BasisMultitaskMaskLinearFrozen(\n",
    "                784,\n",
    "                hidden_size,\n",
    "                num_tasks=num_tasks,\n",
    "                num_seed_tasks_learned=num_seed_tasks_learned,\n",
    "                start_at_optimal=start_at_optimal,\n",
    "                bias=False\n",
    "            ),\n",
    "            nn.ReLU(),\n",
    "            BasisMultitaskMaskLinearFrozen(\n",
    "                hidden_size,\n",
    "                hidden_size,\n",
    "                num_tasks=num_tasks,\n",
    "                num_seed_tasks_learned=num_seed_tasks_learned,\n",
    "                start_at_optimal=start_at_optimal,\n",
    "                bias=False\n",
    "            ),\n",
    "            nn.ReLU(),\n",
    "            MultitaskMaskLinear(\n",
    "                hidden_size,\n",
    "                100,\n",
    "                num_tasks=num_tasks,\n",
    "                bias=False\n",
    "            )\n",
    "        )\n",
    "    \n",
    "    def forward(self, x):\n",
    "        return self.model(x.flatten(1))"
   ]
  },
  {
   "cell_type": "code",
   "execution_count": 74,
   "metadata": {},
   "outputs": [],
   "source": [
    "# Multitask Model, a simple fully connected model in this case\n",
    "class BasisSparseMultitaskFC(nn.Module):\n",
    "    def __init__(self, hidden_size, num_tasks, num_seed_tasks_learned, sparsity, start_at_optimal=True):\n",
    "        super().__init__()\n",
    "        self.model = nn.Sequential(\n",
    "            BasisMultitaskMaskLinearSparse(\n",
    "                784,\n",
    "                hidden_size,\n",
    "                num_tasks=num_tasks,\n",
    "                num_seed_tasks_learned=num_seed_tasks_learned,\n",
    "                start_at_optimal=start_at_optimal,\n",
    "                sparsity=sparsity,\n",
    "                bias=False\n",
    "            ),\n",
    "            nn.ReLU(),\n",
    "            BasisMultitaskMaskLinearSparse(\n",
    "                hidden_size,\n",
    "                hidden_size,\n",
    "                num_tasks=num_tasks,\n",
    "                num_seed_tasks_learned=num_seed_tasks_learned,\n",
    "                start_at_optimal=start_at_optimal,\n",
    "                sparsity=sparsity,\n",
    "                bias=False\n",
    "            ),\n",
    "            nn.ReLU(),\n",
    "            BasisMultitaskMaskLinearSparse(\n",
    "                hidden_size,\n",
    "                100,\n",
    "                num_tasks=num_tasks,\n",
    "                num_seed_tasks_learned=num_seed_tasks_learned,\n",
    "                start_at_optimal=start_at_optimal,\n",
    "                sparsity=sparsity,\n",
    "                bias=False\n",
    "            )\n",
    "        )\n",
    "    \n",
    "    def forward(self, x):\n",
    "        return self.model(x.flatten(1))"
   ]
  },
  {
   "cell_type": "code",
   "execution_count": 116,
   "metadata": {},
   "outputs": [],
   "source": [
    "class BasisHiddenOnlySparseMultitaskFC(nn.Module):\n",
    "    def __init__(self, hidden_size, num_tasks, num_seed_tasks_learned, sparsity, start_at_optimal=True):\n",
    "        super().__init__()\n",
    "        self.model = nn.Sequential(\n",
    "            BasisMultitaskMaskLinearSparse(\n",
    "                784,\n",
    "                hidden_size,\n",
    "                num_tasks=num_tasks,\n",
    "                num_seed_tasks_learned=num_seed_tasks_learned,\n",
    "                start_at_optimal=start_at_optimal,\n",
    "                sparsity=sparsity,\n",
    "                bias=False\n",
    "            ),\n",
    "            nn.ReLU(),\n",
    "            BasisMultitaskMaskLinearSparse(\n",
    "                hidden_size,\n",
    "                hidden_size,\n",
    "                num_tasks=num_tasks,\n",
    "                num_seed_tasks_learned=num_seed_tasks_learned,\n",
    "                start_at_optimal=start_at_optimal,\n",
    "                sparsity=sparsity,\n",
    "                bias=False\n",
    "            ),\n",
    "            nn.ReLU(),\n",
    "            MultitaskMaskLinearSparse(\n",
    "                hidden_size,\n",
    "                100,\n",
    "                num_tasks=num_tasks,\n",
    "                sparsity=sparsity,\n",
    "                bias=False\n",
    "            )\n",
    "        )\n",
    "    \n",
    "    def forward(self, x):\n",
    "        return self.model(x.flatten(1))"
   ]
  },
  {
   "cell_type": "code",
   "execution_count": 147,
   "metadata": {},
   "outputs": [],
   "source": [
    "class BasisHiddenOnlySparseFrozenMultitaskFC(nn.Module):\n",
    "    def __init__(self, hidden_size, num_tasks, num_seed_tasks_learned, sparsity, start_at_optimal=True):\n",
    "        super().__init__()\n",
    "        self.model = nn.Sequential(\n",
    "            BasisMultitaskMaskLinearFrozenSparse(\n",
    "                784,\n",
    "                hidden_size,\n",
    "                num_tasks=num_tasks,\n",
    "                num_seed_tasks_learned=num_seed_tasks_learned,\n",
    "                start_at_optimal=start_at_optimal,\n",
    "                sparsity=sparsity,\n",
    "                bias=False\n",
    "            ),\n",
    "            nn.ReLU(),\n",
    "            BasisMultitaskMaskLinearFrozenSparse(\n",
    "                hidden_size,\n",
    "                hidden_size,\n",
    "                num_tasks=num_tasks,\n",
    "                num_seed_tasks_learned=num_seed_tasks_learned,\n",
    "                start_at_optimal=start_at_optimal,\n",
    "                sparsity=sparsity,\n",
    "                bias=False\n",
    "            ),\n",
    "            nn.ReLU(),\n",
    "            MultitaskMaskLinearSparse(\n",
    "                hidden_size,\n",
    "                100,\n",
    "                num_tasks=num_tasks,\n",
    "                sparsity=sparsity,\n",
    "                bias=False\n",
    "            )\n",
    "        )\n",
    "    \n",
    "    def forward(self, x):\n",
    "        return self.model(x.flatten(1))"
   ]
  },
  {
   "cell_type": "markdown",
   "metadata": {},
   "source": [
    "## Dataset \n",
    "\n",
    "Our \"base\" dataset is MNIST. Each task is a random permutation of the pixels of MNIST. Namely, given a dataset $\\{(x_i, y_i)\\}_i$ for each task $t$, we take a random permutation $S^t\\in S_{784}$ and construct a dataset $\\{(S^t(x_i), y_i)\\}_i$. \n",
    "\n",
    "Below we show this process and an example of a particular task. `MNISTPerm` uses an update task method to generate a particular sub-task. To assure these splits are reproducible, `MNISTPerm` takes a `seed` argument. In our paper we evaluate on seeds 0 through 4."
   ]
  },
  {
   "cell_type": "code",
   "execution_count": 77,
   "metadata": {
    "scrolled": true,
    "tags": []
   },
   "outputs": [
    {
     "data": {
      "image/png": "[encoded data removed]",
      "text/plain": [
       "<PIL.Image.Image image mode=RGB size=493x269 at 0x7EFF52B85B10>"
      ]
     },
     "execution_count": 77,
     "metadata": {},
     "output_type": "execute_result"
    }
   ],
   "source": [
    "class MNISTPerm:\n",
    "    class permute(object):\n",
    "        def __call__(self, tensor):\n",
    "            out = tensor.flatten()\n",
    "            out = out[self.perm]\n",
    "            return out.view(1, 28, 28)\n",
    "\n",
    "        def __repr__(self):\n",
    "            return self.__class__.__name__\n",
    "\n",
    "    def __init__(self, seed=0):\n",
    "        super(MNISTPerm, self).__init__()\n",
    "        \n",
    "        data_root = \"mnist\"\n",
    "        self.permuter = self.permute()\n",
    "        self.seed = seed\n",
    "        train_dataset = torchvision.datasets.MNIST(\n",
    "            data_root,\n",
    "            train=True,\n",
    "            download=True,\n",
    "            transform=torchvision.transforms.Compose(\n",
    "                [\n",
    "                    torchvision.transforms.ToTensor(),\n",
    "                    torchvision.transforms.Normalize((0.1307,), (0.3081,)),\n",
    "                    self.permuter,\n",
    "                ]\n",
    "            ),\n",
    "        )\n",
    "\n",
    "        # Data loading code\n",
    "        self.train_loader = torch.utils.data.DataLoader(\n",
    "            train_dataset, batch_size=128, shuffle=True\n",
    "        )\n",
    "        self.val_loader = torch.utils.data.DataLoader(\n",
    "            torchvision.datasets.MNIST(\n",
    "                data_root,\n",
    "                train=False,\n",
    "                transform=torchvision.transforms.Compose(\n",
    "                    [\n",
    "                        torchvision.transforms.ToTensor(),\n",
    "                        torchvision.transforms.Normalize((0.1307,), (0.3081,)),\n",
    "                        self.permuter,\n",
    "                    ]\n",
    "                ),\n",
    "            ),\n",
    "            batch_size=128,\n",
    "            shuffle=False,\n",
    "        )\n",
    "\n",
    "    def update_task(self, i):\n",
    "        np.random.seed(i + self.seed)\n",
    "        self.permuter.__setattr__(\"perm\", np.random.permutation(784))\n",
    "    \n",
    "    def unpermute(self):\n",
    "        self.permuter.__setattr__(\"perm\", np.arange(784))\n",
    "\n",
    "mnist = MNISTPerm()\n",
    "\n",
    "# Showing some example images from MNISTPerm\n",
    "mnist.unpermute()\n",
    "batch, labels = next(iter(mnist.val_loader))\n",
    "\n",
    "mnist.update_task(0)\n",
    "task0, labels = next(iter(mnist.val_loader))\n",
    "\n",
    "torchvision.transforms.ToPILImage()(\n",
    "    torchvision.utils.make_grid(\n",
    "        torch.cat([batch, task0], dim=-1)[:64],\n",
    "        normalize=True,\n",
    "        padding=5,\n",
    "        pad_value=0.2\n",
    "    )\n",
    ")"
   ]
  },
  {
   "cell_type": "code",
   "execution_count": 87,
   "metadata": {},
   "outputs": [
    {
     "data": {
      "image/png": "[encoded data removed]",
      "text/plain": [
       "<PIL.Image.Image image mode=RGB size=493x269 at 0x7EFF5264FF10>"
      ]
     },
     "execution_count": 87,
     "metadata": {},
     "output_type": "execute_result"
    }
   ],
   "source": [
    "import random\n",
    "\n",
    "class MNISTRot:\n",
    "    class rot(object):\n",
    "        def __call__(self, img):\n",
    "            if self.rotate:\n",
    "                return torchvision.transforms.RandomRotation(270)(img)\n",
    "            return img\n",
    "\n",
    "        def __repr__(self):\n",
    "            return self.__class__.__name__\n",
    "\n",
    "    def __init__(self, seed=0):\n",
    "        super(MNISTRot, self).__init__()\n",
    "        \n",
    "        data_root = \"mnist\"\n",
    "        self.seed = seed\n",
    "        self.rotator = self.rot()\n",
    "        train_dataset = torchvision.datasets.MNIST(\n",
    "            data_root,\n",
    "            train=True,\n",
    "            download=True,\n",
    "            transform=torchvision.transforms.Compose(\n",
    "                [\n",
    "                    self.rotator,\n",
    "                    torchvision.transforms.ToTensor(),\n",
    "                    torchvision.transforms.Normalize((0.1307,), (0.3081,)),\n",
    "                ]\n",
    "            ),\n",
    "        )\n",
    "\n",
    "        # Data loading code\n",
    "        self.train_loader = torch.utils.data.DataLoader(\n",
    "            train_dataset, batch_size=128, shuffle=True\n",
    "        )\n",
    "        self.val_loader = torch.utils.data.DataLoader(\n",
    "            torchvision.datasets.MNIST(\n",
    "                data_root,\n",
    "                train=False,\n",
    "                transform=torchvision.transforms.Compose(\n",
    "                     [\n",
    "                         self.rotator,\n",
    "                         torchvision.transforms.ToTensor(),\n",
    "                         torchvision.transforms.Normalize((0.1307,), (0.3081,))\n",
    "                     ]\n",
    "                 ),\n",
    "            ),\n",
    "            batch_size=128,\n",
    "            shuffle=False,\n",
    "        )\n",
    "\n",
    "    def update_task(self, i):\n",
    "        random.seed(i + self.seed)\n",
    "        self.rotator.__setattr__(\"rotate\", True)\n",
    "    \n",
    "    def unrotate(self):\n",
    "        self.rotator.__setattr__(\"rotate\", False)\n",
    "\n",
    "mnist_rot = MNISTRot()\n",
    "\n",
    "# Showing some example images from MNISTPerm\n",
    "mnist_rot.unrotate()\n",
    "batch, labels = next(iter(mnist_rot.val_loader))\n",
    "\n",
    "mnist_rot.update_task(0)\n",
    "task0, labels = next(iter(mnist_rot.val_loader))\n",
    "\n",
    "torchvision.transforms.ToPILImage()(\n",
    "    torchvision.utils.make_grid(\n",
    "        torch.cat([batch, task0], dim=-1)[:64],\n",
    "        normalize=True,\n",
    "        padding=5,\n",
    "        pad_value=0.2\n",
    "    )\n",
    ")"
   ]
  },
  {
   "cell_type": "markdown",
   "metadata": {},
   "source": [
    "### Simple train and evaluation loops for classification"
   ]
  },
  {
   "cell_type": "code",
   "execution_count": 79,
   "metadata": {},
   "outputs": [],
   "source": [
    "# Finding supermasks per task\n",
    "\n",
    "def train(model, trainloader, optimizer, epoch):\n",
    "    model.train()\n",
    "\n",
    "    criterion = nn.CrossEntropyLoss()\n",
    "    num_correct = 0\n",
    "    total_seen = 0\n",
    "    for i, (batch, labels) in tqdm(\n",
    "        enumerate(trainloader),\n",
    "        ascii=True,\n",
    "        total=len(trainloader)\n",
    "    ):\n",
    "        logits = model(batch)\n",
    "        loss = criterion(logits, labels)\n",
    "\n",
    "        optimizer.zero_grad()\n",
    "        loss.backward()\n",
    "        optimizer.step()\n",
    "\n",
    "        if i % 20 == 0:\n",
    "            predictions = logits.argmax(dim=-1)\n",
    "            num_correct += (predictions == labels).float().sum()\n",
    "            total_seen += logits.size(0) \n",
    "            tqdm.write(\n",
    "                (f\"e{epoch} {i+1}/{len(trainloader)}\"\n",
    "                f\" => Loss {loss.item():0.4f}, \"\n",
    "                f\"Acc@1 {(num_correct / total_seen):0.4f}\"),\n",
    "                end=\"\\r\"\n",
    "            )\n",
    "\n",
    "\n",
    "@torch.no_grad()\n",
    "def evaluate(model, val_loader, epoch):\n",
    "    model.eval()\n",
    "    num_correct = 0\n",
    "    total_seen = 0\n",
    "    for batch, labels in tqdm(\n",
    "        val_loader,\n",
    "        ascii=True,\n",
    "        total=len(val_loader)\n",
    "    ):\n",
    "        logits = model(batch)\n",
    "        predictions = logits.argmax(dim=-1)\n",
    "        num_correct += (predictions == labels).float().sum()\n",
    "        total_seen += logits.size(0) \n",
    "    \n",
    "\n",
    "    tqdm.write(\n",
    "        f\"Val Perf after {epoch + 1} epochs \"\n",
    "        f\"Acc@1 {(num_correct / total_seen):0.4f}\", \n",
    "    )\n",
    "    return num_correct / total_seen\n",
    "\n"
   ]
  },
  {
   "cell_type": "markdown",
   "metadata": {},
   "source": [
    "For any scenario where task ID is given during train time, we simply train each supermask independently, one per task. We make use of our utility function `set_model_task` to do this. We use 5 tasks for demonstration purposes. Feel free to increase `num_tasks` in the following cell. In our paper we use as many as 2500 tasks with no drop in performance for either task inference or validation accuracy."
   ]
  },
  {
   "cell_type": "code",
   "execution_count": 80,
   "metadata": {},
   "outputs": [],
   "source": [
    "performance_map = {}"
   ]
  },
  {
   "cell_type": "code",
   "execution_count": 81,
   "metadata": {
    "scrolled": true
   },
   "outputs": [
    {
     "name": "stdout",
     "output_type": "stream",
     "text": [
      "Training for task 0\n",
      "=> Set task of model.0 to 0\n",
      "=> Set task of model.2 to 0\n",
      "=> Set task of model.4 to 0\n"
     ]
    },
    {
     "data": {
      "application/vnd.jupyter.widget-view+json": {
       "model_id": "2f01b79e8a214d20b9f6c699bdc899e4",
       "version_major": 2,
       "version_minor": 0
      },
      "text/plain": [
       "  0%|          | 0/469 [00:00<?, ?it/s]"
      ]
     },
     "metadata": {},
     "output_type": "display_data"
    },
    {
     "name": "stdout",
     "output_type": "stream",
     "text": [
      "Validation => Loss 0.3408, Acc@1 0.8434\n",
      "============\n"
     ]
    },
    {
     "data": {
      "application/vnd.jupyter.widget-view+json": {
       "model_id": "473858bd1178400e8554fbdd2f0a83ba",
       "version_major": 2,
       "version_minor": 0
      },
      "text/plain": [
       "  0%|          | 0/79 [00:00<?, ?it/s]"
      ]
     },
     "metadata": {},
     "output_type": "display_data"
    },
    {
     "name": "stdout",
     "output_type": "stream",
     "text": [
      "Val Perf after 1 epochs Acc@1 0.9295\n",
      "=> Caching mask state for model.0\n",
      "=> Caching mask state for model.2\n",
      "=> Caching mask state for model.4\n",
      "\n",
      "=> Setting learned tasks of model.0 to 1\n",
      "=> Setting learned tasks of model.2 to 1\n",
      "=> Setting learned tasks of model.4 to 1\n",
      "\n",
      "Training for task 1\n",
      "=> Set task of model.0 to 1\n",
      "=> Set task of model.2 to 1\n",
      "=> Set task of model.4 to 1\n"
     ]
    },
    {
     "data": {
      "application/vnd.jupyter.widget-view+json": {
       "model_id": "dc6b4abb08cf40c9b6af445807c4435b",
       "version_major": 2,
       "version_minor": 0
      },
      "text/plain": [
       "  0%|          | 0/469 [00:00<?, ?it/s]"
      ]
     },
     "metadata": {},
     "output_type": "display_data"
    },
    {
     "name": "stdout",
     "output_type": "stream",
     "text": [
      "Validation => Loss 0.3102, Acc@1 0.8564\n",
      "============\n"
     ]
    },
    {
     "data": {
      "application/vnd.jupyter.widget-view+json": {
       "model_id": "e59258e7c04e4dc39f70c62b5e765049",
       "version_major": 2,
       "version_minor": 0
      },
      "text/plain": [
       "  0%|          | 0/79 [00:00<?, ?it/s]"
      ]
     },
     "metadata": {},
     "output_type": "display_data"
    },
    {
     "name": "stdout",
     "output_type": "stream",
     "text": [
      "Val Perf after 1 epochs Acc@1 0.9266\n",
      "=> Caching mask state for model.0\n",
      "=> Caching mask state for model.2\n",
      "=> Caching mask state for model.4\n",
      "\n",
      "=> Setting learned tasks of model.0 to 2\n",
      "=> Setting learned tasks of model.2 to 2\n",
      "=> Setting learned tasks of model.4 to 2\n",
      "\n",
      "Training for task 2\n",
      "=> Set task of model.0 to 2\n",
      "=> Set task of model.2 to 2\n",
      "=> Set task of model.4 to 2\n"
     ]
    },
    {
     "data": {
      "application/vnd.jupyter.widget-view+json": {
       "model_id": "1a6c611288ac4162a8d442cbccb30fa3",
       "version_major": 2,
       "version_minor": 0
      },
      "text/plain": [
       "  0%|          | 0/469 [00:00<?, ?it/s]"
      ]
     },
     "metadata": {},
     "output_type": "display_data"
    },
    {
     "name": "stdout",
     "output_type": "stream",
     "text": [
      "Validation => Loss 0.2391, Acc@1 0.8480\n",
      "============\n"
     ]
    },
    {
     "data": {
      "application/vnd.jupyter.widget-view+json": {
       "model_id": "4b38798b30af47f6a8263d3f7e989b68",
       "version_major": 2,
       "version_minor": 0
      },
      "text/plain": [
       "  0%|          | 0/79 [00:00<?, ?it/s]"
      ]
     },
     "metadata": {},
     "output_type": "display_data"
    },
    {
     "name": "stdout",
     "output_type": "stream",
     "text": [
      "Val Perf after 1 epochs Acc@1 0.9264\n",
      "=> Caching mask state for model.0\n",
      "=> Caching mask state for model.2\n",
      "=> Caching mask state for model.4\n",
      "\n",
      "=> Setting learned tasks of model.0 to 3\n",
      "=> Setting learned tasks of model.2 to 3\n",
      "=> Setting learned tasks of model.4 to 3\n",
      "\n",
      "Training for task 3\n",
      "=> Set task of model.0 to 3\n",
      "=> Set task of model.2 to 3\n",
      "=> Set task of model.4 to 3\n"
     ]
    },
    {
     "data": {
      "application/vnd.jupyter.widget-view+json": {
       "model_id": "47e5818d8e394381995248b7509db6e9",
       "version_major": 2,
       "version_minor": 0
      },
      "text/plain": [
       "  0%|          | 0/469 [00:00<?, ?it/s]"
      ]
     },
     "metadata": {},
     "output_type": "display_data"
    },
    {
     "name": "stdout",
     "output_type": "stream",
     "text": [
      "Validation => Loss 0.2603, Acc@1 0.8561\n",
      "============\n"
     ]
    },
    {
     "data": {
      "application/vnd.jupyter.widget-view+json": {
       "model_id": "a6f9b8761e164af2b88e4a3efbf84ba4",
       "version_major": 2,
       "version_minor": 0
      },
      "text/plain": [
       "  0%|          | 0/79 [00:00<?, ?it/s]"
      ]
     },
     "metadata": {},
     "output_type": "display_data"
    },
    {
     "name": "stdout",
     "output_type": "stream",
     "text": [
      "Val Perf after 1 epochs Acc@1 0.9247\n",
      "=> Caching mask state for model.0\n",
      "=> Caching mask state for model.2\n",
      "=> Caching mask state for model.4\n",
      "\n",
      "=> Setting learned tasks of model.0 to 4\n",
      "=> Setting learned tasks of model.2 to 4\n",
      "=> Setting learned tasks of model.4 to 4\n",
      "\n",
      "Training for task 4\n",
      "=> Set task of model.0 to 4\n",
      "=> Set task of model.2 to 4\n",
      "=> Set task of model.4 to 4\n"
     ]
    },
    {
     "data": {
      "application/vnd.jupyter.widget-view+json": {
       "model_id": "f3ce972a61d64a68a939f5b035b28440",
       "version_major": 2,
       "version_minor": 0
      },
      "text/plain": [
       "  0%|          | 0/469 [00:00<?, ?it/s]"
      ]
     },
     "metadata": {},
     "output_type": "display_data"
    },
    {
     "name": "stdout",
     "output_type": "stream",
     "text": [
      "Validation => Loss 0.3563, Acc@1 0.8522\n",
      "============\n"
     ]
    },
    {
     "data": {
      "application/vnd.jupyter.widget-view+json": {
       "model_id": "fd9cbcea00614ed987cbdb9be271e8f6",
       "version_major": 2,
       "version_minor": 0
      },
      "text/plain": [
       "  0%|          | 0/79 [00:00<?, ?it/s]"
      ]
     },
     "metadata": {},
     "output_type": "display_data"
    },
    {
     "name": "stdout",
     "output_type": "stream",
     "text": [
      "Val Perf after 1 epochs Acc@1 0.9281\n",
      "=> Caching mask state for model.0\n",
      "=> Caching mask state for model.2\n",
      "=> Caching mask state for model.4\n",
      "\n",
      "=> Setting learned tasks of model.0 to 5\n",
      "=> Setting learned tasks of model.2 to 5\n",
      "=> Setting learned tasks of model.4 to 5\n",
      "\n",
      "Training for task 5\n",
      "=> Set task of model.0 to 5\n",
      "=> Set task of model.2 to 5\n",
      "=> Set task of model.4 to 5\n"
     ]
    },
    {
     "data": {
      "application/vnd.jupyter.widget-view+json": {
       "model_id": "ee6c3806f3794d2abf157008cba9794f",
       "version_major": 2,
       "version_minor": 0
      },
      "text/plain": [
       "  0%|          | 0/469 [00:00<?, ?it/s]"
      ]
     },
     "metadata": {},
     "output_type": "display_data"
    },
    {
     "name": "stdout",
     "output_type": "stream",
     "text": [
      "Validation => Loss 0.2611, Acc@1 0.8594\n",
      "============\n"
     ]
    },
    {
     "data": {
      "application/vnd.jupyter.widget-view+json": {
       "model_id": "6332c02e6e47433f8ac5d560b1ede2c9",
       "version_major": 2,
       "version_minor": 0
      },
      "text/plain": [
       "  0%|          | 0/79 [00:00<?, ?it/s]"
      ]
     },
     "metadata": {},
     "output_type": "display_data"
    },
    {
     "name": "stdout",
     "output_type": "stream",
     "text": [
      "Val Perf after 1 epochs Acc@1 0.9229\n",
      "=> Caching mask state for model.0\n",
      "=> Caching mask state for model.2\n",
      "=> Caching mask state for model.4\n",
      "\n",
      "=> Setting learned tasks of model.0 to 6\n",
      "=> Setting learned tasks of model.2 to 6\n",
      "=> Setting learned tasks of model.4 to 6\n",
      "\n",
      "Training for task 6\n",
      "=> Set task of model.0 to 6\n",
      "=> Set task of model.2 to 6\n",
      "=> Set task of model.4 to 6\n"
     ]
    },
    {
     "data": {
      "application/vnd.jupyter.widget-view+json": {
       "model_id": "9ddb079ccad947e79ee2ce3ba5318f64",
       "version_major": 2,
       "version_minor": 0
      },
      "text/plain": [
       "  0%|          | 0/469 [00:00<?, ?it/s]"
      ]
     },
     "metadata": {},
     "output_type": "display_data"
    },
    {
     "name": "stdout",
     "output_type": "stream",
     "text": [
      "Validation => Loss 0.2415, Acc@1 0.8659\n",
      "============\n"
     ]
    },
    {
     "data": {
      "application/vnd.jupyter.widget-view+json": {
       "model_id": "91eec7deb30a4d1eac1a2c76fdde98f2",
       "version_major": 2,
       "version_minor": 0
      },
      "text/plain": [
       "  0%|          | 0/79 [00:00<?, ?it/s]"
      ]
     },
     "metadata": {},
     "output_type": "display_data"
    },
    {
     "name": "stdout",
     "output_type": "stream",
     "text": [
      "Val Perf after 1 epochs Acc@1 0.9262\n",
      "=> Caching mask state for model.0\n",
      "=> Caching mask state for model.2\n",
      "=> Caching mask state for model.4\n",
      "\n",
      "=> Setting learned tasks of model.0 to 7\n",
      "=> Setting learned tasks of model.2 to 7\n",
      "=> Setting learned tasks of model.4 to 7\n",
      "\n",
      "Training for task 7\n",
      "=> Set task of model.0 to 7\n",
      "=> Set task of model.2 to 7\n",
      "=> Set task of model.4 to 7\n"
     ]
    },
    {
     "data": {
      "application/vnd.jupyter.widget-view+json": {
       "model_id": "cbb92a4954c6431099ce84bfad7a4bd8",
       "version_major": 2,
       "version_minor": 0
      },
      "text/plain": [
       "  0%|          | 0/469 [00:00<?, ?it/s]"
      ]
     },
     "metadata": {},
     "output_type": "display_data"
    },
    {
     "name": "stdout",
     "output_type": "stream",
     "text": [
      "Validation => Loss 0.2871, Acc@1 0.8623\n",
      "============\n"
     ]
    },
    {
     "data": {
      "application/vnd.jupyter.widget-view+json": {
       "model_id": "d72033a9ffe6474aaa307a263a4d7ebc",
       "version_major": 2,
       "version_minor": 0
      },
      "text/plain": [
       "  0%|          | 0/79 [00:00<?, ?it/s]"
      ]
     },
     "metadata": {},
     "output_type": "display_data"
    },
    {
     "name": "stdout",
     "output_type": "stream",
     "text": [
      "Val Perf after 1 epochs Acc@1 0.9242\n",
      "=> Caching mask state for model.0\n",
      "=> Caching mask state for model.2\n",
      "=> Caching mask state for model.4\n",
      "\n",
      "=> Setting learned tasks of model.0 to 8\n",
      "=> Setting learned tasks of model.2 to 8\n",
      "=> Setting learned tasks of model.4 to 8\n",
      "\n",
      "Training for task 8\n",
      "=> Set task of model.0 to 8\n",
      "=> Set task of model.2 to 8\n",
      "=> Set task of model.4 to 8\n"
     ]
    },
    {
     "data": {
      "application/vnd.jupyter.widget-view+json": {
       "model_id": "520722f6d43a4b64926870cd1ac64bd8",
       "version_major": 2,
       "version_minor": 0
      },
      "text/plain": [
       "  0%|          | 0/469 [00:00<?, ?it/s]"
      ]
     },
     "metadata": {},
     "output_type": "display_data"
    },
    {
     "name": "stdout",
     "output_type": "stream",
     "text": [
      "Validation => Loss 0.3398, Acc@1 0.8477\n",
      "============\n"
     ]
    },
    {
     "data": {
      "application/vnd.jupyter.widget-view+json": {
       "model_id": "121f191c62b14154b62962190e7ad318",
       "version_major": 2,
       "version_minor": 0
      },
      "text/plain": [
       "  0%|          | 0/79 [00:00<?, ?it/s]"
      ]
     },
     "metadata": {},
     "output_type": "display_data"
    },
    {
     "name": "stdout",
     "output_type": "stream",
     "text": [
      "Val Perf after 1 epochs Acc@1 0.9263\n",
      "=> Caching mask state for model.0\n",
      "=> Caching mask state for model.2\n",
      "=> Caching mask state for model.4\n",
      "\n",
      "=> Setting learned tasks of model.0 to 9\n",
      "=> Setting learned tasks of model.2 to 9\n",
      "=> Setting learned tasks of model.4 to 9\n",
      "\n",
      "Training for task 9\n",
      "=> Set task of model.0 to 9\n",
      "=> Set task of model.2 to 9\n",
      "=> Set task of model.4 to 9\n"
     ]
    },
    {
     "data": {
      "application/vnd.jupyter.widget-view+json": {
       "model_id": "904555278a8a4943a123de1fe19ba4f9",
       "version_major": 2,
       "version_minor": 0
      },
      "text/plain": [
       "  0%|          | 0/469 [00:00<?, ?it/s]"
      ]
     },
     "metadata": {},
     "output_type": "display_data"
    },
    {
     "name": "stdout",
     "output_type": "stream",
     "text": [
      "Validation => Loss 0.1636, Acc@1 0.8590\n",
      "============\n"
     ]
    },
    {
     "data": {
      "application/vnd.jupyter.widget-view+json": {
       "model_id": "e99fd88f65134a47b46ecd888f3a1cc4",
       "version_major": 2,
       "version_minor": 0
      },
      "text/plain": [
       "  0%|          | 0/79 [00:00<?, ?it/s]"
      ]
     },
     "metadata": {},
     "output_type": "display_data"
    },
    {
     "name": "stdout",
     "output_type": "stream",
     "text": [
      "Val Perf after 1 epochs Acc@1 0.9262\n",
      "=> Caching mask state for model.0\n",
      "=> Caching mask state for model.2\n",
      "=> Caching mask state for model.4\n",
      "\n",
      "=> Setting learned tasks of model.0 to 10\n",
      "=> Setting learned tasks of model.2 to 10\n",
      "=> Setting learned tasks of model.4 to 10\n",
      "\n",
      "Training for task 10\n",
      "=> Set task of model.0 to 10\n",
      "=> Set task of model.2 to 10\n",
      "=> Set task of model.4 to 10\n"
     ]
    },
    {
     "data": {
      "application/vnd.jupyter.widget-view+json": {
       "model_id": "a79ebca2614d4e91849349ef51744351",
       "version_major": 2,
       "version_minor": 0
      },
      "text/plain": [
       "  0%|          | 0/469 [00:00<?, ?it/s]"
      ]
     },
     "metadata": {},
     "output_type": "display_data"
    },
    {
     "name": "stdout",
     "output_type": "stream",
     "text": [
      "Val Perf after 1 epochs Acc@1 0.9255778\n",
      "=> Caching mask state for model.0\n",
      "=> Caching mask state for model.2\n",
      "=> Caching mask state for model.4\n",
      "\n",
      "=> Setting learned tasks of model.0 to 13\n",
      "=> Setting learned tasks of model.2 to 13\n",
      "=> Setting learned tasks of model.4 to 13\n",
      "\n",
      "Training for task 13\n",
      "=> Set task of model.0 to 13\n",
      "=> Set task of model.2 to 13\n",
      "=> Set task of model.4 to 13\n"
     ]
    },
    {
     "data": {
      "application/vnd.jupyter.widget-view+json": {
       "model_id": "a8dcdcc981ab4f8e88c7faaa7886c76b",
       "version_major": 2,
       "version_minor": 0
      },
      "text/plain": [
       "  0%|          | 0/469 [00:00<?, ?it/s]"
      ]
     },
     "metadata": {},
     "output_type": "display_data"
    },
    {
     "name": "stdout",
     "output_type": "stream",
     "text": [
      "Validation => Loss 0.2556, Acc@1 0.8464\n",
      "============\n"
     ]
    },
    {
     "data": {
      "application/vnd.jupyter.widget-view+json": {
       "model_id": "e4e3b2c8e6324a74b383b1fb1d38e60e",
       "version_major": 2,
       "version_minor": 0
      },
      "text/plain": [
       "  0%|          | 0/79 [00:00<?, ?it/s]"
      ]
     },
     "metadata": {},
     "output_type": "display_data"
    },
    {
     "name": "stdout",
     "output_type": "stream",
     "text": [
      "Val Perf after 1 epochs Acc@1 0.9287\n",
      "=> Caching mask state for model.0\n",
      "=> Caching mask state for model.2\n",
      "=> Caching mask state for model.4\n",
      "\n",
      "=> Setting learned tasks of model.0 to 14\n",
      "=> Setting learned tasks of model.2 to 14\n",
      "=> Setting learned tasks of model.4 to 14\n",
      "\n",
      "Training for task 14\n",
      "=> Set task of model.0 to 14\n",
      "=> Set task of model.2 to 14\n",
      "=> Set task of model.4 to 14\n"
     ]
    },
    {
     "data": {
      "application/vnd.jupyter.widget-view+json": {
       "model_id": "4279e74273fc43d193e2f041cef1f09b",
       "version_major": 2,
       "version_minor": 0
      },
      "text/plain": [
       "  0%|          | 0/469 [00:00<?, ?it/s]"
      ]
     },
     "metadata": {},
     "output_type": "display_data"
    },
    {
     "name": "stdout",
     "output_type": "stream",
     "text": [
      "Validation => Loss 0.3549, Acc@1 0.8532\n",
      "============\n"
     ]
    },
    {
     "data": {
      "application/vnd.jupyter.widget-view+json": {
       "model_id": "fef5312785144ae780f5266bef8fa5d4",
       "version_major": 2,
       "version_minor": 0
      },
      "text/plain": [
       "  0%|          | 0/79 [00:00<?, ?it/s]"
      ]
     },
     "metadata": {},
     "output_type": "display_data"
    },
    {
     "name": "stdout",
     "output_type": "stream",
     "text": [
      "Val Perf after 1 epochs Acc@1 0.9242\n",
      "=> Caching mask state for model.0\n",
      "=> Caching mask state for model.2\n",
      "=> Caching mask state for model.4\n",
      "\n",
      "=> Setting learned tasks of model.0 to 15\n",
      "=> Setting learned tasks of model.2 to 15\n",
      "=> Setting learned tasks of model.4 to 15\n",
      "\n",
      "Training for task 15\n",
      "=> Set task of model.0 to 15\n",
      "=> Set task of model.2 to 15\n",
      "=> Set task of model.4 to 15\n"
     ]
    },
    {
     "data": {
      "application/vnd.jupyter.widget-view+json": {
       "model_id": "88e98e2e3dfd40918b4877011751834c",
       "version_major": 2,
       "version_minor": 0
      },
      "text/plain": [
       "  0%|          | 0/469 [00:00<?, ?it/s]"
      ]
     },
     "metadata": {},
     "output_type": "display_data"
    },
    {
     "name": "stdout",
     "output_type": "stream",
     "text": [
      "Validation => Loss 0.2233, Acc@1 0.8438\n",
      "============\n"
     ]
    },
    {
     "data": {
      "application/vnd.jupyter.widget-view+json": {
       "model_id": "cf8e16404c0e438e8b2f196de65ec538",
       "version_major": 2,
       "version_minor": 0
      },
      "text/plain": [
       "  0%|          | 0/79 [00:00<?, ?it/s]"
      ]
     },
     "metadata": {},
     "output_type": "display_data"
    },
    {
     "name": "stdout",
     "output_type": "stream",
     "text": [
      "Val Perf after 1 epochs Acc@1 0.9277\n",
      "=> Caching mask state for model.0\n",
      "=> Caching mask state for model.2\n",
      "=> Caching mask state for model.4\n",
      "\n",
      "=> Setting learned tasks of model.0 to 16\n",
      "=> Setting learned tasks of model.2 to 16\n",
      "=> Setting learned tasks of model.4 to 16\n",
      "\n",
      "Training for task 16\n",
      "=> Set task of model.0 to 16\n",
      "=> Set task of model.2 to 16\n",
      "=> Set task of model.4 to 16\n"
     ]
    },
    {
     "data": {
      "application/vnd.jupyter.widget-view+json": {
       "model_id": "e6a0cf1c801e4ada921db00ae68f96f1",
       "version_major": 2,
       "version_minor": 0
      },
      "text/plain": [
       "  0%|          | 0/469 [00:00<?, ?it/s]"
      ]
     },
     "metadata": {},
     "output_type": "display_data"
    },
    {
     "name": "stdout",
     "output_type": "stream",
     "text": [
      "Validation => Loss 0.4212, Acc@1 0.8535\n",
      "============\n"
     ]
    },
    {
     "data": {
      "application/vnd.jupyter.widget-view+json": {
       "model_id": "50643b6014b14a4a9602cab8b9729546",
       "version_major": 2,
       "version_minor": 0
      },
      "text/plain": [
       "  0%|          | 0/79 [00:00<?, ?it/s]"
      ]
     },
     "metadata": {},
     "output_type": "display_data"
    },
    {
     "name": "stdout",
     "output_type": "stream",
     "text": [
      "Val Perf after 1 epochs Acc@1 0.9236\n",
      "=> Caching mask state for model.0\n",
      "=> Caching mask state for model.2\n",
      "=> Caching mask state for model.4\n",
      "\n",
      "=> Setting learned tasks of model.0 to 17\n",
      "=> Setting learned tasks of model.2 to 17\n",
      "=> Setting learned tasks of model.4 to 17\n",
      "\n",
      "Training for task 17\n",
      "=> Set task of model.0 to 17\n",
      "=> Set task of model.2 to 17\n",
      "=> Set task of model.4 to 17\n"
     ]
    },
    {
     "data": {
      "application/vnd.jupyter.widget-view+json": {
       "model_id": "a7226cbe2c0f4cea9da0615574190ae7",
       "version_major": 2,
       "version_minor": 0
      },
      "text/plain": [
       "  0%|          | 0/469 [00:00<?, ?it/s]"
      ]
     },
     "metadata": {},
     "output_type": "display_data"
    },
    {
     "name": "stdout",
     "output_type": "stream",
     "text": [
      "e0 261/469 => Loss 0.3730, Acc@1 0.8052\r"
     ]
    },
    {
     "name": "stderr",
     "output_type": "stream",
     "text": [
      "IOPub message rate exceeded.\n",
      "The notebook server will temporarily stop sending output\n",
      "to the client in order to avoid crashing it.\n",
      "To change this limit, set the config variable\n",
      "`--NotebookApp.iopub_msg_rate_limit`.\n",
      "\n",
      "Current values:\n",
      "NotebookApp.iopub_msg_rate_limit=1000.0 (msgs/sec)\n",
      "NotebookApp.rate_limit_window=3.0 (secs)\n",
      "\n"
     ]
    }
   ],
   "source": [
    "# Task ID given during train time\n",
    "from IPython.display import clear_output\n",
    "\n",
    "num_tasks = 20 # For demonstration purposes, we go up to 2500 in our paper\n",
    "model = MultitaskFC(hidden_size=300, num_tasks=num_tasks)\n",
    "\n",
    "for task in range(num_tasks):\n",
    "    print(f\"Training for task {task}\")\n",
    "    set_model_task(model, task)\n",
    "    mnist.update_task(task)\n",
    "\n",
    "    optimizer = optim.RMSprop([p for p in model.parameters() if p.requires_grad], lr=1e-4)\n",
    "    # Train for 1 epoch\n",
    "    for e in range(1):\n",
    "        train(model, mnist.train_loader, optimizer, e)\n",
    "        \n",
    "        print(\"Validation\")\n",
    "        print(\"============\")\n",
    "        acc1 = evaluate(model, mnist.val_loader, e)\n",
    "        \n",
    "    \n",
    "    cache_masks(model)\n",
    "    print()\n",
    "    set_num_tasks_learned(model, task + 1)\n",
    "    print()"
   ]
  },
  {
   "cell_type": "code",
   "execution_count": 82,
   "metadata": {},
   "outputs": [
    {
     "name": "stdout",
     "output_type": "stream",
     "text": [
      "Average top 1 performance: 0.9260\n",
      "Per task performance\n",
      "Task 0: 0.9295\n",
      "Task 1: 0.9266\n",
      "Task 2: 0.9264\n",
      "Task 3: 0.9247\n",
      "Task 4: 0.9281\n",
      "Task 5: 0.9229\n",
      "Task 6: 0.9262\n",
      "Task 7: 0.9242\n",
      "Task 8: 0.9263\n",
      "Task 9: 0.9262\n",
      "Task 10: 0.9243\n",
      "Task 11: 0.9255\n",
      "Task 12: 0.9255\n",
      "Task 13: 0.9287\n",
      "Task 14: 0.9242\n",
      "Task 15: 0.9277\n",
      "Task 16: 0.9236\n",
      "Task 17: 0.9266\n",
      "Task 18: 0.9224\n",
      "Task 19: 0.9300\n"
     ]
    }
   ],
   "source": [
    "# When task ID we can simply set the mask and evaluate\n",
    "\n",
    "gg_performance = []\n",
    "for task in range(num_tasks):\n",
    "    set_model_task(model, task)\n",
    "    mnist.update_task(task)\n",
    "    acc1 = evaluate(model, mnist.val_loader, 0)\n",
    "    gg_performance.append(acc1.item())\n",
    "\n",
    "clear_output()\n",
    "    \n",
    "print(f\"Average top 1 performance: {(sum(gg_performance) / len(gg_performance)):.4f}\")\n",
    "\n",
    "print(\"Per task performance\")\n",
    "for t in range(num_tasks):\n",
    "    print(f\"Task {t}: {gg_performance[t]:.4f}\")"
   ]
  },
  {
   "cell_type": "code",
   "execution_count": 83,
   "metadata": {},
   "outputs": [],
   "source": [
    "performance_map['supsup_mnist'] = gg_performance.copy()"
   ]
  },
  {
   "cell_type": "markdown",
   "metadata": {},
   "source": [
    "### MNIST Perm with Sparsity"
   ]
  },
  {
   "cell_type": "code",
   "execution_count": 84,
   "metadata": {
    "scrolled": true
   },
   "outputs": [
    {
     "name": "stdout",
     "output_type": "stream",
     "text": [
      "Training for task 0\n",
      "=> Set task of model.0 to 0\n",
      "=> Set task of model.2 to 0\n",
      "=> Set task of model.4 to 0\n"
     ]
    },
    {
     "data": {
      "application/vnd.jupyter.widget-view+json": {
       "model_id": "0cf4c62434694fdba141e047faf7965a",
       "version_major": 2,
       "version_minor": 0
      },
      "text/plain": [
       "  0%|          | 0/469 [00:00<?, ?it/s]"
      ]
     },
     "metadata": {},
     "output_type": "display_data"
    },
    {
     "name": "stdout",
     "output_type": "stream",
     "text": [
      "Validation => Loss 0.2830, Acc@1 0.8398\n",
      "============\n"
     ]
    },
    {
     "data": {
      "application/vnd.jupyter.widget-view+json": {
       "model_id": "db83f980f1e04db780830302dc4d2b2b",
       "version_major": 2,
       "version_minor": 0
      },
      "text/plain": [
       "  0%|          | 0/79 [00:00<?, ?it/s]"
      ]
     },
     "metadata": {},
     "output_type": "display_data"
    },
    {
     "name": "stdout",
     "output_type": "stream",
     "text": [
      "Val Perf after 1 epochs Acc@1 0.9116\n",
      "=> Caching mask state for model.0\n",
      "=> Caching mask state for model.2\n",
      "=> Caching mask state for model.4\n",
      "\n",
      "=> Setting learned tasks of model.0 to 1\n",
      "=> Setting learned tasks of model.2 to 1\n",
      "=> Setting learned tasks of model.4 to 1\n",
      "\n",
      "Training for task 1\n",
      "=> Set task of model.0 to 1\n",
      "=> Set task of model.2 to 1\n",
      "=> Set task of model.4 to 1\n"
     ]
    },
    {
     "data": {
      "application/vnd.jupyter.widget-view+json": {
       "model_id": "dc583f3b7214409685038cccbc25fbe2",
       "version_major": 2,
       "version_minor": 0
      },
      "text/plain": [
       "  0%|          | 0/469 [00:00<?, ?it/s]"
      ]
     },
     "metadata": {},
     "output_type": "display_data"
    },
    {
     "name": "stdout",
     "output_type": "stream",
     "text": [
      "Validation => Loss 0.3703, Acc@1 0.8431\n",
      "============\n"
     ]
    },
    {
     "data": {
      "application/vnd.jupyter.widget-view+json": {
       "model_id": "94974cf2d35b4840952c909cb0fdc6ec",
       "version_major": 2,
       "version_minor": 0
      },
      "text/plain": [
       "  0%|          | 0/79 [00:00<?, ?it/s]"
      ]
     },
     "metadata": {},
     "output_type": "display_data"
    },
    {
     "name": "stdout",
     "output_type": "stream",
     "text": [
      "Val Perf after 1 epochs Acc@1 0.9166\n",
      "=> Caching mask state for model.0\n",
      "=> Caching mask state for model.2\n",
      "=> Caching mask state for model.4\n",
      "\n",
      "=> Setting learned tasks of model.0 to 2\n",
      "=> Setting learned tasks of model.2 to 2\n",
      "=> Setting learned tasks of model.4 to 2\n",
      "\n",
      "Training for task 2\n",
      "=> Set task of model.0 to 2\n",
      "=> Set task of model.2 to 2\n",
      "=> Set task of model.4 to 2\n"
     ]
    },
    {
     "data": {
      "application/vnd.jupyter.widget-view+json": {
       "model_id": "ed7ff08c5adc45558e9a7731cbf5cee2",
       "version_major": 2,
       "version_minor": 0
      },
      "text/plain": [
       "  0%|          | 0/469 [00:00<?, ?it/s]"
      ]
     },
     "metadata": {},
     "output_type": "display_data"
    },
    {
     "name": "stdout",
     "output_type": "stream",
     "text": [
      "Validation => Loss 0.2802, Acc@1 0.8385\n",
      "============\n"
     ]
    },
    {
     "data": {
      "application/vnd.jupyter.widget-view+json": {
       "model_id": "336efc44c00746d1a4604ee847fc6cf4",
       "version_major": 2,
       "version_minor": 0
      },
      "text/plain": [
       "  0%|          | 0/79 [00:00<?, ?it/s]"
      ]
     },
     "metadata": {},
     "output_type": "display_data"
    },
    {
     "name": "stdout",
     "output_type": "stream",
     "text": [
      "Val Perf after 1 epochs Acc@1 0.9111\n",
      "=> Caching mask state for model.0\n",
      "=> Caching mask state for model.2\n",
      "=> Caching mask state for model.4\n",
      "\n",
      "=> Setting learned tasks of model.0 to 3\n",
      "=> Setting learned tasks of model.2 to 3\n",
      "=> Setting learned tasks of model.4 to 3\n",
      "\n",
      "Training for task 3\n",
      "=> Set task of model.0 to 3\n",
      "=> Set task of model.2 to 3\n",
      "=> Set task of model.4 to 3\n"
     ]
    },
    {
     "data": {
      "application/vnd.jupyter.widget-view+json": {
       "model_id": "ae27508ba1834542bf3c630e2aeb246e",
       "version_major": 2,
       "version_minor": 0
      },
      "text/plain": [
       "  0%|          | 0/469 [00:00<?, ?it/s]"
      ]
     },
     "metadata": {},
     "output_type": "display_data"
    },
    {
     "name": "stdout",
     "output_type": "stream",
     "text": [
      "Validation => Loss 0.3283, Acc@1 0.8421\n",
      "============\n"
     ]
    },
    {
     "data": {
      "application/vnd.jupyter.widget-view+json": {
       "model_id": "48b1d1fc9b77434683ad6af546fb6514",
       "version_major": 2,
       "version_minor": 0
      },
      "text/plain": [
       "  0%|          | 0/79 [00:00<?, ?it/s]"
      ]
     },
     "metadata": {},
     "output_type": "display_data"
    },
    {
     "name": "stdout",
     "output_type": "stream",
     "text": [
      "Val Perf after 1 epochs Acc@1 0.9166\n",
      "=> Caching mask state for model.0\n",
      "=> Caching mask state for model.2\n",
      "=> Caching mask state for model.4\n",
      "\n",
      "=> Setting learned tasks of model.0 to 4\n",
      "=> Setting learned tasks of model.2 to 4\n",
      "=> Setting learned tasks of model.4 to 4\n",
      "\n",
      "Training for task 4\n",
      "=> Set task of model.0 to 4\n",
      "=> Set task of model.2 to 4\n",
      "=> Set task of model.4 to 4\n"
     ]
    },
    {
     "data": {
      "application/vnd.jupyter.widget-view+json": {
       "model_id": "43483a823b6a4a6db2c41aa79f9582de",
       "version_major": 2,
       "version_minor": 0
      },
      "text/plain": [
       "  0%|          | 0/469 [00:00<?, ?it/s]"
      ]
     },
     "metadata": {},
     "output_type": "display_data"
    },
    {
     "name": "stdout",
     "output_type": "stream",
     "text": [
      "e0 41/469 => Loss 0.9449, Acc@1 0.5182\r"
     ]
    },
    {
     "name": "stderr",
     "output_type": "stream",
     "text": [
      "IOPub message rate exceeded.\n",
      "The notebook server will temporarily stop sending output\n",
      "to the client in order to avoid crashing it.\n",
      "To change this limit, set the config variable\n",
      "`--NotebookApp.iopub_msg_rate_limit`.\n",
      "\n",
      "Current values:\n",
      "NotebookApp.iopub_msg_rate_limit=1000.0 (msgs/sec)\n",
      "NotebookApp.rate_limit_window=3.0 (secs)\n",
      "\n"
     ]
    },
    {
     "name": "stdout",
     "output_type": "stream",
     "text": [
      "Val Perf after 1 epochs Acc@1 0.9108\n",
      "=> Caching mask state for model.0\n",
      "=> Caching mask state for model.2\n",
      "=> Caching mask state for model.4\n",
      "\n",
      "=> Setting learned tasks of model.0 to 12\n",
      "=> Setting learned tasks of model.2 to 12\n",
      "=> Setting learned tasks of model.4 to 12\n",
      "\n",
      "Training for task 12\n",
      "=> Set task of model.0 to 12\n",
      "=> Set task of model.2 to 12\n",
      "=> Set task of model.4 to 12\n"
     ]
    },
    {
     "data": {
      "application/vnd.jupyter.widget-view+json": {
       "model_id": "9b353a6e519b408bbc66c82f22274ca3",
       "version_major": 2,
       "version_minor": 0
      },
      "text/plain": [
       "  0%|          | 0/469 [00:00<?, ?it/s]"
      ]
     },
     "metadata": {},
     "output_type": "display_data"
    },
    {
     "name": "stdout",
     "output_type": "stream",
     "text": [
      "Validation => Loss 0.2399, Acc@1 0.8405\n",
      "============\n"
     ]
    },
    {
     "data": {
      "application/vnd.jupyter.widget-view+json": {
       "model_id": "94f70775222840d48c62e9cec3ae4069",
       "version_major": 2,
       "version_minor": 0
      },
      "text/plain": [
       "  0%|          | 0/79 [00:00<?, ?it/s]"
      ]
     },
     "metadata": {},
     "output_type": "display_data"
    },
    {
     "name": "stdout",
     "output_type": "stream",
     "text": [
      "Val Perf after 1 epochs Acc@1 0.9127\n",
      "=> Caching mask state for model.0\n",
      "=> Caching mask state for model.2\n",
      "=> Caching mask state for model.4\n",
      "\n",
      "=> Setting learned tasks of model.0 to 13\n",
      "=> Setting learned tasks of model.2 to 13\n",
      "=> Setting learned tasks of model.4 to 13\n",
      "\n",
      "Training for task 13\n",
      "=> Set task of model.0 to 13\n",
      "=> Set task of model.2 to 13\n",
      "=> Set task of model.4 to 13\n"
     ]
    },
    {
     "data": {
      "application/vnd.jupyter.widget-view+json": {
       "model_id": "dab970d7469b412ca3a0d65e57d3c1cb",
       "version_major": 2,
       "version_minor": 0
      },
      "text/plain": [
       "  0%|          | 0/469 [00:00<?, ?it/s]"
      ]
     },
     "metadata": {},
     "output_type": "display_data"
    },
    {
     "name": "stdout",
     "output_type": "stream",
     "text": [
      "Validation => Loss 0.3334, Acc@1 0.8350\n",
      "============\n"
     ]
    },
    {
     "data": {
      "application/vnd.jupyter.widget-view+json": {
       "model_id": "013077f7d2af4bd7ac360f94f1858b93",
       "version_major": 2,
       "version_minor": 0
      },
      "text/plain": [
       "  0%|          | 0/79 [00:00<?, ?it/s]"
      ]
     },
     "metadata": {},
     "output_type": "display_data"
    },
    {
     "name": "stdout",
     "output_type": "stream",
     "text": [
      "Val Perf after 1 epochs Acc@1 0.9135\n",
      "=> Caching mask state for model.0\n",
      "=> Caching mask state for model.2\n",
      "=> Caching mask state for model.4\n",
      "\n",
      "=> Setting learned tasks of model.0 to 14\n",
      "=> Setting learned tasks of model.2 to 14\n",
      "=> Setting learned tasks of model.4 to 14\n",
      "\n",
      "Training for task 14\n",
      "=> Set task of model.0 to 14\n",
      "=> Set task of model.2 to 14\n",
      "=> Set task of model.4 to 14\n"
     ]
    },
    {
     "data": {
      "application/vnd.jupyter.widget-view+json": {
       "model_id": "9885abb912064732ba4b35ec9a46d52f",
       "version_major": 2,
       "version_minor": 0
      },
      "text/plain": [
       "  0%|          | 0/469 [00:00<?, ?it/s]"
      ]
     },
     "metadata": {},
     "output_type": "display_data"
    },
    {
     "name": "stdout",
     "output_type": "stream",
     "text": [
      "e0 221/469 => Loss 0.4793, Acc@1 0.7832\r"
     ]
    },
    {
     "name": "stderr",
     "output_type": "stream",
     "text": [
      "IOPub message rate exceeded.\n",
      "The notebook server will temporarily stop sending output\n",
      "to the client in order to avoid crashing it.\n",
      "To change this limit, set the config variable\n",
      "`--NotebookApp.iopub_msg_rate_limit`.\n",
      "\n",
      "Current values:\n",
      "NotebookApp.iopub_msg_rate_limit=1000.0 (msgs/sec)\n",
      "NotebookApp.rate_limit_window=3.0 (secs)\n",
      "\n"
     ]
    }
   ],
   "source": [
    "# Task ID given during train time\n",
    "from IPython.display import clear_output\n",
    "\n",
    "num_tasks = 20 # For demonstration purposes, we go up to 2500 in our paper\n",
    "models = MultitaskFCSparse(hidden_size=300, num_tasks=num_tasks, sparsity=0.25)\n",
    "\n",
    "for task in range(num_tasks):\n",
    "    print(f\"Training for task {task}\")\n",
    "    set_model_task(models, task)\n",
    "    mnist.update_task(task)\n",
    "\n",
    "    optimizer = optim.RMSprop([p for p in models.parameters() if p.requires_grad], lr=1e-4)\n",
    "    # Train for 1 epoch\n",
    "    for e in range(1):\n",
    "        train(models, mnist.train_loader, optimizer, e)\n",
    "        \n",
    "        print(\"Validation\")\n",
    "        print(\"============\")\n",
    "        acc1 = evaluate(models, mnist.val_loader, e)\n",
    "        \n",
    "    \n",
    "    cache_masks(models)\n",
    "    print()\n",
    "    set_num_tasks_learned(models, task + 1)\n",
    "    print()"
   ]
  },
  {
   "cell_type": "code",
   "execution_count": 85,
   "metadata": {},
   "outputs": [
    {
     "name": "stdout",
     "output_type": "stream",
     "text": [
      "Average top 1 performance: 0.9123\n",
      "Per task performance\n",
      "Task 0: 0.9116\n",
      "Task 1: 0.9166\n",
      "Task 2: 0.9111\n",
      "Task 3: 0.9166\n",
      "Task 4: 0.9125\n",
      "Task 5: 0.9125\n",
      "Task 6: 0.9131\n",
      "Task 7: 0.9119\n",
      "Task 8: 0.9126\n",
      "Task 9: 0.9058\n",
      "Task 10: 0.9093\n",
      "Task 11: 0.9108\n",
      "Task 12: 0.9127\n",
      "Task 13: 0.9135\n",
      "Task 14: 0.9118\n",
      "Task 15: 0.9123\n",
      "Task 16: 0.9130\n",
      "Task 17: 0.9120\n",
      "Task 18: 0.9134\n",
      "Task 19: 0.9134\n"
     ]
    }
   ],
   "source": [
    "# When task ID we can simply set the mask and evaluate\n",
    "\n",
    "gg_performance = []\n",
    "for task in range(num_tasks):\n",
    "    set_model_task(models, task)\n",
    "    mnist.update_task(task)\n",
    "    acc1 = evaluate(models, mnist.val_loader, 0)\n",
    "    gg_performance.append(acc1.item())\n",
    "\n",
    "clear_output()\n",
    "    \n",
    "print(f\"Average top 1 performance: {(sum(gg_performance) / len(gg_performance)):.4f}\")\n",
    "\n",
    "print(\"Per task performance\")\n",
    "for t in range(num_tasks):\n",
    "    print(f\"Task {t}: {gg_performance[t]:.4f}\")"
   ]
  },
  {
   "cell_type": "code",
   "execution_count": 86,
   "metadata": {},
   "outputs": [],
   "source": [
    "performance_map['supsup_mnist_sparsity_25'] = gg_performance.copy()"
   ]
  },
  {
   "cell_type": "markdown",
   "metadata": {},
   "source": [
    "### MNIST Rotated"
   ]
  },
  {
   "cell_type": "code",
   "execution_count": null,
   "metadata": {
    "scrolled": true
   },
   "outputs": [
    {
     "name": "stdout",
     "output_type": "stream",
     "text": [
      "Training for task 0\n",
      "=> Set task of model.0 to 0\n",
      "=> Set task of model.2 to 0\n",
      "=> Set task of model.4 to 0\n"
     ]
    },
    {
     "data": {
      "application/vnd.jupyter.widget-view+json": {
       "model_id": "03aa94ab836a49e69d694e8a737f5da2",
       "version_major": 2,
       "version_minor": 0
      },
      "text/plain": [
       "  0%|          | 0/469 [00:00<?, ?it/s]"
      ]
     },
     "metadata": {},
     "output_type": "display_data"
    },
    {
     "name": "stdout",
     "output_type": "stream",
     "text": [
      "Validation => Loss 1.1026, Acc@1 0.5319\n",
      "============\n"
     ]
    },
    {
     "data": {
      "application/vnd.jupyter.widget-view+json": {
       "model_id": "bf046f83ad294711ac971b97985ed6c0",
       "version_major": 2,
       "version_minor": 0
      },
      "text/plain": [
       "  0%|          | 0/79 [00:00<?, ?it/s]"
      ]
     },
     "metadata": {},
     "output_type": "display_data"
    },
    {
     "name": "stdout",
     "output_type": "stream",
     "text": [
      "Val Perf after 1 epochs Acc@1 0.6489\n",
      "=> Caching mask state for model.0\n",
      "=> Caching mask state for model.2\n",
      "=> Caching mask state for model.4\n",
      "\n",
      "=> Setting learned tasks of model.0 to 1\n",
      "=> Setting learned tasks of model.2 to 1\n",
      "=> Setting learned tasks of model.4 to 1\n",
      "\n",
      "Training for task 1\n",
      "=> Set task of model.0 to 1\n",
      "=> Set task of model.2 to 1\n",
      "=> Set task of model.4 to 1\n"
     ]
    },
    {
     "data": {
      "application/vnd.jupyter.widget-view+json": {
       "model_id": "01bfd843094842b387df304dfe37d198",
       "version_major": 2,
       "version_minor": 0
      },
      "text/plain": [
       "  0%|          | 0/469 [00:00<?, ?it/s]"
      ]
     },
     "metadata": {},
     "output_type": "display_data"
    },
    {
     "name": "stdout",
     "output_type": "stream",
     "text": [
      "Validation => Loss 1.2014, Acc@1 0.5283\n",
      "============\n"
     ]
    },
    {
     "data": {
      "application/vnd.jupyter.widget-view+json": {
       "model_id": "24d494facdd149818949cf2e1fc1d0fa",
       "version_major": 2,
       "version_minor": 0
      },
      "text/plain": [
       "  0%|          | 0/79 [00:00<?, ?it/s]"
      ]
     },
     "metadata": {},
     "output_type": "display_data"
    },
    {
     "name": "stdout",
     "output_type": "stream",
     "text": [
      "Val Perf after 1 epochs Acc@1 0.6528\n",
      "=> Caching mask state for model.0\n",
      "=> Caching mask state for model.2\n",
      "=> Caching mask state for model.4\n",
      "\n",
      "=> Setting learned tasks of model.0 to 2\n",
      "=> Setting learned tasks of model.2 to 2\n",
      "=> Setting learned tasks of model.4 to 2\n",
      "\n",
      "Training for task 2\n",
      "=> Set task of model.0 to 2\n",
      "=> Set task of model.2 to 2\n",
      "=> Set task of model.4 to 2\n"
     ]
    },
    {
     "data": {
      "application/vnd.jupyter.widget-view+json": {
       "model_id": "0ed15679da3043c4a8fa37f825656b67",
       "version_major": 2,
       "version_minor": 0
      },
      "text/plain": [
       "  0%|          | 0/469 [00:00<?, ?it/s]"
      ]
     },
     "metadata": {},
     "output_type": "display_data"
    },
    {
     "name": "stdout",
     "output_type": "stream",
     "text": [
      "Validation => Loss 1.1272, Acc@1 0.5371\n",
      "============\n"
     ]
    },
    {
     "data": {
      "application/vnd.jupyter.widget-view+json": {
       "model_id": "d492b1943d054e198a3e35fdde5cfa4c",
       "version_major": 2,
       "version_minor": 0
      },
      "text/plain": [
       "  0%|          | 0/79 [00:00<?, ?it/s]"
      ]
     },
     "metadata": {},
     "output_type": "display_data"
    },
    {
     "name": "stdout",
     "output_type": "stream",
     "text": [
      "Val Perf after 1 epochs Acc@1 0.6497\n",
      "=> Caching mask state for model.0\n",
      "=> Caching mask state for model.2\n",
      "=> Caching mask state for model.4\n",
      "\n",
      "=> Setting learned tasks of model.0 to 3\n",
      "=> Setting learned tasks of model.2 to 3\n",
      "=> Setting learned tasks of model.4 to 3\n",
      "\n",
      "Training for task 3\n",
      "=> Set task of model.0 to 3\n",
      "=> Set task of model.2 to 3\n",
      "=> Set task of model.4 to 3\n"
     ]
    },
    {
     "data": {
      "application/vnd.jupyter.widget-view+json": {
       "model_id": "ab88be1220064ece8976867185d12219",
       "version_major": 2,
       "version_minor": 0
      },
      "text/plain": [
       "  0%|          | 0/469 [00:00<?, ?it/s]"
      ]
     },
     "metadata": {},
     "output_type": "display_data"
    },
    {
     "name": "stdout",
     "output_type": "stream",
     "text": [
      "Validation => Loss 1.1070, Acc@1 0.5426\n",
      "============\n"
     ]
    },
    {
     "data": {
      "application/vnd.jupyter.widget-view+json": {
       "model_id": "da527d0902f54dfc9dbb05ef0c4395f1",
       "version_major": 2,
       "version_minor": 0
      },
      "text/plain": [
       "  0%|          | 0/79 [00:00<?, ?it/s]"
      ]
     },
     "metadata": {},
     "output_type": "display_data"
    },
    {
     "name": "stdout",
     "output_type": "stream",
     "text": [
      "Val Perf after 1 epochs Acc@1 0.6420\n",
      "=> Caching mask state for model.0\n",
      "=> Caching mask state for model.2\n",
      "=> Caching mask state for model.4\n",
      "\n",
      "=> Setting learned tasks of model.0 to 4\n",
      "=> Setting learned tasks of model.2 to 4\n",
      "=> Setting learned tasks of model.4 to 4\n",
      "\n",
      "Training for task 4\n",
      "=> Set task of model.0 to 4\n",
      "=> Set task of model.2 to 4\n",
      "=> Set task of model.4 to 4\n"
     ]
    },
    {
     "data": {
      "application/vnd.jupyter.widget-view+json": {
       "model_id": "fd8d198745e94803b076db543fa09d15",
       "version_major": 2,
       "version_minor": 0
      },
      "text/plain": [
       "  0%|          | 0/469 [00:00<?, ?it/s]"
      ]
     },
     "metadata": {},
     "output_type": "display_data"
    },
    {
     "name": "stdout",
     "output_type": "stream",
     "text": [
      "Validation => Loss 1.2219, Acc@1 0.5469\n",
      "============\n"
     ]
    },
    {
     "data": {
      "application/vnd.jupyter.widget-view+json": {
       "model_id": "2be7ed019d14405691add8cafef0b933",
       "version_major": 2,
       "version_minor": 0
      },
      "text/plain": [
       "  0%|          | 0/79 [00:00<?, ?it/s]"
      ]
     },
     "metadata": {},
     "output_type": "display_data"
    },
    {
     "name": "stdout",
     "output_type": "stream",
     "text": [
      "Val Perf after 1 epochs Acc@1 0.6487\n",
      "=> Caching mask state for model.0\n",
      "=> Caching mask state for model.2\n",
      "=> Caching mask state for model.4\n",
      "\n",
      "=> Setting learned tasks of model.0 to 5\n",
      "=> Setting learned tasks of model.2 to 5\n",
      "=> Setting learned tasks of model.4 to 5\n",
      "\n",
      "Training for task 5\n",
      "=> Set task of model.0 to 5\n",
      "=> Set task of model.2 to 5\n",
      "=> Set task of model.4 to 5\n"
     ]
    },
    {
     "data": {
      "application/vnd.jupyter.widget-view+json": {
       "model_id": "33ebf324b0d24e1e839800bee0e40b2e",
       "version_major": 2,
       "version_minor": 0
      },
      "text/plain": [
       "  0%|          | 0/469 [00:00<?, ?it/s]"
      ]
     },
     "metadata": {},
     "output_type": "display_data"
    },
    {
     "name": "stdout",
     "output_type": "stream",
     "text": [
      "Validation => Loss 1.2437, Acc@1 0.5423\n",
      "============\n"
     ]
    },
    {
     "data": {
      "application/vnd.jupyter.widget-view+json": {
       "model_id": "9836f1fc121b4525b89f5d07c518948d",
       "version_major": 2,
       "version_minor": 0
      },
      "text/plain": [
       "  0%|          | 0/79 [00:00<?, ?it/s]"
      ]
     },
     "metadata": {},
     "output_type": "display_data"
    },
    {
     "name": "stdout",
     "output_type": "stream",
     "text": [
      "Val Perf after 1 epochs Acc@1 0.6494\n",
      "=> Caching mask state for model.0\n",
      "=> Caching mask state for model.2\n",
      "=> Caching mask state for model.4\n",
      "\n",
      "=> Setting learned tasks of model.0 to 6\n",
      "=> Setting learned tasks of model.2 to 6\n",
      "=> Setting learned tasks of model.4 to 6\n",
      "\n",
      "Training for task 6\n",
      "=> Set task of model.0 to 6\n",
      "=> Set task of model.2 to 6\n",
      "=> Set task of model.4 to 6\n"
     ]
    },
    {
     "data": {
      "application/vnd.jupyter.widget-view+json": {
       "model_id": "6a0f035f3fcd49a6a54772ba3b577139",
       "version_major": 2,
       "version_minor": 0
      },
      "text/plain": [
       "  0%|          | 0/469 [00:00<?, ?it/s]"
      ]
     },
     "metadata": {},
     "output_type": "display_data"
    },
    {
     "name": "stdout",
     "output_type": "stream",
     "text": [
      "e0 161/469 => Loss 1.2736, Acc@1 0.4349\r"
     ]
    },
    {
     "name": "stderr",
     "output_type": "stream",
     "text": [
      "IOPub message rate exceeded.\n",
      "The notebook server will temporarily stop sending output\n",
      "to the client in order to avoid crashing it.\n",
      "To change this limit, set the config variable\n",
      "`--NotebookApp.iopub_msg_rate_limit`.\n",
      "\n",
      "Current values:\n",
      "NotebookApp.iopub_msg_rate_limit=1000.0 (msgs/sec)\n",
      "NotebookApp.rate_limit_window=3.0 (secs)\n",
      "\n"
     ]
    },
    {
     "name": "stdout",
     "output_type": "stream",
     "text": [
      "e0 341/469 => Loss 1.1898, Acc@1 0.5095\r"
     ]
    }
   ],
   "source": [
    "# Task ID given during train time\n",
    "from IPython.display import clear_output\n",
    "\n",
    "num_tasks = 20 # For demonstration purposes, we go up to 2500 in our paper\n",
    "model_rot = MultitaskFC(hidden_size=300, num_tasks=num_tasks)\n",
    "\n",
    "for task in range(num_tasks):\n",
    "    print(f\"Training for task {task}\")\n",
    "    set_model_task(model_rot, task)\n",
    "    mnist_rot.update_task(task)\n",
    "\n",
    "    optimizer = optim.RMSprop([p for p in model_rot.parameters() if p.requires_grad], lr=1e-4)\n",
    "    # Train for 1 epoch\n",
    "    for e in range(1):\n",
    "        train(model_rot, mnist_rot.train_loader, optimizer, e)\n",
    "        \n",
    "        print(\"Validation\")\n",
    "        print(\"============\")\n",
    "        acc1 = evaluate(model_rot, mnist_rot.val_loader, e)\n",
    "        \n",
    "    \n",
    "    cache_masks(model_rot)\n",
    "    print()\n",
    "    set_num_tasks_learned(model_rot, task + 1)\n",
    "    print()"
   ]
  },
  {
   "cell_type": "code",
   "execution_count": null,
   "metadata": {},
   "outputs": [],
   "source": [
    "# When task ID we can simply set the mask and evaluate\n",
    "\n",
    "gg_performance = []\n",
    "for task in range(num_tasks):\n",
    "    set_model_task(model_rot, task)\n",
    "    mnist_rot.update_task(task)\n",
    "    acc1 = evaluate(model_rot, mnist_rot.val_loader, 0)\n",
    "    gg_performance.append(acc1.item())\n",
    "\n",
    "clear_output()\n",
    "    \n",
    "print(f\"Average top 1 performance: {(sum(gg_performance) / len(gg_performance)):.4f}\")\n",
    "\n",
    "print(\"Per task performance\")\n",
    "for t in range(num_tasks):\n",
    "    print(f\"Task {t}: {gg_performance[t]:.4f}\")"
   ]
  },
  {
   "cell_type": "code",
   "execution_count": null,
   "metadata": {},
   "outputs": [],
   "source": [
    "performance_map['supsup_mnist_rot'] = gg_performance.copy()"
   ]
  },
  {
   "cell_type": "markdown",
   "metadata": {},
   "source": [
    "# Basis Masks "
   ]
  },
  {
   "cell_type": "markdown",
   "metadata": {},
   "source": [
    "### Model Initialization (Only New Tasks)"
   ]
  },
  {
   "cell_type": "code",
   "execution_count": null,
   "metadata": {},
   "outputs": [],
   "source": [
    "num_tasks = 20 # For demonstration purposes, we go up to 2500 in our paper\n",
    "num_seed_tasks_learned = 15\n",
    "basis_model = BasisMultitaskFC(hidden_size=300, num_tasks=num_tasks, num_seed_tasks_learned=num_seed_tasks_learned, start_at_optimal=True)"
   ]
  },
  {
   "cell_type": "code",
   "execution_count": null,
   "metadata": {},
   "outputs": [],
   "source": [
    "seed_dict = model.state_dict()\n",
    "basis_dict = basis_model.state_dict()\n",
    "load_dict = {k: seed_dict[k] for k in basis_model.state_dict().keys() if k in seed_dict.keys()}\n",
    "basis_dict.update(load_dict)\n",
    "basis_model.load_state_dict(basis_dict, False)\n",
    "cache_masks(basis_model)"
   ]
  },
  {
   "cell_type": "code",
   "execution_count": null,
   "metadata": {
    "scrolled": true
   },
   "outputs": [],
   "source": [
    "for task in range(num_seed_tasks_learned, num_tasks):\n",
    "    print(f\"Training for task {task}\")\n",
    "    set_model_task(basis_model, task)\n",
    "    mnist.update_task(task)\n",
    "\n",
    "    optimizer = optim.RMSprop([p for p in basis_model.parameters() if p.requires_grad], lr=1e-2)\n",
    "    # Train for 1 epoch\n",
    "    for e in range(2):\n",
    "        train(basis_model, mnist.train_loader, optimizer, e)\n",
    "        \n",
    "        print(\"Validation\")\n",
    "        print(\"============\")\n",
    "        acc1 = evaluate(basis_model, mnist.val_loader, e)\n",
    "        \n",
    "    \n",
    "    cache_masks(basis_model)\n",
    "    print()\n",
    "    set_num_tasks_learned(basis_model, task + 1)\n",
    "    print()"
   ]
  },
  {
   "cell_type": "code",
   "execution_count": null,
   "metadata": {
    "scrolled": false
   },
   "outputs": [],
   "source": [
    "# When task ID we can simply set the mask and evaluate\n",
    "\n",
    "gg_performance = []\n",
    "for task in range(num_tasks):\n",
    "    set_model_task(basis_model, task)\n",
    "    mnist.update_task(task)\n",
    "    acc1 = evaluate(basis_model, mnist.val_loader, 0)\n",
    "    gg_performance.append(acc1.item())\n",
    "\n",
    "clear_output()\n",
    "    \n",
    "print(f\"Average top 1 performance: {(sum(gg_performance) / len(gg_performance)):.4f}\")\n",
    "\n",
    "print(\"Per task performance\")\n",
    "for t in range(num_tasks):\n",
    "    print(f\"Task {t}: {gg_performance[t]:.4f}\")"
   ]
  },
  {
   "cell_type": "code",
   "execution_count": null,
   "metadata": {},
   "outputs": [],
   "source": [
    "performance_map['basis_mnist'] = gg_performance.copy()"
   ]
  },
  {
   "cell_type": "markdown",
   "metadata": {},
   "source": [
    "### Model Initialization (Only New Tasks) Sparsity Enabled"
   ]
  },
  {
   "cell_type": "code",
   "execution_count": null,
   "metadata": {},
   "outputs": [],
   "source": [
    "num_tasks = 20 # For demonstration purposes, we go up to 2500 in our paper\n",
    "num_seed_tasks_learned = 15\n",
    "basis_models = BasisSparseMultitaskFC(hidden_size=300, num_tasks=num_tasks, num_seed_tasks_learned=num_seed_tasks_learned, sparsity=0.25, start_at_optimal=True)"
   ]
  },
  {
   "cell_type": "code",
   "execution_count": null,
   "metadata": {},
   "outputs": [],
   "source": [
    "seed_dict = models.state_dict()\n",
    "basis_dict = basis_models.state_dict()\n",
    "load_dict = {k: seed_dict[k] for k in basis_models.state_dict().keys() if k in seed_dict.keys()}\n",
    "basis_dict.update(load_dict)\n",
    "basis_models.load_state_dict(basis_dict, False)\n",
    "cache_masks(basis_models)"
   ]
  },
  {
   "cell_type": "code",
   "execution_count": null,
   "metadata": {
    "scrolled": true
   },
   "outputs": [],
   "source": [
    "for task in range(num_seed_tasks_learned, num_tasks):\n",
    "    print(f\"Training for task {task}\")\n",
    "    set_model_task(basis_models, task)\n",
    "    mnist.update_task(task)\n",
    "\n",
    "    optimizer = optim.RMSprop([p for p in basis_models.parameters() if p.requires_grad], lr=1e-2)\n",
    "    # Train for 1 epoch\n",
    "    for e in range(2):\n",
    "        train(basis_models, mnist.train_loader, optimizer, e)\n",
    "        \n",
    "        print(\"Validation\")\n",
    "        print(\"============\")\n",
    "        acc1 = evaluate(basis_models, mnist.val_loader, e)\n",
    "        \n",
    "    \n",
    "    cache_masks(basis_models)\n",
    "    print()\n",
    "    set_num_tasks_learned(basis_models, task + 1)\n",
    "    print()"
   ]
  },
  {
   "cell_type": "code",
   "execution_count": null,
   "metadata": {
    "scrolled": false
   },
   "outputs": [],
   "source": [
    "# When task ID we can simply set the mask and evaluate\n",
    "\n",
    "gg_performance = []\n",
    "for task in range(num_tasks):\n",
    "    set_model_task(basis_models, task)\n",
    "    mnist.update_task(task)\n",
    "    acc1 = evaluate(basis_models, mnist.val_loader, 0)\n",
    "    gg_performance.append(acc1.item())\n",
    "\n",
    "clear_output()\n",
    "    \n",
    "print(f\"Average top 1 performance: {(sum(gg_performance) / len(gg_performance)):.4f}\")\n",
    "\n",
    "print(\"Per task performance\")\n",
    "for t in range(num_tasks):\n",
    "    print(f\"Task {t}: {gg_performance[t]:.4f}\")"
   ]
  },
  {
   "cell_type": "code",
   "execution_count": null,
   "metadata": {},
   "outputs": [],
   "source": [
    "performance_map['basis_mnist_sparsity_25'] = gg_performance.copy()"
   ]
  },
  {
   "cell_type": "markdown",
   "metadata": {},
   "source": [
    "### Model Initialization (Only New Tasks, Rotation MNIST)"
   ]
  },
  {
   "cell_type": "code",
   "execution_count": null,
   "metadata": {},
   "outputs": [],
   "source": [
    "num_tasks = 20 # For demonstration purposes, we go up to 2500 in our paper\n",
    "num_seed_tasks_learned = 15\n",
    "basis_model_rot = BasisMultitaskFC(hidden_size=300, num_tasks=num_tasks, num_seed_tasks_learned=num_seed_tasks_learned, start_at_optimal=True)"
   ]
  },
  {
   "cell_type": "code",
   "execution_count": null,
   "metadata": {},
   "outputs": [],
   "source": [
    "seed_dictr = model_rot.state_dict()\n",
    "basis_dictr = basis_model_rot.state_dict()\n",
    "load_dictr = {k: seed_dictr[k] for k in basis_model_rot.state_dict().keys() if k in seed_dictr.keys()}\n",
    "basis_dictr.update(load_dictr)\n",
    "basis_model_rot.load_state_dict(basis_dictr, False)\n",
    "cache_masks(basis_model_rot)"
   ]
  },
  {
   "cell_type": "code",
   "execution_count": null,
   "metadata": {
    "scrolled": true
   },
   "outputs": [],
   "source": [
    "for task in range(num_seed_tasks_learned, num_tasks):\n",
    "    print(f\"Training for task {task}\")\n",
    "    set_model_task(basis_model_rot, task)\n",
    "    mnist_rot.update_task(task)\n",
    "\n",
    "    optimizer = optim.RMSprop([p for p in basis_model_rot.parameters() if p.requires_grad], lr=1e-2)\n",
    "    # Train for 1 epoch\n",
    "    for e in range(2):\n",
    "        train(basis_model_rot, mnist_rot.train_loader, optimizer, e)\n",
    "        \n",
    "        print(\"Validation\")\n",
    "        print(\"============\")\n",
    "        acc1 = evaluate(basis_model_rot, mnist_rot.val_loader, e)\n",
    "        \n",
    "    \n",
    "    cache_masks(basis_model_rot)\n",
    "    print()\n",
    "    set_num_tasks_learned(basis_model_rot, task + 1)\n",
    "    print()"
   ]
  },
  {
   "cell_type": "code",
   "execution_count": null,
   "metadata": {},
   "outputs": [],
   "source": [
    "# When task ID we can simply set the mask and evaluate\n",
    "\n",
    "gg_performance = []\n",
    "for task in range(num_tasks):\n",
    "    set_model_task(basis_model_rot, task)\n",
    "    mnist_rot.update_task(task)\n",
    "    acc1 = evaluate(basis_model_rot, mnist_rot.val_loader, 0)\n",
    "    gg_performance.append(acc1.item())\n",
    "\n",
    "clear_output()\n",
    "    \n",
    "print(f\"Average top 1 performance: {(sum(gg_performance) / len(gg_performance)):.4f}\")\n",
    "\n",
    "print(\"Per task performance\")\n",
    "for t in range(num_tasks):\n",
    "    print(f\"Task {t}: {gg_performance[t]:.4f}\")"
   ]
  },
  {
   "cell_type": "code",
   "execution_count": null,
   "metadata": {},
   "outputs": [],
   "source": [
    "performance_map['basis_mnist_rot'] = gg_performance.copy()"
   ]
  },
  {
   "cell_type": "markdown",
   "metadata": {},
   "source": [
    "## Except Final Layer"
   ]
  },
  {
   "cell_type": "markdown",
   "metadata": {},
   "source": [
    "### Model Initialization (Only New Tasks)"
   ]
  },
  {
   "cell_type": "code",
   "execution_count": null,
   "metadata": {},
   "outputs": [],
   "source": [
    "num_tasks = 20 # For demonstration purposes, we go up to 2500 in our paper\n",
    "num_seed_tasks_learned = 15\n",
    "basis_model_hid = BasisHiddenOnlyMultitaskFC(hidden_size=300, num_tasks=num_tasks, num_seed_tasks_learned=num_seed_tasks_learned, start_at_optimal=True)"
   ]
  },
  {
   "cell_type": "code",
   "execution_count": null,
   "metadata": {},
   "outputs": [],
   "source": [
    "seed_dict_hid = model.state_dict()\n",
    "basis_dict_hid = basis_model_hid.state_dict()\n",
    "load_dict_hid = {k: seed_dict_hid[k] for k in basis_model_hid.state_dict().keys() if k in seed_dict_hid.keys()}\n",
    "basis_dict_hid.update(load_dict_hid)\n",
    "basis_model_hid.load_state_dict(basis_dict_hid, False)\n",
    "cache_masks(basis_model_hid)"
   ]
  },
  {
   "cell_type": "code",
   "execution_count": null,
   "metadata": {
    "scrolled": true
   },
   "outputs": [],
   "source": [
    "for task in range(num_seed_tasks_learned, num_tasks):\n",
    "    print(f\"Training for task {task}\")\n",
    "    set_model_task(basis_model_hid, task)\n",
    "    mnist.update_task(task)\n",
    "\n",
    "    optimizer = optim.RMSprop([p for p in basis_model_hid.parameters() if p.requires_grad], lr=1e-2)\n",
    "    # Train for 1 epoch\n",
    "    for e in range(3):\n",
    "        train(basis_model_hid, mnist.train_loader, optimizer, e)\n",
    "        \n",
    "        print(\"Validation\")\n",
    "        print(\"============\")\n",
    "        acc1 = evaluate(basis_model_hid, mnist.val_loader, e)\n",
    "        \n",
    "    \n",
    "    cache_masks(basis_model_hid)\n",
    "    print()\n",
    "    set_num_tasks_learned(basis_model_hid, task + 1)\n",
    "    print()"
   ]
  },
  {
   "cell_type": "code",
   "execution_count": null,
   "metadata": {},
   "outputs": [],
   "source": [
    "# When task ID we can simply set the mask and evaluate\n",
    "\n",
    "gg_performance = []\n",
    "for task in range(num_tasks):\n",
    "    set_model_task(basis_model_hid, task)\n",
    "    mnist.update_task(task)\n",
    "    acc1 = evaluate(basis_model_hid, mnist.val_loader, 0)\n",
    "    gg_performance.append(acc1.item())\n",
    "\n",
    "clear_output()\n",
    "    \n",
    "print(f\"Average top 1 performance: {(sum(gg_performance) / len(gg_performance)):.4f}\")\n",
    "\n",
    "print(\"Per task performance\")\n",
    "for t in range(num_tasks):\n",
    "    print(f\"Task {t}: {gg_performance[t]:.4f}\")"
   ]
  },
  {
   "cell_type": "code",
   "execution_count": null,
   "metadata": {},
   "outputs": [],
   "source": [
    "performance_map['basis_hybrid_mnist'] = gg_performance.copy()"
   ]
  },
  {
   "cell_type": "markdown",
   "metadata": {},
   "source": [
    "### Model Initialization (Only New Tasks) Sparsity Enabled"
   ]
  },
  {
   "cell_type": "code",
   "execution_count": 117,
   "metadata": {},
   "outputs": [],
   "source": [
    "num_tasks = 20 # For demonstration purposes, we go up to 2500 in our paper\n",
    "num_seed_tasks_learned = 15\n",
    "basis_model_hids = BasisHiddenOnlySparseMultitaskFC(hidden_size=300, num_tasks=num_tasks, num_seed_tasks_learned=num_seed_tasks_learned, start_at_optimal=True, sparsity=0.25)"
   ]
  },
  {
   "cell_type": "code",
   "execution_count": 118,
   "metadata": {},
   "outputs": [
    {
     "name": "stdout",
     "output_type": "stream",
     "text": [
      "=> Caching mask state for model.0\n",
      "=> Caching mask state for model.2\n",
      "=> Caching mask state for model.4\n"
     ]
    }
   ],
   "source": [
    "seed_dict_hid = models.state_dict()\n",
    "basis_dict_hid = basis_model_hids.state_dict()\n",
    "load_dict_hid = {k: seed_dict_hid[k] for k in basis_model_hids.state_dict().keys() if k in seed_dict_hid.keys()}\n",
    "basis_dict_hid.update(load_dict_hid)\n",
    "basis_model_hids.load_state_dict(basis_dict_hid, False)\n",
    "cache_masks(basis_model_hids)"
   ]
  },
  {
   "cell_type": "code",
   "execution_count": 119,
   "metadata": {
    "scrolled": true
   },
   "outputs": [
    {
     "name": "stdout",
     "output_type": "stream",
     "text": [
      "Training for task 15\n",
      "=> Set task of model.0 to 15\n",
      "=> Set task of model.2 to 15\n",
      "=> Set task of model.4 to 15\n"
     ]
    },
    {
     "data": {
      "application/vnd.jupyter.widget-view+json": {
       "model_id": "6468a3948ddf43daad1428602b31ac6c",
       "version_major": 2,
       "version_minor": 0
      },
      "text/plain": [
       "  0%|          | 0/469 [00:00<?, ?it/s]"
      ]
     },
     "metadata": {},
     "output_type": "display_data"
    },
    {
     "name": "stdout",
     "output_type": "stream",
     "text": [
      "Validation => Loss 0.9486, Acc@1 0.6442\n",
      "============\n"
     ]
    },
    {
     "data": {
      "application/vnd.jupyter.widget-view+json": {
       "model_id": "6153081470f04b16876f9e477f51b044",
       "version_major": 2,
       "version_minor": 0
      },
      "text/plain": [
       "  0%|          | 0/79 [00:00<?, ?it/s]"
      ]
     },
     "metadata": {},
     "output_type": "display_data"
    },
    {
     "name": "stdout",
     "output_type": "stream",
     "text": [
      "Val Perf after 1 epochs Acc@1 0.7806\n"
     ]
    },
    {
     "data": {
      "application/vnd.jupyter.widget-view+json": {
       "model_id": "8077d317ea4f4938af9987ab6c7e67eb",
       "version_major": 2,
       "version_minor": 0
      },
      "text/plain": [
       "  0%|          | 0/469 [00:00<?, ?it/s]"
      ]
     },
     "metadata": {},
     "output_type": "display_data"
    },
    {
     "name": "stdout",
     "output_type": "stream",
     "text": [
      "Validation => Loss 0.6577, Acc@1 0.7383\n",
      "============\n"
     ]
    },
    {
     "data": {
      "application/vnd.jupyter.widget-view+json": {
       "model_id": "e46342eb38174b1cad9ea5ceca83b4ee",
       "version_major": 2,
       "version_minor": 0
      },
      "text/plain": [
       "  0%|          | 0/79 [00:00<?, ?it/s]"
      ]
     },
     "metadata": {},
     "output_type": "display_data"
    },
    {
     "name": "stdout",
     "output_type": "stream",
     "text": [
      "Val Perf after 2 epochs Acc@1 0.7257\n",
      "=> Caching mask state for model.0\n",
      "=> Caching mask state for model.2\n",
      "=> Caching mask state for model.4\n",
      "\n",
      "=> Setting learned tasks of model.0 to 16\n",
      "=> Setting learned tasks of model.2 to 16\n",
      "=> Setting learned tasks of model.4 to 16\n",
      "\n",
      "Training for task 16\n",
      "=> Set task of model.0 to 16\n",
      "=> Set task of model.2 to 16\n",
      "=> Set task of model.4 to 16\n"
     ]
    },
    {
     "data": {
      "application/vnd.jupyter.widget-view+json": {
       "model_id": "21323626720d436db6e4f9c38535783b",
       "version_major": 2,
       "version_minor": 0
      },
      "text/plain": [
       "  0%|          | 0/469 [00:00<?, ?it/s]"
      ]
     },
     "metadata": {},
     "output_type": "display_data"
    },
    {
     "name": "stdout",
     "output_type": "stream",
     "text": [
      "Validation => Loss 1.2357, Acc@1 0.6048\n",
      "============\n"
     ]
    },
    {
     "data": {
      "application/vnd.jupyter.widget-view+json": {
       "model_id": "fffa81eae57c4891993e20347b25e049",
       "version_major": 2,
       "version_minor": 0
      },
      "text/plain": [
       "  0%|          | 0/79 [00:00<?, ?it/s]"
      ]
     },
     "metadata": {},
     "output_type": "display_data"
    },
    {
     "name": "stdout",
     "output_type": "stream",
     "text": [
      "Val Perf after 1 epochs Acc@1 0.7068\n"
     ]
    },
    {
     "data": {
      "application/vnd.jupyter.widget-view+json": {
       "model_id": "30e6bd1649d245b9bcf562765e745198",
       "version_major": 2,
       "version_minor": 0
      },
      "text/plain": [
       "  0%|          | 0/469 [00:00<?, ?it/s]"
      ]
     },
     "metadata": {},
     "output_type": "display_data"
    },
    {
     "name": "stdout",
     "output_type": "stream",
     "text": [
      "Validation => Loss 0.9058, Acc@1 0.6950\n",
      "============\n"
     ]
    },
    {
     "data": {
      "application/vnd.jupyter.widget-view+json": {
       "model_id": "7994cdea6e5641188a22a14966ef7fdb",
       "version_major": 2,
       "version_minor": 0
      },
      "text/plain": [
       "  0%|          | 0/79 [00:00<?, ?it/s]"
      ]
     },
     "metadata": {},
     "output_type": "display_data"
    },
    {
     "name": "stdout",
     "output_type": "stream",
     "text": [
      "Val Perf after 2 epochs Acc@1 0.6946\n",
      "=> Caching mask state for model.0\n",
      "=> Caching mask state for model.2\n",
      "=> Caching mask state for model.4\n",
      "\n",
      "=> Setting learned tasks of model.0 to 17\n",
      "=> Setting learned tasks of model.2 to 17\n",
      "=> Setting learned tasks of model.4 to 17\n",
      "\n",
      "Training for task 17\n",
      "=> Set task of model.0 to 17\n",
      "=> Set task of model.2 to 17\n",
      "=> Set task of model.4 to 17\n"
     ]
    },
    {
     "data": {
      "application/vnd.jupyter.widget-view+json": {
       "model_id": "f067c9787ac34ed499c2658517067930",
       "version_major": 2,
       "version_minor": 0
      },
      "text/plain": [
       "  0%|          | 0/469 [00:00<?, ?it/s]"
      ]
     },
     "metadata": {},
     "output_type": "display_data"
    },
    {
     "name": "stdout",
     "output_type": "stream",
     "text": [
      "Validation => Loss 0.7452, Acc@1 0.6458\n",
      "============\n"
     ]
    },
    {
     "data": {
      "application/vnd.jupyter.widget-view+json": {
       "model_id": "ccd22bc06b654896a886ab07f1f7fa23",
       "version_major": 2,
       "version_minor": 0
      },
      "text/plain": [
       "  0%|          | 0/79 [00:00<?, ?it/s]"
      ]
     },
     "metadata": {},
     "output_type": "display_data"
    },
    {
     "name": "stdout",
     "output_type": "stream",
     "text": [
      "Val Perf after 1 epochs Acc@1 0.7472\n"
     ]
    },
    {
     "data": {
      "application/vnd.jupyter.widget-view+json": {
       "model_id": "18f7daa26eca45ae8a369e9b1f7a0e47",
       "version_major": 2,
       "version_minor": 0
      },
      "text/plain": [
       "  0%|          | 0/469 [00:00<?, ?it/s]"
      ]
     },
     "metadata": {},
     "output_type": "display_data"
    },
    {
     "name": "stdout",
     "output_type": "stream",
     "text": [
      "Validation => Loss 1.6034, Acc@1 0.7477\n",
      "============\n"
     ]
    },
    {
     "data": {
      "application/vnd.jupyter.widget-view+json": {
       "model_id": "d762f949913743a2a90ffd0cb4b2e4a7",
       "version_major": 2,
       "version_minor": 0
      },
      "text/plain": [
       "  0%|          | 0/79 [00:00<?, ?it/s]"
      ]
     },
     "metadata": {},
     "output_type": "display_data"
    },
    {
     "name": "stdout",
     "output_type": "stream",
     "text": [
      "Val Perf after 2 epochs Acc@1 0.7418\n",
      "=> Caching mask state for model.0\n",
      "=> Caching mask state for model.2\n",
      "=> Caching mask state for model.4\n",
      "\n",
      "=> Setting learned tasks of model.0 to 18\n",
      "=> Setting learned tasks of model.2 to 18\n",
      "=> Setting learned tasks of model.4 to 18\n",
      "\n",
      "Training for task 18\n",
      "=> Set task of model.0 to 18\n",
      "=> Set task of model.2 to 18\n",
      "=> Set task of model.4 to 18\n"
     ]
    },
    {
     "data": {
      "application/vnd.jupyter.widget-view+json": {
       "model_id": "6c07e651962d4af9bd97d106eb23cd75",
       "version_major": 2,
       "version_minor": 0
      },
      "text/plain": [
       "  0%|          | 0/469 [00:00<?, ?it/s]"
      ]
     },
     "metadata": {},
     "output_type": "display_data"
    },
    {
     "name": "stdout",
     "output_type": "stream",
     "text": [
      "Validation => Loss 1.0417, Acc@1 0.6214\n",
      "============\n"
     ]
    },
    {
     "data": {
      "application/vnd.jupyter.widget-view+json": {
       "model_id": "10eccf54f97a46aba89b42e34ffaaa11",
       "version_major": 2,
       "version_minor": 0
      },
      "text/plain": [
       "  0%|          | 0/79 [00:00<?, ?it/s]"
      ]
     },
     "metadata": {},
     "output_type": "display_data"
    },
    {
     "name": "stdout",
     "output_type": "stream",
     "text": [
      "Val Perf after 1 epochs Acc@1 0.6675\n"
     ]
    },
    {
     "data": {
      "application/vnd.jupyter.widget-view+json": {
       "model_id": "f2eb31a0005f439683cbbc73e0ad056a",
       "version_major": 2,
       "version_minor": 0
      },
      "text/plain": [
       "  0%|          | 0/469 [00:00<?, ?it/s]"
      ]
     },
     "metadata": {},
     "output_type": "display_data"
    },
    {
     "name": "stdout",
     "output_type": "stream",
     "text": [
      "Validation => Loss 1.1832, Acc@1 0.6865\n",
      "============\n"
     ]
    },
    {
     "data": {
      "application/vnd.jupyter.widget-view+json": {
       "model_id": "471870f90ad24f48ab0b14de3d9ac0cc",
       "version_major": 2,
       "version_minor": 0
      },
      "text/plain": [
       "  0%|          | 0/79 [00:00<?, ?it/s]"
      ]
     },
     "metadata": {},
     "output_type": "display_data"
    },
    {
     "name": "stdout",
     "output_type": "stream",
     "text": [
      "Val Perf after 2 epochs Acc@1 0.7656\n",
      "=> Caching mask state for model.0\n",
      "=> Caching mask state for model.2\n",
      "=> Caching mask state for model.4\n",
      "\n",
      "=> Setting learned tasks of model.0 to 19\n",
      "=> Setting learned tasks of model.2 to 19\n",
      "=> Setting learned tasks of model.4 to 19\n",
      "\n",
      "Training for task 19\n",
      "=> Set task of model.0 to 19\n",
      "=> Set task of model.2 to 19\n",
      "=> Set task of model.4 to 19\n"
     ]
    },
    {
     "data": {
      "application/vnd.jupyter.widget-view+json": {
       "model_id": "4f78f7d702e9441dac84908ae91dd4d3",
       "version_major": 2,
       "version_minor": 0
      },
      "text/plain": [
       "  0%|          | 0/469 [00:00<?, ?it/s]"
      ]
     },
     "metadata": {},
     "output_type": "display_data"
    },
    {
     "name": "stdout",
     "output_type": "stream",
     "text": [
      "Validation => Loss 0.9743, Acc@1 0.6370\n",
      "============\n"
     ]
    },
    {
     "data": {
      "application/vnd.jupyter.widget-view+json": {
       "model_id": "9aebb38cf8674641a1847fb62ff5a081",
       "version_major": 2,
       "version_minor": 0
      },
      "text/plain": [
       "  0%|          | 0/79 [00:00<?, ?it/s]"
      ]
     },
     "metadata": {},
     "output_type": "display_data"
    },
    {
     "name": "stdout",
     "output_type": "stream",
     "text": [
      "Val Perf after 1 epochs Acc@1 0.7769\n"
     ]
    },
    {
     "data": {
      "application/vnd.jupyter.widget-view+json": {
       "model_id": "cb7fb43c6e9d44d7aa2c85c23eeca20e",
       "version_major": 2,
       "version_minor": 0
      },
      "text/plain": [
       "  0%|          | 0/469 [00:00<?, ?it/s]"
      ]
     },
     "metadata": {},
     "output_type": "display_data"
    },
    {
     "name": "stdout",
     "output_type": "stream",
     "text": [
      "Validation => Loss 0.9557, Acc@1 0.7396\n",
      "============\n"
     ]
    },
    {
     "data": {
      "application/vnd.jupyter.widget-view+json": {
       "model_id": "9a44cc4e556640dd9fb7194ec9ad7823",
       "version_major": 2,
       "version_minor": 0
      },
      "text/plain": [
       "  0%|          | 0/79 [00:00<?, ?it/s]"
      ]
     },
     "metadata": {},
     "output_type": "display_data"
    },
    {
     "name": "stdout",
     "output_type": "stream",
     "text": [
      "Val Perf after 2 epochs Acc@1 0.7597\n",
      "=> Caching mask state for model.0\n",
      "=> Caching mask state for model.2\n",
      "=> Caching mask state for model.4\n",
      "\n",
      "=> Setting learned tasks of model.0 to 20\n",
      "=> Setting learned tasks of model.2 to 20\n",
      "=> Setting learned tasks of model.4 to 20\n",
      "\n"
     ]
    }
   ],
   "source": [
    "for task in range(num_seed_tasks_learned, num_tasks):\n",
    "    print(f\"Training for task {task}\")\n",
    "    set_model_task(basis_model_hids, task)\n",
    "    mnist.update_task(task)\n",
    "\n",
    "    optimizer = optim.RMSprop([p for p in basis_model_hids.parameters() if p.requires_grad], lr=1e-2)\n",
    "    # Train for 1 epoch\n",
    "    for e in range(2):\n",
    "        train(basis_model_hids, mnist.train_loader, optimizer, e)\n",
    "        \n",
    "        print(\"Validation\")\n",
    "        print(\"============\")\n",
    "        acc1 = evaluate(basis_model_hids, mnist.val_loader, e)\n",
    "        \n",
    "    \n",
    "    cache_masks(basis_model_hids)\n",
    "    print()\n",
    "    set_num_tasks_learned(basis_model_hids, task + 1)\n",
    "    print()"
   ]
  },
  {
   "cell_type": "code",
   "execution_count": 120,
   "metadata": {},
   "outputs": [
    {
     "name": "stdout",
     "output_type": "stream",
     "text": [
      "Average top 1 performance: 0.8685\n",
      "Per task performance\n",
      "Task 0: 0.9116\n",
      "Task 1: 0.9166\n",
      "Task 2: 0.9111\n",
      "Task 3: 0.9166\n",
      "Task 4: 0.9125\n",
      "Task 5: 0.9125\n",
      "Task 6: 0.9131\n",
      "Task 7: 0.9119\n",
      "Task 8: 0.9126\n",
      "Task 9: 0.9058\n",
      "Task 10: 0.9093\n",
      "Task 11: 0.9108\n",
      "Task 12: 0.9127\n",
      "Task 13: 0.9135\n",
      "Task 14: 0.9118\n",
      "Task 15: 0.7257\n",
      "Task 16: 0.6946\n",
      "Task 17: 0.7418\n",
      "Task 18: 0.7656\n",
      "Task 19: 0.7597\n"
     ]
    }
   ],
   "source": [
    "# When task ID we can simply set the mask and evaluate\n",
    "\n",
    "gg_performance = []\n",
    "for task in range(num_tasks):\n",
    "    set_model_task(basis_model_hids, task)\n",
    "    mnist.update_task(task)\n",
    "    acc1 = evaluate(basis_model_hids, mnist.val_loader, 0)\n",
    "    gg_performance.append(acc1.item())\n",
    "\n",
    "clear_output()\n",
    "    \n",
    "print(f\"Average top 1 performance: {(sum(gg_performance) / len(gg_performance)):.4f}\")\n",
    "\n",
    "print(\"Per task performance\")\n",
    "for t in range(num_tasks):\n",
    "    print(f\"Task {t}: {gg_performance[t]:.4f}\")"
   ]
  },
  {
   "cell_type": "code",
   "execution_count": 121,
   "metadata": {},
   "outputs": [],
   "source": [
    "performance_map['basis_hybrid_mnist_sparsity_25'] = gg_performance.copy()"
   ]
  },
  {
   "cell_type": "markdown",
   "metadata": {},
   "source": [
    "### Model Initialization (Only New Tasks, Rotation MNIST)"
   ]
  },
  {
   "cell_type": "code",
   "execution_count": 122,
   "metadata": {},
   "outputs": [],
   "source": [
    "num_tasks = 20 # For demonstration purposes, we go up to 2500 in our paper\n",
    "num_seed_tasks_learned = 15\n",
    "basis_model_roth = BasisHiddenOnlyMultitaskFC(hidden_size=300, num_tasks=num_tasks, num_seed_tasks_learned=num_seed_tasks_learned, start_at_optimal=True)"
   ]
  },
  {
   "cell_type": "code",
   "execution_count": 123,
   "metadata": {},
   "outputs": [
    {
     "name": "stdout",
     "output_type": "stream",
     "text": [
      "=> Caching mask state for model.0\n",
      "=> Caching mask state for model.2\n",
      "=> Caching mask state for model.4\n"
     ]
    }
   ],
   "source": [
    "seed_dictr = model_rot.state_dict()\n",
    "basis_dictrh = basis_model_roth.state_dict()\n",
    "load_dictrh = {k: seed_dictr[k] for k in basis_model_roth.state_dict().keys() if k in seed_dictr.keys()}\n",
    "basis_dictrh.update(load_dictrh)\n",
    "basis_model_roth.load_state_dict(basis_dictrh, False)\n",
    "cache_masks(basis_model_roth)"
   ]
  },
  {
   "cell_type": "code",
   "execution_count": 124,
   "metadata": {
    "scrolled": true
   },
   "outputs": [
    {
     "name": "stdout",
     "output_type": "stream",
     "text": [
      "Training for task 15\n",
      "=> Set task of model.0 to 15\n",
      "=> Set task of model.2 to 15\n",
      "=> Set task of model.4 to 15\n"
     ]
    },
    {
     "data": {
      "application/vnd.jupyter.widget-view+json": {
       "model_id": "0fcc7f896b524c78afb003debce528c4",
       "version_major": 2,
       "version_minor": 0
      },
      "text/plain": [
       "  0%|          | 0/469 [00:00<?, ?it/s]"
      ]
     },
     "metadata": {},
     "output_type": "display_data"
    },
    {
     "name": "stdout",
     "output_type": "stream",
     "text": [
      "Validation => Loss 1.5047, Acc@1 0.4681\n",
      "============\n"
     ]
    },
    {
     "data": {
      "application/vnd.jupyter.widget-view+json": {
       "model_id": "6de979e22ef9415594cf306c6554d20d",
       "version_major": 2,
       "version_minor": 0
      },
      "text/plain": [
       "  0%|          | 0/79 [00:00<?, ?it/s]"
      ]
     },
     "metadata": {},
     "output_type": "display_data"
    },
    {
     "name": "stdout",
     "output_type": "stream",
     "text": [
      "Val Perf after 1 epochs Acc@1 0.5270\n"
     ]
    },
    {
     "data": {
      "application/vnd.jupyter.widget-view+json": {
       "model_id": "fc89eab30aef4db0a87845b3683463a6",
       "version_major": 2,
       "version_minor": 0
      },
      "text/plain": [
       "  0%|          | 0/469 [00:00<?, ?it/s]"
      ]
     },
     "metadata": {},
     "output_type": "display_data"
    },
    {
     "name": "stdout",
     "output_type": "stream",
     "text": [
      "Validation => Loss 1.1133, Acc@1 0.5400\n",
      "============\n"
     ]
    },
    {
     "data": {
      "application/vnd.jupyter.widget-view+json": {
       "model_id": "92d2a58593e54f2e98fd6b8c26267bd7",
       "version_major": 2,
       "version_minor": 0
      },
      "text/plain": [
       "  0%|          | 0/79 [00:00<?, ?it/s]"
      ]
     },
     "metadata": {},
     "output_type": "display_data"
    },
    {
     "name": "stdout",
     "output_type": "stream",
     "text": [
      "Val Perf after 2 epochs Acc@1 0.5896\n"
     ]
    },
    {
     "data": {
      "application/vnd.jupyter.widget-view+json": {
       "model_id": "a4d8a834e4d54727b335acefc8c3cd2e",
       "version_major": 2,
       "version_minor": 0
      },
      "text/plain": [
       "  0%|          | 0/469 [00:00<?, ?it/s]"
      ]
     },
     "metadata": {},
     "output_type": "display_data"
    },
    {
     "name": "stdout",
     "output_type": "stream",
     "text": [
      "Validation => Loss 1.1454, Acc@1 0.5791\n",
      "============\n"
     ]
    },
    {
     "data": {
      "application/vnd.jupyter.widget-view+json": {
       "model_id": "c7eae9baba604336bd3c5fe3855bd153",
       "version_major": 2,
       "version_minor": 0
      },
      "text/plain": [
       "  0%|          | 0/79 [00:00<?, ?it/s]"
      ]
     },
     "metadata": {},
     "output_type": "display_data"
    },
    {
     "name": "stdout",
     "output_type": "stream",
     "text": [
      "Val Perf after 3 epochs Acc@1 0.6195\n",
      "=> Caching mask state for model.0\n",
      "=> Caching mask state for model.2\n",
      "=> Caching mask state for model.4\n",
      "\n",
      "=> Setting learned tasks of model.0 to 16\n",
      "=> Setting learned tasks of model.2 to 16\n",
      "=> Setting learned tasks of model.4 to 16\n",
      "\n",
      "Training for task 16\n",
      "=> Set task of model.0 to 16\n",
      "=> Set task of model.2 to 16\n",
      "=> Set task of model.4 to 16\n"
     ]
    },
    {
     "data": {
      "application/vnd.jupyter.widget-view+json": {
       "model_id": "83222d19a38e48e49bd655da48354c53",
       "version_major": 2,
       "version_minor": 0
      },
      "text/plain": [
       "  0%|          | 0/469 [00:00<?, ?it/s]"
      ]
     },
     "metadata": {},
     "output_type": "display_data"
    },
    {
     "name": "stdout",
     "output_type": "stream",
     "text": [
      "Validation => Loss 1.1746, Acc@1 0.4743\n",
      "============\n"
     ]
    },
    {
     "data": {
      "application/vnd.jupyter.widget-view+json": {
       "model_id": "7947e506bd87411ba0bbe29b526f35b5",
       "version_major": 2,
       "version_minor": 0
      },
      "text/plain": [
       "  0%|          | 0/79 [00:00<?, ?it/s]"
      ]
     },
     "metadata": {},
     "output_type": "display_data"
    },
    {
     "name": "stdout",
     "output_type": "stream",
     "text": [
      "Val Perf after 1 epochs Acc@1 0.5304\n"
     ]
    },
    {
     "data": {
      "application/vnd.jupyter.widget-view+json": {
       "model_id": "0632672dd623469eb594ff6865c03270",
       "version_major": 2,
       "version_minor": 0
      },
      "text/plain": [
       "  0%|          | 0/469 [00:00<?, ?it/s]"
      ]
     },
     "metadata": {},
     "output_type": "display_data"
    },
    {
     "name": "stdout",
     "output_type": "stream",
     "text": [
      "Validation => Loss 1.1109, Acc@1 0.5924\n",
      "============\n"
     ]
    },
    {
     "data": {
      "application/vnd.jupyter.widget-view+json": {
       "model_id": "2cdaad061d284e38a5c501d8366f3421",
       "version_major": 2,
       "version_minor": 0
      },
      "text/plain": [
       "  0%|          | 0/79 [00:00<?, ?it/s]"
      ]
     },
     "metadata": {},
     "output_type": "display_data"
    },
    {
     "name": "stdout",
     "output_type": "stream",
     "text": [
      "Val Perf after 2 epochs Acc@1 0.5690\n"
     ]
    },
    {
     "data": {
      "application/vnd.jupyter.widget-view+json": {
       "model_id": "f39116cbeeea45b588ac2d29aaf17292",
       "version_major": 2,
       "version_minor": 0
      },
      "text/plain": [
       "  0%|          | 0/469 [00:00<?, ?it/s]"
      ]
     },
     "metadata": {},
     "output_type": "display_data"
    },
    {
     "name": "stdout",
     "output_type": "stream",
     "text": [
      "Validation => Loss 1.2276, Acc@1 0.5807\n",
      "============\n"
     ]
    },
    {
     "data": {
      "application/vnd.jupyter.widget-view+json": {
       "model_id": "cfd01b8120784bd8b8354c803d74b66d",
       "version_major": 2,
       "version_minor": 0
      },
      "text/plain": [
       "  0%|          | 0/79 [00:00<?, ?it/s]"
      ]
     },
     "metadata": {},
     "output_type": "display_data"
    },
    {
     "name": "stdout",
     "output_type": "stream",
     "text": [
      "Val Perf after 3 epochs Acc@1 0.6131\n",
      "=> Caching mask state for model.0\n",
      "=> Caching mask state for model.2\n",
      "=> Caching mask state for model.4\n",
      "\n",
      "=> Setting learned tasks of model.0 to 17\n",
      "=> Setting learned tasks of model.2 to 17\n",
      "=> Setting learned tasks of model.4 to 17\n",
      "\n",
      "Training for task 17\n",
      "=> Set task of model.0 to 17\n",
      "=> Set task of model.2 to 17\n",
      "=> Set task of model.4 to 17\n"
     ]
    },
    {
     "data": {
      "application/vnd.jupyter.widget-view+json": {
       "model_id": "c2a8a91923554028b1a64fbd3df2e8e8",
       "version_major": 2,
       "version_minor": 0
      },
      "text/plain": [
       "  0%|          | 0/469 [00:00<?, ?it/s]"
      ]
     },
     "metadata": {},
     "output_type": "display_data"
    },
    {
     "name": "stdout",
     "output_type": "stream",
     "text": [
      "Validation => Loss 1.5711, Acc@1 0.4574\n",
      "============\n"
     ]
    },
    {
     "data": {
      "application/vnd.jupyter.widget-view+json": {
       "model_id": "0b54ef1139624810afa1baa9c6c579bc",
       "version_major": 2,
       "version_minor": 0
      },
      "text/plain": [
       "  0%|          | 0/79 [00:00<?, ?it/s]"
      ]
     },
     "metadata": {},
     "output_type": "display_data"
    },
    {
     "name": "stdout",
     "output_type": "stream",
     "text": [
      "Val Perf after 1 epochs Acc@1 0.5098\n"
     ]
    },
    {
     "data": {
      "application/vnd.jupyter.widget-view+json": {
       "model_id": "9ccc57efadae4d988e83e29108ec09c6",
       "version_major": 2,
       "version_minor": 0
      },
      "text/plain": [
       "  0%|          | 0/469 [00:00<?, ?it/s]"
      ]
     },
     "metadata": {},
     "output_type": "display_data"
    },
    {
     "name": "stdout",
     "output_type": "stream",
     "text": [
      "Validation => Loss 1.3492, Acc@1 0.5127\n",
      "============\n"
     ]
    },
    {
     "data": {
      "application/vnd.jupyter.widget-view+json": {
       "model_id": "5ae7587d33394a8a838f5d5bd37df331",
       "version_major": 2,
       "version_minor": 0
      },
      "text/plain": [
       "  0%|          | 0/79 [00:00<?, ?it/s]"
      ]
     },
     "metadata": {},
     "output_type": "display_data"
    },
    {
     "name": "stdout",
     "output_type": "stream",
     "text": [
      "Val Perf after 2 epochs Acc@1 0.4823\n"
     ]
    },
    {
     "data": {
      "application/vnd.jupyter.widget-view+json": {
       "model_id": "2f5121f2f41a4c42ab088ac47a8d8499",
       "version_major": 2,
       "version_minor": 0
      },
      "text/plain": [
       "  0%|          | 0/469 [00:00<?, ?it/s]"
      ]
     },
     "metadata": {},
     "output_type": "display_data"
    },
    {
     "name": "stdout",
     "output_type": "stream",
     "text": [
      "Validation => Loss 1.2600, Acc@1 0.5137\n",
      "============\n"
     ]
    },
    {
     "data": {
      "application/vnd.jupyter.widget-view+json": {
       "model_id": "8dab6d2161de48bcb80b947114d61c16",
       "version_major": 2,
       "version_minor": 0
      },
      "text/plain": [
       "  0%|          | 0/79 [00:00<?, ?it/s]"
      ]
     },
     "metadata": {},
     "output_type": "display_data"
    },
    {
     "name": "stdout",
     "output_type": "stream",
     "text": [
      "Val Perf after 3 epochs Acc@1 0.4934\n",
      "=> Caching mask state for model.0\n",
      "=> Caching mask state for model.2\n",
      "=> Caching mask state for model.4\n",
      "\n",
      "=> Setting learned tasks of model.0 to 18\n",
      "=> Setting learned tasks of model.2 to 18\n",
      "=> Setting learned tasks of model.4 to 18\n",
      "\n",
      "Training for task 18\n",
      "=> Set task of model.0 to 18\n",
      "=> Set task of model.2 to 18\n",
      "=> Set task of model.4 to 18\n"
     ]
    },
    {
     "data": {
      "application/vnd.jupyter.widget-view+json": {
       "model_id": "cd687d455a3e431dba9f958fb677c4da",
       "version_major": 2,
       "version_minor": 0
      },
      "text/plain": [
       "  0%|          | 0/469 [00:00<?, ?it/s]"
      ]
     },
     "metadata": {},
     "output_type": "display_data"
    },
    {
     "name": "stdout",
     "output_type": "stream",
     "text": [
      "Validation => Loss 1.6396, Acc@1 0.4854\n",
      "============\n"
     ]
    },
    {
     "data": {
      "application/vnd.jupyter.widget-view+json": {
       "model_id": "f8c517229d634badb828006b4e54d0eb",
       "version_major": 2,
       "version_minor": 0
      },
      "text/plain": [
       "  0%|          | 0/79 [00:00<?, ?it/s]"
      ]
     },
     "metadata": {},
     "output_type": "display_data"
    },
    {
     "name": "stdout",
     "output_type": "stream",
     "text": [
      "Val Perf after 1 epochs Acc@1 0.5021\n"
     ]
    },
    {
     "data": {
      "application/vnd.jupyter.widget-view+json": {
       "model_id": "108cc75e02f9410b811cd1f8a6363e22",
       "version_major": 2,
       "version_minor": 0
      },
      "text/plain": [
       "  0%|          | 0/469 [00:00<?, ?it/s]"
      ]
     },
     "metadata": {},
     "output_type": "display_data"
    },
    {
     "name": "stdout",
     "output_type": "stream",
     "text": [
      "Validation => Loss 1.3288, Acc@1 0.5072\n",
      "============\n"
     ]
    },
    {
     "data": {
      "application/vnd.jupyter.widget-view+json": {
       "model_id": "d717da00c5c04456ab0b92ccbd504620",
       "version_major": 2,
       "version_minor": 0
      },
      "text/plain": [
       "  0%|          | 0/79 [00:00<?, ?it/s]"
      ]
     },
     "metadata": {},
     "output_type": "display_data"
    },
    {
     "name": "stdout",
     "output_type": "stream",
     "text": [
      "Val Perf after 2 epochs Acc@1 0.5642\n"
     ]
    },
    {
     "data": {
      "application/vnd.jupyter.widget-view+json": {
       "model_id": "9716a757034d4c6ead4af557df133562",
       "version_major": 2,
       "version_minor": 0
      },
      "text/plain": [
       "  0%|          | 0/469 [00:00<?, ?it/s]"
      ]
     },
     "metadata": {},
     "output_type": "display_data"
    },
    {
     "name": "stdout",
     "output_type": "stream",
     "text": [
      "Validation => Loss 1.3338, Acc@1 0.5475\n",
      "============\n"
     ]
    },
    {
     "data": {
      "application/vnd.jupyter.widget-view+json": {
       "model_id": "edd0ad0310d347e59285111d96032bdc",
       "version_major": 2,
       "version_minor": 0
      },
      "text/plain": [
       "  0%|          | 0/79 [00:00<?, ?it/s]"
      ]
     },
     "metadata": {},
     "output_type": "display_data"
    },
    {
     "name": "stdout",
     "output_type": "stream",
     "text": [
      "Val Perf after 3 epochs Acc@1 0.5563\n",
      "=> Caching mask state for model.0\n",
      "=> Caching mask state for model.2\n",
      "=> Caching mask state for model.4\n",
      "\n",
      "=> Setting learned tasks of model.0 to 19\n",
      "=> Setting learned tasks of model.2 to 19\n",
      "=> Setting learned tasks of model.4 to 19\n",
      "\n",
      "Training for task 19\n",
      "=> Set task of model.0 to 19\n",
      "=> Set task of model.2 to 19\n",
      "=> Set task of model.4 to 19\n"
     ]
    },
    {
     "data": {
      "application/vnd.jupyter.widget-view+json": {
       "model_id": "902ca3c196264f86bde0ef53ce88dfd3",
       "version_major": 2,
       "version_minor": 0
      },
      "text/plain": [
       "  0%|          | 0/469 [00:00<?, ?it/s]"
      ]
     },
     "metadata": {},
     "output_type": "display_data"
    },
    {
     "name": "stdout",
     "output_type": "stream",
     "text": [
      "Validation => Loss 1.3448, Acc@1 0.4518\n",
      "============\n"
     ]
    },
    {
     "data": {
      "application/vnd.jupyter.widget-view+json": {
       "model_id": "ec6f461670304fe1b3c77b16add617d4",
       "version_major": 2,
       "version_minor": 0
      },
      "text/plain": [
       "  0%|          | 0/79 [00:00<?, ?it/s]"
      ]
     },
     "metadata": {},
     "output_type": "display_data"
    },
    {
     "name": "stdout",
     "output_type": "stream",
     "text": [
      "Val Perf after 1 epochs Acc@1 0.5545\n"
     ]
    },
    {
     "data": {
      "application/vnd.jupyter.widget-view+json": {
       "model_id": "bb421bd3a6664e5c8b7488c21a1c43ec",
       "version_major": 2,
       "version_minor": 0
      },
      "text/plain": [
       "  0%|          | 0/469 [00:00<?, ?it/s]"
      ]
     },
     "metadata": {},
     "output_type": "display_data"
    },
    {
     "name": "stdout",
     "output_type": "stream",
     "text": [
      "Validation => Loss 1.3816, Acc@1 0.5358\n",
      "============\n"
     ]
    },
    {
     "data": {
      "application/vnd.jupyter.widget-view+json": {
       "model_id": "e0806d70bfbd491e9ce156e94d53849d",
       "version_major": 2,
       "version_minor": 0
      },
      "text/plain": [
       "  0%|          | 0/79 [00:00<?, ?it/s]"
      ]
     },
     "metadata": {},
     "output_type": "display_data"
    },
    {
     "name": "stdout",
     "output_type": "stream",
     "text": [
      "Val Perf after 2 epochs Acc@1 0.5599\n"
     ]
    },
    {
     "data": {
      "application/vnd.jupyter.widget-view+json": {
       "model_id": "abf5643864f64aa3abc4394d7f6eda72",
       "version_major": 2,
       "version_minor": 0
      },
      "text/plain": [
       "  0%|          | 0/469 [00:00<?, ?it/s]"
      ]
     },
     "metadata": {},
     "output_type": "display_data"
    },
    {
     "name": "stdout",
     "output_type": "stream",
     "text": [
      "Validation => Loss 1.2830, Acc@1 0.5358\n",
      "============\n"
     ]
    },
    {
     "data": {
      "application/vnd.jupyter.widget-view+json": {
       "model_id": "f819ad2944b84f9e9407a8c41a1a242e",
       "version_major": 2,
       "version_minor": 0
      },
      "text/plain": [
       "  0%|          | 0/79 [00:00<?, ?it/s]"
      ]
     },
     "metadata": {},
     "output_type": "display_data"
    },
    {
     "name": "stdout",
     "output_type": "stream",
     "text": [
      "Val Perf after 3 epochs Acc@1 0.5938\n",
      "=> Caching mask state for model.0\n",
      "=> Caching mask state for model.2\n",
      "=> Caching mask state for model.4\n",
      "\n",
      "=> Setting learned tasks of model.0 to 20\n",
      "=> Setting learned tasks of model.2 to 20\n",
      "=> Setting learned tasks of model.4 to 20\n",
      "\n"
     ]
    }
   ],
   "source": [
    "for task in range(num_seed_tasks_learned, num_tasks):\n",
    "    print(f\"Training for task {task}\")\n",
    "    set_model_task(basis_model_roth, task)\n",
    "    mnist_rot.update_task(task)\n",
    "\n",
    "    optimizer = optim.RMSprop([p for p in basis_model_roth.parameters() if p.requires_grad], lr=1e-2)\n",
    "    # Train for 1 epoch\n",
    "    for e in range(3):\n",
    "        train(basis_model_roth, mnist_rot.train_loader, optimizer, e)\n",
    "        \n",
    "        print(\"Validation\")\n",
    "        print(\"============\")\n",
    "        acc1 = evaluate(basis_model_roth, mnist_rot.val_loader, e)\n",
    "        \n",
    "    \n",
    "    cache_masks(basis_model_roth)\n",
    "    print()\n",
    "    set_num_tasks_learned(basis_model_roth, task + 1)\n",
    "    print()"
   ]
  },
  {
   "cell_type": "code",
   "execution_count": 125,
   "metadata": {},
   "outputs": [
    {
     "name": "stdout",
     "output_type": "stream",
     "text": [
      "Average top 1 performance: 0.6299\n",
      "Per task performance\n",
      "Task 0: 0.6406\n",
      "Task 1: 0.6466\n",
      "Task 2: 0.6469\n",
      "Task 3: 0.6428\n",
      "Task 4: 0.6543\n",
      "Task 5: 0.6528\n",
      "Task 6: 0.6538\n",
      "Task 7: 0.6475\n",
      "Task 8: 0.6346\n",
      "Task 9: 0.6585\n",
      "Task 10: 0.6547\n",
      "Task 11: 0.6553\n",
      "Task 12: 0.6446\n",
      "Task 13: 0.6526\n",
      "Task 14: 0.6456\n",
      "Task 15: 0.6185\n",
      "Task 16: 0.6123\n",
      "Task 17: 0.4920\n",
      "Task 18: 0.5514\n",
      "Task 19: 0.5917\n"
     ]
    }
   ],
   "source": [
    "# When task ID we can simply set the mask and evaluate\n",
    "\n",
    "gg_performance = []\n",
    "for task in range(num_tasks):\n",
    "    set_model_task(basis_model_roth, task)\n",
    "    mnist_rot.update_task(task)\n",
    "    acc1 = evaluate(basis_model_roth, mnist_rot.val_loader, 0)\n",
    "    gg_performance.append(acc1.item())\n",
    "\n",
    "clear_output()\n",
    "    \n",
    "print(f\"Average top 1 performance: {(sum(gg_performance) / len(gg_performance)):.4f}\")\n",
    "\n",
    "print(\"Per task performance\")\n",
    "for t in range(num_tasks):\n",
    "    print(f\"Task {t}: {gg_performance[t]:.4f}\")"
   ]
  },
  {
   "cell_type": "code",
   "execution_count": 126,
   "metadata": {},
   "outputs": [],
   "source": [
    "performance_map['basis_hybrid_mnist_rot'] = gg_performance.copy()"
   ]
  },
  {
   "cell_type": "code",
   "execution_count": null,
   "metadata": {},
   "outputs": [],
   "source": []
  },
  {
   "cell_type": "code",
   "execution_count": 128,
   "metadata": {},
   "outputs": [
    {
     "data": {
      "text/plain": [
       "dict_keys(['supsup_mnist', 'supsup_mnist_sparsity_25', 'supsup_mnist_rot', 'basis_mnist', 'basis_mnist_sparsity_25', 'basis_mnist_rot', 'basis_hybrid_mnist', 'basis_hybrid_mnist_sparsity_25', 'basis_hybrid_mnist_rot'])"
      ]
     },
     "execution_count": 128,
     "metadata": {},
     "output_type": "execute_result"
    }
   ],
   "source": [
    "performance_map.keys()"
   ]
  },
  {
   "cell_type": "code",
   "execution_count": null,
   "metadata": {},
   "outputs": [],
   "source": []
  },
  {
   "cell_type": "code",
   "execution_count": null,
   "metadata": {},
   "outputs": [],
   "source": []
  },
  {
   "cell_type": "code",
   "execution_count": null,
   "metadata": {},
   "outputs": [],
   "source": []
  },
  {
   "cell_type": "code",
   "execution_count": null,
   "metadata": {},
   "outputs": [],
   "source": []
  },
  {
   "cell_type": "code",
   "execution_count": null,
   "metadata": {},
   "outputs": [],
   "source": []
  },
  {
   "cell_type": "code",
   "execution_count": 129,
   "metadata": {},
   "outputs": [],
   "source": [
    "import pandas as pd\n",
    "import matplotlib.pyplot as plt\n",
    "\n",
    "%matplotlib inline"
   ]
  },
  {
   "cell_type": "code",
   "execution_count": 317,
   "metadata": {},
   "outputs": [],
   "source": [
    "df = pd.DataFrame(performance_map)"
   ]
  },
  {
   "cell_type": "code",
   "execution_count": 318,
   "metadata": {},
   "outputs": [],
   "source": [
    "df.loc[:14, 'Seen'] = True\n",
    "df.loc[15:, 'Seen'] = False"
   ]
  },
  {
   "cell_type": "code",
   "execution_count": 319,
   "metadata": {},
   "outputs": [
    {
     "data": {
      "text/html": [
       "<style  type=\"text/css\" >\n",
       "#T_b3428_row0_col0,#T_b3428_row0_col2,#T_b3428_row0_col4,#T_b3428_row1_col0,#T_b3428_row1_col2,#T_b3428_row1_col4,#T_b3428_row2_col0,#T_b3428_row2_col2,#T_b3428_row2_col4,#T_b3428_row3_col0,#T_b3428_row3_col2,#T_b3428_row3_col4,#T_b3428_row4_col0,#T_b3428_row4_col2,#T_b3428_row4_col4,#T_b3428_row5_col0,#T_b3428_row5_col2,#T_b3428_row5_col4,#T_b3428_row6_col0,#T_b3428_row6_col2,#T_b3428_row6_col4,#T_b3428_row7_col0,#T_b3428_row7_col2,#T_b3428_row7_col4,#T_b3428_row8_col0,#T_b3428_row8_col2,#T_b3428_row8_col4,#T_b3428_row9_col0,#T_b3428_row9_col2,#T_b3428_row9_col4,#T_b3428_row10_col0,#T_b3428_row10_col2,#T_b3428_row10_col4,#T_b3428_row11_col0,#T_b3428_row11_col2,#T_b3428_row11_col4,#T_b3428_row12_col0,#T_b3428_row12_col2,#T_b3428_row12_col4,#T_b3428_row13_col0,#T_b3428_row13_col2,#T_b3428_row13_col4,#T_b3428_row14_col0,#T_b3428_row14_col2,#T_b3428_row14_col4,#T_b3428_row15_col0,#T_b3428_row16_col0,#T_b3428_row17_col0,#T_b3428_row18_col0,#T_b3428_row19_col0{\n",
       "            background-color:  #73a9cf;\n",
       "            color:  #000000;\n",
       "        }#T_b3428_row0_col1,#T_b3428_row0_col3,#T_b3428_row0_col5,#T_b3428_row1_col7,#T_b3428_row2_col1,#T_b3428_row2_col3,#T_b3428_row2_col5,#T_b3428_row4_col1,#T_b3428_row4_col3,#T_b3428_row4_col5,#T_b3428_row9_col1,#T_b3428_row9_col3,#T_b3428_row9_col5,#T_b3428_row10_col1,#T_b3428_row10_col3,#T_b3428_row10_col5,#T_b3428_row11_col1,#T_b3428_row11_col3,#T_b3428_row11_col5,#T_b3428_row13_col1,#T_b3428_row13_col3,#T_b3428_row13_col5,#T_b3428_row15_col1,#T_b3428_row17_col1,#T_b3428_row19_col1{\n",
       "            background-color:  #78abd0;\n",
       "            color:  #000000;\n",
       "        }#T_b3428_row0_col6,#T_b3428_row18_col5{\n",
       "            background-color:  #9fbad9;\n",
       "            color:  #000000;\n",
       "        }#T_b3428_row0_col7{\n",
       "            background-color:  #f5eef6;\n",
       "            color:  #000000;\n",
       "        }#T_b3428_row0_col8,#T_b3428_row0_col9,#T_b3428_row0_col10,#T_b3428_row1_col8,#T_b3428_row1_col9,#T_b3428_row2_col8,#T_b3428_row3_col9,#T_b3428_row3_col10,#T_b3428_row4_col8,#T_b3428_row4_col9,#T_b3428_row4_col10,#T_b3428_row5_col8,#T_b3428_row5_col9,#T_b3428_row6_col9,#T_b3428_row7_col8,#T_b3428_row7_col9,#T_b3428_row7_col10,#T_b3428_row8_col10,#T_b3428_row9_col8,#T_b3428_row9_col10,#T_b3428_row10_col9,#T_b3428_row10_col10,#T_b3428_row11_col8,#T_b3428_row11_col9,#T_b3428_row12_col9,#T_b3428_row12_col10,#T_b3428_row13_col9,#T_b3428_row13_col10,#T_b3428_row14_col8,#T_b3428_row14_col9,#T_b3428_row15_col7,#T_b3428_row16_col7,#T_b3428_row17_col7,#T_b3428_row18_col7,#T_b3428_row19_col7{\n",
       "            background-color:  #fff7fb;\n",
       "            color:  #000000;\n",
       "        }#T_b3428_row1_col1,#T_b3428_row1_col3,#T_b3428_row1_col5,#T_b3428_row3_col1,#T_b3428_row3_col3,#T_b3428_row3_col5,#T_b3428_row5_col1,#T_b3428_row5_col3,#T_b3428_row5_col5,#T_b3428_row6_col1,#T_b3428_row6_col3,#T_b3428_row6_col5,#T_b3428_row7_col1,#T_b3428_row7_col3,#T_b3428_row7_col5,#T_b3428_row8_col1,#T_b3428_row8_col3,#T_b3428_row8_col5,#T_b3428_row12_col1,#T_b3428_row12_col3,#T_b3428_row12_col5,#T_b3428_row14_col1,#T_b3428_row14_col3,#T_b3428_row14_col5,#T_b3428_row16_col1,#T_b3428_row18_col1{\n",
       "            background-color:  #76aad0;\n",
       "            color:  #000000;\n",
       "        }#T_b3428_row1_col6{\n",
       "            background-color:  #75a9cf;\n",
       "            color:  #000000;\n",
       "        }#T_b3428_row1_col10,#T_b3428_row6_col8,#T_b3428_row13_col8{\n",
       "            background-color:  #fdf5fa;\n",
       "            color:  #000000;\n",
       "        }#T_b3428_row2_col6,#T_b3428_row7_col6,#T_b3428_row9_col6{\n",
       "            background-color:  #9ebad9;\n",
       "            color:  #000000;\n",
       "        }#T_b3428_row2_col7{\n",
       "            background-color:  #f5eff6;\n",
       "            color:  #000000;\n",
       "        }#T_b3428_row2_col9,#T_b3428_row2_col10,#T_b3428_row5_col10,#T_b3428_row6_col10,#T_b3428_row8_col8,#T_b3428_row14_col10{\n",
       "            background-color:  #fef6fb;\n",
       "            color:  #000000;\n",
       "        }#T_b3428_row3_col6,#T_b3428_row5_col6,#T_b3428_row19_col6{\n",
       "            background-color:  #a1bbda;\n",
       "            color:  #000000;\n",
       "        }#T_b3428_row3_col7,#T_b3428_row11_col7{\n",
       "            background-color:  #f3edf5;\n",
       "            color:  #000000;\n",
       "        }#T_b3428_row3_col8{\n",
       "            background-color:  #faf3f9;\n",
       "            color:  #000000;\n",
       "        }#T_b3428_row4_col6,#T_b3428_row12_col6,#T_b3428_row14_col6{\n",
       "            background-color:  #9cb9d9;\n",
       "            color:  #000000;\n",
       "        }#T_b3428_row4_col7{\n",
       "            background-color:  #f2ecf5;\n",
       "            color:  #000000;\n",
       "        }#T_b3428_row5_col7,#T_b3428_row7_col7{\n",
       "            background-color:  #f4edf6;\n",
       "            color:  #000000;\n",
       "        }#T_b3428_row6_col6{\n",
       "            background-color:  #99b8d8;\n",
       "            color:  #000000;\n",
       "        }#T_b3428_row6_col7,#T_b3428_row10_col7{\n",
       "            background-color:  #f0eaf4;\n",
       "            color:  #000000;\n",
       "        }#T_b3428_row8_col6,#T_b3428_row10_col6,#T_b3428_row11_col6{\n",
       "            background-color:  #9ab8d8;\n",
       "            color:  #000000;\n",
       "        }#T_b3428_row8_col7{\n",
       "            background-color:  #eee9f3;\n",
       "            color:  #000000;\n",
       "        }#T_b3428_row8_col9,#T_b3428_row9_col9,#T_b3428_row10_col8,#T_b3428_row11_col10,#T_b3428_row12_col8{\n",
       "            background-color:  #fef6fa;\n",
       "            color:  #000000;\n",
       "        }#T_b3428_row9_col7,#T_b3428_row12_col7,#T_b3428_row18_col9{\n",
       "            background-color:  #f4eef6;\n",
       "            color:  #000000;\n",
       "        }#T_b3428_row13_col6,#T_b3428_row17_col4{\n",
       "            background-color:  #a4bcda;\n",
       "            color:  #000000;\n",
       "        }#T_b3428_row13_col7,#T_b3428_row16_col2{\n",
       "            background-color:  #ece7f2;\n",
       "            color:  #000000;\n",
       "        }#T_b3428_row14_col7,#T_b3428_row16_col9,#T_b3428_row19_col9{\n",
       "            background-color:  #f1ebf4;\n",
       "            color:  #000000;\n",
       "        }#T_b3428_row15_col2{\n",
       "            background-color:  #e3e0ee;\n",
       "            color:  #000000;\n",
       "        }#T_b3428_row15_col3{\n",
       "            background-color:  #d9d8ea;\n",
       "            color:  #000000;\n",
       "        }#T_b3428_row15_col4,#T_b3428_row16_col4{\n",
       "            background-color:  #93b5d6;\n",
       "            color:  #000000;\n",
       "        }#T_b3428_row15_col5{\n",
       "            background-color:  #a9bfdc;\n",
       "            color:  #000000;\n",
       "        }#T_b3428_row15_col6,#T_b3428_row18_col6{\n",
       "            background-color:  #abbfdc;\n",
       "            color:  #000000;\n",
       "        }#T_b3428_row15_col8{\n",
       "            background-color:  #fbf4f9;\n",
       "            color:  #000000;\n",
       "        }#T_b3428_row15_col9,#T_b3428_row17_col8,#T_b3428_row18_col8{\n",
       "            background-color:  #f8f1f8;\n",
       "            color:  #000000;\n",
       "        }#T_b3428_row15_col10{\n",
       "            background-color:  #adc1dd;\n",
       "            color:  #000000;\n",
       "        }#T_b3428_row16_col3,#T_b3428_row17_col2,#T_b3428_row19_col2{\n",
       "            background-color:  #e7e3f0;\n",
       "            color:  #000000;\n",
       "        }#T_b3428_row16_col5,#T_b3428_row16_col10{\n",
       "            background-color:  #b0c2de;\n",
       "            color:  #000000;\n",
       "        }#T_b3428_row16_col6,#T_b3428_row17_col6,#T_b3428_row19_col5{\n",
       "            background-color:  #a2bcda;\n",
       "            color:  #000000;\n",
       "        }#T_b3428_row16_col8,#T_b3428_row17_col9{\n",
       "            background-color:  #f7f0f7;\n",
       "            color:  #000000;\n",
       "        }#T_b3428_row17_col3{\n",
       "            background-color:  #e9e5f1;\n",
       "            color:  #000000;\n",
       "        }#T_b3428_row17_col5{\n",
       "            background-color:  #a5bddb;\n",
       "            color:  #000000;\n",
       "        }#T_b3428_row17_col10{\n",
       "            background-color:  #b1c2de;\n",
       "            color:  #000000;\n",
       "        }#T_b3428_row18_col2,#T_b3428_row18_col3{\n",
       "            background-color:  #dbdaeb;\n",
       "            color:  #000000;\n",
       "        }#T_b3428_row18_col4{\n",
       "            background-color:  #97b7d7;\n",
       "            color:  #000000;\n",
       "        }#T_b3428_row18_col10{\n",
       "            background-color:  #b8c6e0;\n",
       "            color:  #000000;\n",
       "        }#T_b3428_row19_col3{\n",
       "            background-color:  #dddbec;\n",
       "            color:  #000000;\n",
       "        }#T_b3428_row19_col4{\n",
       "            background-color:  #91b5d6;\n",
       "            color:  #000000;\n",
       "        }#T_b3428_row19_col8{\n",
       "            background-color:  #fcf4fa;\n",
       "            color:  #000000;\n",
       "        }#T_b3428_row19_col10{\n",
       "            background-color:  #b4c4df;\n",
       "            color:  #000000;\n",
       "        }</style><table id=\"T_b3428_\" ><thead>    <tr>        <th class=\"blank level0\" ></th>        <th class=\"col_heading level0 col0\" >supsup_mnist</th>        <th class=\"col_heading level0 col1\" >supsup_mnist_sparsity_25</th>        <th class=\"col_heading level0 col2\" >basis_mnist</th>        <th class=\"col_heading level0 col3\" >basis_mnist_sparsity_25</th>        <th class=\"col_heading level0 col4\" >basis_hybrid_mnist</th>        <th class=\"col_heading level0 col5\" >basis_hybrid_mnist_sparsity_25</th>        <th class=\"col_heading level0 col6\" >basis_hybrid_mnist_frozen</th>        <th class=\"col_heading level0 col7\" >basis_hybrid_mnist_frozen_sparsity25</th>        <th class=\"col_heading level0 col8\" >basis_mnist_task_zero_only</th>        <th class=\"col_heading level0 col9\" >basis_mnist_task_zero_only_sparsity_25</th>        <th class=\"col_heading level0 col10\" >basis_mnist_task_zero_only_hidden_sparsity_25</th>        <th class=\"col_heading level0 col11\" >Seen</th>    </tr>    <tr>        <th class=\"index_name level0\" >Task</th>        <th class=\"blank\" ></th>        <th class=\"blank\" ></th>        <th class=\"blank\" ></th>        <th class=\"blank\" ></th>        <th class=\"blank\" ></th>        <th class=\"blank\" ></th>        <th class=\"blank\" ></th>        <th class=\"blank\" ></th>        <th class=\"blank\" ></th>        <th class=\"blank\" ></th>        <th class=\"blank\" ></th>        <th class=\"blank\" ></th>    </tr></thead><tbody>\n",
       "                <tr>\n",
       "                        <th id=\"T_b3428_level0_row0\" class=\"row_heading level0 row0\" >0</th>\n",
       "                        <td id=\"T_b3428_row0_col0\" class=\"data row0 col0\" >0.929500</td>\n",
       "                        <td id=\"T_b3428_row0_col1\" class=\"data row0 col1\" >0.911600</td>\n",
       "                        <td id=\"T_b3428_row0_col2\" class=\"data row0 col2\" >0.929500</td>\n",
       "                        <td id=\"T_b3428_row0_col3\" class=\"data row0 col3\" >0.911600</td>\n",
       "                        <td id=\"T_b3428_row0_col4\" class=\"data row0 col4\" >0.929500</td>\n",
       "                        <td id=\"T_b3428_row0_col5\" class=\"data row0 col5\" >0.911600</td>\n",
       "                        <td id=\"T_b3428_row0_col6\" class=\"data row0 col6\" >0.727900</td>\n",
       "                        <td id=\"T_b3428_row0_col7\" class=\"data row0 col7\" >0.127700</td>\n",
       "                        <td id=\"T_b3428_row0_col8\" class=\"data row0 col8\" >0.000000</td>\n",
       "                        <td id=\"T_b3428_row0_col9\" class=\"data row0 col9\" >0.002200</td>\n",
       "                        <td id=\"T_b3428_row0_col10\" class=\"data row0 col10\" >0.002700</td>\n",
       "                        <td id=\"T_b3428_row0_col11\" class=\"data row0 col11\" >True</td>\n",
       "            </tr>\n",
       "            <tr>\n",
       "                        <th id=\"T_b3428_level0_row1\" class=\"row_heading level0 row1\" >1</th>\n",
       "                        <td id=\"T_b3428_row1_col0\" class=\"data row1 col0\" >0.926600</td>\n",
       "                        <td id=\"T_b3428_row1_col1\" class=\"data row1 col1\" >0.916600</td>\n",
       "                        <td id=\"T_b3428_row1_col2\" class=\"data row1 col2\" >0.926600</td>\n",
       "                        <td id=\"T_b3428_row1_col3\" class=\"data row1 col3\" >0.916600</td>\n",
       "                        <td id=\"T_b3428_row1_col4\" class=\"data row1 col4\" >0.926600</td>\n",
       "                        <td id=\"T_b3428_row1_col5\" class=\"data row1 col5\" >0.916600</td>\n",
       "                        <td id=\"T_b3428_row1_col6\" class=\"data row1 col6\" >0.923200</td>\n",
       "                        <td id=\"T_b3428_row1_col7\" class=\"data row1 col7\" >0.910100</td>\n",
       "                        <td id=\"T_b3428_row1_col8\" class=\"data row1 col8\" >0.001400</td>\n",
       "                        <td id=\"T_b3428_row1_col9\" class=\"data row1 col9\" >0.003700</td>\n",
       "                        <td id=\"T_b3428_row1_col10\" class=\"data row1 col10\" >0.027000</td>\n",
       "                        <td id=\"T_b3428_row1_col11\" class=\"data row1 col11\" >True</td>\n",
       "            </tr>\n",
       "            <tr>\n",
       "                        <th id=\"T_b3428_level0_row2\" class=\"row_heading level0 row2\" >2</th>\n",
       "                        <td id=\"T_b3428_row2_col0\" class=\"data row2 col0\" >0.926400</td>\n",
       "                        <td id=\"T_b3428_row2_col1\" class=\"data row2 col1\" >0.911100</td>\n",
       "                        <td id=\"T_b3428_row2_col2\" class=\"data row2 col2\" >0.926400</td>\n",
       "                        <td id=\"T_b3428_row2_col3\" class=\"data row2 col3\" >0.911100</td>\n",
       "                        <td id=\"T_b3428_row2_col4\" class=\"data row2 col4\" >0.926400</td>\n",
       "                        <td id=\"T_b3428_row2_col5\" class=\"data row2 col5\" >0.911100</td>\n",
       "                        <td id=\"T_b3428_row2_col6\" class=\"data row2 col6\" >0.735400</td>\n",
       "                        <td id=\"T_b3428_row2_col7\" class=\"data row2 col7\" >0.126300</td>\n",
       "                        <td id=\"T_b3428_row2_col8\" class=\"data row2 col8\" >0.005600</td>\n",
       "                        <td id=\"T_b3428_row2_col9\" class=\"data row2 col9\" >0.014300</td>\n",
       "                        <td id=\"T_b3428_row2_col10\" class=\"data row2 col10\" >0.014300</td>\n",
       "                        <td id=\"T_b3428_row2_col11\" class=\"data row2 col11\" >True</td>\n",
       "            </tr>\n",
       "            <tr>\n",
       "                        <th id=\"T_b3428_level0_row3\" class=\"row_heading level0 row3\" >3</th>\n",
       "                        <td id=\"T_b3428_row3_col0\" class=\"data row3 col0\" >0.924700</td>\n",
       "                        <td id=\"T_b3428_row3_col1\" class=\"data row3 col1\" >0.916600</td>\n",
       "                        <td id=\"T_b3428_row3_col2\" class=\"data row3 col2\" >0.924700</td>\n",
       "                        <td id=\"T_b3428_row3_col3\" class=\"data row3 col3\" >0.916600</td>\n",
       "                        <td id=\"T_b3428_row3_col4\" class=\"data row3 col4\" >0.924700</td>\n",
       "                        <td id=\"T_b3428_row3_col5\" class=\"data row3 col5\" >0.916600</td>\n",
       "                        <td id=\"T_b3428_row3_col6\" class=\"data row3 col6\" >0.715700</td>\n",
       "                        <td id=\"T_b3428_row3_col7\" class=\"data row3 col7\" >0.146200</td>\n",
       "                        <td id=\"T_b3428_row3_col8\" class=\"data row3 col8\" >0.064800</td>\n",
       "                        <td id=\"T_b3428_row3_col9\" class=\"data row3 col9\" >0.001600</td>\n",
       "                        <td id=\"T_b3428_row3_col10\" class=\"data row3 col10\" >0.000100</td>\n",
       "                        <td id=\"T_b3428_row3_col11\" class=\"data row3 col11\" >True</td>\n",
       "            </tr>\n",
       "            <tr>\n",
       "                        <th id=\"T_b3428_level0_row4\" class=\"row_heading level0 row4\" >4</th>\n",
       "                        <td id=\"T_b3428_row4_col0\" class=\"data row4 col0\" >0.928100</td>\n",
       "                        <td id=\"T_b3428_row4_col1\" class=\"data row4 col1\" >0.912500</td>\n",
       "                        <td id=\"T_b3428_row4_col2\" class=\"data row4 col2\" >0.928100</td>\n",
       "                        <td id=\"T_b3428_row4_col3\" class=\"data row4 col3\" >0.912500</td>\n",
       "                        <td id=\"T_b3428_row4_col4\" class=\"data row4 col4\" >0.928100</td>\n",
       "                        <td id=\"T_b3428_row4_col5\" class=\"data row4 col5\" >0.912500</td>\n",
       "                        <td id=\"T_b3428_row4_col6\" class=\"data row4 col6\" >0.747100</td>\n",
       "                        <td id=\"T_b3428_row4_col7\" class=\"data row4 col7\" >0.167300</td>\n",
       "                        <td id=\"T_b3428_row4_col8\" class=\"data row4 col8\" >0.001700</td>\n",
       "                        <td id=\"T_b3428_row4_col9\" class=\"data row4 col9\" >0.008400</td>\n",
       "                        <td id=\"T_b3428_row4_col10\" class=\"data row4 col10\" >0.005400</td>\n",
       "                        <td id=\"T_b3428_row4_col11\" class=\"data row4 col11\" >True</td>\n",
       "            </tr>\n",
       "            <tr>\n",
       "                        <th id=\"T_b3428_level0_row5\" class=\"row_heading level0 row5\" >5</th>\n",
       "                        <td id=\"T_b3428_row5_col0\" class=\"data row5 col0\" >0.922900</td>\n",
       "                        <td id=\"T_b3428_row5_col1\" class=\"data row5 col1\" >0.912500</td>\n",
       "                        <td id=\"T_b3428_row5_col2\" class=\"data row5 col2\" >0.922900</td>\n",
       "                        <td id=\"T_b3428_row5_col3\" class=\"data row5 col3\" >0.912500</td>\n",
       "                        <td id=\"T_b3428_row5_col4\" class=\"data row5 col4\" >0.922900</td>\n",
       "                        <td id=\"T_b3428_row5_col5\" class=\"data row5 col5\" >0.912500</td>\n",
       "                        <td id=\"T_b3428_row5_col6\" class=\"data row5 col6\" >0.720000</td>\n",
       "                        <td id=\"T_b3428_row5_col7\" class=\"data row5 col7\" >0.139900</td>\n",
       "                        <td id=\"T_b3428_row5_col8\" class=\"data row5 col8\" >0.002300</td>\n",
       "                        <td id=\"T_b3428_row5_col9\" class=\"data row5 col9\" >0.000100</td>\n",
       "                        <td id=\"T_b3428_row5_col10\" class=\"data row5 col10\" >0.009800</td>\n",
       "                        <td id=\"T_b3428_row5_col11\" class=\"data row5 col11\" >True</td>\n",
       "            </tr>\n",
       "            <tr>\n",
       "                        <th id=\"T_b3428_level0_row6\" class=\"row_heading level0 row6\" >6</th>\n",
       "                        <td id=\"T_b3428_row6_col0\" class=\"data row6 col0\" >0.926200</td>\n",
       "                        <td id=\"T_b3428_row6_col1\" class=\"data row6 col1\" >0.913100</td>\n",
       "                        <td id=\"T_b3428_row6_col2\" class=\"data row6 col2\" >0.926200</td>\n",
       "                        <td id=\"T_b3428_row6_col3\" class=\"data row6 col3\" >0.913100</td>\n",
       "                        <td id=\"T_b3428_row6_col4\" class=\"data row6 col4\" >0.926200</td>\n",
       "                        <td id=\"T_b3428_row6_col5\" class=\"data row6 col5\" >0.913100</td>\n",
       "                        <td id=\"T_b3428_row6_col6\" class=\"data row6 col6\" >0.754300</td>\n",
       "                        <td id=\"T_b3428_row6_col7\" class=\"data row6 col7\" >0.186500</td>\n",
       "                        <td id=\"T_b3428_row6_col8\" class=\"data row6 col8\" >0.024500</td>\n",
       "                        <td id=\"T_b3428_row6_col9\" class=\"data row6 col9\" >0.000700</td>\n",
       "                        <td id=\"T_b3428_row6_col10\" class=\"data row6 col10\" >0.010800</td>\n",
       "                        <td id=\"T_b3428_row6_col11\" class=\"data row6 col11\" >True</td>\n",
       "            </tr>\n",
       "            <tr>\n",
       "                        <th id=\"T_b3428_level0_row7\" class=\"row_heading level0 row7\" >7</th>\n",
       "                        <td id=\"T_b3428_row7_col0\" class=\"data row7 col0\" >0.924200</td>\n",
       "                        <td id=\"T_b3428_row7_col1\" class=\"data row7 col1\" >0.911900</td>\n",
       "                        <td id=\"T_b3428_row7_col2\" class=\"data row7 col2\" >0.924200</td>\n",
       "                        <td id=\"T_b3428_row7_col3\" class=\"data row7 col3\" >0.911900</td>\n",
       "                        <td id=\"T_b3428_row7_col4\" class=\"data row7 col4\" >0.924200</td>\n",
       "                        <td id=\"T_b3428_row7_col5\" class=\"data row7 col5\" >0.911900</td>\n",
       "                        <td id=\"T_b3428_row7_col6\" class=\"data row7 col6\" >0.729800</td>\n",
       "                        <td id=\"T_b3428_row7_col7\" class=\"data row7 col7\" >0.139900</td>\n",
       "                        <td id=\"T_b3428_row7_col8\" class=\"data row7 col8\" >0.005600</td>\n",
       "                        <td id=\"T_b3428_row7_col9\" class=\"data row7 col9\" >0.003000</td>\n",
       "                        <td id=\"T_b3428_row7_col10\" class=\"data row7 col10\" >0.000500</td>\n",
       "                        <td id=\"T_b3428_row7_col11\" class=\"data row7 col11\" >True</td>\n",
       "            </tr>\n",
       "            <tr>\n",
       "                        <th id=\"T_b3428_level0_row8\" class=\"row_heading level0 row8\" >8</th>\n",
       "                        <td id=\"T_b3428_row8_col0\" class=\"data row8 col0\" >0.926300</td>\n",
       "                        <td id=\"T_b3428_row8_col1\" class=\"data row8 col1\" >0.912600</td>\n",
       "                        <td id=\"T_b3428_row8_col2\" class=\"data row8 col2\" >0.926300</td>\n",
       "                        <td id=\"T_b3428_row8_col3\" class=\"data row8 col3\" >0.912600</td>\n",
       "                        <td id=\"T_b3428_row8_col4\" class=\"data row8 col4\" >0.926300</td>\n",
       "                        <td id=\"T_b3428_row8_col5\" class=\"data row8 col5\" >0.912600</td>\n",
       "                        <td id=\"T_b3428_row8_col6\" class=\"data row8 col6\" >0.747000</td>\n",
       "                        <td id=\"T_b3428_row8_col7\" class=\"data row8 col7\" >0.207500</td>\n",
       "                        <td id=\"T_b3428_row8_col8\" class=\"data row8 col8\" >0.012100</td>\n",
       "                        <td id=\"T_b3428_row8_col9\" class=\"data row8 col9\" >0.018400</td>\n",
       "                        <td id=\"T_b3428_row8_col10\" class=\"data row8 col10\" >0.002900</td>\n",
       "                        <td id=\"T_b3428_row8_col11\" class=\"data row8 col11\" >True</td>\n",
       "            </tr>\n",
       "            <tr>\n",
       "                        <th id=\"T_b3428_level0_row9\" class=\"row_heading level0 row9\" >9</th>\n",
       "                        <td id=\"T_b3428_row9_col0\" class=\"data row9 col0\" >0.926200</td>\n",
       "                        <td id=\"T_b3428_row9_col1\" class=\"data row9 col1\" >0.905800</td>\n",
       "                        <td id=\"T_b3428_row9_col2\" class=\"data row9 col2\" >0.926200</td>\n",
       "                        <td id=\"T_b3428_row9_col3\" class=\"data row9 col3\" >0.905800</td>\n",
       "                        <td id=\"T_b3428_row9_col4\" class=\"data row9 col4\" >0.926200</td>\n",
       "                        <td id=\"T_b3428_row9_col5\" class=\"data row9 col5\" >0.905800</td>\n",
       "                        <td id=\"T_b3428_row9_col6\" class=\"data row9 col6\" >0.737800</td>\n",
       "                        <td id=\"T_b3428_row9_col7\" class=\"data row9 col7\" >0.131200</td>\n",
       "                        <td id=\"T_b3428_row9_col8\" class=\"data row9 col8\" >0.001100</td>\n",
       "                        <td id=\"T_b3428_row9_col9\" class=\"data row9 col9\" >0.019300</td>\n",
       "                        <td id=\"T_b3428_row9_col10\" class=\"data row9 col10\" >0.002300</td>\n",
       "                        <td id=\"T_b3428_row9_col11\" class=\"data row9 col11\" >True</td>\n",
       "            </tr>\n",
       "            <tr>\n",
       "                        <th id=\"T_b3428_level0_row10\" class=\"row_heading level0 row10\" >10</th>\n",
       "                        <td id=\"T_b3428_row10_col0\" class=\"data row10 col0\" >0.924300</td>\n",
       "                        <td id=\"T_b3428_row10_col1\" class=\"data row10 col1\" >0.909300</td>\n",
       "                        <td id=\"T_b3428_row10_col2\" class=\"data row10 col2\" >0.924300</td>\n",
       "                        <td id=\"T_b3428_row10_col3\" class=\"data row10 col3\" >0.909300</td>\n",
       "                        <td id=\"T_b3428_row10_col4\" class=\"data row10 col4\" >0.924300</td>\n",
       "                        <td id=\"T_b3428_row10_col5\" class=\"data row10 col5\" >0.909300</td>\n",
       "                        <td id=\"T_b3428_row10_col6\" class=\"data row10 col6\" >0.747800</td>\n",
       "                        <td id=\"T_b3428_row10_col7\" class=\"data row10 col7\" >0.191600</td>\n",
       "                        <td id=\"T_b3428_row10_col8\" class=\"data row10 col8\" >0.018100</td>\n",
       "                        <td id=\"T_b3428_row10_col9\" class=\"data row10 col9\" >0.001000</td>\n",
       "                        <td id=\"T_b3428_row10_col10\" class=\"data row10 col10\" >0.002000</td>\n",
       "                        <td id=\"T_b3428_row10_col11\" class=\"data row10 col11\" >True</td>\n",
       "            </tr>\n",
       "            <tr>\n",
       "                        <th id=\"T_b3428_level0_row11\" class=\"row_heading level0 row11\" >11</th>\n",
       "                        <td id=\"T_b3428_row11_col0\" class=\"data row11 col0\" >0.925500</td>\n",
       "                        <td id=\"T_b3428_row11_col1\" class=\"data row11 col1\" >0.910800</td>\n",
       "                        <td id=\"T_b3428_row11_col2\" class=\"data row11 col2\" >0.925500</td>\n",
       "                        <td id=\"T_b3428_row11_col3\" class=\"data row11 col3\" >0.910800</td>\n",
       "                        <td id=\"T_b3428_row11_col4\" class=\"data row11 col4\" >0.925500</td>\n",
       "                        <td id=\"T_b3428_row11_col5\" class=\"data row11 col5\" >0.910800</td>\n",
       "                        <td id=\"T_b3428_row11_col6\" class=\"data row11 col6\" >0.747100</td>\n",
       "                        <td id=\"T_b3428_row11_col7\" class=\"data row11 col7\" >0.151500</td>\n",
       "                        <td id=\"T_b3428_row11_col8\" class=\"data row11 col8\" >0.001200</td>\n",
       "                        <td id=\"T_b3428_row11_col9\" class=\"data row11 col9\" >0.006700</td>\n",
       "                        <td id=\"T_b3428_row11_col10\" class=\"data row11 col10\" >0.017300</td>\n",
       "                        <td id=\"T_b3428_row11_col11\" class=\"data row11 col11\" >True</td>\n",
       "            </tr>\n",
       "            <tr>\n",
       "                        <th id=\"T_b3428_level0_row12\" class=\"row_heading level0 row12\" >12</th>\n",
       "                        <td id=\"T_b3428_row12_col0\" class=\"data row12 col0\" >0.925500</td>\n",
       "                        <td id=\"T_b3428_row12_col1\" class=\"data row12 col1\" >0.912700</td>\n",
       "                        <td id=\"T_b3428_row12_col2\" class=\"data row12 col2\" >0.925500</td>\n",
       "                        <td id=\"T_b3428_row12_col3\" class=\"data row12 col3\" >0.912700</td>\n",
       "                        <td id=\"T_b3428_row12_col4\" class=\"data row12 col4\" >0.925500</td>\n",
       "                        <td id=\"T_b3428_row12_col5\" class=\"data row12 col5\" >0.912700</td>\n",
       "                        <td id=\"T_b3428_row12_col6\" class=\"data row12 col6\" >0.740400</td>\n",
       "                        <td id=\"T_b3428_row12_col7\" class=\"data row12 col7\" >0.131400</td>\n",
       "                        <td id=\"T_b3428_row12_col8\" class=\"data row12 col8\" >0.019300</td>\n",
       "                        <td id=\"T_b3428_row12_col9\" class=\"data row12 col9\" >0.000900</td>\n",
       "                        <td id=\"T_b3428_row12_col10\" class=\"data row12 col10\" >0.003100</td>\n",
       "                        <td id=\"T_b3428_row12_col11\" class=\"data row12 col11\" >True</td>\n",
       "            </tr>\n",
       "            <tr>\n",
       "                        <th id=\"T_b3428_level0_row13\" class=\"row_heading level0 row13\" >13</th>\n",
       "                        <td id=\"T_b3428_row13_col0\" class=\"data row13 col0\" >0.928700</td>\n",
       "                        <td id=\"T_b3428_row13_col1\" class=\"data row13 col1\" >0.913500</td>\n",
       "                        <td id=\"T_b3428_row13_col2\" class=\"data row13 col2\" >0.928700</td>\n",
       "                        <td id=\"T_b3428_row13_col3\" class=\"data row13 col3\" >0.913500</td>\n",
       "                        <td id=\"T_b3428_row13_col4\" class=\"data row13 col4\" >0.928700</td>\n",
       "                        <td id=\"T_b3428_row13_col5\" class=\"data row13 col5\" >0.913500</td>\n",
       "                        <td id=\"T_b3428_row13_col6\" class=\"data row13 col6\" >0.707500</td>\n",
       "                        <td id=\"T_b3428_row13_col7\" class=\"data row13 col7\" >0.235900</td>\n",
       "                        <td id=\"T_b3428_row13_col8\" class=\"data row13 col8\" >0.029200</td>\n",
       "                        <td id=\"T_b3428_row13_col9\" class=\"data row13 col9\" >0.002400</td>\n",
       "                        <td id=\"T_b3428_row13_col10\" class=\"data row13 col10\" >0.001100</td>\n",
       "                        <td id=\"T_b3428_row13_col11\" class=\"data row13 col11\" >True</td>\n",
       "            </tr>\n",
       "            <tr>\n",
       "                        <th id=\"T_b3428_level0_row14\" class=\"row_heading level0 row14\" >14</th>\n",
       "                        <td id=\"T_b3428_row14_col0\" class=\"data row14 col0\" >0.924200</td>\n",
       "                        <td id=\"T_b3428_row14_col1\" class=\"data row14 col1\" >0.911800</td>\n",
       "                        <td id=\"T_b3428_row14_col2\" class=\"data row14 col2\" >0.924200</td>\n",
       "                        <td id=\"T_b3428_row14_col3\" class=\"data row14 col3\" >0.911800</td>\n",
       "                        <td id=\"T_b3428_row14_col4\" class=\"data row14 col4\" >0.924200</td>\n",
       "                        <td id=\"T_b3428_row14_col5\" class=\"data row14 col5\" >0.911800</td>\n",
       "                        <td id=\"T_b3428_row14_col6\" class=\"data row14 col6\" >0.741000</td>\n",
       "                        <td id=\"T_b3428_row14_col7\" class=\"data row14 col7\" >0.189400</td>\n",
       "                        <td id=\"T_b3428_row14_col8\" class=\"data row14 col8\" >0.011700</td>\n",
       "                        <td id=\"T_b3428_row14_col9\" class=\"data row14 col9\" >0.011100</td>\n",
       "                        <td id=\"T_b3428_row14_col10\" class=\"data row14 col10\" >0.021500</td>\n",
       "                        <td id=\"T_b3428_row14_col11\" class=\"data row14 col11\" >True</td>\n",
       "            </tr>\n",
       "            <tr>\n",
       "                        <th id=\"T_b3428_level0_row15\" class=\"row_heading level0 row15\" >15</th>\n",
       "                        <td id=\"T_b3428_row15_col0\" class=\"data row15 col0\" >0.927700</td>\n",
       "                        <td id=\"T_b3428_row15_col1\" class=\"data row15 col1\" >0.912300</td>\n",
       "                        <td id=\"T_b3428_row15_col2\" class=\"data row15 col2\" >0.421100</td>\n",
       "                        <td id=\"T_b3428_row15_col3\" class=\"data row15 col3\" >0.483800</td>\n",
       "                        <td id=\"T_b3428_row15_col4\" class=\"data row15 col4\" >0.811800</td>\n",
       "                        <td id=\"T_b3428_row15_col5\" class=\"data row15 col5\" >0.725700</td>\n",
       "                        <td id=\"T_b3428_row15_col6\" class=\"data row15 col6\" >0.714900</td>\n",
       "                        <td id=\"T_b3428_row15_col7\" class=\"data row15 col7\" >0.168400</td>\n",
       "                        <td id=\"T_b3428_row15_col8\" class=\"data row15 col8\" >0.207300</td>\n",
       "                        <td id=\"T_b3428_row15_col9\" class=\"data row15 col9\" >0.244000</td>\n",
       "                        <td id=\"T_b3428_row15_col10\" class=\"data row15 col10\" >0.702900</td>\n",
       "                        <td id=\"T_b3428_row15_col11\" class=\"data row15 col11\" >False</td>\n",
       "            </tr>\n",
       "            <tr>\n",
       "                        <th id=\"T_b3428_level0_row16\" class=\"row_heading level0 row16\" >16</th>\n",
       "                        <td id=\"T_b3428_row16_col0\" class=\"data row16 col0\" >0.923600</td>\n",
       "                        <td id=\"T_b3428_row16_col1\" class=\"data row16 col1\" >0.913000</td>\n",
       "                        <td id=\"T_b3428_row16_col2\" class=\"data row16 col2\" >0.368700</td>\n",
       "                        <td id=\"T_b3428_row16_col3\" class=\"data row16 col3\" >0.402800</td>\n",
       "                        <td id=\"T_b3428_row16_col4\" class=\"data row16 col4\" >0.811800</td>\n",
       "                        <td id=\"T_b3428_row16_col5\" class=\"data row16 col5\" >0.694600</td>\n",
       "                        <td id=\"T_b3428_row16_col6\" class=\"data row16 col6\" >0.751600</td>\n",
       "                        <td id=\"T_b3428_row16_col7\" class=\"data row16 col7\" >0.176100</td>\n",
       "                        <td id=\"T_b3428_row16_col8\" class=\"data row16 col8\" >0.255700</td>\n",
       "                        <td id=\"T_b3428_row16_col9\" class=\"data row16 col9\" >0.316500</td>\n",
       "                        <td id=\"T_b3428_row16_col10\" class=\"data row16 col10\" >0.695500</td>\n",
       "                        <td id=\"T_b3428_row16_col11\" class=\"data row16 col11\" >False</td>\n",
       "            </tr>\n",
       "            <tr>\n",
       "                        <th id=\"T_b3428_level0_row17\" class=\"row_heading level0 row17\" >17</th>\n",
       "                        <td id=\"T_b3428_row17_col0\" class=\"data row17 col0\" >0.926600</td>\n",
       "                        <td id=\"T_b3428_row17_col1\" class=\"data row17 col1\" >0.912000</td>\n",
       "                        <td id=\"T_b3428_row17_col2\" class=\"data row17 col2\" >0.397500</td>\n",
       "                        <td id=\"T_b3428_row17_col3\" class=\"data row17 col3\" >0.382800</td>\n",
       "                        <td id=\"T_b3428_row17_col4\" class=\"data row17 col4\" >0.747800</td>\n",
       "                        <td id=\"T_b3428_row17_col5\" class=\"data row17 col5\" >0.741800</td>\n",
       "                        <td id=\"T_b3428_row17_col6\" class=\"data row17 col6\" >0.751600</td>\n",
       "                        <td id=\"T_b3428_row17_col7\" class=\"data row17 col7\" >0.172500</td>\n",
       "                        <td id=\"T_b3428_row17_col8\" class=\"data row17 col8\" >0.244200</td>\n",
       "                        <td id=\"T_b3428_row17_col9\" class=\"data row17 col9\" >0.250800</td>\n",
       "                        <td id=\"T_b3428_row17_col10\" class=\"data row17 col10\" >0.688100</td>\n",
       "                        <td id=\"T_b3428_row17_col11\" class=\"data row17 col11\" >False</td>\n",
       "            </tr>\n",
       "            <tr>\n",
       "                        <th id=\"T_b3428_level0_row18\" class=\"row_heading level0 row18\" >18</th>\n",
       "                        <td id=\"T_b3428_row18_col0\" class=\"data row18 col0\" >0.922400</td>\n",
       "                        <td id=\"T_b3428_row18_col1\" class=\"data row18 col1\" >0.913400</td>\n",
       "                        <td id=\"T_b3428_row18_col2\" class=\"data row18 col2\" >0.476400</td>\n",
       "                        <td id=\"T_b3428_row18_col3\" class=\"data row18 col3\" >0.480100</td>\n",
       "                        <td id=\"T_b3428_row18_col4\" class=\"data row18 col4\" >0.791000</td>\n",
       "                        <td id=\"T_b3428_row18_col5\" class=\"data row18 col5\" >0.765600</td>\n",
       "                        <td id=\"T_b3428_row18_col6\" class=\"data row18 col6\" >0.716900</td>\n",
       "                        <td id=\"T_b3428_row18_col7\" class=\"data row18 col7\" >0.180700</td>\n",
       "                        <td id=\"T_b3428_row18_col8\" class=\"data row18 col8\" >0.252700</td>\n",
       "                        <td id=\"T_b3428_row18_col9\" class=\"data row18 col9\" >0.289300</td>\n",
       "                        <td id=\"T_b3428_row18_col10\" class=\"data row18 col10\" >0.657500</td>\n",
       "                        <td id=\"T_b3428_row18_col11\" class=\"data row18 col11\" >False</td>\n",
       "            </tr>\n",
       "            <tr>\n",
       "                        <th id=\"T_b3428_level0_row19\" class=\"row_heading level0 row19\" >19</th>\n",
       "                        <td id=\"T_b3428_row19_col0\" class=\"data row19 col0\" >0.930000</td>\n",
       "                        <td id=\"T_b3428_row19_col1\" class=\"data row19 col1\" >0.913400</td>\n",
       "                        <td id=\"T_b3428_row19_col2\" class=\"data row19 col2\" >0.406400</td>\n",
       "                        <td id=\"T_b3428_row19_col3\" class=\"data row19 col3\" >0.471700</td>\n",
       "                        <td id=\"T_b3428_row19_col4\" class=\"data row19 col4\" >0.819800</td>\n",
       "                        <td id=\"T_b3428_row19_col5\" class=\"data row19 col5\" >0.759700</td>\n",
       "                        <td id=\"T_b3428_row19_col6\" class=\"data row19 col6\" >0.761300</td>\n",
       "                        <td id=\"T_b3428_row19_col7\" class=\"data row19 col7\" >0.184000</td>\n",
       "                        <td id=\"T_b3428_row19_col8\" class=\"data row19 col8\" >0.217200</td>\n",
       "                        <td id=\"T_b3428_row19_col9\" class=\"data row19 col9\" >0.324200</td>\n",
       "                        <td id=\"T_b3428_row19_col10\" class=\"data row19 col10\" >0.683600</td>\n",
       "                        <td id=\"T_b3428_row19_col11\" class=\"data row19 col11\" >False</td>\n",
       "            </tr>\n",
       "    </tbody></table>"
      ],
      "text/plain": [
       "<pandas.io.formats.style.Styler at 0x7eff288e5810>"
      ]
     },
     "execution_count": 319,
     "metadata": {},
     "output_type": "execute_result"
    }
   ],
   "source": [
    "df[[c for c in df.columns if not 'rot' in c]].reset_index().rename(columns={'index': 'Task'}).set_index('Task').style.background_gradient(low=df.min().min(), high=df.max().max(), axis=1)"
   ]
  },
  {
   "cell_type": "code",
   "execution_count": 98,
   "metadata": {},
   "outputs": [
    {
     "data": {
      "text/html": [
       "<style  type=\"text/css\" >\n",
       "    #T_cd65e4b6_a616_11eb_b07c_8c8590bf39c4row0_col0 {\n",
       "            background-color:  #fff7fb;\n",
       "            color:  #000000;\n",
       "        }    #T_cd65e4b6_a616_11eb_b07c_8c8590bf39c4row0_col1 {\n",
       "            background-color:  #fff7fb;\n",
       "            color:  #000000;\n",
       "        }    #T_cd65e4b6_a616_11eb_b07c_8c8590bf39c4row0_col2 {\n",
       "            background-color:  #fff7fb;\n",
       "            color:  #000000;\n",
       "        }    #T_cd65e4b6_a616_11eb_b07c_8c8590bf39c4row1_col0 {\n",
       "            background-color:  #fff7fb;\n",
       "            color:  #000000;\n",
       "        }    #T_cd65e4b6_a616_11eb_b07c_8c8590bf39c4row1_col1 {\n",
       "            background-color:  #fff7fb;\n",
       "            color:  #000000;\n",
       "        }    #T_cd65e4b6_a616_11eb_b07c_8c8590bf39c4row1_col2 {\n",
       "            background-color:  #fff7fb;\n",
       "            color:  #000000;\n",
       "        }    #T_cd65e4b6_a616_11eb_b07c_8c8590bf39c4row2_col0 {\n",
       "            background-color:  #fff7fb;\n",
       "            color:  #000000;\n",
       "        }    #T_cd65e4b6_a616_11eb_b07c_8c8590bf39c4row2_col1 {\n",
       "            background-color:  #fff7fb;\n",
       "            color:  #000000;\n",
       "        }    #T_cd65e4b6_a616_11eb_b07c_8c8590bf39c4row2_col2 {\n",
       "            background-color:  #fff7fb;\n",
       "            color:  #000000;\n",
       "        }    #T_cd65e4b6_a616_11eb_b07c_8c8590bf39c4row3_col0 {\n",
       "            background-color:  #fff7fb;\n",
       "            color:  #000000;\n",
       "        }    #T_cd65e4b6_a616_11eb_b07c_8c8590bf39c4row3_col1 {\n",
       "            background-color:  #fff7fb;\n",
       "            color:  #000000;\n",
       "        }    #T_cd65e4b6_a616_11eb_b07c_8c8590bf39c4row3_col2 {\n",
       "            background-color:  #fff7fb;\n",
       "            color:  #000000;\n",
       "        }    #T_cd65e4b6_a616_11eb_b07c_8c8590bf39c4row4_col0 {\n",
       "            background-color:  #fff7fb;\n",
       "            color:  #000000;\n",
       "        }    #T_cd65e4b6_a616_11eb_b07c_8c8590bf39c4row4_col1 {\n",
       "            background-color:  #fff7fb;\n",
       "            color:  #000000;\n",
       "        }    #T_cd65e4b6_a616_11eb_b07c_8c8590bf39c4row4_col2 {\n",
       "            background-color:  #fff7fb;\n",
       "            color:  #000000;\n",
       "        }    #T_cd65e4b6_a616_11eb_b07c_8c8590bf39c4row5_col0 {\n",
       "            background-color:  #fff7fb;\n",
       "            color:  #000000;\n",
       "        }    #T_cd65e4b6_a616_11eb_b07c_8c8590bf39c4row5_col1 {\n",
       "            background-color:  #fff7fb;\n",
       "            color:  #000000;\n",
       "        }    #T_cd65e4b6_a616_11eb_b07c_8c8590bf39c4row5_col2 {\n",
       "            background-color:  #fff7fb;\n",
       "            color:  #000000;\n",
       "        }    #T_cd65e4b6_a616_11eb_b07c_8c8590bf39c4row6_col0 {\n",
       "            background-color:  #fff7fb;\n",
       "            color:  #000000;\n",
       "        }    #T_cd65e4b6_a616_11eb_b07c_8c8590bf39c4row6_col1 {\n",
       "            background-color:  #fff7fb;\n",
       "            color:  #000000;\n",
       "        }    #T_cd65e4b6_a616_11eb_b07c_8c8590bf39c4row6_col2 {\n",
       "            background-color:  #fff7fb;\n",
       "            color:  #000000;\n",
       "        }    #T_cd65e4b6_a616_11eb_b07c_8c8590bf39c4row7_col0 {\n",
       "            background-color:  #fff7fb;\n",
       "            color:  #000000;\n",
       "        }    #T_cd65e4b6_a616_11eb_b07c_8c8590bf39c4row7_col1 {\n",
       "            background-color:  #fff7fb;\n",
       "            color:  #000000;\n",
       "        }    #T_cd65e4b6_a616_11eb_b07c_8c8590bf39c4row7_col2 {\n",
       "            background-color:  #fff7fb;\n",
       "            color:  #000000;\n",
       "        }    #T_cd65e4b6_a616_11eb_b07c_8c8590bf39c4row8_col0 {\n",
       "            background-color:  #fff7fb;\n",
       "            color:  #000000;\n",
       "        }    #T_cd65e4b6_a616_11eb_b07c_8c8590bf39c4row8_col1 {\n",
       "            background-color:  #fff7fb;\n",
       "            color:  #000000;\n",
       "        }    #T_cd65e4b6_a616_11eb_b07c_8c8590bf39c4row8_col2 {\n",
       "            background-color:  #fff7fb;\n",
       "            color:  #000000;\n",
       "        }    #T_cd65e4b6_a616_11eb_b07c_8c8590bf39c4row9_col0 {\n",
       "            background-color:  #fff7fb;\n",
       "            color:  #000000;\n",
       "        }    #T_cd65e4b6_a616_11eb_b07c_8c8590bf39c4row9_col1 {\n",
       "            background-color:  #fff7fb;\n",
       "            color:  #000000;\n",
       "        }    #T_cd65e4b6_a616_11eb_b07c_8c8590bf39c4row9_col2 {\n",
       "            background-color:  #fff7fb;\n",
       "            color:  #000000;\n",
       "        }    #T_cd65e4b6_a616_11eb_b07c_8c8590bf39c4row10_col0 {\n",
       "            background-color:  #fff7fb;\n",
       "            color:  #000000;\n",
       "        }    #T_cd65e4b6_a616_11eb_b07c_8c8590bf39c4row10_col1 {\n",
       "            background-color:  #fff7fb;\n",
       "            color:  #000000;\n",
       "        }    #T_cd65e4b6_a616_11eb_b07c_8c8590bf39c4row10_col2 {\n",
       "            background-color:  #fff7fb;\n",
       "            color:  #000000;\n",
       "        }    #T_cd65e4b6_a616_11eb_b07c_8c8590bf39c4row11_col0 {\n",
       "            background-color:  #fff7fb;\n",
       "            color:  #000000;\n",
       "        }    #T_cd65e4b6_a616_11eb_b07c_8c8590bf39c4row11_col1 {\n",
       "            background-color:  #fff7fb;\n",
       "            color:  #000000;\n",
       "        }    #T_cd65e4b6_a616_11eb_b07c_8c8590bf39c4row11_col2 {\n",
       "            background-color:  #fff7fb;\n",
       "            color:  #000000;\n",
       "        }    #T_cd65e4b6_a616_11eb_b07c_8c8590bf39c4row12_col0 {\n",
       "            background-color:  #fff7fb;\n",
       "            color:  #000000;\n",
       "        }    #T_cd65e4b6_a616_11eb_b07c_8c8590bf39c4row12_col1 {\n",
       "            background-color:  #fff7fb;\n",
       "            color:  #000000;\n",
       "        }    #T_cd65e4b6_a616_11eb_b07c_8c8590bf39c4row12_col2 {\n",
       "            background-color:  #fff7fb;\n",
       "            color:  #000000;\n",
       "        }    #T_cd65e4b6_a616_11eb_b07c_8c8590bf39c4row13_col0 {\n",
       "            background-color:  #fff7fb;\n",
       "            color:  #000000;\n",
       "        }    #T_cd65e4b6_a616_11eb_b07c_8c8590bf39c4row13_col1 {\n",
       "            background-color:  #fff7fb;\n",
       "            color:  #000000;\n",
       "        }    #T_cd65e4b6_a616_11eb_b07c_8c8590bf39c4row13_col2 {\n",
       "            background-color:  #fff7fb;\n",
       "            color:  #000000;\n",
       "        }    #T_cd65e4b6_a616_11eb_b07c_8c8590bf39c4row14_col0 {\n",
       "            background-color:  #fff7fb;\n",
       "            color:  #000000;\n",
       "        }    #T_cd65e4b6_a616_11eb_b07c_8c8590bf39c4row14_col1 {\n",
       "            background-color:  #fff7fb;\n",
       "            color:  #000000;\n",
       "        }    #T_cd65e4b6_a616_11eb_b07c_8c8590bf39c4row14_col2 {\n",
       "            background-color:  #fff7fb;\n",
       "            color:  #000000;\n",
       "        }    #T_cd65e4b6_a616_11eb_b07c_8c8590bf39c4row15_col0 {\n",
       "            background-color:  #75a9cf;\n",
       "            color:  #000000;\n",
       "        }    #T_cd65e4b6_a616_11eb_b07c_8c8590bf39c4row15_col1 {\n",
       "            background-color:  #73a9cf;\n",
       "            color:  #000000;\n",
       "        }    #T_cd65e4b6_a616_11eb_b07c_8c8590bf39c4row15_col2 {\n",
       "            background-color:  #fff7fb;\n",
       "            color:  #000000;\n",
       "        }    #T_cd65e4b6_a616_11eb_b07c_8c8590bf39c4row16_col0 {\n",
       "            background-color:  #7bacd1;\n",
       "            color:  #000000;\n",
       "        }    #T_cd65e4b6_a616_11eb_b07c_8c8590bf39c4row16_col1 {\n",
       "            background-color:  #73a9cf;\n",
       "            color:  #000000;\n",
       "        }    #T_cd65e4b6_a616_11eb_b07c_8c8590bf39c4row16_col2 {\n",
       "            background-color:  #fff7fb;\n",
       "            color:  #000000;\n",
       "        }    #T_cd65e4b6_a616_11eb_b07c_8c8590bf39c4row17_col0 {\n",
       "            background-color:  #fff7fb;\n",
       "            color:  #000000;\n",
       "        }    #T_cd65e4b6_a616_11eb_b07c_8c8590bf39c4row17_col1 {\n",
       "            background-color:  #acc0dd;\n",
       "            color:  #000000;\n",
       "        }    #T_cd65e4b6_a616_11eb_b07c_8c8590bf39c4row17_col2 {\n",
       "            background-color:  #73a9cf;\n",
       "            color:  #000000;\n",
       "        }    #T_cd65e4b6_a616_11eb_b07c_8c8590bf39c4row18_col0 {\n",
       "            background-color:  #73a9cf;\n",
       "            color:  #000000;\n",
       "        }    #T_cd65e4b6_a616_11eb_b07c_8c8590bf39c4row18_col1 {\n",
       "            background-color:  #d1d2e6;\n",
       "            color:  #000000;\n",
       "        }    #T_cd65e4b6_a616_11eb_b07c_8c8590bf39c4row18_col2 {\n",
       "            background-color:  #fff7fb;\n",
       "            color:  #000000;\n",
       "        }    #T_cd65e4b6_a616_11eb_b07c_8c8590bf39c4row19_col0 {\n",
       "            background-color:  #fff7fb;\n",
       "            color:  #000000;\n",
       "        }    #T_cd65e4b6_a616_11eb_b07c_8c8590bf39c4row19_col1 {\n",
       "            background-color:  #73a9cf;\n",
       "            color:  #000000;\n",
       "        }    #T_cd65e4b6_a616_11eb_b07c_8c8590bf39c4row19_col2 {\n",
       "            background-color:  #86b0d3;\n",
       "            color:  #000000;\n",
       "        }</style><table id=\"T_cd65e4b6_a616_11eb_b07c_8c8590bf39c4\" ><thead>    <tr>        <th class=\"blank level0\" ></th>        <th class=\"col_heading level0 col0\" >supsup_mnist_rot</th>        <th class=\"col_heading level0 col1\" >basis_mnist_rot</th>        <th class=\"col_heading level0 col2\" >basis_hybrid_mnist_rot</th>        <th class=\"col_heading level0 col3\" >Seen</th>    </tr>    <tr>        <th class=\"index_name level0\" >Task</th>        <th class=\"blank\" ></th>        <th class=\"blank\" ></th>        <th class=\"blank\" ></th>        <th class=\"blank\" ></th>    </tr></thead><tbody>\n",
       "                <tr>\n",
       "                        <th id=\"T_cd65e4b6_a616_11eb_b07c_8c8590bf39c4level0_row0\" class=\"row_heading level0 row0\" >0</th>\n",
       "                        <td id=\"T_cd65e4b6_a616_11eb_b07c_8c8590bf39c4row0_col0\" class=\"data row0 col0\" >0.776300</td>\n",
       "                        <td id=\"T_cd65e4b6_a616_11eb_b07c_8c8590bf39c4row0_col1\" class=\"data row0 col1\" >0.776300</td>\n",
       "                        <td id=\"T_cd65e4b6_a616_11eb_b07c_8c8590bf39c4row0_col2\" class=\"data row0 col2\" >0.776300</td>\n",
       "                        <td id=\"T_cd65e4b6_a616_11eb_b07c_8c8590bf39c4row0_col3\" class=\"data row0 col3\" >True</td>\n",
       "            </tr>\n",
       "            <tr>\n",
       "                        <th id=\"T_cd65e4b6_a616_11eb_b07c_8c8590bf39c4level0_row1\" class=\"row_heading level0 row1\" >1</th>\n",
       "                        <td id=\"T_cd65e4b6_a616_11eb_b07c_8c8590bf39c4row1_col0\" class=\"data row1 col0\" >0.779800</td>\n",
       "                        <td id=\"T_cd65e4b6_a616_11eb_b07c_8c8590bf39c4row1_col1\" class=\"data row1 col1\" >0.779800</td>\n",
       "                        <td id=\"T_cd65e4b6_a616_11eb_b07c_8c8590bf39c4row1_col2\" class=\"data row1 col2\" >0.779800</td>\n",
       "                        <td id=\"T_cd65e4b6_a616_11eb_b07c_8c8590bf39c4row1_col3\" class=\"data row1 col3\" >True</td>\n",
       "            </tr>\n",
       "            <tr>\n",
       "                        <th id=\"T_cd65e4b6_a616_11eb_b07c_8c8590bf39c4level0_row2\" class=\"row_heading level0 row2\" >2</th>\n",
       "                        <td id=\"T_cd65e4b6_a616_11eb_b07c_8c8590bf39c4row2_col0\" class=\"data row2 col0\" >0.783900</td>\n",
       "                        <td id=\"T_cd65e4b6_a616_11eb_b07c_8c8590bf39c4row2_col1\" class=\"data row2 col1\" >0.783900</td>\n",
       "                        <td id=\"T_cd65e4b6_a616_11eb_b07c_8c8590bf39c4row2_col2\" class=\"data row2 col2\" >0.783900</td>\n",
       "                        <td id=\"T_cd65e4b6_a616_11eb_b07c_8c8590bf39c4row2_col3\" class=\"data row2 col3\" >True</td>\n",
       "            </tr>\n",
       "            <tr>\n",
       "                        <th id=\"T_cd65e4b6_a616_11eb_b07c_8c8590bf39c4level0_row3\" class=\"row_heading level0 row3\" >3</th>\n",
       "                        <td id=\"T_cd65e4b6_a616_11eb_b07c_8c8590bf39c4row3_col0\" class=\"data row3 col0\" >0.771300</td>\n",
       "                        <td id=\"T_cd65e4b6_a616_11eb_b07c_8c8590bf39c4row3_col1\" class=\"data row3 col1\" >0.771300</td>\n",
       "                        <td id=\"T_cd65e4b6_a616_11eb_b07c_8c8590bf39c4row3_col2\" class=\"data row3 col2\" >0.771300</td>\n",
       "                        <td id=\"T_cd65e4b6_a616_11eb_b07c_8c8590bf39c4row3_col3\" class=\"data row3 col3\" >True</td>\n",
       "            </tr>\n",
       "            <tr>\n",
       "                        <th id=\"T_cd65e4b6_a616_11eb_b07c_8c8590bf39c4level0_row4\" class=\"row_heading level0 row4\" >4</th>\n",
       "                        <td id=\"T_cd65e4b6_a616_11eb_b07c_8c8590bf39c4row4_col0\" class=\"data row4 col0\" >0.762600</td>\n",
       "                        <td id=\"T_cd65e4b6_a616_11eb_b07c_8c8590bf39c4row4_col1\" class=\"data row4 col1\" >0.762600</td>\n",
       "                        <td id=\"T_cd65e4b6_a616_11eb_b07c_8c8590bf39c4row4_col2\" class=\"data row4 col2\" >0.762600</td>\n",
       "                        <td id=\"T_cd65e4b6_a616_11eb_b07c_8c8590bf39c4row4_col3\" class=\"data row4 col3\" >True</td>\n",
       "            </tr>\n",
       "            <tr>\n",
       "                        <th id=\"T_cd65e4b6_a616_11eb_b07c_8c8590bf39c4level0_row5\" class=\"row_heading level0 row5\" >5</th>\n",
       "                        <td id=\"T_cd65e4b6_a616_11eb_b07c_8c8590bf39c4row5_col0\" class=\"data row5 col0\" >0.772700</td>\n",
       "                        <td id=\"T_cd65e4b6_a616_11eb_b07c_8c8590bf39c4row5_col1\" class=\"data row5 col1\" >0.772700</td>\n",
       "                        <td id=\"T_cd65e4b6_a616_11eb_b07c_8c8590bf39c4row5_col2\" class=\"data row5 col2\" >0.772700</td>\n",
       "                        <td id=\"T_cd65e4b6_a616_11eb_b07c_8c8590bf39c4row5_col3\" class=\"data row5 col3\" >True</td>\n",
       "            </tr>\n",
       "            <tr>\n",
       "                        <th id=\"T_cd65e4b6_a616_11eb_b07c_8c8590bf39c4level0_row6\" class=\"row_heading level0 row6\" >6</th>\n",
       "                        <td id=\"T_cd65e4b6_a616_11eb_b07c_8c8590bf39c4row6_col0\" class=\"data row6 col0\" >0.782200</td>\n",
       "                        <td id=\"T_cd65e4b6_a616_11eb_b07c_8c8590bf39c4row6_col1\" class=\"data row6 col1\" >0.782200</td>\n",
       "                        <td id=\"T_cd65e4b6_a616_11eb_b07c_8c8590bf39c4row6_col2\" class=\"data row6 col2\" >0.782200</td>\n",
       "                        <td id=\"T_cd65e4b6_a616_11eb_b07c_8c8590bf39c4row6_col3\" class=\"data row6 col3\" >True</td>\n",
       "            </tr>\n",
       "            <tr>\n",
       "                        <th id=\"T_cd65e4b6_a616_11eb_b07c_8c8590bf39c4level0_row7\" class=\"row_heading level0 row7\" >7</th>\n",
       "                        <td id=\"T_cd65e4b6_a616_11eb_b07c_8c8590bf39c4row7_col0\" class=\"data row7 col0\" >0.775200</td>\n",
       "                        <td id=\"T_cd65e4b6_a616_11eb_b07c_8c8590bf39c4row7_col1\" class=\"data row7 col1\" >0.775200</td>\n",
       "                        <td id=\"T_cd65e4b6_a616_11eb_b07c_8c8590bf39c4row7_col2\" class=\"data row7 col2\" >0.775200</td>\n",
       "                        <td id=\"T_cd65e4b6_a616_11eb_b07c_8c8590bf39c4row7_col3\" class=\"data row7 col3\" >True</td>\n",
       "            </tr>\n",
       "            <tr>\n",
       "                        <th id=\"T_cd65e4b6_a616_11eb_b07c_8c8590bf39c4level0_row8\" class=\"row_heading level0 row8\" >8</th>\n",
       "                        <td id=\"T_cd65e4b6_a616_11eb_b07c_8c8590bf39c4row8_col0\" class=\"data row8 col0\" >0.785200</td>\n",
       "                        <td id=\"T_cd65e4b6_a616_11eb_b07c_8c8590bf39c4row8_col1\" class=\"data row8 col1\" >0.785200</td>\n",
       "                        <td id=\"T_cd65e4b6_a616_11eb_b07c_8c8590bf39c4row8_col2\" class=\"data row8 col2\" >0.785200</td>\n",
       "                        <td id=\"T_cd65e4b6_a616_11eb_b07c_8c8590bf39c4row8_col3\" class=\"data row8 col3\" >True</td>\n",
       "            </tr>\n",
       "            <tr>\n",
       "                        <th id=\"T_cd65e4b6_a616_11eb_b07c_8c8590bf39c4level0_row9\" class=\"row_heading level0 row9\" >9</th>\n",
       "                        <td id=\"T_cd65e4b6_a616_11eb_b07c_8c8590bf39c4row9_col0\" class=\"data row9 col0\" >0.781300</td>\n",
       "                        <td id=\"T_cd65e4b6_a616_11eb_b07c_8c8590bf39c4row9_col1\" class=\"data row9 col1\" >0.781300</td>\n",
       "                        <td id=\"T_cd65e4b6_a616_11eb_b07c_8c8590bf39c4row9_col2\" class=\"data row9 col2\" >0.781300</td>\n",
       "                        <td id=\"T_cd65e4b6_a616_11eb_b07c_8c8590bf39c4row9_col3\" class=\"data row9 col3\" >True</td>\n",
       "            </tr>\n",
       "            <tr>\n",
       "                        <th id=\"T_cd65e4b6_a616_11eb_b07c_8c8590bf39c4level0_row10\" class=\"row_heading level0 row10\" >10</th>\n",
       "                        <td id=\"T_cd65e4b6_a616_11eb_b07c_8c8590bf39c4row10_col0\" class=\"data row10 col0\" >0.778700</td>\n",
       "                        <td id=\"T_cd65e4b6_a616_11eb_b07c_8c8590bf39c4row10_col1\" class=\"data row10 col1\" >0.778700</td>\n",
       "                        <td id=\"T_cd65e4b6_a616_11eb_b07c_8c8590bf39c4row10_col2\" class=\"data row10 col2\" >0.778700</td>\n",
       "                        <td id=\"T_cd65e4b6_a616_11eb_b07c_8c8590bf39c4row10_col3\" class=\"data row10 col3\" >True</td>\n",
       "            </tr>\n",
       "            <tr>\n",
       "                        <th id=\"T_cd65e4b6_a616_11eb_b07c_8c8590bf39c4level0_row11\" class=\"row_heading level0 row11\" >11</th>\n",
       "                        <td id=\"T_cd65e4b6_a616_11eb_b07c_8c8590bf39c4row11_col0\" class=\"data row11 col0\" >0.770900</td>\n",
       "                        <td id=\"T_cd65e4b6_a616_11eb_b07c_8c8590bf39c4row11_col1\" class=\"data row11 col1\" >0.770900</td>\n",
       "                        <td id=\"T_cd65e4b6_a616_11eb_b07c_8c8590bf39c4row11_col2\" class=\"data row11 col2\" >0.770900</td>\n",
       "                        <td id=\"T_cd65e4b6_a616_11eb_b07c_8c8590bf39c4row11_col3\" class=\"data row11 col3\" >True</td>\n",
       "            </tr>\n",
       "            <tr>\n",
       "                        <th id=\"T_cd65e4b6_a616_11eb_b07c_8c8590bf39c4level0_row12\" class=\"row_heading level0 row12\" >12</th>\n",
       "                        <td id=\"T_cd65e4b6_a616_11eb_b07c_8c8590bf39c4row12_col0\" class=\"data row12 col0\" >0.781500</td>\n",
       "                        <td id=\"T_cd65e4b6_a616_11eb_b07c_8c8590bf39c4row12_col1\" class=\"data row12 col1\" >0.781500</td>\n",
       "                        <td id=\"T_cd65e4b6_a616_11eb_b07c_8c8590bf39c4row12_col2\" class=\"data row12 col2\" >0.781500</td>\n",
       "                        <td id=\"T_cd65e4b6_a616_11eb_b07c_8c8590bf39c4row12_col3\" class=\"data row12 col3\" >True</td>\n",
       "            </tr>\n",
       "            <tr>\n",
       "                        <th id=\"T_cd65e4b6_a616_11eb_b07c_8c8590bf39c4level0_row13\" class=\"row_heading level0 row13\" >13</th>\n",
       "                        <td id=\"T_cd65e4b6_a616_11eb_b07c_8c8590bf39c4row13_col0\" class=\"data row13 col0\" >0.781900</td>\n",
       "                        <td id=\"T_cd65e4b6_a616_11eb_b07c_8c8590bf39c4row13_col1\" class=\"data row13 col1\" >0.781900</td>\n",
       "                        <td id=\"T_cd65e4b6_a616_11eb_b07c_8c8590bf39c4row13_col2\" class=\"data row13 col2\" >0.781900</td>\n",
       "                        <td id=\"T_cd65e4b6_a616_11eb_b07c_8c8590bf39c4row13_col3\" class=\"data row13 col3\" >True</td>\n",
       "            </tr>\n",
       "            <tr>\n",
       "                        <th id=\"T_cd65e4b6_a616_11eb_b07c_8c8590bf39c4level0_row14\" class=\"row_heading level0 row14\" >14</th>\n",
       "                        <td id=\"T_cd65e4b6_a616_11eb_b07c_8c8590bf39c4row14_col0\" class=\"data row14 col0\" >0.770200</td>\n",
       "                        <td id=\"T_cd65e4b6_a616_11eb_b07c_8c8590bf39c4row14_col1\" class=\"data row14 col1\" >0.770200</td>\n",
       "                        <td id=\"T_cd65e4b6_a616_11eb_b07c_8c8590bf39c4row14_col2\" class=\"data row14 col2\" >0.770200</td>\n",
       "                        <td id=\"T_cd65e4b6_a616_11eb_b07c_8c8590bf39c4row14_col3\" class=\"data row14 col3\" >True</td>\n",
       "            </tr>\n",
       "            <tr>\n",
       "                        <th id=\"T_cd65e4b6_a616_11eb_b07c_8c8590bf39c4level0_row15\" class=\"row_heading level0 row15\" >15</th>\n",
       "                        <td id=\"T_cd65e4b6_a616_11eb_b07c_8c8590bf39c4row15_col0\" class=\"data row15 col0\" >0.784500</td>\n",
       "                        <td id=\"T_cd65e4b6_a616_11eb_b07c_8c8590bf39c4row15_col1\" class=\"data row15 col1\" >0.785000</td>\n",
       "                        <td id=\"T_cd65e4b6_a616_11eb_b07c_8c8590bf39c4row15_col2\" class=\"data row15 col2\" >0.713700</td>\n",
       "                        <td id=\"T_cd65e4b6_a616_11eb_b07c_8c8590bf39c4row15_col3\" class=\"data row15 col3\" >False</td>\n",
       "            </tr>\n",
       "            <tr>\n",
       "                        <th id=\"T_cd65e4b6_a616_11eb_b07c_8c8590bf39c4level0_row16\" class=\"row_heading level0 row16\" >16</th>\n",
       "                        <td id=\"T_cd65e4b6_a616_11eb_b07c_8c8590bf39c4row16_col0\" class=\"data row16 col0\" >0.783600</td>\n",
       "                        <td id=\"T_cd65e4b6_a616_11eb_b07c_8c8590bf39c4row16_col1\" class=\"data row16 col1\" >0.789100</td>\n",
       "                        <td id=\"T_cd65e4b6_a616_11eb_b07c_8c8590bf39c4row16_col2\" class=\"data row16 col2\" >0.617800</td>\n",
       "                        <td id=\"T_cd65e4b6_a616_11eb_b07c_8c8590bf39c4row16_col3\" class=\"data row16 col3\" >False</td>\n",
       "            </tr>\n",
       "            <tr>\n",
       "                        <th id=\"T_cd65e4b6_a616_11eb_b07c_8c8590bf39c4level0_row17\" class=\"row_heading level0 row17\" >17</th>\n",
       "                        <td id=\"T_cd65e4b6_a616_11eb_b07c_8c8590bf39c4row17_col0\" class=\"data row17 col0\" >0.770800</td>\n",
       "                        <td id=\"T_cd65e4b6_a616_11eb_b07c_8c8590bf39c4row17_col1\" class=\"data row17 col1\" >0.784000</td>\n",
       "                        <td id=\"T_cd65e4b6_a616_11eb_b07c_8c8590bf39c4row17_col2\" class=\"data row17 col2\" >0.789300</td>\n",
       "                        <td id=\"T_cd65e4b6_a616_11eb_b07c_8c8590bf39c4row17_col3\" class=\"data row17 col3\" >False</td>\n",
       "            </tr>\n",
       "            <tr>\n",
       "                        <th id=\"T_cd65e4b6_a616_11eb_b07c_8c8590bf39c4level0_row18\" class=\"row_heading level0 row18\" >18</th>\n",
       "                        <td id=\"T_cd65e4b6_a616_11eb_b07c_8c8590bf39c4row18_col0\" class=\"data row18 col0\" >0.783900</td>\n",
       "                        <td id=\"T_cd65e4b6_a616_11eb_b07c_8c8590bf39c4row18_col1\" class=\"data row18 col1\" >0.779700</td>\n",
       "                        <td id=\"T_cd65e4b6_a616_11eb_b07c_8c8590bf39c4row18_col2\" class=\"data row18 col2\" >0.775500</td>\n",
       "                        <td id=\"T_cd65e4b6_a616_11eb_b07c_8c8590bf39c4row18_col3\" class=\"data row18 col3\" >False</td>\n",
       "            </tr>\n",
       "            <tr>\n",
       "                        <th id=\"T_cd65e4b6_a616_11eb_b07c_8c8590bf39c4level0_row19\" class=\"row_heading level0 row19\" >19</th>\n",
       "                        <td id=\"T_cd65e4b6_a616_11eb_b07c_8c8590bf39c4row19_col0\" class=\"data row19 col0\" >0.772800</td>\n",
       "                        <td id=\"T_cd65e4b6_a616_11eb_b07c_8c8590bf39c4row19_col1\" class=\"data row19 col1\" >0.782600</td>\n",
       "                        <td id=\"T_cd65e4b6_a616_11eb_b07c_8c8590bf39c4row19_col2\" class=\"data row19 col2\" >0.781700</td>\n",
       "                        <td id=\"T_cd65e4b6_a616_11eb_b07c_8c8590bf39c4row19_col3\" class=\"data row19 col3\" >False</td>\n",
       "            </tr>\n",
       "    </tbody></table>"
      ],
      "text/plain": [
       "<pandas.io.formats.style.Styler at 0x7fd1111a15d0>"
      ]
     },
     "execution_count": 98,
     "metadata": {},
     "output_type": "execute_result"
    }
   ],
   "source": [
    "df[[c for c in df.columns if 'rot' in c] + ['Seen']].reset_index().rename(columns={'index': 'Task'}).set_index('Task').style.background_gradient(low=df.min().min(), high=df.max().max(), axis=1)"
   ]
  },
  {
   "cell_type": "code",
   "execution_count": null,
   "metadata": {},
   "outputs": [],
   "source": []
  },
  {
   "cell_type": "code",
   "execution_count": null,
   "metadata": {},
   "outputs": [],
   "source": []
  },
  {
   "cell_type": "markdown",
   "metadata": {},
   "source": [
    "### Model Initialization (Cross task analysts, retraining last layer) -- Using mask from task 1"
   ]
  },
  {
   "cell_type": "code",
   "execution_count": 133,
   "metadata": {},
   "outputs": [],
   "source": [
    "num_tasks = 20 # For demonstration purposes, we go up to 2500 in our paper\n",
    "num_seed_tasks_learned = 15\n",
    "basis_model_hidf = BasisHiddenOnlyFrozenMultitaskFC(hidden_size=300,\n",
    "                            num_tasks=num_tasks, num_seed_tasks_learned=num_seed_tasks_learned, start_at_optimal=True)"
   ]
  },
  {
   "cell_type": "code",
   "execution_count": 134,
   "metadata": {},
   "outputs": [],
   "source": [
    "custom_state_dict = basis_model_hidf.state_dict().copy()\n",
    "custom_state_dict.update({k:v for k,v in model.state_dict().items() if k in custom_state_dict.keys()})"
   ]
  },
  {
   "cell_type": "code",
   "execution_count": 135,
   "metadata": {},
   "outputs": [],
   "source": [
    "for k in custom_state_dict.keys():\n",
    "    if k.startswith('model.0.scores.'):\n",
    "        custom_state_dict[k] = model.state_dict()['model.0.scores.1']\n",
    "    elif k.startswith('model.2.scores.'):\n",
    "        custom_state_dict[k] = model.state_dict()['model.2.scores.1']\n",
    "    elif k.startswith('model.0.basis_alphas.'):\n",
    "        custom_state_dict[k] = custom_state_dict['model.0.basis_alphas.1'] \n",
    "    elif k.startswith('model.2.basis_alphas.'):\n",
    "        custom_state_dict[k] = custom_state_dict['model.2.basis_alphas.1']"
   ]
  },
  {
   "cell_type": "code",
   "execution_count": 137,
   "metadata": {},
   "outputs": [
    {
     "name": "stdout",
     "output_type": "stream",
     "text": [
      "=> Caching mask state for model.0\n",
      "=> Caching mask state for model.2\n",
      "=> Caching mask state for model.4\n"
     ]
    }
   ],
   "source": [
    "basis_model_hidf.load_state_dict(custom_state_dict, False)\n",
    "cache_masks(basis_model_hidf)"
   ]
  },
  {
   "cell_type": "code",
   "execution_count": 138,
   "metadata": {
    "scrolled": true
   },
   "outputs": [
    {
     "name": "stdout",
     "output_type": "stream",
     "text": [
      "Training for task 0\n",
      "=> Set task of model.0 to 0\n",
      "=> Set task of model.2 to 0\n",
      "=> Set task of model.4 to 0\n"
     ]
    },
    {
     "data": {
      "application/vnd.jupyter.widget-view+json": {
       "model_id": "",
       "version_major": 2,
       "version_minor": 0
      },
      "text/plain": [
       "  0%|          | 0/469 [00:00<?, ?it/s]"
      ]
     },
     "metadata": {},
     "output_type": "display_data"
    },
    {
     "name": "stdout",
     "output_type": "stream",
     "text": [
      "Validation => Loss 1.3659, Acc@1 0.6859\n",
      "============\n"
     ]
    },
    {
     "data": {
      "application/vnd.jupyter.widget-view+json": {
       "model_id": "",
       "version_major": 2,
       "version_minor": 0
      },
      "text/plain": [
       "  0%|          | 0/79 [00:00<?, ?it/s]"
      ]
     },
     "metadata": {},
     "output_type": "display_data"
    },
    {
     "name": "stdout",
     "output_type": "stream",
     "text": [
      "Val Perf after 1 epochs Acc@1 0.7279\n",
      "=> Caching mask state for model.0\n",
      "=> Caching mask state for model.2\n",
      "=> Caching mask state for model.4\n",
      "\n",
      "=> Setting learned tasks of model.0 to 1\n",
      "=> Setting learned tasks of model.2 to 1\n",
      "=> Setting learned tasks of model.4 to 1\n",
      "\n",
      "Training for task 1\n",
      "=> Set task of model.0 to 1\n",
      "=> Set task of model.2 to 1\n",
      "=> Set task of model.4 to 1\n"
     ]
    },
    {
     "data": {
      "application/vnd.jupyter.widget-view+json": {
       "model_id": "",
       "version_major": 2,
       "version_minor": 0
      },
      "text/plain": [
       "  0%|          | 0/469 [00:00<?, ?it/s]"
      ]
     },
     "metadata": {},
     "output_type": "display_data"
    },
    {
     "name": "stdout",
     "output_type": "stream",
     "text": [
      "Validation => Loss 0.3937, Acc@1 0.9176\n",
      "============\n"
     ]
    },
    {
     "data": {
      "application/vnd.jupyter.widget-view+json": {
       "model_id": "",
       "version_major": 2,
       "version_minor": 0
      },
      "text/plain": [
       "  0%|          | 0/79 [00:00<?, ?it/s]"
      ]
     },
     "metadata": {},
     "output_type": "display_data"
    },
    {
     "name": "stdout",
     "output_type": "stream",
     "text": [
      "Val Perf after 1 epochs Acc@1 0.9232\n",
      "=> Caching mask state for model.0\n",
      "=> Caching mask state for model.2\n",
      "=> Caching mask state for model.4\n",
      "\n",
      "=> Setting learned tasks of model.0 to 2\n",
      "=> Setting learned tasks of model.2 to 2\n",
      "=> Setting learned tasks of model.4 to 2\n",
      "\n",
      "Training for task 2\n",
      "=> Set task of model.0 to 2\n",
      "=> Set task of model.2 to 2\n",
      "=> Set task of model.4 to 2\n"
     ]
    },
    {
     "data": {
      "application/vnd.jupyter.widget-view+json": {
       "model_id": "",
       "version_major": 2,
       "version_minor": 0
      },
      "text/plain": [
       "  0%|          | 0/469 [00:00<?, ?it/s]"
      ]
     },
     "metadata": {},
     "output_type": "display_data"
    },
    {
     "name": "stdout",
     "output_type": "stream",
     "text": [
      "Validation => Loss 1.3747, Acc@1 0.6618\n",
      "============\n"
     ]
    },
    {
     "data": {
      "application/vnd.jupyter.widget-view+json": {
       "model_id": "",
       "version_major": 2,
       "version_minor": 0
      },
      "text/plain": [
       "  0%|          | 0/79 [00:00<?, ?it/s]"
      ]
     },
     "metadata": {},
     "output_type": "display_data"
    },
    {
     "name": "stdout",
     "output_type": "stream",
     "text": [
      "Val Perf after 1 epochs Acc@1 0.7354\n",
      "=> Caching mask state for model.0\n",
      "=> Caching mask state for model.2\n",
      "=> Caching mask state for model.4\n",
      "\n",
      "=> Setting learned tasks of model.0 to 3\n",
      "=> Setting learned tasks of model.2 to 3\n",
      "=> Setting learned tasks of model.4 to 3\n",
      "\n",
      "Training for task 3\n",
      "=> Set task of model.0 to 3\n",
      "=> Set task of model.2 to 3\n",
      "=> Set task of model.4 to 3\n"
     ]
    },
    {
     "data": {
      "application/vnd.jupyter.widget-view+json": {
       "model_id": "",
       "version_major": 2,
       "version_minor": 0
      },
      "text/plain": [
       "  0%|          | 0/469 [00:00<?, ?it/s]"
      ]
     },
     "metadata": {},
     "output_type": "display_data"
    },
    {
     "name": "stdout",
     "output_type": "stream",
     "text": [
      "Validation => Loss 1.4363, Acc@1 0.6738\n",
      "============\n"
     ]
    },
    {
     "data": {
      "application/vnd.jupyter.widget-view+json": {
       "model_id": "41e58b77cd614695b10265bcb7c4f464",
       "version_major": 2,
       "version_minor": 0
      },
      "text/plain": [
       "  0%|          | 0/79 [00:00<?, ?it/s]"
      ]
     },
     "metadata": {},
     "output_type": "display_data"
    },
    {
     "name": "stdout",
     "output_type": "stream",
     "text": [
      "Val Perf after 1 epochs Acc@1 0.7157\n",
      "=> Caching mask state for model.0\n",
      "=> Caching mask state for model.2\n",
      "=> Caching mask state for model.4\n",
      "\n",
      "=> Setting learned tasks of model.0 to 4\n",
      "=> Setting learned tasks of model.2 to 4\n",
      "=> Setting learned tasks of model.4 to 4\n",
      "\n",
      "Training for task 4\n",
      "=> Set task of model.0 to 4\n",
      "=> Set task of model.2 to 4\n",
      "=> Set task of model.4 to 4\n"
     ]
    },
    {
     "data": {
      "application/vnd.jupyter.widget-view+json": {
       "model_id": "354ca2fb1e02485b8976cf8b36d50b67",
       "version_major": 2,
       "version_minor": 0
      },
      "text/plain": [
       "  0%|          | 0/469 [00:00<?, ?it/s]"
      ]
     },
     "metadata": {},
     "output_type": "display_data"
    },
    {
     "name": "stdout",
     "output_type": "stream",
     "text": [
      "Validation => Loss 1.1674, Acc@1 0.6934\n",
      "============\n"
     ]
    },
    {
     "data": {
      "application/vnd.jupyter.widget-view+json": {
       "model_id": "f0c548195de24e04b8f7578010d7207c",
       "version_major": 2,
       "version_minor": 0
      },
      "text/plain": [
       "  0%|          | 0/79 [00:00<?, ?it/s]"
      ]
     },
     "metadata": {},
     "output_type": "display_data"
    },
    {
     "name": "stdout",
     "output_type": "stream",
     "text": [
      "Val Perf after 1 epochs Acc@1 0.7471\n",
      "=> Caching mask state for model.0\n",
      "=> Caching mask state for model.2\n",
      "=> Caching mask state for model.4\n",
      "\n",
      "=> Setting learned tasks of model.0 to 5\n",
      "=> Setting learned tasks of model.2 to 5\n",
      "=> Setting learned tasks of model.4 to 5\n",
      "\n",
      "Training for task 5\n",
      "=> Set task of model.0 to 5\n",
      "=> Set task of model.2 to 5\n",
      "=> Set task of model.4 to 5\n"
     ]
    },
    {
     "data": {
      "application/vnd.jupyter.widget-view+json": {
       "model_id": "c91895b5db4c4a3081e8d3c7b8142334",
       "version_major": 2,
       "version_minor": 0
      },
      "text/plain": [
       "  0%|          | 0/469 [00:00<?, ?it/s]"
      ]
     },
     "metadata": {},
     "output_type": "display_data"
    },
    {
     "name": "stdout",
     "output_type": "stream",
     "text": [
      "Validation => Loss 1.3776, Acc@1 0.6852\n",
      "============\n"
     ]
    },
    {
     "data": {
      "application/vnd.jupyter.widget-view+json": {
       "model_id": "6f06b8e08e1c482987c2f577951d07a3",
       "version_major": 2,
       "version_minor": 0
      },
      "text/plain": [
       "  0%|          | 0/79 [00:00<?, ?it/s]"
      ]
     },
     "metadata": {},
     "output_type": "display_data"
    },
    {
     "name": "stdout",
     "output_type": "stream",
     "text": [
      "Val Perf after 1 epochs Acc@1 0.7200\n",
      "=> Caching mask state for model.0\n",
      "=> Caching mask state for model.2\n",
      "=> Caching mask state for model.4\n",
      "\n",
      "=> Setting learned tasks of model.0 to 6\n",
      "=> Setting learned tasks of model.2 to 6\n",
      "=> Setting learned tasks of model.4 to 6\n",
      "\n",
      "Training for task 6\n",
      "=> Set task of model.0 to 6\n",
      "=> Set task of model.2 to 6\n",
      "=> Set task of model.4 to 6\n"
     ]
    },
    {
     "data": {
      "application/vnd.jupyter.widget-view+json": {
       "model_id": "87e3bfed2aa8462b82086a198fe3f359",
       "version_major": 2,
       "version_minor": 0
      },
      "text/plain": [
       "  0%|          | 0/469 [00:00<?, ?it/s]"
      ]
     },
     "metadata": {},
     "output_type": "display_data"
    },
    {
     "name": "stdout",
     "output_type": "stream",
     "text": [
      "Validation => Loss 1.3697, Acc@1 0.7106\n",
      "============\n"
     ]
    },
    {
     "data": {
      "application/vnd.jupyter.widget-view+json": {
       "model_id": "c48e4b1da59e4c42a3d10e87d1b5cafd",
       "version_major": 2,
       "version_minor": 0
      },
      "text/plain": [
       "  0%|          | 0/79 [00:00<?, ?it/s]"
      ]
     },
     "metadata": {},
     "output_type": "display_data"
    },
    {
     "name": "stdout",
     "output_type": "stream",
     "text": [
      "Val Perf after 1 epochs Acc@1 0.7543\n",
      "=> Caching mask state for model.0\n",
      "=> Caching mask state for model.2\n",
      "=> Caching mask state for model.4\n",
      "\n",
      "=> Setting learned tasks of model.0 to 7\n",
      "=> Setting learned tasks of model.2 to 7\n",
      "=> Setting learned tasks of model.4 to 7\n",
      "\n",
      "Training for task 7\n",
      "=> Set task of model.0 to 7\n",
      "=> Set task of model.2 to 7\n",
      "=> Set task of model.4 to 7\n"
     ]
    },
    {
     "data": {
      "application/vnd.jupyter.widget-view+json": {
       "model_id": "4fbe175e6e2a466d8497d3269d31e32f",
       "version_major": 2,
       "version_minor": 0
      },
      "text/plain": [
       "  0%|          | 0/469 [00:00<?, ?it/s]"
      ]
     },
     "metadata": {},
     "output_type": "display_data"
    },
    {
     "name": "stdout",
     "output_type": "stream",
     "text": [
      "Validation => Loss 1.3089, Acc@1 0.6768\n",
      "============\n"
     ]
    },
    {
     "data": {
      "application/vnd.jupyter.widget-view+json": {
       "model_id": "8072c12bdc1b4367b4135a73bfe2c9aa",
       "version_major": 2,
       "version_minor": 0
      },
      "text/plain": [
       "  0%|          | 0/79 [00:00<?, ?it/s]"
      ]
     },
     "metadata": {},
     "output_type": "display_data"
    },
    {
     "name": "stdout",
     "output_type": "stream",
     "text": [
      "Val Perf after 1 epochs Acc@1 0.7298\n",
      "=> Caching mask state for model.0\n",
      "=> Caching mask state for model.2\n",
      "=> Caching mask state for model.4\n",
      "\n",
      "=> Setting learned tasks of model.0 to 8\n",
      "=> Setting learned tasks of model.2 to 8\n",
      "=> Setting learned tasks of model.4 to 8\n",
      "\n",
      "Training for task 8\n",
      "=> Set task of model.0 to 8\n",
      "=> Set task of model.2 to 8\n",
      "=> Set task of model.4 to 8\n"
     ]
    },
    {
     "data": {
      "application/vnd.jupyter.widget-view+json": {
       "model_id": "40f005b206e147ee8877eed9c03b6b62",
       "version_major": 2,
       "version_minor": 0
      },
      "text/plain": [
       "  0%|          | 0/469 [00:00<?, ?it/s]"
      ]
     },
     "metadata": {},
     "output_type": "display_data"
    },
    {
     "name": "stdout",
     "output_type": "stream",
     "text": [
      "Validation => Loss 1.2656, Acc@1 0.6865\n",
      "============\n"
     ]
    },
    {
     "data": {
      "application/vnd.jupyter.widget-view+json": {
       "model_id": "9fba375f200a49e69a067c0456d6b2d3",
       "version_major": 2,
       "version_minor": 0
      },
      "text/plain": [
       "  0%|          | 0/79 [00:00<?, ?it/s]"
      ]
     },
     "metadata": {},
     "output_type": "display_data"
    },
    {
     "name": "stdout",
     "output_type": "stream",
     "text": [
      "Val Perf after 1 epochs Acc@1 0.7470\n",
      "=> Caching mask state for model.0\n",
      "=> Caching mask state for model.2\n",
      "=> Caching mask state for model.4\n",
      "\n",
      "=> Setting learned tasks of model.0 to 9\n",
      "=> Setting learned tasks of model.2 to 9\n",
      "=> Setting learned tasks of model.4 to 9\n",
      "\n",
      "Training for task 9\n",
      "=> Set task of model.0 to 9\n",
      "=> Set task of model.2 to 9\n",
      "=> Set task of model.4 to 9\n"
     ]
    },
    {
     "data": {
      "application/vnd.jupyter.widget-view+json": {
       "model_id": "75d48db76258440c962c622cce7e989c",
       "version_major": 2,
       "version_minor": 0
      },
      "text/plain": [
       "  0%|          | 0/469 [00:00<?, ?it/s]"
      ]
     },
     "metadata": {},
     "output_type": "display_data"
    },
    {
     "name": "stdout",
     "output_type": "stream",
     "text": [
      "Validation => Loss 1.3775, Acc@1 0.6908\n",
      "============\n"
     ]
    },
    {
     "data": {
      "application/vnd.jupyter.widget-view+json": {
       "model_id": "d330b82d8a1a49c3bd038571c5222bbb",
       "version_major": 2,
       "version_minor": 0
      },
      "text/plain": [
       "  0%|          | 0/79 [00:00<?, ?it/s]"
      ]
     },
     "metadata": {},
     "output_type": "display_data"
    },
    {
     "name": "stdout",
     "output_type": "stream",
     "text": [
      "Val Perf after 1 epochs Acc@1 0.7378\n",
      "=> Caching mask state for model.0\n",
      "=> Caching mask state for model.2\n",
      "=> Caching mask state for model.4\n",
      "\n",
      "=> Setting learned tasks of model.0 to 10\n",
      "=> Setting learned tasks of model.2 to 10\n",
      "=> Setting learned tasks of model.4 to 10\n",
      "\n",
      "Training for task 10\n",
      "=> Set task of model.0 to 10\n",
      "=> Set task of model.2 to 10\n",
      "=> Set task of model.4 to 10\n"
     ]
    },
    {
     "data": {
      "application/vnd.jupyter.widget-view+json": {
       "model_id": "71529b1bb47943869485ea12456dafe8",
       "version_major": 2,
       "version_minor": 0
      },
      "text/plain": [
       "  0%|          | 0/469 [00:00<?, ?it/s]"
      ]
     },
     "metadata": {},
     "output_type": "display_data"
    },
    {
     "name": "stdout",
     "output_type": "stream",
     "text": [
      "Validation => Loss 1.3209, Acc@1 0.7008\n",
      "============\n"
     ]
    },
    {
     "data": {
      "application/vnd.jupyter.widget-view+json": {
       "model_id": "20297da2d2964f89aa480b8519959733",
       "version_major": 2,
       "version_minor": 0
      },
      "text/plain": [
       "  0%|          | 0/79 [00:00<?, ?it/s]"
      ]
     },
     "metadata": {},
     "output_type": "display_data"
    },
    {
     "name": "stdout",
     "output_type": "stream",
     "text": [
      "Val Perf after 1 epochs Acc@1 0.7478\n",
      "=> Caching mask state for model.0\n",
      "=> Caching mask state for model.2\n",
      "=> Caching mask state for model.4\n",
      "\n",
      "=> Setting learned tasks of model.0 to 11\n",
      "=> Setting learned tasks of model.2 to 11\n",
      "=> Setting learned tasks of model.4 to 11\n",
      "\n",
      "Training for task 11\n",
      "=> Set task of model.0 to 11\n",
      "=> Set task of model.2 to 11\n",
      "=> Set task of model.4 to 11\n"
     ]
    },
    {
     "data": {
      "application/vnd.jupyter.widget-view+json": {
       "model_id": "d2dd93b08af34cd9b23ef6dab460eec0",
       "version_major": 2,
       "version_minor": 0
      },
      "text/plain": [
       "  0%|          | 0/469 [00:00<?, ?it/s]"
      ]
     },
     "metadata": {},
     "output_type": "display_data"
    },
    {
     "name": "stdout",
     "output_type": "stream",
     "text": [
      "Validation => Loss 1.2105, Acc@1 0.6953\n",
      "============\n"
     ]
    },
    {
     "data": {
      "application/vnd.jupyter.widget-view+json": {
       "model_id": "68bd89e562a742c88d5f9b32b6dead74",
       "version_major": 2,
       "version_minor": 0
      },
      "text/plain": [
       "  0%|          | 0/79 [00:00<?, ?it/s]"
      ]
     },
     "metadata": {},
     "output_type": "display_data"
    },
    {
     "name": "stdout",
     "output_type": "stream",
     "text": [
      "Val Perf after 1 epochs Acc@1 0.7471\n",
      "=> Caching mask state for model.0\n",
      "=> Caching mask state for model.2\n",
      "=> Caching mask state for model.4\n",
      "\n",
      "=> Setting learned tasks of model.0 to 12\n",
      "=> Setting learned tasks of model.2 to 12\n",
      "=> Setting learned tasks of model.4 to 12\n",
      "\n",
      "Training for task 12\n",
      "=> Set task of model.0 to 12\n",
      "=> Set task of model.2 to 12\n",
      "=> Set task of model.4 to 12\n"
     ]
    },
    {
     "data": {
      "application/vnd.jupyter.widget-view+json": {
       "model_id": "71b6f6bfdbad47be8fb1514f941f0f0d",
       "version_major": 2,
       "version_minor": 0
      },
      "text/plain": [
       "  0%|          | 0/469 [00:00<?, ?it/s]"
      ]
     },
     "metadata": {},
     "output_type": "display_data"
    },
    {
     "name": "stdout",
     "output_type": "stream",
     "text": [
      "Validation => Loss 1.2974, Acc@1 0.6846\n",
      "============\n"
     ]
    },
    {
     "data": {
      "application/vnd.jupyter.widget-view+json": {
       "model_id": "159cde023fca46e2a6e6b08df01be36d",
       "version_major": 2,
       "version_minor": 0
      },
      "text/plain": [
       "  0%|          | 0/79 [00:00<?, ?it/s]"
      ]
     },
     "metadata": {},
     "output_type": "display_data"
    },
    {
     "name": "stdout",
     "output_type": "stream",
     "text": [
      "Val Perf after 1 epochs Acc@1 0.7404\n",
      "=> Caching mask state for model.0\n",
      "=> Caching mask state for model.2\n",
      "=> Caching mask state for model.4\n",
      "\n",
      "=> Setting learned tasks of model.0 to 13\n",
      "=> Setting learned tasks of model.2 to 13\n",
      "=> Setting learned tasks of model.4 to 13\n",
      "\n",
      "Training for task 13\n",
      "=> Set task of model.0 to 13\n",
      "=> Set task of model.2 to 13\n",
      "=> Set task of model.4 to 13\n"
     ]
    },
    {
     "data": {
      "application/vnd.jupyter.widget-view+json": {
       "model_id": "7b4359dcb51649a3b3faf9a78d3a5871",
       "version_major": 2,
       "version_minor": 0
      },
      "text/plain": [
       "  0%|          | 0/469 [00:00<?, ?it/s]"
      ]
     },
     "metadata": {},
     "output_type": "display_data"
    },
    {
     "name": "stdout",
     "output_type": "stream",
     "text": [
      "Validation => Loss 1.3349, Acc@1 0.6699\n",
      "============\n"
     ]
    },
    {
     "data": {
      "application/vnd.jupyter.widget-view+json": {
       "model_id": "900ece2efb3b40b9ac0916b456ea8f50",
       "version_major": 2,
       "version_minor": 0
      },
      "text/plain": [
       "  0%|          | 0/79 [00:00<?, ?it/s]"
      ]
     },
     "metadata": {},
     "output_type": "display_data"
    },
    {
     "name": "stdout",
     "output_type": "stream",
     "text": [
      "Val Perf after 1 epochs Acc@1 0.7075\n",
      "=> Caching mask state for model.0\n",
      "=> Caching mask state for model.2\n",
      "=> Caching mask state for model.4\n",
      "\n",
      "=> Setting learned tasks of model.0 to 14\n",
      "=> Setting learned tasks of model.2 to 14\n",
      "=> Setting learned tasks of model.4 to 14\n",
      "\n",
      "Training for task 14\n",
      "=> Set task of model.0 to 14\n",
      "=> Set task of model.2 to 14\n",
      "=> Set task of model.4 to 14\n"
     ]
    },
    {
     "data": {
      "application/vnd.jupyter.widget-view+json": {
       "model_id": "05e0aca46aab4f2ebffbd81cc6b97d30",
       "version_major": 2,
       "version_minor": 0
      },
      "text/plain": [
       "  0%|          | 0/469 [00:00<?, ?it/s]"
      ]
     },
     "metadata": {},
     "output_type": "display_data"
    },
    {
     "name": "stdout",
     "output_type": "stream",
     "text": [
      "Validation => Loss 1.3001, Acc@1 0.6862\n",
      "============\n"
     ]
    },
    {
     "data": {
      "application/vnd.jupyter.widget-view+json": {
       "model_id": "db83f073581c48f5b2e8e7d089988ad9",
       "version_major": 2,
       "version_minor": 0
      },
      "text/plain": [
       "  0%|          | 0/79 [00:00<?, ?it/s]"
      ]
     },
     "metadata": {},
     "output_type": "display_data"
    },
    {
     "name": "stdout",
     "output_type": "stream",
     "text": [
      "Val Perf after 1 epochs Acc@1 0.7410\n",
      "=> Caching mask state for model.0\n",
      "=> Caching mask state for model.2\n",
      "=> Caching mask state for model.4\n",
      "\n",
      "=> Setting learned tasks of model.0 to 15\n",
      "=> Setting learned tasks of model.2 to 15\n",
      "=> Setting learned tasks of model.4 to 15\n",
      "\n",
      "Training for task 15\n",
      "=> Set task of model.0 to 15\n",
      "=> Set task of model.2 to 15\n",
      "=> Set task of model.4 to 15\n"
     ]
    },
    {
     "data": {
      "application/vnd.jupyter.widget-view+json": {
       "model_id": "5221ba2c4faa4ac0bb06a6e9c86da64f",
       "version_major": 2,
       "version_minor": 0
      },
      "text/plain": [
       "  0%|          | 0/469 [00:00<?, ?it/s]"
      ]
     },
     "metadata": {},
     "output_type": "display_data"
    },
    {
     "name": "stdout",
     "output_type": "stream",
     "text": [
      "Validation => Loss 1.3483, Acc@1 0.6693\n",
      "============\n"
     ]
    },
    {
     "data": {
      "application/vnd.jupyter.widget-view+json": {
       "model_id": "1f5732a098094b2782396c261d883520",
       "version_major": 2,
       "version_minor": 0
      },
      "text/plain": [
       "  0%|          | 0/79 [00:00<?, ?it/s]"
      ]
     },
     "metadata": {},
     "output_type": "display_data"
    },
    {
     "name": "stdout",
     "output_type": "stream",
     "text": [
      "Val Perf after 1 epochs Acc@1 0.7149\n",
      "=> Caching mask state for model.0\n",
      "=> Caching mask state for model.2\n",
      "=> Caching mask state for model.4\n",
      "\n",
      "=> Setting learned tasks of model.0 to 16\n",
      "=> Setting learned tasks of model.2 to 16\n",
      "=> Setting learned tasks of model.4 to 16\n",
      "\n",
      "Training for task 16\n",
      "=> Set task of model.0 to 16\n",
      "=> Set task of model.2 to 16\n",
      "=> Set task of model.4 to 16\n"
     ]
    },
    {
     "data": {
      "application/vnd.jupyter.widget-view+json": {
       "model_id": "99f4ede55c0848b992523853e84d63ac",
       "version_major": 2,
       "version_minor": 0
      },
      "text/plain": [
       "  0%|          | 0/469 [00:00<?, ?it/s]"
      ]
     },
     "metadata": {},
     "output_type": "display_data"
    },
    {
     "name": "stdout",
     "output_type": "stream",
     "text": [
      "Validation => Loss 1.3433, Acc@1 0.6706\n",
      "============\n"
     ]
    },
    {
     "data": {
      "application/vnd.jupyter.widget-view+json": {
       "model_id": "7d3e5cb9110b490c80be0cdd7685dcff",
       "version_major": 2,
       "version_minor": 0
      },
      "text/plain": [
       "  0%|          | 0/79 [00:00<?, ?it/s]"
      ]
     },
     "metadata": {},
     "output_type": "display_data"
    },
    {
     "name": "stdout",
     "output_type": "stream",
     "text": [
      "Val Perf after 1 epochs Acc@1 0.7516\n",
      "=> Caching mask state for model.0\n",
      "=> Caching mask state for model.2\n",
      "=> Caching mask state for model.4\n",
      "\n",
      "=> Setting learned tasks of model.0 to 17\n",
      "=> Setting learned tasks of model.2 to 17\n",
      "=> Setting learned tasks of model.4 to 17\n",
      "\n",
      "Training for task 17\n",
      "=> Set task of model.0 to 17\n",
      "=> Set task of model.2 to 17\n",
      "=> Set task of model.4 to 17\n"
     ]
    },
    {
     "data": {
      "application/vnd.jupyter.widget-view+json": {
       "model_id": "15716a92ac7e4c8e93dec0884794fb48",
       "version_major": 2,
       "version_minor": 0
      },
      "text/plain": [
       "  0%|          | 0/469 [00:00<?, ?it/s]"
      ]
     },
     "metadata": {},
     "output_type": "display_data"
    },
    {
     "name": "stdout",
     "output_type": "stream",
     "text": [
      "Validation => Loss 1.3107, Acc@1 0.6950\n",
      "============\n"
     ]
    },
    {
     "data": {
      "application/vnd.jupyter.widget-view+json": {
       "model_id": "0551793cd62442469892c3d43a56e96f",
       "version_major": 2,
       "version_minor": 0
      },
      "text/plain": [
       "  0%|          | 0/79 [00:00<?, ?it/s]"
      ]
     },
     "metadata": {},
     "output_type": "display_data"
    },
    {
     "name": "stdout",
     "output_type": "stream",
     "text": [
      "Val Perf after 1 epochs Acc@1 0.7516\n",
      "=> Caching mask state for model.0\n",
      "=> Caching mask state for model.2\n",
      "=> Caching mask state for model.4\n",
      "\n",
      "=> Setting learned tasks of model.0 to 18\n",
      "=> Setting learned tasks of model.2 to 18\n",
      "=> Setting learned tasks of model.4 to 18\n",
      "\n",
      "Training for task 18\n",
      "=> Set task of model.0 to 18\n",
      "=> Set task of model.2 to 18\n",
      "=> Set task of model.4 to 18\n"
     ]
    },
    {
     "data": {
      "application/vnd.jupyter.widget-view+json": {
       "model_id": "e575adbce7404135b563e8dcda1f3405",
       "version_major": 2,
       "version_minor": 0
      },
      "text/plain": [
       "  0%|          | 0/469 [00:00<?, ?it/s]"
      ]
     },
     "metadata": {},
     "output_type": "display_data"
    },
    {
     "name": "stdout",
     "output_type": "stream",
     "text": [
      "Validation => Loss 1.3609, Acc@1 0.6810\n",
      "============\n"
     ]
    },
    {
     "data": {
      "application/vnd.jupyter.widget-view+json": {
       "model_id": "3ff2bd99691f4e52a8f52783a954de4a",
       "version_major": 2,
       "version_minor": 0
      },
      "text/plain": [
       "  0%|          | 0/79 [00:00<?, ?it/s]"
      ]
     },
     "metadata": {},
     "output_type": "display_data"
    },
    {
     "name": "stdout",
     "output_type": "stream",
     "text": [
      "Val Perf after 1 epochs Acc@1 0.7169\n",
      "=> Caching mask state for model.0\n",
      "=> Caching mask state for model.2\n",
      "=> Caching mask state for model.4\n",
      "\n",
      "=> Setting learned tasks of model.0 to 19\n",
      "=> Setting learned tasks of model.2 to 19\n",
      "=> Setting learned tasks of model.4 to 19\n",
      "\n",
      "Training for task 19\n",
      "=> Set task of model.0 to 19\n",
      "=> Set task of model.2 to 19\n",
      "=> Set task of model.4 to 19\n"
     ]
    },
    {
     "data": {
      "application/vnd.jupyter.widget-view+json": {
       "model_id": "e3ccec0247904dae941ef9832d5e0395",
       "version_major": 2,
       "version_minor": 0
      },
      "text/plain": [
       "  0%|          | 0/469 [00:00<?, ?it/s]"
      ]
     },
     "metadata": {},
     "output_type": "display_data"
    },
    {
     "name": "stdout",
     "output_type": "stream",
     "text": [
      "Validation => Loss 1.3019, Acc@1 0.6917\n",
      "============\n"
     ]
    },
    {
     "data": {
      "application/vnd.jupyter.widget-view+json": {
       "model_id": "522300471e144845b23aecd76b4cce65",
       "version_major": 2,
       "version_minor": 0
      },
      "text/plain": [
       "  0%|          | 0/79 [00:00<?, ?it/s]"
      ]
     },
     "metadata": {},
     "output_type": "display_data"
    },
    {
     "name": "stdout",
     "output_type": "stream",
     "text": [
      "Val Perf after 1 epochs Acc@1 0.7613\n",
      "=> Caching mask state for model.0\n",
      "=> Caching mask state for model.2\n",
      "=> Caching mask state for model.4\n",
      "\n",
      "=> Setting learned tasks of model.0 to 20\n",
      "=> Setting learned tasks of model.2 to 20\n",
      "=> Setting learned tasks of model.4 to 20\n",
      "\n"
     ]
    }
   ],
   "source": [
    "for task in range(0, num_tasks):\n",
    "    print(f\"Training for task {task}\")\n",
    "    set_model_task(basis_model_hidf, task)\n",
    "    mnist.update_task(task)\n",
    "\n",
    "    optimizer = optim.RMSprop([p for p in basis_model_hidf.parameters() if p.requires_grad], lr=1e-3)\n",
    "    # Train for 1 epoch\n",
    "    for e in range(1):\n",
    "        train(basis_model_hidf, mnist.train_loader, optimizer, e)\n",
    "        \n",
    "        print(\"Validation\")\n",
    "        print(\"============\")\n",
    "        acc1 = evaluate(basis_model_hidf, mnist.val_loader, e)\n",
    "        \n",
    "    \n",
    "    cache_masks(basis_model_hidf)\n",
    "    print()\n",
    "    set_num_tasks_learned(basis_model_hidf, task + 1)\n",
    "    print()"
   ]
  },
  {
   "cell_type": "code",
   "execution_count": 139,
   "metadata": {},
   "outputs": [
    {
     "name": "stdout",
     "output_type": "stream",
     "text": [
      "Average top 1 performance: 0.7459\n",
      "Per task performance\n",
      "Task 0: 0.7279\n",
      "Task 1: 0.9232\n",
      "Task 2: 0.7354\n",
      "Task 3: 0.7157\n",
      "Task 4: 0.7471\n",
      "Task 5: 0.7200\n",
      "Task 6: 0.7543\n",
      "Task 7: 0.7298\n",
      "Task 8: 0.7470\n",
      "Task 9: 0.7378\n",
      "Task 10: 0.7478\n",
      "Task 11: 0.7471\n",
      "Task 12: 0.7404\n",
      "Task 13: 0.7075\n",
      "Task 14: 0.7410\n",
      "Task 15: 0.7149\n",
      "Task 16: 0.7516\n",
      "Task 17: 0.7516\n",
      "Task 18: 0.7169\n",
      "Task 19: 0.7613\n"
     ]
    }
   ],
   "source": [
    "# When task ID we can simply set the mask and evaluate\n",
    "\n",
    "gg_performance = []\n",
    "for task in range(num_tasks):\n",
    "    set_model_task(basis_model_hidf, task)\n",
    "    mnist.update_task(task)\n",
    "    acc1 = evaluate(basis_model_hidf, mnist.val_loader, 0)\n",
    "    gg_performance.append(acc1.item())\n",
    "\n",
    "clear_output()\n",
    "    \n",
    "print(f\"Average top 1 performance: {(sum(gg_performance) / len(gg_performance)):.4f}\")\n",
    "\n",
    "print(\"Per task performance\")\n",
    "for t in range(num_tasks):\n",
    "    print(f\"Task {t}: {gg_performance[t]:.4f}\")"
   ]
  },
  {
   "cell_type": "code",
   "execution_count": 140,
   "metadata": {},
   "outputs": [],
   "source": [
    "performance_map['basis_hybrid_mnist_frozen'] = gg_performance.copy()"
   ]
  },
  {
   "cell_type": "markdown",
   "metadata": {},
   "source": [
    "### Model Initialization (Cross task analysis, retraining last layer) -- Using mask from task 1, Sparsity 25"
   ]
  },
  {
   "cell_type": "code",
   "execution_count": 148,
   "metadata": {},
   "outputs": [],
   "source": [
    "num_tasks = 20 # For demonstration purposes, we go up to 2500 in our paper\n",
    "num_seed_tasks_learned = 15\n",
    "basis_model_hidfs = BasisHiddenOnlySparseFrozenMultitaskFC(hidden_size=300,\n",
    "                            num_tasks=num_tasks, num_seed_tasks_learned=num_seed_tasks_learned, sparsity=0.25, start_at_optimal=True,)"
   ]
  },
  {
   "cell_type": "code",
   "execution_count": 149,
   "metadata": {},
   "outputs": [],
   "source": [
    "custom_state_dict = basis_model_hidfs.state_dict().copy()\n",
    "custom_state_dict.update({k:v for k,v in models.state_dict().items() if k in custom_state_dict.keys()})"
   ]
  },
  {
   "cell_type": "code",
   "execution_count": 150,
   "metadata": {},
   "outputs": [],
   "source": [
    "for k in custom_state_dict.keys():\n",
    "    if k.startswith('model.0.scores.'):\n",
    "        custom_state_dict[k] = models.state_dict()['model.0.scores.1']\n",
    "    elif k.startswith('model.2.scores.'):\n",
    "        custom_state_dict[k] = models.state_dict()['model.2.scores.1']\n",
    "    elif k.startswith('model.0.basis_alphas.'):\n",
    "        custom_state_dict[k] = custom_state_dict['model.0.basis_alphas.1'] \n",
    "    elif k.startswith('model.2.basis_alphas.'):\n",
    "        custom_state_dict[k] = custom_state_dict['model.2.basis_alphas.1']"
   ]
  },
  {
   "cell_type": "code",
   "execution_count": 151,
   "metadata": {},
   "outputs": [
    {
     "name": "stdout",
     "output_type": "stream",
     "text": [
      "=> Caching mask state for model.0\n",
      "=> Caching mask state for model.2\n",
      "=> Caching mask state for model.4\n"
     ]
    }
   ],
   "source": [
    "basis_model_hidfs.load_state_dict(custom_state_dict, False)\n",
    "cache_masks(basis_model_hidfs)"
   ]
  },
  {
   "cell_type": "code",
   "execution_count": 152,
   "metadata": {
    "scrolled": true
   },
   "outputs": [
    {
     "name": "stdout",
     "output_type": "stream",
     "text": [
      "Training for task 0\n",
      "=> Set task of model.0 to 0\n",
      "=> Set task of model.2 to 0\n",
      "=> Set task of model.4 to 0\n"
     ]
    },
    {
     "data": {
      "application/vnd.jupyter.widget-view+json": {
       "model_id": "f383ae6e41d046c89a0bcc69621190d6",
       "version_major": 2,
       "version_minor": 0
      },
      "text/plain": [
       "  0%|          | 0/469 [00:00<?, ?it/s]"
      ]
     },
     "metadata": {},
     "output_type": "display_data"
    },
    {
     "name": "stdout",
     "output_type": "stream",
     "text": [
      "Validation => Loss 2.7949, Acc@1 0.2321\n",
      "============\n"
     ]
    },
    {
     "data": {
      "application/vnd.jupyter.widget-view+json": {
       "model_id": "45f533fe42914d05973229ab4edfabc9",
       "version_major": 2,
       "version_minor": 0
      },
      "text/plain": [
       "  0%|          | 0/79 [00:00<?, ?it/s]"
      ]
     },
     "metadata": {},
     "output_type": "display_data"
    },
    {
     "name": "stdout",
     "output_type": "stream",
     "text": [
      "Val Perf after 1 epochs Acc@1 0.1277\n",
      "=> Caching mask state for model.0\n",
      "=> Caching mask state for model.2\n",
      "=> Caching mask state for model.4\n",
      "\n",
      "=> Setting learned tasks of model.0 to 1\n",
      "=> Setting learned tasks of model.2 to 1\n",
      "=> Setting learned tasks of model.4 to 1\n",
      "\n",
      "Training for task 1\n",
      "=> Set task of model.0 to 1\n",
      "=> Set task of model.2 to 1\n",
      "=> Set task of model.4 to 1\n"
     ]
    },
    {
     "data": {
      "application/vnd.jupyter.widget-view+json": {
       "model_id": "28c41d8cef4d4521b43a566b58e6ef5d",
       "version_major": 2,
       "version_minor": 0
      },
      "text/plain": [
       "  0%|          | 0/469 [00:00<?, ?it/s]"
      ]
     },
     "metadata": {},
     "output_type": "display_data"
    },
    {
     "name": "stdout",
     "output_type": "stream",
     "text": [
      "Validation => Loss 0.2193, Acc@1 0.9085\n",
      "============\n"
     ]
    },
    {
     "data": {
      "application/vnd.jupyter.widget-view+json": {
       "model_id": "8879c63784734cb293e9cc6e98b78dc4",
       "version_major": 2,
       "version_minor": 0
      },
      "text/plain": [
       "  0%|          | 0/79 [00:00<?, ?it/s]"
      ]
     },
     "metadata": {},
     "output_type": "display_data"
    },
    {
     "name": "stdout",
     "output_type": "stream",
     "text": [
      "Val Perf after 1 epochs Acc@1 0.9101\n",
      "=> Caching mask state for model.0\n",
      "=> Caching mask state for model.2\n",
      "=> Caching mask state for model.4\n",
      "\n",
      "=> Setting learned tasks of model.0 to 2\n",
      "=> Setting learned tasks of model.2 to 2\n",
      "=> Setting learned tasks of model.4 to 2\n",
      "\n",
      "Training for task 2\n",
      "=> Set task of model.0 to 2\n",
      "=> Set task of model.2 to 2\n",
      "=> Set task of model.4 to 2\n"
     ]
    },
    {
     "data": {
      "application/vnd.jupyter.widget-view+json": {
       "model_id": "83ca75b72be2443ca9f5015f45afbbb9",
       "version_major": 2,
       "version_minor": 0
      },
      "text/plain": [
       "  0%|          | 0/469 [00:00<?, ?it/s]"
      ]
     },
     "metadata": {},
     "output_type": "display_data"
    },
    {
     "name": "stdout",
     "output_type": "stream",
     "text": [
      "Validation => Loss 3.0700, Acc@1 0.2096\n",
      "============\n"
     ]
    },
    {
     "data": {
      "application/vnd.jupyter.widget-view+json": {
       "model_id": "9b33fa1274b14b2184108a950cf32411",
       "version_major": 2,
       "version_minor": 0
      },
      "text/plain": [
       "  0%|          | 0/79 [00:00<?, ?it/s]"
      ]
     },
     "metadata": {},
     "output_type": "display_data"
    },
    {
     "name": "stdout",
     "output_type": "stream",
     "text": [
      "Val Perf after 1 epochs Acc@1 0.1263\n",
      "=> Caching mask state for model.0\n",
      "=> Caching mask state for model.2\n",
      "=> Caching mask state for model.4\n",
      "\n",
      "=> Setting learned tasks of model.0 to 3\n",
      "=> Setting learned tasks of model.2 to 3\n",
      "=> Setting learned tasks of model.4 to 3\n",
      "\n",
      "Training for task 3\n",
      "=> Set task of model.0 to 3\n",
      "=> Set task of model.2 to 3\n",
      "=> Set task of model.4 to 3\n"
     ]
    },
    {
     "data": {
      "application/vnd.jupyter.widget-view+json": {
       "model_id": "197f461e64ce4d6889a51587df2b2e36",
       "version_major": 2,
       "version_minor": 0
      },
      "text/plain": [
       "  0%|          | 0/469 [00:00<?, ?it/s]"
      ]
     },
     "metadata": {},
     "output_type": "display_data"
    },
    {
     "name": "stdout",
     "output_type": "stream",
     "text": [
      "Validation => Loss 2.8840, Acc@1 0.2051\n",
      "============\n"
     ]
    },
    {
     "data": {
      "application/vnd.jupyter.widget-view+json": {
       "model_id": "28602dbbbac1498b861e487a36316875",
       "version_major": 2,
       "version_minor": 0
      },
      "text/plain": [
       "  0%|          | 0/79 [00:00<?, ?it/s]"
      ]
     },
     "metadata": {},
     "output_type": "display_data"
    },
    {
     "name": "stdout",
     "output_type": "stream",
     "text": [
      "Val Perf after 1 epochs Acc@1 0.1462\n",
      "=> Caching mask state for model.0\n",
      "=> Caching mask state for model.2\n",
      "=> Caching mask state for model.4\n",
      "\n",
      "=> Setting learned tasks of model.0 to 4\n",
      "=> Setting learned tasks of model.2 to 4\n",
      "=> Setting learned tasks of model.4 to 4\n",
      "\n",
      "Training for task 4\n",
      "=> Set task of model.0 to 4\n",
      "=> Set task of model.2 to 4\n",
      "=> Set task of model.4 to 4\n"
     ]
    },
    {
     "data": {
      "application/vnd.jupyter.widget-view+json": {
       "model_id": "7583434cea964199a186baaa5a82524e",
       "version_major": 2,
       "version_minor": 0
      },
      "text/plain": [
       "  0%|          | 0/469 [00:00<?, ?it/s]"
      ]
     },
     "metadata": {},
     "output_type": "display_data"
    },
    {
     "name": "stdout",
     "output_type": "stream",
     "text": [
      "Validation => Loss 2.7379, Acc@1 0.2620\n",
      "============\n"
     ]
    },
    {
     "data": {
      "application/vnd.jupyter.widget-view+json": {
       "model_id": "bc48b13fb8f94603b148d56db7f98e65",
       "version_major": 2,
       "version_minor": 0
      },
      "text/plain": [
       "  0%|          | 0/79 [00:00<?, ?it/s]"
      ]
     },
     "metadata": {},
     "output_type": "display_data"
    },
    {
     "name": "stdout",
     "output_type": "stream",
     "text": [
      "Val Perf after 1 epochs Acc@1 0.1673\n",
      "=> Caching mask state for model.0\n",
      "=> Caching mask state for model.2\n",
      "=> Caching mask state for model.4\n",
      "\n",
      "=> Setting learned tasks of model.0 to 5\n",
      "=> Setting learned tasks of model.2 to 5\n",
      "=> Setting learned tasks of model.4 to 5\n",
      "\n",
      "Training for task 5\n",
      "=> Set task of model.0 to 5\n",
      "=> Set task of model.2 to 5\n",
      "=> Set task of model.4 to 5\n"
     ]
    },
    {
     "data": {
      "application/vnd.jupyter.widget-view+json": {
       "model_id": "0015fd992a0442cf91b0108257c64ba6",
       "version_major": 2,
       "version_minor": 0
      },
      "text/plain": [
       "  0%|          | 0/469 [00:00<?, ?it/s]"
      ]
     },
     "metadata": {},
     "output_type": "display_data"
    },
    {
     "name": "stdout",
     "output_type": "stream",
     "text": [
      "Validation => Loss 3.0438, Acc@1 0.2386\n",
      "============\n"
     ]
    },
    {
     "data": {
      "application/vnd.jupyter.widget-view+json": {
       "model_id": "37c1e692942a4037a487669d75c46d8b",
       "version_major": 2,
       "version_minor": 0
      },
      "text/plain": [
       "  0%|          | 0/79 [00:00<?, ?it/s]"
      ]
     },
     "metadata": {},
     "output_type": "display_data"
    },
    {
     "name": "stdout",
     "output_type": "stream",
     "text": [
      "Val Perf after 1 epochs Acc@1 0.1399\n",
      "=> Caching mask state for model.0\n",
      "=> Caching mask state for model.2\n",
      "=> Caching mask state for model.4\n",
      "\n",
      "=> Setting learned tasks of model.0 to 6\n",
      "=> Setting learned tasks of model.2 to 6\n",
      "=> Setting learned tasks of model.4 to 6\n",
      "\n",
      "Training for task 6\n",
      "=> Set task of model.0 to 6\n",
      "=> Set task of model.2 to 6\n",
      "=> Set task of model.4 to 6\n"
     ]
    },
    {
     "data": {
      "application/vnd.jupyter.widget-view+json": {
       "model_id": "5d4f3334a7b94e93837f00f46b3660a2",
       "version_major": 2,
       "version_minor": 0
      },
      "text/plain": [
       "  0%|          | 0/469 [00:00<?, ?it/s]"
      ]
     },
     "metadata": {},
     "output_type": "display_data"
    },
    {
     "name": "stdout",
     "output_type": "stream",
     "text": [
      "Validation => Loss 2.8774, Acc@1 0.2490\n",
      "============\n"
     ]
    },
    {
     "data": {
      "application/vnd.jupyter.widget-view+json": {
       "model_id": "c9f032166e7f4e169db05046bd5785df",
       "version_major": 2,
       "version_minor": 0
      },
      "text/plain": [
       "  0%|          | 0/79 [00:00<?, ?it/s]"
      ]
     },
     "metadata": {},
     "output_type": "display_data"
    },
    {
     "name": "stdout",
     "output_type": "stream",
     "text": [
      "Val Perf after 1 epochs Acc@1 0.1865\n",
      "=> Caching mask state for model.0\n",
      "=> Caching mask state for model.2\n",
      "=> Caching mask state for model.4\n",
      "\n",
      "=> Setting learned tasks of model.0 to 7\n",
      "=> Setting learned tasks of model.2 to 7\n",
      "=> Setting learned tasks of model.4 to 7\n",
      "\n",
      "Training for task 7\n",
      "=> Set task of model.0 to 7\n",
      "=> Set task of model.2 to 7\n",
      "=> Set task of model.4 to 7\n"
     ]
    },
    {
     "data": {
      "application/vnd.jupyter.widget-view+json": {
       "model_id": "1c678cc00cec4014b61a49b129bc8b2a",
       "version_major": 2,
       "version_minor": 0
      },
      "text/plain": [
       "  0%|          | 0/469 [00:00<?, ?it/s]"
      ]
     },
     "metadata": {},
     "output_type": "display_data"
    },
    {
     "name": "stdout",
     "output_type": "stream",
     "text": [
      "Validation => Loss 3.0601, Acc@1 0.2380\n",
      "============\n"
     ]
    },
    {
     "data": {
      "application/vnd.jupyter.widget-view+json": {
       "model_id": "5b581c3452314dc5a1a1e1344649f969",
       "version_major": 2,
       "version_minor": 0
      },
      "text/plain": [
       "  0%|          | 0/79 [00:00<?, ?it/s]"
      ]
     },
     "metadata": {},
     "output_type": "display_data"
    },
    {
     "name": "stdout",
     "output_type": "stream",
     "text": [
      "Val Perf after 1 epochs Acc@1 0.1399\n",
      "=> Caching mask state for model.0\n",
      "=> Caching mask state for model.2\n",
      "=> Caching mask state for model.4\n",
      "\n",
      "=> Setting learned tasks of model.0 to 8\n",
      "=> Setting learned tasks of model.2 to 8\n",
      "=> Setting learned tasks of model.4 to 8\n",
      "\n",
      "Training for task 8\n",
      "=> Set task of model.0 to 8\n",
      "=> Set task of model.2 to 8\n",
      "=> Set task of model.4 to 8\n"
     ]
    },
    {
     "data": {
      "application/vnd.jupyter.widget-view+json": {
       "model_id": "444c224b07544f62b7e28731fa9f507b",
       "version_major": 2,
       "version_minor": 0
      },
      "text/plain": [
       "  0%|          | 0/469 [00:00<?, ?it/s]"
      ]
     },
     "metadata": {},
     "output_type": "display_data"
    },
    {
     "name": "stdout",
     "output_type": "stream",
     "text": [
      "Validation => Loss 2.9645, Acc@1 0.2562\n",
      "============\n"
     ]
    },
    {
     "data": {
      "application/vnd.jupyter.widget-view+json": {
       "model_id": "f01e6ba2ca494c53a292cd827ca3acba",
       "version_major": 2,
       "version_minor": 0
      },
      "text/plain": [
       "  0%|          | 0/79 [00:00<?, ?it/s]"
      ]
     },
     "metadata": {},
     "output_type": "display_data"
    },
    {
     "name": "stdout",
     "output_type": "stream",
     "text": [
      "Val Perf after 1 epochs Acc@1 0.2075\n",
      "=> Caching mask state for model.0\n",
      "=> Caching mask state for model.2\n",
      "=> Caching mask state for model.4\n",
      "\n",
      "=> Setting learned tasks of model.0 to 9\n",
      "=> Setting learned tasks of model.2 to 9\n",
      "=> Setting learned tasks of model.4 to 9\n",
      "\n",
      "Training for task 9\n",
      "=> Set task of model.0 to 9\n",
      "=> Set task of model.2 to 9\n",
      "=> Set task of model.4 to 9\n"
     ]
    },
    {
     "data": {
      "application/vnd.jupyter.widget-view+json": {
       "model_id": "7770c197a7aa45ec96aa22d9bf847dd2",
       "version_major": 2,
       "version_minor": 0
      },
      "text/plain": [
       "  0%|          | 0/469 [00:00<?, ?it/s]"
      ]
     },
     "metadata": {},
     "output_type": "display_data"
    },
    {
     "name": "stdout",
     "output_type": "stream",
     "text": [
      "Validation => Loss 2.8566, Acc@1 0.2057\n",
      "============\n"
     ]
    },
    {
     "data": {
      "application/vnd.jupyter.widget-view+json": {
       "model_id": "83a5680bb2ef43c2b4947961bb77609a",
       "version_major": 2,
       "version_minor": 0
      },
      "text/plain": [
       "  0%|          | 0/79 [00:00<?, ?it/s]"
      ]
     },
     "metadata": {},
     "output_type": "display_data"
    },
    {
     "name": "stdout",
     "output_type": "stream",
     "text": [
      "Val Perf after 1 epochs Acc@1 0.1312\n",
      "=> Caching mask state for model.0\n",
      "=> Caching mask state for model.2\n",
      "=> Caching mask state for model.4\n",
      "\n",
      "=> Setting learned tasks of model.0 to 10\n",
      "=> Setting learned tasks of model.2 to 10\n",
      "=> Setting learned tasks of model.4 to 10\n",
      "\n",
      "Training for task 10\n",
      "=> Set task of model.0 to 10\n",
      "=> Set task of model.2 to 10\n",
      "=> Set task of model.4 to 10\n"
     ]
    },
    {
     "data": {
      "application/vnd.jupyter.widget-view+json": {
       "model_id": "4354b9d264a04e099034094dceac8dc8",
       "version_major": 2,
       "version_minor": 0
      },
      "text/plain": [
       "  0%|          | 0/469 [00:00<?, ?it/s]"
      ]
     },
     "metadata": {},
     "output_type": "display_data"
    },
    {
     "name": "stdout",
     "output_type": "stream",
     "text": [
      "Validation => Loss 3.0359, Acc@1 0.2523\n",
      "============\n"
     ]
    },
    {
     "data": {
      "application/vnd.jupyter.widget-view+json": {
       "model_id": "5aea7e9adc92421ea093e852e7c91df0",
       "version_major": 2,
       "version_minor": 0
      },
      "text/plain": [
       "  0%|          | 0/79 [00:00<?, ?it/s]"
      ]
     },
     "metadata": {},
     "output_type": "display_data"
    },
    {
     "name": "stdout",
     "output_type": "stream",
     "text": [
      "Val Perf after 1 epochs Acc@1 0.1916\n",
      "=> Caching mask state for model.0\n",
      "=> Caching mask state for model.2\n",
      "=> Caching mask state for model.4\n",
      "\n",
      "=> Setting learned tasks of model.0 to 11\n",
      "=> Setting learned tasks of model.2 to 11\n",
      "=> Setting learned tasks of model.4 to 11\n",
      "\n",
      "Training for task 11\n",
      "=> Set task of model.0 to 11\n",
      "=> Set task of model.2 to 11\n",
      "=> Set task of model.4 to 11\n"
     ]
    },
    {
     "data": {
      "application/vnd.jupyter.widget-view+json": {
       "model_id": "77f1b0d52cd84dab87578f06503163d9",
       "version_major": 2,
       "version_minor": 0
      },
      "text/plain": [
       "  0%|          | 0/469 [00:00<?, ?it/s]"
      ]
     },
     "metadata": {},
     "output_type": "display_data"
    },
    {
     "name": "stdout",
     "output_type": "stream",
     "text": [
      "Validation => Loss 3.0021, Acc@1 0.2122\n",
      "============\n"
     ]
    },
    {
     "data": {
      "application/vnd.jupyter.widget-view+json": {
       "model_id": "c1954edd97c441d8965b919cb905b603",
       "version_major": 2,
       "version_minor": 0
      },
      "text/plain": [
       "  0%|          | 0/79 [00:00<?, ?it/s]"
      ]
     },
     "metadata": {},
     "output_type": "display_data"
    },
    {
     "name": "stdout",
     "output_type": "stream",
     "text": [
      "Val Perf after 1 epochs Acc@1 0.1515\n",
      "=> Caching mask state for model.0\n",
      "=> Caching mask state for model.2\n",
      "=> Caching mask state for model.4\n",
      "\n",
      "=> Setting learned tasks of model.0 to 12\n",
      "=> Setting learned tasks of model.2 to 12\n",
      "=> Setting learned tasks of model.4 to 12\n",
      "\n",
      "Training for task 12\n",
      "=> Set task of model.0 to 12\n",
      "=> Set task of model.2 to 12\n",
      "=> Set task of model.4 to 12\n"
     ]
    },
    {
     "data": {
      "application/vnd.jupyter.widget-view+json": {
       "model_id": "285aefe6e593483d951839946cfc3117",
       "version_major": 2,
       "version_minor": 0
      },
      "text/plain": [
       "  0%|          | 0/469 [00:00<?, ?it/s]"
      ]
     },
     "metadata": {},
     "output_type": "display_data"
    },
    {
     "name": "stdout",
     "output_type": "stream",
     "text": [
      "Validation => Loss 3.0505, Acc@1 0.2178\n",
      "============\n"
     ]
    },
    {
     "data": {
      "application/vnd.jupyter.widget-view+json": {
       "model_id": "03c25f1744324361930581513a7e1045",
       "version_major": 2,
       "version_minor": 0
      },
      "text/plain": [
       "  0%|          | 0/79 [00:00<?, ?it/s]"
      ]
     },
     "metadata": {},
     "output_type": "display_data"
    },
    {
     "name": "stdout",
     "output_type": "stream",
     "text": [
      "Val Perf after 1 epochs Acc@1 0.1314\n",
      "=> Caching mask state for model.0\n",
      "=> Caching mask state for model.2\n",
      "=> Caching mask state for model.4\n",
      "\n",
      "=> Setting learned tasks of model.0 to 13\n",
      "=> Setting learned tasks of model.2 to 13\n",
      "=> Setting learned tasks of model.4 to 13\n",
      "\n",
      "Training for task 13\n",
      "=> Set task of model.0 to 13\n",
      "=> Set task of model.2 to 13\n",
      "=> Set task of model.4 to 13\n"
     ]
    },
    {
     "data": {
      "application/vnd.jupyter.widget-view+json": {
       "model_id": "d2615ad554f542928a9c44f5048be7aa",
       "version_major": 2,
       "version_minor": 0
      },
      "text/plain": [
       "  0%|          | 0/469 [00:00<?, ?it/s]"
      ]
     },
     "metadata": {},
     "output_type": "display_data"
    },
    {
     "name": "stdout",
     "output_type": "stream",
     "text": [
      "Validation => Loss 3.0472, Acc@1 0.2930\n",
      "============\n"
     ]
    },
    {
     "data": {
      "application/vnd.jupyter.widget-view+json": {
       "model_id": "ccdb0bef27ce4e6ab3df596f5869b90b",
       "version_major": 2,
       "version_minor": 0
      },
      "text/plain": [
       "  0%|          | 0/79 [00:00<?, ?it/s]"
      ]
     },
     "metadata": {},
     "output_type": "display_data"
    },
    {
     "name": "stdout",
     "output_type": "stream",
     "text": [
      "Val Perf after 1 epochs Acc@1 0.2359\n",
      "=> Caching mask state for model.0\n",
      "=> Caching mask state for model.2\n",
      "=> Caching mask state for model.4\n",
      "\n",
      "=> Setting learned tasks of model.0 to 14\n",
      "=> Setting learned tasks of model.2 to 14\n",
      "=> Setting learned tasks of model.4 to 14\n",
      "\n",
      "Training for task 14\n",
      "=> Set task of model.0 to 14\n",
      "=> Set task of model.2 to 14\n",
      "=> Set task of model.4 to 14\n"
     ]
    },
    {
     "data": {
      "application/vnd.jupyter.widget-view+json": {
       "model_id": "bdff9bb6197a4360ac17002b4d2922c1",
       "version_major": 2,
       "version_minor": 0
      },
      "text/plain": [
       "  0%|          | 0/469 [00:00<?, ?it/s]"
      ]
     },
     "metadata": {},
     "output_type": "display_data"
    },
    {
     "name": "stdout",
     "output_type": "stream",
     "text": [
      "Validation => Loss 3.0947, Acc@1 0.2178\n",
      "============\n"
     ]
    },
    {
     "data": {
      "application/vnd.jupyter.widget-view+json": {
       "model_id": "af82d7f0a120404cb6bc432080eaf462",
       "version_major": 2,
       "version_minor": 0
      },
      "text/plain": [
       "  0%|          | 0/79 [00:00<?, ?it/s]"
      ]
     },
     "metadata": {},
     "output_type": "display_data"
    },
    {
     "name": "stdout",
     "output_type": "stream",
     "text": [
      "Val Perf after 1 epochs Acc@1 0.1894\n",
      "=> Caching mask state for model.0\n",
      "=> Caching mask state for model.2\n",
      "=> Caching mask state for model.4\n",
      "\n",
      "=> Setting learned tasks of model.0 to 15\n",
      "=> Setting learned tasks of model.2 to 15\n",
      "=> Setting learned tasks of model.4 to 15\n",
      "\n",
      "Training for task 15\n",
      "=> Set task of model.0 to 15\n",
      "=> Set task of model.2 to 15\n",
      "=> Set task of model.4 to 15\n"
     ]
    },
    {
     "data": {
      "application/vnd.jupyter.widget-view+json": {
       "model_id": "555bce0c858543549c7b6ff66c1a7b4a",
       "version_major": 2,
       "version_minor": 0
      },
      "text/plain": [
       "  0%|          | 0/469 [00:00<?, ?it/s]"
      ]
     },
     "metadata": {},
     "output_type": "display_data"
    },
    {
     "name": "stdout",
     "output_type": "stream",
     "text": [
      "Validation => Loss 3.0573, Acc@1 0.2038\n",
      "============\n"
     ]
    },
    {
     "data": {
      "application/vnd.jupyter.widget-view+json": {
       "model_id": "729020b3a02942e285e5ccc3568bdab4",
       "version_major": 2,
       "version_minor": 0
      },
      "text/plain": [
       "  0%|          | 0/79 [00:00<?, ?it/s]"
      ]
     },
     "metadata": {},
     "output_type": "display_data"
    },
    {
     "name": "stdout",
     "output_type": "stream",
     "text": [
      "Val Perf after 1 epochs Acc@1 0.1684\n",
      "=> Caching mask state for model.0\n",
      "=> Caching mask state for model.2\n",
      "=> Caching mask state for model.4\n",
      "\n",
      "=> Setting learned tasks of model.0 to 16\n",
      "=> Setting learned tasks of model.2 to 16\n",
      "=> Setting learned tasks of model.4 to 16\n",
      "\n",
      "Training for task 16\n",
      "=> Set task of model.0 to 16\n",
      "=> Set task of model.2 to 16\n",
      "=> Set task of model.4 to 16\n"
     ]
    },
    {
     "data": {
      "application/vnd.jupyter.widget-view+json": {
       "model_id": "cbfee3b38fd244d0b3ef2e0351b8be28",
       "version_major": 2,
       "version_minor": 0
      },
      "text/plain": [
       "  0%|          | 0/469 [00:00<?, ?it/s]"
      ]
     },
     "metadata": {},
     "output_type": "display_data"
    },
    {
     "name": "stdout",
     "output_type": "stream",
     "text": [
      "Validation => Loss 2.7659, Acc@1 0.2484\n",
      "============\n"
     ]
    },
    {
     "data": {
      "application/vnd.jupyter.widget-view+json": {
       "model_id": "49914cd3095a4130bd41d0c2c602f1e2",
       "version_major": 2,
       "version_minor": 0
      },
      "text/plain": [
       "  0%|          | 0/79 [00:00<?, ?it/s]"
      ]
     },
     "metadata": {},
     "output_type": "display_data"
    },
    {
     "name": "stdout",
     "output_type": "stream",
     "text": [
      "Val Perf after 1 epochs Acc@1 0.1761\n",
      "=> Caching mask state for model.0\n",
      "=> Caching mask state for model.2\n",
      "=> Caching mask state for model.4\n",
      "\n",
      "=> Setting learned tasks of model.0 to 17\n",
      "=> Setting learned tasks of model.2 to 17\n",
      "=> Setting learned tasks of model.4 to 17\n",
      "\n",
      "Training for task 17\n",
      "=> Set task of model.0 to 17\n",
      "=> Set task of model.2 to 17\n",
      "=> Set task of model.4 to 17\n"
     ]
    },
    {
     "data": {
      "application/vnd.jupyter.widget-view+json": {
       "model_id": "ba8d4b900ca94411ace7171b0b2f5e33",
       "version_major": 2,
       "version_minor": 0
      },
      "text/plain": [
       "  0%|          | 0/469 [00:00<?, ?it/s]"
      ]
     },
     "metadata": {},
     "output_type": "display_data"
    },
    {
     "name": "stdout",
     "output_type": "stream",
     "text": [
      "Validation => Loss 2.9463, Acc@1 0.2057\n",
      "============\n"
     ]
    },
    {
     "data": {
      "application/vnd.jupyter.widget-view+json": {
       "model_id": "1ff1336793504ea3b0184f0ca583ca3c",
       "version_major": 2,
       "version_minor": 0
      },
      "text/plain": [
       "  0%|          | 0/79 [00:00<?, ?it/s]"
      ]
     },
     "metadata": {},
     "output_type": "display_data"
    },
    {
     "name": "stdout",
     "output_type": "stream",
     "text": [
      "Val Perf after 1 epochs Acc@1 0.1725\n",
      "=> Caching mask state for model.0\n",
      "=> Caching mask state for model.2\n",
      "=> Caching mask state for model.4\n",
      "\n",
      "=> Setting learned tasks of model.0 to 18\n",
      "=> Setting learned tasks of model.2 to 18\n",
      "=> Setting learned tasks of model.4 to 18\n",
      "\n",
      "Training for task 18\n",
      "=> Set task of model.0 to 18\n",
      "=> Set task of model.2 to 18\n",
      "=> Set task of model.4 to 18\n"
     ]
    },
    {
     "data": {
      "application/vnd.jupyter.widget-view+json": {
       "model_id": "d1c5059ec73746978e721a5c96f22ae7",
       "version_major": 2,
       "version_minor": 0
      },
      "text/plain": [
       "  0%|          | 0/469 [00:00<?, ?it/s]"
      ]
     },
     "metadata": {},
     "output_type": "display_data"
    },
    {
     "name": "stdout",
     "output_type": "stream",
     "text": [
      "Validation => Loss 3.0789, Acc@1 0.2331\n",
      "============\n"
     ]
    },
    {
     "data": {
      "application/vnd.jupyter.widget-view+json": {
       "model_id": "57fb2c81d1ae4ae0a197c40caecd3e29",
       "version_major": 2,
       "version_minor": 0
      },
      "text/plain": [
       "  0%|          | 0/79 [00:00<?, ?it/s]"
      ]
     },
     "metadata": {},
     "output_type": "display_data"
    },
    {
     "name": "stdout",
     "output_type": "stream",
     "text": [
      "Val Perf after 1 epochs Acc@1 0.1807\n",
      "=> Caching mask state for model.0\n",
      "=> Caching mask state for model.2\n",
      "=> Caching mask state for model.4\n",
      "\n",
      "=> Setting learned tasks of model.0 to 19\n",
      "=> Setting learned tasks of model.2 to 19\n",
      "=> Setting learned tasks of model.4 to 19\n",
      "\n",
      "Training for task 19\n",
      "=> Set task of model.0 to 19\n",
      "=> Set task of model.2 to 19\n",
      "=> Set task of model.4 to 19\n"
     ]
    },
    {
     "data": {
      "application/vnd.jupyter.widget-view+json": {
       "model_id": "a42c7146437447feadba316f15de6627",
       "version_major": 2,
       "version_minor": 0
      },
      "text/plain": [
       "  0%|          | 0/469 [00:00<?, ?it/s]"
      ]
     },
     "metadata": {},
     "output_type": "display_data"
    },
    {
     "name": "stdout",
     "output_type": "stream",
     "text": [
      "Validation => Loss 2.9310, Acc@1 0.2454\n",
      "============\n"
     ]
    },
    {
     "data": {
      "application/vnd.jupyter.widget-view+json": {
       "model_id": "1f77e2964a9e402f8e6a2672bd66fa0e",
       "version_major": 2,
       "version_minor": 0
      },
      "text/plain": [
       "  0%|          | 0/79 [00:00<?, ?it/s]"
      ]
     },
     "metadata": {},
     "output_type": "display_data"
    },
    {
     "name": "stdout",
     "output_type": "stream",
     "text": [
      "Val Perf after 1 epochs Acc@1 0.1840\n",
      "=> Caching mask state for model.0\n",
      "=> Caching mask state for model.2\n",
      "=> Caching mask state for model.4\n",
      "\n",
      "=> Setting learned tasks of model.0 to 20\n",
      "=> Setting learned tasks of model.2 to 20\n",
      "=> Setting learned tasks of model.4 to 20\n",
      "\n"
     ]
    }
   ],
   "source": [
    "for task in range(0, num_tasks):\n",
    "    print(f\"Training for task {task}\")\n",
    "    set_model_task(basis_model_hidfs, task)\n",
    "    mnist.update_task(task)\n",
    "\n",
    "    optimizer = optim.RMSprop([p for p in basis_model_hidfs.parameters() if p.requires_grad], lr=1e-3)\n",
    "    # Train for 1 epoch\n",
    "    for e in range(1):\n",
    "        train(basis_model_hidfs, mnist.train_loader, optimizer, e)\n",
    "        \n",
    "        print(\"Validation\")\n",
    "        print(\"============\")\n",
    "        acc1 = evaluate(basis_model_hidfs, mnist.val_loader, e)\n",
    "        \n",
    "    \n",
    "    cache_masks(basis_model_hidfs)\n",
    "    print()\n",
    "    set_num_tasks_learned(basis_model_hidfs, task + 1)\n",
    "    print()"
   ]
  },
  {
   "cell_type": "code",
   "execution_count": 153,
   "metadata": {},
   "outputs": [
    {
     "name": "stdout",
     "output_type": "stream",
     "text": [
      "Average top 1 performance: 0.2032\n",
      "Per task performance\n",
      "Task 0: 0.1277\n",
      "Task 1: 0.9101\n",
      "Task 2: 0.1263\n",
      "Task 3: 0.1462\n",
      "Task 4: 0.1673\n",
      "Task 5: 0.1399\n",
      "Task 6: 0.1865\n",
      "Task 7: 0.1399\n",
      "Task 8: 0.2075\n",
      "Task 9: 0.1312\n",
      "Task 10: 0.1916\n",
      "Task 11: 0.1515\n",
      "Task 12: 0.1314\n",
      "Task 13: 0.2359\n",
      "Task 14: 0.1894\n",
      "Task 15: 0.1684\n",
      "Task 16: 0.1761\n",
      "Task 17: 0.1725\n",
      "Task 18: 0.1807\n",
      "Task 19: 0.1840\n"
     ]
    }
   ],
   "source": [
    "# When task ID we can simply set the mask and evaluate\n",
    "\n",
    "gg_performance = []\n",
    "for task in range(num_tasks):\n",
    "    set_model_task(basis_model_hidfs, task)\n",
    "    mnist.update_task(task)\n",
    "    acc1 = evaluate(basis_model_hidfs, mnist.val_loader, 0)\n",
    "    gg_performance.append(acc1.item())\n",
    "\n",
    "clear_output()\n",
    "    \n",
    "print(f\"Average top 1 performance: {(sum(gg_performance) / len(gg_performance)):.4f}\")\n",
    "\n",
    "print(\"Per task performance\")\n",
    "for t in range(num_tasks):\n",
    "    print(f\"Task {t}: {gg_performance[t]:.4f}\")"
   ]
  },
  {
   "cell_type": "code",
   "execution_count": 154,
   "metadata": {},
   "outputs": [],
   "source": [
    "performance_map['basis_hybrid_mnist_frozen_sparsity25'] = gg_performance.copy()"
   ]
  },
  {
   "cell_type": "code",
   "execution_count": null,
   "metadata": {},
   "outputs": [],
   "source": []
  },
  {
   "cell_type": "markdown",
   "metadata": {},
   "source": [
    "### Model Initialization (Cross task analysis, no retraining) -- Using mask from task 1"
   ]
  },
  {
   "cell_type": "code",
   "execution_count": 158,
   "metadata": {},
   "outputs": [],
   "source": [
    "num_tasks = 20 # For demonstration purposes, we go up to 2500 in our paper\n",
    "num_seed_tasks_learned = 15\n",
    "basis_model_hidf = BasisHiddenOnlyFrozenMultitaskFC(hidden_size=300,\n",
    "                            num_tasks=num_tasks, num_seed_tasks_learned=num_seed_tasks_learned, start_at_optimal=True)"
   ]
  },
  {
   "cell_type": "code",
   "execution_count": 159,
   "metadata": {},
   "outputs": [],
   "source": [
    "custom_state_dict = basis_model_hidf.state_dict().copy()\n",
    "custom_state_dict.update({k:v for k,v in model.state_dict().items() if k in custom_state_dict.keys()})"
   ]
  },
  {
   "cell_type": "code",
   "execution_count": 160,
   "metadata": {},
   "outputs": [],
   "source": [
    "for k in custom_state_dict.keys():\n",
    "    if k.startswith('model.0.scores.'):\n",
    "        custom_state_dict[k] = model.state_dict()['model.0.scores.1']\n",
    "    elif k.startswith('model.2.scores.'):\n",
    "        custom_state_dict[k] = model.state_dict()['model.2.scores.1']\n",
    "    elif k.startswith('model.0.basis_alphas.'):\n",
    "        custom_state_dict[k] = custom_state_dict['model.0.basis_alphas.1'] \n",
    "    elif k.startswith('model.2.basis_alphas.'):\n",
    "        custom_state_dict[k] = custom_state_dict['model.2.basis_alphas.1']"
   ]
  },
  {
   "cell_type": "code",
   "execution_count": 161,
   "metadata": {},
   "outputs": [
    {
     "name": "stdout",
     "output_type": "stream",
     "text": [
      "=> Caching mask state for model.0\n",
      "=> Caching mask state for model.2\n",
      "=> Caching mask state for model.4\n"
     ]
    }
   ],
   "source": [
    "basis_model_hidf.load_state_dict(custom_state_dict, False)\n",
    "cache_masks(basis_model_hidf)"
   ]
  },
  {
   "cell_type": "code",
   "execution_count": 162,
   "metadata": {},
   "outputs": [
    {
     "name": "stdout",
     "output_type": "stream",
     "text": [
      "Average top 1 performance: 0.1522\n",
      "Per task performance\n",
      "Task 0: 0.1224\n",
      "Task 1: 0.9266\n",
      "Task 2: 0.0949\n",
      "Task 3: 0.0670\n",
      "Task 4: 0.1245\n",
      "Task 5: 0.1782\n",
      "Task 6: 0.1502\n",
      "Task 7: 0.1269\n",
      "Task 8: 0.0935\n",
      "Task 9: 0.1140\n",
      "Task 10: 0.0936\n",
      "Task 11: 0.1076\n",
      "Task 12: 0.0997\n",
      "Task 13: 0.1127\n",
      "Task 14: 0.0945\n",
      "Task 15: 0.0943\n",
      "Task 16: 0.1285\n",
      "Task 17: 0.1021\n",
      "Task 18: 0.1017\n",
      "Task 19: 0.1111\n"
     ]
    }
   ],
   "source": [
    "# When task ID we can simply set the mask and evaluate\n",
    "\n",
    "gg_performance = []\n",
    "for task in range(num_tasks):\n",
    "    set_model_task(basis_model_hidf, task)\n",
    "    mnist.update_task(task)\n",
    "    acc1 = evaluate(basis_model_hidf, mnist.val_loader, 0)\n",
    "    gg_performance.append(acc1.item())\n",
    "\n",
    "clear_output()\n",
    "    \n",
    "print(f\"Average top 1 performance: {(sum(gg_performance) / len(gg_performance)):.4f}\")\n",
    "\n",
    "print(\"Per task performance\")\n",
    "for t in range(num_tasks):\n",
    "    print(f\"Task {t}: {gg_performance[t]:.4f}\")"
   ]
  },
  {
   "cell_type": "code",
   "execution_count": null,
   "metadata": {},
   "outputs": [],
   "source": []
  },
  {
   "cell_type": "markdown",
   "metadata": {},
   "source": [
    "## Overlap Analysis"
   ]
  },
  {
   "cell_type": "code",
   "execution_count": 163,
   "metadata": {},
   "outputs": [],
   "source": [
    "mnist1 = MNISTPerm()\n",
    "mnist2 = MNISTPerm()\n",
    "mnist3 = MNISTPerm()\n",
    "mnist4 = MNISTPerm()"
   ]
  },
  {
   "cell_type": "code",
   "execution_count": 164,
   "metadata": {},
   "outputs": [],
   "source": [
    "weight_dict = {k: v for k,v in model.state_dict().items() if k.endswith('weight')}"
   ]
  },
  {
   "cell_type": "code",
   "execution_count": 165,
   "metadata": {},
   "outputs": [
    {
     "data": {
      "text/plain": [
       "<All keys matched successfully>"
      ]
     },
     "execution_count": 165,
     "metadata": {},
     "output_type": "execute_result"
    }
   ],
   "source": [
    "# Task ID given during train time\n",
    "from IPython.display import clear_output\n",
    "\n",
    "num_tasks = 5 # For demonstration purposes, we go up to 2500 in our paper\n",
    "model1 = MultitaskFC(hidden_size=300, num_tasks=num_tasks)\n",
    "sd1 = model1.state_dict()\n",
    "sd1.update(weight_dict)\n",
    "model1.load_state_dict(sd1)\n",
    "model2 = MultitaskFC(hidden_size=300, num_tasks=num_tasks)\n",
    "sd2 = model2.state_dict()\n",
    "sd2.update(weight_dict)\n",
    "model2.load_state_dict(sd2)\n",
    "model3 = MultitaskFC(hidden_size=300, num_tasks=num_tasks)\n",
    "sd3 = model3.state_dict()\n",
    "sd3.update(weight_dict)\n",
    "model3.load_state_dict(sd3)"
   ]
  },
  {
   "cell_type": "code",
   "execution_count": 166,
   "metadata": {
    "scrolled": true
   },
   "outputs": [
    {
     "name": "stdout",
     "output_type": "stream",
     "text": [
      "Training for task 0\n",
      "=> Set task of model.0 to 0\n",
      "=> Set task of model.2 to 0\n",
      "=> Set task of model.4 to 0\n",
      "=> Set task of model.0 to 0\n",
      "=> Set task of model.2 to 0\n",
      "=> Set task of model.4 to 0\n",
      "=> Set task of model.0 to 0\n",
      "=> Set task of model.2 to 0\n",
      "=> Set task of model.4 to 0\n"
     ]
    },
    {
     "data": {
      "application/vnd.jupyter.widget-view+json": {
       "model_id": "c379da7c8e004c8eab0d133ab8957ea4",
       "version_major": 2,
       "version_minor": 0
      },
      "text/plain": [
       "  0%|          | 0/469 [00:00<?, ?it/s]"
      ]
     },
     "metadata": {},
     "output_type": "display_data"
    },
    {
     "name": "stdout",
     "output_type": "stream",
     "text": [
      "e0 461/469 => Loss 0.2601, Acc@1 0.8555\r"
     ]
    },
    {
     "data": {
      "application/vnd.jupyter.widget-view+json": {
       "model_id": "83dcabca7ebb40458938ae8aaf8fdbb8",
       "version_major": 2,
       "version_minor": 0
      },
      "text/plain": [
       "  0%|          | 0/469 [00:00<?, ?it/s]"
      ]
     },
     "metadata": {},
     "output_type": "display_data"
    },
    {
     "name": "stdout",
     "output_type": "stream",
     "text": [
      "e0 461/469 => Loss 0.1826, Acc@1 0.8415\r"
     ]
    },
    {
     "data": {
      "application/vnd.jupyter.widget-view+json": {
       "model_id": "da0b955b69664c9d988cf67ff1d2dd9e",
       "version_major": 2,
       "version_minor": 0
      },
      "text/plain": [
       "  0%|          | 0/469 [00:00<?, ?it/s]"
      ]
     },
     "metadata": {},
     "output_type": "display_data"
    },
    {
     "name": "stdout",
     "output_type": "stream",
     "text": [
      "=> Caching mask state for model.00.8496\n",
      "=> Caching mask state for model.2\n",
      "=> Caching mask state for model.4\n",
      "=> Caching mask state for model.0\n",
      "=> Caching mask state for model.2\n",
      "=> Caching mask state for model.4\n",
      "=> Caching mask state for model.0\n",
      "=> Caching mask state for model.2\n",
      "=> Caching mask state for model.4\n",
      "\n",
      "=> Setting learned tasks of model.0 to 1\n",
      "=> Setting learned tasks of model.2 to 1\n",
      "=> Setting learned tasks of model.4 to 1\n",
      "=> Setting learned tasks of model.0 to 1\n",
      "=> Setting learned tasks of model.2 to 1\n",
      "=> Setting learned tasks of model.4 to 1\n",
      "=> Setting learned tasks of model.0 to 1\n",
      "=> Setting learned tasks of model.2 to 1\n",
      "=> Setting learned tasks of model.4 to 1\n",
      "\n",
      "Training for task 1\n",
      "=> Set task of model.0 to 1\n",
      "=> Set task of model.2 to 1\n",
      "=> Set task of model.4 to 1\n",
      "=> Set task of model.0 to 1\n",
      "=> Set task of model.2 to 1\n",
      "=> Set task of model.4 to 1\n",
      "=> Set task of model.0 to 1\n",
      "=> Set task of model.2 to 1\n",
      "=> Set task of model.4 to 1\n"
     ]
    },
    {
     "data": {
      "application/vnd.jupyter.widget-view+json": {
       "model_id": "593f24a970c443b89f09e201aa3fcda3",
       "version_major": 2,
       "version_minor": 0
      },
      "text/plain": [
       "  0%|          | 0/469 [00:00<?, ?it/s]"
      ]
     },
     "metadata": {},
     "output_type": "display_data"
    },
    {
     "name": "stdout",
     "output_type": "stream",
     "text": [
      "e0 461/469 => Loss 0.3428, Acc@1 0.8548\r"
     ]
    },
    {
     "data": {
      "application/vnd.jupyter.widget-view+json": {
       "model_id": "80707e45bc9446ef9782844cfbcf6dc3",
       "version_major": 2,
       "version_minor": 0
      },
      "text/plain": [
       "  0%|          | 0/469 [00:00<?, ?it/s]"
      ]
     },
     "metadata": {},
     "output_type": "display_data"
    },
    {
     "name": "stdout",
     "output_type": "stream",
     "text": [
      "e0 461/469 => Loss 0.2812, Acc@1 0.8551\r"
     ]
    },
    {
     "data": {
      "application/vnd.jupyter.widget-view+json": {
       "model_id": "fe4ae314749b4d2195ab365331a188c9",
       "version_major": 2,
       "version_minor": 0
      },
      "text/plain": [
       "  0%|          | 0/469 [00:00<?, ?it/s]"
      ]
     },
     "metadata": {},
     "output_type": "display_data"
    },
    {
     "name": "stdout",
     "output_type": "stream",
     "text": [
      "=> Caching mask state for model.00.8522\n",
      "=> Caching mask state for model.2\n",
      "=> Caching mask state for model.4\n",
      "=> Caching mask state for model.0\n",
      "=> Caching mask state for model.2\n",
      "=> Caching mask state for model.4\n",
      "=> Caching mask state for model.0\n",
      "=> Caching mask state for model.2\n",
      "=> Caching mask state for model.4\n",
      "\n",
      "=> Setting learned tasks of model.0 to 2\n",
      "=> Setting learned tasks of model.2 to 2\n",
      "=> Setting learned tasks of model.4 to 2\n",
      "=> Setting learned tasks of model.0 to 2\n",
      "=> Setting learned tasks of model.2 to 2\n",
      "=> Setting learned tasks of model.4 to 2\n",
      "=> Setting learned tasks of model.0 to 2\n",
      "=> Setting learned tasks of model.2 to 2\n",
      "=> Setting learned tasks of model.4 to 2\n",
      "\n",
      "Training for task 2\n",
      "=> Set task of model.0 to 2\n",
      "=> Set task of model.2 to 2\n",
      "=> Set task of model.4 to 2\n",
      "=> Set task of model.0 to 2\n",
      "=> Set task of model.2 to 2\n",
      "=> Set task of model.4 to 2\n",
      "=> Set task of model.0 to 2\n",
      "=> Set task of model.2 to 2\n",
      "=> Set task of model.4 to 2\n"
     ]
    },
    {
     "data": {
      "application/vnd.jupyter.widget-view+json": {
       "model_id": "dfa8b336166743a492cc2e8b818fdcad",
       "version_major": 2,
       "version_minor": 0
      },
      "text/plain": [
       "  0%|          | 0/469 [00:00<?, ?it/s]"
      ]
     },
     "metadata": {},
     "output_type": "display_data"
    },
    {
     "name": "stdout",
     "output_type": "stream",
     "text": [
      "e0 461/469 => Loss 0.3166, Acc@1 0.8516\r"
     ]
    },
    {
     "data": {
      "application/vnd.jupyter.widget-view+json": {
       "model_id": "826a2c04b939496e8555a32d2c9035bb",
       "version_major": 2,
       "version_minor": 0
      },
      "text/plain": [
       "  0%|          | 0/469 [00:00<?, ?it/s]"
      ]
     },
     "metadata": {},
     "output_type": "display_data"
    },
    {
     "name": "stdout",
     "output_type": "stream",
     "text": [
      "e0 461/469 => Loss 0.3793, Acc@1 0.8529\r"
     ]
    },
    {
     "data": {
      "application/vnd.jupyter.widget-view+json": {
       "model_id": "b1da9dcbab50497399f643059c9ca6ff",
       "version_major": 2,
       "version_minor": 0
      },
      "text/plain": [
       "  0%|          | 0/469 [00:00<?, ?it/s]"
      ]
     },
     "metadata": {},
     "output_type": "display_data"
    },
    {
     "name": "stdout",
     "output_type": "stream",
     "text": [
      "=> Caching mask state for model.00.8577\n",
      "=> Caching mask state for model.2\n",
      "=> Caching mask state for model.4\n",
      "=> Caching mask state for model.0\n",
      "=> Caching mask state for model.2\n",
      "=> Caching mask state for model.4\n",
      "=> Caching mask state for model.0\n",
      "=> Caching mask state for model.2\n",
      "=> Caching mask state for model.4\n",
      "\n",
      "=> Setting learned tasks of model.0 to 3\n",
      "=> Setting learned tasks of model.2 to 3\n",
      "=> Setting learned tasks of model.4 to 3\n",
      "=> Setting learned tasks of model.0 to 3\n",
      "=> Setting learned tasks of model.2 to 3\n",
      "=> Setting learned tasks of model.4 to 3\n",
      "=> Setting learned tasks of model.0 to 3\n",
      "=> Setting learned tasks of model.2 to 3\n",
      "=> Setting learned tasks of model.4 to 3\n",
      "\n",
      "Training for task 3\n",
      "=> Set task of model.0 to 3\n",
      "=> Set task of model.2 to 3\n",
      "=> Set task of model.4 to 3\n",
      "=> Set task of model.0 to 3\n",
      "=> Set task of model.2 to 3\n",
      "=> Set task of model.4 to 3\n",
      "=> Set task of model.0 to 3\n",
      "=> Set task of model.2 to 3\n",
      "=> Set task of model.4 to 3\n"
     ]
    },
    {
     "data": {
      "application/vnd.jupyter.widget-view+json": {
       "model_id": "e37274276500458384d85ada6696b32d",
       "version_major": 2,
       "version_minor": 0
      },
      "text/plain": [
       "  0%|          | 0/469 [00:00<?, ?it/s]"
      ]
     },
     "metadata": {},
     "output_type": "display_data"
    },
    {
     "name": "stdout",
     "output_type": "stream",
     "text": [
      "e0 461/469 => Loss 0.2475, Acc@1 0.8604\r"
     ]
    },
    {
     "data": {
      "application/vnd.jupyter.widget-view+json": {
       "model_id": "d4505312f2be44ffbfb82aa3e73976ba",
       "version_major": 2,
       "version_minor": 0
      },
      "text/plain": [
       "  0%|          | 0/469 [00:00<?, ?it/s]"
      ]
     },
     "metadata": {},
     "output_type": "display_data"
    },
    {
     "name": "stdout",
     "output_type": "stream",
     "text": [
      "e0 461/469 => Loss 0.2908, Acc@1 0.8564\r"
     ]
    },
    {
     "data": {
      "application/vnd.jupyter.widget-view+json": {
       "model_id": "81aa2832dbcc4c42ba75fee61aef587f",
       "version_major": 2,
       "version_minor": 0
      },
      "text/plain": [
       "  0%|          | 0/469 [00:00<?, ?it/s]"
      ]
     },
     "metadata": {},
     "output_type": "display_data"
    },
    {
     "name": "stdout",
     "output_type": "stream",
     "text": [
      "=> Caching mask state for model.00.8639\n",
      "=> Caching mask state for model.2\n",
      "=> Caching mask state for model.4\n",
      "=> Caching mask state for model.0\n",
      "=> Caching mask state for model.2\n",
      "=> Caching mask state for model.4\n",
      "=> Caching mask state for model.0\n",
      "=> Caching mask state for model.2\n",
      "=> Caching mask state for model.4\n",
      "\n",
      "=> Setting learned tasks of model.0 to 4\n",
      "=> Setting learned tasks of model.2 to 4\n",
      "=> Setting learned tasks of model.4 to 4\n",
      "=> Setting learned tasks of model.0 to 4\n",
      "=> Setting learned tasks of model.2 to 4\n",
      "=> Setting learned tasks of model.4 to 4\n",
      "=> Setting learned tasks of model.0 to 4\n",
      "=> Setting learned tasks of model.2 to 4\n",
      "=> Setting learned tasks of model.4 to 4\n",
      "\n",
      "Training for task 4\n",
      "=> Set task of model.0 to 4\n",
      "=> Set task of model.2 to 4\n",
      "=> Set task of model.4 to 4\n",
      "=> Set task of model.0 to 4\n",
      "=> Set task of model.2 to 4\n",
      "=> Set task of model.4 to 4\n",
      "=> Set task of model.0 to 4\n",
      "=> Set task of model.2 to 4\n",
      "=> Set task of model.4 to 4\n"
     ]
    },
    {
     "data": {
      "application/vnd.jupyter.widget-view+json": {
       "model_id": "5436b85627cf408cb0c667691b6aa2ae",
       "version_major": 2,
       "version_minor": 0
      },
      "text/plain": [
       "  0%|          | 0/469 [00:00<?, ?it/s]"
      ]
     },
     "metadata": {},
     "output_type": "display_data"
    },
    {
     "name": "stdout",
     "output_type": "stream",
     "text": [
      "e0 461/469 => Loss 0.3427, Acc@1 0.8555\r"
     ]
    },
    {
     "data": {
      "application/vnd.jupyter.widget-view+json": {
       "model_id": "b1bb51fddd174482b2275d7a55e540ff",
       "version_major": 2,
       "version_minor": 0
      },
      "text/plain": [
       "  0%|          | 0/469 [00:00<?, ?it/s]"
      ]
     },
     "metadata": {},
     "output_type": "display_data"
    },
    {
     "name": "stdout",
     "output_type": "stream",
     "text": [
      "e0 461/469 => Loss 0.2153, Acc@1 0.8483\r"
     ]
    },
    {
     "data": {
      "application/vnd.jupyter.widget-view+json": {
       "model_id": "307c63a55866434fb32b172adf6561a7",
       "version_major": 2,
       "version_minor": 0
      },
      "text/plain": [
       "  0%|          | 0/469 [00:00<?, ?it/s]"
      ]
     },
     "metadata": {},
     "output_type": "display_data"
    },
    {
     "name": "stdout",
     "output_type": "stream",
     "text": [
      "=> Caching mask state for model.00.8594\n",
      "=> Caching mask state for model.2\n",
      "=> Caching mask state for model.4\n",
      "=> Caching mask state for model.0\n",
      "=> Caching mask state for model.2\n",
      "=> Caching mask state for model.4\n",
      "=> Caching mask state for model.0\n",
      "=> Caching mask state for model.2\n",
      "=> Caching mask state for model.4\n",
      "\n",
      "=> Setting learned tasks of model.0 to 5\n",
      "=> Setting learned tasks of model.2 to 5\n",
      "=> Setting learned tasks of model.4 to 5\n",
      "=> Setting learned tasks of model.0 to 5\n",
      "=> Setting learned tasks of model.2 to 5\n",
      "=> Setting learned tasks of model.4 to 5\n",
      "=> Setting learned tasks of model.0 to 5\n",
      "=> Setting learned tasks of model.2 to 5\n",
      "=> Setting learned tasks of model.4 to 5\n",
      "\n"
     ]
    }
   ],
   "source": [
    "for task in range(num_tasks):\n",
    "    print(f\"Training for task {task}\")\n",
    "    set_model_task(model1, task)\n",
    "    set_model_task(model2, task)\n",
    "    set_model_task(model3, task)\n",
    "    mnist1.update_task(task)\n",
    "    mnist2.update_task(task)\n",
    "    mnist3.update_task(task)\n",
    "\n",
    "    optimizer1 = optim.RMSprop([p for p in model1.parameters() if p.requires_grad], lr=1e-4)\n",
    "    optimizer2 = optim.RMSprop([p for p in model2.parameters() if p.requires_grad], lr=1e-4)\n",
    "    optimizer3 = optim.RMSprop([p for p in model3.parameters() if p.requires_grad], lr=1e-4)\n",
    "    # Train for 1 epoch\n",
    "    for e in range(1):\n",
    "        train(model1, mnist1.train_loader, optimizer1, e)\n",
    "        train(model2, mnist2.train_loader, optimizer2, e)\n",
    "        train(model3, mnist3.train_loader, optimizer3, e)\n",
    "\n",
    "#         print(\"Validation\")\n",
    "#         print(\"============\")\n",
    "#         acc1 = evaluate(model, mnist.val_loader, e)\n",
    "\n",
    "\n",
    "    cache_masks(model1)\n",
    "    cache_masks(model2)\n",
    "    cache_masks(model3)\n",
    "    print()\n",
    "    set_num_tasks_learned(model1, task + 1)\n",
    "    set_num_tasks_learned(model2, task + 1)\n",
    "    set_num_tasks_learned(model3, task + 1)\n",
    "    print()"
   ]
  },
  {
   "cell_type": "code",
   "execution_count": 167,
   "metadata": {},
   "outputs": [],
   "source": [
    "def overlap(mask1, mask2):\n",
    "    assert mask1.shape == mask2.shape\n",
    "    count_same = (mask1 + mask2 - 1).abs().sum()\n",
    "    return count_same / (1.0*(mask1.shape[0] * mask1.shape[1]))"
   ]
  },
  {
   "cell_type": "code",
   "execution_count": 168,
   "metadata": {},
   "outputs": [],
   "source": [
    "from itertools import product"
   ]
  },
  {
   "cell_type": "code",
   "execution_count": 169,
   "metadata": {},
   "outputs": [
    {
     "name": "stdout",
     "output_type": "stream",
     "text": [
      "Layer: 0, Task: 0, Overlap: 0.51096510887146\n",
      "Layer: 0, Task: 1, Overlap: 0.5155952572822571\n",
      "Layer: 0, Task: 2, Overlap: 0.5139200687408447\n",
      "Layer: 0, Task: 3, Overlap: 0.5134651064872742\n",
      "Layer: 0, Task: 4, Overlap: 0.5120918154716492\n",
      "Layer: 2, Task: 0, Overlap: 0.503944456577301\n",
      "Layer: 2, Task: 1, Overlap: 0.5013333559036255\n",
      "Layer: 2, Task: 2, Overlap: 0.5013222098350525\n",
      "Layer: 2, Task: 3, Overlap: 0.50445556640625\n",
      "Layer: 2, Task: 4, Overlap: 0.501455545425415\n",
      "Layer: 4, Task: 0, Overlap: 0.5084999799728394\n",
      "Layer: 4, Task: 1, Overlap: 0.5153999924659729\n",
      "Layer: 4, Task: 2, Overlap: 0.5112333297729492\n",
      "Layer: 4, Task: 3, Overlap: 0.5065333247184753\n",
      "Layer: 4, Task: 4, Overlap: 0.5167333483695984\n"
     ]
    }
   ],
   "source": [
    "for layer, task in product([0,2,4], [i for i in range(5)]):\n",
    "    print('Layer: {}, Task: {}, Overlap: {}'.format(layer, task,\n",
    "        overlap(model2.state_dict()['model.{}.stacked'.format(layer)][task],\n",
    "                model3.state_dict()['model.{}.stacked'.format(layer)][task])))"
   ]
  },
  {
   "cell_type": "markdown",
   "metadata": {},
   "source": [
    "## Overlap Analysis with Sparsity (25%)"
   ]
  },
  {
   "cell_type": "code",
   "execution_count": 170,
   "metadata": {},
   "outputs": [],
   "source": [
    "mnist1 = MNISTPerm()\n",
    "mnist2 = MNISTPerm()\n",
    "mnist3 = MNISTPerm()\n",
    "mnist4 = MNISTPerm()"
   ]
  },
  {
   "cell_type": "code",
   "execution_count": 171,
   "metadata": {},
   "outputs": [],
   "source": [
    "weight_dict = {k: v for k,v in models.state_dict().items() if k.endswith('weight')}"
   ]
  },
  {
   "cell_type": "code",
   "execution_count": 172,
   "metadata": {},
   "outputs": [
    {
     "data": {
      "text/plain": [
       "<All keys matched successfully>"
      ]
     },
     "execution_count": 172,
     "metadata": {},
     "output_type": "execute_result"
    }
   ],
   "source": [
    "# Task ID given during train time\n",
    "from IPython.display import clear_output\n",
    "\n",
    "num_tasks = 5 # For demonstration purposes, we go up to 2500 in our paper\n",
    "model1 = MultitaskFCSparse(hidden_size=300, num_tasks=num_tasks, sparsity=0.25)\n",
    "sd1 = model1.state_dict()\n",
    "sd1.update(weight_dict)\n",
    "model1.load_state_dict(sd1)\n",
    "model2 = MultitaskFCSparse(hidden_size=300, num_tasks=num_tasks, sparsity=0.25)\n",
    "sd2 = model2.state_dict()\n",
    "sd2.update(weight_dict)\n",
    "model2.load_state_dict(sd2)\n",
    "model3 = MultitaskFCSparse(hidden_size=300, num_tasks=num_tasks, sparsity=0.25)\n",
    "sd3 = model3.state_dict()\n",
    "sd3.update(weight_dict)\n",
    "model3.load_state_dict(sd3)"
   ]
  },
  {
   "cell_type": "code",
   "execution_count": 173,
   "metadata": {
    "scrolled": true
   },
   "outputs": [
    {
     "name": "stdout",
     "output_type": "stream",
     "text": [
      "Training for task 0\n",
      "=> Set task of model.0 to 0\n",
      "=> Set task of model.2 to 0\n",
      "=> Set task of model.4 to 0\n",
      "=> Set task of model.0 to 0\n",
      "=> Set task of model.2 to 0\n",
      "=> Set task of model.4 to 0\n",
      "=> Set task of model.0 to 0\n",
      "=> Set task of model.2 to 0\n",
      "=> Set task of model.4 to 0\n"
     ]
    },
    {
     "data": {
      "application/vnd.jupyter.widget-view+json": {
       "model_id": "",
       "version_major": 2,
       "version_minor": 0
      },
      "text/plain": [
       "  0%|          | 0/469 [00:00<?, ?it/s]"
      ]
     },
     "metadata": {},
     "output_type": "display_data"
    },
    {
     "name": "stdout",
     "output_type": "stream",
     "text": [
      "e0 461/469 => Loss 0.2722, Acc@1 0.8424\r"
     ]
    },
    {
     "data": {
      "application/vnd.jupyter.widget-view+json": {
       "model_id": "",
       "version_major": 2,
       "version_minor": 0
      },
      "text/plain": [
       "  0%|          | 0/469 [00:00<?, ?it/s]"
      ]
     },
     "metadata": {},
     "output_type": "display_data"
    },
    {
     "name": "stdout",
     "output_type": "stream",
     "text": [
      "e0 461/469 => Loss 0.3783, Acc@1 0.8298\r"
     ]
    },
    {
     "data": {
      "application/vnd.jupyter.widget-view+json": {
       "model_id": "",
       "version_major": 2,
       "version_minor": 0
      },
      "text/plain": [
       "  0%|          | 0/469 [00:00<?, ?it/s]"
      ]
     },
     "metadata": {},
     "output_type": "display_data"
    },
    {
     "name": "stdout",
     "output_type": "stream",
     "text": [
      "=> Caching mask state for model.00.8356\n",
      "=> Caching mask state for model.2\n",
      "=> Caching mask state for model.4\n",
      "=> Caching mask state for model.0\n",
      "=> Caching mask state for model.2\n",
      "=> Caching mask state for model.4\n",
      "=> Caching mask state for model.0\n",
      "=> Caching mask state for model.2\n",
      "=> Caching mask state for model.4\n",
      "\n",
      "=> Setting learned tasks of model.0 to 1\n",
      "=> Setting learned tasks of model.2 to 1\n",
      "=> Setting learned tasks of model.4 to 1\n",
      "=> Setting learned tasks of model.0 to 1\n",
      "=> Setting learned tasks of model.2 to 1\n",
      "=> Setting learned tasks of model.4 to 1\n",
      "=> Setting learned tasks of model.0 to 1\n",
      "=> Setting learned tasks of model.2 to 1\n",
      "=> Setting learned tasks of model.4 to 1\n",
      "\n",
      "Training for task 1\n",
      "=> Set task of model.0 to 1\n",
      "=> Set task of model.2 to 1\n",
      "=> Set task of model.4 to 1\n",
      "=> Set task of model.0 to 1\n",
      "=> Set task of model.2 to 1\n",
      "=> Set task of model.4 to 1\n",
      "=> Set task of model.0 to 1\n",
      "=> Set task of model.2 to 1\n",
      "=> Set task of model.4 to 1\n"
     ]
    },
    {
     "data": {
      "application/vnd.jupyter.widget-view+json": {
       "model_id": "",
       "version_major": 2,
       "version_minor": 0
      },
      "text/plain": [
       "  0%|          | 0/469 [00:00<?, ?it/s]"
      ]
     },
     "metadata": {},
     "output_type": "display_data"
    },
    {
     "name": "stdout",
     "output_type": "stream",
     "text": [
      "e0 461/469 => Loss 0.5086, Acc@1 0.8408\r"
     ]
    },
    {
     "data": {
      "application/vnd.jupyter.widget-view+json": {
       "model_id": "",
       "version_major": 2,
       "version_minor": 0
      },
      "text/plain": [
       "  0%|          | 0/469 [00:00<?, ?it/s]"
      ]
     },
     "metadata": {},
     "output_type": "display_data"
    },
    {
     "name": "stdout",
     "output_type": "stream",
     "text": [
      "e0 461/469 => Loss 0.3411, Acc@1 0.8275\r"
     ]
    },
    {
     "data": {
      "application/vnd.jupyter.widget-view+json": {
       "model_id": "",
       "version_major": 2,
       "version_minor": 0
      },
      "text/plain": [
       "  0%|          | 0/469 [00:00<?, ?it/s]"
      ]
     },
     "metadata": {},
     "output_type": "display_data"
    },
    {
     "name": "stdout",
     "output_type": "stream",
     "text": [
      "=> Caching mask state for model.00.8291\n",
      "=> Caching mask state for model.2\n",
      "=> Caching mask state for model.4\n",
      "=> Caching mask state for model.0\n",
      "=> Caching mask state for model.2\n",
      "=> Caching mask state for model.4\n",
      "=> Caching mask state for model.0\n",
      "=> Caching mask state for model.2\n",
      "=> Caching mask state for model.4\n",
      "\n",
      "=> Setting learned tasks of model.0 to 2\n",
      "=> Setting learned tasks of model.2 to 2\n",
      "=> Setting learned tasks of model.4 to 2\n",
      "=> Setting learned tasks of model.0 to 2\n",
      "=> Setting learned tasks of model.2 to 2\n",
      "=> Setting learned tasks of model.4 to 2\n",
      "=> Setting learned tasks of model.0 to 2\n",
      "=> Setting learned tasks of model.2 to 2\n",
      "=> Setting learned tasks of model.4 to 2\n",
      "\n",
      "Training for task 2\n",
      "=> Set task of model.0 to 2\n",
      "=> Set task of model.2 to 2\n",
      "=> Set task of model.4 to 2\n",
      "=> Set task of model.0 to 2\n",
      "=> Set task of model.2 to 2\n",
      "=> Set task of model.4 to 2\n",
      "=> Set task of model.0 to 2\n",
      "=> Set task of model.2 to 2\n",
      "=> Set task of model.4 to 2\n"
     ]
    },
    {
     "data": {
      "application/vnd.jupyter.widget-view+json": {
       "model_id": "",
       "version_major": 2,
       "version_minor": 0
      },
      "text/plain": [
       "  0%|          | 0/469 [00:00<?, ?it/s]"
      ]
     },
     "metadata": {},
     "output_type": "display_data"
    },
    {
     "name": "stdout",
     "output_type": "stream",
     "text": [
      "e0 461/469 => Loss 0.3689, Acc@1 0.8395\r"
     ]
    },
    {
     "data": {
      "application/vnd.jupyter.widget-view+json": {
       "model_id": "",
       "version_major": 2,
       "version_minor": 0
      },
      "text/plain": [
       "  0%|          | 0/469 [00:00<?, ?it/s]"
      ]
     },
     "metadata": {},
     "output_type": "display_data"
    },
    {
     "name": "stdout",
     "output_type": "stream",
     "text": [
      "e0 461/469 => Loss 0.2454, Acc@1 0.8382\r"
     ]
    },
    {
     "data": {
      "application/vnd.jupyter.widget-view+json": {
       "model_id": "",
       "version_major": 2,
       "version_minor": 0
      },
      "text/plain": [
       "  0%|          | 0/469 [00:00<?, ?it/s]"
      ]
     },
     "metadata": {},
     "output_type": "display_data"
    },
    {
     "name": "stdout",
     "output_type": "stream",
     "text": [
      "=> Caching mask state for model.00.8438\n",
      "=> Caching mask state for model.2\n",
      "=> Caching mask state for model.4\n",
      "=> Caching mask state for model.0\n",
      "=> Caching mask state for model.2\n",
      "=> Caching mask state for model.4\n",
      "=> Caching mask state for model.0\n",
      "=> Caching mask state for model.2\n",
      "=> Caching mask state for model.4\n",
      "\n",
      "=> Setting learned tasks of model.0 to 3\n",
      "=> Setting learned tasks of model.2 to 3\n",
      "=> Setting learned tasks of model.4 to 3\n",
      "=> Setting learned tasks of model.0 to 3\n",
      "=> Setting learned tasks of model.2 to 3\n",
      "=> Setting learned tasks of model.4 to 3\n",
      "=> Setting learned tasks of model.0 to 3\n",
      "=> Setting learned tasks of model.2 to 3\n",
      "=> Setting learned tasks of model.4 to 3\n",
      "\n",
      "Training for task 3\n",
      "=> Set task of model.0 to 3\n",
      "=> Set task of model.2 to 3\n",
      "=> Set task of model.4 to 3\n",
      "=> Set task of model.0 to 3\n",
      "=> Set task of model.2 to 3\n",
      "=> Set task of model.4 to 3\n",
      "=> Set task of model.0 to 3\n",
      "=> Set task of model.2 to 3\n",
      "=> Set task of model.4 to 3\n"
     ]
    },
    {
     "data": {
      "application/vnd.jupyter.widget-view+json": {
       "model_id": "",
       "version_major": 2,
       "version_minor": 0
      },
      "text/plain": [
       "  0%|          | 0/469 [00:00<?, ?it/s]"
      ]
     },
     "metadata": {},
     "output_type": "display_data"
    },
    {
     "name": "stdout",
     "output_type": "stream",
     "text": [
      "e0 461/469 => Loss 0.3847, Acc@1 0.8372\r"
     ]
    },
    {
     "data": {
      "application/vnd.jupyter.widget-view+json": {
       "model_id": "",
       "version_major": 2,
       "version_minor": 0
      },
      "text/plain": [
       "  0%|          | 0/469 [00:00<?, ?it/s]"
      ]
     },
     "metadata": {},
     "output_type": "display_data"
    },
    {
     "name": "stdout",
     "output_type": "stream",
     "text": [
      "e0 461/469 => Loss 0.3338, Acc@1 0.8398\r"
     ]
    },
    {
     "data": {
      "application/vnd.jupyter.widget-view+json": {
       "model_id": "",
       "version_major": 2,
       "version_minor": 0
      },
      "text/plain": [
       "  0%|          | 0/469 [00:00<?, ?it/s]"
      ]
     },
     "metadata": {},
     "output_type": "display_data"
    },
    {
     "name": "stdout",
     "output_type": "stream",
     "text": [
      "=> Caching mask state for model.00.8369\n",
      "=> Caching mask state for model.2\n",
      "=> Caching mask state for model.4\n",
      "=> Caching mask state for model.0\n",
      "=> Caching mask state for model.2\n",
      "=> Caching mask state for model.4\n",
      "=> Caching mask state for model.0\n",
      "=> Caching mask state for model.2\n",
      "=> Caching mask state for model.4\n",
      "\n",
      "=> Setting learned tasks of model.0 to 4\n",
      "=> Setting learned tasks of model.2 to 4\n",
      "=> Setting learned tasks of model.4 to 4\n",
      "=> Setting learned tasks of model.0 to 4\n",
      "=> Setting learned tasks of model.2 to 4\n",
      "=> Setting learned tasks of model.4 to 4\n",
      "=> Setting learned tasks of model.0 to 4\n",
      "=> Setting learned tasks of model.2 to 4\n",
      "=> Setting learned tasks of model.4 to 4\n",
      "\n",
      "Training for task 4\n",
      "=> Set task of model.0 to 4\n",
      "=> Set task of model.2 to 4\n",
      "=> Set task of model.4 to 4\n",
      "=> Set task of model.0 to 4\n",
      "=> Set task of model.2 to 4\n",
      "=> Set task of model.4 to 4\n",
      "=> Set task of model.0 to 4\n",
      "=> Set task of model.2 to 4\n",
      "=> Set task of model.4 to 4\n"
     ]
    },
    {
     "data": {
      "application/vnd.jupyter.widget-view+json": {
       "model_id": "",
       "version_major": 2,
       "version_minor": 0
      },
      "text/plain": [
       "  0%|          | 0/469 [00:00<?, ?it/s]"
      ]
     },
     "metadata": {},
     "output_type": "display_data"
    },
    {
     "name": "stdout",
     "output_type": "stream",
     "text": [
      "e0 461/469 => Loss 0.3435, Acc@1 0.8385\r"
     ]
    },
    {
     "data": {
      "application/vnd.jupyter.widget-view+json": {
       "model_id": "",
       "version_major": 2,
       "version_minor": 0
      },
      "text/plain": [
       "  0%|          | 0/469 [00:00<?, ?it/s]"
      ]
     },
     "metadata": {},
     "output_type": "display_data"
    },
    {
     "name": "stdout",
     "output_type": "stream",
     "text": [
      "e0 461/469 => Loss 0.3908, Acc@1 0.8415\r"
     ]
    },
    {
     "data": {
      "application/vnd.jupyter.widget-view+json": {
       "model_id": "",
       "version_major": 2,
       "version_minor": 0
      },
      "text/plain": [
       "  0%|          | 0/469 [00:00<?, ?it/s]"
      ]
     },
     "metadata": {},
     "output_type": "display_data"
    },
    {
     "name": "stdout",
     "output_type": "stream",
     "text": [
      "=> Caching mask state for model.00.8395\n",
      "=> Caching mask state for model.2\n",
      "=> Caching mask state for model.4\n",
      "=> Caching mask state for model.0\n",
      "=> Caching mask state for model.2\n",
      "=> Caching mask state for model.4\n",
      "=> Caching mask state for model.0\n",
      "=> Caching mask state for model.2\n",
      "=> Caching mask state for model.4\n",
      "\n",
      "=> Setting learned tasks of model.0 to 5\n",
      "=> Setting learned tasks of model.2 to 5\n",
      "=> Setting learned tasks of model.4 to 5\n",
      "=> Setting learned tasks of model.0 to 5\n",
      "=> Setting learned tasks of model.2 to 5\n",
      "=> Setting learned tasks of model.4 to 5\n",
      "=> Setting learned tasks of model.0 to 5\n",
      "=> Setting learned tasks of model.2 to 5\n",
      "=> Setting learned tasks of model.4 to 5\n",
      "\n"
     ]
    }
   ],
   "source": [
    "for task in range(num_tasks):\n",
    "    print(f\"Training for task {task}\")\n",
    "    set_model_task(model1, task)\n",
    "    set_model_task(model2, task)\n",
    "    set_model_task(model3, task)\n",
    "    mnist1.update_task(task)\n",
    "    mnist2.update_task(task)\n",
    "    mnist3.update_task(task)\n",
    "\n",
    "    optimizer1 = optim.RMSprop([p for p in model1.parameters() if p.requires_grad], lr=1e-4)\n",
    "    optimizer2 = optim.RMSprop([p for p in model2.parameters() if p.requires_grad], lr=1e-4)\n",
    "    optimizer3 = optim.RMSprop([p for p in model3.parameters() if p.requires_grad], lr=1e-4)\n",
    "    # Train for 1 epoch\n",
    "    for e in range(1):\n",
    "        train(model1, mnist1.train_loader, optimizer1, e)\n",
    "        train(model2, mnist2.train_loader, optimizer2, e)\n",
    "        train(model3, mnist3.train_loader, optimizer3, e)\n",
    "\n",
    "#         print(\"Validation\")\n",
    "#         print(\"============\")\n",
    "#         acc1 = evaluate(model, mnist.val_loader, e)\n",
    "\n",
    "\n",
    "    cache_masks(model1)\n",
    "    cache_masks(model2)\n",
    "    cache_masks(model3)\n",
    "    print()\n",
    "    set_num_tasks_learned(model1, task + 1)\n",
    "    set_num_tasks_learned(model2, task + 1)\n",
    "    set_num_tasks_learned(model3, task + 1)\n",
    "    print()"
   ]
  },
  {
   "cell_type": "code",
   "execution_count": 174,
   "metadata": {},
   "outputs": [],
   "source": [
    "def overlap(mask1, mask2):\n",
    "    assert mask1.shape == mask2.shape\n",
    "    count_same = (mask1 + mask2 - 1).abs().sum()\n",
    "    return count_same / (1.0*(mask1.shape[0] * mask1.shape[1]))"
   ]
  },
  {
   "cell_type": "code",
   "execution_count": 175,
   "metadata": {},
   "outputs": [],
   "source": [
    "from itertools import product"
   ]
  },
  {
   "cell_type": "code",
   "execution_count": 176,
   "metadata": {},
   "outputs": [
    {
     "name": "stdout",
     "output_type": "stream",
     "text": [
      "Layer: 0, Task: 0, Overlap: 0.6428911685943604\n",
      "Layer: 0, Task: 1, Overlap: 0.6420833468437195\n",
      "Layer: 0, Task: 2, Overlap: 0.6420493125915527\n",
      "Layer: 0, Task: 3, Overlap: 0.6426190733909607\n",
      "Layer: 0, Task: 4, Overlap: 0.6432312726974487\n",
      "Layer: 2, Task: 0, Overlap: 0.6288444399833679\n",
      "Layer: 2, Task: 1, Overlap: 0.6273333430290222\n",
      "Layer: 2, Task: 2, Overlap: 0.6287555694580078\n",
      "Layer: 2, Task: 3, Overlap: 0.6279555559158325\n",
      "Layer: 2, Task: 4, Overlap: 0.627488911151886\n",
      "Layer: 4, Task: 0, Overlap: 0.6443333625793457\n",
      "Layer: 4, Task: 1, Overlap: 0.6440666913986206\n",
      "Layer: 4, Task: 2, Overlap: 0.6439999938011169\n",
      "Layer: 4, Task: 3, Overlap: 0.6449333429336548\n",
      "Layer: 4, Task: 4, Overlap: 0.642799973487854\n"
     ]
    }
   ],
   "source": [
    "for layer, task in product([0,2,4], [i for i in range(5)]):\n",
    "    print('Layer: {}, Task: {}, Overlap: {}'.format(layer, task,\n",
    "        overlap(model2.state_dict()['model.{}.stacked'.format(layer)][task],\n",
    "                model3.state_dict()['model.{}.stacked'.format(layer)][task])))"
   ]
  },
  {
   "cell_type": "markdown",
   "metadata": {},
   "source": [
    "## Overlap Analysis with Sparsity (5%)"
   ]
  },
  {
   "cell_type": "code",
   "execution_count": 177,
   "metadata": {},
   "outputs": [],
   "source": [
    "mnist1 = MNISTPerm()\n",
    "mnist2 = MNISTPerm()\n",
    "mnist3 = MNISTPerm()\n",
    "mnist4 = MNISTPerm()"
   ]
  },
  {
   "cell_type": "code",
   "execution_count": 178,
   "metadata": {},
   "outputs": [],
   "source": [
    "weight_dict = {k: v for k,v in models.state_dict().items() if k.endswith('weight')}"
   ]
  },
  {
   "cell_type": "code",
   "execution_count": 179,
   "metadata": {},
   "outputs": [
    {
     "data": {
      "text/plain": [
       "<All keys matched successfully>"
      ]
     },
     "execution_count": 179,
     "metadata": {},
     "output_type": "execute_result"
    }
   ],
   "source": [
    "# Task ID given during train time\n",
    "from IPython.display import clear_output\n",
    "\n",
    "num_tasks = 5 # For demonstration purposes, we go up to 2500 in our paper\n",
    "model1 = MultitaskFCSparse(hidden_size=300, num_tasks=num_tasks, sparsity=0.05)\n",
    "sd1 = model1.state_dict()\n",
    "sd1.update(weight_dict)\n",
    "model1.load_state_dict(sd1)\n",
    "model2 = MultitaskFCSparse(hidden_size=300, num_tasks=num_tasks, sparsity=0.05)\n",
    "sd2 = model2.state_dict()\n",
    "sd2.update(weight_dict)\n",
    "model2.load_state_dict(sd2)\n",
    "model3 = MultitaskFCSparse(hidden_size=300, num_tasks=num_tasks, sparsity=0.05)\n",
    "sd3 = model3.state_dict()\n",
    "sd3.update(weight_dict)\n",
    "model3.load_state_dict(sd3)"
   ]
  },
  {
   "cell_type": "code",
   "execution_count": 180,
   "metadata": {
    "scrolled": true
   },
   "outputs": [
    {
     "name": "stdout",
     "output_type": "stream",
     "text": [
      "Training for task 0\n",
      "=> Set task of model.0 to 0\n",
      "=> Set task of model.2 to 0\n",
      "=> Set task of model.4 to 0\n",
      "=> Set task of model.0 to 0\n",
      "=> Set task of model.2 to 0\n",
      "=> Set task of model.4 to 0\n",
      "=> Set task of model.0 to 0\n",
      "=> Set task of model.2 to 0\n",
      "=> Set task of model.4 to 0\n"
     ]
    },
    {
     "data": {
      "application/vnd.jupyter.widget-view+json": {
       "model_id": "",
       "version_major": 2,
       "version_minor": 0
      },
      "text/plain": [
       "  0%|          | 0/469 [00:00<?, ?it/s]"
      ]
     },
     "metadata": {},
     "output_type": "display_data"
    },
    {
     "name": "stdout",
     "output_type": "stream",
     "text": [
      "e0 461/469 => Loss 2.6100, Acc@1 0.3216\r"
     ]
    },
    {
     "data": {
      "application/vnd.jupyter.widget-view+json": {
       "model_id": "",
       "version_major": 2,
       "version_minor": 0
      },
      "text/plain": [
       "  0%|          | 0/469 [00:00<?, ?it/s]"
      ]
     },
     "metadata": {},
     "output_type": "display_data"
    },
    {
     "name": "stdout",
     "output_type": "stream",
     "text": [
      "e0 461/469 => Loss 2.5388, Acc@1 0.3506\r"
     ]
    },
    {
     "data": {
      "application/vnd.jupyter.widget-view+json": {
       "model_id": "",
       "version_major": 2,
       "version_minor": 0
      },
      "text/plain": [
       "  0%|          | 0/469 [00:00<?, ?it/s]"
      ]
     },
     "metadata": {},
     "output_type": "display_data"
    },
    {
     "name": "stdout",
     "output_type": "stream",
     "text": [
      "=> Caching mask state for model.00.3001\n",
      "=> Caching mask state for model.2\n",
      "=> Caching mask state for model.4\n",
      "=> Caching mask state for model.0\n",
      "=> Caching mask state for model.2\n",
      "=> Caching mask state for model.4\n",
      "=> Caching mask state for model.0\n",
      "=> Caching mask state for model.2\n",
      "=> Caching mask state for model.4\n",
      "\n",
      "=> Setting learned tasks of model.0 to 1\n",
      "=> Setting learned tasks of model.2 to 1\n",
      "=> Setting learned tasks of model.4 to 1\n",
      "=> Setting learned tasks of model.0 to 1\n",
      "=> Setting learned tasks of model.2 to 1\n",
      "=> Setting learned tasks of model.4 to 1\n",
      "=> Setting learned tasks of model.0 to 1\n",
      "=> Setting learned tasks of model.2 to 1\n",
      "=> Setting learned tasks of model.4 to 1\n",
      "\n",
      "Training for task 1\n",
      "=> Set task of model.0 to 1\n",
      "=> Set task of model.2 to 1\n",
      "=> Set task of model.4 to 1\n",
      "=> Set task of model.0 to 1\n",
      "=> Set task of model.2 to 1\n",
      "=> Set task of model.4 to 1\n",
      "=> Set task of model.0 to 1\n",
      "=> Set task of model.2 to 1\n",
      "=> Set task of model.4 to 1\n"
     ]
    },
    {
     "data": {
      "application/vnd.jupyter.widget-view+json": {
       "model_id": "",
       "version_major": 2,
       "version_minor": 0
      },
      "text/plain": [
       "  0%|          | 0/469 [00:00<?, ?it/s]"
      ]
     },
     "metadata": {},
     "output_type": "display_data"
    },
    {
     "name": "stdout",
     "output_type": "stream",
     "text": [
      "e0 461/469 => Loss 2.5993, Acc@1 0.3086\r"
     ]
    },
    {
     "data": {
      "application/vnd.jupyter.widget-view+json": {
       "model_id": "",
       "version_major": 2,
       "version_minor": 0
      },
      "text/plain": [
       "  0%|          | 0/469 [00:00<?, ?it/s]"
      ]
     },
     "metadata": {},
     "output_type": "display_data"
    },
    {
     "name": "stdout",
     "output_type": "stream",
     "text": [
      "e0 461/469 => Loss 2.5760, Acc@1 0.3245\r"
     ]
    },
    {
     "data": {
      "application/vnd.jupyter.widget-view+json": {
       "model_id": "",
       "version_major": 2,
       "version_minor": 0
      },
      "text/plain": [
       "  0%|          | 0/469 [00:00<?, ?it/s]"
      ]
     },
     "metadata": {},
     "output_type": "display_data"
    },
    {
     "name": "stdout",
     "output_type": "stream",
     "text": [
      "=> Caching mask state for model.00.3900\n",
      "=> Caching mask state for model.2\n",
      "=> Caching mask state for model.4\n",
      "=> Caching mask state for model.0\n",
      "=> Caching mask state for model.2\n",
      "=> Caching mask state for model.4\n",
      "=> Caching mask state for model.0\n",
      "=> Caching mask state for model.2\n",
      "=> Caching mask state for model.4\n",
      "\n",
      "=> Setting learned tasks of model.0 to 2\n",
      "=> Setting learned tasks of model.2 to 2\n",
      "=> Setting learned tasks of model.4 to 2\n",
      "=> Setting learned tasks of model.0 to 2\n",
      "=> Setting learned tasks of model.2 to 2\n",
      "=> Setting learned tasks of model.4 to 2\n",
      "=> Setting learned tasks of model.0 to 2\n",
      "=> Setting learned tasks of model.2 to 2\n",
      "=> Setting learned tasks of model.4 to 2\n",
      "\n",
      "Training for task 2\n",
      "=> Set task of model.0 to 2\n",
      "=> Set task of model.2 to 2\n",
      "=> Set task of model.4 to 2\n",
      "=> Set task of model.0 to 2\n",
      "=> Set task of model.2 to 2\n",
      "=> Set task of model.4 to 2\n",
      "=> Set task of model.0 to 2\n",
      "=> Set task of model.2 to 2\n",
      "=> Set task of model.4 to 2\n"
     ]
    },
    {
     "data": {
      "application/vnd.jupyter.widget-view+json": {
       "model_id": "",
       "version_major": 2,
       "version_minor": 0
      },
      "text/plain": [
       "  0%|          | 0/469 [00:00<?, ?it/s]"
      ]
     },
     "metadata": {},
     "output_type": "display_data"
    },
    {
     "name": "stdout",
     "output_type": "stream",
     "text": [
      "e0 461/469 => Loss 2.5494, Acc@1 0.3434\r"
     ]
    },
    {
     "data": {
      "application/vnd.jupyter.widget-view+json": {
       "model_id": "",
       "version_major": 2,
       "version_minor": 0
      },
      "text/plain": [
       "  0%|          | 0/469 [00:00<?, ?it/s]"
      ]
     },
     "metadata": {},
     "output_type": "display_data"
    },
    {
     "name": "stdout",
     "output_type": "stream",
     "text": [
      "e0 461/469 => Loss 2.5749, Acc@1 0.2956\r"
     ]
    },
    {
     "data": {
      "application/vnd.jupyter.widget-view+json": {
       "model_id": "",
       "version_major": 2,
       "version_minor": 0
      },
      "text/plain": [
       "  0%|          | 0/469 [00:00<?, ?it/s]"
      ]
     },
     "metadata": {},
     "output_type": "display_data"
    },
    {
     "name": "stdout",
     "output_type": "stream",
     "text": [
      "=> Caching mask state for model.00.3307\n",
      "=> Caching mask state for model.2\n",
      "=> Caching mask state for model.4\n",
      "=> Caching mask state for model.0\n",
      "=> Caching mask state for model.2\n",
      "=> Caching mask state for model.4\n",
      "=> Caching mask state for model.0\n",
      "=> Caching mask state for model.2\n",
      "=> Caching mask state for model.4\n",
      "\n",
      "=> Setting learned tasks of model.0 to 3\n",
      "=> Setting learned tasks of model.2 to 3\n",
      "=> Setting learned tasks of model.4 to 3\n",
      "=> Setting learned tasks of model.0 to 3\n",
      "=> Setting learned tasks of model.2 to 3\n",
      "=> Setting learned tasks of model.4 to 3\n",
      "=> Setting learned tasks of model.0 to 3\n",
      "=> Setting learned tasks of model.2 to 3\n",
      "=> Setting learned tasks of model.4 to 3\n",
      "\n",
      "Training for task 3\n",
      "=> Set task of model.0 to 3\n",
      "=> Set task of model.2 to 3\n",
      "=> Set task of model.4 to 3\n",
      "=> Set task of model.0 to 3\n",
      "=> Set task of model.2 to 3\n",
      "=> Set task of model.4 to 3\n",
      "=> Set task of model.0 to 3\n",
      "=> Set task of model.2 to 3\n",
      "=> Set task of model.4 to 3\n"
     ]
    },
    {
     "data": {
      "application/vnd.jupyter.widget-view+json": {
       "model_id": "",
       "version_major": 2,
       "version_minor": 0
      },
      "text/plain": [
       "  0%|          | 0/469 [00:00<?, ?it/s]"
      ]
     },
     "metadata": {},
     "output_type": "display_data"
    },
    {
     "name": "stdout",
     "output_type": "stream",
     "text": [
      "e0 461/469 => Loss 2.5912, Acc@1 0.3600\r"
     ]
    },
    {
     "data": {
      "application/vnd.jupyter.widget-view+json": {
       "model_id": "",
       "version_major": 2,
       "version_minor": 0
      },
      "text/plain": [
       "  0%|          | 0/469 [00:00<?, ?it/s]"
      ]
     },
     "metadata": {},
     "output_type": "display_data"
    },
    {
     "name": "stdout",
     "output_type": "stream",
     "text": [
      "e0 461/469 => Loss 2.5472, Acc@1 0.3096\r"
     ]
    },
    {
     "data": {
      "application/vnd.jupyter.widget-view+json": {
       "model_id": "",
       "version_major": 2,
       "version_minor": 0
      },
      "text/plain": [
       "  0%|          | 0/469 [00:00<?, ?it/s]"
      ]
     },
     "metadata": {},
     "output_type": "display_data"
    },
    {
     "name": "stdout",
     "output_type": "stream",
     "text": [
      "=> Caching mask state for model.00.3190\n",
      "=> Caching mask state for model.2\n",
      "=> Caching mask state for model.4\n",
      "=> Caching mask state for model.0\n",
      "=> Caching mask state for model.2\n",
      "=> Caching mask state for model.4\n",
      "=> Caching mask state for model.0\n",
      "=> Caching mask state for model.2\n",
      "=> Caching mask state for model.4\n",
      "\n",
      "=> Setting learned tasks of model.0 to 4\n",
      "=> Setting learned tasks of model.2 to 4\n",
      "=> Setting learned tasks of model.4 to 4\n",
      "=> Setting learned tasks of model.0 to 4\n",
      "=> Setting learned tasks of model.2 to 4\n",
      "=> Setting learned tasks of model.4 to 4\n",
      "=> Setting learned tasks of model.0 to 4\n",
      "=> Setting learned tasks of model.2 to 4\n",
      "=> Setting learned tasks of model.4 to 4\n",
      "\n",
      "Training for task 4\n",
      "=> Set task of model.0 to 4\n",
      "=> Set task of model.2 to 4\n",
      "=> Set task of model.4 to 4\n",
      "=> Set task of model.0 to 4\n",
      "=> Set task of model.2 to 4\n",
      "=> Set task of model.4 to 4\n",
      "=> Set task of model.0 to 4\n",
      "=> Set task of model.2 to 4\n",
      "=> Set task of model.4 to 4\n"
     ]
    },
    {
     "data": {
      "application/vnd.jupyter.widget-view+json": {
       "model_id": "",
       "version_major": 2,
       "version_minor": 0
      },
      "text/plain": [
       "  0%|          | 0/469 [00:00<?, ?it/s]"
      ]
     },
     "metadata": {},
     "output_type": "display_data"
    },
    {
     "name": "stdout",
     "output_type": "stream",
     "text": [
      "e0 461/469 => Loss 2.5756, Acc@1 0.2614\r"
     ]
    },
    {
     "data": {
      "application/vnd.jupyter.widget-view+json": {
       "model_id": "",
       "version_major": 2,
       "version_minor": 0
      },
      "text/plain": [
       "  0%|          | 0/469 [00:00<?, ?it/s]"
      ]
     },
     "metadata": {},
     "output_type": "display_data"
    },
    {
     "name": "stdout",
     "output_type": "stream",
     "text": [
      "e0 461/469 => Loss 2.5821, Acc@1 0.2933\r"
     ]
    },
    {
     "data": {
      "application/vnd.jupyter.widget-view+json": {
       "model_id": "",
       "version_major": 2,
       "version_minor": 0
      },
      "text/plain": [
       "  0%|          | 0/469 [00:00<?, ?it/s]"
      ]
     },
     "metadata": {},
     "output_type": "display_data"
    },
    {
     "name": "stdout",
     "output_type": "stream",
     "text": [
      "=> Caching mask state for model.00.3981\n",
      "=> Caching mask state for model.2\n",
      "=> Caching mask state for model.4\n",
      "=> Caching mask state for model.0\n",
      "=> Caching mask state for model.2\n",
      "=> Caching mask state for model.4\n",
      "=> Caching mask state for model.0\n",
      "=> Caching mask state for model.2\n",
      "=> Caching mask state for model.4\n",
      "\n",
      "=> Setting learned tasks of model.0 to 5\n",
      "=> Setting learned tasks of model.2 to 5\n",
      "=> Setting learned tasks of model.4 to 5\n",
      "=> Setting learned tasks of model.0 to 5\n",
      "=> Setting learned tasks of model.2 to 5\n",
      "=> Setting learned tasks of model.4 to 5\n",
      "=> Setting learned tasks of model.0 to 5\n",
      "=> Setting learned tasks of model.2 to 5\n",
      "=> Setting learned tasks of model.4 to 5\n",
      "\n"
     ]
    }
   ],
   "source": [
    "for task in range(num_tasks):\n",
    "    print(f\"Training for task {task}\")\n",
    "    set_model_task(model1, task)\n",
    "    set_model_task(model2, task)\n",
    "    set_model_task(model3, task)\n",
    "    mnist1.update_task(task)\n",
    "    mnist2.update_task(task)\n",
    "    mnist3.update_task(task)\n",
    "\n",
    "    optimizer1 = optim.RMSprop([p for p in model1.parameters() if p.requires_grad], lr=1e-4)\n",
    "    optimizer2 = optim.RMSprop([p for p in model2.parameters() if p.requires_grad], lr=1e-4)\n",
    "    optimizer3 = optim.RMSprop([p for p in model3.parameters() if p.requires_grad], lr=1e-4)\n",
    "    # Train for 1 epoch\n",
    "    for e in range(1):\n",
    "        train(model1, mnist1.train_loader, optimizer1, e)\n",
    "        train(model2, mnist2.train_loader, optimizer2, e)\n",
    "        train(model3, mnist3.train_loader, optimizer3, e)\n",
    "\n",
    "#         print(\"Validation\")\n",
    "#         print(\"============\")\n",
    "#         acc1 = evaluate(model, mnist.val_loader, e)\n",
    "\n",
    "\n",
    "    cache_masks(model1)\n",
    "    cache_masks(model2)\n",
    "    cache_masks(model3)\n",
    "    print()\n",
    "    set_num_tasks_learned(model1, task + 1)\n",
    "    set_num_tasks_learned(model2, task + 1)\n",
    "    set_num_tasks_learned(model3, task + 1)\n",
    "    print()"
   ]
  },
  {
   "cell_type": "code",
   "execution_count": 181,
   "metadata": {},
   "outputs": [],
   "source": [
    "def overlap(mask1, mask2):\n",
    "    assert mask1.shape == mask2.shape\n",
    "    count_same = (mask1 + mask2 - 1).abs().sum()\n",
    "    return count_same / (1.0*(mask1.shape[0] * mask1.shape[1]))"
   ]
  },
  {
   "cell_type": "code",
   "execution_count": 182,
   "metadata": {},
   "outputs": [],
   "source": [
    "from itertools import product"
   ]
  },
  {
   "cell_type": "code",
   "execution_count": 183,
   "metadata": {},
   "outputs": [
    {
     "name": "stdout",
     "output_type": "stream",
     "text": [
      "Layer: 0, Task: 0, Overlap: 0.912508487701416\n",
      "Layer: 0, Task: 1, Overlap: 0.9120748043060303\n",
      "Layer: 0, Task: 2, Overlap: 0.9122363924980164\n",
      "Layer: 0, Task: 3, Overlap: 0.912295937538147\n",
      "Layer: 0, Task: 4, Overlap: 0.9120323061943054\n",
      "Layer: 2, Task: 0, Overlap: 0.9100444316864014\n",
      "Layer: 2, Task: 1, Overlap: 0.9103778004646301\n",
      "Layer: 2, Task: 2, Overlap: 0.9103555679321289\n",
      "Layer: 2, Task: 3, Overlap: 0.9097777605056763\n",
      "Layer: 2, Task: 4, Overlap: 0.9114000201225281\n",
      "Layer: 4, Task: 0, Overlap: 0.9117333292961121\n",
      "Layer: 4, Task: 1, Overlap: 0.9111999869346619\n",
      "Layer: 4, Task: 2, Overlap: 0.9112666845321655\n",
      "Layer: 4, Task: 3, Overlap: 0.9115999937057495\n",
      "Layer: 4, Task: 4, Overlap: 0.9118666648864746\n"
     ]
    }
   ],
   "source": [
    "for layer, task in product([0,2,4], [i for i in range(5)]):\n",
    "    print('Layer: {}, Task: {}, Overlap: {}'.format(layer, task,\n",
    "        overlap(model2.state_dict()['model.{}.stacked'.format(layer)][task],\n",
    "                model3.state_dict()['model.{}.stacked'.format(layer)][task])))"
   ]
  },
  {
   "cell_type": "markdown",
   "metadata": {},
   "source": [
    "### Multimask Same Task "
   ]
  },
  {
   "cell_type": "code",
   "execution_count": 203,
   "metadata": {},
   "outputs": [],
   "source": [
    "num_masks_to_create = 15"
   ]
  },
  {
   "cell_type": "code",
   "execution_count": 204,
   "metadata": {},
   "outputs": [],
   "source": [
    "loaders = {}\n",
    "for i in range(num_masks_to_create):\n",
    "    loaders[i] = MNISTPerm()"
   ]
  },
  {
   "cell_type": "code",
   "execution_count": 205,
   "metadata": {},
   "outputs": [],
   "source": [
    "weight_dict = {k: v for k,v in model.state_dict().items() if k.endswith('weight')}"
   ]
  },
  {
   "cell_type": "code",
   "execution_count": 206,
   "metadata": {},
   "outputs": [],
   "source": [
    "# Task ID given during train time\n",
    "from IPython.display import clear_output\n",
    "\n",
    "model_map = {}\n",
    "for i in range(num_masks_to_create):\n",
    "    modeli = MultitaskFC(hidden_size=300, num_tasks=1)\n",
    "    sdi = modeli.state_dict()\n",
    "    sdi.update(weight_dict)\n",
    "    modeli.load_state_dict(sdi)\n",
    "    model_map[i] = modeli"
   ]
  },
  {
   "cell_type": "code",
   "execution_count": 207,
   "metadata": {
    "scrolled": true
   },
   "outputs": [
    {
     "name": "stdout",
     "output_type": "stream",
     "text": [
      "Training for task 0\n",
      "=> Set task of model.0 to 0\n",
      "=> Set task of model.2 to 0\n",
      "=> Set task of model.4 to 0\n"
     ]
    },
    {
     "data": {
      "application/vnd.jupyter.widget-view+json": {
       "model_id": "3843a32d8dab4d2e8740e3ac11117a92",
       "version_major": 2,
       "version_minor": 0
      },
      "text/plain": [
       "  0%|          | 0/469 [00:00<?, ?it/s]"
      ]
     },
     "metadata": {},
     "output_type": "display_data"
    },
    {
     "name": "stdout",
     "output_type": "stream",
     "text": [
      "Validation => Loss 0.2728, Acc@1 0.8610\n",
      "============\n"
     ]
    },
    {
     "data": {
      "application/vnd.jupyter.widget-view+json": {
       "model_id": "73bc644fa8fe44dd934c51179b917cf6",
       "version_major": 2,
       "version_minor": 0
      },
      "text/plain": [
       "  0%|          | 0/79 [00:00<?, ?it/s]"
      ]
     },
     "metadata": {},
     "output_type": "display_data"
    },
    {
     "name": "stdout",
     "output_type": "stream",
     "text": [
      "Val Perf after 1 epochs Acc@1 0.9274\n",
      "=> Caching mask state for model.0\n",
      "=> Caching mask state for model.2\n",
      "=> Caching mask state for model.4\n",
      "\n",
      "=> Setting learned tasks of model.0 to 1\n",
      "=> Setting learned tasks of model.2 to 1\n",
      "=> Setting learned tasks of model.4 to 1\n",
      "\n",
      "Training for task 0\n",
      "=> Set task of model.0 to 0\n",
      "=> Set task of model.2 to 0\n",
      "=> Set task of model.4 to 0\n"
     ]
    },
    {
     "data": {
      "application/vnd.jupyter.widget-view+json": {
       "model_id": "6a38b5eda3ca4b059a17654e3e5df8ce",
       "version_major": 2,
       "version_minor": 0
      },
      "text/plain": [
       "  0%|          | 0/469 [00:00<?, ?it/s]"
      ]
     },
     "metadata": {},
     "output_type": "display_data"
    },
    {
     "name": "stdout",
     "output_type": "stream",
     "text": [
      "Validation => Loss 0.2012, Acc@1 0.8587\n",
      "============\n"
     ]
    },
    {
     "data": {
      "application/vnd.jupyter.widget-view+json": {
       "model_id": "1377d8ac26ac442aae62d5bd3a8dc689",
       "version_major": 2,
       "version_minor": 0
      },
      "text/plain": [
       "  0%|          | 0/79 [00:00<?, ?it/s]"
      ]
     },
     "metadata": {},
     "output_type": "display_data"
    },
    {
     "name": "stdout",
     "output_type": "stream",
     "text": [
      "Val Perf after 1 epochs Acc@1 0.9257\n",
      "=> Caching mask state for model.0\n",
      "=> Caching mask state for model.2\n",
      "=> Caching mask state for model.4\n",
      "\n",
      "=> Setting learned tasks of model.0 to 1\n",
      "=> Setting learned tasks of model.2 to 1\n",
      "=> Setting learned tasks of model.4 to 1\n",
      "\n",
      "Training for task 0\n",
      "=> Set task of model.0 to 0\n",
      "=> Set task of model.2 to 0\n",
      "=> Set task of model.4 to 0\n"
     ]
    },
    {
     "data": {
      "application/vnd.jupyter.widget-view+json": {
       "model_id": "7d67f4aa0e844f6eb23740dc6b274b52",
       "version_major": 2,
       "version_minor": 0
      },
      "text/plain": [
       "  0%|          | 0/469 [00:00<?, ?it/s]"
      ]
     },
     "metadata": {},
     "output_type": "display_data"
    },
    {
     "name": "stdout",
     "output_type": "stream",
     "text": [
      "Validation => Loss 0.4101, Acc@1 0.8499\n",
      "============\n"
     ]
    },
    {
     "data": {
      "application/vnd.jupyter.widget-view+json": {
       "model_id": "6c6ca57174f94bd2849be827f01c2d36",
       "version_major": 2,
       "version_minor": 0
      },
      "text/plain": [
       "  0%|          | 0/79 [00:00<?, ?it/s]"
      ]
     },
     "metadata": {},
     "output_type": "display_data"
    },
    {
     "name": "stdout",
     "output_type": "stream",
     "text": [
      "Val Perf after 1 epochs Acc@1 0.9225\n",
      "=> Caching mask state for model.0\n",
      "=> Caching mask state for model.2\n",
      "=> Caching mask state for model.4\n",
      "\n",
      "=> Setting learned tasks of model.0 to 1\n",
      "=> Setting learned tasks of model.2 to 1\n",
      "=> Setting learned tasks of model.4 to 1\n",
      "\n",
      "Training for task 0\n",
      "=> Set task of model.0 to 0\n",
      "=> Set task of model.2 to 0\n",
      "=> Set task of model.4 to 0\n"
     ]
    },
    {
     "data": {
      "application/vnd.jupyter.widget-view+json": {
       "model_id": "904898b22f5d4ef98270a20afa55a96e",
       "version_major": 2,
       "version_minor": 0
      },
      "text/plain": [
       "  0%|          | 0/469 [00:00<?, ?it/s]"
      ]
     },
     "metadata": {},
     "output_type": "display_data"
    },
    {
     "name": "stdout",
     "output_type": "stream",
     "text": [
      "Validation => Loss 0.3553, Acc@1 0.8447\n",
      "============\n"
     ]
    },
    {
     "data": {
      "application/vnd.jupyter.widget-view+json": {
       "model_id": "6da4d6df44604aa291d3847639d6f3bc",
       "version_major": 2,
       "version_minor": 0
      },
      "text/plain": [
       "  0%|          | 0/79 [00:00<?, ?it/s]"
      ]
     },
     "metadata": {},
     "output_type": "display_data"
    },
    {
     "name": "stdout",
     "output_type": "stream",
     "text": [
      "Val Perf after 1 epochs Acc@1 0.9246\n",
      "=> Caching mask state for model.0\n",
      "=> Caching mask state for model.2\n",
      "=> Caching mask state for model.4\n",
      "\n",
      "=> Setting learned tasks of model.0 to 1\n",
      "=> Setting learned tasks of model.2 to 1\n",
      "=> Setting learned tasks of model.4 to 1\n",
      "\n",
      "Training for task 0\n",
      "=> Set task of model.0 to 0\n",
      "=> Set task of model.2 to 0\n",
      "=> Set task of model.4 to 0\n"
     ]
    },
    {
     "data": {
      "application/vnd.jupyter.widget-view+json": {
       "model_id": "3c1def4277a74d6cb67b0b69615e50b4",
       "version_major": 2,
       "version_minor": 0
      },
      "text/plain": [
       "  0%|          | 0/469 [00:00<?, ?it/s]"
      ]
     },
     "metadata": {},
     "output_type": "display_data"
    },
    {
     "name": "stdout",
     "output_type": "stream",
     "text": [
      "Validation => Loss 0.3421, Acc@1 0.8538\n",
      "============\n"
     ]
    },
    {
     "data": {
      "application/vnd.jupyter.widget-view+json": {
       "model_id": "a18978f7466d428a96c59f6b31e4c59d",
       "version_major": 2,
       "version_minor": 0
      },
      "text/plain": [
       "  0%|          | 0/79 [00:00<?, ?it/s]"
      ]
     },
     "metadata": {},
     "output_type": "display_data"
    },
    {
     "name": "stdout",
     "output_type": "stream",
     "text": [
      "Val Perf after 1 epochs Acc@1 0.9259\n",
      "=> Caching mask state for model.0\n",
      "=> Caching mask state for model.2\n",
      "=> Caching mask state for model.4\n",
      "\n",
      "=> Setting learned tasks of model.0 to 1\n",
      "=> Setting learned tasks of model.2 to 1\n",
      "=> Setting learned tasks of model.4 to 1\n",
      "\n",
      "Training for task 0\n",
      "=> Set task of model.0 to 0\n",
      "=> Set task of model.2 to 0\n",
      "=> Set task of model.4 to 0\n"
     ]
    },
    {
     "data": {
      "application/vnd.jupyter.widget-view+json": {
       "model_id": "19b0d33b1a884e1d91f8e1ef75e7320f",
       "version_major": 2,
       "version_minor": 0
      },
      "text/plain": [
       "  0%|          | 0/469 [00:00<?, ?it/s]"
      ]
     },
     "metadata": {},
     "output_type": "display_data"
    },
    {
     "name": "stdout",
     "output_type": "stream",
     "text": [
      "Validation => Loss 0.2036, Acc@1 0.8493\n",
      "============\n"
     ]
    },
    {
     "data": {
      "application/vnd.jupyter.widget-view+json": {
       "model_id": "1719d72499b645128d3c54c6544f3a61",
       "version_major": 2,
       "version_minor": 0
      },
      "text/plain": [
       "  0%|          | 0/79 [00:00<?, ?it/s]"
      ]
     },
     "metadata": {},
     "output_type": "display_data"
    },
    {
     "name": "stdout",
     "output_type": "stream",
     "text": [
      "Val Perf after 1 epochs Acc@1 0.9262\n",
      "=> Caching mask state for model.0\n",
      "=> Caching mask state for model.2\n",
      "=> Caching mask state for model.4\n",
      "\n",
      "=> Setting learned tasks of model.0 to 1\n",
      "=> Setting learned tasks of model.2 to 1\n",
      "=> Setting learned tasks of model.4 to 1\n",
      "\n",
      "Training for task 0\n",
      "=> Set task of model.0 to 0\n",
      "=> Set task of model.2 to 0\n",
      "=> Set task of model.4 to 0\n"
     ]
    },
    {
     "data": {
      "application/vnd.jupyter.widget-view+json": {
       "model_id": "5f148b10b5964f4f85cef4fd31347d2e",
       "version_major": 2,
       "version_minor": 0
      },
      "text/plain": [
       "  0%|          | 0/469 [00:00<?, ?it/s]"
      ]
     },
     "metadata": {},
     "output_type": "display_data"
    },
    {
     "name": "stdout",
     "output_type": "stream",
     "text": [
      "Validation => Loss 0.2799, Acc@1 0.8503\n",
      "============\n"
     ]
    },
    {
     "data": {
      "application/vnd.jupyter.widget-view+json": {
       "model_id": "85420876074c4f77ac01797472003c76",
       "version_major": 2,
       "version_minor": 0
      },
      "text/plain": [
       "  0%|          | 0/79 [00:00<?, ?it/s]"
      ]
     },
     "metadata": {},
     "output_type": "display_data"
    },
    {
     "name": "stdout",
     "output_type": "stream",
     "text": [
      "Val Perf after 1 epochs Acc@1 0.9258\n",
      "=> Caching mask state for model.0\n",
      "=> Caching mask state for model.2\n",
      "=> Caching mask state for model.4\n",
      "\n",
      "=> Setting learned tasks of model.0 to 1\n",
      "=> Setting learned tasks of model.2 to 1\n",
      "=> Setting learned tasks of model.4 to 1\n",
      "\n",
      "Training for task 0\n",
      "=> Set task of model.0 to 0\n",
      "=> Set task of model.2 to 0\n",
      "=> Set task of model.4 to 0\n"
     ]
    },
    {
     "data": {
      "application/vnd.jupyter.widget-view+json": {
       "model_id": "6576d83626bf4a368b59c6b0f5926b8e",
       "version_major": 2,
       "version_minor": 0
      },
      "text/plain": [
       "  0%|          | 0/469 [00:00<?, ?it/s]"
      ]
     },
     "metadata": {},
     "output_type": "display_data"
    },
    {
     "name": "stdout",
     "output_type": "stream",
     "text": [
      "Validation => Loss 0.3788, Acc@1 0.8477\n",
      "============\n"
     ]
    },
    {
     "data": {
      "application/vnd.jupyter.widget-view+json": {
       "model_id": "be14eb066ea048adae72a38b516f0269",
       "version_major": 2,
       "version_minor": 0
      },
      "text/plain": [
       "  0%|          | 0/79 [00:00<?, ?it/s]"
      ]
     },
     "metadata": {},
     "output_type": "display_data"
    },
    {
     "name": "stdout",
     "output_type": "stream",
     "text": [
      "Val Perf after 1 epochs Acc@1 0.9254\n",
      "=> Caching mask state for model.0\n",
      "=> Caching mask state for model.2\n",
      "=> Caching mask state for model.4\n",
      "\n",
      "=> Setting learned tasks of model.0 to 1\n",
      "=> Setting learned tasks of model.2 to 1\n",
      "=> Setting learned tasks of model.4 to 1\n",
      "\n",
      "Training for task 0\n",
      "=> Set task of model.0 to 0\n",
      "=> Set task of model.2 to 0\n",
      "=> Set task of model.4 to 0\n"
     ]
    },
    {
     "data": {
      "application/vnd.jupyter.widget-view+json": {
       "model_id": "102e8fd6d61440109bf236b51215b50f",
       "version_major": 2,
       "version_minor": 0
      },
      "text/plain": [
       "  0%|          | 0/469 [00:00<?, ?it/s]"
      ]
     },
     "metadata": {},
     "output_type": "display_data"
    },
    {
     "name": "stdout",
     "output_type": "stream",
     "text": [
      "Validation => Loss 0.3063, Acc@1 0.8633\n",
      "============\n"
     ]
    },
    {
     "data": {
      "application/vnd.jupyter.widget-view+json": {
       "model_id": "104302108f8b43cd91b7ceb1c14685ad",
       "version_major": 2,
       "version_minor": 0
      },
      "text/plain": [
       "  0%|          | 0/79 [00:00<?, ?it/s]"
      ]
     },
     "metadata": {},
     "output_type": "display_data"
    },
    {
     "name": "stdout",
     "output_type": "stream",
     "text": [
      "Val Perf after 1 epochs Acc@1 0.9269\n",
      "=> Caching mask state for model.0\n",
      "=> Caching mask state for model.2\n",
      "=> Caching mask state for model.4\n",
      "\n",
      "=> Setting learned tasks of model.0 to 1\n",
      "=> Setting learned tasks of model.2 to 1\n",
      "=> Setting learned tasks of model.4 to 1\n",
      "\n",
      "Training for task 0\n",
      "=> Set task of model.0 to 0\n",
      "=> Set task of model.2 to 0\n",
      "=> Set task of model.4 to 0\n"
     ]
    },
    {
     "data": {
      "application/vnd.jupyter.widget-view+json": {
       "model_id": "03cd8a9aef5f413caea865af8338a724",
       "version_major": 2,
       "version_minor": 0
      },
      "text/plain": [
       "  0%|          | 0/469 [00:00<?, ?it/s]"
      ]
     },
     "metadata": {},
     "output_type": "display_data"
    },
    {
     "name": "stdout",
     "output_type": "stream",
     "text": [
      "Validation => Loss 0.2844, Acc@1 0.8607\n",
      "============\n"
     ]
    },
    {
     "data": {
      "application/vnd.jupyter.widget-view+json": {
       "model_id": "46516ecc91664829b59fb83b16f8f799",
       "version_major": 2,
       "version_minor": 0
      },
      "text/plain": [
       "  0%|          | 0/79 [00:00<?, ?it/s]"
      ]
     },
     "metadata": {},
     "output_type": "display_data"
    },
    {
     "name": "stdout",
     "output_type": "stream",
     "text": [
      "Val Perf after 1 epochs Acc@1 0.9246\n",
      "=> Caching mask state for model.0\n",
      "=> Caching mask state for model.2\n",
      "=> Caching mask state for model.4\n",
      "\n",
      "=> Setting learned tasks of model.0 to 1\n",
      "=> Setting learned tasks of model.2 to 1\n",
      "=> Setting learned tasks of model.4 to 1\n",
      "\n",
      "Training for task 0\n",
      "=> Set task of model.0 to 0\n",
      "=> Set task of model.2 to 0\n",
      "=> Set task of model.4 to 0\n"
     ]
    },
    {
     "data": {
      "application/vnd.jupyter.widget-view+json": {
       "model_id": "7705d9d3d13c4ce9beeb7643301060ef",
       "version_major": 2,
       "version_minor": 0
      },
      "text/plain": [
       "  0%|          | 0/469 [00:00<?, ?it/s]"
      ]
     },
     "metadata": {},
     "output_type": "display_data"
    },
    {
     "name": "stdout",
     "output_type": "stream",
     "text": [
      "Validation => Loss 0.2708, Acc@1 0.8529\n",
      "============\n"
     ]
    },
    {
     "data": {
      "application/vnd.jupyter.widget-view+json": {
       "model_id": "12a05ea7fc7143d0b14d7a22bb5f4a23",
       "version_major": 2,
       "version_minor": 0
      },
      "text/plain": [
       "  0%|          | 0/79 [00:00<?, ?it/s]"
      ]
     },
     "metadata": {},
     "output_type": "display_data"
    },
    {
     "name": "stdout",
     "output_type": "stream",
     "text": [
      "Val Perf after 1 epochs Acc@1 0.9239\n",
      "=> Caching mask state for model.0\n",
      "=> Caching mask state for model.2\n",
      "=> Caching mask state for model.4\n",
      "\n",
      "=> Setting learned tasks of model.0 to 1\n",
      "=> Setting learned tasks of model.2 to 1\n",
      "=> Setting learned tasks of model.4 to 1\n",
      "\n",
      "Training for task 0\n",
      "=> Set task of model.0 to 0\n",
      "=> Set task of model.2 to 0\n",
      "=> Set task of model.4 to 0\n"
     ]
    },
    {
     "data": {
      "application/vnd.jupyter.widget-view+json": {
       "model_id": "d10a86e5c19549e4902e57a08e7aa532",
       "version_major": 2,
       "version_minor": 0
      },
      "text/plain": [
       "  0%|          | 0/469 [00:00<?, ?it/s]"
      ]
     },
     "metadata": {},
     "output_type": "display_data"
    },
    {
     "name": "stdout",
     "output_type": "stream",
     "text": [
      "Validation => Loss 0.2453, Acc@1 0.8525\n",
      "============\n"
     ]
    },
    {
     "data": {
      "application/vnd.jupyter.widget-view+json": {
       "model_id": "c7e0c45dc0ec445abeb52b36369af186",
       "version_major": 2,
       "version_minor": 0
      },
      "text/plain": [
       "  0%|          | 0/79 [00:00<?, ?it/s]"
      ]
     },
     "metadata": {},
     "output_type": "display_data"
    },
    {
     "name": "stdout",
     "output_type": "stream",
     "text": [
      "Val Perf after 1 epochs Acc@1 0.9219\n",
      "=> Caching mask state for model.0\n",
      "=> Caching mask state for model.2\n",
      "=> Caching mask state for model.4\n",
      "\n",
      "=> Setting learned tasks of model.0 to 1\n",
      "=> Setting learned tasks of model.2 to 1\n",
      "=> Setting learned tasks of model.4 to 1\n",
      "\n",
      "Training for task 0\n",
      "=> Set task of model.0 to 0\n",
      "=> Set task of model.2 to 0\n",
      "=> Set task of model.4 to 0\n"
     ]
    },
    {
     "data": {
      "application/vnd.jupyter.widget-view+json": {
       "model_id": "52481f877aa0461987f7a980e3ea336a",
       "version_major": 2,
       "version_minor": 0
      },
      "text/plain": [
       "  0%|          | 0/469 [00:00<?, ?it/s]"
      ]
     },
     "metadata": {},
     "output_type": "display_data"
    },
    {
     "name": "stdout",
     "output_type": "stream",
     "text": [
      "Validation => Loss 0.3848, Acc@1 0.8483\n",
      "============\n"
     ]
    },
    {
     "data": {
      "application/vnd.jupyter.widget-view+json": {
       "model_id": "96763cdaeaa243f1b36345dcaaba1403",
       "version_major": 2,
       "version_minor": 0
      },
      "text/plain": [
       "  0%|          | 0/79 [00:00<?, ?it/s]"
      ]
     },
     "metadata": {},
     "output_type": "display_data"
    },
    {
     "name": "stdout",
     "output_type": "stream",
     "text": [
      "Val Perf after 1 epochs Acc@1 0.9217\n",
      "=> Caching mask state for model.0\n",
      "=> Caching mask state for model.2\n",
      "=> Caching mask state for model.4\n",
      "\n",
      "=> Setting learned tasks of model.0 to 1\n",
      "=> Setting learned tasks of model.2 to 1\n",
      "=> Setting learned tasks of model.4 to 1\n",
      "\n",
      "Training for task 0\n",
      "=> Set task of model.0 to 0\n",
      "=> Set task of model.2 to 0\n",
      "=> Set task of model.4 to 0\n"
     ]
    },
    {
     "data": {
      "application/vnd.jupyter.widget-view+json": {
       "model_id": "5ac2392bb0f64d7aa71cbe9f71644543",
       "version_major": 2,
       "version_minor": 0
      },
      "text/plain": [
       "  0%|          | 0/469 [00:00<?, ?it/s]"
      ]
     },
     "metadata": {},
     "output_type": "display_data"
    },
    {
     "name": "stdout",
     "output_type": "stream",
     "text": [
      "Validation => Loss 0.3255, Acc@1 0.8555\n",
      "============\n"
     ]
    },
    {
     "data": {
      "application/vnd.jupyter.widget-view+json": {
       "model_id": "8ddc5a191c1a4871a83210d7cc5113fb",
       "version_major": 2,
       "version_minor": 0
      },
      "text/plain": [
       "  0%|          | 0/79 [00:00<?, ?it/s]"
      ]
     },
     "metadata": {},
     "output_type": "display_data"
    },
    {
     "name": "stdout",
     "output_type": "stream",
     "text": [
      "Val Perf after 1 epochs Acc@1 0.9239\n",
      "=> Caching mask state for model.0\n",
      "=> Caching mask state for model.2\n",
      "=> Caching mask state for model.4\n",
      "\n",
      "=> Setting learned tasks of model.0 to 1\n",
      "=> Setting learned tasks of model.2 to 1\n",
      "=> Setting learned tasks of model.4 to 1\n",
      "\n",
      "Training for task 0\n",
      "=> Set task of model.0 to 0\n",
      "=> Set task of model.2 to 0\n",
      "=> Set task of model.4 to 0\n"
     ]
    },
    {
     "data": {
      "application/vnd.jupyter.widget-view+json": {
       "model_id": "363b68c36254448c8130647c2983813c",
       "version_major": 2,
       "version_minor": 0
      },
      "text/plain": [
       "  0%|          | 0/469 [00:00<?, ?it/s]"
      ]
     },
     "metadata": {},
     "output_type": "display_data"
    },
    {
     "name": "stdout",
     "output_type": "stream",
     "text": [
      "Validation => Loss 0.3825, Acc@1 0.8473\n",
      "============\n"
     ]
    },
    {
     "data": {
      "application/vnd.jupyter.widget-view+json": {
       "model_id": "aa175e4baaa348bda16ee97b44be0e04",
       "version_major": 2,
       "version_minor": 0
      },
      "text/plain": [
       "  0%|          | 0/79 [00:00<?, ?it/s]"
      ]
     },
     "metadata": {},
     "output_type": "display_data"
    },
    {
     "name": "stdout",
     "output_type": "stream",
     "text": [
      "Val Perf after 1 epochs Acc@1 0.9248\n",
      "=> Caching mask state for model.0\n",
      "=> Caching mask state for model.2\n",
      "=> Caching mask state for model.4\n",
      "\n",
      "=> Setting learned tasks of model.0 to 1\n",
      "=> Setting learned tasks of model.2 to 1\n",
      "=> Setting learned tasks of model.4 to 1\n",
      "\n"
     ]
    }
   ],
   "source": [
    "for idx, modeli in model_map.items():\n",
    "    for task in range(1):\n",
    "        print(f\"Training for task {task}\")\n",
    "        set_model_task(modeli, task)\n",
    "        mnisti = loaders[idx]\n",
    "        mnisti.update_task(task)\n",
    "\n",
    "        optimizer1 = optim.RMSprop([p for p in modeli.parameters() if p.requires_grad], lr=1e-4)\n",
    "        # Train for 1 epoch\n",
    "        for e in range(1):\n",
    "            train(modeli, mnisti.train_loader, optimizer1, e)\n",
    "            \n",
    "            print(\"Validation\")\n",
    "            print(\"============\")\n",
    "            acc1 = evaluate(modeli, mnisti.val_loader, e)\n",
    "\n",
    "\n",
    "        cache_masks(modeli)\n",
    "        print()\n",
    "        set_num_tasks_learned(modeli, task + 1)\n",
    "        print()"
   ]
  },
  {
   "cell_type": "code",
   "execution_count": 208,
   "metadata": {},
   "outputs": [],
   "source": [
    "def overlap(mask1, mask2):\n",
    "    assert mask1.shape == mask2.shape\n",
    "    count_same = (mask1 + mask2 - 1).abs().sum()\n",
    "    return count_same / (1.0*(mask1.shape[0] * mask1.shape[1]))"
   ]
  },
  {
   "cell_type": "code",
   "execution_count": 209,
   "metadata": {},
   "outputs": [],
   "source": [
    "from itertools import product"
   ]
  },
  {
   "cell_type": "code",
   "execution_count": 212,
   "metadata": {},
   "outputs": [
    {
     "name": "stdout",
     "output_type": "stream",
     "text": [
      "Layer: 0, Models: (0, 1), Overlap: 0.5137117505073547\n",
      "Layer: 0, Models: (0, 2), Overlap: 0.5123809576034546\n",
      "Layer: 0, Models: (0, 3), Overlap: 0.5121513605117798\n",
      "Layer: 0, Models: (0, 4), Overlap: 0.5120238065719604\n",
      "Layer: 0, Models: (0, 5), Overlap: 0.5122109055519104\n",
      "Layer: 0, Models: (0, 6), Overlap: 0.5125425457954407\n",
      "Layer: 0, Models: (0, 7), Overlap: 0.511126697063446\n",
      "Layer: 0, Models: (0, 8), Overlap: 0.5117729306221008\n",
      "Layer: 0, Models: (0, 9), Overlap: 0.5117644667625427\n",
      "Layer: 0, Models: (0, 10), Overlap: 0.5147448778152466\n",
      "Layer: 0, Models: (0, 11), Overlap: 0.5122236609458923\n",
      "Layer: 0, Models: (0, 12), Overlap: 0.51350337266922\n",
      "Layer: 0, Models: (0, 13), Overlap: 0.5119345188140869\n",
      "Layer: 0, Models: (0, 14), Overlap: 0.5143027305603027\n",
      "Layer: 0, Models: (1, 0), Overlap: 0.5137117505073547\n",
      "Layer: 0, Models: (1, 2), Overlap: 0.5127848386764526\n",
      "Layer: 0, Models: (1, 3), Overlap: 0.5127848386764526\n",
      "Layer: 0, Models: (1, 4), Overlap: 0.5139413475990295\n",
      "Layer: 0, Models: (1, 5), Overlap: 0.5135841965675354\n",
      "Layer: 0, Models: (1, 6), Overlap: 0.5139753222465515\n",
      "Layer: 0, Models: (1, 7), Overlap: 0.5132483243942261\n",
      "Layer: 0, Models: (1, 8), Overlap: 0.513069748878479\n",
      "Layer: 0, Models: (1, 9), Overlap: 0.5143877267837524\n",
      "Layer: 0, Models: (1, 10), Overlap: 0.5102338194847107\n",
      "Layer: 0, Models: (1, 11), Overlap: 0.5123384594917297\n",
      "Layer: 0, Models: (1, 12), Overlap: 0.5123512148857117\n",
      "Layer: 0, Models: (1, 13), Overlap: 0.5134353637695312\n",
      "Layer: 0, Models: (1, 14), Overlap: 0.5111352205276489\n",
      "Layer: 0, Models: (2, 0), Overlap: 0.5123809576034546\n",
      "Layer: 0, Models: (2, 1), Overlap: 0.5127848386764526\n",
      "Layer: 0, Models: (2, 3), Overlap: 0.5136479735374451\n",
      "Layer: 0, Models: (2, 4), Overlap: 0.5133758783340454\n",
      "Layer: 0, Models: (2, 5), Overlap: 0.5108928680419922\n",
      "Layer: 0, Models: (2, 6), Overlap: 0.5130271911621094\n",
      "Layer: 0, Models: (2, 7), Overlap: 0.5125892758369446\n",
      "Layer: 0, Models: (2, 8), Overlap: 0.5131419897079468\n",
      "Layer: 0, Models: (2, 9), Overlap: 0.513694703578949\n",
      "Layer: 0, Models: (2, 10), Overlap: 0.5135884284973145\n",
      "Layer: 0, Models: (2, 11), Overlap: 0.5120790600776672\n",
      "Layer: 0, Models: (2, 12), Overlap: 0.5121343731880188\n",
      "Layer: 0, Models: (2, 13), Overlap: 0.5129294395446777\n",
      "Layer: 0, Models: (2, 14), Overlap: 0.5132483243942261\n",
      "Layer: 0, Models: (3, 0), Overlap: 0.5121513605117798\n",
      "Layer: 0, Models: (3, 1), Overlap: 0.5127848386764526\n",
      "Layer: 0, Models: (3, 2), Overlap: 0.5136479735374451\n",
      "Layer: 0, Models: (3, 4), Overlap: 0.5127891302108765\n",
      "Layer: 0, Models: (3, 5), Overlap: 0.5118622183799744\n",
      "Layer: 0, Models: (3, 6), Overlap: 0.5120152831077576\n",
      "Layer: 0, Models: (3, 7), Overlap: 0.5143324732780457\n",
      "Layer: 0, Models: (3, 8), Overlap: 0.5140944123268127\n",
      "Layer: 0, Models: (3, 9), Overlap: 0.5145110487937927\n",
      "Layer: 0, Models: (3, 10), Overlap: 0.5128911733627319\n",
      "Layer: 0, Models: (3, 11), Overlap: 0.5124617218971252\n",
      "Layer: 0, Models: (3, 12), Overlap: 0.5122448801994324\n",
      "Layer: 0, Models: (3, 13), Overlap: 0.5131845474243164\n",
      "Layer: 0, Models: (3, 14), Overlap: 0.5129761695861816\n",
      "Layer: 0, Models: (4, 0), Overlap: 0.5120238065719604\n",
      "Layer: 0, Models: (4, 1), Overlap: 0.5139413475990295\n",
      "Layer: 0, Models: (4, 2), Overlap: 0.5133758783340454\n",
      "Layer: 0, Models: (4, 3), Overlap: 0.5127891302108765\n",
      "Layer: 0, Models: (4, 5), Overlap: 0.5117006897926331\n",
      "Layer: 0, Models: (4, 6), Overlap: 0.5124574899673462\n",
      "Layer: 0, Models: (4, 7), Overlap: 0.5107525587081909\n",
      "Layer: 0, Models: (4, 8), Overlap: 0.5125042796134949\n",
      "Layer: 0, Models: (4, 9), Overlap: 0.5104039311408997\n",
      "Layer: 0, Models: (4, 10), Overlap: 0.5133928656578064\n",
      "Layer: 0, Models: (4, 11), Overlap: 0.5125722885131836\n",
      "Layer: 0, Models: (4, 12), Overlap: 0.512704074382782\n",
      "Layer: 0, Models: (4, 13), Overlap: 0.511509358882904\n",
      "Layer: 0, Models: (4, 14), Overlap: 0.5099660158157349\n",
      "Layer: 0, Models: (5, 0), Overlap: 0.5122109055519104\n",
      "Layer: 0, Models: (5, 1), Overlap: 0.5135841965675354\n",
      "Layer: 0, Models: (5, 2), Overlap: 0.5108928680419922\n",
      "Layer: 0, Models: (5, 3), Overlap: 0.5118622183799744\n",
      "Layer: 0, Models: (5, 4), Overlap: 0.5117006897926331\n",
      "Layer: 0, Models: (5, 6), Overlap: 0.5149915218353271\n",
      "Layer: 0, Models: (5, 7), Overlap: 0.5127338171005249\n",
      "Layer: 0, Models: (5, 8), Overlap: 0.5124277472496033\n",
      "Layer: 0, Models: (5, 9), Overlap: 0.5119600296020508\n",
      "Layer: 0, Models: (5, 10), Overlap: 0.5107483267784119\n",
      "Layer: 0, Models: (5, 11), Overlap: 0.512130081653595\n",
      "Layer: 0, Models: (5, 12), Overlap: 0.5109098553657532\n",
      "Layer: 0, Models: (5, 13), Overlap: 0.5146386027336121\n",
      "Layer: 0, Models: (5, 14), Overlap: 0.5094302892684937\n",
      "Layer: 0, Models: (6, 0), Overlap: 0.5125425457954407\n",
      "Layer: 0, Models: (6, 1), Overlap: 0.5139753222465515\n",
      "Layer: 0, Models: (6, 2), Overlap: 0.5130271911621094\n",
      "Layer: 0, Models: (6, 3), Overlap: 0.5120152831077576\n",
      "Layer: 0, Models: (6, 4), Overlap: 0.5124574899673462\n",
      "Layer: 0, Models: (6, 5), Overlap: 0.5149915218353271\n",
      "Layer: 0, Models: (6, 7), Overlap: 0.511713445186615\n",
      "Layer: 0, Models: (6, 8), Overlap: 0.5126062631607056\n",
      "Layer: 0, Models: (6, 9), Overlap: 0.5132015347480774\n",
      "Layer: 0, Models: (6, 10), Overlap: 0.5134949088096619\n",
      "Layer: 0, Models: (6, 11), Overlap: 0.5131419897079468\n",
      "Layer: 0, Models: (6, 12), Overlap: 0.5110969543457031\n",
      "Layer: 0, Models: (6, 13), Overlap: 0.5095025300979614\n",
      "Layer: 0, Models: (6, 14), Overlap: 0.5109778642654419\n",
      "Layer: 0, Models: (7, 0), Overlap: 0.511126697063446\n",
      "Layer: 0, Models: (7, 1), Overlap: 0.5132483243942261\n",
      "Layer: 0, Models: (7, 2), Overlap: 0.5125892758369446\n",
      "Layer: 0, Models: (7, 3), Overlap: 0.5143324732780457\n",
      "Layer: 0, Models: (7, 4), Overlap: 0.5107525587081909\n",
      "Layer: 0, Models: (7, 5), Overlap: 0.5127338171005249\n",
      "Layer: 0, Models: (7, 6), Overlap: 0.511713445186615\n",
      "Layer: 0, Models: (7, 8), Overlap: 0.5136479735374451\n",
      "Layer: 0, Models: (7, 9), Overlap: 0.5131887793540955\n",
      "Layer: 0, Models: (7, 10), Overlap: 0.5114668607711792\n",
      "Layer: 0, Models: (7, 11), Overlap: 0.5122959017753601\n",
      "Layer: 0, Models: (7, 12), Overlap: 0.5141113996505737\n",
      "Layer: 0, Models: (7, 13), Overlap: 0.5124319791793823\n",
      "Layer: 0, Models: (7, 14), Overlap: 0.5136181712150574\n",
      "Layer: 0, Models: (8, 0), Overlap: 0.5117729306221008\n",
      "Layer: 0, Models: (8, 1), Overlap: 0.513069748878479\n",
      "Layer: 0, Models: (8, 2), Overlap: 0.5131419897079468\n",
      "Layer: 0, Models: (8, 3), Overlap: 0.5140944123268127\n",
      "Layer: 0, Models: (8, 4), Overlap: 0.5125042796134949\n",
      "Layer: 0, Models: (8, 5), Overlap: 0.5124277472496033\n",
      "Layer: 0, Models: (8, 6), Overlap: 0.5126062631607056\n",
      "Layer: 0, Models: (8, 7), Overlap: 0.5136479735374451\n",
      "Layer: 0, Models: (8, 9), Overlap: 0.5128146409988403\n",
      "Layer: 0, Models: (8, 10), Overlap: 0.5128273963928223\n",
      "Layer: 0, Models: (8, 11), Overlap: 0.5132653117179871\n",
      "Layer: 0, Models: (8, 12), Overlap: 0.5124107003211975\n",
      "Layer: 0, Models: (8, 13), Overlap: 0.5130527019500732\n",
      "Layer: 0, Models: (8, 14), Overlap: 0.5135331749916077\n",
      "Layer: 0, Models: (9, 0), Overlap: 0.5117644667625427\n",
      "Layer: 0, Models: (9, 1), Overlap: 0.5143877267837524\n",
      "Layer: 0, Models: (9, 2), Overlap: 0.513694703578949\n",
      "Layer: 0, Models: (9, 3), Overlap: 0.5145110487937927\n",
      "Layer: 0, Models: (9, 4), Overlap: 0.5104039311408997\n",
      "Layer: 0, Models: (9, 5), Overlap: 0.5119600296020508\n",
      "Layer: 0, Models: (9, 6), Overlap: 0.5132015347480774\n",
      "Layer: 0, Models: (9, 7), Overlap: 0.5131887793540955\n",
      "Layer: 0, Models: (9, 8), Overlap: 0.5128146409988403\n",
      "Layer: 0, Models: (9, 10), Overlap: 0.5113987922668457\n",
      "Layer: 0, Models: (9, 11), Overlap: 0.513681948184967\n",
      "Layer: 0, Models: (9, 12), Overlap: 0.5126317739486694\n",
      "Layer: 0, Models: (9, 13), Overlap: 0.5120493173599243\n",
      "Layer: 0, Models: (9, 14), Overlap: 0.5143834948539734\n",
      "Layer: 0, Models: (10, 0), Overlap: 0.5147448778152466\n",
      "Layer: 0, Models: (10, 1), Overlap: 0.5102338194847107\n",
      "Layer: 0, Models: (10, 2), Overlap: 0.5135884284973145\n",
      "Layer: 0, Models: (10, 3), Overlap: 0.5128911733627319\n",
      "Layer: 0, Models: (10, 4), Overlap: 0.5133928656578064\n",
      "Layer: 0, Models: (10, 5), Overlap: 0.5107483267784119\n",
      "Layer: 0, Models: (10, 6), Overlap: 0.5134949088096619\n",
      "Layer: 0, Models: (10, 7), Overlap: 0.5114668607711792\n",
      "Layer: 0, Models: (10, 8), Overlap: 0.5128273963928223\n",
      "Layer: 0, Models: (10, 9), Overlap: 0.5113987922668457\n",
      "Layer: 0, Models: (10, 11), Overlap: 0.5106505155563354\n",
      "Layer: 0, Models: (10, 12), Overlap: 0.5126615762710571\n",
      "Layer: 0, Models: (10, 13), Overlap: 0.5129209160804749\n",
      "Layer: 0, Models: (10, 14), Overlap: 0.5113435387611389\n",
      "Layer: 0, Models: (11, 0), Overlap: 0.5122236609458923\n",
      "Layer: 0, Models: (11, 1), Overlap: 0.5123384594917297\n",
      "Layer: 0, Models: (11, 2), Overlap: 0.5120790600776672\n",
      "Layer: 0, Models: (11, 3), Overlap: 0.5124617218971252\n",
      "Layer: 0, Models: (11, 4), Overlap: 0.5125722885131836\n",
      "Layer: 0, Models: (11, 5), Overlap: 0.512130081653595\n",
      "Layer: 0, Models: (11, 6), Overlap: 0.5131419897079468\n",
      "Layer: 0, Models: (11, 7), Overlap: 0.5122959017753601\n",
      "Layer: 0, Models: (11, 8), Overlap: 0.5132653117179871\n",
      "Layer: 0, Models: (11, 9), Overlap: 0.513681948184967\n",
      "Layer: 0, Models: (11, 10), Overlap: 0.5106505155563354\n",
      "Layer: 0, Models: (11, 12), Overlap: 0.5133545994758606\n",
      "Layer: 0, Models: (11, 13), Overlap: 0.5122959017753601\n",
      "Layer: 0, Models: (11, 14), Overlap: 0.5113393068313599\n",
      "Layer: 0, Models: (12, 0), Overlap: 0.51350337266922\n",
      "Layer: 0, Models: (12, 1), Overlap: 0.5123512148857117\n",
      "Layer: 0, Models: (12, 2), Overlap: 0.5121343731880188\n",
      "Layer: 0, Models: (12, 3), Overlap: 0.5122448801994324\n",
      "Layer: 0, Models: (12, 4), Overlap: 0.512704074382782\n",
      "Layer: 0, Models: (12, 5), Overlap: 0.5109098553657532\n",
      "Layer: 0, Models: (12, 6), Overlap: 0.5110969543457031\n",
      "Layer: 0, Models: (12, 7), Overlap: 0.5141113996505737\n",
      "Layer: 0, Models: (12, 8), Overlap: 0.5124107003211975\n",
      "Layer: 0, Models: (12, 9), Overlap: 0.5126317739486694\n",
      "Layer: 0, Models: (12, 10), Overlap: 0.5126615762710571\n",
      "Layer: 0, Models: (12, 11), Overlap: 0.5133545994758606\n",
      "Layer: 0, Models: (12, 13), Overlap: 0.513677716255188\n",
      "Layer: 0, Models: (12, 14), Overlap: 0.5116837024688721\n",
      "Layer: 0, Models: (13, 0), Overlap: 0.5119345188140869\n",
      "Layer: 0, Models: (13, 1), Overlap: 0.5134353637695312\n",
      "Layer: 0, Models: (13, 2), Overlap: 0.5129294395446777\n",
      "Layer: 0, Models: (13, 3), Overlap: 0.5131845474243164\n",
      "Layer: 0, Models: (13, 4), Overlap: 0.511509358882904\n",
      "Layer: 0, Models: (13, 5), Overlap: 0.5146386027336121\n",
      "Layer: 0, Models: (13, 6), Overlap: 0.5095025300979614\n",
      "Layer: 0, Models: (13, 7), Overlap: 0.5124319791793823\n",
      "Layer: 0, Models: (13, 8), Overlap: 0.5130527019500732\n",
      "Layer: 0, Models: (13, 9), Overlap: 0.5120493173599243\n",
      "Layer: 0, Models: (13, 10), Overlap: 0.5129209160804749\n",
      "Layer: 0, Models: (13, 11), Overlap: 0.5122959017753601\n",
      "Layer: 0, Models: (13, 12), Overlap: 0.513677716255188\n",
      "Layer: 0, Models: (13, 14), Overlap: 0.5114923715591431\n",
      "Layer: 0, Models: (14, 0), Overlap: 0.5143027305603027\n",
      "Layer: 0, Models: (14, 1), Overlap: 0.5111352205276489\n",
      "Layer: 0, Models: (14, 2), Overlap: 0.5132483243942261\n",
      "Layer: 0, Models: (14, 3), Overlap: 0.5129761695861816\n",
      "Layer: 0, Models: (14, 4), Overlap: 0.5099660158157349\n",
      "Layer: 0, Models: (14, 5), Overlap: 0.5094302892684937\n",
      "Layer: 0, Models: (14, 6), Overlap: 0.5109778642654419\n",
      "Layer: 0, Models: (14, 7), Overlap: 0.5136181712150574\n",
      "Layer: 0, Models: (14, 8), Overlap: 0.5135331749916077\n",
      "Layer: 0, Models: (14, 9), Overlap: 0.5143834948539734\n",
      "Layer: 0, Models: (14, 10), Overlap: 0.5113435387611389\n",
      "Layer: 0, Models: (14, 11), Overlap: 0.5113393068313599\n",
      "Layer: 0, Models: (14, 12), Overlap: 0.5116837024688721\n",
      "Layer: 0, Models: (14, 13), Overlap: 0.5114923715591431\n",
      "Layer: 2, Models: (0, 1), Overlap: 0.5035111308097839\n",
      "Layer: 2, Models: (0, 2), Overlap: 0.5018222332000732\n",
      "Layer: 2, Models: (0, 3), Overlap: 0.501288890838623\n",
      "Layer: 2, Models: (0, 4), Overlap: 0.5050444602966309\n",
      "Layer: 2, Models: (0, 5), Overlap: 0.5036333203315735\n",
      "Layer: 2, Models: (0, 6), Overlap: 0.5012555718421936\n",
      "Layer: 2, Models: (0, 7), Overlap: 0.5016555786132812\n",
      "Layer: 2, Models: (0, 8), Overlap: 0.5023555755615234\n",
      "Layer: 2, Models: (0, 9), Overlap: 0.5033000111579895\n",
      "Layer: 2, Models: (0, 10), Overlap: 0.5029333233833313\n",
      "Layer: 2, Models: (0, 11), Overlap: 0.5023444294929504\n",
      "Layer: 2, Models: (0, 12), Overlap: 0.5037555694580078\n",
      "Layer: 2, Models: (0, 13), Overlap: 0.5035111308097839\n",
      "Layer: 2, Models: (0, 14), Overlap: 0.503777801990509\n",
      "Layer: 2, Models: (1, 0), Overlap: 0.5035111308097839\n",
      "Layer: 2, Models: (1, 2), Overlap: 0.5052666664123535\n",
      "Layer: 2, Models: (1, 3), Overlap: 0.5029555559158325\n",
      "Layer: 2, Models: (1, 4), Overlap: 0.49984443187713623\n",
      "Layer: 2, Models: (1, 5), Overlap: 0.5020555257797241\n",
      "Layer: 2, Models: (1, 6), Overlap: 0.5048999786376953\n",
      "Layer: 2, Models: (1, 7), Overlap: 0.5056777596473694\n",
      "Layer: 2, Models: (1, 8), Overlap: 0.5005333423614502\n",
      "Layer: 2, Models: (1, 9), Overlap: 0.5012111067771912\n",
      "Layer: 2, Models: (1, 10), Overlap: 0.5021555423736572\n",
      "Layer: 2, Models: (1, 11), Overlap: 0.5053666830062866\n",
      "Layer: 2, Models: (1, 12), Overlap: 0.5031333565711975\n",
      "Layer: 2, Models: (1, 13), Overlap: 0.5016444325447083\n",
      "Layer: 2, Models: (1, 14), Overlap: 0.49977776408195496\n",
      "Layer: 2, Models: (2, 0), Overlap: 0.5018222332000732\n",
      "Layer: 2, Models: (2, 1), Overlap: 0.5052666664123535\n",
      "Layer: 2, Models: (2, 3), Overlap: 0.5053777694702148\n",
      "Layer: 2, Models: (2, 4), Overlap: 0.5054888725280762\n",
      "Layer: 2, Models: (2, 5), Overlap: 0.5024555325508118\n",
      "Layer: 2, Models: (2, 6), Overlap: 0.5068777799606323\n",
      "Layer: 2, Models: (2, 7), Overlap: 0.5007444620132446\n",
      "Layer: 2, Models: (2, 8), Overlap: 0.5024666786193848\n",
      "Layer: 2, Models: (2, 9), Overlap: 0.5029444694519043\n",
      "Layer: 2, Models: (2, 10), Overlap: 0.5038889050483704\n",
      "Layer: 2, Models: (2, 11), Overlap: 0.5056333541870117\n",
      "Layer: 2, Models: (2, 12), Overlap: 0.5023333430290222\n",
      "Layer: 2, Models: (2, 13), Overlap: 0.5032888650894165\n",
      "Layer: 2, Models: (2, 14), Overlap: 0.500333309173584\n",
      "Layer: 2, Models: (3, 0), Overlap: 0.501288890838623\n",
      "Layer: 2, Models: (3, 1), Overlap: 0.5029555559158325\n",
      "Layer: 2, Models: (3, 2), Overlap: 0.5053777694702148\n",
      "Layer: 2, Models: (3, 4), Overlap: 0.5028889179229736\n",
      "Layer: 2, Models: (3, 5), Overlap: 0.5024333596229553\n",
      "Layer: 2, Models: (3, 6), Overlap: 0.5004777908325195\n",
      "Layer: 2, Models: (3, 7), Overlap: 0.5015666484832764\n",
      "Layer: 2, Models: (3, 8), Overlap: 0.5039777755737305\n",
      "Layer: 2, Models: (3, 9), Overlap: 0.5019222497940063\n",
      "Layer: 2, Models: (3, 10), Overlap: 0.5009777545928955\n",
      "Layer: 2, Models: (3, 11), Overlap: 0.5015888810157776\n",
      "Layer: 2, Models: (3, 12), Overlap: 0.504800021648407\n",
      "Layer: 2, Models: (3, 13), Overlap: 0.5006666779518127\n",
      "Layer: 2, Models: (3, 14), Overlap: 0.5019111037254333\n",
      "Layer: 2, Models: (4, 0), Overlap: 0.5050444602966309\n",
      "Layer: 2, Models: (4, 1), Overlap: 0.49984443187713623\n",
      "Layer: 2, Models: (4, 2), Overlap: 0.5054888725280762\n",
      "Layer: 2, Models: (4, 3), Overlap: 0.5028889179229736\n",
      "Layer: 2, Models: (4, 5), Overlap: 0.5020111203193665\n",
      "Layer: 2, Models: (4, 6), Overlap: 0.49727776646614075\n",
      "Layer: 2, Models: (4, 7), Overlap: 0.5023000240325928\n",
      "Layer: 2, Models: (4, 8), Overlap: 0.5039555430412292\n",
      "Layer: 2, Models: (4, 9), Overlap: 0.49950000643730164\n"
     ]
    },
    {
     "name": "stdout",
     "output_type": "stream",
     "text": [
      "Layer: 2, Models: (4, 10), Overlap: 0.505577802658081\n",
      "Layer: 2, Models: (4, 11), Overlap: 0.5021666884422302\n",
      "Layer: 2, Models: (4, 12), Overlap: 0.5025110840797424\n",
      "Layer: 2, Models: (4, 13), Overlap: 0.5019111037254333\n",
      "Layer: 2, Models: (4, 14), Overlap: 0.5006444454193115\n",
      "Layer: 2, Models: (5, 0), Overlap: 0.5036333203315735\n",
      "Layer: 2, Models: (5, 1), Overlap: 0.5020555257797241\n",
      "Layer: 2, Models: (5, 2), Overlap: 0.5024555325508118\n",
      "Layer: 2, Models: (5, 3), Overlap: 0.5024333596229553\n",
      "Layer: 2, Models: (5, 4), Overlap: 0.5020111203193665\n",
      "Layer: 2, Models: (5, 6), Overlap: 0.5037333369255066\n",
      "Layer: 2, Models: (5, 7), Overlap: 0.5029110908508301\n",
      "Layer: 2, Models: (5, 8), Overlap: 0.5046555399894714\n",
      "Layer: 2, Models: (5, 9), Overlap: 0.503155529499054\n",
      "Layer: 2, Models: (5, 10), Overlap: 0.5000777840614319\n",
      "Layer: 2, Models: (5, 11), Overlap: 0.5025333166122437\n",
      "Layer: 2, Models: (5, 12), Overlap: 0.503433346748352\n",
      "Layer: 2, Models: (5, 13), Overlap: 0.5032111406326294\n",
      "Layer: 2, Models: (5, 14), Overlap: 0.503766655921936\n",
      "Layer: 2, Models: (6, 0), Overlap: 0.5012555718421936\n",
      "Layer: 2, Models: (6, 1), Overlap: 0.5048999786376953\n",
      "Layer: 2, Models: (6, 2), Overlap: 0.5068777799606323\n",
      "Layer: 2, Models: (6, 3), Overlap: 0.5004777908325195\n",
      "Layer: 2, Models: (6, 4), Overlap: 0.49727776646614075\n",
      "Layer: 2, Models: (6, 5), Overlap: 0.5037333369255066\n",
      "Layer: 2, Models: (6, 7), Overlap: 0.5034888982772827\n",
      "Layer: 2, Models: (6, 8), Overlap: 0.5033666491508484\n",
      "Layer: 2, Models: (6, 9), Overlap: 0.5056666731834412\n",
      "Layer: 2, Models: (6, 10), Overlap: 0.5020999908447266\n",
      "Layer: 2, Models: (6, 11), Overlap: 0.5022444725036621\n",
      "Layer: 2, Models: (6, 12), Overlap: 0.502144455909729\n",
      "Layer: 2, Models: (6, 13), Overlap: 0.5010777711868286\n",
      "Layer: 2, Models: (6, 14), Overlap: 0.5040777921676636\n",
      "Layer: 2, Models: (7, 0), Overlap: 0.5016555786132812\n",
      "Layer: 2, Models: (7, 1), Overlap: 0.5056777596473694\n",
      "Layer: 2, Models: (7, 2), Overlap: 0.5007444620132446\n",
      "Layer: 2, Models: (7, 3), Overlap: 0.5015666484832764\n",
      "Layer: 2, Models: (7, 4), Overlap: 0.5023000240325928\n",
      "Layer: 2, Models: (7, 5), Overlap: 0.5029110908508301\n",
      "Layer: 2, Models: (7, 6), Overlap: 0.5034888982772827\n",
      "Layer: 2, Models: (7, 8), Overlap: 0.5036110877990723\n",
      "Layer: 2, Models: (7, 9), Overlap: 0.501622200012207\n",
      "Layer: 2, Models: (7, 10), Overlap: 0.5014111399650574\n",
      "Layer: 2, Models: (7, 11), Overlap: 0.5037111043930054\n",
      "Layer: 2, Models: (7, 12), Overlap: 0.5028777718544006\n",
      "Layer: 2, Models: (7, 13), Overlap: 0.5021222233772278\n",
      "Layer: 2, Models: (7, 14), Overlap: 0.504788875579834\n",
      "Layer: 2, Models: (8, 0), Overlap: 0.5023555755615234\n",
      "Layer: 2, Models: (8, 1), Overlap: 0.5005333423614502\n",
      "Layer: 2, Models: (8, 2), Overlap: 0.5024666786193848\n",
      "Layer: 2, Models: (8, 3), Overlap: 0.5039777755737305\n",
      "Layer: 2, Models: (8, 4), Overlap: 0.5039555430412292\n",
      "Layer: 2, Models: (8, 5), Overlap: 0.5046555399894714\n",
      "Layer: 2, Models: (8, 6), Overlap: 0.5033666491508484\n",
      "Layer: 2, Models: (8, 7), Overlap: 0.5036110877990723\n",
      "Layer: 2, Models: (8, 9), Overlap: 0.5045222043991089\n",
      "Layer: 2, Models: (8, 10), Overlap: 0.4997555613517761\n",
      "Layer: 2, Models: (8, 11), Overlap: 0.5022777915000916\n",
      "Layer: 2, Models: (8, 12), Overlap: 0.500511109828949\n",
      "Layer: 2, Models: (8, 13), Overlap: 0.5044222474098206\n",
      "Layer: 2, Models: (8, 14), Overlap: 0.5035333037376404\n",
      "Layer: 2, Models: (9, 0), Overlap: 0.5033000111579895\n",
      "Layer: 2, Models: (9, 1), Overlap: 0.5012111067771912\n",
      "Layer: 2, Models: (9, 2), Overlap: 0.5029444694519043\n",
      "Layer: 2, Models: (9, 3), Overlap: 0.5019222497940063\n",
      "Layer: 2, Models: (9, 4), Overlap: 0.49950000643730164\n",
      "Layer: 2, Models: (9, 5), Overlap: 0.503155529499054\n",
      "Layer: 2, Models: (9, 6), Overlap: 0.5056666731834412\n",
      "Layer: 2, Models: (9, 7), Overlap: 0.501622200012207\n",
      "Layer: 2, Models: (9, 8), Overlap: 0.5045222043991089\n",
      "Layer: 2, Models: (9, 10), Overlap: 0.5012111067771912\n",
      "Layer: 2, Models: (9, 11), Overlap: 0.5027777552604675\n",
      "Layer: 2, Models: (9, 12), Overlap: 0.5012555718421936\n",
      "Layer: 2, Models: (9, 13), Overlap: 0.5040110945701599\n",
      "Layer: 2, Models: (9, 14), Overlap: 0.5015222430229187\n",
      "Layer: 2, Models: (10, 0), Overlap: 0.5029333233833313\n",
      "Layer: 2, Models: (10, 1), Overlap: 0.5021555423736572\n",
      "Layer: 2, Models: (10, 2), Overlap: 0.5038889050483704\n",
      "Layer: 2, Models: (10, 3), Overlap: 0.5009777545928955\n",
      "Layer: 2, Models: (10, 4), Overlap: 0.505577802658081\n",
      "Layer: 2, Models: (10, 5), Overlap: 0.5000777840614319\n",
      "Layer: 2, Models: (10, 6), Overlap: 0.5020999908447266\n",
      "Layer: 2, Models: (10, 7), Overlap: 0.5014111399650574\n",
      "Layer: 2, Models: (10, 8), Overlap: 0.4997555613517761\n",
      "Layer: 2, Models: (10, 9), Overlap: 0.5012111067771912\n",
      "Layer: 2, Models: (10, 11), Overlap: 0.5015444159507751\n",
      "Layer: 2, Models: (10, 12), Overlap: 0.5033555626869202\n",
      "Layer: 2, Models: (10, 13), Overlap: 0.5000444650650024\n",
      "Layer: 2, Models: (10, 14), Overlap: 0.5013555288314819\n",
      "Layer: 2, Models: (11, 0), Overlap: 0.5023444294929504\n",
      "Layer: 2, Models: (11, 1), Overlap: 0.5053666830062866\n",
      "Layer: 2, Models: (11, 2), Overlap: 0.5056333541870117\n",
      "Layer: 2, Models: (11, 3), Overlap: 0.5015888810157776\n",
      "Layer: 2, Models: (11, 4), Overlap: 0.5021666884422302\n",
      "Layer: 2, Models: (11, 5), Overlap: 0.5025333166122437\n",
      "Layer: 2, Models: (11, 6), Overlap: 0.5022444725036621\n",
      "Layer: 2, Models: (11, 7), Overlap: 0.5037111043930054\n",
      "Layer: 2, Models: (11, 8), Overlap: 0.5022777915000916\n",
      "Layer: 2, Models: (11, 9), Overlap: 0.5027777552604675\n",
      "Layer: 2, Models: (11, 10), Overlap: 0.5015444159507751\n",
      "Layer: 2, Models: (11, 12), Overlap: 0.5009889006614685\n",
      "Layer: 2, Models: (11, 13), Overlap: 0.5046555399894714\n",
      "Layer: 2, Models: (11, 14), Overlap: 0.5015000104904175\n",
      "Layer: 2, Models: (12, 0), Overlap: 0.5037555694580078\n",
      "Layer: 2, Models: (12, 1), Overlap: 0.5031333565711975\n",
      "Layer: 2, Models: (12, 2), Overlap: 0.5023333430290222\n",
      "Layer: 2, Models: (12, 3), Overlap: 0.504800021648407\n",
      "Layer: 2, Models: (12, 4), Overlap: 0.5025110840797424\n",
      "Layer: 2, Models: (12, 5), Overlap: 0.503433346748352\n",
      "Layer: 2, Models: (12, 6), Overlap: 0.502144455909729\n",
      "Layer: 2, Models: (12, 7), Overlap: 0.5028777718544006\n",
      "Layer: 2, Models: (12, 8), Overlap: 0.500511109828949\n",
      "Layer: 2, Models: (12, 9), Overlap: 0.5012555718421936\n",
      "Layer: 2, Models: (12, 10), Overlap: 0.5033555626869202\n",
      "Layer: 2, Models: (12, 11), Overlap: 0.5009889006614685\n",
      "Layer: 2, Models: (12, 13), Overlap: 0.5039555430412292\n",
      "Layer: 2, Models: (12, 14), Overlap: 0.5068666934967041\n",
      "Layer: 2, Models: (13, 0), Overlap: 0.5035111308097839\n",
      "Layer: 2, Models: (13, 1), Overlap: 0.5016444325447083\n",
      "Layer: 2, Models: (13, 2), Overlap: 0.5032888650894165\n",
      "Layer: 2, Models: (13, 3), Overlap: 0.5006666779518127\n",
      "Layer: 2, Models: (13, 4), Overlap: 0.5019111037254333\n",
      "Layer: 2, Models: (13, 5), Overlap: 0.5032111406326294\n",
      "Layer: 2, Models: (13, 6), Overlap: 0.5010777711868286\n",
      "Layer: 2, Models: (13, 7), Overlap: 0.5021222233772278\n",
      "Layer: 2, Models: (13, 8), Overlap: 0.5044222474098206\n",
      "Layer: 2, Models: (13, 9), Overlap: 0.5040110945701599\n",
      "Layer: 2, Models: (13, 10), Overlap: 0.5000444650650024\n",
      "Layer: 2, Models: (13, 11), Overlap: 0.5046555399894714\n",
      "Layer: 2, Models: (13, 12), Overlap: 0.5039555430412292\n",
      "Layer: 2, Models: (13, 14), Overlap: 0.5013111233711243\n",
      "Layer: 2, Models: (14, 0), Overlap: 0.503777801990509\n",
      "Layer: 2, Models: (14, 1), Overlap: 0.49977776408195496\n",
      "Layer: 2, Models: (14, 2), Overlap: 0.500333309173584\n",
      "Layer: 2, Models: (14, 3), Overlap: 0.5019111037254333\n",
      "Layer: 2, Models: (14, 4), Overlap: 0.5006444454193115\n",
      "Layer: 2, Models: (14, 5), Overlap: 0.503766655921936\n",
      "Layer: 2, Models: (14, 6), Overlap: 0.5040777921676636\n",
      "Layer: 2, Models: (14, 7), Overlap: 0.504788875579834\n",
      "Layer: 2, Models: (14, 8), Overlap: 0.5035333037376404\n",
      "Layer: 2, Models: (14, 9), Overlap: 0.5015222430229187\n",
      "Layer: 2, Models: (14, 10), Overlap: 0.5013555288314819\n",
      "Layer: 2, Models: (14, 11), Overlap: 0.5015000104904175\n",
      "Layer: 2, Models: (14, 12), Overlap: 0.5068666934967041\n",
      "Layer: 2, Models: (14, 13), Overlap: 0.5013111233711243\n",
      "Layer: 4, Models: (0, 1), Overlap: 0.5085333585739136\n",
      "Layer: 4, Models: (0, 2), Overlap: 0.5146999955177307\n",
      "Layer: 4, Models: (0, 3), Overlap: 0.5140666961669922\n",
      "Layer: 4, Models: (0, 4), Overlap: 0.5147666931152344\n",
      "Layer: 4, Models: (0, 5), Overlap: 0.5136666893959045\n",
      "Layer: 4, Models: (0, 6), Overlap: 0.5113333463668823\n",
      "Layer: 4, Models: (0, 7), Overlap: 0.51419997215271\n",
      "Layer: 4, Models: (0, 8), Overlap: 0.5169333219528198\n",
      "Layer: 4, Models: (0, 9), Overlap: 0.5062666535377502\n",
      "Layer: 4, Models: (0, 10), Overlap: 0.5163000226020813\n",
      "Layer: 4, Models: (0, 11), Overlap: 0.5098999738693237\n",
      "Layer: 4, Models: (0, 12), Overlap: 0.5148333311080933\n",
      "Layer: 4, Models: (0, 13), Overlap: 0.5144333243370056\n",
      "Layer: 4, Models: (0, 14), Overlap: 0.5082333087921143\n",
      "Layer: 4, Models: (1, 0), Overlap: 0.5085333585739136\n",
      "Layer: 4, Models: (1, 2), Overlap: 0.5145666599273682\n",
      "Layer: 4, Models: (1, 3), Overlap: 0.5159333348274231\n",
      "Layer: 4, Models: (1, 4), Overlap: 0.5151666402816772\n",
      "Layer: 4, Models: (1, 5), Overlap: 0.5118666887283325\n",
      "Layer: 4, Models: (1, 6), Overlap: 0.512333333492279\n",
      "Layer: 4, Models: (1, 7), Overlap: 0.510200023651123\n",
      "Layer: 4, Models: (1, 8), Overlap: 0.5121999979019165\n",
      "Layer: 4, Models: (1, 9), Overlap: 0.5109999775886536\n",
      "Layer: 4, Models: (1, 10), Overlap: 0.5120333433151245\n",
      "Layer: 4, Models: (1, 11), Overlap: 0.5152333378791809\n",
      "Layer: 4, Models: (1, 12), Overlap: 0.5162333250045776\n",
      "Layer: 4, Models: (1, 13), Overlap: 0.5091666579246521\n",
      "Layer: 4, Models: (1, 14), Overlap: 0.5116333365440369\n",
      "Layer: 4, Models: (2, 0), Overlap: 0.5146999955177307\n",
      "Layer: 4, Models: (2, 1), Overlap: 0.5145666599273682\n",
      "Layer: 4, Models: (2, 3), Overlap: 0.5163666605949402\n",
      "Layer: 4, Models: (2, 4), Overlap: 0.51173335313797\n",
      "Layer: 4, Models: (2, 5), Overlap: 0.5165666937828064\n",
      "Layer: 4, Models: (2, 6), Overlap: 0.5163000226020813\n",
      "Layer: 4, Models: (2, 7), Overlap: 0.5143666863441467\n",
      "Layer: 4, Models: (2, 8), Overlap: 0.5121666789054871\n",
      "Layer: 4, Models: (2, 9), Overlap: 0.5136333107948303\n",
      "Layer: 4, Models: (2, 10), Overlap: 0.5109999775886536\n",
      "Layer: 4, Models: (2, 11), Overlap: 0.5185999870300293\n",
      "Layer: 4, Models: (2, 12), Overlap: 0.5112666487693787\n",
      "Layer: 4, Models: (2, 13), Overlap: 0.518666684627533\n",
      "Layer: 4, Models: (2, 14), Overlap: 0.51419997215271\n",
      "Layer: 4, Models: (3, 0), Overlap: 0.5140666961669922\n",
      "Layer: 4, Models: (3, 1), Overlap: 0.5159333348274231\n",
      "Layer: 4, Models: (3, 2), Overlap: 0.5163666605949402\n",
      "Layer: 4, Models: (3, 4), Overlap: 0.510699987411499\n",
      "Layer: 4, Models: (3, 5), Overlap: 0.5134000182151794\n",
      "Layer: 4, Models: (3, 6), Overlap: 0.5161333084106445\n",
      "Layer: 4, Models: (3, 7), Overlap: 0.5078666806221008\n",
      "Layer: 4, Models: (3, 8), Overlap: 0.5160666704177856\n",
      "Layer: 4, Models: (3, 9), Overlap: 0.509933352470398\n",
      "Layer: 4, Models: (3, 10), Overlap: 0.5163666605949402\n",
      "Layer: 4, Models: (3, 11), Overlap: 0.5092999935150146\n",
      "Layer: 4, Models: (3, 12), Overlap: 0.5169666409492493\n",
      "Layer: 4, Models: (3, 13), Overlap: 0.5108333230018616\n",
      "Layer: 4, Models: (3, 14), Overlap: 0.5131666660308838\n",
      "Layer: 4, Models: (4, 0), Overlap: 0.5147666931152344\n",
      "Layer: 4, Models: (4, 1), Overlap: 0.5151666402816772\n",
      "Layer: 4, Models: (4, 2), Overlap: 0.51173335313797\n",
      "Layer: 4, Models: (4, 3), Overlap: 0.510699987411499\n",
      "Layer: 4, Models: (4, 5), Overlap: 0.5160333514213562\n",
      "Layer: 4, Models: (4, 6), Overlap: 0.5138999819755554\n",
      "Layer: 4, Models: (4, 7), Overlap: 0.5129666924476624\n",
      "Layer: 4, Models: (4, 8), Overlap: 0.516700029373169\n",
      "Layer: 4, Models: (4, 9), Overlap: 0.51583331823349\n",
      "Layer: 4, Models: (4, 10), Overlap: 0.5145333409309387\n",
      "Layer: 4, Models: (4, 11), Overlap: 0.5103333592414856\n",
      "Layer: 4, Models: (4, 12), Overlap: 0.515333354473114\n",
      "Layer: 4, Models: (4, 13), Overlap: 0.5136666893959045\n",
      "Layer: 4, Models: (4, 14), Overlap: 0.5127333402633667\n",
      "Layer: 4, Models: (5, 0), Overlap: 0.5136666893959045\n",
      "Layer: 4, Models: (5, 1), Overlap: 0.5118666887283325\n",
      "Layer: 4, Models: (5, 2), Overlap: 0.5165666937828064\n",
      "Layer: 4, Models: (5, 3), Overlap: 0.5134000182151794\n",
      "Layer: 4, Models: (5, 4), Overlap: 0.5160333514213562\n",
      "Layer: 4, Models: (5, 6), Overlap: 0.5163333415985107\n",
      "Layer: 4, Models: (5, 7), Overlap: 0.5157333612442017\n",
      "Layer: 4, Models: (5, 8), Overlap: 0.5109999775886536\n",
      "Layer: 4, Models: (5, 9), Overlap: 0.5184000134468079\n",
      "Layer: 4, Models: (5, 10), Overlap: 0.508566677570343\n",
      "Layer: 4, Models: (5, 11), Overlap: 0.512499988079071\n",
      "Layer: 4, Models: (5, 12), Overlap: 0.5132333040237427\n",
      "Layer: 4, Models: (5, 13), Overlap: 0.5109000205993652\n",
      "Layer: 4, Models: (5, 14), Overlap: 0.5097000002861023\n",
      "Layer: 4, Models: (6, 0), Overlap: 0.5113333463668823\n",
      "Layer: 4, Models: (6, 1), Overlap: 0.512333333492279\n",
      "Layer: 4, Models: (6, 2), Overlap: 0.5163000226020813\n",
      "Layer: 4, Models: (6, 3), Overlap: 0.5161333084106445\n",
      "Layer: 4, Models: (6, 4), Overlap: 0.5138999819755554\n",
      "Layer: 4, Models: (6, 5), Overlap: 0.5163333415985107\n",
      "Layer: 4, Models: (6, 7), Overlap: 0.5170000195503235\n",
      "Layer: 4, Models: (6, 8), Overlap: 0.5176666378974915\n",
      "Layer: 4, Models: (6, 9), Overlap: 0.5120000243186951\n",
      "Layer: 4, Models: (6, 10), Overlap: 0.5160999894142151\n",
      "Layer: 4, Models: (6, 11), Overlap: 0.5115000009536743\n",
      "Layer: 4, Models: (6, 12), Overlap: 0.5163666605949402\n",
      "Layer: 4, Models: (6, 13), Overlap: 0.5112333297729492\n",
      "Layer: 4, Models: (6, 14), Overlap: 0.5146333575248718\n",
      "Layer: 4, Models: (7, 0), Overlap: 0.51419997215271\n",
      "Layer: 4, Models: (7, 1), Overlap: 0.510200023651123\n",
      "Layer: 4, Models: (7, 2), Overlap: 0.5143666863441467\n",
      "Layer: 4, Models: (7, 3), Overlap: 0.5078666806221008\n",
      "Layer: 4, Models: (7, 4), Overlap: 0.5129666924476624\n",
      "Layer: 4, Models: (7, 5), Overlap: 0.5157333612442017\n",
      "Layer: 4, Models: (7, 6), Overlap: 0.5170000195503235\n",
      "Layer: 4, Models: (7, 8), Overlap: 0.5151333212852478\n",
      "Layer: 4, Models: (7, 9), Overlap: 0.5166666507720947\n",
      "Layer: 4, Models: (7, 10), Overlap: 0.5129666924476624\n",
      "Layer: 4, Models: (7, 11), Overlap: 0.5136333107948303\n",
      "Layer: 4, Models: (7, 12), Overlap: 0.5172333121299744\n",
      "Layer: 4, Models: (7, 13), Overlap: 0.5098999738693237\n",
      "Layer: 4, Models: (7, 14), Overlap: 0.5182333588600159\n",
      "Layer: 4, Models: (8, 0), Overlap: 0.5169333219528198\n",
      "Layer: 4, Models: (8, 1), Overlap: 0.5121999979019165\n",
      "Layer: 4, Models: (8, 2), Overlap: 0.5121666789054871\n",
      "Layer: 4, Models: (8, 3), Overlap: 0.5160666704177856\n",
      "Layer: 4, Models: (8, 4), Overlap: 0.516700029373169\n",
      "Layer: 4, Models: (8, 5), Overlap: 0.5109999775886536\n",
      "Layer: 4, Models: (8, 6), Overlap: 0.5176666378974915\n",
      "Layer: 4, Models: (8, 7), Overlap: 0.5151333212852478\n",
      "Layer: 4, Models: (8, 9), Overlap: 0.5109999775886536\n",
      "Layer: 4, Models: (8, 10), Overlap: 0.5077000260353088\n",
      "Layer: 4, Models: (8, 11), Overlap: 0.5113000273704529\n",
      "Layer: 4, Models: (8, 12), Overlap: 0.5160999894142151\n",
      "Layer: 4, Models: (8, 13), Overlap: 0.5160333514213562\n",
      "Layer: 4, Models: (8, 14), Overlap: 0.5128999948501587\n",
      "Layer: 4, Models: (9, 0), Overlap: 0.5062666535377502\n",
      "Layer: 4, Models: (9, 1), Overlap: 0.5109999775886536\n",
      "Layer: 4, Models: (9, 2), Overlap: 0.5136333107948303\n",
      "Layer: 4, Models: (9, 3), Overlap: 0.509933352470398\n",
      "Layer: 4, Models: (9, 4), Overlap: 0.51583331823349\n",
      "Layer: 4, Models: (9, 5), Overlap: 0.5184000134468079\n",
      "Layer: 4, Models: (9, 6), Overlap: 0.5120000243186951\n",
      "Layer: 4, Models: (9, 7), Overlap: 0.5166666507720947\n",
      "Layer: 4, Models: (9, 8), Overlap: 0.5109999775886536\n",
      "Layer: 4, Models: (9, 10), Overlap: 0.5089666843414307\n",
      "Layer: 4, Models: (9, 11), Overlap: 0.5160999894142151\n",
      "Layer: 4, Models: (9, 12), Overlap: 0.5210333466529846\n",
      "Layer: 4, Models: (9, 13), Overlap: 0.510366678237915\n",
      "Layer: 4, Models: (9, 14), Overlap: 0.5121666789054871\n",
      "Layer: 4, Models: (10, 0), Overlap: 0.5163000226020813\n",
      "Layer: 4, Models: (10, 1), Overlap: 0.5120333433151245\n",
      "Layer: 4, Models: (10, 2), Overlap: 0.5109999775886536\n",
      "Layer: 4, Models: (10, 3), Overlap: 0.5163666605949402\n",
      "Layer: 4, Models: (10, 4), Overlap: 0.5145333409309387\n",
      "Layer: 4, Models: (10, 5), Overlap: 0.508566677570343\n",
      "Layer: 4, Models: (10, 6), Overlap: 0.5160999894142151\n",
      "Layer: 4, Models: (10, 7), Overlap: 0.5129666924476624\n",
      "Layer: 4, Models: (10, 8), Overlap: 0.5077000260353088\n",
      "Layer: 4, Models: (10, 9), Overlap: 0.5089666843414307\n",
      "Layer: 4, Models: (10, 11), Overlap: 0.5113999843597412\n",
      "Layer: 4, Models: (10, 12), Overlap: 0.5144666433334351\n",
      "Layer: 4, Models: (10, 13), Overlap: 0.517799973487854\n",
      "Layer: 4, Models: (10, 14), Overlap: 0.5095333456993103\n",
      "Layer: 4, Models: (11, 0), Overlap: 0.5098999738693237\n",
      "Layer: 4, Models: (11, 1), Overlap: 0.5152333378791809\n",
      "Layer: 4, Models: (11, 2), Overlap: 0.5185999870300293\n",
      "Layer: 4, Models: (11, 3), Overlap: 0.5092999935150146\n",
      "Layer: 4, Models: (11, 4), Overlap: 0.5103333592414856\n",
      "Layer: 4, Models: (11, 5), Overlap: 0.512499988079071\n",
      "Layer: 4, Models: (11, 6), Overlap: 0.5115000009536743\n",
      "Layer: 4, Models: (11, 7), Overlap: 0.5136333107948303\n",
      "Layer: 4, Models: (11, 8), Overlap: 0.5113000273704529\n",
      "Layer: 4, Models: (11, 9), Overlap: 0.5160999894142151\n",
      "Layer: 4, Models: (11, 10), Overlap: 0.5113999843597412\n",
      "Layer: 4, Models: (11, 12), Overlap: 0.510533332824707\n",
      "Layer: 4, Models: (11, 13), Overlap: 0.5134000182151794\n",
      "Layer: 4, Models: (11, 14), Overlap: 0.5127333402633667\n",
      "Layer: 4, Models: (12, 0), Overlap: 0.5148333311080933\n",
      "Layer: 4, Models: (12, 1), Overlap: 0.5162333250045776\n",
      "Layer: 4, Models: (12, 2), Overlap: 0.5112666487693787\n",
      "Layer: 4, Models: (12, 3), Overlap: 0.5169666409492493\n",
      "Layer: 4, Models: (12, 4), Overlap: 0.515333354473114\n",
      "Layer: 4, Models: (12, 5), Overlap: 0.5132333040237427\n",
      "Layer: 4, Models: (12, 6), Overlap: 0.5163666605949402\n",
      "Layer: 4, Models: (12, 7), Overlap: 0.5172333121299744\n",
      "Layer: 4, Models: (12, 8), Overlap: 0.5160999894142151\n",
      "Layer: 4, Models: (12, 9), Overlap: 0.5210333466529846\n",
      "Layer: 4, Models: (12, 10), Overlap: 0.5144666433334351\n",
      "Layer: 4, Models: (12, 11), Overlap: 0.510533332824707\n",
      "Layer: 4, Models: (12, 13), Overlap: 0.517799973487854\n",
      "Layer: 4, Models: (12, 14), Overlap: 0.5182666778564453\n",
      "Layer: 4, Models: (13, 0), Overlap: 0.5144333243370056\n",
      "Layer: 4, Models: (13, 1), Overlap: 0.5091666579246521\n",
      "Layer: 4, Models: (13, 2), Overlap: 0.518666684627533\n",
      "Layer: 4, Models: (13, 3), Overlap: 0.5108333230018616\n",
      "Layer: 4, Models: (13, 4), Overlap: 0.5136666893959045\n",
      "Layer: 4, Models: (13, 5), Overlap: 0.5109000205993652\n",
      "Layer: 4, Models: (13, 6), Overlap: 0.5112333297729492\n",
      "Layer: 4, Models: (13, 7), Overlap: 0.5098999738693237\n",
      "Layer: 4, Models: (13, 8), Overlap: 0.5160333514213562\n",
      "Layer: 4, Models: (13, 9), Overlap: 0.510366678237915\n",
      "Layer: 4, Models: (13, 10), Overlap: 0.517799973487854\n",
      "Layer: 4, Models: (13, 11), Overlap: 0.5134000182151794\n",
      "Layer: 4, Models: (13, 12), Overlap: 0.517799973487854\n",
      "Layer: 4, Models: (13, 14), Overlap: 0.5124666690826416\n",
      "Layer: 4, Models: (14, 0), Overlap: 0.5082333087921143\n",
      "Layer: 4, Models: (14, 1), Overlap: 0.5116333365440369\n",
      "Layer: 4, Models: (14, 2), Overlap: 0.51419997215271\n",
      "Layer: 4, Models: (14, 3), Overlap: 0.5131666660308838\n",
      "Layer: 4, Models: (14, 4), Overlap: 0.5127333402633667\n",
      "Layer: 4, Models: (14, 5), Overlap: 0.5097000002861023\n",
      "Layer: 4, Models: (14, 6), Overlap: 0.5146333575248718\n",
      "Layer: 4, Models: (14, 7), Overlap: 0.5182333588600159\n",
      "Layer: 4, Models: (14, 8), Overlap: 0.5128999948501587\n",
      "Layer: 4, Models: (14, 9), Overlap: 0.5121666789054871\n",
      "Layer: 4, Models: (14, 10), Overlap: 0.5095333456993103\n",
      "Layer: 4, Models: (14, 11), Overlap: 0.5127333402633667\n",
      "Layer: 4, Models: (14, 12), Overlap: 0.5182666778564453\n",
      "Layer: 4, Models: (14, 13), Overlap: 0.5124666690826416\n"
     ]
    }
   ],
   "source": [
    "task = 0\n",
    "for layer, modelidx in product([0,2,4], product([i for i in range(15)], [i for i in range(15)])):\n",
    "    modeli, modelj = modelidx\n",
    "    if modeli == modelj:\n",
    "        continue\n",
    "    print('Layer: {}, Models: ({}, {}), Overlap: {}'.format(layer, modeli, modelj,\n",
    "        overlap(model_map[modeli].state_dict()['model.{}.stacked'.format(layer)][task],\n",
    "                model_map[modelj].state_dict()['model.{}.stacked'.format(layer)][task])))"
   ]
  },
  {
   "cell_type": "markdown",
   "metadata": {},
   "source": [
    "### Multimask Same Task (Sparsity 25)"
   ]
  },
  {
   "cell_type": "code",
   "execution_count": 213,
   "metadata": {},
   "outputs": [],
   "source": [
    "num_masks_to_create = 15"
   ]
  },
  {
   "cell_type": "code",
   "execution_count": 214,
   "metadata": {},
   "outputs": [],
   "source": [
    "loaders = {}\n",
    "for i in range(num_masks_to_create):\n",
    "    loaders[i] = MNISTPerm()"
   ]
  },
  {
   "cell_type": "code",
   "execution_count": 215,
   "metadata": {},
   "outputs": [],
   "source": [
    "weight_dict = {k: v for k,v in models.state_dict().items() if k.endswith('weight')}"
   ]
  },
  {
   "cell_type": "code",
   "execution_count": 216,
   "metadata": {},
   "outputs": [],
   "source": [
    "# Task ID given during train time\n",
    "from IPython.display import clear_output\n",
    "\n",
    "model_maps = {}\n",
    "for i in range(num_masks_to_create):\n",
    "    modeli = MultitaskFCSparse(hidden_size=300, num_tasks=1, sparsity=0.25)\n",
    "    sdi = modeli.state_dict()\n",
    "    sdi.update(weight_dict)\n",
    "    modeli.load_state_dict(sdi)\n",
    "    model_maps[i] = modeli"
   ]
  },
  {
   "cell_type": "code",
   "execution_count": 217,
   "metadata": {
    "scrolled": true
   },
   "outputs": [
    {
     "name": "stdout",
     "output_type": "stream",
     "text": [
      "Training for task 0\n",
      "=> Set task of model.0 to 0\n",
      "=> Set task of model.2 to 0\n",
      "=> Set task of model.4 to 0\n"
     ]
    },
    {
     "data": {
      "application/vnd.jupyter.widget-view+json": {
       "model_id": "1b4ffe2f6ab84e6c96bd90213f432a0b",
       "version_major": 2,
       "version_minor": 0
      },
      "text/plain": [
       "  0%|          | 0/469 [00:00<?, ?it/s]"
      ]
     },
     "metadata": {},
     "output_type": "display_data"
    },
    {
     "name": "stdout",
     "output_type": "stream",
     "text": [
      "Validation => Loss 0.2764, Acc@1 0.8298\n",
      "============\n"
     ]
    },
    {
     "data": {
      "application/vnd.jupyter.widget-view+json": {
       "model_id": "748f56da6e9e4e8b92ec729c426970b7",
       "version_major": 2,
       "version_minor": 0
      },
      "text/plain": [
       "  0%|          | 0/79 [00:00<?, ?it/s]"
      ]
     },
     "metadata": {},
     "output_type": "display_data"
    },
    {
     "name": "stdout",
     "output_type": "stream",
     "text": [
      "Val Perf after 1 epochs Acc@1 0.9111\n",
      "=> Caching mask state for model.0\n",
      "=> Caching mask state for model.2\n",
      "=> Caching mask state for model.4\n",
      "\n",
      "=> Setting learned tasks of model.0 to 1\n",
      "=> Setting learned tasks of model.2 to 1\n",
      "=> Setting learned tasks of model.4 to 1\n",
      "\n",
      "Training for task 0\n",
      "=> Set task of model.0 to 0\n",
      "=> Set task of model.2 to 0\n",
      "=> Set task of model.4 to 0\n"
     ]
    },
    {
     "data": {
      "application/vnd.jupyter.widget-view+json": {
       "model_id": "bcabeef64ad64e798c0f411da2330387",
       "version_major": 2,
       "version_minor": 0
      },
      "text/plain": [
       "  0%|          | 0/469 [00:00<?, ?it/s]"
      ]
     },
     "metadata": {},
     "output_type": "display_data"
    },
    {
     "name": "stdout",
     "output_type": "stream",
     "text": [
      "Validation => Loss 0.3107, Acc@1 0.8330\n",
      "============\n"
     ]
    },
    {
     "data": {
      "application/vnd.jupyter.widget-view+json": {
       "model_id": "16efb555527843d6b97c385397a72105",
       "version_major": 2,
       "version_minor": 0
      },
      "text/plain": [
       "  0%|          | 0/79 [00:00<?, ?it/s]"
      ]
     },
     "metadata": {},
     "output_type": "display_data"
    },
    {
     "name": "stdout",
     "output_type": "stream",
     "text": [
      "Val Perf after 1 epochs Acc@1 0.9105\n",
      "=> Caching mask state for model.0\n",
      "=> Caching mask state for model.2\n",
      "=> Caching mask state for model.4\n",
      "\n",
      "=> Setting learned tasks of model.0 to 1\n",
      "=> Setting learned tasks of model.2 to 1\n",
      "=> Setting learned tasks of model.4 to 1\n",
      "\n",
      "Training for task 0\n",
      "=> Set task of model.0 to 0\n",
      "=> Set task of model.2 to 0\n",
      "=> Set task of model.4 to 0\n"
     ]
    },
    {
     "data": {
      "application/vnd.jupyter.widget-view+json": {
       "model_id": "62afc78613b04fbf9db9a1989eaeb4dc",
       "version_major": 2,
       "version_minor": 0
      },
      "text/plain": [
       "  0%|          | 0/469 [00:00<?, ?it/s]"
      ]
     },
     "metadata": {},
     "output_type": "display_data"
    },
    {
     "name": "stdout",
     "output_type": "stream",
     "text": [
      "Validation => Loss 0.2673, Acc@1 0.8320\n",
      "============\n"
     ]
    },
    {
     "data": {
      "application/vnd.jupyter.widget-view+json": {
       "model_id": "f3db17dce59740e0bcad643e25a1d3ae",
       "version_major": 2,
       "version_minor": 0
      },
      "text/plain": [
       "  0%|          | 0/79 [00:00<?, ?it/s]"
      ]
     },
     "metadata": {},
     "output_type": "display_data"
    },
    {
     "name": "stdout",
     "output_type": "stream",
     "text": [
      "Val Perf after 1 epochs Acc@1 0.9130\n",
      "=> Caching mask state for model.0\n",
      "=> Caching mask state for model.2\n",
      "=> Caching mask state for model.4\n",
      "\n",
      "=> Setting learned tasks of model.0 to 1\n",
      "=> Setting learned tasks of model.2 to 1\n",
      "=> Setting learned tasks of model.4 to 1\n",
      "\n",
      "Training for task 0\n",
      "=> Set task of model.0 to 0\n",
      "=> Set task of model.2 to 0\n",
      "=> Set task of model.4 to 0\n"
     ]
    },
    {
     "data": {
      "application/vnd.jupyter.widget-view+json": {
       "model_id": "d63597214fef46e3a8e8d5b300af297f",
       "version_major": 2,
       "version_minor": 0
      },
      "text/plain": [
       "  0%|          | 0/469 [00:00<?, ?it/s]"
      ]
     },
     "metadata": {},
     "output_type": "display_data"
    },
    {
     "name": "stdout",
     "output_type": "stream",
     "text": [
      "Validation => Loss 0.3994, Acc@1 0.8379\n",
      "============\n"
     ]
    },
    {
     "data": {
      "application/vnd.jupyter.widget-view+json": {
       "model_id": "7ecacb60e0404436acbec3557d7855e5",
       "version_major": 2,
       "version_minor": 0
      },
      "text/plain": [
       "  0%|          | 0/79 [00:00<?, ?it/s]"
      ]
     },
     "metadata": {},
     "output_type": "display_data"
    },
    {
     "name": "stdout",
     "output_type": "stream",
     "text": [
      "Val Perf after 1 epochs Acc@1 0.9136\n",
      "=> Caching mask state for model.0\n",
      "=> Caching mask state for model.2\n",
      "=> Caching mask state for model.4\n",
      "\n",
      "=> Setting learned tasks of model.0 to 1\n",
      "=> Setting learned tasks of model.2 to 1\n",
      "=> Setting learned tasks of model.4 to 1\n",
      "\n",
      "Training for task 0\n",
      "=> Set task of model.0 to 0\n",
      "=> Set task of model.2 to 0\n",
      "=> Set task of model.4 to 0\n"
     ]
    },
    {
     "data": {
      "application/vnd.jupyter.widget-view+json": {
       "model_id": "6045264adcf9433eba2826b2c93a6353",
       "version_major": 2,
       "version_minor": 0
      },
      "text/plain": [
       "  0%|          | 0/469 [00:00<?, ?it/s]"
      ]
     },
     "metadata": {},
     "output_type": "display_data"
    },
    {
     "name": "stdout",
     "output_type": "stream",
     "text": [
      "Validation => Loss 0.3628, Acc@1 0.8438\n",
      "============\n"
     ]
    },
    {
     "data": {
      "application/vnd.jupyter.widget-view+json": {
       "model_id": "85effc9609954527b9d9f901200b5c6d",
       "version_major": 2,
       "version_minor": 0
      },
      "text/plain": [
       "  0%|          | 0/79 [00:00<?, ?it/s]"
      ]
     },
     "metadata": {},
     "output_type": "display_data"
    },
    {
     "name": "stdout",
     "output_type": "stream",
     "text": [
      "Val Perf after 1 epochs Acc@1 0.9119\n",
      "=> Caching mask state for model.0\n",
      "=> Caching mask state for model.2\n",
      "=> Caching mask state for model.4\n",
      "\n",
      "=> Setting learned tasks of model.0 to 1\n",
      "=> Setting learned tasks of model.2 to 1\n",
      "=> Setting learned tasks of model.4 to 1\n",
      "\n",
      "Training for task 0\n",
      "=> Set task of model.0 to 0\n",
      "=> Set task of model.2 to 0\n",
      "=> Set task of model.4 to 0\n"
     ]
    },
    {
     "data": {
      "application/vnd.jupyter.widget-view+json": {
       "model_id": "f0d3a5c8e8da45a7aa760ee3374b6236",
       "version_major": 2,
       "version_minor": 0
      },
      "text/plain": [
       "  0%|          | 0/469 [00:00<?, ?it/s]"
      ]
     },
     "metadata": {},
     "output_type": "display_data"
    },
    {
     "name": "stdout",
     "output_type": "stream",
     "text": [
      "Validation => Loss 0.3440, Acc@1 0.8298\n",
      "============\n"
     ]
    },
    {
     "data": {
      "application/vnd.jupyter.widget-view+json": {
       "model_id": "025efc28526a4e70be80fc33a265fe7e",
       "version_major": 2,
       "version_minor": 0
      },
      "text/plain": [
       "  0%|          | 0/79 [00:00<?, ?it/s]"
      ]
     },
     "metadata": {},
     "output_type": "display_data"
    },
    {
     "name": "stdout",
     "output_type": "stream",
     "text": [
      "Val Perf after 1 epochs Acc@1 0.9142\n",
      "=> Caching mask state for model.0\n",
      "=> Caching mask state for model.2\n",
      "=> Caching mask state for model.4\n",
      "\n",
      "=> Setting learned tasks of model.0 to 1\n",
      "=> Setting learned tasks of model.2 to 1\n",
      "=> Setting learned tasks of model.4 to 1\n",
      "\n",
      "Training for task 0\n",
      "=> Set task of model.0 to 0\n",
      "=> Set task of model.2 to 0\n",
      "=> Set task of model.4 to 0\n"
     ]
    },
    {
     "data": {
      "application/vnd.jupyter.widget-view+json": {
       "model_id": "a574902e8bcc47a895ade27d1b6c45f5",
       "version_major": 2,
       "version_minor": 0
      },
      "text/plain": [
       "  0%|          | 0/469 [00:00<?, ?it/s]"
      ]
     },
     "metadata": {},
     "output_type": "display_data"
    },
    {
     "name": "stdout",
     "output_type": "stream",
     "text": [
      "Validation => Loss 0.4477, Acc@1 0.8454\n",
      "============\n"
     ]
    },
    {
     "data": {
      "application/vnd.jupyter.widget-view+json": {
       "model_id": "417de54ccd904e779cb7f7d1100666ea",
       "version_major": 2,
       "version_minor": 0
      },
      "text/plain": [
       "  0%|          | 0/79 [00:00<?, ?it/s]"
      ]
     },
     "metadata": {},
     "output_type": "display_data"
    },
    {
     "name": "stdout",
     "output_type": "stream",
     "text": [
      "Val Perf after 1 epochs Acc@1 0.9139\n",
      "=> Caching mask state for model.0\n",
      "=> Caching mask state for model.2\n",
      "=> Caching mask state for model.4\n",
      "\n",
      "=> Setting learned tasks of model.0 to 1\n",
      "=> Setting learned tasks of model.2 to 1\n",
      "=> Setting learned tasks of model.4 to 1\n",
      "\n",
      "Training for task 0\n",
      "=> Set task of model.0 to 0\n",
      "=> Set task of model.2 to 0\n",
      "=> Set task of model.4 to 0\n"
     ]
    },
    {
     "data": {
      "application/vnd.jupyter.widget-view+json": {
       "model_id": "17cf944454c44dcf93ab5b5fe9666888",
       "version_major": 2,
       "version_minor": 0
      },
      "text/plain": [
       "  0%|          | 0/469 [00:00<?, ?it/s]"
      ]
     },
     "metadata": {},
     "output_type": "display_data"
    },
    {
     "name": "stdout",
     "output_type": "stream",
     "text": [
      "Validation => Loss 0.2559, Acc@1 0.8467\n",
      "============\n"
     ]
    },
    {
     "data": {
      "application/vnd.jupyter.widget-view+json": {
       "model_id": "1a282ff878be4dd69aa04eaf65e71ce3",
       "version_major": 2,
       "version_minor": 0
      },
      "text/plain": [
       "  0%|          | 0/79 [00:00<?, ?it/s]"
      ]
     },
     "metadata": {},
     "output_type": "display_data"
    },
    {
     "name": "stdout",
     "output_type": "stream",
     "text": [
      "Val Perf after 1 epochs Acc@1 0.9119\n",
      "=> Caching mask state for model.0\n",
      "=> Caching mask state for model.2\n",
      "=> Caching mask state for model.4\n",
      "\n",
      "=> Setting learned tasks of model.0 to 1\n",
      "=> Setting learned tasks of model.2 to 1\n",
      "=> Setting learned tasks of model.4 to 1\n",
      "\n",
      "Training for task 0\n",
      "=> Set task of model.0 to 0\n",
      "=> Set task of model.2 to 0\n",
      "=> Set task of model.4 to 0\n"
     ]
    },
    {
     "data": {
      "application/vnd.jupyter.widget-view+json": {
       "model_id": "29b0d8009a6947ae9fb092fb5b20019d",
       "version_major": 2,
       "version_minor": 0
      },
      "text/plain": [
       "  0%|          | 0/469 [00:00<?, ?it/s]"
      ]
     },
     "metadata": {},
     "output_type": "display_data"
    },
    {
     "name": "stdout",
     "output_type": "stream",
     "text": [
      "Validation => Loss 0.3870, Acc@1 0.8392\n",
      "============\n"
     ]
    },
    {
     "data": {
      "application/vnd.jupyter.widget-view+json": {
       "model_id": "8b166a47b9b7420d9fb1063908b3b021",
       "version_major": 2,
       "version_minor": 0
      },
      "text/plain": [
       "  0%|          | 0/79 [00:00<?, ?it/s]"
      ]
     },
     "metadata": {},
     "output_type": "display_data"
    },
    {
     "name": "stdout",
     "output_type": "stream",
     "text": [
      "Val Perf after 1 epochs Acc@1 0.9124\n",
      "=> Caching mask state for model.0\n",
      "=> Caching mask state for model.2\n",
      "=> Caching mask state for model.4\n",
      "\n",
      "=> Setting learned tasks of model.0 to 1\n",
      "=> Setting learned tasks of model.2 to 1\n",
      "=> Setting learned tasks of model.4 to 1\n",
      "\n",
      "Training for task 0\n",
      "=> Set task of model.0 to 0\n",
      "=> Set task of model.2 to 0\n",
      "=> Set task of model.4 to 0\n"
     ]
    },
    {
     "data": {
      "application/vnd.jupyter.widget-view+json": {
       "model_id": "2528b250166644e08210e4678374d2ac",
       "version_major": 2,
       "version_minor": 0
      },
      "text/plain": [
       "  0%|          | 0/469 [00:00<?, ?it/s]"
      ]
     },
     "metadata": {},
     "output_type": "display_data"
    },
    {
     "name": "stdout",
     "output_type": "stream",
     "text": [
      "Validation => Loss 0.3584, Acc@1 0.8411\n",
      "============\n"
     ]
    },
    {
     "data": {
      "application/vnd.jupyter.widget-view+json": {
       "model_id": "0d5c0a1295d5417585c5eae9726cce72",
       "version_major": 2,
       "version_minor": 0
      },
      "text/plain": [
       "  0%|          | 0/79 [00:00<?, ?it/s]"
      ]
     },
     "metadata": {},
     "output_type": "display_data"
    },
    {
     "name": "stdout",
     "output_type": "stream",
     "text": [
      "Val Perf after 1 epochs Acc@1 0.9079\n",
      "=> Caching mask state for model.0\n",
      "=> Caching mask state for model.2\n",
      "=> Caching mask state for model.4\n",
      "\n",
      "=> Setting learned tasks of model.0 to 1\n",
      "=> Setting learned tasks of model.2 to 1\n",
      "=> Setting learned tasks of model.4 to 1\n",
      "\n",
      "Training for task 0\n",
      "=> Set task of model.0 to 0\n",
      "=> Set task of model.2 to 0\n",
      "=> Set task of model.4 to 0\n"
     ]
    },
    {
     "data": {
      "application/vnd.jupyter.widget-view+json": {
       "model_id": "74c764806cf74fe5b86702dd46badbe6",
       "version_major": 2,
       "version_minor": 0
      },
      "text/plain": [
       "  0%|          | 0/469 [00:00<?, ?it/s]"
      ]
     },
     "metadata": {},
     "output_type": "display_data"
    },
    {
     "name": "stdout",
     "output_type": "stream",
     "text": [
      "Validation => Loss 0.3098, Acc@1 0.8350\n",
      "============\n"
     ]
    },
    {
     "data": {
      "application/vnd.jupyter.widget-view+json": {
       "model_id": "8500b72e2ff74acfbffa1ecb0f0d6210",
       "version_major": 2,
       "version_minor": 0
      },
      "text/plain": [
       "  0%|          | 0/79 [00:00<?, ?it/s]"
      ]
     },
     "metadata": {},
     "output_type": "display_data"
    },
    {
     "name": "stdout",
     "output_type": "stream",
     "text": [
      "Val Perf after 1 epochs Acc@1 0.9113\n",
      "=> Caching mask state for model.0\n",
      "=> Caching mask state for model.2\n",
      "=> Caching mask state for model.4\n",
      "\n",
      "=> Setting learned tasks of model.0 to 1\n",
      "=> Setting learned tasks of model.2 to 1\n",
      "=> Setting learned tasks of model.4 to 1\n",
      "\n",
      "Training for task 0\n",
      "=> Set task of model.0 to 0\n",
      "=> Set task of model.2 to 0\n",
      "=> Set task of model.4 to 0\n"
     ]
    },
    {
     "data": {
      "application/vnd.jupyter.widget-view+json": {
       "model_id": "d8ed48a37a6f41c0856aa51e1bbfaa23",
       "version_major": 2,
       "version_minor": 0
      },
      "text/plain": [
       "  0%|          | 0/469 [00:00<?, ?it/s]"
      ]
     },
     "metadata": {},
     "output_type": "display_data"
    },
    {
     "name": "stdout",
     "output_type": "stream",
     "text": [
      "Validation => Loss 0.3097, Acc@1 0.8460\n",
      "============\n"
     ]
    },
    {
     "data": {
      "application/vnd.jupyter.widget-view+json": {
       "model_id": "7a4b895d2a044d40ab18b2446dda210d",
       "version_major": 2,
       "version_minor": 0
      },
      "text/plain": [
       "  0%|          | 0/79 [00:00<?, ?it/s]"
      ]
     },
     "metadata": {},
     "output_type": "display_data"
    },
    {
     "name": "stdout",
     "output_type": "stream",
     "text": [
      "Val Perf after 1 epochs Acc@1 0.9160\n",
      "=> Caching mask state for model.0\n",
      "=> Caching mask state for model.2\n",
      "=> Caching mask state for model.4\n",
      "\n",
      "=> Setting learned tasks of model.0 to 1\n",
      "=> Setting learned tasks of model.2 to 1\n",
      "=> Setting learned tasks of model.4 to 1\n",
      "\n",
      "Training for task 0\n",
      "=> Set task of model.0 to 0\n",
      "=> Set task of model.2 to 0\n",
      "=> Set task of model.4 to 0\n"
     ]
    },
    {
     "data": {
      "application/vnd.jupyter.widget-view+json": {
       "model_id": "fd4556508b2e415194dfeab0875a3062",
       "version_major": 2,
       "version_minor": 0
      },
      "text/plain": [
       "  0%|          | 0/469 [00:00<?, ?it/s]"
      ]
     },
     "metadata": {},
     "output_type": "display_data"
    },
    {
     "name": "stdout",
     "output_type": "stream",
     "text": [
      "Validation => Loss 0.3899, Acc@1 0.8424\n",
      "============\n"
     ]
    },
    {
     "data": {
      "application/vnd.jupyter.widget-view+json": {
       "model_id": "1485c7cbc36044d58562251d3002bdf4",
       "version_major": 2,
       "version_minor": 0
      },
      "text/plain": [
       "  0%|          | 0/79 [00:00<?, ?it/s]"
      ]
     },
     "metadata": {},
     "output_type": "display_data"
    },
    {
     "name": "stdout",
     "output_type": "stream",
     "text": [
      "Val Perf after 1 epochs Acc@1 0.9115\n",
      "=> Caching mask state for model.0\n",
      "=> Caching mask state for model.2\n",
      "=> Caching mask state for model.4\n",
      "\n",
      "=> Setting learned tasks of model.0 to 1\n",
      "=> Setting learned tasks of model.2 to 1\n",
      "=> Setting learned tasks of model.4 to 1\n",
      "\n",
      "Training for task 0\n",
      "=> Set task of model.0 to 0\n",
      "=> Set task of model.2 to 0\n",
      "=> Set task of model.4 to 0\n"
     ]
    },
    {
     "data": {
      "application/vnd.jupyter.widget-view+json": {
       "model_id": "6a9d9b71c185444696e2ed4344fddc1b",
       "version_major": 2,
       "version_minor": 0
      },
      "text/plain": [
       "  0%|          | 0/469 [00:00<?, ?it/s]"
      ]
     },
     "metadata": {},
     "output_type": "display_data"
    },
    {
     "name": "stdout",
     "output_type": "stream",
     "text": [
      "Validation => Loss 0.3227, Acc@1 0.8454\n",
      "============\n"
     ]
    },
    {
     "data": {
      "application/vnd.jupyter.widget-view+json": {
       "model_id": "7910f1930f5949aebe929fd6166f7f94",
       "version_major": 2,
       "version_minor": 0
      },
      "text/plain": [
       "  0%|          | 0/79 [00:00<?, ?it/s]"
      ]
     },
     "metadata": {},
     "output_type": "display_data"
    },
    {
     "name": "stdout",
     "output_type": "stream",
     "text": [
      "Val Perf after 1 epochs Acc@1 0.9101\n",
      "=> Caching mask state for model.0\n",
      "=> Caching mask state for model.2\n",
      "=> Caching mask state for model.4\n",
      "\n",
      "=> Setting learned tasks of model.0 to 1\n",
      "=> Setting learned tasks of model.2 to 1\n",
      "=> Setting learned tasks of model.4 to 1\n",
      "\n",
      "Training for task 0\n",
      "=> Set task of model.0 to 0\n",
      "=> Set task of model.2 to 0\n",
      "=> Set task of model.4 to 0\n"
     ]
    },
    {
     "data": {
      "application/vnd.jupyter.widget-view+json": {
       "model_id": "aa352be6b7284271a4c9fdadda6d53a4",
       "version_major": 2,
       "version_minor": 0
      },
      "text/plain": [
       "  0%|          | 0/469 [00:00<?, ?it/s]"
      ]
     },
     "metadata": {},
     "output_type": "display_data"
    },
    {
     "name": "stdout",
     "output_type": "stream",
     "text": [
      "Validation => Loss 0.4783, Acc@1 0.8314\n",
      "============\n"
     ]
    },
    {
     "data": {
      "application/vnd.jupyter.widget-view+json": {
       "model_id": "a47d893ebbbe45e1bad7119c8ea240e2",
       "version_major": 2,
       "version_minor": 0
      },
      "text/plain": [
       "  0%|          | 0/79 [00:00<?, ?it/s]"
      ]
     },
     "metadata": {},
     "output_type": "display_data"
    },
    {
     "name": "stdout",
     "output_type": "stream",
     "text": [
      "Val Perf after 1 epochs Acc@1 0.9123\n",
      "=> Caching mask state for model.0\n",
      "=> Caching mask state for model.2\n",
      "=> Caching mask state for model.4\n",
      "\n",
      "=> Setting learned tasks of model.0 to 1\n",
      "=> Setting learned tasks of model.2 to 1\n",
      "=> Setting learned tasks of model.4 to 1\n",
      "\n"
     ]
    }
   ],
   "source": [
    "for idx, modeli in model_maps.items():\n",
    "    for task in range(1):\n",
    "        print(f\"Training for task {task}\")\n",
    "        set_model_task(modeli, task)\n",
    "        mnisti = loaders[idx]\n",
    "        mnisti.update_task(task)\n",
    "\n",
    "        optimizer1 = optim.RMSprop([p for p in modeli.parameters() if p.requires_grad], lr=1e-4)\n",
    "        # Train for 1 epoch\n",
    "        for e in range(1):\n",
    "            train(modeli, mnisti.train_loader, optimizer1, e)\n",
    "            \n",
    "            print(\"Validation\")\n",
    "            print(\"============\")\n",
    "            acc1 = evaluate(modeli, mnisti.val_loader, e)\n",
    "\n",
    "\n",
    "        cache_masks(modeli)\n",
    "        print()\n",
    "        set_num_tasks_learned(modeli, task + 1)\n",
    "        print()"
   ]
  },
  {
   "cell_type": "code",
   "execution_count": 220,
   "metadata": {},
   "outputs": [
    {
     "name": "stdout",
     "output_type": "stream",
     "text": [
      "Layer: 0, Models: (0, 1), Overlap: 0.6411479711532593\n",
      "Layer: 0, Models: (0, 2), Overlap: 0.6433843374252319\n",
      "Layer: 0, Models: (0, 3), Overlap: 0.6438350081443787\n",
      "Layer: 0, Models: (0, 4), Overlap: 0.6411394476890564\n",
      "Layer: 0, Models: (0, 5), Overlap: 0.6416326761245728\n",
      "Layer: 0, Models: (0, 6), Overlap: 0.6418962478637695\n",
      "Layer: 0, Models: (0, 7), Overlap: 0.6417006850242615\n",
      "Layer: 0, Models: (0, 8), Overlap: 0.6428826451301575\n",
      "Layer: 0, Models: (0, 9), Overlap: 0.6420578360557556\n",
      "Layer: 0, Models: (0, 10), Overlap: 0.6414455771446228\n",
      "Layer: 0, Models: (0, 11), Overlap: 0.641232967376709\n",
      "Layer: 0, Models: (0, 12), Overlap: 0.6421173214912415\n",
      "Layer: 0, Models: (0, 13), Overlap: 0.643562912940979\n",
      "Layer: 0, Models: (0, 14), Overlap: 0.6414710879325867\n",
      "Layer: 0, Models: (1, 0), Overlap: 0.6411479711532593\n",
      "Layer: 0, Models: (1, 2), Overlap: 0.6411224603652954\n",
      "Layer: 0, Models: (1, 3), Overlap: 0.6421768665313721\n",
      "Layer: 0, Models: (1, 4), Overlap: 0.6426190733909607\n",
      "Layer: 0, Models: (1, 5), Overlap: 0.6410118937492371\n",
      "Layer: 0, Models: (1, 6), Overlap: 0.6428316235542297\n",
      "Layer: 0, Models: (1, 7), Overlap: 0.6403146386146545\n",
      "Layer: 0, Models: (1, 8), Overlap: 0.6446343660354614\n",
      "Layer: 0, Models: (1, 9), Overlap: 0.6426615715026855\n",
      "Layer: 0, Models: (1, 10), Overlap: 0.6415306329727173\n",
      "Layer: 0, Models: (1, 11), Overlap: 0.6421428322792053\n",
      "Layer: 0, Models: (1, 12), Overlap: 0.6403146386146545\n",
      "Layer: 0, Models: (1, 13), Overlap: 0.6426785588264465\n",
      "Layer: 0, Models: (1, 14), Overlap: 0.6424319744110107\n",
      "Layer: 0, Models: (2, 0), Overlap: 0.6433843374252319\n",
      "Layer: 0, Models: (2, 1), Overlap: 0.6411224603652954\n",
      "Layer: 0, Models: (2, 3), Overlap: 0.641615629196167\n",
      "Layer: 0, Models: (2, 4), Overlap: 0.6410714387893677\n",
      "Layer: 0, Models: (2, 5), Overlap: 0.6425340175628662\n",
      "Layer: 0, Models: (2, 6), Overlap: 0.642363965511322\n",
      "Layer: 0, Models: (2, 7), Overlap: 0.6421003341674805\n",
      "Layer: 0, Models: (2, 8), Overlap: 0.64335036277771\n",
      "Layer: 0, Models: (2, 9), Overlap: 0.6415051221847534\n",
      "Layer: 0, Models: (2, 10), Overlap: 0.6427721381187439\n",
      "Layer: 0, Models: (2, 11), Overlap: 0.6422278881072998\n",
      "Layer: 0, Models: (2, 12), Overlap: 0.6438605189323425\n",
      "Layer: 0, Models: (2, 13), Overlap: 0.6423129439353943\n",
      "Layer: 0, Models: (2, 14), Overlap: 0.6419217586517334\n",
      "Layer: 0, Models: (3, 0), Overlap: 0.6438350081443787\n",
      "Layer: 0, Models: (3, 1), Overlap: 0.6421768665313721\n",
      "Layer: 0, Models: (3, 2), Overlap: 0.641615629196167\n",
      "Layer: 0, Models: (3, 4), Overlap: 0.6411564350128174\n",
      "Layer: 0, Models: (3, 5), Overlap: 0.6413010358810425\n",
      "Layer: 0, Models: (3, 6), Overlap: 0.6410629153251648\n",
      "Layer: 0, Models: (3, 7), Overlap: 0.6421173214912415\n",
      "Layer: 0, Models: (3, 8), Overlap: 0.6440306305885315\n",
      "Layer: 0, Models: (3, 9), Overlap: 0.6411479711532593\n",
      "Layer: 0, Models: (3, 10), Overlap: 0.6385799050331116\n",
      "Layer: 0, Models: (3, 11), Overlap: 0.6430357098579407\n",
      "Layer: 0, Models: (3, 12), Overlap: 0.6404251456260681\n",
      "Layer: 0, Models: (3, 13), Overlap: 0.6422619223594666\n",
      "Layer: 0, Models: (3, 14), Overlap: 0.6402720808982849\n",
      "Layer: 0, Models: (4, 0), Overlap: 0.6411394476890564\n",
      "Layer: 0, Models: (4, 1), Overlap: 0.6426190733909607\n",
      "Layer: 0, Models: (4, 2), Overlap: 0.6410714387893677\n",
      "Layer: 0, Models: (4, 3), Overlap: 0.6411564350128174\n",
      "Layer: 0, Models: (4, 5), Overlap: 0.6398809552192688\n",
      "Layer: 0, Models: (4, 6), Overlap: 0.6405782103538513\n",
      "Layer: 0, Models: (4, 7), Overlap: 0.6410884261131287\n",
      "Layer: 0, Models: (4, 8), Overlap: 0.6410459280014038\n",
      "Layer: 0, Models: (4, 9), Overlap: 0.6409863829612732\n",
      "Layer: 0, Models: (4, 10), Overlap: 0.6415646076202393\n",
      "Layer: 0, Models: (4, 11), Overlap: 0.6420238018035889\n",
      "Layer: 0, Models: (4, 12), Overlap: 0.6406547427177429\n",
      "Layer: 0, Models: (4, 13), Overlap: 0.641981303691864\n",
      "Layer: 0, Models: (4, 14), Overlap: 0.6414541006088257\n",
      "Layer: 0, Models: (5, 0), Overlap: 0.6416326761245728\n",
      "Layer: 0, Models: (5, 1), Overlap: 0.6410118937492371\n",
      "Layer: 0, Models: (5, 2), Overlap: 0.6425340175628662\n",
      "Layer: 0, Models: (5, 3), Overlap: 0.6413010358810425\n",
      "Layer: 0, Models: (5, 4), Overlap: 0.6398809552192688\n",
      "Layer: 0, Models: (5, 6), Overlap: 0.6410204172134399\n",
      "Layer: 0, Models: (5, 7), Overlap: 0.6416581869125366\n",
      "Layer: 0, Models: (5, 8), Overlap: 0.6433928608894348\n",
      "Layer: 0, Models: (5, 9), Overlap: 0.6416666507720947\n",
      "Layer: 0, Models: (5, 10), Overlap: 0.640629231929779\n",
      "Layer: 0, Models: (5, 11), Overlap: 0.6414285898208618\n",
      "Layer: 0, Models: (5, 12), Overlap: 0.6429761648178101\n",
      "Layer: 0, Models: (5, 13), Overlap: 0.6416751742362976\n",
      "Layer: 0, Models: (5, 14), Overlap: 0.6436139345169067\n",
      "Layer: 0, Models: (6, 0), Overlap: 0.6418962478637695\n",
      "Layer: 0, Models: (6, 1), Overlap: 0.6428316235542297\n",
      "Layer: 0, Models: (6, 2), Overlap: 0.642363965511322\n",
      "Layer: 0, Models: (6, 3), Overlap: 0.6410629153251648\n",
      "Layer: 0, Models: (6, 4), Overlap: 0.6405782103538513\n",
      "Layer: 0, Models: (6, 5), Overlap: 0.6410204172134399\n",
      "Layer: 0, Models: (6, 7), Overlap: 0.6426785588264465\n",
      "Layer: 0, Models: (6, 8), Overlap: 0.6433588266372681\n",
      "Layer: 0, Models: (6, 9), Overlap: 0.6437329649925232\n",
      "Layer: 0, Models: (6, 10), Overlap: 0.6413010358810425\n",
      "Layer: 0, Models: (6, 11), Overlap: 0.6410544514656067\n",
      "Layer: 0, Models: (6, 12), Overlap: 0.6417347192764282\n",
      "Layer: 0, Models: (6, 13), Overlap: 0.6435034275054932\n",
      "Layer: 0, Models: (6, 14), Overlap: 0.6401955485343933\n",
      "Layer: 0, Models: (7, 0), Overlap: 0.6417006850242615\n",
      "Layer: 0, Models: (7, 1), Overlap: 0.6403146386146545\n",
      "Layer: 0, Models: (7, 2), Overlap: 0.6421003341674805\n",
      "Layer: 0, Models: (7, 3), Overlap: 0.6421173214912415\n",
      "Layer: 0, Models: (7, 4), Overlap: 0.6410884261131287\n",
      "Layer: 0, Models: (7, 5), Overlap: 0.6416581869125366\n",
      "Layer: 0, Models: (7, 6), Overlap: 0.6426785588264465\n",
      "Layer: 0, Models: (7, 8), Overlap: 0.6410884261131287\n",
      "Layer: 0, Models: (7, 9), Overlap: 0.6442092061042786\n",
      "Layer: 0, Models: (7, 10), Overlap: 0.640799343585968\n",
      "Layer: 0, Models: (7, 11), Overlap: 0.6402975916862488\n",
      "Layer: 0, Models: (7, 12), Overlap: 0.6417602300643921\n",
      "Layer: 0, Models: (7, 13), Overlap: 0.6398809552192688\n",
      "Layer: 0, Models: (7, 14), Overlap: 0.6410374045372009\n",
      "Layer: 0, Models: (8, 0), Overlap: 0.6428826451301575\n",
      "Layer: 0, Models: (8, 1), Overlap: 0.6446343660354614\n",
      "Layer: 0, Models: (8, 2), Overlap: 0.64335036277771\n",
      "Layer: 0, Models: (8, 3), Overlap: 0.6440306305885315\n",
      "Layer: 0, Models: (8, 4), Overlap: 0.6410459280014038\n",
      "Layer: 0, Models: (8, 5), Overlap: 0.6433928608894348\n",
      "Layer: 0, Models: (8, 6), Overlap: 0.6433588266372681\n",
      "Layer: 0, Models: (8, 7), Overlap: 0.6410884261131287\n",
      "Layer: 0, Models: (8, 9), Overlap: 0.6413605213165283\n",
      "Layer: 0, Models: (8, 10), Overlap: 0.6416666507720947\n",
      "Layer: 0, Models: (8, 11), Overlap: 0.6435884237289429\n",
      "Layer: 0, Models: (8, 12), Overlap: 0.6428061127662659\n",
      "Layer: 0, Models: (8, 13), Overlap: 0.6437074542045593\n",
      "Layer: 0, Models: (8, 14), Overlap: 0.6434524059295654\n",
      "Layer: 0, Models: (9, 0), Overlap: 0.6420578360557556\n",
      "Layer: 0, Models: (9, 1), Overlap: 0.6426615715026855\n",
      "Layer: 0, Models: (9, 2), Overlap: 0.6415051221847534\n",
      "Layer: 0, Models: (9, 3), Overlap: 0.6411479711532593\n",
      "Layer: 0, Models: (9, 4), Overlap: 0.6409863829612732\n",
      "Layer: 0, Models: (9, 5), Overlap: 0.6416666507720947\n",
      "Layer: 0, Models: (9, 6), Overlap: 0.6437329649925232\n",
      "Layer: 0, Models: (9, 7), Overlap: 0.6442092061042786\n",
      "Layer: 0, Models: (9, 8), Overlap: 0.6413605213165283\n",
      "Layer: 0, Models: (9, 10), Overlap: 0.6411564350128174\n",
      "Layer: 0, Models: (9, 11), Overlap: 0.6426870822906494\n",
      "Layer: 0, Models: (9, 12), Overlap: 0.6399660110473633\n",
      "Layer: 0, Models: (9, 13), Overlap: 0.6413945555686951\n",
      "Layer: 0, Models: (9, 14), Overlap: 0.6437414884567261\n",
      "Layer: 0, Models: (10, 0), Overlap: 0.6414455771446228\n",
      "Layer: 0, Models: (10, 1), Overlap: 0.6415306329727173\n",
      "Layer: 0, Models: (10, 2), Overlap: 0.6427721381187439\n",
      "Layer: 0, Models: (10, 3), Overlap: 0.6385799050331116\n",
      "Layer: 0, Models: (10, 4), Overlap: 0.6415646076202393\n",
      "Layer: 0, Models: (10, 5), Overlap: 0.640629231929779\n",
      "Layer: 0, Models: (10, 6), Overlap: 0.6413010358810425\n",
      "Layer: 0, Models: (10, 7), Overlap: 0.640799343585968\n",
      "Layer: 0, Models: (10, 8), Overlap: 0.6416666507720947\n",
      "Layer: 0, Models: (10, 9), Overlap: 0.6411564350128174\n",
      "Layer: 0, Models: (10, 11), Overlap: 0.6432822942733765\n",
      "Layer: 0, Models: (10, 12), Overlap: 0.6424574851989746\n",
      "Layer: 0, Models: (10, 13), Overlap: 0.6411819458007812\n",
      "Layer: 0, Models: (10, 14), Overlap: 0.6424319744110107\n",
      "Layer: 0, Models: (11, 0), Overlap: 0.641232967376709\n",
      "Layer: 0, Models: (11, 1), Overlap: 0.6421428322792053\n",
      "Layer: 0, Models: (11, 2), Overlap: 0.6422278881072998\n",
      "Layer: 0, Models: (11, 3), Overlap: 0.6430357098579407\n",
      "Layer: 0, Models: (11, 4), Overlap: 0.6420238018035889\n"
     ]
    },
    {
     "name": "stdout",
     "output_type": "stream",
     "text": [
      "Layer: 0, Models: (11, 5), Overlap: 0.6414285898208618\n",
      "Layer: 0, Models: (11, 6), Overlap: 0.6410544514656067\n",
      "Layer: 0, Models: (11, 7), Overlap: 0.6402975916862488\n",
      "Layer: 0, Models: (11, 8), Overlap: 0.6435884237289429\n",
      "Layer: 0, Models: (11, 9), Overlap: 0.6426870822906494\n",
      "Layer: 0, Models: (11, 10), Overlap: 0.6432822942733765\n",
      "Layer: 0, Models: (11, 12), Overlap: 0.6423469185829163\n",
      "Layer: 0, Models: (11, 13), Overlap: 0.6433843374252319\n",
      "Layer: 0, Models: (11, 14), Overlap: 0.643146276473999\n",
      "Layer: 0, Models: (12, 0), Overlap: 0.6421173214912415\n",
      "Layer: 0, Models: (12, 1), Overlap: 0.6403146386146545\n",
      "Layer: 0, Models: (12, 2), Overlap: 0.6438605189323425\n",
      "Layer: 0, Models: (12, 3), Overlap: 0.6404251456260681\n",
      "Layer: 0, Models: (12, 4), Overlap: 0.6406547427177429\n",
      "Layer: 0, Models: (12, 5), Overlap: 0.6429761648178101\n",
      "Layer: 0, Models: (12, 6), Overlap: 0.6417347192764282\n",
      "Layer: 0, Models: (12, 7), Overlap: 0.6417602300643921\n",
      "Layer: 0, Models: (12, 8), Overlap: 0.6428061127662659\n",
      "Layer: 0, Models: (12, 9), Overlap: 0.6399660110473633\n",
      "Layer: 0, Models: (12, 10), Overlap: 0.6424574851989746\n",
      "Layer: 0, Models: (12, 11), Overlap: 0.6423469185829163\n",
      "Layer: 0, Models: (12, 13), Overlap: 0.6418792605400085\n",
      "Layer: 0, Models: (12, 14), Overlap: 0.6414625644683838\n",
      "Layer: 0, Models: (13, 0), Overlap: 0.643562912940979\n",
      "Layer: 0, Models: (13, 1), Overlap: 0.6426785588264465\n",
      "Layer: 0, Models: (13, 2), Overlap: 0.6423129439353943\n",
      "Layer: 0, Models: (13, 3), Overlap: 0.6422619223594666\n",
      "Layer: 0, Models: (13, 4), Overlap: 0.641981303691864\n",
      "Layer: 0, Models: (13, 5), Overlap: 0.6416751742362976\n",
      "Layer: 0, Models: (13, 6), Overlap: 0.6435034275054932\n",
      "Layer: 0, Models: (13, 7), Overlap: 0.6398809552192688\n",
      "Layer: 0, Models: (13, 8), Overlap: 0.6437074542045593\n",
      "Layer: 0, Models: (13, 9), Overlap: 0.6413945555686951\n",
      "Layer: 0, Models: (13, 10), Overlap: 0.6411819458007812\n",
      "Layer: 0, Models: (13, 11), Overlap: 0.6433843374252319\n",
      "Layer: 0, Models: (13, 12), Overlap: 0.6418792605400085\n",
      "Layer: 0, Models: (13, 14), Overlap: 0.6431717872619629\n",
      "Layer: 0, Models: (14, 0), Overlap: 0.6414710879325867\n",
      "Layer: 0, Models: (14, 1), Overlap: 0.6424319744110107\n",
      "Layer: 0, Models: (14, 2), Overlap: 0.6419217586517334\n",
      "Layer: 0, Models: (14, 3), Overlap: 0.6402720808982849\n",
      "Layer: 0, Models: (14, 4), Overlap: 0.6414541006088257\n",
      "Layer: 0, Models: (14, 5), Overlap: 0.6436139345169067\n",
      "Layer: 0, Models: (14, 6), Overlap: 0.6401955485343933\n",
      "Layer: 0, Models: (14, 7), Overlap: 0.6410374045372009\n",
      "Layer: 0, Models: (14, 8), Overlap: 0.6434524059295654\n",
      "Layer: 0, Models: (14, 9), Overlap: 0.6437414884567261\n",
      "Layer: 0, Models: (14, 10), Overlap: 0.6424319744110107\n",
      "Layer: 0, Models: (14, 11), Overlap: 0.643146276473999\n",
      "Layer: 0, Models: (14, 12), Overlap: 0.6414625644683838\n",
      "Layer: 0, Models: (14, 13), Overlap: 0.6431717872619629\n",
      "Layer: 2, Models: (0, 1), Overlap: 0.6269999742507935\n",
      "Layer: 2, Models: (0, 2), Overlap: 0.6281111240386963\n",
      "Layer: 2, Models: (0, 3), Overlap: 0.6264222264289856\n",
      "Layer: 2, Models: (0, 4), Overlap: 0.6245555281639099\n",
      "Layer: 2, Models: (0, 5), Overlap: 0.6274222135543823\n",
      "Layer: 2, Models: (0, 6), Overlap: 0.6270444393157959\n",
      "Layer: 2, Models: (0, 7), Overlap: 0.6279333233833313\n",
      "Layer: 2, Models: (0, 8), Overlap: 0.6266444325447083\n",
      "Layer: 2, Models: (0, 9), Overlap: 0.6282222270965576\n",
      "Layer: 2, Models: (0, 10), Overlap: 0.6276222467422485\n",
      "Layer: 2, Models: (0, 11), Overlap: 0.6280444264411926\n",
      "Layer: 2, Models: (0, 12), Overlap: 0.6255999803543091\n",
      "Layer: 2, Models: (0, 13), Overlap: 0.6299999952316284\n",
      "Layer: 2, Models: (0, 14), Overlap: 0.6259777545928955\n",
      "Layer: 2, Models: (1, 0), Overlap: 0.6269999742507935\n",
      "Layer: 2, Models: (1, 2), Overlap: 0.6283777952194214\n",
      "Layer: 2, Models: (1, 3), Overlap: 0.626800000667572\n",
      "Layer: 2, Models: (1, 4), Overlap: 0.6275333166122437\n",
      "Layer: 2, Models: (1, 5), Overlap: 0.6323111057281494\n",
      "Layer: 2, Models: (1, 6), Overlap: 0.6284444332122803\n",
      "Layer: 2, Models: (1, 7), Overlap: 0.6271777749061584\n",
      "Layer: 2, Models: (1, 8), Overlap: 0.6274222135543823\n",
      "Layer: 2, Models: (1, 9), Overlap: 0.6290444731712341\n",
      "Layer: 2, Models: (1, 10), Overlap: 0.6286666393280029\n",
      "Layer: 2, Models: (1, 11), Overlap: 0.62782222032547\n",
      "Layer: 2, Models: (1, 12), Overlap: 0.6273777484893799\n",
      "Layer: 2, Models: (1, 13), Overlap: 0.6268666386604309\n",
      "Layer: 2, Models: (1, 14), Overlap: 0.6305999755859375\n",
      "Layer: 2, Models: (2, 0), Overlap: 0.6281111240386963\n",
      "Layer: 2, Models: (2, 1), Overlap: 0.6283777952194214\n",
      "Layer: 2, Models: (2, 3), Overlap: 0.6280666589736938\n",
      "Layer: 2, Models: (2, 4), Overlap: 0.6293777823448181\n",
      "Layer: 2, Models: (2, 5), Overlap: 0.6292444467544556\n",
      "Layer: 2, Models: (2, 6), Overlap: 0.6263555288314819\n",
      "Layer: 2, Models: (2, 7), Overlap: 0.6272222399711609\n",
      "Layer: 2, Models: (2, 8), Overlap: 0.626800000667572\n",
      "Layer: 2, Models: (2, 9), Overlap: 0.6272444725036621\n",
      "Layer: 2, Models: (2, 10), Overlap: 0.6245111227035522\n",
      "Layer: 2, Models: (2, 11), Overlap: 0.628422200679779\n",
      "Layer: 2, Models: (2, 12), Overlap: 0.6285111308097839\n",
      "Layer: 2, Models: (2, 13), Overlap: 0.6290444731712341\n",
      "Layer: 2, Models: (2, 14), Overlap: 0.6278444528579712\n",
      "Layer: 2, Models: (3, 0), Overlap: 0.6264222264289856\n",
      "Layer: 2, Models: (3, 1), Overlap: 0.626800000667572\n",
      "Layer: 2, Models: (3, 2), Overlap: 0.6280666589736938\n",
      "Layer: 2, Models: (3, 4), Overlap: 0.6296444535255432\n",
      "Layer: 2, Models: (3, 5), Overlap: 0.6295777559280396\n",
      "Layer: 2, Models: (3, 6), Overlap: 0.6273333430290222\n",
      "Layer: 2, Models: (3, 7), Overlap: 0.6280221939086914\n",
      "Layer: 2, Models: (3, 8), Overlap: 0.6280888915061951\n",
      "Layer: 2, Models: (3, 9), Overlap: 0.629800021648407\n",
      "Layer: 2, Models: (3, 10), Overlap: 0.6276666522026062\n",
      "Layer: 2, Models: (3, 11), Overlap: 0.6277777552604675\n",
      "Layer: 2, Models: (3, 12), Overlap: 0.6277333498001099\n",
      "Layer: 2, Models: (3, 13), Overlap: 0.6264888644218445\n",
      "Layer: 2, Models: (3, 14), Overlap: 0.628333330154419\n",
      "Layer: 2, Models: (4, 0), Overlap: 0.6245555281639099\n",
      "Layer: 2, Models: (4, 1), Overlap: 0.6275333166122437\n",
      "Layer: 2, Models: (4, 2), Overlap: 0.6293777823448181\n",
      "Layer: 2, Models: (4, 3), Overlap: 0.6296444535255432\n",
      "Layer: 2, Models: (4, 5), Overlap: 0.6286222338676453\n",
      "Layer: 2, Models: (4, 6), Overlap: 0.6271777749061584\n",
      "Layer: 2, Models: (4, 7), Overlap: 0.6277999877929688\n",
      "Layer: 2, Models: (4, 8), Overlap: 0.6260666847229004\n",
      "Layer: 2, Models: (4, 9), Overlap: 0.6272666454315186\n",
      "Layer: 2, Models: (4, 10), Overlap: 0.6291555762290955\n",
      "Layer: 2, Models: (4, 11), Overlap: 0.6265333294868469\n",
      "Layer: 2, Models: (4, 12), Overlap: 0.6290222406387329\n",
      "Layer: 2, Models: (4, 13), Overlap: 0.6290666460990906\n",
      "Layer: 2, Models: (4, 14), Overlap: 0.6269999742507935\n",
      "Layer: 2, Models: (5, 0), Overlap: 0.6274222135543823\n",
      "Layer: 2, Models: (5, 1), Overlap: 0.6323111057281494\n",
      "Layer: 2, Models: (5, 2), Overlap: 0.6292444467544556\n",
      "Layer: 2, Models: (5, 3), Overlap: 0.6295777559280396\n",
      "Layer: 2, Models: (5, 4), Overlap: 0.6286222338676453\n",
      "Layer: 2, Models: (5, 6), Overlap: 0.6263999938964844\n",
      "Layer: 2, Models: (5, 7), Overlap: 0.6269111037254333\n",
      "Layer: 2, Models: (5, 8), Overlap: 0.6290666460990906\n",
      "Layer: 2, Models: (5, 9), Overlap: 0.6278666853904724\n",
      "Layer: 2, Models: (5, 10), Overlap: 0.6255555748939514\n",
      "Layer: 2, Models: (5, 11), Overlap: 0.6259999871253967\n",
      "Layer: 2, Models: (5, 12), Overlap: 0.6278889179229736\n",
      "Layer: 2, Models: (5, 13), Overlap: 0.6291999816894531\n",
      "Layer: 2, Models: (5, 14), Overlap: 0.628333330154419\n",
      "Layer: 2, Models: (6, 0), Overlap: 0.6270444393157959\n",
      "Layer: 2, Models: (6, 1), Overlap: 0.6284444332122803\n",
      "Layer: 2, Models: (6, 2), Overlap: 0.6263555288314819\n",
      "Layer: 2, Models: (6, 3), Overlap: 0.6273333430290222\n",
      "Layer: 2, Models: (6, 4), Overlap: 0.6271777749061584\n",
      "Layer: 2, Models: (6, 5), Overlap: 0.6263999938964844\n",
      "Layer: 2, Models: (6, 7), Overlap: 0.6263111233711243\n",
      "Layer: 2, Models: (6, 8), Overlap: 0.6270889043807983\n",
      "Layer: 2, Models: (6, 9), Overlap: 0.6266666650772095\n",
      "Layer: 2, Models: (6, 10), Overlap: 0.6276666522026062\n",
      "Layer: 2, Models: (6, 11), Overlap: 0.6296666860580444\n",
      "Layer: 2, Models: (6, 12), Overlap: 0.6289555430412292\n",
      "Layer: 2, Models: (6, 13), Overlap: 0.6287999749183655\n",
      "Layer: 2, Models: (6, 14), Overlap: 0.6290222406387329\n",
      "Layer: 2, Models: (7, 0), Overlap: 0.6279333233833313\n",
      "Layer: 2, Models: (7, 1), Overlap: 0.6271777749061584\n",
      "Layer: 2, Models: (7, 2), Overlap: 0.6272222399711609\n",
      "Layer: 2, Models: (7, 3), Overlap: 0.6280221939086914\n",
      "Layer: 2, Models: (7, 4), Overlap: 0.6277999877929688\n",
      "Layer: 2, Models: (7, 5), Overlap: 0.6269111037254333\n",
      "Layer: 2, Models: (7, 6), Overlap: 0.6263111233711243\n",
      "Layer: 2, Models: (7, 8), Overlap: 0.6254444718360901\n",
      "Layer: 2, Models: (7, 9), Overlap: 0.6269999742507935\n",
      "Layer: 2, Models: (7, 10), Overlap: 0.6286888718605042\n",
      "Layer: 2, Models: (7, 11), Overlap: 0.6299777626991272\n",
      "Layer: 2, Models: (7, 12), Overlap: 0.6240000128746033\n",
      "Layer: 2, Models: (7, 13), Overlap: 0.6298444271087646\n",
      "Layer: 2, Models: (7, 14), Overlap: 0.626977801322937\n",
      "Layer: 2, Models: (8, 0), Overlap: 0.6266444325447083\n",
      "Layer: 2, Models: (8, 1), Overlap: 0.6274222135543823\n",
      "Layer: 2, Models: (8, 2), Overlap: 0.626800000667572\n",
      "Layer: 2, Models: (8, 3), Overlap: 0.6280888915061951\n",
      "Layer: 2, Models: (8, 4), Overlap: 0.6260666847229004\n",
      "Layer: 2, Models: (8, 5), Overlap: 0.6290666460990906\n",
      "Layer: 2, Models: (8, 6), Overlap: 0.6270889043807983\n",
      "Layer: 2, Models: (8, 7), Overlap: 0.6254444718360901\n",
      "Layer: 2, Models: (8, 9), Overlap: 0.6281999945640564\n",
      "Layer: 2, Models: (8, 10), Overlap: 0.6285333037376404\n",
      "Layer: 2, Models: (8, 11), Overlap: 0.6259777545928955\n",
      "Layer: 2, Models: (8, 12), Overlap: 0.6277111172676086\n",
      "Layer: 2, Models: (8, 13), Overlap: 0.6267111301422119\n",
      "Layer: 2, Models: (8, 14), Overlap: 0.6270666718482971\n",
      "Layer: 2, Models: (9, 0), Overlap: 0.6282222270965576\n",
      "Layer: 2, Models: (9, 1), Overlap: 0.6290444731712341\n",
      "Layer: 2, Models: (9, 2), Overlap: 0.6272444725036621\n",
      "Layer: 2, Models: (9, 3), Overlap: 0.629800021648407\n",
      "Layer: 2, Models: (9, 4), Overlap: 0.6272666454315186\n",
      "Layer: 2, Models: (9, 5), Overlap: 0.6278666853904724\n",
      "Layer: 2, Models: (9, 6), Overlap: 0.6266666650772095\n",
      "Layer: 2, Models: (9, 7), Overlap: 0.6269999742507935\n",
      "Layer: 2, Models: (9, 8), Overlap: 0.6281999945640564\n",
      "Layer: 2, Models: (9, 10), Overlap: 0.6274444460868835\n",
      "Layer: 2, Models: (9, 11), Overlap: 0.6285777688026428\n",
      "Layer: 2, Models: (9, 12), Overlap: 0.6259777545928955\n",
      "Layer: 2, Models: (9, 13), Overlap: 0.6295333504676819\n",
      "Layer: 2, Models: (9, 14), Overlap: 0.6269999742507935\n",
      "Layer: 2, Models: (10, 0), Overlap: 0.6276222467422485\n",
      "Layer: 2, Models: (10, 1), Overlap: 0.6286666393280029\n",
      "Layer: 2, Models: (10, 2), Overlap: 0.6245111227035522\n",
      "Layer: 2, Models: (10, 3), Overlap: 0.6276666522026062\n",
      "Layer: 2, Models: (10, 4), Overlap: 0.6291555762290955\n",
      "Layer: 2, Models: (10, 5), Overlap: 0.6255555748939514\n",
      "Layer: 2, Models: (10, 6), Overlap: 0.6276666522026062\n",
      "Layer: 2, Models: (10, 7), Overlap: 0.6286888718605042\n",
      "Layer: 2, Models: (10, 8), Overlap: 0.6285333037376404\n",
      "Layer: 2, Models: (10, 9), Overlap: 0.6274444460868835\n",
      "Layer: 2, Models: (10, 11), Overlap: 0.6290000081062317\n",
      "Layer: 2, Models: (10, 12), Overlap: 0.6280666589736938\n",
      "Layer: 2, Models: (10, 13), Overlap: 0.6299111247062683\n",
      "Layer: 2, Models: (10, 14), Overlap: 0.6284888982772827\n",
      "Layer: 2, Models: (11, 0), Overlap: 0.6280444264411926\n",
      "Layer: 2, Models: (11, 1), Overlap: 0.62782222032547\n",
      "Layer: 2, Models: (11, 2), Overlap: 0.628422200679779\n",
      "Layer: 2, Models: (11, 3), Overlap: 0.6277777552604675\n",
      "Layer: 2, Models: (11, 4), Overlap: 0.6265333294868469\n",
      "Layer: 2, Models: (11, 5), Overlap: 0.6259999871253967\n",
      "Layer: 2, Models: (11, 6), Overlap: 0.6296666860580444\n",
      "Layer: 2, Models: (11, 7), Overlap: 0.6299777626991272\n",
      "Layer: 2, Models: (11, 8), Overlap: 0.6259777545928955\n",
      "Layer: 2, Models: (11, 9), Overlap: 0.6285777688026428\n",
      "Layer: 2, Models: (11, 10), Overlap: 0.6290000081062317\n",
      "Layer: 2, Models: (11, 12), Overlap: 0.6268888711929321\n",
      "Layer: 2, Models: (11, 13), Overlap: 0.6262666583061218\n",
      "Layer: 2, Models: (11, 14), Overlap: 0.6255333423614502\n",
      "Layer: 2, Models: (12, 0), Overlap: 0.6255999803543091\n",
      "Layer: 2, Models: (12, 1), Overlap: 0.6273777484893799\n",
      "Layer: 2, Models: (12, 2), Overlap: 0.6285111308097839\n",
      "Layer: 2, Models: (12, 3), Overlap: 0.6277333498001099\n",
      "Layer: 2, Models: (12, 4), Overlap: 0.6290222406387329\n",
      "Layer: 2, Models: (12, 5), Overlap: 0.6278889179229736\n",
      "Layer: 2, Models: (12, 6), Overlap: 0.6289555430412292\n",
      "Layer: 2, Models: (12, 7), Overlap: 0.6240000128746033\n",
      "Layer: 2, Models: (12, 8), Overlap: 0.6277111172676086\n",
      "Layer: 2, Models: (12, 9), Overlap: 0.6259777545928955\n",
      "Layer: 2, Models: (12, 10), Overlap: 0.6280666589736938\n",
      "Layer: 2, Models: (12, 11), Overlap: 0.6268888711929321\n",
      "Layer: 2, Models: (12, 13), Overlap: 0.628777801990509\n",
      "Layer: 2, Models: (12, 14), Overlap: 0.6263999938964844\n",
      "Layer: 2, Models: (13, 0), Overlap: 0.6299999952316284\n",
      "Layer: 2, Models: (13, 1), Overlap: 0.6268666386604309\n",
      "Layer: 2, Models: (13, 2), Overlap: 0.6290444731712341\n",
      "Layer: 2, Models: (13, 3), Overlap: 0.6264888644218445\n",
      "Layer: 2, Models: (13, 4), Overlap: 0.6290666460990906\n",
      "Layer: 2, Models: (13, 5), Overlap: 0.6291999816894531\n",
      "Layer: 2, Models: (13, 6), Overlap: 0.6287999749183655\n",
      "Layer: 2, Models: (13, 7), Overlap: 0.6298444271087646\n",
      "Layer: 2, Models: (13, 8), Overlap: 0.6267111301422119\n",
      "Layer: 2, Models: (13, 9), Overlap: 0.6295333504676819\n",
      "Layer: 2, Models: (13, 10), Overlap: 0.6299111247062683\n",
      "Layer: 2, Models: (13, 11), Overlap: 0.6262666583061218\n",
      "Layer: 2, Models: (13, 12), Overlap: 0.628777801990509\n",
      "Layer: 2, Models: (13, 14), Overlap: 0.6273777484893799\n",
      "Layer: 2, Models: (14, 0), Overlap: 0.6259777545928955\n",
      "Layer: 2, Models: (14, 1), Overlap: 0.6305999755859375\n",
      "Layer: 2, Models: (14, 2), Overlap: 0.6278444528579712\n",
      "Layer: 2, Models: (14, 3), Overlap: 0.628333330154419\n",
      "Layer: 2, Models: (14, 4), Overlap: 0.6269999742507935\n",
      "Layer: 2, Models: (14, 5), Overlap: 0.628333330154419\n",
      "Layer: 2, Models: (14, 6), Overlap: 0.6290222406387329\n",
      "Layer: 2, Models: (14, 7), Overlap: 0.626977801322937\n",
      "Layer: 2, Models: (14, 8), Overlap: 0.6270666718482971\n",
      "Layer: 2, Models: (14, 9), Overlap: 0.6269999742507935\n",
      "Layer: 2, Models: (14, 10), Overlap: 0.6284888982772827\n",
      "Layer: 2, Models: (14, 11), Overlap: 0.6255333423614502\n",
      "Layer: 2, Models: (14, 12), Overlap: 0.6263999938964844\n",
      "Layer: 2, Models: (14, 13), Overlap: 0.6273777484893799\n",
      "Layer: 4, Models: (0, 1), Overlap: 0.6401333212852478\n",
      "Layer: 4, Models: (0, 2), Overlap: 0.6405333280563354\n",
      "Layer: 4, Models: (0, 3), Overlap: 0.6480000019073486\n",
      "Layer: 4, Models: (0, 4), Overlap: 0.6396666765213013\n",
      "Layer: 4, Models: (0, 5), Overlap: 0.6438000202178955\n",
      "Layer: 4, Models: (0, 6), Overlap: 0.6391333341598511\n",
      "Layer: 4, Models: (0, 7), Overlap: 0.6425333619117737\n",
      "Layer: 4, Models: (0, 8), Overlap: 0.6447333097457886\n",
      "Layer: 4, Models: (0, 9), Overlap: 0.6410666704177856\n",
      "Layer: 4, Models: (0, 10), Overlap: 0.6406000256538391\n",
      "Layer: 4, Models: (0, 11), Overlap: 0.6398000121116638\n",
      "Layer: 4, Models: (0, 12), Overlap: 0.6401333212852478\n",
      "Layer: 4, Models: (0, 13), Overlap: 0.6403999924659729\n",
      "Layer: 4, Models: (0, 14), Overlap: 0.6439333558082581\n",
      "Layer: 4, Models: (1, 0), Overlap: 0.6401333212852478\n",
      "Layer: 4, Models: (1, 2), Overlap: 0.6420666575431824\n",
      "Layer: 4, Models: (1, 3), Overlap: 0.6435333490371704\n",
      "Layer: 4, Models: (1, 4), Overlap: 0.6430666446685791\n",
      "Layer: 4, Models: (1, 5), Overlap: 0.6439999938011169\n",
      "Layer: 4, Models: (1, 6), Overlap: 0.6443333625793457\n",
      "Layer: 4, Models: (1, 7), Overlap: 0.6417333483695984\n",
      "Layer: 4, Models: (1, 8), Overlap: 0.6408666372299194\n",
      "Layer: 4, Models: (1, 9), Overlap: 0.6453333497047424\n",
      "Layer: 4, Models: (1, 10), Overlap: 0.6446666717529297\n",
      "Layer: 4, Models: (1, 11), Overlap: 0.6445333361625671\n",
      "Layer: 4, Models: (1, 12), Overlap: 0.6413999795913696\n",
      "Layer: 4, Models: (1, 13), Overlap: 0.6403999924659729\n",
      "Layer: 4, Models: (1, 14), Overlap: 0.643666684627533\n",
      "Layer: 4, Models: (2, 0), Overlap: 0.6405333280563354\n",
      "Layer: 4, Models: (2, 1), Overlap: 0.6420666575431824\n",
      "Layer: 4, Models: (2, 3), Overlap: 0.6444000005722046\n",
      "Layer: 4, Models: (2, 4), Overlap: 0.642133355140686\n",
      "Layer: 4, Models: (2, 5), Overlap: 0.6399999856948853\n",
      "Layer: 4, Models: (2, 6), Overlap: 0.6428666710853577\n",
      "Layer: 4, Models: (2, 7), Overlap: 0.6387333273887634\n",
      "Layer: 4, Models: (2, 8), Overlap: 0.6366666555404663\n",
      "Layer: 4, Models: (2, 9), Overlap: 0.6492666602134705\n",
      "Layer: 4, Models: (2, 10), Overlap: 0.6445333361625671\n",
      "Layer: 4, Models: (2, 11), Overlap: 0.6439999938011169\n",
      "Layer: 4, Models: (2, 12), Overlap: 0.642133355140686\n",
      "Layer: 4, Models: (2, 13), Overlap: 0.6429333090782166\n",
      "Layer: 4, Models: (2, 14), Overlap: 0.6417999863624573\n",
      "Layer: 4, Models: (3, 0), Overlap: 0.6480000019073486\n",
      "Layer: 4, Models: (3, 1), Overlap: 0.6435333490371704\n",
      "Layer: 4, Models: (3, 2), Overlap: 0.6444000005722046\n",
      "Layer: 4, Models: (3, 4), Overlap: 0.6422666907310486\n",
      "Layer: 4, Models: (3, 5), Overlap: 0.6434000134468079\n",
      "Layer: 4, Models: (3, 6), Overlap: 0.6431999802589417\n",
      "Layer: 4, Models: (3, 7), Overlap: 0.6437333226203918\n",
      "Layer: 4, Models: (3, 8), Overlap: 0.6431999802589417\n",
      "Layer: 4, Models: (3, 9), Overlap: 0.6452666521072388\n",
      "Layer: 4, Models: (3, 10), Overlap: 0.6416666507720947\n",
      "Layer: 4, Models: (3, 11), Overlap: 0.6437333226203918\n",
      "Layer: 4, Models: (3, 12), Overlap: 0.6425333619117737\n",
      "Layer: 4, Models: (3, 13), Overlap: 0.6421999931335449\n",
      "Layer: 4, Models: (3, 14), Overlap: 0.6442000269889832\n",
      "Layer: 4, Models: (4, 0), Overlap: 0.6396666765213013\n",
      "Layer: 4, Models: (4, 1), Overlap: 0.6430666446685791\n",
      "Layer: 4, Models: (4, 2), Overlap: 0.642133355140686\n",
      "Layer: 4, Models: (4, 3), Overlap: 0.6422666907310486\n",
      "Layer: 4, Models: (4, 5), Overlap: 0.6435999870300293\n",
      "Layer: 4, Models: (4, 6), Overlap: 0.6463333368301392\n",
      "Layer: 4, Models: (4, 7), Overlap: 0.6424000263214111\n"
     ]
    },
    {
     "name": "stdout",
     "output_type": "stream",
     "text": [
      "Layer: 4, Models: (4, 8), Overlap: 0.642799973487854\n",
      "Layer: 4, Models: (4, 9), Overlap: 0.646399974822998\n",
      "Layer: 4, Models: (4, 10), Overlap: 0.6416000127792358\n",
      "Layer: 4, Models: (4, 11), Overlap: 0.6425999999046326\n",
      "Layer: 4, Models: (4, 12), Overlap: 0.6443333625793457\n",
      "Layer: 4, Models: (4, 13), Overlap: 0.6402666568756104\n",
      "Layer: 4, Models: (4, 14), Overlap: 0.6410666704177856\n",
      "Layer: 4, Models: (5, 0), Overlap: 0.6438000202178955\n",
      "Layer: 4, Models: (5, 1), Overlap: 0.6439999938011169\n",
      "Layer: 4, Models: (5, 2), Overlap: 0.6399999856948853\n",
      "Layer: 4, Models: (5, 3), Overlap: 0.6434000134468079\n",
      "Layer: 4, Models: (5, 4), Overlap: 0.6435999870300293\n",
      "Layer: 4, Models: (5, 6), Overlap: 0.6475333571434021\n",
      "Layer: 4, Models: (5, 7), Overlap: 0.6420000195503235\n",
      "Layer: 4, Models: (5, 8), Overlap: 0.6407999992370605\n",
      "Layer: 4, Models: (5, 9), Overlap: 0.6434000134468079\n",
      "Layer: 4, Models: (5, 10), Overlap: 0.6443333625793457\n",
      "Layer: 4, Models: (5, 11), Overlap: 0.6435999870300293\n",
      "Layer: 4, Models: (5, 12), Overlap: 0.6387333273887634\n",
      "Layer: 4, Models: (5, 13), Overlap: 0.6412666440010071\n",
      "Layer: 4, Models: (5, 14), Overlap: 0.6416000127792358\n",
      "Layer: 4, Models: (6, 0), Overlap: 0.6391333341598511\n",
      "Layer: 4, Models: (6, 1), Overlap: 0.6443333625793457\n",
      "Layer: 4, Models: (6, 2), Overlap: 0.6428666710853577\n",
      "Layer: 4, Models: (6, 3), Overlap: 0.6431999802589417\n",
      "Layer: 4, Models: (6, 4), Overlap: 0.6463333368301392\n",
      "Layer: 4, Models: (6, 5), Overlap: 0.6475333571434021\n",
      "Layer: 4, Models: (6, 7), Overlap: 0.63919997215271\n",
      "Layer: 4, Models: (6, 8), Overlap: 0.640333354473114\n",
      "Layer: 4, Models: (6, 9), Overlap: 0.6466666460037231\n",
      "Layer: 4, Models: (6, 10), Overlap: 0.6376000046730042\n",
      "Layer: 4, Models: (6, 11), Overlap: 0.6408666372299194\n",
      "Layer: 4, Models: (6, 12), Overlap: 0.6395999789237976\n",
      "Layer: 4, Models: (6, 13), Overlap: 0.6439999938011169\n",
      "Layer: 4, Models: (6, 14), Overlap: 0.6448000073432922\n",
      "Layer: 4, Models: (7, 0), Overlap: 0.6425333619117737\n",
      "Layer: 4, Models: (7, 1), Overlap: 0.6417333483695984\n",
      "Layer: 4, Models: (7, 2), Overlap: 0.6387333273887634\n",
      "Layer: 4, Models: (7, 3), Overlap: 0.6437333226203918\n",
      "Layer: 4, Models: (7, 4), Overlap: 0.6424000263214111\n",
      "Layer: 4, Models: (7, 5), Overlap: 0.6420000195503235\n",
      "Layer: 4, Models: (7, 6), Overlap: 0.63919997215271\n",
      "Layer: 4, Models: (7, 8), Overlap: 0.6423333287239075\n",
      "Layer: 4, Models: (7, 9), Overlap: 0.6419333219528198\n",
      "Layer: 4, Models: (7, 10), Overlap: 0.6429333090782166\n",
      "Layer: 4, Models: (7, 11), Overlap: 0.6442000269889832\n",
      "Layer: 4, Models: (7, 12), Overlap: 0.6444666385650635\n",
      "Layer: 4, Models: (7, 13), Overlap: 0.6407333612442017\n",
      "Layer: 4, Models: (7, 14), Overlap: 0.644599974155426\n",
      "Layer: 4, Models: (8, 0), Overlap: 0.6447333097457886\n",
      "Layer: 4, Models: (8, 1), Overlap: 0.6408666372299194\n",
      "Layer: 4, Models: (8, 2), Overlap: 0.6366666555404663\n",
      "Layer: 4, Models: (8, 3), Overlap: 0.6431999802589417\n",
      "Layer: 4, Models: (8, 4), Overlap: 0.642799973487854\n",
      "Layer: 4, Models: (8, 5), Overlap: 0.6407999992370605\n",
      "Layer: 4, Models: (8, 6), Overlap: 0.640333354473114\n",
      "Layer: 4, Models: (8, 7), Overlap: 0.6423333287239075\n",
      "Layer: 4, Models: (8, 9), Overlap: 0.6421999931335449\n",
      "Layer: 4, Models: (8, 10), Overlap: 0.6412000060081482\n",
      "Layer: 4, Models: (8, 11), Overlap: 0.6437333226203918\n",
      "Layer: 4, Models: (8, 12), Overlap: 0.637333333492279\n",
      "Layer: 4, Models: (8, 13), Overlap: 0.6425999999046326\n",
      "Layer: 4, Models: (8, 14), Overlap: 0.6365333199501038\n",
      "Layer: 4, Models: (9, 0), Overlap: 0.6410666704177856\n",
      "Layer: 4, Models: (9, 1), Overlap: 0.6453333497047424\n",
      "Layer: 4, Models: (9, 2), Overlap: 0.6492666602134705\n",
      "Layer: 4, Models: (9, 3), Overlap: 0.6452666521072388\n",
      "Layer: 4, Models: (9, 4), Overlap: 0.646399974822998\n",
      "Layer: 4, Models: (9, 5), Overlap: 0.6434000134468079\n",
      "Layer: 4, Models: (9, 6), Overlap: 0.6466666460037231\n",
      "Layer: 4, Models: (9, 7), Overlap: 0.6419333219528198\n",
      "Layer: 4, Models: (9, 8), Overlap: 0.6421999931335449\n",
      "Layer: 4, Models: (9, 10), Overlap: 0.6438000202178955\n",
      "Layer: 4, Models: (9, 11), Overlap: 0.6444000005722046\n",
      "Layer: 4, Models: (9, 12), Overlap: 0.6485333442687988\n",
      "Layer: 4, Models: (9, 13), Overlap: 0.6450666785240173\n",
      "Layer: 4, Models: (9, 14), Overlap: 0.6425999999046326\n",
      "Layer: 4, Models: (10, 0), Overlap: 0.6406000256538391\n",
      "Layer: 4, Models: (10, 1), Overlap: 0.6446666717529297\n",
      "Layer: 4, Models: (10, 2), Overlap: 0.6445333361625671\n",
      "Layer: 4, Models: (10, 3), Overlap: 0.6416666507720947\n",
      "Layer: 4, Models: (10, 4), Overlap: 0.6416000127792358\n",
      "Layer: 4, Models: (10, 5), Overlap: 0.6443333625793457\n",
      "Layer: 4, Models: (10, 6), Overlap: 0.6376000046730042\n",
      "Layer: 4, Models: (10, 7), Overlap: 0.6429333090782166\n",
      "Layer: 4, Models: (10, 8), Overlap: 0.6412000060081482\n",
      "Layer: 4, Models: (10, 9), Overlap: 0.6438000202178955\n",
      "Layer: 4, Models: (10, 11), Overlap: 0.6444000005722046\n",
      "Layer: 4, Models: (10, 12), Overlap: 0.6398666501045227\n",
      "Layer: 4, Models: (10, 13), Overlap: 0.6399333477020264\n",
      "Layer: 4, Models: (10, 14), Overlap: 0.647266685962677\n",
      "Layer: 4, Models: (11, 0), Overlap: 0.6398000121116638\n",
      "Layer: 4, Models: (11, 1), Overlap: 0.6445333361625671\n",
      "Layer: 4, Models: (11, 2), Overlap: 0.6439999938011169\n",
      "Layer: 4, Models: (11, 3), Overlap: 0.6437333226203918\n",
      "Layer: 4, Models: (11, 4), Overlap: 0.6425999999046326\n",
      "Layer: 4, Models: (11, 5), Overlap: 0.6435999870300293\n",
      "Layer: 4, Models: (11, 6), Overlap: 0.6408666372299194\n",
      "Layer: 4, Models: (11, 7), Overlap: 0.6442000269889832\n",
      "Layer: 4, Models: (11, 8), Overlap: 0.6437333226203918\n",
      "Layer: 4, Models: (11, 9), Overlap: 0.6444000005722046\n",
      "Layer: 4, Models: (11, 10), Overlap: 0.6444000005722046\n",
      "Layer: 4, Models: (11, 12), Overlap: 0.6441333293914795\n",
      "Layer: 4, Models: (11, 13), Overlap: 0.6420000195503235\n",
      "Layer: 4, Models: (11, 14), Overlap: 0.6434666514396667\n",
      "Layer: 4, Models: (12, 0), Overlap: 0.6401333212852478\n",
      "Layer: 4, Models: (12, 1), Overlap: 0.6413999795913696\n",
      "Layer: 4, Models: (12, 2), Overlap: 0.642133355140686\n",
      "Layer: 4, Models: (12, 3), Overlap: 0.6425333619117737\n",
      "Layer: 4, Models: (12, 4), Overlap: 0.6443333625793457\n",
      "Layer: 4, Models: (12, 5), Overlap: 0.6387333273887634\n",
      "Layer: 4, Models: (12, 6), Overlap: 0.6395999789237976\n",
      "Layer: 4, Models: (12, 7), Overlap: 0.6444666385650635\n",
      "Layer: 4, Models: (12, 8), Overlap: 0.637333333492279\n",
      "Layer: 4, Models: (12, 9), Overlap: 0.6485333442687988\n",
      "Layer: 4, Models: (12, 10), Overlap: 0.6398666501045227\n",
      "Layer: 4, Models: (12, 11), Overlap: 0.6441333293914795\n",
      "Layer: 4, Models: (12, 13), Overlap: 0.6437333226203918\n",
      "Layer: 4, Models: (12, 14), Overlap: 0.6427333354949951\n",
      "Layer: 4, Models: (13, 0), Overlap: 0.6403999924659729\n",
      "Layer: 4, Models: (13, 1), Overlap: 0.6403999924659729\n",
      "Layer: 4, Models: (13, 2), Overlap: 0.6429333090782166\n",
      "Layer: 4, Models: (13, 3), Overlap: 0.6421999931335449\n",
      "Layer: 4, Models: (13, 4), Overlap: 0.6402666568756104\n",
      "Layer: 4, Models: (13, 5), Overlap: 0.6412666440010071\n",
      "Layer: 4, Models: (13, 6), Overlap: 0.6439999938011169\n",
      "Layer: 4, Models: (13, 7), Overlap: 0.6407333612442017\n",
      "Layer: 4, Models: (13, 8), Overlap: 0.6425999999046326\n",
      "Layer: 4, Models: (13, 9), Overlap: 0.6450666785240173\n",
      "Layer: 4, Models: (13, 10), Overlap: 0.6399333477020264\n",
      "Layer: 4, Models: (13, 11), Overlap: 0.6420000195503235\n",
      "Layer: 4, Models: (13, 12), Overlap: 0.6437333226203918\n",
      "Layer: 4, Models: (13, 14), Overlap: 0.642799973487854\n",
      "Layer: 4, Models: (14, 0), Overlap: 0.6439333558082581\n",
      "Layer: 4, Models: (14, 1), Overlap: 0.643666684627533\n",
      "Layer: 4, Models: (14, 2), Overlap: 0.6417999863624573\n",
      "Layer: 4, Models: (14, 3), Overlap: 0.6442000269889832\n",
      "Layer: 4, Models: (14, 4), Overlap: 0.6410666704177856\n",
      "Layer: 4, Models: (14, 5), Overlap: 0.6416000127792358\n",
      "Layer: 4, Models: (14, 6), Overlap: 0.6448000073432922\n",
      "Layer: 4, Models: (14, 7), Overlap: 0.644599974155426\n",
      "Layer: 4, Models: (14, 8), Overlap: 0.6365333199501038\n",
      "Layer: 4, Models: (14, 9), Overlap: 0.6425999999046326\n",
      "Layer: 4, Models: (14, 10), Overlap: 0.647266685962677\n",
      "Layer: 4, Models: (14, 11), Overlap: 0.6434666514396667\n",
      "Layer: 4, Models: (14, 12), Overlap: 0.6427333354949951\n",
      "Layer: 4, Models: (14, 13), Overlap: 0.642799973487854\n"
     ]
    }
   ],
   "source": [
    "task = 0\n",
    "for layer, modelidx in product([0,2,4], product([i for i in range(15)], [i for i in range(15)])):\n",
    "    modeli, modelj = modelidx\n",
    "    if modeli == modelj:\n",
    "        continue\n",
    "    print('Layer: {}, Models: ({}, {}), Overlap: {}'.format(layer, modeli, modelj,\n",
    "        overlap(model_maps[modeli].state_dict()['model.{}.stacked'.format(layer)][task],\n",
    "                model_maps[modelj].state_dict()['model.{}.stacked'.format(layer)][task])))"
   ]
  },
  {
   "cell_type": "markdown",
   "metadata": {},
   "source": [
    "## New Task performance using task 0 masks only!"
   ]
  },
  {
   "cell_type": "markdown",
   "metadata": {},
   "source": [
    "### Model Initialization (Only New Tasks)"
   ]
  },
  {
   "cell_type": "code",
   "execution_count": 271,
   "metadata": {},
   "outputs": [],
   "source": [
    "num_tasks = 20 # For demonstration purposes, we go up to 2500 in our paper\n",
    "num_seed_tasks_learned = 15\n",
    "basis_model_zero = BasisMultitaskFC(hidden_size=300, num_tasks=num_tasks, num_seed_tasks_learned=num_seed_tasks_learned, start_at_optimal=True)"
   ]
  },
  {
   "cell_type": "code",
   "execution_count": 272,
   "metadata": {},
   "outputs": [],
   "source": [
    "seed_dict = basis_model_zero.state_dict()"
   ]
  },
  {
   "cell_type": "code",
   "execution_count": 273,
   "metadata": {},
   "outputs": [],
   "source": [
    "update_dict = seed_dict.copy()"
   ]
  },
  {
   "cell_type": "code",
   "execution_count": 274,
   "metadata": {},
   "outputs": [],
   "source": [
    "assert all([(model_map[0].state_dict()['model.0.weight'] == model_map[i].state_dict()['model.0.weight']).all() for i in range(1,15)])\n",
    "update_dict['model.0.weight'] = model_map[0].state_dict()['model.0.weight']\n",
    "for task in range(15):\n",
    "    for layer in [0,2,4]:\n",
    "        update_dict['model.{}.scores.{}'.format(layer, task)] = model_map[task].state_dict()['model.{}.scores.0'.format(layer)]"
   ]
  },
  {
   "cell_type": "code",
   "execution_count": 275,
   "metadata": {},
   "outputs": [
    {
     "name": "stdout",
     "output_type": "stream",
     "text": [
      "=> Caching mask state for model.0\n",
      "=> Caching mask state for model.2\n",
      "=> Caching mask state for model.4\n"
     ]
    }
   ],
   "source": [
    "seed_dict.update(update_dict)\n",
    "basis_model_zero.load_state_dict(seed_dict, False)\n",
    "cache_masks(basis_model_zero)"
   ]
  },
  {
   "cell_type": "code",
   "execution_count": 276,
   "metadata": {},
   "outputs": [
    {
     "data": {
      "text/plain": [
       "(15, 20)"
      ]
     },
     "execution_count": 276,
     "metadata": {},
     "output_type": "execute_result"
    }
   ],
   "source": [
    "num_seed_tasks_learned, num_tasks"
   ]
  },
  {
   "cell_type": "code",
   "execution_count": 277,
   "metadata": {
    "scrolled": true
   },
   "outputs": [
    {
     "name": "stdout",
     "output_type": "stream",
     "text": [
      "Training for task 15\n",
      "=> Set task of model.0 to 15\n",
      "=> Set task of model.2 to 15\n",
      "=> Set task of model.4 to 15\n"
     ]
    },
    {
     "data": {
      "application/vnd.jupyter.widget-view+json": {
       "model_id": "",
       "version_major": 2,
       "version_minor": 0
      },
      "text/plain": [
       "  0%|          | 0/469 [00:00<?, ?it/s]"
      ]
     },
     "metadata": {},
     "output_type": "display_data"
    },
    {
     "name": "stdout",
     "output_type": "stream",
     "text": [
      "Validation => Loss 2.8492, Acc@1 0.1826\n",
      "============\n"
     ]
    },
    {
     "data": {
      "application/vnd.jupyter.widget-view+json": {
       "model_id": "",
       "version_major": 2,
       "version_minor": 0
      },
      "text/plain": [
       "  0%|          | 0/79 [00:00<?, ?it/s]"
      ]
     },
     "metadata": {},
     "output_type": "display_data"
    },
    {
     "name": "stdout",
     "output_type": "stream",
     "text": [
      "Val Perf after 1 epochs Acc@1 0.2111\n"
     ]
    },
    {
     "data": {
      "application/vnd.jupyter.widget-view+json": {
       "model_id": "",
       "version_major": 2,
       "version_minor": 0
      },
      "text/plain": [
       "  0%|          | 0/469 [00:00<?, ?it/s]"
      ]
     },
     "metadata": {},
     "output_type": "display_data"
    },
    {
     "name": "stdout",
     "output_type": "stream",
     "text": [
      "Validation => Loss 2.9094, Acc@1 0.1963\n",
      "============\n"
     ]
    },
    {
     "data": {
      "application/vnd.jupyter.widget-view+json": {
       "model_id": "",
       "version_major": 2,
       "version_minor": 0
      },
      "text/plain": [
       "  0%|          | 0/79 [00:00<?, ?it/s]"
      ]
     },
     "metadata": {},
     "output_type": "display_data"
    },
    {
     "name": "stdout",
     "output_type": "stream",
     "text": [
      "Val Perf after 2 epochs Acc@1 0.2073\n",
      "=> Caching mask state for model.0\n",
      "=> Caching mask state for model.2\n",
      "=> Caching mask state for model.4\n",
      "\n",
      "=> Setting learned tasks of model.0 to 16\n",
      "=> Setting learned tasks of model.2 to 16\n",
      "=> Setting learned tasks of model.4 to 16\n",
      "\n",
      "Training for task 16\n",
      "=> Set task of model.0 to 16\n",
      "=> Set task of model.2 to 16\n",
      "=> Set task of model.4 to 16\n"
     ]
    },
    {
     "data": {
      "application/vnd.jupyter.widget-view+json": {
       "model_id": "",
       "version_major": 2,
       "version_minor": 0
      },
      "text/plain": [
       "  0%|          | 0/469 [00:00<?, ?it/s]"
      ]
     },
     "metadata": {},
     "output_type": "display_data"
    },
    {
     "name": "stdout",
     "output_type": "stream",
     "text": [
      "Validation => Loss 2.8647, Acc@1 0.2272\n",
      "============\n"
     ]
    },
    {
     "data": {
      "application/vnd.jupyter.widget-view+json": {
       "model_id": "",
       "version_major": 2,
       "version_minor": 0
      },
      "text/plain": [
       "  0%|          | 0/79 [00:00<?, ?it/s]"
      ]
     },
     "metadata": {},
     "output_type": "display_data"
    },
    {
     "name": "stdout",
     "output_type": "stream",
     "text": [
      "Val Perf after 1 epochs Acc@1 0.2612\n"
     ]
    },
    {
     "data": {
      "application/vnd.jupyter.widget-view+json": {
       "model_id": "",
       "version_major": 2,
       "version_minor": 0
      },
      "text/plain": [
       "  0%|          | 0/469 [00:00<?, ?it/s]"
      ]
     },
     "metadata": {},
     "output_type": "display_data"
    },
    {
     "name": "stdout",
     "output_type": "stream",
     "text": [
      "Validation => Loss 2.8692, Acc@1 0.2588\n",
      "============\n"
     ]
    },
    {
     "data": {
      "application/vnd.jupyter.widget-view+json": {
       "model_id": "",
       "version_major": 2,
       "version_minor": 0
      },
      "text/plain": [
       "  0%|          | 0/79 [00:00<?, ?it/s]"
      ]
     },
     "metadata": {},
     "output_type": "display_data"
    },
    {
     "name": "stdout",
     "output_type": "stream",
     "text": [
      "Val Perf after 2 epochs Acc@1 0.2557\n",
      "=> Caching mask state for model.0\n",
      "=> Caching mask state for model.2\n",
      "=> Caching mask state for model.4\n",
      "\n",
      "=> Setting learned tasks of model.0 to 17\n",
      "=> Setting learned tasks of model.2 to 17\n",
      "=> Setting learned tasks of model.4 to 17\n",
      "\n",
      "Training for task 17\n",
      "=> Set task of model.0 to 17\n",
      "=> Set task of model.2 to 17\n",
      "=> Set task of model.4 to 17\n"
     ]
    },
    {
     "data": {
      "application/vnd.jupyter.widget-view+json": {
       "model_id": "",
       "version_major": 2,
       "version_minor": 0
      },
      "text/plain": [
       "  0%|          | 0/469 [00:00<?, ?it/s]"
      ]
     },
     "metadata": {},
     "output_type": "display_data"
    },
    {
     "name": "stdout",
     "output_type": "stream",
     "text": [
      "Validation => Loss 3.0088, Acc@1 0.2031\n",
      "============\n"
     ]
    },
    {
     "data": {
      "application/vnd.jupyter.widget-view+json": {
       "model_id": "",
       "version_major": 2,
       "version_minor": 0
      },
      "text/plain": [
       "  0%|          | 0/79 [00:00<?, ?it/s]"
      ]
     },
     "metadata": {},
     "output_type": "display_data"
    },
    {
     "name": "stdout",
     "output_type": "stream",
     "text": [
      "Val Perf after 1 epochs Acc@1 0.2468\n"
     ]
    },
    {
     "data": {
      "application/vnd.jupyter.widget-view+json": {
       "model_id": "",
       "version_major": 2,
       "version_minor": 0
      },
      "text/plain": [
       "  0%|          | 0/469 [00:00<?, ?it/s]"
      ]
     },
     "metadata": {},
     "output_type": "display_data"
    },
    {
     "name": "stdout",
     "output_type": "stream",
     "text": [
      "Validation => Loss 2.8724, Acc@1 0.2604\n",
      "============\n"
     ]
    },
    {
     "data": {
      "application/vnd.jupyter.widget-view+json": {
       "model_id": "",
       "version_major": 2,
       "version_minor": 0
      },
      "text/plain": [
       "  0%|          | 0/79 [00:00<?, ?it/s]"
      ]
     },
     "metadata": {},
     "output_type": "display_data"
    },
    {
     "name": "stdout",
     "output_type": "stream",
     "text": [
      "Val Perf after 2 epochs Acc@1 0.2442\n",
      "=> Caching mask state for model.0\n",
      "=> Caching mask state for model.2\n",
      "=> Caching mask state for model.4\n",
      "\n",
      "=> Setting learned tasks of model.0 to 18\n",
      "=> Setting learned tasks of model.2 to 18\n",
      "=> Setting learned tasks of model.4 to 18\n",
      "\n",
      "Training for task 18\n",
      "=> Set task of model.0 to 18\n",
      "=> Set task of model.2 to 18\n",
      "=> Set task of model.4 to 18\n"
     ]
    },
    {
     "data": {
      "application/vnd.jupyter.widget-view+json": {
       "model_id": "",
       "version_major": 2,
       "version_minor": 0
      },
      "text/plain": [
       "  0%|          | 0/469 [00:00<?, ?it/s]"
      ]
     },
     "metadata": {},
     "output_type": "display_data"
    },
    {
     "name": "stdout",
     "output_type": "stream",
     "text": [
      "Validation => Loss 2.8419, Acc@1 0.2070\n",
      "============\n"
     ]
    },
    {
     "data": {
      "application/vnd.jupyter.widget-view+json": {
       "model_id": "",
       "version_major": 2,
       "version_minor": 0
      },
      "text/plain": [
       "  0%|          | 0/79 [00:00<?, ?it/s]"
      ]
     },
     "metadata": {},
     "output_type": "display_data"
    },
    {
     "name": "stdout",
     "output_type": "stream",
     "text": [
      "Val Perf after 1 epochs Acc@1 0.2473\n"
     ]
    },
    {
     "data": {
      "application/vnd.jupyter.widget-view+json": {
       "model_id": "",
       "version_major": 2,
       "version_minor": 0
      },
      "text/plain": [
       "  0%|          | 0/469 [00:00<?, ?it/s]"
      ]
     },
     "metadata": {},
     "output_type": "display_data"
    },
    {
     "name": "stdout",
     "output_type": "stream",
     "text": [
      "Validation => Loss 2.8511, Acc@1 0.2546\n",
      "============\n"
     ]
    },
    {
     "data": {
      "application/vnd.jupyter.widget-view+json": {
       "model_id": "",
       "version_major": 2,
       "version_minor": 0
      },
      "text/plain": [
       "  0%|          | 0/79 [00:00<?, ?it/s]"
      ]
     },
     "metadata": {},
     "output_type": "display_data"
    },
    {
     "name": "stdout",
     "output_type": "stream",
     "text": [
      "Val Perf after 2 epochs Acc@1 0.2527\n",
      "=> Caching mask state for model.0\n",
      "=> Caching mask state for model.2\n",
      "=> Caching mask state for model.4\n",
      "\n",
      "=> Setting learned tasks of model.0 to 19\n",
      "=> Setting learned tasks of model.2 to 19\n",
      "=> Setting learned tasks of model.4 to 19\n",
      "\n",
      "Training for task 19\n",
      "=> Set task of model.0 to 19\n",
      "=> Set task of model.2 to 19\n",
      "=> Set task of model.4 to 19\n"
     ]
    },
    {
     "data": {
      "application/vnd.jupyter.widget-view+json": {
       "model_id": "",
       "version_major": 2,
       "version_minor": 0
      },
      "text/plain": [
       "  0%|          | 0/469 [00:00<?, ?it/s]"
      ]
     },
     "metadata": {},
     "output_type": "display_data"
    },
    {
     "name": "stdout",
     "output_type": "stream",
     "text": [
      "Validation => Loss 2.9444, Acc@1 0.1637\n",
      "============\n"
     ]
    },
    {
     "data": {
      "application/vnd.jupyter.widget-view+json": {
       "model_id": "",
       "version_major": 2,
       "version_minor": 0
      },
      "text/plain": [
       "  0%|          | 0/79 [00:00<?, ?it/s]"
      ]
     },
     "metadata": {},
     "output_type": "display_data"
    },
    {
     "name": "stdout",
     "output_type": "stream",
     "text": [
      "Val Perf after 1 epochs Acc@1 0.2081\n"
     ]
    },
    {
     "data": {
      "application/vnd.jupyter.widget-view+json": {
       "model_id": "",
       "version_major": 2,
       "version_minor": 0
      },
      "text/plain": [
       "  0%|          | 0/469 [00:00<?, ?it/s]"
      ]
     },
     "metadata": {},
     "output_type": "display_data"
    },
    {
     "name": "stdout",
     "output_type": "stream",
     "text": [
      "Validation => Loss 3.3216, Acc@1 0.2191\n",
      "============\n"
     ]
    },
    {
     "data": {
      "application/vnd.jupyter.widget-view+json": {
       "model_id": "",
       "version_major": 2,
       "version_minor": 0
      },
      "text/plain": [
       "  0%|          | 0/79 [00:00<?, ?it/s]"
      ]
     },
     "metadata": {},
     "output_type": "display_data"
    },
    {
     "name": "stdout",
     "output_type": "stream",
     "text": [
      "Val Perf after 2 epochs Acc@1 0.2172\n",
      "=> Caching mask state for model.0\n",
      "=> Caching mask state for model.2\n",
      "=> Caching mask state for model.4\n",
      "\n",
      "=> Setting learned tasks of model.0 to 20\n",
      "=> Setting learned tasks of model.2 to 20\n",
      "=> Setting learned tasks of model.4 to 20\n",
      "\n"
     ]
    }
   ],
   "source": [
    "for task in range(num_seed_tasks_learned, num_tasks):\n",
    "    print(f\"Training for task {task}\")\n",
    "    set_model_task(basis_model_zero, task)\n",
    "    mnist.update_task(task)\n",
    "\n",
    "    optimizer = optim.RMSprop([p for p in basis_model_zero.parameters() if p.requires_grad], lr=1e-2)\n",
    "    # Train for 1 epoch\n",
    "    for e in range(2):\n",
    "        train(basis_model_zero, mnist.train_loader, optimizer, e)\n",
    "        \n",
    "        print(\"Validation\")\n",
    "        print(\"============\")\n",
    "        acc1 = evaluate(basis_model_zero, mnist.val_loader, e)\n",
    "        \n",
    "    \n",
    "    cache_masks(basis_model_zero)\n",
    "    print()\n",
    "    set_num_tasks_learned(basis_model_zero, task + 1)\n",
    "    print()"
   ]
  },
  {
   "cell_type": "code",
   "execution_count": 278,
   "metadata": {
    "scrolled": false
   },
   "outputs": [
    {
     "name": "stdout",
     "output_type": "stream",
     "text": [
      "Average top 1 performance: 0.0688\n",
      "Per task performance\n",
      "Task 0: 0.0000\n",
      "Task 1: 0.0014\n",
      "Task 2: 0.0056\n",
      "Task 3: 0.0648\n",
      "Task 4: 0.0017\n",
      "Task 5: 0.0023\n",
      "Task 6: 0.0245\n",
      "Task 7: 0.0056\n",
      "Task 8: 0.0121\n",
      "Task 9: 0.0011\n",
      "Task 10: 0.0181\n",
      "Task 11: 0.0012\n",
      "Task 12: 0.0193\n",
      "Task 13: 0.0292\n",
      "Task 14: 0.0117\n",
      "Task 15: 0.2073\n",
      "Task 16: 0.2557\n",
      "Task 17: 0.2442\n",
      "Task 18: 0.2527\n",
      "Task 19: 0.2172\n"
     ]
    }
   ],
   "source": [
    "# When task ID we can simply set the mask and evaluate\n",
    "\n",
    "gg_performance = []\n",
    "for task in range(num_tasks):\n",
    "    set_model_task(basis_model_zero, task)\n",
    "    mnist.update_task(task)\n",
    "    acc1 = evaluate(basis_model_zero, mnist.val_loader, 0)\n",
    "    gg_performance.append(acc1.item())\n",
    "\n",
    "clear_output()\n",
    "    \n",
    "print(f\"Average top 1 performance: {(sum(gg_performance) / len(gg_performance)):.4f}\")\n",
    "\n",
    "print(\"Per task performance\")\n",
    "for t in range(num_tasks):\n",
    "    print(f\"Task {t}: {gg_performance[t]:.4f}\")"
   ]
  },
  {
   "cell_type": "code",
   "execution_count": 279,
   "metadata": {},
   "outputs": [],
   "source": [
    "performance_map['basis_mnist_task_zero_only'] = gg_performance.copy()"
   ]
  },
  {
   "cell_type": "markdown",
   "metadata": {},
   "source": [
    "### Model Initialization (Only New Tasks) Sparsity Enabled"
   ]
  },
  {
   "cell_type": "code",
   "execution_count": 287,
   "metadata": {},
   "outputs": [],
   "source": [
    "num_tasks = 20 # For demonstration purposes, we go up to 2500 in our paper\n",
    "num_seed_tasks_learned = 15\n",
    "basis_model_zeros = BasisSparseMultitaskFC(hidden_size=300, num_tasks=num_tasks, num_seed_tasks_learned=num_seed_tasks_learned, start_at_optimal=False, sparsity=0.25)"
   ]
  },
  {
   "cell_type": "code",
   "execution_count": 288,
   "metadata": {},
   "outputs": [],
   "source": [
    "seed_dict = basis_model_zeros.state_dict()"
   ]
  },
  {
   "cell_type": "code",
   "execution_count": 289,
   "metadata": {},
   "outputs": [],
   "source": [
    "update_dict = seed_dict.copy()"
   ]
  },
  {
   "cell_type": "code",
   "execution_count": 290,
   "metadata": {},
   "outputs": [],
   "source": [
    "assert all([(model_maps[0].state_dict()['model.0.weight'] == model_maps[i].state_dict()['model.0.weight']).all() for i in range(1,15)])\n",
    "update_dict['model.0.weight'] = model_map[0].state_dict()['model.0.weight']\n",
    "for task in range(15):\n",
    "    for layer in [0,2,4]:\n",
    "        update_dict['model.{}.scores.{}'.format(layer, task)] = model_maps[task].state_dict()['model.{}.scores.0'.format(layer)]"
   ]
  },
  {
   "cell_type": "code",
   "execution_count": 291,
   "metadata": {},
   "outputs": [
    {
     "name": "stdout",
     "output_type": "stream",
     "text": [
      "=> Caching mask state for model.0\n",
      "=> Caching mask state for model.2\n",
      "=> Caching mask state for model.4\n"
     ]
    }
   ],
   "source": [
    "seed_dict.update(update_dict)\n",
    "basis_model_zeros.load_state_dict(seed_dict, False)\n",
    "cache_masks(basis_model_zeros)"
   ]
  },
  {
   "cell_type": "code",
   "execution_count": 292,
   "metadata": {},
   "outputs": [
    {
     "data": {
      "text/plain": [
       "(15, 20)"
      ]
     },
     "execution_count": 292,
     "metadata": {},
     "output_type": "execute_result"
    }
   ],
   "source": [
    "num_seed_tasks_learned, num_tasks"
   ]
  },
  {
   "cell_type": "code",
   "execution_count": 293,
   "metadata": {
    "scrolled": true
   },
   "outputs": [
    {
     "name": "stdout",
     "output_type": "stream",
     "text": [
      "Training for task 15\n",
      "=> Set task of model.0 to 15\n",
      "=> Set task of model.2 to 15\n",
      "=> Set task of model.4 to 15\n"
     ]
    },
    {
     "data": {
      "application/vnd.jupyter.widget-view+json": {
       "model_id": "",
       "version_major": 2,
       "version_minor": 0
      },
      "text/plain": [
       "  0%|          | 0/469 [00:00<?, ?it/s]"
      ]
     },
     "metadata": {},
     "output_type": "display_data"
    },
    {
     "name": "stdout",
     "output_type": "stream",
     "text": [
      "Validation => Loss 3.0438, Acc@1 0.2035\n",
      "============\n"
     ]
    },
    {
     "data": {
      "application/vnd.jupyter.widget-view+json": {
       "model_id": "",
       "version_major": 2,
       "version_minor": 0
      },
      "text/plain": [
       "  0%|          | 0/79 [00:00<?, ?it/s]"
      ]
     },
     "metadata": {},
     "output_type": "display_data"
    },
    {
     "name": "stdout",
     "output_type": "stream",
     "text": [
      "Val Perf after 1 epochs Acc@1 0.2395\n"
     ]
    },
    {
     "data": {
      "application/vnd.jupyter.widget-view+json": {
       "model_id": "",
       "version_major": 2,
       "version_minor": 0
      },
      "text/plain": [
       "  0%|          | 0/469 [00:00<?, ?it/s]"
      ]
     },
     "metadata": {},
     "output_type": "display_data"
    },
    {
     "name": "stdout",
     "output_type": "stream",
     "text": [
      "Validation => Loss 2.9901, Acc@1 0.2288\n",
      "============\n"
     ]
    },
    {
     "data": {
      "application/vnd.jupyter.widget-view+json": {
       "model_id": "",
       "version_major": 2,
       "version_minor": 0
      },
      "text/plain": [
       "  0%|          | 0/79 [00:00<?, ?it/s]"
      ]
     },
     "metadata": {},
     "output_type": "display_data"
    },
    {
     "name": "stdout",
     "output_type": "stream",
     "text": [
      "Val Perf after 2 epochs Acc@1 0.2440\n",
      "=> Caching mask state for model.0\n",
      "=> Caching mask state for model.2\n",
      "=> Caching mask state for model.4\n",
      "\n",
      "=> Setting learned tasks of model.0 to 16\n",
      "=> Setting learned tasks of model.2 to 16\n",
      "=> Setting learned tasks of model.4 to 16\n",
      "\n",
      "Training for task 16\n",
      "=> Set task of model.0 to 16\n",
      "=> Set task of model.2 to 16\n",
      "=> Set task of model.4 to 16\n"
     ]
    },
    {
     "data": {
      "application/vnd.jupyter.widget-view+json": {
       "model_id": "",
       "version_major": 2,
       "version_minor": 0
      },
      "text/plain": [
       "  0%|          | 0/469 [00:00<?, ?it/s]"
      ]
     },
     "metadata": {},
     "output_type": "display_data"
    },
    {
     "name": "stdout",
     "output_type": "stream",
     "text": [
      "Validation => Loss 2.6824, Acc@1 0.2598\n",
      "============\n"
     ]
    },
    {
     "data": {
      "application/vnd.jupyter.widget-view+json": {
       "model_id": "",
       "version_major": 2,
       "version_minor": 0
      },
      "text/plain": [
       "  0%|          | 0/79 [00:00<?, ?it/s]"
      ]
     },
     "metadata": {},
     "output_type": "display_data"
    },
    {
     "name": "stdout",
     "output_type": "stream",
     "text": [
      "Val Perf after 1 epochs Acc@1 0.3140\n"
     ]
    },
    {
     "data": {
      "application/vnd.jupyter.widget-view+json": {
       "model_id": "",
       "version_major": 2,
       "version_minor": 0
      },
      "text/plain": [
       "  0%|          | 0/469 [00:00<?, ?it/s]"
      ]
     },
     "metadata": {},
     "output_type": "display_data"
    },
    {
     "name": "stdout",
     "output_type": "stream",
     "text": [
      "Validation => Loss 2.8247, Acc@1 0.3197\n",
      "============\n"
     ]
    },
    {
     "data": {
      "application/vnd.jupyter.widget-view+json": {
       "model_id": "",
       "version_major": 2,
       "version_minor": 0
      },
      "text/plain": [
       "  0%|          | 0/79 [00:00<?, ?it/s]"
      ]
     },
     "metadata": {},
     "output_type": "display_data"
    },
    {
     "name": "stdout",
     "output_type": "stream",
     "text": [
      "Val Perf after 2 epochs Acc@1 0.3165\n",
      "=> Caching mask state for model.0\n",
      "=> Caching mask state for model.2\n",
      "=> Caching mask state for model.4\n",
      "\n",
      "=> Setting learned tasks of model.0 to 17\n",
      "=> Setting learned tasks of model.2 to 17\n",
      "=> Setting learned tasks of model.4 to 17\n",
      "\n",
      "Training for task 17\n",
      "=> Set task of model.0 to 17\n",
      "=> Set task of model.2 to 17\n",
      "=> Set task of model.4 to 17\n"
     ]
    },
    {
     "data": {
      "application/vnd.jupyter.widget-view+json": {
       "model_id": "",
       "version_major": 2,
       "version_minor": 0
      },
      "text/plain": [
       "  0%|          | 0/469 [00:00<?, ?it/s]"
      ]
     },
     "metadata": {},
     "output_type": "display_data"
    },
    {
     "name": "stdout",
     "output_type": "stream",
     "text": [
      "Validation => Loss 2.6087, Acc@1 0.2148\n",
      "============\n"
     ]
    },
    {
     "data": {
      "application/vnd.jupyter.widget-view+json": {
       "model_id": "",
       "version_major": 2,
       "version_minor": 0
      },
      "text/plain": [
       "  0%|          | 0/79 [00:00<?, ?it/s]"
      ]
     },
     "metadata": {},
     "output_type": "display_data"
    },
    {
     "name": "stdout",
     "output_type": "stream",
     "text": [
      "Val Perf after 1 epochs Acc@1 0.2645\n"
     ]
    },
    {
     "data": {
      "application/vnd.jupyter.widget-view+json": {
       "model_id": "",
       "version_major": 2,
       "version_minor": 0
      },
      "text/plain": [
       "  0%|          | 0/469 [00:00<?, ?it/s]"
      ]
     },
     "metadata": {},
     "output_type": "display_data"
    },
    {
     "name": "stdout",
     "output_type": "stream",
     "text": [
      "Validation => Loss 2.6360, Acc@1 0.2676\n",
      "============\n"
     ]
    },
    {
     "data": {
      "application/vnd.jupyter.widget-view+json": {
       "model_id": "",
       "version_major": 2,
       "version_minor": 0
      },
      "text/plain": [
       "  0%|          | 0/79 [00:00<?, ?it/s]"
      ]
     },
     "metadata": {},
     "output_type": "display_data"
    },
    {
     "name": "stdout",
     "output_type": "stream",
     "text": [
      "Val Perf after 2 epochs Acc@1 0.2508\n",
      "=> Caching mask state for model.0\n",
      "=> Caching mask state for model.2\n",
      "=> Caching mask state for model.4\n",
      "\n",
      "=> Setting learned tasks of model.0 to 18\n",
      "=> Setting learned tasks of model.2 to 18\n",
      "=> Setting learned tasks of model.4 to 18\n",
      "\n",
      "Training for task 18\n",
      "=> Set task of model.0 to 18\n",
      "=> Set task of model.2 to 18\n",
      "=> Set task of model.4 to 18\n"
     ]
    },
    {
     "data": {
      "application/vnd.jupyter.widget-view+json": {
       "model_id": "",
       "version_major": 2,
       "version_minor": 0
      },
      "text/plain": [
       "  0%|          | 0/469 [00:00<?, ?it/s]"
      ]
     },
     "metadata": {},
     "output_type": "display_data"
    },
    {
     "name": "stdout",
     "output_type": "stream",
     "text": [
      "Validation => Loss 2.8992, Acc@1 0.2344\n",
      "============\n"
     ]
    },
    {
     "data": {
      "application/vnd.jupyter.widget-view+json": {
       "model_id": "",
       "version_major": 2,
       "version_minor": 0
      },
      "text/plain": [
       "  0%|          | 0/79 [00:00<?, ?it/s]"
      ]
     },
     "metadata": {},
     "output_type": "display_data"
    },
    {
     "name": "stdout",
     "output_type": "stream",
     "text": [
      "Val Perf after 1 epochs Acc@1 0.2567\n"
     ]
    },
    {
     "data": {
      "application/vnd.jupyter.widget-view+json": {
       "model_id": "",
       "version_major": 2,
       "version_minor": 0
      },
      "text/plain": [
       "  0%|          | 0/469 [00:00<?, ?it/s]"
      ]
     },
     "metadata": {},
     "output_type": "display_data"
    },
    {
     "name": "stdout",
     "output_type": "stream",
     "text": [
      "Validation => Loss 2.7513, Acc@1 0.2575\n",
      "============\n"
     ]
    },
    {
     "data": {
      "application/vnd.jupyter.widget-view+json": {
       "model_id": "",
       "version_major": 2,
       "version_minor": 0
      },
      "text/plain": [
       "  0%|          | 0/79 [00:00<?, ?it/s]"
      ]
     },
     "metadata": {},
     "output_type": "display_data"
    },
    {
     "name": "stdout",
     "output_type": "stream",
     "text": [
      "Val Perf after 2 epochs Acc@1 0.2893\n",
      "=> Caching mask state for model.0\n",
      "=> Caching mask state for model.2\n",
      "=> Caching mask state for model.4\n",
      "\n",
      "=> Setting learned tasks of model.0 to 19\n",
      "=> Setting learned tasks of model.2 to 19\n",
      "=> Setting learned tasks of model.4 to 19\n",
      "\n",
      "Training for task 19\n",
      "=> Set task of model.0 to 19\n",
      "=> Set task of model.2 to 19\n",
      "=> Set task of model.4 to 19\n"
     ]
    },
    {
     "data": {
      "application/vnd.jupyter.widget-view+json": {
       "model_id": "",
       "version_major": 2,
       "version_minor": 0
      },
      "text/plain": [
       "  0%|          | 0/469 [00:00<?, ?it/s]"
      ]
     },
     "metadata": {},
     "output_type": "display_data"
    },
    {
     "name": "stdout",
     "output_type": "stream",
     "text": [
      "Validation => Loss 2.5227, Acc@1 0.2640\n",
      "============\n"
     ]
    },
    {
     "data": {
      "application/vnd.jupyter.widget-view+json": {
       "model_id": "",
       "version_major": 2,
       "version_minor": 0
      },
      "text/plain": [
       "  0%|          | 0/79 [00:00<?, ?it/s]"
      ]
     },
     "metadata": {},
     "output_type": "display_data"
    },
    {
     "name": "stdout",
     "output_type": "stream",
     "text": [
      "Val Perf after 1 epochs Acc@1 0.3277\n"
     ]
    },
    {
     "data": {
      "application/vnd.jupyter.widget-view+json": {
       "model_id": "",
       "version_major": 2,
       "version_minor": 0
      },
      "text/plain": [
       "  0%|          | 0/469 [00:00<?, ?it/s]"
      ]
     },
     "metadata": {},
     "output_type": "display_data"
    },
    {
     "name": "stdout",
     "output_type": "stream",
     "text": [
      "Validation => Loss 2.9361, Acc@1 0.2992\n",
      "============\n"
     ]
    },
    {
     "data": {
      "application/vnd.jupyter.widget-view+json": {
       "model_id": "",
       "version_major": 2,
       "version_minor": 0
      },
      "text/plain": [
       "  0%|          | 0/79 [00:00<?, ?it/s]"
      ]
     },
     "metadata": {},
     "output_type": "display_data"
    },
    {
     "name": "stdout",
     "output_type": "stream",
     "text": [
      "Val Perf after 2 epochs Acc@1 0.3242\n",
      "=> Caching mask state for model.0\n",
      "=> Caching mask state for model.2\n",
      "=> Caching mask state for model.4\n",
      "\n",
      "=> Setting learned tasks of model.0 to 20\n",
      "=> Setting learned tasks of model.2 to 20\n",
      "=> Setting learned tasks of model.4 to 20\n",
      "\n"
     ]
    }
   ],
   "source": [
    "for task in range(num_seed_tasks_learned, num_tasks):\n",
    "    print(f\"Training for task {task}\")\n",
    "    set_model_task(basis_model_zeros, task)\n",
    "    mnist.update_task(task)\n",
    "\n",
    "    optimizer = optim.RMSprop([p for p in basis_model_zeros.parameters() if p.requires_grad], lr=1e-2)\n",
    "    # Train for 1 epoch\n",
    "    for e in range(2):\n",
    "        train(basis_model_zeros, mnist.train_loader, optimizer, e)\n",
    "        \n",
    "        print(\"Validation\")\n",
    "        print(\"============\")\n",
    "        acc1 = evaluate(basis_model_zeros, mnist.val_loader, e)\n",
    "        \n",
    "    \n",
    "    cache_masks(basis_model_zeros)\n",
    "    print()\n",
    "    set_num_tasks_learned(basis_model_zeros, task + 1)\n",
    "    print()"
   ]
  },
  {
   "cell_type": "code",
   "execution_count": 294,
   "metadata": {
    "scrolled": false
   },
   "outputs": [
    {
     "name": "stdout",
     "output_type": "stream",
     "text": [
      "Average top 1 performance: 0.0759\n",
      "Per task performance\n",
      "Task 0: 0.0022\n",
      "Task 1: 0.0037\n",
      "Task 2: 0.0143\n",
      "Task 3: 0.0016\n",
      "Task 4: 0.0084\n",
      "Task 5: 0.0001\n",
      "Task 6: 0.0007\n",
      "Task 7: 0.0030\n",
      "Task 8: 0.0184\n",
      "Task 9: 0.0193\n",
      "Task 10: 0.0010\n",
      "Task 11: 0.0067\n",
      "Task 12: 0.0009\n",
      "Task 13: 0.0024\n",
      "Task 14: 0.0111\n",
      "Task 15: 0.2440\n",
      "Task 16: 0.3165\n",
      "Task 17: 0.2508\n",
      "Task 18: 0.2893\n",
      "Task 19: 0.3242\n"
     ]
    }
   ],
   "source": [
    "# When task ID we can simply set the mask and evaluate\n",
    "\n",
    "gg_performance = []\n",
    "for task in range(num_tasks):\n",
    "    set_model_task(basis_model_zeros, task)\n",
    "    mnist.update_task(task)\n",
    "    acc1 = evaluate(basis_model_zeros, mnist.val_loader, 0)\n",
    "    gg_performance.append(acc1.item())\n",
    "\n",
    "clear_output()\n",
    "    \n",
    "print(f\"Average top 1 performance: {(sum(gg_performance) / len(gg_performance)):.4f}\")\n",
    "\n",
    "print(\"Per task performance\")\n",
    "for t in range(num_tasks):\n",
    "    print(f\"Task {t}: {gg_performance[t]:.4f}\")"
   ]
  },
  {
   "cell_type": "code",
   "execution_count": 295,
   "metadata": {},
   "outputs": [],
   "source": [
    "performance_map['basis_mnist_task_zero_only_sparsity_25'] = gg_performance.copy()"
   ]
  },
  {
   "cell_type": "markdown",
   "metadata": {},
   "source": [
    "## Hybrid (Last layer with sparsity)"
   ]
  },
  {
   "cell_type": "markdown",
   "metadata": {},
   "source": [
    "### Model Initialization (Only New Tasks)"
   ]
  },
  {
   "cell_type": "code",
   "execution_count": 305,
   "metadata": {},
   "outputs": [],
   "source": [
    "num_tasks = 20 # For demonstration purposes, we go up to 2500 in our paper\n",
    "num_seed_tasks_learned = 15\n",
    "basis_model_zero_sh = BasisHiddenOnlySparseMultitaskFC(hidden_size=300, num_tasks=num_tasks, \n",
    "                                num_seed_tasks_learned=num_seed_tasks_learned, start_at_optimal=True, sparsity=0.25)"
   ]
  },
  {
   "cell_type": "code",
   "execution_count": 306,
   "metadata": {},
   "outputs": [],
   "source": [
    "seed_dict = basis_model_zero_sh.state_dict()"
   ]
  },
  {
   "cell_type": "code",
   "execution_count": 307,
   "metadata": {},
   "outputs": [],
   "source": [
    "update_dict = seed_dict.copy()"
   ]
  },
  {
   "cell_type": "code",
   "execution_count": 308,
   "metadata": {},
   "outputs": [],
   "source": [
    "assert all([(model_maps[0].state_dict()['model.0.weight'] == model_maps[i].state_dict()['model.0.weight']).all() for i in range(1,15)])\n",
    "update_dict['model.0.weight'] = model_maps[0].state_dict()['model.0.weight']\n",
    "for task in range(15):\n",
    "    for layer in [0,2]:\n",
    "        update_dict['model.{}.scores.{}'.format(layer, task)] = model_maps[task].state_dict()['model.{}.scores.0'.format(layer)]"
   ]
  },
  {
   "cell_type": "code",
   "execution_count": 310,
   "metadata": {},
   "outputs": [
    {
     "name": "stdout",
     "output_type": "stream",
     "text": [
      "=> Caching mask state for model.0\n",
      "=> Caching mask state for model.2\n",
      "=> Caching mask state for model.4\n"
     ]
    }
   ],
   "source": [
    "seed_dict.update(update_dict)\n",
    "basis_model_zero_sh.load_state_dict(seed_dict, False)\n",
    "cache_masks(basis_model_zero_sh)"
   ]
  },
  {
   "cell_type": "code",
   "execution_count": 311,
   "metadata": {},
   "outputs": [
    {
     "data": {
      "text/plain": [
       "(15, 20)"
      ]
     },
     "execution_count": 311,
     "metadata": {},
     "output_type": "execute_result"
    }
   ],
   "source": [
    "num_seed_tasks_learned, num_tasks"
   ]
  },
  {
   "cell_type": "code",
   "execution_count": 313,
   "metadata": {
    "scrolled": true
   },
   "outputs": [
    {
     "name": "stdout",
     "output_type": "stream",
     "text": [
      "Training for task 15\n",
      "=> Set task of model.0 to 15\n",
      "=> Set task of model.2 to 15\n",
      "=> Set task of model.4 to 15\n"
     ]
    },
    {
     "data": {
      "application/vnd.jupyter.widget-view+json": {
       "model_id": "f8cb2ae8925a45b49554ca6bb147fcd6",
       "version_major": 2,
       "version_minor": 0
      },
      "text/plain": [
       "  0%|          | 0/469 [00:00<?, ?it/s]"
      ]
     },
     "metadata": {},
     "output_type": "display_data"
    },
    {
     "name": "stdout",
     "output_type": "stream",
     "text": [
      "Validation => Loss 1.2329, Acc@1 0.6400\n",
      "============\n"
     ]
    },
    {
     "data": {
      "application/vnd.jupyter.widget-view+json": {
       "model_id": "dabe6822037b4d048fb56153659776d0",
       "version_major": 2,
       "version_minor": 0
      },
      "text/plain": [
       "  0%|          | 0/79 [00:00<?, ?it/s]"
      ]
     },
     "metadata": {},
     "output_type": "display_data"
    },
    {
     "name": "stdout",
     "output_type": "stream",
     "text": [
      "Val Perf after 1 epochs Acc@1 0.7035\n"
     ]
    },
    {
     "data": {
      "application/vnd.jupyter.widget-view+json": {
       "model_id": "7268852919fe445a8e1760bfb170c8bd",
       "version_major": 2,
       "version_minor": 0
      },
      "text/plain": [
       "  0%|          | 0/469 [00:00<?, ?it/s]"
      ]
     },
     "metadata": {},
     "output_type": "display_data"
    },
    {
     "name": "stdout",
     "output_type": "stream",
     "text": [
      "Validation => Loss 1.1218, Acc@1 0.6872\n",
      "============\n"
     ]
    },
    {
     "data": {
      "application/vnd.jupyter.widget-view+json": {
       "model_id": "825fcd9a9c58486f8856445f401379cc",
       "version_major": 2,
       "version_minor": 0
      },
      "text/plain": [
       "  0%|          | 0/79 [00:00<?, ?it/s]"
      ]
     },
     "metadata": {},
     "output_type": "display_data"
    },
    {
     "name": "stdout",
     "output_type": "stream",
     "text": [
      "Val Perf after 2 epochs Acc@1 0.7029\n",
      "=> Caching mask state for model.0\n",
      "=> Caching mask state for model.2\n",
      "=> Caching mask state for model.4\n",
      "\n",
      "=> Setting learned tasks of model.0 to 16\n",
      "=> Setting learned tasks of model.2 to 16\n",
      "=> Setting learned tasks of model.4 to 16\n",
      "\n",
      "Training for task 16\n",
      "=> Set task of model.0 to 16\n",
      "=> Set task of model.2 to 16\n",
      "=> Set task of model.4 to 16\n"
     ]
    },
    {
     "data": {
      "application/vnd.jupyter.widget-view+json": {
       "model_id": "2fa60328db77412ca5e2971e9bb4d022",
       "version_major": 2,
       "version_minor": 0
      },
      "text/plain": [
       "  0%|          | 0/469 [00:00<?, ?it/s]"
      ]
     },
     "metadata": {},
     "output_type": "display_data"
    },
    {
     "name": "stdout",
     "output_type": "stream",
     "text": [
      "Validation => Loss 0.8850, Acc@1 0.6598\n",
      "============\n"
     ]
    },
    {
     "data": {
      "application/vnd.jupyter.widget-view+json": {
       "model_id": "99a8e4c6bbd74954b5250c43a28d4ffa",
       "version_major": 2,
       "version_minor": 0
      },
      "text/plain": [
       "  0%|          | 0/79 [00:00<?, ?it/s]"
      ]
     },
     "metadata": {},
     "output_type": "display_data"
    },
    {
     "name": "stdout",
     "output_type": "stream",
     "text": [
      "Val Perf after 1 epochs Acc@1 0.6777\n"
     ]
    },
    {
     "data": {
      "application/vnd.jupyter.widget-view+json": {
       "model_id": "89bb5a8e33c44fa9909fd8b75aa48f78",
       "version_major": 2,
       "version_minor": 0
      },
      "text/plain": [
       "  0%|          | 0/469 [00:00<?, ?it/s]"
      ]
     },
     "metadata": {},
     "output_type": "display_data"
    },
    {
     "name": "stdout",
     "output_type": "stream",
     "text": [
      "Validation => Loss 0.9747, Acc@1 0.6602\n",
      "============\n"
     ]
    },
    {
     "data": {
      "application/vnd.jupyter.widget-view+json": {
       "model_id": "558b21215c89475ea1e8cd00b0dacf1c",
       "version_major": 2,
       "version_minor": 0
      },
      "text/plain": [
       "  0%|          | 0/79 [00:00<?, ?it/s]"
      ]
     },
     "metadata": {},
     "output_type": "display_data"
    },
    {
     "name": "stdout",
     "output_type": "stream",
     "text": [
      "Val Perf after 2 epochs Acc@1 0.6955\n",
      "=> Caching mask state for model.0\n",
      "=> Caching mask state for model.2\n",
      "=> Caching mask state for model.4\n",
      "\n",
      "=> Setting learned tasks of model.0 to 17\n",
      "=> Setting learned tasks of model.2 to 17\n",
      "=> Setting learned tasks of model.4 to 17\n",
      "\n",
      "Training for task 17\n",
      "=> Set task of model.0 to 17\n",
      "=> Set task of model.2 to 17\n",
      "=> Set task of model.4 to 17\n"
     ]
    },
    {
     "data": {
      "application/vnd.jupyter.widget-view+json": {
       "model_id": "051a63601f2141c0a1c00b91ecd4de91",
       "version_major": 2,
       "version_minor": 0
      },
      "text/plain": [
       "  0%|          | 0/469 [00:00<?, ?it/s]"
      ]
     },
     "metadata": {},
     "output_type": "display_data"
    },
    {
     "name": "stdout",
     "output_type": "stream",
     "text": [
      "Validation => Loss 0.9942, Acc@1 0.6693\n",
      "============\n"
     ]
    },
    {
     "data": {
      "application/vnd.jupyter.widget-view+json": {
       "model_id": "d78be754c5f04ad0995970413c70cf9b",
       "version_major": 2,
       "version_minor": 0
      },
      "text/plain": [
       "  0%|          | 0/79 [00:00<?, ?it/s]"
      ]
     },
     "metadata": {},
     "output_type": "display_data"
    },
    {
     "name": "stdout",
     "output_type": "stream",
     "text": [
      "Val Perf after 1 epochs Acc@1 0.7069\n"
     ]
    },
    {
     "data": {
      "application/vnd.jupyter.widget-view+json": {
       "model_id": "e69143ae7b0b4e3aa24093bab782129d",
       "version_major": 2,
       "version_minor": 0
      },
      "text/plain": [
       "  0%|          | 0/469 [00:00<?, ?it/s]"
      ]
     },
     "metadata": {},
     "output_type": "display_data"
    },
    {
     "name": "stdout",
     "output_type": "stream",
     "text": [
      "Validation => Loss 1.0425, Acc@1 0.7067\n",
      "============\n"
     ]
    },
    {
     "data": {
      "application/vnd.jupyter.widget-view+json": {
       "model_id": "41133620132d484ea4e85ae49c34c3aa",
       "version_major": 2,
       "version_minor": 0
      },
      "text/plain": [
       "  0%|          | 0/79 [00:00<?, ?it/s]"
      ]
     },
     "metadata": {},
     "output_type": "display_data"
    },
    {
     "name": "stdout",
     "output_type": "stream",
     "text": [
      "Val Perf after 2 epochs Acc@1 0.6881\n",
      "=> Caching mask state for model.0\n",
      "=> Caching mask state for model.2\n",
      "=> Caching mask state for model.4\n",
      "\n",
      "=> Setting learned tasks of model.0 to 18\n",
      "=> Setting learned tasks of model.2 to 18\n",
      "=> Setting learned tasks of model.4 to 18\n",
      "\n",
      "Training for task 18\n",
      "=> Set task of model.0 to 18\n",
      "=> Set task of model.2 to 18\n",
      "=> Set task of model.4 to 18\n"
     ]
    },
    {
     "data": {
      "application/vnd.jupyter.widget-view+json": {
       "model_id": "1bff7ee6fecf417c9b9c884bdfa0d6b5",
       "version_major": 2,
       "version_minor": 0
      },
      "text/plain": [
       "  0%|          | 0/469 [00:00<?, ?it/s]"
      ]
     },
     "metadata": {},
     "output_type": "display_data"
    },
    {
     "name": "stdout",
     "output_type": "stream",
     "text": [
      "Validation => Loss 0.8554, Acc@1 0.6445\n",
      "============\n"
     ]
    },
    {
     "data": {
      "application/vnd.jupyter.widget-view+json": {
       "model_id": "fa8068ae2ecf410f9061e5a52e5dd28f",
       "version_major": 2,
       "version_minor": 0
      },
      "text/plain": [
       "  0%|          | 0/79 [00:00<?, ?it/s]"
      ]
     },
     "metadata": {},
     "output_type": "display_data"
    },
    {
     "name": "stdout",
     "output_type": "stream",
     "text": [
      "Val Perf after 1 epochs Acc@1 0.6575\n"
     ]
    },
    {
     "data": {
      "application/vnd.jupyter.widget-view+json": {
       "model_id": "71cab350bc05452390c255343c499732",
       "version_major": 2,
       "version_minor": 0
      },
      "text/plain": [
       "  0%|          | 0/469 [00:00<?, ?it/s]"
      ]
     },
     "metadata": {},
     "output_type": "display_data"
    },
    {
     "name": "stdout",
     "output_type": "stream",
     "text": [
      "Validation => Loss 1.0503, Acc@1 0.6621\n",
      "============\n"
     ]
    },
    {
     "data": {
      "application/vnd.jupyter.widget-view+json": {
       "model_id": "9bc0f6bf1e194658893969fe26020567",
       "version_major": 2,
       "version_minor": 0
      },
      "text/plain": [
       "  0%|          | 0/79 [00:00<?, ?it/s]"
      ]
     },
     "metadata": {},
     "output_type": "display_data"
    },
    {
     "name": "stdout",
     "output_type": "stream",
     "text": [
      "Val Perf after 2 epochs Acc@1 0.6575\n",
      "=> Caching mask state for model.0\n",
      "=> Caching mask state for model.2\n",
      "=> Caching mask state for model.4\n",
      "\n",
      "=> Setting learned tasks of model.0 to 19\n",
      "=> Setting learned tasks of model.2 to 19\n",
      "=> Setting learned tasks of model.4 to 19\n",
      "\n",
      "Training for task 19\n",
      "=> Set task of model.0 to 19\n",
      "=> Set task of model.2 to 19\n",
      "=> Set task of model.4 to 19\n"
     ]
    },
    {
     "data": {
      "application/vnd.jupyter.widget-view+json": {
       "model_id": "aaea79f5259b499cb9b8cee05ca67489",
       "version_major": 2,
       "version_minor": 0
      },
      "text/plain": [
       "  0%|          | 0/469 [00:00<?, ?it/s]"
      ]
     },
     "metadata": {},
     "output_type": "display_data"
    },
    {
     "name": "stdout",
     "output_type": "stream",
     "text": [
      "Validation => Loss 0.7341, Acc@1 0.7217\n",
      "============\n"
     ]
    },
    {
     "data": {
      "application/vnd.jupyter.widget-view+json": {
       "model_id": "f93f9d60294e404ba6ca7d0ac429d3de",
       "version_major": 2,
       "version_minor": 0
      },
      "text/plain": [
       "  0%|          | 0/79 [00:00<?, ?it/s]"
      ]
     },
     "metadata": {},
     "output_type": "display_data"
    },
    {
     "name": "stdout",
     "output_type": "stream",
     "text": [
      "Val Perf after 1 epochs Acc@1 0.7128\n"
     ]
    },
    {
     "data": {
      "application/vnd.jupyter.widget-view+json": {
       "model_id": "268f885913b0432ab4bf9fa922f3117a",
       "version_major": 2,
       "version_minor": 0
      },
      "text/plain": [
       "  0%|          | 0/469 [00:00<?, ?it/s]"
      ]
     },
     "metadata": {},
     "output_type": "display_data"
    },
    {
     "name": "stdout",
     "output_type": "stream",
     "text": [
      "Validation => Loss 0.9278, Acc@1 0.7334\n",
      "============\n"
     ]
    },
    {
     "data": {
      "application/vnd.jupyter.widget-view+json": {
       "model_id": "e54659e5d92e4d63bbc90fae2e09a35a",
       "version_major": 2,
       "version_minor": 0
      },
      "text/plain": [
       "  0%|          | 0/79 [00:00<?, ?it/s]"
      ]
     },
     "metadata": {},
     "output_type": "display_data"
    },
    {
     "name": "stdout",
     "output_type": "stream",
     "text": [
      "Val Perf after 2 epochs Acc@1 0.6836\n",
      "=> Caching mask state for model.0\n",
      "=> Caching mask state for model.2\n",
      "=> Caching mask state for model.4\n",
      "\n",
      "=> Setting learned tasks of model.0 to 20\n",
      "=> Setting learned tasks of model.2 to 20\n",
      "=> Setting learned tasks of model.4 to 20\n",
      "\n"
     ]
    }
   ],
   "source": [
    "for task in range(num_seed_tasks_learned, num_tasks):\n",
    "    print(f\"Training for task {task}\")\n",
    "    set_model_task(basis_model_zero_sh, task)\n",
    "    mnist.update_task(task)\n",
    "\n",
    "    optimizer = optim.RMSprop([p for p in basis_model_zero_sh.parameters() if p.requires_grad], lr=1e-2)\n",
    "    # Train for 1 epoch\n",
    "    for e in range(2):\n",
    "        train(basis_model_zero_sh, mnist.train_loader, optimizer, e)\n",
    "        \n",
    "        print(\"Validation\")\n",
    "        print(\"============\")\n",
    "        acc1 = evaluate(basis_model_zero_sh, mnist.val_loader, e)\n",
    "        \n",
    "    \n",
    "    cache_masks(basis_model_zero_sh)\n",
    "    print()\n",
    "    set_num_tasks_learned(basis_model_zero_sh, task + 1)\n",
    "    print()"
   ]
  },
  {
   "cell_type": "code",
   "execution_count": 314,
   "metadata": {
    "scrolled": false
   },
   "outputs": [
    {
     "name": "stdout",
     "output_type": "stream",
     "text": [
      "Average top 1 performance: 0.1774\n",
      "Per task performance\n",
      "Task 0: 0.0027\n",
      "Task 1: 0.0270\n",
      "Task 2: 0.0143\n",
      "Task 3: 0.0001\n",
      "Task 4: 0.0054\n",
      "Task 5: 0.0098\n",
      "Task 6: 0.0108\n",
      "Task 7: 0.0005\n",
      "Task 8: 0.0029\n",
      "Task 9: 0.0023\n",
      "Task 10: 0.0020\n",
      "Task 11: 0.0173\n",
      "Task 12: 0.0031\n",
      "Task 13: 0.0011\n",
      "Task 14: 0.0215\n",
      "Task 15: 0.7029\n",
      "Task 16: 0.6955\n",
      "Task 17: 0.6881\n",
      "Task 18: 0.6575\n",
      "Task 19: 0.6836\n"
     ]
    }
   ],
   "source": [
    "# When task ID we can simply set the mask and evaluate\n",
    "\n",
    "gg_performance = []\n",
    "for task in range(num_tasks):\n",
    "    set_model_task(basis_model_zero_sh, task)\n",
    "    mnist.update_task(task)\n",
    "    acc1 = evaluate(basis_model_zero_sh, mnist.val_loader, 0)\n",
    "    gg_performance.append(acc1.item())\n",
    "\n",
    "clear_output()\n",
    "    \n",
    "print(f\"Average top 1 performance: {(sum(gg_performance) / len(gg_performance)):.4f}\")\n",
    "\n",
    "print(\"Per task performance\")\n",
    "for t in range(num_tasks):\n",
    "    print(f\"Task {t}: {gg_performance[t]:.4f}\")"
   ]
  },
  {
   "cell_type": "code",
   "execution_count": 315,
   "metadata": {},
   "outputs": [],
   "source": [
    "performance_map['basis_mnist_task_zero_only_hidden_sparsity_25'] = gg_performance.copy()"
   ]
  },
  {
   "cell_type": "code",
   "execution_count": null,
   "metadata": {},
   "outputs": [],
   "source": []
  },
  {
   "cell_type": "code",
   "execution_count": null,
   "metadata": {},
   "outputs": [],
   "source": []
  },
  {
   "cell_type": "code",
   "execution_count": null,
   "metadata": {},
   "outputs": [],
   "source": []
  },
  {
   "cell_type": "code",
   "execution_count": null,
   "metadata": {},
   "outputs": [],
   "source": []
  },
  {
   "cell_type": "markdown",
   "metadata": {},
   "source": [
    "### Model Initialization (All Tasks, Zero start)"
   ]
  },
  {
   "cell_type": "code",
   "execution_count": 320,
   "metadata": {},
   "outputs": [],
   "source": [
    "num_tasks = 15 # For demonstration purposes, we go up to 2500 in our paper\n",
    "basis_model = BasisMultitaskFC(hidden_size=300, num_tasks=num_tasks, num_seed_tasks_learned=5, start_at_optimal=False)"
   ]
  },
  {
   "cell_type": "code",
   "execution_count": 323,
   "metadata": {},
   "outputs": [
    {
     "name": "stdout",
     "output_type": "stream",
     "text": [
      "=> Caching mask state for model.0\n",
      "=> Caching mask state for model.2\n",
      "=> Caching mask state for model.4\n"
     ]
    }
   ],
   "source": [
    "seed_dict = model.state_dict()\n",
    "basis_dict = basis_model.state_dict()\n",
    "load_dict = {k: seed_dict[k] for k in basis_model.state_dict().keys() if k in seed_dict.keys()}\n",
    "basis_dict.update(load_dict)\n",
    "basis_model.load_state_dict(basis_dict, False)\n",
    "cache_masks(basis_model)"
   ]
  },
  {
   "cell_type": "code",
   "execution_count": 324,
   "metadata": {
    "scrolled": true
   },
   "outputs": [
    {
     "name": "stdout",
     "output_type": "stream",
     "text": [
      "Training for task 0\n",
      "=> Set task of model.0 to 0\n",
      "=> Set task of model.2 to 0\n",
      "=> Set task of model.4 to 0\n"
     ]
    },
    {
     "data": {
      "application/vnd.jupyter.widget-view+json": {
       "model_id": "d2b6247e69364a20951502c4e6cef812",
       "version_major": 2,
       "version_minor": 0
      },
      "text/plain": [
       "  0%|          | 0/469 [00:00<?, ?it/s]"
      ]
     },
     "metadata": {},
     "output_type": "display_data"
    },
    {
     "name": "stdout",
     "output_type": "stream",
     "text": [
      "Validation => Loss 0.5117, Acc@1 0.6963\n",
      "============\n"
     ]
    },
    {
     "data": {
      "application/vnd.jupyter.widget-view+json": {
       "model_id": "71d9e26f308540b9955b1c1338175856",
       "version_major": 2,
       "version_minor": 0
      },
      "text/plain": [
       "  0%|          | 0/79 [00:00<?, ?it/s]"
      ]
     },
     "metadata": {},
     "output_type": "display_data"
    },
    {
     "name": "stdout",
     "output_type": "stream",
     "text": [
      "Val Perf after 1 epochs Acc@1 0.8642\n",
      "=> Caching mask state for model.0\n",
      "=> Caching mask state for model.2\n",
      "=> Caching mask state for model.4\n",
      "\n",
      "=> Setting learned tasks of model.0 to 1\n",
      "=> Setting learned tasks of model.2 to 1\n",
      "=> Setting learned tasks of model.4 to 1\n",
      "\n",
      "Training for task 1\n",
      "=> Set task of model.0 to 1\n",
      "=> Set task of model.2 to 1\n",
      "=> Set task of model.4 to 1\n"
     ]
    },
    {
     "data": {
      "application/vnd.jupyter.widget-view+json": {
       "model_id": "8981c6a903a540619de0dd655f3ce70f",
       "version_major": 2,
       "version_minor": 0
      },
      "text/plain": [
       "  0%|          | 0/469 [00:00<?, ?it/s]"
      ]
     },
     "metadata": {},
     "output_type": "display_data"
    },
    {
     "name": "stdout",
     "output_type": "stream",
     "text": [
      "Validation => Loss 0.4671, Acc@1 0.6878\n",
      "============\n"
     ]
    },
    {
     "data": {
      "application/vnd.jupyter.widget-view+json": {
       "model_id": "357c198fa6534b3ba3d03c505fa2fc65",
       "version_major": 2,
       "version_minor": 0
      },
      "text/plain": [
       "  0%|          | 0/79 [00:00<?, ?it/s]"
      ]
     },
     "metadata": {},
     "output_type": "display_data"
    },
    {
     "name": "stdout",
     "output_type": "stream",
     "text": [
      "Val Perf after 1 epochs Acc@1 0.8814\n",
      "=> Caching mask state for model.0\n",
      "=> Caching mask state for model.2\n",
      "=> Caching mask state for model.4\n",
      "\n",
      "=> Setting learned tasks of model.0 to 2\n",
      "=> Setting learned tasks of model.2 to 2\n",
      "=> Setting learned tasks of model.4 to 2\n",
      "\n",
      "Training for task 2\n",
      "=> Set task of model.0 to 2\n",
      "=> Set task of model.2 to 2\n",
      "=> Set task of model.4 to 2\n"
     ]
    },
    {
     "data": {
      "application/vnd.jupyter.widget-view+json": {
       "model_id": "24dc783cceaf4107a7e7a5d02700c044",
       "version_major": 2,
       "version_minor": 0
      },
      "text/plain": [
       "  0%|          | 0/469 [00:00<?, ?it/s]"
      ]
     },
     "metadata": {},
     "output_type": "display_data"
    },
    {
     "name": "stdout",
     "output_type": "stream",
     "text": [
      "Validation => Loss 0.4373, Acc@1 0.7464\n",
      "============\n"
     ]
    },
    {
     "data": {
      "application/vnd.jupyter.widget-view+json": {
       "model_id": "0e9313c1d7b94410aef36a29db456cdc",
       "version_major": 2,
       "version_minor": 0
      },
      "text/plain": [
       "  0%|          | 0/79 [00:00<?, ?it/s]"
      ]
     },
     "metadata": {},
     "output_type": "display_data"
    },
    {
     "name": "stdout",
     "output_type": "stream",
     "text": [
      "Val Perf after 1 epochs Acc@1 0.8866\n",
      "=> Caching mask state for model.0\n",
      "=> Caching mask state for model.2\n",
      "=> Caching mask state for model.4\n",
      "\n",
      "=> Setting learned tasks of model.0 to 3\n",
      "=> Setting learned tasks of model.2 to 3\n",
      "=> Setting learned tasks of model.4 to 3\n",
      "\n",
      "Training for task 3\n",
      "=> Set task of model.0 to 3\n",
      "=> Set task of model.2 to 3\n",
      "=> Set task of model.4 to 3\n"
     ]
    },
    {
     "data": {
      "application/vnd.jupyter.widget-view+json": {
       "model_id": "88caf1cb594b416ab7399195ff023669",
       "version_major": 2,
       "version_minor": 0
      },
      "text/plain": [
       "  0%|          | 0/469 [00:00<?, ?it/s]"
      ]
     },
     "metadata": {},
     "output_type": "display_data"
    },
    {
     "name": "stdout",
     "output_type": "stream",
     "text": [
      "Validation => Loss 0.4166, Acc@1 0.7474\n",
      "============\n"
     ]
    },
    {
     "data": {
      "application/vnd.jupyter.widget-view+json": {
       "model_id": "75ef164fa9e64f348bba759b579250d9",
       "version_major": 2,
       "version_minor": 0
      },
      "text/plain": [
       "  0%|          | 0/79 [00:00<?, ?it/s]"
      ]
     },
     "metadata": {},
     "output_type": "display_data"
    },
    {
     "name": "stdout",
     "output_type": "stream",
     "text": [
      "Val Perf after 1 epochs Acc@1 0.8936\n",
      "=> Caching mask state for model.0\n",
      "=> Caching mask state for model.2\n",
      "=> Caching mask state for model.4\n",
      "\n",
      "=> Setting learned tasks of model.0 to 4\n",
      "=> Setting learned tasks of model.2 to 4\n",
      "=> Setting learned tasks of model.4 to 4\n",
      "\n",
      "Training for task 4\n",
      "=> Set task of model.0 to 4\n",
      "=> Set task of model.2 to 4\n",
      "=> Set task of model.4 to 4\n"
     ]
    },
    {
     "data": {
      "application/vnd.jupyter.widget-view+json": {
       "model_id": "8ba7d9f67e3b4875992ecaf227ab7739",
       "version_major": 2,
       "version_minor": 0
      },
      "text/plain": [
       "  0%|          | 0/469 [00:00<?, ?it/s]"
      ]
     },
     "metadata": {},
     "output_type": "display_data"
    },
    {
     "name": "stdout",
     "output_type": "stream",
     "text": [
      "Validation => Loss 0.4466, Acc@1 0.7380\n",
      "============\n"
     ]
    },
    {
     "data": {
      "application/vnd.jupyter.widget-view+json": {
       "model_id": "4026b1cfca36468dbf6a26dfe87112ff",
       "version_major": 2,
       "version_minor": 0
      },
      "text/plain": [
       "  0%|          | 0/79 [00:00<?, ?it/s]"
      ]
     },
     "metadata": {},
     "output_type": "display_data"
    },
    {
     "name": "stdout",
     "output_type": "stream",
     "text": [
      "Val Perf after 1 epochs Acc@1 0.8923\n",
      "=> Caching mask state for model.0\n",
      "=> Caching mask state for model.2\n",
      "=> Caching mask state for model.4\n",
      "\n",
      "=> Setting learned tasks of model.0 to 5\n",
      "=> Setting learned tasks of model.2 to 5\n",
      "=> Setting learned tasks of model.4 to 5\n",
      "\n",
      "Training for task 5\n",
      "=> Set task of model.0 to 5\n",
      "=> Set task of model.2 to 5\n",
      "=> Set task of model.4 to 5\n"
     ]
    },
    {
     "data": {
      "application/vnd.jupyter.widget-view+json": {
       "model_id": "b9c63d1d209f4ac783f6d305c0348456",
       "version_major": 2,
       "version_minor": 0
      },
      "text/plain": [
       "  0%|          | 0/469 [00:00<?, ?it/s]"
      ]
     },
     "metadata": {},
     "output_type": "display_data"
    },
    {
     "name": "stdout",
     "output_type": "stream",
     "text": [
      "Validation => Loss 2.4617, Acc@1 0.1748\n",
      "============\n"
     ]
    },
    {
     "data": {
      "application/vnd.jupyter.widget-view+json": {
       "model_id": "dac02d0f98f44646ba41c50e51baccba",
       "version_major": 2,
       "version_minor": 0
      },
      "text/plain": [
       "  0%|          | 0/79 [00:00<?, ?it/s]"
      ]
     },
     "metadata": {},
     "output_type": "display_data"
    },
    {
     "name": "stdout",
     "output_type": "stream",
     "text": [
      "Val Perf after 1 epochs Acc@1 0.1884\n",
      "=> Caching mask state for model.0\n",
      "=> Caching mask state for model.2\n",
      "=> Caching mask state for model.4\n",
      "\n",
      "=> Setting learned tasks of model.0 to 6\n",
      "=> Setting learned tasks of model.2 to 6\n",
      "=> Setting learned tasks of model.4 to 6\n",
      "\n",
      "Training for task 6\n",
      "=> Set task of model.0 to 6\n",
      "=> Set task of model.2 to 6\n",
      "=> Set task of model.4 to 6\n"
     ]
    },
    {
     "data": {
      "application/vnd.jupyter.widget-view+json": {
       "model_id": "46c9e17ab6054eaea6f73b66658209ca",
       "version_major": 2,
       "version_minor": 0
      },
      "text/plain": [
       "  0%|          | 0/469 [00:00<?, ?it/s]"
      ]
     },
     "metadata": {},
     "output_type": "display_data"
    },
    {
     "name": "stdout",
     "output_type": "stream",
     "text": [
      "Validation => Loss 2.5350, Acc@1 0.1419\n",
      "============\n"
     ]
    },
    {
     "data": {
      "application/vnd.jupyter.widget-view+json": {
       "model_id": "b873fbd03333420586c2637aa5e76664",
       "version_major": 2,
       "version_minor": 0
      },
      "text/plain": [
       "  0%|          | 0/79 [00:00<?, ?it/s]"
      ]
     },
     "metadata": {},
     "output_type": "display_data"
    },
    {
     "name": "stdout",
     "output_type": "stream",
     "text": [
      "Val Perf after 1 epochs Acc@1 0.1791\n",
      "=> Caching mask state for model.0\n",
      "=> Caching mask state for model.2\n",
      "=> Caching mask state for model.4\n",
      "\n",
      "=> Setting learned tasks of model.0 to 7\n",
      "=> Setting learned tasks of model.2 to 7\n",
      "=> Setting learned tasks of model.4 to 7\n",
      "\n"
     ]
    }
   ],
   "source": [
    "for task in range(7):\n",
    "    print(f\"Training for task {task}\")\n",
    "    set_model_task(basis_model, task)\n",
    "    mnist.update_task(task)\n",
    "\n",
    "    optimizer = optim.RMSprop([p for p in basis_model.parameters() if p.requires_grad], lr=1e-3)\n",
    "    # Train for 1 epoch\n",
    "    for e in range(1):\n",
    "        train(basis_model, mnist.train_loader, optimizer, e)\n",
    "        \n",
    "        print(\"Validation\")\n",
    "        print(\"============\")\n",
    "        acc1 = evaluate(basis_model, mnist.val_loader, e)\n",
    "        \n",
    "    \n",
    "    cache_masks(basis_model)\n",
    "    print()\n",
    "    set_num_tasks_learned(basis_model, task + 1)\n",
    "    print()"
   ]
  },
  {
   "cell_type": "markdown",
   "metadata": {},
   "source": [
    "## Inference"
   ]
  },
  {
   "cell_type": "markdown",
   "metadata": {},
   "source": [
    "### Scenario GG: Task ID is given at train time and inference time\n",
    "\n",
    "If task ID is given at inference time, we simply evaluate using the mask we have trained for that ID. This procedure is shown below."
   ]
  },
  {
   "cell_type": "code",
   "execution_count": 8,
   "metadata": {},
   "outputs": [
    {
     "name": "stdout",
     "output_type": "stream",
     "text": [
      "Average top 1 performance: 0.9253\n",
      "Per task performance\n",
      "Task 0: 0.9255\n",
      "Task 1: 0.9290\n",
      "Task 2: 0.9222\n",
      "Task 3: 0.9253\n",
      "Task 4: 0.9243\n"
     ]
    }
   ],
   "source": [
    "# When task ID we can simply set the mask and evaluate\n",
    "\n",
    "gg_performance = []\n",
    "for task in range(5):\n",
    "    set_model_task(model, task)\n",
    "    mnist.update_task(task)\n",
    "    acc1 = evaluate(model, mnist.val_loader, 0)\n",
    "    gg_performance.append(acc1.item())\n",
    "\n",
    "clear_output()\n",
    "    \n",
    "print(f\"Average top 1 performance: {(sum(gg_performance) / len(gg_performance)):.4f}\")\n",
    "\n",
    "print(\"Per task performance\")\n",
    "for t in range(5):\n",
    "    print(f\"Task {t}: {gg_performance[t]:.4f}\")"
   ]
  },
  {
   "cell_type": "markdown",
   "metadata": {},
   "source": [
    "### Scenario GNs: Task ID is given at train time but not inference time\n",
    "\n",
    "We can infer task identity at inference time for arbitrary pieces of data. Here we use the one-shot algorithm described in the paper for simplicity. In short, we assign each learned supermask $M^i$ a weight $\\alpha_i$ such that $\\sum_{i} \\alpha_i = 1$ and $\\alpha_i >= 0$. \n",
    "\n",
    "Given an example data point $x$ to classify, we can compute our loss as $H = \\mathcal{H}\\left(f\\left(x, \\theta \\odot \\left(\\sum_i \\alpha_i M^i\\right)\\right)\\right)$ where $f(x, \\theta)$ is our neural network which outputs logits and $\\mathcal H$ is our entropy function. From here our inferred task is simply \n",
    "$$t = \\text{argmin}_i \\frac{\\partial\\mathcal{H}}{\\partial \\alpha_i}.$$\n",
    "\n",
    "#### Intuition\n",
    "\n",
    "We can see entropy as a measure of confidence in our prediction. High entropy prediction distributions are very uncertain (close to uniform) and lowest entropy is reached when our distribution is very certain (at a one hot vector). So it stands to reason that supermasks which haven't been trained on the exemplar data will have high entropy. Further, instead of showing each individual supermask $x$, which would be computationally intractible for many tasks, we can show $x$ to a _superposition_ of supermasks and optimize for superposition coefficients $\\alpha_i$. Choosing the smallest $\\alpha_i$ for our task is essentially greedily moving in the direction of maximal decrease in entropy. \n",
    "\n",
    "Below is a simple implementation of oneshot task inference."
   ]
  },
  {
   "cell_type": "code",
   "execution_count": 8,
   "metadata": {},
   "outputs": [],
   "source": [
    "# When task info is not provided we can infer it\n",
    "# here we use the oneshot task inference alg detailed in the paper\n",
    "\n",
    "def oneshot_task_inference(model, batch, num_tasks):\n",
    "    # Set task < 0 for inference mode\n",
    "    set_model_task(model, -1, verbose=False)\n",
    "    \n",
    "    # Initialize alphas to uniform\n",
    "    alphas = torch.ones(num_tasks, 1, 1) / num_tasks\n",
    "    alphas.requires_grad_(True)\n",
    "    set_alphas(model, alphas, verbose=False)\n",
    "    \n",
    "    logits = model(batch)\n",
    "    \n",
    "    # Entropy of logits\n",
    "    entropy = -(logits.softmax(dim=1) * logits.log_softmax(dim=1)).sum(1).mean()\n",
    "    \n",
    "    # Gradient wrt alphas\n",
    "    g, = autograd.grad(entropy, alphas)\n",
    "    \n",
    "    inferred_task = (-g).squeeze().argmax()\n",
    "\n",
    "    return inferred_task.item()"
   ]
  },
  {
   "cell_type": "markdown",
   "metadata": {},
   "source": [
    "#### Task inference accuracy\n",
    "\n",
    "Below we show how accurate task inference is using our oneshot algorithm. If you would like to evaluate on more tasks (we use 5 for demonstration), just modify the `num_tasks` variable in the cell where we declare `MultitaskFC`. \n",
    "\n",
    "Here we evaluate task inference on 50 random images per task (the `trials` variable modifies this number) and show we predict the correct task with 100% accuracy. "
   ]
  },
  {
   "cell_type": "code",
   "execution_count": 9,
   "metadata": {},
   "outputs": [
    {
     "data": {
      "application/vnd.jupyter.widget-view+json": {
       "model_id": "ad31d78ed0ba45d8887ceaaff5aa1de8",
       "version_major": 2,
       "version_minor": 0
      },
      "text/plain": [
       "  0%|          | 0/50 [00:00<?, ?it/s]"
      ]
     },
     "metadata": {},
     "output_type": "display_data"
    },
    {
     "ename": "NameError",
     "evalue": "name 'model' is not defined",
     "output_type": "error",
     "traceback": [
      "\u001b[0;31m---------------------------------------------------------------------------\u001b[0m",
      "\u001b[0;31mNameError\u001b[0m                                 Traceback (most recent call last)",
      "\u001b[0;32m<ipython-input-9-59ae2beeb500>\u001b[0m in \u001b[0;36m<module>\u001b[0;34m\u001b[0m\n\u001b[1;32m      8\u001b[0m         \u001b[0mmnist\u001b[0m\u001b[0;34m.\u001b[0m\u001b[0mupdate_task\u001b[0m\u001b[0;34m(\u001b[0m\u001b[0mtask\u001b[0m\u001b[0;34m)\u001b[0m\u001b[0;34m\u001b[0m\u001b[0;34m\u001b[0m\u001b[0m\n\u001b[1;32m      9\u001b[0m         inferred_task = oneshot_task_inference(\n\u001b[0;32m---> 10\u001b[0;31m             \u001b[0mmodel\u001b[0m\u001b[0;34m,\u001b[0m\u001b[0;34m\u001b[0m\u001b[0;34m\u001b[0m\u001b[0m\n\u001b[0m\u001b[1;32m     11\u001b[0m             \u001b[0mbatch\u001b[0m\u001b[0;34m=\u001b[0m\u001b[0mnext\u001b[0m\u001b[0;34m(\u001b[0m\u001b[0miter\u001b[0m\u001b[0;34m(\u001b[0m\u001b[0mmnist\u001b[0m\u001b[0;34m.\u001b[0m\u001b[0mval_loader\u001b[0m\u001b[0;34m)\u001b[0m\u001b[0;34m)\u001b[0m\u001b[0;34m[\u001b[0m\u001b[0;36m0\u001b[0m\u001b[0;34m]\u001b[0m\u001b[0;34m[\u001b[0m\u001b[0;34m:\u001b[0m\u001b[0mnum_examples\u001b[0m\u001b[0;34m]\u001b[0m\u001b[0;34m,\u001b[0m\u001b[0;34m\u001b[0m\u001b[0;34m\u001b[0m\u001b[0m\n\u001b[1;32m     12\u001b[0m             \u001b[0mnum_tasks\u001b[0m\u001b[0;34m=\u001b[0m\u001b[0;36m5\u001b[0m\u001b[0;34m\u001b[0m\u001b[0;34m\u001b[0m\u001b[0m\n",
      "\u001b[0;31mNameError\u001b[0m: name 'model' is not defined"
     ]
    }
   ],
   "source": [
    "# How many examples to show for task inference\n",
    "num_examples = 1\n",
    "trials = 50\n",
    "num_correct = 0\n",
    "num_seen = 0\n",
    "for _ in tqdm(range(trials)):\n",
    "    for task in range(5):\n",
    "        mnist.update_task(task)\n",
    "        inferred_task = oneshot_task_inference(\n",
    "            model,\n",
    "            batch=next(iter(mnist.val_loader))[0][:num_examples],\n",
    "            num_tasks=5\n",
    "        )\n",
    "        if inferred_task == task:\n",
    "            num_correct += 1\n",
    "        num_seen += 1\n",
    "\n",
    "print(f\"Task inference accuracy: {100 * num_correct / num_seen}%\")"
   ]
  },
  {
   "cell_type": "markdown",
   "metadata": {},
   "source": [
    "#### Full inference procedure\n",
    "\n",
    "Below is an example of how this could be used in an inference pipeline. In this scenario, we use one random image from the validation set to infer task identity $t$ and then evaluate with the appropriate mask $M^t$ on all tasks. We see that there is no drop in performance from the GG scenario. \n",
    "\n",
    "Note that for simplicity this is a small deviation from the evaluation setup in our paper. In our paper we use 1 image per batch to determine the task identity of the batch, and evaluate that batch using the inferred task. So task inference needs to be correct more often to match GG performance. We have already shown task inference accuracy is 100% with high probability in the previous cell so we don't need to do that here. "
   ]
  },
  {
   "cell_type": "code",
   "execution_count": 11,
   "metadata": {},
   "outputs": [
    {
     "name": "stdout",
     "output_type": "stream",
     "text": [
      "=> Average top 1 performance: 92.5260%\n",
      "=> Difference from GG performance: 0.0000\n"
     ]
    }
   ],
   "source": [
    "# Evaluation\n",
    "\n",
    "num_examples = 1\n",
    "\n",
    "# After task inference, we just perform the same evaluation procedure as before\n",
    "gns_performance = []\n",
    "for task in range(5):\n",
    "    mnist.update_task(task)\n",
    "    inferred_task = oneshot_task_inference(\n",
    "        model,\n",
    "        batch=next(iter(mnist.val_loader))[0][:num_examples],\n",
    "        num_tasks=5\n",
    "    )\n",
    "    set_model_task(model, inferred_task)\n",
    "    acc1 = evaluate(model, mnist.val_loader, 0)\n",
    "    gns_performance.append(acc1.item())\n",
    "\n",
    "clear_output()\n",
    "avg_acc = (sum(gns_performance) / len(gns_performance))\n",
    "print(f\"=> Average top 1 performance: {100*avg_acc:.4f}%\")\n",
    "print(f\"=> Difference from GG performance: \"\n",
    "      f\"{(sum(gg_performance) / len(gg_performance) - avg_acc):.4f}\")"
   ]
  }
 ],
 "metadata": {
  "@webio": {
   "lastCommId": null,
   "lastKernelId": null
  },
  "kernelspec": {
   "display_name": "Python 3",
   "language": "python",
   "name": "python3"
  },
  "language_info": {
   "codemirror_mode": {
    "name": "ipython",
    "version": 3
   },
   "file_extension": ".py",
   "mimetype": "text/x-python",
   "name": "python",
   "nbconvert_exporter": "python",
   "pygments_lexer": "ipython3",
   "version": "3.7.10"
  }
 },
 "nbformat": 4,
 "nbformat_minor": 2
}
