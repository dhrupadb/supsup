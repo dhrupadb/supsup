{
 "cells": [
  {
   "cell_type": "markdown",
   "metadata": {},
   "source": [
    "# Supermasks in Superposition: Training and Task Inference\n",
    "\n",
    "<img src=\"images/teaser_supsup.png\">"
   ]
  },
  {
   "cell_type": "code",
   "execution_count": 1,
   "metadata": {
    "tags": []
   },
   "outputs": [
    {
     "name": "stdout",
     "output_type": "stream",
     "text": [
      "Packages loaded\n"
     ]
    }
   ],
   "source": [
    "import torch\n",
    "import torch.optim as optim\n",
    "import torch.nn as nn\n",
    "import torch.autograd as autograd\n",
    "import torch.nn.functional as F\n",
    "\n",
    "import torchvision\n",
    "import numpy as np\n",
    "import math\n",
    "\n",
    "from tqdm.notebook import tqdm\n",
    "\n",
    "print(\"Packages loaded\")\n",
    "# note at edits"
   ]
  },
  {
   "cell_type": "code",
   "execution_count": 2,
   "metadata": {},
   "outputs": [
    {
     "data": {
      "text/html": [
       "<style>.container { width:100% !important; }</style>"
      ],
      "text/plain": [
       "<IPython.core.display.HTML object>"
      ]
     },
     "metadata": {},
     "output_type": "display_data"
    }
   ],
   "source": [
    "from IPython.core.display import display, HTML\n",
    "display(HTML(\"<style>.container { width:100% !important; }</style>\"))"
   ]
  },
  {
   "cell_type": "markdown",
   "metadata": {},
   "source": [
    "## Training\n",
    "\n",
    "We train our model using the procedure from \"What's Hidden in a Randomly Weighted Neural Network\" (Ramanujan et al. 2019). Below is a modification of the layers (using signed constant initialization) from this paper for our continual learning setup. As a deviation from this setup, we assume that an edge (u, v) is included in the subnetwork if its score is greater than 0, rather than use it's absolute magnitude to construct a threshold. "
   ]
  },
  {
   "cell_type": "code",
   "execution_count": 3,
   "metadata": {},
   "outputs": [],
   "source": [
    "# Subnetwork forward from hidden networks   \n",
    "class GetSubnet(autograd.Function):\n",
    "    @staticmethod\n",
    "    def forward(ctx, scores, k):\n",
    "        # Get the supermask by sorting the scores and using the top k%\n",
    "        out = scores.clone()\n",
    "        _, idx = scores.flatten().sort()\n",
    "        j = int((1 - k) * scores.numel())\n",
    "\n",
    "        # flat_out and out access the same memory.\n",
    "        flat_out = out.flatten()\n",
    "        flat_out[idx[:j]] = 0\n",
    "        flat_out[idx[j:]] = 1\n",
    "\n",
    "        return out\n",
    "\n",
    "    @staticmethod\n",
    "    def backward(ctx, g):\n",
    "        # send the gradient g straight-through on the backward pass.\n",
    "        return g, None\n",
    "\n",
    "def mask_init(module):\n",
    "    scores = torch.Tensor(module.weight.size())\n",
    "    nn.init.kaiming_uniform_(scores, a=math.sqrt(5))\n",
    "    return scores\n",
    "\n",
    "\n",
    "def signed_constant(module):\n",
    "    fan = nn.init._calculate_correct_fan(module.weight, 'fan_in')\n",
    "    gain = nn.init.calculate_gain('relu')\n",
    "    std = gain / math.sqrt(fan)\n",
    "    module.weight.data = module.weight.data.sign() * std\n",
    "\n",
    "\n",
    "class MultitaskMaskLinear(nn.Linear):\n",
    "    def __init__(self, *args, num_tasks=1, sparsity=0.5, **kwargs):\n",
    "        super().__init__(*args, **kwargs)\n",
    "        self.num_tasks = num_tasks\n",
    "        self.sparsity = sparsity\n",
    "        self.scores = nn.ParameterList(\n",
    "            [\n",
    "                nn.Parameter(mask_init(self))\n",
    "                for _ in range(num_tasks)\n",
    "            ]\n",
    "        )\n",
    "        \n",
    "        # Keep weights untrained\n",
    "        self.weight.requires_grad = False\n",
    "        signed_constant(self)\n",
    "    \n",
    "    @torch.no_grad()\n",
    "    def cache_masks(self):\n",
    "        self.register_buffer(\n",
    "            \"stacked\",\n",
    "            torch.stack(\n",
    "                [\n",
    "                    GetSubnet.apply(self.scores[j], self.sparsity)\n",
    "                    for j in range(self.num_tasks)\n",
    "                ]\n",
    "            ),\n",
    "        )\n",
    "\n",
    "    def forward(self, x):\n",
    "        if self.task < 0:\n",
    "            # Superimposed forward pass\n",
    "            alpha_weights = self.alphas[: self.num_tasks_learned]\n",
    "            idxs = (alpha_weights > 0).squeeze().view(self.num_tasks_learned)\n",
    "            if len(idxs.shape) == 0:\n",
    "                idxs = idxs.view(1)\n",
    "            subnet = (\n",
    "                alpha_weights[idxs]\n",
    "                * self.stacked[: self.num_tasks_learned][idxs]\n",
    "            ).sum(dim=0)\n",
    "        else:\n",
    "            # Subnet forward pass (given task info in self.task)\n",
    "            subnet = GetSubnet.apply(self.scores[self.task], self.sparsity)\n",
    "        w = self.weight * subnet\n",
    "        x = F.linear(x, w, self.bias)\n",
    "        return x\n",
    "\n",
    "\n",
    "    def __repr__(self):\n",
    "        return f\"MultitaskMaskLinear({self.shape()})\""
   ]
  },
  {
   "cell_type": "code",
   "execution_count": 4,
   "metadata": {},
   "outputs": [],
   "source": [
    "class BasisMultitaskMaskLinear(nn.Linear):\n",
    "    def __init__(self, *args, num_tasks=1, num_seed_tasks_learned=1, start_at_optimal=True, sparsity=0.5, **kwargs):\n",
    "        super().__init__(*args, **kwargs)\n",
    "        assert num_tasks >= num_seed_tasks_learned, \"Seed tasks cannot be more than total tasks!\"\n",
    "        self.num_tasks = num_tasks\n",
    "        self.num_seed_tasks_learned = num_seed_tasks_learned\n",
    "        self.sparsity = sparsity\n",
    "        self.scores = nn.ParameterList(\n",
    "            [\n",
    "                nn.Parameter(mask_init(self))\n",
    "                for _ in range(num_tasks)\n",
    "            ]\n",
    "        )\n",
    "        self.task = -1\n",
    "        \n",
    "        # Keep weights untrained\n",
    "        self.weight.requires_grad = False\n",
    "        for s in self.scores:\n",
    "            s.requires_grad = False\n",
    "        self.scores.requires_grad = False\n",
    "        if start_at_optimal:\n",
    "            self.basis_alphas = nn.ParameterList(\n",
    "                [\n",
    "                    nn.Parameter(torch.eye(self.num_seed_tasks_learned)[i])\n",
    "                    for i in range(self.num_seed_tasks_learned)\n",
    "                ]\n",
    "                +\n",
    "                [\n",
    "                    nn.Parameter(torch.ones(self.num_seed_tasks_learned)/self.num_seed_tasks_learned)\n",
    "                    for _ in range(self.num_seed_tasks_learned, self.num_tasks)\n",
    "                ]\n",
    "            )\n",
    "        else:\n",
    "            self.basis_alphas = nn.ParameterList(\n",
    "                [\n",
    "                    nn.Parameter(torch.ones(self.num_seed_tasks_learned)/self.num_seed_tasks_learned)\n",
    "                    for _ in range(self.num_tasks)\n",
    "                ]\n",
    "            )\n",
    "        \n",
    "        signed_constant(self)\n",
    "    \n",
    "    @torch.no_grad()\n",
    "    def cache_masks(self):\n",
    "        self.register_buffer(\n",
    "            \"stacked\",\n",
    "            torch.stack(\n",
    "                [\n",
    "                    GetSubnet.apply(self.scores[j], self.sparsity)\n",
    "                    for j in range(self.num_tasks)\n",
    "                ]\n",
    "            ),\n",
    "        )\n",
    "\n",
    "    def forward(self, x):\n",
    "        if self.task < 0:\n",
    "            raise NotImplemented(\"Need task identity at inference time.\")\n",
    "        else:\n",
    "            # Subnet forward pass (given task info in self.task)\n",
    "            subnet = self.stacked[: self.num_seed_tasks_learned][0]\n",
    "            task_alpha = self.basis_alphas[self.task]\n",
    "            w = self.weight * subnet * task_alpha[0]\n",
    "            for i in range(1, self.num_seed_tasks_learned):\n",
    "                subnet = self.stacked[: self.num_seed_tasks_learned][i]\n",
    "                w += self.weight * subnet * task_alpha[i]\n",
    "        x = F.linear(x, w, self.bias)\n",
    "        return x\n",
    "\n",
    "\n",
    "    def __repr__(self):\n",
    "        return f\"BasisMultitaskMaskLinear({self.shape()})\""
   ]
  },
  {
   "cell_type": "code",
   "execution_count": 5,
   "metadata": {},
   "outputs": [],
   "source": [
    "class BasisMultitaskMaskLinearFrozen(nn.Linear):\n",
    "    def __init__(self, *args, num_tasks=1, num_seed_tasks_learned=1, start_at_optimal=True, sparsity=0.5, **kwargs):\n",
    "        super().__init__(*args, **kwargs)\n",
    "        assert num_tasks >= num_seed_tasks_learned, \"Seed tasks cannot be more than total tasks!\"\n",
    "        self.num_tasks = num_tasks\n",
    "        self.sparsity = sparsity\n",
    "        self.num_seed_tasks_learned = num_seed_tasks_learned\n",
    "        self.scores = nn.ParameterList(\n",
    "            [\n",
    "                nn.Parameter(mask_init(self))\n",
    "                for _ in range(num_tasks)\n",
    "            ]\n",
    "        )\n",
    "        self.task = -1\n",
    "        \n",
    "        # Keep weights untrained\n",
    "        self.weight.requires_grad = False\n",
    "        for s in self.scores:\n",
    "            s.requires_grad = False\n",
    "        self.scores.requires_grad = False\n",
    "        if start_at_optimal:\n",
    "            self.basis_alphas = nn.ParameterList(\n",
    "                [\n",
    "                    nn.Parameter(torch.eye(self.num_seed_tasks_learned)[i])\n",
    "                    for i in range(self.num_seed_tasks_learned)\n",
    "                ]\n",
    "                +\n",
    "                [\n",
    "                    nn.Parameter(torch.ones(self.num_seed_tasks_learned)/self.num_seed_tasks_learned)\n",
    "                    for _ in range(self.num_seed_tasks_learned, self.num_tasks)\n",
    "                ]\n",
    "            )\n",
    "        else:\n",
    "            self.basis_alphas = nn.ParameterList(\n",
    "                [\n",
    "                    nn.Parameter(torch.ones(self.num_seed_tasks_learned)/self.num_seed_tasks_learned)\n",
    "                    for _ in range(self.num_tasks)\n",
    "                ]\n",
    "            )\n",
    "        for a in self.basis_alphas:\n",
    "            a.requires_grad = False\n",
    "        self.basis_alphas.requires_grad = False\n",
    "        \n",
    "        signed_constant(self)\n",
    "    \n",
    "    @torch.no_grad()\n",
    "    def cache_masks(self):\n",
    "        self.register_buffer(\n",
    "            \"stacked\",\n",
    "            torch.stack(\n",
    "                [\n",
    "                    GetSubnet.apply(self.scores[j], self.sparsity)\n",
    "                    for j in range(self.num_tasks)\n",
    "                ]\n",
    "            ),\n",
    "        )\n",
    "\n",
    "    def forward(self, x):\n",
    "        if self.task < 0:\n",
    "            raise NotImplemented(\"Need task identity at inference time.\")\n",
    "        else:\n",
    "            # Subnet forward pass (given task info in self.task)\n",
    "            subnet = self.stacked[: self.num_seed_tasks_learned][0]\n",
    "            task_alpha = self.basis_alphas[self.task]\n",
    "            w = self.weight * subnet * task_alpha[0]\n",
    "            for i in range(1, self.num_seed_tasks_learned):\n",
    "                subnet = self.stacked[: self.num_seed_tasks_learned][i]\n",
    "                w += self.weight * subnet * task_alpha[i]\n",
    "        x = F.linear(x, w, self.bias)\n",
    "        return x\n",
    "\n",
    "\n",
    "    def __repr__(self):\n",
    "        return f\"BasisMultitaskMaskLinearFrozen({self.shape()})\""
   ]
  },
  {
   "cell_type": "code",
   "execution_count": 6,
   "metadata": {},
   "outputs": [],
   "source": [
    "ValidConvs = [\n",
    "    MultitaskMaskLinear,\n",
    "    BasisMultitaskMaskLinear,\n",
    "    BasisMultitaskMaskLinearFrozen,\n",
    "]\n",
    "\n",
    "def isoftype(m, cls_lst):\n",
    "    return any([isinstance(m, c) for c in cls_lst])"
   ]
  },
  {
   "cell_type": "code",
   "execution_count": 7,
   "metadata": {},
   "outputs": [],
   "source": [
    "# Utility functions\n",
    "def set_model_task(model, task, verbose=True):\n",
    "    for n, m in model.named_modules():\n",
    "        if isoftype(m, ValidConvs):\n",
    "            if verbose:\n",
    "                print(f\"=> Set task of {n} to {task}\")\n",
    "            m.task = task\n",
    "\n",
    "def cache_masks(model):\n",
    "    for n, m in model.named_modules():\n",
    "        if isoftype(m, ValidConvs):\n",
    "            print(f\"=> Caching mask state for {n}\")\n",
    "            m.cache_masks()\n",
    "\n",
    "def set_num_tasks_learned(model, num_tasks_learned):\n",
    "    for n, m in model.named_modules():\n",
    "        if isoftype(m, ValidConvs):\n",
    "            print(f\"=> Setting learned tasks of {n} to {num_tasks_learned}\")\n",
    "            m.num_tasks_learned = num_tasks_learned\n",
    "\n",
    "def set_alphas(model, alphas, verbose=True):\n",
    "    for n, m in model.named_modules():\n",
    "        if isoftype(m, ValidConvs):\n",
    "            if verbose:\n",
    "                print(f\"=> Setting alphas for {n}\")\n",
    "            m.alphas = alphas"
   ]
  },
  {
   "cell_type": "markdown",
   "metadata": {},
   "source": [
    "## Model\n",
    "\n",
    "For simplicity we use a simple 3-layer fully connected neural network. Note that you can make any neural by replacing a standard layer with its corresponding mask layer."
   ]
  },
  {
   "cell_type": "code",
   "execution_count": 8,
   "metadata": {},
   "outputs": [],
   "source": [
    "# Multitask Model, a simple fully connected model in this case\n",
    "class MultitaskFC(nn.Module):\n",
    "    def __init__(self, hidden_size, num_tasks, sparsity):\n",
    "        super().__init__()\n",
    "        self.model = nn.Sequential(\n",
    "            MultitaskMaskLinear(\n",
    "                784,\n",
    "                hidden_size,\n",
    "                num_tasks=num_tasks,\n",
    "                sparsity=sparsity,\n",
    "                bias=False\n",
    "            ),\n",
    "            nn.ReLU(),\n",
    "            MultitaskMaskLinear(\n",
    "                hidden_size,\n",
    "                hidden_size,\n",
    "                num_tasks=num_tasks,\n",
    "                sparsity=sparsity,\n",
    "                bias=False\n",
    "            ),\n",
    "            nn.ReLU(),\n",
    "            MultitaskMaskLinear(\n",
    "                hidden_size,\n",
    "                100,\n",
    "                num_tasks=num_tasks,\n",
    "                sparsity=sparsity,\n",
    "                bias=False\n",
    "            )\n",
    "        )\n",
    "    \n",
    "    def forward(self, x):\n",
    "        return self.model(x.flatten(1))"
   ]
  },
  {
   "cell_type": "code",
   "execution_count": 9,
   "metadata": {},
   "outputs": [],
   "source": [
    "# Multitask Model, a simple fully connected model in this case\n",
    "class BasisMultitaskFC(nn.Module):\n",
    "    def __init__(self, hidden_size, num_tasks, num_seed_tasks_learned, sparsity, start_at_optimal=True):\n",
    "        super().__init__()\n",
    "        self.model = nn.Sequential(\n",
    "            BasisMultitaskMaskLinear(\n",
    "                784,\n",
    "                hidden_size,\n",
    "                num_tasks=num_tasks,\n",
    "                num_seed_tasks_learned=num_seed_tasks_learned,\n",
    "                start_at_optimal=start_at_optimal,\n",
    "                sparsity=sparsity,\n",
    "                bias=False\n",
    "            ),\n",
    "            nn.ReLU(),\n",
    "            BasisMultitaskMaskLinear(\n",
    "                hidden_size,\n",
    "                hidden_size,\n",
    "                num_tasks=num_tasks,\n",
    "                num_seed_tasks_learned=num_seed_tasks_learned,\n",
    "                start_at_optimal=start_at_optimal,\n",
    "                sparsity=sparsity,\n",
    "                bias=False\n",
    "            ),\n",
    "            nn.ReLU(),\n",
    "            BasisMultitaskMaskLinear(\n",
    "                hidden_size,\n",
    "                100,\n",
    "                num_tasks=num_tasks,\n",
    "                num_seed_tasks_learned=num_seed_tasks_learned,\n",
    "                start_at_optimal=start_at_optimal,\n",
    "                sparsity=sparsity,\n",
    "                bias=False\n",
    "            )\n",
    "        )\n",
    "    \n",
    "    def forward(self, x):\n",
    "        return self.model(x.flatten(1))"
   ]
  },
  {
   "cell_type": "code",
   "execution_count": 10,
   "metadata": {},
   "outputs": [],
   "source": [
    "class BasisHiddenOnlyMultitaskFC(nn.Module):\n",
    "    def __init__(self, hidden_size, num_tasks, num_seed_tasks_learned, sparsity, start_at_optimal=True):\n",
    "        super().__init__()\n",
    "        self.model = nn.Sequential(\n",
    "            BasisMultitaskMaskLinear(\n",
    "                784,\n",
    "                hidden_size,\n",
    "                num_tasks=num_tasks,\n",
    "                num_seed_tasks_learned=num_seed_tasks_learned,\n",
    "                start_at_optimal=start_at_optimal,\n",
    "                sparsity=sparsity,\n",
    "                bias=False\n",
    "            ),\n",
    "            nn.ReLU(),\n",
    "            BasisMultitaskMaskLinear(\n",
    "                hidden_size,\n",
    "                hidden_size,\n",
    "                num_tasks=num_tasks,\n",
    "                num_seed_tasks_learned=num_seed_tasks_learned,\n",
    "                start_at_optimal=start_at_optimal,\n",
    "                sparsity=sparsity,\n",
    "                bias=False\n",
    "            ),\n",
    "            nn.ReLU(),\n",
    "            MultitaskMaskLinear(\n",
    "                hidden_size,\n",
    "                100,\n",
    "                num_tasks=num_tasks,\n",
    "                sparsity=sparsity,\n",
    "                bias=False\n",
    "            )\n",
    "        )\n",
    "    \n",
    "    def forward(self, x):\n",
    "        return self.model(x.flatten(1))"
   ]
  },
  {
   "cell_type": "code",
   "execution_count": 11,
   "metadata": {},
   "outputs": [],
   "source": [
    "class BasisHiddenOnlyFrozenMultitaskFC(nn.Module):\n",
    "    def __init__(self, hidden_size, num_tasks, num_seed_tasks_learned, sparsity, start_at_optimal=True):\n",
    "        super().__init__()\n",
    "        self.model = nn.Sequential(\n",
    "            BasisMultitaskMaskLinearFrozen(\n",
    "                784,\n",
    "                hidden_size,\n",
    "                num_tasks=num_tasks,\n",
    "                num_seed_tasks_learned=num_seed_tasks_learned,\n",
    "                start_at_optimal=start_at_optimal,\n",
    "                sparsity=sparsity,\n",
    "                bias=False\n",
    "            ),\n",
    "            nn.ReLU(),\n",
    "            BasisMultitaskMaskLinearFrozen(\n",
    "                hidden_size,\n",
    "                hidden_size,\n",
    "                num_tasks=num_tasks,\n",
    "                num_seed_tasks_learned=num_seed_tasks_learned,\n",
    "                start_at_optimal=start_at_optimal,\n",
    "                sparsity=sparsity,\n",
    "                bias=False\n",
    "            ),\n",
    "            nn.ReLU(),\n",
    "            MultitaskMaskLinear(\n",
    "                hidden_size,\n",
    "                100,\n",
    "                num_tasks=num_tasks,\n",
    "                sparsity=sparsity,\n",
    "                bias=False\n",
    "            )\n",
    "        )\n",
    "    \n",
    "    def forward(self, x):\n",
    "        return self.model(x.flatten(1))"
   ]
  },
  {
   "cell_type": "markdown",
   "metadata": {},
   "source": [
    "## Dataset \n",
    "\n",
    "Our \"base\" dataset is MNIST. Each task is a random permutation of the pixels of MNIST. Namely, given a dataset $\\{(x_i, y_i)\\}_i$ for each task $t$, we take a random permutation $S^t\\in S_{784}$ and construct a dataset $\\{(S^t(x_i), y_i)\\}_i$. \n",
    "\n",
    "Below we show this process and an example of a particular task. `MNISTPerm` uses an update task method to generate a particular sub-task. To assure these splits are reproducible, `MNISTPerm` takes a `seed` argument. In our paper we evaluate on seeds 0 through 4."
   ]
  },
  {
   "cell_type": "code",
   "execution_count": 12,
   "metadata": {
    "scrolled": true,
    "tags": []
   },
   "outputs": [
    {
     "data": {
      "image/png": "[encoded data removed]",
      "text/plain": [
       "<PIL.Image.Image image mode=RGB size=493x269 at 0x7FC34DD67A90>"
      ]
     },
     "execution_count": 12,
     "metadata": {},
     "output_type": "execute_result"
    }
   ],
   "source": [
    "class MNISTPerm:\n",
    "    class permute(object):\n",
    "        def __call__(self, tensor):\n",
    "            out = tensor.flatten()\n",
    "            out = out[self.perm]\n",
    "            return out.view(1, 28, 28)\n",
    "\n",
    "        def __repr__(self):\n",
    "            return self.__class__.__name__\n",
    "\n",
    "    def __init__(self, seed=0):\n",
    "        super(MNISTPerm, self).__init__()\n",
    "        \n",
    "        data_root = \"mnist\"\n",
    "        self.permuter = self.permute()\n",
    "        self.seed = seed\n",
    "        train_dataset = torchvision.datasets.MNIST(\n",
    "            data_root,\n",
    "            train=True,\n",
    "            download=True,\n",
    "            transform=torchvision.transforms.Compose(\n",
    "                [\n",
    "                    torchvision.transforms.ToTensor(),\n",
    "                    torchvision.transforms.Normalize((0.1307,), (0.3081,)),\n",
    "                    self.permuter,\n",
    "                ]\n",
    "            ),\n",
    "        )\n",
    "\n",
    "        # Data loading code\n",
    "        self.train_loader = torch.utils.data.DataLoader(\n",
    "            train_dataset, batch_size=128, shuffle=True\n",
    "        )\n",
    "        self.val_loader = torch.utils.data.DataLoader(\n",
    "            torchvision.datasets.MNIST(\n",
    "                data_root,\n",
    "                train=False,\n",
    "                transform=torchvision.transforms.Compose(\n",
    "                    [\n",
    "                        torchvision.transforms.ToTensor(),\n",
    "                        torchvision.transforms.Normalize((0.1307,), (0.3081,)),\n",
    "                        self.permuter,\n",
    "                    ]\n",
    "                ),\n",
    "            ),\n",
    "            batch_size=128,\n",
    "            shuffle=False,\n",
    "        )\n",
    "\n",
    "    def update_task(self, i):\n",
    "        np.random.seed(i + self.seed)\n",
    "        self.permuter.__setattr__(\"perm\", np.random.permutation(784))\n",
    "    \n",
    "    def unpermute(self):\n",
    "        self.permuter.__setattr__(\"perm\", np.arange(784))\n",
    "\n",
    "mnist = MNISTPerm()\n",
    "\n",
    "# Showing some example images from MNISTPerm\n",
    "mnist.unpermute()\n",
    "batch, labels = next(iter(mnist.val_loader))\n",
    "\n",
    "mnist.update_task(0)\n",
    "task0, labels = next(iter(mnist.val_loader))\n",
    "\n",
    "torchvision.transforms.ToPILImage()(\n",
    "    torchvision.utils.make_grid(\n",
    "        torch.cat([batch, task0], dim=-1)[:64],\n",
    "        normalize=True,\n",
    "        padding=5,\n",
    "        pad_value=0.2\n",
    "    )\n",
    ")"
   ]
  },
  {
   "cell_type": "markdown",
   "metadata": {},
   "source": [
    "### Simple train and evaluation loops for classification"
   ]
  },
  {
   "cell_type": "code",
   "execution_count": 13,
   "metadata": {},
   "outputs": [],
   "source": [
    "# Finding supermasks per task\n",
    "\n",
    "def train(model, trainloader, optimizer, epoch):\n",
    "    model.train()\n",
    "\n",
    "    criterion = nn.CrossEntropyLoss()\n",
    "    num_correct = 0\n",
    "    total_seen = 0\n",
    "    for i, (batch, labels) in tqdm(\n",
    "        enumerate(trainloader),\n",
    "        ascii=True,\n",
    "        total=len(trainloader)\n",
    "    ):\n",
    "        logits = model(batch)\n",
    "        loss = criterion(logits, labels)\n",
    "\n",
    "        optimizer.zero_grad()\n",
    "        loss.backward()\n",
    "        optimizer.step()\n",
    "\n",
    "        if i % 20 == 0:\n",
    "            predictions = logits.argmax(dim=-1)\n",
    "            num_correct += (predictions == labels).float().sum()\n",
    "            total_seen += logits.size(0) \n",
    "            tqdm.write(\n",
    "                (f\"e{epoch} {i+1}/{len(trainloader)}\"\n",
    "                f\" => Loss {loss.item():0.4f}, \"\n",
    "                f\"Acc@1 {(num_correct / total_seen):0.4f}\"),\n",
    "                end=\"\\r\"\n",
    "            )\n",
    "\n",
    "\n",
    "@torch.no_grad()\n",
    "def evaluate(model, val_loader, epoch):\n",
    "    model.eval()\n",
    "    num_correct = 0\n",
    "    total_seen = 0\n",
    "    for batch, labels in tqdm(\n",
    "        val_loader,\n",
    "        ascii=True,\n",
    "        total=len(val_loader)\n",
    "    ):\n",
    "        logits = model(batch)\n",
    "        predictions = logits.argmax(dim=-1)\n",
    "        num_correct += (predictions == labels).float().sum()\n",
    "        total_seen += logits.size(0) \n",
    "    \n",
    "\n",
    "    tqdm.write(\n",
    "        f\"Val Perf after {epoch + 1} epochs \"\n",
    "        f\"Acc@1 {(num_correct / total_seen):0.4f}\", \n",
    "    )\n",
    "    return num_correct / total_seen\n",
    "\n"
   ]
  },
  {
   "cell_type": "markdown",
   "metadata": {},
   "source": [
    "For any scenario where task ID is given during train time, we simply train each supermask independently, one per task. We make use of our utility function `set_model_task` to do this. We use 5 tasks for demonstration purposes. Feel free to increase `num_tasks` in the following cell. In our paper we use as many as 2500 tasks with no drop in performance for either task inference or validation accuracy."
   ]
  },
  {
   "cell_type": "code",
   "execution_count": 14,
   "metadata": {},
   "outputs": [],
   "source": [
    "performance_map = {}"
   ]
  },
  {
   "cell_type": "code",
   "execution_count": 15,
   "metadata": {
    "scrolled": true
   },
   "outputs": [
    {
     "name": "stdout",
     "output_type": "stream",
     "text": [
      "Training for task 0\n",
      "=> Set task of model.0 to 0\n",
      "=> Set task of model.2 to 0\n",
      "=> Set task of model.4 to 0\n"
     ]
    },
    {
     "data": {
      "application/vnd.jupyter.widget-view+json": {
       "model_id": "6232d93035434b3185c7e549a92db491",
       "version_major": 2,
       "version_minor": 0
      },
      "text/plain": [
       "  0%|          | 0/469 [00:00<?, ?it/s]"
      ]
     },
     "metadata": {},
     "output_type": "display_data"
    },
    {
     "name": "stdout",
     "output_type": "stream",
     "text": [
      "Validation => Loss 0.3245, Acc@1 0.8503\n",
      "============\n"
     ]
    },
    {
     "data": {
      "application/vnd.jupyter.widget-view+json": {
       "model_id": "a6cc8fac99f14753b6e0e9e0f5dbee91",
       "version_major": 2,
       "version_minor": 0
      },
      "text/plain": [
       "  0%|          | 0/79 [00:00<?, ?it/s]"
      ]
     },
     "metadata": {},
     "output_type": "display_data"
    },
    {
     "name": "stdout",
     "output_type": "stream",
     "text": [
      "Val Perf after 1 epochs Acc@1 0.9123\n",
      "=> Caching mask state for model.0\n",
      "=> Caching mask state for model.2\n",
      "=> Caching mask state for model.4\n",
      "\n",
      "=> Setting learned tasks of model.0 to 1\n",
      "=> Setting learned tasks of model.2 to 1\n",
      "=> Setting learned tasks of model.4 to 1\n",
      "\n",
      "Training for task 1\n",
      "=> Set task of model.0 to 1\n",
      "=> Set task of model.2 to 1\n",
      "=> Set task of model.4 to 1\n"
     ]
    },
    {
     "data": {
      "application/vnd.jupyter.widget-view+json": {
       "model_id": "65b0cdeeeada4c6d93b480cebaf423d1",
       "version_major": 2,
       "version_minor": 0
      },
      "text/plain": [
       "  0%|          | 0/469 [00:00<?, ?it/s]"
      ]
     },
     "metadata": {},
     "output_type": "display_data"
    },
    {
     "name": "stdout",
     "output_type": "stream",
     "text": [
      "Validation => Loss 0.3080, Acc@1 0.8350\n",
      "============\n"
     ]
    },
    {
     "data": {
      "application/vnd.jupyter.widget-view+json": {
       "model_id": "1b683c462bf24045a333ee76d65cc8ec",
       "version_major": 2,
       "version_minor": 0
      },
      "text/plain": [
       "  0%|          | 0/79 [00:00<?, ?it/s]"
      ]
     },
     "metadata": {},
     "output_type": "display_data"
    },
    {
     "name": "stdout",
     "output_type": "stream",
     "text": [
      "Val Perf after 1 epochs Acc@1 0.9123\n",
      "=> Caching mask state for model.0\n",
      "=> Caching mask state for model.2\n",
      "=> Caching mask state for model.4\n",
      "\n",
      "=> Setting learned tasks of model.0 to 2\n",
      "=> Setting learned tasks of model.2 to 2\n",
      "=> Setting learned tasks of model.4 to 2\n",
      "\n",
      "Training for task 2\n",
      "=> Set task of model.0 to 2\n",
      "=> Set task of model.2 to 2\n",
      "=> Set task of model.4 to 2\n"
     ]
    },
    {
     "data": {
      "application/vnd.jupyter.widget-view+json": {
       "model_id": "c4150fd6153a425b9122f4c098af3ee5",
       "version_major": 2,
       "version_minor": 0
      },
      "text/plain": [
       "  0%|          | 0/469 [00:00<?, ?it/s]"
      ]
     },
     "metadata": {},
     "output_type": "display_data"
    },
    {
     "name": "stdout",
     "output_type": "stream",
     "text": [
      "Validation => Loss 0.3267, Acc@1 0.8408\n",
      "============\n"
     ]
    },
    {
     "data": {
      "application/vnd.jupyter.widget-view+json": {
       "model_id": "d6a1869d4a8846e5938196efd2353d06",
       "version_major": 2,
       "version_minor": 0
      },
      "text/plain": [
       "  0%|          | 0/79 [00:00<?, ?it/s]"
      ]
     },
     "metadata": {},
     "output_type": "display_data"
    },
    {
     "name": "stdout",
     "output_type": "stream",
     "text": [
      "Val Perf after 1 epochs Acc@1 0.9141\n",
      "=> Caching mask state for model.0\n",
      "=> Caching mask state for model.2\n",
      "=> Caching mask state for model.4\n",
      "\n",
      "=> Setting learned tasks of model.0 to 3\n",
      "=> Setting learned tasks of model.2 to 3\n",
      "=> Setting learned tasks of model.4 to 3\n",
      "\n",
      "Training for task 3\n",
      "=> Set task of model.0 to 3\n",
      "=> Set task of model.2 to 3\n",
      "=> Set task of model.4 to 3\n"
     ]
    },
    {
     "data": {
      "application/vnd.jupyter.widget-view+json": {
       "model_id": "17a8aa86826648d79a49b2189ff452a5",
       "version_major": 2,
       "version_minor": 0
      },
      "text/plain": [
       "  0%|          | 0/469 [00:00<?, ?it/s]"
      ]
     },
     "metadata": {},
     "output_type": "display_data"
    },
    {
     "name": "stdout",
     "output_type": "stream",
     "text": [
      "Validation => Loss 0.3086, Acc@1 0.8369\n",
      "============\n"
     ]
    },
    {
     "data": {
      "application/vnd.jupyter.widget-view+json": {
       "model_id": "420b712a2d4a4dc58e76963c8ad03a97",
       "version_major": 2,
       "version_minor": 0
      },
      "text/plain": [
       "  0%|          | 0/79 [00:00<?, ?it/s]"
      ]
     },
     "metadata": {},
     "output_type": "display_data"
    },
    {
     "name": "stdout",
     "output_type": "stream",
     "text": [
      "Val Perf after 1 epochs Acc@1 0.9144\n",
      "=> Caching mask state for model.0\n",
      "=> Caching mask state for model.2\n",
      "=> Caching mask state for model.4\n",
      "\n",
      "=> Setting learned tasks of model.0 to 4\n",
      "=> Setting learned tasks of model.2 to 4\n",
      "=> Setting learned tasks of model.4 to 4\n",
      "\n",
      "Training for task 4\n",
      "=> Set task of model.0 to 4\n",
      "=> Set task of model.2 to 4\n",
      "=> Set task of model.4 to 4\n"
     ]
    },
    {
     "data": {
      "application/vnd.jupyter.widget-view+json": {
       "model_id": "c1a56f2b322f4a20861c177e0788218c",
       "version_major": 2,
       "version_minor": 0
      },
      "text/plain": [
       "  0%|          | 0/469 [00:00<?, ?it/s]"
      ]
     },
     "metadata": {},
     "output_type": "display_data"
    },
    {
     "name": "stdout",
     "output_type": "stream",
     "text": [
      "Validation => Loss 0.2680, Acc@1 0.8392\n",
      "============\n"
     ]
    },
    {
     "data": {
      "application/vnd.jupyter.widget-view+json": {
       "model_id": "6b8f25a76c11418aab22b5f05e45bb9d",
       "version_major": 2,
       "version_minor": 0
      },
      "text/plain": [
       "  0%|          | 0/79 [00:00<?, ?it/s]"
      ]
     },
     "metadata": {},
     "output_type": "display_data"
    },
    {
     "name": "stdout",
     "output_type": "stream",
     "text": [
      "Val Perf after 1 epochs Acc@1 0.9112\n",
      "=> Caching mask state for model.0\n",
      "=> Caching mask state for model.2\n",
      "=> Caching mask state for model.4\n",
      "\n",
      "=> Setting learned tasks of model.0 to 5\n",
      "=> Setting learned tasks of model.2 to 5\n",
      "=> Setting learned tasks of model.4 to 5\n",
      "\n",
      "Training for task 5\n",
      "=> Set task of model.0 to 5\n",
      "=> Set task of model.2 to 5\n",
      "=> Set task of model.4 to 5\n"
     ]
    },
    {
     "data": {
      "application/vnd.jupyter.widget-view+json": {
       "model_id": "cd9b209433a84534bc72ccf581f53938",
       "version_major": 2,
       "version_minor": 0
      },
      "text/plain": [
       "  0%|          | 0/469 [00:00<?, ?it/s]"
      ]
     },
     "metadata": {},
     "output_type": "display_data"
    },
    {
     "name": "stdout",
     "output_type": "stream",
     "text": [
      "Validation => Loss 0.3552, Acc@1 0.8206\n",
      "============\n"
     ]
    },
    {
     "data": {
      "application/vnd.jupyter.widget-view+json": {
       "model_id": "432a4269abbb491a92b98d9c90eb839a",
       "version_major": 2,
       "version_minor": 0
      },
      "text/plain": [
       "  0%|          | 0/79 [00:00<?, ?it/s]"
      ]
     },
     "metadata": {},
     "output_type": "display_data"
    },
    {
     "name": "stdout",
     "output_type": "stream",
     "text": [
      "Val Perf after 1 epochs Acc@1 0.9153\n",
      "=> Caching mask state for model.0\n",
      "=> Caching mask state for model.2\n",
      "=> Caching mask state for model.4\n",
      "\n",
      "=> Setting learned tasks of model.0 to 6\n",
      "=> Setting learned tasks of model.2 to 6\n",
      "=> Setting learned tasks of model.4 to 6\n",
      "\n",
      "Training for task 6\n",
      "=> Set task of model.0 to 6\n",
      "=> Set task of model.2 to 6\n",
      "=> Set task of model.4 to 6\n"
     ]
    },
    {
     "data": {
      "application/vnd.jupyter.widget-view+json": {
       "model_id": "57040ff235f84570a699606489cb09b1",
       "version_major": 2,
       "version_minor": 0
      },
      "text/plain": [
       "  0%|          | 0/469 [00:00<?, ?it/s]"
      ]
     },
     "metadata": {},
     "output_type": "display_data"
    },
    {
     "name": "stdout",
     "output_type": "stream",
     "text": [
      "Validation => Loss 0.3098, Acc@1 0.8379\n",
      "============\n"
     ]
    },
    {
     "data": {
      "application/vnd.jupyter.widget-view+json": {
       "model_id": "02b1e2f9948e4658b8e9754fd5e187e4",
       "version_major": 2,
       "version_minor": 0
      },
      "text/plain": [
       "  0%|          | 0/79 [00:00<?, ?it/s]"
      ]
     },
     "metadata": {},
     "output_type": "display_data"
    },
    {
     "name": "stdout",
     "output_type": "stream",
     "text": [
      "Val Perf after 1 epochs Acc@1 0.9124\n",
      "=> Caching mask state for model.0\n",
      "=> Caching mask state for model.2\n",
      "=> Caching mask state for model.4\n",
      "\n",
      "=> Setting learned tasks of model.0 to 7\n",
      "=> Setting learned tasks of model.2 to 7\n",
      "=> Setting learned tasks of model.4 to 7\n",
      "\n",
      "Training for task 7\n",
      "=> Set task of model.0 to 7\n",
      "=> Set task of model.2 to 7\n",
      "=> Set task of model.4 to 7\n"
     ]
    },
    {
     "data": {
      "application/vnd.jupyter.widget-view+json": {
       "model_id": "9770bdcf41064314af8913be886774d3",
       "version_major": 2,
       "version_minor": 0
      },
      "text/plain": [
       "  0%|          | 0/469 [00:00<?, ?it/s]"
      ]
     },
     "metadata": {},
     "output_type": "display_data"
    },
    {
     "name": "stdout",
     "output_type": "stream",
     "text": [
      "Validation => Loss 0.2037, Acc@1 0.8356\n",
      "============\n"
     ]
    },
    {
     "data": {
      "application/vnd.jupyter.widget-view+json": {
       "model_id": "3567286d2d244262bbea3f96e0e5fa4b",
       "version_major": 2,
       "version_minor": 0
      },
      "text/plain": [
       "  0%|          | 0/79 [00:00<?, ?it/s]"
      ]
     },
     "metadata": {},
     "output_type": "display_data"
    },
    {
     "name": "stdout",
     "output_type": "stream",
     "text": [
      "Val Perf after 1 epochs Acc@1 0.9112\n",
      "=> Caching mask state for model.0\n",
      "=> Caching mask state for model.2\n",
      "=> Caching mask state for model.4\n",
      "\n",
      "=> Setting learned tasks of model.0 to 8\n",
      "=> Setting learned tasks of model.2 to 8\n",
      "=> Setting learned tasks of model.4 to 8\n",
      "\n",
      "Training for task 8\n",
      "=> Set task of model.0 to 8\n",
      "=> Set task of model.2 to 8\n",
      "=> Set task of model.4 to 8\n"
     ]
    },
    {
     "data": {
      "application/vnd.jupyter.widget-view+json": {
       "model_id": "c09d105144334465a11b9349493f5320",
       "version_major": 2,
       "version_minor": 0
      },
      "text/plain": [
       "  0%|          | 0/469 [00:00<?, ?it/s]"
      ]
     },
     "metadata": {},
     "output_type": "display_data"
    },
    {
     "name": "stdout",
     "output_type": "stream",
     "text": [
      "Validation => Loss 0.3045, Acc@1 0.8467\n",
      "============\n"
     ]
    },
    {
     "data": {
      "application/vnd.jupyter.widget-view+json": {
       "model_id": "a9a3acbddc98403790be7696607bea82",
       "version_major": 2,
       "version_minor": 0
      },
      "text/plain": [
       "  0%|          | 0/79 [00:00<?, ?it/s]"
      ]
     },
     "metadata": {},
     "output_type": "display_data"
    },
    {
     "name": "stdout",
     "output_type": "stream",
     "text": [
      "Val Perf after 1 epochs Acc@1 0.9154\n",
      "=> Caching mask state for model.0\n",
      "=> Caching mask state for model.2\n",
      "=> Caching mask state for model.4\n",
      "\n",
      "=> Setting learned tasks of model.0 to 9\n",
      "=> Setting learned tasks of model.2 to 9\n",
      "=> Setting learned tasks of model.4 to 9\n",
      "\n",
      "Training for task 9\n",
      "=> Set task of model.0 to 9\n",
      "=> Set task of model.2 to 9\n",
      "=> Set task of model.4 to 9\n"
     ]
    },
    {
     "data": {
      "application/vnd.jupyter.widget-view+json": {
       "model_id": "353a8dc37e1448bda101f0c16debb2c3",
       "version_major": 2,
       "version_minor": 0
      },
      "text/plain": [
       "  0%|          | 0/469 [00:00<?, ?it/s]"
      ]
     },
     "metadata": {},
     "output_type": "display_data"
    },
    {
     "name": "stdout",
     "output_type": "stream",
     "text": [
      "Validation => Loss 0.3043, Acc@1 0.8395\n",
      "============\n"
     ]
    },
    {
     "data": {
      "application/vnd.jupyter.widget-view+json": {
       "model_id": "d06492f5973348aa8f8e158f672428ea",
       "version_major": 2,
       "version_minor": 0
      },
      "text/plain": [
       "  0%|          | 0/79 [00:00<?, ?it/s]"
      ]
     },
     "metadata": {},
     "output_type": "display_data"
    },
    {
     "name": "stdout",
     "output_type": "stream",
     "text": [
      "Val Perf after 1 epochs Acc@1 0.9143\n",
      "=> Caching mask state for model.0\n",
      "=> Caching mask state for model.2\n",
      "=> Caching mask state for model.4\n",
      "\n",
      "=> Setting learned tasks of model.0 to 10\n",
      "=> Setting learned tasks of model.2 to 10\n",
      "=> Setting learned tasks of model.4 to 10\n",
      "\n",
      "Training for task 10\n",
      "=> Set task of model.0 to 10\n",
      "=> Set task of model.2 to 10\n",
      "=> Set task of model.4 to 10\n"
     ]
    },
    {
     "data": {
      "application/vnd.jupyter.widget-view+json": {
       "model_id": "6b41245572814ff69ee551042afb22d8",
       "version_major": 2,
       "version_minor": 0
      },
      "text/plain": [
       "  0%|          | 0/469 [00:00<?, ?it/s]"
      ]
     },
     "metadata": {},
     "output_type": "display_data"
    },
    {
     "name": "stdout",
     "output_type": "stream",
     "text": [
      "Validation => Loss 0.2701, Acc@1 0.8340\n",
      "============\n"
     ]
    },
    {
     "data": {
      "application/vnd.jupyter.widget-view+json": {
       "model_id": "fd4b9a4cadd5451eb5e39ab76ea3daa0",
       "version_major": 2,
       "version_minor": 0
      },
      "text/plain": [
       "  0%|          | 0/79 [00:00<?, ?it/s]"
      ]
     },
     "metadata": {},
     "output_type": "display_data"
    },
    {
     "name": "stdout",
     "output_type": "stream",
     "text": [
      "Val Perf after 1 epochs Acc@1 0.9144\n",
      "=> Caching mask state for model.0\n",
      "=> Caching mask state for model.2\n",
      "=> Caching mask state for model.4\n",
      "\n",
      "=> Setting learned tasks of model.0 to 11\n",
      "=> Setting learned tasks of model.2 to 11\n",
      "=> Setting learned tasks of model.4 to 11\n",
      "\n",
      "Training for task 11\n",
      "=> Set task of model.0 to 11\n",
      "=> Set task of model.2 to 11\n",
      "=> Set task of model.4 to 11\n"
     ]
    },
    {
     "data": {
      "application/vnd.jupyter.widget-view+json": {
       "model_id": "52c2a4f4016d4bdbbf7b905df3029702",
       "version_major": 2,
       "version_minor": 0
      },
      "text/plain": [
       "  0%|          | 0/469 [00:00<?, ?it/s]"
      ]
     },
     "metadata": {},
     "output_type": "display_data"
    },
    {
     "name": "stdout",
     "output_type": "stream",
     "text": [
      "Validation => Loss 0.3938, Acc@1 0.8333\n",
      "============\n"
     ]
    },
    {
     "data": {
      "application/vnd.jupyter.widget-view+json": {
       "model_id": "b0ebe094f6394e5aaea20870d670597d",
       "version_major": 2,
       "version_minor": 0
      },
      "text/plain": [
       "  0%|          | 0/79 [00:00<?, ?it/s]"
      ]
     },
     "metadata": {},
     "output_type": "display_data"
    },
    {
     "name": "stdout",
     "output_type": "stream",
     "text": [
      "Val Perf after 1 epochs Acc@1 0.9104\n",
      "=> Caching mask state for model.0\n",
      "=> Caching mask state for model.2\n",
      "=> Caching mask state for model.4\n",
      "\n",
      "=> Setting learned tasks of model.0 to 12\n",
      "=> Setting learned tasks of model.2 to 12\n",
      "=> Setting learned tasks of model.4 to 12\n",
      "\n",
      "Training for task 12\n",
      "=> Set task of model.0 to 12\n",
      "=> Set task of model.2 to 12\n",
      "=> Set task of model.4 to 12\n"
     ]
    },
    {
     "data": {
      "application/vnd.jupyter.widget-view+json": {
       "model_id": "db3744e2c18443c69bd687bcb737ff82",
       "version_major": 2,
       "version_minor": 0
      },
      "text/plain": [
       "  0%|          | 0/469 [00:00<?, ?it/s]"
      ]
     },
     "metadata": {},
     "output_type": "display_data"
    },
    {
     "name": "stdout",
     "output_type": "stream",
     "text": [
      "Validation => Loss 0.4059, Acc@1 0.8382\n",
      "============\n"
     ]
    },
    {
     "data": {
      "application/vnd.jupyter.widget-view+json": {
       "model_id": "7f51b6692f1f408ab4696dfa24431979",
       "version_major": 2,
       "version_minor": 0
      },
      "text/plain": [
       "  0%|          | 0/79 [00:00<?, ?it/s]"
      ]
     },
     "metadata": {},
     "output_type": "display_data"
    },
    {
     "name": "stdout",
     "output_type": "stream",
     "text": [
      "Val Perf after 1 epochs Acc@1 0.9161\n",
      "=> Caching mask state for model.0\n",
      "=> Caching mask state for model.2\n",
      "=> Caching mask state for model.4\n",
      "\n",
      "=> Setting learned tasks of model.0 to 13\n",
      "=> Setting learned tasks of model.2 to 13\n",
      "=> Setting learned tasks of model.4 to 13\n",
      "\n",
      "Training for task 13\n",
      "=> Set task of model.0 to 13\n",
      "=> Set task of model.2 to 13\n",
      "=> Set task of model.4 to 13\n"
     ]
    },
    {
     "data": {
      "application/vnd.jupyter.widget-view+json": {
       "model_id": "770d3d1e51f442b78530d829e7f1a369",
       "version_major": 2,
       "version_minor": 0
      },
      "text/plain": [
       "  0%|          | 0/469 [00:00<?, ?it/s]"
      ]
     },
     "metadata": {},
     "output_type": "display_data"
    },
    {
     "name": "stdout",
     "output_type": "stream",
     "text": [
      "Validation => Loss 0.3382, Acc@1 0.8431\n",
      "============\n"
     ]
    },
    {
     "data": {
      "application/vnd.jupyter.widget-view+json": {
       "model_id": "254bb8d3e1c547efaddc7b08521c5b33",
       "version_major": 2,
       "version_minor": 0
      },
      "text/plain": [
       "  0%|          | 0/79 [00:00<?, ?it/s]"
      ]
     },
     "metadata": {},
     "output_type": "display_data"
    },
    {
     "name": "stdout",
     "output_type": "stream",
     "text": [
      "Val Perf after 1 epochs Acc@1 0.9120\n",
      "=> Caching mask state for model.0\n",
      "=> Caching mask state for model.2\n",
      "=> Caching mask state for model.4\n",
      "\n",
      "=> Setting learned tasks of model.0 to 14\n",
      "=> Setting learned tasks of model.2 to 14\n",
      "=> Setting learned tasks of model.4 to 14\n",
      "\n",
      "Training for task 14\n",
      "=> Set task of model.0 to 14\n",
      "=> Set task of model.2 to 14\n",
      "=> Set task of model.4 to 14\n"
     ]
    },
    {
     "data": {
      "application/vnd.jupyter.widget-view+json": {
       "model_id": "8513dc1d85964c89b3fd24914ee911af",
       "version_major": 2,
       "version_minor": 0
      },
      "text/plain": [
       "  0%|          | 0/469 [00:00<?, ?it/s]"
      ]
     },
     "metadata": {},
     "output_type": "display_data"
    },
    {
     "name": "stdout",
     "output_type": "stream",
     "text": [
      "Validation => Loss 0.3124, Acc@1 0.8337\n",
      "============\n"
     ]
    },
    {
     "data": {
      "application/vnd.jupyter.widget-view+json": {
       "model_id": "94d9dda920e3447580f4cd655914a25a",
       "version_major": 2,
       "version_minor": 0
      },
      "text/plain": [
       "  0%|          | 0/79 [00:00<?, ?it/s]"
      ]
     },
     "metadata": {},
     "output_type": "display_data"
    },
    {
     "name": "stdout",
     "output_type": "stream",
     "text": [
      "Val Perf after 1 epochs Acc@1 0.9123\n",
      "=> Caching mask state for model.0\n",
      "=> Caching mask state for model.2\n",
      "=> Caching mask state for model.4\n",
      "\n",
      "=> Setting learned tasks of model.0 to 15\n",
      "=> Setting learned tasks of model.2 to 15\n",
      "=> Setting learned tasks of model.4 to 15\n",
      "\n",
      "Training for task 15\n",
      "=> Set task of model.0 to 15\n",
      "=> Set task of model.2 to 15\n",
      "=> Set task of model.4 to 15\n"
     ]
    },
    {
     "data": {
      "application/vnd.jupyter.widget-view+json": {
       "model_id": "d818b81e2ab94ad1a0e9098604ee65a1",
       "version_major": 2,
       "version_minor": 0
      },
      "text/plain": [
       "  0%|          | 0/469 [00:00<?, ?it/s]"
      ]
     },
     "metadata": {},
     "output_type": "display_data"
    },
    {
     "name": "stdout",
     "output_type": "stream",
     "text": [
      "Validation => Loss 0.4136, Acc@1 0.8327\n",
      "============\n"
     ]
    },
    {
     "data": {
      "application/vnd.jupyter.widget-view+json": {
       "model_id": "195e846296034d6bb6e071a7eae6e12c",
       "version_major": 2,
       "version_minor": 0
      },
      "text/plain": [
       "  0%|          | 0/79 [00:00<?, ?it/s]"
      ]
     },
     "metadata": {},
     "output_type": "display_data"
    },
    {
     "name": "stdout",
     "output_type": "stream",
     "text": [
      "Val Perf after 1 epochs Acc@1 0.9117\n",
      "=> Caching mask state for model.0\n",
      "=> Caching mask state for model.2\n",
      "=> Caching mask state for model.4\n",
      "\n",
      "=> Setting learned tasks of model.0 to 16\n",
      "=> Setting learned tasks of model.2 to 16\n",
      "=> Setting learned tasks of model.4 to 16\n",
      "\n",
      "Training for task 16\n",
      "=> Set task of model.0 to 16\n",
      "=> Set task of model.2 to 16\n",
      "=> Set task of model.4 to 16\n"
     ]
    },
    {
     "data": {
      "application/vnd.jupyter.widget-view+json": {
       "model_id": "0acc2b1000744542aee637964ed0d187",
       "version_major": 2,
       "version_minor": 0
      },
      "text/plain": [
       "  0%|          | 0/469 [00:00<?, ?it/s]"
      ]
     },
     "metadata": {},
     "output_type": "display_data"
    },
    {
     "name": "stdout",
     "output_type": "stream",
     "text": [
      "Validation => Loss 0.2937, Acc@1 0.8356\n",
      "============\n"
     ]
    },
    {
     "data": {
      "application/vnd.jupyter.widget-view+json": {
       "model_id": "52f091c8a114464988daf31d3fa16292",
       "version_major": 2,
       "version_minor": 0
      },
      "text/plain": [
       "  0%|          | 0/79 [00:00<?, ?it/s]"
      ]
     },
     "metadata": {},
     "output_type": "display_data"
    },
    {
     "name": "stdout",
     "output_type": "stream",
     "text": [
      "Val Perf after 1 epochs Acc@1 0.9107\n",
      "=> Caching mask state for model.0\n",
      "=> Caching mask state for model.2\n",
      "=> Caching mask state for model.4\n",
      "\n",
      "=> Setting learned tasks of model.0 to 17\n",
      "=> Setting learned tasks of model.2 to 17\n",
      "=> Setting learned tasks of model.4 to 17\n",
      "\n",
      "Training for task 17\n",
      "=> Set task of model.0 to 17\n",
      "=> Set task of model.2 to 17\n",
      "=> Set task of model.4 to 17\n"
     ]
    },
    {
     "data": {
      "application/vnd.jupyter.widget-view+json": {
       "model_id": "4162db5c546e49c8993bd0071f06454c",
       "version_major": 2,
       "version_minor": 0
      },
      "text/plain": [
       "  0%|          | 0/469 [00:00<?, ?it/s]"
      ]
     },
     "metadata": {},
     "output_type": "display_data"
    },
    {
     "name": "stdout",
     "output_type": "stream",
     "text": [
      "Validation => Loss 0.3734, Acc@1 0.8320\n",
      "============\n"
     ]
    },
    {
     "data": {
      "application/vnd.jupyter.widget-view+json": {
       "model_id": "4cb445af057040238d47dce01176609e",
       "version_major": 2,
       "version_minor": 0
      },
      "text/plain": [
       "  0%|          | 0/79 [00:00<?, ?it/s]"
      ]
     },
     "metadata": {},
     "output_type": "display_data"
    },
    {
     "name": "stdout",
     "output_type": "stream",
     "text": [
      "Val Perf after 1 epochs Acc@1 0.9143\n",
      "=> Caching mask state for model.0\n",
      "=> Caching mask state for model.2\n",
      "=> Caching mask state for model.4\n",
      "\n",
      "=> Setting learned tasks of model.0 to 18\n",
      "=> Setting learned tasks of model.2 to 18\n",
      "=> Setting learned tasks of model.4 to 18\n",
      "\n",
      "Training for task 18\n",
      "=> Set task of model.0 to 18\n",
      "=> Set task of model.2 to 18\n",
      "=> Set task of model.4 to 18\n"
     ]
    },
    {
     "data": {
      "application/vnd.jupyter.widget-view+json": {
       "model_id": "10ba5900941c4511a15ed9f3c245d917",
       "version_major": 2,
       "version_minor": 0
      },
      "text/plain": [
       "  0%|          | 0/469 [00:00<?, ?it/s]"
      ]
     },
     "metadata": {},
     "output_type": "display_data"
    },
    {
     "name": "stdout",
     "output_type": "stream",
     "text": [
      "Validation => Loss 0.3568, Acc@1 0.8369\n",
      "============\n"
     ]
    },
    {
     "data": {
      "application/vnd.jupyter.widget-view+json": {
       "model_id": "e73e41c492684945aae395d6cb3e6d8d",
       "version_major": 2,
       "version_minor": 0
      },
      "text/plain": [
       "  0%|          | 0/79 [00:00<?, ?it/s]"
      ]
     },
     "metadata": {},
     "output_type": "display_data"
    },
    {
     "name": "stdout",
     "output_type": "stream",
     "text": [
      "Val Perf after 1 epochs Acc@1 0.9106\n",
      "=> Caching mask state for model.0\n",
      "=> Caching mask state for model.2\n",
      "=> Caching mask state for model.4\n",
      "\n",
      "=> Setting learned tasks of model.0 to 19\n",
      "=> Setting learned tasks of model.2 to 19\n",
      "=> Setting learned tasks of model.4 to 19\n",
      "\n",
      "Training for task 19\n",
      "=> Set task of model.0 to 19\n",
      "=> Set task of model.2 to 19\n",
      "=> Set task of model.4 to 19\n"
     ]
    },
    {
     "data": {
      "application/vnd.jupyter.widget-view+json": {
       "model_id": "28fe7bcd3c5540ae867e3c69619bced1",
       "version_major": 2,
       "version_minor": 0
      },
      "text/plain": [
       "  0%|          | 0/469 [00:00<?, ?it/s]"
      ]
     },
     "metadata": {},
     "output_type": "display_data"
    },
    {
     "name": "stdout",
     "output_type": "stream",
     "text": [
      "Validation => Loss 0.3247, Acc@1 0.8424\n",
      "============\n"
     ]
    },
    {
     "data": {
      "application/vnd.jupyter.widget-view+json": {
       "model_id": "4fcb780d83c34a9ab336dcc8a888395b",
       "version_major": 2,
       "version_minor": 0
      },
      "text/plain": [
       "  0%|          | 0/79 [00:00<?, ?it/s]"
      ]
     },
     "metadata": {},
     "output_type": "display_data"
    },
    {
     "name": "stdout",
     "output_type": "stream",
     "text": [
      "Val Perf after 1 epochs Acc@1 0.9048\n",
      "=> Caching mask state for model.0\n",
      "=> Caching mask state for model.2\n",
      "=> Caching mask state for model.4\n",
      "\n",
      "=> Setting learned tasks of model.0 to 20\n",
      "=> Setting learned tasks of model.2 to 20\n",
      "=> Setting learned tasks of model.4 to 20\n",
      "\n",
      "Training for task 20\n",
      "=> Set task of model.0 to 20\n",
      "=> Set task of model.2 to 20\n",
      "=> Set task of model.4 to 20\n"
     ]
    },
    {
     "data": {
      "application/vnd.jupyter.widget-view+json": {
       "model_id": "11c30f17ae6b420da71b2e7be6358856",
       "version_major": 2,
       "version_minor": 0
      },
      "text/plain": [
       "  0%|          | 0/469 [00:00<?, ?it/s]"
      ]
     },
     "metadata": {},
     "output_type": "display_data"
    },
    {
     "name": "stdout",
     "output_type": "stream",
     "text": [
      "Validation => Loss 0.4031, Acc@1 0.8411\n",
      "============\n"
     ]
    },
    {
     "data": {
      "application/vnd.jupyter.widget-view+json": {
       "model_id": "67c7a2751bc84d01baa368c4c863eda9",
       "version_major": 2,
       "version_minor": 0
      },
      "text/plain": [
       "  0%|          | 0/79 [00:00<?, ?it/s]"
      ]
     },
     "metadata": {},
     "output_type": "display_data"
    },
    {
     "name": "stdout",
     "output_type": "stream",
     "text": [
      "Val Perf after 1 epochs Acc@1 0.9109\n",
      "=> Caching mask state for model.0\n",
      "=> Caching mask state for model.2\n",
      "=> Caching mask state for model.4\n",
      "\n",
      "=> Setting learned tasks of model.0 to 21\n",
      "=> Setting learned tasks of model.2 to 21\n",
      "=> Setting learned tasks of model.4 to 21\n",
      "\n",
      "Training for task 21\n",
      "=> Set task of model.0 to 21\n",
      "=> Set task of model.2 to 21\n",
      "=> Set task of model.4 to 21\n"
     ]
    },
    {
     "data": {
      "application/vnd.jupyter.widget-view+json": {
       "model_id": "2bd551c7d9404f7bbf6824cb10da3bf7",
       "version_major": 2,
       "version_minor": 0
      },
      "text/plain": [
       "  0%|          | 0/469 [00:00<?, ?it/s]"
      ]
     },
     "metadata": {},
     "output_type": "display_data"
    },
    {
     "name": "stdout",
     "output_type": "stream",
     "text": [
      "Validation => Loss 0.2920, Acc@1 0.8473\n",
      "============\n"
     ]
    },
    {
     "data": {
      "application/vnd.jupyter.widget-view+json": {
       "model_id": "0fe4a3c0cece46e1b3c136cd16cf190a",
       "version_major": 2,
       "version_minor": 0
      },
      "text/plain": [
       "  0%|          | 0/79 [00:00<?, ?it/s]"
      ]
     },
     "metadata": {},
     "output_type": "display_data"
    },
    {
     "name": "stdout",
     "output_type": "stream",
     "text": [
      "Val Perf after 1 epochs Acc@1 0.9132\n",
      "=> Caching mask state for model.0\n",
      "=> Caching mask state for model.2\n",
      "=> Caching mask state for model.4\n",
      "\n",
      "=> Setting learned tasks of model.0 to 22\n",
      "=> Setting learned tasks of model.2 to 22\n",
      "=> Setting learned tasks of model.4 to 22\n",
      "\n",
      "Training for task 22\n",
      "=> Set task of model.0 to 22\n",
      "=> Set task of model.2 to 22\n",
      "=> Set task of model.4 to 22\n"
     ]
    },
    {
     "data": {
      "application/vnd.jupyter.widget-view+json": {
       "model_id": "ecb60af3daad4a49b8a68fb99a2a5fab",
       "version_major": 2,
       "version_minor": 0
      },
      "text/plain": [
       "  0%|          | 0/469 [00:00<?, ?it/s]"
      ]
     },
     "metadata": {},
     "output_type": "display_data"
    },
    {
     "name": "stdout",
     "output_type": "stream",
     "text": [
      "Validation => Loss 0.2815, Acc@1 0.8447\n",
      "============\n"
     ]
    },
    {
     "data": {
      "application/vnd.jupyter.widget-view+json": {
       "model_id": "fc9805606a60454598c50c40c5683b4c",
       "version_major": 2,
       "version_minor": 0
      },
      "text/plain": [
       "  0%|          | 0/79 [00:00<?, ?it/s]"
      ]
     },
     "metadata": {},
     "output_type": "display_data"
    },
    {
     "name": "stdout",
     "output_type": "stream",
     "text": [
      "Val Perf after 1 epochs Acc@1 0.9125\n",
      "=> Caching mask state for model.0\n",
      "=> Caching mask state for model.2\n",
      "=> Caching mask state for model.4\n",
      "\n",
      "=> Setting learned tasks of model.0 to 23\n",
      "=> Setting learned tasks of model.2 to 23\n",
      "=> Setting learned tasks of model.4 to 23\n",
      "\n",
      "Training for task 23\n",
      "=> Set task of model.0 to 23\n",
      "=> Set task of model.2 to 23\n",
      "=> Set task of model.4 to 23\n"
     ]
    },
    {
     "data": {
      "application/vnd.jupyter.widget-view+json": {
       "model_id": "9aaad04985464149a2a21c922b32bb6f",
       "version_major": 2,
       "version_minor": 0
      },
      "text/plain": [
       "  0%|          | 0/469 [00:00<?, ?it/s]"
      ]
     },
     "metadata": {},
     "output_type": "display_data"
    },
    {
     "name": "stdout",
     "output_type": "stream",
     "text": [
      "Validation => Loss 0.2969, Acc@1 0.8464\n",
      "============\n"
     ]
    },
    {
     "data": {
      "application/vnd.jupyter.widget-view+json": {
       "model_id": "37df95f4cef6435a88237b98ab93af7b",
       "version_major": 2,
       "version_minor": 0
      },
      "text/plain": [
       "  0%|          | 0/79 [00:00<?, ?it/s]"
      ]
     },
     "metadata": {},
     "output_type": "display_data"
    },
    {
     "name": "stdout",
     "output_type": "stream",
     "text": [
      "Val Perf after 1 epochs Acc@1 0.9118\n",
      "=> Caching mask state for model.0\n",
      "=> Caching mask state for model.2\n",
      "=> Caching mask state for model.4\n",
      "\n",
      "=> Setting learned tasks of model.0 to 24\n",
      "=> Setting learned tasks of model.2 to 24\n",
      "=> Setting learned tasks of model.4 to 24\n",
      "\n",
      "Training for task 24\n",
      "=> Set task of model.0 to 24\n",
      "=> Set task of model.2 to 24\n",
      "=> Set task of model.4 to 24\n"
     ]
    },
    {
     "data": {
      "application/vnd.jupyter.widget-view+json": {
       "model_id": "847ac505ec8b43d68dd87b8863035c51",
       "version_major": 2,
       "version_minor": 0
      },
      "text/plain": [
       "  0%|          | 0/469 [00:00<?, ?it/s]"
      ]
     },
     "metadata": {},
     "output_type": "display_data"
    },
    {
     "name": "stdout",
     "output_type": "stream",
     "text": [
      "Validation => Loss 0.4044, Acc@1 0.8385\n",
      "============\n"
     ]
    },
    {
     "data": {
      "application/vnd.jupyter.widget-view+json": {
       "model_id": "656d19b9f5a8460c8868eded57cd27a1",
       "version_major": 2,
       "version_minor": 0
      },
      "text/plain": [
       "  0%|          | 0/79 [00:00<?, ?it/s]"
      ]
     },
     "metadata": {},
     "output_type": "display_data"
    },
    {
     "name": "stdout",
     "output_type": "stream",
     "text": [
      "Val Perf after 1 epochs Acc@1 0.9130\n",
      "=> Caching mask state for model.0\n",
      "=> Caching mask state for model.2\n",
      "=> Caching mask state for model.4\n",
      "\n",
      "=> Setting learned tasks of model.0 to 25\n",
      "=> Setting learned tasks of model.2 to 25\n",
      "=> Setting learned tasks of model.4 to 25\n",
      "\n",
      "Training for task 25\n",
      "=> Set task of model.0 to 25\n",
      "=> Set task of model.2 to 25\n",
      "=> Set task of model.4 to 25\n"
     ]
    },
    {
     "data": {
      "application/vnd.jupyter.widget-view+json": {
       "model_id": "d5974ba4cbee4038b33388e9eb1f2d66",
       "version_major": 2,
       "version_minor": 0
      },
      "text/plain": [
       "  0%|          | 0/469 [00:00<?, ?it/s]"
      ]
     },
     "metadata": {},
     "output_type": "display_data"
    },
    {
     "name": "stdout",
     "output_type": "stream",
     "text": [
      "Validation => Loss 0.4173, Acc@1 0.8369\n",
      "============\n"
     ]
    },
    {
     "data": {
      "application/vnd.jupyter.widget-view+json": {
       "model_id": "248ec065c33c4d9288f4f675bbcc710d",
       "version_major": 2,
       "version_minor": 0
      },
      "text/plain": [
       "  0%|          | 0/79 [00:00<?, ?it/s]"
      ]
     },
     "metadata": {},
     "output_type": "display_data"
    },
    {
     "name": "stdout",
     "output_type": "stream",
     "text": [
      "Val Perf after 1 epochs Acc@1 0.9115\n",
      "=> Caching mask state for model.0\n",
      "=> Caching mask state for model.2\n",
      "=> Caching mask state for model.4\n",
      "\n",
      "=> Setting learned tasks of model.0 to 26\n",
      "=> Setting learned tasks of model.2 to 26\n",
      "=> Setting learned tasks of model.4 to 26\n",
      "\n",
      "Training for task 26\n",
      "=> Set task of model.0 to 26\n",
      "=> Set task of model.2 to 26\n",
      "=> Set task of model.4 to 26\n"
     ]
    },
    {
     "data": {
      "application/vnd.jupyter.widget-view+json": {
       "model_id": "f583695cd5c34e5f819e1d142b9d6315",
       "version_major": 2,
       "version_minor": 0
      },
      "text/plain": [
       "  0%|          | 0/469 [00:00<?, ?it/s]"
      ]
     },
     "metadata": {},
     "output_type": "display_data"
    },
    {
     "name": "stdout",
     "output_type": "stream",
     "text": [
      "Validation => Loss 0.3948, Acc@1 0.8366\n",
      "============\n"
     ]
    },
    {
     "data": {
      "application/vnd.jupyter.widget-view+json": {
       "model_id": "473742784fc34a0c873e5249a16eb694",
       "version_major": 2,
       "version_minor": 0
      },
      "text/plain": [
       "  0%|          | 0/79 [00:00<?, ?it/s]"
      ]
     },
     "metadata": {},
     "output_type": "display_data"
    },
    {
     "name": "stdout",
     "output_type": "stream",
     "text": [
      "Val Perf after 1 epochs Acc@1 0.9131\n",
      "=> Caching mask state for model.0\n",
      "=> Caching mask state for model.2\n",
      "=> Caching mask state for model.4\n",
      "\n",
      "=> Setting learned tasks of model.0 to 27\n",
      "=> Setting learned tasks of model.2 to 27\n",
      "=> Setting learned tasks of model.4 to 27\n",
      "\n",
      "Training for task 27\n",
      "=> Set task of model.0 to 27\n",
      "=> Set task of model.2 to 27\n",
      "=> Set task of model.4 to 27\n"
     ]
    },
    {
     "data": {
      "application/vnd.jupyter.widget-view+json": {
       "model_id": "75226c792a874c86bd39e829d6b04b7f",
       "version_major": 2,
       "version_minor": 0
      },
      "text/plain": [
       "  0%|          | 0/469 [00:00<?, ?it/s]"
      ]
     },
     "metadata": {},
     "output_type": "display_data"
    },
    {
     "name": "stdout",
     "output_type": "stream",
     "text": [
      "Validation => Loss 0.2693, Acc@1 0.8434\n",
      "============\n"
     ]
    },
    {
     "data": {
      "application/vnd.jupyter.widget-view+json": {
       "model_id": "2561a99f1c424a7abab7525f737429fc",
       "version_major": 2,
       "version_minor": 0
      },
      "text/plain": [
       "  0%|          | 0/79 [00:00<?, ?it/s]"
      ]
     },
     "metadata": {},
     "output_type": "display_data"
    },
    {
     "name": "stdout",
     "output_type": "stream",
     "text": [
      "Val Perf after 1 epochs Acc@1 0.9118\n",
      "=> Caching mask state for model.0\n",
      "=> Caching mask state for model.2\n",
      "=> Caching mask state for model.4\n",
      "\n",
      "=> Setting learned tasks of model.0 to 28\n",
      "=> Setting learned tasks of model.2 to 28\n",
      "=> Setting learned tasks of model.4 to 28\n",
      "\n",
      "Training for task 28\n",
      "=> Set task of model.0 to 28\n",
      "=> Set task of model.2 to 28\n",
      "=> Set task of model.4 to 28\n"
     ]
    },
    {
     "data": {
      "application/vnd.jupyter.widget-view+json": {
       "model_id": "a0cca6f00a814c2cb98d8918ec7935eb",
       "version_major": 2,
       "version_minor": 0
      },
      "text/plain": [
       "  0%|          | 0/469 [00:00<?, ?it/s]"
      ]
     },
     "metadata": {},
     "output_type": "display_data"
    },
    {
     "name": "stdout",
     "output_type": "stream",
     "text": [
      "Validation => Loss 0.2965, Acc@1 0.8340\n",
      "============\n"
     ]
    },
    {
     "data": {
      "application/vnd.jupyter.widget-view+json": {
       "model_id": "c7b77101f9b84ca19fb9829aa556210d",
       "version_major": 2,
       "version_minor": 0
      },
      "text/plain": [
       "  0%|          | 0/79 [00:00<?, ?it/s]"
      ]
     },
     "metadata": {},
     "output_type": "display_data"
    },
    {
     "name": "stdout",
     "output_type": "stream",
     "text": [
      "Val Perf after 1 epochs Acc@1 0.9121\n",
      "=> Caching mask state for model.0\n",
      "=> Caching mask state for model.2\n",
      "=> Caching mask state for model.4\n",
      "\n",
      "=> Setting learned tasks of model.0 to 29\n",
      "=> Setting learned tasks of model.2 to 29\n",
      "=> Setting learned tasks of model.4 to 29\n",
      "\n",
      "Training for task 29\n",
      "=> Set task of model.0 to 29\n",
      "=> Set task of model.2 to 29\n",
      "=> Set task of model.4 to 29\n"
     ]
    },
    {
     "data": {
      "application/vnd.jupyter.widget-view+json": {
       "model_id": "ccb408694b324b0caf844acdda2c9b76",
       "version_major": 2,
       "version_minor": 0
      },
      "text/plain": [
       "  0%|          | 0/469 [00:00<?, ?it/s]"
      ]
     },
     "metadata": {},
     "output_type": "display_data"
    },
    {
     "name": "stdout",
     "output_type": "stream",
     "text": [
      "Validation => Loss 0.3118, Acc@1 0.8382\n",
      "============\n"
     ]
    },
    {
     "data": {
      "application/vnd.jupyter.widget-view+json": {
       "model_id": "16f352a3e6224aedbe928bcd75ef466d",
       "version_major": 2,
       "version_minor": 0
      },
      "text/plain": [
       "  0%|          | 0/79 [00:00<?, ?it/s]"
      ]
     },
     "metadata": {},
     "output_type": "display_data"
    },
    {
     "name": "stdout",
     "output_type": "stream",
     "text": [
      "Val Perf after 1 epochs Acc@1 0.9135\n",
      "=> Caching mask state for model.0\n",
      "=> Caching mask state for model.2\n",
      "=> Caching mask state for model.4\n",
      "\n",
      "=> Setting learned tasks of model.0 to 30\n",
      "=> Setting learned tasks of model.2 to 30\n",
      "=> Setting learned tasks of model.4 to 30\n",
      "\n",
      "Training for task 30\n",
      "=> Set task of model.0 to 30\n",
      "=> Set task of model.2 to 30\n",
      "=> Set task of model.4 to 30\n"
     ]
    },
    {
     "data": {
      "application/vnd.jupyter.widget-view+json": {
       "model_id": "247a7760ee4e4631b8722e2c8863762b",
       "version_major": 2,
       "version_minor": 0
      },
      "text/plain": [
       "  0%|          | 0/469 [00:00<?, ?it/s]"
      ]
     },
     "metadata": {},
     "output_type": "display_data"
    },
    {
     "name": "stdout",
     "output_type": "stream",
     "text": [
      "Validation => Loss 0.2714, Acc@1 0.8330\n",
      "============\n"
     ]
    },
    {
     "data": {
      "application/vnd.jupyter.widget-view+json": {
       "model_id": "52c8c0a6264b43189d45c95d08e641c8",
       "version_major": 2,
       "version_minor": 0
      },
      "text/plain": [
       "  0%|          | 0/79 [00:00<?, ?it/s]"
      ]
     },
     "metadata": {},
     "output_type": "display_data"
    },
    {
     "name": "stdout",
     "output_type": "stream",
     "text": [
      "Val Perf after 1 epochs Acc@1 0.9107\n",
      "=> Caching mask state for model.0\n",
      "=> Caching mask state for model.2\n",
      "=> Caching mask state for model.4\n",
      "\n",
      "=> Setting learned tasks of model.0 to 31\n",
      "=> Setting learned tasks of model.2 to 31\n",
      "=> Setting learned tasks of model.4 to 31\n",
      "\n",
      "Training for task 31\n",
      "=> Set task of model.0 to 31\n",
      "=> Set task of model.2 to 31\n",
      "=> Set task of model.4 to 31\n"
     ]
    },
    {
     "data": {
      "application/vnd.jupyter.widget-view+json": {
       "model_id": "71ab5726faa940c79a2a7ff3d15bdd56",
       "version_major": 2,
       "version_minor": 0
      },
      "text/plain": [
       "  0%|          | 0/469 [00:00<?, ?it/s]"
      ]
     },
     "metadata": {},
     "output_type": "display_data"
    },
    {
     "name": "stdout",
     "output_type": "stream",
     "text": [
      "Validation => Loss 0.2569, Acc@1 0.8542\n",
      "============\n"
     ]
    },
    {
     "data": {
      "application/vnd.jupyter.widget-view+json": {
       "model_id": "7fdc016bf35a4cdf90ed717ad848b060",
       "version_major": 2,
       "version_minor": 0
      },
      "text/plain": [
       "  0%|          | 0/79 [00:00<?, ?it/s]"
      ]
     },
     "metadata": {},
     "output_type": "display_data"
    },
    {
     "name": "stdout",
     "output_type": "stream",
     "text": [
      "Val Perf after 1 epochs Acc@1 0.9081\n",
      "=> Caching mask state for model.0\n",
      "=> Caching mask state for model.2\n",
      "=> Caching mask state for model.4\n",
      "\n",
      "=> Setting learned tasks of model.0 to 32\n",
      "=> Setting learned tasks of model.2 to 32\n",
      "=> Setting learned tasks of model.4 to 32\n",
      "\n",
      "Training for task 32\n",
      "=> Set task of model.0 to 32\n",
      "=> Set task of model.2 to 32\n",
      "=> Set task of model.4 to 32\n"
     ]
    },
    {
     "data": {
      "application/vnd.jupyter.widget-view+json": {
       "model_id": "42f1a75bc2214faf8ab7d24d294d0919",
       "version_major": 2,
       "version_minor": 0
      },
      "text/plain": [
       "  0%|          | 0/469 [00:00<?, ?it/s]"
      ]
     },
     "metadata": {},
     "output_type": "display_data"
    },
    {
     "name": "stdout",
     "output_type": "stream",
     "text": [
      "Validation => Loss 0.4106, Acc@1 0.8366\n",
      "============\n"
     ]
    },
    {
     "data": {
      "application/vnd.jupyter.widget-view+json": {
       "model_id": "b8e4af1c8eb645eaa666c46ce50a61cf",
       "version_major": 2,
       "version_minor": 0
      },
      "text/plain": [
       "  0%|          | 0/79 [00:00<?, ?it/s]"
      ]
     },
     "metadata": {},
     "output_type": "display_data"
    },
    {
     "name": "stdout",
     "output_type": "stream",
     "text": [
      "Val Perf after 1 epochs Acc@1 0.9130\n",
      "=> Caching mask state for model.0\n",
      "=> Caching mask state for model.2\n",
      "=> Caching mask state for model.4\n",
      "\n",
      "=> Setting learned tasks of model.0 to 33\n",
      "=> Setting learned tasks of model.2 to 33\n",
      "=> Setting learned tasks of model.4 to 33\n",
      "\n",
      "Training for task 33\n",
      "=> Set task of model.0 to 33\n",
      "=> Set task of model.2 to 33\n",
      "=> Set task of model.4 to 33\n"
     ]
    },
    {
     "data": {
      "application/vnd.jupyter.widget-view+json": {
       "model_id": "b46c48ff9b1b4307bbb6cbfa265f635b",
       "version_major": 2,
       "version_minor": 0
      },
      "text/plain": [
       "  0%|          | 0/469 [00:00<?, ?it/s]"
      ]
     },
     "metadata": {},
     "output_type": "display_data"
    },
    {
     "name": "stdout",
     "output_type": "stream",
     "text": [
      "Validation => Loss 0.3629, Acc@1 0.8424\n",
      "============\n"
     ]
    },
    {
     "data": {
      "application/vnd.jupyter.widget-view+json": {
       "model_id": "9da199d5e70c46dcb9d0ee14a6c671b1",
       "version_major": 2,
       "version_minor": 0
      },
      "text/plain": [
       "  0%|          | 0/79 [00:00<?, ?it/s]"
      ]
     },
     "metadata": {},
     "output_type": "display_data"
    },
    {
     "name": "stdout",
     "output_type": "stream",
     "text": [
      "Val Perf after 1 epochs Acc@1 0.9117\n",
      "=> Caching mask state for model.0\n",
      "=> Caching mask state for model.2\n",
      "=> Caching mask state for model.4\n",
      "\n",
      "=> Setting learned tasks of model.0 to 34\n",
      "=> Setting learned tasks of model.2 to 34\n",
      "=> Setting learned tasks of model.4 to 34\n",
      "\n",
      "Training for task 34\n",
      "=> Set task of model.0 to 34\n",
      "=> Set task of model.2 to 34\n",
      "=> Set task of model.4 to 34\n"
     ]
    },
    {
     "data": {
      "application/vnd.jupyter.widget-view+json": {
       "model_id": "2828ca1cb5734b4ebb40ffa3a0a2661c",
       "version_major": 2,
       "version_minor": 0
      },
      "text/plain": [
       "  0%|          | 0/469 [00:00<?, ?it/s]"
      ]
     },
     "metadata": {},
     "output_type": "display_data"
    },
    {
     "name": "stdout",
     "output_type": "stream",
     "text": [
      "Validation => Loss 0.3691, Acc@1 0.8421\n",
      "============\n"
     ]
    },
    {
     "data": {
      "application/vnd.jupyter.widget-view+json": {
       "model_id": "a9d8f94d3d324f15a07492854c16f013",
       "version_major": 2,
       "version_minor": 0
      },
      "text/plain": [
       "  0%|          | 0/79 [00:00<?, ?it/s]"
      ]
     },
     "metadata": {},
     "output_type": "display_data"
    },
    {
     "name": "stdout",
     "output_type": "stream",
     "text": [
      "Val Perf after 1 epochs Acc@1 0.9147\n",
      "=> Caching mask state for model.0\n",
      "=> Caching mask state for model.2\n",
      "=> Caching mask state for model.4\n",
      "\n",
      "=> Setting learned tasks of model.0 to 35\n",
      "=> Setting learned tasks of model.2 to 35\n",
      "=> Setting learned tasks of model.4 to 35\n",
      "\n",
      "Training for task 35\n",
      "=> Set task of model.0 to 35\n",
      "=> Set task of model.2 to 35\n",
      "=> Set task of model.4 to 35\n"
     ]
    },
    {
     "data": {
      "application/vnd.jupyter.widget-view+json": {
       "model_id": "77e2cc0087ce48bcab08a007a5bb3f13",
       "version_major": 2,
       "version_minor": 0
      },
      "text/plain": [
       "  0%|          | 0/469 [00:00<?, ?it/s]"
      ]
     },
     "metadata": {},
     "output_type": "display_data"
    },
    {
     "name": "stdout",
     "output_type": "stream",
     "text": [
      "Validation => Loss 0.3246, Acc@1 0.8376\n",
      "============\n"
     ]
    },
    {
     "data": {
      "application/vnd.jupyter.widget-view+json": {
       "model_id": "93243869f1fa4ba884f2857e8725e76e",
       "version_major": 2,
       "version_minor": 0
      },
      "text/plain": [
       "  0%|          | 0/79 [00:00<?, ?it/s]"
      ]
     },
     "metadata": {},
     "output_type": "display_data"
    },
    {
     "name": "stdout",
     "output_type": "stream",
     "text": [
      "Val Perf after 1 epochs Acc@1 0.9117\n",
      "=> Caching mask state for model.0\n",
      "=> Caching mask state for model.2\n",
      "=> Caching mask state for model.4\n",
      "\n",
      "=> Setting learned tasks of model.0 to 36\n",
      "=> Setting learned tasks of model.2 to 36\n",
      "=> Setting learned tasks of model.4 to 36\n",
      "\n",
      "Training for task 36\n",
      "=> Set task of model.0 to 36\n",
      "=> Set task of model.2 to 36\n",
      "=> Set task of model.4 to 36\n"
     ]
    },
    {
     "data": {
      "application/vnd.jupyter.widget-view+json": {
       "model_id": "5eeb00685e724c04998751d24db865a6",
       "version_major": 2,
       "version_minor": 0
      },
      "text/plain": [
       "  0%|          | 0/469 [00:00<?, ?it/s]"
      ]
     },
     "metadata": {},
     "output_type": "display_data"
    },
    {
     "name": "stdout",
     "output_type": "stream",
     "text": [
      "Validation => Loss 0.2534, Acc@1 0.8320\n",
      "============\n"
     ]
    },
    {
     "data": {
      "application/vnd.jupyter.widget-view+json": {
       "model_id": "025d2af1c6934141a915d7e96cdc5f43",
       "version_major": 2,
       "version_minor": 0
      },
      "text/plain": [
       "  0%|          | 0/79 [00:00<?, ?it/s]"
      ]
     },
     "metadata": {},
     "output_type": "display_data"
    },
    {
     "name": "stdout",
     "output_type": "stream",
     "text": [
      "Val Perf after 1 epochs Acc@1 0.9124\n",
      "=> Caching mask state for model.0\n",
      "=> Caching mask state for model.2\n",
      "=> Caching mask state for model.4\n",
      "\n",
      "=> Setting learned tasks of model.0 to 37\n",
      "=> Setting learned tasks of model.2 to 37\n",
      "=> Setting learned tasks of model.4 to 37\n",
      "\n",
      "Training for task 37\n",
      "=> Set task of model.0 to 37\n",
      "=> Set task of model.2 to 37\n",
      "=> Set task of model.4 to 37\n"
     ]
    },
    {
     "data": {
      "application/vnd.jupyter.widget-view+json": {
       "model_id": "669e853dffbc4bb889820ab1a8216e8b",
       "version_major": 2,
       "version_minor": 0
      },
      "text/plain": [
       "  0%|          | 0/469 [00:00<?, ?it/s]"
      ]
     },
     "metadata": {},
     "output_type": "display_data"
    },
    {
     "name": "stdout",
     "output_type": "stream",
     "text": [
      "Validation => Loss 0.2380, Acc@1 0.8483\n",
      "============\n"
     ]
    },
    {
     "data": {
      "application/vnd.jupyter.widget-view+json": {
       "model_id": "78df17ec3813490582de6918766b7a43",
       "version_major": 2,
       "version_minor": 0
      },
      "text/plain": [
       "  0%|          | 0/79 [00:00<?, ?it/s]"
      ]
     },
     "metadata": {},
     "output_type": "display_data"
    },
    {
     "name": "stdout",
     "output_type": "stream",
     "text": [
      "Val Perf after 1 epochs Acc@1 0.9122\n",
      "=> Caching mask state for model.0\n",
      "=> Caching mask state for model.2\n",
      "=> Caching mask state for model.4\n",
      "\n",
      "=> Setting learned tasks of model.0 to 38\n",
      "=> Setting learned tasks of model.2 to 38\n",
      "=> Setting learned tasks of model.4 to 38\n",
      "\n",
      "Training for task 38\n",
      "=> Set task of model.0 to 38\n",
      "=> Set task of model.2 to 38\n",
      "=> Set task of model.4 to 38\n"
     ]
    },
    {
     "data": {
      "application/vnd.jupyter.widget-view+json": {
       "model_id": "4945f49d5c7145fd9f1e1bae2d277b9f",
       "version_major": 2,
       "version_minor": 0
      },
      "text/plain": [
       "  0%|          | 0/469 [00:00<?, ?it/s]"
      ]
     },
     "metadata": {},
     "output_type": "display_data"
    },
    {
     "name": "stdout",
     "output_type": "stream",
     "text": [
      "Validation => Loss 0.3894, Acc@1 0.8438\n",
      "============\n"
     ]
    },
    {
     "data": {
      "application/vnd.jupyter.widget-view+json": {
       "model_id": "87f1eac5785d403ba04888b3accf6f06",
       "version_major": 2,
       "version_minor": 0
      },
      "text/plain": [
       "  0%|          | 0/79 [00:00<?, ?it/s]"
      ]
     },
     "metadata": {},
     "output_type": "display_data"
    },
    {
     "name": "stdout",
     "output_type": "stream",
     "text": [
      "Val Perf after 1 epochs Acc@1 0.9070\n",
      "=> Caching mask state for model.0\n",
      "=> Caching mask state for model.2\n",
      "=> Caching mask state for model.4\n",
      "\n",
      "=> Setting learned tasks of model.0 to 39\n",
      "=> Setting learned tasks of model.2 to 39\n",
      "=> Setting learned tasks of model.4 to 39\n",
      "\n",
      "Training for task 39\n",
      "=> Set task of model.0 to 39\n",
      "=> Set task of model.2 to 39\n",
      "=> Set task of model.4 to 39\n"
     ]
    },
    {
     "data": {
      "application/vnd.jupyter.widget-view+json": {
       "model_id": "937f62480a7347f78893ca0381904c25",
       "version_major": 2,
       "version_minor": 0
      },
      "text/plain": [
       "  0%|          | 0/469 [00:00<?, ?it/s]"
      ]
     },
     "metadata": {},
     "output_type": "display_data"
    },
    {
     "name": "stdout",
     "output_type": "stream",
     "text": [
      "Validation => Loss 0.2793, Acc@1 0.8379\n",
      "============\n"
     ]
    },
    {
     "data": {
      "application/vnd.jupyter.widget-view+json": {
       "model_id": "9666f37032f94504ab1a49d1f3ab08dc",
       "version_major": 2,
       "version_minor": 0
      },
      "text/plain": [
       "  0%|          | 0/79 [00:00<?, ?it/s]"
      ]
     },
     "metadata": {},
     "output_type": "display_data"
    },
    {
     "name": "stdout",
     "output_type": "stream",
     "text": [
      "Val Perf after 1 epochs Acc@1 0.9134\n",
      "=> Caching mask state for model.0\n",
      "=> Caching mask state for model.2\n",
      "=> Caching mask state for model.4\n",
      "\n",
      "=> Setting learned tasks of model.0 to 40\n",
      "=> Setting learned tasks of model.2 to 40\n",
      "=> Setting learned tasks of model.4 to 40\n",
      "\n",
      "Training for task 40\n",
      "=> Set task of model.0 to 40\n",
      "=> Set task of model.2 to 40\n",
      "=> Set task of model.4 to 40\n"
     ]
    },
    {
     "data": {
      "application/vnd.jupyter.widget-view+json": {
       "model_id": "8f4132bb73b6403983361d3fc701bbfc",
       "version_major": 2,
       "version_minor": 0
      },
      "text/plain": [
       "  0%|          | 0/469 [00:00<?, ?it/s]"
      ]
     },
     "metadata": {},
     "output_type": "display_data"
    },
    {
     "name": "stdout",
     "output_type": "stream",
     "text": [
      "Validation => Loss 0.3157, Acc@1 0.8307\n",
      "============\n"
     ]
    },
    {
     "data": {
      "application/vnd.jupyter.widget-view+json": {
       "model_id": "07923f5ea4fb46ba8f629808a4d092f2",
       "version_major": 2,
       "version_minor": 0
      },
      "text/plain": [
       "  0%|          | 0/79 [00:00<?, ?it/s]"
      ]
     },
     "metadata": {},
     "output_type": "display_data"
    },
    {
     "name": "stdout",
     "output_type": "stream",
     "text": [
      "Val Perf after 1 epochs Acc@1 0.9108\n",
      "=> Caching mask state for model.0\n",
      "=> Caching mask state for model.2\n",
      "=> Caching mask state for model.4\n",
      "\n",
      "=> Setting learned tasks of model.0 to 41\n",
      "=> Setting learned tasks of model.2 to 41\n",
      "=> Setting learned tasks of model.4 to 41\n",
      "\n",
      "Training for task 41\n",
      "=> Set task of model.0 to 41\n",
      "=> Set task of model.2 to 41\n",
      "=> Set task of model.4 to 41\n"
     ]
    },
    {
     "data": {
      "application/vnd.jupyter.widget-view+json": {
       "model_id": "e7aa63c540da4863b951457ac46a1836",
       "version_major": 2,
       "version_minor": 0
      },
      "text/plain": [
       "  0%|          | 0/469 [00:00<?, ?it/s]"
      ]
     },
     "metadata": {},
     "output_type": "display_data"
    },
    {
     "name": "stdout",
     "output_type": "stream",
     "text": [
      "Validation => Loss 0.4216, Acc@1 0.8464\n",
      "============\n"
     ]
    },
    {
     "data": {
      "application/vnd.jupyter.widget-view+json": {
       "model_id": "5f9ddb4563aa47c286ba389b7a64d9fe",
       "version_major": 2,
       "version_minor": 0
      },
      "text/plain": [
       "  0%|          | 0/79 [00:00<?, ?it/s]"
      ]
     },
     "metadata": {},
     "output_type": "display_data"
    },
    {
     "name": "stdout",
     "output_type": "stream",
     "text": [
      "Val Perf after 1 epochs Acc@1 0.9113\n",
      "=> Caching mask state for model.0\n",
      "=> Caching mask state for model.2\n",
      "=> Caching mask state for model.4\n",
      "\n",
      "=> Setting learned tasks of model.0 to 42\n",
      "=> Setting learned tasks of model.2 to 42\n",
      "=> Setting learned tasks of model.4 to 42\n",
      "\n",
      "Training for task 42\n",
      "=> Set task of model.0 to 42\n",
      "=> Set task of model.2 to 42\n",
      "=> Set task of model.4 to 42\n"
     ]
    },
    {
     "data": {
      "application/vnd.jupyter.widget-view+json": {
       "model_id": "5a6756689961455e8011760fbc1dd39b",
       "version_major": 2,
       "version_minor": 0
      },
      "text/plain": [
       "  0%|          | 0/469 [00:00<?, ?it/s]"
      ]
     },
     "metadata": {},
     "output_type": "display_data"
    },
    {
     "name": "stdout",
     "output_type": "stream",
     "text": [
      "Validation => Loss 0.2464, Acc@1 0.8395\n",
      "============\n"
     ]
    },
    {
     "data": {
      "application/vnd.jupyter.widget-view+json": {
       "model_id": "c8ee45c8d37b49afa9be9a8c1845fb42",
       "version_major": 2,
       "version_minor": 0
      },
      "text/plain": [
       "  0%|          | 0/79 [00:00<?, ?it/s]"
      ]
     },
     "metadata": {},
     "output_type": "display_data"
    },
    {
     "name": "stdout",
     "output_type": "stream",
     "text": [
      "Val Perf after 1 epochs Acc@1 0.9129\n",
      "=> Caching mask state for model.0\n",
      "=> Caching mask state for model.2\n",
      "=> Caching mask state for model.4\n",
      "\n",
      "=> Setting learned tasks of model.0 to 43\n",
      "=> Setting learned tasks of model.2 to 43\n",
      "=> Setting learned tasks of model.4 to 43\n",
      "\n",
      "Training for task 43\n",
      "=> Set task of model.0 to 43\n",
      "=> Set task of model.2 to 43\n",
      "=> Set task of model.4 to 43\n"
     ]
    },
    {
     "data": {
      "application/vnd.jupyter.widget-view+json": {
       "model_id": "500e24d0da8d4ddfbf8a1c673263a8f2",
       "version_major": 2,
       "version_minor": 0
      },
      "text/plain": [
       "  0%|          | 0/469 [00:00<?, ?it/s]"
      ]
     },
     "metadata": {},
     "output_type": "display_data"
    },
    {
     "name": "stdout",
     "output_type": "stream",
     "text": [
      "Validation => Loss 0.2216, Acc@1 0.8431\n",
      "============\n"
     ]
    },
    {
     "data": {
      "application/vnd.jupyter.widget-view+json": {
       "model_id": "3dda0146ee9a40079fcdbfad41931149",
       "version_major": 2,
       "version_minor": 0
      },
      "text/plain": [
       "  0%|          | 0/79 [00:00<?, ?it/s]"
      ]
     },
     "metadata": {},
     "output_type": "display_data"
    },
    {
     "name": "stdout",
     "output_type": "stream",
     "text": [
      "Val Perf after 1 epochs Acc@1 0.9119\n",
      "=> Caching mask state for model.0\n",
      "=> Caching mask state for model.2\n",
      "=> Caching mask state for model.4\n",
      "\n",
      "=> Setting learned tasks of model.0 to 44\n",
      "=> Setting learned tasks of model.2 to 44\n",
      "=> Setting learned tasks of model.4 to 44\n",
      "\n",
      "Training for task 44\n",
      "=> Set task of model.0 to 44\n",
      "=> Set task of model.2 to 44\n",
      "=> Set task of model.4 to 44\n"
     ]
    },
    {
     "data": {
      "application/vnd.jupyter.widget-view+json": {
       "model_id": "571e5f04d5404418b44c4b4e1cc1faa6",
       "version_major": 2,
       "version_minor": 0
      },
      "text/plain": [
       "  0%|          | 0/469 [00:00<?, ?it/s]"
      ]
     },
     "metadata": {},
     "output_type": "display_data"
    },
    {
     "name": "stdout",
     "output_type": "stream",
     "text": [
      "Validation => Loss 0.2885, Acc@1 0.8418\n",
      "============\n"
     ]
    },
    {
     "data": {
      "application/vnd.jupyter.widget-view+json": {
       "model_id": "c69732a604ea48d88f6b6be0ec816461",
       "version_major": 2,
       "version_minor": 0
      },
      "text/plain": [
       "  0%|          | 0/79 [00:00<?, ?it/s]"
      ]
     },
     "metadata": {},
     "output_type": "display_data"
    },
    {
     "name": "stdout",
     "output_type": "stream",
     "text": [
      "Val Perf after 1 epochs Acc@1 0.9113\n",
      "=> Caching mask state for model.0\n",
      "=> Caching mask state for model.2\n",
      "=> Caching mask state for model.4\n",
      "\n",
      "=> Setting learned tasks of model.0 to 45\n",
      "=> Setting learned tasks of model.2 to 45\n",
      "=> Setting learned tasks of model.4 to 45\n",
      "\n",
      "Training for task 45\n",
      "=> Set task of model.0 to 45\n",
      "=> Set task of model.2 to 45\n",
      "=> Set task of model.4 to 45\n"
     ]
    },
    {
     "data": {
      "application/vnd.jupyter.widget-view+json": {
       "model_id": "834df73aba9c4dbc8229035a2cc57ab3",
       "version_major": 2,
       "version_minor": 0
      },
      "text/plain": [
       "  0%|          | 0/469 [00:00<?, ?it/s]"
      ]
     },
     "metadata": {},
     "output_type": "display_data"
    },
    {
     "name": "stdout",
     "output_type": "stream",
     "text": [
      "Validation => Loss 0.3408, Acc@1 0.8389\n",
      "============\n"
     ]
    },
    {
     "data": {
      "application/vnd.jupyter.widget-view+json": {
       "model_id": "e8b9265aba1d48e2a3d5c6c7e487748c",
       "version_major": 2,
       "version_minor": 0
      },
      "text/plain": [
       "  0%|          | 0/79 [00:00<?, ?it/s]"
      ]
     },
     "metadata": {},
     "output_type": "display_data"
    },
    {
     "name": "stdout",
     "output_type": "stream",
     "text": [
      "Val Perf after 1 epochs Acc@1 0.9126\n",
      "=> Caching mask state for model.0\n",
      "=> Caching mask state for model.2\n",
      "=> Caching mask state for model.4\n",
      "\n",
      "=> Setting learned tasks of model.0 to 46\n",
      "=> Setting learned tasks of model.2 to 46\n",
      "=> Setting learned tasks of model.4 to 46\n",
      "\n",
      "Training for task 46\n",
      "=> Set task of model.0 to 46\n",
      "=> Set task of model.2 to 46\n",
      "=> Set task of model.4 to 46\n"
     ]
    },
    {
     "data": {
      "application/vnd.jupyter.widget-view+json": {
       "model_id": "0cbc43f1933e4e0cb416cec676fe2a1f",
       "version_major": 2,
       "version_minor": 0
      },
      "text/plain": [
       "  0%|          | 0/469 [00:00<?, ?it/s]"
      ]
     },
     "metadata": {},
     "output_type": "display_data"
    },
    {
     "name": "stdout",
     "output_type": "stream",
     "text": [
      "Validation => Loss 0.3094, Acc@1 0.8447\n",
      "============\n"
     ]
    },
    {
     "data": {
      "application/vnd.jupyter.widget-view+json": {
       "model_id": "83a29c1e39fb4faea8daea63c5bf3915",
       "version_major": 2,
       "version_minor": 0
      },
      "text/plain": [
       "  0%|          | 0/79 [00:00<?, ?it/s]"
      ]
     },
     "metadata": {},
     "output_type": "display_data"
    },
    {
     "name": "stdout",
     "output_type": "stream",
     "text": [
      "Val Perf after 1 epochs Acc@1 0.9136\n",
      "=> Caching mask state for model.0\n",
      "=> Caching mask state for model.2\n",
      "=> Caching mask state for model.4\n",
      "\n",
      "=> Setting learned tasks of model.0 to 47\n",
      "=> Setting learned tasks of model.2 to 47\n",
      "=> Setting learned tasks of model.4 to 47\n",
      "\n",
      "Training for task 47\n",
      "=> Set task of model.0 to 47\n",
      "=> Set task of model.2 to 47\n",
      "=> Set task of model.4 to 47\n"
     ]
    },
    {
     "data": {
      "application/vnd.jupyter.widget-view+json": {
       "model_id": "165a97dc39c64e73881984930c1bb130",
       "version_major": 2,
       "version_minor": 0
      },
      "text/plain": [
       "  0%|          | 0/469 [00:00<?, ?it/s]"
      ]
     },
     "metadata": {},
     "output_type": "display_data"
    },
    {
     "name": "stdout",
     "output_type": "stream",
     "text": [
      "Validation => Loss 0.3136, Acc@1 0.8457\n",
      "============\n"
     ]
    },
    {
     "data": {
      "application/vnd.jupyter.widget-view+json": {
       "model_id": "880aa4398daf49289647429a378d2318",
       "version_major": 2,
       "version_minor": 0
      },
      "text/plain": [
       "  0%|          | 0/79 [00:00<?, ?it/s]"
      ]
     },
     "metadata": {},
     "output_type": "display_data"
    },
    {
     "name": "stdout",
     "output_type": "stream",
     "text": [
      "Val Perf after 1 epochs Acc@1 0.9144\n",
      "=> Caching mask state for model.0\n",
      "=> Caching mask state for model.2\n",
      "=> Caching mask state for model.4\n",
      "\n",
      "=> Setting learned tasks of model.0 to 48\n",
      "=> Setting learned tasks of model.2 to 48\n",
      "=> Setting learned tasks of model.4 to 48\n",
      "\n",
      "Training for task 48\n",
      "=> Set task of model.0 to 48\n",
      "=> Set task of model.2 to 48\n",
      "=> Set task of model.4 to 48\n"
     ]
    },
    {
     "data": {
      "application/vnd.jupyter.widget-view+json": {
       "model_id": "59d4b95042224009ad9942c3e83ad843",
       "version_major": 2,
       "version_minor": 0
      },
      "text/plain": [
       "  0%|          | 0/469 [00:00<?, ?it/s]"
      ]
     },
     "metadata": {},
     "output_type": "display_data"
    },
    {
     "name": "stdout",
     "output_type": "stream",
     "text": [
      "Validation => Loss 0.3547, Acc@1 0.8418\n",
      "============\n"
     ]
    },
    {
     "data": {
      "application/vnd.jupyter.widget-view+json": {
       "model_id": "4e67db1f70c842a584b9785897fb31d0",
       "version_major": 2,
       "version_minor": 0
      },
      "text/plain": [
       "  0%|          | 0/79 [00:00<?, ?it/s]"
      ]
     },
     "metadata": {},
     "output_type": "display_data"
    },
    {
     "name": "stdout",
     "output_type": "stream",
     "text": [
      "Val Perf after 1 epochs Acc@1 0.9133\n",
      "=> Caching mask state for model.0\n",
      "=> Caching mask state for model.2\n",
      "=> Caching mask state for model.4\n",
      "\n",
      "=> Setting learned tasks of model.0 to 49\n",
      "=> Setting learned tasks of model.2 to 49\n",
      "=> Setting learned tasks of model.4 to 49\n",
      "\n",
      "Training for task 49\n",
      "=> Set task of model.0 to 49\n",
      "=> Set task of model.2 to 49\n",
      "=> Set task of model.4 to 49\n"
     ]
    },
    {
     "data": {
      "application/vnd.jupyter.widget-view+json": {
       "model_id": "1368eb4d65d44b22a59d0d59e46952c2",
       "version_major": 2,
       "version_minor": 0
      },
      "text/plain": [
       "  0%|          | 0/469 [00:00<?, ?it/s]"
      ]
     },
     "metadata": {},
     "output_type": "display_data"
    },
    {
     "name": "stdout",
     "output_type": "stream",
     "text": [
      "Validation => Loss 0.3256, Acc@1 0.8327\n",
      "============\n"
     ]
    },
    {
     "data": {
      "application/vnd.jupyter.widget-view+json": {
       "model_id": "b8aaaeb0afe54e1e949fed9a5263cd3e",
       "version_major": 2,
       "version_minor": 0
      },
      "text/plain": [
       "  0%|          | 0/79 [00:00<?, ?it/s]"
      ]
     },
     "metadata": {},
     "output_type": "display_data"
    },
    {
     "name": "stdout",
     "output_type": "stream",
     "text": [
      "Val Perf after 1 epochs Acc@1 0.9127\n",
      "=> Caching mask state for model.0\n",
      "=> Caching mask state for model.2\n",
      "=> Caching mask state for model.4\n",
      "\n",
      "=> Setting learned tasks of model.0 to 50\n",
      "=> Setting learned tasks of model.2 to 50\n",
      "=> Setting learned tasks of model.4 to 50\n",
      "\n"
     ]
    }
   ],
   "source": [
    "# Task ID given during train time\n",
    "from IPython.display import clear_output\n",
    "\n",
    "num_tasks = 50 # For demonstration purposes, we go up to 2500 in our paper\n",
    "model = MultitaskFC(hidden_size=300, num_tasks=num_tasks, sparsity=0.25)\n",
    "\n",
    "for task in range(num_tasks):\n",
    "    print(f\"Training for task {task}\")\n",
    "    set_model_task(model, task)\n",
    "    mnist.update_task(task)\n",
    "\n",
    "    optimizer = optim.RMSprop([p for p in model.parameters() if p.requires_grad], lr=1e-4)\n",
    "    # Train for 1 epoch\n",
    "    for e in range(1):\n",
    "        train(model, mnist.train_loader, optimizer, e)\n",
    "        \n",
    "        print(\"Validation\")\n",
    "        print(\"============\")\n",
    "        acc1 = evaluate(model, mnist.val_loader, e)\n",
    "        \n",
    "    \n",
    "    cache_masks(model)\n",
    "    print()\n",
    "    set_num_tasks_learned(model, task + 1)\n",
    "    print()"
   ]
  },
  {
   "cell_type": "code",
   "execution_count": 16,
   "metadata": {},
   "outputs": [
    {
     "name": "stdout",
     "output_type": "stream",
     "text": [
      "Average top 1 performance: 0.9123\n",
      "Per task performance\n",
      "Task 0: 0.9123\n",
      "Task 1: 0.9123\n",
      "Task 2: 0.9141\n",
      "Task 3: 0.9144\n",
      "Task 4: 0.9112\n",
      "Task 5: 0.9153\n",
      "Task 6: 0.9124\n",
      "Task 7: 0.9112\n",
      "Task 8: 0.9154\n",
      "Task 9: 0.9143\n",
      "Task 10: 0.9144\n",
      "Task 11: 0.9104\n",
      "Task 12: 0.9161\n",
      "Task 13: 0.9120\n",
      "Task 14: 0.9123\n",
      "Task 15: 0.9117\n",
      "Task 16: 0.9107\n",
      "Task 17: 0.9143\n",
      "Task 18: 0.9106\n",
      "Task 19: 0.9048\n",
      "Task 20: 0.9109\n",
      "Task 21: 0.9132\n",
      "Task 22: 0.9125\n",
      "Task 23: 0.9118\n",
      "Task 24: 0.9130\n",
      "Task 25: 0.9115\n",
      "Task 26: 0.9131\n",
      "Task 27: 0.9118\n",
      "Task 28: 0.9121\n",
      "Task 29: 0.9135\n",
      "Task 30: 0.9107\n",
      "Task 31: 0.9081\n",
      "Task 32: 0.9130\n",
      "Task 33: 0.9117\n",
      "Task 34: 0.9147\n",
      "Task 35: 0.9117\n",
      "Task 36: 0.9124\n",
      "Task 37: 0.9122\n",
      "Task 38: 0.9070\n",
      "Task 39: 0.9134\n",
      "Task 40: 0.9108\n",
      "Task 41: 0.9113\n",
      "Task 42: 0.9129\n",
      "Task 43: 0.9119\n",
      "Task 44: 0.9113\n",
      "Task 45: 0.9126\n",
      "Task 46: 0.9136\n",
      "Task 47: 0.9144\n",
      "Task 48: 0.9133\n",
      "Task 49: 0.9127\n"
     ]
    }
   ],
   "source": [
    "# When task ID we can simply set the mask and evaluate\n",
    "\n",
    "gg_performance = []\n",
    "for task in range(num_tasks):\n",
    "    set_model_task(model, task)\n",
    "    mnist.update_task(task)\n",
    "    acc1 = evaluate(model, mnist.val_loader, 0)\n",
    "    gg_performance.append(acc1.item())\n",
    "\n",
    "clear_output()\n",
    "    \n",
    "print(f\"Average top 1 performance: {(sum(gg_performance) / len(gg_performance)):.4f}\")\n",
    "\n",
    "print(\"Per task performance\")\n",
    "for t in range(num_tasks):\n",
    "    print(f\"Task {t}: {gg_performance[t]:.4f}\")"
   ]
  },
  {
   "cell_type": "code",
   "execution_count": 17,
   "metadata": {},
   "outputs": [],
   "source": [
    "performance_map['supsup_mnist'] = gg_performance.copy()"
   ]
  },
  {
   "cell_type": "markdown",
   "metadata": {},
   "source": [
    "### Multimask Same Task "
   ]
  },
  {
   "cell_type": "code",
   "execution_count": 18,
   "metadata": {},
   "outputs": [],
   "source": [
    "num_masks_to_create = 40"
   ]
  },
  {
   "cell_type": "code",
   "execution_count": 19,
   "metadata": {},
   "outputs": [],
   "source": [
    "loaders = {}\n",
    "for i in range(num_masks_to_create):\n",
    "    loaders[i] = MNISTPerm()"
   ]
  },
  {
   "cell_type": "code",
   "execution_count": 20,
   "metadata": {},
   "outputs": [],
   "source": [
    "weight_dict = {k: v for k,v in model.state_dict().items() if k.endswith('weight')}"
   ]
  },
  {
   "cell_type": "code",
   "execution_count": 21,
   "metadata": {},
   "outputs": [],
   "source": [
    "# Task ID given during train time\n",
    "from IPython.display import clear_output\n",
    "\n",
    "model_map = {}\n",
    "for i in range(num_masks_to_create):\n",
    "    modeli = MultitaskFC(hidden_size=300, num_tasks=1, sparsity=0.25)\n",
    "    sdi = modeli.state_dict()\n",
    "    sdi.update(weight_dict)\n",
    "    modeli.load_state_dict(sdi)\n",
    "    model_map[i] = modeli"
   ]
  },
  {
   "cell_type": "code",
   "execution_count": 22,
   "metadata": {
    "scrolled": true
   },
   "outputs": [
    {
     "name": "stdout",
     "output_type": "stream",
     "text": [
      "Training for task 0\n",
      "=> Set task of model.0 to 0\n",
      "=> Set task of model.2 to 0\n",
      "=> Set task of model.4 to 0\n"
     ]
    },
    {
     "data": {
      "application/vnd.jupyter.widget-view+json": {
       "model_id": "3c424e7510a64f009c3b52c40c41242e",
       "version_major": 2,
       "version_minor": 0
      },
      "text/plain": [
       "  0%|          | 0/469 [00:00<?, ?it/s]"
      ]
     },
     "metadata": {},
     "output_type": "display_data"
    },
    {
     "name": "stdout",
     "output_type": "stream",
     "text": [
      "Validation => Loss 0.3358, Acc@1 0.8366\n",
      "============\n"
     ]
    },
    {
     "data": {
      "application/vnd.jupyter.widget-view+json": {
       "model_id": "040fee6cb34d418eaccd49114e6629c5",
       "version_major": 2,
       "version_minor": 0
      },
      "text/plain": [
       "  0%|          | 0/79 [00:00<?, ?it/s]"
      ]
     },
     "metadata": {},
     "output_type": "display_data"
    },
    {
     "name": "stdout",
     "output_type": "stream",
     "text": [
      "Val Perf after 1 epochs Acc@1 0.9164\n",
      "=> Caching mask state for model.0\n",
      "=> Caching mask state for model.2\n",
      "=> Caching mask state for model.4\n",
      "\n",
      "=> Setting learned tasks of model.0 to 1\n",
      "=> Setting learned tasks of model.2 to 1\n",
      "=> Setting learned tasks of model.4 to 1\n",
      "\n",
      "Training for task 0\n",
      "=> Set task of model.0 to 0\n",
      "=> Set task of model.2 to 0\n",
      "=> Set task of model.4 to 0\n"
     ]
    },
    {
     "data": {
      "application/vnd.jupyter.widget-view+json": {
       "model_id": "8a5d5f96853d43f7b542bbc3d73b16d0",
       "version_major": 2,
       "version_minor": 0
      },
      "text/plain": [
       "  0%|          | 0/469 [00:00<?, ?it/s]"
      ]
     },
     "metadata": {},
     "output_type": "display_data"
    },
    {
     "name": "stdout",
     "output_type": "stream",
     "text": [
      "Validation => Loss 0.4087, Acc@1 0.8359\n",
      "============\n"
     ]
    },
    {
     "data": {
      "application/vnd.jupyter.widget-view+json": {
       "model_id": "4627876d8a594633918353c3cca49ee7",
       "version_major": 2,
       "version_minor": 0
      },
      "text/plain": [
       "  0%|          | 0/79 [00:00<?, ?it/s]"
      ]
     },
     "metadata": {},
     "output_type": "display_data"
    },
    {
     "name": "stdout",
     "output_type": "stream",
     "text": [
      "Val Perf after 1 epochs Acc@1 0.9085\n",
      "=> Caching mask state for model.0\n",
      "=> Caching mask state for model.2\n",
      "=> Caching mask state for model.4\n",
      "\n",
      "=> Setting learned tasks of model.0 to 1\n",
      "=> Setting learned tasks of model.2 to 1\n",
      "=> Setting learned tasks of model.4 to 1\n",
      "\n",
      "Training for task 0\n",
      "=> Set task of model.0 to 0\n",
      "=> Set task of model.2 to 0\n",
      "=> Set task of model.4 to 0\n"
     ]
    },
    {
     "data": {
      "application/vnd.jupyter.widget-view+json": {
       "model_id": "148d115c019c491ea511a9542baddd68",
       "version_major": 2,
       "version_minor": 0
      },
      "text/plain": [
       "  0%|          | 0/469 [00:00<?, ?it/s]"
      ]
     },
     "metadata": {},
     "output_type": "display_data"
    },
    {
     "name": "stdout",
     "output_type": "stream",
     "text": [
      "Validation => Loss 0.2240, Acc@1 0.8493\n",
      "============\n"
     ]
    },
    {
     "data": {
      "application/vnd.jupyter.widget-view+json": {
       "model_id": "cc6bcaade656441b94f55af26901020d",
       "version_major": 2,
       "version_minor": 0
      },
      "text/plain": [
       "  0%|          | 0/79 [00:00<?, ?it/s]"
      ]
     },
     "metadata": {},
     "output_type": "display_data"
    },
    {
     "name": "stdout",
     "output_type": "stream",
     "text": [
      "Val Perf after 1 epochs Acc@1 0.9067\n",
      "=> Caching mask state for model.0\n",
      "=> Caching mask state for model.2\n",
      "=> Caching mask state for model.4\n",
      "\n",
      "=> Setting learned tasks of model.0 to 1\n",
      "=> Setting learned tasks of model.2 to 1\n",
      "=> Setting learned tasks of model.4 to 1\n",
      "\n",
      "Training for task 0\n",
      "=> Set task of model.0 to 0\n",
      "=> Set task of model.2 to 0\n",
      "=> Set task of model.4 to 0\n"
     ]
    },
    {
     "data": {
      "application/vnd.jupyter.widget-view+json": {
       "model_id": "2aaf115af1984db3885b7763959bccd9",
       "version_major": 2,
       "version_minor": 0
      },
      "text/plain": [
       "  0%|          | 0/469 [00:00<?, ?it/s]"
      ]
     },
     "metadata": {},
     "output_type": "display_data"
    },
    {
     "name": "stdout",
     "output_type": "stream",
     "text": [
      "Validation => Loss 0.2797, Acc@1 0.8431\n",
      "============\n"
     ]
    },
    {
     "data": {
      "application/vnd.jupyter.widget-view+json": {
       "model_id": "e99a304f060d40f3877f95923c21a56e",
       "version_major": 2,
       "version_minor": 0
      },
      "text/plain": [
       "  0%|          | 0/79 [00:00<?, ?it/s]"
      ]
     },
     "metadata": {},
     "output_type": "display_data"
    },
    {
     "name": "stdout",
     "output_type": "stream",
     "text": [
      "Val Perf after 1 epochs Acc@1 0.9161\n",
      "=> Caching mask state for model.0\n",
      "=> Caching mask state for model.2\n",
      "=> Caching mask state for model.4\n",
      "\n",
      "=> Setting learned tasks of model.0 to 1\n",
      "=> Setting learned tasks of model.2 to 1\n",
      "=> Setting learned tasks of model.4 to 1\n",
      "\n",
      "Training for task 0\n",
      "=> Set task of model.0 to 0\n",
      "=> Set task of model.2 to 0\n",
      "=> Set task of model.4 to 0\n"
     ]
    },
    {
     "data": {
      "application/vnd.jupyter.widget-view+json": {
       "model_id": "61b93ebf27f749d998381381728bed7b",
       "version_major": 2,
       "version_minor": 0
      },
      "text/plain": [
       "  0%|          | 0/469 [00:00<?, ?it/s]"
      ]
     },
     "metadata": {},
     "output_type": "display_data"
    },
    {
     "name": "stdout",
     "output_type": "stream",
     "text": [
      "Validation => Loss 0.2619, Acc@1 0.8402\n",
      "============\n"
     ]
    },
    {
     "data": {
      "application/vnd.jupyter.widget-view+json": {
       "model_id": "94f0774a42e04e458cb4480f4a3abce3",
       "version_major": 2,
       "version_minor": 0
      },
      "text/plain": [
       "  0%|          | 0/79 [00:00<?, ?it/s]"
      ]
     },
     "metadata": {},
     "output_type": "display_data"
    },
    {
     "name": "stdout",
     "output_type": "stream",
     "text": [
      "Val Perf after 1 epochs Acc@1 0.9101\n",
      "=> Caching mask state for model.0\n",
      "=> Caching mask state for model.2\n",
      "=> Caching mask state for model.4\n",
      "\n",
      "=> Setting learned tasks of model.0 to 1\n",
      "=> Setting learned tasks of model.2 to 1\n",
      "=> Setting learned tasks of model.4 to 1\n",
      "\n",
      "Training for task 0\n",
      "=> Set task of model.0 to 0\n",
      "=> Set task of model.2 to 0\n",
      "=> Set task of model.4 to 0\n"
     ]
    },
    {
     "data": {
      "application/vnd.jupyter.widget-view+json": {
       "model_id": "2a612ade49444627a594ecb243e19e4c",
       "version_major": 2,
       "version_minor": 0
      },
      "text/plain": [
       "  0%|          | 0/469 [00:00<?, ?it/s]"
      ]
     },
     "metadata": {},
     "output_type": "display_data"
    },
    {
     "name": "stdout",
     "output_type": "stream",
     "text": [
      "Validation => Loss 0.2333, Acc@1 0.8509\n",
      "============\n"
     ]
    },
    {
     "data": {
      "application/vnd.jupyter.widget-view+json": {
       "model_id": "b9c565fdbf724ea4b12e17d8537cd9f5",
       "version_major": 2,
       "version_minor": 0
      },
      "text/plain": [
       "  0%|          | 0/79 [00:00<?, ?it/s]"
      ]
     },
     "metadata": {},
     "output_type": "display_data"
    },
    {
     "name": "stdout",
     "output_type": "stream",
     "text": [
      "Val Perf after 1 epochs Acc@1 0.9151\n",
      "=> Caching mask state for model.0\n",
      "=> Caching mask state for model.2\n",
      "=> Caching mask state for model.4\n",
      "\n",
      "=> Setting learned tasks of model.0 to 1\n",
      "=> Setting learned tasks of model.2 to 1\n",
      "=> Setting learned tasks of model.4 to 1\n",
      "\n",
      "Training for task 0\n",
      "=> Set task of model.0 to 0\n",
      "=> Set task of model.2 to 0\n",
      "=> Set task of model.4 to 0\n"
     ]
    },
    {
     "data": {
      "application/vnd.jupyter.widget-view+json": {
       "model_id": "99c2dbfa275d4ebabe6605ca9564fdc0",
       "version_major": 2,
       "version_minor": 0
      },
      "text/plain": [
       "  0%|          | 0/469 [00:00<?, ?it/s]"
      ]
     },
     "metadata": {},
     "output_type": "display_data"
    },
    {
     "name": "stdout",
     "output_type": "stream",
     "text": [
      "Validation => Loss 0.3669, Acc@1 0.8314\n",
      "============\n"
     ]
    },
    {
     "data": {
      "application/vnd.jupyter.widget-view+json": {
       "model_id": "5d8e3e7d7d6d4c08b6018d85aa06c89a",
       "version_major": 2,
       "version_minor": 0
      },
      "text/plain": [
       "  0%|          | 0/79 [00:00<?, ?it/s]"
      ]
     },
     "metadata": {},
     "output_type": "display_data"
    },
    {
     "name": "stdout",
     "output_type": "stream",
     "text": [
      "Val Perf after 1 epochs Acc@1 0.9112\n",
      "=> Caching mask state for model.0\n",
      "=> Caching mask state for model.2\n",
      "=> Caching mask state for model.4\n",
      "\n",
      "=> Setting learned tasks of model.0 to 1\n",
      "=> Setting learned tasks of model.2 to 1\n",
      "=> Setting learned tasks of model.4 to 1\n",
      "\n",
      "Training for task 0\n",
      "=> Set task of model.0 to 0\n",
      "=> Set task of model.2 to 0\n",
      "=> Set task of model.4 to 0\n"
     ]
    },
    {
     "data": {
      "application/vnd.jupyter.widget-view+json": {
       "model_id": "b63a429083624d67bf793b7809d23fc3",
       "version_major": 2,
       "version_minor": 0
      },
      "text/plain": [
       "  0%|          | 0/469 [00:00<?, ?it/s]"
      ]
     },
     "metadata": {},
     "output_type": "display_data"
    },
    {
     "name": "stdout",
     "output_type": "stream",
     "text": [
      "Validation => Loss 0.4344, Acc@1 0.8395\n",
      "============\n"
     ]
    },
    {
     "data": {
      "application/vnd.jupyter.widget-view+json": {
       "model_id": "cddbd5f2524d412bbe3ef6f71f695b19",
       "version_major": 2,
       "version_minor": 0
      },
      "text/plain": [
       "  0%|          | 0/79 [00:00<?, ?it/s]"
      ]
     },
     "metadata": {},
     "output_type": "display_data"
    },
    {
     "name": "stdout",
     "output_type": "stream",
     "text": [
      "Val Perf after 1 epochs Acc@1 0.9132\n",
      "=> Caching mask state for model.0\n",
      "=> Caching mask state for model.2\n",
      "=> Caching mask state for model.4\n",
      "\n",
      "=> Setting learned tasks of model.0 to 1\n",
      "=> Setting learned tasks of model.2 to 1\n",
      "=> Setting learned tasks of model.4 to 1\n",
      "\n",
      "Training for task 0\n",
      "=> Set task of model.0 to 0\n",
      "=> Set task of model.2 to 0\n",
      "=> Set task of model.4 to 0\n"
     ]
    },
    {
     "data": {
      "application/vnd.jupyter.widget-view+json": {
       "model_id": "3b74b935cd6a4c86ad169172dc2898b2",
       "version_major": 2,
       "version_minor": 0
      },
      "text/plain": [
       "  0%|          | 0/469 [00:00<?, ?it/s]"
      ]
     },
     "metadata": {},
     "output_type": "display_data"
    },
    {
     "name": "stdout",
     "output_type": "stream",
     "text": [
      "Validation => Loss 0.3648, Acc@1 0.8405\n",
      "============\n"
     ]
    },
    {
     "data": {
      "application/vnd.jupyter.widget-view+json": {
       "model_id": "e12947e6af8a48678a44975fc989f218",
       "version_major": 2,
       "version_minor": 0
      },
      "text/plain": [
       "  0%|          | 0/79 [00:00<?, ?it/s]"
      ]
     },
     "metadata": {},
     "output_type": "display_data"
    },
    {
     "name": "stdout",
     "output_type": "stream",
     "text": [
      "Val Perf after 1 epochs Acc@1 0.9135\n",
      "=> Caching mask state for model.0\n",
      "=> Caching mask state for model.2\n",
      "=> Caching mask state for model.4\n",
      "\n",
      "=> Setting learned tasks of model.0 to 1\n",
      "=> Setting learned tasks of model.2 to 1\n",
      "=> Setting learned tasks of model.4 to 1\n",
      "\n",
      "Training for task 0\n",
      "=> Set task of model.0 to 0\n",
      "=> Set task of model.2 to 0\n",
      "=> Set task of model.4 to 0\n"
     ]
    },
    {
     "data": {
      "application/vnd.jupyter.widget-view+json": {
       "model_id": "2e8fef889b994ea79d003297958884fb",
       "version_major": 2,
       "version_minor": 0
      },
      "text/plain": [
       "  0%|          | 0/469 [00:00<?, ?it/s]"
      ]
     },
     "metadata": {},
     "output_type": "display_data"
    },
    {
     "name": "stdout",
     "output_type": "stream",
     "text": [
      "Validation => Loss 0.3109, Acc@1 0.8473\n",
      "============\n"
     ]
    },
    {
     "data": {
      "application/vnd.jupyter.widget-view+json": {
       "model_id": "1aff32b1096243bf962860d158796f0d",
       "version_major": 2,
       "version_minor": 0
      },
      "text/plain": [
       "  0%|          | 0/79 [00:00<?, ?it/s]"
      ]
     },
     "metadata": {},
     "output_type": "display_data"
    },
    {
     "name": "stdout",
     "output_type": "stream",
     "text": [
      "Val Perf after 1 epochs Acc@1 0.9142\n",
      "=> Caching mask state for model.0\n",
      "=> Caching mask state for model.2\n",
      "=> Caching mask state for model.4\n",
      "\n",
      "=> Setting learned tasks of model.0 to 1\n",
      "=> Setting learned tasks of model.2 to 1\n",
      "=> Setting learned tasks of model.4 to 1\n",
      "\n",
      "Training for task 0\n",
      "=> Set task of model.0 to 0\n",
      "=> Set task of model.2 to 0\n",
      "=> Set task of model.4 to 0\n"
     ]
    },
    {
     "data": {
      "application/vnd.jupyter.widget-view+json": {
       "model_id": "daf0993d7bb84fcba484638c083d0f7b",
       "version_major": 2,
       "version_minor": 0
      },
      "text/plain": [
       "  0%|          | 0/469 [00:00<?, ?it/s]"
      ]
     },
     "metadata": {},
     "output_type": "display_data"
    },
    {
     "name": "stdout",
     "output_type": "stream",
     "text": [
      "Validation => Loss 0.2800, Acc@1 0.8363\n",
      "============\n"
     ]
    },
    {
     "data": {
      "application/vnd.jupyter.widget-view+json": {
       "model_id": "e6a1d320aa214dbbb216ddef67546f3c",
       "version_major": 2,
       "version_minor": 0
      },
      "text/plain": [
       "  0%|          | 0/79 [00:00<?, ?it/s]"
      ]
     },
     "metadata": {},
     "output_type": "display_data"
    },
    {
     "name": "stdout",
     "output_type": "stream",
     "text": [
      "Val Perf after 1 epochs Acc@1 0.9140\n",
      "=> Caching mask state for model.0\n",
      "=> Caching mask state for model.2\n",
      "=> Caching mask state for model.4\n",
      "\n",
      "=> Setting learned tasks of model.0 to 1\n",
      "=> Setting learned tasks of model.2 to 1\n",
      "=> Setting learned tasks of model.4 to 1\n",
      "\n",
      "Training for task 0\n",
      "=> Set task of model.0 to 0\n",
      "=> Set task of model.2 to 0\n",
      "=> Set task of model.4 to 0\n"
     ]
    },
    {
     "data": {
      "application/vnd.jupyter.widget-view+json": {
       "model_id": "d6daa4aa11374f04a75ab4885c93d09f",
       "version_major": 2,
       "version_minor": 0
      },
      "text/plain": [
       "  0%|          | 0/469 [00:00<?, ?it/s]"
      ]
     },
     "metadata": {},
     "output_type": "display_data"
    },
    {
     "name": "stdout",
     "output_type": "stream",
     "text": [
      "Validation => Loss 0.3516, Acc@1 0.8385\n",
      "============\n"
     ]
    },
    {
     "data": {
      "application/vnd.jupyter.widget-view+json": {
       "model_id": "7607b747845e46e4b12226ae4dd83852",
       "version_major": 2,
       "version_minor": 0
      },
      "text/plain": [
       "  0%|          | 0/79 [00:00<?, ?it/s]"
      ]
     },
     "metadata": {},
     "output_type": "display_data"
    },
    {
     "name": "stdout",
     "output_type": "stream",
     "text": [
      "Val Perf after 1 epochs Acc@1 0.9133\n",
      "=> Caching mask state for model.0\n",
      "=> Caching mask state for model.2\n",
      "=> Caching mask state for model.4\n",
      "\n",
      "=> Setting learned tasks of model.0 to 1\n",
      "=> Setting learned tasks of model.2 to 1\n",
      "=> Setting learned tasks of model.4 to 1\n",
      "\n",
      "Training for task 0\n",
      "=> Set task of model.0 to 0\n",
      "=> Set task of model.2 to 0\n",
      "=> Set task of model.4 to 0\n"
     ]
    },
    {
     "data": {
      "application/vnd.jupyter.widget-view+json": {
       "model_id": "fa182b94ba3d4d1b8316526764d139e4",
       "version_major": 2,
       "version_minor": 0
      },
      "text/plain": [
       "  0%|          | 0/469 [00:00<?, ?it/s]"
      ]
     },
     "metadata": {},
     "output_type": "display_data"
    },
    {
     "name": "stdout",
     "output_type": "stream",
     "text": [
      "Validation => Loss 0.2635, Acc@1 0.8356\n",
      "============\n"
     ]
    },
    {
     "data": {
      "application/vnd.jupyter.widget-view+json": {
       "model_id": "8102e12fca204eeb93d27241f5cce46f",
       "version_major": 2,
       "version_minor": 0
      },
      "text/plain": [
       "  0%|          | 0/79 [00:00<?, ?it/s]"
      ]
     },
     "metadata": {},
     "output_type": "display_data"
    },
    {
     "name": "stdout",
     "output_type": "stream",
     "text": [
      "Val Perf after 1 epochs Acc@1 0.9124\n",
      "=> Caching mask state for model.0\n",
      "=> Caching mask state for model.2\n",
      "=> Caching mask state for model.4\n",
      "\n",
      "=> Setting learned tasks of model.0 to 1\n",
      "=> Setting learned tasks of model.2 to 1\n",
      "=> Setting learned tasks of model.4 to 1\n",
      "\n",
      "Training for task 0\n",
      "=> Set task of model.0 to 0\n",
      "=> Set task of model.2 to 0\n",
      "=> Set task of model.4 to 0\n"
     ]
    },
    {
     "data": {
      "application/vnd.jupyter.widget-view+json": {
       "model_id": "827931efcbb74cd58e0740d65342e3d0",
       "version_major": 2,
       "version_minor": 0
      },
      "text/plain": [
       "  0%|          | 0/469 [00:00<?, ?it/s]"
      ]
     },
     "metadata": {},
     "output_type": "display_data"
    },
    {
     "name": "stdout",
     "output_type": "stream",
     "text": [
      "Validation => Loss 0.3482, Acc@1 0.8454\n",
      "============\n"
     ]
    },
    {
     "data": {
      "application/vnd.jupyter.widget-view+json": {
       "model_id": "10328b50816448a795f08f6e989a1aa9",
       "version_major": 2,
       "version_minor": 0
      },
      "text/plain": [
       "  0%|          | 0/79 [00:00<?, ?it/s]"
      ]
     },
     "metadata": {},
     "output_type": "display_data"
    },
    {
     "name": "stdout",
     "output_type": "stream",
     "text": [
      "Val Perf after 1 epochs Acc@1 0.9153\n",
      "=> Caching mask state for model.0\n",
      "=> Caching mask state for model.2\n",
      "=> Caching mask state for model.4\n",
      "\n",
      "=> Setting learned tasks of model.0 to 1\n",
      "=> Setting learned tasks of model.2 to 1\n",
      "=> Setting learned tasks of model.4 to 1\n",
      "\n",
      "Training for task 0\n",
      "=> Set task of model.0 to 0\n",
      "=> Set task of model.2 to 0\n",
      "=> Set task of model.4 to 0\n"
     ]
    },
    {
     "data": {
      "application/vnd.jupyter.widget-view+json": {
       "model_id": "d20611dc368344128978dfbd85684f3a",
       "version_major": 2,
       "version_minor": 0
      },
      "text/plain": [
       "  0%|          | 0/469 [00:00<?, ?it/s]"
      ]
     },
     "metadata": {},
     "output_type": "display_data"
    },
    {
     "name": "stdout",
     "output_type": "stream",
     "text": [
      "Validation => Loss 0.1974, Acc@1 0.8356\n",
      "============\n"
     ]
    },
    {
     "data": {
      "application/vnd.jupyter.widget-view+json": {
       "model_id": "e7e99815d36e46ef8c08cea72256c23e",
       "version_major": 2,
       "version_minor": 0
      },
      "text/plain": [
       "  0%|          | 0/79 [00:00<?, ?it/s]"
      ]
     },
     "metadata": {},
     "output_type": "display_data"
    },
    {
     "name": "stdout",
     "output_type": "stream",
     "text": [
      "Val Perf after 1 epochs Acc@1 0.9114\n",
      "=> Caching mask state for model.0\n",
      "=> Caching mask state for model.2\n",
      "=> Caching mask state for model.4\n",
      "\n",
      "=> Setting learned tasks of model.0 to 1\n",
      "=> Setting learned tasks of model.2 to 1\n",
      "=> Setting learned tasks of model.4 to 1\n",
      "\n",
      "Training for task 0\n",
      "=> Set task of model.0 to 0\n",
      "=> Set task of model.2 to 0\n",
      "=> Set task of model.4 to 0\n"
     ]
    },
    {
     "data": {
      "application/vnd.jupyter.widget-view+json": {
       "model_id": "d5d67e3f5e8e425e858be1404a30cd3e",
       "version_major": 2,
       "version_minor": 0
      },
      "text/plain": [
       "  0%|          | 0/469 [00:00<?, ?it/s]"
      ]
     },
     "metadata": {},
     "output_type": "display_data"
    },
    {
     "name": "stdout",
     "output_type": "stream",
     "text": [
      "Validation => Loss 0.3033, Acc@1 0.8369\n",
      "============\n"
     ]
    },
    {
     "data": {
      "application/vnd.jupyter.widget-view+json": {
       "model_id": "efc8f044c8b940228cb96b444b97777f",
       "version_major": 2,
       "version_minor": 0
      },
      "text/plain": [
       "  0%|          | 0/79 [00:00<?, ?it/s]"
      ]
     },
     "metadata": {},
     "output_type": "display_data"
    },
    {
     "name": "stdout",
     "output_type": "stream",
     "text": [
      "Val Perf after 1 epochs Acc@1 0.9119\n",
      "=> Caching mask state for model.0\n",
      "=> Caching mask state for model.2\n",
      "=> Caching mask state for model.4\n",
      "\n",
      "=> Setting learned tasks of model.0 to 1\n",
      "=> Setting learned tasks of model.2 to 1\n",
      "=> Setting learned tasks of model.4 to 1\n",
      "\n",
      "Training for task 0\n",
      "=> Set task of model.0 to 0\n",
      "=> Set task of model.2 to 0\n",
      "=> Set task of model.4 to 0\n"
     ]
    },
    {
     "data": {
      "application/vnd.jupyter.widget-view+json": {
       "model_id": "af7a7b417c334af6b97fe82adba68038",
       "version_major": 2,
       "version_minor": 0
      },
      "text/plain": [
       "  0%|          | 0/469 [00:00<?, ?it/s]"
      ]
     },
     "metadata": {},
     "output_type": "display_data"
    },
    {
     "name": "stdout",
     "output_type": "stream",
     "text": [
      "Validation => Loss 0.2982, Acc@1 0.8415\n",
      "============\n"
     ]
    },
    {
     "data": {
      "application/vnd.jupyter.widget-view+json": {
       "model_id": "bbefbc356d47487cbb5aa0f9b0206fa0",
       "version_major": 2,
       "version_minor": 0
      },
      "text/plain": [
       "  0%|          | 0/79 [00:00<?, ?it/s]"
      ]
     },
     "metadata": {},
     "output_type": "display_data"
    },
    {
     "name": "stdout",
     "output_type": "stream",
     "text": [
      "Val Perf after 1 epochs Acc@1 0.9145\n",
      "=> Caching mask state for model.0\n",
      "=> Caching mask state for model.2\n",
      "=> Caching mask state for model.4\n",
      "\n",
      "=> Setting learned tasks of model.0 to 1\n",
      "=> Setting learned tasks of model.2 to 1\n",
      "=> Setting learned tasks of model.4 to 1\n",
      "\n",
      "Training for task 0\n",
      "=> Set task of model.0 to 0\n",
      "=> Set task of model.2 to 0\n",
      "=> Set task of model.4 to 0\n"
     ]
    },
    {
     "data": {
      "application/vnd.jupyter.widget-view+json": {
       "model_id": "b6493f7d295d44d38cd03ca2414fc353",
       "version_major": 2,
       "version_minor": 0
      },
      "text/plain": [
       "  0%|          | 0/469 [00:00<?, ?it/s]"
      ]
     },
     "metadata": {},
     "output_type": "display_data"
    },
    {
     "name": "stdout",
     "output_type": "stream",
     "text": [
      "Validation => Loss 0.3697, Acc@1 0.8438\n",
      "============\n"
     ]
    },
    {
     "data": {
      "application/vnd.jupyter.widget-view+json": {
       "model_id": "e6e2b9464d2444198ca5500e4f392e6a",
       "version_major": 2,
       "version_minor": 0
      },
      "text/plain": [
       "  0%|          | 0/79 [00:00<?, ?it/s]"
      ]
     },
     "metadata": {},
     "output_type": "display_data"
    },
    {
     "name": "stdout",
     "output_type": "stream",
     "text": [
      "Val Perf after 1 epochs Acc@1 0.9121\n",
      "=> Caching mask state for model.0\n",
      "=> Caching mask state for model.2\n",
      "=> Caching mask state for model.4\n",
      "\n",
      "=> Setting learned tasks of model.0 to 1\n",
      "=> Setting learned tasks of model.2 to 1\n",
      "=> Setting learned tasks of model.4 to 1\n",
      "\n",
      "Training for task 0\n",
      "=> Set task of model.0 to 0\n",
      "=> Set task of model.2 to 0\n",
      "=> Set task of model.4 to 0\n"
     ]
    },
    {
     "data": {
      "application/vnd.jupyter.widget-view+json": {
       "model_id": "32e95646541143f6ab708460f013fd1b",
       "version_major": 2,
       "version_minor": 0
      },
      "text/plain": [
       "  0%|          | 0/469 [00:00<?, ?it/s]"
      ]
     },
     "metadata": {},
     "output_type": "display_data"
    },
    {
     "name": "stdout",
     "output_type": "stream",
     "text": [
      "Validation => Loss 0.3314, Acc@1 0.8441\n",
      "============\n"
     ]
    },
    {
     "data": {
      "application/vnd.jupyter.widget-view+json": {
       "model_id": "b088367c4d8f4a469a2a683ace3212fc",
       "version_major": 2,
       "version_minor": 0
      },
      "text/plain": [
       "  0%|          | 0/79 [00:00<?, ?it/s]"
      ]
     },
     "metadata": {},
     "output_type": "display_data"
    },
    {
     "name": "stdout",
     "output_type": "stream",
     "text": [
      "Val Perf after 1 epochs Acc@1 0.9151\n",
      "=> Caching mask state for model.0\n",
      "=> Caching mask state for model.2\n",
      "=> Caching mask state for model.4\n",
      "\n",
      "=> Setting learned tasks of model.0 to 1\n",
      "=> Setting learned tasks of model.2 to 1\n",
      "=> Setting learned tasks of model.4 to 1\n",
      "\n",
      "Training for task 0\n",
      "=> Set task of model.0 to 0\n",
      "=> Set task of model.2 to 0\n",
      "=> Set task of model.4 to 0\n"
     ]
    },
    {
     "data": {
      "application/vnd.jupyter.widget-view+json": {
       "model_id": "f7a671ac5cf547a6ab77efe5c455b66d",
       "version_major": 2,
       "version_minor": 0
      },
      "text/plain": [
       "  0%|          | 0/469 [00:00<?, ?it/s]"
      ]
     },
     "metadata": {},
     "output_type": "display_data"
    },
    {
     "name": "stdout",
     "output_type": "stream",
     "text": [
      "Validation => Loss 0.2264, Acc@1 0.8395\n",
      "============\n"
     ]
    },
    {
     "data": {
      "application/vnd.jupyter.widget-view+json": {
       "model_id": "5a1d2417322a4af38602a8c81eb7871f",
       "version_major": 2,
       "version_minor": 0
      },
      "text/plain": [
       "  0%|          | 0/79 [00:00<?, ?it/s]"
      ]
     },
     "metadata": {},
     "output_type": "display_data"
    },
    {
     "name": "stdout",
     "output_type": "stream",
     "text": [
      "Val Perf after 1 epochs Acc@1 0.9136\n",
      "=> Caching mask state for model.0\n",
      "=> Caching mask state for model.2\n",
      "=> Caching mask state for model.4\n",
      "\n",
      "=> Setting learned tasks of model.0 to 1\n",
      "=> Setting learned tasks of model.2 to 1\n",
      "=> Setting learned tasks of model.4 to 1\n",
      "\n",
      "Training for task 0\n",
      "=> Set task of model.0 to 0\n",
      "=> Set task of model.2 to 0\n",
      "=> Set task of model.4 to 0\n"
     ]
    },
    {
     "data": {
      "application/vnd.jupyter.widget-view+json": {
       "model_id": "c6b8200cb4c64ef68bf0998f56131315",
       "version_major": 2,
       "version_minor": 0
      },
      "text/plain": [
       "  0%|          | 0/469 [00:00<?, ?it/s]"
      ]
     },
     "metadata": {},
     "output_type": "display_data"
    },
    {
     "name": "stdout",
     "output_type": "stream",
     "text": [
      "Validation => Loss 0.2762, Acc@1 0.8294\n",
      "============\n"
     ]
    },
    {
     "data": {
      "application/vnd.jupyter.widget-view+json": {
       "model_id": "70915b9facc8409c8d0a2274418e7789",
       "version_major": 2,
       "version_minor": 0
      },
      "text/plain": [
       "  0%|          | 0/79 [00:00<?, ?it/s]"
      ]
     },
     "metadata": {},
     "output_type": "display_data"
    },
    {
     "name": "stdout",
     "output_type": "stream",
     "text": [
      "Val Perf after 1 epochs Acc@1 0.9102\n",
      "=> Caching mask state for model.0\n",
      "=> Caching mask state for model.2\n",
      "=> Caching mask state for model.4\n",
      "\n",
      "=> Setting learned tasks of model.0 to 1\n",
      "=> Setting learned tasks of model.2 to 1\n",
      "=> Setting learned tasks of model.4 to 1\n",
      "\n",
      "Training for task 0\n",
      "=> Set task of model.0 to 0\n",
      "=> Set task of model.2 to 0\n",
      "=> Set task of model.4 to 0\n"
     ]
    },
    {
     "data": {
      "application/vnd.jupyter.widget-view+json": {
       "model_id": "02a91ce368b54ceeabe0b04ee5eb543f",
       "version_major": 2,
       "version_minor": 0
      },
      "text/plain": [
       "  0%|          | 0/469 [00:00<?, ?it/s]"
      ]
     },
     "metadata": {},
     "output_type": "display_data"
    },
    {
     "name": "stdout",
     "output_type": "stream",
     "text": [
      "Validation => Loss 0.3649, Acc@1 0.8304\n",
      "============\n"
     ]
    },
    {
     "data": {
      "application/vnd.jupyter.widget-view+json": {
       "model_id": "cfb166abc9f644259880db6aa560f60a",
       "version_major": 2,
       "version_minor": 0
      },
      "text/plain": [
       "  0%|          | 0/79 [00:00<?, ?it/s]"
      ]
     },
     "metadata": {},
     "output_type": "display_data"
    },
    {
     "name": "stdout",
     "output_type": "stream",
     "text": [
      "Val Perf after 1 epochs Acc@1 0.9141\n",
      "=> Caching mask state for model.0\n",
      "=> Caching mask state for model.2\n",
      "=> Caching mask state for model.4\n",
      "\n",
      "=> Setting learned tasks of model.0 to 1\n",
      "=> Setting learned tasks of model.2 to 1\n",
      "=> Setting learned tasks of model.4 to 1\n",
      "\n",
      "Training for task 0\n",
      "=> Set task of model.0 to 0\n",
      "=> Set task of model.2 to 0\n",
      "=> Set task of model.4 to 0\n"
     ]
    },
    {
     "data": {
      "application/vnd.jupyter.widget-view+json": {
       "model_id": "f4242dd29d8e49b4a64d03ac09d404de",
       "version_major": 2,
       "version_minor": 0
      },
      "text/plain": [
       "  0%|          | 0/469 [00:00<?, ?it/s]"
      ]
     },
     "metadata": {},
     "output_type": "display_data"
    },
    {
     "name": "stdout",
     "output_type": "stream",
     "text": [
      "Validation => Loss 0.3203, Acc@1 0.8330\n",
      "============\n"
     ]
    },
    {
     "data": {
      "application/vnd.jupyter.widget-view+json": {
       "model_id": "abddd7638fd14ce688171d9a757da016",
       "version_major": 2,
       "version_minor": 0
      },
      "text/plain": [
       "  0%|          | 0/79 [00:00<?, ?it/s]"
      ]
     },
     "metadata": {},
     "output_type": "display_data"
    },
    {
     "name": "stdout",
     "output_type": "stream",
     "text": [
      "Val Perf after 1 epochs Acc@1 0.9140\n",
      "=> Caching mask state for model.0\n",
      "=> Caching mask state for model.2\n",
      "=> Caching mask state for model.4\n",
      "\n",
      "=> Setting learned tasks of model.0 to 1\n",
      "=> Setting learned tasks of model.2 to 1\n",
      "=> Setting learned tasks of model.4 to 1\n",
      "\n",
      "Training for task 0\n",
      "=> Set task of model.0 to 0\n",
      "=> Set task of model.2 to 0\n",
      "=> Set task of model.4 to 0\n"
     ]
    },
    {
     "data": {
      "application/vnd.jupyter.widget-view+json": {
       "model_id": "84d97c9eea27414496243c627e8a7f56",
       "version_major": 2,
       "version_minor": 0
      },
      "text/plain": [
       "  0%|          | 0/469 [00:00<?, ?it/s]"
      ]
     },
     "metadata": {},
     "output_type": "display_data"
    },
    {
     "name": "stdout",
     "output_type": "stream",
     "text": [
      "Validation => Loss 0.3110, Acc@1 0.8424\n",
      "============\n"
     ]
    },
    {
     "data": {
      "application/vnd.jupyter.widget-view+json": {
       "model_id": "de10af5885334a29ae0d5fa344a834fa",
       "version_major": 2,
       "version_minor": 0
      },
      "text/plain": [
       "  0%|          | 0/79 [00:00<?, ?it/s]"
      ]
     },
     "metadata": {},
     "output_type": "display_data"
    },
    {
     "name": "stdout",
     "output_type": "stream",
     "text": [
      "Val Perf after 1 epochs Acc@1 0.9077\n",
      "=> Caching mask state for model.0\n",
      "=> Caching mask state for model.2\n",
      "=> Caching mask state for model.4\n",
      "\n",
      "=> Setting learned tasks of model.0 to 1\n",
      "=> Setting learned tasks of model.2 to 1\n",
      "=> Setting learned tasks of model.4 to 1\n",
      "\n",
      "Training for task 0\n",
      "=> Set task of model.0 to 0\n",
      "=> Set task of model.2 to 0\n",
      "=> Set task of model.4 to 0\n"
     ]
    },
    {
     "data": {
      "application/vnd.jupyter.widget-view+json": {
       "model_id": "ef125b0797d9408eb433d176ddafc749",
       "version_major": 2,
       "version_minor": 0
      },
      "text/plain": [
       "  0%|          | 0/469 [00:00<?, ?it/s]"
      ]
     },
     "metadata": {},
     "output_type": "display_data"
    },
    {
     "name": "stdout",
     "output_type": "stream",
     "text": [
      "Validation => Loss 0.3506, Acc@1 0.8307\n",
      "============\n"
     ]
    },
    {
     "data": {
      "application/vnd.jupyter.widget-view+json": {
       "model_id": "c7a273da0c954adeb0a833467d4ef629",
       "version_major": 2,
       "version_minor": 0
      },
      "text/plain": [
       "  0%|          | 0/79 [00:00<?, ?it/s]"
      ]
     },
     "metadata": {},
     "output_type": "display_data"
    },
    {
     "name": "stdout",
     "output_type": "stream",
     "text": [
      "Val Perf after 1 epochs Acc@1 0.9101\n",
      "=> Caching mask state for model.0\n",
      "=> Caching mask state for model.2\n",
      "=> Caching mask state for model.4\n",
      "\n",
      "=> Setting learned tasks of model.0 to 1\n",
      "=> Setting learned tasks of model.2 to 1\n",
      "=> Setting learned tasks of model.4 to 1\n",
      "\n",
      "Training for task 0\n",
      "=> Set task of model.0 to 0\n",
      "=> Set task of model.2 to 0\n",
      "=> Set task of model.4 to 0\n"
     ]
    },
    {
     "data": {
      "application/vnd.jupyter.widget-view+json": {
       "model_id": "f87b810977434e0e84864bffd6173bfc",
       "version_major": 2,
       "version_minor": 0
      },
      "text/plain": [
       "  0%|          | 0/469 [00:00<?, ?it/s]"
      ]
     },
     "metadata": {},
     "output_type": "display_data"
    },
    {
     "name": "stdout",
     "output_type": "stream",
     "text": [
      "Validation => Loss 0.4260, Acc@1 0.8408\n",
      "============\n"
     ]
    },
    {
     "data": {
      "application/vnd.jupyter.widget-view+json": {
       "model_id": "33303a13b5134fc09eb6913c395c29ad",
       "version_major": 2,
       "version_minor": 0
      },
      "text/plain": [
       "  0%|          | 0/79 [00:00<?, ?it/s]"
      ]
     },
     "metadata": {},
     "output_type": "display_data"
    },
    {
     "name": "stdout",
     "output_type": "stream",
     "text": [
      "Val Perf after 1 epochs Acc@1 0.9109\n",
      "=> Caching mask state for model.0\n",
      "=> Caching mask state for model.2\n",
      "=> Caching mask state for model.4\n",
      "\n",
      "=> Setting learned tasks of model.0 to 1\n",
      "=> Setting learned tasks of model.2 to 1\n",
      "=> Setting learned tasks of model.4 to 1\n",
      "\n",
      "Training for task 0\n",
      "=> Set task of model.0 to 0\n",
      "=> Set task of model.2 to 0\n",
      "=> Set task of model.4 to 0\n"
     ]
    },
    {
     "data": {
      "application/vnd.jupyter.widget-view+json": {
       "model_id": "428a8e3b77224082b0cfb90311603f97",
       "version_major": 2,
       "version_minor": 0
      },
      "text/plain": [
       "  0%|          | 0/469 [00:00<?, ?it/s]"
      ]
     },
     "metadata": {},
     "output_type": "display_data"
    },
    {
     "name": "stdout",
     "output_type": "stream",
     "text": [
      "Validation => Loss 0.3874, Acc@1 0.8389\n",
      "============\n"
     ]
    },
    {
     "data": {
      "application/vnd.jupyter.widget-view+json": {
       "model_id": "bfa333a5acdb44de8196fb21d1cb4e51",
       "version_major": 2,
       "version_minor": 0
      },
      "text/plain": [
       "  0%|          | 0/79 [00:00<?, ?it/s]"
      ]
     },
     "metadata": {},
     "output_type": "display_data"
    },
    {
     "name": "stdout",
     "output_type": "stream",
     "text": [
      "Val Perf after 1 epochs Acc@1 0.9114\n",
      "=> Caching mask state for model.0\n",
      "=> Caching mask state for model.2\n",
      "=> Caching mask state for model.4\n",
      "\n",
      "=> Setting learned tasks of model.0 to 1\n",
      "=> Setting learned tasks of model.2 to 1\n",
      "=> Setting learned tasks of model.4 to 1\n",
      "\n",
      "Training for task 0\n",
      "=> Set task of model.0 to 0\n",
      "=> Set task of model.2 to 0\n",
      "=> Set task of model.4 to 0\n"
     ]
    },
    {
     "data": {
      "application/vnd.jupyter.widget-view+json": {
       "model_id": "1bd21634a6e14597bca4cd94c9ec3b20",
       "version_major": 2,
       "version_minor": 0
      },
      "text/plain": [
       "  0%|          | 0/469 [00:00<?, ?it/s]"
      ]
     },
     "metadata": {},
     "output_type": "display_data"
    },
    {
     "name": "stdout",
     "output_type": "stream",
     "text": [
      "Validation => Loss 0.2733, Acc@1 0.8467\n",
      "============\n"
     ]
    },
    {
     "data": {
      "application/vnd.jupyter.widget-view+json": {
       "model_id": "ba53c4b1d71546fabfe276a09f1f0871",
       "version_major": 2,
       "version_minor": 0
      },
      "text/plain": [
       "  0%|          | 0/79 [00:00<?, ?it/s]"
      ]
     },
     "metadata": {},
     "output_type": "display_data"
    },
    {
     "name": "stdout",
     "output_type": "stream",
     "text": [
      "Val Perf after 1 epochs Acc@1 0.9116\n",
      "=> Caching mask state for model.0\n",
      "=> Caching mask state for model.2\n",
      "=> Caching mask state for model.4\n",
      "\n",
      "=> Setting learned tasks of model.0 to 1\n",
      "=> Setting learned tasks of model.2 to 1\n",
      "=> Setting learned tasks of model.4 to 1\n",
      "\n",
      "Training for task 0\n",
      "=> Set task of model.0 to 0\n",
      "=> Set task of model.2 to 0\n",
      "=> Set task of model.4 to 0\n"
     ]
    },
    {
     "data": {
      "application/vnd.jupyter.widget-view+json": {
       "model_id": "6f85edf717224645931289b84d07fa0c",
       "version_major": 2,
       "version_minor": 0
      },
      "text/plain": [
       "  0%|          | 0/469 [00:00<?, ?it/s]"
      ]
     },
     "metadata": {},
     "output_type": "display_data"
    },
    {
     "name": "stdout",
     "output_type": "stream",
     "text": [
      "Validation => Loss 0.3966, Acc@1 0.8434\n",
      "============\n"
     ]
    },
    {
     "data": {
      "application/vnd.jupyter.widget-view+json": {
       "model_id": "5870cb94f8424670a5a6f45e11a154a8",
       "version_major": 2,
       "version_minor": 0
      },
      "text/plain": [
       "  0%|          | 0/79 [00:00<?, ?it/s]"
      ]
     },
     "metadata": {},
     "output_type": "display_data"
    },
    {
     "name": "stdout",
     "output_type": "stream",
     "text": [
      "Val Perf after 1 epochs Acc@1 0.9098\n",
      "=> Caching mask state for model.0\n",
      "=> Caching mask state for model.2\n",
      "=> Caching mask state for model.4\n",
      "\n",
      "=> Setting learned tasks of model.0 to 1\n",
      "=> Setting learned tasks of model.2 to 1\n",
      "=> Setting learned tasks of model.4 to 1\n",
      "\n",
      "Training for task 0\n",
      "=> Set task of model.0 to 0\n",
      "=> Set task of model.2 to 0\n",
      "=> Set task of model.4 to 0\n"
     ]
    },
    {
     "data": {
      "application/vnd.jupyter.widget-view+json": {
       "model_id": "01e26c5991fa4fd88909570fb1f10d91",
       "version_major": 2,
       "version_minor": 0
      },
      "text/plain": [
       "  0%|          | 0/469 [00:00<?, ?it/s]"
      ]
     },
     "metadata": {},
     "output_type": "display_data"
    },
    {
     "name": "stdout",
     "output_type": "stream",
     "text": [
      "Validation => Loss 0.2999, Acc@1 0.8402\n",
      "============\n"
     ]
    },
    {
     "data": {
      "application/vnd.jupyter.widget-view+json": {
       "model_id": "19b8ac69f9744acc8da4e7ac277e44b1",
       "version_major": 2,
       "version_minor": 0
      },
      "text/plain": [
       "  0%|          | 0/79 [00:00<?, ?it/s]"
      ]
     },
     "metadata": {},
     "output_type": "display_data"
    },
    {
     "name": "stdout",
     "output_type": "stream",
     "text": [
      "Val Perf after 1 epochs Acc@1 0.9120\n",
      "=> Caching mask state for model.0\n",
      "=> Caching mask state for model.2\n",
      "=> Caching mask state for model.4\n",
      "\n",
      "=> Setting learned tasks of model.0 to 1\n",
      "=> Setting learned tasks of model.2 to 1\n",
      "=> Setting learned tasks of model.4 to 1\n",
      "\n",
      "Training for task 0\n",
      "=> Set task of model.0 to 0\n",
      "=> Set task of model.2 to 0\n",
      "=> Set task of model.4 to 0\n"
     ]
    },
    {
     "data": {
      "application/vnd.jupyter.widget-view+json": {
       "model_id": "8af3d960c4dc43b4aa44c43745c8e0a2",
       "version_major": 2,
       "version_minor": 0
      },
      "text/plain": [
       "  0%|          | 0/469 [00:00<?, ?it/s]"
      ]
     },
     "metadata": {},
     "output_type": "display_data"
    },
    {
     "name": "stdout",
     "output_type": "stream",
     "text": [
      "Validation => Loss 0.4134, Acc@1 0.8343\n",
      "============\n"
     ]
    },
    {
     "data": {
      "application/vnd.jupyter.widget-view+json": {
       "model_id": "c7408995a9334ca4b316b35508f71ebf",
       "version_major": 2,
       "version_minor": 0
      },
      "text/plain": [
       "  0%|          | 0/79 [00:00<?, ?it/s]"
      ]
     },
     "metadata": {},
     "output_type": "display_data"
    },
    {
     "name": "stdout",
     "output_type": "stream",
     "text": [
      "Val Perf after 1 epochs Acc@1 0.9107\n",
      "=> Caching mask state for model.0\n",
      "=> Caching mask state for model.2\n",
      "=> Caching mask state for model.4\n",
      "\n",
      "=> Setting learned tasks of model.0 to 1\n",
      "=> Setting learned tasks of model.2 to 1\n",
      "=> Setting learned tasks of model.4 to 1\n",
      "\n",
      "Training for task 0\n",
      "=> Set task of model.0 to 0\n",
      "=> Set task of model.2 to 0\n",
      "=> Set task of model.4 to 0\n"
     ]
    },
    {
     "data": {
      "application/vnd.jupyter.widget-view+json": {
       "model_id": "6f9b1b0c06014700876ffc913e39fcdd",
       "version_major": 2,
       "version_minor": 0
      },
      "text/plain": [
       "  0%|          | 0/469 [00:00<?, ?it/s]"
      ]
     },
     "metadata": {},
     "output_type": "display_data"
    },
    {
     "name": "stdout",
     "output_type": "stream",
     "text": [
      "Validation => Loss 0.4034, Acc@1 0.8402\n",
      "============\n"
     ]
    },
    {
     "data": {
      "application/vnd.jupyter.widget-view+json": {
       "model_id": "f373b2992bf347428af4fbef84de7e5f",
       "version_major": 2,
       "version_minor": 0
      },
      "text/plain": [
       "  0%|          | 0/79 [00:00<?, ?it/s]"
      ]
     },
     "metadata": {},
     "output_type": "display_data"
    },
    {
     "name": "stdout",
     "output_type": "stream",
     "text": [
      "Val Perf after 1 epochs Acc@1 0.9151\n",
      "=> Caching mask state for model.0\n",
      "=> Caching mask state for model.2\n",
      "=> Caching mask state for model.4\n",
      "\n",
      "=> Setting learned tasks of model.0 to 1\n",
      "=> Setting learned tasks of model.2 to 1\n",
      "=> Setting learned tasks of model.4 to 1\n",
      "\n",
      "Training for task 0\n",
      "=> Set task of model.0 to 0\n",
      "=> Set task of model.2 to 0\n",
      "=> Set task of model.4 to 0\n"
     ]
    },
    {
     "data": {
      "application/vnd.jupyter.widget-view+json": {
       "model_id": "dcd073c1ae964192b55aba805ac2b97c",
       "version_major": 2,
       "version_minor": 0
      },
      "text/plain": [
       "  0%|          | 0/469 [00:00<?, ?it/s]"
      ]
     },
     "metadata": {},
     "output_type": "display_data"
    },
    {
     "name": "stdout",
     "output_type": "stream",
     "text": [
      "Validation => Loss 0.3331, Acc@1 0.8330\n",
      "============\n"
     ]
    },
    {
     "data": {
      "application/vnd.jupyter.widget-view+json": {
       "model_id": "7b64150608d64f76adeb1b35ecfec5b4",
       "version_major": 2,
       "version_minor": 0
      },
      "text/plain": [
       "  0%|          | 0/79 [00:00<?, ?it/s]"
      ]
     },
     "metadata": {},
     "output_type": "display_data"
    },
    {
     "name": "stdout",
     "output_type": "stream",
     "text": [
      "Val Perf after 1 epochs Acc@1 0.9131\n",
      "=> Caching mask state for model.0\n",
      "=> Caching mask state for model.2\n",
      "=> Caching mask state for model.4\n",
      "\n",
      "=> Setting learned tasks of model.0 to 1\n",
      "=> Setting learned tasks of model.2 to 1\n",
      "=> Setting learned tasks of model.4 to 1\n",
      "\n",
      "Training for task 0\n",
      "=> Set task of model.0 to 0\n",
      "=> Set task of model.2 to 0\n",
      "=> Set task of model.4 to 0\n"
     ]
    },
    {
     "data": {
      "application/vnd.jupyter.widget-view+json": {
       "model_id": "8a7b7e384653405a990188f095068765",
       "version_major": 2,
       "version_minor": 0
      },
      "text/plain": [
       "  0%|          | 0/469 [00:00<?, ?it/s]"
      ]
     },
     "metadata": {},
     "output_type": "display_data"
    },
    {
     "name": "stdout",
     "output_type": "stream",
     "text": [
      "Validation => Loss 0.4425, Acc@1 0.8258\n",
      "============\n"
     ]
    },
    {
     "data": {
      "application/vnd.jupyter.widget-view+json": {
       "model_id": "ae88c110f34941f4a1a0f82a717d9405",
       "version_major": 2,
       "version_minor": 0
      },
      "text/plain": [
       "  0%|          | 0/79 [00:00<?, ?it/s]"
      ]
     },
     "metadata": {},
     "output_type": "display_data"
    },
    {
     "name": "stdout",
     "output_type": "stream",
     "text": [
      "Val Perf after 1 epochs Acc@1 0.9042\n",
      "=> Caching mask state for model.0\n",
      "=> Caching mask state for model.2\n",
      "=> Caching mask state for model.4\n",
      "\n",
      "=> Setting learned tasks of model.0 to 1\n",
      "=> Setting learned tasks of model.2 to 1\n",
      "=> Setting learned tasks of model.4 to 1\n",
      "\n",
      "Training for task 0\n",
      "=> Set task of model.0 to 0\n",
      "=> Set task of model.2 to 0\n",
      "=> Set task of model.4 to 0\n"
     ]
    },
    {
     "data": {
      "application/vnd.jupyter.widget-view+json": {
       "model_id": "1e2a5a7c26c24c0f8f2dc804c3853ace",
       "version_major": 2,
       "version_minor": 0
      },
      "text/plain": [
       "  0%|          | 0/469 [00:00<?, ?it/s]"
      ]
     },
     "metadata": {},
     "output_type": "display_data"
    },
    {
     "name": "stdout",
     "output_type": "stream",
     "text": [
      "Validation => Loss 0.3012, Acc@1 0.8428\n",
      "============\n"
     ]
    },
    {
     "data": {
      "application/vnd.jupyter.widget-view+json": {
       "model_id": "c95deb6bb228492b92c1f195dbb12876",
       "version_major": 2,
       "version_minor": 0
      },
      "text/plain": [
       "  0%|          | 0/79 [00:00<?, ?it/s]"
      ]
     },
     "metadata": {},
     "output_type": "display_data"
    },
    {
     "name": "stdout",
     "output_type": "stream",
     "text": [
      "Val Perf after 1 epochs Acc@1 0.9107\n",
      "=> Caching mask state for model.0\n",
      "=> Caching mask state for model.2\n",
      "=> Caching mask state for model.4\n",
      "\n",
      "=> Setting learned tasks of model.0 to 1\n",
      "=> Setting learned tasks of model.2 to 1\n",
      "=> Setting learned tasks of model.4 to 1\n",
      "\n",
      "Training for task 0\n",
      "=> Set task of model.0 to 0\n",
      "=> Set task of model.2 to 0\n",
      "=> Set task of model.4 to 0\n"
     ]
    },
    {
     "data": {
      "application/vnd.jupyter.widget-view+json": {
       "model_id": "4300cdf76de84d5980a627068d881cb7",
       "version_major": 2,
       "version_minor": 0
      },
      "text/plain": [
       "  0%|          | 0/469 [00:00<?, ?it/s]"
      ]
     },
     "metadata": {},
     "output_type": "display_data"
    },
    {
     "name": "stdout",
     "output_type": "stream",
     "text": [
      "Validation => Loss 0.3654, Acc@1 0.8369\n",
      "============\n"
     ]
    },
    {
     "data": {
      "application/vnd.jupyter.widget-view+json": {
       "model_id": "f23e0174c9cd4fe597b47f5105a8bf3e",
       "version_major": 2,
       "version_minor": 0
      },
      "text/plain": [
       "  0%|          | 0/79 [00:00<?, ?it/s]"
      ]
     },
     "metadata": {},
     "output_type": "display_data"
    },
    {
     "name": "stdout",
     "output_type": "stream",
     "text": [
      "Val Perf after 1 epochs Acc@1 0.9114\n",
      "=> Caching mask state for model.0\n",
      "=> Caching mask state for model.2\n",
      "=> Caching mask state for model.4\n",
      "\n",
      "=> Setting learned tasks of model.0 to 1\n",
      "=> Setting learned tasks of model.2 to 1\n",
      "=> Setting learned tasks of model.4 to 1\n",
      "\n",
      "Training for task 0\n",
      "=> Set task of model.0 to 0\n",
      "=> Set task of model.2 to 0\n",
      "=> Set task of model.4 to 0\n"
     ]
    },
    {
     "data": {
      "application/vnd.jupyter.widget-view+json": {
       "model_id": "14e31efc367f472a9e5cfd9b34058bec",
       "version_major": 2,
       "version_minor": 0
      },
      "text/plain": [
       "  0%|          | 0/469 [00:00<?, ?it/s]"
      ]
     },
     "metadata": {},
     "output_type": "display_data"
    },
    {
     "name": "stdout",
     "output_type": "stream",
     "text": [
      "Validation => Loss 0.4089, Acc@1 0.8288\n",
      "============\n"
     ]
    },
    {
     "data": {
      "application/vnd.jupyter.widget-view+json": {
       "model_id": "a73162ed59b94b9a9c0db015067eb08b",
       "version_major": 2,
       "version_minor": 0
      },
      "text/plain": [
       "  0%|          | 0/79 [00:00<?, ?it/s]"
      ]
     },
     "metadata": {},
     "output_type": "display_data"
    },
    {
     "name": "stdout",
     "output_type": "stream",
     "text": [
      "Val Perf after 1 epochs Acc@1 0.9138\n",
      "=> Caching mask state for model.0\n",
      "=> Caching mask state for model.2\n",
      "=> Caching mask state for model.4\n",
      "\n",
      "=> Setting learned tasks of model.0 to 1\n",
      "=> Setting learned tasks of model.2 to 1\n",
      "=> Setting learned tasks of model.4 to 1\n",
      "\n",
      "Training for task 0\n",
      "=> Set task of model.0 to 0\n",
      "=> Set task of model.2 to 0\n",
      "=> Set task of model.4 to 0\n"
     ]
    },
    {
     "data": {
      "application/vnd.jupyter.widget-view+json": {
       "model_id": "e4417d76b7ed48e6841b0593dff88baf",
       "version_major": 2,
       "version_minor": 0
      },
      "text/plain": [
       "  0%|          | 0/469 [00:00<?, ?it/s]"
      ]
     },
     "metadata": {},
     "output_type": "display_data"
    },
    {
     "name": "stdout",
     "output_type": "stream",
     "text": [
      "Validation => Loss 0.3379, Acc@1 0.8545\n",
      "============\n"
     ]
    },
    {
     "data": {
      "application/vnd.jupyter.widget-view+json": {
       "model_id": "0116cbd97f8d4991838c0622ee3e4958",
       "version_major": 2,
       "version_minor": 0
      },
      "text/plain": [
       "  0%|          | 0/79 [00:00<?, ?it/s]"
      ]
     },
     "metadata": {},
     "output_type": "display_data"
    },
    {
     "name": "stdout",
     "output_type": "stream",
     "text": [
      "Val Perf after 1 epochs Acc@1 0.9143\n",
      "=> Caching mask state for model.0\n",
      "=> Caching mask state for model.2\n",
      "=> Caching mask state for model.4\n",
      "\n",
      "=> Setting learned tasks of model.0 to 1\n",
      "=> Setting learned tasks of model.2 to 1\n",
      "=> Setting learned tasks of model.4 to 1\n",
      "\n",
      "Training for task 0\n",
      "=> Set task of model.0 to 0\n",
      "=> Set task of model.2 to 0\n",
      "=> Set task of model.4 to 0\n"
     ]
    },
    {
     "data": {
      "application/vnd.jupyter.widget-view+json": {
       "model_id": "812477b178a14eeda95bdef20498226b",
       "version_major": 2,
       "version_minor": 0
      },
      "text/plain": [
       "  0%|          | 0/469 [00:00<?, ?it/s]"
      ]
     },
     "metadata": {},
     "output_type": "display_data"
    },
    {
     "name": "stdout",
     "output_type": "stream",
     "text": [
      "Validation => Loss 0.2193, Acc@1 0.8411\n",
      "============\n"
     ]
    },
    {
     "data": {
      "application/vnd.jupyter.widget-view+json": {
       "model_id": "ff778334d1d74cb19bf48a821ea875b1",
       "version_major": 2,
       "version_minor": 0
      },
      "text/plain": [
       "  0%|          | 0/79 [00:00<?, ?it/s]"
      ]
     },
     "metadata": {},
     "output_type": "display_data"
    },
    {
     "name": "stdout",
     "output_type": "stream",
     "text": [
      "Val Perf after 1 epochs Acc@1 0.9100\n",
      "=> Caching mask state for model.0\n",
      "=> Caching mask state for model.2\n",
      "=> Caching mask state for model.4\n",
      "\n",
      "=> Setting learned tasks of model.0 to 1\n",
      "=> Setting learned tasks of model.2 to 1\n",
      "=> Setting learned tasks of model.4 to 1\n",
      "\n",
      "Training for task 0\n",
      "=> Set task of model.0 to 0\n",
      "=> Set task of model.2 to 0\n",
      "=> Set task of model.4 to 0\n"
     ]
    },
    {
     "data": {
      "application/vnd.jupyter.widget-view+json": {
       "model_id": "cf076fc84f3b4f61a7e5eba8e0a50794",
       "version_major": 2,
       "version_minor": 0
      },
      "text/plain": [
       "  0%|          | 0/469 [00:00<?, ?it/s]"
      ]
     },
     "metadata": {},
     "output_type": "display_data"
    },
    {
     "name": "stdout",
     "output_type": "stream",
     "text": [
      "Validation => Loss 0.3955, Acc@1 0.8382\n",
      "============\n"
     ]
    },
    {
     "data": {
      "application/vnd.jupyter.widget-view+json": {
       "model_id": "4f9fad6082794a0b98b34a94e584365d",
       "version_major": 2,
       "version_minor": 0
      },
      "text/plain": [
       "  0%|          | 0/79 [00:00<?, ?it/s]"
      ]
     },
     "metadata": {},
     "output_type": "display_data"
    },
    {
     "name": "stdout",
     "output_type": "stream",
     "text": [
      "Val Perf after 1 epochs Acc@1 0.9147\n",
      "=> Caching mask state for model.0\n",
      "=> Caching mask state for model.2\n",
      "=> Caching mask state for model.4\n",
      "\n",
      "=> Setting learned tasks of model.0 to 1\n",
      "=> Setting learned tasks of model.2 to 1\n",
      "=> Setting learned tasks of model.4 to 1\n",
      "\n"
     ]
    }
   ],
   "source": [
    "for idx, modeli in model_map.items():\n",
    "    for task in range(1):\n",
    "        print(f\"Training for task {task}\")\n",
    "        set_model_task(modeli, task)\n",
    "        mnisti = loaders[idx]\n",
    "        mnisti.update_task(task)\n",
    "\n",
    "        optimizer1 = optim.RMSprop([p for p in modeli.parameters() if p.requires_grad], lr=1e-4)\n",
    "        # Train for 1 epoch\n",
    "        for e in range(1):\n",
    "            train(modeli, mnisti.train_loader, optimizer1, e)\n",
    "            \n",
    "            print(\"Validation\")\n",
    "            print(\"============\")\n",
    "            acc1 = evaluate(modeli, mnisti.val_loader, e)\n",
    "\n",
    "\n",
    "        cache_masks(modeli)\n",
    "        print()\n",
    "        set_num_tasks_learned(modeli, task + 1)\n",
    "        print()"
   ]
  },
  {
   "cell_type": "code",
   "execution_count": 23,
   "metadata": {},
   "outputs": [],
   "source": [
    "def overlap(mask1, mask2):\n",
    "    assert mask1.shape == mask2.shape\n",
    "    count_same = (mask1 + mask2 - 1).abs().sum()\n",
    "    return count_same / (1.0*(mask1.shape[0] * mask1.shape[1]))"
   ]
  },
  {
   "cell_type": "code",
   "execution_count": 24,
   "metadata": {},
   "outputs": [],
   "source": [
    "from itertools import product"
   ]
  },
  {
   "cell_type": "code",
   "execution_count": 25,
   "metadata": {},
   "outputs": [
    {
     "name": "stdout",
     "output_type": "stream",
     "text": [
      "Layer: 0, Models: (0, 1), Overlap: 0.6442686915397644\n",
      "Layer: 0, Models: (0, 2), Overlap: 0.6420068144798279\n",
      "Layer: 0, Models: (0, 3), Overlap: 0.6416071653366089\n",
      "Layer: 0, Models: (0, 4), Overlap: 0.6425085067749023\n",
      "Layer: 0, Models: (0, 5), Overlap: 0.6434183716773987\n",
      "Layer: 0, Models: (0, 6), Overlap: 0.6419727802276611\n",
      "Layer: 0, Models: (0, 7), Overlap: 0.6440390944480896\n",
      "Layer: 0, Models: (0, 8), Overlap: 0.6413435339927673\n",
      "Layer: 0, Models: (0, 9), Overlap: 0.6436904668807983\n",
      "Layer: 0, Models: (0, 10), Overlap: 0.6424234509468079\n",
      "Layer: 0, Models: (0, 11), Overlap: 0.642380952835083\n",
      "Layer: 0, Models: (0, 12), Overlap: 0.6446598768234253\n",
      "Layer: 0, Models: (0, 13), Overlap: 0.6445407867431641\n",
      "Layer: 0, Models: (0, 14), Overlap: 0.6431037187576294\n",
      "Layer: 0, Models: (1, 0), Overlap: 0.6442686915397644\n",
      "Layer: 0, Models: (1, 2), Overlap: 0.6431037187576294\n",
      "Layer: 0, Models: (1, 3), Overlap: 0.6416666507720947\n",
      "Layer: 0, Models: (1, 4), Overlap: 0.6440390944480896\n",
      "Layer: 0, Models: (1, 5), Overlap: 0.6425254940986633\n",
      "Layer: 0, Models: (1, 6), Overlap: 0.6416581869125366\n",
      "Layer: 0, Models: (1, 7), Overlap: 0.6420323252677917\n",
      "Layer: 0, Models: (1, 8), Overlap: 0.6436649560928345\n",
      "Layer: 0, Models: (1, 9), Overlap: 0.641403079032898\n",
      "Layer: 0, Models: (1, 10), Overlap: 0.6407908201217651\n",
      "Layer: 0, Models: (1, 11), Overlap: 0.6429081559181213\n",
      "Layer: 0, Models: (1, 12), Overlap: 0.6443537473678589\n",
      "Layer: 0, Models: (1, 13), Overlap: 0.6424319744110107\n",
      "Layer: 0, Models: (1, 14), Overlap: 0.6422789096832275\n",
      "Layer: 0, Models: (2, 0), Overlap: 0.6420068144798279\n",
      "Layer: 0, Models: (2, 1), Overlap: 0.6431037187576294\n",
      "Layer: 0, Models: (2, 3), Overlap: 0.6403401494026184\n",
      "Layer: 0, Models: (2, 4), Overlap: 0.6411564350128174\n",
      "Layer: 0, Models: (2, 5), Overlap: 0.6420833468437195\n",
      "Layer: 0, Models: (2, 6), Overlap: 0.6428911685943604\n",
      "Layer: 0, Models: (2, 7), Overlap: 0.6417772173881531\n",
      "Layer: 0, Models: (2, 8), Overlap: 0.6430526971817017\n",
      "Layer: 0, Models: (2, 9), Overlap: 0.6430187225341797\n",
      "Layer: 0, Models: (2, 10), Overlap: 0.6417261958122253\n",
      "Layer: 0, Models: (2, 11), Overlap: 0.6415390968322754\n",
      "Layer: 0, Models: (2, 12), Overlap: 0.642397940158844\n",
      "Layer: 0, Models: (2, 13), Overlap: 0.6407908201217651\n",
      "Layer: 0, Models: (2, 14), Overlap: 0.641198992729187\n",
      "Layer: 0, Models: (3, 0), Overlap: 0.6416071653366089\n",
      "Layer: 0, Models: (3, 1), Overlap: 0.6416666507720947\n",
      "Layer: 0, Models: (3, 2), Overlap: 0.6403401494026184\n",
      "Layer: 0, Models: (3, 4), Overlap: 0.6422789096832275\n",
      "Layer: 0, Models: (3, 5), Overlap: 0.6435034275054932\n",
      "Layer: 0, Models: (3, 6), Overlap: 0.6430612206459045\n",
      "Layer: 0, Models: (3, 7), Overlap: 0.6421428322792053\n",
      "Layer: 0, Models: (3, 8), Overlap: 0.6419302821159363\n",
      "Layer: 0, Models: (3, 9), Overlap: 0.6398554444313049\n",
      "Layer: 0, Models: (3, 10), Overlap: 0.6423469185829163\n",
      "Layer: 0, Models: (3, 11), Overlap: 0.6413435339927673\n",
      "Layer: 0, Models: (3, 12), Overlap: 0.6426530480384827\n",
      "Layer: 0, Models: (3, 13), Overlap: 0.6420323252677917\n",
      "Layer: 0, Models: (3, 14), Overlap: 0.6423044204711914\n",
      "Layer: 0, Models: (4, 0), Overlap: 0.6425085067749023\n",
      "Layer: 0, Models: (4, 1), Overlap: 0.6440390944480896\n",
      "Layer: 0, Models: (4, 2), Overlap: 0.6411564350128174\n",
      "Layer: 0, Models: (4, 3), Overlap: 0.6422789096832275\n",
      "Layer: 0, Models: (4, 5), Overlap: 0.6440561413764954\n",
      "Layer: 0, Models: (4, 6), Overlap: 0.6417602300643921\n",
      "Layer: 0, Models: (4, 7), Overlap: 0.6431887745857239\n",
      "Layer: 0, Models: (4, 8), Overlap: 0.6428826451301575\n",
      "Layer: 0, Models: (4, 9), Overlap: 0.6428741216659546\n",
      "Layer: 0, Models: (4, 10), Overlap: 0.6434693932533264\n",
      "Layer: 0, Models: (4, 11), Overlap: 0.6424149870872498\n",
      "Layer: 0, Models: (4, 12), Overlap: 0.6440561413764954\n",
      "Layer: 0, Models: (4, 13), Overlap: 0.6428231000900269\n",
      "Layer: 0, Models: (4, 14), Overlap: 0.6432738304138184\n",
      "Layer: 0, Models: (5, 0), Overlap: 0.6434183716773987\n",
      "Layer: 0, Models: (5, 1), Overlap: 0.6425254940986633\n",
      "Layer: 0, Models: (5, 2), Overlap: 0.6420833468437195\n",
      "Layer: 0, Models: (5, 3), Overlap: 0.6435034275054932\n",
      "Layer: 0, Models: (5, 4), Overlap: 0.6440561413764954\n",
      "Layer: 0, Models: (5, 6), Overlap: 0.6419387459754944\n",
      "Layer: 0, Models: (5, 7), Overlap: 0.6435799598693848\n",
      "Layer: 0, Models: (5, 8), Overlap: 0.6425425410270691\n",
      "Layer: 0, Models: (5, 9), Overlap: 0.6417602300643921\n",
      "Layer: 0, Models: (5, 10), Overlap: 0.6444302797317505\n",
      "Layer: 0, Models: (5, 11), Overlap: 0.6434949040412903\n",
      "Layer: 0, Models: (5, 12), Overlap: 0.6461054682731628\n",
      "Layer: 0, Models: (5, 13), Overlap: 0.6448724269866943\n",
      "Layer: 0, Models: (5, 14), Overlap: 0.6428996324539185\n",
      "Layer: 0, Models: (6, 0), Overlap: 0.6419727802276611\n",
      "Layer: 0, Models: (6, 1), Overlap: 0.6416581869125366\n",
      "Layer: 0, Models: (6, 2), Overlap: 0.6428911685943604\n",
      "Layer: 0, Models: (6, 3), Overlap: 0.6430612206459045\n",
      "Layer: 0, Models: (6, 4), Overlap: 0.6417602300643921\n",
      "Layer: 0, Models: (6, 5), Overlap: 0.6419387459754944\n",
      "Layer: 0, Models: (6, 7), Overlap: 0.6426105499267578\n",
      "Layer: 0, Models: (6, 8), Overlap: 0.6430867314338684\n",
      "Layer: 0, Models: (6, 9), Overlap: 0.6405867338180542\n",
      "Layer: 0, Models: (6, 10), Overlap: 0.6417602300643921\n",
      "Layer: 0, Models: (6, 11), Overlap: 0.6419897675514221\n",
      "Layer: 0, Models: (6, 12), Overlap: 0.641598641872406\n",
      "Layer: 0, Models: (6, 13), Overlap: 0.6422278881072998\n",
      "Layer: 0, Models: (6, 14), Overlap: 0.6424744725227356\n",
      "Layer: 0, Models: (7, 0), Overlap: 0.6440390944480896\n",
      "Layer: 0, Models: (7, 1), Overlap: 0.6420323252677917\n",
      "Layer: 0, Models: (7, 2), Overlap: 0.6417772173881531\n",
      "Layer: 0, Models: (7, 3), Overlap: 0.6421428322792053\n",
      "Layer: 0, Models: (7, 4), Overlap: 0.6431887745857239\n",
      "Layer: 0, Models: (7, 5), Overlap: 0.6435799598693848\n",
      "Layer: 0, Models: (7, 6), Overlap: 0.6426105499267578\n",
      "Layer: 0, Models: (7, 8), Overlap: 0.6425254940986633\n",
      "Layer: 0, Models: (7, 9), Overlap: 0.6419642567634583\n",
      "Layer: 0, Models: (7, 10), Overlap: 0.641785740852356\n",
      "Layer: 0, Models: (7, 11), Overlap: 0.6441581845283508\n",
      "Layer: 0, Models: (7, 12), Overlap: 0.6435714364051819\n",
      "Layer: 0, Models: (7, 13), Overlap: 0.6427381038665771\n",
      "Layer: 0, Models: (7, 14), Overlap: 0.6424404978752136\n",
      "Layer: 0, Models: (8, 0), Overlap: 0.6413435339927673\n",
      "Layer: 0, Models: (8, 1), Overlap: 0.6436649560928345\n",
      "Layer: 0, Models: (8, 2), Overlap: 0.6430526971817017\n",
      "Layer: 0, Models: (8, 3), Overlap: 0.6419302821159363\n",
      "Layer: 0, Models: (8, 4), Overlap: 0.6428826451301575\n",
      "Layer: 0, Models: (8, 5), Overlap: 0.6425425410270691\n",
      "Layer: 0, Models: (8, 6), Overlap: 0.6430867314338684\n",
      "Layer: 0, Models: (8, 7), Overlap: 0.6425254940986633\n",
      "Layer: 0, Models: (8, 9), Overlap: 0.6418452262878418\n",
      "Layer: 0, Models: (8, 10), Overlap: 0.6425595283508301\n",
      "Layer: 0, Models: (8, 11), Overlap: 0.6419302821159363\n",
      "Layer: 0, Models: (8, 12), Overlap: 0.6428316235542297\n",
      "Layer: 0, Models: (8, 13), Overlap: 0.6412925124168396\n",
      "Layer: 0, Models: (8, 14), Overlap: 0.6418622732162476\n",
      "Layer: 0, Models: (9, 0), Overlap: 0.6436904668807983\n",
      "Layer: 0, Models: (9, 1), Overlap: 0.641403079032898\n",
      "Layer: 0, Models: (9, 2), Overlap: 0.6430187225341797\n",
      "Layer: 0, Models: (9, 3), Overlap: 0.6398554444313049\n",
      "Layer: 0, Models: (9, 4), Overlap: 0.6428741216659546\n",
      "Layer: 0, Models: (9, 5), Overlap: 0.6417602300643921\n",
      "Layer: 0, Models: (9, 6), Overlap: 0.6405867338180542\n",
      "Layer: 0, Models: (9, 7), Overlap: 0.6419642567634583\n",
      "Layer: 0, Models: (9, 8), Overlap: 0.6418452262878418\n",
      "Layer: 0, Models: (9, 10), Overlap: 0.6438520550727844\n",
      "Layer: 0, Models: (9, 11), Overlap: 0.6440731287002563\n",
      "Layer: 0, Models: (9, 12), Overlap: 0.6432822942733765\n",
      "Layer: 0, Models: (9, 13), Overlap: 0.6415646076202393\n",
      "Layer: 0, Models: (9, 14), Overlap: 0.6434183716773987\n",
      "Layer: 0, Models: (10, 0), Overlap: 0.6424234509468079\n",
      "Layer: 0, Models: (10, 1), Overlap: 0.6407908201217651\n",
      "Layer: 0, Models: (10, 2), Overlap: 0.6417261958122253\n",
      "Layer: 0, Models: (10, 3), Overlap: 0.6423469185829163\n",
      "Layer: 0, Models: (10, 4), Overlap: 0.6434693932533264\n",
      "Layer: 0, Models: (10, 5), Overlap: 0.6444302797317505\n",
      "Layer: 0, Models: (10, 6), Overlap: 0.6417602300643921\n",
      "Layer: 0, Models: (10, 7), Overlap: 0.641785740852356\n",
      "Layer: 0, Models: (10, 8), Overlap: 0.6425595283508301\n",
      "Layer: 0, Models: (10, 9), Overlap: 0.6438520550727844\n",
      "Layer: 0, Models: (10, 11), Overlap: 0.6440646052360535\n",
      "Layer: 0, Models: (10, 12), Overlap: 0.6436224579811096\n",
      "Layer: 0, Models: (10, 13), Overlap: 0.6434693932533264\n",
      "Layer: 0, Models: (10, 14), Overlap: 0.6450340151786804\n"
     ]
    },
    {
     "name": "stdout",
     "output_type": "stream",
     "text": [
      "Layer: 0, Models: (11, 0), Overlap: 0.642380952835083\n",
      "Layer: 0, Models: (11, 1), Overlap: 0.6429081559181213\n",
      "Layer: 0, Models: (11, 2), Overlap: 0.6415390968322754\n",
      "Layer: 0, Models: (11, 3), Overlap: 0.6413435339927673\n",
      "Layer: 0, Models: (11, 4), Overlap: 0.6424149870872498\n",
      "Layer: 0, Models: (11, 5), Overlap: 0.6434949040412903\n",
      "Layer: 0, Models: (11, 6), Overlap: 0.6419897675514221\n",
      "Layer: 0, Models: (11, 7), Overlap: 0.6441581845283508\n",
      "Layer: 0, Models: (11, 8), Overlap: 0.6419302821159363\n",
      "Layer: 0, Models: (11, 9), Overlap: 0.6440731287002563\n",
      "Layer: 0, Models: (11, 10), Overlap: 0.6440646052360535\n",
      "Layer: 0, Models: (11, 12), Overlap: 0.6443962454795837\n",
      "Layer: 0, Models: (11, 13), Overlap: 0.6433163285255432\n",
      "Layer: 0, Models: (11, 14), Overlap: 0.643146276473999\n",
      "Layer: 0, Models: (12, 0), Overlap: 0.6446598768234253\n",
      "Layer: 0, Models: (12, 1), Overlap: 0.6443537473678589\n",
      "Layer: 0, Models: (12, 2), Overlap: 0.642397940158844\n",
      "Layer: 0, Models: (12, 3), Overlap: 0.6426530480384827\n",
      "Layer: 0, Models: (12, 4), Overlap: 0.6440561413764954\n",
      "Layer: 0, Models: (12, 5), Overlap: 0.6461054682731628\n",
      "Layer: 0, Models: (12, 6), Overlap: 0.641598641872406\n",
      "Layer: 0, Models: (12, 7), Overlap: 0.6435714364051819\n",
      "Layer: 0, Models: (12, 8), Overlap: 0.6428316235542297\n",
      "Layer: 0, Models: (12, 9), Overlap: 0.6432822942733765\n",
      "Layer: 0, Models: (12, 10), Overlap: 0.6436224579811096\n",
      "Layer: 0, Models: (12, 11), Overlap: 0.6443962454795837\n",
      "Layer: 0, Models: (12, 13), Overlap: 0.6429591774940491\n",
      "Layer: 0, Models: (12, 14), Overlap: 0.6425085067749023\n",
      "Layer: 0, Models: (13, 0), Overlap: 0.6445407867431641\n",
      "Layer: 0, Models: (13, 1), Overlap: 0.6424319744110107\n",
      "Layer: 0, Models: (13, 2), Overlap: 0.6407908201217651\n",
      "Layer: 0, Models: (13, 3), Overlap: 0.6420323252677917\n",
      "Layer: 0, Models: (13, 4), Overlap: 0.6428231000900269\n",
      "Layer: 0, Models: (13, 5), Overlap: 0.6448724269866943\n",
      "Layer: 0, Models: (13, 6), Overlap: 0.6422278881072998\n",
      "Layer: 0, Models: (13, 7), Overlap: 0.6427381038665771\n",
      "Layer: 0, Models: (13, 8), Overlap: 0.6412925124168396\n",
      "Layer: 0, Models: (13, 9), Overlap: 0.6415646076202393\n",
      "Layer: 0, Models: (13, 10), Overlap: 0.6434693932533264\n",
      "Layer: 0, Models: (13, 11), Overlap: 0.6433163285255432\n",
      "Layer: 0, Models: (13, 12), Overlap: 0.6429591774940491\n",
      "Layer: 0, Models: (13, 14), Overlap: 0.6424915194511414\n",
      "Layer: 0, Models: (14, 0), Overlap: 0.6431037187576294\n",
      "Layer: 0, Models: (14, 1), Overlap: 0.6422789096832275\n",
      "Layer: 0, Models: (14, 2), Overlap: 0.641198992729187\n",
      "Layer: 0, Models: (14, 3), Overlap: 0.6423044204711914\n",
      "Layer: 0, Models: (14, 4), Overlap: 0.6432738304138184\n",
      "Layer: 0, Models: (14, 5), Overlap: 0.6428996324539185\n",
      "Layer: 0, Models: (14, 6), Overlap: 0.6424744725227356\n",
      "Layer: 0, Models: (14, 7), Overlap: 0.6424404978752136\n",
      "Layer: 0, Models: (14, 8), Overlap: 0.6418622732162476\n",
      "Layer: 0, Models: (14, 9), Overlap: 0.6434183716773987\n",
      "Layer: 0, Models: (14, 10), Overlap: 0.6450340151786804\n",
      "Layer: 0, Models: (14, 11), Overlap: 0.643146276473999\n",
      "Layer: 0, Models: (14, 12), Overlap: 0.6425085067749023\n",
      "Layer: 0, Models: (14, 13), Overlap: 0.6424915194511414\n",
      "Layer: 2, Models: (0, 1), Overlap: 0.6286888718605042\n",
      "Layer: 2, Models: (0, 2), Overlap: 0.627488911151886\n",
      "Layer: 2, Models: (0, 3), Overlap: 0.6290666460990906\n",
      "Layer: 2, Models: (0, 4), Overlap: 0.6279777884483337\n",
      "Layer: 2, Models: (0, 5), Overlap: 0.6282444596290588\n",
      "Layer: 2, Models: (0, 6), Overlap: 0.6275555491447449\n",
      "Layer: 2, Models: (0, 7), Overlap: 0.6270444393157959\n",
      "Layer: 2, Models: (0, 8), Overlap: 0.6290444731712341\n",
      "Layer: 2, Models: (0, 9), Overlap: 0.6263777613639832\n",
      "Layer: 2, Models: (0, 10), Overlap: 0.6280888915061951\n",
      "Layer: 2, Models: (0, 11), Overlap: 0.6261110901832581\n",
      "Layer: 2, Models: (0, 12), Overlap: 0.6290000081062317\n",
      "Layer: 2, Models: (0, 13), Overlap: 0.6305111050605774\n",
      "Layer: 2, Models: (0, 14), Overlap: 0.6279777884483337\n",
      "Layer: 2, Models: (1, 0), Overlap: 0.6286888718605042\n",
      "Layer: 2, Models: (1, 2), Overlap: 0.6300222277641296\n",
      "Layer: 2, Models: (1, 3), Overlap: 0.6257555484771729\n",
      "Layer: 2, Models: (1, 4), Overlap: 0.6300888657569885\n",
      "Layer: 2, Models: (1, 5), Overlap: 0.6279110908508301\n",
      "Layer: 2, Models: (1, 6), Overlap: 0.6282888650894165\n",
      "Layer: 2, Models: (1, 7), Overlap: 0.6282444596290588\n",
      "Layer: 2, Models: (1, 8), Overlap: 0.630466639995575\n",
      "Layer: 2, Models: (1, 9), Overlap: 0.6252889037132263\n",
      "Layer: 2, Models: (1, 10), Overlap: 0.626022219657898\n",
      "Layer: 2, Models: (1, 11), Overlap: 0.6263333559036255\n",
      "Layer: 2, Models: (1, 12), Overlap: 0.6264888644218445\n",
      "Layer: 2, Models: (1, 13), Overlap: 0.6262444257736206\n",
      "Layer: 2, Models: (1, 14), Overlap: 0.6269111037254333\n",
      "Layer: 2, Models: (2, 0), Overlap: 0.627488911151886\n",
      "Layer: 2, Models: (2, 1), Overlap: 0.6300222277641296\n",
      "Layer: 2, Models: (2, 3), Overlap: 0.6281777620315552\n",
      "Layer: 2, Models: (2, 4), Overlap: 0.6251111030578613\n",
      "Layer: 2, Models: (2, 5), Overlap: 0.6285111308097839\n",
      "Layer: 2, Models: (2, 6), Overlap: 0.6268666386604309\n",
      "Layer: 2, Models: (2, 7), Overlap: 0.6261777877807617\n",
      "Layer: 2, Models: (2, 8), Overlap: 0.6272222399711609\n",
      "Layer: 2, Models: (2, 9), Overlap: 0.6268444657325745\n",
      "Layer: 2, Models: (2, 10), Overlap: 0.6269555687904358\n",
      "Layer: 2, Models: (2, 11), Overlap: 0.6276666522026062\n",
      "Layer: 2, Models: (2, 12), Overlap: 0.6276222467422485\n",
      "Layer: 2, Models: (2, 13), Overlap: 0.6286444664001465\n",
      "Layer: 2, Models: (2, 14), Overlap: 0.6263333559036255\n",
      "Layer: 2, Models: (3, 0), Overlap: 0.6290666460990906\n",
      "Layer: 2, Models: (3, 1), Overlap: 0.6257555484771729\n",
      "Layer: 2, Models: (3, 2), Overlap: 0.6281777620315552\n",
      "Layer: 2, Models: (3, 4), Overlap: 0.6252666711807251\n",
      "Layer: 2, Models: (3, 5), Overlap: 0.6285555362701416\n",
      "Layer: 2, Models: (3, 6), Overlap: 0.6297333240509033\n",
      "Layer: 2, Models: (3, 7), Overlap: 0.6268888711929321\n",
      "Layer: 2, Models: (3, 8), Overlap: 0.6275110840797424\n",
      "Layer: 2, Models: (3, 9), Overlap: 0.6270889043807983\n",
      "Layer: 2, Models: (3, 10), Overlap: 0.6283555626869202\n",
      "Layer: 2, Models: (3, 11), Overlap: 0.6277111172676086\n",
      "Layer: 2, Models: (3, 12), Overlap: 0.6276222467422485\n",
      "Layer: 2, Models: (3, 13), Overlap: 0.6285555362701416\n",
      "Layer: 2, Models: (3, 14), Overlap: 0.6282888650894165\n",
      "Layer: 2, Models: (4, 0), Overlap: 0.6279777884483337\n",
      "Layer: 2, Models: (4, 1), Overlap: 0.6300888657569885\n",
      "Layer: 2, Models: (4, 2), Overlap: 0.6251111030578613\n",
      "Layer: 2, Models: (4, 3), Overlap: 0.6252666711807251\n",
      "Layer: 2, Models: (4, 5), Overlap: 0.6273777484893799\n",
      "Layer: 2, Models: (4, 6), Overlap: 0.6269111037254333\n",
      "Layer: 2, Models: (4, 7), Overlap: 0.625844419002533\n",
      "Layer: 2, Models: (4, 8), Overlap: 0.6270666718482971\n",
      "Layer: 2, Models: (4, 9), Overlap: 0.6284000277519226\n",
      "Layer: 2, Models: (4, 10), Overlap: 0.6263777613639832\n",
      "Layer: 2, Models: (4, 11), Overlap: 0.6273555755615234\n",
      "Layer: 2, Models: (4, 12), Overlap: 0.6287111043930054\n",
      "Layer: 2, Models: (4, 13), Overlap: 0.6274444460868835\n",
      "Layer: 2, Models: (4, 14), Overlap: 0.6284444332122803\n",
      "Layer: 2, Models: (5, 0), Overlap: 0.6282444596290588\n",
      "Layer: 2, Models: (5, 1), Overlap: 0.6279110908508301\n",
      "Layer: 2, Models: (5, 2), Overlap: 0.6285111308097839\n",
      "Layer: 2, Models: (5, 3), Overlap: 0.6285555362701416\n",
      "Layer: 2, Models: (5, 4), Overlap: 0.6273777484893799\n",
      "Layer: 2, Models: (5, 6), Overlap: 0.6282666921615601\n",
      "Layer: 2, Models: (5, 7), Overlap: 0.6281333565711975\n",
      "Layer: 2, Models: (5, 8), Overlap: 0.6286222338676453\n",
      "Layer: 2, Models: (5, 9), Overlap: 0.6287333369255066\n",
      "Layer: 2, Models: (5, 10), Overlap: 0.6277333498001099\n",
      "Layer: 2, Models: (5, 11), Overlap: 0.629622220993042\n",
      "Layer: 2, Models: (5, 12), Overlap: 0.6284000277519226\n",
      "Layer: 2, Models: (5, 13), Overlap: 0.6294000148773193\n",
      "Layer: 2, Models: (5, 14), Overlap: 0.6266666650772095\n",
      "Layer: 2, Models: (6, 0), Overlap: 0.6275555491447449\n",
      "Layer: 2, Models: (6, 1), Overlap: 0.6282888650894165\n",
      "Layer: 2, Models: (6, 2), Overlap: 0.6268666386604309\n",
      "Layer: 2, Models: (6, 3), Overlap: 0.6297333240509033\n",
      "Layer: 2, Models: (6, 4), Overlap: 0.6269111037254333\n",
      "Layer: 2, Models: (6, 5), Overlap: 0.6282666921615601\n",
      "Layer: 2, Models: (6, 7), Overlap: 0.6283777952194214\n",
      "Layer: 2, Models: (6, 8), Overlap: 0.6278889179229736\n",
      "Layer: 2, Models: (6, 9), Overlap: 0.6282888650894165\n",
      "Layer: 2, Models: (6, 10), Overlap: 0.627488911151886\n",
      "Layer: 2, Models: (6, 11), Overlap: 0.629622220993042\n",
      "Layer: 2, Models: (6, 12), Overlap: 0.6271555423736572\n",
      "Layer: 2, Models: (6, 13), Overlap: 0.6294666528701782\n",
      "Layer: 2, Models: (6, 14), Overlap: 0.6269333362579346\n",
      "Layer: 2, Models: (7, 0), Overlap: 0.6270444393157959\n",
      "Layer: 2, Models: (7, 1), Overlap: 0.6282444596290588\n",
      "Layer: 2, Models: (7, 2), Overlap: 0.6261777877807617\n",
      "Layer: 2, Models: (7, 3), Overlap: 0.6268888711929321\n",
      "Layer: 2, Models: (7, 4), Overlap: 0.625844419002533\n",
      "Layer: 2, Models: (7, 5), Overlap: 0.6281333565711975\n",
      "Layer: 2, Models: (7, 6), Overlap: 0.6283777952194214\n",
      "Layer: 2, Models: (7, 8), Overlap: 0.6254444718360901\n",
      "Layer: 2, Models: (7, 9), Overlap: 0.6281999945640564\n",
      "Layer: 2, Models: (7, 10), Overlap: 0.6270666718482971\n",
      "Layer: 2, Models: (7, 11), Overlap: 0.6252889037132263\n",
      "Layer: 2, Models: (7, 12), Overlap: 0.6284888982772827\n",
      "Layer: 2, Models: (7, 13), Overlap: 0.6277777552604675\n",
      "Layer: 2, Models: (7, 14), Overlap: 0.6274222135543823\n",
      "Layer: 2, Models: (8, 0), Overlap: 0.6290444731712341\n",
      "Layer: 2, Models: (8, 1), Overlap: 0.630466639995575\n",
      "Layer: 2, Models: (8, 2), Overlap: 0.6272222399711609\n",
      "Layer: 2, Models: (8, 3), Overlap: 0.6275110840797424\n",
      "Layer: 2, Models: (8, 4), Overlap: 0.6270666718482971\n",
      "Layer: 2, Models: (8, 5), Overlap: 0.6286222338676453\n",
      "Layer: 2, Models: (8, 6), Overlap: 0.6278889179229736\n",
      "Layer: 2, Models: (8, 7), Overlap: 0.6254444718360901\n",
      "Layer: 2, Models: (8, 9), Overlap: 0.6280444264411926\n",
      "Layer: 2, Models: (8, 10), Overlap: 0.6265555620193481\n",
      "Layer: 2, Models: (8, 11), Overlap: 0.6263777613639832\n",
      "Layer: 2, Models: (8, 12), Overlap: 0.6272222399711609\n",
      "Layer: 2, Models: (8, 13), Overlap: 0.6282666921615601\n",
      "Layer: 2, Models: (8, 14), Overlap: 0.6276666522026062\n",
      "Layer: 2, Models: (9, 0), Overlap: 0.6263777613639832\n",
      "Layer: 2, Models: (9, 1), Overlap: 0.6252889037132263\n",
      "Layer: 2, Models: (9, 2), Overlap: 0.6268444657325745\n",
      "Layer: 2, Models: (9, 3), Overlap: 0.6270889043807983\n",
      "Layer: 2, Models: (9, 4), Overlap: 0.6284000277519226\n",
      "Layer: 2, Models: (9, 5), Overlap: 0.6287333369255066\n",
      "Layer: 2, Models: (9, 6), Overlap: 0.6282888650894165\n",
      "Layer: 2, Models: (9, 7), Overlap: 0.6281999945640564\n",
      "Layer: 2, Models: (9, 8), Overlap: 0.6280444264411926\n",
      "Layer: 2, Models: (9, 10), Overlap: 0.6288444399833679\n",
      "Layer: 2, Models: (9, 11), Overlap: 0.6254000067710876\n",
      "Layer: 2, Models: (9, 12), Overlap: 0.6267777681350708\n",
      "Layer: 2, Models: (9, 13), Overlap: 0.6273999810218811\n",
      "Layer: 2, Models: (9, 14), Overlap: 0.6284888982772827\n",
      "Layer: 2, Models: (10, 0), Overlap: 0.6280888915061951\n",
      "Layer: 2, Models: (10, 1), Overlap: 0.626022219657898\n",
      "Layer: 2, Models: (10, 2), Overlap: 0.6269555687904358\n",
      "Layer: 2, Models: (10, 3), Overlap: 0.6283555626869202\n",
      "Layer: 2, Models: (10, 4), Overlap: 0.6263777613639832\n",
      "Layer: 2, Models: (10, 5), Overlap: 0.6277333498001099\n",
      "Layer: 2, Models: (10, 6), Overlap: 0.627488911151886\n",
      "Layer: 2, Models: (10, 7), Overlap: 0.6270666718482971\n",
      "Layer: 2, Models: (10, 8), Overlap: 0.6265555620193481\n",
      "Layer: 2, Models: (10, 9), Overlap: 0.6288444399833679\n",
      "Layer: 2, Models: (10, 11), Overlap: 0.6275333166122437\n",
      "Layer: 2, Models: (10, 12), Overlap: 0.6278889179229736\n",
      "Layer: 2, Models: (10, 13), Overlap: 0.628933310508728\n",
      "Layer: 2, Models: (10, 14), Overlap: 0.6277111172676086\n",
      "Layer: 2, Models: (11, 0), Overlap: 0.6261110901832581\n",
      "Layer: 2, Models: (11, 1), Overlap: 0.6263333559036255\n",
      "Layer: 2, Models: (11, 2), Overlap: 0.6276666522026062\n",
      "Layer: 2, Models: (11, 3), Overlap: 0.6277111172676086\n",
      "Layer: 2, Models: (11, 4), Overlap: 0.6273555755615234\n",
      "Layer: 2, Models: (11, 5), Overlap: 0.629622220993042\n",
      "Layer: 2, Models: (11, 6), Overlap: 0.629622220993042\n",
      "Layer: 2, Models: (11, 7), Overlap: 0.6252889037132263\n",
      "Layer: 2, Models: (11, 8), Overlap: 0.6263777613639832\n",
      "Layer: 2, Models: (11, 9), Overlap: 0.6254000067710876\n",
      "Layer: 2, Models: (11, 10), Overlap: 0.6275333166122437\n",
      "Layer: 2, Models: (11, 12), Overlap: 0.6293333172798157\n",
      "Layer: 2, Models: (11, 13), Overlap: 0.6272222399711609\n",
      "Layer: 2, Models: (11, 14), Overlap: 0.6275777816772461\n",
      "Layer: 2, Models: (12, 0), Overlap: 0.6290000081062317\n",
      "Layer: 2, Models: (12, 1), Overlap: 0.6264888644218445\n",
      "Layer: 2, Models: (12, 2), Overlap: 0.6276222467422485\n",
      "Layer: 2, Models: (12, 3), Overlap: 0.6276222467422485\n",
      "Layer: 2, Models: (12, 4), Overlap: 0.6287111043930054\n",
      "Layer: 2, Models: (12, 5), Overlap: 0.6284000277519226\n",
      "Layer: 2, Models: (12, 6), Overlap: 0.6271555423736572\n",
      "Layer: 2, Models: (12, 7), Overlap: 0.6284888982772827\n",
      "Layer: 2, Models: (12, 8), Overlap: 0.6272222399711609\n",
      "Layer: 2, Models: (12, 9), Overlap: 0.6267777681350708\n",
      "Layer: 2, Models: (12, 10), Overlap: 0.6278889179229736\n",
      "Layer: 2, Models: (12, 11), Overlap: 0.6293333172798157\n",
      "Layer: 2, Models: (12, 13), Overlap: 0.6276888847351074\n",
      "Layer: 2, Models: (12, 14), Overlap: 0.628000020980835\n",
      "Layer: 2, Models: (13, 0), Overlap: 0.6305111050605774\n",
      "Layer: 2, Models: (13, 1), Overlap: 0.6262444257736206\n",
      "Layer: 2, Models: (13, 2), Overlap: 0.6286444664001465\n",
      "Layer: 2, Models: (13, 3), Overlap: 0.6285555362701416\n",
      "Layer: 2, Models: (13, 4), Overlap: 0.6274444460868835\n",
      "Layer: 2, Models: (13, 5), Overlap: 0.6294000148773193\n",
      "Layer: 2, Models: (13, 6), Overlap: 0.6294666528701782\n",
      "Layer: 2, Models: (13, 7), Overlap: 0.6277777552604675\n",
      "Layer: 2, Models: (13, 8), Overlap: 0.6282666921615601\n",
      "Layer: 2, Models: (13, 9), Overlap: 0.6273999810218811\n",
      "Layer: 2, Models: (13, 10), Overlap: 0.628933310508728\n",
      "Layer: 2, Models: (13, 11), Overlap: 0.6272222399711609\n",
      "Layer: 2, Models: (13, 12), Overlap: 0.6276888847351074\n",
      "Layer: 2, Models: (13, 14), Overlap: 0.6291999816894531\n",
      "Layer: 2, Models: (14, 0), Overlap: 0.6279777884483337\n",
      "Layer: 2, Models: (14, 1), Overlap: 0.6269111037254333\n",
      "Layer: 2, Models: (14, 2), Overlap: 0.6263333559036255\n",
      "Layer: 2, Models: (14, 3), Overlap: 0.6282888650894165\n",
      "Layer: 2, Models: (14, 4), Overlap: 0.6284444332122803\n",
      "Layer: 2, Models: (14, 5), Overlap: 0.6266666650772095\n",
      "Layer: 2, Models: (14, 6), Overlap: 0.6269333362579346\n",
      "Layer: 2, Models: (14, 7), Overlap: 0.6274222135543823\n",
      "Layer: 2, Models: (14, 8), Overlap: 0.6276666522026062\n",
      "Layer: 2, Models: (14, 9), Overlap: 0.6284888982772827\n",
      "Layer: 2, Models: (14, 10), Overlap: 0.6277111172676086\n",
      "Layer: 2, Models: (14, 11), Overlap: 0.6275777816772461\n",
      "Layer: 2, Models: (14, 12), Overlap: 0.628000020980835\n",
      "Layer: 2, Models: (14, 13), Overlap: 0.6291999816894531\n",
      "Layer: 4, Models: (0, 1), Overlap: 0.6425999999046326\n",
      "Layer: 4, Models: (0, 2), Overlap: 0.6404666900634766\n",
      "Layer: 4, Models: (0, 3), Overlap: 0.6422666907310486\n",
      "Layer: 4, Models: (0, 4), Overlap: 0.6403999924659729\n",
      "Layer: 4, Models: (0, 5), Overlap: 0.645799994468689\n",
      "Layer: 4, Models: (0, 6), Overlap: 0.6409333348274231\n",
      "Layer: 4, Models: (0, 7), Overlap: 0.6425333619117737\n",
      "Layer: 4, Models: (0, 8), Overlap: 0.644266664981842\n",
      "Layer: 4, Models: (0, 9), Overlap: 0.6464666724205017\n",
      "Layer: 4, Models: (0, 10), Overlap: 0.6478666663169861\n",
      "Layer: 4, Models: (0, 11), Overlap: 0.644266664981842\n",
      "Layer: 4, Models: (0, 12), Overlap: 0.6394000053405762\n",
      "Layer: 4, Models: (0, 13), Overlap: 0.6417999863624573\n",
      "Layer: 4, Models: (0, 14), Overlap: 0.6392666697502136\n",
      "Layer: 4, Models: (1, 0), Overlap: 0.6425999999046326\n",
      "Layer: 4, Models: (1, 2), Overlap: 0.6406000256538391\n",
      "Layer: 4, Models: (1, 3), Overlap: 0.6432666778564453\n",
      "Layer: 4, Models: (1, 4), Overlap: 0.6403999924659729\n",
      "Layer: 4, Models: (1, 5), Overlap: 0.6447333097457886\n",
      "Layer: 4, Models: (1, 6), Overlap: 0.642133355140686\n",
      "Layer: 4, Models: (1, 7), Overlap: 0.6419333219528198\n",
      "Layer: 4, Models: (1, 8), Overlap: 0.6417333483695984\n",
      "Layer: 4, Models: (1, 9), Overlap: 0.6444666385650635\n",
      "Layer: 4, Models: (1, 10), Overlap: 0.6478666663169861\n",
      "Layer: 4, Models: (1, 11), Overlap: 0.6428666710853577\n",
      "Layer: 4, Models: (1, 12), Overlap: 0.6422666907310486\n",
      "Layer: 4, Models: (1, 13), Overlap: 0.644266664981842\n",
      "Layer: 4, Models: (1, 14), Overlap: 0.6443333625793457\n",
      "Layer: 4, Models: (2, 0), Overlap: 0.6404666900634766\n",
      "Layer: 4, Models: (2, 1), Overlap: 0.6406000256538391\n",
      "Layer: 4, Models: (2, 3), Overlap: 0.6450666785240173\n",
      "Layer: 4, Models: (2, 4), Overlap: 0.6424000263214111\n",
      "Layer: 4, Models: (2, 5), Overlap: 0.6394666433334351\n",
      "Layer: 4, Models: (2, 6), Overlap: 0.6450666785240173\n",
      "Layer: 4, Models: (2, 7), Overlap: 0.6439999938011169\n",
      "Layer: 4, Models: (2, 8), Overlap: 0.6448666453361511\n",
      "Layer: 4, Models: (2, 9), Overlap: 0.6430666446685791\n",
      "Layer: 4, Models: (2, 10), Overlap: 0.6425999999046326\n",
      "Layer: 4, Models: (2, 11), Overlap: 0.6420666575431824\n",
      "Layer: 4, Models: (2, 12), Overlap: 0.6434666514396667\n",
      "Layer: 4, Models: (2, 13), Overlap: 0.6458666920661926\n",
      "Layer: 4, Models: (2, 14), Overlap: 0.6396666765213013\n",
      "Layer: 4, Models: (3, 0), Overlap: 0.6422666907310486\n",
      "Layer: 4, Models: (3, 1), Overlap: 0.6432666778564453\n",
      "Layer: 4, Models: (3, 2), Overlap: 0.6450666785240173\n",
      "Layer: 4, Models: (3, 4), Overlap: 0.6418666839599609\n",
      "Layer: 4, Models: (3, 5), Overlap: 0.6425999999046326\n",
      "Layer: 4, Models: (3, 6), Overlap: 0.6467333436012268\n",
      "Layer: 4, Models: (3, 7), Overlap: 0.6462666392326355\n",
      "Layer: 4, Models: (3, 8), Overlap: 0.6460666656494141\n",
      "Layer: 4, Models: (3, 9), Overlap: 0.6460000276565552\n",
      "Layer: 4, Models: (3, 10), Overlap: 0.6471333503723145\n",
      "Layer: 4, Models: (3, 11), Overlap: 0.6449333429336548\n",
      "Layer: 4, Models: (3, 12), Overlap: 0.6480000019073486\n",
      "Layer: 4, Models: (3, 13), Overlap: 0.6449333429336548\n",
      "Layer: 4, Models: (3, 14), Overlap: 0.646399974822998\n",
      "Layer: 4, Models: (4, 0), Overlap: 0.6403999924659729\n",
      "Layer: 4, Models: (4, 1), Overlap: 0.6403999924659729\n",
      "Layer: 4, Models: (4, 2), Overlap: 0.6424000263214111\n",
      "Layer: 4, Models: (4, 3), Overlap: 0.6418666839599609\n"
     ]
    },
    {
     "name": "stdout",
     "output_type": "stream",
     "text": [
      "Layer: 4, Models: (4, 5), Overlap: 0.6474666595458984\n",
      "Layer: 4, Models: (4, 6), Overlap: 0.638866662979126\n",
      "Layer: 4, Models: (4, 7), Overlap: 0.643666684627533\n",
      "Layer: 4, Models: (4, 8), Overlap: 0.6432666778564453\n",
      "Layer: 4, Models: (4, 9), Overlap: 0.6450666785240173\n",
      "Layer: 4, Models: (4, 10), Overlap: 0.6452000141143799\n",
      "Layer: 4, Models: (4, 11), Overlap: 0.6432666778564453\n",
      "Layer: 4, Models: (4, 12), Overlap: 0.6408666372299194\n",
      "Layer: 4, Models: (4, 13), Overlap: 0.6450666785240173\n",
      "Layer: 4, Models: (4, 14), Overlap: 0.6388000249862671\n",
      "Layer: 4, Models: (5, 0), Overlap: 0.645799994468689\n",
      "Layer: 4, Models: (5, 1), Overlap: 0.6447333097457886\n",
      "Layer: 4, Models: (5, 2), Overlap: 0.6394666433334351\n",
      "Layer: 4, Models: (5, 3), Overlap: 0.6425999999046326\n",
      "Layer: 4, Models: (5, 4), Overlap: 0.6474666595458984\n",
      "Layer: 4, Models: (5, 6), Overlap: 0.644599974155426\n",
      "Layer: 4, Models: (5, 7), Overlap: 0.6451333165168762\n",
      "Layer: 4, Models: (5, 8), Overlap: 0.6448666453361511\n",
      "Layer: 4, Models: (5, 9), Overlap: 0.6451333165168762\n",
      "Layer: 4, Models: (5, 10), Overlap: 0.6447333097457886\n",
      "Layer: 4, Models: (5, 11), Overlap: 0.6475333571434021\n",
      "Layer: 4, Models: (5, 12), Overlap: 0.6467333436012268\n",
      "Layer: 4, Models: (5, 13), Overlap: 0.646133303642273\n",
      "Layer: 4, Models: (5, 14), Overlap: 0.6415333151817322\n",
      "Layer: 4, Models: (6, 0), Overlap: 0.6409333348274231\n",
      "Layer: 4, Models: (6, 1), Overlap: 0.642133355140686\n",
      "Layer: 4, Models: (6, 2), Overlap: 0.6450666785240173\n",
      "Layer: 4, Models: (6, 3), Overlap: 0.6467333436012268\n",
      "Layer: 4, Models: (6, 4), Overlap: 0.638866662979126\n",
      "Layer: 4, Models: (6, 5), Overlap: 0.644599974155426\n",
      "Layer: 4, Models: (6, 7), Overlap: 0.6424000263214111\n",
      "Layer: 4, Models: (6, 8), Overlap: 0.6452000141143799\n",
      "Layer: 4, Models: (6, 9), Overlap: 0.6502000093460083\n",
      "Layer: 4, Models: (6, 10), Overlap: 0.6431333422660828\n",
      "Layer: 4, Models: (6, 11), Overlap: 0.6469333171844482\n",
      "Layer: 4, Models: (6, 12), Overlap: 0.6432666778564453\n",
      "Layer: 4, Models: (6, 13), Overlap: 0.6448666453361511\n",
      "Layer: 4, Models: (6, 14), Overlap: 0.6423333287239075\n",
      "Layer: 4, Models: (7, 0), Overlap: 0.6425333619117737\n",
      "Layer: 4, Models: (7, 1), Overlap: 0.6419333219528198\n",
      "Layer: 4, Models: (7, 2), Overlap: 0.6439999938011169\n",
      "Layer: 4, Models: (7, 3), Overlap: 0.6462666392326355\n",
      "Layer: 4, Models: (7, 4), Overlap: 0.643666684627533\n",
      "Layer: 4, Models: (7, 5), Overlap: 0.6451333165168762\n",
      "Layer: 4, Models: (7, 6), Overlap: 0.6424000263214111\n",
      "Layer: 4, Models: (7, 8), Overlap: 0.6428666710853577\n",
      "Layer: 4, Models: (7, 9), Overlap: 0.6405333280563354\n",
      "Layer: 4, Models: (7, 10), Overlap: 0.6470000147819519\n",
      "Layer: 4, Models: (7, 11), Overlap: 0.6430000066757202\n",
      "Layer: 4, Models: (7, 12), Overlap: 0.6421999931335449\n",
      "Layer: 4, Models: (7, 13), Overlap: 0.6425333619117737\n",
      "Layer: 4, Models: (7, 14), Overlap: 0.6460000276565552\n",
      "Layer: 4, Models: (8, 0), Overlap: 0.644266664981842\n",
      "Layer: 4, Models: (8, 1), Overlap: 0.6417333483695984\n",
      "Layer: 4, Models: (8, 2), Overlap: 0.6448666453361511\n",
      "Layer: 4, Models: (8, 3), Overlap: 0.6460666656494141\n",
      "Layer: 4, Models: (8, 4), Overlap: 0.6432666778564453\n",
      "Layer: 4, Models: (8, 5), Overlap: 0.6448666453361511\n",
      "Layer: 4, Models: (8, 6), Overlap: 0.6452000141143799\n",
      "Layer: 4, Models: (8, 7), Overlap: 0.6428666710853577\n",
      "Layer: 4, Models: (8, 9), Overlap: 0.6440666913986206\n",
      "Layer: 4, Models: (8, 10), Overlap: 0.6434666514396667\n",
      "Layer: 4, Models: (8, 11), Overlap: 0.6480000019073486\n",
      "Layer: 4, Models: (8, 12), Overlap: 0.64246666431427\n",
      "Layer: 4, Models: (8, 13), Overlap: 0.6377999782562256\n",
      "Layer: 4, Models: (8, 14), Overlap: 0.6438666582107544\n",
      "Layer: 4, Models: (9, 0), Overlap: 0.6464666724205017\n",
      "Layer: 4, Models: (9, 1), Overlap: 0.6444666385650635\n",
      "Layer: 4, Models: (9, 2), Overlap: 0.6430666446685791\n",
      "Layer: 4, Models: (9, 3), Overlap: 0.6460000276565552\n",
      "Layer: 4, Models: (9, 4), Overlap: 0.6450666785240173\n",
      "Layer: 4, Models: (9, 5), Overlap: 0.6451333165168762\n",
      "Layer: 4, Models: (9, 6), Overlap: 0.6502000093460083\n",
      "Layer: 4, Models: (9, 7), Overlap: 0.6405333280563354\n",
      "Layer: 4, Models: (9, 8), Overlap: 0.6440666913986206\n",
      "Layer: 4, Models: (9, 10), Overlap: 0.644599974155426\n",
      "Layer: 4, Models: (9, 11), Overlap: 0.6442000269889832\n",
      "Layer: 4, Models: (9, 12), Overlap: 0.6422666907310486\n",
      "Layer: 4, Models: (9, 13), Overlap: 0.6433333158493042\n",
      "Layer: 4, Models: (9, 14), Overlap: 0.6438666582107544\n",
      "Layer: 4, Models: (10, 0), Overlap: 0.6478666663169861\n",
      "Layer: 4, Models: (10, 1), Overlap: 0.6478666663169861\n",
      "Layer: 4, Models: (10, 2), Overlap: 0.6425999999046326\n",
      "Layer: 4, Models: (10, 3), Overlap: 0.6471333503723145\n",
      "Layer: 4, Models: (10, 4), Overlap: 0.6452000141143799\n",
      "Layer: 4, Models: (10, 5), Overlap: 0.6447333097457886\n",
      "Layer: 4, Models: (10, 6), Overlap: 0.6431333422660828\n",
      "Layer: 4, Models: (10, 7), Overlap: 0.6470000147819519\n",
      "Layer: 4, Models: (10, 8), Overlap: 0.6434666514396667\n",
      "Layer: 4, Models: (10, 9), Overlap: 0.644599974155426\n",
      "Layer: 4, Models: (10, 11), Overlap: 0.6443333625793457\n",
      "Layer: 4, Models: (10, 12), Overlap: 0.6435999870300293\n",
      "Layer: 4, Models: (10, 13), Overlap: 0.6462666392326355\n",
      "Layer: 4, Models: (10, 14), Overlap: 0.6462000012397766\n",
      "Layer: 4, Models: (11, 0), Overlap: 0.644266664981842\n",
      "Layer: 4, Models: (11, 1), Overlap: 0.6428666710853577\n",
      "Layer: 4, Models: (11, 2), Overlap: 0.6420666575431824\n",
      "Layer: 4, Models: (11, 3), Overlap: 0.6449333429336548\n",
      "Layer: 4, Models: (11, 4), Overlap: 0.6432666778564453\n",
      "Layer: 4, Models: (11, 5), Overlap: 0.6475333571434021\n",
      "Layer: 4, Models: (11, 6), Overlap: 0.6469333171844482\n",
      "Layer: 4, Models: (11, 7), Overlap: 0.6430000066757202\n",
      "Layer: 4, Models: (11, 8), Overlap: 0.6480000019073486\n",
      "Layer: 4, Models: (11, 9), Overlap: 0.6442000269889832\n",
      "Layer: 4, Models: (11, 10), Overlap: 0.6443333625793457\n",
      "Layer: 4, Models: (11, 12), Overlap: 0.640333354473114\n",
      "Layer: 4, Models: (11, 13), Overlap: 0.6447333097457886\n",
      "Layer: 4, Models: (11, 14), Overlap: 0.6423333287239075\n",
      "Layer: 4, Models: (12, 0), Overlap: 0.6394000053405762\n",
      "Layer: 4, Models: (12, 1), Overlap: 0.6422666907310486\n",
      "Layer: 4, Models: (12, 2), Overlap: 0.6434666514396667\n",
      "Layer: 4, Models: (12, 3), Overlap: 0.6480000019073486\n",
      "Layer: 4, Models: (12, 4), Overlap: 0.6408666372299194\n",
      "Layer: 4, Models: (12, 5), Overlap: 0.6467333436012268\n",
      "Layer: 4, Models: (12, 6), Overlap: 0.6432666778564453\n",
      "Layer: 4, Models: (12, 7), Overlap: 0.6421999931335449\n",
      "Layer: 4, Models: (12, 8), Overlap: 0.64246666431427\n",
      "Layer: 4, Models: (12, 9), Overlap: 0.6422666907310486\n",
      "Layer: 4, Models: (12, 10), Overlap: 0.6435999870300293\n",
      "Layer: 4, Models: (12, 11), Overlap: 0.640333354473114\n",
      "Layer: 4, Models: (12, 13), Overlap: 0.63919997215271\n",
      "Layer: 4, Models: (12, 14), Overlap: 0.6444000005722046\n",
      "Layer: 4, Models: (13, 0), Overlap: 0.6417999863624573\n",
      "Layer: 4, Models: (13, 1), Overlap: 0.644266664981842\n",
      "Layer: 4, Models: (13, 2), Overlap: 0.6458666920661926\n",
      "Layer: 4, Models: (13, 3), Overlap: 0.6449333429336548\n",
      "Layer: 4, Models: (13, 4), Overlap: 0.6450666785240173\n",
      "Layer: 4, Models: (13, 5), Overlap: 0.646133303642273\n",
      "Layer: 4, Models: (13, 6), Overlap: 0.6448666453361511\n",
      "Layer: 4, Models: (13, 7), Overlap: 0.6425333619117737\n",
      "Layer: 4, Models: (13, 8), Overlap: 0.6377999782562256\n",
      "Layer: 4, Models: (13, 9), Overlap: 0.6433333158493042\n",
      "Layer: 4, Models: (13, 10), Overlap: 0.6462666392326355\n",
      "Layer: 4, Models: (13, 11), Overlap: 0.6447333097457886\n",
      "Layer: 4, Models: (13, 12), Overlap: 0.63919997215271\n",
      "Layer: 4, Models: (13, 14), Overlap: 0.6396666765213013\n",
      "Layer: 4, Models: (14, 0), Overlap: 0.6392666697502136\n",
      "Layer: 4, Models: (14, 1), Overlap: 0.6443333625793457\n",
      "Layer: 4, Models: (14, 2), Overlap: 0.6396666765213013\n",
      "Layer: 4, Models: (14, 3), Overlap: 0.646399974822998\n",
      "Layer: 4, Models: (14, 4), Overlap: 0.6388000249862671\n",
      "Layer: 4, Models: (14, 5), Overlap: 0.6415333151817322\n",
      "Layer: 4, Models: (14, 6), Overlap: 0.6423333287239075\n",
      "Layer: 4, Models: (14, 7), Overlap: 0.6460000276565552\n",
      "Layer: 4, Models: (14, 8), Overlap: 0.6438666582107544\n",
      "Layer: 4, Models: (14, 9), Overlap: 0.6438666582107544\n",
      "Layer: 4, Models: (14, 10), Overlap: 0.6462000012397766\n",
      "Layer: 4, Models: (14, 11), Overlap: 0.6423333287239075\n",
      "Layer: 4, Models: (14, 12), Overlap: 0.6444000005722046\n",
      "Layer: 4, Models: (14, 13), Overlap: 0.6396666765213013\n"
     ]
    }
   ],
   "source": [
    "task = 0\n",
    "for layer, modelidx in product([0,2,4], product([i for i in range(15)], [i for i in range(15)])):\n",
    "    modeli, modelj = modelidx\n",
    "    if modeli == modelj:\n",
    "        continue\n",
    "    print('Layer: {}, Models: ({}, {}), Overlap: {}'.format(layer, modeli, modelj,\n",
    "        overlap(model_map[modeli].state_dict()['model.{}.stacked'.format(layer)][task],\n",
    "                model_map[modelj].state_dict()['model.{}.stacked'.format(layer)][task])))"
   ]
  },
  {
   "cell_type": "markdown",
   "metadata": {},
   "source": [
    "# Basis Masks "
   ]
  },
  {
   "cell_type": "markdown",
   "metadata": {},
   "source": [
    "### Model Initialization (Only New Tasks)"
   ]
  },
  {
   "cell_type": "code",
   "execution_count": 26,
   "metadata": {},
   "outputs": [],
   "source": [
    "num_tasks = 50 # For demonstration purposes, we go up to 2500 in our paper\n",
    "num_seed_tasks_learned = 40\n",
    "basis_model = BasisMultitaskFC(hidden_size=300, num_tasks=num_tasks, num_seed_tasks_learned=num_seed_tasks_learned, start_at_optimal=True, sparsity=0.25)"
   ]
  },
  {
   "cell_type": "code",
   "execution_count": 27,
   "metadata": {},
   "outputs": [
    {
     "name": "stdout",
     "output_type": "stream",
     "text": [
      "=> Caching mask state for model.0\n",
      "=> Caching mask state for model.2\n",
      "=> Caching mask state for model.4\n"
     ]
    }
   ],
   "source": [
    "seed_dict = model.state_dict()\n",
    "basis_dict = basis_model.state_dict()\n",
    "load_dict = {k: seed_dict[k] for k in basis_model.state_dict().keys() if k in seed_dict.keys()}\n",
    "basis_dict.update(load_dict)\n",
    "basis_model.load_state_dict(basis_dict, False)\n",
    "cache_masks(basis_model)"
   ]
  },
  {
   "cell_type": "code",
   "execution_count": 28,
   "metadata": {
    "scrolled": true
   },
   "outputs": [
    {
     "name": "stdout",
     "output_type": "stream",
     "text": [
      "Training for task 40\n",
      "=> Set task of model.0 to 40\n",
      "=> Set task of model.2 to 40\n",
      "=> Set task of model.4 to 40\n"
     ]
    },
    {
     "data": {
      "application/vnd.jupyter.widget-view+json": {
       "model_id": "12352b8ce94b4b9c8347a82e8904c408",
       "version_major": 2,
       "version_minor": 0
      },
      "text/plain": [
       "  0%|          | 0/469 [00:00<?, ?it/s]"
      ]
     },
     "metadata": {},
     "output_type": "display_data"
    },
    {
     "name": "stdout",
     "output_type": "stream",
     "text": [
      "Validation => Loss 1.5575, Acc@1 0.3060\n",
      "============\n"
     ]
    },
    {
     "data": {
      "application/vnd.jupyter.widget-view+json": {
       "model_id": "289ee319a5d9463e86169450972592a8",
       "version_major": 2,
       "version_minor": 0
      },
      "text/plain": [
       "  0%|          | 0/79 [00:00<?, ?it/s]"
      ]
     },
     "metadata": {},
     "output_type": "display_data"
    },
    {
     "name": "stdout",
     "output_type": "stream",
     "text": [
      "Val Perf after 1 epochs Acc@1 0.4635\n"
     ]
    },
    {
     "data": {
      "application/vnd.jupyter.widget-view+json": {
       "model_id": "274e11d85faf4dd5a96a8fb3e7e8996b",
       "version_major": 2,
       "version_minor": 0
      },
      "text/plain": [
       "  0%|          | 0/469 [00:00<?, ?it/s]"
      ]
     },
     "metadata": {},
     "output_type": "display_data"
    },
    {
     "name": "stdout",
     "output_type": "stream",
     "text": [
      "Validation => Loss 1.2256, Acc@1 0.5085\n",
      "============\n"
     ]
    },
    {
     "data": {
      "application/vnd.jupyter.widget-view+json": {
       "model_id": "43d7125a662e44fbbad809bd8384b262",
       "version_major": 2,
       "version_minor": 0
      },
      "text/plain": [
       "  0%|          | 0/79 [00:00<?, ?it/s]"
      ]
     },
     "metadata": {},
     "output_type": "display_data"
    },
    {
     "name": "stdout",
     "output_type": "stream",
     "text": [
      "Val Perf after 2 epochs Acc@1 0.5387\n",
      "=> Caching mask state for model.0\n",
      "=> Caching mask state for model.2\n",
      "=> Caching mask state for model.4\n",
      "\n",
      "=> Setting learned tasks of model.0 to 41\n",
      "=> Setting learned tasks of model.2 to 41\n",
      "=> Setting learned tasks of model.4 to 41\n",
      "\n",
      "Training for task 41\n",
      "=> Set task of model.0 to 41\n",
      "=> Set task of model.2 to 41\n",
      "=> Set task of model.4 to 41\n"
     ]
    },
    {
     "data": {
      "application/vnd.jupyter.widget-view+json": {
       "model_id": "2b4cf053bef3489486e391d12a49f34b",
       "version_major": 2,
       "version_minor": 0
      },
      "text/plain": [
       "  0%|          | 0/469 [00:00<?, ?it/s]"
      ]
     },
     "metadata": {},
     "output_type": "display_data"
    },
    {
     "name": "stdout",
     "output_type": "stream",
     "text": [
      "Validation => Loss 1.6740, Acc@1 0.2939\n",
      "============\n"
     ]
    },
    {
     "data": {
      "application/vnd.jupyter.widget-view+json": {
       "model_id": "ba4e3c0a7bb849729d424cd5f688864a",
       "version_major": 2,
       "version_minor": 0
      },
      "text/plain": [
       "  0%|          | 0/79 [00:00<?, ?it/s]"
      ]
     },
     "metadata": {},
     "output_type": "display_data"
    },
    {
     "name": "stdout",
     "output_type": "stream",
     "text": [
      "Val Perf after 1 epochs Acc@1 0.4347\n"
     ]
    },
    {
     "data": {
      "application/vnd.jupyter.widget-view+json": {
       "model_id": "94d0d55c840c423c9d6c1eb0bc347a8b",
       "version_major": 2,
       "version_minor": 0
      },
      "text/plain": [
       "  0%|          | 0/469 [00:00<?, ?it/s]"
      ]
     },
     "metadata": {},
     "output_type": "display_data"
    },
    {
     "name": "stdout",
     "output_type": "stream",
     "text": [
      "Validation => Loss 1.3222, Acc@1 0.5059\n",
      "============\n"
     ]
    },
    {
     "data": {
      "application/vnd.jupyter.widget-view+json": {
       "model_id": "68fdc474e3cb4db89801afa7693406c2",
       "version_major": 2,
       "version_minor": 0
      },
      "text/plain": [
       "  0%|          | 0/79 [00:00<?, ?it/s]"
      ]
     },
     "metadata": {},
     "output_type": "display_data"
    },
    {
     "name": "stdout",
     "output_type": "stream",
     "text": [
      "Val Perf after 2 epochs Acc@1 0.5479\n",
      "=> Caching mask state for model.0\n",
      "=> Caching mask state for model.2\n",
      "=> Caching mask state for model.4\n",
      "\n",
      "=> Setting learned tasks of model.0 to 42\n",
      "=> Setting learned tasks of model.2 to 42\n",
      "=> Setting learned tasks of model.4 to 42\n",
      "\n",
      "Training for task 42\n",
      "=> Set task of model.0 to 42\n",
      "=> Set task of model.2 to 42\n",
      "=> Set task of model.4 to 42\n"
     ]
    },
    {
     "data": {
      "application/vnd.jupyter.widget-view+json": {
       "model_id": "54c605d55f99452a889354600100956c",
       "version_major": 2,
       "version_minor": 0
      },
      "text/plain": [
       "  0%|          | 0/469 [00:00<?, ?it/s]"
      ]
     },
     "metadata": {},
     "output_type": "display_data"
    },
    {
     "name": "stdout",
     "output_type": "stream",
     "text": [
      "Validation => Loss 1.4927, Acc@1 0.3356\n",
      "============\n"
     ]
    },
    {
     "data": {
      "application/vnd.jupyter.widget-view+json": {
       "model_id": "5fcaf41634be411483ea2ddbf25925a6",
       "version_major": 2,
       "version_minor": 0
      },
      "text/plain": [
       "  0%|          | 0/79 [00:00<?, ?it/s]"
      ]
     },
     "metadata": {},
     "output_type": "display_data"
    },
    {
     "name": "stdout",
     "output_type": "stream",
     "text": [
      "Val Perf after 1 epochs Acc@1 0.5106\n"
     ]
    },
    {
     "data": {
      "application/vnd.jupyter.widget-view+json": {
       "model_id": "6f85c0ff73eb476ea24c3599fbe5804e",
       "version_major": 2,
       "version_minor": 0
      },
      "text/plain": [
       "  0%|          | 0/469 [00:00<?, ?it/s]"
      ]
     },
     "metadata": {},
     "output_type": "display_data"
    },
    {
     "name": "stdout",
     "output_type": "stream",
     "text": [
      "Validation => Loss 1.4507, Acc@1 0.5417\n",
      "============\n"
     ]
    },
    {
     "data": {
      "application/vnd.jupyter.widget-view+json": {
       "model_id": "3c80a4badb1c4dbfa4c47718fb9591c4",
       "version_major": 2,
       "version_minor": 0
      },
      "text/plain": [
       "  0%|          | 0/79 [00:00<?, ?it/s]"
      ]
     },
     "metadata": {},
     "output_type": "display_data"
    },
    {
     "name": "stdout",
     "output_type": "stream",
     "text": [
      "Val Perf after 2 epochs Acc@1 0.5857\n",
      "=> Caching mask state for model.0\n",
      "=> Caching mask state for model.2\n",
      "=> Caching mask state for model.4\n",
      "\n",
      "=> Setting learned tasks of model.0 to 43\n",
      "=> Setting learned tasks of model.2 to 43\n",
      "=> Setting learned tasks of model.4 to 43\n",
      "\n",
      "Training for task 43\n",
      "=> Set task of model.0 to 43\n",
      "=> Set task of model.2 to 43\n",
      "=> Set task of model.4 to 43\n"
     ]
    },
    {
     "data": {
      "application/vnd.jupyter.widget-view+json": {
       "model_id": "08ac2bd9f0394f5d82a24f3aaf0f96a1",
       "version_major": 2,
       "version_minor": 0
      },
      "text/plain": [
       "  0%|          | 0/469 [00:00<?, ?it/s]"
      ]
     },
     "metadata": {},
     "output_type": "display_data"
    },
    {
     "name": "stdout",
     "output_type": "stream",
     "text": [
      "Validation => Loss 1.4743, Acc@1 0.3158\n",
      "============\n"
     ]
    },
    {
     "data": {
      "application/vnd.jupyter.widget-view+json": {
       "model_id": "2651708032e54b05b413398faad0c7d9",
       "version_major": 2,
       "version_minor": 0
      },
      "text/plain": [
       "  0%|          | 0/79 [00:00<?, ?it/s]"
      ]
     },
     "metadata": {},
     "output_type": "display_data"
    },
    {
     "name": "stdout",
     "output_type": "stream",
     "text": [
      "Val Perf after 1 epochs Acc@1 0.4667\n"
     ]
    },
    {
     "data": {
      "application/vnd.jupyter.widget-view+json": {
       "model_id": "6305f3e5042e4110a60eb9879da0b042",
       "version_major": 2,
       "version_minor": 0
      },
      "text/plain": [
       "  0%|          | 0/469 [00:00<?, ?it/s]"
      ]
     },
     "metadata": {},
     "output_type": "display_data"
    },
    {
     "name": "stdout",
     "output_type": "stream",
     "text": [
      "Validation => Loss 1.3278, Acc@1 0.4801\n",
      "============\n"
     ]
    },
    {
     "data": {
      "application/vnd.jupyter.widget-view+json": {
       "model_id": "109c01ea7a854ca89d7deae8c255c17e",
       "version_major": 2,
       "version_minor": 0
      },
      "text/plain": [
       "  0%|          | 0/79 [00:00<?, ?it/s]"
      ]
     },
     "metadata": {},
     "output_type": "display_data"
    },
    {
     "name": "stdout",
     "output_type": "stream",
     "text": [
      "Val Perf after 2 epochs Acc@1 0.5370\n",
      "=> Caching mask state for model.0\n",
      "=> Caching mask state for model.2\n",
      "=> Caching mask state for model.4\n",
      "\n",
      "=> Setting learned tasks of model.0 to 44\n",
      "=> Setting learned tasks of model.2 to 44\n",
      "=> Setting learned tasks of model.4 to 44\n",
      "\n",
      "Training for task 44\n",
      "=> Set task of model.0 to 44\n",
      "=> Set task of model.2 to 44\n",
      "=> Set task of model.4 to 44\n"
     ]
    },
    {
     "data": {
      "application/vnd.jupyter.widget-view+json": {
       "model_id": "7b1fbc815fef4bf78815123d891a11ec",
       "version_major": 2,
       "version_minor": 0
      },
      "text/plain": [
       "  0%|          | 0/469 [00:00<?, ?it/s]"
      ]
     },
     "metadata": {},
     "output_type": "display_data"
    },
    {
     "name": "stdout",
     "output_type": "stream",
     "text": [
      "Validation => Loss 1.6210, Acc@1 0.3037\n",
      "============\n"
     ]
    },
    {
     "data": {
      "application/vnd.jupyter.widget-view+json": {
       "model_id": "da9675980ab54ca1b9667094bc40f54b",
       "version_major": 2,
       "version_minor": 0
      },
      "text/plain": [
       "  0%|          | 0/79 [00:00<?, ?it/s]"
      ]
     },
     "metadata": {},
     "output_type": "display_data"
    },
    {
     "name": "stdout",
     "output_type": "stream",
     "text": [
      "Val Perf after 1 epochs Acc@1 0.4761\n"
     ]
    },
    {
     "data": {
      "application/vnd.jupyter.widget-view+json": {
       "model_id": "30b8e88de44b4e64812bf573ec783bfe",
       "version_major": 2,
       "version_minor": 0
      },
      "text/plain": [
       "  0%|          | 0/469 [00:00<?, ?it/s]"
      ]
     },
     "metadata": {},
     "output_type": "display_data"
    },
    {
     "name": "stdout",
     "output_type": "stream",
     "text": [
      "Validation => Loss 1.3181, Acc@1 0.5358\n",
      "============\n"
     ]
    },
    {
     "data": {
      "application/vnd.jupyter.widget-view+json": {
       "model_id": "ea3baed95aaf47aaa1f370fcedce22a5",
       "version_major": 2,
       "version_minor": 0
      },
      "text/plain": [
       "  0%|          | 0/79 [00:00<?, ?it/s]"
      ]
     },
     "metadata": {},
     "output_type": "display_data"
    },
    {
     "name": "stdout",
     "output_type": "stream",
     "text": [
      "Val Perf after 2 epochs Acc@1 0.5858\n",
      "=> Caching mask state for model.0\n",
      "=> Caching mask state for model.2\n",
      "=> Caching mask state for model.4\n",
      "\n",
      "=> Setting learned tasks of model.0 to 45\n",
      "=> Setting learned tasks of model.2 to 45\n",
      "=> Setting learned tasks of model.4 to 45\n",
      "\n",
      "Training for task 45\n",
      "=> Set task of model.0 to 45\n",
      "=> Set task of model.2 to 45\n",
      "=> Set task of model.4 to 45\n"
     ]
    },
    {
     "data": {
      "application/vnd.jupyter.widget-view+json": {
       "model_id": "e7689db7c0b448199024c5aa9c80c734",
       "version_major": 2,
       "version_minor": 0
      },
      "text/plain": [
       "  0%|          | 0/469 [00:00<?, ?it/s]"
      ]
     },
     "metadata": {},
     "output_type": "display_data"
    },
    {
     "name": "stdout",
     "output_type": "stream",
     "text": [
      "Validation => Loss 1.6129, Acc@1 0.3278\n",
      "============\n"
     ]
    },
    {
     "data": {
      "application/vnd.jupyter.widget-view+json": {
       "model_id": "e2018b5f777b49da8bbd54b5753a03dd",
       "version_major": 2,
       "version_minor": 0
      },
      "text/plain": [
       "  0%|          | 0/79 [00:00<?, ?it/s]"
      ]
     },
     "metadata": {},
     "output_type": "display_data"
    },
    {
     "name": "stdout",
     "output_type": "stream",
     "text": [
      "Val Perf after 1 epochs Acc@1 0.4716\n"
     ]
    },
    {
     "data": {
      "application/vnd.jupyter.widget-view+json": {
       "model_id": "969272aa036944cb93e4289c9a8b99ae",
       "version_major": 2,
       "version_minor": 0
      },
      "text/plain": [
       "  0%|          | 0/469 [00:00<?, ?it/s]"
      ]
     },
     "metadata": {},
     "output_type": "display_data"
    },
    {
     "name": "stdout",
     "output_type": "stream",
     "text": [
      "Validation => Loss 1.2530, Acc@1 0.5091\n",
      "============\n"
     ]
    },
    {
     "data": {
      "application/vnd.jupyter.widget-view+json": {
       "model_id": "bfd7a52c1915430d94356aacc9bd28ec",
       "version_major": 2,
       "version_minor": 0
      },
      "text/plain": [
       "  0%|          | 0/79 [00:00<?, ?it/s]"
      ]
     },
     "metadata": {},
     "output_type": "display_data"
    },
    {
     "name": "stdout",
     "output_type": "stream",
     "text": [
      "Val Perf after 2 epochs Acc@1 0.5631\n",
      "=> Caching mask state for model.0\n",
      "=> Caching mask state for model.2\n",
      "=> Caching mask state for model.4\n",
      "\n",
      "=> Setting learned tasks of model.0 to 46\n",
      "=> Setting learned tasks of model.2 to 46\n",
      "=> Setting learned tasks of model.4 to 46\n",
      "\n",
      "Training for task 46\n",
      "=> Set task of model.0 to 46\n",
      "=> Set task of model.2 to 46\n",
      "=> Set task of model.4 to 46\n"
     ]
    },
    {
     "data": {
      "application/vnd.jupyter.widget-view+json": {
       "model_id": "97006274fad845ab85ea94a94360bad9",
       "version_major": 2,
       "version_minor": 0
      },
      "text/plain": [
       "  0%|          | 0/469 [00:00<?, ?it/s]"
      ]
     },
     "metadata": {},
     "output_type": "display_data"
    },
    {
     "name": "stdout",
     "output_type": "stream",
     "text": [
      "Validation => Loss 1.7034, Acc@1 0.2809\n",
      "============\n"
     ]
    },
    {
     "data": {
      "application/vnd.jupyter.widget-view+json": {
       "model_id": "b220061a9aa1459b84a509892ad238b2",
       "version_major": 2,
       "version_minor": 0
      },
      "text/plain": [
       "  0%|          | 0/79 [00:00<?, ?it/s]"
      ]
     },
     "metadata": {},
     "output_type": "display_data"
    },
    {
     "name": "stdout",
     "output_type": "stream",
     "text": [
      "Val Perf after 1 epochs Acc@1 0.4134\n"
     ]
    },
    {
     "data": {
      "application/vnd.jupyter.widget-view+json": {
       "model_id": "dab4c11a08104f3ba3f1e1a737194b64",
       "version_major": 2,
       "version_minor": 0
      },
      "text/plain": [
       "  0%|          | 0/469 [00:00<?, ?it/s]"
      ]
     },
     "metadata": {},
     "output_type": "display_data"
    },
    {
     "name": "stdout",
     "output_type": "stream",
     "text": [
      "Validation => Loss 1.3144, Acc@1 0.4990\n",
      "============\n"
     ]
    },
    {
     "data": {
      "application/vnd.jupyter.widget-view+json": {
       "model_id": "ab2bf627720544be870063fb9314c482",
       "version_major": 2,
       "version_minor": 0
      },
      "text/plain": [
       "  0%|          | 0/79 [00:00<?, ?it/s]"
      ]
     },
     "metadata": {},
     "output_type": "display_data"
    },
    {
     "name": "stdout",
     "output_type": "stream",
     "text": [
      "Val Perf after 2 epochs Acc@1 0.5414\n",
      "=> Caching mask state for model.0\n",
      "=> Caching mask state for model.2\n",
      "=> Caching mask state for model.4\n",
      "\n",
      "=> Setting learned tasks of model.0 to 47\n",
      "=> Setting learned tasks of model.2 to 47\n",
      "=> Setting learned tasks of model.4 to 47\n",
      "\n",
      "Training for task 47\n",
      "=> Set task of model.0 to 47\n",
      "=> Set task of model.2 to 47\n",
      "=> Set task of model.4 to 47\n"
     ]
    },
    {
     "data": {
      "application/vnd.jupyter.widget-view+json": {
       "model_id": "9e63834c30eb482295ec75b22dc5a0fa",
       "version_major": 2,
       "version_minor": 0
      },
      "text/plain": [
       "  0%|          | 0/469 [00:00<?, ?it/s]"
      ]
     },
     "metadata": {},
     "output_type": "display_data"
    },
    {
     "name": "stdout",
     "output_type": "stream",
     "text": [
      "Validation => Loss 1.5168, Acc@1 0.3210\n",
      "============\n"
     ]
    },
    {
     "data": {
      "application/vnd.jupyter.widget-view+json": {
       "model_id": "ceb5a4732af548e2ae0e1e0ead504686",
       "version_major": 2,
       "version_minor": 0
      },
      "text/plain": [
       "  0%|          | 0/79 [00:00<?, ?it/s]"
      ]
     },
     "metadata": {},
     "output_type": "display_data"
    },
    {
     "name": "stdout",
     "output_type": "stream",
     "text": [
      "Val Perf after 1 epochs Acc@1 0.4992\n"
     ]
    },
    {
     "data": {
      "application/vnd.jupyter.widget-view+json": {
       "model_id": "56d39cee4d0d45debc25acb6d17be56a",
       "version_major": 2,
       "version_minor": 0
      },
      "text/plain": [
       "  0%|          | 0/469 [00:00<?, ?it/s]"
      ]
     },
     "metadata": {},
     "output_type": "display_data"
    },
    {
     "name": "stdout",
     "output_type": "stream",
     "text": [
      "Validation => Loss 1.3096, Acc@1 0.5485\n",
      "============\n"
     ]
    },
    {
     "data": {
      "application/vnd.jupyter.widget-view+json": {
       "model_id": "2c6b6a20581d49f0a43270d116d228c9",
       "version_major": 2,
       "version_minor": 0
      },
      "text/plain": [
       "  0%|          | 0/79 [00:00<?, ?it/s]"
      ]
     },
     "metadata": {},
     "output_type": "display_data"
    },
    {
     "name": "stdout",
     "output_type": "stream",
     "text": [
      "Val Perf after 2 epochs Acc@1 0.5841\n",
      "=> Caching mask state for model.0\n",
      "=> Caching mask state for model.2\n",
      "=> Caching mask state for model.4\n",
      "\n",
      "=> Setting learned tasks of model.0 to 48\n",
      "=> Setting learned tasks of model.2 to 48\n",
      "=> Setting learned tasks of model.4 to 48\n",
      "\n",
      "Training for task 48\n",
      "=> Set task of model.0 to 48\n",
      "=> Set task of model.2 to 48\n",
      "=> Set task of model.4 to 48\n"
     ]
    },
    {
     "data": {
      "application/vnd.jupyter.widget-view+json": {
       "model_id": "d45c679f24cd4ae79fb2a4bf7696dfa9",
       "version_major": 2,
       "version_minor": 0
      },
      "text/plain": [
       "  0%|          | 0/469 [00:00<?, ?it/s]"
      ]
     },
     "metadata": {},
     "output_type": "display_data"
    },
    {
     "name": "stdout",
     "output_type": "stream",
     "text": [
      "Validation => Loss 1.7470, Acc@1 0.3314\n",
      "============\n"
     ]
    },
    {
     "data": {
      "application/vnd.jupyter.widget-view+json": {
       "model_id": "a833e319eb004c90b62e58d4c6b04443",
       "version_major": 2,
       "version_minor": 0
      },
      "text/plain": [
       "  0%|          | 0/79 [00:00<?, ?it/s]"
      ]
     },
     "metadata": {},
     "output_type": "display_data"
    },
    {
     "name": "stdout",
     "output_type": "stream",
     "text": [
      "Val Perf after 1 epochs Acc@1 0.4122\n"
     ]
    },
    {
     "data": {
      "application/vnd.jupyter.widget-view+json": {
       "model_id": "5c29e8e550264f58a14966c3db857266",
       "version_major": 2,
       "version_minor": 0
      },
      "text/plain": [
       "  0%|          | 0/469 [00:00<?, ?it/s]"
      ]
     },
     "metadata": {},
     "output_type": "display_data"
    },
    {
     "name": "stdout",
     "output_type": "stream",
     "text": [
      "Validation => Loss 1.3437, Acc@1 0.4801\n",
      "============\n"
     ]
    },
    {
     "data": {
      "application/vnd.jupyter.widget-view+json": {
       "model_id": "77ef5032bfd642b8ba3875292b7b15a5",
       "version_major": 2,
       "version_minor": 0
      },
      "text/plain": [
       "  0%|          | 0/79 [00:00<?, ?it/s]"
      ]
     },
     "metadata": {},
     "output_type": "display_data"
    },
    {
     "name": "stdout",
     "output_type": "stream",
     "text": [
      "Val Perf after 2 epochs Acc@1 0.5157\n",
      "=> Caching mask state for model.0\n",
      "=> Caching mask state for model.2\n",
      "=> Caching mask state for model.4\n",
      "\n",
      "=> Setting learned tasks of model.0 to 49\n",
      "=> Setting learned tasks of model.2 to 49\n",
      "=> Setting learned tasks of model.4 to 49\n",
      "\n",
      "Training for task 49\n",
      "=> Set task of model.0 to 49\n",
      "=> Set task of model.2 to 49\n",
      "=> Set task of model.4 to 49\n"
     ]
    },
    {
     "data": {
      "application/vnd.jupyter.widget-view+json": {
       "model_id": "15ac642df2db40fb998b28950f611158",
       "version_major": 2,
       "version_minor": 0
      },
      "text/plain": [
       "  0%|          | 0/469 [00:00<?, ?it/s]"
      ]
     },
     "metadata": {},
     "output_type": "display_data"
    },
    {
     "name": "stdout",
     "output_type": "stream",
     "text": [
      "Validation => Loss 1.4629, Acc@1 0.3324\n",
      "============\n"
     ]
    },
    {
     "data": {
      "application/vnd.jupyter.widget-view+json": {
       "model_id": "3cea4ca9deb6453bb0c179b48b287545",
       "version_major": 2,
       "version_minor": 0
      },
      "text/plain": [
       "  0%|          | 0/79 [00:00<?, ?it/s]"
      ]
     },
     "metadata": {},
     "output_type": "display_data"
    },
    {
     "name": "stdout",
     "output_type": "stream",
     "text": [
      "Val Perf after 1 epochs Acc@1 0.5028\n"
     ]
    },
    {
     "data": {
      "application/vnd.jupyter.widget-view+json": {
       "model_id": "6fceaa14863d4bee9e1cff126a7892cc",
       "version_major": 2,
       "version_minor": 0
      },
      "text/plain": [
       "  0%|          | 0/469 [00:00<?, ?it/s]"
      ]
     },
     "metadata": {},
     "output_type": "display_data"
    },
    {
     "name": "stdout",
     "output_type": "stream",
     "text": [
      "Validation => Loss 1.3120, Acc@1 0.5462\n",
      "============\n"
     ]
    },
    {
     "data": {
      "application/vnd.jupyter.widget-view+json": {
       "model_id": "e6aa17c3a5274f5d82dc5d8127e3349d",
       "version_major": 2,
       "version_minor": 0
      },
      "text/plain": [
       "  0%|          | 0/79 [00:00<?, ?it/s]"
      ]
     },
     "metadata": {},
     "output_type": "display_data"
    },
    {
     "name": "stdout",
     "output_type": "stream",
     "text": [
      "Val Perf after 2 epochs Acc@1 0.5697\n",
      "=> Caching mask state for model.0\n",
      "=> Caching mask state for model.2\n",
      "=> Caching mask state for model.4\n",
      "\n",
      "=> Setting learned tasks of model.0 to 50\n",
      "=> Setting learned tasks of model.2 to 50\n",
      "=> Setting learned tasks of model.4 to 50\n",
      "\n"
     ]
    }
   ],
   "source": [
    "for task in range(num_seed_tasks_learned, num_tasks):\n",
    "    print(f\"Training for task {task}\")\n",
    "    set_model_task(basis_model, task)\n",
    "    mnist.update_task(task)\n",
    "\n",
    "    optimizer = optim.RMSprop([p for p in basis_model.parameters() if p.requires_grad], lr=1e-3)\n",
    "    # Train for 1 epoch\n",
    "    for e in range(2):\n",
    "        train(basis_model, mnist.train_loader, optimizer, e)\n",
    "        \n",
    "        print(\"Validation\")\n",
    "        print(\"============\")\n",
    "        acc1 = evaluate(basis_model, mnist.val_loader, e)\n",
    "        \n",
    "    \n",
    "    cache_masks(basis_model)\n",
    "    print()\n",
    "    set_num_tasks_learned(basis_model, task + 1)\n",
    "    print()"
   ]
  },
  {
   "cell_type": "code",
   "execution_count": 29,
   "metadata": {
    "scrolled": false
   },
   "outputs": [
    {
     "name": "stdout",
     "output_type": "stream",
     "text": [
      "Average top 1 performance: 0.8412\n",
      "Per task performance\n",
      "Task 0: 0.9123\n",
      "Task 1: 0.9123\n",
      "Task 2: 0.9141\n",
      "Task 3: 0.9144\n",
      "Task 4: 0.9112\n",
      "Task 5: 0.9153\n",
      "Task 6: 0.9124\n",
      "Task 7: 0.9112\n",
      "Task 8: 0.9154\n",
      "Task 9: 0.9143\n",
      "Task 10: 0.9144\n",
      "Task 11: 0.9104\n",
      "Task 12: 0.9161\n",
      "Task 13: 0.9120\n",
      "Task 14: 0.9123\n",
      "Task 15: 0.9117\n",
      "Task 16: 0.9107\n",
      "Task 17: 0.9143\n",
      "Task 18: 0.9106\n",
      "Task 19: 0.9048\n",
      "Task 20: 0.9109\n",
      "Task 21: 0.9132\n",
      "Task 22: 0.9125\n",
      "Task 23: 0.9118\n",
      "Task 24: 0.9130\n",
      "Task 25: 0.9115\n",
      "Task 26: 0.9131\n",
      "Task 27: 0.9118\n",
      "Task 28: 0.9121\n",
      "Task 29: 0.9135\n",
      "Task 30: 0.9107\n",
      "Task 31: 0.9081\n",
      "Task 32: 0.9130\n",
      "Task 33: 0.9117\n",
      "Task 34: 0.9147\n",
      "Task 35: 0.9117\n",
      "Task 36: 0.9124\n",
      "Task 37: 0.9122\n",
      "Task 38: 0.9070\n",
      "Task 39: 0.9134\n",
      "Task 40: 0.5387\n",
      "Task 41: 0.5479\n",
      "Task 42: 0.5857\n",
      "Task 43: 0.5370\n",
      "Task 44: 0.5858\n",
      "Task 45: 0.5631\n",
      "Task 46: 0.5414\n",
      "Task 47: 0.5841\n",
      "Task 48: 0.5157\n",
      "Task 49: 0.5697\n"
     ]
    }
   ],
   "source": [
    "# When task ID we can simply set the mask and evaluate\n",
    "\n",
    "gg_performance = []\n",
    "for task in range(num_tasks):\n",
    "    set_model_task(basis_model, task)\n",
    "    mnist.update_task(task)\n",
    "    acc1 = evaluate(basis_model, mnist.val_loader, 0)\n",
    "    gg_performance.append(acc1.item())\n",
    "\n",
    "clear_output()\n",
    "    \n",
    "print(f\"Average top 1 performance: {(sum(gg_performance) / len(gg_performance)):.4f}\")\n",
    "\n",
    "print(\"Per task performance\")\n",
    "for t in range(num_tasks):\n",
    "    print(f\"Task {t}: {gg_performance[t]:.4f}\")"
   ]
  },
  {
   "cell_type": "code",
   "execution_count": 30,
   "metadata": {},
   "outputs": [],
   "source": [
    "performance_map['basis_mnist'] = gg_performance.copy()"
   ]
  },
  {
   "cell_type": "markdown",
   "metadata": {},
   "source": [
    "### Model Initialization (Cross task analysis) -- Using 1 mask from task 0"
   ]
  },
  {
   "cell_type": "code",
   "execution_count": 31,
   "metadata": {},
   "outputs": [],
   "source": [
    "num_tasks = 10 # For demonstration purposes, we go up to 2500 in our paper\n",
    "num_seed_tasks_learned = 1\n",
    "basis_model_f = BasisMultitaskFC(hidden_size=300,\n",
    "                            num_tasks=num_tasks, num_seed_tasks_learned=num_seed_tasks_learned, start_at_optimal=True, sparsity=0.25)"
   ]
  },
  {
   "cell_type": "code",
   "execution_count": 32,
   "metadata": {},
   "outputs": [],
   "source": [
    "custom_state_dict = basis_model_f.state_dict().copy()\n",
    "custom_state_dict.update({k:v for k,v in model.state_dict().items() if k in custom_state_dict.keys()})"
   ]
  },
  {
   "cell_type": "code",
   "execution_count": 33,
   "metadata": {},
   "outputs": [],
   "source": [
    "for k in custom_state_dict.keys():\n",
    "    if k.startswith('model.0.scores.'):\n",
    "        custom_state_dict[k] = model.state_dict()['model.0.scores.0']\n",
    "    elif k.startswith('model.2.scores.'):\n",
    "        custom_state_dict[k] = model.state_dict()['model.2.scores.0']\n",
    "    elif k.startswith('model.4.scores.'):\n",
    "        custom_state_dict[k] = model.state_dict()['model.4.scores.0']\n",
    "    elif k.startswith('model.0.basis_alphas.'):\n",
    "        custom_state_dict[k] = custom_state_dict['model.0.basis_alphas.0'] \n",
    "    elif k.startswith('model.2.basis_alphas.'):\n",
    "        custom_state_dict[k] = custom_state_dict['model.2.basis_alphas.0']\n",
    "    elif k.startswith('model.4.basis_alphas.'):\n",
    "        custom_state_dict[k] = custom_state_dict['model.4.basis_alphas.0']"
   ]
  },
  {
   "cell_type": "code",
   "execution_count": 34,
   "metadata": {},
   "outputs": [
    {
     "name": "stdout",
     "output_type": "stream",
     "text": [
      "=> Caching mask state for model.0\n",
      "=> Caching mask state for model.2\n",
      "=> Caching mask state for model.4\n"
     ]
    }
   ],
   "source": [
    "basis_model_f.load_state_dict(custom_state_dict, False)\n",
    "cache_masks(basis_model_f)"
   ]
  },
  {
   "cell_type": "code",
   "execution_count": 35,
   "metadata": {
    "scrolled": true
   },
   "outputs": [],
   "source": [
    "# for task in range(0, num_tasks):\n",
    "#     print(f\"Training for task {task}\")\n",
    "#     set_model_task(basis_model_hidf, task)\n",
    "#     mnist.update_task(task)\n",
    "\n",
    "#     optimizer = optim.RMSprop([p for p in basis_model_hidf.parameters() if p.requires_grad], lr=1e-3)\n",
    "#     # Train for 1 epoch\n",
    "#     for e in range(1):\n",
    "#         train(basis_model_hidf, mnist.train_loader, optimizer, e)\n",
    "        \n",
    "#         print(\"Validation\")\n",
    "#         print(\"============\")\n",
    "#         acc1 = evaluate(basis_model_hidf, mnist.val_loader, e)\n",
    "        \n",
    "    \n",
    "#     cache_masks(basis_model_hidf)\n",
    "#     print()\n",
    "#     set_num_tasks_learned(basis_model_hidf, task + 1)\n",
    "#     print()"
   ]
  },
  {
   "cell_type": "code",
   "execution_count": 36,
   "metadata": {
    "scrolled": true
   },
   "outputs": [
    {
     "name": "stdout",
     "output_type": "stream",
     "text": [
      "Average top 1 performance: 0.2064\n",
      "Per task performance\n",
      "Task 0: 0.9123\n",
      "Task 1: 0.1757\n",
      "Task 2: 0.1208\n",
      "Task 3: 0.0909\n",
      "Task 4: 0.1220\n",
      "Task 5: 0.1697\n",
      "Task 6: 0.0895\n",
      "Task 7: 0.1300\n",
      "Task 8: 0.1562\n",
      "Task 9: 0.0971\n"
     ]
    }
   ],
   "source": [
    "# When task ID we can simply set the mask and evaluate\n",
    "\n",
    "gg_performance = []\n",
    "for task in range(num_tasks):\n",
    "    set_model_task(basis_model_f, task)\n",
    "    mnist.update_task(task)\n",
    "    acc1 = evaluate(basis_model_f, mnist.val_loader, 0)\n",
    "    gg_performance.append(acc1.item())\n",
    "\n",
    "clear_output()\n",
    "    \n",
    "print(f\"Average top 1 performance: {(sum(gg_performance) / len(gg_performance)):.4f}\")\n",
    "\n",
    "print(\"Per task performance\")\n",
    "for t in range(num_tasks):\n",
    "    print(f\"Task {t}: {gg_performance[t]:.4f}\")"
   ]
  },
  {
   "cell_type": "code",
   "execution_count": 37,
   "metadata": {},
   "outputs": [],
   "source": [
    "performance_map['basis_mnist_frozen'] = gg_performance.copy()"
   ]
  },
  {
   "cell_type": "markdown",
   "metadata": {},
   "source": [
    "### Model Initialization (Only New Tasks) , 15 masks all from task 0"
   ]
  },
  {
   "cell_type": "code",
   "execution_count": 38,
   "metadata": {},
   "outputs": [],
   "source": [
    "num_tasks = 50 # For demonstration purposes, we go up to 2500 in our paper\n",
    "num_seed_tasks_learned = 40\n",
    "basis_model_zeros = BasisMultitaskFC(hidden_size=300, num_tasks=num_tasks, num_seed_tasks_learned=num_seed_tasks_learned, start_at_optimal=False, sparsity=0.25)"
   ]
  },
  {
   "cell_type": "code",
   "execution_count": 39,
   "metadata": {},
   "outputs": [],
   "source": [
    "seed_dict = basis_model_zeros.state_dict()"
   ]
  },
  {
   "cell_type": "code",
   "execution_count": 40,
   "metadata": {},
   "outputs": [],
   "source": [
    "update_dict = seed_dict.copy()"
   ]
  },
  {
   "cell_type": "code",
   "execution_count": 41,
   "metadata": {},
   "outputs": [],
   "source": [
    "assert all([(model_map[0].state_dict()['model.0.weight'] == model_map[i].state_dict()['model.0.weight']).all() for i in range(1,15)])\n",
    "update_dict['model.0.weight'] = model_map[0].state_dict()['model.0.weight']\n",
    "for task in range(15):\n",
    "    for layer in [0,2,4]:\n",
    "        update_dict['model.{}.scores.{}'.format(layer, task)] = model_map[task].state_dict()['model.{}.scores.0'.format(layer)]"
   ]
  },
  {
   "cell_type": "code",
   "execution_count": 42,
   "metadata": {},
   "outputs": [
    {
     "name": "stdout",
     "output_type": "stream",
     "text": [
      "=> Caching mask state for model.0\n",
      "=> Caching mask state for model.2\n",
      "=> Caching mask state for model.4\n"
     ]
    }
   ],
   "source": [
    "seed_dict.update(update_dict)\n",
    "basis_model_zeros.load_state_dict(seed_dict, False)\n",
    "cache_masks(basis_model_zeros)"
   ]
  },
  {
   "cell_type": "code",
   "execution_count": 43,
   "metadata": {},
   "outputs": [
    {
     "data": {
      "text/plain": [
       "(40, 50)"
      ]
     },
     "execution_count": 43,
     "metadata": {},
     "output_type": "execute_result"
    }
   ],
   "source": [
    "num_seed_tasks_learned, num_tasks"
   ]
  },
  {
   "cell_type": "code",
   "execution_count": 44,
   "metadata": {
    "scrolled": true
   },
   "outputs": [
    {
     "name": "stdout",
     "output_type": "stream",
     "text": [
      "Training for task 40\n",
      "=> Set task of model.0 to 40\n",
      "=> Set task of model.2 to 40\n",
      "=> Set task of model.4 to 40\n"
     ]
    },
    {
     "data": {
      "application/vnd.jupyter.widget-view+json": {
       "model_id": "a83169115ca343dfac5eae5bb84a1860",
       "version_major": 2,
       "version_minor": 0
      },
      "text/plain": [
       "  0%|          | 0/469 [00:00<?, ?it/s]"
      ]
     },
     "metadata": {},
     "output_type": "display_data"
    },
    {
     "name": "stdout",
     "output_type": "stream",
     "text": [
      "Validation => Loss 2.3973, Acc@1 0.2077\n",
      "============\n"
     ]
    },
    {
     "data": {
      "application/vnd.jupyter.widget-view+json": {
       "model_id": "cc56d402f0f44fe799b005ae0c244297",
       "version_major": 2,
       "version_minor": 0
      },
      "text/plain": [
       "  0%|          | 0/79 [00:00<?, ?it/s]"
      ]
     },
     "metadata": {},
     "output_type": "display_data"
    },
    {
     "name": "stdout",
     "output_type": "stream",
     "text": [
      "Val Perf after 1 epochs Acc@1 0.3332\n"
     ]
    },
    {
     "data": {
      "application/vnd.jupyter.widget-view+json": {
       "model_id": "3749f2592899498392445ae204586e3c",
       "version_major": 2,
       "version_minor": 0
      },
      "text/plain": [
       "  0%|          | 0/469 [00:00<?, ?it/s]"
      ]
     },
     "metadata": {},
     "output_type": "display_data"
    },
    {
     "name": "stdout",
     "output_type": "stream",
     "text": [
      "Validation => Loss 2.2227, Acc@1 0.3590\n",
      "============\n"
     ]
    },
    {
     "data": {
      "application/vnd.jupyter.widget-view+json": {
       "model_id": "8a681ce0ec334c29a4ef1683d8008e39",
       "version_major": 2,
       "version_minor": 0
      },
      "text/plain": [
       "  0%|          | 0/79 [00:00<?, ?it/s]"
      ]
     },
     "metadata": {},
     "output_type": "display_data"
    },
    {
     "name": "stdout",
     "output_type": "stream",
     "text": [
      "Val Perf after 2 epochs Acc@1 0.4120\n",
      "=> Caching mask state for model.0\n",
      "=> Caching mask state for model.2\n",
      "=> Caching mask state for model.4\n",
      "\n",
      "=> Setting learned tasks of model.0 to 41\n",
      "=> Setting learned tasks of model.2 to 41\n",
      "=> Setting learned tasks of model.4 to 41\n",
      "\n",
      "Training for task 41\n",
      "=> Set task of model.0 to 41\n",
      "=> Set task of model.2 to 41\n",
      "=> Set task of model.4 to 41\n"
     ]
    },
    {
     "data": {
      "application/vnd.jupyter.widget-view+json": {
       "model_id": "70b053c932ca4f5c9f5adf749d816e28",
       "version_major": 2,
       "version_minor": 0
      },
      "text/plain": [
       "  0%|          | 0/469 [00:00<?, ?it/s]"
      ]
     },
     "metadata": {},
     "output_type": "display_data"
    },
    {
     "name": "stdout",
     "output_type": "stream",
     "text": [
      "Validation => Loss 2.6052, Acc@1 0.2673\n",
      "============\n"
     ]
    },
    {
     "data": {
      "application/vnd.jupyter.widget-view+json": {
       "model_id": "af6f24660a0f47d3a3e50dd8dbfdf015",
       "version_major": 2,
       "version_minor": 0
      },
      "text/plain": [
       "  0%|          | 0/79 [00:00<?, ?it/s]"
      ]
     },
     "metadata": {},
     "output_type": "display_data"
    },
    {
     "name": "stdout",
     "output_type": "stream",
     "text": [
      "Val Perf after 1 epochs Acc@1 0.3579\n"
     ]
    },
    {
     "data": {
      "application/vnd.jupyter.widget-view+json": {
       "model_id": "d69ca98460fd4b218c0f82384d899ae4",
       "version_major": 2,
       "version_minor": 0
      },
      "text/plain": [
       "  0%|          | 0/469 [00:00<?, ?it/s]"
      ]
     },
     "metadata": {},
     "output_type": "display_data"
    },
    {
     "name": "stdout",
     "output_type": "stream",
     "text": [
      "Validation => Loss 2.0144, Acc@1 0.3936\n",
      "============\n"
     ]
    },
    {
     "data": {
      "application/vnd.jupyter.widget-view+json": {
       "model_id": "69ac947e3b56477eb46f5e7fc47a2284",
       "version_major": 2,
       "version_minor": 0
      },
      "text/plain": [
       "  0%|          | 0/79 [00:00<?, ?it/s]"
      ]
     },
     "metadata": {},
     "output_type": "display_data"
    },
    {
     "name": "stdout",
     "output_type": "stream",
     "text": [
      "Val Perf after 2 epochs Acc@1 0.4369\n",
      "=> Caching mask state for model.0\n",
      "=> Caching mask state for model.2\n",
      "=> Caching mask state for model.4\n",
      "\n",
      "=> Setting learned tasks of model.0 to 42\n",
      "=> Setting learned tasks of model.2 to 42\n",
      "=> Setting learned tasks of model.4 to 42\n",
      "\n",
      "Training for task 42\n",
      "=> Set task of model.0 to 42\n",
      "=> Set task of model.2 to 42\n",
      "=> Set task of model.4 to 42\n"
     ]
    },
    {
     "data": {
      "application/vnd.jupyter.widget-view+json": {
       "model_id": "0eab159842394377ae8468c0373b71cc",
       "version_major": 2,
       "version_minor": 0
      },
      "text/plain": [
       "  0%|          | 0/469 [00:00<?, ?it/s]"
      ]
     },
     "metadata": {},
     "output_type": "display_data"
    },
    {
     "name": "stdout",
     "output_type": "stream",
     "text": [
      "Validation => Loss 2.7551, Acc@1 0.2236\n",
      "============\n"
     ]
    },
    {
     "data": {
      "application/vnd.jupyter.widget-view+json": {
       "model_id": "d316b6ddb15a4a429312cce0234acada",
       "version_major": 2,
       "version_minor": 0
      },
      "text/plain": [
       "  0%|          | 0/79 [00:00<?, ?it/s]"
      ]
     },
     "metadata": {},
     "output_type": "display_data"
    },
    {
     "name": "stdout",
     "output_type": "stream",
     "text": [
      "Val Perf after 1 epochs Acc@1 0.3417\n"
     ]
    },
    {
     "data": {
      "application/vnd.jupyter.widget-view+json": {
       "model_id": "2b28841af4e34a53a5be18d51938cea7",
       "version_major": 2,
       "version_minor": 0
      },
      "text/plain": [
       "  0%|          | 0/469 [00:00<?, ?it/s]"
      ]
     },
     "metadata": {},
     "output_type": "display_data"
    },
    {
     "name": "stdout",
     "output_type": "stream",
     "text": [
      "Validation => Loss 2.0114, Acc@1 0.3708\n",
      "============\n"
     ]
    },
    {
     "data": {
      "application/vnd.jupyter.widget-view+json": {
       "model_id": "0554f68e09c241ada0e36dae03de4b29",
       "version_major": 2,
       "version_minor": 0
      },
      "text/plain": [
       "  0%|          | 0/79 [00:00<?, ?it/s]"
      ]
     },
     "metadata": {},
     "output_type": "display_data"
    },
    {
     "name": "stdout",
     "output_type": "stream",
     "text": [
      "Val Perf after 2 epochs Acc@1 0.4121\n",
      "=> Caching mask state for model.0\n",
      "=> Caching mask state for model.2\n",
      "=> Caching mask state for model.4\n",
      "\n",
      "=> Setting learned tasks of model.0 to 43\n",
      "=> Setting learned tasks of model.2 to 43\n",
      "=> Setting learned tasks of model.4 to 43\n",
      "\n",
      "Training for task 43\n",
      "=> Set task of model.0 to 43\n",
      "=> Set task of model.2 to 43\n",
      "=> Set task of model.4 to 43\n"
     ]
    },
    {
     "data": {
      "application/vnd.jupyter.widget-view+json": {
       "model_id": "e907d756c5544b87b643f7dc1d3d0783",
       "version_major": 2,
       "version_minor": 0
      },
      "text/plain": [
       "  0%|          | 0/469 [00:00<?, ?it/s]"
      ]
     },
     "metadata": {},
     "output_type": "display_data"
    },
    {
     "name": "stdout",
     "output_type": "stream",
     "text": [
      "Validation => Loss 2.2342, Acc@1 0.2653\n",
      "============\n"
     ]
    },
    {
     "data": {
      "application/vnd.jupyter.widget-view+json": {
       "model_id": "0afa2acc386c4abfae99699cf3eb2d35",
       "version_major": 2,
       "version_minor": 0
      },
      "text/plain": [
       "  0%|          | 0/79 [00:00<?, ?it/s]"
      ]
     },
     "metadata": {},
     "output_type": "display_data"
    },
    {
     "name": "stdout",
     "output_type": "stream",
     "text": [
      "Val Perf after 1 epochs Acc@1 0.3801\n"
     ]
    },
    {
     "data": {
      "application/vnd.jupyter.widget-view+json": {
       "model_id": "6b854baed25e426796046493b8510211",
       "version_major": 2,
       "version_minor": 0
      },
      "text/plain": [
       "  0%|          | 0/469 [00:00<?, ?it/s]"
      ]
     },
     "metadata": {},
     "output_type": "display_data"
    },
    {
     "name": "stdout",
     "output_type": "stream",
     "text": [
      "Validation => Loss 1.9547, Acc@1 0.4450\n",
      "============\n"
     ]
    },
    {
     "data": {
      "application/vnd.jupyter.widget-view+json": {
       "model_id": "227535780a104fffb9052bab26203a07",
       "version_major": 2,
       "version_minor": 0
      },
      "text/plain": [
       "  0%|          | 0/79 [00:00<?, ?it/s]"
      ]
     },
     "metadata": {},
     "output_type": "display_data"
    },
    {
     "name": "stdout",
     "output_type": "stream",
     "text": [
      "Val Perf after 2 epochs Acc@1 0.4793\n",
      "=> Caching mask state for model.0\n",
      "=> Caching mask state for model.2\n",
      "=> Caching mask state for model.4\n",
      "\n",
      "=> Setting learned tasks of model.0 to 44\n",
      "=> Setting learned tasks of model.2 to 44\n",
      "=> Setting learned tasks of model.4 to 44\n",
      "\n",
      "Training for task 44\n",
      "=> Set task of model.0 to 44\n",
      "=> Set task of model.2 to 44\n",
      "=> Set task of model.4 to 44\n"
     ]
    },
    {
     "data": {
      "application/vnd.jupyter.widget-view+json": {
       "model_id": "5b7e2aa36dac409d938aa77e32aca9d1",
       "version_major": 2,
       "version_minor": 0
      },
      "text/plain": [
       "  0%|          | 0/469 [00:00<?, ?it/s]"
      ]
     },
     "metadata": {},
     "output_type": "display_data"
    },
    {
     "name": "stdout",
     "output_type": "stream",
     "text": [
      "Validation => Loss 2.3228, Acc@1 0.2204\n",
      "============\n"
     ]
    },
    {
     "data": {
      "application/vnd.jupyter.widget-view+json": {
       "model_id": "0680d3beec104eedab6a03d910cfe790",
       "version_major": 2,
       "version_minor": 0
      },
      "text/plain": [
       "  0%|          | 0/79 [00:00<?, ?it/s]"
      ]
     },
     "metadata": {},
     "output_type": "display_data"
    },
    {
     "name": "stdout",
     "output_type": "stream",
     "text": [
      "Val Perf after 1 epochs Acc@1 0.3525\n"
     ]
    },
    {
     "data": {
      "application/vnd.jupyter.widget-view+json": {
       "model_id": "3725c51c7f724c5881ddf14ee0410256",
       "version_major": 2,
       "version_minor": 0
      },
      "text/plain": [
       "  0%|          | 0/469 [00:00<?, ?it/s]"
      ]
     },
     "metadata": {},
     "output_type": "display_data"
    },
    {
     "name": "stdout",
     "output_type": "stream",
     "text": [
      "Validation => Loss 1.8646, Acc@1 0.4209\n",
      "============\n"
     ]
    },
    {
     "data": {
      "application/vnd.jupyter.widget-view+json": {
       "model_id": "fab34064aaf24842ad24bb428242fad8",
       "version_major": 2,
       "version_minor": 0
      },
      "text/plain": [
       "  0%|          | 0/79 [00:00<?, ?it/s]"
      ]
     },
     "metadata": {},
     "output_type": "display_data"
    },
    {
     "name": "stdout",
     "output_type": "stream",
     "text": [
      "Val Perf after 2 epochs Acc@1 0.4652\n",
      "=> Caching mask state for model.0\n",
      "=> Caching mask state for model.2\n",
      "=> Caching mask state for model.4\n",
      "\n",
      "=> Setting learned tasks of model.0 to 45\n",
      "=> Setting learned tasks of model.2 to 45\n",
      "=> Setting learned tasks of model.4 to 45\n",
      "\n",
      "Training for task 45\n",
      "=> Set task of model.0 to 45\n",
      "=> Set task of model.2 to 45\n",
      "=> Set task of model.4 to 45\n"
     ]
    },
    {
     "data": {
      "application/vnd.jupyter.widget-view+json": {
       "model_id": "8a48b7c9a562460da505be7a4f9058db",
       "version_major": 2,
       "version_minor": 0
      },
      "text/plain": [
       "  0%|          | 0/469 [00:00<?, ?it/s]"
      ]
     },
     "metadata": {},
     "output_type": "display_data"
    },
    {
     "name": "stdout",
     "output_type": "stream",
     "text": [
      "Validation => Loss 2.4968, Acc@1 0.2334\n",
      "============\n"
     ]
    },
    {
     "data": {
      "application/vnd.jupyter.widget-view+json": {
       "model_id": "509571bb1f854d9b96633f3021635833",
       "version_major": 2,
       "version_minor": 0
      },
      "text/plain": [
       "  0%|          | 0/79 [00:00<?, ?it/s]"
      ]
     },
     "metadata": {},
     "output_type": "display_data"
    },
    {
     "name": "stdout",
     "output_type": "stream",
     "text": [
      "Val Perf after 1 epochs Acc@1 0.3668\n"
     ]
    },
    {
     "data": {
      "application/vnd.jupyter.widget-view+json": {
       "model_id": "d05898fd2d274a8e92a7e65f9c2ae54a",
       "version_major": 2,
       "version_minor": 0
      },
      "text/plain": [
       "  0%|          | 0/469 [00:00<?, ?it/s]"
      ]
     },
     "metadata": {},
     "output_type": "display_data"
    },
    {
     "name": "stdout",
     "output_type": "stream",
     "text": [
      "Validation => Loss 1.7764, Acc@1 0.4049\n",
      "============\n"
     ]
    },
    {
     "data": {
      "application/vnd.jupyter.widget-view+json": {
       "model_id": "242753b3db0b42118b18410f98e7f996",
       "version_major": 2,
       "version_minor": 0
      },
      "text/plain": [
       "  0%|          | 0/79 [00:00<?, ?it/s]"
      ]
     },
     "metadata": {},
     "output_type": "display_data"
    },
    {
     "name": "stdout",
     "output_type": "stream",
     "text": [
      "Val Perf after 2 epochs Acc@1 0.4435\n",
      "=> Caching mask state for model.0\n",
      "=> Caching mask state for model.2\n",
      "=> Caching mask state for model.4\n",
      "\n",
      "=> Setting learned tasks of model.0 to 46\n",
      "=> Setting learned tasks of model.2 to 46\n",
      "=> Setting learned tasks of model.4 to 46\n",
      "\n",
      "Training for task 46\n",
      "=> Set task of model.0 to 46\n",
      "=> Set task of model.2 to 46\n",
      "=> Set task of model.4 to 46\n"
     ]
    },
    {
     "data": {
      "application/vnd.jupyter.widget-view+json": {
       "model_id": "404b677e8b074185873bb45060e81822",
       "version_major": 2,
       "version_minor": 0
      },
      "text/plain": [
       "  0%|          | 0/469 [00:00<?, ?it/s]"
      ]
     },
     "metadata": {},
     "output_type": "display_data"
    },
    {
     "name": "stdout",
     "output_type": "stream",
     "text": [
      "Validation => Loss 2.2520, Acc@1 0.2520\n",
      "============\n"
     ]
    },
    {
     "data": {
      "application/vnd.jupyter.widget-view+json": {
       "model_id": "3b330976c457451eace5e9639e0a4541",
       "version_major": 2,
       "version_minor": 0
      },
      "text/plain": [
       "  0%|          | 0/79 [00:00<?, ?it/s]"
      ]
     },
     "metadata": {},
     "output_type": "display_data"
    },
    {
     "name": "stdout",
     "output_type": "stream",
     "text": [
      "Val Perf after 1 epochs Acc@1 0.3640\n"
     ]
    },
    {
     "data": {
      "application/vnd.jupyter.widget-view+json": {
       "model_id": "572db51af605457591baed784c3a2618",
       "version_major": 2,
       "version_minor": 0
      },
      "text/plain": [
       "  0%|          | 0/469 [00:00<?, ?it/s]"
      ]
     },
     "metadata": {},
     "output_type": "display_data"
    },
    {
     "name": "stdout",
     "output_type": "stream",
     "text": [
      "Validation => Loss 1.7504, Acc@1 0.4115\n",
      "============\n"
     ]
    },
    {
     "data": {
      "application/vnd.jupyter.widget-view+json": {
       "model_id": "728a0e539cf64749a7c89302be0c30bc",
       "version_major": 2,
       "version_minor": 0
      },
      "text/plain": [
       "  0%|          | 0/79 [00:00<?, ?it/s]"
      ]
     },
     "metadata": {},
     "output_type": "display_data"
    },
    {
     "name": "stdout",
     "output_type": "stream",
     "text": [
      "Val Perf after 2 epochs Acc@1 0.4450\n",
      "=> Caching mask state for model.0\n",
      "=> Caching mask state for model.2\n",
      "=> Caching mask state for model.4\n",
      "\n",
      "=> Setting learned tasks of model.0 to 47\n",
      "=> Setting learned tasks of model.2 to 47\n",
      "=> Setting learned tasks of model.4 to 47\n",
      "\n",
      "Training for task 47\n",
      "=> Set task of model.0 to 47\n",
      "=> Set task of model.2 to 47\n",
      "=> Set task of model.4 to 47\n"
     ]
    },
    {
     "data": {
      "application/vnd.jupyter.widget-view+json": {
       "model_id": "5ff099b7427f424ab25a0ae666db2df1",
       "version_major": 2,
       "version_minor": 0
      },
      "text/plain": [
       "  0%|          | 0/469 [00:00<?, ?it/s]"
      ]
     },
     "metadata": {},
     "output_type": "display_data"
    },
    {
     "name": "stdout",
     "output_type": "stream",
     "text": [
      "Validation => Loss 2.2286, Acc@1 0.2666\n",
      "============\n"
     ]
    },
    {
     "data": {
      "application/vnd.jupyter.widget-view+json": {
       "model_id": "ce60f9ebc8f34c44986e6420cb2636b0",
       "version_major": 2,
       "version_minor": 0
      },
      "text/plain": [
       "  0%|          | 0/79 [00:00<?, ?it/s]"
      ]
     },
     "metadata": {},
     "output_type": "display_data"
    },
    {
     "name": "stdout",
     "output_type": "stream",
     "text": [
      "Val Perf after 1 epochs Acc@1 0.3663\n"
     ]
    },
    {
     "data": {
      "application/vnd.jupyter.widget-view+json": {
       "model_id": "d230adaa0185465bbefa4a3937adfb23",
       "version_major": 2,
       "version_minor": 0
      },
      "text/plain": [
       "  0%|          | 0/469 [00:00<?, ?it/s]"
      ]
     },
     "metadata": {},
     "output_type": "display_data"
    },
    {
     "name": "stdout",
     "output_type": "stream",
     "text": [
      "Validation => Loss 1.7297, Acc@1 0.4199\n",
      "============\n"
     ]
    },
    {
     "data": {
      "application/vnd.jupyter.widget-view+json": {
       "model_id": "d461fc2347ae4371a2274e8184ec6d2f",
       "version_major": 2,
       "version_minor": 0
      },
      "text/plain": [
       "  0%|          | 0/79 [00:00<?, ?it/s]"
      ]
     },
     "metadata": {},
     "output_type": "display_data"
    },
    {
     "name": "stdout",
     "output_type": "stream",
     "text": [
      "Val Perf after 2 epochs Acc@1 0.4630\n",
      "=> Caching mask state for model.0\n",
      "=> Caching mask state for model.2\n",
      "=> Caching mask state for model.4\n",
      "\n",
      "=> Setting learned tasks of model.0 to 48\n",
      "=> Setting learned tasks of model.2 to 48\n",
      "=> Setting learned tasks of model.4 to 48\n",
      "\n",
      "Training for task 48\n",
      "=> Set task of model.0 to 48\n",
      "=> Set task of model.2 to 48\n",
      "=> Set task of model.4 to 48\n"
     ]
    },
    {
     "data": {
      "application/vnd.jupyter.widget-view+json": {
       "model_id": "e6c32f32c50e4bc88c432cdb01bf9ba1",
       "version_major": 2,
       "version_minor": 0
      },
      "text/plain": [
       "  0%|          | 0/469 [00:00<?, ?it/s]"
      ]
     },
     "metadata": {},
     "output_type": "display_data"
    },
    {
     "name": "stdout",
     "output_type": "stream",
     "text": [
      "Validation => Loss 2.2583, Acc@1 0.2334\n",
      "============\n"
     ]
    },
    {
     "data": {
      "application/vnd.jupyter.widget-view+json": {
       "model_id": "35a81fbfe2c94b868443aa8a169a93af",
       "version_major": 2,
       "version_minor": 0
      },
      "text/plain": [
       "  0%|          | 0/79 [00:00<?, ?it/s]"
      ]
     },
     "metadata": {},
     "output_type": "display_data"
    },
    {
     "name": "stdout",
     "output_type": "stream",
     "text": [
      "Val Perf after 1 epochs Acc@1 0.3527\n"
     ]
    },
    {
     "data": {
      "application/vnd.jupyter.widget-view+json": {
       "model_id": "7f2699d146bd43a3be330cf222939cea",
       "version_major": 2,
       "version_minor": 0
      },
      "text/plain": [
       "  0%|          | 0/469 [00:00<?, ?it/s]"
      ]
     },
     "metadata": {},
     "output_type": "display_data"
    },
    {
     "name": "stdout",
     "output_type": "stream",
     "text": [
      "Validation => Loss 1.7529, Acc@1 0.4105\n",
      "============\n"
     ]
    },
    {
     "data": {
      "application/vnd.jupyter.widget-view+json": {
       "model_id": "cf31ba19d79943f4a81a1febc22b2480",
       "version_major": 2,
       "version_minor": 0
      },
      "text/plain": [
       "  0%|          | 0/79 [00:00<?, ?it/s]"
      ]
     },
     "metadata": {},
     "output_type": "display_data"
    },
    {
     "name": "stdout",
     "output_type": "stream",
     "text": [
      "Val Perf after 2 epochs Acc@1 0.4845\n",
      "=> Caching mask state for model.0\n",
      "=> Caching mask state for model.2\n",
      "=> Caching mask state for model.4\n",
      "\n",
      "=> Setting learned tasks of model.0 to 49\n",
      "=> Setting learned tasks of model.2 to 49\n",
      "=> Setting learned tasks of model.4 to 49\n",
      "\n",
      "Training for task 49\n",
      "=> Set task of model.0 to 49\n",
      "=> Set task of model.2 to 49\n",
      "=> Set task of model.4 to 49\n"
     ]
    },
    {
     "data": {
      "application/vnd.jupyter.widget-view+json": {
       "model_id": "ef85eeb80c324e57a52d13cf4e3433ca",
       "version_major": 2,
       "version_minor": 0
      },
      "text/plain": [
       "  0%|          | 0/469 [00:00<?, ?it/s]"
      ]
     },
     "metadata": {},
     "output_type": "display_data"
    },
    {
     "name": "stdout",
     "output_type": "stream",
     "text": [
      "Validation => Loss 2.1193, Acc@1 0.2184\n",
      "============\n"
     ]
    },
    {
     "data": {
      "application/vnd.jupyter.widget-view+json": {
       "model_id": "402601142cf34d47ad4834baaf423e97",
       "version_major": 2,
       "version_minor": 0
      },
      "text/plain": [
       "  0%|          | 0/79 [00:00<?, ?it/s]"
      ]
     },
     "metadata": {},
     "output_type": "display_data"
    },
    {
     "name": "stdout",
     "output_type": "stream",
     "text": [
      "Val Perf after 1 epochs Acc@1 0.3565\n"
     ]
    },
    {
     "data": {
      "application/vnd.jupyter.widget-view+json": {
       "model_id": "c723c4398be042ddb4ff78cc9fa116d4",
       "version_major": 2,
       "version_minor": 0
      },
      "text/plain": [
       "  0%|          | 0/469 [00:00<?, ?it/s]"
      ]
     },
     "metadata": {},
     "output_type": "display_data"
    },
    {
     "name": "stdout",
     "output_type": "stream",
     "text": [
      "Validation => Loss 1.8414, Acc@1 0.3991\n",
      "============\n"
     ]
    },
    {
     "data": {
      "application/vnd.jupyter.widget-view+json": {
       "model_id": "ff3cad3131d4452cac80851b69e325e7",
       "version_major": 2,
       "version_minor": 0
      },
      "text/plain": [
       "  0%|          | 0/79 [00:00<?, ?it/s]"
      ]
     },
     "metadata": {},
     "output_type": "display_data"
    },
    {
     "name": "stdout",
     "output_type": "stream",
     "text": [
      "Val Perf after 2 epochs Acc@1 0.4672\n",
      "=> Caching mask state for model.0\n",
      "=> Caching mask state for model.2\n",
      "=> Caching mask state for model.4\n",
      "\n",
      "=> Setting learned tasks of model.0 to 50\n",
      "=> Setting learned tasks of model.2 to 50\n",
      "=> Setting learned tasks of model.4 to 50\n",
      "\n"
     ]
    }
   ],
   "source": [
    "for task in range(num_seed_tasks_learned, num_tasks):\n",
    "    print(f\"Training for task {task}\")\n",
    "    set_model_task(basis_model_zeros, task)\n",
    "    mnist.update_task(task)\n",
    "\n",
    "    optimizer = optim.RMSprop([p for p in basis_model_zeros.parameters() if p.requires_grad], lr=1e-3)\n",
    "    # Train for 1 epoch\n",
    "    for e in range(2):\n",
    "        train(basis_model_zeros, mnist.train_loader, optimizer, e)\n",
    "        \n",
    "        print(\"Validation\")\n",
    "        print(\"============\")\n",
    "        acc1 = evaluate(basis_model_zeros, mnist.val_loader, e)\n",
    "        \n",
    "    \n",
    "    cache_masks(basis_model_zeros)\n",
    "    print()\n",
    "    set_num_tasks_learned(basis_model_zeros, task + 1)\n",
    "    print()"
   ]
  },
  {
   "cell_type": "code",
   "execution_count": 45,
   "metadata": {
    "scrolled": false
   },
   "outputs": [
    {
     "name": "stdout",
     "output_type": "stream",
     "text": [
      "Average top 1 performance: 0.0916\n",
      "Per task performance\n",
      "Task 0: 0.0000\n",
      "Task 1: 0.0028\n",
      "Task 2: 0.0001\n",
      "Task 3: 0.0024\n",
      "Task 4: 0.0080\n",
      "Task 5: 0.0002\n",
      "Task 6: 0.0000\n",
      "Task 7: 0.0000\n",
      "Task 8: 0.0007\n",
      "Task 9: 0.0049\n",
      "Task 10: 0.0025\n",
      "Task 11: 0.0002\n",
      "Task 12: 0.0004\n",
      "Task 13: 0.0004\n",
      "Task 14: 0.0006\n",
      "Task 15: 0.0001\n",
      "Task 16: 0.0047\n",
      "Task 17: 0.0004\n",
      "Task 18: 0.0003\n",
      "Task 19: 0.0005\n",
      "Task 20: 0.0004\n",
      "Task 21: 0.0018\n",
      "Task 22: 0.0031\n",
      "Task 23: 0.0019\n",
      "Task 24: 0.0002\n",
      "Task 25: 0.0006\n",
      "Task 26: 0.0015\n",
      "Task 27: 0.0102\n",
      "Task 28: 0.0017\n",
      "Task 29: 0.0105\n",
      "Task 30: 0.0001\n",
      "Task 31: 0.0018\n",
      "Task 32: 0.0003\n",
      "Task 33: 0.0020\n",
      "Task 34: 0.0012\n",
      "Task 35: 0.0000\n",
      "Task 36: 0.0027\n",
      "Task 37: 0.0003\n",
      "Task 38: 0.0010\n",
      "Task 39: 0.0000\n",
      "Task 40: 0.4120\n",
      "Task 41: 0.4369\n",
      "Task 42: 0.4121\n",
      "Task 43: 0.4793\n",
      "Task 44: 0.4652\n",
      "Task 45: 0.4435\n",
      "Task 46: 0.4450\n",
      "Task 47: 0.4630\n",
      "Task 48: 0.4845\n",
      "Task 49: 0.4672\n"
     ]
    }
   ],
   "source": [
    "# When task ID we can simply set the mask and evaluate\n",
    "\n",
    "gg_performance = []\n",
    "for task in range(num_tasks):\n",
    "    set_model_task(basis_model_zeros, task)\n",
    "    mnist.update_task(task)\n",
    "    acc1 = evaluate(basis_model_zeros, mnist.val_loader, 0)\n",
    "    gg_performance.append(acc1.item())\n",
    "\n",
    "clear_output()\n",
    "    \n",
    "print(f\"Average top 1 performance: {(sum(gg_performance) / len(gg_performance)):.4f}\")\n",
    "\n",
    "print(\"Per task performance\")\n",
    "for t in range(num_tasks):\n",
    "    print(f\"Task {t}: {gg_performance[t]:.4f}\")"
   ]
  },
  {
   "cell_type": "code",
   "execution_count": 46,
   "metadata": {},
   "outputs": [],
   "source": [
    "performance_map['basis_mnist_task_zero_only'] = gg_performance.copy()"
   ]
  },
  {
   "cell_type": "markdown",
   "metadata": {},
   "source": [
    "## Except Final Layer"
   ]
  },
  {
   "cell_type": "markdown",
   "metadata": {},
   "source": [
    "### Model Initialization (Only New Tasks)"
   ]
  },
  {
   "cell_type": "code",
   "execution_count": 47,
   "metadata": {},
   "outputs": [],
   "source": [
    "num_tasks = 50 # For demonstration purposes, we go up to 2500 in our paper\n",
    "num_seed_tasks_learned = 40\n",
    "basis_model_hid = BasisHiddenOnlyMultitaskFC(hidden_size=300, num_tasks=num_tasks, num_seed_tasks_learned=num_seed_tasks_learned, start_at_optimal=True, sparsity=0.25)"
   ]
  },
  {
   "cell_type": "code",
   "execution_count": 48,
   "metadata": {},
   "outputs": [
    {
     "name": "stdout",
     "output_type": "stream",
     "text": [
      "=> Caching mask state for model.0\n",
      "=> Caching mask state for model.2\n",
      "=> Caching mask state for model.4\n"
     ]
    }
   ],
   "source": [
    "seed_dict_hid = model.state_dict()\n",
    "basis_dict_hid = basis_model_hid.state_dict()\n",
    "load_dict_hid = {k: seed_dict_hid[k] for k in basis_model_hid.state_dict().keys() if k in seed_dict_hid.keys()}\n",
    "basis_dict_hid.update(load_dict_hid)\n",
    "basis_model_hid.load_state_dict(basis_dict_hid, False)\n",
    "cache_masks(basis_model_hid)"
   ]
  },
  {
   "cell_type": "code",
   "execution_count": 49,
   "metadata": {
    "scrolled": true
   },
   "outputs": [
    {
     "name": "stdout",
     "output_type": "stream",
     "text": [
      "Training for task 40\n",
      "=> Set task of model.0 to 40\n",
      "=> Set task of model.2 to 40\n",
      "=> Set task of model.4 to 40\n"
     ]
    },
    {
     "data": {
      "application/vnd.jupyter.widget-view+json": {
       "model_id": "6d6c9096e530421d8ce758c1d559dc5e",
       "version_major": 2,
       "version_minor": 0
      },
      "text/plain": [
       "  0%|          | 0/469 [00:00<?, ?it/s]"
      ]
     },
     "metadata": {},
     "output_type": "display_data"
    },
    {
     "name": "stdout",
     "output_type": "stream",
     "text": [
      "Validation => Loss 1.8988, Acc@1 0.2686\n",
      "============\n"
     ]
    },
    {
     "data": {
      "application/vnd.jupyter.widget-view+json": {
       "model_id": "31cfeecbb7b642f2ae81620ec2b3054f",
       "version_major": 2,
       "version_minor": 0
      },
      "text/plain": [
       "  0%|          | 0/79 [00:00<?, ?it/s]"
      ]
     },
     "metadata": {},
     "output_type": "display_data"
    },
    {
     "name": "stdout",
     "output_type": "stream",
     "text": [
      "Val Perf after 1 epochs Acc@1 0.5308\n"
     ]
    },
    {
     "data": {
      "application/vnd.jupyter.widget-view+json": {
       "model_id": "54c542c7391249b2ae27fb9ae6f05462",
       "version_major": 2,
       "version_minor": 0
      },
      "text/plain": [
       "  0%|          | 0/469 [00:00<?, ?it/s]"
      ]
     },
     "metadata": {},
     "output_type": "display_data"
    },
    {
     "name": "stdout",
     "output_type": "stream",
     "text": [
      "Validation => Loss 1.5069, Acc@1 0.5605\n",
      "============\n"
     ]
    },
    {
     "data": {
      "application/vnd.jupyter.widget-view+json": {
       "model_id": "ee7049ae73174cc5a6253954cb2493a8",
       "version_major": 2,
       "version_minor": 0
      },
      "text/plain": [
       "  0%|          | 0/79 [00:00<?, ?it/s]"
      ]
     },
     "metadata": {},
     "output_type": "display_data"
    },
    {
     "name": "stdout",
     "output_type": "stream",
     "text": [
      "Val Perf after 2 epochs Acc@1 0.6161\n"
     ]
    },
    {
     "data": {
      "application/vnd.jupyter.widget-view+json": {
       "model_id": "df2d580aef8b4802937e9208ca1e3dfe",
       "version_major": 2,
       "version_minor": 0
      },
      "text/plain": [
       "  0%|          | 0/469 [00:00<?, ?it/s]"
      ]
     },
     "metadata": {},
     "output_type": "display_data"
    },
    {
     "name": "stdout",
     "output_type": "stream",
     "text": [
      "Validation => Loss 1.1827, Acc@1 0.6331\n",
      "============\n"
     ]
    },
    {
     "data": {
      "application/vnd.jupyter.widget-view+json": {
       "model_id": "522160a55871474aaad89c5e410c1611",
       "version_major": 2,
       "version_minor": 0
      },
      "text/plain": [
       "  0%|          | 0/79 [00:00<?, ?it/s]"
      ]
     },
     "metadata": {},
     "output_type": "display_data"
    },
    {
     "name": "stdout",
     "output_type": "stream",
     "text": [
      "Val Perf after 3 epochs Acc@1 0.6069\n",
      "=> Caching mask state for model.0\n",
      "=> Caching mask state for model.2\n",
      "=> Caching mask state for model.4\n",
      "\n",
      "=> Setting learned tasks of model.0 to 41\n",
      "=> Setting learned tasks of model.2 to 41\n",
      "=> Setting learned tasks of model.4 to 41\n",
      "\n",
      "Training for task 41\n",
      "=> Set task of model.0 to 41\n",
      "=> Set task of model.2 to 41\n",
      "=> Set task of model.4 to 41\n"
     ]
    },
    {
     "data": {
      "application/vnd.jupyter.widget-view+json": {
       "model_id": "3017c117c8fa48d59aa6ef08cc5713ab",
       "version_major": 2,
       "version_minor": 0
      },
      "text/plain": [
       "  0%|          | 0/469 [00:00<?, ?it/s]"
      ]
     },
     "metadata": {},
     "output_type": "display_data"
    },
    {
     "name": "stdout",
     "output_type": "stream",
     "text": [
      "Validation => Loss 1.8749, Acc@1 0.3050\n",
      "============\n"
     ]
    },
    {
     "data": {
      "application/vnd.jupyter.widget-view+json": {
       "model_id": "920c74a37b6a40118b727d5ee70bb740",
       "version_major": 2,
       "version_minor": 0
      },
      "text/plain": [
       "  0%|          | 0/79 [00:00<?, ?it/s]"
      ]
     },
     "metadata": {},
     "output_type": "display_data"
    },
    {
     "name": "stdout",
     "output_type": "stream",
     "text": [
      "Val Perf after 1 epochs Acc@1 0.5393\n"
     ]
    },
    {
     "data": {
      "application/vnd.jupyter.widget-view+json": {
       "model_id": "848c3f69a49044b880a172993746a5a4",
       "version_major": 2,
       "version_minor": 0
      },
      "text/plain": [
       "  0%|          | 0/469 [00:00<?, ?it/s]"
      ]
     },
     "metadata": {},
     "output_type": "display_data"
    },
    {
     "name": "stdout",
     "output_type": "stream",
     "text": [
      "Validation => Loss 1.3223, Acc@1 0.5762\n",
      "============\n"
     ]
    },
    {
     "data": {
      "application/vnd.jupyter.widget-view+json": {
       "model_id": "273c92000c3742adbdf01e2ba0f3800d",
       "version_major": 2,
       "version_minor": 0
      },
      "text/plain": [
       "  0%|          | 0/79 [00:00<?, ?it/s]"
      ]
     },
     "metadata": {},
     "output_type": "display_data"
    },
    {
     "name": "stdout",
     "output_type": "stream",
     "text": [
      "Val Perf after 2 epochs Acc@1 0.6274\n"
     ]
    },
    {
     "data": {
      "application/vnd.jupyter.widget-view+json": {
       "model_id": "bce25470ff864f5cb6e2eb2ec7251b3c",
       "version_major": 2,
       "version_minor": 0
      },
      "text/plain": [
       "  0%|          | 0/469 [00:00<?, ?it/s]"
      ]
     },
     "metadata": {},
     "output_type": "display_data"
    },
    {
     "name": "stdout",
     "output_type": "stream",
     "text": [
      "Validation => Loss 1.2996, Acc@1 0.6439\n",
      "============\n"
     ]
    },
    {
     "data": {
      "application/vnd.jupyter.widget-view+json": {
       "model_id": "21e9e5a16411415d92064409252e3a03",
       "version_major": 2,
       "version_minor": 0
      },
      "text/plain": [
       "  0%|          | 0/79 [00:00<?, ?it/s]"
      ]
     },
     "metadata": {},
     "output_type": "display_data"
    },
    {
     "name": "stdout",
     "output_type": "stream",
     "text": [
      "Val Perf after 3 epochs Acc@1 0.6569\n",
      "=> Caching mask state for model.0\n",
      "=> Caching mask state for model.2\n",
      "=> Caching mask state for model.4\n",
      "\n",
      "=> Setting learned tasks of model.0 to 42\n",
      "=> Setting learned tasks of model.2 to 42\n",
      "=> Setting learned tasks of model.4 to 42\n",
      "\n",
      "Training for task 42\n",
      "=> Set task of model.0 to 42\n",
      "=> Set task of model.2 to 42\n",
      "=> Set task of model.4 to 42\n"
     ]
    },
    {
     "data": {
      "application/vnd.jupyter.widget-view+json": {
       "model_id": "97a310c52deb42c3afb5e8934abfb84c",
       "version_major": 2,
       "version_minor": 0
      },
      "text/plain": [
       "  0%|          | 0/469 [00:00<?, ?it/s]"
      ]
     },
     "metadata": {},
     "output_type": "display_data"
    },
    {
     "name": "stdout",
     "output_type": "stream",
     "text": [
      "Validation => Loss 1.8787, Acc@1 0.3027\n",
      "============\n"
     ]
    },
    {
     "data": {
      "application/vnd.jupyter.widget-view+json": {
       "model_id": "dc5866157f834359b9f7fc30ffc6b987",
       "version_major": 2,
       "version_minor": 0
      },
      "text/plain": [
       "  0%|          | 0/79 [00:00<?, ?it/s]"
      ]
     },
     "metadata": {},
     "output_type": "display_data"
    },
    {
     "name": "stdout",
     "output_type": "stream",
     "text": [
      "Val Perf after 1 epochs Acc@1 0.5595\n"
     ]
    },
    {
     "data": {
      "application/vnd.jupyter.widget-view+json": {
       "model_id": "34e2b4f72a1f43f79ad261246782eff0",
       "version_major": 2,
       "version_minor": 0
      },
      "text/plain": [
       "  0%|          | 0/469 [00:00<?, ?it/s]"
      ]
     },
     "metadata": {},
     "output_type": "display_data"
    },
    {
     "name": "stdout",
     "output_type": "stream",
     "text": [
      "Validation => Loss 1.3625, Acc@1 0.6042\n",
      "============\n"
     ]
    },
    {
     "data": {
      "application/vnd.jupyter.widget-view+json": {
       "model_id": "f074ebd1d5814d388e2718cf5183c698",
       "version_major": 2,
       "version_minor": 0
      },
      "text/plain": [
       "  0%|          | 0/79 [00:00<?, ?it/s]"
      ]
     },
     "metadata": {},
     "output_type": "display_data"
    },
    {
     "name": "stdout",
     "output_type": "stream",
     "text": [
      "Val Perf after 2 epochs Acc@1 0.6565\n"
     ]
    },
    {
     "data": {
      "application/vnd.jupyter.widget-view+json": {
       "model_id": "604395cd18164b0dba6939c70fa00d83",
       "version_major": 2,
       "version_minor": 0
      },
      "text/plain": [
       "  0%|          | 0/469 [00:00<?, ?it/s]"
      ]
     },
     "metadata": {},
     "output_type": "display_data"
    },
    {
     "name": "stdout",
     "output_type": "stream",
     "text": [
      "Validation => Loss 1.2514, Acc@1 0.6452\n",
      "============\n"
     ]
    },
    {
     "data": {
      "application/vnd.jupyter.widget-view+json": {
       "model_id": "7ed64f50ce7e432cab34972cc95a0e4a",
       "version_major": 2,
       "version_minor": 0
      },
      "text/plain": [
       "  0%|          | 0/79 [00:00<?, ?it/s]"
      ]
     },
     "metadata": {},
     "output_type": "display_data"
    },
    {
     "name": "stdout",
     "output_type": "stream",
     "text": [
      "Val Perf after 3 epochs Acc@1 0.6506\n",
      "=> Caching mask state for model.0\n",
      "=> Caching mask state for model.2\n",
      "=> Caching mask state for model.4\n",
      "\n",
      "=> Setting learned tasks of model.0 to 43\n",
      "=> Setting learned tasks of model.2 to 43\n",
      "=> Setting learned tasks of model.4 to 43\n",
      "\n",
      "Training for task 43\n",
      "=> Set task of model.0 to 43\n",
      "=> Set task of model.2 to 43\n",
      "=> Set task of model.4 to 43\n"
     ]
    },
    {
     "data": {
      "application/vnd.jupyter.widget-view+json": {
       "model_id": "57fff32ab67148f4ab5f65141f2ad807",
       "version_major": 2,
       "version_minor": 0
      },
      "text/plain": [
       "  0%|          | 0/469 [00:00<?, ?it/s]"
      ]
     },
     "metadata": {},
     "output_type": "display_data"
    },
    {
     "name": "stdout",
     "output_type": "stream",
     "text": [
      "Validation => Loss 1.8666, Acc@1 0.2995\n",
      "============\n"
     ]
    },
    {
     "data": {
      "application/vnd.jupyter.widget-view+json": {
       "model_id": "b9450307a4c04e8d901d031ee445635d",
       "version_major": 2,
       "version_minor": 0
      },
      "text/plain": [
       "  0%|          | 0/79 [00:00<?, ?it/s]"
      ]
     },
     "metadata": {},
     "output_type": "display_data"
    },
    {
     "name": "stdout",
     "output_type": "stream",
     "text": [
      "Val Perf after 1 epochs Acc@1 0.5400\n"
     ]
    },
    {
     "data": {
      "application/vnd.jupyter.widget-view+json": {
       "model_id": "0b71932478844f1ea9581e55b743c4b6",
       "version_major": 2,
       "version_minor": 0
      },
      "text/plain": [
       "  0%|          | 0/469 [00:00<?, ?it/s]"
      ]
     },
     "metadata": {},
     "output_type": "display_data"
    },
    {
     "name": "stdout",
     "output_type": "stream",
     "text": [
      "Validation => Loss 1.2625, Acc@1 0.5977\n",
      "============\n"
     ]
    },
    {
     "data": {
      "application/vnd.jupyter.widget-view+json": {
       "model_id": "cc96af30a403449fabd20eaea750f50a",
       "version_major": 2,
       "version_minor": 0
      },
      "text/plain": [
       "  0%|          | 0/79 [00:00<?, ?it/s]"
      ]
     },
     "metadata": {},
     "output_type": "display_data"
    },
    {
     "name": "stdout",
     "output_type": "stream",
     "text": [
      "Val Perf after 2 epochs Acc@1 0.6304\n"
     ]
    },
    {
     "data": {
      "application/vnd.jupyter.widget-view+json": {
       "model_id": "2986c18349354afea19a21a266a34463",
       "version_major": 2,
       "version_minor": 0
      },
      "text/plain": [
       "  0%|          | 0/469 [00:00<?, ?it/s]"
      ]
     },
     "metadata": {},
     "output_type": "display_data"
    },
    {
     "name": "stdout",
     "output_type": "stream",
     "text": [
      "Validation => Loss 1.3284, Acc@1 0.6377\n",
      "============\n"
     ]
    },
    {
     "data": {
      "application/vnd.jupyter.widget-view+json": {
       "model_id": "c6f2cfa45ee64eb38f4d022cbf0be404",
       "version_major": 2,
       "version_minor": 0
      },
      "text/plain": [
       "  0%|          | 0/79 [00:00<?, ?it/s]"
      ]
     },
     "metadata": {},
     "output_type": "display_data"
    },
    {
     "name": "stdout",
     "output_type": "stream",
     "text": [
      "Val Perf after 3 epochs Acc@1 0.6308\n",
      "=> Caching mask state for model.0\n",
      "=> Caching mask state for model.2\n",
      "=> Caching mask state for model.4\n",
      "\n",
      "=> Setting learned tasks of model.0 to 44\n",
      "=> Setting learned tasks of model.2 to 44\n",
      "=> Setting learned tasks of model.4 to 44\n",
      "\n",
      "Training for task 44\n",
      "=> Set task of model.0 to 44\n",
      "=> Set task of model.2 to 44\n",
      "=> Set task of model.4 to 44\n"
     ]
    },
    {
     "data": {
      "application/vnd.jupyter.widget-view+json": {
       "model_id": "50268507db29428b8fd120b24e6fab85",
       "version_major": 2,
       "version_minor": 0
      },
      "text/plain": [
       "  0%|          | 0/469 [00:00<?, ?it/s]"
      ]
     },
     "metadata": {},
     "output_type": "display_data"
    },
    {
     "name": "stdout",
     "output_type": "stream",
     "text": [
      "Validation => Loss 1.9764, Acc@1 0.3102\n",
      "============\n"
     ]
    },
    {
     "data": {
      "application/vnd.jupyter.widget-view+json": {
       "model_id": "39242d04f8fd4345a06b03e006562459",
       "version_major": 2,
       "version_minor": 0
      },
      "text/plain": [
       "  0%|          | 0/79 [00:00<?, ?it/s]"
      ]
     },
     "metadata": {},
     "output_type": "display_data"
    },
    {
     "name": "stdout",
     "output_type": "stream",
     "text": [
      "Val Perf after 1 epochs Acc@1 0.5412\n"
     ]
    },
    {
     "data": {
      "application/vnd.jupyter.widget-view+json": {
       "model_id": "b7358aa1004f4f598e85bf85b607c0b4",
       "version_major": 2,
       "version_minor": 0
      },
      "text/plain": [
       "  0%|          | 0/469 [00:00<?, ?it/s]"
      ]
     },
     "metadata": {},
     "output_type": "display_data"
    },
    {
     "name": "stdout",
     "output_type": "stream",
     "text": [
      "Validation => Loss 1.4986, Acc@1 0.6042\n",
      "============\n"
     ]
    },
    {
     "data": {
      "application/vnd.jupyter.widget-view+json": {
       "model_id": "3855cec4fa2c4453aa7804fa14e366b1",
       "version_major": 2,
       "version_minor": 0
      },
      "text/plain": [
       "  0%|          | 0/79 [00:00<?, ?it/s]"
      ]
     },
     "metadata": {},
     "output_type": "display_data"
    },
    {
     "name": "stdout",
     "output_type": "stream",
     "text": [
      "Val Perf after 2 epochs Acc@1 0.6605\n"
     ]
    },
    {
     "data": {
      "application/vnd.jupyter.widget-view+json": {
       "model_id": "4a7a33c5037b4ab98295a4faeb751571",
       "version_major": 2,
       "version_minor": 0
      },
      "text/plain": [
       "  0%|          | 0/469 [00:00<?, ?it/s]"
      ]
     },
     "metadata": {},
     "output_type": "display_data"
    },
    {
     "name": "stdout",
     "output_type": "stream",
     "text": [
      "Validation => Loss 1.2084, Acc@1 0.6475\n",
      "============\n"
     ]
    },
    {
     "data": {
      "application/vnd.jupyter.widget-view+json": {
       "model_id": "0e1291463fb04c89814227737c7993c1",
       "version_major": 2,
       "version_minor": 0
      },
      "text/plain": [
       "  0%|          | 0/79 [00:00<?, ?it/s]"
      ]
     },
     "metadata": {},
     "output_type": "display_data"
    },
    {
     "name": "stdout",
     "output_type": "stream",
     "text": [
      "Val Perf after 3 epochs Acc@1 0.6510\n",
      "=> Caching mask state for model.0\n",
      "=> Caching mask state for model.2\n",
      "=> Caching mask state for model.4\n",
      "\n",
      "=> Setting learned tasks of model.0 to 45\n",
      "=> Setting learned tasks of model.2 to 45\n",
      "=> Setting learned tasks of model.4 to 45\n",
      "\n",
      "Training for task 45\n",
      "=> Set task of model.0 to 45\n",
      "=> Set task of model.2 to 45\n",
      "=> Set task of model.4 to 45\n"
     ]
    },
    {
     "data": {
      "application/vnd.jupyter.widget-view+json": {
       "model_id": "238881038aa6409ab31d409b10869f7a",
       "version_major": 2,
       "version_minor": 0
      },
      "text/plain": [
       "  0%|          | 0/469 [00:00<?, ?it/s]"
      ]
     },
     "metadata": {},
     "output_type": "display_data"
    },
    {
     "name": "stdout",
     "output_type": "stream",
     "text": [
      "Validation => Loss 1.9138, Acc@1 0.2806\n",
      "============\n"
     ]
    },
    {
     "data": {
      "application/vnd.jupyter.widget-view+json": {
       "model_id": "35a3fa62c6d8439497605e3500311e4c",
       "version_major": 2,
       "version_minor": 0
      },
      "text/plain": [
       "  0%|          | 0/79 [00:00<?, ?it/s]"
      ]
     },
     "metadata": {},
     "output_type": "display_data"
    },
    {
     "name": "stdout",
     "output_type": "stream",
     "text": [
      "Val Perf after 1 epochs Acc@1 0.5026\n"
     ]
    },
    {
     "data": {
      "application/vnd.jupyter.widget-view+json": {
       "model_id": "da710c15569d48cab2a01ca2b617b209",
       "version_major": 2,
       "version_minor": 0
      },
      "text/plain": [
       "  0%|          | 0/469 [00:00<?, ?it/s]"
      ]
     },
     "metadata": {},
     "output_type": "display_data"
    },
    {
     "name": "stdout",
     "output_type": "stream",
     "text": [
      "Validation => Loss 1.3431, Acc@1 0.5853\n",
      "============\n"
     ]
    },
    {
     "data": {
      "application/vnd.jupyter.widget-view+json": {
       "model_id": "153310471ac349f98f764e1ef841d5a9",
       "version_major": 2,
       "version_minor": 0
      },
      "text/plain": [
       "  0%|          | 0/79 [00:00<?, ?it/s]"
      ]
     },
     "metadata": {},
     "output_type": "display_data"
    },
    {
     "name": "stdout",
     "output_type": "stream",
     "text": [
      "Val Perf after 2 epochs Acc@1 0.6385\n"
     ]
    },
    {
     "data": {
      "application/vnd.jupyter.widget-view+json": {
       "model_id": "9fc335d61995415183b5da572cb9d04f",
       "version_major": 2,
       "version_minor": 0
      },
      "text/plain": [
       "  0%|          | 0/469 [00:00<?, ?it/s]"
      ]
     },
     "metadata": {},
     "output_type": "display_data"
    },
    {
     "name": "stdout",
     "output_type": "stream",
     "text": [
      "Validation => Loss 1.2624, Acc@1 0.6270\n",
      "============\n"
     ]
    },
    {
     "data": {
      "application/vnd.jupyter.widget-view+json": {
       "model_id": "4a099fdaa54a4467b5d0a8a5f486efd0",
       "version_major": 2,
       "version_minor": 0
      },
      "text/plain": [
       "  0%|          | 0/79 [00:00<?, ?it/s]"
      ]
     },
     "metadata": {},
     "output_type": "display_data"
    },
    {
     "name": "stdout",
     "output_type": "stream",
     "text": [
      "Val Perf after 3 epochs Acc@1 0.6182\n",
      "=> Caching mask state for model.0\n",
      "=> Caching mask state for model.2\n",
      "=> Caching mask state for model.4\n",
      "\n",
      "=> Setting learned tasks of model.0 to 46\n",
      "=> Setting learned tasks of model.2 to 46\n",
      "=> Setting learned tasks of model.4 to 46\n",
      "\n",
      "Training for task 46\n",
      "=> Set task of model.0 to 46\n",
      "=> Set task of model.2 to 46\n",
      "=> Set task of model.4 to 46\n"
     ]
    },
    {
     "data": {
      "application/vnd.jupyter.widget-view+json": {
       "model_id": "9867eae3956847fb9853a00c4e850d17",
       "version_major": 2,
       "version_minor": 0
      },
      "text/plain": [
       "  0%|          | 0/469 [00:00<?, ?it/s]"
      ]
     },
     "metadata": {},
     "output_type": "display_data"
    },
    {
     "name": "stdout",
     "output_type": "stream",
     "text": [
      "Validation => Loss 1.9056, Acc@1 0.3298\n",
      "============\n"
     ]
    },
    {
     "data": {
      "application/vnd.jupyter.widget-view+json": {
       "model_id": "2803fe5af6c540008079799a0add3f40",
       "version_major": 2,
       "version_minor": 0
      },
      "text/plain": [
       "  0%|          | 0/79 [00:00<?, ?it/s]"
      ]
     },
     "metadata": {},
     "output_type": "display_data"
    },
    {
     "name": "stdout",
     "output_type": "stream",
     "text": [
      "Val Perf after 1 epochs Acc@1 0.5456\n"
     ]
    },
    {
     "data": {
      "application/vnd.jupyter.widget-view+json": {
       "model_id": "d0c99d4144af4827a7af484ca5acc6ee",
       "version_major": 2,
       "version_minor": 0
      },
      "text/plain": [
       "  0%|          | 0/469 [00:00<?, ?it/s]"
      ]
     },
     "metadata": {},
     "output_type": "display_data"
    },
    {
     "name": "stdout",
     "output_type": "stream",
     "text": [
      "Validation => Loss 1.2275, Acc@1 0.6090\n",
      "============\n"
     ]
    },
    {
     "data": {
      "application/vnd.jupyter.widget-view+json": {
       "model_id": "7ca121c0989a471ca34c49780f9d1410",
       "version_major": 2,
       "version_minor": 0
      },
      "text/plain": [
       "  0%|          | 0/79 [00:00<?, ?it/s]"
      ]
     },
     "metadata": {},
     "output_type": "display_data"
    },
    {
     "name": "stdout",
     "output_type": "stream",
     "text": [
      "Val Perf after 2 epochs Acc@1 0.6572\n"
     ]
    },
    {
     "data": {
      "application/vnd.jupyter.widget-view+json": {
       "model_id": "d6c4d97baf454f858c9c94cf3df82dd9",
       "version_major": 2,
       "version_minor": 0
      },
      "text/plain": [
       "  0%|          | 0/469 [00:00<?, ?it/s]"
      ]
     },
     "metadata": {},
     "output_type": "display_data"
    },
    {
     "name": "stdout",
     "output_type": "stream",
     "text": [
      "Validation => Loss 1.2908, Acc@1 0.6374\n",
      "============\n"
     ]
    },
    {
     "data": {
      "application/vnd.jupyter.widget-view+json": {
       "model_id": "80c623c81b2b4dc0b21c73f285d59cb1",
       "version_major": 2,
       "version_minor": 0
      },
      "text/plain": [
       "  0%|          | 0/79 [00:00<?, ?it/s]"
      ]
     },
     "metadata": {},
     "output_type": "display_data"
    },
    {
     "name": "stdout",
     "output_type": "stream",
     "text": [
      "Val Perf after 3 epochs Acc@1 0.6337\n",
      "=> Caching mask state for model.0\n",
      "=> Caching mask state for model.2\n",
      "=> Caching mask state for model.4\n",
      "\n",
      "=> Setting learned tasks of model.0 to 47\n",
      "=> Setting learned tasks of model.2 to 47\n",
      "=> Setting learned tasks of model.4 to 47\n",
      "\n",
      "Training for task 47\n",
      "=> Set task of model.0 to 47\n",
      "=> Set task of model.2 to 47\n",
      "=> Set task of model.4 to 47\n"
     ]
    },
    {
     "data": {
      "application/vnd.jupyter.widget-view+json": {
       "model_id": "b2cf61bb4c6f45babaf2c82dc4629753",
       "version_major": 2,
       "version_minor": 0
      },
      "text/plain": [
       "  0%|          | 0/469 [00:00<?, ?it/s]"
      ]
     },
     "metadata": {},
     "output_type": "display_data"
    },
    {
     "name": "stdout",
     "output_type": "stream",
     "text": [
      "Validation => Loss 1.7287, Acc@1 0.3451\n",
      "============\n"
     ]
    },
    {
     "data": {
      "application/vnd.jupyter.widget-view+json": {
       "model_id": "b06cad8c564b44118600967b560032ab",
       "version_major": 2,
       "version_minor": 0
      },
      "text/plain": [
       "  0%|          | 0/79 [00:00<?, ?it/s]"
      ]
     },
     "metadata": {},
     "output_type": "display_data"
    },
    {
     "name": "stdout",
     "output_type": "stream",
     "text": [
      "Val Perf after 1 epochs Acc@1 0.5951\n"
     ]
    },
    {
     "data": {
      "application/vnd.jupyter.widget-view+json": {
       "model_id": "1c34ed4211bb494086ff8100bfe634b5",
       "version_major": 2,
       "version_minor": 0
      },
      "text/plain": [
       "  0%|          | 0/469 [00:00<?, ?it/s]"
      ]
     },
     "metadata": {},
     "output_type": "display_data"
    },
    {
     "name": "stdout",
     "output_type": "stream",
     "text": [
      "Validation => Loss 1.2471, Acc@1 0.6266\n",
      "============\n"
     ]
    },
    {
     "data": {
      "application/vnd.jupyter.widget-view+json": {
       "model_id": "4c1149fd897449f48a088c682d9e3e41",
       "version_major": 2,
       "version_minor": 0
      },
      "text/plain": [
       "  0%|          | 0/79 [00:00<?, ?it/s]"
      ]
     },
     "metadata": {},
     "output_type": "display_data"
    },
    {
     "name": "stdout",
     "output_type": "stream",
     "text": [
      "Val Perf after 2 epochs Acc@1 0.6777\n"
     ]
    },
    {
     "data": {
      "application/vnd.jupyter.widget-view+json": {
       "model_id": "2a3d9d4540544789a296d31000cde2f8",
       "version_major": 2,
       "version_minor": 0
      },
      "text/plain": [
       "  0%|          | 0/469 [00:00<?, ?it/s]"
      ]
     },
     "metadata": {},
     "output_type": "display_data"
    },
    {
     "name": "stdout",
     "output_type": "stream",
     "text": [
      "Validation => Loss 0.9639, Acc@1 0.6758\n",
      "============\n"
     ]
    },
    {
     "data": {
      "application/vnd.jupyter.widget-view+json": {
       "model_id": "2ac0cd968aac45009604cdca0b2e5add",
       "version_major": 2,
       "version_minor": 0
      },
      "text/plain": [
       "  0%|          | 0/79 [00:00<?, ?it/s]"
      ]
     },
     "metadata": {},
     "output_type": "display_data"
    },
    {
     "name": "stdout",
     "output_type": "stream",
     "text": [
      "Val Perf after 3 epochs Acc@1 0.7071\n",
      "=> Caching mask state for model.0\n",
      "=> Caching mask state for model.2\n",
      "=> Caching mask state for model.4\n",
      "\n",
      "=> Setting learned tasks of model.0 to 48\n",
      "=> Setting learned tasks of model.2 to 48\n",
      "=> Setting learned tasks of model.4 to 48\n",
      "\n",
      "Training for task 48\n",
      "=> Set task of model.0 to 48\n",
      "=> Set task of model.2 to 48\n",
      "=> Set task of model.4 to 48\n"
     ]
    },
    {
     "data": {
      "application/vnd.jupyter.widget-view+json": {
       "model_id": "a9f96ad4da3146eba159cc2a7d8dddbb",
       "version_major": 2,
       "version_minor": 0
      },
      "text/plain": [
       "  0%|          | 0/469 [00:00<?, ?it/s]"
      ]
     },
     "metadata": {},
     "output_type": "display_data"
    },
    {
     "name": "stdout",
     "output_type": "stream",
     "text": [
      "Validation => Loss 1.8676, Acc@1 0.3193\n",
      "============\n"
     ]
    },
    {
     "data": {
      "application/vnd.jupyter.widget-view+json": {
       "model_id": "260ec82b2aa449b583b8ecb000f700d6",
       "version_major": 2,
       "version_minor": 0
      },
      "text/plain": [
       "  0%|          | 0/79 [00:00<?, ?it/s]"
      ]
     },
     "metadata": {},
     "output_type": "display_data"
    },
    {
     "name": "stdout",
     "output_type": "stream",
     "text": [
      "Val Perf after 1 epochs Acc@1 0.5362\n"
     ]
    },
    {
     "data": {
      "application/vnd.jupyter.widget-view+json": {
       "model_id": "334ea6aadecd42fb9302f9e2ee76c558",
       "version_major": 2,
       "version_minor": 0
      },
      "text/plain": [
       "  0%|          | 0/469 [00:00<?, ?it/s]"
      ]
     },
     "metadata": {},
     "output_type": "display_data"
    },
    {
     "name": "stdout",
     "output_type": "stream",
     "text": [
      "Validation => Loss 1.3289, Acc@1 0.6051\n",
      "============\n"
     ]
    },
    {
     "data": {
      "application/vnd.jupyter.widget-view+json": {
       "model_id": "0cbaff1867ac42e6b6fd19b6ae7246fc",
       "version_major": 2,
       "version_minor": 0
      },
      "text/plain": [
       "  0%|          | 0/79 [00:00<?, ?it/s]"
      ]
     },
     "metadata": {},
     "output_type": "display_data"
    },
    {
     "name": "stdout",
     "output_type": "stream",
     "text": [
      "Val Perf after 2 epochs Acc@1 0.6657\n"
     ]
    },
    {
     "data": {
      "application/vnd.jupyter.widget-view+json": {
       "model_id": "7b004b3f9157439c9c43179f2b936f81",
       "version_major": 2,
       "version_minor": 0
      },
      "text/plain": [
       "  0%|          | 0/469 [00:00<?, ?it/s]"
      ]
     },
     "metadata": {},
     "output_type": "display_data"
    },
    {
     "name": "stdout",
     "output_type": "stream",
     "text": [
      "Validation => Loss 1.3327, Acc@1 0.6523\n",
      "============\n"
     ]
    },
    {
     "data": {
      "application/vnd.jupyter.widget-view+json": {
       "model_id": "d906a3b7cdcb4220b3bc814b08636fe8",
       "version_major": 2,
       "version_minor": 0
      },
      "text/plain": [
       "  0%|          | 0/79 [00:00<?, ?it/s]"
      ]
     },
     "metadata": {},
     "output_type": "display_data"
    },
    {
     "name": "stdout",
     "output_type": "stream",
     "text": [
      "Val Perf after 3 epochs Acc@1 0.6565\n",
      "=> Caching mask state for model.0\n",
      "=> Caching mask state for model.2\n",
      "=> Caching mask state for model.4\n",
      "\n",
      "=> Setting learned tasks of model.0 to 49\n",
      "=> Setting learned tasks of model.2 to 49\n",
      "=> Setting learned tasks of model.4 to 49\n",
      "\n",
      "Training for task 49\n",
      "=> Set task of model.0 to 49\n",
      "=> Set task of model.2 to 49\n",
      "=> Set task of model.4 to 49\n"
     ]
    },
    {
     "data": {
      "application/vnd.jupyter.widget-view+json": {
       "model_id": "6edd76341cca4ab0a02d12fe44fba02c",
       "version_major": 2,
       "version_minor": 0
      },
      "text/plain": [
       "  0%|          | 0/469 [00:00<?, ?it/s]"
      ]
     },
     "metadata": {},
     "output_type": "display_data"
    },
    {
     "name": "stdout",
     "output_type": "stream",
     "text": [
      "Validation => Loss 1.8303, Acc@1 0.3350\n",
      "============\n"
     ]
    },
    {
     "data": {
      "application/vnd.jupyter.widget-view+json": {
       "model_id": "4976270511544d54aadb094fd20756bd",
       "version_major": 2,
       "version_minor": 0
      },
      "text/plain": [
       "  0%|          | 0/79 [00:00<?, ?it/s]"
      ]
     },
     "metadata": {},
     "output_type": "display_data"
    },
    {
     "name": "stdout",
     "output_type": "stream",
     "text": [
      "Val Perf after 1 epochs Acc@1 0.5353\n"
     ]
    },
    {
     "data": {
      "application/vnd.jupyter.widget-view+json": {
       "model_id": "3480b5c9fce34680bd2f56e84c399a79",
       "version_major": 2,
       "version_minor": 0
      },
      "text/plain": [
       "  0%|          | 0/469 [00:00<?, ?it/s]"
      ]
     },
     "metadata": {},
     "output_type": "display_data"
    },
    {
     "name": "stdout",
     "output_type": "stream",
     "text": [
      "Validation => Loss 1.3953, Acc@1 0.6048\n",
      "============\n"
     ]
    },
    {
     "data": {
      "application/vnd.jupyter.widget-view+json": {
       "model_id": "c799c8aa1242410a975f5f5c1834f46b",
       "version_major": 2,
       "version_minor": 0
      },
      "text/plain": [
       "  0%|          | 0/79 [00:00<?, ?it/s]"
      ]
     },
     "metadata": {},
     "output_type": "display_data"
    },
    {
     "name": "stdout",
     "output_type": "stream",
     "text": [
      "Val Perf after 2 epochs Acc@1 0.6364\n"
     ]
    },
    {
     "data": {
      "application/vnd.jupyter.widget-view+json": {
       "model_id": "7e44e8fe2d7440978470f05b33172108",
       "version_major": 2,
       "version_minor": 0
      },
      "text/plain": [
       "  0%|          | 0/469 [00:00<?, ?it/s]"
      ]
     },
     "metadata": {},
     "output_type": "display_data"
    },
    {
     "name": "stdout",
     "output_type": "stream",
     "text": [
      "Validation => Loss 1.4216, Acc@1 0.6090\n",
      "============\n"
     ]
    },
    {
     "data": {
      "application/vnd.jupyter.widget-view+json": {
       "model_id": "26a4e5167eb74c06a6ac8489010f9645",
       "version_major": 2,
       "version_minor": 0
      },
      "text/plain": [
       "  0%|          | 0/79 [00:00<?, ?it/s]"
      ]
     },
     "metadata": {},
     "output_type": "display_data"
    },
    {
     "name": "stdout",
     "output_type": "stream",
     "text": [
      "Val Perf after 3 epochs Acc@1 0.6100\n",
      "=> Caching mask state for model.0\n",
      "=> Caching mask state for model.2\n",
      "=> Caching mask state for model.4\n",
      "\n",
      "=> Setting learned tasks of model.0 to 50\n",
      "=> Setting learned tasks of model.2 to 50\n",
      "=> Setting learned tasks of model.4 to 50\n",
      "\n"
     ]
    }
   ],
   "source": [
    "for task in range(num_seed_tasks_learned, num_tasks):\n",
    "    print(f\"Training for task {task}\")\n",
    "    set_model_task(basis_model_hid, task)\n",
    "    mnist.update_task(task)\n",
    "\n",
    "    optimizer = optim.RMSprop([p for p in basis_model_hid.parameters() if p.requires_grad], lr=1e-4)\n",
    "    # Train for 1 epoch\n",
    "    for e in range(3):\n",
    "        train(basis_model_hid, mnist.train_loader, optimizer, e)\n",
    "        \n",
    "        print(\"Validation\")\n",
    "        print(\"============\")\n",
    "        acc1 = evaluate(basis_model_hid, mnist.val_loader, e)\n",
    "        \n",
    "    \n",
    "    cache_masks(basis_model_hid)\n",
    "    print()\n",
    "    set_num_tasks_learned(basis_model_hid, task + 1)\n",
    "    print()"
   ]
  },
  {
   "cell_type": "code",
   "execution_count": 50,
   "metadata": {},
   "outputs": [
    {
     "name": "stdout",
     "output_type": "stream",
     "text": [
      "Average top 1 performance: 0.8582\n",
      "Per task performance\n",
      "Task 0: 0.9123\n",
      "Task 1: 0.9123\n",
      "Task 2: 0.9141\n",
      "Task 3: 0.9144\n",
      "Task 4: 0.9112\n",
      "Task 5: 0.9153\n",
      "Task 6: 0.9124\n",
      "Task 7: 0.9112\n",
      "Task 8: 0.9154\n",
      "Task 9: 0.9143\n",
      "Task 10: 0.9144\n",
      "Task 11: 0.9104\n",
      "Task 12: 0.9161\n",
      "Task 13: 0.9120\n",
      "Task 14: 0.9123\n",
      "Task 15: 0.9117\n",
      "Task 16: 0.9107\n",
      "Task 17: 0.9143\n",
      "Task 18: 0.9106\n",
      "Task 19: 0.9048\n",
      "Task 20: 0.9109\n",
      "Task 21: 0.9132\n",
      "Task 22: 0.9125\n",
      "Task 23: 0.9118\n",
      "Task 24: 0.9130\n",
      "Task 25: 0.9115\n",
      "Task 26: 0.9131\n",
      "Task 27: 0.9118\n",
      "Task 28: 0.9121\n",
      "Task 29: 0.9135\n",
      "Task 30: 0.9107\n",
      "Task 31: 0.9081\n",
      "Task 32: 0.9130\n",
      "Task 33: 0.9117\n",
      "Task 34: 0.9147\n",
      "Task 35: 0.9117\n",
      "Task 36: 0.9124\n",
      "Task 37: 0.9122\n",
      "Task 38: 0.9070\n",
      "Task 39: 0.9134\n",
      "Task 40: 0.6069\n",
      "Task 41: 0.6569\n",
      "Task 42: 0.6506\n",
      "Task 43: 0.6308\n",
      "Task 44: 0.6510\n",
      "Task 45: 0.6182\n",
      "Task 46: 0.6337\n",
      "Task 47: 0.7071\n",
      "Task 48: 0.6565\n",
      "Task 49: 0.6100\n"
     ]
    }
   ],
   "source": [
    "# When task ID we can simply set the mask and evaluate\n",
    "\n",
    "gg_performance = []\n",
    "for task in range(num_tasks):\n",
    "    set_model_task(basis_model_hid, task)\n",
    "    mnist.update_task(task)\n",
    "    acc1 = evaluate(basis_model_hid, mnist.val_loader, 0)\n",
    "    gg_performance.append(acc1.item())\n",
    "\n",
    "clear_output()\n",
    "    \n",
    "print(f\"Average top 1 performance: {(sum(gg_performance) / len(gg_performance)):.4f}\")\n",
    "\n",
    "print(\"Per task performance\")\n",
    "for t in range(num_tasks):\n",
    "    print(f\"Task {t}: {gg_performance[t]:.4f}\")"
   ]
  },
  {
   "cell_type": "code",
   "execution_count": 51,
   "metadata": {},
   "outputs": [],
   "source": [
    "performance_map['basis_hybrid_mnist'] = gg_performance.copy()"
   ]
  },
  {
   "cell_type": "markdown",
   "metadata": {},
   "source": [
    "### Model Initialization (Cross task analysis, retraining last layer) -- Using 1 mask from task 0"
   ]
  },
  {
   "cell_type": "code",
   "execution_count": 52,
   "metadata": {},
   "outputs": [],
   "source": [
    "num_tasks = 10 # For demonstration purposes, we go up to 2500 in our paper\n",
    "num_seed_tasks_learned = 1\n",
    "basis_model_hidf = BasisHiddenOnlyFrozenMultitaskFC(hidden_size=300,\n",
    "                            num_tasks=num_tasks, num_seed_tasks_learned=num_seed_tasks_learned, start_at_optimal=True, sparsity=0.25)"
   ]
  },
  {
   "cell_type": "code",
   "execution_count": 53,
   "metadata": {},
   "outputs": [],
   "source": [
    "custom_state_dict = basis_model_hidf.state_dict().copy()\n",
    "custom_state_dict.update({k:v for k,v in model.state_dict().items() if k in custom_state_dict.keys()})"
   ]
  },
  {
   "cell_type": "code",
   "execution_count": 54,
   "metadata": {},
   "outputs": [],
   "source": [
    "for k in custom_state_dict.keys():\n",
    "    if k.startswith('model.0.scores.'):\n",
    "        custom_state_dict[k] = model.state_dict()['model.0.scores.0']\n",
    "    elif k.startswith('model.2.scores.'):\n",
    "        custom_state_dict[k] = model.state_dict()['model.2.scores.0']\n",
    "    elif k.startswith('model.0.basis_alphas.'):\n",
    "        custom_state_dict[k] = custom_state_dict['model.0.basis_alphas.0'] \n",
    "    elif k.startswith('model.2.basis_alphas.'):\n",
    "        custom_state_dict[k] = custom_state_dict['model.2.basis_alphas.0']"
   ]
  },
  {
   "cell_type": "code",
   "execution_count": 55,
   "metadata": {},
   "outputs": [
    {
     "name": "stdout",
     "output_type": "stream",
     "text": [
      "=> Caching mask state for model.0\n",
      "=> Caching mask state for model.2\n",
      "=> Caching mask state for model.4\n"
     ]
    }
   ],
   "source": [
    "basis_model_hidf.load_state_dict(custom_state_dict, False)\n",
    "cache_masks(basis_model_hidf)"
   ]
  },
  {
   "cell_type": "code",
   "execution_count": 57,
   "metadata": {
    "scrolled": true
   },
   "outputs": [
    {
     "name": "stdout",
     "output_type": "stream",
     "text": [
      "Training for task 1\n",
      "=> Set task of model.0 to 1\n",
      "=> Set task of model.2 to 1\n",
      "=> Set task of model.4 to 1\n"
     ]
    },
    {
     "data": {
      "application/vnd.jupyter.widget-view+json": {
       "model_id": "42031c61172b4417b7402cab7205bcf1",
       "version_major": 2,
       "version_minor": 0
      },
      "text/plain": [
       "  0%|          | 0/469 [00:00<?, ?it/s]"
      ]
     },
     "metadata": {},
     "output_type": "display_data"
    },
    {
     "name": "stdout",
     "output_type": "stream",
     "text": [
      "Validation => Loss 2.4641, Acc@1 0.2786\n",
      "============\n"
     ]
    },
    {
     "data": {
      "application/vnd.jupyter.widget-view+json": {
       "model_id": "a7db61c19be344b09b2fba7f5fcc28f7",
       "version_major": 2,
       "version_minor": 0
      },
      "text/plain": [
       "  0%|          | 0/79 [00:00<?, ?it/s]"
      ]
     },
     "metadata": {},
     "output_type": "display_data"
    },
    {
     "name": "stdout",
     "output_type": "stream",
     "text": [
      "Val Perf after 1 epochs Acc@1 0.3369\n",
      "=> Caching mask state for model.0\n",
      "=> Caching mask state for model.2\n",
      "=> Caching mask state for model.4\n",
      "\n",
      "=> Setting learned tasks of model.0 to 2\n",
      "=> Setting learned tasks of model.2 to 2\n",
      "=> Setting learned tasks of model.4 to 2\n",
      "\n",
      "Training for task 2\n",
      "=> Set task of model.0 to 2\n",
      "=> Set task of model.2 to 2\n",
      "=> Set task of model.4 to 2\n"
     ]
    },
    {
     "data": {
      "application/vnd.jupyter.widget-view+json": {
       "model_id": "d8110a38f5da4fdc879e0a8381381952",
       "version_major": 2,
       "version_minor": 0
      },
      "text/plain": [
       "  0%|          | 0/469 [00:00<?, ?it/s]"
      ]
     },
     "metadata": {},
     "output_type": "display_data"
    },
    {
     "name": "stdout",
     "output_type": "stream",
     "text": [
      "Validation => Loss 2.4777, Acc@1 0.2419\n",
      "============\n"
     ]
    },
    {
     "data": {
      "application/vnd.jupyter.widget-view+json": {
       "model_id": "30c37c104f154e42b8e3b39c6be097de",
       "version_major": 2,
       "version_minor": 0
      },
      "text/plain": [
       "  0%|          | 0/79 [00:00<?, ?it/s]"
      ]
     },
     "metadata": {},
     "output_type": "display_data"
    },
    {
     "name": "stdout",
     "output_type": "stream",
     "text": [
      "Val Perf after 1 epochs Acc@1 0.3715\n",
      "=> Caching mask state for model.0\n",
      "=> Caching mask state for model.2\n",
      "=> Caching mask state for model.4\n",
      "\n",
      "=> Setting learned tasks of model.0 to 3\n",
      "=> Setting learned tasks of model.2 to 3\n",
      "=> Setting learned tasks of model.4 to 3\n",
      "\n",
      "Training for task 3\n",
      "=> Set task of model.0 to 3\n",
      "=> Set task of model.2 to 3\n",
      "=> Set task of model.4 to 3\n"
     ]
    },
    {
     "data": {
      "application/vnd.jupyter.widget-view+json": {
       "model_id": "20ba2206311043bd8de6ef75c8e87924",
       "version_major": 2,
       "version_minor": 0
      },
      "text/plain": [
       "  0%|          | 0/469 [00:00<?, ?it/s]"
      ]
     },
     "metadata": {},
     "output_type": "display_data"
    },
    {
     "name": "stdout",
     "output_type": "stream",
     "text": [
      "Validation => Loss 2.4241, Acc@1 0.1826\n",
      "============\n"
     ]
    },
    {
     "data": {
      "application/vnd.jupyter.widget-view+json": {
       "model_id": "564eed43053f437b814d3a96da8df723",
       "version_major": 2,
       "version_minor": 0
      },
      "text/plain": [
       "  0%|          | 0/79 [00:00<?, ?it/s]"
      ]
     },
     "metadata": {},
     "output_type": "display_data"
    },
    {
     "name": "stdout",
     "output_type": "stream",
     "text": [
      "Val Perf after 1 epochs Acc@1 0.2934\n",
      "=> Caching mask state for model.0\n",
      "=> Caching mask state for model.2\n",
      "=> Caching mask state for model.4\n",
      "\n",
      "=> Setting learned tasks of model.0 to 4\n",
      "=> Setting learned tasks of model.2 to 4\n",
      "=> Setting learned tasks of model.4 to 4\n",
      "\n",
      "Training for task 4\n",
      "=> Set task of model.0 to 4\n",
      "=> Set task of model.2 to 4\n",
      "=> Set task of model.4 to 4\n"
     ]
    },
    {
     "data": {
      "application/vnd.jupyter.widget-view+json": {
       "model_id": "940109a790b04b99956e9ed6feb74264",
       "version_major": 2,
       "version_minor": 0
      },
      "text/plain": [
       "  0%|          | 0/469 [00:00<?, ?it/s]"
      ]
     },
     "metadata": {},
     "output_type": "display_data"
    },
    {
     "name": "stdout",
     "output_type": "stream",
     "text": [
      "Validation => Loss 2.5510, Acc@1 0.2344\n",
      "============\n"
     ]
    },
    {
     "data": {
      "application/vnd.jupyter.widget-view+json": {
       "model_id": "5d33aaa325a24016b59ca04983eb64a0",
       "version_major": 2,
       "version_minor": 0
      },
      "text/plain": [
       "  0%|          | 0/79 [00:00<?, ?it/s]"
      ]
     },
     "metadata": {},
     "output_type": "display_data"
    },
    {
     "name": "stdout",
     "output_type": "stream",
     "text": [
      "Val Perf after 1 epochs Acc@1 0.1932\n",
      "=> Caching mask state for model.0\n",
      "=> Caching mask state for model.2\n",
      "=> Caching mask state for model.4\n",
      "\n",
      "=> Setting learned tasks of model.0 to 5\n",
      "=> Setting learned tasks of model.2 to 5\n",
      "=> Setting learned tasks of model.4 to 5\n",
      "\n",
      "Training for task 5\n",
      "=> Set task of model.0 to 5\n",
      "=> Set task of model.2 to 5\n",
      "=> Set task of model.4 to 5\n"
     ]
    },
    {
     "data": {
      "application/vnd.jupyter.widget-view+json": {
       "model_id": "a68c55607ff5427da52aa191ac4d9a76",
       "version_major": 2,
       "version_minor": 0
      },
      "text/plain": [
       "  0%|          | 0/469 [00:00<?, ?it/s]"
      ]
     },
     "metadata": {},
     "output_type": "display_data"
    },
    {
     "name": "stdout",
     "output_type": "stream",
     "text": [
      "Validation => Loss 2.4241, Acc@1 0.2868\n",
      "============\n"
     ]
    },
    {
     "data": {
      "application/vnd.jupyter.widget-view+json": {
       "model_id": "67609b459d3b4e34bb8bf1c5ab54a5d6",
       "version_major": 2,
       "version_minor": 0
      },
      "text/plain": [
       "  0%|          | 0/79 [00:00<?, ?it/s]"
      ]
     },
     "metadata": {},
     "output_type": "display_data"
    },
    {
     "name": "stdout",
     "output_type": "stream",
     "text": [
      "Val Perf after 1 epochs Acc@1 0.4006\n",
      "=> Caching mask state for model.0\n",
      "=> Caching mask state for model.2\n",
      "=> Caching mask state for model.4\n",
      "\n",
      "=> Setting learned tasks of model.0 to 6\n",
      "=> Setting learned tasks of model.2 to 6\n",
      "=> Setting learned tasks of model.4 to 6\n",
      "\n",
      "Training for task 6\n",
      "=> Set task of model.0 to 6\n",
      "=> Set task of model.2 to 6\n",
      "=> Set task of model.4 to 6\n"
     ]
    },
    {
     "data": {
      "application/vnd.jupyter.widget-view+json": {
       "model_id": "ff5f62ad8e1b4a7190cf3662cb592d8b",
       "version_major": 2,
       "version_minor": 0
      },
      "text/plain": [
       "  0%|          | 0/469 [00:00<?, ?it/s]"
      ]
     },
     "metadata": {},
     "output_type": "display_data"
    },
    {
     "name": "stdout",
     "output_type": "stream",
     "text": [
      "Validation => Loss 2.4911, Acc@1 0.2035\n",
      "============\n"
     ]
    },
    {
     "data": {
      "application/vnd.jupyter.widget-view+json": {
       "model_id": "be5b9e7eab0f473c967e0460cd1448d9",
       "version_major": 2,
       "version_minor": 0
      },
      "text/plain": [
       "  0%|          | 0/79 [00:00<?, ?it/s]"
      ]
     },
     "metadata": {},
     "output_type": "display_data"
    },
    {
     "name": "stdout",
     "output_type": "stream",
     "text": [
      "Val Perf after 1 epochs Acc@1 0.2744\n",
      "=> Caching mask state for model.0\n",
      "=> Caching mask state for model.2\n",
      "=> Caching mask state for model.4\n",
      "\n",
      "=> Setting learned tasks of model.0 to 7\n",
      "=> Setting learned tasks of model.2 to 7\n",
      "=> Setting learned tasks of model.4 to 7\n",
      "\n",
      "Training for task 7\n",
      "=> Set task of model.0 to 7\n",
      "=> Set task of model.2 to 7\n",
      "=> Set task of model.4 to 7\n"
     ]
    },
    {
     "data": {
      "application/vnd.jupyter.widget-view+json": {
       "model_id": "af8ee638e4e540f5bf6ee33b4a5303ae",
       "version_major": 2,
       "version_minor": 0
      },
      "text/plain": [
       "  0%|          | 0/469 [00:00<?, ?it/s]"
      ]
     },
     "metadata": {},
     "output_type": "display_data"
    },
    {
     "name": "stdout",
     "output_type": "stream",
     "text": [
      "Validation => Loss 2.3023, Acc@1 0.2288\n",
      "============\n"
     ]
    },
    {
     "data": {
      "application/vnd.jupyter.widget-view+json": {
       "model_id": "a2a766dc89374cc8b07217c8ec20adc0",
       "version_major": 2,
       "version_minor": 0
      },
      "text/plain": [
       "  0%|          | 0/79 [00:00<?, ?it/s]"
      ]
     },
     "metadata": {},
     "output_type": "display_data"
    },
    {
     "name": "stdout",
     "output_type": "stream",
     "text": [
      "Val Perf after 1 epochs Acc@1 0.3253\n",
      "=> Caching mask state for model.0\n",
      "=> Caching mask state for model.2\n",
      "=> Caching mask state for model.4\n",
      "\n",
      "=> Setting learned tasks of model.0 to 8\n",
      "=> Setting learned tasks of model.2 to 8\n",
      "=> Setting learned tasks of model.4 to 8\n",
      "\n",
      "Training for task 8\n",
      "=> Set task of model.0 to 8\n",
      "=> Set task of model.2 to 8\n",
      "=> Set task of model.4 to 8\n"
     ]
    },
    {
     "data": {
      "application/vnd.jupyter.widget-view+json": {
       "model_id": "55259947fa134b4499d5a1ff35a80d0b",
       "version_major": 2,
       "version_minor": 0
      },
      "text/plain": [
       "  0%|          | 0/469 [00:00<?, ?it/s]"
      ]
     },
     "metadata": {},
     "output_type": "display_data"
    },
    {
     "name": "stdout",
     "output_type": "stream",
     "text": [
      "Validation => Loss 2.5833, Acc@1 0.2620\n",
      "============\n"
     ]
    },
    {
     "data": {
      "application/vnd.jupyter.widget-view+json": {
       "model_id": "47827e3366d94e70b52d851f81713cec",
       "version_major": 2,
       "version_minor": 0
      },
      "text/plain": [
       "  0%|          | 0/79 [00:00<?, ?it/s]"
      ]
     },
     "metadata": {},
     "output_type": "display_data"
    },
    {
     "name": "stdout",
     "output_type": "stream",
     "text": [
      "Val Perf after 1 epochs Acc@1 0.3488\n",
      "=> Caching mask state for model.0\n",
      "=> Caching mask state for model.2\n",
      "=> Caching mask state for model.4\n",
      "\n",
      "=> Setting learned tasks of model.0 to 9\n",
      "=> Setting learned tasks of model.2 to 9\n",
      "=> Setting learned tasks of model.4 to 9\n",
      "\n",
      "Training for task 9\n",
      "=> Set task of model.0 to 9\n",
      "=> Set task of model.2 to 9\n",
      "=> Set task of model.4 to 9\n"
     ]
    },
    {
     "data": {
      "application/vnd.jupyter.widget-view+json": {
       "model_id": "9e91994dffea4f5997f090274584566d",
       "version_major": 2,
       "version_minor": 0
      },
      "text/plain": [
       "  0%|          | 0/469 [00:00<?, ?it/s]"
      ]
     },
     "metadata": {},
     "output_type": "display_data"
    },
    {
     "name": "stdout",
     "output_type": "stream",
     "text": [
      "Validation => Loss 2.3460, Acc@1 0.2432\n",
      "============\n"
     ]
    },
    {
     "data": {
      "application/vnd.jupyter.widget-view+json": {
       "model_id": "89623bbff88e4c249a91fec287e5ee3c",
       "version_major": 2,
       "version_minor": 0
      },
      "text/plain": [
       "  0%|          | 0/79 [00:00<?, ?it/s]"
      ]
     },
     "metadata": {},
     "output_type": "display_data"
    },
    {
     "name": "stdout",
     "output_type": "stream",
     "text": [
      "Val Perf after 1 epochs Acc@1 0.3327\n",
      "=> Caching mask state for model.0\n",
      "=> Caching mask state for model.2\n",
      "=> Caching mask state for model.4\n",
      "\n",
      "=> Setting learned tasks of model.0 to 10\n",
      "=> Setting learned tasks of model.2 to 10\n",
      "=> Setting learned tasks of model.4 to 10\n",
      "\n"
     ]
    }
   ],
   "source": [
    "for task in range(num_seed_tasks_learned, num_tasks):\n",
    "    print(f\"Training for task {task}\")\n",
    "    set_model_task(basis_model_hidf, task)\n",
    "    mnist.update_task(task)\n",
    "\n",
    "    optimizer = optim.RMSprop([p for p in basis_model_hidf.parameters() if p.requires_grad], lr=1e-4)\n",
    "    # Train for 1 epoch\n",
    "    for e in range(1):\n",
    "        train(basis_model_hidf, mnist.train_loader, optimizer, e)\n",
    "        \n",
    "        print(\"Validation\")\n",
    "        print(\"============\")\n",
    "        acc1 = evaluate(basis_model_hidf, mnist.val_loader, e)\n",
    "        \n",
    "    \n",
    "    cache_masks(basis_model_hidf)\n",
    "    print()\n",
    "    set_num_tasks_learned(basis_model_hidf, task + 1)\n",
    "    print()"
   ]
  },
  {
   "cell_type": "code",
   "execution_count": 58,
   "metadata": {},
   "outputs": [
    {
     "name": "stdout",
     "output_type": "stream",
     "text": [
      "Average top 1 performance: 0.3789\n",
      "Per task performance\n",
      "Task 0: 0.9123\n",
      "Task 1: 0.3369\n",
      "Task 2: 0.3715\n",
      "Task 3: 0.2934\n",
      "Task 4: 0.1932\n",
      "Task 5: 0.4006\n",
      "Task 6: 0.2744\n",
      "Task 7: 0.3253\n",
      "Task 8: 0.3488\n",
      "Task 9: 0.3327\n"
     ]
    }
   ],
   "source": [
    "# When task ID we can simply set the mask and evaluate\n",
    "\n",
    "gg_performance = []\n",
    "for task in range(num_tasks):\n",
    "    set_model_task(basis_model_hidf, task)\n",
    "    mnist.update_task(task)\n",
    "    acc1 = evaluate(basis_model_hidf, mnist.val_loader, 0)\n",
    "    gg_performance.append(acc1.item())\n",
    "\n",
    "clear_output()\n",
    "    \n",
    "print(f\"Average top 1 performance: {(sum(gg_performance) / len(gg_performance)):.4f}\")\n",
    "\n",
    "print(\"Per task performance\")\n",
    "for t in range(num_tasks):\n",
    "    print(f\"Task {t}: {gg_performance[t]:.4f}\")"
   ]
  },
  {
   "cell_type": "code",
   "execution_count": 59,
   "metadata": {},
   "outputs": [],
   "source": [
    "performance_map['basis_hybrid_mnist_frozen'] = gg_performance.copy()"
   ]
  },
  {
   "cell_type": "markdown",
   "metadata": {},
   "source": [
    "### Model Initialization (Only New Tasks), 40 masks from task 0 only"
   ]
  },
  {
   "cell_type": "code",
   "execution_count": 65,
   "metadata": {},
   "outputs": [],
   "source": [
    "num_tasks = 50 # For demonstration purposes, we go up to 2500 in our paper\n",
    "num_seed_tasks_learned = 40\n",
    "basis_model_zero_sh = BasisHiddenOnlyMultitaskFC(hidden_size=300, num_tasks=num_tasks, \n",
    "                                num_seed_tasks_learned=num_seed_tasks_learned, start_at_optimal=True, sparsity=0.25)"
   ]
  },
  {
   "cell_type": "code",
   "execution_count": 66,
   "metadata": {},
   "outputs": [],
   "source": [
    "seed_dict = basis_model_zero_sh.state_dict()"
   ]
  },
  {
   "cell_type": "code",
   "execution_count": 67,
   "metadata": {},
   "outputs": [],
   "source": [
    "update_dict = seed_dict.copy()"
   ]
  },
  {
   "cell_type": "code",
   "execution_count": 68,
   "metadata": {},
   "outputs": [],
   "source": [
    "assert all([(model_map[0].state_dict()['model.0.weight'] == model_map[i].state_dict()['model.0.weight']).all() for i in range(1,15)])\n",
    "update_dict['model.0.weight'] = model_map[0].state_dict()['model.0.weight']\n",
    "for task in range(40):\n",
    "    for layer in [0,2]:\n",
    "        update_dict['model.{}.scores.{}'.format(layer, task)] = model_map[task].state_dict()['model.{}.scores.0'.format(layer)]"
   ]
  },
  {
   "cell_type": "code",
   "execution_count": 69,
   "metadata": {},
   "outputs": [
    {
     "name": "stdout",
     "output_type": "stream",
     "text": [
      "=> Caching mask state for model.0\n",
      "=> Caching mask state for model.2\n",
      "=> Caching mask state for model.4\n"
     ]
    }
   ],
   "source": [
    "seed_dict.update(update_dict)\n",
    "basis_model_zero_sh.load_state_dict(seed_dict, False)\n",
    "cache_masks(basis_model_zero_sh)"
   ]
  },
  {
   "cell_type": "code",
   "execution_count": 70,
   "metadata": {},
   "outputs": [
    {
     "data": {
      "text/plain": [
       "(40, 50)"
      ]
     },
     "execution_count": 70,
     "metadata": {},
     "output_type": "execute_result"
    }
   ],
   "source": [
    "num_seed_tasks_learned, num_tasks"
   ]
  },
  {
   "cell_type": "code",
   "execution_count": 71,
   "metadata": {
    "scrolled": true
   },
   "outputs": [
    {
     "name": "stdout",
     "output_type": "stream",
     "text": [
      "Training for task 40\n",
      "=> Set task of model.0 to 40\n",
      "=> Set task of model.2 to 40\n",
      "=> Set task of model.4 to 40\n"
     ]
    },
    {
     "data": {
      "application/vnd.jupyter.widget-view+json": {
       "model_id": "1118cb57d381483690a5590401d49845",
       "version_major": 2,
       "version_minor": 0
      },
      "text/plain": [
       "  0%|          | 0/469 [00:00<?, ?it/s]"
      ]
     },
     "metadata": {},
     "output_type": "display_data"
    },
    {
     "name": "stdout",
     "output_type": "stream",
     "text": [
      "Validation => Loss 2.0771, Acc@1 0.2839\n",
      "============\n"
     ]
    },
    {
     "data": {
      "application/vnd.jupyter.widget-view+json": {
       "model_id": "4f32a8719f384715b83f39a6c7ccf9e5",
       "version_major": 2,
       "version_minor": 0
      },
      "text/plain": [
       "  0%|          | 0/79 [00:00<?, ?it/s]"
      ]
     },
     "metadata": {},
     "output_type": "display_data"
    },
    {
     "name": "stdout",
     "output_type": "stream",
     "text": [
      "Val Perf after 1 epochs Acc@1 0.4897\n"
     ]
    },
    {
     "data": {
      "application/vnd.jupyter.widget-view+json": {
       "model_id": "a5d20badd2394717b48e4d1f42db5254",
       "version_major": 2,
       "version_minor": 0
      },
      "text/plain": [
       "  0%|          | 0/469 [00:00<?, ?it/s]"
      ]
     },
     "metadata": {},
     "output_type": "display_data"
    },
    {
     "name": "stdout",
     "output_type": "stream",
     "text": [
      "Validation => Loss 1.6189, Acc@1 0.5492\n",
      "============\n"
     ]
    },
    {
     "data": {
      "application/vnd.jupyter.widget-view+json": {
       "model_id": "a70672339eed4c71961a7dc9b42f9b8c",
       "version_major": 2,
       "version_minor": 0
      },
      "text/plain": [
       "  0%|          | 0/79 [00:00<?, ?it/s]"
      ]
     },
     "metadata": {},
     "output_type": "display_data"
    },
    {
     "name": "stdout",
     "output_type": "stream",
     "text": [
      "Val Perf after 2 epochs Acc@1 0.6119\n",
      "=> Caching mask state for model.0\n",
      "=> Caching mask state for model.2\n",
      "=> Caching mask state for model.4\n",
      "\n",
      "=> Setting learned tasks of model.0 to 41\n",
      "=> Setting learned tasks of model.2 to 41\n",
      "=> Setting learned tasks of model.4 to 41\n",
      "\n",
      "Training for task 41\n",
      "=> Set task of model.0 to 41\n",
      "=> Set task of model.2 to 41\n",
      "=> Set task of model.4 to 41\n"
     ]
    },
    {
     "data": {
      "application/vnd.jupyter.widget-view+json": {
       "model_id": "55cacf352d4f4408bc9fdb9258b11d77",
       "version_major": 2,
       "version_minor": 0
      },
      "text/plain": [
       "  0%|          | 0/469 [00:00<?, ?it/s]"
      ]
     },
     "metadata": {},
     "output_type": "display_data"
    },
    {
     "name": "stdout",
     "output_type": "stream",
     "text": [
      "Validation => Loss 2.2082, Acc@1 0.2783\n",
      "============\n"
     ]
    },
    {
     "data": {
      "application/vnd.jupyter.widget-view+json": {
       "model_id": "be55b0583f494938a60458366e7c8c41",
       "version_major": 2,
       "version_minor": 0
      },
      "text/plain": [
       "  0%|          | 0/79 [00:00<?, ?it/s]"
      ]
     },
     "metadata": {},
     "output_type": "display_data"
    },
    {
     "name": "stdout",
     "output_type": "stream",
     "text": [
      "Val Perf after 1 epochs Acc@1 0.4193\n"
     ]
    },
    {
     "data": {
      "application/vnd.jupyter.widget-view+json": {
       "model_id": "7edaf2aa8f0542e2b00b473e74bcbe67",
       "version_major": 2,
       "version_minor": 0
      },
      "text/plain": [
       "  0%|          | 0/469 [00:00<?, ?it/s]"
      ]
     },
     "metadata": {},
     "output_type": "display_data"
    },
    {
     "name": "stdout",
     "output_type": "stream",
     "text": [
      "Validation => Loss 1.6987, Acc@1 0.4915\n",
      "============\n"
     ]
    },
    {
     "data": {
      "application/vnd.jupyter.widget-view+json": {
       "model_id": "6b5dd32515624a14b76ebea5a445270e",
       "version_major": 2,
       "version_minor": 0
      },
      "text/plain": [
       "  0%|          | 0/79 [00:00<?, ?it/s]"
      ]
     },
     "metadata": {},
     "output_type": "display_data"
    },
    {
     "name": "stdout",
     "output_type": "stream",
     "text": [
      "Val Perf after 2 epochs Acc@1 0.5518\n",
      "=> Caching mask state for model.0\n",
      "=> Caching mask state for model.2\n",
      "=> Caching mask state for model.4\n",
      "\n",
      "=> Setting learned tasks of model.0 to 42\n",
      "=> Setting learned tasks of model.2 to 42\n",
      "=> Setting learned tasks of model.4 to 42\n",
      "\n",
      "Training for task 42\n",
      "=> Set task of model.0 to 42\n",
      "=> Set task of model.2 to 42\n",
      "=> Set task of model.4 to 42\n"
     ]
    },
    {
     "data": {
      "application/vnd.jupyter.widget-view+json": {
       "model_id": "836cfba7a5464f9481134f952e4b868b",
       "version_major": 2,
       "version_minor": 0
      },
      "text/plain": [
       "  0%|          | 0/469 [00:00<?, ?it/s]"
      ]
     },
     "metadata": {},
     "output_type": "display_data"
    },
    {
     "name": "stdout",
     "output_type": "stream",
     "text": [
      "Validation => Loss 2.1373, Acc@1 0.2669\n",
      "============\n"
     ]
    },
    {
     "data": {
      "application/vnd.jupyter.widget-view+json": {
       "model_id": "2217bdca6ea84e4286dea1cf33dd7470",
       "version_major": 2,
       "version_minor": 0
      },
      "text/plain": [
       "  0%|          | 0/79 [00:00<?, ?it/s]"
      ]
     },
     "metadata": {},
     "output_type": "display_data"
    },
    {
     "name": "stdout",
     "output_type": "stream",
     "text": [
      "Val Perf after 1 epochs Acc@1 0.4653\n"
     ]
    },
    {
     "data": {
      "application/vnd.jupyter.widget-view+json": {
       "model_id": "ab1449a318a7465791cae3c1531ca744",
       "version_major": 2,
       "version_minor": 0
      },
      "text/plain": [
       "  0%|          | 0/469 [00:00<?, ?it/s]"
      ]
     },
     "metadata": {},
     "output_type": "display_data"
    },
    {
     "name": "stdout",
     "output_type": "stream",
     "text": [
      "Validation => Loss 1.4878, Acc@1 0.5439\n",
      "============\n"
     ]
    },
    {
     "data": {
      "application/vnd.jupyter.widget-view+json": {
       "model_id": "69da508ef0b94882b7b19e5728761437",
       "version_major": 2,
       "version_minor": 0
      },
      "text/plain": [
       "  0%|          | 0/79 [00:00<?, ?it/s]"
      ]
     },
     "metadata": {},
     "output_type": "display_data"
    },
    {
     "name": "stdout",
     "output_type": "stream",
     "text": [
      "Val Perf after 2 epochs Acc@1 0.6084\n",
      "=> Caching mask state for model.0\n",
      "=> Caching mask state for model.2\n",
      "=> Caching mask state for model.4\n",
      "\n",
      "=> Setting learned tasks of model.0 to 43\n",
      "=> Setting learned tasks of model.2 to 43\n",
      "=> Setting learned tasks of model.4 to 43\n",
      "\n",
      "Training for task 43\n",
      "=> Set task of model.0 to 43\n",
      "=> Set task of model.2 to 43\n",
      "=> Set task of model.4 to 43\n"
     ]
    },
    {
     "data": {
      "application/vnd.jupyter.widget-view+json": {
       "model_id": "662863284a984396acdf3dd5923dd617",
       "version_major": 2,
       "version_minor": 0
      },
      "text/plain": [
       "  0%|          | 0/469 [00:00<?, ?it/s]"
      ]
     },
     "metadata": {},
     "output_type": "display_data"
    },
    {
     "name": "stdout",
     "output_type": "stream",
     "text": [
      "Validation => Loss 2.0307, Acc@1 0.2790\n",
      "============\n"
     ]
    },
    {
     "data": {
      "application/vnd.jupyter.widget-view+json": {
       "model_id": "e224dc7ae5bc49f5b22a1e3447f6f6b2",
       "version_major": 2,
       "version_minor": 0
      },
      "text/plain": [
       "  0%|          | 0/79 [00:00<?, ?it/s]"
      ]
     },
     "metadata": {},
     "output_type": "display_data"
    },
    {
     "name": "stdout",
     "output_type": "stream",
     "text": [
      "Val Perf after 1 epochs Acc@1 0.4822\n"
     ]
    },
    {
     "data": {
      "application/vnd.jupyter.widget-view+json": {
       "model_id": "64e8cd06328143b4a6b154160e5e51c2",
       "version_major": 2,
       "version_minor": 0
      },
      "text/plain": [
       "  0%|          | 0/469 [00:00<?, ?it/s]"
      ]
     },
     "metadata": {},
     "output_type": "display_data"
    },
    {
     "name": "stdout",
     "output_type": "stream",
     "text": [
      "Validation => Loss 1.4966, Acc@1 0.5570\n",
      "============\n"
     ]
    },
    {
     "data": {
      "application/vnd.jupyter.widget-view+json": {
       "model_id": "43f4913b6dce4450b9cd24d248ff2cd8",
       "version_major": 2,
       "version_minor": 0
      },
      "text/plain": [
       "  0%|          | 0/79 [00:00<?, ?it/s]"
      ]
     },
     "metadata": {},
     "output_type": "display_data"
    },
    {
     "name": "stdout",
     "output_type": "stream",
     "text": [
      "Val Perf after 2 epochs Acc@1 0.6161\n",
      "=> Caching mask state for model.0\n",
      "=> Caching mask state for model.2\n",
      "=> Caching mask state for model.4\n",
      "\n",
      "=> Setting learned tasks of model.0 to 44\n",
      "=> Setting learned tasks of model.2 to 44\n",
      "=> Setting learned tasks of model.4 to 44\n",
      "\n",
      "Training for task 44\n",
      "=> Set task of model.0 to 44\n",
      "=> Set task of model.2 to 44\n",
      "=> Set task of model.4 to 44\n"
     ]
    },
    {
     "data": {
      "application/vnd.jupyter.widget-view+json": {
       "model_id": "7021a5088fa444cfafa4e3f1818e40d4",
       "version_major": 2,
       "version_minor": 0
      },
      "text/plain": [
       "  0%|          | 0/469 [00:00<?, ?it/s]"
      ]
     },
     "metadata": {},
     "output_type": "display_data"
    },
    {
     "name": "stdout",
     "output_type": "stream",
     "text": [
      "Validation => Loss 2.1738, Acc@1 0.2269\n",
      "============\n"
     ]
    },
    {
     "data": {
      "application/vnd.jupyter.widget-view+json": {
       "model_id": "f18be3608af04dffa0e336a6c059d7fd",
       "version_major": 2,
       "version_minor": 0
      },
      "text/plain": [
       "  0%|          | 0/79 [00:00<?, ?it/s]"
      ]
     },
     "metadata": {},
     "output_type": "display_data"
    },
    {
     "name": "stdout",
     "output_type": "stream",
     "text": [
      "Val Perf after 1 epochs Acc@1 0.4160\n"
     ]
    },
    {
     "data": {
      "application/vnd.jupyter.widget-view+json": {
       "model_id": "5d34a7d87ec64615874d58dda6417ba3",
       "version_major": 2,
       "version_minor": 0
      },
      "text/plain": [
       "  0%|          | 0/469 [00:00<?, ?it/s]"
      ]
     },
     "metadata": {},
     "output_type": "display_data"
    },
    {
     "name": "stdout",
     "output_type": "stream",
     "text": [
      "Validation => Loss 1.5704, Acc@1 0.5199\n",
      "============\n"
     ]
    },
    {
     "data": {
      "application/vnd.jupyter.widget-view+json": {
       "model_id": "0290ab0f977947a588a1537cfd7bb333",
       "version_major": 2,
       "version_minor": 0
      },
      "text/plain": [
       "  0%|          | 0/79 [00:00<?, ?it/s]"
      ]
     },
     "metadata": {},
     "output_type": "display_data"
    },
    {
     "name": "stdout",
     "output_type": "stream",
     "text": [
      "Val Perf after 2 epochs Acc@1 0.5918\n",
      "=> Caching mask state for model.0\n",
      "=> Caching mask state for model.2\n",
      "=> Caching mask state for model.4\n",
      "\n",
      "=> Setting learned tasks of model.0 to 45\n",
      "=> Setting learned tasks of model.2 to 45\n",
      "=> Setting learned tasks of model.4 to 45\n",
      "\n",
      "Training for task 45\n",
      "=> Set task of model.0 to 45\n",
      "=> Set task of model.2 to 45\n",
      "=> Set task of model.4 to 45\n"
     ]
    },
    {
     "data": {
      "application/vnd.jupyter.widget-view+json": {
       "model_id": "371959ead7274857b07142d0281f2bb2",
       "version_major": 2,
       "version_minor": 0
      },
      "text/plain": [
       "  0%|          | 0/469 [00:00<?, ?it/s]"
      ]
     },
     "metadata": {},
     "output_type": "display_data"
    },
    {
     "name": "stdout",
     "output_type": "stream",
     "text": [
      "Validation => Loss 2.3365, Acc@1 0.2559\n",
      "============\n"
     ]
    },
    {
     "data": {
      "application/vnd.jupyter.widget-view+json": {
       "model_id": "32ba07ce98ba495288de4377a436927f",
       "version_major": 2,
       "version_minor": 0
      },
      "text/plain": [
       "  0%|          | 0/79 [00:00<?, ?it/s]"
      ]
     },
     "metadata": {},
     "output_type": "display_data"
    },
    {
     "name": "stdout",
     "output_type": "stream",
     "text": [
      "Val Perf after 1 epochs Acc@1 0.4163\n"
     ]
    },
    {
     "data": {
      "application/vnd.jupyter.widget-view+json": {
       "model_id": "4c13f966bb0441faa8be3a53d679e238",
       "version_major": 2,
       "version_minor": 0
      },
      "text/plain": [
       "  0%|          | 0/469 [00:00<?, ?it/s]"
      ]
     },
     "metadata": {},
     "output_type": "display_data"
    },
    {
     "name": "stdout",
     "output_type": "stream",
     "text": [
      "Validation => Loss 1.7397, Acc@1 0.5120\n",
      "============\n"
     ]
    },
    {
     "data": {
      "application/vnd.jupyter.widget-view+json": {
       "model_id": "c49102a5464742ed8a2a646b5ca919a6",
       "version_major": 2,
       "version_minor": 0
      },
      "text/plain": [
       "  0%|          | 0/79 [00:00<?, ?it/s]"
      ]
     },
     "metadata": {},
     "output_type": "display_data"
    },
    {
     "name": "stdout",
     "output_type": "stream",
     "text": [
      "Val Perf after 2 epochs Acc@1 0.5767\n",
      "=> Caching mask state for model.0\n",
      "=> Caching mask state for model.2\n",
      "=> Caching mask state for model.4\n",
      "\n",
      "=> Setting learned tasks of model.0 to 46\n",
      "=> Setting learned tasks of model.2 to 46\n",
      "=> Setting learned tasks of model.4 to 46\n",
      "\n",
      "Training for task 46\n",
      "=> Set task of model.0 to 46\n",
      "=> Set task of model.2 to 46\n",
      "=> Set task of model.4 to 46\n"
     ]
    },
    {
     "data": {
      "application/vnd.jupyter.widget-view+json": {
       "model_id": "1a0b99c1dbd946d7a5955cd96315b82a",
       "version_major": 2,
       "version_minor": 0
      },
      "text/plain": [
       "  0%|          | 0/469 [00:00<?, ?it/s]"
      ]
     },
     "metadata": {},
     "output_type": "display_data"
    },
    {
     "name": "stdout",
     "output_type": "stream",
     "text": [
      "Validation => Loss 2.0968, Acc@1 0.2536\n",
      "============\n"
     ]
    },
    {
     "data": {
      "application/vnd.jupyter.widget-view+json": {
       "model_id": "edb7380e391244958e3e92fc4f454fab",
       "version_major": 2,
       "version_minor": 0
      },
      "text/plain": [
       "  0%|          | 0/79 [00:00<?, ?it/s]"
      ]
     },
     "metadata": {},
     "output_type": "display_data"
    },
    {
     "name": "stdout",
     "output_type": "stream",
     "text": [
      "Val Perf after 1 epochs Acc@1 0.4693\n"
     ]
    },
    {
     "data": {
      "application/vnd.jupyter.widget-view+json": {
       "model_id": "8f9baa4024524e339f9a78a75da7617d",
       "version_major": 2,
       "version_minor": 0
      },
      "text/plain": [
       "  0%|          | 0/469 [00:00<?, ?it/s]"
      ]
     },
     "metadata": {},
     "output_type": "display_data"
    },
    {
     "name": "stdout",
     "output_type": "stream",
     "text": [
      "Validation => Loss 1.4051, Acc@1 0.5664\n",
      "============\n"
     ]
    },
    {
     "data": {
      "application/vnd.jupyter.widget-view+json": {
       "model_id": "32491ffe35a24faa947c5b3cb2fa705a",
       "version_major": 2,
       "version_minor": 0
      },
      "text/plain": [
       "  0%|          | 0/79 [00:00<?, ?it/s]"
      ]
     },
     "metadata": {},
     "output_type": "display_data"
    },
    {
     "name": "stdout",
     "output_type": "stream",
     "text": [
      "Val Perf after 2 epochs Acc@1 0.6127\n",
      "=> Caching mask state for model.0\n",
      "=> Caching mask state for model.2\n",
      "=> Caching mask state for model.4\n",
      "\n",
      "=> Setting learned tasks of model.0 to 47\n",
      "=> Setting learned tasks of model.2 to 47\n",
      "=> Setting learned tasks of model.4 to 47\n",
      "\n",
      "Training for task 47\n",
      "=> Set task of model.0 to 47\n",
      "=> Set task of model.2 to 47\n",
      "=> Set task of model.4 to 47\n"
     ]
    },
    {
     "data": {
      "application/vnd.jupyter.widget-view+json": {
       "model_id": "4b6d9d96cd024051956c060ca27094a8",
       "version_major": 2,
       "version_minor": 0
      },
      "text/plain": [
       "  0%|          | 0/469 [00:00<?, ?it/s]"
      ]
     },
     "metadata": {},
     "output_type": "display_data"
    },
    {
     "name": "stdout",
     "output_type": "stream",
     "text": [
      "Validation => Loss 2.1946, Acc@1 0.2497\n",
      "============\n"
     ]
    },
    {
     "data": {
      "application/vnd.jupyter.widget-view+json": {
       "model_id": "15f9512496884ad1929602b2854c116c",
       "version_major": 2,
       "version_minor": 0
      },
      "text/plain": [
       "  0%|          | 0/79 [00:00<?, ?it/s]"
      ]
     },
     "metadata": {},
     "output_type": "display_data"
    },
    {
     "name": "stdout",
     "output_type": "stream",
     "text": [
      "Val Perf after 1 epochs Acc@1 0.4580\n"
     ]
    },
    {
     "data": {
      "application/vnd.jupyter.widget-view+json": {
       "model_id": "c6556282f28e40aab2cb43c673cd0f89",
       "version_major": 2,
       "version_minor": 0
      },
      "text/plain": [
       "  0%|          | 0/469 [00:00<?, ?it/s]"
      ]
     },
     "metadata": {},
     "output_type": "display_data"
    },
    {
     "name": "stdout",
     "output_type": "stream",
     "text": [
      "Validation => Loss 1.7368, Acc@1 0.5273\n",
      "============\n"
     ]
    },
    {
     "data": {
      "application/vnd.jupyter.widget-view+json": {
       "model_id": "ec07b687e45d4d668e8b56cf782b03e5",
       "version_major": 2,
       "version_minor": 0
      },
      "text/plain": [
       "  0%|          | 0/79 [00:00<?, ?it/s]"
      ]
     },
     "metadata": {},
     "output_type": "display_data"
    },
    {
     "name": "stdout",
     "output_type": "stream",
     "text": [
      "Val Perf after 2 epochs Acc@1 0.5978\n",
      "=> Caching mask state for model.0\n",
      "=> Caching mask state for model.2\n",
      "=> Caching mask state for model.4\n",
      "\n",
      "=> Setting learned tasks of model.0 to 48\n",
      "=> Setting learned tasks of model.2 to 48\n",
      "=> Setting learned tasks of model.4 to 48\n",
      "\n",
      "Training for task 48\n",
      "=> Set task of model.0 to 48\n",
      "=> Set task of model.2 to 48\n",
      "=> Set task of model.4 to 48\n"
     ]
    },
    {
     "data": {
      "application/vnd.jupyter.widget-view+json": {
       "model_id": "56459ab187c947ef8f7e915dafca2c6e",
       "version_major": 2,
       "version_minor": 0
      },
      "text/plain": [
       "  0%|          | 0/469 [00:00<?, ?it/s]"
      ]
     },
     "metadata": {},
     "output_type": "display_data"
    },
    {
     "name": "stdout",
     "output_type": "stream",
     "text": [
      "Validation => Loss 2.1706, Acc@1 0.2607\n",
      "============\n"
     ]
    },
    {
     "data": {
      "application/vnd.jupyter.widget-view+json": {
       "model_id": "e6be653b5de241918fdfb6753162cc98",
       "version_major": 2,
       "version_minor": 0
      },
      "text/plain": [
       "  0%|          | 0/79 [00:00<?, ?it/s]"
      ]
     },
     "metadata": {},
     "output_type": "display_data"
    },
    {
     "name": "stdout",
     "output_type": "stream",
     "text": [
      "Val Perf after 1 epochs Acc@1 0.4260\n"
     ]
    },
    {
     "data": {
      "application/vnd.jupyter.widget-view+json": {
       "model_id": "d10900a1f32543ddbf50c1c2b2e055ea",
       "version_major": 2,
       "version_minor": 0
      },
      "text/plain": [
       "  0%|          | 0/469 [00:00<?, ?it/s]"
      ]
     },
     "metadata": {},
     "output_type": "display_data"
    },
    {
     "name": "stdout",
     "output_type": "stream",
     "text": [
      "Validation => Loss 1.5874, Acc@1 0.4925\n",
      "============\n"
     ]
    },
    {
     "data": {
      "application/vnd.jupyter.widget-view+json": {
       "model_id": "cf366027ecf64029920245a1f647a5b2",
       "version_major": 2,
       "version_minor": 0
      },
      "text/plain": [
       "  0%|          | 0/79 [00:00<?, ?it/s]"
      ]
     },
     "metadata": {},
     "output_type": "display_data"
    },
    {
     "name": "stdout",
     "output_type": "stream",
     "text": [
      "Val Perf after 2 epochs Acc@1 0.5878\n",
      "=> Caching mask state for model.0\n",
      "=> Caching mask state for model.2\n",
      "=> Caching mask state for model.4\n",
      "\n",
      "=> Setting learned tasks of model.0 to 49\n",
      "=> Setting learned tasks of model.2 to 49\n",
      "=> Setting learned tasks of model.4 to 49\n",
      "\n",
      "Training for task 49\n",
      "=> Set task of model.0 to 49\n",
      "=> Set task of model.2 to 49\n",
      "=> Set task of model.4 to 49\n"
     ]
    },
    {
     "data": {
      "application/vnd.jupyter.widget-view+json": {
       "model_id": "99c9e57550cc4555a588c2f9ba74ffaf",
       "version_major": 2,
       "version_minor": 0
      },
      "text/plain": [
       "  0%|          | 0/469 [00:00<?, ?it/s]"
      ]
     },
     "metadata": {},
     "output_type": "display_data"
    },
    {
     "name": "stdout",
     "output_type": "stream",
     "text": [
      "Validation => Loss 2.2326, Acc@1 0.2650\n",
      "============\n"
     ]
    },
    {
     "data": {
      "application/vnd.jupyter.widget-view+json": {
       "model_id": "6e026d6f7a2e4e4fbf4cfad3ef47d8bd",
       "version_major": 2,
       "version_minor": 0
      },
      "text/plain": [
       "  0%|          | 0/79 [00:00<?, ?it/s]"
      ]
     },
     "metadata": {},
     "output_type": "display_data"
    },
    {
     "name": "stdout",
     "output_type": "stream",
     "text": [
      "Val Perf after 1 epochs Acc@1 0.4950\n"
     ]
    },
    {
     "data": {
      "application/vnd.jupyter.widget-view+json": {
       "model_id": "b360e9a0ab7947518e1675b1e16f5ae1",
       "version_major": 2,
       "version_minor": 0
      },
      "text/plain": [
       "  0%|          | 0/469 [00:00<?, ?it/s]"
      ]
     },
     "metadata": {},
     "output_type": "display_data"
    },
    {
     "name": "stdout",
     "output_type": "stream",
     "text": [
      "Validation => Loss 1.6875, Acc@1 0.5482\n",
      "============\n"
     ]
    },
    {
     "data": {
      "application/vnd.jupyter.widget-view+json": {
       "model_id": "0305a8089b244a7fb40c1381150edb85",
       "version_major": 2,
       "version_minor": 0
      },
      "text/plain": [
       "  0%|          | 0/79 [00:00<?, ?it/s]"
      ]
     },
     "metadata": {},
     "output_type": "display_data"
    },
    {
     "name": "stdout",
     "output_type": "stream",
     "text": [
      "Val Perf after 2 epochs Acc@1 0.5876\n",
      "=> Caching mask state for model.0\n",
      "=> Caching mask state for model.2\n",
      "=> Caching mask state for model.4\n",
      "\n",
      "=> Setting learned tasks of model.0 to 50\n",
      "=> Setting learned tasks of model.2 to 50\n",
      "=> Setting learned tasks of model.4 to 50\n",
      "\n"
     ]
    }
   ],
   "source": [
    "for task in range(num_seed_tasks_learned, num_tasks):\n",
    "    print(f\"Training for task {task}\")\n",
    "    set_model_task(basis_model_zero_sh, task)\n",
    "    mnist.update_task(task)\n",
    "\n",
    "    optimizer = optim.RMSprop([p for p in basis_model_zero_sh.parameters() if p.requires_grad], lr=1e-4)\n",
    "    # Train for 1 epoch\n",
    "    for e in range(2):\n",
    "        train(basis_model_zero_sh, mnist.train_loader, optimizer, e)\n",
    "        \n",
    "        print(\"Validation\")\n",
    "        print(\"============\")\n",
    "        acc1 = evaluate(basis_model_zero_sh, mnist.val_loader, e)\n",
    "        \n",
    "    \n",
    "    cache_masks(basis_model_zero_sh)\n",
    "    print()\n",
    "    set_num_tasks_learned(basis_model_zero_sh, task + 1)\n",
    "    print()"
   ]
  },
  {
   "cell_type": "code",
   "execution_count": 72,
   "metadata": {
    "scrolled": false
   },
   "outputs": [
    {
     "name": "stdout",
     "output_type": "stream",
     "text": [
      "Average top 1 performance: 0.1255\n",
      "Per task performance\n",
      "Task 0: 0.0001\n",
      "Task 1: 0.0021\n",
      "Task 2: 0.0048\n",
      "Task 3: 0.0321\n",
      "Task 4: 0.0078\n",
      "Task 5: 0.0508\n",
      "Task 6: 0.0043\n",
      "Task 7: 0.0006\n",
      "Task 8: 0.0045\n",
      "Task 9: 0.0000\n",
      "Task 10: 0.0002\n",
      "Task 11: 0.0254\n",
      "Task 12: 0.0004\n",
      "Task 13: 0.0053\n",
      "Task 14: 0.0016\n",
      "Task 15: 0.0024\n",
      "Task 16: 0.0015\n",
      "Task 17: 0.0049\n",
      "Task 18: 0.0286\n",
      "Task 19: 0.0042\n",
      "Task 20: 0.0029\n",
      "Task 21: 0.0003\n",
      "Task 22: 0.0241\n",
      "Task 23: 0.0012\n",
      "Task 24: 0.0020\n",
      "Task 25: 0.0018\n",
      "Task 26: 0.0047\n",
      "Task 27: 0.0077\n",
      "Task 28: 0.0026\n",
      "Task 29: 0.0014\n",
      "Task 30: 0.0400\n",
      "Task 31: 0.0026\n",
      "Task 32: 0.0083\n",
      "Task 33: 0.0004\n",
      "Task 34: 0.0218\n",
      "Task 35: 0.0115\n",
      "Task 36: 0.0003\n",
      "Task 37: 0.0170\n",
      "Task 38: 0.0002\n",
      "Task 39: 0.0004\n",
      "Task 40: 0.6119\n",
      "Task 41: 0.5518\n",
      "Task 42: 0.6084\n",
      "Task 43: 0.6161\n",
      "Task 44: 0.5918\n",
      "Task 45: 0.5767\n",
      "Task 46: 0.6127\n",
      "Task 47: 0.5978\n",
      "Task 48: 0.5878\n",
      "Task 49: 0.5876\n"
     ]
    }
   ],
   "source": [
    "# When task ID we can simply set the mask and evaluate\n",
    "\n",
    "gg_performance = []\n",
    "for task in range(num_tasks):\n",
    "    set_model_task(basis_model_zero_sh, task)\n",
    "    mnist.update_task(task)\n",
    "    acc1 = evaluate(basis_model_zero_sh, mnist.val_loader, 0)\n",
    "    gg_performance.append(acc1.item())\n",
    "\n",
    "clear_output()\n",
    "    \n",
    "print(f\"Average top 1 performance: {(sum(gg_performance) / len(gg_performance)):.4f}\")\n",
    "\n",
    "print(\"Per task performance\")\n",
    "for t in range(num_tasks):\n",
    "    print(f\"Task {t}: {gg_performance[t]:.4f}\")"
   ]
  },
  {
   "cell_type": "code",
   "execution_count": 74,
   "metadata": {},
   "outputs": [],
   "source": [
    "performance_map['basis_hybrid_mnist_task_zero_only'] = gg_performance.copy()"
   ]
  },
  {
   "cell_type": "code",
   "execution_count": null,
   "metadata": {},
   "outputs": [],
   "source": []
  },
  {
   "cell_type": "code",
   "execution_count": null,
   "metadata": {},
   "outputs": [],
   "source": []
  },
  {
   "cell_type": "code",
   "execution_count": null,
   "metadata": {},
   "outputs": [],
   "source": []
  },
  {
   "cell_type": "code",
   "execution_count": null,
   "metadata": {},
   "outputs": [],
   "source": []
  },
  {
   "cell_type": "code",
   "execution_count": null,
   "metadata": {},
   "outputs": [],
   "source": []
  },
  {
   "cell_type": "code",
   "execution_count": 75,
   "metadata": {},
   "outputs": [],
   "source": [
    "import pandas as pd\n",
    "import matplotlib.pyplot as plt\n",
    "\n",
    "%matplotlib inline"
   ]
  },
  {
   "cell_type": "code",
   "execution_count": 78,
   "metadata": {},
   "outputs": [
    {
     "data": {
      "text/plain": [
       "{'supsup_mnist': [0.9122999906539917,\n",
       "  0.9122999906539917,\n",
       "  0.9140999913215637,\n",
       "  0.9143999814987183,\n",
       "  0.9111999869346619,\n",
       "  0.9153000116348267,\n",
       "  0.9124000072479248,\n",
       "  0.9111999869346619,\n",
       "  0.9154000282287598,\n",
       "  0.9143000245094299,\n",
       "  0.9143999814987183,\n",
       "  0.9103999733924866,\n",
       "  0.916100025177002,\n",
       "  0.9120000004768372,\n",
       "  0.9122999906539917,\n",
       "  0.9117000102996826,\n",
       "  0.9107000231742859,\n",
       "  0.9143000245094299,\n",
       "  0.9106000065803528,\n",
       "  0.9047999978065491,\n",
       "  0.9108999967575073,\n",
       "  0.9132000207901001,\n",
       "  0.9125000238418579,\n",
       "  0.9118000268936157,\n",
       "  0.9129999876022339,\n",
       "  0.9114999771118164,\n",
       "  0.913100004196167,\n",
       "  0.9118000268936157,\n",
       "  0.9121000170707703,\n",
       "  0.9135000109672546,\n",
       "  0.9107000231742859,\n",
       "  0.9081000089645386,\n",
       "  0.9129999876022339,\n",
       "  0.9117000102996826,\n",
       "  0.9146999716758728,\n",
       "  0.9117000102996826,\n",
       "  0.9124000072479248,\n",
       "  0.9121999740600586,\n",
       "  0.9070000052452087,\n",
       "  0.9133999943733215,\n",
       "  0.9107999801635742,\n",
       "  0.911300003528595,\n",
       "  0.9128999710083008,\n",
       "  0.911899983882904,\n",
       "  0.911300003528595,\n",
       "  0.9125999808311462,\n",
       "  0.9136000275611877,\n",
       "  0.9143999814987183,\n",
       "  0.9132999777793884,\n",
       "  0.9126999974250793],\n",
       " 'basis_mnist': [0.9122999906539917,\n",
       "  0.9122999906539917,\n",
       "  0.9140999913215637,\n",
       "  0.9143999814987183,\n",
       "  0.9111999869346619,\n",
       "  0.9153000116348267,\n",
       "  0.9124000072479248,\n",
       "  0.9111999869346619,\n",
       "  0.9154000282287598,\n",
       "  0.9143000245094299,\n",
       "  0.9143999814987183,\n",
       "  0.9103999733924866,\n",
       "  0.916100025177002,\n",
       "  0.9120000004768372,\n",
       "  0.9122999906539917,\n",
       "  0.9117000102996826,\n",
       "  0.9107000231742859,\n",
       "  0.9143000245094299,\n",
       "  0.9106000065803528,\n",
       "  0.9047999978065491,\n",
       "  0.9108999967575073,\n",
       "  0.9132000207901001,\n",
       "  0.9125000238418579,\n",
       "  0.9118000268936157,\n",
       "  0.9129999876022339,\n",
       "  0.9114999771118164,\n",
       "  0.913100004196167,\n",
       "  0.9118000268936157,\n",
       "  0.9121000170707703,\n",
       "  0.9135000109672546,\n",
       "  0.9107000231742859,\n",
       "  0.9081000089645386,\n",
       "  0.9129999876022339,\n",
       "  0.9117000102996826,\n",
       "  0.9146999716758728,\n",
       "  0.9117000102996826,\n",
       "  0.9124000072479248,\n",
       "  0.9121999740600586,\n",
       "  0.9070000052452087,\n",
       "  0.9133999943733215,\n",
       "  0.5386999845504761,\n",
       "  0.5479000210762024,\n",
       "  0.5856999754905701,\n",
       "  0.5370000004768372,\n",
       "  0.5857999920845032,\n",
       "  0.5630999803543091,\n",
       "  0.5414000153541565,\n",
       "  0.5841000080108643,\n",
       "  0.5156999826431274,\n",
       "  0.5697000026702881],\n",
       " 'basis_mnist_frozen': [0.9122999906539917,\n",
       "  0.17569999396800995,\n",
       "  0.12080000340938568,\n",
       "  0.0908999964594841,\n",
       "  0.12200000137090683,\n",
       "  0.1696999967098236,\n",
       "  0.08950000256299973,\n",
       "  0.12999999523162842,\n",
       "  0.15620000660419464,\n",
       "  0.09709999710321426],\n",
       " 'basis_mnist_task_zero_only': [0.0,\n",
       "  0.00279999990016222,\n",
       "  9.999999747378752e-05,\n",
       "  0.002400000113993883,\n",
       "  0.00800000037997961,\n",
       "  0.00019999999494757503,\n",
       "  0.0,\n",
       "  0.0,\n",
       "  0.000699999975040555,\n",
       "  0.004900000058114529,\n",
       "  0.0024999999441206455,\n",
       "  0.00019999999494757503,\n",
       "  0.00039999998989515007,\n",
       "  0.00039999998989515007,\n",
       "  0.0006000000284984708,\n",
       "  9.999999747378752e-05,\n",
       "  0.004699999932199717,\n",
       "  0.00039999998989515007,\n",
       "  0.0003000000142492354,\n",
       "  0.0005000000237487257,\n",
       "  0.00039999998989515007,\n",
       "  0.0017999999690800905,\n",
       "  0.003100000089034438,\n",
       "  0.0019000000320374966,\n",
       "  0.00019999999494757503,\n",
       "  0.0006000000284984708,\n",
       "  0.001500000013038516,\n",
       "  0.010200000368058681,\n",
       "  0.0017000000225380063,\n",
       "  0.010499999858438969,\n",
       "  9.999999747378752e-05,\n",
       "  0.0017999999690800905,\n",
       "  0.0003000000142492354,\n",
       "  0.0020000000949949026,\n",
       "  0.0012000000569969416,\n",
       "  0.0,\n",
       "  0.0027000000700354576,\n",
       "  0.0003000000142492354,\n",
       "  0.0010000000474974513,\n",
       "  0.0,\n",
       "  0.41200000047683716,\n",
       "  0.43689998984336853,\n",
       "  0.4120999872684479,\n",
       "  0.47929999232292175,\n",
       "  0.4652000069618225,\n",
       "  0.44350001215934753,\n",
       "  0.4449999928474426,\n",
       "  0.46299999952316284,\n",
       "  0.484499990940094,\n",
       "  0.46720001101493835],\n",
       " 'basis_hybrid_mnist': [0.9122999906539917,\n",
       "  0.9122999906539917,\n",
       "  0.9140999913215637,\n",
       "  0.9143999814987183,\n",
       "  0.9111999869346619,\n",
       "  0.9153000116348267,\n",
       "  0.9124000072479248,\n",
       "  0.9111999869346619,\n",
       "  0.9154000282287598,\n",
       "  0.9143000245094299,\n",
       "  0.9143999814987183,\n",
       "  0.9103999733924866,\n",
       "  0.916100025177002,\n",
       "  0.9120000004768372,\n",
       "  0.9122999906539917,\n",
       "  0.9117000102996826,\n",
       "  0.9107000231742859,\n",
       "  0.9143000245094299,\n",
       "  0.9106000065803528,\n",
       "  0.9047999978065491,\n",
       "  0.9108999967575073,\n",
       "  0.9132000207901001,\n",
       "  0.9125000238418579,\n",
       "  0.9118000268936157,\n",
       "  0.9129999876022339,\n",
       "  0.9114999771118164,\n",
       "  0.913100004196167,\n",
       "  0.9118000268936157,\n",
       "  0.9121000170707703,\n",
       "  0.9135000109672546,\n",
       "  0.9107000231742859,\n",
       "  0.9081000089645386,\n",
       "  0.9129999876022339,\n",
       "  0.9117000102996826,\n",
       "  0.9146999716758728,\n",
       "  0.9117000102996826,\n",
       "  0.9124000072479248,\n",
       "  0.9121999740600586,\n",
       "  0.9070000052452087,\n",
       "  0.9133999943733215,\n",
       "  0.6068999767303467,\n",
       "  0.6568999886512756,\n",
       "  0.650600016117096,\n",
       "  0.6308000087738037,\n",
       "  0.6510000228881836,\n",
       "  0.6182000041007996,\n",
       "  0.6337000131607056,\n",
       "  0.707099974155426,\n",
       "  0.656499981880188,\n",
       "  0.6100000143051147],\n",
       " 'basis_hybrid_mnist_frozen': [0.9122999906539917,\n",
       "  0.336899995803833,\n",
       "  0.3714999854564667,\n",
       "  0.29339998960494995,\n",
       "  0.1932000070810318,\n",
       "  0.40059998631477356,\n",
       "  0.274399995803833,\n",
       "  0.325300008058548,\n",
       "  0.34880000352859497,\n",
       "  0.3327000141143799],\n",
       " 'basis_hybrid_mnist_task_zero_only': [9.999999747378752e-05,\n",
       "  0.002099999925121665,\n",
       "  0.004800000227987766,\n",
       "  0.032099999487400055,\n",
       "  0.007799999788403511,\n",
       "  0.05079999938607216,\n",
       "  0.00430000014603138,\n",
       "  0.0006000000284984708,\n",
       "  0.0044999998062849045,\n",
       "  0.0,\n",
       "  0.00019999999494757503,\n",
       "  0.02539999969303608,\n",
       "  0.00039999998989515007,\n",
       "  0.0052999998442828655,\n",
       "  0.0015999999595806003,\n",
       "  0.002400000113993883,\n",
       "  0.001500000013038516,\n",
       "  0.004900000058114529,\n",
       "  0.028599999845027924,\n",
       "  0.00419999985024333,\n",
       "  0.002899999963119626,\n",
       "  0.0003000000142492354,\n",
       "  0.02410000003874302,\n",
       "  0.0012000000569969416,\n",
       "  0.0020000000949949026,\n",
       "  0.0017999999690800905,\n",
       "  0.004699999932199717,\n",
       "  0.007699999958276749,\n",
       "  0.0026000000070780516,\n",
       "  0.00139999995008111,\n",
       "  0.03999999910593033,\n",
       "  0.0026000000070780516,\n",
       "  0.008299999870359898,\n",
       "  0.00039999998989515007,\n",
       "  0.021800000220537186,\n",
       "  0.011500000022351742,\n",
       "  0.0003000000142492354,\n",
       "  0.017000000923871994,\n",
       "  0.00019999999494757503,\n",
       "  0.00039999998989515007,\n",
       "  0.6118999719619751,\n",
       "  0.551800012588501,\n",
       "  0.6083999872207642,\n",
       "  0.616100013256073,\n",
       "  0.5917999744415283,\n",
       "  0.57669997215271,\n",
       "  0.6126999855041504,\n",
       "  0.5978000164031982,\n",
       "  0.5878000259399414,\n",
       "  0.5875999927520752]}"
      ]
     },
     "execution_count": 78,
     "metadata": {},
     "output_type": "execute_result"
    }
   ],
   "source": [
    "performance_map"
   ]
  },
  {
   "cell_type": "code",
   "execution_count": 79,
   "metadata": {},
   "outputs": [],
   "source": [
    "perf_map_copy = performance_map.copy()\n",
    "for k in performance_map.keys():\n",
    "    if 'frozen' in k:\n",
    "        perf_map_copy[k] = [0.0]*40 + performance_map[k]"
   ]
  },
  {
   "cell_type": "code",
   "execution_count": 80,
   "metadata": {},
   "outputs": [],
   "source": [
    "df = pd.DataFrame(perf_map_copy)"
   ]
  },
  {
   "cell_type": "code",
   "execution_count": 81,
   "metadata": {},
   "outputs": [],
   "source": [
    "df.loc[:40, 'Seen'] = True\n",
    "df.loc[40:, 'Seen'] = False"
   ]
  },
  {
   "cell_type": "code",
   "execution_count": 85,
   "metadata": {},
   "outputs": [
    {
     "data": {
      "text/html": [
       "<style  type=\"text/css\" >\n",
       "#T_848be_row0_col0,#T_848be_row0_col1,#T_848be_row0_col4,#T_848be_row1_col0,#T_848be_row1_col1,#T_848be_row1_col4,#T_848be_row2_col0,#T_848be_row2_col1,#T_848be_row2_col4,#T_848be_row3_col0,#T_848be_row3_col1,#T_848be_row3_col4,#T_848be_row4_col0,#T_848be_row4_col1,#T_848be_row4_col4,#T_848be_row5_col2,#T_848be_row5_col5,#T_848be_row6_col0,#T_848be_row7_col0,#T_848be_row8_col0,#T_848be_row9_col0,#T_848be_row10_col0,#T_848be_row11_col0,#T_848be_row12_col0,#T_848be_row13_col0,#T_848be_row14_col0{\n",
       "            background-color:  #73a9cf;\n",
       "            color:  #000000;\n",
       "        }#T_848be_row0_col2,#T_848be_row0_col3,#T_848be_row0_col5,#T_848be_row1_col2,#T_848be_row1_col3,#T_848be_row1_col5,#T_848be_row1_col6,#T_848be_row2_col2,#T_848be_row2_col3,#T_848be_row2_col5,#T_848be_row3_col2,#T_848be_row3_col3,#T_848be_row3_col5,#T_848be_row3_col6,#T_848be_row4_col2,#T_848be_row4_col3,#T_848be_row4_col5,#T_848be_row4_col6,#T_848be_row5_col3,#T_848be_row6_col2,#T_848be_row7_col2,#T_848be_row8_col2,#T_848be_row9_col2,#T_848be_row10_col2,#T_848be_row11_col2,#T_848be_row12_col2,#T_848be_row13_col2,#T_848be_row14_col2{\n",
       "            background-color:  #fff7fb;\n",
       "            color:  #000000;\n",
       "        }#T_848be_row0_col6{\n",
       "            background-color:  #fef6fb;\n",
       "            color:  #000000;\n",
       "        }#T_848be_row2_col6{\n",
       "            background-color:  #fef6fa;\n",
       "            color:  #000000;\n",
       "        }#T_848be_row5_col0{\n",
       "            background-color:  #75a9cf;\n",
       "            color:  #000000;\n",
       "        }#T_848be_row5_col1,#T_848be_row13_col5{\n",
       "            background-color:  #ece7f2;\n",
       "            color:  #000000;\n",
       "        }#T_848be_row5_col4{\n",
       "            background-color:  #dddbec;\n",
       "            color:  #000000;\n",
       "        }#T_848be_row5_col6{\n",
       "            background-color:  #dbdaeb;\n",
       "            color:  #000000;\n",
       "        }#T_848be_row6_col1{\n",
       "            background-color:  #d0d1e6;\n",
       "            color:  #000000;\n",
       "        }#T_848be_row6_col3{\n",
       "            background-color:  #e0deed;\n",
       "            color:  #000000;\n",
       "        }#T_848be_row6_col4{\n",
       "            background-color:  #b7c5df;\n",
       "            color:  #000000;\n",
       "        }#T_848be_row6_col5,#T_848be_row11_col5{\n",
       "            background-color:  #eee9f3;\n",
       "            color:  #000000;\n",
       "        }#T_848be_row6_col6{\n",
       "            background-color:  #ced0e6;\n",
       "            color:  #000000;\n",
       "        }#T_848be_row7_col1,#T_848be_row9_col1{\n",
       "            background-color:  #c1cae2;\n",
       "            color:  #000000;\n",
       "        }#T_848be_row7_col3,#T_848be_row10_col3{\n",
       "            background-color:  #dfddec;\n",
       "            color:  #000000;\n",
       "        }#T_848be_row7_col4,#T_848be_row9_col4{\n",
       "            background-color:  #b4c4df;\n",
       "            color:  #000000;\n",
       "        }#T_848be_row7_col5{\n",
       "            background-color:  #e5e1ef;\n",
       "            color:  #000000;\n",
       "        }#T_848be_row7_col6{\n",
       "            background-color:  #bdc8e1;\n",
       "            color:  #000000;\n",
       "        }#T_848be_row8_col1{\n",
       "            background-color:  #c9cee4;\n",
       "            color:  #000000;\n",
       "        }#T_848be_row8_col3,#T_848be_row13_col1{\n",
       "            background-color:  #d3d4e7;\n",
       "            color:  #000000;\n",
       "        }#T_848be_row8_col4,#T_848be_row11_col4,#T_848be_row13_col4{\n",
       "            background-color:  #b5c4df;\n",
       "            color:  #000000;\n",
       "        }#T_848be_row8_col5,#T_848be_row12_col5{\n",
       "            background-color:  #ede7f2;\n",
       "            color:  #000000;\n",
       "        }#T_848be_row8_col6,#T_848be_row11_col6{\n",
       "            background-color:  #b9c6e0;\n",
       "            color:  #000000;\n",
       "        }#T_848be_row9_col3,#T_848be_row11_col3,#T_848be_row13_col3{\n",
       "            background-color:  #d8d7e9;\n",
       "            color:  #000000;\n",
       "        }#T_848be_row9_col5{\n",
       "            background-color:  #f8f1f8;\n",
       "            color:  #000000;\n",
       "        }#T_848be_row9_col6,#T_848be_row12_col6,#T_848be_row14_col6{\n",
       "            background-color:  #c0c9e2;\n",
       "            color:  #000000;\n",
       "        }#T_848be_row10_col1{\n",
       "            background-color:  #cccfe5;\n",
       "            color:  #000000;\n",
       "        }#T_848be_row10_col4{\n",
       "            background-color:  #bfc9e1;\n",
       "            color:  #000000;\n",
       "        }#T_848be_row10_col5{\n",
       "            background-color:  #e6e2ef;\n",
       "            color:  #000000;\n",
       "        }#T_848be_row10_col6,#T_848be_row11_col1{\n",
       "            background-color:  #c8cde4;\n",
       "            color:  #000000;\n",
       "        }#T_848be_row12_col1,#T_848be_row14_col1{\n",
       "            background-color:  #c2cbe2;\n",
       "            color:  #000000;\n",
       "        }#T_848be_row12_col3{\n",
       "            background-color:  #d9d8ea;\n",
       "            color:  #000000;\n",
       "        }#T_848be_row12_col4{\n",
       "            background-color:  #a8bedc;\n",
       "            color:  #000000;\n",
       "        }#T_848be_row13_col6{\n",
       "            background-color:  #c5cce3;\n",
       "            color:  #000000;\n",
       "        }#T_848be_row14_col3{\n",
       "            background-color:  #d5d5e8;\n",
       "            color:  #000000;\n",
       "        }#T_848be_row14_col4{\n",
       "            background-color:  #bbc7e0;\n",
       "            color:  #000000;\n",
       "        }#T_848be_row14_col5{\n",
       "            background-color:  #e8e4f0;\n",
       "            color:  #000000;\n",
       "        }</style><table id=\"T_848be_\" ><thead>    <tr>        <th class=\"blank level0\" ></th>        <th class=\"col_heading level0 col0\" >supsup_mnist</th>        <th class=\"col_heading level0 col1\" >basis_mnist</th>        <th class=\"col_heading level0 col2\" >basis_mnist_frozen</th>        <th class=\"col_heading level0 col3\" >basis_mnist_task_zero_only</th>        <th class=\"col_heading level0 col4\" >basis_hybrid_mnist</th>        <th class=\"col_heading level0 col5\" >basis_hybrid_mnist_frozen</th>        <th class=\"col_heading level0 col6\" >basis_hybrid_mnist_task_zero_only</th>        <th class=\"col_heading level0 col7\" >Seen</th>    </tr>    <tr>        <th class=\"index_name level0\" >Task</th>        <th class=\"blank\" ></th>        <th class=\"blank\" ></th>        <th class=\"blank\" ></th>        <th class=\"blank\" ></th>        <th class=\"blank\" ></th>        <th class=\"blank\" ></th>        <th class=\"blank\" ></th>        <th class=\"blank\" ></th>    </tr></thead><tbody>\n",
       "                <tr>\n",
       "                        <th id=\"T_848be_level0_row0\" class=\"row_heading level0 row0\" >35</th>\n",
       "                        <td id=\"T_848be_row0_col0\" class=\"data row0 col0\" >0.911700</td>\n",
       "                        <td id=\"T_848be_row0_col1\" class=\"data row0 col1\" >0.911700</td>\n",
       "                        <td id=\"T_848be_row0_col2\" class=\"data row0 col2\" >0.000000</td>\n",
       "                        <td id=\"T_848be_row0_col3\" class=\"data row0 col3\" >0.000000</td>\n",
       "                        <td id=\"T_848be_row0_col4\" class=\"data row0 col4\" >0.911700</td>\n",
       "                        <td id=\"T_848be_row0_col5\" class=\"data row0 col5\" >0.000000</td>\n",
       "                        <td id=\"T_848be_row0_col6\" class=\"data row0 col6\" >0.011500</td>\n",
       "                        <td id=\"T_848be_row0_col7\" class=\"data row0 col7\" >True</td>\n",
       "            </tr>\n",
       "            <tr>\n",
       "                        <th id=\"T_848be_level0_row1\" class=\"row_heading level0 row1\" >36</th>\n",
       "                        <td id=\"T_848be_row1_col0\" class=\"data row1 col0\" >0.912400</td>\n",
       "                        <td id=\"T_848be_row1_col1\" class=\"data row1 col1\" >0.912400</td>\n",
       "                        <td id=\"T_848be_row1_col2\" class=\"data row1 col2\" >0.000000</td>\n",
       "                        <td id=\"T_848be_row1_col3\" class=\"data row1 col3\" >0.002700</td>\n",
       "                        <td id=\"T_848be_row1_col4\" class=\"data row1 col4\" >0.912400</td>\n",
       "                        <td id=\"T_848be_row1_col5\" class=\"data row1 col5\" >0.000000</td>\n",
       "                        <td id=\"T_848be_row1_col6\" class=\"data row1 col6\" >0.000300</td>\n",
       "                        <td id=\"T_848be_row1_col7\" class=\"data row1 col7\" >True</td>\n",
       "            </tr>\n",
       "            <tr>\n",
       "                        <th id=\"T_848be_level0_row2\" class=\"row_heading level0 row2\" >37</th>\n",
       "                        <td id=\"T_848be_row2_col0\" class=\"data row2 col0\" >0.912200</td>\n",
       "                        <td id=\"T_848be_row2_col1\" class=\"data row2 col1\" >0.912200</td>\n",
       "                        <td id=\"T_848be_row2_col2\" class=\"data row2 col2\" >0.000000</td>\n",
       "                        <td id=\"T_848be_row2_col3\" class=\"data row2 col3\" >0.000300</td>\n",
       "                        <td id=\"T_848be_row2_col4\" class=\"data row2 col4\" >0.912200</td>\n",
       "                        <td id=\"T_848be_row2_col5\" class=\"data row2 col5\" >0.000000</td>\n",
       "                        <td id=\"T_848be_row2_col6\" class=\"data row2 col6\" >0.017000</td>\n",
       "                        <td id=\"T_848be_row2_col7\" class=\"data row2 col7\" >True</td>\n",
       "            </tr>\n",
       "            <tr>\n",
       "                        <th id=\"T_848be_level0_row3\" class=\"row_heading level0 row3\" >38</th>\n",
       "                        <td id=\"T_848be_row3_col0\" class=\"data row3 col0\" >0.907000</td>\n",
       "                        <td id=\"T_848be_row3_col1\" class=\"data row3 col1\" >0.907000</td>\n",
       "                        <td id=\"T_848be_row3_col2\" class=\"data row3 col2\" >0.000000</td>\n",
       "                        <td id=\"T_848be_row3_col3\" class=\"data row3 col3\" >0.001000</td>\n",
       "                        <td id=\"T_848be_row3_col4\" class=\"data row3 col4\" >0.907000</td>\n",
       "                        <td id=\"T_848be_row3_col5\" class=\"data row3 col5\" >0.000000</td>\n",
       "                        <td id=\"T_848be_row3_col6\" class=\"data row3 col6\" >0.000200</td>\n",
       "                        <td id=\"T_848be_row3_col7\" class=\"data row3 col7\" >True</td>\n",
       "            </tr>\n",
       "            <tr>\n",
       "                        <th id=\"T_848be_level0_row4\" class=\"row_heading level0 row4\" >39</th>\n",
       "                        <td id=\"T_848be_row4_col0\" class=\"data row4 col0\" >0.913400</td>\n",
       "                        <td id=\"T_848be_row4_col1\" class=\"data row4 col1\" >0.913400</td>\n",
       "                        <td id=\"T_848be_row4_col2\" class=\"data row4 col2\" >0.000000</td>\n",
       "                        <td id=\"T_848be_row4_col3\" class=\"data row4 col3\" >0.000000</td>\n",
       "                        <td id=\"T_848be_row4_col4\" class=\"data row4 col4\" >0.913400</td>\n",
       "                        <td id=\"T_848be_row4_col5\" class=\"data row4 col5\" >0.000000</td>\n",
       "                        <td id=\"T_848be_row4_col6\" class=\"data row4 col6\" >0.000400</td>\n",
       "                        <td id=\"T_848be_row4_col7\" class=\"data row4 col7\" >True</td>\n",
       "            </tr>\n",
       "            <tr>\n",
       "                        <th id=\"T_848be_level0_row5\" class=\"row_heading level0 row5\" >40</th>\n",
       "                        <td id=\"T_848be_row5_col0\" class=\"data row5 col0\" >0.910800</td>\n",
       "                        <td id=\"T_848be_row5_col1\" class=\"data row5 col1\" >0.538700</td>\n",
       "                        <td id=\"T_848be_row5_col2\" class=\"data row5 col2\" >0.912300</td>\n",
       "                        <td id=\"T_848be_row5_col3\" class=\"data row5 col3\" >0.412000</td>\n",
       "                        <td id=\"T_848be_row5_col4\" class=\"data row5 col4\" >0.606900</td>\n",
       "                        <td id=\"T_848be_row5_col5\" class=\"data row5 col5\" >0.912300</td>\n",
       "                        <td id=\"T_848be_row5_col6\" class=\"data row5 col6\" >0.611900</td>\n",
       "                        <td id=\"T_848be_row5_col7\" class=\"data row5 col7\" >False</td>\n",
       "            </tr>\n",
       "            <tr>\n",
       "                        <th id=\"T_848be_level0_row6\" class=\"row_heading level0 row6\" >41</th>\n",
       "                        <td id=\"T_848be_row6_col0\" class=\"data row6 col0\" >0.911300</td>\n",
       "                        <td id=\"T_848be_row6_col1\" class=\"data row6 col1\" >0.547900</td>\n",
       "                        <td id=\"T_848be_row6_col2\" class=\"data row6 col2\" >0.175700</td>\n",
       "                        <td id=\"T_848be_row6_col3\" class=\"data row6 col3\" >0.436900</td>\n",
       "                        <td id=\"T_848be_row6_col4\" class=\"data row6 col4\" >0.656900</td>\n",
       "                        <td id=\"T_848be_row6_col5\" class=\"data row6 col5\" >0.336900</td>\n",
       "                        <td id=\"T_848be_row6_col6\" class=\"data row6 col6\" >0.551800</td>\n",
       "                        <td id=\"T_848be_row6_col7\" class=\"data row6 col7\" >False</td>\n",
       "            </tr>\n",
       "            <tr>\n",
       "                        <th id=\"T_848be_level0_row7\" class=\"row_heading level0 row7\" >42</th>\n",
       "                        <td id=\"T_848be_row7_col0\" class=\"data row7 col0\" >0.912900</td>\n",
       "                        <td id=\"T_848be_row7_col1\" class=\"data row7 col1\" >0.585700</td>\n",
       "                        <td id=\"T_848be_row7_col2\" class=\"data row7 col2\" >0.120800</td>\n",
       "                        <td id=\"T_848be_row7_col3\" class=\"data row7 col3\" >0.412100</td>\n",
       "                        <td id=\"T_848be_row7_col4\" class=\"data row7 col4\" >0.650600</td>\n",
       "                        <td id=\"T_848be_row7_col5\" class=\"data row7 col5\" >0.371500</td>\n",
       "                        <td id=\"T_848be_row7_col6\" class=\"data row7 col6\" >0.608400</td>\n",
       "                        <td id=\"T_848be_row7_col7\" class=\"data row7 col7\" >False</td>\n",
       "            </tr>\n",
       "            <tr>\n",
       "                        <th id=\"T_848be_level0_row8\" class=\"row_heading level0 row8\" >43</th>\n",
       "                        <td id=\"T_848be_row8_col0\" class=\"data row8 col0\" >0.911900</td>\n",
       "                        <td id=\"T_848be_row8_col1\" class=\"data row8 col1\" >0.537000</td>\n",
       "                        <td id=\"T_848be_row8_col2\" class=\"data row8 col2\" >0.090900</td>\n",
       "                        <td id=\"T_848be_row8_col3\" class=\"data row8 col3\" >0.479300</td>\n",
       "                        <td id=\"T_848be_row8_col4\" class=\"data row8 col4\" >0.630800</td>\n",
       "                        <td id=\"T_848be_row8_col5\" class=\"data row8 col5\" >0.293400</td>\n",
       "                        <td id=\"T_848be_row8_col6\" class=\"data row8 col6\" >0.616100</td>\n",
       "                        <td id=\"T_848be_row8_col7\" class=\"data row8 col7\" >False</td>\n",
       "            </tr>\n",
       "            <tr>\n",
       "                        <th id=\"T_848be_level0_row9\" class=\"row_heading level0 row9\" >44</th>\n",
       "                        <td id=\"T_848be_row9_col0\" class=\"data row9 col0\" >0.911300</td>\n",
       "                        <td id=\"T_848be_row9_col1\" class=\"data row9 col1\" >0.585800</td>\n",
       "                        <td id=\"T_848be_row9_col2\" class=\"data row9 col2\" >0.122000</td>\n",
       "                        <td id=\"T_848be_row9_col3\" class=\"data row9 col3\" >0.465200</td>\n",
       "                        <td id=\"T_848be_row9_col4\" class=\"data row9 col4\" >0.651000</td>\n",
       "                        <td id=\"T_848be_row9_col5\" class=\"data row9 col5\" >0.193200</td>\n",
       "                        <td id=\"T_848be_row9_col6\" class=\"data row9 col6\" >0.591800</td>\n",
       "                        <td id=\"T_848be_row9_col7\" class=\"data row9 col7\" >False</td>\n",
       "            </tr>\n",
       "            <tr>\n",
       "                        <th id=\"T_848be_level0_row10\" class=\"row_heading level0 row10\" >45</th>\n",
       "                        <td id=\"T_848be_row10_col0\" class=\"data row10 col0\" >0.912600</td>\n",
       "                        <td id=\"T_848be_row10_col1\" class=\"data row10 col1\" >0.563100</td>\n",
       "                        <td id=\"T_848be_row10_col2\" class=\"data row10 col2\" >0.169700</td>\n",
       "                        <td id=\"T_848be_row10_col3\" class=\"data row10 col3\" >0.443500</td>\n",
       "                        <td id=\"T_848be_row10_col4\" class=\"data row10 col4\" >0.618200</td>\n",
       "                        <td id=\"T_848be_row10_col5\" class=\"data row10 col5\" >0.400600</td>\n",
       "                        <td id=\"T_848be_row10_col6\" class=\"data row10 col6\" >0.576700</td>\n",
       "                        <td id=\"T_848be_row10_col7\" class=\"data row10 col7\" >False</td>\n",
       "            </tr>\n",
       "            <tr>\n",
       "                        <th id=\"T_848be_level0_row11\" class=\"row_heading level0 row11\" >46</th>\n",
       "                        <td id=\"T_848be_row11_col0\" class=\"data row11 col0\" >0.913600</td>\n",
       "                        <td id=\"T_848be_row11_col1\" class=\"data row11 col1\" >0.541400</td>\n",
       "                        <td id=\"T_848be_row11_col2\" class=\"data row11 col2\" >0.089500</td>\n",
       "                        <td id=\"T_848be_row11_col3\" class=\"data row11 col3\" >0.445000</td>\n",
       "                        <td id=\"T_848be_row11_col4\" class=\"data row11 col4\" >0.633700</td>\n",
       "                        <td id=\"T_848be_row11_col5\" class=\"data row11 col5\" >0.274400</td>\n",
       "                        <td id=\"T_848be_row11_col6\" class=\"data row11 col6\" >0.612700</td>\n",
       "                        <td id=\"T_848be_row11_col7\" class=\"data row11 col7\" >False</td>\n",
       "            </tr>\n",
       "            <tr>\n",
       "                        <th id=\"T_848be_level0_row12\" class=\"row_heading level0 row12\" >47</th>\n",
       "                        <td id=\"T_848be_row12_col0\" class=\"data row12 col0\" >0.914400</td>\n",
       "                        <td id=\"T_848be_row12_col1\" class=\"data row12 col1\" >0.584100</td>\n",
       "                        <td id=\"T_848be_row12_col2\" class=\"data row12 col2\" >0.130000</td>\n",
       "                        <td id=\"T_848be_row12_col3\" class=\"data row12 col3\" >0.463000</td>\n",
       "                        <td id=\"T_848be_row12_col4\" class=\"data row12 col4\" >0.707100</td>\n",
       "                        <td id=\"T_848be_row12_col5\" class=\"data row12 col5\" >0.325300</td>\n",
       "                        <td id=\"T_848be_row12_col6\" class=\"data row12 col6\" >0.597800</td>\n",
       "                        <td id=\"T_848be_row12_col7\" class=\"data row12 col7\" >False</td>\n",
       "            </tr>\n",
       "            <tr>\n",
       "                        <th id=\"T_848be_level0_row13\" class=\"row_heading level0 row13\" >48</th>\n",
       "                        <td id=\"T_848be_row13_col0\" class=\"data row13 col0\" >0.913300</td>\n",
       "                        <td id=\"T_848be_row13_col1\" class=\"data row13 col1\" >0.515700</td>\n",
       "                        <td id=\"T_848be_row13_col2\" class=\"data row13 col2\" >0.156200</td>\n",
       "                        <td id=\"T_848be_row13_col3\" class=\"data row13 col3\" >0.484500</td>\n",
       "                        <td id=\"T_848be_row13_col4\" class=\"data row13 col4\" >0.656500</td>\n",
       "                        <td id=\"T_848be_row13_col5\" class=\"data row13 col5\" >0.348800</td>\n",
       "                        <td id=\"T_848be_row13_col6\" class=\"data row13 col6\" >0.587800</td>\n",
       "                        <td id=\"T_848be_row13_col7\" class=\"data row13 col7\" >False</td>\n",
       "            </tr>\n",
       "            <tr>\n",
       "                        <th id=\"T_848be_level0_row14\" class=\"row_heading level0 row14\" >49</th>\n",
       "                        <td id=\"T_848be_row14_col0\" class=\"data row14 col0\" >0.912700</td>\n",
       "                        <td id=\"T_848be_row14_col1\" class=\"data row14 col1\" >0.569700</td>\n",
       "                        <td id=\"T_848be_row14_col2\" class=\"data row14 col2\" >0.097100</td>\n",
       "                        <td id=\"T_848be_row14_col3\" class=\"data row14 col3\" >0.467200</td>\n",
       "                        <td id=\"T_848be_row14_col4\" class=\"data row14 col4\" >0.610000</td>\n",
       "                        <td id=\"T_848be_row14_col5\" class=\"data row14 col5\" >0.332700</td>\n",
       "                        <td id=\"T_848be_row14_col6\" class=\"data row14 col6\" >0.587600</td>\n",
       "                        <td id=\"T_848be_row14_col7\" class=\"data row14 col7\" >False</td>\n",
       "            </tr>\n",
       "    </tbody></table>"
      ],
      "text/plain": [
       "<pandas.io.formats.style.Styler at 0x7fc34133aa50>"
      ]
     },
     "execution_count": 85,
     "metadata": {},
     "output_type": "execute_result"
    }
   ],
   "source": [
    "df.reset_index().rename(columns={'index': 'Task'}).set_index('Task').loc[35:].style.background_gradient(low=df.min().min(), high=df.max().max(), axis=1)"
   ]
  }
 ],
 "metadata": {
  "@webio": {
   "lastCommId": null,
   "lastKernelId": null
  },
  "kernelspec": {
   "display_name": "Python 3",
   "language": "python",
   "name": "python3"
  },
  "language_info": {
   "codemirror_mode": {
    "name": "ipython",
    "version": 3
   },
   "file_extension": ".py",
   "mimetype": "text/x-python",
   "name": "python",
   "nbconvert_exporter": "python",
   "pygments_lexer": "ipython3",
   "version": "3.7.10"
  }
 },
 "nbformat": 4,
 "nbformat_minor": 2
}
