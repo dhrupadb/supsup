{
 "cells": [
  {
   "cell_type": "markdown",
   "metadata": {},
   "source": [
    "# Supermasks in Superposition: Training and Task Inference\n",
    "\n",
    "<img src=\"images/teaser_supsup.png\">"
   ]
  },
  {
   "cell_type": "code",
   "execution_count": 1,
   "metadata": {
    "tags": []
   },
   "outputs": [
    {
     "name": "stdout",
     "output_type": "stream",
     "text": [
      "Packages loaded\n"
     ]
    }
   ],
   "source": [
    "import torch\n",
    "import torch.optim as optim\n",
    "import torch.nn as nn\n",
    "import torch.autograd as autograd\n",
    "import torch.nn.functional as F\n",
    "\n",
    "import torchvision\n",
    "import numpy as np\n",
    "import math\n",
    "\n",
    "from tqdm.notebook import tqdm\n",
    "\n",
    "print(\"Packages loaded\")\n",
    "# note at edits"
   ]
  },
  {
   "cell_type": "code",
   "execution_count": 2,
   "metadata": {},
   "outputs": [
    {
     "data": {
      "text/html": [
       "<style>.container { width:100% !important; }</style>"
      ],
      "text/plain": [
       "<IPython.core.display.HTML object>"
      ]
     },
     "metadata": {},
     "output_type": "display_data"
    }
   ],
   "source": [
    "from IPython.core.display import display, HTML\n",
    "display(HTML(\"<style>.container { width:100% !important; }</style>\"))"
   ]
  },
  {
   "cell_type": "markdown",
   "metadata": {},
   "source": [
    "## Training\n",
    "\n",
    "We train our model using the procedure from \"What's Hidden in a Randomly Weighted Neural Network\" (Ramanujan et al. 2019). Below is a modification of the layers (using signed constant initialization) from this paper for our continual learning setup. As a deviation from this setup, we assume that an edge (u, v) is included in the subnetwork if its score is greater than 0, rather than use it's absolute magnitude to construct a threshold. "
   ]
  },
  {
   "cell_type": "code",
   "execution_count": 3,
   "metadata": {},
   "outputs": [],
   "source": [
    "# Subnetwork forward from hidden networks   \n",
    "class GetSubnet(autograd.Function):\n",
    "    @staticmethod\n",
    "    def forward(ctx, scores, k):\n",
    "        # Get the supermask by sorting the scores and using the top k%\n",
    "        out = scores.clone()\n",
    "        _, idx = scores.flatten().sort()\n",
    "        j = int((1 - k) * scores.numel())\n",
    "\n",
    "        # flat_out and out access the same memory.\n",
    "        flat_out = out.flatten()\n",
    "        flat_out[idx[:j]] = 0\n",
    "        flat_out[idx[j:]] = 1\n",
    "\n",
    "        return out\n",
    "\n",
    "    @staticmethod\n",
    "    def backward(ctx, g):\n",
    "        # send the gradient g straight-through on the backward pass.\n",
    "        return g, None\n",
    "\n",
    "def mask_init(module):\n",
    "    scores = torch.Tensor(module.weight.size())\n",
    "    nn.init.kaiming_uniform_(scores, a=math.sqrt(5))\n",
    "    return scores\n",
    "\n",
    "\n",
    "def signed_constant(module):\n",
    "    fan = nn.init._calculate_correct_fan(module.weight, 'fan_in')\n",
    "    gain = nn.init.calculate_gain('relu')\n",
    "    std = gain / math.sqrt(fan)\n",
    "    module.weight.data = module.weight.data.sign() * std\n",
    "\n",
    "\n",
    "class MultitaskMaskLinear(nn.Linear):\n",
    "    def __init__(self, *args, num_tasks=1, sparsity=0.5, **kwargs):\n",
    "        super().__init__(*args, **kwargs)\n",
    "        self.num_tasks = num_tasks\n",
    "        self.sparsity = sparsity\n",
    "        self.scores = nn.ParameterList(\n",
    "            [\n",
    "                nn.Parameter(mask_init(self))\n",
    "                for _ in range(num_tasks)\n",
    "            ]\n",
    "        )\n",
    "        \n",
    "        # Keep weights untrained\n",
    "        self.weight.requires_grad = False\n",
    "        signed_constant(self)\n",
    "    \n",
    "    @torch.no_grad()\n",
    "    def cache_masks(self):\n",
    "        self.register_buffer(\n",
    "            \"stacked\",\n",
    "            torch.stack(\n",
    "                [\n",
    "                    GetSubnet.apply(self.scores[j], self.sparsity)\n",
    "                    for j in range(self.num_tasks)\n",
    "                ]\n",
    "            ),\n",
    "        )\n",
    "\n",
    "    def forward(self, x):\n",
    "        if self.task < 0:\n",
    "            # Superimposed forward pass\n",
    "            alpha_weights = self.alphas[: self.num_tasks_learned]\n",
    "            idxs = (alpha_weights > 0).squeeze().view(self.num_tasks_learned)\n",
    "            if len(idxs.shape) == 0:\n",
    "                idxs = idxs.view(1)\n",
    "            subnet = (\n",
    "                alpha_weights[idxs]\n",
    "                * self.stacked[: self.num_tasks_learned][idxs]\n",
    "            ).sum(dim=0)\n",
    "        else:\n",
    "            # Subnet forward pass (given task info in self.task)\n",
    "            subnet = GetSubnet.apply(self.scores[self.task], self.sparsity)\n",
    "        w = self.weight * subnet\n",
    "        x = F.linear(x, w, self.bias)\n",
    "        return x\n",
    "\n",
    "\n",
    "    def __repr__(self):\n",
    "        return f\"MultitaskMaskLinear({self.shape()})\""
   ]
  },
  {
   "cell_type": "code",
   "execution_count": 4,
   "metadata": {},
   "outputs": [],
   "source": [
    "class BasisMultitaskMaskLinear(nn.Linear):\n",
    "    def __init__(self, *args, num_tasks=1, num_seed_tasks_learned=1, start_at_optimal=True, sparsity=0.5, **kwargs):\n",
    "        super().__init__(*args, **kwargs)\n",
    "        assert num_tasks >= num_seed_tasks_learned, \"Seed tasks cannot be more than total tasks!\"\n",
    "        self.num_tasks = num_tasks\n",
    "        self.num_seed_tasks_learned = num_seed_tasks_learned\n",
    "        self.sparsity = sparsity\n",
    "        self.scores = nn.ParameterList(\n",
    "            [\n",
    "                nn.Parameter(mask_init(self))\n",
    "                for _ in range(num_tasks)\n",
    "            ]\n",
    "        )\n",
    "        self.task = -1\n",
    "        \n",
    "        # Keep weights untrained\n",
    "        self.weight.requires_grad = False\n",
    "        for s in self.scores:\n",
    "            s.requires_grad = False\n",
    "        self.scores.requires_grad = False\n",
    "        if start_at_optimal:\n",
    "            self.basis_alphas = nn.ParameterList(\n",
    "                [\n",
    "                    nn.Parameter(torch.eye(self.num_seed_tasks_learned)[i])\n",
    "                    for i in range(self.num_seed_tasks_learned)\n",
    "                ]\n",
    "                +\n",
    "                [\n",
    "                    nn.Parameter(torch.ones(self.num_seed_tasks_learned)/self.num_seed_tasks_learned)\n",
    "                    for _ in range(self.num_seed_tasks_learned, self.num_tasks)\n",
    "                ]\n",
    "            )\n",
    "        else:\n",
    "            self.basis_alphas = nn.ParameterList(\n",
    "                [\n",
    "                    nn.Parameter(torch.ones(self.num_seed_tasks_learned)/self.num_seed_tasks_learned)\n",
    "                    for _ in range(self.num_tasks)\n",
    "                ]\n",
    "            )\n",
    "        \n",
    "        signed_constant(self)\n",
    "    \n",
    "    @torch.no_grad()\n",
    "    def cache_masks(self):\n",
    "        self.register_buffer(\n",
    "            \"stacked\",\n",
    "            torch.stack(\n",
    "                [\n",
    "                    GetSubnet.apply(self.scores[j], self.sparsity)\n",
    "                    for j in range(self.num_tasks)\n",
    "                ]\n",
    "            ),\n",
    "        )\n",
    "\n",
    "    def forward(self, x):\n",
    "        if self.task < 0:\n",
    "            raise NotImplemented(\"Need task identity at inference time.\")\n",
    "        else:\n",
    "            # Subnet forward pass (given task info in self.task)\n",
    "            subnet = self.stacked[: self.num_seed_tasks_learned][0]\n",
    "            task_alpha = self.basis_alphas[self.task]\n",
    "            w = self.weight * subnet * task_alpha[0]\n",
    "            for i in range(1, self.num_seed_tasks_learned):\n",
    "                subnet = self.stacked[: self.num_seed_tasks_learned][i]\n",
    "                w += self.weight * subnet * task_alpha[i]\n",
    "        x = F.linear(x, w, self.bias)\n",
    "        return x\n",
    "\n",
    "\n",
    "    def __repr__(self):\n",
    "        return f\"BasisMultitaskMaskLinear({self.shape()})\""
   ]
  },
  {
   "cell_type": "code",
   "execution_count": 5,
   "metadata": {},
   "outputs": [],
   "source": [
    "class BasisMultitaskMaskLinearFrozen(nn.Linear):\n",
    "    def __init__(self, *args, num_tasks=1, num_seed_tasks_learned=1, start_at_optimal=True, sparsity=0.5, **kwargs):\n",
    "        super().__init__(*args, **kwargs)\n",
    "        assert num_tasks >= num_seed_tasks_learned, \"Seed tasks cannot be more than total tasks!\"\n",
    "        self.num_tasks = num_tasks\n",
    "        self.sparsity = sparsity\n",
    "        self.num_seed_tasks_learned = num_seed_tasks_learned\n",
    "        self.scores = nn.ParameterList(\n",
    "            [\n",
    "                nn.Parameter(mask_init(self))\n",
    "                for _ in range(num_tasks)\n",
    "            ]\n",
    "        )\n",
    "        self.task = -1\n",
    "        \n",
    "        # Keep weights untrained\n",
    "        self.weight.requires_grad = False\n",
    "        for s in self.scores:\n",
    "            s.requires_grad = False\n",
    "        self.scores.requires_grad = False\n",
    "        if start_at_optimal:\n",
    "            self.basis_alphas = nn.ParameterList(\n",
    "                [\n",
    "                    nn.Parameter(torch.eye(self.num_seed_tasks_learned)[i])\n",
    "                    for i in range(self.num_seed_tasks_learned)\n",
    "                ]\n",
    "                +\n",
    "                [\n",
    "                    nn.Parameter(torch.ones(self.num_seed_tasks_learned)/self.num_seed_tasks_learned)\n",
    "                    for _ in range(self.num_seed_tasks_learned, self.num_tasks)\n",
    "                ]\n",
    "            )\n",
    "        else:\n",
    "            self.basis_alphas = nn.ParameterList(\n",
    "                [\n",
    "                    nn.Parameter(torch.ones(self.num_seed_tasks_learned)/self.num_seed_tasks_learned)\n",
    "                    for _ in range(self.num_tasks)\n",
    "                ]\n",
    "            )\n",
    "        for a in self.basis_alphas:\n",
    "            a.requires_grad = False\n",
    "        self.basis_alphas.requires_grad = False\n",
    "        \n",
    "        signed_constant(self)\n",
    "    \n",
    "    @torch.no_grad()\n",
    "    def cache_masks(self):\n",
    "        self.register_buffer(\n",
    "            \"stacked\",\n",
    "            torch.stack(\n",
    "                [\n",
    "                    GetSubnet.apply(self.scores[j], self.sparsity)\n",
    "                    for j in range(self.num_tasks)\n",
    "                ]\n",
    "            ),\n",
    "        )\n",
    "\n",
    "    def forward(self, x):\n",
    "        if self.task < 0:\n",
    "            raise NotImplemented(\"Need task identity at inference time.\")\n",
    "        else:\n",
    "            # Subnet forward pass (given task info in self.task)\n",
    "            subnet = self.stacked[: self.num_seed_tasks_learned][0]\n",
    "            task_alpha = self.basis_alphas[self.task]\n",
    "            w = self.weight * subnet * task_alpha[0]\n",
    "            for i in range(1, self.num_seed_tasks_learned):\n",
    "                subnet = self.stacked[: self.num_seed_tasks_learned][i]\n",
    "                w += self.weight * subnet * task_alpha[i]\n",
    "        x = F.linear(x, w, self.bias)\n",
    "        return x\n",
    "\n",
    "\n",
    "    def __repr__(self):\n",
    "        return f\"BasisMultitaskMaskLinearFrozen({self.shape()})\""
   ]
  },
  {
   "cell_type": "code",
   "execution_count": 6,
   "metadata": {},
   "outputs": [],
   "source": [
    "ValidConvs = [\n",
    "    MultitaskMaskLinear,\n",
    "    BasisMultitaskMaskLinear,\n",
    "    BasisMultitaskMaskLinearFrozen,\n",
    "]\n",
    "\n",
    "def isoftype(m, cls_lst):\n",
    "    return any([isinstance(m, c) for c in cls_lst])"
   ]
  },
  {
   "cell_type": "code",
   "execution_count": 7,
   "metadata": {},
   "outputs": [],
   "source": [
    "# Utility functions\n",
    "def set_model_task(model, task, verbose=True):\n",
    "    for n, m in model.named_modules():\n",
    "        if isoftype(m, ValidConvs):\n",
    "            if verbose:\n",
    "                print(f\"=> Set task of {n} to {task}\")\n",
    "            m.task = task\n",
    "\n",
    "def cache_masks(model):\n",
    "    for n, m in model.named_modules():\n",
    "        if isoftype(m, ValidConvs):\n",
    "            print(f\"=> Caching mask state for {n}\")\n",
    "            m.cache_masks()\n",
    "\n",
    "def set_num_tasks_learned(model, num_tasks_learned):\n",
    "    for n, m in model.named_modules():\n",
    "        if isoftype(m, ValidConvs):\n",
    "            print(f\"=> Setting learned tasks of {n} to {num_tasks_learned}\")\n",
    "            m.num_tasks_learned = num_tasks_learned\n",
    "\n",
    "def set_alphas(model, alphas, verbose=True):\n",
    "    for n, m in model.named_modules():\n",
    "        if isoftype(m, ValidConvs):\n",
    "            if verbose:\n",
    "                print(f\"=> Setting alphas for {n}\")\n",
    "            m.alphas = alphas"
   ]
  },
  {
   "cell_type": "markdown",
   "metadata": {},
   "source": [
    "## Model\n",
    "\n",
    "For simplicity we use a simple 3-layer fully connected neural network. Note that you can make any neural by replacing a standard layer with its corresponding mask layer."
   ]
  },
  {
   "cell_type": "code",
   "execution_count": 8,
   "metadata": {},
   "outputs": [],
   "source": [
    "# Multitask Model, a simple fully connected model in this case\n",
    "class MultitaskFC(nn.Module):\n",
    "    def __init__(self, hidden_size, num_tasks, sparsity):\n",
    "        super().__init__()\n",
    "        self.model = nn.Sequential(\n",
    "            MultitaskMaskLinear(\n",
    "                784,\n",
    "                hidden_size,\n",
    "                num_tasks=num_tasks,\n",
    "                sparsity=sparsity,\n",
    "                bias=False\n",
    "            ),\n",
    "            nn.ReLU(),\n",
    "            MultitaskMaskLinear(\n",
    "                hidden_size,\n",
    "                hidden_size,\n",
    "                num_tasks=num_tasks,\n",
    "                sparsity=sparsity,\n",
    "                bias=False\n",
    "            ),\n",
    "            nn.ReLU(),\n",
    "            MultitaskMaskLinear(\n",
    "                hidden_size,\n",
    "                100,\n",
    "                num_tasks=num_tasks,\n",
    "                sparsity=sparsity,\n",
    "                bias=False\n",
    "            )\n",
    "        )\n",
    "    \n",
    "    def forward(self, x):\n",
    "        return self.model(x.flatten(1))"
   ]
  },
  {
   "cell_type": "code",
   "execution_count": 9,
   "metadata": {},
   "outputs": [],
   "source": [
    "# Multitask Model, a simple fully connected model in this case\n",
    "class BasisMultitaskFC(nn.Module):\n",
    "    def __init__(self, hidden_size, num_tasks, num_seed_tasks_learned, sparsity, start_at_optimal=True):\n",
    "        super().__init__()\n",
    "        self.model = nn.Sequential(\n",
    "            BasisMultitaskMaskLinear(\n",
    "                784,\n",
    "                hidden_size,\n",
    "                num_tasks=num_tasks,\n",
    "                num_seed_tasks_learned=num_seed_tasks_learned,\n",
    "                start_at_optimal=start_at_optimal,\n",
    "                sparsity=sparsity,\n",
    "                bias=False\n",
    "            ),\n",
    "            nn.ReLU(),\n",
    "            BasisMultitaskMaskLinear(\n",
    "                hidden_size,\n",
    "                hidden_size,\n",
    "                num_tasks=num_tasks,\n",
    "                num_seed_tasks_learned=num_seed_tasks_learned,\n",
    "                start_at_optimal=start_at_optimal,\n",
    "                sparsity=sparsity,\n",
    "                bias=False\n",
    "            ),\n",
    "            nn.ReLU(),\n",
    "            BasisMultitaskMaskLinear(\n",
    "                hidden_size,\n",
    "                100,\n",
    "                num_tasks=num_tasks,\n",
    "                num_seed_tasks_learned=num_seed_tasks_learned,\n",
    "                start_at_optimal=start_at_optimal,\n",
    "                sparsity=sparsity,\n",
    "                bias=False\n",
    "            )\n",
    "        )\n",
    "    \n",
    "    def forward(self, x):\n",
    "        return self.model(x.flatten(1))"
   ]
  },
  {
   "cell_type": "code",
   "execution_count": 10,
   "metadata": {},
   "outputs": [],
   "source": [
    "class BasisHiddenOnlyMultitaskFC(nn.Module):\n",
    "    def __init__(self, hidden_size, num_tasks, num_seed_tasks_learned, sparsity, start_at_optimal=True):\n",
    "        super().__init__()\n",
    "        self.model = nn.Sequential(\n",
    "            BasisMultitaskMaskLinear(\n",
    "                784,\n",
    "                hidden_size,\n",
    "                num_tasks=num_tasks,\n",
    "                num_seed_tasks_learned=num_seed_tasks_learned,\n",
    "                start_at_optimal=start_at_optimal,\n",
    "                sparsity=sparsity,\n",
    "                bias=False\n",
    "            ),\n",
    "            nn.ReLU(),\n",
    "            BasisMultitaskMaskLinear(\n",
    "                hidden_size,\n",
    "                hidden_size,\n",
    "                num_tasks=num_tasks,\n",
    "                num_seed_tasks_learned=num_seed_tasks_learned,\n",
    "                start_at_optimal=start_at_optimal,\n",
    "                sparsity=sparsity,\n",
    "                bias=False\n",
    "            ),\n",
    "            nn.ReLU(),\n",
    "            MultitaskMaskLinear(\n",
    "                hidden_size,\n",
    "                100,\n",
    "                num_tasks=num_tasks,\n",
    "                sparsity=sparsity,\n",
    "                bias=False\n",
    "            )\n",
    "        )\n",
    "    \n",
    "    def forward(self, x):\n",
    "        return self.model(x.flatten(1))"
   ]
  },
  {
   "cell_type": "code",
   "execution_count": 11,
   "metadata": {},
   "outputs": [],
   "source": [
    "class BasisHiddenOnlyFrozenMultitaskFC(nn.Module):\n",
    "    def __init__(self, hidden_size, num_tasks, num_seed_tasks_learned, sparsity, start_at_optimal=True):\n",
    "        super().__init__()\n",
    "        self.model = nn.Sequential(\n",
    "            BasisMultitaskMaskLinearFrozen(\n",
    "                784,\n",
    "                hidden_size,\n",
    "                num_tasks=num_tasks,\n",
    "                num_seed_tasks_learned=num_seed_tasks_learned,\n",
    "                start_at_optimal=start_at_optimal,\n",
    "                sparsity=sparsity,\n",
    "                bias=False\n",
    "            ),\n",
    "            nn.ReLU(),\n",
    "            BasisMultitaskMaskLinearFrozen(\n",
    "                hidden_size,\n",
    "                hidden_size,\n",
    "                num_tasks=num_tasks,\n",
    "                num_seed_tasks_learned=num_seed_tasks_learned,\n",
    "                start_at_optimal=start_at_optimal,\n",
    "                sparsity=sparsity,\n",
    "                bias=False\n",
    "            ),\n",
    "            nn.ReLU(),\n",
    "            MultitaskMaskLinear(\n",
    "                hidden_size,\n",
    "                100,\n",
    "                num_tasks=num_tasks,\n",
    "                sparsity=sparsity,\n",
    "                bias=False\n",
    "            )\n",
    "        )\n",
    "    \n",
    "    def forward(self, x):\n",
    "        return self.model(x.flatten(1))"
   ]
  },
  {
   "cell_type": "markdown",
   "metadata": {},
   "source": [
    "## Dataset \n",
    "\n",
    "Our \"base\" dataset is MNIST. Each task is a random permutation of the pixels of MNIST. Namely, given a dataset $\\{(x_i, y_i)\\}_i$ for each task $t$, we take a random permutation $S^t\\in S_{784}$ and construct a dataset $\\{(S^t(x_i), y_i)\\}_i$. \n",
    "\n",
    "Below we show this process and an example of a particular task. `MNISTPerm` uses an update task method to generate a particular sub-task. To assure these splits are reproducible, `MNISTPerm` takes a `seed` argument. In our paper we evaluate on seeds 0 through 4."
   ]
  },
  {
   "cell_type": "code",
   "execution_count": 12,
   "metadata": {
    "scrolled": true,
    "tags": []
   },
   "outputs": [
    {
     "data": {
      "image/png": "[encoded data removed]",
      "text/plain": [
       "<PIL.Image.Image image mode=RGB size=493x269 at 0x7FC34DD67A90>"
      ]
     },
     "execution_count": 12,
     "metadata": {},
     "output_type": "execute_result"
    }
   ],
   "source": [
    "class MNISTPerm:\n",
    "    class permute(object):\n",
    "        def __call__(self, tensor):\n",
    "            out = tensor.flatten()\n",
    "            out = out[self.perm]\n",
    "            return out.view(1, 28, 28)\n",
    "\n",
    "        def __repr__(self):\n",
    "            return self.__class__.__name__\n",
    "\n",
    "    def __init__(self, seed=0):\n",
    "        super(MNISTPerm, self).__init__()\n",
    "        \n",
    "        data_root = \"mnist\"\n",
    "        self.permuter = self.permute()\n",
    "        self.seed = seed\n",
    "        train_dataset = torchvision.datasets.MNIST(\n",
    "            data_root,\n",
    "            train=True,\n",
    "            download=True,\n",
    "            transform=torchvision.transforms.Compose(\n",
    "                [\n",
    "                    torchvision.transforms.ToTensor(),\n",
    "                    torchvision.transforms.Normalize((0.1307,), (0.3081,)),\n",
    "                    self.permuter,\n",
    "                ]\n",
    "            ),\n",
    "        )\n",
    "\n",
    "        # Data loading code\n",
    "        self.train_loader = torch.utils.data.DataLoader(\n",
    "            train_dataset, batch_size=128, shuffle=True\n",
    "        )\n",
    "        self.val_loader = torch.utils.data.DataLoader(\n",
    "            torchvision.datasets.MNIST(\n",
    "                data_root,\n",
    "                train=False,\n",
    "                transform=torchvision.transforms.Compose(\n",
    "                    [\n",
    "                        torchvision.transforms.ToTensor(),\n",
    "                        torchvision.transforms.Normalize((0.1307,), (0.3081,)),\n",
    "                        self.permuter,\n",
    "                    ]\n",
    "                ),\n",
    "            ),\n",
    "            batch_size=128,\n",
    "            shuffle=False,\n",
    "        )\n",
    "\n",
    "    def update_task(self, i):\n",
    "        np.random.seed(i + self.seed)\n",
    "        self.permuter.__setattr__(\"perm\", np.random.permutation(784))\n",
    "    \n",
    "    def unpermute(self):\n",
    "        self.permuter.__setattr__(\"perm\", np.arange(784))\n",
    "\n",
    "mnist = MNISTPerm()\n",
    "\n",
    "# Showing some example images from MNISTPerm\n",
    "mnist.unpermute()\n",
    "batch, labels = next(iter(mnist.val_loader))\n",
    "\n",
    "mnist.update_task(0)\n",
    "task0, labels = next(iter(mnist.val_loader))\n",
    "\n",
    "torchvision.transforms.ToPILImage()(\n",
    "    torchvision.utils.make_grid(\n",
    "        torch.cat([batch, task0], dim=-1)[:64],\n",
    "        normalize=True,\n",
    "        padding=5,\n",
    "        pad_value=0.2\n",
    "    )\n",
    ")"
   ]
  },
  {
   "cell_type": "markdown",
   "metadata": {},
   "source": [
    "### Simple train and evaluation loops for classification"
   ]
  },
  {
   "cell_type": "code",
   "execution_count": 13,
   "metadata": {},
   "outputs": [],
   "source": [
    "# Finding supermasks per task\n",
    "\n",
    "def train(model, trainloader, optimizer, epoch):\n",
    "    model.train()\n",
    "\n",
    "    criterion = nn.CrossEntropyLoss()\n",
    "    num_correct = 0\n",
    "    total_seen = 0\n",
    "    for i, (batch, labels) in tqdm(\n",
    "        enumerate(trainloader),\n",
    "        ascii=True,\n",
    "        total=len(trainloader)\n",
    "    ):\n",
    "        logits = model(batch)\n",
    "        loss = criterion(logits, labels)\n",
    "\n",
    "        optimizer.zero_grad()\n",
    "        loss.backward()\n",
    "        optimizer.step()\n",
    "\n",
    "        if i % 20 == 0:\n",
    "            predictions = logits.argmax(dim=-1)\n",
    "            num_correct += (predictions == labels).float().sum()\n",
    "            total_seen += logits.size(0) \n",
    "            tqdm.write(\n",
    "                (f\"e{epoch} {i+1}/{len(trainloader)}\"\n",
    "                f\" => Loss {loss.item():0.4f}, \"\n",
    "                f\"Acc@1 {(num_correct / total_seen):0.4f}\"),\n",
    "                end=\"\\r\"\n",
    "            )\n",
    "\n",
    "\n",
    "@torch.no_grad()\n",
    "def evaluate(model, val_loader, epoch):\n",
    "    model.eval()\n",
    "    num_correct = 0\n",
    "    total_seen = 0\n",
    "    for batch, labels in tqdm(\n",
    "        val_loader,\n",
    "        ascii=True,\n",
    "        total=len(val_loader)\n",
    "    ):\n",
    "        logits = model(batch)\n",
    "        predictions = logits.argmax(dim=-1)\n",
    "        num_correct += (predictions == labels).float().sum()\n",
    "        total_seen += logits.size(0) \n",
    "    \n",
    "\n",
    "    tqdm.write(\n",
    "        f\"Val Perf after {epoch + 1} epochs \"\n",
    "        f\"Acc@1 {(num_correct / total_seen):0.4f}\", \n",
    "    )\n",
    "    return num_correct / total_seen\n",
    "\n"
   ]
  },
  {
   "cell_type": "markdown",
   "metadata": {},
   "source": [
    "For any scenario where task ID is given during train time, we simply train each supermask independently, one per task. We make use of our utility function `set_model_task` to do this. We use 5 tasks for demonstration purposes. Feel free to increase `num_tasks` in the following cell. In our paper we use as many as 2500 tasks with no drop in performance for either task inference or validation accuracy."
   ]
  },
  {
   "cell_type": "code",
   "execution_count": 14,
   "metadata": {},
   "outputs": [],
   "source": [
    "performance_map = {}"
   ]
  },
  {
   "cell_type": "code",
   "execution_count": 15,
   "metadata": {
    "scrolled": true
   },
   "outputs": [
    {
     "name": "stdout",
     "output_type": "stream",
     "text": [
      "Training for task 0\n",
      "=> Set task of model.0 to 0\n",
      "=> Set task of model.2 to 0\n",
      "=> Set task of model.4 to 0\n"
     ]
    },
    {
     "data": {
      "application/vnd.jupyter.widget-view+json": {
       "model_id": "6232d93035434b3185c7e549a92db491",
       "version_major": 2,
       "version_minor": 0
      },
      "text/plain": [
       "  0%|          | 0/469 [00:00<?, ?it/s]"
      ]
     },
     "metadata": {},
     "output_type": "display_data"
    },
    {
     "name": "stdout",
     "output_type": "stream",
     "text": [
      "Validation => Loss 0.3245, Acc@1 0.8503\n",
      "============\n"
     ]
    },
    {
     "data": {
      "application/vnd.jupyter.widget-view+json": {
       "model_id": "a6cc8fac99f14753b6e0e9e0f5dbee91",
       "version_major": 2,
       "version_minor": 0
      },
      "text/plain": [
       "  0%|          | 0/79 [00:00<?, ?it/s]"
      ]
     },
     "metadata": {},
     "output_type": "display_data"
    },
    {
     "name": "stdout",
     "output_type": "stream",
     "text": [
      "Val Perf after 1 epochs Acc@1 0.9123\n",
      "=> Caching mask state for model.0\n",
      "=> Caching mask state for model.2\n",
      "=> Caching mask state for model.4\n",
      "\n",
      "=> Setting learned tasks of model.0 to 1\n",
      "=> Setting learned tasks of model.2 to 1\n",
      "=> Setting learned tasks of model.4 to 1\n",
      "\n",
      "Training for task 1\n",
      "=> Set task of model.0 to 1\n",
      "=> Set task of model.2 to 1\n",
      "=> Set task of model.4 to 1\n"
     ]
    },
    {
     "data": {
      "application/vnd.jupyter.widget-view+json": {
       "model_id": "65b0cdeeeada4c6d93b480cebaf423d1",
       "version_major": 2,
       "version_minor": 0
      },
      "text/plain": [
       "  0%|          | 0/469 [00:00<?, ?it/s]"
      ]
     },
     "metadata": {},
     "output_type": "display_data"
    },
    {
     "name": "stdout",
     "output_type": "stream",
     "text": [
      "Validation => Loss 0.3080, Acc@1 0.8350\n",
      "============\n"
     ]
    },
    {
     "data": {
      "application/vnd.jupyter.widget-view+json": {
       "model_id": "1b683c462bf24045a333ee76d65cc8ec",
       "version_major": 2,
       "version_minor": 0
      },
      "text/plain": [
       "  0%|          | 0/79 [00:00<?, ?it/s]"
      ]
     },
     "metadata": {},
     "output_type": "display_data"
    },
    {
     "name": "stdout",
     "output_type": "stream",
     "text": [
      "Val Perf after 1 epochs Acc@1 0.9123\n",
      "=> Caching mask state for model.0\n",
      "=> Caching mask state for model.2\n",
      "=> Caching mask state for model.4\n",
      "\n",
      "=> Setting learned tasks of model.0 to 2\n",
      "=> Setting learned tasks of model.2 to 2\n",
      "=> Setting learned tasks of model.4 to 2\n",
      "\n",
      "Training for task 2\n",
      "=> Set task of model.0 to 2\n",
      "=> Set task of model.2 to 2\n",
      "=> Set task of model.4 to 2\n"
     ]
    },
    {
     "data": {
      "application/vnd.jupyter.widget-view+json": {
       "model_id": "c4150fd6153a425b9122f4c098af3ee5",
       "version_major": 2,
       "version_minor": 0
      },
      "text/plain": [
       "  0%|          | 0/469 [00:00<?, ?it/s]"
      ]
     },
     "metadata": {},
     "output_type": "display_data"
    },
    {
     "name": "stdout",
     "output_type": "stream",
     "text": [
      "Validation => Loss 0.3267, Acc@1 0.8408\n",
      "============\n"
     ]
    },
    {
     "data": {
      "application/vnd.jupyter.widget-view+json": {
       "model_id": "d6a1869d4a8846e5938196efd2353d06",
       "version_major": 2,
       "version_minor": 0
      },
      "text/plain": [
       "  0%|          | 0/79 [00:00<?, ?it/s]"
      ]
     },
     "metadata": {},
     "output_type": "display_data"
    },
    {
     "name": "stdout",
     "output_type": "stream",
     "text": [
      "Val Perf after 1 epochs Acc@1 0.9141\n",
      "=> Caching mask state for model.0\n",
      "=> Caching mask state for model.2\n",
      "=> Caching mask state for model.4\n",
      "\n",
      "=> Setting learned tasks of model.0 to 3\n",
      "=> Setting learned tasks of model.2 to 3\n",
      "=> Setting learned tasks of model.4 to 3\n",
      "\n",
      "Training for task 3\n",
      "=> Set task of model.0 to 3\n",
      "=> Set task of model.2 to 3\n",
      "=> Set task of model.4 to 3\n"
     ]
    },
    {
     "data": {
      "application/vnd.jupyter.widget-view+json": {
       "model_id": "17a8aa86826648d79a49b2189ff452a5",
       "version_major": 2,
       "version_minor": 0
      },
      "text/plain": [
       "  0%|          | 0/469 [00:00<?, ?it/s]"
      ]
     },
     "metadata": {},
     "output_type": "display_data"
    },
    {
     "name": "stdout",
     "output_type": "stream",
     "text": [
      "Validation => Loss 0.3086, Acc@1 0.8369\n",
      "============\n"
     ]
    },
    {
     "data": {
      "application/vnd.jupyter.widget-view+json": {
       "model_id": "420b712a2d4a4dc58e76963c8ad03a97",
       "version_major": 2,
       "version_minor": 0
      },
      "text/plain": [
       "  0%|          | 0/79 [00:00<?, ?it/s]"
      ]
     },
     "metadata": {},
     "output_type": "display_data"
    },
    {
     "name": "stdout",
     "output_type": "stream",
     "text": [
      "Val Perf after 1 epochs Acc@1 0.9144\n",
      "=> Caching mask state for model.0\n",
      "=> Caching mask state for model.2\n",
      "=> Caching mask state for model.4\n",
      "\n",
      "=> Setting learned tasks of model.0 to 4\n",
      "=> Setting learned tasks of model.2 to 4\n",
      "=> Setting learned tasks of model.4 to 4\n",
      "\n",
      "Training for task 4\n",
      "=> Set task of model.0 to 4\n",
      "=> Set task of model.2 to 4\n",
      "=> Set task of model.4 to 4\n"
     ]
    },
    {
     "data": {
      "application/vnd.jupyter.widget-view+json": {
       "model_id": "c1a56f2b322f4a20861c177e0788218c",
       "version_major": 2,
       "version_minor": 0
      },
      "text/plain": [
       "  0%|          | 0/469 [00:00<?, ?it/s]"
      ]
     },
     "metadata": {},
     "output_type": "display_data"
    },
    {
     "name": "stdout",
     "output_type": "stream",
     "text": [
      "Validation => Loss 0.2680, Acc@1 0.8392\n",
      "============\n"
     ]
    },
    {
     "data": {
      "application/vnd.jupyter.widget-view+json": {
       "model_id": "6b8f25a76c11418aab22b5f05e45bb9d",
       "version_major": 2,
       "version_minor": 0
      },
      "text/plain": [
       "  0%|          | 0/79 [00:00<?, ?it/s]"
      ]
     },
     "metadata": {},
     "output_type": "display_data"
    },
    {
     "name": "stdout",
     "output_type": "stream",
     "text": [
      "Val Perf after 1 epochs Acc@1 0.9112\n",
      "=> Caching mask state for model.0\n",
      "=> Caching mask state for model.2\n",
      "=> Caching mask state for model.4\n",
      "\n",
      "=> Setting learned tasks of model.0 to 5\n",
      "=> Setting learned tasks of model.2 to 5\n",
      "=> Setting learned tasks of model.4 to 5\n",
      "\n",
      "Training for task 5\n",
      "=> Set task of model.0 to 5\n",
      "=> Set task of model.2 to 5\n",
      "=> Set task of model.4 to 5\n"
     ]
    },
    {
     "data": {
      "application/vnd.jupyter.widget-view+json": {
       "model_id": "cd9b209433a84534bc72ccf581f53938",
       "version_major": 2,
       "version_minor": 0
      },
      "text/plain": [
       "  0%|          | 0/469 [00:00<?, ?it/s]"
      ]
     },
     "metadata": {},
     "output_type": "display_data"
    },
    {
     "name": "stdout",
     "output_type": "stream",
     "text": [
      "Validation => Loss 0.3552, Acc@1 0.8206\n",
      "============\n"
     ]
    },
    {
     "data": {
      "application/vnd.jupyter.widget-view+json": {
       "model_id": "432a4269abbb491a92b98d9c90eb839a",
       "version_major": 2,
       "version_minor": 0
      },
      "text/plain": [
       "  0%|          | 0/79 [00:00<?, ?it/s]"
      ]
     },
     "metadata": {},
     "output_type": "display_data"
    },
    {
     "name": "stdout",
     "output_type": "stream",
     "text": [
      "Val Perf after 1 epochs Acc@1 0.9153\n",
      "=> Caching mask state for model.0\n",
      "=> Caching mask state for model.2\n",
      "=> Caching mask state for model.4\n",
      "\n",
      "=> Setting learned tasks of model.0 to 6\n",
      "=> Setting learned tasks of model.2 to 6\n",
      "=> Setting learned tasks of model.4 to 6\n",
      "\n",
      "Training for task 6\n",
      "=> Set task of model.0 to 6\n",
      "=> Set task of model.2 to 6\n",
      "=> Set task of model.4 to 6\n"
     ]
    },
    {
     "data": {
      "application/vnd.jupyter.widget-view+json": {
       "model_id": "57040ff235f84570a699606489cb09b1",
       "version_major": 2,
       "version_minor": 0
      },
      "text/plain": [
       "  0%|          | 0/469 [00:00<?, ?it/s]"
      ]
     },
     "metadata": {},
     "output_type": "display_data"
    },
    {
     "name": "stdout",
     "output_type": "stream",
     "text": [
      "Validation => Loss 0.3098, Acc@1 0.8379\n",
      "============\n"
     ]
    },
    {
     "data": {
      "application/vnd.jupyter.widget-view+json": {
       "model_id": "02b1e2f9948e4658b8e9754fd5e187e4",
       "version_major": 2,
       "version_minor": 0
      },
      "text/plain": [
       "  0%|          | 0/79 [00:00<?, ?it/s]"
      ]
     },
     "metadata": {},
     "output_type": "display_data"
    },
    {
     "name": "stdout",
     "output_type": "stream",
     "text": [
      "Val Perf after 1 epochs Acc@1 0.9124\n",
      "=> Caching mask state for model.0\n",
      "=> Caching mask state for model.2\n",
      "=> Caching mask state for model.4\n",
      "\n",
      "=> Setting learned tasks of model.0 to 7\n",
      "=> Setting learned tasks of model.2 to 7\n",
      "=> Setting learned tasks of model.4 to 7\n",
      "\n",
      "Training for task 7\n",
      "=> Set task of model.0 to 7\n",
      "=> Set task of model.2 to 7\n",
      "=> Set task of model.4 to 7\n"
     ]
    },
    {
     "data": {
      "application/vnd.jupyter.widget-view+json": {
       "model_id": "9770bdcf41064314af8913be886774d3",
       "version_major": 2,
       "version_minor": 0
      },
      "text/plain": [
       "  0%|          | 0/469 [00:00<?, ?it/s]"
      ]
     },
     "metadata": {},
     "output_type": "display_data"
    },
    {
     "name": "stdout",
     "output_type": "stream",
     "text": [
      "Validation => Loss 0.2037, Acc@1 0.8356\n",
      "============\n"
     ]
    },
    {
     "data": {
      "application/vnd.jupyter.widget-view+json": {
       "model_id": "3567286d2d244262bbea3f96e0e5fa4b",
       "version_major": 2,
       "version_minor": 0
      },
      "text/plain": [
       "  0%|          | 0/79 [00:00<?, ?it/s]"
      ]
     },
     "metadata": {},
     "output_type": "display_data"
    },
    {
     "name": "stdout",
     "output_type": "stream",
     "text": [
      "Val Perf after 1 epochs Acc@1 0.9112\n",
      "=> Caching mask state for model.0\n",
      "=> Caching mask state for model.2\n",
      "=> Caching mask state for model.4\n",
      "\n",
      "=> Setting learned tasks of model.0 to 8\n",
      "=> Setting learned tasks of model.2 to 8\n",
      "=> Setting learned tasks of model.4 to 8\n",
      "\n",
      "Training for task 8\n",
      "=> Set task of model.0 to 8\n",
      "=> Set task of model.2 to 8\n",
      "=> Set task of model.4 to 8\n"
     ]
    },
    {
     "data": {
      "application/vnd.jupyter.widget-view+json": {
       "model_id": "c09d105144334465a11b9349493f5320",
       "version_major": 2,
       "version_minor": 0
      },
      "text/plain": [
       "  0%|          | 0/469 [00:00<?, ?it/s]"
      ]
     },
     "metadata": {},
     "output_type": "display_data"
    },
    {
     "name": "stdout",
     "output_type": "stream",
     "text": [
      "Validation => Loss 0.3045, Acc@1 0.8467\n",
      "============\n"
     ]
    },
    {
     "data": {
      "application/vnd.jupyter.widget-view+json": {
       "model_id": "a9a3acbddc98403790be7696607bea82",
       "version_major": 2,
       "version_minor": 0
      },
      "text/plain": [
       "  0%|          | 0/79 [00:00<?, ?it/s]"
      ]
     },
     "metadata": {},
     "output_type": "display_data"
    },
    {
     "name": "stdout",
     "output_type": "stream",
     "text": [
      "Val Perf after 1 epochs Acc@1 0.9154\n",
      "=> Caching mask state for model.0\n",
      "=> Caching mask state for model.2\n",
      "=> Caching mask state for model.4\n",
      "\n",
      "=> Setting learned tasks of model.0 to 9\n",
      "=> Setting learned tasks of model.2 to 9\n",
      "=> Setting learned tasks of model.4 to 9\n",
      "\n",
      "Training for task 9\n",
      "=> Set task of model.0 to 9\n",
      "=> Set task of model.2 to 9\n",
      "=> Set task of model.4 to 9\n"
     ]
    },
    {
     "data": {
      "application/vnd.jupyter.widget-view+json": {
       "model_id": "353a8dc37e1448bda101f0c16debb2c3",
       "version_major": 2,
       "version_minor": 0
      },
      "text/plain": [
       "  0%|          | 0/469 [00:00<?, ?it/s]"
      ]
     },
     "metadata": {},
     "output_type": "display_data"
    },
    {
     "name": "stdout",
     "output_type": "stream",
     "text": [
      "Validation => Loss 0.3043, Acc@1 0.8395\n",
      "============\n"
     ]
    },
    {
     "data": {
      "application/vnd.jupyter.widget-view+json": {
       "model_id": "d06492f5973348aa8f8e158f672428ea",
       "version_major": 2,
       "version_minor": 0
      },
      "text/plain": [
       "  0%|          | 0/79 [00:00<?, ?it/s]"
      ]
     },
     "metadata": {},
     "output_type": "display_data"
    },
    {
     "name": "stdout",
     "output_type": "stream",
     "text": [
      "Val Perf after 1 epochs Acc@1 0.9143\n",
      "=> Caching mask state for model.0\n",
      "=> Caching mask state for model.2\n",
      "=> Caching mask state for model.4\n",
      "\n",
      "=> Setting learned tasks of model.0 to 10\n",
      "=> Setting learned tasks of model.2 to 10\n",
      "=> Setting learned tasks of model.4 to 10\n",
      "\n",
      "Training for task 10\n",
      "=> Set task of model.0 to 10\n",
      "=> Set task of model.2 to 10\n",
      "=> Set task of model.4 to 10\n"
     ]
    },
    {
     "data": {
      "application/vnd.jupyter.widget-view+json": {
       "model_id": "6b41245572814ff69ee551042afb22d8",
       "version_major": 2,
       "version_minor": 0
      },
      "text/plain": [
       "  0%|          | 0/469 [00:00<?, ?it/s]"
      ]
     },
     "metadata": {},
     "output_type": "display_data"
    },
    {
     "name": "stdout",
     "output_type": "stream",
     "text": [
      "Validation => Loss 0.2701, Acc@1 0.8340\n",
      "============\n"
     ]
    },
    {
     "data": {
      "application/vnd.jupyter.widget-view+json": {
       "model_id": "fd4b9a4cadd5451eb5e39ab76ea3daa0",
       "version_major": 2,
       "version_minor": 0
      },
      "text/plain": [
       "  0%|          | 0/79 [00:00<?, ?it/s]"
      ]
     },
     "metadata": {},
     "output_type": "display_data"
    },
    {
     "name": "stdout",
     "output_type": "stream",
     "text": [
      "Val Perf after 1 epochs Acc@1 0.9144\n",
      "=> Caching mask state for model.0\n",
      "=> Caching mask state for model.2\n",
      "=> Caching mask state for model.4\n",
      "\n",
      "=> Setting learned tasks of model.0 to 11\n",
      "=> Setting learned tasks of model.2 to 11\n",
      "=> Setting learned tasks of model.4 to 11\n",
      "\n",
      "Training for task 11\n",
      "=> Set task of model.0 to 11\n",
      "=> Set task of model.2 to 11\n",
      "=> Set task of model.4 to 11\n"
     ]
    },
    {
     "data": {
      "application/vnd.jupyter.widget-view+json": {
       "model_id": "52c2a4f4016d4bdbbf7b905df3029702",
       "version_major": 2,
       "version_minor": 0
      },
      "text/plain": [
       "  0%|          | 0/469 [00:00<?, ?it/s]"
      ]
     },
     "metadata": {},
     "output_type": "display_data"
    },
    {
     "name": "stdout",
     "output_type": "stream",
     "text": [
      "Validation => Loss 0.3938, Acc@1 0.8333\n",
      "============\n"
     ]
    },
    {
     "data": {
      "application/vnd.jupyter.widget-view+json": {
       "model_id": "b0ebe094f6394e5aaea20870d670597d",
       "version_major": 2,
       "version_minor": 0
      },
      "text/plain": [
       "  0%|          | 0/79 [00:00<?, ?it/s]"
      ]
     },
     "metadata": {},
     "output_type": "display_data"
    },
    {
     "name": "stdout",
     "output_type": "stream",
     "text": [
      "Val Perf after 1 epochs Acc@1 0.9104\n",
      "=> Caching mask state for model.0\n",
      "=> Caching mask state for model.2\n",
      "=> Caching mask state for model.4\n",
      "\n",
      "=> Setting learned tasks of model.0 to 12\n",
      "=> Setting learned tasks of model.2 to 12\n",
      "=> Setting learned tasks of model.4 to 12\n",
      "\n",
      "Training for task 12\n",
      "=> Set task of model.0 to 12\n",
      "=> Set task of model.2 to 12\n",
      "=> Set task of model.4 to 12\n"
     ]
    },
    {
     "data": {
      "application/vnd.jupyter.widget-view+json": {
       "model_id": "db3744e2c18443c69bd687bcb737ff82",
       "version_major": 2,
       "version_minor": 0
      },
      "text/plain": [
       "  0%|          | 0/469 [00:00<?, ?it/s]"
      ]
     },
     "metadata": {},
     "output_type": "display_data"
    },
    {
     "name": "stdout",
     "output_type": "stream",
     "text": [
      "Validation => Loss 0.4059, Acc@1 0.8382\n",
      "============\n"
     ]
    },
    {
     "data": {
      "application/vnd.jupyter.widget-view+json": {
       "model_id": "7f51b6692f1f408ab4696dfa24431979",
       "version_major": 2,
       "version_minor": 0
      },
      "text/plain": [
       "  0%|          | 0/79 [00:00<?, ?it/s]"
      ]
     },
     "metadata": {},
     "output_type": "display_data"
    },
    {
     "name": "stdout",
     "output_type": "stream",
     "text": [
      "Val Perf after 1 epochs Acc@1 0.9161\n",
      "=> Caching mask state for model.0\n",
      "=> Caching mask state for model.2\n",
      "=> Caching mask state for model.4\n",
      "\n",
      "=> Setting learned tasks of model.0 to 13\n",
      "=> Setting learned tasks of model.2 to 13\n",
      "=> Setting learned tasks of model.4 to 13\n",
      "\n",
      "Training for task 13\n",
      "=> Set task of model.0 to 13\n",
      "=> Set task of model.2 to 13\n",
      "=> Set task of model.4 to 13\n"
     ]
    },
    {
     "data": {
      "application/vnd.jupyter.widget-view+json": {
       "model_id": "770d3d1e51f442b78530d829e7f1a369",
       "version_major": 2,
       "version_minor": 0
      },
      "text/plain": [
       "  0%|          | 0/469 [00:00<?, ?it/s]"
      ]
     },
     "metadata": {},
     "output_type": "display_data"
    },
    {
     "name": "stdout",
     "output_type": "stream",
     "text": [
      "Validation => Loss 0.3382, Acc@1 0.8431\n",
      "============\n"
     ]
    },
    {
     "data": {
      "application/vnd.jupyter.widget-view+json": {
       "model_id": "254bb8d3e1c547efaddc7b08521c5b33",
       "version_major": 2,
       "version_minor": 0
      },
      "text/plain": [
       "  0%|          | 0/79 [00:00<?, ?it/s]"
      ]
     },
     "metadata": {},
     "output_type": "display_data"
    },
    {
     "name": "stdout",
     "output_type": "stream",
     "text": [
      "Val Perf after 1 epochs Acc@1 0.9120\n",
      "=> Caching mask state for model.0\n",
      "=> Caching mask state for model.2\n",
      "=> Caching mask state for model.4\n",
      "\n",
      "=> Setting learned tasks of model.0 to 14\n",
      "=> Setting learned tasks of model.2 to 14\n",
      "=> Setting learned tasks of model.4 to 14\n",
      "\n",
      "Training for task 14\n",
      "=> Set task of model.0 to 14\n",
      "=> Set task of model.2 to 14\n",
      "=> Set task of model.4 to 14\n"
     ]
    },
    {
     "data": {
      "application/vnd.jupyter.widget-view+json": {
       "model_id": "8513dc1d85964c89b3fd24914ee911af",
       "version_major": 2,
       "version_minor": 0
      },
      "text/plain": [
       "  0%|          | 0/469 [00:00<?, ?it/s]"
      ]
     },
     "metadata": {},
     "output_type": "display_data"
    },
    {
     "name": "stdout",
     "output_type": "stream",
     "text": [
      "Validation => Loss 0.3124, Acc@1 0.8337\n",
      "============\n"
     ]
    },
    {
     "data": {
      "application/vnd.jupyter.widget-view+json": {
       "model_id": "94d9dda920e3447580f4cd655914a25a",
       "version_major": 2,
       "version_minor": 0
      },
      "text/plain": [
       "  0%|          | 0/79 [00:00<?, ?it/s]"
      ]
     },
     "metadata": {},
     "output_type": "display_data"
    },
    {
     "name": "stdout",
     "output_type": "stream",
     "text": [
      "Val Perf after 1 epochs Acc@1 0.9123\n",
      "=> Caching mask state for model.0\n",
      "=> Caching mask state for model.2\n",
      "=> Caching mask state for model.4\n",
      "\n",
      "=> Setting learned tasks of model.0 to 15\n",
      "=> Setting learned tasks of model.2 to 15\n",
      "=> Setting learned tasks of model.4 to 15\n",
      "\n",
      "Training for task 15\n",
      "=> Set task of model.0 to 15\n",
      "=> Set task of model.2 to 15\n",
      "=> Set task of model.4 to 15\n"
     ]
    },
    {
     "data": {
      "application/vnd.jupyter.widget-view+json": {
       "model_id": "d818b81e2ab94ad1a0e9098604ee65a1",
       "version_major": 2,
       "version_minor": 0
      },
      "text/plain": [
       "  0%|          | 0/469 [00:00<?, ?it/s]"
      ]
     },
     "metadata": {},
     "output_type": "display_data"
    },
    {
     "name": "stdout",
     "output_type": "stream",
     "text": [
      "Validation => Loss 0.4136, Acc@1 0.8327\n",
      "============\n"
     ]
    },
    {
     "data": {
      "application/vnd.jupyter.widget-view+json": {
       "model_id": "195e846296034d6bb6e071a7eae6e12c",
       "version_major": 2,
       "version_minor": 0
      },
      "text/plain": [
       "  0%|          | 0/79 [00:00<?, ?it/s]"
      ]
     },
     "metadata": {},
     "output_type": "display_data"
    },
    {
     "name": "stdout",
     "output_type": "stream",
     "text": [
      "Val Perf after 1 epochs Acc@1 0.9117\n",
      "=> Caching mask state for model.0\n",
      "=> Caching mask state for model.2\n",
      "=> Caching mask state for model.4\n",
      "\n",
      "=> Setting learned tasks of model.0 to 16\n",
      "=> Setting learned tasks of model.2 to 16\n",
      "=> Setting learned tasks of model.4 to 16\n",
      "\n",
      "Training for task 16\n",
      "=> Set task of model.0 to 16\n",
      "=> Set task of model.2 to 16\n",
      "=> Set task of model.4 to 16\n"
     ]
    },
    {
     "data": {
      "application/vnd.jupyter.widget-view+json": {
       "model_id": "0acc2b1000744542aee637964ed0d187",
       "version_major": 2,
       "version_minor": 0
      },
      "text/plain": [
       "  0%|          | 0/469 [00:00<?, ?it/s]"
      ]
     },
     "metadata": {},
     "output_type": "display_data"
    },
    {
     "name": "stdout",
     "output_type": "stream",
     "text": [
      "Validation => Loss 0.2937, Acc@1 0.8356\n",
      "============\n"
     ]
    },
    {
     "data": {
      "application/vnd.jupyter.widget-view+json": {
       "model_id": "52f091c8a114464988daf31d3fa16292",
       "version_major": 2,
       "version_minor": 0
      },
      "text/plain": [
       "  0%|          | 0/79 [00:00<?, ?it/s]"
      ]
     },
     "metadata": {},
     "output_type": "display_data"
    },
    {
     "name": "stdout",
     "output_type": "stream",
     "text": [
      "Val Perf after 1 epochs Acc@1 0.9107\n",
      "=> Caching mask state for model.0\n",
      "=> Caching mask state for model.2\n",
      "=> Caching mask state for model.4\n",
      "\n",
      "=> Setting learned tasks of model.0 to 17\n",
      "=> Setting learned tasks of model.2 to 17\n",
      "=> Setting learned tasks of model.4 to 17\n",
      "\n",
      "Training for task 17\n",
      "=> Set task of model.0 to 17\n",
      "=> Set task of model.2 to 17\n",
      "=> Set task of model.4 to 17\n"
     ]
    },
    {
     "data": {
      "application/vnd.jupyter.widget-view+json": {
       "model_id": "4162db5c546e49c8993bd0071f06454c",
       "version_major": 2,
       "version_minor": 0
      },
      "text/plain": [
       "  0%|          | 0/469 [00:00<?, ?it/s]"
      ]
     },
     "metadata": {},
     "output_type": "display_data"
    },
    {
     "name": "stdout",
     "output_type": "stream",
     "text": [
      "Validation => Loss 0.3734, Acc@1 0.8320\n",
      "============\n"
     ]
    },
    {
     "data": {
      "application/vnd.jupyter.widget-view+json": {
       "model_id": "4cb445af057040238d47dce01176609e",
       "version_major": 2,
       "version_minor": 0
      },
      "text/plain": [
       "  0%|          | 0/79 [00:00<?, ?it/s]"
      ]
     },
     "metadata": {},
     "output_type": "display_data"
    },
    {
     "name": "stdout",
     "output_type": "stream",
     "text": [
      "Val Perf after 1 epochs Acc@1 0.9143\n",
      "=> Caching mask state for model.0\n",
      "=> Caching mask state for model.2\n",
      "=> Caching mask state for model.4\n",
      "\n",
      "=> Setting learned tasks of model.0 to 18\n",
      "=> Setting learned tasks of model.2 to 18\n",
      "=> Setting learned tasks of model.4 to 18\n",
      "\n",
      "Training for task 18\n",
      "=> Set task of model.0 to 18\n",
      "=> Set task of model.2 to 18\n",
      "=> Set task of model.4 to 18\n"
     ]
    },
    {
     "data": {
      "application/vnd.jupyter.widget-view+json": {
       "model_id": "10ba5900941c4511a15ed9f3c245d917",
       "version_major": 2,
       "version_minor": 0
      },
      "text/plain": [
       "  0%|          | 0/469 [00:00<?, ?it/s]"
      ]
     },
     "metadata": {},
     "output_type": "display_data"
    },
    {
     "name": "stdout",
     "output_type": "stream",
     "text": [
      "Validation => Loss 0.3568, Acc@1 0.8369\n",
      "============\n"
     ]
    },
    {
     "data": {
      "application/vnd.jupyter.widget-view+json": {
       "model_id": "e73e41c492684945aae395d6cb3e6d8d",
       "version_major": 2,
       "version_minor": 0
      },
      "text/plain": [
       "  0%|          | 0/79 [00:00<?, ?it/s]"
      ]
     },
     "metadata": {},
     "output_type": "display_data"
    },
    {
     "name": "stdout",
     "output_type": "stream",
     "text": [
      "Val Perf after 1 epochs Acc@1 0.9106\n",
      "=> Caching mask state for model.0\n",
      "=> Caching mask state for model.2\n",
      "=> Caching mask state for model.4\n",
      "\n",
      "=> Setting learned tasks of model.0 to 19\n",
      "=> Setting learned tasks of model.2 to 19\n",
      "=> Setting learned tasks of model.4 to 19\n",
      "\n",
      "Training for task 19\n",
      "=> Set task of model.0 to 19\n",
      "=> Set task of model.2 to 19\n",
      "=> Set task of model.4 to 19\n"
     ]
    },
    {
     "data": {
      "application/vnd.jupyter.widget-view+json": {
       "model_id": "28fe7bcd3c5540ae867e3c69619bced1",
       "version_major": 2,
       "version_minor": 0
      },
      "text/plain": [
       "  0%|          | 0/469 [00:00<?, ?it/s]"
      ]
     },
     "metadata": {},
     "output_type": "display_data"
    },
    {
     "name": "stdout",
     "output_type": "stream",
     "text": [
      "Validation => Loss 0.3247, Acc@1 0.8424\n",
      "============\n"
     ]
    },
    {
     "data": {
      "application/vnd.jupyter.widget-view+json": {
       "model_id": "4fcb780d83c34a9ab336dcc8a888395b",
       "version_major": 2,
       "version_minor": 0
      },
      "text/plain": [
       "  0%|          | 0/79 [00:00<?, ?it/s]"
      ]
     },
     "metadata": {},
     "output_type": "display_data"
    },
    {
     "name": "stdout",
     "output_type": "stream",
     "text": [
      "Val Perf after 1 epochs Acc@1 0.9048\n",
      "=> Caching mask state for model.0\n",
      "=> Caching mask state for model.2\n",
      "=> Caching mask state for model.4\n",
      "\n",
      "=> Setting learned tasks of model.0 to 20\n",
      "=> Setting learned tasks of model.2 to 20\n",
      "=> Setting learned tasks of model.4 to 20\n",
      "\n",
      "Training for task 20\n",
      "=> Set task of model.0 to 20\n",
      "=> Set task of model.2 to 20\n",
      "=> Set task of model.4 to 20\n"
     ]
    },
    {
     "data": {
      "application/vnd.jupyter.widget-view+json": {
       "model_id": "11c30f17ae6b420da71b2e7be6358856",
       "version_major": 2,
       "version_minor": 0
      },
      "text/plain": [
       "  0%|          | 0/469 [00:00<?, ?it/s]"
      ]
     },
     "metadata": {},
     "output_type": "display_data"
    },
    {
     "name": "stdout",
     "output_type": "stream",
     "text": [
      "Validation => Loss 0.4031, Acc@1 0.8411\n",
      "============\n"
     ]
    },
    {
     "data": {
      "application/vnd.jupyter.widget-view+json": {
       "model_id": "67c7a2751bc84d01baa368c4c863eda9",
       "version_major": 2,
       "version_minor": 0
      },
      "text/plain": [
       "  0%|          | 0/79 [00:00<?, ?it/s]"
      ]
     },
     "metadata": {},
     "output_type": "display_data"
    },
    {
     "name": "stdout",
     "output_type": "stream",
     "text": [
      "Val Perf after 1 epochs Acc@1 0.9109\n",
      "=> Caching mask state for model.0\n",
      "=> Caching mask state for model.2\n",
      "=> Caching mask state for model.4\n",
      "\n",
      "=> Setting learned tasks of model.0 to 21\n",
      "=> Setting learned tasks of model.2 to 21\n",
      "=> Setting learned tasks of model.4 to 21\n",
      "\n",
      "Training for task 21\n",
      "=> Set task of model.0 to 21\n",
      "=> Set task of model.2 to 21\n",
      "=> Set task of model.4 to 21\n"
     ]
    },
    {
     "data": {
      "application/vnd.jupyter.widget-view+json": {
       "model_id": "2bd551c7d9404f7bbf6824cb10da3bf7",
       "version_major": 2,
       "version_minor": 0
      },
      "text/plain": [
       "  0%|          | 0/469 [00:00<?, ?it/s]"
      ]
     },
     "metadata": {},
     "output_type": "display_data"
    },
    {
     "name": "stdout",
     "output_type": "stream",
     "text": [
      "Validation => Loss 0.2920, Acc@1 0.8473\n",
      "============\n"
     ]
    },
    {
     "data": {
      "application/vnd.jupyter.widget-view+json": {
       "model_id": "0fe4a3c0cece46e1b3c136cd16cf190a",
       "version_major": 2,
       "version_minor": 0
      },
      "text/plain": [
       "  0%|          | 0/79 [00:00<?, ?it/s]"
      ]
     },
     "metadata": {},
     "output_type": "display_data"
    },
    {
     "name": "stdout",
     "output_type": "stream",
     "text": [
      "Val Perf after 1 epochs Acc@1 0.9132\n",
      "=> Caching mask state for model.0\n",
      "=> Caching mask state for model.2\n",
      "=> Caching mask state for model.4\n",
      "\n",
      "=> Setting learned tasks of model.0 to 22\n",
      "=> Setting learned tasks of model.2 to 22\n",
      "=> Setting learned tasks of model.4 to 22\n",
      "\n",
      "Training for task 22\n",
      "=> Set task of model.0 to 22\n",
      "=> Set task of model.2 to 22\n",
      "=> Set task of model.4 to 22\n"
     ]
    },
    {
     "data": {
      "application/vnd.jupyter.widget-view+json": {
       "model_id": "ecb60af3daad4a49b8a68fb99a2a5fab",
       "version_major": 2,
       "version_minor": 0
      },
      "text/plain": [
       "  0%|          | 0/469 [00:00<?, ?it/s]"
      ]
     },
     "metadata": {},
     "output_type": "display_data"
    },
    {
     "name": "stdout",
     "output_type": "stream",
     "text": [
      "Validation => Loss 0.2815, Acc@1 0.8447\n",
      "============\n"
     ]
    },
    {
     "data": {
      "application/vnd.jupyter.widget-view+json": {
       "model_id": "fc9805606a60454598c50c40c5683b4c",
       "version_major": 2,
       "version_minor": 0
      },
      "text/plain": [
       "  0%|          | 0/79 [00:00<?, ?it/s]"
      ]
     },
     "metadata": {},
     "output_type": "display_data"
    },
    {
     "name": "stdout",
     "output_type": "stream",
     "text": [
      "Val Perf after 1 epochs Acc@1 0.9125\n",
      "=> Caching mask state for model.0\n",
      "=> Caching mask state for model.2\n",
      "=> Caching mask state for model.4\n",
      "\n",
      "=> Setting learned tasks of model.0 to 23\n",
      "=> Setting learned tasks of model.2 to 23\n",
      "=> Setting learned tasks of model.4 to 23\n",
      "\n",
      "Training for task 23\n",
      "=> Set task of model.0 to 23\n",
      "=> Set task of model.2 to 23\n",
      "=> Set task of model.4 to 23\n"
     ]
    },
    {
     "data": {
      "application/vnd.jupyter.widget-view+json": {
       "model_id": "9aaad04985464149a2a21c922b32bb6f",
       "version_major": 2,
       "version_minor": 0
      },
      "text/plain": [
       "  0%|          | 0/469 [00:00<?, ?it/s]"
      ]
     },
     "metadata": {},
     "output_type": "display_data"
    },
    {
     "name": "stdout",
     "output_type": "stream",
     "text": [
      "Validation => Loss 0.2969, Acc@1 0.8464\n",
      "============\n"
     ]
    },
    {
     "data": {
      "application/vnd.jupyter.widget-view+json": {
       "model_id": "37df95f4cef6435a88237b98ab93af7b",
       "version_major": 2,
       "version_minor": 0
      },
      "text/plain": [
       "  0%|          | 0/79 [00:00<?, ?it/s]"
      ]
     },
     "metadata": {},
     "output_type": "display_data"
    },
    {
     "name": "stdout",
     "output_type": "stream",
     "text": [
      "Val Perf after 1 epochs Acc@1 0.9118\n",
      "=> Caching mask state for model.0\n",
      "=> Caching mask state for model.2\n",
      "=> Caching mask state for model.4\n",
      "\n",
      "=> Setting learned tasks of model.0 to 24\n",
      "=> Setting learned tasks of model.2 to 24\n",
      "=> Setting learned tasks of model.4 to 24\n",
      "\n",
      "Training for task 24\n",
      "=> Set task of model.0 to 24\n",
      "=> Set task of model.2 to 24\n",
      "=> Set task of model.4 to 24\n"
     ]
    },
    {
     "data": {
      "application/vnd.jupyter.widget-view+json": {
       "model_id": "847ac505ec8b43d68dd87b8863035c51",
       "version_major": 2,
       "version_minor": 0
      },
      "text/plain": [
       "  0%|          | 0/469 [00:00<?, ?it/s]"
      ]
     },
     "metadata": {},
     "output_type": "display_data"
    },
    {
     "name": "stdout",
     "output_type": "stream",
     "text": [
      "Validation => Loss 0.4044, Acc@1 0.8385\n",
      "============\n"
     ]
    },
    {
     "data": {
      "application/vnd.jupyter.widget-view+json": {
       "model_id": "656d19b9f5a8460c8868eded57cd27a1",
       "version_major": 2,
       "version_minor": 0
      },
      "text/plain": [
       "  0%|          | 0/79 [00:00<?, ?it/s]"
      ]
     },
     "metadata": {},
     "output_type": "display_data"
    },
    {
     "name": "stdout",
     "output_type": "stream",
     "text": [
      "Val Perf after 1 epochs Acc@1 0.9130\n",
      "=> Caching mask state for model.0\n",
      "=> Caching mask state for model.2\n",
      "=> Caching mask state for model.4\n",
      "\n",
      "=> Setting learned tasks of model.0 to 25\n",
      "=> Setting learned tasks of model.2 to 25\n",
      "=> Setting learned tasks of model.4 to 25\n",
      "\n",
      "Training for task 25\n",
      "=> Set task of model.0 to 25\n",
      "=> Set task of model.2 to 25\n",
      "=> Set task of model.4 to 25\n"
     ]
    },
    {
     "data": {
      "application/vnd.jupyter.widget-view+json": {
       "model_id": "d5974ba4cbee4038b33388e9eb1f2d66",
       "version_major": 2,
       "version_minor": 0
      },
      "text/plain": [
       "  0%|          | 0/469 [00:00<?, ?it/s]"
      ]
     },
     "metadata": {},
     "output_type": "display_data"
    },
    {
     "name": "stdout",
     "output_type": "stream",
     "text": [
      "Validation => Loss 0.4173, Acc@1 0.8369\n",
      "============\n"
     ]
    },
    {
     "data": {
      "application/vnd.jupyter.widget-view+json": {
       "model_id": "248ec065c33c4d9288f4f675bbcc710d",
       "version_major": 2,
       "version_minor": 0
      },
      "text/plain": [
       "  0%|          | 0/79 [00:00<?, ?it/s]"
      ]
     },
     "metadata": {},
     "output_type": "display_data"
    },
    {
     "name": "stdout",
     "output_type": "stream",
     "text": [
      "Val Perf after 1 epochs Acc@1 0.9115\n",
      "=> Caching mask state for model.0\n",
      "=> Caching mask state for model.2\n",
      "=> Caching mask state for model.4\n",
      "\n",
      "=> Setting learned tasks of model.0 to 26\n",
      "=> Setting learned tasks of model.2 to 26\n",
      "=> Setting learned tasks of model.4 to 26\n",
      "\n",
      "Training for task 26\n",
      "=> Set task of model.0 to 26\n",
      "=> Set task of model.2 to 26\n",
      "=> Set task of model.4 to 26\n"
     ]
    },
    {
     "data": {
      "application/vnd.jupyter.widget-view+json": {
       "model_id": "f583695cd5c34e5f819e1d142b9d6315",
       "version_major": 2,
       "version_minor": 0
      },
      "text/plain": [
       "  0%|          | 0/469 [00:00<?, ?it/s]"
      ]
     },
     "metadata": {},
     "output_type": "display_data"
    },
    {
     "name": "stdout",
     "output_type": "stream",
     "text": [
      "Validation => Loss 0.3948, Acc@1 0.8366\n",
      "============\n"
     ]
    },
    {
     "data": {
      "application/vnd.jupyter.widget-view+json": {
       "model_id": "473742784fc34a0c873e5249a16eb694",
       "version_major": 2,
       "version_minor": 0
      },
      "text/plain": [
       "  0%|          | 0/79 [00:00<?, ?it/s]"
      ]
     },
     "metadata": {},
     "output_type": "display_data"
    },
    {
     "name": "stdout",
     "output_type": "stream",
     "text": [
      "Val Perf after 1 epochs Acc@1 0.9131\n",
      "=> Caching mask state for model.0\n",
      "=> Caching mask state for model.2\n",
      "=> Caching mask state for model.4\n",
      "\n",
      "=> Setting learned tasks of model.0 to 27\n",
      "=> Setting learned tasks of model.2 to 27\n",
      "=> Setting learned tasks of model.4 to 27\n",
      "\n",
      "Training for task 27\n",
      "=> Set task of model.0 to 27\n",
      "=> Set task of model.2 to 27\n",
      "=> Set task of model.4 to 27\n"
     ]
    },
    {
     "data": {
      "application/vnd.jupyter.widget-view+json": {
       "model_id": "75226c792a874c86bd39e829d6b04b7f",
       "version_major": 2,
       "version_minor": 0
      },
      "text/plain": [
       "  0%|          | 0/469 [00:00<?, ?it/s]"
      ]
     },
     "metadata": {},
     "output_type": "display_data"
    },
    {
     "name": "stdout",
     "output_type": "stream",
     "text": [
      "Validation => Loss 0.2693, Acc@1 0.8434\n",
      "============\n"
     ]
    },
    {
     "data": {
      "application/vnd.jupyter.widget-view+json": {
       "model_id": "2561a99f1c424a7abab7525f737429fc",
       "version_major": 2,
       "version_minor": 0
      },
      "text/plain": [
       "  0%|          | 0/79 [00:00<?, ?it/s]"
      ]
     },
     "metadata": {},
     "output_type": "display_data"
    },
    {
     "name": "stdout",
     "output_type": "stream",
     "text": [
      "Val Perf after 1 epochs Acc@1 0.9118\n",
      "=> Caching mask state for model.0\n",
      "=> Caching mask state for model.2\n",
      "=> Caching mask state for model.4\n",
      "\n",
      "=> Setting learned tasks of model.0 to 28\n",
      "=> Setting learned tasks of model.2 to 28\n",
      "=> Setting learned tasks of model.4 to 28\n",
      "\n",
      "Training for task 28\n",
      "=> Set task of model.0 to 28\n",
      "=> Set task of model.2 to 28\n",
      "=> Set task of model.4 to 28\n"
     ]
    },
    {
     "data": {
      "application/vnd.jupyter.widget-view+json": {
       "model_id": "a0cca6f00a814c2cb98d8918ec7935eb",
       "version_major": 2,
       "version_minor": 0
      },
      "text/plain": [
       "  0%|          | 0/469 [00:00<?, ?it/s]"
      ]
     },
     "metadata": {},
     "output_type": "display_data"
    },
    {
     "name": "stdout",
     "output_type": "stream",
     "text": [
      "Validation => Loss 0.2965, Acc@1 0.8340\n",
      "============\n"
     ]
    },
    {
     "data": {
      "application/vnd.jupyter.widget-view+json": {
       "model_id": "c7b77101f9b84ca19fb9829aa556210d",
       "version_major": 2,
       "version_minor": 0
      },
      "text/plain": [
       "  0%|          | 0/79 [00:00<?, ?it/s]"
      ]
     },
     "metadata": {},
     "output_type": "display_data"
    },
    {
     "name": "stdout",
     "output_type": "stream",
     "text": [
      "Val Perf after 1 epochs Acc@1 0.9121\n",
      "=> Caching mask state for model.0\n",
      "=> Caching mask state for model.2\n",
      "=> Caching mask state for model.4\n",
      "\n",
      "=> Setting learned tasks of model.0 to 29\n",
      "=> Setting learned tasks of model.2 to 29\n",
      "=> Setting learned tasks of model.4 to 29\n",
      "\n",
      "Training for task 29\n",
      "=> Set task of model.0 to 29\n",
      "=> Set task of model.2 to 29\n",
      "=> Set task of model.4 to 29\n"
     ]
    },
    {
     "data": {
      "application/vnd.jupyter.widget-view+json": {
       "model_id": "ccb408694b324b0caf844acdda2c9b76",
       "version_major": 2,
       "version_minor": 0
      },
      "text/plain": [
       "  0%|          | 0/469 [00:00<?, ?it/s]"
      ]
     },
     "metadata": {},
     "output_type": "display_data"
    },
    {
     "name": "stdout",
     "output_type": "stream",
     "text": [
      "Validation => Loss 0.3118, Acc@1 0.8382\n",
      "============\n"
     ]
    },
    {
     "data": {
      "application/vnd.jupyter.widget-view+json": {
       "model_id": "16f352a3e6224aedbe928bcd75ef466d",
       "version_major": 2,
       "version_minor": 0
      },
      "text/plain": [
       "  0%|          | 0/79 [00:00<?, ?it/s]"
      ]
     },
     "metadata": {},
     "output_type": "display_data"
    },
    {
     "name": "stdout",
     "output_type": "stream",
     "text": [
      "Val Perf after 1 epochs Acc@1 0.9135\n",
      "=> Caching mask state for model.0\n",
      "=> Caching mask state for model.2\n",
      "=> Caching mask state for model.4\n",
      "\n",
      "=> Setting learned tasks of model.0 to 30\n",
      "=> Setting learned tasks of model.2 to 30\n",
      "=> Setting learned tasks of model.4 to 30\n",
      "\n",
      "Training for task 30\n",
      "=> Set task of model.0 to 30\n",
      "=> Set task of model.2 to 30\n",
      "=> Set task of model.4 to 30\n"
     ]
    },
    {
     "data": {
      "application/vnd.jupyter.widget-view+json": {
       "model_id": "247a7760ee4e4631b8722e2c8863762b",
       "version_major": 2,
       "version_minor": 0
      },
      "text/plain": [
       "  0%|          | 0/469 [00:00<?, ?it/s]"
      ]
     },
     "metadata": {},
     "output_type": "display_data"
    },
    {
     "name": "stdout",
     "output_type": "stream",
     "text": [
      "Validation => Loss 0.2714, Acc@1 0.8330\n",
      "============\n"
     ]
    },
    {
     "data": {
      "application/vnd.jupyter.widget-view+json": {
       "model_id": "52c8c0a6264b43189d45c95d08e641c8",
       "version_major": 2,
       "version_minor": 0
      },
      "text/plain": [
       "  0%|          | 0/79 [00:00<?, ?it/s]"
      ]
     },
     "metadata": {},
     "output_type": "display_data"
    },
    {
     "name": "stdout",
     "output_type": "stream",
     "text": [
      "Val Perf after 1 epochs Acc@1 0.9107\n",
      "=> Caching mask state for model.0\n",
      "=> Caching mask state for model.2\n",
      "=> Caching mask state for model.4\n",
      "\n",
      "=> Setting learned tasks of model.0 to 31\n",
      "=> Setting learned tasks of model.2 to 31\n",
      "=> Setting learned tasks of model.4 to 31\n",
      "\n",
      "Training for task 31\n",
      "=> Set task of model.0 to 31\n",
      "=> Set task of model.2 to 31\n",
      "=> Set task of model.4 to 31\n"
     ]
    },
    {
     "data": {
      "application/vnd.jupyter.widget-view+json": {
       "model_id": "71ab5726faa940c79a2a7ff3d15bdd56",
       "version_major": 2,
       "version_minor": 0
      },
      "text/plain": [
       "  0%|          | 0/469 [00:00<?, ?it/s]"
      ]
     },
     "metadata": {},
     "output_type": "display_data"
    },
    {
     "name": "stdout",
     "output_type": "stream",
     "text": [
      "Validation => Loss 0.2569, Acc@1 0.8542\n",
      "============\n"
     ]
    },
    {
     "data": {
      "application/vnd.jupyter.widget-view+json": {
       "model_id": "7fdc016bf35a4cdf90ed717ad848b060",
       "version_major": 2,
       "version_minor": 0
      },
      "text/plain": [
       "  0%|          | 0/79 [00:00<?, ?it/s]"
      ]
     },
     "metadata": {},
     "output_type": "display_data"
    },
    {
     "name": "stdout",
     "output_type": "stream",
     "text": [
      "Val Perf after 1 epochs Acc@1 0.9081\n",
      "=> Caching mask state for model.0\n",
      "=> Caching mask state for model.2\n",
      "=> Caching mask state for model.4\n",
      "\n",
      "=> Setting learned tasks of model.0 to 32\n",
      "=> Setting learned tasks of model.2 to 32\n",
      "=> Setting learned tasks of model.4 to 32\n",
      "\n",
      "Training for task 32\n",
      "=> Set task of model.0 to 32\n",
      "=> Set task of model.2 to 32\n",
      "=> Set task of model.4 to 32\n"
     ]
    },
    {
     "data": {
      "application/vnd.jupyter.widget-view+json": {
       "model_id": "42f1a75bc2214faf8ab7d24d294d0919",
       "version_major": 2,
       "version_minor": 0
      },
      "text/plain": [
       "  0%|          | 0/469 [00:00<?, ?it/s]"
      ]
     },
     "metadata": {},
     "output_type": "display_data"
    },
    {
     "name": "stdout",
     "output_type": "stream",
     "text": [
      "Validation => Loss 0.4106, Acc@1 0.8366\n",
      "============\n"
     ]
    },
    {
     "data": {
      "application/vnd.jupyter.widget-view+json": {
       "model_id": "b8e4af1c8eb645eaa666c46ce50a61cf",
       "version_major": 2,
       "version_minor": 0
      },
      "text/plain": [
       "  0%|          | 0/79 [00:00<?, ?it/s]"
      ]
     },
     "metadata": {},
     "output_type": "display_data"
    },
    {
     "name": "stdout",
     "output_type": "stream",
     "text": [
      "Val Perf after 1 epochs Acc@1 0.9130\n",
      "=> Caching mask state for model.0\n",
      "=> Caching mask state for model.2\n",
      "=> Caching mask state for model.4\n",
      "\n",
      "=> Setting learned tasks of model.0 to 33\n",
      "=> Setting learned tasks of model.2 to 33\n",
      "=> Setting learned tasks of model.4 to 33\n",
      "\n",
      "Training for task 33\n",
      "=> Set task of model.0 to 33\n",
      "=> Set task of model.2 to 33\n",
      "=> Set task of model.4 to 33\n"
     ]
    },
    {
     "data": {
      "application/vnd.jupyter.widget-view+json": {
       "model_id": "b46c48ff9b1b4307bbb6cbfa265f635b",
       "version_major": 2,
       "version_minor": 0
      },
      "text/plain": [
       "  0%|          | 0/469 [00:00<?, ?it/s]"
      ]
     },
     "metadata": {},
     "output_type": "display_data"
    },
    {
     "name": "stdout",
     "output_type": "stream",
     "text": [
      "Validation => Loss 0.3629, Acc@1 0.8424\n",
      "============\n"
     ]
    },
    {
     "data": {
      "application/vnd.jupyter.widget-view+json": {
       "model_id": "9da199d5e70c46dcb9d0ee14a6c671b1",
       "version_major": 2,
       "version_minor": 0
      },
      "text/plain": [
       "  0%|          | 0/79 [00:00<?, ?it/s]"
      ]
     },
     "metadata": {},
     "output_type": "display_data"
    },
    {
     "name": "stdout",
     "output_type": "stream",
     "text": [
      "Val Perf after 1 epochs Acc@1 0.9117\n",
      "=> Caching mask state for model.0\n",
      "=> Caching mask state for model.2\n",
      "=> Caching mask state for model.4\n",
      "\n",
      "=> Setting learned tasks of model.0 to 34\n",
      "=> Setting learned tasks of model.2 to 34\n",
      "=> Setting learned tasks of model.4 to 34\n",
      "\n",
      "Training for task 34\n",
      "=> Set task of model.0 to 34\n",
      "=> Set task of model.2 to 34\n",
      "=> Set task of model.4 to 34\n"
     ]
    },
    {
     "data": {
      "application/vnd.jupyter.widget-view+json": {
       "model_id": "2828ca1cb5734b4ebb40ffa3a0a2661c",
       "version_major": 2,
       "version_minor": 0
      },
      "text/plain": [
       "  0%|          | 0/469 [00:00<?, ?it/s]"
      ]
     },
     "metadata": {},
     "output_type": "display_data"
    },
    {
     "name": "stdout",
     "output_type": "stream",
     "text": [
      "Validation => Loss 0.3691, Acc@1 0.8421\n",
      "============\n"
     ]
    },
    {
     "data": {
      "application/vnd.jupyter.widget-view+json": {
       "model_id": "a9d8f94d3d324f15a07492854c16f013",
       "version_major": 2,
       "version_minor": 0
      },
      "text/plain": [
       "  0%|          | 0/79 [00:00<?, ?it/s]"
      ]
     },
     "metadata": {},
     "output_type": "display_data"
    },
    {
     "name": "stdout",
     "output_type": "stream",
     "text": [
      "Val Perf after 1 epochs Acc@1 0.9147\n",
      "=> Caching mask state for model.0\n",
      "=> Caching mask state for model.2\n",
      "=> Caching mask state for model.4\n",
      "\n",
      "=> Setting learned tasks of model.0 to 35\n",
      "=> Setting learned tasks of model.2 to 35\n",
      "=> Setting learned tasks of model.4 to 35\n",
      "\n",
      "Training for task 35\n",
      "=> Set task of model.0 to 35\n",
      "=> Set task of model.2 to 35\n",
      "=> Set task of model.4 to 35\n"
     ]
    },
    {
     "data": {
      "application/vnd.jupyter.widget-view+json": {
       "model_id": "77e2cc0087ce48bcab08a007a5bb3f13",
       "version_major": 2,
       "version_minor": 0
      },
      "text/plain": [
       "  0%|          | 0/469 [00:00<?, ?it/s]"
      ]
     },
     "metadata": {},
     "output_type": "display_data"
    },
    {
     "name": "stdout",
     "output_type": "stream",
     "text": [
      "Validation => Loss 0.3246, Acc@1 0.8376\n",
      "============\n"
     ]
    },
    {
     "data": {
      "application/vnd.jupyter.widget-view+json": {
       "model_id": "93243869f1fa4ba884f2857e8725e76e",
       "version_major": 2,
       "version_minor": 0
      },
      "text/plain": [
       "  0%|          | 0/79 [00:00<?, ?it/s]"
      ]
     },
     "metadata": {},
     "output_type": "display_data"
    },
    {
     "name": "stdout",
     "output_type": "stream",
     "text": [
      "Val Perf after 1 epochs Acc@1 0.9117\n",
      "=> Caching mask state for model.0\n",
      "=> Caching mask state for model.2\n",
      "=> Caching mask state for model.4\n",
      "\n",
      "=> Setting learned tasks of model.0 to 36\n",
      "=> Setting learned tasks of model.2 to 36\n",
      "=> Setting learned tasks of model.4 to 36\n",
      "\n",
      "Training for task 36\n",
      "=> Set task of model.0 to 36\n",
      "=> Set task of model.2 to 36\n",
      "=> Set task of model.4 to 36\n"
     ]
    },
    {
     "data": {
      "application/vnd.jupyter.widget-view+json": {
       "model_id": "5eeb00685e724c04998751d24db865a6",
       "version_major": 2,
       "version_minor": 0
      },
      "text/plain": [
       "  0%|          | 0/469 [00:00<?, ?it/s]"
      ]
     },
     "metadata": {},
     "output_type": "display_data"
    },
    {
     "name": "stdout",
     "output_type": "stream",
     "text": [
      "Validation => Loss 0.2534, Acc@1 0.8320\n",
      "============\n"
     ]
    },
    {
     "data": {
      "application/vnd.jupyter.widget-view+json": {
       "model_id": "025d2af1c6934141a915d7e96cdc5f43",
       "version_major": 2,
       "version_minor": 0
      },
      "text/plain": [
       "  0%|          | 0/79 [00:00<?, ?it/s]"
      ]
     },
     "metadata": {},
     "output_type": "display_data"
    },
    {
     "name": "stdout",
     "output_type": "stream",
     "text": [
      "Val Perf after 1 epochs Acc@1 0.9124\n",
      "=> Caching mask state for model.0\n",
      "=> Caching mask state for model.2\n",
      "=> Caching mask state for model.4\n",
      "\n",
      "=> Setting learned tasks of model.0 to 37\n",
      "=> Setting learned tasks of model.2 to 37\n",
      "=> Setting learned tasks of model.4 to 37\n",
      "\n",
      "Training for task 37\n",
      "=> Set task of model.0 to 37\n",
      "=> Set task of model.2 to 37\n",
      "=> Set task of model.4 to 37\n"
     ]
    },
    {
     "data": {
      "application/vnd.jupyter.widget-view+json": {
       "model_id": "669e853dffbc4bb889820ab1a8216e8b",
       "version_major": 2,
       "version_minor": 0
      },
      "text/plain": [
       "  0%|          | 0/469 [00:00<?, ?it/s]"
      ]
     },
     "metadata": {},
     "output_type": "display_data"
    },
    {
     "name": "stdout",
     "output_type": "stream",
     "text": [
      "Validation => Loss 0.2380, Acc@1 0.8483\n",
      "============\n"
     ]
    },
    {
     "data": {
      "application/vnd.jupyter.widget-view+json": {
       "model_id": "78df17ec3813490582de6918766b7a43",
       "version_major": 2,
       "version_minor": 0
      },
      "text/plain": [
       "  0%|          | 0/79 [00:00<?, ?it/s]"
      ]
     },
     "metadata": {},
     "output_type": "display_data"
    },
    {
     "name": "stdout",
     "output_type": "stream",
     "text": [
      "Val Perf after 1 epochs Acc@1 0.9122\n",
      "=> Caching mask state for model.0\n",
      "=> Caching mask state for model.2\n",
      "=> Caching mask state for model.4\n",
      "\n",
      "=> Setting learned tasks of model.0 to 38\n",
      "=> Setting learned tasks of model.2 to 38\n",
      "=> Setting learned tasks of model.4 to 38\n",
      "\n",
      "Training for task 38\n",
      "=> Set task of model.0 to 38\n",
      "=> Set task of model.2 to 38\n",
      "=> Set task of model.4 to 38\n"
     ]
    },
    {
     "data": {
      "application/vnd.jupyter.widget-view+json": {
       "model_id": "4945f49d5c7145fd9f1e1bae2d277b9f",
       "version_major": 2,
       "version_minor": 0
      },
      "text/plain": [
       "  0%|          | 0/469 [00:00<?, ?it/s]"
      ]
     },
     "metadata": {},
     "output_type": "display_data"
    },
    {
     "name": "stdout",
     "output_type": "stream",
     "text": [
      "Validation => Loss 0.3894, Acc@1 0.8438\n",
      "============\n"
     ]
    },
    {
     "data": {
      "application/vnd.jupyter.widget-view+json": {
       "model_id": "87f1eac5785d403ba04888b3accf6f06",
       "version_major": 2,
       "version_minor": 0
      },
      "text/plain": [
       "  0%|          | 0/79 [00:00<?, ?it/s]"
      ]
     },
     "metadata": {},
     "output_type": "display_data"
    },
    {
     "name": "stdout",
     "output_type": "stream",
     "text": [
      "Val Perf after 1 epochs Acc@1 0.9070\n",
      "=> Caching mask state for model.0\n",
      "=> Caching mask state for model.2\n",
      "=> Caching mask state for model.4\n",
      "\n",
      "=> Setting learned tasks of model.0 to 39\n",
      "=> Setting learned tasks of model.2 to 39\n",
      "=> Setting learned tasks of model.4 to 39\n",
      "\n",
      "Training for task 39\n",
      "=> Set task of model.0 to 39\n",
      "=> Set task of model.2 to 39\n",
      "=> Set task of model.4 to 39\n"
     ]
    },
    {
     "data": {
      "application/vnd.jupyter.widget-view+json": {
       "model_id": "937f62480a7347f78893ca0381904c25",
       "version_major": 2,
       "version_minor": 0
      },
      "text/plain": [
       "  0%|          | 0/469 [00:00<?, ?it/s]"
      ]
     },
     "metadata": {},
     "output_type": "display_data"
    },
    {
     "name": "stdout",
     "output_type": "stream",
     "text": [
      "Validation => Loss 0.2793, Acc@1 0.8379\n",
      "============\n"
     ]
    },
    {
     "data": {
      "application/vnd.jupyter.widget-view+json": {
       "model_id": "9666f37032f94504ab1a49d1f3ab08dc",
       "version_major": 2,
       "version_minor": 0
      },
      "text/plain": [
       "  0%|          | 0/79 [00:00<?, ?it/s]"
      ]
     },
     "metadata": {},
     "output_type": "display_data"
    },
    {
     "name": "stdout",
     "output_type": "stream",
     "text": [
      "Val Perf after 1 epochs Acc@1 0.9134\n",
      "=> Caching mask state for model.0\n",
      "=> Caching mask state for model.2\n",
      "=> Caching mask state for model.4\n",
      "\n",
      "=> Setting learned tasks of model.0 to 40\n",
      "=> Setting learned tasks of model.2 to 40\n",
      "=> Setting learned tasks of model.4 to 40\n",
      "\n",
      "Training for task 40\n",
      "=> Set task of model.0 to 40\n",
      "=> Set task of model.2 to 40\n",
      "=> Set task of model.4 to 40\n"
     ]
    },
    {
     "data": {
      "application/vnd.jupyter.widget-view+json": {
       "model_id": "8f4132bb73b6403983361d3fc701bbfc",
       "version_major": 2,
       "version_minor": 0
      },
      "text/plain": [
       "  0%|          | 0/469 [00:00<?, ?it/s]"
      ]
     },
     "metadata": {},
     "output_type": "display_data"
    },
    {
     "name": "stdout",
     "output_type": "stream",
     "text": [
      "Validation => Loss 0.3157, Acc@1 0.8307\n",
      "============\n"
     ]
    },
    {
     "data": {
      "application/vnd.jupyter.widget-view+json": {
       "model_id": "07923f5ea4fb46ba8f629808a4d092f2",
       "version_major": 2,
       "version_minor": 0
      },
      "text/plain": [
       "  0%|          | 0/79 [00:00<?, ?it/s]"
      ]
     },
     "metadata": {},
     "output_type": "display_data"
    },
    {
     "name": "stdout",
     "output_type": "stream",
     "text": [
      "Val Perf after 1 epochs Acc@1 0.9108\n",
      "=> Caching mask state for model.0\n",
      "=> Caching mask state for model.2\n",
      "=> Caching mask state for model.4\n",
      "\n",
      "=> Setting learned tasks of model.0 to 41\n",
      "=> Setting learned tasks of model.2 to 41\n",
      "=> Setting learned tasks of model.4 to 41\n",
      "\n",
      "Training for task 41\n",
      "=> Set task of model.0 to 41\n",
      "=> Set task of model.2 to 41\n",
      "=> Set task of model.4 to 41\n"
     ]
    },
    {
     "data": {
      "application/vnd.jupyter.widget-view+json": {
       "model_id": "e7aa63c540da4863b951457ac46a1836",
       "version_major": 2,
       "version_minor": 0
      },
      "text/plain": [
       "  0%|          | 0/469 [00:00<?, ?it/s]"
      ]
     },
     "metadata": {},
     "output_type": "display_data"
    },
    {
     "name": "stdout",
     "output_type": "stream",
     "text": [
      "Validation => Loss 0.4216, Acc@1 0.8464\n",
      "============\n"
     ]
    },
    {
     "data": {
      "application/vnd.jupyter.widget-view+json": {
       "model_id": "5f9ddb4563aa47c286ba389b7a64d9fe",
       "version_major": 2,
       "version_minor": 0
      },
      "text/plain": [
       "  0%|          | 0/79 [00:00<?, ?it/s]"
      ]
     },
     "metadata": {},
     "output_type": "display_data"
    },
    {
     "name": "stdout",
     "output_type": "stream",
     "text": [
      "Val Perf after 1 epochs Acc@1 0.9113\n",
      "=> Caching mask state for model.0\n",
      "=> Caching mask state for model.2\n",
      "=> Caching mask state for model.4\n",
      "\n",
      "=> Setting learned tasks of model.0 to 42\n",
      "=> Setting learned tasks of model.2 to 42\n",
      "=> Setting learned tasks of model.4 to 42\n",
      "\n",
      "Training for task 42\n",
      "=> Set task of model.0 to 42\n",
      "=> Set task of model.2 to 42\n",
      "=> Set task of model.4 to 42\n"
     ]
    },
    {
     "data": {
      "application/vnd.jupyter.widget-view+json": {
       "model_id": "5a6756689961455e8011760fbc1dd39b",
       "version_major": 2,
       "version_minor": 0
      },
      "text/plain": [
       "  0%|          | 0/469 [00:00<?, ?it/s]"
      ]
     },
     "metadata": {},
     "output_type": "display_data"
    },
    {
     "name": "stdout",
     "output_type": "stream",
     "text": [
      "Validation => Loss 0.2464, Acc@1 0.8395\n",
      "============\n"
     ]
    },
    {
     "data": {
      "application/vnd.jupyter.widget-view+json": {
       "model_id": "c8ee45c8d37b49afa9be9a8c1845fb42",
       "version_major": 2,
       "version_minor": 0
      },
      "text/plain": [
       "  0%|          | 0/79 [00:00<?, ?it/s]"
      ]
     },
     "metadata": {},
     "output_type": "display_data"
    },
    {
     "name": "stdout",
     "output_type": "stream",
     "text": [
      "Val Perf after 1 epochs Acc@1 0.9129\n",
      "=> Caching mask state for model.0\n",
      "=> Caching mask state for model.2\n",
      "=> Caching mask state for model.4\n",
      "\n",
      "=> Setting learned tasks of model.0 to 43\n",
      "=> Setting learned tasks of model.2 to 43\n",
      "=> Setting learned tasks of model.4 to 43\n",
      "\n",
      "Training for task 43\n",
      "=> Set task of model.0 to 43\n",
      "=> Set task of model.2 to 43\n",
      "=> Set task of model.4 to 43\n"
     ]
    },
    {
     "data": {
      "application/vnd.jupyter.widget-view+json": {
       "model_id": "500e24d0da8d4ddfbf8a1c673263a8f2",
       "version_major": 2,
       "version_minor": 0
      },
      "text/plain": [
       "  0%|          | 0/469 [00:00<?, ?it/s]"
      ]
     },
     "metadata": {},
     "output_type": "display_data"
    },
    {
     "name": "stdout",
     "output_type": "stream",
     "text": [
      "Validation => Loss 0.2216, Acc@1 0.8431\n",
      "============\n"
     ]
    },
    {
     "data": {
      "application/vnd.jupyter.widget-view+json": {
       "model_id": "3dda0146ee9a40079fcdbfad41931149",
       "version_major": 2,
       "version_minor": 0
      },
      "text/plain": [
       "  0%|          | 0/79 [00:00<?, ?it/s]"
      ]
     },
     "metadata": {},
     "output_type": "display_data"
    },
    {
     "name": "stdout",
     "output_type": "stream",
     "text": [
      "Val Perf after 1 epochs Acc@1 0.9119\n",
      "=> Caching mask state for model.0\n",
      "=> Caching mask state for model.2\n",
      "=> Caching mask state for model.4\n",
      "\n",
      "=> Setting learned tasks of model.0 to 44\n",
      "=> Setting learned tasks of model.2 to 44\n",
      "=> Setting learned tasks of model.4 to 44\n",
      "\n",
      "Training for task 44\n",
      "=> Set task of model.0 to 44\n",
      "=> Set task of model.2 to 44\n",
      "=> Set task of model.4 to 44\n"
     ]
    },
    {
     "data": {
      "application/vnd.jupyter.widget-view+json": {
       "model_id": "571e5f04d5404418b44c4b4e1cc1faa6",
       "version_major": 2,
       "version_minor": 0
      },
      "text/plain": [
       "  0%|          | 0/469 [00:00<?, ?it/s]"
      ]
     },
     "metadata": {},
     "output_type": "display_data"
    },
    {
     "name": "stdout",
     "output_type": "stream",
     "text": [
      "Validation => Loss 0.2885, Acc@1 0.8418\n",
      "============\n"
     ]
    },
    {
     "data": {
      "application/vnd.jupyter.widget-view+json": {
       "model_id": "c69732a604ea48d88f6b6be0ec816461",
       "version_major": 2,
       "version_minor": 0
      },
      "text/plain": [
       "  0%|          | 0/79 [00:00<?, ?it/s]"
      ]
     },
     "metadata": {},
     "output_type": "display_data"
    },
    {
     "name": "stdout",
     "output_type": "stream",
     "text": [
      "Val Perf after 1 epochs Acc@1 0.9113\n",
      "=> Caching mask state for model.0\n",
      "=> Caching mask state for model.2\n",
      "=> Caching mask state for model.4\n",
      "\n",
      "=> Setting learned tasks of model.0 to 45\n",
      "=> Setting learned tasks of model.2 to 45\n",
      "=> Setting learned tasks of model.4 to 45\n",
      "\n",
      "Training for task 45\n",
      "=> Set task of model.0 to 45\n",
      "=> Set task of model.2 to 45\n",
      "=> Set task of model.4 to 45\n"
     ]
    },
    {
     "data": {
      "application/vnd.jupyter.widget-view+json": {
       "model_id": "834df73aba9c4dbc8229035a2cc57ab3",
       "version_major": 2,
       "version_minor": 0
      },
      "text/plain": [
       "  0%|          | 0/469 [00:00<?, ?it/s]"
      ]
     },
     "metadata": {},
     "output_type": "display_data"
    },
    {
     "name": "stdout",
     "output_type": "stream",
     "text": [
      "Validation => Loss 0.3408, Acc@1 0.8389\n",
      "============\n"
     ]
    },
    {
     "data": {
      "application/vnd.jupyter.widget-view+json": {
       "model_id": "e8b9265aba1d48e2a3d5c6c7e487748c",
       "version_major": 2,
       "version_minor": 0
      },
      "text/plain": [
       "  0%|          | 0/79 [00:00<?, ?it/s]"
      ]
     },
     "metadata": {},
     "output_type": "display_data"
    },
    {
     "name": "stdout",
     "output_type": "stream",
     "text": [
      "Val Perf after 1 epochs Acc@1 0.9126\n",
      "=> Caching mask state for model.0\n",
      "=> Caching mask state for model.2\n",
      "=> Caching mask state for model.4\n",
      "\n",
      "=> Setting learned tasks of model.0 to 46\n",
      "=> Setting learned tasks of model.2 to 46\n",
      "=> Setting learned tasks of model.4 to 46\n",
      "\n",
      "Training for task 46\n",
      "=> Set task of model.0 to 46\n",
      "=> Set task of model.2 to 46\n",
      "=> Set task of model.4 to 46\n"
     ]
    },
    {
     "data": {
      "application/vnd.jupyter.widget-view+json": {
       "model_id": "0cbc43f1933e4e0cb416cec676fe2a1f",
       "version_major": 2,
       "version_minor": 0
      },
      "text/plain": [
       "  0%|          | 0/469 [00:00<?, ?it/s]"
      ]
     },
     "metadata": {},
     "output_type": "display_data"
    },
    {
     "name": "stdout",
     "output_type": "stream",
     "text": [
      "Validation => Loss 0.3094, Acc@1 0.8447\n",
      "============\n"
     ]
    },
    {
     "data": {
      "application/vnd.jupyter.widget-view+json": {
       "model_id": "83a29c1e39fb4faea8daea63c5bf3915",
       "version_major": 2,
       "version_minor": 0
      },
      "text/plain": [
       "  0%|          | 0/79 [00:00<?, ?it/s]"
      ]
     },
     "metadata": {},
     "output_type": "display_data"
    },
    {
     "name": "stdout",
     "output_type": "stream",
     "text": [
      "Val Perf after 1 epochs Acc@1 0.9136\n",
      "=> Caching mask state for model.0\n",
      "=> Caching mask state for model.2\n",
      "=> Caching mask state for model.4\n",
      "\n",
      "=> Setting learned tasks of model.0 to 47\n",
      "=> Setting learned tasks of model.2 to 47\n",
      "=> Setting learned tasks of model.4 to 47\n",
      "\n",
      "Training for task 47\n",
      "=> Set task of model.0 to 47\n",
      "=> Set task of model.2 to 47\n",
      "=> Set task of model.4 to 47\n"
     ]
    },
    {
     "data": {
      "application/vnd.jupyter.widget-view+json": {
       "model_id": "165a97dc39c64e73881984930c1bb130",
       "version_major": 2,
       "version_minor": 0
      },
      "text/plain": [
       "  0%|          | 0/469 [00:00<?, ?it/s]"
      ]
     },
     "metadata": {},
     "output_type": "display_data"
    },
    {
     "name": "stdout",
     "output_type": "stream",
     "text": [
      "Validation => Loss 0.3136, Acc@1 0.8457\n",
      "============\n"
     ]
    },
    {
     "data": {
      "application/vnd.jupyter.widget-view+json": {
       "model_id": "880aa4398daf49289647429a378d2318",
       "version_major": 2,
       "version_minor": 0
      },
      "text/plain": [
       "  0%|          | 0/79 [00:00<?, ?it/s]"
      ]
     },
     "metadata": {},
     "output_type": "display_data"
    },
    {
     "name": "stdout",
     "output_type": "stream",
     "text": [
      "Val Perf after 1 epochs Acc@1 0.9144\n",
      "=> Caching mask state for model.0\n",
      "=> Caching mask state for model.2\n",
      "=> Caching mask state for model.4\n",
      "\n",
      "=> Setting learned tasks of model.0 to 48\n",
      "=> Setting learned tasks of model.2 to 48\n",
      "=> Setting learned tasks of model.4 to 48\n",
      "\n",
      "Training for task 48\n",
      "=> Set task of model.0 to 48\n",
      "=> Set task of model.2 to 48\n",
      "=> Set task of model.4 to 48\n"
     ]
    },
    {
     "data": {
      "application/vnd.jupyter.widget-view+json": {
       "model_id": "59d4b95042224009ad9942c3e83ad843",
       "version_major": 2,
       "version_minor": 0
      },
      "text/plain": [
       "  0%|          | 0/469 [00:00<?, ?it/s]"
      ]
     },
     "metadata": {},
     "output_type": "display_data"
    },
    {
     "name": "stdout",
     "output_type": "stream",
     "text": [
      "Validation => Loss 0.3547, Acc@1 0.8418\n",
      "============\n"
     ]
    },
    {
     "data": {
      "application/vnd.jupyter.widget-view+json": {
       "model_id": "4e67db1f70c842a584b9785897fb31d0",
       "version_major": 2,
       "version_minor": 0
      },
      "text/plain": [
       "  0%|          | 0/79 [00:00<?, ?it/s]"
      ]
     },
     "metadata": {},
     "output_type": "display_data"
    },
    {
     "name": "stdout",
     "output_type": "stream",
     "text": [
      "Val Perf after 1 epochs Acc@1 0.9133\n",
      "=> Caching mask state for model.0\n",
      "=> Caching mask state for model.2\n",
      "=> Caching mask state for model.4\n",
      "\n",
      "=> Setting learned tasks of model.0 to 49\n",
      "=> Setting learned tasks of model.2 to 49\n",
      "=> Setting learned tasks of model.4 to 49\n",
      "\n",
      "Training for task 49\n",
      "=> Set task of model.0 to 49\n",
      "=> Set task of model.2 to 49\n",
      "=> Set task of model.4 to 49\n"
     ]
    },
    {
     "data": {
      "application/vnd.jupyter.widget-view+json": {
       "model_id": "1368eb4d65d44b22a59d0d59e46952c2",
       "version_major": 2,
       "version_minor": 0
      },
      "text/plain": [
       "  0%|          | 0/469 [00:00<?, ?it/s]"
      ]
     },
     "metadata": {},
     "output_type": "display_data"
    },
    {
     "name": "stdout",
     "output_type": "stream",
     "text": [
      "Validation => Loss 0.3256, Acc@1 0.8327\n",
      "============\n"
     ]
    },
    {
     "data": {
      "application/vnd.jupyter.widget-view+json": {
       "model_id": "b8aaaeb0afe54e1e949fed9a5263cd3e",
       "version_major": 2,
       "version_minor": 0
      },
      "text/plain": [
       "  0%|          | 0/79 [00:00<?, ?it/s]"
      ]
     },
     "metadata": {},
     "output_type": "display_data"
    },
    {
     "name": "stdout",
     "output_type": "stream",
     "text": [
      "Val Perf after 1 epochs Acc@1 0.9127\n",
      "=> Caching mask state for model.0\n",
      "=> Caching mask state for model.2\n",
      "=> Caching mask state for model.4\n",
      "\n",
      "=> Setting learned tasks of model.0 to 50\n",
      "=> Setting learned tasks of model.2 to 50\n",
      "=> Setting learned tasks of model.4 to 50\n",
      "\n"
     ]
    }
   ],
   "source": [
    "# Task ID given during train time\n",
    "from IPython.display import clear_output\n",
    "\n",
    "num_tasks = 50 # For demonstration purposes, we go up to 2500 in our paper\n",
    "model = MultitaskFC(hidden_size=300, num_tasks=num_tasks, sparsity=0.25)\n",
    "\n",
    "for task in range(num_tasks):\n",
    "    print(f\"Training for task {task}\")\n",
    "    set_model_task(model, task)\n",
    "    mnist.update_task(task)\n",
    "\n",
    "    optimizer = optim.RMSprop([p for p in model.parameters() if p.requires_grad], lr=1e-4)\n",
    "    # Train for 1 epoch\n",
    "    for e in range(1):\n",
    "        train(model, mnist.train_loader, optimizer, e)\n",
    "        \n",
    "        print(\"Validation\")\n",
    "        print(\"============\")\n",
    "        acc1 = evaluate(model, mnist.val_loader, e)\n",
    "        \n",
    "    \n",
    "    cache_masks(model)\n",
    "    print()\n",
    "    set_num_tasks_learned(model, task + 1)\n",
    "    print()"
   ]
  },
  {
   "cell_type": "code",
   "execution_count": 16,
   "metadata": {},
   "outputs": [
    {
     "name": "stdout",
     "output_type": "stream",
     "text": [
      "Average top 1 performance: 0.9123\n",
      "Per task performance\n",
      "Task 0: 0.9123\n",
      "Task 1: 0.9123\n",
      "Task 2: 0.9141\n",
      "Task 3: 0.9144\n",
      "Task 4: 0.9112\n",
      "Task 5: 0.9153\n",
      "Task 6: 0.9124\n",
      "Task 7: 0.9112\n",
      "Task 8: 0.9154\n",
      "Task 9: 0.9143\n",
      "Task 10: 0.9144\n",
      "Task 11: 0.9104\n",
      "Task 12: 0.9161\n",
      "Task 13: 0.9120\n",
      "Task 14: 0.9123\n",
      "Task 15: 0.9117\n",
      "Task 16: 0.9107\n",
      "Task 17: 0.9143\n",
      "Task 18: 0.9106\n",
      "Task 19: 0.9048\n",
      "Task 20: 0.9109\n",
      "Task 21: 0.9132\n",
      "Task 22: 0.9125\n",
      "Task 23: 0.9118\n",
      "Task 24: 0.9130\n",
      "Task 25: 0.9115\n",
      "Task 26: 0.9131\n",
      "Task 27: 0.9118\n",
      "Task 28: 0.9121\n",
      "Task 29: 0.9135\n",
      "Task 30: 0.9107\n",
      "Task 31: 0.9081\n",
      "Task 32: 0.9130\n",
      "Task 33: 0.9117\n",
      "Task 34: 0.9147\n",
      "Task 35: 0.9117\n",
      "Task 36: 0.9124\n",
      "Task 37: 0.9122\n",
      "Task 38: 0.9070\n",
      "Task 39: 0.9134\n",
      "Task 40: 0.9108\n",
      "Task 41: 0.9113\n",
      "Task 42: 0.9129\n",
      "Task 43: 0.9119\n",
      "Task 44: 0.9113\n",
      "Task 45: 0.9126\n",
      "Task 46: 0.9136\n",
      "Task 47: 0.9144\n",
      "Task 48: 0.9133\n",
      "Task 49: 0.9127\n"
     ]
    }
   ],
   "source": [
    "# When task ID we can simply set the mask and evaluate\n",
    "\n",
    "gg_performance = []\n",
    "for task in range(num_tasks):\n",
    "    set_model_task(model, task)\n",
    "    mnist.update_task(task)\n",
    "    acc1 = evaluate(model, mnist.val_loader, 0)\n",
    "    gg_performance.append(acc1.item())\n",
    "\n",
    "clear_output()\n",
    "    \n",
    "print(f\"Average top 1 performance: {(sum(gg_performance) / len(gg_performance)):.4f}\")\n",
    "\n",
    "print(\"Per task performance\")\n",
    "for t in range(num_tasks):\n",
    "    print(f\"Task {t}: {gg_performance[t]:.4f}\")"
   ]
  },
  {
   "cell_type": "code",
   "execution_count": 17,
   "metadata": {},
   "outputs": [],
   "source": [
    "performance_map['supsup_mnist'] = gg_performance.copy()"
   ]
  },
  {
   "cell_type": "markdown",
   "metadata": {},
   "source": [
    "### Multimask Same Task "
   ]
  },
  {
   "cell_type": "code",
   "execution_count": 18,
   "metadata": {},
   "outputs": [],
   "source": [
    "num_masks_to_create = 40"
   ]
  },
  {
   "cell_type": "code",
   "execution_count": 19,
   "metadata": {},
   "outputs": [],
   "source": [
    "loaders = {}\n",
    "for i in range(num_masks_to_create):\n",
    "    loaders[i] = MNISTPerm()"
   ]
  },
  {
   "cell_type": "code",
   "execution_count": 20,
   "metadata": {},
   "outputs": [],
   "source": [
    "weight_dict = {k: v for k,v in model.state_dict().items() if k.endswith('weight')}"
   ]
  },
  {
   "cell_type": "code",
   "execution_count": 21,
   "metadata": {},
   "outputs": [],
   "source": [
    "# Task ID given during train time\n",
    "from IPython.display import clear_output\n",
    "\n",
    "model_map = {}\n",
    "for i in range(num_masks_to_create):\n",
    "    modeli = MultitaskFC(hidden_size=300, num_tasks=1, sparsity=0.25)\n",
    "    sdi = modeli.state_dict()\n",
    "    sdi.update(weight_dict)\n",
    "    modeli.load_state_dict(sdi)\n",
    "    model_map[i] = modeli"
   ]
  },
  {
   "cell_type": "code",
   "execution_count": 22,
   "metadata": {
    "scrolled": true
   },
   "outputs": [
    {
     "name": "stdout",
     "output_type": "stream",
     "text": [
      "Training for task 0\n",
      "=> Set task of model.0 to 0\n",
      "=> Set task of model.2 to 0\n",
      "=> Set task of model.4 to 0\n"
     ]
    },
    {
     "data": {
      "application/vnd.jupyter.widget-view+json": {
       "model_id": "3c424e7510a64f009c3b52c40c41242e",
       "version_major": 2,
       "version_minor": 0
      },
      "text/plain": [
       "  0%|          | 0/469 [00:00<?, ?it/s]"
      ]
     },
     "metadata": {},
     "output_type": "display_data"
    },
    {
     "name": "stdout",
     "output_type": "stream",
     "text": [
      "Validation => Loss 0.3358, Acc@1 0.8366\n",
      "============\n"
     ]
    },
    {
     "data": {
      "application/vnd.jupyter.widget-view+json": {
       "model_id": "040fee6cb34d418eaccd49114e6629c5",
       "version_major": 2,
       "version_minor": 0
      },
      "text/plain": [
       "  0%|          | 0/79 [00:00<?, ?it/s]"
      ]
     },
     "metadata": {},
     "output_type": "display_data"
    },
    {
     "name": "stdout",
     "output_type": "stream",
     "text": [
      "Val Perf after 1 epochs Acc@1 0.9164\n",
      "=> Caching mask state for model.0\n",
      "=> Caching mask state for model.2\n",
      "=> Caching mask state for model.4\n",
      "\n",
      "=> Setting learned tasks of model.0 to 1\n",
      "=> Setting learned tasks of model.2 to 1\n",
      "=> Setting learned tasks of model.4 to 1\n",
      "\n",
      "Training for task 0\n",
      "=> Set task of model.0 to 0\n",
      "=> Set task of model.2 to 0\n",
      "=> Set task of model.4 to 0\n"
     ]
    },
    {
     "data": {
      "application/vnd.jupyter.widget-view+json": {
       "model_id": "8a5d5f96853d43f7b542bbc3d73b16d0",
       "version_major": 2,
       "version_minor": 0
      },
      "text/plain": [
       "  0%|          | 0/469 [00:00<?, ?it/s]"
      ]
     },
     "metadata": {},
     "output_type": "display_data"
    },
    {
     "name": "stdout",
     "output_type": "stream",
     "text": [
      "Validation => Loss 0.4087, Acc@1 0.8359\n",
      "============\n"
     ]
    },
    {
     "data": {
      "application/vnd.jupyter.widget-view+json": {
       "model_id": "4627876d8a594633918353c3cca49ee7",
       "version_major": 2,
       "version_minor": 0
      },
      "text/plain": [
       "  0%|          | 0/79 [00:00<?, ?it/s]"
      ]
     },
     "metadata": {},
     "output_type": "display_data"
    },
    {
     "name": "stdout",
     "output_type": "stream",
     "text": [
      "Val Perf after 1 epochs Acc@1 0.9085\n",
      "=> Caching mask state for model.0\n",
      "=> Caching mask state for model.2\n",
      "=> Caching mask state for model.4\n",
      "\n",
      "=> Setting learned tasks of model.0 to 1\n",
      "=> Setting learned tasks of model.2 to 1\n",
      "=> Setting learned tasks of model.4 to 1\n",
      "\n",
      "Training for task 0\n",
      "=> Set task of model.0 to 0\n",
      "=> Set task of model.2 to 0\n",
      "=> Set task of model.4 to 0\n"
     ]
    },
    {
     "data": {
      "application/vnd.jupyter.widget-view+json": {
       "model_id": "148d115c019c491ea511a9542baddd68",
       "version_major": 2,
       "version_minor": 0
      },
      "text/plain": [
       "  0%|          | 0/469 [00:00<?, ?it/s]"
      ]
     },
     "metadata": {},
     "output_type": "display_data"
    },
    {
     "name": "stdout",
     "output_type": "stream",
     "text": [
      "Validation => Loss 0.2240, Acc@1 0.8493\n",
      "============\n"
     ]
    },
    {
     "data": {
      "application/vnd.jupyter.widget-view+json": {
       "model_id": "cc6bcaade656441b94f55af26901020d",
       "version_major": 2,
       "version_minor": 0
      },
      "text/plain": [
       "  0%|          | 0/79 [00:00<?, ?it/s]"
      ]
     },
     "metadata": {},
     "output_type": "display_data"
    },
    {
     "name": "stdout",
     "output_type": "stream",
     "text": [
      "Val Perf after 1 epochs Acc@1 0.9067\n",
      "=> Caching mask state for model.0\n",
      "=> Caching mask state for model.2\n",
      "=> Caching mask state for model.4\n",
      "\n",
      "=> Setting learned tasks of model.0 to 1\n",
      "=> Setting learned tasks of model.2 to 1\n",
      "=> Setting learned tasks of model.4 to 1\n",
      "\n",
      "Training for task 0\n",
      "=> Set task of model.0 to 0\n",
      "=> Set task of model.2 to 0\n",
      "=> Set task of model.4 to 0\n"
     ]
    },
    {
     "data": {
      "application/vnd.jupyter.widget-view+json": {
       "model_id": "2aaf115af1984db3885b7763959bccd9",
       "version_major": 2,
       "version_minor": 0
      },
      "text/plain": [
       "  0%|          | 0/469 [00:00<?, ?it/s]"
      ]
     },
     "metadata": {},
     "output_type": "display_data"
    },
    {
     "name": "stdout",
     "output_type": "stream",
     "text": [
      "Validation => Loss 0.2797, Acc@1 0.8431\n",
      "============\n"
     ]
    },
    {
     "data": {
      "application/vnd.jupyter.widget-view+json": {
       "model_id": "e99a304f060d40f3877f95923c21a56e",
       "version_major": 2,
       "version_minor": 0
      },
      "text/plain": [
       "  0%|          | 0/79 [00:00<?, ?it/s]"
      ]
     },
     "metadata": {},
     "output_type": "display_data"
    },
    {
     "name": "stdout",
     "output_type": "stream",
     "text": [
      "Val Perf after 1 epochs Acc@1 0.9161\n",
      "=> Caching mask state for model.0\n",
      "=> Caching mask state for model.2\n",
      "=> Caching mask state for model.4\n",
      "\n",
      "=> Setting learned tasks of model.0 to 1\n",
      "=> Setting learned tasks of model.2 to 1\n",
      "=> Setting learned tasks of model.4 to 1\n",
      "\n",
      "Training for task 0\n",
      "=> Set task of model.0 to 0\n",
      "=> Set task of model.2 to 0\n",
      "=> Set task of model.4 to 0\n"
     ]
    },
    {
     "data": {
      "application/vnd.jupyter.widget-view+json": {
       "model_id": "61b93ebf27f749d998381381728bed7b",
       "version_major": 2,
       "version_minor": 0
      },
      "text/plain": [
       "  0%|          | 0/469 [00:00<?, ?it/s]"
      ]
     },
     "metadata": {},
     "output_type": "display_data"
    },
    {
     "name": "stdout",
     "output_type": "stream",
     "text": [
      "Validation => Loss 0.2619, Acc@1 0.8402\n",
      "============\n"
     ]
    },
    {
     "data": {
      "application/vnd.jupyter.widget-view+json": {
       "model_id": "94f0774a42e04e458cb4480f4a3abce3",
       "version_major": 2,
       "version_minor": 0
      },
      "text/plain": [
       "  0%|          | 0/79 [00:00<?, ?it/s]"
      ]
     },
     "metadata": {},
     "output_type": "display_data"
    },
    {
     "name": "stdout",
     "output_type": "stream",
     "text": [
      "Val Perf after 1 epochs Acc@1 0.9101\n",
      "=> Caching mask state for model.0\n",
      "=> Caching mask state for model.2\n",
      "=> Caching mask state for model.4\n",
      "\n",
      "=> Setting learned tasks of model.0 to 1\n",
      "=> Setting learned tasks of model.2 to 1\n",
      "=> Setting learned tasks of model.4 to 1\n",
      "\n",
      "Training for task 0\n",
      "=> Set task of model.0 to 0\n",
      "=> Set task of model.2 to 0\n",
      "=> Set task of model.4 to 0\n"
     ]
    },
    {
     "data": {
      "application/vnd.jupyter.widget-view+json": {
       "model_id": "2a612ade49444627a594ecb243e19e4c",
       "version_major": 2,
       "version_minor": 0
      },
      "text/plain": [
       "  0%|          | 0/469 [00:00<?, ?it/s]"
      ]
     },
     "metadata": {},
     "output_type": "display_data"
    },
    {
     "name": "stdout",
     "output_type": "stream",
     "text": [
      "Validation => Loss 0.2333, Acc@1 0.8509\n",
      "============\n"
     ]
    },
    {
     "data": {
      "application/vnd.jupyter.widget-view+json": {
       "model_id": "b9c565fdbf724ea4b12e17d8537cd9f5",
       "version_major": 2,
       "version_minor": 0
      },
      "text/plain": [
       "  0%|          | 0/79 [00:00<?, ?it/s]"
      ]
     },
     "metadata": {},
     "output_type": "display_data"
    },
    {
     "name": "stdout",
     "output_type": "stream",
     "text": [
      "Val Perf after 1 epochs Acc@1 0.9151\n",
      "=> Caching mask state for model.0\n",
      "=> Caching mask state for model.2\n",
      "=> Caching mask state for model.4\n",
      "\n",
      "=> Setting learned tasks of model.0 to 1\n",
      "=> Setting learned tasks of model.2 to 1\n",
      "=> Setting learned tasks of model.4 to 1\n",
      "\n",
      "Training for task 0\n",
      "=> Set task of model.0 to 0\n",
      "=> Set task of model.2 to 0\n",
      "=> Set task of model.4 to 0\n"
     ]
    },
    {
     "data": {
      "application/vnd.jupyter.widget-view+json": {
       "model_id": "99c2dbfa275d4ebabe6605ca9564fdc0",
       "version_major": 2,
       "version_minor": 0
      },
      "text/plain": [
       "  0%|          | 0/469 [00:00<?, ?it/s]"
      ]
     },
     "metadata": {},
     "output_type": "display_data"
    },
    {
     "name": "stdout",
     "output_type": "stream",
     "text": [
      "Validation => Loss 0.3669, Acc@1 0.8314\n",
      "============\n"
     ]
    },
    {
     "data": {
      "application/vnd.jupyter.widget-view+json": {
       "model_id": "5d8e3e7d7d6d4c08b6018d85aa06c89a",
       "version_major": 2,
       "version_minor": 0
      },
      "text/plain": [
       "  0%|          | 0/79 [00:00<?, ?it/s]"
      ]
     },
     "metadata": {},
     "output_type": "display_data"
    },
    {
     "name": "stdout",
     "output_type": "stream",
     "text": [
      "Val Perf after 1 epochs Acc@1 0.9112\n",
      "=> Caching mask state for model.0\n",
      "=> Caching mask state for model.2\n",
      "=> Caching mask state for model.4\n",
      "\n",
      "=> Setting learned tasks of model.0 to 1\n",
      "=> Setting learned tasks of model.2 to 1\n",
      "=> Setting learned tasks of model.4 to 1\n",
      "\n",
      "Training for task 0\n",
      "=> Set task of model.0 to 0\n",
      "=> Set task of model.2 to 0\n",
      "=> Set task of model.4 to 0\n"
     ]
    },
    {
     "data": {
      "application/vnd.jupyter.widget-view+json": {
       "model_id": "b63a429083624d67bf793b7809d23fc3",
       "version_major": 2,
       "version_minor": 0
      },
      "text/plain": [
       "  0%|          | 0/469 [00:00<?, ?it/s]"
      ]
     },
     "metadata": {},
     "output_type": "display_data"
    },
    {
     "name": "stdout",
     "output_type": "stream",
     "text": [
      "Validation => Loss 0.4344, Acc@1 0.8395\n",
      "============\n"
     ]
    },
    {
     "data": {
      "application/vnd.jupyter.widget-view+json": {
       "model_id": "cddbd5f2524d412bbe3ef6f71f695b19",
       "version_major": 2,
       "version_minor": 0
      },
      "text/plain": [
       "  0%|          | 0/79 [00:00<?, ?it/s]"
      ]
     },
     "metadata": {},
     "output_type": "display_data"
    },
    {
     "name": "stdout",
     "output_type": "stream",
     "text": [
      "Val Perf after 1 epochs Acc@1 0.9132\n",
      "=> Caching mask state for model.0\n",
      "=> Caching mask state for model.2\n",
      "=> Caching mask state for model.4\n",
      "\n",
      "=> Setting learned tasks of model.0 to 1\n",
      "=> Setting learned tasks of model.2 to 1\n",
      "=> Setting learned tasks of model.4 to 1\n",
      "\n",
      "Training for task 0\n",
      "=> Set task of model.0 to 0\n",
      "=> Set task of model.2 to 0\n",
      "=> Set task of model.4 to 0\n"
     ]
    },
    {
     "data": {
      "application/vnd.jupyter.widget-view+json": {
       "model_id": "3b74b935cd6a4c86ad169172dc2898b2",
       "version_major": 2,
       "version_minor": 0
      },
      "text/plain": [
       "  0%|          | 0/469 [00:00<?, ?it/s]"
      ]
     },
     "metadata": {},
     "output_type": "display_data"
    },
    {
     "name": "stdout",
     "output_type": "stream",
     "text": [
      "Validation => Loss 0.3648, Acc@1 0.8405\n",
      "============\n"
     ]
    },
    {
     "data": {
      "application/vnd.jupyter.widget-view+json": {
       "model_id": "e12947e6af8a48678a44975fc989f218",
       "version_major": 2,
       "version_minor": 0
      },
      "text/plain": [
       "  0%|          | 0/79 [00:00<?, ?it/s]"
      ]
     },
     "metadata": {},
     "output_type": "display_data"
    },
    {
     "name": "stdout",
     "output_type": "stream",
     "text": [
      "Val Perf after 1 epochs Acc@1 0.9135\n",
      "=> Caching mask state for model.0\n",
      "=> Caching mask state for model.2\n",
      "=> Caching mask state for model.4\n",
      "\n",
      "=> Setting learned tasks of model.0 to 1\n",
      "=> Setting learned tasks of model.2 to 1\n",
      "=> Setting learned tasks of model.4 to 1\n",
      "\n",
      "Training for task 0\n",
      "=> Set task of model.0 to 0\n",
      "=> Set task of model.2 to 0\n",
      "=> Set task of model.4 to 0\n"
     ]
    },
    {
     "data": {
      "application/vnd.jupyter.widget-view+json": {
       "model_id": "2e8fef889b994ea79d003297958884fb",
       "version_major": 2,
       "version_minor": 0
      },
      "text/plain": [
       "  0%|          | 0/469 [00:00<?, ?it/s]"
      ]
     },
     "metadata": {},
     "output_type": "display_data"
    },
    {
     "name": "stdout",
     "output_type": "stream",
     "text": [
      "Validation => Loss 0.3109, Acc@1 0.8473\n",
      "============\n"
     ]
    },
    {
     "data": {
      "application/vnd.jupyter.widget-view+json": {
       "model_id": "1aff32b1096243bf962860d158796f0d",
       "version_major": 2,
       "version_minor": 0
      },
      "text/plain": [
       "  0%|          | 0/79 [00:00<?, ?it/s]"
      ]
     },
     "metadata": {},
     "output_type": "display_data"
    },
    {
     "name": "stdout",
     "output_type": "stream",
     "text": [
      "Val Perf after 1 epochs Acc@1 0.9142\n",
      "=> Caching mask state for model.0\n",
      "=> Caching mask state for model.2\n",
      "=> Caching mask state for model.4\n",
      "\n",
      "=> Setting learned tasks of model.0 to 1\n",
      "=> Setting learned tasks of model.2 to 1\n",
      "=> Setting learned tasks of model.4 to 1\n",
      "\n",
      "Training for task 0\n",
      "=> Set task of model.0 to 0\n",
      "=> Set task of model.2 to 0\n",
      "=> Set task of model.4 to 0\n"
     ]
    },
    {
     "data": {
      "application/vnd.jupyter.widget-view+json": {
       "model_id": "daf0993d7bb84fcba484638c083d0f7b",
       "version_major": 2,
       "version_minor": 0
      },
      "text/plain": [
       "  0%|          | 0/469 [00:00<?, ?it/s]"
      ]
     },
     "metadata": {},
     "output_type": "display_data"
    },
    {
     "name": "stdout",
     "output_type": "stream",
     "text": [
      "Validation => Loss 0.2800, Acc@1 0.8363\n",
      "============\n"
     ]
    },
    {
     "data": {
      "application/vnd.jupyter.widget-view+json": {
       "model_id": "e6a1d320aa214dbbb216ddef67546f3c",
       "version_major": 2,
       "version_minor": 0
      },
      "text/plain": [
       "  0%|          | 0/79 [00:00<?, ?it/s]"
      ]
     },
     "metadata": {},
     "output_type": "display_data"
    },
    {
     "name": "stdout",
     "output_type": "stream",
     "text": [
      "Val Perf after 1 epochs Acc@1 0.9140\n",
      "=> Caching mask state for model.0\n",
      "=> Caching mask state for model.2\n",
      "=> Caching mask state for model.4\n",
      "\n",
      "=> Setting learned tasks of model.0 to 1\n",
      "=> Setting learned tasks of model.2 to 1\n",
      "=> Setting learned tasks of model.4 to 1\n",
      "\n",
      "Training for task 0\n",
      "=> Set task of model.0 to 0\n",
      "=> Set task of model.2 to 0\n",
      "=> Set task of model.4 to 0\n"
     ]
    },
    {
     "data": {
      "application/vnd.jupyter.widget-view+json": {
       "model_id": "d6daa4aa11374f04a75ab4885c93d09f",
       "version_major": 2,
       "version_minor": 0
      },
      "text/plain": [
       "  0%|          | 0/469 [00:00<?, ?it/s]"
      ]
     },
     "metadata": {},
     "output_type": "display_data"
    },
    {
     "name": "stdout",
     "output_type": "stream",
     "text": [
      "Validation => Loss 0.3516, Acc@1 0.8385\n",
      "============\n"
     ]
    },
    {
     "data": {
      "application/vnd.jupyter.widget-view+json": {
       "model_id": "7607b747845e46e4b12226ae4dd83852",
       "version_major": 2,
       "version_minor": 0
      },
      "text/plain": [
       "  0%|          | 0/79 [00:00<?, ?it/s]"
      ]
     },
     "metadata": {},
     "output_type": "display_data"
    },
    {
     "name": "stdout",
     "output_type": "stream",
     "text": [
      "Val Perf after 1 epochs Acc@1 0.9133\n",
      "=> Caching mask state for model.0\n",
      "=> Caching mask state for model.2\n",
      "=> Caching mask state for model.4\n",
      "\n",
      "=> Setting learned tasks of model.0 to 1\n",
      "=> Setting learned tasks of model.2 to 1\n",
      "=> Setting learned tasks of model.4 to 1\n",
      "\n",
      "Training for task 0\n",
      "=> Set task of model.0 to 0\n",
      "=> Set task of model.2 to 0\n",
      "=> Set task of model.4 to 0\n"
     ]
    },
    {
     "data": {
      "application/vnd.jupyter.widget-view+json": {
       "model_id": "fa182b94ba3d4d1b8316526764d139e4",
       "version_major": 2,
       "version_minor": 0
      },
      "text/plain": [
       "  0%|          | 0/469 [00:00<?, ?it/s]"
      ]
     },
     "metadata": {},
     "output_type": "display_data"
    },
    {
     "name": "stdout",
     "output_type": "stream",
     "text": [
      "Validation => Loss 0.2635, Acc@1 0.8356\n",
      "============\n"
     ]
    },
    {
     "data": {
      "application/vnd.jupyter.widget-view+json": {
       "model_id": "8102e12fca204eeb93d27241f5cce46f",
       "version_major": 2,
       "version_minor": 0
      },
      "text/plain": [
       "  0%|          | 0/79 [00:00<?, ?it/s]"
      ]
     },
     "metadata": {},
     "output_type": "display_data"
    },
    {
     "name": "stdout",
     "output_type": "stream",
     "text": [
      "Val Perf after 1 epochs Acc@1 0.9124\n",
      "=> Caching mask state for model.0\n",
      "=> Caching mask state for model.2\n",
      "=> Caching mask state for model.4\n",
      "\n",
      "=> Setting learned tasks of model.0 to 1\n",
      "=> Setting learned tasks of model.2 to 1\n",
      "=> Setting learned tasks of model.4 to 1\n",
      "\n",
      "Training for task 0\n",
      "=> Set task of model.0 to 0\n",
      "=> Set task of model.2 to 0\n",
      "=> Set task of model.4 to 0\n"
     ]
    },
    {
     "data": {
      "application/vnd.jupyter.widget-view+json": {
       "model_id": "827931efcbb74cd58e0740d65342e3d0",
       "version_major": 2,
       "version_minor": 0
      },
      "text/plain": [
       "  0%|          | 0/469 [00:00<?, ?it/s]"
      ]
     },
     "metadata": {},
     "output_type": "display_data"
    },
    {
     "name": "stdout",
     "output_type": "stream",
     "text": [
      "Validation => Loss 0.3482, Acc@1 0.8454\n",
      "============\n"
     ]
    },
    {
     "data": {
      "application/vnd.jupyter.widget-view+json": {
       "model_id": "10328b50816448a795f08f6e989a1aa9",
       "version_major": 2,
       "version_minor": 0
      },
      "text/plain": [
       "  0%|          | 0/79 [00:00<?, ?it/s]"
      ]
     },
     "metadata": {},
     "output_type": "display_data"
    },
    {
     "name": "stdout",
     "output_type": "stream",
     "text": [
      "Val Perf after 1 epochs Acc@1 0.9153\n",
      "=> Caching mask state for model.0\n",
      "=> Caching mask state for model.2\n",
      "=> Caching mask state for model.4\n",
      "\n",
      "=> Setting learned tasks of model.0 to 1\n",
      "=> Setting learned tasks of model.2 to 1\n",
      "=> Setting learned tasks of model.4 to 1\n",
      "\n",
      "Training for task 0\n",
      "=> Set task of model.0 to 0\n",
      "=> Set task of model.2 to 0\n",
      "=> Set task of model.4 to 0\n"
     ]
    },
    {
     "data": {
      "application/vnd.jupyter.widget-view+json": {
       "model_id": "d20611dc368344128978dfbd85684f3a",
       "version_major": 2,
       "version_minor": 0
      },
      "text/plain": [
       "  0%|          | 0/469 [00:00<?, ?it/s]"
      ]
     },
     "metadata": {},
     "output_type": "display_data"
    },
    {
     "name": "stdout",
     "output_type": "stream",
     "text": [
      "Validation => Loss 0.1974, Acc@1 0.8356\n",
      "============\n"
     ]
    },
    {
     "data": {
      "application/vnd.jupyter.widget-view+json": {
       "model_id": "e7e99815d36e46ef8c08cea72256c23e",
       "version_major": 2,
       "version_minor": 0
      },
      "text/plain": [
       "  0%|          | 0/79 [00:00<?, ?it/s]"
      ]
     },
     "metadata": {},
     "output_type": "display_data"
    },
    {
     "name": "stdout",
     "output_type": "stream",
     "text": [
      "Val Perf after 1 epochs Acc@1 0.9114\n",
      "=> Caching mask state for model.0\n",
      "=> Caching mask state for model.2\n",
      "=> Caching mask state for model.4\n",
      "\n",
      "=> Setting learned tasks of model.0 to 1\n",
      "=> Setting learned tasks of model.2 to 1\n",
      "=> Setting learned tasks of model.4 to 1\n",
      "\n",
      "Training for task 0\n",
      "=> Set task of model.0 to 0\n",
      "=> Set task of model.2 to 0\n",
      "=> Set task of model.4 to 0\n"
     ]
    },
    {
     "data": {
      "application/vnd.jupyter.widget-view+json": {
       "model_id": "d5d67e3f5e8e425e858be1404a30cd3e",
       "version_major": 2,
       "version_minor": 0
      },
      "text/plain": [
       "  0%|          | 0/469 [00:00<?, ?it/s]"
      ]
     },
     "metadata": {},
     "output_type": "display_data"
    },
    {
     "name": "stdout",
     "output_type": "stream",
     "text": [
      "Validation => Loss 0.3033, Acc@1 0.8369\n",
      "============\n"
     ]
    },
    {
     "data": {
      "application/vnd.jupyter.widget-view+json": {
       "model_id": "efc8f044c8b940228cb96b444b97777f",
       "version_major": 2,
       "version_minor": 0
      },
      "text/plain": [
       "  0%|          | 0/79 [00:00<?, ?it/s]"
      ]
     },
     "metadata": {},
     "output_type": "display_data"
    },
    {
     "name": "stdout",
     "output_type": "stream",
     "text": [
      "Val Perf after 1 epochs Acc@1 0.9119\n",
      "=> Caching mask state for model.0\n",
      "=> Caching mask state for model.2\n",
      "=> Caching mask state for model.4\n",
      "\n",
      "=> Setting learned tasks of model.0 to 1\n",
      "=> Setting learned tasks of model.2 to 1\n",
      "=> Setting learned tasks of model.4 to 1\n",
      "\n",
      "Training for task 0\n",
      "=> Set task of model.0 to 0\n",
      "=> Set task of model.2 to 0\n",
      "=> Set task of model.4 to 0\n"
     ]
    },
    {
     "data": {
      "application/vnd.jupyter.widget-view+json": {
       "model_id": "af7a7b417c334af6b97fe82adba68038",
       "version_major": 2,
       "version_minor": 0
      },
      "text/plain": [
       "  0%|          | 0/469 [00:00<?, ?it/s]"
      ]
     },
     "metadata": {},
     "output_type": "display_data"
    },
    {
     "name": "stdout",
     "output_type": "stream",
     "text": [
      "Validation => Loss 0.2982, Acc@1 0.8415\n",
      "============\n"
     ]
    },
    {
     "data": {
      "application/vnd.jupyter.widget-view+json": {
       "model_id": "bbefbc356d47487cbb5aa0f9b0206fa0",
       "version_major": 2,
       "version_minor": 0
      },
      "text/plain": [
       "  0%|          | 0/79 [00:00<?, ?it/s]"
      ]
     },
     "metadata": {},
     "output_type": "display_data"
    },
    {
     "name": "stdout",
     "output_type": "stream",
     "text": [
      "Val Perf after 1 epochs Acc@1 0.9145\n",
      "=> Caching mask state for model.0\n",
      "=> Caching mask state for model.2\n",
      "=> Caching mask state for model.4\n",
      "\n",
      "=> Setting learned tasks of model.0 to 1\n",
      "=> Setting learned tasks of model.2 to 1\n",
      "=> Setting learned tasks of model.4 to 1\n",
      "\n",
      "Training for task 0\n",
      "=> Set task of model.0 to 0\n",
      "=> Set task of model.2 to 0\n",
      "=> Set task of model.4 to 0\n"
     ]
    },
    {
     "data": {
      "application/vnd.jupyter.widget-view+json": {
       "model_id": "b6493f7d295d44d38cd03ca2414fc353",
       "version_major": 2,
       "version_minor": 0
      },
      "text/plain": [
       "  0%|          | 0/469 [00:00<?, ?it/s]"
      ]
     },
     "metadata": {},
     "output_type": "display_data"
    },
    {
     "name": "stdout",
     "output_type": "stream",
     "text": [
      "Validation => Loss 0.3697, Acc@1 0.8438\n",
      "============\n"
     ]
    },
    {
     "data": {
      "application/vnd.jupyter.widget-view+json": {
       "model_id": "e6e2b9464d2444198ca5500e4f392e6a",
       "version_major": 2,
       "version_minor": 0
      },
      "text/plain": [
       "  0%|          | 0/79 [00:00<?, ?it/s]"
      ]
     },
     "metadata": {},
     "output_type": "display_data"
    },
    {
     "name": "stdout",
     "output_type": "stream",
     "text": [
      "Val Perf after 1 epochs Acc@1 0.9121\n",
      "=> Caching mask state for model.0\n",
      "=> Caching mask state for model.2\n",
      "=> Caching mask state for model.4\n",
      "\n",
      "=> Setting learned tasks of model.0 to 1\n",
      "=> Setting learned tasks of model.2 to 1\n",
      "=> Setting learned tasks of model.4 to 1\n",
      "\n",
      "Training for task 0\n",
      "=> Set task of model.0 to 0\n",
      "=> Set task of model.2 to 0\n",
      "=> Set task of model.4 to 0\n"
     ]
    },
    {
     "data": {
      "application/vnd.jupyter.widget-view+json": {
       "model_id": "32e95646541143f6ab708460f013fd1b",
       "version_major": 2,
       "version_minor": 0
      },
      "text/plain": [
       "  0%|          | 0/469 [00:00<?, ?it/s]"
      ]
     },
     "metadata": {},
     "output_type": "display_data"
    },
    {
     "name": "stdout",
     "output_type": "stream",
     "text": [
      "Validation => Loss 0.3314, Acc@1 0.8441\n",
      "============\n"
     ]
    },
    {
     "data": {
      "application/vnd.jupyter.widget-view+json": {
       "model_id": "b088367c4d8f4a469a2a683ace3212fc",
       "version_major": 2,
       "version_minor": 0
      },
      "text/plain": [
       "  0%|          | 0/79 [00:00<?, ?it/s]"
      ]
     },
     "metadata": {},
     "output_type": "display_data"
    },
    {
     "name": "stdout",
     "output_type": "stream",
     "text": [
      "Val Perf after 1 epochs Acc@1 0.9151\n",
      "=> Caching mask state for model.0\n",
      "=> Caching mask state for model.2\n",
      "=> Caching mask state for model.4\n",
      "\n",
      "=> Setting learned tasks of model.0 to 1\n",
      "=> Setting learned tasks of model.2 to 1\n",
      "=> Setting learned tasks of model.4 to 1\n",
      "\n",
      "Training for task 0\n",
      "=> Set task of model.0 to 0\n",
      "=> Set task of model.2 to 0\n",
      "=> Set task of model.4 to 0\n"
     ]
    },
    {
     "data": {
      "application/vnd.jupyter.widget-view+json": {
       "model_id": "f7a671ac5cf547a6ab77efe5c455b66d",
       "version_major": 2,
       "version_minor": 0
      },
      "text/plain": [
       "  0%|          | 0/469 [00:00<?, ?it/s]"
      ]
     },
     "metadata": {},
     "output_type": "display_data"
    },
    {
     "name": "stdout",
     "output_type": "stream",
     "text": [
      "Validation => Loss 0.2264, Acc@1 0.8395\n",
      "============\n"
     ]
    },
    {
     "data": {
      "application/vnd.jupyter.widget-view+json": {
       "model_id": "5a1d2417322a4af38602a8c81eb7871f",
       "version_major": 2,
       "version_minor": 0
      },
      "text/plain": [
       "  0%|          | 0/79 [00:00<?, ?it/s]"
      ]
     },
     "metadata": {},
     "output_type": "display_data"
    },
    {
     "name": "stdout",
     "output_type": "stream",
     "text": [
      "Val Perf after 1 epochs Acc@1 0.9136\n",
      "=> Caching mask state for model.0\n",
      "=> Caching mask state for model.2\n",
      "=> Caching mask state for model.4\n",
      "\n",
      "=> Setting learned tasks of model.0 to 1\n",
      "=> Setting learned tasks of model.2 to 1\n",
      "=> Setting learned tasks of model.4 to 1\n",
      "\n",
      "Training for task 0\n",
      "=> Set task of model.0 to 0\n",
      "=> Set task of model.2 to 0\n",
      "=> Set task of model.4 to 0\n"
     ]
    },
    {
     "data": {
      "application/vnd.jupyter.widget-view+json": {
       "model_id": "c6b8200cb4c64ef68bf0998f56131315",
       "version_major": 2,
       "version_minor": 0
      },
      "text/plain": [
       "  0%|          | 0/469 [00:00<?, ?it/s]"
      ]
     },
     "metadata": {},
     "output_type": "display_data"
    },
    {
     "name": "stdout",
     "output_type": "stream",
     "text": [
      "Validation => Loss 0.2762, Acc@1 0.8294\n",
      "============\n"
     ]
    },
    {
     "data": {
      "application/vnd.jupyter.widget-view+json": {
       "model_id": "70915b9facc8409c8d0a2274418e7789",
       "version_major": 2,
       "version_minor": 0
      },
      "text/plain": [
       "  0%|          | 0/79 [00:00<?, ?it/s]"
      ]
     },
     "metadata": {},
     "output_type": "display_data"
    },
    {
     "name": "stdout",
     "output_type": "stream",
     "text": [
      "Val Perf after 1 epochs Acc@1 0.9102\n",
      "=> Caching mask state for model.0\n",
      "=> Caching mask state for model.2\n",
      "=> Caching mask state for model.4\n",
      "\n",
      "=> Setting learned tasks of model.0 to 1\n",
      "=> Setting learned tasks of model.2 to 1\n",
      "=> Setting learned tasks of model.4 to 1\n",
      "\n",
      "Training for task 0\n",
      "=> Set task of model.0 to 0\n",
      "=> Set task of model.2 to 0\n",
      "=> Set task of model.4 to 0\n"
     ]
    },
    {
     "data": {
      "application/vnd.jupyter.widget-view+json": {
       "model_id": "02a91ce368b54ceeabe0b04ee5eb543f",
       "version_major": 2,
       "version_minor": 0
      },
      "text/plain": [
       "  0%|          | 0/469 [00:00<?, ?it/s]"
      ]
     },
     "metadata": {},
     "output_type": "display_data"
    },
    {
     "name": "stdout",
     "output_type": "stream",
     "text": [
      "Validation => Loss 0.3649, Acc@1 0.8304\n",
      "============\n"
     ]
    },
    {
     "data": {
      "application/vnd.jupyter.widget-view+json": {
       "model_id": "cfb166abc9f644259880db6aa560f60a",
       "version_major": 2,
       "version_minor": 0
      },
      "text/plain": [
       "  0%|          | 0/79 [00:00<?, ?it/s]"
      ]
     },
     "metadata": {},
     "output_type": "display_data"
    },
    {
     "name": "stdout",
     "output_type": "stream",
     "text": [
      "Val Perf after 1 epochs Acc@1 0.9141\n",
      "=> Caching mask state for model.0\n",
      "=> Caching mask state for model.2\n",
      "=> Caching mask state for model.4\n",
      "\n",
      "=> Setting learned tasks of model.0 to 1\n",
      "=> Setting learned tasks of model.2 to 1\n",
      "=> Setting learned tasks of model.4 to 1\n",
      "\n",
      "Training for task 0\n",
      "=> Set task of model.0 to 0\n",
      "=> Set task of model.2 to 0\n",
      "=> Set task of model.4 to 0\n"
     ]
    },
    {
     "data": {
      "application/vnd.jupyter.widget-view+json": {
       "model_id": "f4242dd29d8e49b4a64d03ac09d404de",
       "version_major": 2,
       "version_minor": 0
      },
      "text/plain": [
       "  0%|          | 0/469 [00:00<?, ?it/s]"
      ]
     },
     "metadata": {},
     "output_type": "display_data"
    },
    {
     "name": "stdout",
     "output_type": "stream",
     "text": [
      "Validation => Loss 0.3203, Acc@1 0.8330\n",
      "============\n"
     ]
    },
    {
     "data": {
      "application/vnd.jupyter.widget-view+json": {
       "model_id": "abddd7638fd14ce688171d9a757da016",
       "version_major": 2,
       "version_minor": 0
      },
      "text/plain": [
       "  0%|          | 0/79 [00:00<?, ?it/s]"
      ]
     },
     "metadata": {},
     "output_type": "display_data"
    },
    {
     "name": "stdout",
     "output_type": "stream",
     "text": [
      "Val Perf after 1 epochs Acc@1 0.9140\n",
      "=> Caching mask state for model.0\n",
      "=> Caching mask state for model.2\n",
      "=> Caching mask state for model.4\n",
      "\n",
      "=> Setting learned tasks of model.0 to 1\n",
      "=> Setting learned tasks of model.2 to 1\n",
      "=> Setting learned tasks of model.4 to 1\n",
      "\n",
      "Training for task 0\n",
      "=> Set task of model.0 to 0\n",
      "=> Set task of model.2 to 0\n",
      "=> Set task of model.4 to 0\n"
     ]
    },
    {
     "data": {
      "application/vnd.jupyter.widget-view+json": {
       "model_id": "84d97c9eea27414496243c627e8a7f56",
       "version_major": 2,
       "version_minor": 0
      },
      "text/plain": [
       "  0%|          | 0/469 [00:00<?, ?it/s]"
      ]
     },
     "metadata": {},
     "output_type": "display_data"
    },
    {
     "name": "stdout",
     "output_type": "stream",
     "text": [
      "Validation => Loss 0.3110, Acc@1 0.8424\n",
      "============\n"
     ]
    },
    {
     "data": {
      "application/vnd.jupyter.widget-view+json": {
       "model_id": "de10af5885334a29ae0d5fa344a834fa",
       "version_major": 2,
       "version_minor": 0
      },
      "text/plain": [
       "  0%|          | 0/79 [00:00<?, ?it/s]"
      ]
     },
     "metadata": {},
     "output_type": "display_data"
    },
    {
     "name": "stdout",
     "output_type": "stream",
     "text": [
      "Val Perf after 1 epochs Acc@1 0.9077\n",
      "=> Caching mask state for model.0\n",
      "=> Caching mask state for model.2\n",
      "=> Caching mask state for model.4\n",
      "\n",
      "=> Setting learned tasks of model.0 to 1\n",
      "=> Setting learned tasks of model.2 to 1\n",
      "=> Setting learned tasks of model.4 to 1\n",
      "\n",
      "Training for task 0\n",
      "=> Set task of model.0 to 0\n",
      "=> Set task of model.2 to 0\n",
      "=> Set task of model.4 to 0\n"
     ]
    },
    {
     "data": {
      "application/vnd.jupyter.widget-view+json": {
       "model_id": "ef125b0797d9408eb433d176ddafc749",
       "version_major": 2,
       "version_minor": 0
      },
      "text/plain": [
       "  0%|          | 0/469 [00:00<?, ?it/s]"
      ]
     },
     "metadata": {},
     "output_type": "display_data"
    },
    {
     "name": "stdout",
     "output_type": "stream",
     "text": [
      "Validation => Loss 0.3506, Acc@1 0.8307\n",
      "============\n"
     ]
    },
    {
     "data": {
      "application/vnd.jupyter.widget-view+json": {
       "model_id": "c7a273da0c954adeb0a833467d4ef629",
       "version_major": 2,
       "version_minor": 0
      },
      "text/plain": [
       "  0%|          | 0/79 [00:00<?, ?it/s]"
      ]
     },
     "metadata": {},
     "output_type": "display_data"
    },
    {
     "name": "stdout",
     "output_type": "stream",
     "text": [
      "Val Perf after 1 epochs Acc@1 0.9101\n",
      "=> Caching mask state for model.0\n",
      "=> Caching mask state for model.2\n",
      "=> Caching mask state for model.4\n",
      "\n",
      "=> Setting learned tasks of model.0 to 1\n",
      "=> Setting learned tasks of model.2 to 1\n",
      "=> Setting learned tasks of model.4 to 1\n",
      "\n",
      "Training for task 0\n",
      "=> Set task of model.0 to 0\n",
      "=> Set task of model.2 to 0\n",
      "=> Set task of model.4 to 0\n"
     ]
    },
    {
     "data": {
      "application/vnd.jupyter.widget-view+json": {
       "model_id": "f87b810977434e0e84864bffd6173bfc",
       "version_major": 2,
       "version_minor": 0
      },
      "text/plain": [
       "  0%|          | 0/469 [00:00<?, ?it/s]"
      ]
     },
     "metadata": {},
     "output_type": "display_data"
    },
    {
     "name": "stdout",
     "output_type": "stream",
     "text": [
      "Validation => Loss 0.4260, Acc@1 0.8408\n",
      "============\n"
     ]
    },
    {
     "data": {
      "application/vnd.jupyter.widget-view+json": {
       "model_id": "33303a13b5134fc09eb6913c395c29ad",
       "version_major": 2,
       "version_minor": 0
      },
      "text/plain": [
       "  0%|          | 0/79 [00:00<?, ?it/s]"
      ]
     },
     "metadata": {},
     "output_type": "display_data"
    },
    {
     "name": "stdout",
     "output_type": "stream",
     "text": [
      "Val Perf after 1 epochs Acc@1 0.9109\n",
      "=> Caching mask state for model.0\n",
      "=> Caching mask state for model.2\n",
      "=> Caching mask state for model.4\n",
      "\n",
      "=> Setting learned tasks of model.0 to 1\n",
      "=> Setting learned tasks of model.2 to 1\n",
      "=> Setting learned tasks of model.4 to 1\n",
      "\n",
      "Training for task 0\n",
      "=> Set task of model.0 to 0\n",
      "=> Set task of model.2 to 0\n",
      "=> Set task of model.4 to 0\n"
     ]
    },
    {
     "data": {
      "application/vnd.jupyter.widget-view+json": {
       "model_id": "428a8e3b77224082b0cfb90311603f97",
       "version_major": 2,
       "version_minor": 0
      },
      "text/plain": [
       "  0%|          | 0/469 [00:00<?, ?it/s]"
      ]
     },
     "metadata": {},
     "output_type": "display_data"
    },
    {
     "name": "stdout",
     "output_type": "stream",
     "text": [
      "Validation => Loss 0.3874, Acc@1 0.8389\n",
      "============\n"
     ]
    },
    {
     "data": {
      "application/vnd.jupyter.widget-view+json": {
       "model_id": "bfa333a5acdb44de8196fb21d1cb4e51",
       "version_major": 2,
       "version_minor": 0
      },
      "text/plain": [
       "  0%|          | 0/79 [00:00<?, ?it/s]"
      ]
     },
     "metadata": {},
     "output_type": "display_data"
    },
    {
     "name": "stdout",
     "output_type": "stream",
     "text": [
      "Val Perf after 1 epochs Acc@1 0.9114\n",
      "=> Caching mask state for model.0\n",
      "=> Caching mask state for model.2\n",
      "=> Caching mask state for model.4\n",
      "\n",
      "=> Setting learned tasks of model.0 to 1\n",
      "=> Setting learned tasks of model.2 to 1\n",
      "=> Setting learned tasks of model.4 to 1\n",
      "\n",
      "Training for task 0\n",
      "=> Set task of model.0 to 0\n",
      "=> Set task of model.2 to 0\n",
      "=> Set task of model.4 to 0\n"
     ]
    },
    {
     "data": {
      "application/vnd.jupyter.widget-view+json": {
       "model_id": "1bd21634a6e14597bca4cd94c9ec3b20",
       "version_major": 2,
       "version_minor": 0
      },
      "text/plain": [
       "  0%|          | 0/469 [00:00<?, ?it/s]"
      ]
     },
     "metadata": {},
     "output_type": "display_data"
    },
    {
     "name": "stdout",
     "output_type": "stream",
     "text": [
      "Validation => Loss 0.2733, Acc@1 0.8467\n",
      "============\n"
     ]
    },
    {
     "data": {
      "application/vnd.jupyter.widget-view+json": {
       "model_id": "ba53c4b1d71546fabfe276a09f1f0871",
       "version_major": 2,
       "version_minor": 0
      },
      "text/plain": [
       "  0%|          | 0/79 [00:00<?, ?it/s]"
      ]
     },
     "metadata": {},
     "output_type": "display_data"
    },
    {
     "name": "stdout",
     "output_type": "stream",
     "text": [
      "Val Perf after 1 epochs Acc@1 0.9116\n",
      "=> Caching mask state for model.0\n",
      "=> Caching mask state for model.2\n",
      "=> Caching mask state for model.4\n",
      "\n",
      "=> Setting learned tasks of model.0 to 1\n",
      "=> Setting learned tasks of model.2 to 1\n",
      "=> Setting learned tasks of model.4 to 1\n",
      "\n",
      "Training for task 0\n",
      "=> Set task of model.0 to 0\n",
      "=> Set task of model.2 to 0\n",
      "=> Set task of model.4 to 0\n"
     ]
    },
    {
     "data": {
      "application/vnd.jupyter.widget-view+json": {
       "model_id": "6f85edf717224645931289b84d07fa0c",
       "version_major": 2,
       "version_minor": 0
      },
      "text/plain": [
       "  0%|          | 0/469 [00:00<?, ?it/s]"
      ]
     },
     "metadata": {},
     "output_type": "display_data"
    },
    {
     "name": "stdout",
     "output_type": "stream",
     "text": [
      "Validation => Loss 0.3966, Acc@1 0.8434\n",
      "============\n"
     ]
    },
    {
     "data": {
      "application/vnd.jupyter.widget-view+json": {
       "model_id": "5870cb94f8424670a5a6f45e11a154a8",
       "version_major": 2,
       "version_minor": 0
      },
      "text/plain": [
       "  0%|          | 0/79 [00:00<?, ?it/s]"
      ]
     },
     "metadata": {},
     "output_type": "display_data"
    },
    {
     "name": "stdout",
     "output_type": "stream",
     "text": [
      "Val Perf after 1 epochs Acc@1 0.9098\n",
      "=> Caching mask state for model.0\n",
      "=> Caching mask state for model.2\n",
      "=> Caching mask state for model.4\n",
      "\n",
      "=> Setting learned tasks of model.0 to 1\n",
      "=> Setting learned tasks of model.2 to 1\n",
      "=> Setting learned tasks of model.4 to 1\n",
      "\n",
      "Training for task 0\n",
      "=> Set task of model.0 to 0\n",
      "=> Set task of model.2 to 0\n",
      "=> Set task of model.4 to 0\n"
     ]
    },
    {
     "data": {
      "application/vnd.jupyter.widget-view+json": {
       "model_id": "01e26c5991fa4fd88909570fb1f10d91",
       "version_major": 2,
       "version_minor": 0
      },
      "text/plain": [
       "  0%|          | 0/469 [00:00<?, ?it/s]"
      ]
     },
     "metadata": {},
     "output_type": "display_data"
    },
    {
     "name": "stdout",
     "output_type": "stream",
     "text": [
      "Validation => Loss 0.2999, Acc@1 0.8402\n",
      "============\n"
     ]
    },
    {
     "data": {
      "application/vnd.jupyter.widget-view+json": {
       "model_id": "19b8ac69f9744acc8da4e7ac277e44b1",
       "version_major": 2,
       "version_minor": 0
      },
      "text/plain": [
       "  0%|          | 0/79 [00:00<?, ?it/s]"
      ]
     },
     "metadata": {},
     "output_type": "display_data"
    },
    {
     "name": "stdout",
     "output_type": "stream",
     "text": [
      "Val Perf after 1 epochs Acc@1 0.9120\n",
      "=> Caching mask state for model.0\n",
      "=> Caching mask state for model.2\n",
      "=> Caching mask state for model.4\n",
      "\n",
      "=> Setting learned tasks of model.0 to 1\n",
      "=> Setting learned tasks of model.2 to 1\n",
      "=> Setting learned tasks of model.4 to 1\n",
      "\n",
      "Training for task 0\n",
      "=> Set task of model.0 to 0\n",
      "=> Set task of model.2 to 0\n",
      "=> Set task of model.4 to 0\n"
     ]
    },
    {
     "data": {
      "application/vnd.jupyter.widget-view+json": {
       "model_id": "8af3d960c4dc43b4aa44c43745c8e0a2",
       "version_major": 2,
       "version_minor": 0
      },
      "text/plain": [
       "  0%|          | 0/469 [00:00<?, ?it/s]"
      ]
     },
     "metadata": {},
     "output_type": "display_data"
    },
    {
     "name": "stdout",
     "output_type": "stream",
     "text": [
      "Validation => Loss 0.4134, Acc@1 0.8343\n",
      "============\n"
     ]
    },
    {
     "data": {
      "application/vnd.jupyter.widget-view+json": {
       "model_id": "c7408995a9334ca4b316b35508f71ebf",
       "version_major": 2,
       "version_minor": 0
      },
      "text/plain": [
       "  0%|          | 0/79 [00:00<?, ?it/s]"
      ]
     },
     "metadata": {},
     "output_type": "display_data"
    },
    {
     "name": "stdout",
     "output_type": "stream",
     "text": [
      "Val Perf after 1 epochs Acc@1 0.9107\n",
      "=> Caching mask state for model.0\n",
      "=> Caching mask state for model.2\n",
      "=> Caching mask state for model.4\n",
      "\n",
      "=> Setting learned tasks of model.0 to 1\n",
      "=> Setting learned tasks of model.2 to 1\n",
      "=> Setting learned tasks of model.4 to 1\n",
      "\n",
      "Training for task 0\n",
      "=> Set task of model.0 to 0\n",
      "=> Set task of model.2 to 0\n",
      "=> Set task of model.4 to 0\n"
     ]
    },
    {
     "data": {
      "application/vnd.jupyter.widget-view+json": {
       "model_id": "6f9b1b0c06014700876ffc913e39fcdd",
       "version_major": 2,
       "version_minor": 0
      },
      "text/plain": [
       "  0%|          | 0/469 [00:00<?, ?it/s]"
      ]
     },
     "metadata": {},
     "output_type": "display_data"
    },
    {
     "name": "stdout",
     "output_type": "stream",
     "text": [
      "Validation => Loss 0.4034, Acc@1 0.8402\n",
      "============\n"
     ]
    },
    {
     "data": {
      "application/vnd.jupyter.widget-view+json": {
       "model_id": "f373b2992bf347428af4fbef84de7e5f",
       "version_major": 2,
       "version_minor": 0
      },
      "text/plain": [
       "  0%|          | 0/79 [00:00<?, ?it/s]"
      ]
     },
     "metadata": {},
     "output_type": "display_data"
    },
    {
     "name": "stdout",
     "output_type": "stream",
     "text": [
      "Val Perf after 1 epochs Acc@1 0.9151\n",
      "=> Caching mask state for model.0\n",
      "=> Caching mask state for model.2\n",
      "=> Caching mask state for model.4\n",
      "\n",
      "=> Setting learned tasks of model.0 to 1\n",
      "=> Setting learned tasks of model.2 to 1\n",
      "=> Setting learned tasks of model.4 to 1\n",
      "\n",
      "Training for task 0\n",
      "=> Set task of model.0 to 0\n",
      "=> Set task of model.2 to 0\n",
      "=> Set task of model.4 to 0\n"
     ]
    },
    {
     "data": {
      "application/vnd.jupyter.widget-view+json": {
       "model_id": "dcd073c1ae964192b55aba805ac2b97c",
       "version_major": 2,
       "version_minor": 0
      },
      "text/plain": [
       "  0%|          | 0/469 [00:00<?, ?it/s]"
      ]
     },
     "metadata": {},
     "output_type": "display_data"
    },
    {
     "name": "stdout",
     "output_type": "stream",
     "text": [
      "Validation => Loss 0.3331, Acc@1 0.8330\n",
      "============\n"
     ]
    },
    {
     "data": {
      "application/vnd.jupyter.widget-view+json": {
       "model_id": "7b64150608d64f76adeb1b35ecfec5b4",
       "version_major": 2,
       "version_minor": 0
      },
      "text/plain": [
       "  0%|          | 0/79 [00:00<?, ?it/s]"
      ]
     },
     "metadata": {},
     "output_type": "display_data"
    },
    {
     "name": "stdout",
     "output_type": "stream",
     "text": [
      "Val Perf after 1 epochs Acc@1 0.9131\n",
      "=> Caching mask state for model.0\n",
      "=> Caching mask state for model.2\n",
      "=> Caching mask state for model.4\n",
      "\n",
      "=> Setting learned tasks of model.0 to 1\n",
      "=> Setting learned tasks of model.2 to 1\n",
      "=> Setting learned tasks of model.4 to 1\n",
      "\n",
      "Training for task 0\n",
      "=> Set task of model.0 to 0\n",
      "=> Set task of model.2 to 0\n",
      "=> Set task of model.4 to 0\n"
     ]
    },
    {
     "data": {
      "application/vnd.jupyter.widget-view+json": {
       "model_id": "8a7b7e384653405a990188f095068765",
       "version_major": 2,
       "version_minor": 0
      },
      "text/plain": [
       "  0%|          | 0/469 [00:00<?, ?it/s]"
      ]
     },
     "metadata": {},
     "output_type": "display_data"
    },
    {
     "name": "stdout",
     "output_type": "stream",
     "text": [
      "Validation => Loss 0.4425, Acc@1 0.8258\n",
      "============\n"
     ]
    },
    {
     "data": {
      "application/vnd.jupyter.widget-view+json": {
       "model_id": "ae88c110f34941f4a1a0f82a717d9405",
       "version_major": 2,
       "version_minor": 0
      },
      "text/plain": [
       "  0%|          | 0/79 [00:00<?, ?it/s]"
      ]
     },
     "metadata": {},
     "output_type": "display_data"
    },
    {
     "name": "stdout",
     "output_type": "stream",
     "text": [
      "Val Perf after 1 epochs Acc@1 0.9042\n",
      "=> Caching mask state for model.0\n",
      "=> Caching mask state for model.2\n",
      "=> Caching mask state for model.4\n",
      "\n",
      "=> Setting learned tasks of model.0 to 1\n",
      "=> Setting learned tasks of model.2 to 1\n",
      "=> Setting learned tasks of model.4 to 1\n",
      "\n",
      "Training for task 0\n",
      "=> Set task of model.0 to 0\n",
      "=> Set task of model.2 to 0\n",
      "=> Set task of model.4 to 0\n"
     ]
    },
    {
     "data": {
      "application/vnd.jupyter.widget-view+json": {
       "model_id": "1e2a5a7c26c24c0f8f2dc804c3853ace",
       "version_major": 2,
       "version_minor": 0
      },
      "text/plain": [
       "  0%|          | 0/469 [00:00<?, ?it/s]"
      ]
     },
     "metadata": {},
     "output_type": "display_data"
    },
    {
     "name": "stdout",
     "output_type": "stream",
     "text": [
      "Validation => Loss 0.3012, Acc@1 0.8428\n",
      "============\n"
     ]
    },
    {
     "data": {
      "application/vnd.jupyter.widget-view+json": {
       "model_id": "c95deb6bb228492b92c1f195dbb12876",
       "version_major": 2,
       "version_minor": 0
      },
      "text/plain": [
       "  0%|          | 0/79 [00:00<?, ?it/s]"
      ]
     },
     "metadata": {},
     "output_type": "display_data"
    },
    {
     "name": "stdout",
     "output_type": "stream",
     "text": [
      "Val Perf after 1 epochs Acc@1 0.9107\n",
      "=> Caching mask state for model.0\n",
      "=> Caching mask state for model.2\n",
      "=> Caching mask state for model.4\n",
      "\n",
      "=> Setting learned tasks of model.0 to 1\n",
      "=> Setting learned tasks of model.2 to 1\n",
      "=> Setting learned tasks of model.4 to 1\n",
      "\n",
      "Training for task 0\n",
      "=> Set task of model.0 to 0\n",
      "=> Set task of model.2 to 0\n",
      "=> Set task of model.4 to 0\n"
     ]
    },
    {
     "data": {
      "application/vnd.jupyter.widget-view+json": {
       "model_id": "4300cdf76de84d5980a627068d881cb7",
       "version_major": 2,
       "version_minor": 0
      },
      "text/plain": [
       "  0%|          | 0/469 [00:00<?, ?it/s]"
      ]
     },
     "metadata": {},
     "output_type": "display_data"
    },
    {
     "name": "stdout",
     "output_type": "stream",
     "text": [
      "Validation => Loss 0.3654, Acc@1 0.8369\n",
      "============\n"
     ]
    },
    {
     "data": {
      "application/vnd.jupyter.widget-view+json": {
       "model_id": "f23e0174c9cd4fe597b47f5105a8bf3e",
       "version_major": 2,
       "version_minor": 0
      },
      "text/plain": [
       "  0%|          | 0/79 [00:00<?, ?it/s]"
      ]
     },
     "metadata": {},
     "output_type": "display_data"
    },
    {
     "name": "stdout",
     "output_type": "stream",
     "text": [
      "Val Perf after 1 epochs Acc@1 0.9114\n",
      "=> Caching mask state for model.0\n",
      "=> Caching mask state for model.2\n",
      "=> Caching mask state for model.4\n",
      "\n",
      "=> Setting learned tasks of model.0 to 1\n",
      "=> Setting learned tasks of model.2 to 1\n",
      "=> Setting learned tasks of model.4 to 1\n",
      "\n",
      "Training for task 0\n",
      "=> Set task of model.0 to 0\n",
      "=> Set task of model.2 to 0\n",
      "=> Set task of model.4 to 0\n"
     ]
    },
    {
     "data": {
      "application/vnd.jupyter.widget-view+json": {
       "model_id": "14e31efc367f472a9e5cfd9b34058bec",
       "version_major": 2,
       "version_minor": 0
      },
      "text/plain": [
       "  0%|          | 0/469 [00:00<?, ?it/s]"
      ]
     },
     "metadata": {},
     "output_type": "display_data"
    },
    {
     "name": "stdout",
     "output_type": "stream",
     "text": [
      "Validation => Loss 0.4089, Acc@1 0.8288\n",
      "============\n"
     ]
    },
    {
     "data": {
      "application/vnd.jupyter.widget-view+json": {
       "model_id": "a73162ed59b94b9a9c0db015067eb08b",
       "version_major": 2,
       "version_minor": 0
      },
      "text/plain": [
       "  0%|          | 0/79 [00:00<?, ?it/s]"
      ]
     },
     "metadata": {},
     "output_type": "display_data"
    },
    {
     "name": "stdout",
     "output_type": "stream",
     "text": [
      "Val Perf after 1 epochs Acc@1 0.9138\n",
      "=> Caching mask state for model.0\n",
      "=> Caching mask state for model.2\n",
      "=> Caching mask state for model.4\n",
      "\n",
      "=> Setting learned tasks of model.0 to 1\n",
      "=> Setting learned tasks of model.2 to 1\n",
      "=> Setting learned tasks of model.4 to 1\n",
      "\n",
      "Training for task 0\n",
      "=> Set task of model.0 to 0\n",
      "=> Set task of model.2 to 0\n",
      "=> Set task of model.4 to 0\n"
     ]
    },
    {
     "data": {
      "application/vnd.jupyter.widget-view+json": {
       "model_id": "e4417d76b7ed48e6841b0593dff88baf",
       "version_major": 2,
       "version_minor": 0
      },
      "text/plain": [
       "  0%|          | 0/469 [00:00<?, ?it/s]"
      ]
     },
     "metadata": {},
     "output_type": "display_data"
    },
    {
     "name": "stdout",
     "output_type": "stream",
     "text": [
      "Validation => Loss 0.3379, Acc@1 0.8545\n",
      "============\n"
     ]
    },
    {
     "data": {
      "application/vnd.jupyter.widget-view+json": {
       "model_id": "0116cbd97f8d4991838c0622ee3e4958",
       "version_major": 2,
       "version_minor": 0
      },
      "text/plain": [
       "  0%|          | 0/79 [00:00<?, ?it/s]"
      ]
     },
     "metadata": {},
     "output_type": "display_data"
    },
    {
     "name": "stdout",
     "output_type": "stream",
     "text": [
      "Val Perf after 1 epochs Acc@1 0.9143\n",
      "=> Caching mask state for model.0\n",
      "=> Caching mask state for model.2\n",
      "=> Caching mask state for model.4\n",
      "\n",
      "=> Setting learned tasks of model.0 to 1\n",
      "=> Setting learned tasks of model.2 to 1\n",
      "=> Setting learned tasks of model.4 to 1\n",
      "\n",
      "Training for task 0\n",
      "=> Set task of model.0 to 0\n",
      "=> Set task of model.2 to 0\n",
      "=> Set task of model.4 to 0\n"
     ]
    },
    {
     "data": {
      "application/vnd.jupyter.widget-view+json": {
       "model_id": "812477b178a14eeda95bdef20498226b",
       "version_major": 2,
       "version_minor": 0
      },
      "text/plain": [
       "  0%|          | 0/469 [00:00<?, ?it/s]"
      ]
     },
     "metadata": {},
     "output_type": "display_data"
    },
    {
     "name": "stdout",
     "output_type": "stream",
     "text": [
      "Validation => Loss 0.2193, Acc@1 0.8411\n",
      "============\n"
     ]
    },
    {
     "data": {
      "application/vnd.jupyter.widget-view+json": {
       "model_id": "ff778334d1d74cb19bf48a821ea875b1",
       "version_major": 2,
       "version_minor": 0
      },
      "text/plain": [
       "  0%|          | 0/79 [00:00<?, ?it/s]"
      ]
     },
     "metadata": {},
     "output_type": "display_data"
    },
    {
     "name": "stdout",
     "output_type": "stream",
     "text": [
      "Val Perf after 1 epochs Acc@1 0.9100\n",
      "=> Caching mask state for model.0\n",
      "=> Caching mask state for model.2\n",
      "=> Caching mask state for model.4\n",
      "\n",
      "=> Setting learned tasks of model.0 to 1\n",
      "=> Setting learned tasks of model.2 to 1\n",
      "=> Setting learned tasks of model.4 to 1\n",
      "\n",
      "Training for task 0\n",
      "=> Set task of model.0 to 0\n",
      "=> Set task of model.2 to 0\n",
      "=> Set task of model.4 to 0\n"
     ]
    },
    {
     "data": {
      "application/vnd.jupyter.widget-view+json": {
       "model_id": "cf076fc84f3b4f61a7e5eba8e0a50794",
       "version_major": 2,
       "version_minor": 0
      },
      "text/plain": [
       "  0%|          | 0/469 [00:00<?, ?it/s]"
      ]
     },
     "metadata": {},
     "output_type": "display_data"
    },
    {
     "name": "stdout",
     "output_type": "stream",
     "text": [
      "Validation => Loss 0.3955, Acc@1 0.8382\n",
      "============\n"
     ]
    },
    {
     "data": {
      "application/vnd.jupyter.widget-view+json": {
       "model_id": "4f9fad6082794a0b98b34a94e584365d",
       "version_major": 2,
       "version_minor": 0
      },
      "text/plain": [
       "  0%|          | 0/79 [00:00<?, ?it/s]"
      ]
     },
     "metadata": {},
     "output_type": "display_data"
    },
    {
     "name": "stdout",
     "output_type": "stream",
     "text": [
      "Val Perf after 1 epochs Acc@1 0.9147\n",
      "=> Caching mask state for model.0\n",
      "=> Caching mask state for model.2\n",
      "=> Caching mask state for model.4\n",
      "\n",
      "=> Setting learned tasks of model.0 to 1\n",
      "=> Setting learned tasks of model.2 to 1\n",
      "=> Setting learned tasks of model.4 to 1\n",
      "\n"
     ]
    }
   ],
   "source": [
    "for idx, modeli in model_map.items():\n",
    "    for task in range(1):\n",
    "        print(f\"Training for task {task}\")\n",
    "        set_model_task(modeli, task)\n",
    "        mnisti = loaders[idx]\n",
    "        mnisti.update_task(task)\n",
    "\n",
    "        optimizer1 = optim.RMSprop([p for p in modeli.parameters() if p.requires_grad], lr=1e-4)\n",
    "        # Train for 1 epoch\n",
    "        for e in range(1):\n",
    "            train(modeli, mnisti.train_loader, optimizer1, e)\n",
    "            \n",
    "            print(\"Validation\")\n",
    "            print(\"============\")\n",
    "            acc1 = evaluate(modeli, mnisti.val_loader, e)\n",
    "\n",
    "\n",
    "        cache_masks(modeli)\n",
    "        print()\n",
    "        set_num_tasks_learned(modeli, task + 1)\n",
    "        print()"
   ]
  },
  {
   "cell_type": "code",
   "execution_count": 23,
   "metadata": {},
   "outputs": [],
   "source": [
    "def overlap(mask1, mask2):\n",
    "    assert mask1.shape == mask2.shape\n",
    "    count_same = (mask1 + mask2 - 1).abs().sum()\n",
    "    return count_same / (1.0*(mask1.shape[0] * mask1.shape[1]))"
   ]
  },
  {
   "cell_type": "code",
   "execution_count": 24,
   "metadata": {},
   "outputs": [],
   "source": [
    "from itertools import product"
   ]
  },
  {
   "cell_type": "code",
   "execution_count": 25,
   "metadata": {},
   "outputs": [
    {
     "name": "stdout",
     "output_type": "stream",
     "text": [
      "Layer: 0, Models: (0, 1), Overlap: 0.6442686915397644\n",
      "Layer: 0, Models: (0, 2), Overlap: 0.6420068144798279\n",
      "Layer: 0, Models: (0, 3), Overlap: 0.6416071653366089\n",
      "Layer: 0, Models: (0, 4), Overlap: 0.6425085067749023\n",
      "Layer: 0, Models: (0, 5), Overlap: 0.6434183716773987\n",
      "Layer: 0, Models: (0, 6), Overlap: 0.6419727802276611\n",
      "Layer: 0, Models: (0, 7), Overlap: 0.6440390944480896\n",
      "Layer: 0, Models: (0, 8), Overlap: 0.6413435339927673\n",
      "Layer: 0, Models: (0, 9), Overlap: 0.6436904668807983\n",
      "Layer: 0, Models: (0, 10), Overlap: 0.6424234509468079\n",
      "Layer: 0, Models: (0, 11), Overlap: 0.642380952835083\n",
      "Layer: 0, Models: (0, 12), Overlap: 0.6446598768234253\n",
      "Layer: 0, Models: (0, 13), Overlap: 0.6445407867431641\n",
      "Layer: 0, Models: (0, 14), Overlap: 0.6431037187576294\n",
      "Layer: 0, Models: (1, 0), Overlap: 0.6442686915397644\n",
      "Layer: 0, Models: (1, 2), Overlap: 0.6431037187576294\n",
      "Layer: 0, Models: (1, 3), Overlap: 0.6416666507720947\n",
      "Layer: 0, Models: (1, 4), Overlap: 0.6440390944480896\n",
      "Layer: 0, Models: (1, 5), Overlap: 0.6425254940986633\n",
      "Layer: 0, Models: (1, 6), Overlap: 0.6416581869125366\n",
      "Layer: 0, Models: (1, 7), Overlap: 0.6420323252677917\n",
      "Layer: 0, Models: (1, 8), Overlap: 0.6436649560928345\n",
      "Layer: 0, Models: (1, 9), Overlap: 0.641403079032898\n",
      "Layer: 0, Models: (1, 10), Overlap: 0.6407908201217651\n",
      "Layer: 0, Models: (1, 11), Overlap: 0.6429081559181213\n",
      "Layer: 0, Models: (1, 12), Overlap: 0.6443537473678589\n",
      "Layer: 0, Models: (1, 13), Overlap: 0.6424319744110107\n",
      "Layer: 0, Models: (1, 14), Overlap: 0.6422789096832275\n",
      "Layer: 0, Models: (2, 0), Overlap: 0.6420068144798279\n",
      "Layer: 0, Models: (2, 1), Overlap: 0.6431037187576294\n",
      "Layer: 0, Models: (2, 3), Overlap: 0.6403401494026184\n",
      "Layer: 0, Models: (2, 4), Overlap: 0.6411564350128174\n",
      "Layer: 0, Models: (2, 5), Overlap: 0.6420833468437195\n",
      "Layer: 0, Models: (2, 6), Overlap: 0.6428911685943604\n",
      "Layer: 0, Models: (2, 7), Overlap: 0.6417772173881531\n",
      "Layer: 0, Models: (2, 8), Overlap: 0.6430526971817017\n",
      "Layer: 0, Models: (2, 9), Overlap: 0.6430187225341797\n",
      "Layer: 0, Models: (2, 10), Overlap: 0.6417261958122253\n",
      "Layer: 0, Models: (2, 11), Overlap: 0.6415390968322754\n",
      "Layer: 0, Models: (2, 12), Overlap: 0.642397940158844\n",
      "Layer: 0, Models: (2, 13), Overlap: 0.6407908201217651\n",
      "Layer: 0, Models: (2, 14), Overlap: 0.641198992729187\n",
      "Layer: 0, Models: (3, 0), Overlap: 0.6416071653366089\n",
      "Layer: 0, Models: (3, 1), Overlap: 0.6416666507720947\n",
      "Layer: 0, Models: (3, 2), Overlap: 0.6403401494026184\n",
      "Layer: 0, Models: (3, 4), Overlap: 0.6422789096832275\n",
      "Layer: 0, Models: (3, 5), Overlap: 0.6435034275054932\n",
      "Layer: 0, Models: (3, 6), Overlap: 0.6430612206459045\n",
      "Layer: 0, Models: (3, 7), Overlap: 0.6421428322792053\n",
      "Layer: 0, Models: (3, 8), Overlap: 0.6419302821159363\n",
      "Layer: 0, Models: (3, 9), Overlap: 0.6398554444313049\n",
      "Layer: 0, Models: (3, 10), Overlap: 0.6423469185829163\n",
      "Layer: 0, Models: (3, 11), Overlap: 0.6413435339927673\n",
      "Layer: 0, Models: (3, 12), Overlap: 0.6426530480384827\n",
      "Layer: 0, Models: (3, 13), Overlap: 0.6420323252677917\n",
      "Layer: 0, Models: (3, 14), Overlap: 0.6423044204711914\n",
      "Layer: 0, Models: (4, 0), Overlap: 0.6425085067749023\n",
      "Layer: 0, Models: (4, 1), Overlap: 0.6440390944480896\n",
      "Layer: 0, Models: (4, 2), Overlap: 0.6411564350128174\n",
      "Layer: 0, Models: (4, 3), Overlap: 0.6422789096832275\n",
      "Layer: 0, Models: (4, 5), Overlap: 0.6440561413764954\n",
      "Layer: 0, Models: (4, 6), Overlap: 0.6417602300643921\n",
      "Layer: 0, Models: (4, 7), Overlap: 0.6431887745857239\n",
      "Layer: 0, Models: (4, 8), Overlap: 0.6428826451301575\n",
      "Layer: 0, Models: (4, 9), Overlap: 0.6428741216659546\n",
      "Layer: 0, Models: (4, 10), Overlap: 0.6434693932533264\n",
      "Layer: 0, Models: (4, 11), Overlap: 0.6424149870872498\n",
      "Layer: 0, Models: (4, 12), Overlap: 0.6440561413764954\n",
      "Layer: 0, Models: (4, 13), Overlap: 0.6428231000900269\n",
      "Layer: 0, Models: (4, 14), Overlap: 0.6432738304138184\n",
      "Layer: 0, Models: (5, 0), Overlap: 0.6434183716773987\n",
      "Layer: 0, Models: (5, 1), Overlap: 0.6425254940986633\n",
      "Layer: 0, Models: (5, 2), Overlap: 0.6420833468437195\n",
      "Layer: 0, Models: (5, 3), Overlap: 0.6435034275054932\n",
      "Layer: 0, Models: (5, 4), Overlap: 0.6440561413764954\n",
      "Layer: 0, Models: (5, 6), Overlap: 0.6419387459754944\n",
      "Layer: 0, Models: (5, 7), Overlap: 0.6435799598693848\n",
      "Layer: 0, Models: (5, 8), Overlap: 0.6425425410270691\n",
      "Layer: 0, Models: (5, 9), Overlap: 0.6417602300643921\n",
      "Layer: 0, Models: (5, 10), Overlap: 0.6444302797317505\n",
      "Layer: 0, Models: (5, 11), Overlap: 0.6434949040412903\n",
      "Layer: 0, Models: (5, 12), Overlap: 0.6461054682731628\n",
      "Layer: 0, Models: (5, 13), Overlap: 0.6448724269866943\n",
      "Layer: 0, Models: (5, 14), Overlap: 0.6428996324539185\n",
      "Layer: 0, Models: (6, 0), Overlap: 0.6419727802276611\n",
      "Layer: 0, Models: (6, 1), Overlap: 0.6416581869125366\n",
      "Layer: 0, Models: (6, 2), Overlap: 0.6428911685943604\n",
      "Layer: 0, Models: (6, 3), Overlap: 0.6430612206459045\n",
      "Layer: 0, Models: (6, 4), Overlap: 0.6417602300643921\n",
      "Layer: 0, Models: (6, 5), Overlap: 0.6419387459754944\n",
      "Layer: 0, Models: (6, 7), Overlap: 0.6426105499267578\n",
      "Layer: 0, Models: (6, 8), Overlap: 0.6430867314338684\n",
      "Layer: 0, Models: (6, 9), Overlap: 0.6405867338180542\n",
      "Layer: 0, Models: (6, 10), Overlap: 0.6417602300643921\n",
      "Layer: 0, Models: (6, 11), Overlap: 0.6419897675514221\n",
      "Layer: 0, Models: (6, 12), Overlap: 0.641598641872406\n",
      "Layer: 0, Models: (6, 13), Overlap: 0.6422278881072998\n",
      "Layer: 0, Models: (6, 14), Overlap: 0.6424744725227356\n",
      "Layer: 0, Models: (7, 0), Overlap: 0.6440390944480896\n",
      "Layer: 0, Models: (7, 1), Overlap: 0.6420323252677917\n",
      "Layer: 0, Models: (7, 2), Overlap: 0.6417772173881531\n",
      "Layer: 0, Models: (7, 3), Overlap: 0.6421428322792053\n",
      "Layer: 0, Models: (7, 4), Overlap: 0.6431887745857239\n",
      "Layer: 0, Models: (7, 5), Overlap: 0.6435799598693848\n",
      "Layer: 0, Models: (7, 6), Overlap: 0.6426105499267578\n",
      "Layer: 0, Models: (7, 8), Overlap: 0.6425254940986633\n",
      "Layer: 0, Models: (7, 9), Overlap: 0.6419642567634583\n",
      "Layer: 0, Models: (7, 10), Overlap: 0.641785740852356\n",
      "Layer: 0, Models: (7, 11), Overlap: 0.6441581845283508\n",
      "Layer: 0, Models: (7, 12), Overlap: 0.6435714364051819\n",
      "Layer: 0, Models: (7, 13), Overlap: 0.6427381038665771\n",
      "Layer: 0, Models: (7, 14), Overlap: 0.6424404978752136\n",
      "Layer: 0, Models: (8, 0), Overlap: 0.6413435339927673\n",
      "Layer: 0, Models: (8, 1), Overlap: 0.6436649560928345\n",
      "Layer: 0, Models: (8, 2), Overlap: 0.6430526971817017\n",
      "Layer: 0, Models: (8, 3), Overlap: 0.6419302821159363\n",
      "Layer: 0, Models: (8, 4), Overlap: 0.6428826451301575\n",
      "Layer: 0, Models: (8, 5), Overlap: 0.6425425410270691\n",
      "Layer: 0, Models: (8, 6), Overlap: 0.6430867314338684\n",
      "Layer: 0, Models: (8, 7), Overlap: 0.6425254940986633\n",
      "Layer: 0, Models: (8, 9), Overlap: 0.6418452262878418\n",
      "Layer: 0, Models: (8, 10), Overlap: 0.6425595283508301\n",
      "Layer: 0, Models: (8, 11), Overlap: 0.6419302821159363\n",
      "Layer: 0, Models: (8, 12), Overlap: 0.6428316235542297\n",
      "Layer: 0, Models: (8, 13), Overlap: 0.6412925124168396\n",
      "Layer: 0, Models: (8, 14), Overlap: 0.6418622732162476\n",
      "Layer: 0, Models: (9, 0), Overlap: 0.6436904668807983\n",
      "Layer: 0, Models: (9, 1), Overlap: 0.641403079032898\n",
      "Layer: 0, Models: (9, 2), Overlap: 0.6430187225341797\n",
      "Layer: 0, Models: (9, 3), Overlap: 0.6398554444313049\n",
      "Layer: 0, Models: (9, 4), Overlap: 0.6428741216659546\n",
      "Layer: 0, Models: (9, 5), Overlap: 0.6417602300643921\n",
      "Layer: 0, Models: (9, 6), Overlap: 0.6405867338180542\n",
      "Layer: 0, Models: (9, 7), Overlap: 0.6419642567634583\n",
      "Layer: 0, Models: (9, 8), Overlap: 0.6418452262878418\n",
      "Layer: 0, Models: (9, 10), Overlap: 0.6438520550727844\n",
      "Layer: 0, Models: (9, 11), Overlap: 0.6440731287002563\n",
      "Layer: 0, Models: (9, 12), Overlap: 0.6432822942733765\n",
      "Layer: 0, Models: (9, 13), Overlap: 0.6415646076202393\n",
      "Layer: 0, Models: (9, 14), Overlap: 0.6434183716773987\n",
      "Layer: 0, Models: (10, 0), Overlap: 0.6424234509468079\n",
      "Layer: 0, Models: (10, 1), Overlap: 0.6407908201217651\n",
      "Layer: 0, Models: (10, 2), Overlap: 0.6417261958122253\n",
      "Layer: 0, Models: (10, 3), Overlap: 0.6423469185829163\n",
      "Layer: 0, Models: (10, 4), Overlap: 0.6434693932533264\n",
      "Layer: 0, Models: (10, 5), Overlap: 0.6444302797317505\n",
      "Layer: 0, Models: (10, 6), Overlap: 0.6417602300643921\n",
      "Layer: 0, Models: (10, 7), Overlap: 0.641785740852356\n",
      "Layer: 0, Models: (10, 8), Overlap: 0.6425595283508301\n",
      "Layer: 0, Models: (10, 9), Overlap: 0.6438520550727844\n",
      "Layer: 0, Models: (10, 11), Overlap: 0.6440646052360535\n",
      "Layer: 0, Models: (10, 12), Overlap: 0.6436224579811096\n",
      "Layer: 0, Models: (10, 13), Overlap: 0.6434693932533264\n",
      "Layer: 0, Models: (10, 14), Overlap: 0.6450340151786804\n"
     ]
    },
    {
     "name": "stdout",
     "output_type": "stream",
     "text": [
      "Layer: 0, Models: (11, 0), Overlap: 0.642380952835083\n",
      "Layer: 0, Models: (11, 1), Overlap: 0.6429081559181213\n",
      "Layer: 0, Models: (11, 2), Overlap: 0.6415390968322754\n",
      "Layer: 0, Models: (11, 3), Overlap: 0.6413435339927673\n",
      "Layer: 0, Models: (11, 4), Overlap: 0.6424149870872498\n",
      "Layer: 0, Models: (11, 5), Overlap: 0.6434949040412903\n",
      "Layer: 0, Models: (11, 6), Overlap: 0.6419897675514221\n",
      "Layer: 0, Models: (11, 7), Overlap: 0.6441581845283508\n",
      "Layer: 0, Models: (11, 8), Overlap: 0.6419302821159363\n",
      "Layer: 0, Models: (11, 9), Overlap: 0.6440731287002563\n",
      "Layer: 0, Models: (11, 10), Overlap: 0.6440646052360535\n",
      "Layer: 0, Models: (11, 12), Overlap: 0.6443962454795837\n",
      "Layer: 0, Models: (11, 13), Overlap: 0.6433163285255432\n",
      "Layer: 0, Models: (11, 14), Overlap: 0.643146276473999\n",
      "Layer: 0, Models: (12, 0), Overlap: 0.6446598768234253\n",
      "Layer: 0, Models: (12, 1), Overlap: 0.6443537473678589\n",
      "Layer: 0, Models: (12, 2), Overlap: 0.642397940158844\n",
      "Layer: 0, Models: (12, 3), Overlap: 0.6426530480384827\n",
      "Layer: 0, Models: (12, 4), Overlap: 0.6440561413764954\n",
      "Layer: 0, Models: (12, 5), Overlap: 0.6461054682731628\n",
      "Layer: 0, Models: (12, 6), Overlap: 0.641598641872406\n",
      "Layer: 0, Models: (12, 7), Overlap: 0.6435714364051819\n",
      "Layer: 0, Models: (12, 8), Overlap: 0.6428316235542297\n",
      "Layer: 0, Models: (12, 9), Overlap: 0.6432822942733765\n",
      "Layer: 0, Models: (12, 10), Overlap: 0.6436224579811096\n",
      "Layer: 0, Models: (12, 11), Overlap: 0.6443962454795837\n",
      "Layer: 0, Models: (12, 13), Overlap: 0.6429591774940491\n",
      "Layer: 0, Models: (12, 14), Overlap: 0.6425085067749023\n",
      "Layer: 0, Models: (13, 0), Overlap: 0.6445407867431641\n",
      "Layer: 0, Models: (13, 1), Overlap: 0.6424319744110107\n",
      "Layer: 0, Models: (13, 2), Overlap: 0.6407908201217651\n",
      "Layer: 0, Models: (13, 3), Overlap: 0.6420323252677917\n",
      "Layer: 0, Models: (13, 4), Overlap: 0.6428231000900269\n",
      "Layer: 0, Models: (13, 5), Overlap: 0.6448724269866943\n",
      "Layer: 0, Models: (13, 6), Overlap: 0.6422278881072998\n",
      "Layer: 0, Models: (13, 7), Overlap: 0.6427381038665771\n",
      "Layer: 0, Models: (13, 8), Overlap: 0.6412925124168396\n",
      "Layer: 0, Models: (13, 9), Overlap: 0.6415646076202393\n",
      "Layer: 0, Models: (13, 10), Overlap: 0.6434693932533264\n",
      "Layer: 0, Models: (13, 11), Overlap: 0.6433163285255432\n",
      "Layer: 0, Models: (13, 12), Overlap: 0.6429591774940491\n",
      "Layer: 0, Models: (13, 14), Overlap: 0.6424915194511414\n",
      "Layer: 0, Models: (14, 0), Overlap: 0.6431037187576294\n",
      "Layer: 0, Models: (14, 1), Overlap: 0.6422789096832275\n",
      "Layer: 0, Models: (14, 2), Overlap: 0.641198992729187\n",
      "Layer: 0, Models: (14, 3), Overlap: 0.6423044204711914\n",
      "Layer: 0, Models: (14, 4), Overlap: 0.6432738304138184\n",
      "Layer: 0, Models: (14, 5), Overlap: 0.6428996324539185\n",
      "Layer: 0, Models: (14, 6), Overlap: 0.6424744725227356\n",
      "Layer: 0, Models: (14, 7), Overlap: 0.6424404978752136\n",
      "Layer: 0, Models: (14, 8), Overlap: 0.6418622732162476\n",
      "Layer: 0, Models: (14, 9), Overlap: 0.6434183716773987\n",
      "Layer: 0, Models: (14, 10), Overlap: 0.6450340151786804\n",
      "Layer: 0, Models: (14, 11), Overlap: 0.643146276473999\n",
      "Layer: 0, Models: (14, 12), Overlap: 0.6425085067749023\n",
      "Layer: 0, Models: (14, 13), Overlap: 0.6424915194511414\n",
      "Layer: 2, Models: (0, 1), Overlap: 0.6286888718605042\n",
      "Layer: 2, Models: (0, 2), Overlap: 0.627488911151886\n",
      "Layer: 2, Models: (0, 3), Overlap: 0.6290666460990906\n",
      "Layer: 2, Models: (0, 4), Overlap: 0.6279777884483337\n",
      "Layer: 2, Models: (0, 5), Overlap: 0.6282444596290588\n",
      "Layer: 2, Models: (0, 6), Overlap: 0.6275555491447449\n",
      "Layer: 2, Models: (0, 7), Overlap: 0.6270444393157959\n",
      "Layer: 2, Models: (0, 8), Overlap: 0.6290444731712341\n",
      "Layer: 2, Models: (0, 9), Overlap: 0.6263777613639832\n",
      "Layer: 2, Models: (0, 10), Overlap: 0.6280888915061951\n",
      "Layer: 2, Models: (0, 11), Overlap: 0.6261110901832581\n",
      "Layer: 2, Models: (0, 12), Overlap: 0.6290000081062317\n",
      "Layer: 2, Models: (0, 13), Overlap: 0.6305111050605774\n",
      "Layer: 2, Models: (0, 14), Overlap: 0.6279777884483337\n",
      "Layer: 2, Models: (1, 0), Overlap: 0.6286888718605042\n",
      "Layer: 2, Models: (1, 2), Overlap: 0.6300222277641296\n",
      "Layer: 2, Models: (1, 3), Overlap: 0.6257555484771729\n",
      "Layer: 2, Models: (1, 4), Overlap: 0.6300888657569885\n",
      "Layer: 2, Models: (1, 5), Overlap: 0.6279110908508301\n",
      "Layer: 2, Models: (1, 6), Overlap: 0.6282888650894165\n",
      "Layer: 2, Models: (1, 7), Overlap: 0.6282444596290588\n",
      "Layer: 2, Models: (1, 8), Overlap: 0.630466639995575\n",
      "Layer: 2, Models: (1, 9), Overlap: 0.6252889037132263\n",
      "Layer: 2, Models: (1, 10), Overlap: 0.626022219657898\n",
      "Layer: 2, Models: (1, 11), Overlap: 0.6263333559036255\n",
      "Layer: 2, Models: (1, 12), Overlap: 0.6264888644218445\n",
      "Layer: 2, Models: (1, 13), Overlap: 0.6262444257736206\n",
      "Layer: 2, Models: (1, 14), Overlap: 0.6269111037254333\n",
      "Layer: 2, Models: (2, 0), Overlap: 0.627488911151886\n",
      "Layer: 2, Models: (2, 1), Overlap: 0.6300222277641296\n",
      "Layer: 2, Models: (2, 3), Overlap: 0.6281777620315552\n",
      "Layer: 2, Models: (2, 4), Overlap: 0.6251111030578613\n",
      "Layer: 2, Models: (2, 5), Overlap: 0.6285111308097839\n",
      "Layer: 2, Models: (2, 6), Overlap: 0.6268666386604309\n",
      "Layer: 2, Models: (2, 7), Overlap: 0.6261777877807617\n",
      "Layer: 2, Models: (2, 8), Overlap: 0.6272222399711609\n",
      "Layer: 2, Models: (2, 9), Overlap: 0.6268444657325745\n",
      "Layer: 2, Models: (2, 10), Overlap: 0.6269555687904358\n",
      "Layer: 2, Models: (2, 11), Overlap: 0.6276666522026062\n",
      "Layer: 2, Models: (2, 12), Overlap: 0.6276222467422485\n",
      "Layer: 2, Models: (2, 13), Overlap: 0.6286444664001465\n",
      "Layer: 2, Models: (2, 14), Overlap: 0.6263333559036255\n",
      "Layer: 2, Models: (3, 0), Overlap: 0.6290666460990906\n",
      "Layer: 2, Models: (3, 1), Overlap: 0.6257555484771729\n",
      "Layer: 2, Models: (3, 2), Overlap: 0.6281777620315552\n",
      "Layer: 2, Models: (3, 4), Overlap: 0.6252666711807251\n",
      "Layer: 2, Models: (3, 5), Overlap: 0.6285555362701416\n",
      "Layer: 2, Models: (3, 6), Overlap: 0.6297333240509033\n",
      "Layer: 2, Models: (3, 7), Overlap: 0.6268888711929321\n",
      "Layer: 2, Models: (3, 8), Overlap: 0.6275110840797424\n",
      "Layer: 2, Models: (3, 9), Overlap: 0.6270889043807983\n",
      "Layer: 2, Models: (3, 10), Overlap: 0.6283555626869202\n",
      "Layer: 2, Models: (3, 11), Overlap: 0.6277111172676086\n",
      "Layer: 2, Models: (3, 12), Overlap: 0.6276222467422485\n",
      "Layer: 2, Models: (3, 13), Overlap: 0.6285555362701416\n",
      "Layer: 2, Models: (3, 14), Overlap: 0.6282888650894165\n",
      "Layer: 2, Models: (4, 0), Overlap: 0.6279777884483337\n",
      "Layer: 2, Models: (4, 1), Overlap: 0.6300888657569885\n",
      "Layer: 2, Models: (4, 2), Overlap: 0.6251111030578613\n",
      "Layer: 2, Models: (4, 3), Overlap: 0.6252666711807251\n",
      "Layer: 2, Models: (4, 5), Overlap: 0.6273777484893799\n",
      "Layer: 2, Models: (4, 6), Overlap: 0.6269111037254333\n",
      "Layer: 2, Models: (4, 7), Overlap: 0.625844419002533\n",
      "Layer: 2, Models: (4, 8), Overlap: 0.6270666718482971\n",
      "Layer: 2, Models: (4, 9), Overlap: 0.6284000277519226\n",
      "Layer: 2, Models: (4, 10), Overlap: 0.6263777613639832\n",
      "Layer: 2, Models: (4, 11), Overlap: 0.6273555755615234\n",
      "Layer: 2, Models: (4, 12), Overlap: 0.6287111043930054\n",
      "Layer: 2, Models: (4, 13), Overlap: 0.6274444460868835\n",
      "Layer: 2, Models: (4, 14), Overlap: 0.6284444332122803\n",
      "Layer: 2, Models: (5, 0), Overlap: 0.6282444596290588\n",
      "Layer: 2, Models: (5, 1), Overlap: 0.6279110908508301\n",
      "Layer: 2, Models: (5, 2), Overlap: 0.6285111308097839\n",
      "Layer: 2, Models: (5, 3), Overlap: 0.6285555362701416\n",
      "Layer: 2, Models: (5, 4), Overlap: 0.6273777484893799\n",
      "Layer: 2, Models: (5, 6), Overlap: 0.6282666921615601\n",
      "Layer: 2, Models: (5, 7), Overlap: 0.6281333565711975\n",
      "Layer: 2, Models: (5, 8), Overlap: 0.6286222338676453\n",
      "Layer: 2, Models: (5, 9), Overlap: 0.6287333369255066\n",
      "Layer: 2, Models: (5, 10), Overlap: 0.6277333498001099\n",
      "Layer: 2, Models: (5, 11), Overlap: 0.629622220993042\n",
      "Layer: 2, Models: (5, 12), Overlap: 0.6284000277519226\n",
      "Layer: 2, Models: (5, 13), Overlap: 0.6294000148773193\n",
      "Layer: 2, Models: (5, 14), Overlap: 0.6266666650772095\n",
      "Layer: 2, Models: (6, 0), Overlap: 0.6275555491447449\n",
      "Layer: 2, Models: (6, 1), Overlap: 0.6282888650894165\n",
      "Layer: 2, Models: (6, 2), Overlap: 0.6268666386604309\n",
      "Layer: 2, Models: (6, 3), Overlap: 0.6297333240509033\n",
      "Layer: 2, Models: (6, 4), Overlap: 0.6269111037254333\n",
      "Layer: 2, Models: (6, 5), Overlap: 0.6282666921615601\n",
      "Layer: 2, Models: (6, 7), Overlap: 0.6283777952194214\n",
      "Layer: 2, Models: (6, 8), Overlap: 0.6278889179229736\n",
      "Layer: 2, Models: (6, 9), Overlap: 0.6282888650894165\n",
      "Layer: 2, Models: (6, 10), Overlap: 0.627488911151886\n",
      "Layer: 2, Models: (6, 11), Overlap: 0.629622220993042\n",
      "Layer: 2, Models: (6, 12), Overlap: 0.6271555423736572\n",
      "Layer: 2, Models: (6, 13), Overlap: 0.6294666528701782\n",
      "Layer: 2, Models: (6, 14), Overlap: 0.6269333362579346\n",
      "Layer: 2, Models: (7, 0), Overlap: 0.6270444393157959\n",
      "Layer: 2, Models: (7, 1), Overlap: 0.6282444596290588\n",
      "Layer: 2, Models: (7, 2), Overlap: 0.6261777877807617\n",
      "Layer: 2, Models: (7, 3), Overlap: 0.6268888711929321\n",
      "Layer: 2, Models: (7, 4), Overlap: 0.625844419002533\n",
      "Layer: 2, Models: (7, 5), Overlap: 0.6281333565711975\n",
      "Layer: 2, Models: (7, 6), Overlap: 0.6283777952194214\n",
      "Layer: 2, Models: (7, 8), Overlap: 0.6254444718360901\n",
      "Layer: 2, Models: (7, 9), Overlap: 0.6281999945640564\n",
      "Layer: 2, Models: (7, 10), Overlap: 0.6270666718482971\n",
      "Layer: 2, Models: (7, 11), Overlap: 0.6252889037132263\n",
      "Layer: 2, Models: (7, 12), Overlap: 0.6284888982772827\n",
      "Layer: 2, Models: (7, 13), Overlap: 0.6277777552604675\n",
      "Layer: 2, Models: (7, 14), Overlap: 0.6274222135543823\n",
      "Layer: 2, Models: (8, 0), Overlap: 0.6290444731712341\n",
      "Layer: 2, Models: (8, 1), Overlap: 0.630466639995575\n",
      "Layer: 2, Models: (8, 2), Overlap: 0.6272222399711609\n",
      "Layer: 2, Models: (8, 3), Overlap: 0.6275110840797424\n",
      "Layer: 2, Models: (8, 4), Overlap: 0.6270666718482971\n",
      "Layer: 2, Models: (8, 5), Overlap: 0.6286222338676453\n",
      "Layer: 2, Models: (8, 6), Overlap: 0.6278889179229736\n",
      "Layer: 2, Models: (8, 7), Overlap: 0.6254444718360901\n",
      "Layer: 2, Models: (8, 9), Overlap: 0.6280444264411926\n",
      "Layer: 2, Models: (8, 10), Overlap: 0.6265555620193481\n",
      "Layer: 2, Models: (8, 11), Overlap: 0.6263777613639832\n",
      "Layer: 2, Models: (8, 12), Overlap: 0.6272222399711609\n",
      "Layer: 2, Models: (8, 13), Overlap: 0.6282666921615601\n",
      "Layer: 2, Models: (8, 14), Overlap: 0.6276666522026062\n",
      "Layer: 2, Models: (9, 0), Overlap: 0.6263777613639832\n",
      "Layer: 2, Models: (9, 1), Overlap: 0.6252889037132263\n",
      "Layer: 2, Models: (9, 2), Overlap: 0.6268444657325745\n",
      "Layer: 2, Models: (9, 3), Overlap: 0.6270889043807983\n",
      "Layer: 2, Models: (9, 4), Overlap: 0.6284000277519226\n",
      "Layer: 2, Models: (9, 5), Overlap: 0.6287333369255066\n",
      "Layer: 2, Models: (9, 6), Overlap: 0.6282888650894165\n",
      "Layer: 2, Models: (9, 7), Overlap: 0.6281999945640564\n",
      "Layer: 2, Models: (9, 8), Overlap: 0.6280444264411926\n",
      "Layer: 2, Models: (9, 10), Overlap: 0.6288444399833679\n",
      "Layer: 2, Models: (9, 11), Overlap: 0.6254000067710876\n",
      "Layer: 2, Models: (9, 12), Overlap: 0.6267777681350708\n",
      "Layer: 2, Models: (9, 13), Overlap: 0.6273999810218811\n",
      "Layer: 2, Models: (9, 14), Overlap: 0.6284888982772827\n",
      "Layer: 2, Models: (10, 0), Overlap: 0.6280888915061951\n",
      "Layer: 2, Models: (10, 1), Overlap: 0.626022219657898\n",
      "Layer: 2, Models: (10, 2), Overlap: 0.6269555687904358\n",
      "Layer: 2, Models: (10, 3), Overlap: 0.6283555626869202\n",
      "Layer: 2, Models: (10, 4), Overlap: 0.6263777613639832\n",
      "Layer: 2, Models: (10, 5), Overlap: 0.6277333498001099\n",
      "Layer: 2, Models: (10, 6), Overlap: 0.627488911151886\n",
      "Layer: 2, Models: (10, 7), Overlap: 0.6270666718482971\n",
      "Layer: 2, Models: (10, 8), Overlap: 0.6265555620193481\n",
      "Layer: 2, Models: (10, 9), Overlap: 0.6288444399833679\n",
      "Layer: 2, Models: (10, 11), Overlap: 0.6275333166122437\n",
      "Layer: 2, Models: (10, 12), Overlap: 0.6278889179229736\n",
      "Layer: 2, Models: (10, 13), Overlap: 0.628933310508728\n",
      "Layer: 2, Models: (10, 14), Overlap: 0.6277111172676086\n",
      "Layer: 2, Models: (11, 0), Overlap: 0.6261110901832581\n",
      "Layer: 2, Models: (11, 1), Overlap: 0.6263333559036255\n",
      "Layer: 2, Models: (11, 2), Overlap: 0.6276666522026062\n",
      "Layer: 2, Models: (11, 3), Overlap: 0.6277111172676086\n",
      "Layer: 2, Models: (11, 4), Overlap: 0.6273555755615234\n",
      "Layer: 2, Models: (11, 5), Overlap: 0.629622220993042\n",
      "Layer: 2, Models: (11, 6), Overlap: 0.629622220993042\n",
      "Layer: 2, Models: (11, 7), Overlap: 0.6252889037132263\n",
      "Layer: 2, Models: (11, 8), Overlap: 0.6263777613639832\n",
      "Layer: 2, Models: (11, 9), Overlap: 0.6254000067710876\n",
      "Layer: 2, Models: (11, 10), Overlap: 0.6275333166122437\n",
      "Layer: 2, Models: (11, 12), Overlap: 0.6293333172798157\n",
      "Layer: 2, Models: (11, 13), Overlap: 0.6272222399711609\n",
      "Layer: 2, Models: (11, 14), Overlap: 0.6275777816772461\n",
      "Layer: 2, Models: (12, 0), Overlap: 0.6290000081062317\n",
      "Layer: 2, Models: (12, 1), Overlap: 0.6264888644218445\n",
      "Layer: 2, Models: (12, 2), Overlap: 0.6276222467422485\n",
      "Layer: 2, Models: (12, 3), Overlap: 0.6276222467422485\n",
      "Layer: 2, Models: (12, 4), Overlap: 0.6287111043930054\n",
      "Layer: 2, Models: (12, 5), Overlap: 0.6284000277519226\n",
      "Layer: 2, Models: (12, 6), Overlap: 0.6271555423736572\n",
      "Layer: 2, Models: (12, 7), Overlap: 0.6284888982772827\n",
      "Layer: 2, Models: (12, 8), Overlap: 0.6272222399711609\n",
      "Layer: 2, Models: (12, 9), Overlap: 0.6267777681350708\n",
      "Layer: 2, Models: (12, 10), Overlap: 0.6278889179229736\n",
      "Layer: 2, Models: (12, 11), Overlap: 0.6293333172798157\n",
      "Layer: 2, Models: (12, 13), Overlap: 0.6276888847351074\n",
      "Layer: 2, Models: (12, 14), Overlap: 0.628000020980835\n",
      "Layer: 2, Models: (13, 0), Overlap: 0.6305111050605774\n",
      "Layer: 2, Models: (13, 1), Overlap: 0.6262444257736206\n",
      "Layer: 2, Models: (13, 2), Overlap: 0.6286444664001465\n",
      "Layer: 2, Models: (13, 3), Overlap: 0.6285555362701416\n",
      "Layer: 2, Models: (13, 4), Overlap: 0.6274444460868835\n",
      "Layer: 2, Models: (13, 5), Overlap: 0.6294000148773193\n",
      "Layer: 2, Models: (13, 6), Overlap: 0.6294666528701782\n",
      "Layer: 2, Models: (13, 7), Overlap: 0.6277777552604675\n",
      "Layer: 2, Models: (13, 8), Overlap: 0.6282666921615601\n",
      "Layer: 2, Models: (13, 9), Overlap: 0.6273999810218811\n",
      "Layer: 2, Models: (13, 10), Overlap: 0.628933310508728\n",
      "Layer: 2, Models: (13, 11), Overlap: 0.6272222399711609\n",
      "Layer: 2, Models: (13, 12), Overlap: 0.6276888847351074\n",
      "Layer: 2, Models: (13, 14), Overlap: 0.6291999816894531\n",
      "Layer: 2, Models: (14, 0), Overlap: 0.6279777884483337\n",
      "Layer: 2, Models: (14, 1), Overlap: 0.6269111037254333\n",
      "Layer: 2, Models: (14, 2), Overlap: 0.6263333559036255\n",
      "Layer: 2, Models: (14, 3), Overlap: 0.6282888650894165\n",
      "Layer: 2, Models: (14, 4), Overlap: 0.6284444332122803\n",
      "Layer: 2, Models: (14, 5), Overlap: 0.6266666650772095\n",
      "Layer: 2, Models: (14, 6), Overlap: 0.6269333362579346\n",
      "Layer: 2, Models: (14, 7), Overlap: 0.6274222135543823\n",
      "Layer: 2, Models: (14, 8), Overlap: 0.6276666522026062\n",
      "Layer: 2, Models: (14, 9), Overlap: 0.6284888982772827\n",
      "Layer: 2, Models: (14, 10), Overlap: 0.6277111172676086\n",
      "Layer: 2, Models: (14, 11), Overlap: 0.6275777816772461\n",
      "Layer: 2, Models: (14, 12), Overlap: 0.628000020980835\n",
      "Layer: 2, Models: (14, 13), Overlap: 0.6291999816894531\n",
      "Layer: 4, Models: (0, 1), Overlap: 0.6425999999046326\n",
      "Layer: 4, Models: (0, 2), Overlap: 0.6404666900634766\n",
      "Layer: 4, Models: (0, 3), Overlap: 0.6422666907310486\n",
      "Layer: 4, Models: (0, 4), Overlap: 0.6403999924659729\n",
      "Layer: 4, Models: (0, 5), Overlap: 0.645799994468689\n",
      "Layer: 4, Models: (0, 6), Overlap: 0.6409333348274231\n",
      "Layer: 4, Models: (0, 7), Overlap: 0.6425333619117737\n",
      "Layer: 4, Models: (0, 8), Overlap: 0.644266664981842\n",
      "Layer: 4, Models: (0, 9), Overlap: 0.6464666724205017\n",
      "Layer: 4, Models: (0, 10), Overlap: 0.6478666663169861\n",
      "Layer: 4, Models: (0, 11), Overlap: 0.644266664981842\n",
      "Layer: 4, Models: (0, 12), Overlap: 0.6394000053405762\n",
      "Layer: 4, Models: (0, 13), Overlap: 0.6417999863624573\n",
      "Layer: 4, Models: (0, 14), Overlap: 0.6392666697502136\n",
      "Layer: 4, Models: (1, 0), Overlap: 0.6425999999046326\n",
      "Layer: 4, Models: (1, 2), Overlap: 0.6406000256538391\n",
      "Layer: 4, Models: (1, 3), Overlap: 0.6432666778564453\n",
      "Layer: 4, Models: (1, 4), Overlap: 0.6403999924659729\n",
      "Layer: 4, Models: (1, 5), Overlap: 0.6447333097457886\n",
      "Layer: 4, Models: (1, 6), Overlap: 0.642133355140686\n",
      "Layer: 4, Models: (1, 7), Overlap: 0.6419333219528198\n",
      "Layer: 4, Models: (1, 8), Overlap: 0.6417333483695984\n",
      "Layer: 4, Models: (1, 9), Overlap: 0.6444666385650635\n",
      "Layer: 4, Models: (1, 10), Overlap: 0.6478666663169861\n",
      "Layer: 4, Models: (1, 11), Overlap: 0.6428666710853577\n",
      "Layer: 4, Models: (1, 12), Overlap: 0.6422666907310486\n",
      "Layer: 4, Models: (1, 13), Overlap: 0.644266664981842\n",
      "Layer: 4, Models: (1, 14), Overlap: 0.6443333625793457\n",
      "Layer: 4, Models: (2, 0), Overlap: 0.6404666900634766\n",
      "Layer: 4, Models: (2, 1), Overlap: 0.6406000256538391\n",
      "Layer: 4, Models: (2, 3), Overlap: 0.6450666785240173\n",
      "Layer: 4, Models: (2, 4), Overlap: 0.6424000263214111\n",
      "Layer: 4, Models: (2, 5), Overlap: 0.6394666433334351\n",
      "Layer: 4, Models: (2, 6), Overlap: 0.6450666785240173\n",
      "Layer: 4, Models: (2, 7), Overlap: 0.6439999938011169\n",
      "Layer: 4, Models: (2, 8), Overlap: 0.6448666453361511\n",
      "Layer: 4, Models: (2, 9), Overlap: 0.6430666446685791\n",
      "Layer: 4, Models: (2, 10), Overlap: 0.6425999999046326\n",
      "Layer: 4, Models: (2, 11), Overlap: 0.6420666575431824\n",
      "Layer: 4, Models: (2, 12), Overlap: 0.6434666514396667\n",
      "Layer: 4, Models: (2, 13), Overlap: 0.6458666920661926\n",
      "Layer: 4, Models: (2, 14), Overlap: 0.6396666765213013\n",
      "Layer: 4, Models: (3, 0), Overlap: 0.6422666907310486\n",
      "Layer: 4, Models: (3, 1), Overlap: 0.6432666778564453\n",
      "Layer: 4, Models: (3, 2), Overlap: 0.6450666785240173\n",
      "Layer: 4, Models: (3, 4), Overlap: 0.6418666839599609\n",
      "Layer: 4, Models: (3, 5), Overlap: 0.6425999999046326\n",
      "Layer: 4, Models: (3, 6), Overlap: 0.6467333436012268\n",
      "Layer: 4, Models: (3, 7), Overlap: 0.6462666392326355\n",
      "Layer: 4, Models: (3, 8), Overlap: 0.6460666656494141\n",
      "Layer: 4, Models: (3, 9), Overlap: 0.6460000276565552\n",
      "Layer: 4, Models: (3, 10), Overlap: 0.6471333503723145\n",
      "Layer: 4, Models: (3, 11), Overlap: 0.6449333429336548\n",
      "Layer: 4, Models: (3, 12), Overlap: 0.6480000019073486\n",
      "Layer: 4, Models: (3, 13), Overlap: 0.6449333429336548\n",
      "Layer: 4, Models: (3, 14), Overlap: 0.646399974822998\n",
      "Layer: 4, Models: (4, 0), Overlap: 0.6403999924659729\n",
      "Layer: 4, Models: (4, 1), Overlap: 0.6403999924659729\n",
      "Layer: 4, Models: (4, 2), Overlap: 0.6424000263214111\n",
      "Layer: 4, Models: (4, 3), Overlap: 0.6418666839599609\n"
     ]
    },
    {
     "name": "stdout",
     "output_type": "stream",
     "text": [
      "Layer: 4, Models: (4, 5), Overlap: 0.6474666595458984\n",
      "Layer: 4, Models: (4, 6), Overlap: 0.638866662979126\n",
      "Layer: 4, Models: (4, 7), Overlap: 0.643666684627533\n",
      "Layer: 4, Models: (4, 8), Overlap: 0.6432666778564453\n",
      "Layer: 4, Models: (4, 9), Overlap: 0.6450666785240173\n",
      "Layer: 4, Models: (4, 10), Overlap: 0.6452000141143799\n",
      "Layer: 4, Models: (4, 11), Overlap: 0.6432666778564453\n",
      "Layer: 4, Models: (4, 12), Overlap: 0.6408666372299194\n",
      "Layer: 4, Models: (4, 13), Overlap: 0.6450666785240173\n",
      "Layer: 4, Models: (4, 14), Overlap: 0.6388000249862671\n",
      "Layer: 4, Models: (5, 0), Overlap: 0.645799994468689\n",
      "Layer: 4, Models: (5, 1), Overlap: 0.6447333097457886\n",
      "Layer: 4, Models: (5, 2), Overlap: 0.6394666433334351\n",
      "Layer: 4, Models: (5, 3), Overlap: 0.6425999999046326\n",
      "Layer: 4, Models: (5, 4), Overlap: 0.6474666595458984\n",
      "Layer: 4, Models: (5, 6), Overlap: 0.644599974155426\n",
      "Layer: 4, Models: (5, 7), Overlap: 0.6451333165168762\n",
      "Layer: 4, Models: (5, 8), Overlap: 0.6448666453361511\n",
      "Layer: 4, Models: (5, 9), Overlap: 0.6451333165168762\n",
      "Layer: 4, Models: (5, 10), Overlap: 0.6447333097457886\n",
      "Layer: 4, Models: (5, 11), Overlap: 0.6475333571434021\n",
      "Layer: 4, Models: (5, 12), Overlap: 0.6467333436012268\n",
      "Layer: 4, Models: (5, 13), Overlap: 0.646133303642273\n",
      "Layer: 4, Models: (5, 14), Overlap: 0.6415333151817322\n",
      "Layer: 4, Models: (6, 0), Overlap: 0.6409333348274231\n",
      "Layer: 4, Models: (6, 1), Overlap: 0.642133355140686\n",
      "Layer: 4, Models: (6, 2), Overlap: 0.6450666785240173\n",
      "Layer: 4, Models: (6, 3), Overlap: 0.6467333436012268\n",
      "Layer: 4, Models: (6, 4), Overlap: 0.638866662979126\n",
      "Layer: 4, Models: (6, 5), Overlap: 0.644599974155426\n",
      "Layer: 4, Models: (6, 7), Overlap: 0.6424000263214111\n",
      "Layer: 4, Models: (6, 8), Overlap: 0.6452000141143799\n",
      "Layer: 4, Models: (6, 9), Overlap: 0.6502000093460083\n",
      "Layer: 4, Models: (6, 10), Overlap: 0.6431333422660828\n",
      "Layer: 4, Models: (6, 11), Overlap: 0.6469333171844482\n",
      "Layer: 4, Models: (6, 12), Overlap: 0.6432666778564453\n",
      "Layer: 4, Models: (6, 13), Overlap: 0.6448666453361511\n",
      "Layer: 4, Models: (6, 14), Overlap: 0.6423333287239075\n",
      "Layer: 4, Models: (7, 0), Overlap: 0.6425333619117737\n",
      "Layer: 4, Models: (7, 1), Overlap: 0.6419333219528198\n",
      "Layer: 4, Models: (7, 2), Overlap: 0.6439999938011169\n",
      "Layer: 4, Models: (7, 3), Overlap: 0.6462666392326355\n",
      "Layer: 4, Models: (7, 4), Overlap: 0.643666684627533\n",
      "Layer: 4, Models: (7, 5), Overlap: 0.6451333165168762\n",
      "Layer: 4, Models: (7, 6), Overlap: 0.6424000263214111\n",
      "Layer: 4, Models: (7, 8), Overlap: 0.6428666710853577\n",
      "Layer: 4, Models: (7, 9), Overlap: 0.6405333280563354\n",
      "Layer: 4, Models: (7, 10), Overlap: 0.6470000147819519\n",
      "Layer: 4, Models: (7, 11), Overlap: 0.6430000066757202\n",
      "Layer: 4, Models: (7, 12), Overlap: 0.6421999931335449\n",
      "Layer: 4, Models: (7, 13), Overlap: 0.6425333619117737\n",
      "Layer: 4, Models: (7, 14), Overlap: 0.6460000276565552\n",
      "Layer: 4, Models: (8, 0), Overlap: 0.644266664981842\n",
      "Layer: 4, Models: (8, 1), Overlap: 0.6417333483695984\n",
      "Layer: 4, Models: (8, 2), Overlap: 0.6448666453361511\n",
      "Layer: 4, Models: (8, 3), Overlap: 0.6460666656494141\n",
      "Layer: 4, Models: (8, 4), Overlap: 0.6432666778564453\n",
      "Layer: 4, Models: (8, 5), Overlap: 0.6448666453361511\n",
      "Layer: 4, Models: (8, 6), Overlap: 0.6452000141143799\n",
      "Layer: 4, Models: (8, 7), Overlap: 0.6428666710853577\n",
      "Layer: 4, Models: (8, 9), Overlap: 0.6440666913986206\n",
      "Layer: 4, Models: (8, 10), Overlap: 0.6434666514396667\n",
      "Layer: 4, Models: (8, 11), Overlap: 0.6480000019073486\n",
      "Layer: 4, Models: (8, 12), Overlap: 0.64246666431427\n",
      "Layer: 4, Models: (8, 13), Overlap: 0.6377999782562256\n",
      "Layer: 4, Models: (8, 14), Overlap: 0.6438666582107544\n",
      "Layer: 4, Models: (9, 0), Overlap: 0.6464666724205017\n",
      "Layer: 4, Models: (9, 1), Overlap: 0.6444666385650635\n",
      "Layer: 4, Models: (9, 2), Overlap: 0.6430666446685791\n",
      "Layer: 4, Models: (9, 3), Overlap: 0.6460000276565552\n",
      "Layer: 4, Models: (9, 4), Overlap: 0.6450666785240173\n",
      "Layer: 4, Models: (9, 5), Overlap: 0.6451333165168762\n",
      "Layer: 4, Models: (9, 6), Overlap: 0.6502000093460083\n",
      "Layer: 4, Models: (9, 7), Overlap: 0.6405333280563354\n",
      "Layer: 4, Models: (9, 8), Overlap: 0.6440666913986206\n",
      "Layer: 4, Models: (9, 10), Overlap: 0.644599974155426\n",
      "Layer: 4, Models: (9, 11), Overlap: 0.6442000269889832\n",
      "Layer: 4, Models: (9, 12), Overlap: 0.6422666907310486\n",
      "Layer: 4, Models: (9, 13), Overlap: 0.6433333158493042\n",
      "Layer: 4, Models: (9, 14), Overlap: 0.6438666582107544\n",
      "Layer: 4, Models: (10, 0), Overlap: 0.6478666663169861\n",
      "Layer: 4, Models: (10, 1), Overlap: 0.6478666663169861\n",
      "Layer: 4, Models: (10, 2), Overlap: 0.6425999999046326\n",
      "Layer: 4, Models: (10, 3), Overlap: 0.6471333503723145\n",
      "Layer: 4, Models: (10, 4), Overlap: 0.6452000141143799\n",
      "Layer: 4, Models: (10, 5), Overlap: 0.6447333097457886\n",
      "Layer: 4, Models: (10, 6), Overlap: 0.6431333422660828\n",
      "Layer: 4, Models: (10, 7), Overlap: 0.6470000147819519\n",
      "Layer: 4, Models: (10, 8), Overlap: 0.6434666514396667\n",
      "Layer: 4, Models: (10, 9), Overlap: 0.644599974155426\n",
      "Layer: 4, Models: (10, 11), Overlap: 0.6443333625793457\n",
      "Layer: 4, Models: (10, 12), Overlap: 0.6435999870300293\n",
      "Layer: 4, Models: (10, 13), Overlap: 0.6462666392326355\n",
      "Layer: 4, Models: (10, 14), Overlap: 0.6462000012397766\n",
      "Layer: 4, Models: (11, 0), Overlap: 0.644266664981842\n",
      "Layer: 4, Models: (11, 1), Overlap: 0.6428666710853577\n",
      "Layer: 4, Models: (11, 2), Overlap: 0.6420666575431824\n",
      "Layer: 4, Models: (11, 3), Overlap: 0.6449333429336548\n",
      "Layer: 4, Models: (11, 4), Overlap: 0.6432666778564453\n",
      "Layer: 4, Models: (11, 5), Overlap: 0.6475333571434021\n",
      "Layer: 4, Models: (11, 6), Overlap: 0.6469333171844482\n",
      "Layer: 4, Models: (11, 7), Overlap: 0.6430000066757202\n",
      "Layer: 4, Models: (11, 8), Overlap: 0.6480000019073486\n",
      "Layer: 4, Models: (11, 9), Overlap: 0.6442000269889832\n",
      "Layer: 4, Models: (11, 10), Overlap: 0.6443333625793457\n",
      "Layer: 4, Models: (11, 12), Overlap: 0.640333354473114\n",
      "Layer: 4, Models: (11, 13), Overlap: 0.6447333097457886\n",
      "Layer: 4, Models: (11, 14), Overlap: 0.6423333287239075\n",
      "Layer: 4, Models: (12, 0), Overlap: 0.6394000053405762\n",
      "Layer: 4, Models: (12, 1), Overlap: 0.6422666907310486\n",
      "Layer: 4, Models: (12, 2), Overlap: 0.6434666514396667\n",
      "Layer: 4, Models: (12, 3), Overlap: 0.6480000019073486\n",
      "Layer: 4, Models: (12, 4), Overlap: 0.6408666372299194\n",
      "Layer: 4, Models: (12, 5), Overlap: 0.6467333436012268\n",
      "Layer: 4, Models: (12, 6), Overlap: 0.6432666778564453\n",
      "Layer: 4, Models: (12, 7), Overlap: 0.6421999931335449\n",
      "Layer: 4, Models: (12, 8), Overlap: 0.64246666431427\n",
      "Layer: 4, Models: (12, 9), Overlap: 0.6422666907310486\n",
      "Layer: 4, Models: (12, 10), Overlap: 0.6435999870300293\n",
      "Layer: 4, Models: (12, 11), Overlap: 0.640333354473114\n",
      "Layer: 4, Models: (12, 13), Overlap: 0.63919997215271\n",
      "Layer: 4, Models: (12, 14), Overlap: 0.6444000005722046\n",
      "Layer: 4, Models: (13, 0), Overlap: 0.6417999863624573\n",
      "Layer: 4, Models: (13, 1), Overlap: 0.644266664981842\n",
      "Layer: 4, Models: (13, 2), Overlap: 0.6458666920661926\n",
      "Layer: 4, Models: (13, 3), Overlap: 0.6449333429336548\n",
      "Layer: 4, Models: (13, 4), Overlap: 0.6450666785240173\n",
      "Layer: 4, Models: (13, 5), Overlap: 0.646133303642273\n",
      "Layer: 4, Models: (13, 6), Overlap: 0.6448666453361511\n",
      "Layer: 4, Models: (13, 7), Overlap: 0.6425333619117737\n",
      "Layer: 4, Models: (13, 8), Overlap: 0.6377999782562256\n",
      "Layer: 4, Models: (13, 9), Overlap: 0.6433333158493042\n",
      "Layer: 4, Models: (13, 10), Overlap: 0.6462666392326355\n",
      "Layer: 4, Models: (13, 11), Overlap: 0.6447333097457886\n",
      "Layer: 4, Models: (13, 12), Overlap: 0.63919997215271\n",
      "Layer: 4, Models: (13, 14), Overlap: 0.6396666765213013\n",
      "Layer: 4, Models: (14, 0), Overlap: 0.6392666697502136\n",
      "Layer: 4, Models: (14, 1), Overlap: 0.6443333625793457\n",
      "Layer: 4, Models: (14, 2), Overlap: 0.6396666765213013\n",
      "Layer: 4, Models: (14, 3), Overlap: 0.646399974822998\n",
      "Layer: 4, Models: (14, 4), Overlap: 0.6388000249862671\n",
      "Layer: 4, Models: (14, 5), Overlap: 0.6415333151817322\n",
      "Layer: 4, Models: (14, 6), Overlap: 0.6423333287239075\n",
      "Layer: 4, Models: (14, 7), Overlap: 0.6460000276565552\n",
      "Layer: 4, Models: (14, 8), Overlap: 0.6438666582107544\n",
      "Layer: 4, Models: (14, 9), Overlap: 0.6438666582107544\n",
      "Layer: 4, Models: (14, 10), Overlap: 0.6462000012397766\n",
      "Layer: 4, Models: (14, 11), Overlap: 0.6423333287239075\n",
      "Layer: 4, Models: (14, 12), Overlap: 0.6444000005722046\n",
      "Layer: 4, Models: (14, 13), Overlap: 0.6396666765213013\n"
     ]
    }
   ],
   "source": [
    "task = 0\n",
    "for layer, modelidx in product([0,2,4], product([i for i in range(15)], [i for i in range(15)])):\n",
    "    modeli, modelj = modelidx\n",
    "    if modeli == modelj:\n",
    "        continue\n",
    "    print('Layer: {}, Models: ({}, {}), Overlap: {}'.format(layer, modeli, modelj,\n",
    "        overlap(model_map[modeli].state_dict()['model.{}.stacked'.format(layer)][task],\n",
    "                model_map[modelj].state_dict()['model.{}.stacked'.format(layer)][task])))"
   ]
  },
  {
   "cell_type": "markdown",
   "metadata": {},
   "source": [
    "# Basis Masks "
   ]
  },
  {
   "cell_type": "markdown",
   "metadata": {},
   "source": [
    "### Model Initialization (Only New Tasks)"
   ]
  },
  {
   "cell_type": "code",
   "execution_count": 26,
   "metadata": {},
   "outputs": [],
   "source": [
    "num_tasks = 50 # For demonstration purposes, we go up to 2500 in our paper\n",
    "num_seed_tasks_learned = 40\n",
    "basis_model = BasisMultitaskFC(hidden_size=300, num_tasks=num_tasks, num_seed_tasks_learned=num_seed_tasks_learned, start_at_optimal=True, sparsity=0.25)"
   ]
  },
  {
   "cell_type": "code",
   "execution_count": 27,
   "metadata": {},
   "outputs": [
    {
     "name": "stdout",
     "output_type": "stream",
     "text": [
      "=> Caching mask state for model.0\n",
      "=> Caching mask state for model.2\n",
      "=> Caching mask state for model.4\n"
     ]
    }
   ],
   "source": [
    "seed_dict = model.state_dict()\n",
    "basis_dict = basis_model.state_dict()\n",
    "load_dict = {k: seed_dict[k] for k in basis_model.state_dict().keys() if k in seed_dict.keys()}\n",
    "basis_dict.update(load_dict)\n",
    "basis_model.load_state_dict(basis_dict, False)\n",
    "cache_masks(basis_model)"
   ]
  },
  {
   "cell_type": "code",
   "execution_count": 28,
   "metadata": {
    "scrolled": true
   },
   "outputs": [
    {
     "name": "stdout",
     "output_type": "stream",
     "text": [
      "Training for task 40\n",
      "=> Set task of model.0 to 40\n",
      "=> Set task of model.2 to 40\n",
      "=> Set task of model.4 to 40\n"
     ]
    },
    {
     "data": {
      "application/vnd.jupyter.widget-view+json": {
       "model_id": "12352b8ce94b4b9c8347a82e8904c408",
       "version_major": 2,
       "version_minor": 0
      },
      "text/plain": [
       "  0%|          | 0/469 [00:00<?, ?it/s]"
      ]
     },
     "metadata": {},
     "output_type": "display_data"
    },
    {
     "name": "stdout",
     "output_type": "stream",
     "text": [
      "Validation => Loss 1.5575, Acc@1 0.3060\n",
      "============\n"
     ]
    },
    {
     "data": {
      "application/vnd.jupyter.widget-view+json": {
       "model_id": "289ee319a5d9463e86169450972592a8",
       "version_major": 2,
       "version_minor": 0
      },
      "text/plain": [
       "  0%|          | 0/79 [00:00<?, ?it/s]"
      ]
     },
     "metadata": {},
     "output_type": "display_data"
    },
    {
     "name": "stdout",
     "output_type": "stream",
     "text": [
      "Val Perf after 1 epochs Acc@1 0.4635\n"
     ]
    },
    {
     "data": {
      "application/vnd.jupyter.widget-view+json": {
       "model_id": "274e11d85faf4dd5a96a8fb3e7e8996b",
       "version_major": 2,
       "version_minor": 0
      },
      "text/plain": [
       "  0%|          | 0/469 [00:00<?, ?it/s]"
      ]
     },
     "metadata": {},
     "output_type": "display_data"
    },
    {
     "name": "stdout",
     "output_type": "stream",
     "text": [
      "Validation => Loss 1.2256, Acc@1 0.5085\n",
      "============\n"
     ]
    },
    {
     "data": {
      "application/vnd.jupyter.widget-view+json": {
       "model_id": "43d7125a662e44fbbad809bd8384b262",
       "version_major": 2,
       "version_minor": 0
      },
      "text/plain": [
       "  0%|          | 0/79 [00:00<?, ?it/s]"
      ]
     },
     "metadata": {},
     "output_type": "display_data"
    },
    {
     "name": "stdout",
     "output_type": "stream",
     "text": [
      "Val Perf after 2 epochs Acc@1 0.5387\n",
      "=> Caching mask state for model.0\n",
      "=> Caching mask state for model.2\n",
      "=> Caching mask state for model.4\n",
      "\n",
      "=> Setting learned tasks of model.0 to 41\n",
      "=> Setting learned tasks of model.2 to 41\n",
      "=> Setting learned tasks of model.4 to 41\n",
      "\n",
      "Training for task 41\n",
      "=> Set task of model.0 to 41\n",
      "=> Set task of model.2 to 41\n",
      "=> Set task of model.4 to 41\n"
     ]
    },
    {
     "data": {
      "application/vnd.jupyter.widget-view+json": {
       "model_id": "2b4cf053bef3489486e391d12a49f34b",
       "version_major": 2,
       "version_minor": 0
      },
      "text/plain": [
       "  0%|          | 0/469 [00:00<?, ?it/s]"
      ]
     },
     "metadata": {},
     "output_type": "display_data"
    },
    {
     "name": "stdout",
     "output_type": "stream",
     "text": [
      "Validation => Loss 1.6740, Acc@1 0.2939\n",
      "============\n"
     ]
    },
    {
     "data": {
      "application/vnd.jupyter.widget-view+json": {
       "model_id": "ba4e3c0a7bb849729d424cd5f688864a",
       "version_major": 2,
       "version_minor": 0
      },
      "text/plain": [
       "  0%|          | 0/79 [00:00<?, ?it/s]"
      ]
     },
     "metadata": {},
     "output_type": "display_data"
    },
    {
     "name": "stdout",
     "output_type": "stream",
     "text": [
      "Val Perf after 1 epochs Acc@1 0.4347\n"
     ]
    },
    {
     "data": {
      "application/vnd.jupyter.widget-view+json": {
       "model_id": "94d0d55c840c423c9d6c1eb0bc347a8b",
       "version_major": 2,
       "version_minor": 0
      },
      "text/plain": [
       "  0%|          | 0/469 [00:00<?, ?it/s]"
      ]
     },
     "metadata": {},
     "output_type": "display_data"
    },
    {
     "name": "stdout",
     "output_type": "stream",
     "text": [
      "Validation => Loss 1.3222, Acc@1 0.5059\n",
      "============\n"
     ]
    },
    {
     "data": {
      "application/vnd.jupyter.widget-view+json": {
       "model_id": "68fdc474e3cb4db89801afa7693406c2",
       "version_major": 2,
       "version_minor": 0
      },
      "text/plain": [
       "  0%|          | 0/79 [00:00<?, ?it/s]"
      ]
     },
     "metadata": {},
     "output_type": "display_data"
    },
    {
     "name": "stdout",
     "output_type": "stream",
     "text": [
      "Val Perf after 2 epochs Acc@1 0.5479\n",
      "=> Caching mask state for model.0\n",
      "=> Caching mask state for model.2\n",
      "=> Caching mask state for model.4\n",
      "\n",
      "=> Setting learned tasks of model.0 to 42\n",
      "=> Setting learned tasks of model.2 to 42\n",
      "=> Setting learned tasks of model.4 to 42\n",
      "\n",
      "Training for task 42\n",
      "=> Set task of model.0 to 42\n",
      "=> Set task of model.2 to 42\n",
      "=> Set task of model.4 to 42\n"
     ]
    },
    {
     "data": {
      "application/vnd.jupyter.widget-view+json": {
       "model_id": "54c605d55f99452a889354600100956c",
       "version_major": 2,
       "version_minor": 0
      },
      "text/plain": [
       "  0%|          | 0/469 [00:00<?, ?it/s]"
      ]
     },
     "metadata": {},
     "output_type": "display_data"
    },
    {
     "name": "stdout",
     "output_type": "stream",
     "text": [
      "Validation => Loss 1.4927, Acc@1 0.3356\n",
      "============\n"
     ]
    },
    {
     "data": {
      "application/vnd.jupyter.widget-view+json": {
       "model_id": "5fcaf41634be411483ea2ddbf25925a6",
       "version_major": 2,
       "version_minor": 0
      },
      "text/plain": [
       "  0%|          | 0/79 [00:00<?, ?it/s]"
      ]
     },
     "metadata": {},
     "output_type": "display_data"
    },
    {
     "name": "stdout",
     "output_type": "stream",
     "text": [
      "Val Perf after 1 epochs Acc@1 0.5106\n"
     ]
    },
    {
     "data": {
      "application/vnd.jupyter.widget-view+json": {
       "model_id": "6f85c0ff73eb476ea24c3599fbe5804e",
       "version_major": 2,
       "version_minor": 0
      },
      "text/plain": [
       "  0%|          | 0/469 [00:00<?, ?it/s]"
      ]
     },
     "metadata": {},
     "output_type": "display_data"
    },
    {
     "name": "stdout",
     "output_type": "stream",
     "text": [
      "Validation => Loss 1.4507, Acc@1 0.5417\n",
      "============\n"
     ]
    },
    {
     "data": {
      "application/vnd.jupyter.widget-view+json": {
       "model_id": "3c80a4badb1c4dbfa4c47718fb9591c4",
       "version_major": 2,
       "version_minor": 0
      },
      "text/plain": [
       "  0%|          | 0/79 [00:00<?, ?it/s]"
      ]
     },
     "metadata": {},
     "output_type": "display_data"
    },
    {
     "name": "stdout",
     "output_type": "stream",
     "text": [
      "Val Perf after 2 epochs Acc@1 0.5857\n",
      "=> Caching mask state for model.0\n",
      "=> Caching mask state for model.2\n",
      "=> Caching mask state for model.4\n",
      "\n",
      "=> Setting learned tasks of model.0 to 43\n",
      "=> Setting learned tasks of model.2 to 43\n",
      "=> Setting learned tasks of model.4 to 43\n",
      "\n",
      "Training for task 43\n",
      "=> Set task of model.0 to 43\n",
      "=> Set task of model.2 to 43\n",
      "=> Set task of model.4 to 43\n"
     ]
    },
    {
     "data": {
      "application/vnd.jupyter.widget-view+json": {
       "model_id": "08ac2bd9f0394f5d82a24f3aaf0f96a1",
       "version_major": 2,
       "version_minor": 0
      },
      "text/plain": [
       "  0%|          | 0/469 [00:00<?, ?it/s]"
      ]
     },
     "metadata": {},
     "output_type": "display_data"
    },
    {
     "name": "stdout",
     "output_type": "stream",
     "text": [
      "Validation => Loss 1.4743, Acc@1 0.3158\n",
      "============\n"
     ]
    },
    {
     "data": {
      "application/vnd.jupyter.widget-view+json": {
       "model_id": "2651708032e54b05b413398faad0c7d9",
       "version_major": 2,
       "version_minor": 0
      },
      "text/plain": [
       "  0%|          | 0/79 [00:00<?, ?it/s]"
      ]
     },
     "metadata": {},
     "output_type": "display_data"
    },
    {
     "name": "stdout",
     "output_type": "stream",
     "text": [
      "Val Perf after 1 epochs Acc@1 0.4667\n"
     ]
    },
    {
     "data": {
      "application/vnd.jupyter.widget-view+json": {
       "model_id": "6305f3e5042e4110a60eb9879da0b042",
       "version_major": 2,
       "version_minor": 0
      },
      "text/plain": [
       "  0%|          | 0/469 [00:00<?, ?it/s]"
      ]
     },
     "metadata": {},
     "output_type": "display_data"
    },
    {
     "name": "stdout",
     "output_type": "stream",
     "text": [
      "Validation => Loss 1.3278, Acc@1 0.4801\n",
      "============\n"
     ]
    },
    {
     "data": {
      "application/vnd.jupyter.widget-view+json": {
       "model_id": "109c01ea7a854ca89d7deae8c255c17e",
       "version_major": 2,
       "version_minor": 0
      },
      "text/plain": [
       "  0%|          | 0/79 [00:00<?, ?it/s]"
      ]
     },
     "metadata": {},
     "output_type": "display_data"
    },
    {
     "name": "stdout",
     "output_type": "stream",
     "text": [
      "Val Perf after 2 epochs Acc@1 0.5370\n",
      "=> Caching mask state for model.0\n",
      "=> Caching mask state for model.2\n",
      "=> Caching mask state for model.4\n",
      "\n",
      "=> Setting learned tasks of model.0 to 44\n",
      "=> Setting learned tasks of model.2 to 44\n",
      "=> Setting learned tasks of model.4 to 44\n",
      "\n",
      "Training for task 44\n",
      "=> Set task of model.0 to 44\n",
      "=> Set task of model.2 to 44\n",
      "=> Set task of model.4 to 44\n"
     ]
    },
    {
     "data": {
      "application/vnd.jupyter.widget-view+json": {
       "model_id": "7b1fbc815fef4bf78815123d891a11ec",
       "version_major": 2,
       "version_minor": 0
      },
      "text/plain": [
       "  0%|          | 0/469 [00:00<?, ?it/s]"
      ]
     },
     "metadata": {},
     "output_type": "display_data"
    },
    {
     "name": "stdout",
     "output_type": "stream",
     "text": [
      "Validation => Loss 1.6210, Acc@1 0.3037\n",
      "============\n"
     ]
    },
    {
     "data": {
      "application/vnd.jupyter.widget-view+json": {
       "model_id": "da9675980ab54ca1b9667094bc40f54b",
       "version_major": 2,
       "version_minor": 0
      },
      "text/plain": [
       "  0%|          | 0/79 [00:00<?, ?it/s]"
      ]
     },
     "metadata": {},
     "output_type": "display_data"
    },
    {
     "name": "stdout",
     "output_type": "stream",
     "text": [
      "Val Perf after 1 epochs Acc@1 0.4761\n"
     ]
    },
    {
     "data": {
      "application/vnd.jupyter.widget-view+json": {
       "model_id": "30b8e88de44b4e64812bf573ec783bfe",
       "version_major": 2,
       "version_minor": 0
      },
      "text/plain": [
       "  0%|          | 0/469 [00:00<?, ?it/s]"
      ]
     },
     "metadata": {},
     "output_type": "display_data"
    },
    {
     "name": "stdout",
     "output_type": "stream",
     "text": [
      "Validation => Loss 1.3181, Acc@1 0.5358\n",
      "============\n"
     ]
    },
    {
     "data": {
      "application/vnd.jupyter.widget-view+json": {
       "model_id": "ea3baed95aaf47aaa1f370fcedce22a5",
       "version_major": 2,
       "version_minor": 0
      },
      "text/plain": [
       "  0%|          | 0/79 [00:00<?, ?it/s]"
      ]
     },
     "metadata": {},
     "output_type": "display_data"
    },
    {
     "name": "stdout",
     "output_type": "stream",
     "text": [
      "Val Perf after 2 epochs Acc@1 0.5858\n",
      "=> Caching mask state for model.0\n",
      "=> Caching mask state for model.2\n",
      "=> Caching mask state for model.4\n",
      "\n",
      "=> Setting learned tasks of model.0 to 45\n",
      "=> Setting learned tasks of model.2 to 45\n",
      "=> Setting learned tasks of model.4 to 45\n",
      "\n",
      "Training for task 45\n",
      "=> Set task of model.0 to 45\n",
      "=> Set task of model.2 to 45\n",
      "=> Set task of model.4 to 45\n"
     ]
    },
    {
     "data": {
      "application/vnd.jupyter.widget-view+json": {
       "model_id": "e7689db7c0b448199024c5aa9c80c734",
       "version_major": 2,
       "version_minor": 0
      },
      "text/plain": [
       "  0%|          | 0/469 [00:00<?, ?it/s]"
      ]
     },
     "metadata": {},
     "output_type": "display_data"
    },
    {
     "name": "stdout",
     "output_type": "stream",
     "text": [
      "Validation => Loss 1.6129, Acc@1 0.3278\n",
      "============\n"
     ]
    },
    {
     "data": {
      "application/vnd.jupyter.widget-view+json": {
       "model_id": "e2018b5f777b49da8bbd54b5753a03dd",
       "version_major": 2,
       "version_minor": 0
      },
      "text/plain": [
       "  0%|          | 0/79 [00:00<?, ?it/s]"
      ]
     },
     "metadata": {},
     "output_type": "display_data"
    },
    {
     "name": "stdout",
     "output_type": "stream",
     "text": [
      "Val Perf after 1 epochs Acc@1 0.4716\n"
     ]
    },
    {
     "data": {
      "application/vnd.jupyter.widget-view+json": {
       "model_id": "969272aa036944cb93e4289c9a8b99ae",
       "version_major": 2,
       "version_minor": 0
      },
      "text/plain": [
       "  0%|          | 0/469 [00:00<?, ?it/s]"
      ]
     },
     "metadata": {},
     "output_type": "display_data"
    },
    {
     "name": "stdout",
     "output_type": "stream",
     "text": [
      "Validation => Loss 1.2530, Acc@1 0.5091\n",
      "============\n"
     ]
    },
    {
     "data": {
      "application/vnd.jupyter.widget-view+json": {
       "model_id": "bfd7a52c1915430d94356aacc9bd28ec",
       "version_major": 2,
       "version_minor": 0
      },
      "text/plain": [
       "  0%|          | 0/79 [00:00<?, ?it/s]"
      ]
     },
     "metadata": {},
     "output_type": "display_data"
    },
    {
     "name": "stdout",
     "output_type": "stream",
     "text": [
      "Val Perf after 2 epochs Acc@1 0.5631\n",
      "=> Caching mask state for model.0\n",
      "=> Caching mask state for model.2\n",
      "=> Caching mask state for model.4\n",
      "\n",
      "=> Setting learned tasks of model.0 to 46\n",
      "=> Setting learned tasks of model.2 to 46\n",
      "=> Setting learned tasks of model.4 to 46\n",
      "\n",
      "Training for task 46\n",
      "=> Set task of model.0 to 46\n",
      "=> Set task of model.2 to 46\n",
      "=> Set task of model.4 to 46\n"
     ]
    },
    {
     "data": {
      "application/vnd.jupyter.widget-view+json": {
       "model_id": "97006274fad845ab85ea94a94360bad9",
       "version_major": 2,
       "version_minor": 0
      },
      "text/plain": [
       "  0%|          | 0/469 [00:00<?, ?it/s]"
      ]
     },
     "metadata": {},
     "output_type": "display_data"
    },
    {
     "name": "stdout",
     "output_type": "stream",
     "text": [
      "Validation => Loss 1.7034, Acc@1 0.2809\n",
      "============\n"
     ]
    },
    {
     "data": {
      "application/vnd.jupyter.widget-view+json": {
       "model_id": "b220061a9aa1459b84a509892ad238b2",
       "version_major": 2,
       "version_minor": 0
      },
      "text/plain": [
       "  0%|          | 0/79 [00:00<?, ?it/s]"
      ]
     },
     "metadata": {},
     "output_type": "display_data"
    },
    {
     "name": "stdout",
     "output_type": "stream",
     "text": [
      "Val Perf after 1 epochs Acc@1 0.4134\n"
     ]
    },
    {
     "data": {
      "application/vnd.jupyter.widget-view+json": {
       "model_id": "dab4c11a08104f3ba3f1e1a737194b64",
       "version_major": 2,
       "version_minor": 0
      },
      "text/plain": [
       "  0%|          | 0/469 [00:00<?, ?it/s]"
      ]
     },
     "metadata": {},
     "output_type": "display_data"
    },
    {
     "name": "stdout",
     "output_type": "stream",
     "text": [
      "Validation => Loss 1.3144, Acc@1 0.4990\n",
      "============\n"
     ]
    },
    {
     "data": {
      "application/vnd.jupyter.widget-view+json": {
       "model_id": "ab2bf627720544be870063fb9314c482",
       "version_major": 2,
       "version_minor": 0
      },
      "text/plain": [
       "  0%|          | 0/79 [00:00<?, ?it/s]"
      ]
     },
     "metadata": {},
     "output_type": "display_data"
    },
    {
     "name": "stdout",
     "output_type": "stream",
     "text": [
      "Val Perf after 2 epochs Acc@1 0.5414\n",
      "=> Caching mask state for model.0\n",
      "=> Caching mask state for model.2\n",
      "=> Caching mask state for model.4\n",
      "\n",
      "=> Setting learned tasks of model.0 to 47\n",
      "=> Setting learned tasks of model.2 to 47\n",
      "=> Setting learned tasks of model.4 to 47\n",
      "\n",
      "Training for task 47\n",
      "=> Set task of model.0 to 47\n",
      "=> Set task of model.2 to 47\n",
      "=> Set task of model.4 to 47\n"
     ]
    },
    {
     "data": {
      "application/vnd.jupyter.widget-view+json": {
       "model_id": "9e63834c30eb482295ec75b22dc5a0fa",
       "version_major": 2,
       "version_minor": 0
      },
      "text/plain": [
       "  0%|          | 0/469 [00:00<?, ?it/s]"
      ]
     },
     "metadata": {},
     "output_type": "display_data"
    },
    {
     "name": "stdout",
     "output_type": "stream",
     "text": [
      "Validation => Loss 1.5168, Acc@1 0.3210\n",
      "============\n"
     ]
    },
    {
     "data": {
      "application/vnd.jupyter.widget-view+json": {
       "model_id": "ceb5a4732af548e2ae0e1e0ead504686",
       "version_major": 2,
       "version_minor": 0
      },
      "text/plain": [
       "  0%|          | 0/79 [00:00<?, ?it/s]"
      ]
     },
     "metadata": {},
     "output_type": "display_data"
    },
    {
     "name": "stdout",
     "output_type": "stream",
     "text": [
      "Val Perf after 1 epochs Acc@1 0.4992\n"
     ]
    },
    {
     "data": {
      "application/vnd.jupyter.widget-view+json": {
       "model_id": "56d39cee4d0d45debc25acb6d17be56a",
       "version_major": 2,
       "version_minor": 0
      },
      "text/plain": [
       "  0%|          | 0/469 [00:00<?, ?it/s]"
      ]
     },
     "metadata": {},
     "output_type": "display_data"
    },
    {
     "name": "stdout",
     "output_type": "stream",
     "text": [
      "Validation => Loss 1.3096, Acc@1 0.5485\n",
      "============\n"
     ]
    },
    {
     "data": {
      "application/vnd.jupyter.widget-view+json": {
       "model_id": "2c6b6a20581d49f0a43270d116d228c9",
       "version_major": 2,
       "version_minor": 0
      },
      "text/plain": [
       "  0%|          | 0/79 [00:00<?, ?it/s]"
      ]
     },
     "metadata": {},
     "output_type": "display_data"
    },
    {
     "name": "stdout",
     "output_type": "stream",
     "text": [
      "Val Perf after 2 epochs Acc@1 0.5841\n",
      "=> Caching mask state for model.0\n",
      "=> Caching mask state for model.2\n",
      "=> Caching mask state for model.4\n",
      "\n",
      "=> Setting learned tasks of model.0 to 48\n",
      "=> Setting learned tasks of model.2 to 48\n",
      "=> Setting learned tasks of model.4 to 48\n",
      "\n",
      "Training for task 48\n",
      "=> Set task of model.0 to 48\n",
      "=> Set task of model.2 to 48\n",
      "=> Set task of model.4 to 48\n"
     ]
    },
    {
     "data": {
      "application/vnd.jupyter.widget-view+json": {
       "model_id": "d45c679f24cd4ae79fb2a4bf7696dfa9",
       "version_major": 2,
       "version_minor": 0
      },
      "text/plain": [
       "  0%|          | 0/469 [00:00<?, ?it/s]"
      ]
     },
     "metadata": {},
     "output_type": "display_data"
    },
    {
     "name": "stdout",
     "output_type": "stream",
     "text": [
      "Validation => Loss 1.7470, Acc@1 0.3314\n",
      "============\n"
     ]
    },
    {
     "data": {
      "application/vnd.jupyter.widget-view+json": {
       "model_id": "a833e319eb004c90b62e58d4c6b04443",
       "version_major": 2,
       "version_minor": 0
      },
      "text/plain": [
       "  0%|          | 0/79 [00:00<?, ?it/s]"
      ]
     },
     "metadata": {},
     "output_type": "display_data"
    },
    {
     "name": "stdout",
     "output_type": "stream",
     "text": [
      "Val Perf after 1 epochs Acc@1 0.4122\n"
     ]
    },
    {
     "data": {
      "application/vnd.jupyter.widget-view+json": {
       "model_id": "5c29e8e550264f58a14966c3db857266",
       "version_major": 2,
       "version_minor": 0
      },
      "text/plain": [
       "  0%|          | 0/469 [00:00<?, ?it/s]"
      ]
     },
     "metadata": {},
     "output_type": "display_data"
    },
    {
     "name": "stdout",
     "output_type": "stream",
     "text": [
      "Validation => Loss 1.3437, Acc@1 0.4801\n",
      "============\n"
     ]
    },
    {
     "data": {
      "application/vnd.jupyter.widget-view+json": {
       "model_id": "77ef5032bfd642b8ba3875292b7b15a5",
       "version_major": 2,
       "version_minor": 0
      },
      "text/plain": [
       "  0%|          | 0/79 [00:00<?, ?it/s]"
      ]
     },
     "metadata": {},
     "output_type": "display_data"
    },
    {
     "name": "stdout",
     "output_type": "stream",
     "text": [
      "Val Perf after 2 epochs Acc@1 0.5157\n",
      "=> Caching mask state for model.0\n",
      "=> Caching mask state for model.2\n",
      "=> Caching mask state for model.4\n",
      "\n",
      "=> Setting learned tasks of model.0 to 49\n",
      "=> Setting learned tasks of model.2 to 49\n",
      "=> Setting learned tasks of model.4 to 49\n",
      "\n",
      "Training for task 49\n",
      "=> Set task of model.0 to 49\n",
      "=> Set task of model.2 to 49\n",
      "=> Set task of model.4 to 49\n"
     ]
    },
    {
     "data": {
      "application/vnd.jupyter.widget-view+json": {
       "model_id": "15ac642df2db40fb998b28950f611158",
       "version_major": 2,
       "version_minor": 0
      },
      "text/plain": [
       "  0%|          | 0/469 [00:00<?, ?it/s]"
      ]
     },
     "metadata": {},
     "output_type": "display_data"
    },
    {
     "name": "stdout",
     "output_type": "stream",
     "text": [
      "Validation => Loss 1.4629, Acc@1 0.3324\n",
      "============\n"
     ]
    },
    {
     "data": {
      "application/vnd.jupyter.widget-view+json": {
       "model_id": "3cea4ca9deb6453bb0c179b48b287545",
       "version_major": 2,
       "version_minor": 0
      },
      "text/plain": [
       "  0%|          | 0/79 [00:00<?, ?it/s]"
      ]
     },
     "metadata": {},
     "output_type": "display_data"
    },
    {
     "name": "stdout",
     "output_type": "stream",
     "text": [
      "Val Perf after 1 epochs Acc@1 0.5028\n"
     ]
    },
    {
     "data": {
      "application/vnd.jupyter.widget-view+json": {
       "model_id": "6fceaa14863d4bee9e1cff126a7892cc",
       "version_major": 2,
       "version_minor": 0
      },
      "text/plain": [
       "  0%|          | 0/469 [00:00<?, ?it/s]"
      ]
     },
     "metadata": {},
     "output_type": "display_data"
    },
    {
     "name": "stdout",
     "output_type": "stream",
     "text": [
      "Validation => Loss 1.3120, Acc@1 0.5462\n",
      "============\n"
     ]
    },
    {
     "data": {
      "application/vnd.jupyter.widget-view+json": {
       "model_id": "e6aa17c3a5274f5d82dc5d8127e3349d",
       "version_major": 2,
       "version_minor": 0
      },
      "text/plain": [
       "  0%|          | 0/79 [00:00<?, ?it/s]"
      ]
     },
     "metadata": {},
     "output_type": "display_data"
    },
    {
     "name": "stdout",
     "output_type": "stream",
     "text": [
      "Val Perf after 2 epochs Acc@1 0.5697\n",
      "=> Caching mask state for model.0\n",
      "=> Caching mask state for model.2\n",
      "=> Caching mask state for model.4\n",
      "\n",
      "=> Setting learned tasks of model.0 to 50\n",
      "=> Setting learned tasks of model.2 to 50\n",
      "=> Setting learned tasks of model.4 to 50\n",
      "\n"
     ]
    }
   ],
   "source": [
    "for task in range(num_seed_tasks_learned, num_tasks):\n",
    "    print(f\"Training for task {task}\")\n",
    "    set_model_task(basis_model, task)\n",
    "    mnist.update_task(task)\n",
    "\n",
    "    optimizer = optim.RMSprop([p for p in basis_model.parameters() if p.requires_grad], lr=1e-3)\n",
    "    # Train for 1 epoch\n",
    "    for e in range(2):\n",
    "        train(basis_model, mnist.train_loader, optimizer, e)\n",
    "        \n",
    "        print(\"Validation\")\n",
    "        print(\"============\")\n",
    "        acc1 = evaluate(basis_model, mnist.val_loader, e)\n",
    "        \n",
    "    \n",
    "    cache_masks(basis_model)\n",
    "    print()\n",
    "    set_num_tasks_learned(basis_model, task + 1)\n",
    "    print()"
   ]
  },
  {
   "cell_type": "code",
   "execution_count": 29,
   "metadata": {
    "scrolled": false
   },
   "outputs": [
    {
     "name": "stdout",
     "output_type": "stream",
     "text": [
      "Average top 1 performance: 0.8412\n",
      "Per task performance\n",
      "Task 0: 0.9123\n",
      "Task 1: 0.9123\n",
      "Task 2: 0.9141\n",
      "Task 3: 0.9144\n",
      "Task 4: 0.9112\n",
      "Task 5: 0.9153\n",
      "Task 6: 0.9124\n",
      "Task 7: 0.9112\n",
      "Task 8: 0.9154\n",
      "Task 9: 0.9143\n",
      "Task 10: 0.9144\n",
      "Task 11: 0.9104\n",
      "Task 12: 0.9161\n",
      "Task 13: 0.9120\n",
      "Task 14: 0.9123\n",
      "Task 15: 0.9117\n",
      "Task 16: 0.9107\n",
      "Task 17: 0.9143\n",
      "Task 18: 0.9106\n",
      "Task 19: 0.9048\n",
      "Task 20: 0.9109\n",
      "Task 21: 0.9132\n",
      "Task 22: 0.9125\n",
      "Task 23: 0.9118\n",
      "Task 24: 0.9130\n",
      "Task 25: 0.9115\n",
      "Task 26: 0.9131\n",
      "Task 27: 0.9118\n",
      "Task 28: 0.9121\n",
      "Task 29: 0.9135\n",
      "Task 30: 0.9107\n",
      "Task 31: 0.9081\n",
      "Task 32: 0.9130\n",
      "Task 33: 0.9117\n",
      "Task 34: 0.9147\n",
      "Task 35: 0.9117\n",
      "Task 36: 0.9124\n",
      "Task 37: 0.9122\n",
      "Task 38: 0.9070\n",
      "Task 39: 0.9134\n",
      "Task 40: 0.5387\n",
      "Task 41: 0.5479\n",
      "Task 42: 0.5857\n",
      "Task 43: 0.5370\n",
      "Task 44: 0.5858\n",
      "Task 45: 0.5631\n",
      "Task 46: 0.5414\n",
      "Task 47: 0.5841\n",
      "Task 48: 0.5157\n",
      "Task 49: 0.5697\n"
     ]
    }
   ],
   "source": [
    "# When task ID we can simply set the mask and evaluate\n",
    "\n",
    "gg_performance = []\n",
    "for task in range(num_tasks):\n",
    "    set_model_task(basis_model, task)\n",
    "    mnist.update_task(task)\n",
    "    acc1 = evaluate(basis_model, mnist.val_loader, 0)\n",
    "    gg_performance.append(acc1.item())\n",
    "\n",
    "clear_output()\n",
    "    \n",
    "print(f\"Average top 1 performance: {(sum(gg_performance) / len(gg_performance)):.4f}\")\n",
    "\n",
    "print(\"Per task performance\")\n",
    "for t in range(num_tasks):\n",
    "    print(f\"Task {t}: {gg_performance[t]:.4f}\")"
   ]
  },
  {
   "cell_type": "code",
   "execution_count": 30,
   "metadata": {},
   "outputs": [],
   "source": [
    "performance_map['basis_mnist'] = gg_performance.copy()"
   ]
  },
  {
   "cell_type": "markdown",
   "metadata": {},
   "source": [
    "### Model Initialization (Cross task analysis) -- Using 1 mask from task 0"
   ]
  },
  {
   "cell_type": "code",
   "execution_count": 31,
   "metadata": {},
   "outputs": [],
   "source": [
    "num_tasks = 10 # For demonstration purposes, we go up to 2500 in our paper\n",
    "num_seed_tasks_learned = 1\n",
    "basis_model_f = BasisMultitaskFC(hidden_size=300,\n",
    "                            num_tasks=num_tasks, num_seed_tasks_learned=num_seed_tasks_learned, start_at_optimal=True, sparsity=0.25)"
   ]
  },
  {
   "cell_type": "code",
   "execution_count": 32,
   "metadata": {},
   "outputs": [],
   "source": [
    "custom_state_dict = basis_model_f.state_dict().copy()\n",
    "custom_state_dict.update({k:v for k,v in model.state_dict().items() if k in custom_state_dict.keys()})"
   ]
  },
  {
   "cell_type": "code",
   "execution_count": 33,
   "metadata": {},
   "outputs": [],
   "source": [
    "for k in custom_state_dict.keys():\n",
    "    if k.startswith('model.0.scores.'):\n",
    "        custom_state_dict[k] = model.state_dict()['model.0.scores.0']\n",
    "    elif k.startswith('model.2.scores.'):\n",
    "        custom_state_dict[k] = model.state_dict()['model.2.scores.0']\n",
    "    elif k.startswith('model.4.scores.'):\n",
    "        custom_state_dict[k] = model.state_dict()['model.4.scores.0']\n",
    "    elif k.startswith('model.0.basis_alphas.'):\n",
    "        custom_state_dict[k] = custom_state_dict['model.0.basis_alphas.0'] \n",
    "    elif k.startswith('model.2.basis_alphas.'):\n",
    "        custom_state_dict[k] = custom_state_dict['model.2.basis_alphas.0']\n",
    "    elif k.startswith('model.4.basis_alphas.'):\n",
    "        custom_state_dict[k] = custom_state_dict['model.4.basis_alphas.0']"
   ]
  },
  {
   "cell_type": "code",
   "execution_count": 34,
   "metadata": {},
   "outputs": [
    {
     "name": "stdout",
     "output_type": "stream",
     "text": [
      "=> Caching mask state for model.0\n",
      "=> Caching mask state for model.2\n",
      "=> Caching mask state for model.4\n"
     ]
    }
   ],
   "source": [
    "basis_model_f.load_state_dict(custom_state_dict, False)\n",
    "cache_masks(basis_model_f)"
   ]
  },
  {
   "cell_type": "code",
   "execution_count": 35,
   "metadata": {
    "scrolled": true
   },
   "outputs": [],
   "source": [
    "# for task in range(0, num_tasks):\n",
    "#     print(f\"Training for task {task}\")\n",
    "#     set_model_task(basis_model_hidf, task)\n",
    "#     mnist.update_task(task)\n",
    "\n",
    "#     optimizer = optim.RMSprop([p for p in basis_model_hidf.parameters() if p.requires_grad], lr=1e-3)\n",
    "#     # Train for 1 epoch\n",
    "#     for e in range(1):\n",
    "#         train(basis_model_hidf, mnist.train_loader, optimizer, e)\n",
    "        \n",
    "#         print(\"Validation\")\n",
    "#         print(\"============\")\n",
    "#         acc1 = evaluate(basis_model_hidf, mnist.val_loader, e)\n",
    "        \n",
    "    \n",
    "#     cache_masks(basis_model_hidf)\n",
    "#     print()\n",
    "#     set_num_tasks_learned(basis_model_hidf, task + 1)\n",
    "#     print()"
   ]
  },
  {
   "cell_type": "code",
   "execution_count": 36,
   "metadata": {
    "scrolled": true
   },
   "outputs": [
    {
     "name": "stdout",
     "output_type": "stream",
     "text": [
      "Average top 1 performance: 0.2064\n",
      "Per task performance\n",
      "Task 0: 0.9123\n",
      "Task 1: 0.1757\n",
      "Task 2: 0.1208\n",
      "Task 3: 0.0909\n",
      "Task 4: 0.1220\n",
      "Task 5: 0.1697\n",
      "Task 6: 0.0895\n",
      "Task 7: 0.1300\n",
      "Task 8: 0.1562\n",
      "Task 9: 0.0971\n"
     ]
    }
   ],
   "source": [
    "# When task ID we can simply set the mask and evaluate\n",
    "\n",
    "gg_performance = []\n",
    "for task in range(num_tasks):\n",
    "    set_model_task(basis_model_f, task)\n",
    "    mnist.update_task(task)\n",
    "    acc1 = evaluate(basis_model_f, mnist.val_loader, 0)\n",
    "    gg_performance.append(acc1.item())\n",
    "\n",
    "clear_output()\n",
    "    \n",
    "print(f\"Average top 1 performance: {(sum(gg_performance) / len(gg_performance)):.4f}\")\n",
    "\n",
    "print(\"Per task performance\")\n",
    "for t in range(num_tasks):\n",
    "    print(f\"Task {t}: {gg_performance[t]:.4f}\")"
   ]
  },
  {
   "cell_type": "code",
   "execution_count": 37,
   "metadata": {},
   "outputs": [],
   "source": [
    "performance_map['basis_mnist_frozen'] = gg_performance.copy()"
   ]
  },
  {
   "cell_type": "markdown",
   "metadata": {},
   "source": [
    "### Model Initialization (Only New Tasks) , 15 masks all from task 0"
   ]
  },
  {
   "cell_type": "code",
   "execution_count": 86,
   "metadata": {},
   "outputs": [],
   "source": [
    "num_tasks = 50 # For demonstration purposes, we go up to 2500 in our paper\n",
    "num_seed_tasks_learned = 40\n",
    "basis_model_zeros = BasisMultitaskFC(hidden_size=300, num_tasks=num_tasks, num_seed_tasks_learned=num_seed_tasks_learned, start_at_optimal=False, sparsity=0.25)"
   ]
  },
  {
   "cell_type": "code",
   "execution_count": 87,
   "metadata": {},
   "outputs": [],
   "source": [
    "seed_dict = basis_model_zeros.state_dict()"
   ]
  },
  {
   "cell_type": "code",
   "execution_count": 88,
   "metadata": {},
   "outputs": [],
   "source": [
    "update_dict = seed_dict.copy()"
   ]
  },
  {
   "cell_type": "code",
   "execution_count": 92,
   "metadata": {},
   "outputs": [],
   "source": [
    "assert all([(model_map[0].state_dict()['model.0.weight'] == model_map[i].state_dict()['model.0.weight']).all() for i in range(1,15)])\n",
    "update_dict['model.0.weight'] = model_map[0].state_dict()['model.0.weight']\n",
    "for task in range(40):\n",
    "    for layer in [0,2,4]:\n",
    "        update_dict['model.{}.scores.{}'.format(layer, task)] = model_map[task].state_dict()['model.{}.scores.0'.format(layer)]"
   ]
  },
  {
   "cell_type": "code",
   "execution_count": 93,
   "metadata": {},
   "outputs": [
    {
     "name": "stdout",
     "output_type": "stream",
     "text": [
      "=> Caching mask state for model.0\n",
      "=> Caching mask state for model.2\n",
      "=> Caching mask state for model.4\n"
     ]
    }
   ],
   "source": [
    "seed_dict.update(update_dict)\n",
    "basis_model_zeros.load_state_dict(seed_dict, False)\n",
    "cache_masks(basis_model_zeros)"
   ]
  },
  {
   "cell_type": "code",
   "execution_count": 94,
   "metadata": {},
   "outputs": [
    {
     "data": {
      "text/plain": [
       "(40, 50)"
      ]
     },
     "execution_count": 94,
     "metadata": {},
     "output_type": "execute_result"
    }
   ],
   "source": [
    "num_seed_tasks_learned, num_tasks"
   ]
  },
  {
   "cell_type": "code",
   "execution_count": 95,
   "metadata": {
    "scrolled": true
   },
   "outputs": [
    {
     "name": "stdout",
     "output_type": "stream",
     "text": [
      "Training for task 0\n",
      "=> Set task of model.0 to 0\n",
      "=> Set task of model.2 to 0\n",
      "=> Set task of model.4 to 0\n"
     ]
    },
    {
     "data": {
      "application/vnd.jupyter.widget-view+json": {
       "model_id": "fcf2bb60026a4df285217b3c6708e6c0",
       "version_major": 2,
       "version_minor": 0
      },
      "text/plain": [
       "  0%|          | 0/469 [00:00<?, ?it/s]"
      ]
     },
     "metadata": {},
     "output_type": "display_data"
    },
    {
     "name": "stdout",
     "output_type": "stream",
     "text": [
      "Validation => Loss 1.2727, Acc@1 0.4873\n",
      "============\n"
     ]
    },
    {
     "data": {
      "application/vnd.jupyter.widget-view+json": {
       "model_id": "dd34e80abaf74eae9a5592ee45332056",
       "version_major": 2,
       "version_minor": 0
      },
      "text/plain": [
       "  0%|          | 0/79 [00:00<?, ?it/s]"
      ]
     },
     "metadata": {},
     "output_type": "display_data"
    },
    {
     "name": "stdout",
     "output_type": "stream",
     "text": [
      "Val Perf after 1 epochs Acc@1 0.6603\n"
     ]
    },
    {
     "data": {
      "application/vnd.jupyter.widget-view+json": {
       "model_id": "787b8aa2f7554694ab8f543e6fc40450",
       "version_major": 2,
       "version_minor": 0
      },
      "text/plain": [
       "  0%|          | 0/469 [00:00<?, ?it/s]"
      ]
     },
     "metadata": {},
     "output_type": "display_data"
    },
    {
     "name": "stdout",
     "output_type": "stream",
     "text": [
      "Validation => Loss 0.7342, Acc@1 0.6813\n",
      "============\n"
     ]
    },
    {
     "data": {
      "application/vnd.jupyter.widget-view+json": {
       "model_id": "02ca270c8b494640bfcafcaa7101caf5",
       "version_major": 2,
       "version_minor": 0
      },
      "text/plain": [
       "  0%|          | 0/79 [00:00<?, ?it/s]"
      ]
     },
     "metadata": {},
     "output_type": "display_data"
    },
    {
     "name": "stdout",
     "output_type": "stream",
     "text": [
      "Val Perf after 2 epochs Acc@1 0.7368\n",
      "=> Caching mask state for model.0\n",
      "=> Caching mask state for model.2\n",
      "=> Caching mask state for model.4\n",
      "\n",
      "=> Setting learned tasks of model.0 to 1\n",
      "=> Setting learned tasks of model.2 to 1\n",
      "=> Setting learned tasks of model.4 to 1\n",
      "\n",
      "Training for task 1\n",
      "=> Set task of model.0 to 1\n",
      "=> Set task of model.2 to 1\n",
      "=> Set task of model.4 to 1\n"
     ]
    },
    {
     "data": {
      "application/vnd.jupyter.widget-view+json": {
       "model_id": "15dbacb01bbc48efb798cd5585c339f5",
       "version_major": 2,
       "version_minor": 0
      },
      "text/plain": [
       "  0%|          | 0/469 [00:00<?, ?it/s]"
      ]
     },
     "metadata": {},
     "output_type": "display_data"
    },
    {
     "name": "stdout",
     "output_type": "stream",
     "text": [
      "Validation => Loss 2.3861, Acc@1 0.2601\n",
      "============\n"
     ]
    },
    {
     "data": {
      "application/vnd.jupyter.widget-view+json": {
       "model_id": "d4b951dd837c4b46af64937728b9d0f1",
       "version_major": 2,
       "version_minor": 0
      },
      "text/plain": [
       "  0%|          | 0/79 [00:00<?, ?it/s]"
      ]
     },
     "metadata": {},
     "output_type": "display_data"
    },
    {
     "name": "stdout",
     "output_type": "stream",
     "text": [
      "Val Perf after 1 epochs Acc@1 0.3328\n"
     ]
    },
    {
     "data": {
      "application/vnd.jupyter.widget-view+json": {
       "model_id": "0cd53cdf67e14b88aa7b7fe8914ba0f0",
       "version_major": 2,
       "version_minor": 0
      },
      "text/plain": [
       "  0%|          | 0/469 [00:00<?, ?it/s]"
      ]
     },
     "metadata": {},
     "output_type": "display_data"
    },
    {
     "name": "stdout",
     "output_type": "stream",
     "text": [
      "Validation => Loss 1.9235, Acc@1 0.3633\n",
      "============\n"
     ]
    },
    {
     "data": {
      "application/vnd.jupyter.widget-view+json": {
       "model_id": "12380c195a5c44c796146fa502177a6d",
       "version_major": 2,
       "version_minor": 0
      },
      "text/plain": [
       "  0%|          | 0/79 [00:00<?, ?it/s]"
      ]
     },
     "metadata": {},
     "output_type": "display_data"
    },
    {
     "name": "stdout",
     "output_type": "stream",
     "text": [
      "Val Perf after 2 epochs Acc@1 0.4151\n",
      "=> Caching mask state for model.0\n",
      "=> Caching mask state for model.2\n",
      "=> Caching mask state for model.4\n",
      "\n",
      "=> Setting learned tasks of model.0 to 2\n",
      "=> Setting learned tasks of model.2 to 2\n",
      "=> Setting learned tasks of model.4 to 2\n",
      "\n",
      "Training for task 2\n",
      "=> Set task of model.0 to 2\n",
      "=> Set task of model.2 to 2\n",
      "=> Set task of model.4 to 2\n"
     ]
    },
    {
     "data": {
      "application/vnd.jupyter.widget-view+json": {
       "model_id": "4b85fb8786984b4386ae3204a7e6d6d5",
       "version_major": 2,
       "version_minor": 0
      },
      "text/plain": [
       "  0%|          | 0/469 [00:00<?, ?it/s]"
      ]
     },
     "metadata": {},
     "output_type": "display_data"
    },
    {
     "name": "stdout",
     "output_type": "stream",
     "text": [
      "Validation => Loss 2.4043, Acc@1 0.1973\n",
      "============\n"
     ]
    },
    {
     "data": {
      "application/vnd.jupyter.widget-view+json": {
       "model_id": "bb98ff36049c49f58f2013bd87488589",
       "version_major": 2,
       "version_minor": 0
      },
      "text/plain": [
       "  0%|          | 0/79 [00:00<?, ?it/s]"
      ]
     },
     "metadata": {},
     "output_type": "display_data"
    },
    {
     "name": "stdout",
     "output_type": "stream",
     "text": [
      "Val Perf after 1 epochs Acc@1 0.3644\n"
     ]
    },
    {
     "data": {
      "application/vnd.jupyter.widget-view+json": {
       "model_id": "da6b1adf62f9402fac7a30976539f43a",
       "version_major": 2,
       "version_minor": 0
      },
      "text/plain": [
       "  0%|          | 0/469 [00:00<?, ?it/s]"
      ]
     },
     "metadata": {},
     "output_type": "display_data"
    },
    {
     "name": "stdout",
     "output_type": "stream",
     "text": [
      "Validation => Loss 1.8489, Acc@1 0.4277\n",
      "============\n"
     ]
    },
    {
     "data": {
      "application/vnd.jupyter.widget-view+json": {
       "model_id": "1f5bd6c5e56c4905b6fc213395230ff9",
       "version_major": 2,
       "version_minor": 0
      },
      "text/plain": [
       "  0%|          | 0/79 [00:00<?, ?it/s]"
      ]
     },
     "metadata": {},
     "output_type": "display_data"
    },
    {
     "name": "stdout",
     "output_type": "stream",
     "text": [
      "Val Perf after 2 epochs Acc@1 0.4784\n",
      "=> Caching mask state for model.0\n",
      "=> Caching mask state for model.2\n",
      "=> Caching mask state for model.4\n",
      "\n",
      "=> Setting learned tasks of model.0 to 3\n",
      "=> Setting learned tasks of model.2 to 3\n",
      "=> Setting learned tasks of model.4 to 3\n",
      "\n",
      "Training for task 3\n",
      "=> Set task of model.0 to 3\n",
      "=> Set task of model.2 to 3\n",
      "=> Set task of model.4 to 3\n"
     ]
    },
    {
     "data": {
      "application/vnd.jupyter.widget-view+json": {
       "model_id": "885b3baf10c542c1a69c431ec14af66e",
       "version_major": 2,
       "version_minor": 0
      },
      "text/plain": [
       "  0%|          | 0/469 [00:00<?, ?it/s]"
      ]
     },
     "metadata": {},
     "output_type": "display_data"
    },
    {
     "name": "stdout",
     "output_type": "stream",
     "text": [
      "Validation => Loss 2.4157, Acc@1 0.2337\n",
      "============\n"
     ]
    },
    {
     "data": {
      "application/vnd.jupyter.widget-view+json": {
       "model_id": "4f9da5af4eed4745bb1e40e8e0dc0e67",
       "version_major": 2,
       "version_minor": 0
      },
      "text/plain": [
       "  0%|          | 0/79 [00:00<?, ?it/s]"
      ]
     },
     "metadata": {},
     "output_type": "display_data"
    },
    {
     "name": "stdout",
     "output_type": "stream",
     "text": [
      "Val Perf after 1 epochs Acc@1 0.3305\n"
     ]
    },
    {
     "data": {
      "application/vnd.jupyter.widget-view+json": {
       "model_id": "7f87541b91404d9ba80d7d6b47fd49ca",
       "version_major": 2,
       "version_minor": 0
      },
      "text/plain": [
       "  0%|          | 0/469 [00:00<?, ?it/s]"
      ]
     },
     "metadata": {},
     "output_type": "display_data"
    },
    {
     "name": "stdout",
     "output_type": "stream",
     "text": [
      "Validation => Loss 2.1181, Acc@1 0.3717\n",
      "============\n"
     ]
    },
    {
     "data": {
      "application/vnd.jupyter.widget-view+json": {
       "model_id": "6593cccb7077434d87d57eb9f78063c9",
       "version_major": 2,
       "version_minor": 0
      },
      "text/plain": [
       "  0%|          | 0/79 [00:00<?, ?it/s]"
      ]
     },
     "metadata": {},
     "output_type": "display_data"
    },
    {
     "name": "stdout",
     "output_type": "stream",
     "text": [
      "Val Perf after 2 epochs Acc@1 0.4355\n",
      "=> Caching mask state for model.0\n",
      "=> Caching mask state for model.2\n",
      "=> Caching mask state for model.4\n",
      "\n",
      "=> Setting learned tasks of model.0 to 4\n",
      "=> Setting learned tasks of model.2 to 4\n",
      "=> Setting learned tasks of model.4 to 4\n",
      "\n",
      "Training for task 4\n",
      "=> Set task of model.0 to 4\n",
      "=> Set task of model.2 to 4\n",
      "=> Set task of model.4 to 4\n"
     ]
    },
    {
     "data": {
      "application/vnd.jupyter.widget-view+json": {
       "model_id": "a0a08b3cd7ad42df9e488b4bd3834bf6",
       "version_major": 2,
       "version_minor": 0
      },
      "text/plain": [
       "  0%|          | 0/469 [00:00<?, ?it/s]"
      ]
     },
     "metadata": {},
     "output_type": "display_data"
    },
    {
     "name": "stdout",
     "output_type": "stream",
     "text": [
      "Validation => Loss 2.6504, Acc@1 0.2673\n",
      "============\n"
     ]
    },
    {
     "data": {
      "application/vnd.jupyter.widget-view+json": {
       "model_id": "74eb80f0bd3248fab803f0733053e059",
       "version_major": 2,
       "version_minor": 0
      },
      "text/plain": [
       "  0%|          | 0/79 [00:00<?, ?it/s]"
      ]
     },
     "metadata": {},
     "output_type": "display_data"
    },
    {
     "name": "stdout",
     "output_type": "stream",
     "text": [
      "Val Perf after 1 epochs Acc@1 0.3558\n"
     ]
    },
    {
     "data": {
      "application/vnd.jupyter.widget-view+json": {
       "model_id": "33d8616aa3d0463d9138ec548fe08c8d",
       "version_major": 2,
       "version_minor": 0
      },
      "text/plain": [
       "  0%|          | 0/469 [00:00<?, ?it/s]"
      ]
     },
     "metadata": {},
     "output_type": "display_data"
    },
    {
     "name": "stdout",
     "output_type": "stream",
     "text": [
      "Validation => Loss 2.0980, Acc@1 0.3786\n",
      "============\n"
     ]
    },
    {
     "data": {
      "application/vnd.jupyter.widget-view+json": {
       "model_id": "b0dcc1aefe6a4280b2c90def728dd4a2",
       "version_major": 2,
       "version_minor": 0
      },
      "text/plain": [
       "  0%|          | 0/79 [00:00<?, ?it/s]"
      ]
     },
     "metadata": {},
     "output_type": "display_data"
    },
    {
     "name": "stdout",
     "output_type": "stream",
     "text": [
      "Val Perf after 2 epochs Acc@1 0.4009\n",
      "=> Caching mask state for model.0\n",
      "=> Caching mask state for model.2\n",
      "=> Caching mask state for model.4\n",
      "\n",
      "=> Setting learned tasks of model.0 to 5\n",
      "=> Setting learned tasks of model.2 to 5\n",
      "=> Setting learned tasks of model.4 to 5\n",
      "\n",
      "Training for task 5\n",
      "=> Set task of model.0 to 5\n",
      "=> Set task of model.2 to 5\n",
      "=> Set task of model.4 to 5\n"
     ]
    },
    {
     "data": {
      "application/vnd.jupyter.widget-view+json": {
       "model_id": "435da82f5f934c14a07ebda8424f7e5e",
       "version_major": 2,
       "version_minor": 0
      },
      "text/plain": [
       "  0%|          | 0/469 [00:00<?, ?it/s]"
      ]
     },
     "metadata": {},
     "output_type": "display_data"
    },
    {
     "name": "stdout",
     "output_type": "stream",
     "text": [
      "Validation => Loss 2.1977, Acc@1 0.2497\n",
      "============\n"
     ]
    },
    {
     "data": {
      "application/vnd.jupyter.widget-view+json": {
       "model_id": "5cc08b67ad1e4fc8b7f9cbb465875d24",
       "version_major": 2,
       "version_minor": 0
      },
      "text/plain": [
       "  0%|          | 0/79 [00:00<?, ?it/s]"
      ]
     },
     "metadata": {},
     "output_type": "display_data"
    },
    {
     "name": "stdout",
     "output_type": "stream",
     "text": [
      "Val Perf after 1 epochs Acc@1 0.3817\n"
     ]
    },
    {
     "data": {
      "application/vnd.jupyter.widget-view+json": {
       "model_id": "f294a1ddc40c402b8d8867b240646963",
       "version_major": 2,
       "version_minor": 0
      },
      "text/plain": [
       "  0%|          | 0/469 [00:00<?, ?it/s]"
      ]
     },
     "metadata": {},
     "output_type": "display_data"
    },
    {
     "name": "stdout",
     "output_type": "stream",
     "text": [
      "Validation => Loss 2.0180, Acc@1 0.4193\n",
      "============\n"
     ]
    },
    {
     "data": {
      "application/vnd.jupyter.widget-view+json": {
       "model_id": "138a805b1150494e929966d57ce8db95",
       "version_major": 2,
       "version_minor": 0
      },
      "text/plain": [
       "  0%|          | 0/79 [00:00<?, ?it/s]"
      ]
     },
     "metadata": {},
     "output_type": "display_data"
    },
    {
     "name": "stdout",
     "output_type": "stream",
     "text": [
      "Val Perf after 2 epochs Acc@1 0.4539\n",
      "=> Caching mask state for model.0\n",
      "=> Caching mask state for model.2\n",
      "=> Caching mask state for model.4\n",
      "\n",
      "=> Setting learned tasks of model.0 to 6\n",
      "=> Setting learned tasks of model.2 to 6\n",
      "=> Setting learned tasks of model.4 to 6\n",
      "\n",
      "Training for task 6\n",
      "=> Set task of model.0 to 6\n",
      "=> Set task of model.2 to 6\n",
      "=> Set task of model.4 to 6\n"
     ]
    },
    {
     "data": {
      "application/vnd.jupyter.widget-view+json": {
       "model_id": "1a230bf4aa5c46e3b9a10be0d81eeb99",
       "version_major": 2,
       "version_minor": 0
      },
      "text/plain": [
       "  0%|          | 0/469 [00:00<?, ?it/s]"
      ]
     },
     "metadata": {},
     "output_type": "display_data"
    },
    {
     "name": "stdout",
     "output_type": "stream",
     "text": [
      "Validation => Loss 2.1989, Acc@1 0.2542\n",
      "============\n"
     ]
    },
    {
     "data": {
      "application/vnd.jupyter.widget-view+json": {
       "model_id": "faf6ed9fda884c9fbde9ebb3acd5f8cd",
       "version_major": 2,
       "version_minor": 0
      },
      "text/plain": [
       "  0%|          | 0/79 [00:00<?, ?it/s]"
      ]
     },
     "metadata": {},
     "output_type": "display_data"
    },
    {
     "name": "stdout",
     "output_type": "stream",
     "text": [
      "Val Perf after 1 epochs Acc@1 0.3667\n"
     ]
    },
    {
     "data": {
      "application/vnd.jupyter.widget-view+json": {
       "model_id": "41fa3b9a9d5c422992af79de8ef4de9f",
       "version_major": 2,
       "version_minor": 0
      },
      "text/plain": [
       "  0%|          | 0/469 [00:00<?, ?it/s]"
      ]
     },
     "metadata": {},
     "output_type": "display_data"
    },
    {
     "name": "stdout",
     "output_type": "stream",
     "text": [
      "Validation => Loss 1.8722, Acc@1 0.4255\n",
      "============\n"
     ]
    },
    {
     "data": {
      "application/vnd.jupyter.widget-view+json": {
       "model_id": "2022ad896b2549a2a06ee8c1d08a2c6f",
       "version_major": 2,
       "version_minor": 0
      },
      "text/plain": [
       "  0%|          | 0/79 [00:00<?, ?it/s]"
      ]
     },
     "metadata": {},
     "output_type": "display_data"
    },
    {
     "name": "stdout",
     "output_type": "stream",
     "text": [
      "Val Perf after 2 epochs Acc@1 0.4617\n",
      "=> Caching mask state for model.0\n",
      "=> Caching mask state for model.2\n",
      "=> Caching mask state for model.4\n",
      "\n",
      "=> Setting learned tasks of model.0 to 7\n",
      "=> Setting learned tasks of model.2 to 7\n",
      "=> Setting learned tasks of model.4 to 7\n",
      "\n",
      "Training for task 7\n",
      "=> Set task of model.0 to 7\n",
      "=> Set task of model.2 to 7\n",
      "=> Set task of model.4 to 7\n"
     ]
    },
    {
     "data": {
      "application/vnd.jupyter.widget-view+json": {
       "model_id": "0e5c302c1cc047e58aeb014dd2a02d84",
       "version_major": 2,
       "version_minor": 0
      },
      "text/plain": [
       "  0%|          | 0/469 [00:00<?, ?it/s]"
      ]
     },
     "metadata": {},
     "output_type": "display_data"
    },
    {
     "name": "stdout",
     "output_type": "stream",
     "text": [
      "Validation => Loss 2.2299, Acc@1 0.2747\n",
      "============\n"
     ]
    },
    {
     "data": {
      "application/vnd.jupyter.widget-view+json": {
       "model_id": "6edcbcd220fc40a78a274bd46f8fcb3a",
       "version_major": 2,
       "version_minor": 0
      },
      "text/plain": [
       "  0%|          | 0/79 [00:00<?, ?it/s]"
      ]
     },
     "metadata": {},
     "output_type": "display_data"
    },
    {
     "name": "stdout",
     "output_type": "stream",
     "text": [
      "Val Perf after 1 epochs Acc@1 0.4151\n"
     ]
    },
    {
     "data": {
      "application/vnd.jupyter.widget-view+json": {
       "model_id": "a46a7fb3040c4613863e141f2d3d1a83",
       "version_major": 2,
       "version_minor": 0
      },
      "text/plain": [
       "  0%|          | 0/469 [00:00<?, ?it/s]"
      ]
     },
     "metadata": {},
     "output_type": "display_data"
    },
    {
     "name": "stdout",
     "output_type": "stream",
     "text": [
      "Validation => Loss 1.6078, Acc@1 0.4486\n",
      "============\n"
     ]
    },
    {
     "data": {
      "application/vnd.jupyter.widget-view+json": {
       "model_id": "6b0360f4adff4a23b38080995f583779",
       "version_major": 2,
       "version_minor": 0
      },
      "text/plain": [
       "  0%|          | 0/79 [00:00<?, ?it/s]"
      ]
     },
     "metadata": {},
     "output_type": "display_data"
    },
    {
     "name": "stdout",
     "output_type": "stream",
     "text": [
      "Val Perf after 2 epochs Acc@1 0.4837\n",
      "=> Caching mask state for model.0\n",
      "=> Caching mask state for model.2\n",
      "=> Caching mask state for model.4\n",
      "\n",
      "=> Setting learned tasks of model.0 to 8\n",
      "=> Setting learned tasks of model.2 to 8\n",
      "=> Setting learned tasks of model.4 to 8\n",
      "\n",
      "Training for task 8\n",
      "=> Set task of model.0 to 8\n",
      "=> Set task of model.2 to 8\n",
      "=> Set task of model.4 to 8\n"
     ]
    },
    {
     "data": {
      "application/vnd.jupyter.widget-view+json": {
       "model_id": "7db22a6ca6a347d7beec0bd9d324f3f4",
       "version_major": 2,
       "version_minor": 0
      },
      "text/plain": [
       "  0%|          | 0/469 [00:00<?, ?it/s]"
      ]
     },
     "metadata": {},
     "output_type": "display_data"
    },
    {
     "name": "stdout",
     "output_type": "stream",
     "text": [
      "Validation => Loss 2.3511, Acc@1 0.2497\n",
      "============\n"
     ]
    },
    {
     "data": {
      "application/vnd.jupyter.widget-view+json": {
       "model_id": "f00ffa8a94a24c7aba903a1cecb92255",
       "version_major": 2,
       "version_minor": 0
      },
      "text/plain": [
       "  0%|          | 0/79 [00:00<?, ?it/s]"
      ]
     },
     "metadata": {},
     "output_type": "display_data"
    },
    {
     "name": "stdout",
     "output_type": "stream",
     "text": [
      "Val Perf after 1 epochs Acc@1 0.3436\n"
     ]
    },
    {
     "data": {
      "application/vnd.jupyter.widget-view+json": {
       "model_id": "9a171b893792444c8322d2fa1c771893",
       "version_major": 2,
       "version_minor": 0
      },
      "text/plain": [
       "  0%|          | 0/469 [00:00<?, ?it/s]"
      ]
     },
     "metadata": {},
     "output_type": "display_data"
    },
    {
     "name": "stdout",
     "output_type": "stream",
     "text": [
      "Validation => Loss 2.1813, Acc@1 0.3786\n",
      "============\n"
     ]
    },
    {
     "data": {
      "application/vnd.jupyter.widget-view+json": {
       "model_id": "efc844d350d9404b8c7c3a05068bf980",
       "version_major": 2,
       "version_minor": 0
      },
      "text/plain": [
       "  0%|          | 0/79 [00:00<?, ?it/s]"
      ]
     },
     "metadata": {},
     "output_type": "display_data"
    },
    {
     "name": "stdout",
     "output_type": "stream",
     "text": [
      "Val Perf after 2 epochs Acc@1 0.4303\n",
      "=> Caching mask state for model.0\n",
      "=> Caching mask state for model.2\n",
      "=> Caching mask state for model.4\n",
      "\n",
      "=> Setting learned tasks of model.0 to 9\n",
      "=> Setting learned tasks of model.2 to 9\n",
      "=> Setting learned tasks of model.4 to 9\n",
      "\n",
      "Training for task 9\n",
      "=> Set task of model.0 to 9\n",
      "=> Set task of model.2 to 9\n",
      "=> Set task of model.4 to 9\n"
     ]
    },
    {
     "data": {
      "application/vnd.jupyter.widget-view+json": {
       "model_id": "0dda3d86fa2d4e619ec519cd9814e6d7",
       "version_major": 2,
       "version_minor": 0
      },
      "text/plain": [
       "  0%|          | 0/469 [00:00<?, ?it/s]"
      ]
     },
     "metadata": {},
     "output_type": "display_data"
    },
    {
     "name": "stdout",
     "output_type": "stream",
     "text": [
      "Validation => Loss 2.4587, Acc@1 0.2197\n",
      "============\n"
     ]
    },
    {
     "data": {
      "application/vnd.jupyter.widget-view+json": {
       "model_id": "f183d8b66b0c44d09ea133da43c4809f",
       "version_major": 2,
       "version_minor": 0
      },
      "text/plain": [
       "  0%|          | 0/79 [00:00<?, ?it/s]"
      ]
     },
     "metadata": {},
     "output_type": "display_data"
    },
    {
     "name": "stdout",
     "output_type": "stream",
     "text": [
      "Val Perf after 1 epochs Acc@1 0.3464\n"
     ]
    },
    {
     "data": {
      "application/vnd.jupyter.widget-view+json": {
       "model_id": "edb92b3fe5de491c86560989964e8f98",
       "version_major": 2,
       "version_minor": 0
      },
      "text/plain": [
       "  0%|          | 0/469 [00:00<?, ?it/s]"
      ]
     },
     "metadata": {},
     "output_type": "display_data"
    },
    {
     "name": "stdout",
     "output_type": "stream",
     "text": [
      "Validation => Loss 1.9897, Acc@1 0.3857\n",
      "============\n"
     ]
    },
    {
     "data": {
      "application/vnd.jupyter.widget-view+json": {
       "model_id": "0b91ead281494a6d9b6899268611b44f",
       "version_major": 2,
       "version_minor": 0
      },
      "text/plain": [
       "  0%|          | 0/79 [00:00<?, ?it/s]"
      ]
     },
     "metadata": {},
     "output_type": "display_data"
    },
    {
     "name": "stdout",
     "output_type": "stream",
     "text": [
      "Val Perf after 2 epochs Acc@1 0.4440\n",
      "=> Caching mask state for model.0\n",
      "=> Caching mask state for model.2\n",
      "=> Caching mask state for model.4\n",
      "\n",
      "=> Setting learned tasks of model.0 to 10\n",
      "=> Setting learned tasks of model.2 to 10\n",
      "=> Setting learned tasks of model.4 to 10\n",
      "\n",
      "Training for task 10\n",
      "=> Set task of model.0 to 10\n",
      "=> Set task of model.2 to 10\n",
      "=> Set task of model.4 to 10\n"
     ]
    },
    {
     "data": {
      "application/vnd.jupyter.widget-view+json": {
       "model_id": "c9b07c80c55c48cdaffe5a29841eed47",
       "version_major": 2,
       "version_minor": 0
      },
      "text/plain": [
       "  0%|          | 0/469 [00:00<?, ?it/s]"
      ]
     },
     "metadata": {},
     "output_type": "display_data"
    },
    {
     "name": "stdout",
     "output_type": "stream",
     "text": [
      "Validation => Loss 2.3140, Acc@1 0.2464\n",
      "============\n"
     ]
    },
    {
     "data": {
      "application/vnd.jupyter.widget-view+json": {
       "model_id": "d44e734f980a4aaea10b7db4975b199b",
       "version_major": 2,
       "version_minor": 0
      },
      "text/plain": [
       "  0%|          | 0/79 [00:00<?, ?it/s]"
      ]
     },
     "metadata": {},
     "output_type": "display_data"
    },
    {
     "name": "stdout",
     "output_type": "stream",
     "text": [
      "Val Perf after 1 epochs Acc@1 0.3392\n"
     ]
    },
    {
     "data": {
      "application/vnd.jupyter.widget-view+json": {
       "model_id": "a611054fa76246e18f20a393f8672ce1",
       "version_major": 2,
       "version_minor": 0
      },
      "text/plain": [
       "  0%|          | 0/469 [00:00<?, ?it/s]"
      ]
     },
     "metadata": {},
     "output_type": "display_data"
    },
    {
     "name": "stdout",
     "output_type": "stream",
     "text": [
      "Validation => Loss 1.6871, Acc@1 0.4225\n",
      "============\n"
     ]
    },
    {
     "data": {
      "application/vnd.jupyter.widget-view+json": {
       "model_id": "dcfa92b2ea3e4f0da58425c5af9d5f90",
       "version_major": 2,
       "version_minor": 0
      },
      "text/plain": [
       "  0%|          | 0/79 [00:00<?, ?it/s]"
      ]
     },
     "metadata": {},
     "output_type": "display_data"
    },
    {
     "name": "stdout",
     "output_type": "stream",
     "text": [
      "Val Perf after 2 epochs Acc@1 0.4875\n",
      "=> Caching mask state for model.0\n",
      "=> Caching mask state for model.2\n",
      "=> Caching mask state for model.4\n",
      "\n",
      "=> Setting learned tasks of model.0 to 11\n",
      "=> Setting learned tasks of model.2 to 11\n",
      "=> Setting learned tasks of model.4 to 11\n",
      "\n",
      "Training for task 11\n",
      "=> Set task of model.0 to 11\n",
      "=> Set task of model.2 to 11\n",
      "=> Set task of model.4 to 11\n"
     ]
    },
    {
     "data": {
      "application/vnd.jupyter.widget-view+json": {
       "model_id": "34b71d37030f48779cb197c915bb14d5",
       "version_major": 2,
       "version_minor": 0
      },
      "text/plain": [
       "  0%|          | 0/469 [00:00<?, ?it/s]"
      ]
     },
     "metadata": {},
     "output_type": "display_data"
    },
    {
     "name": "stdout",
     "output_type": "stream",
     "text": [
      "Validation => Loss 2.1211, Acc@1 0.2510\n",
      "============\n"
     ]
    },
    {
     "data": {
      "application/vnd.jupyter.widget-view+json": {
       "model_id": "41bdc245611643d5a9efc806e2d16c5d",
       "version_major": 2,
       "version_minor": 0
      },
      "text/plain": [
       "  0%|          | 0/79 [00:00<?, ?it/s]"
      ]
     },
     "metadata": {},
     "output_type": "display_data"
    },
    {
     "name": "stdout",
     "output_type": "stream",
     "text": [
      "Val Perf after 1 epochs Acc@1 0.3768\n"
     ]
    },
    {
     "data": {
      "application/vnd.jupyter.widget-view+json": {
       "model_id": "6a8cba96373d41d486d7da3683f097ae",
       "version_major": 2,
       "version_minor": 0
      },
      "text/plain": [
       "  0%|          | 0/469 [00:00<?, ?it/s]"
      ]
     },
     "metadata": {},
     "output_type": "display_data"
    },
    {
     "name": "stdout",
     "output_type": "stream",
     "text": [
      "Validation => Loss 1.9153, Acc@1 0.4277\n",
      "============\n"
     ]
    },
    {
     "data": {
      "application/vnd.jupyter.widget-view+json": {
       "model_id": "62d2aa4d92fe493eb189f5535dc854f1",
       "version_major": 2,
       "version_minor": 0
      },
      "text/plain": [
       "  0%|          | 0/79 [00:00<?, ?it/s]"
      ]
     },
     "metadata": {},
     "output_type": "display_data"
    },
    {
     "name": "stdout",
     "output_type": "stream",
     "text": [
      "Val Perf after 2 epochs Acc@1 0.4595\n",
      "=> Caching mask state for model.0\n",
      "=> Caching mask state for model.2\n",
      "=> Caching mask state for model.4\n",
      "\n",
      "=> Setting learned tasks of model.0 to 12\n",
      "=> Setting learned tasks of model.2 to 12\n",
      "=> Setting learned tasks of model.4 to 12\n",
      "\n",
      "Training for task 12\n",
      "=> Set task of model.0 to 12\n",
      "=> Set task of model.2 to 12\n",
      "=> Set task of model.4 to 12\n"
     ]
    },
    {
     "data": {
      "application/vnd.jupyter.widget-view+json": {
       "model_id": "99c3a36ba08047a890bbc28118242073",
       "version_major": 2,
       "version_minor": 0
      },
      "text/plain": [
       "  0%|          | 0/469 [00:00<?, ?it/s]"
      ]
     },
     "metadata": {},
     "output_type": "display_data"
    },
    {
     "name": "stdout",
     "output_type": "stream",
     "text": [
      "Validation => Loss 2.5549, Acc@1 0.2487\n",
      "============\n"
     ]
    },
    {
     "data": {
      "application/vnd.jupyter.widget-view+json": {
       "model_id": "37ce2068db8846869315961a6f8a288f",
       "version_major": 2,
       "version_minor": 0
      },
      "text/plain": [
       "  0%|          | 0/79 [00:00<?, ?it/s]"
      ]
     },
     "metadata": {},
     "output_type": "display_data"
    },
    {
     "name": "stdout",
     "output_type": "stream",
     "text": [
      "Val Perf after 1 epochs Acc@1 0.3574\n"
     ]
    },
    {
     "data": {
      "application/vnd.jupyter.widget-view+json": {
       "model_id": "8d70af1c5de64f7d8982080981cf0775",
       "version_major": 2,
       "version_minor": 0
      },
      "text/plain": [
       "  0%|          | 0/469 [00:00<?, ?it/s]"
      ]
     },
     "metadata": {},
     "output_type": "display_data"
    },
    {
     "name": "stdout",
     "output_type": "stream",
     "text": [
      "Validation => Loss 2.2367, Acc@1 0.4134\n",
      "============\n"
     ]
    },
    {
     "data": {
      "application/vnd.jupyter.widget-view+json": {
       "model_id": "25eb4e2747d14cf7bba5622276744179",
       "version_major": 2,
       "version_minor": 0
      },
      "text/plain": [
       "  0%|          | 0/79 [00:00<?, ?it/s]"
      ]
     },
     "metadata": {},
     "output_type": "display_data"
    },
    {
     "name": "stdout",
     "output_type": "stream",
     "text": [
      "Val Perf after 2 epochs Acc@1 0.4698\n",
      "=> Caching mask state for model.0\n",
      "=> Caching mask state for model.2\n",
      "=> Caching mask state for model.4\n",
      "\n",
      "=> Setting learned tasks of model.0 to 13\n",
      "=> Setting learned tasks of model.2 to 13\n",
      "=> Setting learned tasks of model.4 to 13\n",
      "\n",
      "Training for task 13\n",
      "=> Set task of model.0 to 13\n",
      "=> Set task of model.2 to 13\n",
      "=> Set task of model.4 to 13\n"
     ]
    },
    {
     "data": {
      "application/vnd.jupyter.widget-view+json": {
       "model_id": "905c9f7c3870431b96d7a5c3e78b7eb6",
       "version_major": 2,
       "version_minor": 0
      },
      "text/plain": [
       "  0%|          | 0/469 [00:00<?, ?it/s]"
      ]
     },
     "metadata": {},
     "output_type": "display_data"
    },
    {
     "name": "stdout",
     "output_type": "stream",
     "text": [
      "Validation => Loss 2.6820, Acc@1 0.2171\n",
      "============\n"
     ]
    },
    {
     "data": {
      "application/vnd.jupyter.widget-view+json": {
       "model_id": "4064115921a84ad1bfc87ade195def8c",
       "version_major": 2,
       "version_minor": 0
      },
      "text/plain": [
       "  0%|          | 0/79 [00:00<?, ?it/s]"
      ]
     },
     "metadata": {},
     "output_type": "display_data"
    },
    {
     "name": "stdout",
     "output_type": "stream",
     "text": [
      "Val Perf after 1 epochs Acc@1 0.2928\n"
     ]
    },
    {
     "data": {
      "application/vnd.jupyter.widget-view+json": {
       "model_id": "0a5d9fed87c8404f80e5d363dde29874",
       "version_major": 2,
       "version_minor": 0
      },
      "text/plain": [
       "  0%|          | 0/469 [00:00<?, ?it/s]"
      ]
     },
     "metadata": {},
     "output_type": "display_data"
    },
    {
     "name": "stdout",
     "output_type": "stream",
     "text": [
      "Validation => Loss 2.4180, Acc@1 0.3291\n",
      "============\n"
     ]
    },
    {
     "data": {
      "application/vnd.jupyter.widget-view+json": {
       "model_id": "608639e20a914c87bdb21c5c72034239",
       "version_major": 2,
       "version_minor": 0
      },
      "text/plain": [
       "  0%|          | 0/79 [00:00<?, ?it/s]"
      ]
     },
     "metadata": {},
     "output_type": "display_data"
    },
    {
     "name": "stdout",
     "output_type": "stream",
     "text": [
      "Val Perf after 2 epochs Acc@1 0.3818\n",
      "=> Caching mask state for model.0\n",
      "=> Caching mask state for model.2\n",
      "=> Caching mask state for model.4\n",
      "\n",
      "=> Setting learned tasks of model.0 to 14\n",
      "=> Setting learned tasks of model.2 to 14\n",
      "=> Setting learned tasks of model.4 to 14\n",
      "\n",
      "Training for task 14\n",
      "=> Set task of model.0 to 14\n",
      "=> Set task of model.2 to 14\n",
      "=> Set task of model.4 to 14\n"
     ]
    },
    {
     "data": {
      "application/vnd.jupyter.widget-view+json": {
       "model_id": "75511557bb7c4451afca8dea91093160",
       "version_major": 2,
       "version_minor": 0
      },
      "text/plain": [
       "  0%|          | 0/469 [00:00<?, ?it/s]"
      ]
     },
     "metadata": {},
     "output_type": "display_data"
    },
    {
     "name": "stdout",
     "output_type": "stream",
     "text": [
      "Validation => Loss 1.9552, Acc@1 0.2578\n",
      "============\n"
     ]
    },
    {
     "data": {
      "application/vnd.jupyter.widget-view+json": {
       "model_id": "16457e38e0a949a7a3b6416fad8c091f",
       "version_major": 2,
       "version_minor": 0
      },
      "text/plain": [
       "  0%|          | 0/79 [00:00<?, ?it/s]"
      ]
     },
     "metadata": {},
     "output_type": "display_data"
    },
    {
     "name": "stdout",
     "output_type": "stream",
     "text": [
      "Val Perf after 1 epochs Acc@1 0.3831\n"
     ]
    },
    {
     "data": {
      "application/vnd.jupyter.widget-view+json": {
       "model_id": "e6bd183713ec4415af649021f7cbfce5",
       "version_major": 2,
       "version_minor": 0
      },
      "text/plain": [
       "  0%|          | 0/469 [00:00<?, ?it/s]"
      ]
     },
     "metadata": {},
     "output_type": "display_data"
    },
    {
     "name": "stdout",
     "output_type": "stream",
     "text": [
      "Validation => Loss 2.0810, Acc@1 0.4248\n",
      "============\n"
     ]
    },
    {
     "data": {
      "application/vnd.jupyter.widget-view+json": {
       "model_id": "180bb6669cac464eae8359a9cd422799",
       "version_major": 2,
       "version_minor": 0
      },
      "text/plain": [
       "  0%|          | 0/79 [00:00<?, ?it/s]"
      ]
     },
     "metadata": {},
     "output_type": "display_data"
    },
    {
     "name": "stdout",
     "output_type": "stream",
     "text": [
      "Val Perf after 2 epochs Acc@1 0.4741\n",
      "=> Caching mask state for model.0\n",
      "=> Caching mask state for model.2\n",
      "=> Caching mask state for model.4\n",
      "\n",
      "=> Setting learned tasks of model.0 to 15\n",
      "=> Setting learned tasks of model.2 to 15\n",
      "=> Setting learned tasks of model.4 to 15\n",
      "\n",
      "Training for task 15\n",
      "=> Set task of model.0 to 15\n",
      "=> Set task of model.2 to 15\n",
      "=> Set task of model.4 to 15\n"
     ]
    },
    {
     "data": {
      "application/vnd.jupyter.widget-view+json": {
       "model_id": "0189bec471b94c75a1c4221a938994b4",
       "version_major": 2,
       "version_minor": 0
      },
      "text/plain": [
       "  0%|          | 0/469 [00:00<?, ?it/s]"
      ]
     },
     "metadata": {},
     "output_type": "display_data"
    },
    {
     "name": "stdout",
     "output_type": "stream",
     "text": [
      "Validation => Loss 2.4303, Acc@1 0.2393\n",
      "============\n"
     ]
    },
    {
     "data": {
      "application/vnd.jupyter.widget-view+json": {
       "model_id": "0bdefa00288a4d548ef77f94472d5a8f",
       "version_major": 2,
       "version_minor": 0
      },
      "text/plain": [
       "  0%|          | 0/79 [00:00<?, ?it/s]"
      ]
     },
     "metadata": {},
     "output_type": "display_data"
    },
    {
     "name": "stdout",
     "output_type": "stream",
     "text": [
      "Val Perf after 1 epochs Acc@1 0.3245\n"
     ]
    },
    {
     "data": {
      "application/vnd.jupyter.widget-view+json": {
       "model_id": "b63913cb2ffb4f568387e0e803c40ee7",
       "version_major": 2,
       "version_minor": 0
      },
      "text/plain": [
       "  0%|          | 0/469 [00:00<?, ?it/s]"
      ]
     },
     "metadata": {},
     "output_type": "display_data"
    },
    {
     "name": "stdout",
     "output_type": "stream",
     "text": [
      "Validation => Loss 2.1425, Acc@1 0.3750\n",
      "============\n"
     ]
    },
    {
     "data": {
      "application/vnd.jupyter.widget-view+json": {
       "model_id": "2c37341fec434befbe055e425de21f32",
       "version_major": 2,
       "version_minor": 0
      },
      "text/plain": [
       "  0%|          | 0/79 [00:00<?, ?it/s]"
      ]
     },
     "metadata": {},
     "output_type": "display_data"
    },
    {
     "name": "stdout",
     "output_type": "stream",
     "text": [
      "Val Perf after 2 epochs Acc@1 0.4464\n",
      "=> Caching mask state for model.0\n",
      "=> Caching mask state for model.2\n",
      "=> Caching mask state for model.4\n",
      "\n",
      "=> Setting learned tasks of model.0 to 16\n",
      "=> Setting learned tasks of model.2 to 16\n",
      "=> Setting learned tasks of model.4 to 16\n",
      "\n",
      "Training for task 16\n",
      "=> Set task of model.0 to 16\n",
      "=> Set task of model.2 to 16\n",
      "=> Set task of model.4 to 16\n"
     ]
    },
    {
     "data": {
      "application/vnd.jupyter.widget-view+json": {
       "model_id": "0119dd744201465ab6f44a74ae94db48",
       "version_major": 2,
       "version_minor": 0
      },
      "text/plain": [
       "  0%|          | 0/469 [00:00<?, ?it/s]"
      ]
     },
     "metadata": {},
     "output_type": "display_data"
    },
    {
     "name": "stdout",
     "output_type": "stream",
     "text": [
      "Validation => Loss 2.9931, Acc@1 0.2422\n",
      "============\n"
     ]
    },
    {
     "data": {
      "application/vnd.jupyter.widget-view+json": {
       "model_id": "d733319f3633414da54d3703cd03aafc",
       "version_major": 2,
       "version_minor": 0
      },
      "text/plain": [
       "  0%|          | 0/79 [00:00<?, ?it/s]"
      ]
     },
     "metadata": {},
     "output_type": "display_data"
    },
    {
     "name": "stdout",
     "output_type": "stream",
     "text": [
      "Val Perf after 1 epochs Acc@1 0.3170\n"
     ]
    },
    {
     "data": {
      "application/vnd.jupyter.widget-view+json": {
       "model_id": "bc12eb184d0148d29c02cfa07121527d",
       "version_major": 2,
       "version_minor": 0
      },
      "text/plain": [
       "  0%|          | 0/469 [00:00<?, ?it/s]"
      ]
     },
     "metadata": {},
     "output_type": "display_data"
    },
    {
     "name": "stdout",
     "output_type": "stream",
     "text": [
      "Validation => Loss 2.2592, Acc@1 0.3454\n",
      "============\n"
     ]
    },
    {
     "data": {
      "application/vnd.jupyter.widget-view+json": {
       "model_id": "185fa654760a4370b8beabfaf7a08725",
       "version_major": 2,
       "version_minor": 0
      },
      "text/plain": [
       "  0%|          | 0/79 [00:00<?, ?it/s]"
      ]
     },
     "metadata": {},
     "output_type": "display_data"
    },
    {
     "name": "stdout",
     "output_type": "stream",
     "text": [
      "Val Perf after 2 epochs Acc@1 0.3961\n",
      "=> Caching mask state for model.0\n",
      "=> Caching mask state for model.2\n",
      "=> Caching mask state for model.4\n",
      "\n",
      "=> Setting learned tasks of model.0 to 17\n",
      "=> Setting learned tasks of model.2 to 17\n",
      "=> Setting learned tasks of model.4 to 17\n",
      "\n",
      "Training for task 17\n",
      "=> Set task of model.0 to 17\n",
      "=> Set task of model.2 to 17\n",
      "=> Set task of model.4 to 17\n"
     ]
    },
    {
     "data": {
      "application/vnd.jupyter.widget-view+json": {
       "model_id": "625e262a476c480f80843cb2d20b48df",
       "version_major": 2,
       "version_minor": 0
      },
      "text/plain": [
       "  0%|          | 0/469 [00:00<?, ?it/s]"
      ]
     },
     "metadata": {},
     "output_type": "display_data"
    },
    {
     "name": "stdout",
     "output_type": "stream",
     "text": [
      "Validation => Loss 2.1518, Acc@1 0.2718\n",
      "============\n"
     ]
    },
    {
     "data": {
      "application/vnd.jupyter.widget-view+json": {
       "model_id": "ecd826be195c434286f5ee1ebcb54028",
       "version_major": 2,
       "version_minor": 0
      },
      "text/plain": [
       "  0%|          | 0/79 [00:00<?, ?it/s]"
      ]
     },
     "metadata": {},
     "output_type": "display_data"
    },
    {
     "name": "stdout",
     "output_type": "stream",
     "text": [
      "Val Perf after 1 epochs Acc@1 0.3553\n"
     ]
    },
    {
     "data": {
      "application/vnd.jupyter.widget-view+json": {
       "model_id": "f343ecca4bce4e41b5218d880457360c",
       "version_major": 2,
       "version_minor": 0
      },
      "text/plain": [
       "  0%|          | 0/469 [00:00<?, ?it/s]"
      ]
     },
     "metadata": {},
     "output_type": "display_data"
    },
    {
     "name": "stdout",
     "output_type": "stream",
     "text": [
      "Validation => Loss 1.9674, Acc@1 0.3861\n",
      "============\n"
     ]
    },
    {
     "data": {
      "application/vnd.jupyter.widget-view+json": {
       "model_id": "c9ec3fb9936b4ab9bbda5ccf3a716cf8",
       "version_major": 2,
       "version_minor": 0
      },
      "text/plain": [
       "  0%|          | 0/79 [00:00<?, ?it/s]"
      ]
     },
     "metadata": {},
     "output_type": "display_data"
    },
    {
     "name": "stdout",
     "output_type": "stream",
     "text": [
      "Val Perf after 2 epochs Acc@1 0.4242\n",
      "=> Caching mask state for model.0\n",
      "=> Caching mask state for model.2\n",
      "=> Caching mask state for model.4\n",
      "\n",
      "=> Setting learned tasks of model.0 to 18\n",
      "=> Setting learned tasks of model.2 to 18\n",
      "=> Setting learned tasks of model.4 to 18\n",
      "\n",
      "Training for task 18\n",
      "=> Set task of model.0 to 18\n",
      "=> Set task of model.2 to 18\n",
      "=> Set task of model.4 to 18\n"
     ]
    },
    {
     "data": {
      "application/vnd.jupyter.widget-view+json": {
       "model_id": "ad82caacdd8947f1873a49961770ceee",
       "version_major": 2,
       "version_minor": 0
      },
      "text/plain": [
       "  0%|          | 0/469 [00:00<?, ?it/s]"
      ]
     },
     "metadata": {},
     "output_type": "display_data"
    },
    {
     "name": "stdout",
     "output_type": "stream",
     "text": [
      "Validation => Loss 2.4037, Acc@1 0.2552\n",
      "============\n"
     ]
    },
    {
     "data": {
      "application/vnd.jupyter.widget-view+json": {
       "model_id": "a4b965de785742c48515f7a1b3c6e2de",
       "version_major": 2,
       "version_minor": 0
      },
      "text/plain": [
       "  0%|          | 0/79 [00:00<?, ?it/s]"
      ]
     },
     "metadata": {},
     "output_type": "display_data"
    },
    {
     "name": "stdout",
     "output_type": "stream",
     "text": [
      "Val Perf after 1 epochs Acc@1 0.3591\n"
     ]
    },
    {
     "data": {
      "application/vnd.jupyter.widget-view+json": {
       "model_id": "181999db82514c32aa9fd0b8de489e0c",
       "version_major": 2,
       "version_minor": 0
      },
      "text/plain": [
       "  0%|          | 0/469 [00:00<?, ?it/s]"
      ]
     },
     "metadata": {},
     "output_type": "display_data"
    },
    {
     "name": "stdout",
     "output_type": "stream",
     "text": [
      "Validation => Loss 1.9298, Acc@1 0.3763\n",
      "============\n"
     ]
    },
    {
     "data": {
      "application/vnd.jupyter.widget-view+json": {
       "model_id": "79135b6433454c94835ccc0c78ae170f",
       "version_major": 2,
       "version_minor": 0
      },
      "text/plain": [
       "  0%|          | 0/79 [00:00<?, ?it/s]"
      ]
     },
     "metadata": {},
     "output_type": "display_data"
    },
    {
     "name": "stdout",
     "output_type": "stream",
     "text": [
      "Val Perf after 2 epochs Acc@1 0.4421\n",
      "=> Caching mask state for model.0\n",
      "=> Caching mask state for model.2\n",
      "=> Caching mask state for model.4\n",
      "\n",
      "=> Setting learned tasks of model.0 to 19\n",
      "=> Setting learned tasks of model.2 to 19\n",
      "=> Setting learned tasks of model.4 to 19\n",
      "\n",
      "Training for task 19\n",
      "=> Set task of model.0 to 19\n",
      "=> Set task of model.2 to 19\n",
      "=> Set task of model.4 to 19\n"
     ]
    },
    {
     "data": {
      "application/vnd.jupyter.widget-view+json": {
       "model_id": "2bf45c99b07b4a67ae66e0b6423a59de",
       "version_major": 2,
       "version_minor": 0
      },
      "text/plain": [
       "  0%|          | 0/469 [00:00<?, ?it/s]"
      ]
     },
     "metadata": {},
     "output_type": "display_data"
    },
    {
     "name": "stdout",
     "output_type": "stream",
     "text": [
      "Validation => Loss 2.1799, Acc@1 0.2588\n",
      "============\n"
     ]
    },
    {
     "data": {
      "application/vnd.jupyter.widget-view+json": {
       "model_id": "535764a3b382467fb55107f658106e38",
       "version_major": 2,
       "version_minor": 0
      },
      "text/plain": [
       "  0%|          | 0/79 [00:00<?, ?it/s]"
      ]
     },
     "metadata": {},
     "output_type": "display_data"
    },
    {
     "name": "stdout",
     "output_type": "stream",
     "text": [
      "Val Perf after 1 epochs Acc@1 0.3394\n"
     ]
    },
    {
     "data": {
      "application/vnd.jupyter.widget-view+json": {
       "model_id": "f11ad06273b3424692f8e7dc2af8246a",
       "version_major": 2,
       "version_minor": 0
      },
      "text/plain": [
       "  0%|          | 0/469 [00:00<?, ?it/s]"
      ]
     },
     "metadata": {},
     "output_type": "display_data"
    },
    {
     "name": "stdout",
     "output_type": "stream",
     "text": [
      "Validation => Loss 1.8805, Acc@1 0.3799\n",
      "============\n"
     ]
    },
    {
     "data": {
      "application/vnd.jupyter.widget-view+json": {
       "model_id": "db93016ba4a24d9da3f198ba65b75276",
       "version_major": 2,
       "version_minor": 0
      },
      "text/plain": [
       "  0%|          | 0/79 [00:00<?, ?it/s]"
      ]
     },
     "metadata": {},
     "output_type": "display_data"
    },
    {
     "name": "stdout",
     "output_type": "stream",
     "text": [
      "Val Perf after 2 epochs Acc@1 0.4175\n",
      "=> Caching mask state for model.0\n",
      "=> Caching mask state for model.2\n",
      "=> Caching mask state for model.4\n",
      "\n",
      "=> Setting learned tasks of model.0 to 20\n",
      "=> Setting learned tasks of model.2 to 20\n",
      "=> Setting learned tasks of model.4 to 20\n",
      "\n",
      "Training for task 20\n",
      "=> Set task of model.0 to 20\n",
      "=> Set task of model.2 to 20\n",
      "=> Set task of model.4 to 20\n"
     ]
    },
    {
     "data": {
      "application/vnd.jupyter.widget-view+json": {
       "model_id": "b327676e25d74795ae6d60d744b71d19",
       "version_major": 2,
       "version_minor": 0
      },
      "text/plain": [
       "  0%|          | 0/469 [00:00<?, ?it/s]"
      ]
     },
     "metadata": {},
     "output_type": "display_data"
    },
    {
     "name": "stdout",
     "output_type": "stream",
     "text": [
      "Validation => Loss 2.5869, Acc@1 0.2292\n",
      "============\n"
     ]
    },
    {
     "data": {
      "application/vnd.jupyter.widget-view+json": {
       "model_id": "634c61b4fcbc49f784c91418a1a83e77",
       "version_major": 2,
       "version_minor": 0
      },
      "text/plain": [
       "  0%|          | 0/79 [00:00<?, ?it/s]"
      ]
     },
     "metadata": {},
     "output_type": "display_data"
    },
    {
     "name": "stdout",
     "output_type": "stream",
     "text": [
      "Val Perf after 1 epochs Acc@1 0.3071\n"
     ]
    },
    {
     "data": {
      "application/vnd.jupyter.widget-view+json": {
       "model_id": "56d599e4e402434ab7c13c99928c298e",
       "version_major": 2,
       "version_minor": 0
      },
      "text/plain": [
       "  0%|          | 0/469 [00:00<?, ?it/s]"
      ]
     },
     "metadata": {},
     "output_type": "display_data"
    },
    {
     "name": "stdout",
     "output_type": "stream",
     "text": [
      "Validation => Loss 2.1436, Acc@1 0.3529\n",
      "============\n"
     ]
    },
    {
     "data": {
      "application/vnd.jupyter.widget-view+json": {
       "model_id": "beb901a443c64f8db089684f3beb4d95",
       "version_major": 2,
       "version_minor": 0
      },
      "text/plain": [
       "  0%|          | 0/79 [00:00<?, ?it/s]"
      ]
     },
     "metadata": {},
     "output_type": "display_data"
    },
    {
     "name": "stdout",
     "output_type": "stream",
     "text": [
      "Val Perf after 2 epochs Acc@1 0.3809\n",
      "=> Caching mask state for model.0\n",
      "=> Caching mask state for model.2\n",
      "=> Caching mask state for model.4\n",
      "\n",
      "=> Setting learned tasks of model.0 to 21\n",
      "=> Setting learned tasks of model.2 to 21\n",
      "=> Setting learned tasks of model.4 to 21\n",
      "\n",
      "Training for task 21\n",
      "=> Set task of model.0 to 21\n",
      "=> Set task of model.2 to 21\n",
      "=> Set task of model.4 to 21\n"
     ]
    },
    {
     "data": {
      "application/vnd.jupyter.widget-view+json": {
       "model_id": "fa9decdb8dbe43139ba83df1d9a0a587",
       "version_major": 2,
       "version_minor": 0
      },
      "text/plain": [
       "  0%|          | 0/469 [00:00<?, ?it/s]"
      ]
     },
     "metadata": {},
     "output_type": "display_data"
    },
    {
     "name": "stdout",
     "output_type": "stream",
     "text": [
      "Validation => Loss 2.4498, Acc@1 0.2581\n",
      "============\n"
     ]
    },
    {
     "data": {
      "application/vnd.jupyter.widget-view+json": {
       "model_id": "41a7005c41de496282f6254c0a62fecc",
       "version_major": 2,
       "version_minor": 0
      },
      "text/plain": [
       "  0%|          | 0/79 [00:00<?, ?it/s]"
      ]
     },
     "metadata": {},
     "output_type": "display_data"
    },
    {
     "name": "stdout",
     "output_type": "stream",
     "text": [
      "Val Perf after 1 epochs Acc@1 0.3561\n"
     ]
    },
    {
     "data": {
      "application/vnd.jupyter.widget-view+json": {
       "model_id": "7100f346972a4a4ca733f47eb1608f8f",
       "version_major": 2,
       "version_minor": 0
      },
      "text/plain": [
       "  0%|          | 0/469 [00:00<?, ?it/s]"
      ]
     },
     "metadata": {},
     "output_type": "display_data"
    },
    {
     "name": "stdout",
     "output_type": "stream",
     "text": [
      "Validation => Loss 2.0036, Acc@1 0.3952\n",
      "============\n"
     ]
    },
    {
     "data": {
      "application/vnd.jupyter.widget-view+json": {
       "model_id": "62f52e6192ed400f97b0af6fd9f785b7",
       "version_major": 2,
       "version_minor": 0
      },
      "text/plain": [
       "  0%|          | 0/79 [00:00<?, ?it/s]"
      ]
     },
     "metadata": {},
     "output_type": "display_data"
    },
    {
     "name": "stdout",
     "output_type": "stream",
     "text": [
      "Val Perf after 2 epochs Acc@1 0.4604\n",
      "=> Caching mask state for model.0\n",
      "=> Caching mask state for model.2\n",
      "=> Caching mask state for model.4\n",
      "\n",
      "=> Setting learned tasks of model.0 to 22\n",
      "=> Setting learned tasks of model.2 to 22\n",
      "=> Setting learned tasks of model.4 to 22\n",
      "\n",
      "Training for task 22\n",
      "=> Set task of model.0 to 22\n",
      "=> Set task of model.2 to 22\n",
      "=> Set task of model.4 to 22\n"
     ]
    },
    {
     "data": {
      "application/vnd.jupyter.widget-view+json": {
       "model_id": "86128e2a657b4a9a9e27687d370cfc47",
       "version_major": 2,
       "version_minor": 0
      },
      "text/plain": [
       "  0%|          | 0/469 [00:00<?, ?it/s]"
      ]
     },
     "metadata": {},
     "output_type": "display_data"
    },
    {
     "name": "stdout",
     "output_type": "stream",
     "text": [
      "Validation => Loss 2.5834, Acc@1 0.1986\n",
      "============\n"
     ]
    },
    {
     "data": {
      "application/vnd.jupyter.widget-view+json": {
       "model_id": "0ef354052b6744dd8b113900c352740a",
       "version_major": 2,
       "version_minor": 0
      },
      "text/plain": [
       "  0%|          | 0/79 [00:00<?, ?it/s]"
      ]
     },
     "metadata": {},
     "output_type": "display_data"
    },
    {
     "name": "stdout",
     "output_type": "stream",
     "text": [
      "Val Perf after 1 epochs Acc@1 0.2711\n"
     ]
    },
    {
     "data": {
      "application/vnd.jupyter.widget-view+json": {
       "model_id": "132bde2d5ca44fba95f0bbb598388a16",
       "version_major": 2,
       "version_minor": 0
      },
      "text/plain": [
       "  0%|          | 0/469 [00:00<?, ?it/s]"
      ]
     },
     "metadata": {},
     "output_type": "display_data"
    },
    {
     "name": "stdout",
     "output_type": "stream",
     "text": [
      "Validation => Loss 2.3709, Acc@1 0.3066\n",
      "============\n"
     ]
    },
    {
     "data": {
      "application/vnd.jupyter.widget-view+json": {
       "model_id": "99fcd95aeeaf4e37b10ae0998b8c7aac",
       "version_major": 2,
       "version_minor": 0
      },
      "text/plain": [
       "  0%|          | 0/79 [00:00<?, ?it/s]"
      ]
     },
     "metadata": {},
     "output_type": "display_data"
    },
    {
     "name": "stdout",
     "output_type": "stream",
     "text": [
      "Val Perf after 2 epochs Acc@1 0.3377\n",
      "=> Caching mask state for model.0\n",
      "=> Caching mask state for model.2\n",
      "=> Caching mask state for model.4\n",
      "\n",
      "=> Setting learned tasks of model.0 to 23\n",
      "=> Setting learned tasks of model.2 to 23\n",
      "=> Setting learned tasks of model.4 to 23\n",
      "\n",
      "Training for task 23\n",
      "=> Set task of model.0 to 23\n",
      "=> Set task of model.2 to 23\n",
      "=> Set task of model.4 to 23\n"
     ]
    },
    {
     "data": {
      "application/vnd.jupyter.widget-view+json": {
       "model_id": "be558a4089734855ac941404f61271d4",
       "version_major": 2,
       "version_minor": 0
      },
      "text/plain": [
       "  0%|          | 0/469 [00:00<?, ?it/s]"
      ]
     },
     "metadata": {},
     "output_type": "display_data"
    },
    {
     "name": "stdout",
     "output_type": "stream",
     "text": [
      "Validation => Loss 2.5690, Acc@1 0.2715\n",
      "============\n"
     ]
    },
    {
     "data": {
      "application/vnd.jupyter.widget-view+json": {
       "model_id": "76cb3eec1d3548f6acf29e774e43c083",
       "version_major": 2,
       "version_minor": 0
      },
      "text/plain": [
       "  0%|          | 0/79 [00:00<?, ?it/s]"
      ]
     },
     "metadata": {},
     "output_type": "display_data"
    },
    {
     "name": "stdout",
     "output_type": "stream",
     "text": [
      "Val Perf after 1 epochs Acc@1 0.3654\n"
     ]
    },
    {
     "data": {
      "application/vnd.jupyter.widget-view+json": {
       "model_id": "682bbf1e617c4b0a8c40fa0bcd3eee8d",
       "version_major": 2,
       "version_minor": 0
      },
      "text/plain": [
       "  0%|          | 0/469 [00:00<?, ?it/s]"
      ]
     },
     "metadata": {},
     "output_type": "display_data"
    },
    {
     "name": "stdout",
     "output_type": "stream",
     "text": [
      "Validation => Loss 2.1652, Acc@1 0.3786\n",
      "============\n"
     ]
    },
    {
     "data": {
      "application/vnd.jupyter.widget-view+json": {
       "model_id": "fff5e33c6ff04eb9b255c247c0ac7042",
       "version_major": 2,
       "version_minor": 0
      },
      "text/plain": [
       "  0%|          | 0/79 [00:00<?, ?it/s]"
      ]
     },
     "metadata": {},
     "output_type": "display_data"
    },
    {
     "name": "stdout",
     "output_type": "stream",
     "text": [
      "Val Perf after 2 epochs Acc@1 0.4300\n",
      "=> Caching mask state for model.0\n",
      "=> Caching mask state for model.2\n",
      "=> Caching mask state for model.4\n",
      "\n",
      "=> Setting learned tasks of model.0 to 24\n",
      "=> Setting learned tasks of model.2 to 24\n",
      "=> Setting learned tasks of model.4 to 24\n",
      "\n",
      "Training for task 24\n",
      "=> Set task of model.0 to 24\n",
      "=> Set task of model.2 to 24\n",
      "=> Set task of model.4 to 24\n"
     ]
    },
    {
     "data": {
      "application/vnd.jupyter.widget-view+json": {
       "model_id": "6df1270d7c0b4129abadb9a674ae9f45",
       "version_major": 2,
       "version_minor": 0
      },
      "text/plain": [
       "  0%|          | 0/469 [00:00<?, ?it/s]"
      ]
     },
     "metadata": {},
     "output_type": "display_data"
    },
    {
     "name": "stdout",
     "output_type": "stream",
     "text": [
      "Validation => Loss 2.2410, Acc@1 0.2301\n",
      "============\n"
     ]
    },
    {
     "data": {
      "application/vnd.jupyter.widget-view+json": {
       "model_id": "d103ecaa54d443b3ba370b49ad8f0664",
       "version_major": 2,
       "version_minor": 0
      },
      "text/plain": [
       "  0%|          | 0/79 [00:00<?, ?it/s]"
      ]
     },
     "metadata": {},
     "output_type": "display_data"
    },
    {
     "name": "stdout",
     "output_type": "stream",
     "text": [
      "Val Perf after 1 epochs Acc@1 0.3229\n"
     ]
    },
    {
     "data": {
      "application/vnd.jupyter.widget-view+json": {
       "model_id": "8fd061c0376640a7a13d34fd24ee8bfd",
       "version_major": 2,
       "version_minor": 0
      },
      "text/plain": [
       "  0%|          | 0/469 [00:00<?, ?it/s]"
      ]
     },
     "metadata": {},
     "output_type": "display_data"
    },
    {
     "name": "stdout",
     "output_type": "stream",
     "text": [
      "Validation => Loss 1.9825, Acc@1 0.3717\n",
      "============\n"
     ]
    },
    {
     "data": {
      "application/vnd.jupyter.widget-view+json": {
       "model_id": "1df74667acc74a8086ecf8ba4409ebeb",
       "version_major": 2,
       "version_minor": 0
      },
      "text/plain": [
       "  0%|          | 0/79 [00:00<?, ?it/s]"
      ]
     },
     "metadata": {},
     "output_type": "display_data"
    },
    {
     "name": "stdout",
     "output_type": "stream",
     "text": [
      "Val Perf after 2 epochs Acc@1 0.4404\n",
      "=> Caching mask state for model.0\n",
      "=> Caching mask state for model.2\n",
      "=> Caching mask state for model.4\n",
      "\n",
      "=> Setting learned tasks of model.0 to 25\n",
      "=> Setting learned tasks of model.2 to 25\n",
      "=> Setting learned tasks of model.4 to 25\n",
      "\n",
      "Training for task 25\n",
      "=> Set task of model.0 to 25\n",
      "=> Set task of model.2 to 25\n",
      "=> Set task of model.4 to 25\n"
     ]
    },
    {
     "data": {
      "application/vnd.jupyter.widget-view+json": {
       "model_id": "7bf366e34d5e423cbd5830404db9555a",
       "version_major": 2,
       "version_minor": 0
      },
      "text/plain": [
       "  0%|          | 0/469 [00:00<?, ?it/s]"
      ]
     },
     "metadata": {},
     "output_type": "display_data"
    },
    {
     "name": "stdout",
     "output_type": "stream",
     "text": [
      "Validation => Loss 2.7082, Acc@1 0.2132\n",
      "============\n"
     ]
    },
    {
     "data": {
      "application/vnd.jupyter.widget-view+json": {
       "model_id": "cae9768727664d2e8de90631ad73dce1",
       "version_major": 2,
       "version_minor": 0
      },
      "text/plain": [
       "  0%|          | 0/79 [00:00<?, ?it/s]"
      ]
     },
     "metadata": {},
     "output_type": "display_data"
    },
    {
     "name": "stdout",
     "output_type": "stream",
     "text": [
      "Val Perf after 1 epochs Acc@1 0.3214\n"
     ]
    },
    {
     "data": {
      "application/vnd.jupyter.widget-view+json": {
       "model_id": "28bcc8e1fc524d03b438681a29406a5e",
       "version_major": 2,
       "version_minor": 0
      },
      "text/plain": [
       "  0%|          | 0/469 [00:00<?, ?it/s]"
      ]
     },
     "metadata": {},
     "output_type": "display_data"
    },
    {
     "name": "stdout",
     "output_type": "stream",
     "text": [
      "Validation => Loss 1.9693, Acc@1 0.3698\n",
      "============\n"
     ]
    },
    {
     "data": {
      "application/vnd.jupyter.widget-view+json": {
       "model_id": "c064be28c430439b9505055cc7bbcf3a",
       "version_major": 2,
       "version_minor": 0
      },
      "text/plain": [
       "  0%|          | 0/79 [00:00<?, ?it/s]"
      ]
     },
     "metadata": {},
     "output_type": "display_data"
    },
    {
     "name": "stdout",
     "output_type": "stream",
     "text": [
      "Val Perf after 2 epochs Acc@1 0.4103\n",
      "=> Caching mask state for model.0\n",
      "=> Caching mask state for model.2\n",
      "=> Caching mask state for model.4\n",
      "\n",
      "=> Setting learned tasks of model.0 to 26\n",
      "=> Setting learned tasks of model.2 to 26\n",
      "=> Setting learned tasks of model.4 to 26\n",
      "\n",
      "Training for task 26\n",
      "=> Set task of model.0 to 26\n",
      "=> Set task of model.2 to 26\n",
      "=> Set task of model.4 to 26\n"
     ]
    },
    {
     "data": {
      "application/vnd.jupyter.widget-view+json": {
       "model_id": "e17c3493cd944400b873e85d1a52ad5e",
       "version_major": 2,
       "version_minor": 0
      },
      "text/plain": [
       "  0%|          | 0/469 [00:00<?, ?it/s]"
      ]
     },
     "metadata": {},
     "output_type": "display_data"
    },
    {
     "name": "stdout",
     "output_type": "stream",
     "text": [
      "Validation => Loss 2.4598, Acc@1 0.2122\n",
      "============\n"
     ]
    },
    {
     "data": {
      "application/vnd.jupyter.widget-view+json": {
       "model_id": "33f56605de874c39b115aa017a93a011",
       "version_major": 2,
       "version_minor": 0
      },
      "text/plain": [
       "  0%|          | 0/79 [00:00<?, ?it/s]"
      ]
     },
     "metadata": {},
     "output_type": "display_data"
    },
    {
     "name": "stdout",
     "output_type": "stream",
     "text": [
      "Val Perf after 1 epochs Acc@1 0.2930\n"
     ]
    },
    {
     "data": {
      "application/vnd.jupyter.widget-view+json": {
       "model_id": "b4d565190d5f48679f4147469de68737",
       "version_major": 2,
       "version_minor": 0
      },
      "text/plain": [
       "  0%|          | 0/469 [00:00<?, ?it/s]"
      ]
     },
     "metadata": {},
     "output_type": "display_data"
    },
    {
     "name": "stdout",
     "output_type": "stream",
     "text": [
      "Validation => Loss 2.1258, Acc@1 0.3522\n",
      "============\n"
     ]
    },
    {
     "data": {
      "application/vnd.jupyter.widget-view+json": {
       "model_id": "722ba158fbd34f36a8ff6a9cacc714cf",
       "version_major": 2,
       "version_minor": 0
      },
      "text/plain": [
       "  0%|          | 0/79 [00:00<?, ?it/s]"
      ]
     },
     "metadata": {},
     "output_type": "display_data"
    },
    {
     "name": "stdout",
     "output_type": "stream",
     "text": [
      "Val Perf after 2 epochs Acc@1 0.3929\n",
      "=> Caching mask state for model.0\n",
      "=> Caching mask state for model.2\n",
      "=> Caching mask state for model.4\n",
      "\n",
      "=> Setting learned tasks of model.0 to 27\n",
      "=> Setting learned tasks of model.2 to 27\n",
      "=> Setting learned tasks of model.4 to 27\n",
      "\n",
      "Training for task 27\n",
      "=> Set task of model.0 to 27\n",
      "=> Set task of model.2 to 27\n",
      "=> Set task of model.4 to 27\n"
     ]
    },
    {
     "data": {
      "application/vnd.jupyter.widget-view+json": {
       "model_id": "f16ab20021224fa4a389c2ef6e00d805",
       "version_major": 2,
       "version_minor": 0
      },
      "text/plain": [
       "  0%|          | 0/469 [00:00<?, ?it/s]"
      ]
     },
     "metadata": {},
     "output_type": "display_data"
    },
    {
     "name": "stdout",
     "output_type": "stream",
     "text": [
      "Validation => Loss 2.1566, Acc@1 0.2591\n",
      "============\n"
     ]
    },
    {
     "data": {
      "application/vnd.jupyter.widget-view+json": {
       "model_id": "8e97b953e1e64dcf8fffb727f1842084",
       "version_major": 2,
       "version_minor": 0
      },
      "text/plain": [
       "  0%|          | 0/79 [00:00<?, ?it/s]"
      ]
     },
     "metadata": {},
     "output_type": "display_data"
    },
    {
     "name": "stdout",
     "output_type": "stream",
     "text": [
      "Val Perf after 1 epochs Acc@1 0.3726\n"
     ]
    },
    {
     "data": {
      "application/vnd.jupyter.widget-view+json": {
       "model_id": "fec7ab52a0114b53b37d3d9f8867f111",
       "version_major": 2,
       "version_minor": 0
      },
      "text/plain": [
       "  0%|          | 0/469 [00:00<?, ?it/s]"
      ]
     },
     "metadata": {},
     "output_type": "display_data"
    },
    {
     "name": "stdout",
     "output_type": "stream",
     "text": [
      "Validation => Loss 1.7281, Acc@1 0.4463\n",
      "============\n"
     ]
    },
    {
     "data": {
      "application/vnd.jupyter.widget-view+json": {
       "model_id": "783cbe377f3c4c7b98f8d72574be0fb9",
       "version_major": 2,
       "version_minor": 0
      },
      "text/plain": [
       "  0%|          | 0/79 [00:00<?, ?it/s]"
      ]
     },
     "metadata": {},
     "output_type": "display_data"
    },
    {
     "name": "stdout",
     "output_type": "stream",
     "text": [
      "Val Perf after 2 epochs Acc@1 0.4968\n",
      "=> Caching mask state for model.0\n",
      "=> Caching mask state for model.2\n",
      "=> Caching mask state for model.4\n",
      "\n",
      "=> Setting learned tasks of model.0 to 28\n",
      "=> Setting learned tasks of model.2 to 28\n",
      "=> Setting learned tasks of model.4 to 28\n",
      "\n",
      "Training for task 28\n",
      "=> Set task of model.0 to 28\n",
      "=> Set task of model.2 to 28\n",
      "=> Set task of model.4 to 28\n"
     ]
    },
    {
     "data": {
      "application/vnd.jupyter.widget-view+json": {
       "model_id": "9f9062d9ac2e4ef7866d37b346281340",
       "version_major": 2,
       "version_minor": 0
      },
      "text/plain": [
       "  0%|          | 0/469 [00:00<?, ?it/s]"
      ]
     },
     "metadata": {},
     "output_type": "display_data"
    },
    {
     "name": "stdout",
     "output_type": "stream",
     "text": [
      "Validation => Loss 2.4295, Acc@1 0.2259\n",
      "============\n"
     ]
    },
    {
     "data": {
      "application/vnd.jupyter.widget-view+json": {
       "model_id": "06fe719c089f4bb199bc07ea9754b61a",
       "version_major": 2,
       "version_minor": 0
      },
      "text/plain": [
       "  0%|          | 0/79 [00:00<?, ?it/s]"
      ]
     },
     "metadata": {},
     "output_type": "display_data"
    },
    {
     "name": "stdout",
     "output_type": "stream",
     "text": [
      "Val Perf after 1 epochs Acc@1 0.3318\n"
     ]
    },
    {
     "data": {
      "application/vnd.jupyter.widget-view+json": {
       "model_id": "5a301fd48c974501884b2088509ea97c",
       "version_major": 2,
       "version_minor": 0
      },
      "text/plain": [
       "  0%|          | 0/469 [00:00<?, ?it/s]"
      ]
     },
     "metadata": {},
     "output_type": "display_data"
    },
    {
     "name": "stdout",
     "output_type": "stream",
     "text": [
      "Validation => Loss 2.3543, Acc@1 0.3711\n",
      "============\n"
     ]
    },
    {
     "data": {
      "application/vnd.jupyter.widget-view+json": {
       "model_id": "50f4b0115e364adcaf1a580617ccd367",
       "version_major": 2,
       "version_minor": 0
      },
      "text/plain": [
       "  0%|          | 0/79 [00:00<?, ?it/s]"
      ]
     },
     "metadata": {},
     "output_type": "display_data"
    },
    {
     "name": "stdout",
     "output_type": "stream",
     "text": [
      "Val Perf after 2 epochs Acc@1 0.4113\n",
      "=> Caching mask state for model.0\n",
      "=> Caching mask state for model.2\n",
      "=> Caching mask state for model.4\n",
      "\n",
      "=> Setting learned tasks of model.0 to 29\n",
      "=> Setting learned tasks of model.2 to 29\n",
      "=> Setting learned tasks of model.4 to 29\n",
      "\n",
      "Training for task 29\n",
      "=> Set task of model.0 to 29\n",
      "=> Set task of model.2 to 29\n",
      "=> Set task of model.4 to 29\n"
     ]
    },
    {
     "data": {
      "application/vnd.jupyter.widget-view+json": {
       "model_id": "d351b19c0de64411880329c571979b15",
       "version_major": 2,
       "version_minor": 0
      },
      "text/plain": [
       "  0%|          | 0/469 [00:00<?, ?it/s]"
      ]
     },
     "metadata": {},
     "output_type": "display_data"
    },
    {
     "name": "stdout",
     "output_type": "stream",
     "text": [
      "Validation => Loss 2.0055, Acc@1 0.2998\n",
      "============\n"
     ]
    },
    {
     "data": {
      "application/vnd.jupyter.widget-view+json": {
       "model_id": "f389178b7b234000877880a5743d5591",
       "version_major": 2,
       "version_minor": 0
      },
      "text/plain": [
       "  0%|          | 0/79 [00:00<?, ?it/s]"
      ]
     },
     "metadata": {},
     "output_type": "display_data"
    },
    {
     "name": "stdout",
     "output_type": "stream",
     "text": [
      "Val Perf after 1 epochs Acc@1 0.4027\n"
     ]
    },
    {
     "data": {
      "application/vnd.jupyter.widget-view+json": {
       "model_id": "59220eb45eae457d9154a72eccb82a4d",
       "version_major": 2,
       "version_minor": 0
      },
      "text/plain": [
       "  0%|          | 0/469 [00:00<?, ?it/s]"
      ]
     },
     "metadata": {},
     "output_type": "display_data"
    },
    {
     "name": "stdout",
     "output_type": "stream",
     "text": [
      "Validation => Loss 1.5769, Acc@1 0.4639\n",
      "============\n"
     ]
    },
    {
     "data": {
      "application/vnd.jupyter.widget-view+json": {
       "model_id": "89b34014816e41b0be8ce41b1f2f38c6",
       "version_major": 2,
       "version_minor": 0
      },
      "text/plain": [
       "  0%|          | 0/79 [00:00<?, ?it/s]"
      ]
     },
     "metadata": {},
     "output_type": "display_data"
    },
    {
     "name": "stdout",
     "output_type": "stream",
     "text": [
      "Val Perf after 2 epochs Acc@1 0.5109\n",
      "=> Caching mask state for model.0\n",
      "=> Caching mask state for model.2\n",
      "=> Caching mask state for model.4\n",
      "\n",
      "=> Setting learned tasks of model.0 to 30\n",
      "=> Setting learned tasks of model.2 to 30\n",
      "=> Setting learned tasks of model.4 to 30\n",
      "\n",
      "Training for task 30\n",
      "=> Set task of model.0 to 30\n",
      "=> Set task of model.2 to 30\n",
      "=> Set task of model.4 to 30\n"
     ]
    },
    {
     "data": {
      "application/vnd.jupyter.widget-view+json": {
       "model_id": "2fcf1cdb0ffa463886a25e413d0e33cb",
       "version_major": 2,
       "version_minor": 0
      },
      "text/plain": [
       "  0%|          | 0/469 [00:00<?, ?it/s]"
      ]
     },
     "metadata": {},
     "output_type": "display_data"
    },
    {
     "name": "stdout",
     "output_type": "stream",
     "text": [
      "Validation => Loss 2.8344, Acc@1 0.2106\n",
      "============\n"
     ]
    },
    {
     "data": {
      "application/vnd.jupyter.widget-view+json": {
       "model_id": "d027e5b7dd9b472887258883820c5409",
       "version_major": 2,
       "version_minor": 0
      },
      "text/plain": [
       "  0%|          | 0/79 [00:00<?, ?it/s]"
      ]
     },
     "metadata": {},
     "output_type": "display_data"
    },
    {
     "name": "stdout",
     "output_type": "stream",
     "text": [
      "Val Perf after 1 epochs Acc@1 0.3071\n"
     ]
    },
    {
     "data": {
      "application/vnd.jupyter.widget-view+json": {
       "model_id": "1fb161c58d034d008dac643f212bcddf",
       "version_major": 2,
       "version_minor": 0
      },
      "text/plain": [
       "  0%|          | 0/469 [00:00<?, ?it/s]"
      ]
     },
     "metadata": {},
     "output_type": "display_data"
    },
    {
     "name": "stdout",
     "output_type": "stream",
     "text": [
      "Validation => Loss 2.3086, Acc@1 0.3903\n",
      "============\n"
     ]
    },
    {
     "data": {
      "application/vnd.jupyter.widget-view+json": {
       "model_id": "faae36b371444b479c31ca7170a74ad6",
       "version_major": 2,
       "version_minor": 0
      },
      "text/plain": [
       "  0%|          | 0/79 [00:00<?, ?it/s]"
      ]
     },
     "metadata": {},
     "output_type": "display_data"
    },
    {
     "name": "stdout",
     "output_type": "stream",
     "text": [
      "Val Perf after 2 epochs Acc@1 0.4432\n",
      "=> Caching mask state for model.0\n",
      "=> Caching mask state for model.2\n",
      "=> Caching mask state for model.4\n",
      "\n",
      "=> Setting learned tasks of model.0 to 31\n",
      "=> Setting learned tasks of model.2 to 31\n",
      "=> Setting learned tasks of model.4 to 31\n",
      "\n",
      "Training for task 31\n",
      "=> Set task of model.0 to 31\n",
      "=> Set task of model.2 to 31\n",
      "=> Set task of model.4 to 31\n"
     ]
    },
    {
     "data": {
      "application/vnd.jupyter.widget-view+json": {
       "model_id": "ca08d2f7790e411cbba3c35a927ec2b2",
       "version_major": 2,
       "version_minor": 0
      },
      "text/plain": [
       "  0%|          | 0/469 [00:00<?, ?it/s]"
      ]
     },
     "metadata": {},
     "output_type": "display_data"
    },
    {
     "name": "stdout",
     "output_type": "stream",
     "text": [
      "Validation => Loss 2.5683, Acc@1 0.2327\n",
      "============\n"
     ]
    },
    {
     "data": {
      "application/vnd.jupyter.widget-view+json": {
       "model_id": "28c7fb96fc9c4f52805ab19aa16a8886",
       "version_major": 2,
       "version_minor": 0
      },
      "text/plain": [
       "  0%|          | 0/79 [00:00<?, ?it/s]"
      ]
     },
     "metadata": {},
     "output_type": "display_data"
    },
    {
     "name": "stdout",
     "output_type": "stream",
     "text": [
      "Val Perf after 1 epochs Acc@1 0.2891\n"
     ]
    },
    {
     "data": {
      "application/vnd.jupyter.widget-view+json": {
       "model_id": "9c7cdbea5b404776a93903f57234809f",
       "version_major": 2,
       "version_minor": 0
      },
      "text/plain": [
       "  0%|          | 0/469 [00:00<?, ?it/s]"
      ]
     },
     "metadata": {},
     "output_type": "display_data"
    },
    {
     "name": "stdout",
     "output_type": "stream",
     "text": [
      "Validation => Loss 2.3556, Acc@1 0.3548\n",
      "============\n"
     ]
    },
    {
     "data": {
      "application/vnd.jupyter.widget-view+json": {
       "model_id": "3ecbcbe9cb8f40c8826cb2397852fd1d",
       "version_major": 2,
       "version_minor": 0
      },
      "text/plain": [
       "  0%|          | 0/79 [00:00<?, ?it/s]"
      ]
     },
     "metadata": {},
     "output_type": "display_data"
    },
    {
     "name": "stdout",
     "output_type": "stream",
     "text": [
      "Val Perf after 2 epochs Acc@1 0.4013\n",
      "=> Caching mask state for model.0\n",
      "=> Caching mask state for model.2\n",
      "=> Caching mask state for model.4\n",
      "\n",
      "=> Setting learned tasks of model.0 to 32\n",
      "=> Setting learned tasks of model.2 to 32\n",
      "=> Setting learned tasks of model.4 to 32\n",
      "\n",
      "Training for task 32\n",
      "=> Set task of model.0 to 32\n",
      "=> Set task of model.2 to 32\n",
      "=> Set task of model.4 to 32\n"
     ]
    },
    {
     "data": {
      "application/vnd.jupyter.widget-view+json": {
       "model_id": "6bb051201b904e1abc4e555f6b5d24be",
       "version_major": 2,
       "version_minor": 0
      },
      "text/plain": [
       "  0%|          | 0/469 [00:00<?, ?it/s]"
      ]
     },
     "metadata": {},
     "output_type": "display_data"
    },
    {
     "name": "stdout",
     "output_type": "stream",
     "text": [
      "Validation => Loss 2.5819, Acc@1 0.2474\n",
      "============\n"
     ]
    },
    {
     "data": {
      "application/vnd.jupyter.widget-view+json": {
       "model_id": "c6a970f2c418455899309609bcfb7a56",
       "version_major": 2,
       "version_minor": 0
      },
      "text/plain": [
       "  0%|          | 0/79 [00:00<?, ?it/s]"
      ]
     },
     "metadata": {},
     "output_type": "display_data"
    },
    {
     "name": "stdout",
     "output_type": "stream",
     "text": [
      "Val Perf after 1 epochs Acc@1 0.2991\n"
     ]
    },
    {
     "data": {
      "application/vnd.jupyter.widget-view+json": {
       "model_id": "46ebaa11d6264f579f529c790eb209cf",
       "version_major": 2,
       "version_minor": 0
      },
      "text/plain": [
       "  0%|          | 0/469 [00:00<?, ?it/s]"
      ]
     },
     "metadata": {},
     "output_type": "display_data"
    },
    {
     "name": "stdout",
     "output_type": "stream",
     "text": [
      "Validation => Loss 2.1479, Acc@1 0.3561\n",
      "============\n"
     ]
    },
    {
     "data": {
      "application/vnd.jupyter.widget-view+json": {
       "model_id": "f17befed66fb4eecb48882e1f1e06671",
       "version_major": 2,
       "version_minor": 0
      },
      "text/plain": [
       "  0%|          | 0/79 [00:00<?, ?it/s]"
      ]
     },
     "metadata": {},
     "output_type": "display_data"
    },
    {
     "name": "stdout",
     "output_type": "stream",
     "text": [
      "Val Perf after 2 epochs Acc@1 0.4416\n",
      "=> Caching mask state for model.0\n",
      "=> Caching mask state for model.2\n",
      "=> Caching mask state for model.4\n",
      "\n",
      "=> Setting learned tasks of model.0 to 33\n",
      "=> Setting learned tasks of model.2 to 33\n",
      "=> Setting learned tasks of model.4 to 33\n",
      "\n",
      "Training for task 33\n",
      "=> Set task of model.0 to 33\n",
      "=> Set task of model.2 to 33\n",
      "=> Set task of model.4 to 33\n"
     ]
    },
    {
     "data": {
      "application/vnd.jupyter.widget-view+json": {
       "model_id": "cd6c152dff5147f8a9758a4231ec0565",
       "version_major": 2,
       "version_minor": 0
      },
      "text/plain": [
       "  0%|          | 0/469 [00:00<?, ?it/s]"
      ]
     },
     "metadata": {},
     "output_type": "display_data"
    },
    {
     "name": "stdout",
     "output_type": "stream",
     "text": [
      "Validation => Loss 2.2435, Acc@1 0.2640\n",
      "============\n"
     ]
    },
    {
     "data": {
      "application/vnd.jupyter.widget-view+json": {
       "model_id": "3a50817c0f4341a18f6f44759fdaf827",
       "version_major": 2,
       "version_minor": 0
      },
      "text/plain": [
       "  0%|          | 0/79 [00:00<?, ?it/s]"
      ]
     },
     "metadata": {},
     "output_type": "display_data"
    },
    {
     "name": "stdout",
     "output_type": "stream",
     "text": [
      "Val Perf after 1 epochs Acc@1 0.3651\n"
     ]
    },
    {
     "data": {
      "application/vnd.jupyter.widget-view+json": {
       "model_id": "0fc79445caeb452b920c87e6eaaf905d",
       "version_major": 2,
       "version_minor": 0
      },
      "text/plain": [
       "  0%|          | 0/469 [00:00<?, ?it/s]"
      ]
     },
     "metadata": {},
     "output_type": "display_data"
    },
    {
     "name": "stdout",
     "output_type": "stream",
     "text": [
      "Validation => Loss 1.9583, Acc@1 0.4131\n",
      "============\n"
     ]
    },
    {
     "data": {
      "application/vnd.jupyter.widget-view+json": {
       "model_id": "0c23e5dd66a645ffacc378e5ced8886b",
       "version_major": 2,
       "version_minor": 0
      },
      "text/plain": [
       "  0%|          | 0/79 [00:00<?, ?it/s]"
      ]
     },
     "metadata": {},
     "output_type": "display_data"
    },
    {
     "name": "stdout",
     "output_type": "stream",
     "text": [
      "Val Perf after 2 epochs Acc@1 0.4518\n",
      "=> Caching mask state for model.0\n",
      "=> Caching mask state for model.2\n",
      "=> Caching mask state for model.4\n",
      "\n",
      "=> Setting learned tasks of model.0 to 34\n",
      "=> Setting learned tasks of model.2 to 34\n",
      "=> Setting learned tasks of model.4 to 34\n",
      "\n",
      "Training for task 34\n",
      "=> Set task of model.0 to 34\n",
      "=> Set task of model.2 to 34\n",
      "=> Set task of model.4 to 34\n"
     ]
    },
    {
     "data": {
      "application/vnd.jupyter.widget-view+json": {
       "model_id": "abda90d5ea2741e0878b3990541d0d6c",
       "version_major": 2,
       "version_minor": 0
      },
      "text/plain": [
       "  0%|          | 0/469 [00:00<?, ?it/s]"
      ]
     },
     "metadata": {},
     "output_type": "display_data"
    },
    {
     "name": "stdout",
     "output_type": "stream",
     "text": [
      "Validation => Loss 2.4046, Acc@1 0.2601\n",
      "============\n"
     ]
    },
    {
     "data": {
      "application/vnd.jupyter.widget-view+json": {
       "model_id": "5ce50ef30c69497fb87c684192114f77",
       "version_major": 2,
       "version_minor": 0
      },
      "text/plain": [
       "  0%|          | 0/79 [00:00<?, ?it/s]"
      ]
     },
     "metadata": {},
     "output_type": "display_data"
    },
    {
     "name": "stdout",
     "output_type": "stream",
     "text": [
      "Val Perf after 1 epochs Acc@1 0.3572\n"
     ]
    },
    {
     "data": {
      "application/vnd.jupyter.widget-view+json": {
       "model_id": "0de8571514584d2284c220ad575d478a",
       "version_major": 2,
       "version_minor": 0
      },
      "text/plain": [
       "  0%|          | 0/469 [00:00<?, ?it/s]"
      ]
     },
     "metadata": {},
     "output_type": "display_data"
    },
    {
     "name": "stdout",
     "output_type": "stream",
     "text": [
      "Validation => Loss 2.0925, Acc@1 0.3900\n",
      "============\n"
     ]
    },
    {
     "data": {
      "application/vnd.jupyter.widget-view+json": {
       "model_id": "a4e884b731bb4eb0aaf41768c1d84ae6",
       "version_major": 2,
       "version_minor": 0
      },
      "text/plain": [
       "  0%|          | 0/79 [00:00<?, ?it/s]"
      ]
     },
     "metadata": {},
     "output_type": "display_data"
    },
    {
     "name": "stdout",
     "output_type": "stream",
     "text": [
      "Val Perf after 2 epochs Acc@1 0.3983\n",
      "=> Caching mask state for model.0\n",
      "=> Caching mask state for model.2\n",
      "=> Caching mask state for model.4\n",
      "\n",
      "=> Setting learned tasks of model.0 to 35\n",
      "=> Setting learned tasks of model.2 to 35\n",
      "=> Setting learned tasks of model.4 to 35\n",
      "\n",
      "Training for task 35\n",
      "=> Set task of model.0 to 35\n",
      "=> Set task of model.2 to 35\n",
      "=> Set task of model.4 to 35\n"
     ]
    },
    {
     "data": {
      "application/vnd.jupyter.widget-view+json": {
       "model_id": "e996cc70d5a34b25acacae92696445f3",
       "version_major": 2,
       "version_minor": 0
      },
      "text/plain": [
       "  0%|          | 0/469 [00:00<?, ?it/s]"
      ]
     },
     "metadata": {},
     "output_type": "display_data"
    },
    {
     "name": "stdout",
     "output_type": "stream",
     "text": [
      "Validation => Loss 2.2641, Acc@1 0.2682\n",
      "============\n"
     ]
    },
    {
     "data": {
      "application/vnd.jupyter.widget-view+json": {
       "model_id": "27caa24ffb5e4bb79b105937d7c9fc5f",
       "version_major": 2,
       "version_minor": 0
      },
      "text/plain": [
       "  0%|          | 0/79 [00:00<?, ?it/s]"
      ]
     },
     "metadata": {},
     "output_type": "display_data"
    },
    {
     "name": "stdout",
     "output_type": "stream",
     "text": [
      "Val Perf after 1 epochs Acc@1 0.3566\n"
     ]
    },
    {
     "data": {
      "application/vnd.jupyter.widget-view+json": {
       "model_id": "4ec7921c5b1748b8b8e7cb0b41dd8e67",
       "version_major": 2,
       "version_minor": 0
      },
      "text/plain": [
       "  0%|          | 0/469 [00:00<?, ?it/s]"
      ]
     },
     "metadata": {},
     "output_type": "display_data"
    },
    {
     "name": "stdout",
     "output_type": "stream",
     "text": [
      "Validation => Loss 2.1285, Acc@1 0.3779\n",
      "============\n"
     ]
    },
    {
     "data": {
      "application/vnd.jupyter.widget-view+json": {
       "model_id": "68ae3efb694645fba532492098837fa4",
       "version_major": 2,
       "version_minor": 0
      },
      "text/plain": [
       "  0%|          | 0/79 [00:00<?, ?it/s]"
      ]
     },
     "metadata": {},
     "output_type": "display_data"
    },
    {
     "name": "stdout",
     "output_type": "stream",
     "text": [
      "Val Perf after 2 epochs Acc@1 0.4406\n",
      "=> Caching mask state for model.0\n",
      "=> Caching mask state for model.2\n",
      "=> Caching mask state for model.4\n",
      "\n",
      "=> Setting learned tasks of model.0 to 36\n",
      "=> Setting learned tasks of model.2 to 36\n",
      "=> Setting learned tasks of model.4 to 36\n",
      "\n",
      "Training for task 36\n",
      "=> Set task of model.0 to 36\n",
      "=> Set task of model.2 to 36\n",
      "=> Set task of model.4 to 36\n"
     ]
    },
    {
     "data": {
      "application/vnd.jupyter.widget-view+json": {
       "model_id": "71e71bc42d2943df9fdebc1398e51983",
       "version_major": 2,
       "version_minor": 0
      },
      "text/plain": [
       "  0%|          | 0/469 [00:00<?, ?it/s]"
      ]
     },
     "metadata": {},
     "output_type": "display_data"
    },
    {
     "name": "stdout",
     "output_type": "stream",
     "text": [
      "Validation => Loss 2.7068, Acc@1 0.2135\n",
      "============\n"
     ]
    },
    {
     "data": {
      "application/vnd.jupyter.widget-view+json": {
       "model_id": "b05b5f0df28c44c8ab35ff9169100938",
       "version_major": 2,
       "version_minor": 0
      },
      "text/plain": [
       "  0%|          | 0/79 [00:00<?, ?it/s]"
      ]
     },
     "metadata": {},
     "output_type": "display_data"
    },
    {
     "name": "stdout",
     "output_type": "stream",
     "text": [
      "Val Perf after 1 epochs Acc@1 0.2959\n"
     ]
    },
    {
     "data": {
      "application/vnd.jupyter.widget-view+json": {
       "model_id": "8fb096d3f2c5448490e0eb57291300cb",
       "version_major": 2,
       "version_minor": 0
      },
      "text/plain": [
       "  0%|          | 0/469 [00:00<?, ?it/s]"
      ]
     },
     "metadata": {},
     "output_type": "display_data"
    },
    {
     "name": "stdout",
     "output_type": "stream",
     "text": [
      "Validation => Loss 2.0305, Acc@1 0.3743\n",
      "============\n"
     ]
    },
    {
     "data": {
      "application/vnd.jupyter.widget-view+json": {
       "model_id": "719b515b4b8140b9b3a152fc900d70ba",
       "version_major": 2,
       "version_minor": 0
      },
      "text/plain": [
       "  0%|          | 0/79 [00:00<?, ?it/s]"
      ]
     },
     "metadata": {},
     "output_type": "display_data"
    },
    {
     "name": "stdout",
     "output_type": "stream",
     "text": [
      "Val Perf after 2 epochs Acc@1 0.4531\n",
      "=> Caching mask state for model.0\n",
      "=> Caching mask state for model.2\n",
      "=> Caching mask state for model.4\n",
      "\n",
      "=> Setting learned tasks of model.0 to 37\n",
      "=> Setting learned tasks of model.2 to 37\n",
      "=> Setting learned tasks of model.4 to 37\n",
      "\n",
      "Training for task 37\n",
      "=> Set task of model.0 to 37\n",
      "=> Set task of model.2 to 37\n",
      "=> Set task of model.4 to 37\n"
     ]
    },
    {
     "data": {
      "application/vnd.jupyter.widget-view+json": {
       "model_id": "0431501d621c4174891a5b49cc5116c4",
       "version_major": 2,
       "version_minor": 0
      },
      "text/plain": [
       "  0%|          | 0/469 [00:00<?, ?it/s]"
      ]
     },
     "metadata": {},
     "output_type": "display_data"
    },
    {
     "name": "stdout",
     "output_type": "stream",
     "text": [
      "Validation => Loss 2.3022, Acc@1 0.2689\n",
      "============\n"
     ]
    },
    {
     "data": {
      "application/vnd.jupyter.widget-view+json": {
       "model_id": "7c965b6a9a9040458742e4914adedde9",
       "version_major": 2,
       "version_minor": 0
      },
      "text/plain": [
       "  0%|          | 0/79 [00:00<?, ?it/s]"
      ]
     },
     "metadata": {},
     "output_type": "display_data"
    },
    {
     "name": "stdout",
     "output_type": "stream",
     "text": [
      "Val Perf after 1 epochs Acc@1 0.3610\n"
     ]
    },
    {
     "data": {
      "application/vnd.jupyter.widget-view+json": {
       "model_id": "1e60182d46164e8eb712424d7ff8a0c6",
       "version_major": 2,
       "version_minor": 0
      },
      "text/plain": [
       "  0%|          | 0/469 [00:00<?, ?it/s]"
      ]
     },
     "metadata": {},
     "output_type": "display_data"
    },
    {
     "name": "stdout",
     "output_type": "stream",
     "text": [
      "Validation => Loss 2.1937, Acc@1 0.3870\n",
      "============\n"
     ]
    },
    {
     "data": {
      "application/vnd.jupyter.widget-view+json": {
       "model_id": "59711b9291ce4eb6ba1480ecfa9cdbe7",
       "version_major": 2,
       "version_minor": 0
      },
      "text/plain": [
       "  0%|          | 0/79 [00:00<?, ?it/s]"
      ]
     },
     "metadata": {},
     "output_type": "display_data"
    },
    {
     "name": "stdout",
     "output_type": "stream",
     "text": [
      "Val Perf after 2 epochs Acc@1 0.4474\n",
      "=> Caching mask state for model.0\n",
      "=> Caching mask state for model.2\n",
      "=> Caching mask state for model.4\n",
      "\n",
      "=> Setting learned tasks of model.0 to 38\n",
      "=> Setting learned tasks of model.2 to 38\n",
      "=> Setting learned tasks of model.4 to 38\n",
      "\n",
      "Training for task 38\n",
      "=> Set task of model.0 to 38\n",
      "=> Set task of model.2 to 38\n",
      "=> Set task of model.4 to 38\n"
     ]
    },
    {
     "data": {
      "application/vnd.jupyter.widget-view+json": {
       "model_id": "7cca5481effd4b779297c5848c45e92e",
       "version_major": 2,
       "version_minor": 0
      },
      "text/plain": [
       "  0%|          | 0/469 [00:00<?, ?it/s]"
      ]
     },
     "metadata": {},
     "output_type": "display_data"
    },
    {
     "name": "stdout",
     "output_type": "stream",
     "text": [
      "Validation => Loss 2.3533, Acc@1 0.2318\n",
      "============\n"
     ]
    },
    {
     "data": {
      "application/vnd.jupyter.widget-view+json": {
       "model_id": "5c671ab479b4405d861179b06adfcade",
       "version_major": 2,
       "version_minor": 0
      },
      "text/plain": [
       "  0%|          | 0/79 [00:00<?, ?it/s]"
      ]
     },
     "metadata": {},
     "output_type": "display_data"
    },
    {
     "name": "stdout",
     "output_type": "stream",
     "text": [
      "Val Perf after 1 epochs Acc@1 0.3427\n"
     ]
    },
    {
     "data": {
      "application/vnd.jupyter.widget-view+json": {
       "model_id": "4de1571f33564e1aae1101417bee6ba8",
       "version_major": 2,
       "version_minor": 0
      },
      "text/plain": [
       "  0%|          | 0/469 [00:00<?, ?it/s]"
      ]
     },
     "metadata": {},
     "output_type": "display_data"
    },
    {
     "name": "stdout",
     "output_type": "stream",
     "text": [
      "Validation => Loss 1.8881, Acc@1 0.3906\n",
      "============\n"
     ]
    },
    {
     "data": {
      "application/vnd.jupyter.widget-view+json": {
       "model_id": "f0f38cd85179445a85d0ce3f36330bc8",
       "version_major": 2,
       "version_minor": 0
      },
      "text/plain": [
       "  0%|          | 0/79 [00:00<?, ?it/s]"
      ]
     },
     "metadata": {},
     "output_type": "display_data"
    },
    {
     "name": "stdout",
     "output_type": "stream",
     "text": [
      "Val Perf after 2 epochs Acc@1 0.4239\n",
      "=> Caching mask state for model.0\n",
      "=> Caching mask state for model.2\n",
      "=> Caching mask state for model.4\n",
      "\n",
      "=> Setting learned tasks of model.0 to 39\n",
      "=> Setting learned tasks of model.2 to 39\n",
      "=> Setting learned tasks of model.4 to 39\n",
      "\n",
      "Training for task 39\n",
      "=> Set task of model.0 to 39\n",
      "=> Set task of model.2 to 39\n",
      "=> Set task of model.4 to 39\n"
     ]
    },
    {
     "data": {
      "application/vnd.jupyter.widget-view+json": {
       "model_id": "ec49e1643d954cc8be2562cb6b329cb4",
       "version_major": 2,
       "version_minor": 0
      },
      "text/plain": [
       "  0%|          | 0/469 [00:00<?, ?it/s]"
      ]
     },
     "metadata": {},
     "output_type": "display_data"
    },
    {
     "name": "stdout",
     "output_type": "stream",
     "text": [
      "Validation => Loss 2.4511, Acc@1 0.2357\n",
      "============\n"
     ]
    },
    {
     "data": {
      "application/vnd.jupyter.widget-view+json": {
       "model_id": "d864f33f2cf7475ca39f87b3d321b220",
       "version_major": 2,
       "version_minor": 0
      },
      "text/plain": [
       "  0%|          | 0/79 [00:00<?, ?it/s]"
      ]
     },
     "metadata": {},
     "output_type": "display_data"
    },
    {
     "name": "stdout",
     "output_type": "stream",
     "text": [
      "Val Perf after 1 epochs Acc@1 0.3338\n"
     ]
    },
    {
     "data": {
      "application/vnd.jupyter.widget-view+json": {
       "model_id": "50ab648354fb4a298466f823f2eb8f8e",
       "version_major": 2,
       "version_minor": 0
      },
      "text/plain": [
       "  0%|          | 0/469 [00:00<?, ?it/s]"
      ]
     },
     "metadata": {},
     "output_type": "display_data"
    },
    {
     "name": "stdout",
     "output_type": "stream",
     "text": [
      "Validation => Loss 1.9118, Acc@1 0.3812\n",
      "============\n"
     ]
    },
    {
     "data": {
      "application/vnd.jupyter.widget-view+json": {
       "model_id": "eb0e531fa30a449884a76e06f134469e",
       "version_major": 2,
       "version_minor": 0
      },
      "text/plain": [
       "  0%|          | 0/79 [00:00<?, ?it/s]"
      ]
     },
     "metadata": {},
     "output_type": "display_data"
    },
    {
     "name": "stdout",
     "output_type": "stream",
     "text": [
      "Val Perf after 2 epochs Acc@1 0.4386\n",
      "=> Caching mask state for model.0\n",
      "=> Caching mask state for model.2\n",
      "=> Caching mask state for model.4\n",
      "\n",
      "=> Setting learned tasks of model.0 to 40\n",
      "=> Setting learned tasks of model.2 to 40\n",
      "=> Setting learned tasks of model.4 to 40\n",
      "\n",
      "Training for task 40\n",
      "=> Set task of model.0 to 40\n",
      "=> Set task of model.2 to 40\n",
      "=> Set task of model.4 to 40\n"
     ]
    },
    {
     "data": {
      "application/vnd.jupyter.widget-view+json": {
       "model_id": "766e3e2ce955419fba56ee4fabf5e758",
       "version_major": 2,
       "version_minor": 0
      },
      "text/plain": [
       "  0%|          | 0/469 [00:00<?, ?it/s]"
      ]
     },
     "metadata": {},
     "output_type": "display_data"
    },
    {
     "name": "stdout",
     "output_type": "stream",
     "text": [
      "Validation => Loss 2.1661, Acc@1 0.2669\n",
      "============\n"
     ]
    },
    {
     "data": {
      "application/vnd.jupyter.widget-view+json": {
       "model_id": "13543607d24d4a68bc64fb1fb59743f1",
       "version_major": 2,
       "version_minor": 0
      },
      "text/plain": [
       "  0%|          | 0/79 [00:00<?, ?it/s]"
      ]
     },
     "metadata": {},
     "output_type": "display_data"
    },
    {
     "name": "stdout",
     "output_type": "stream",
     "text": [
      "Val Perf after 1 epochs Acc@1 0.3439\n"
     ]
    },
    {
     "data": {
      "application/vnd.jupyter.widget-view+json": {
       "model_id": "40112954e1534d7fa2fdf4c265e97794",
       "version_major": 2,
       "version_minor": 0
      },
      "text/plain": [
       "  0%|          | 0/469 [00:00<?, ?it/s]"
      ]
     },
     "metadata": {},
     "output_type": "display_data"
    },
    {
     "name": "stdout",
     "output_type": "stream",
     "text": [
      "Validation => Loss 1.7186, Acc@1 0.4284\n",
      "============\n"
     ]
    },
    {
     "data": {
      "application/vnd.jupyter.widget-view+json": {
       "model_id": "e55686568334455ca54d1d8ba3f9a219",
       "version_major": 2,
       "version_minor": 0
      },
      "text/plain": [
       "  0%|          | 0/79 [00:00<?, ?it/s]"
      ]
     },
     "metadata": {},
     "output_type": "display_data"
    },
    {
     "name": "stdout",
     "output_type": "stream",
     "text": [
      "Val Perf after 2 epochs Acc@1 0.4938\n",
      "=> Caching mask state for model.0\n",
      "=> Caching mask state for model.2\n",
      "=> Caching mask state for model.4\n",
      "\n",
      "=> Setting learned tasks of model.0 to 41\n",
      "=> Setting learned tasks of model.2 to 41\n",
      "=> Setting learned tasks of model.4 to 41\n",
      "\n",
      "Training for task 41\n",
      "=> Set task of model.0 to 41\n",
      "=> Set task of model.2 to 41\n",
      "=> Set task of model.4 to 41\n"
     ]
    },
    {
     "data": {
      "application/vnd.jupyter.widget-view+json": {
       "model_id": "2c0ba13b0e49413eb01141ba842f65e9",
       "version_major": 2,
       "version_minor": 0
      },
      "text/plain": [
       "  0%|          | 0/469 [00:00<?, ?it/s]"
      ]
     },
     "metadata": {},
     "output_type": "display_data"
    },
    {
     "name": "stdout",
     "output_type": "stream",
     "text": [
      "Validation => Loss 2.4715, Acc@1 0.2253\n",
      "============\n"
     ]
    },
    {
     "data": {
      "application/vnd.jupyter.widget-view+json": {
       "model_id": "13f857d0bdbe42d0a5c018dd6a2bdb14",
       "version_major": 2,
       "version_minor": 0
      },
      "text/plain": [
       "  0%|          | 0/79 [00:00<?, ?it/s]"
      ]
     },
     "metadata": {},
     "output_type": "display_data"
    },
    {
     "name": "stdout",
     "output_type": "stream",
     "text": [
      "Val Perf after 1 epochs Acc@1 0.3250\n"
     ]
    },
    {
     "data": {
      "application/vnd.jupyter.widget-view+json": {
       "model_id": "1d305e1568c64fb78525f965e938ccd8",
       "version_major": 2,
       "version_minor": 0
      },
      "text/plain": [
       "  0%|          | 0/469 [00:00<?, ?it/s]"
      ]
     },
     "metadata": {},
     "output_type": "display_data"
    },
    {
     "name": "stdout",
     "output_type": "stream",
     "text": [
      "Validation => Loss 1.9654, Acc@1 0.3512\n",
      "============\n"
     ]
    },
    {
     "data": {
      "application/vnd.jupyter.widget-view+json": {
       "model_id": "f04dac4ce67249ebae0c988e82ea8a7f",
       "version_major": 2,
       "version_minor": 0
      },
      "text/plain": [
       "  0%|          | 0/79 [00:00<?, ?it/s]"
      ]
     },
     "metadata": {},
     "output_type": "display_data"
    },
    {
     "name": "stdout",
     "output_type": "stream",
     "text": [
      "Val Perf after 2 epochs Acc@1 0.4052\n",
      "=> Caching mask state for model.0\n",
      "=> Caching mask state for model.2\n",
      "=> Caching mask state for model.4\n",
      "\n",
      "=> Setting learned tasks of model.0 to 42\n",
      "=> Setting learned tasks of model.2 to 42\n",
      "=> Setting learned tasks of model.4 to 42\n",
      "\n",
      "Training for task 42\n",
      "=> Set task of model.0 to 42\n",
      "=> Set task of model.2 to 42\n",
      "=> Set task of model.4 to 42\n"
     ]
    },
    {
     "data": {
      "application/vnd.jupyter.widget-view+json": {
       "model_id": "e566b4e2956f40798ab9e595e7e49294",
       "version_major": 2,
       "version_minor": 0
      },
      "text/plain": [
       "  0%|          | 0/469 [00:00<?, ?it/s]"
      ]
     },
     "metadata": {},
     "output_type": "display_data"
    },
    {
     "name": "stdout",
     "output_type": "stream",
     "text": [
      "Validation => Loss 2.3716, Acc@1 0.2607\n",
      "============\n"
     ]
    },
    {
     "data": {
      "application/vnd.jupyter.widget-view+json": {
       "model_id": "4b2d2e4146a1486596f7a19665fbd5d7",
       "version_major": 2,
       "version_minor": 0
      },
      "text/plain": [
       "  0%|          | 0/79 [00:00<?, ?it/s]"
      ]
     },
     "metadata": {},
     "output_type": "display_data"
    },
    {
     "name": "stdout",
     "output_type": "stream",
     "text": [
      "Val Perf after 1 epochs Acc@1 0.3582\n"
     ]
    },
    {
     "data": {
      "application/vnd.jupyter.widget-view+json": {
       "model_id": "824c5f554e0644ddb13a07b198e7a115",
       "version_major": 2,
       "version_minor": 0
      },
      "text/plain": [
       "  0%|          | 0/469 [00:00<?, ?it/s]"
      ]
     },
     "metadata": {},
     "output_type": "display_data"
    },
    {
     "name": "stdout",
     "output_type": "stream",
     "text": [
      "Validation => Loss 1.9665, Acc@1 0.4163\n",
      "============\n"
     ]
    },
    {
     "data": {
      "application/vnd.jupyter.widget-view+json": {
       "model_id": "d1836d4ab8f941b1946c932df6defe53",
       "version_major": 2,
       "version_minor": 0
      },
      "text/plain": [
       "  0%|          | 0/79 [00:00<?, ?it/s]"
      ]
     },
     "metadata": {},
     "output_type": "display_data"
    },
    {
     "name": "stdout",
     "output_type": "stream",
     "text": [
      "Val Perf after 2 epochs Acc@1 0.4701\n",
      "=> Caching mask state for model.0\n",
      "=> Caching mask state for model.2\n",
      "=> Caching mask state for model.4\n",
      "\n",
      "=> Setting learned tasks of model.0 to 43\n",
      "=> Setting learned tasks of model.2 to 43\n",
      "=> Setting learned tasks of model.4 to 43\n",
      "\n",
      "Training for task 43\n",
      "=> Set task of model.0 to 43\n",
      "=> Set task of model.2 to 43\n",
      "=> Set task of model.4 to 43\n"
     ]
    },
    {
     "data": {
      "application/vnd.jupyter.widget-view+json": {
       "model_id": "34c9c6def3404851980c5757c8fe0e14",
       "version_major": 2,
       "version_minor": 0
      },
      "text/plain": [
       "  0%|          | 0/469 [00:00<?, ?it/s]"
      ]
     },
     "metadata": {},
     "output_type": "display_data"
    },
    {
     "name": "stdout",
     "output_type": "stream",
     "text": [
      "Validation => Loss 2.1066, Acc@1 0.2194\n",
      "============\n"
     ]
    },
    {
     "data": {
      "application/vnd.jupyter.widget-view+json": {
       "model_id": "bc4f9b323a1a49709bcfe0492cde2808",
       "version_major": 2,
       "version_minor": 0
      },
      "text/plain": [
       "  0%|          | 0/79 [00:00<?, ?it/s]"
      ]
     },
     "metadata": {},
     "output_type": "display_data"
    },
    {
     "name": "stdout",
     "output_type": "stream",
     "text": [
      "Val Perf after 1 epochs Acc@1 0.3385\n"
     ]
    },
    {
     "data": {
      "application/vnd.jupyter.widget-view+json": {
       "model_id": "440fb405930948b6963949490e235067",
       "version_major": 2,
       "version_minor": 0
      },
      "text/plain": [
       "  0%|          | 0/469 [00:00<?, ?it/s]"
      ]
     },
     "metadata": {},
     "output_type": "display_data"
    },
    {
     "name": "stdout",
     "output_type": "stream",
     "text": [
      "Validation => Loss 1.7115, Acc@1 0.4105\n",
      "============\n"
     ]
    },
    {
     "data": {
      "application/vnd.jupyter.widget-view+json": {
       "model_id": "b2c09589611c4855bdc50bb81cda96ef",
       "version_major": 2,
       "version_minor": 0
      },
      "text/plain": [
       "  0%|          | 0/79 [00:00<?, ?it/s]"
      ]
     },
     "metadata": {},
     "output_type": "display_data"
    },
    {
     "name": "stdout",
     "output_type": "stream",
     "text": [
      "Val Perf after 2 epochs Acc@1 0.4701\n",
      "=> Caching mask state for model.0\n",
      "=> Caching mask state for model.2\n",
      "=> Caching mask state for model.4\n",
      "\n",
      "=> Setting learned tasks of model.0 to 44\n",
      "=> Setting learned tasks of model.2 to 44\n",
      "=> Setting learned tasks of model.4 to 44\n",
      "\n",
      "Training for task 44\n",
      "=> Set task of model.0 to 44\n",
      "=> Set task of model.2 to 44\n",
      "=> Set task of model.4 to 44\n"
     ]
    },
    {
     "data": {
      "application/vnd.jupyter.widget-view+json": {
       "model_id": "f40b6a0439e4447386bdc308a6c84a3d",
       "version_major": 2,
       "version_minor": 0
      },
      "text/plain": [
       "  0%|          | 0/469 [00:00<?, ?it/s]"
      ]
     },
     "metadata": {},
     "output_type": "display_data"
    },
    {
     "name": "stdout",
     "output_type": "stream",
     "text": [
      "Validation => Loss 2.3469, Acc@1 0.2646\n",
      "============\n"
     ]
    },
    {
     "data": {
      "application/vnd.jupyter.widget-view+json": {
       "model_id": "e8adb90e2180492e9684d66ffc44f79c",
       "version_major": 2,
       "version_minor": 0
      },
      "text/plain": [
       "  0%|          | 0/79 [00:00<?, ?it/s]"
      ]
     },
     "metadata": {},
     "output_type": "display_data"
    },
    {
     "name": "stdout",
     "output_type": "stream",
     "text": [
      "Val Perf after 1 epochs Acc@1 0.3904\n"
     ]
    },
    {
     "data": {
      "application/vnd.jupyter.widget-view+json": {
       "model_id": "8ff4cffefa4d49398361797f575f59dd",
       "version_major": 2,
       "version_minor": 0
      },
      "text/plain": [
       "  0%|          | 0/469 [00:00<?, ?it/s]"
      ]
     },
     "metadata": {},
     "output_type": "display_data"
    },
    {
     "name": "stdout",
     "output_type": "stream",
     "text": [
      "Validation => Loss 1.7400, Acc@1 0.4469\n",
      "============\n"
     ]
    },
    {
     "data": {
      "application/vnd.jupyter.widget-view+json": {
       "model_id": "a235d3af9d57467f808c349ac4b9f393",
       "version_major": 2,
       "version_minor": 0
      },
      "text/plain": [
       "  0%|          | 0/79 [00:00<?, ?it/s]"
      ]
     },
     "metadata": {},
     "output_type": "display_data"
    },
    {
     "name": "stdout",
     "output_type": "stream",
     "text": [
      "Val Perf after 2 epochs Acc@1 0.4976\n",
      "=> Caching mask state for model.0\n",
      "=> Caching mask state for model.2\n",
      "=> Caching mask state for model.4\n",
      "\n",
      "=> Setting learned tasks of model.0 to 45\n",
      "=> Setting learned tasks of model.2 to 45\n",
      "=> Setting learned tasks of model.4 to 45\n",
      "\n",
      "Training for task 45\n",
      "=> Set task of model.0 to 45\n",
      "=> Set task of model.2 to 45\n",
      "=> Set task of model.4 to 45\n"
     ]
    },
    {
     "data": {
      "application/vnd.jupyter.widget-view+json": {
       "model_id": "53bf446ae3674b7eb7d40160a33c4da3",
       "version_major": 2,
       "version_minor": 0
      },
      "text/plain": [
       "  0%|          | 0/469 [00:00<?, ?it/s]"
      ]
     },
     "metadata": {},
     "output_type": "display_data"
    },
    {
     "name": "stdout",
     "output_type": "stream",
     "text": [
      "Validation => Loss 2.7321, Acc@1 0.1992\n",
      "============\n"
     ]
    },
    {
     "data": {
      "application/vnd.jupyter.widget-view+json": {
       "model_id": "66fa65c21e5b4661a27d214264873371",
       "version_major": 2,
       "version_minor": 0
      },
      "text/plain": [
       "  0%|          | 0/79 [00:00<?, ?it/s]"
      ]
     },
     "metadata": {},
     "output_type": "display_data"
    },
    {
     "name": "stdout",
     "output_type": "stream",
     "text": [
      "Val Perf after 1 epochs Acc@1 0.3067\n"
     ]
    },
    {
     "data": {
      "application/vnd.jupyter.widget-view+json": {
       "model_id": "4977d8c00332406f9fe4e6495d895499",
       "version_major": 2,
       "version_minor": 0
      },
      "text/plain": [
       "  0%|          | 0/469 [00:00<?, ?it/s]"
      ]
     },
     "metadata": {},
     "output_type": "display_data"
    },
    {
     "name": "stdout",
     "output_type": "stream",
     "text": [
      "Validation => Loss 2.0412, Acc@1 0.3490\n",
      "============\n"
     ]
    },
    {
     "data": {
      "application/vnd.jupyter.widget-view+json": {
       "model_id": "d7e2aa8f437d45e6946f8bb19315c8a6",
       "version_major": 2,
       "version_minor": 0
      },
      "text/plain": [
       "  0%|          | 0/79 [00:00<?, ?it/s]"
      ]
     },
     "metadata": {},
     "output_type": "display_data"
    },
    {
     "name": "stdout",
     "output_type": "stream",
     "text": [
      "Val Perf after 2 epochs Acc@1 0.4105\n",
      "=> Caching mask state for model.0\n",
      "=> Caching mask state for model.2\n",
      "=> Caching mask state for model.4\n",
      "\n",
      "=> Setting learned tasks of model.0 to 46\n",
      "=> Setting learned tasks of model.2 to 46\n",
      "=> Setting learned tasks of model.4 to 46\n",
      "\n",
      "Training for task 46\n",
      "=> Set task of model.0 to 46\n",
      "=> Set task of model.2 to 46\n",
      "=> Set task of model.4 to 46\n"
     ]
    },
    {
     "data": {
      "application/vnd.jupyter.widget-view+json": {
       "model_id": "9d0301d37655444ebf63596d83e77d32",
       "version_major": 2,
       "version_minor": 0
      },
      "text/plain": [
       "  0%|          | 0/469 [00:00<?, ?it/s]"
      ]
     },
     "metadata": {},
     "output_type": "display_data"
    },
    {
     "name": "stdout",
     "output_type": "stream",
     "text": [
      "Validation => Loss 2.1310, Acc@1 0.2529\n",
      "============\n"
     ]
    },
    {
     "data": {
      "application/vnd.jupyter.widget-view+json": {
       "model_id": "b568a08160d546d3aca60005d5efd8a1",
       "version_major": 2,
       "version_minor": 0
      },
      "text/plain": [
       "  0%|          | 0/79 [00:00<?, ?it/s]"
      ]
     },
     "metadata": {},
     "output_type": "display_data"
    },
    {
     "name": "stdout",
     "output_type": "stream",
     "text": [
      "Val Perf after 1 epochs Acc@1 0.3724\n"
     ]
    },
    {
     "data": {
      "application/vnd.jupyter.widget-view+json": {
       "model_id": "39f01dc1c4f84a529966edb7526b72af",
       "version_major": 2,
       "version_minor": 0
      },
      "text/plain": [
       "  0%|          | 0/469 [00:00<?, ?it/s]"
      ]
     },
     "metadata": {},
     "output_type": "display_data"
    },
    {
     "name": "stdout",
     "output_type": "stream",
     "text": [
      "Validation => Loss 1.6993, Acc@1 0.4160\n",
      "============\n"
     ]
    },
    {
     "data": {
      "application/vnd.jupyter.widget-view+json": {
       "model_id": "132f78d3f53443a98de27ba73fd1cb3f",
       "version_major": 2,
       "version_minor": 0
      },
      "text/plain": [
       "  0%|          | 0/79 [00:00<?, ?it/s]"
      ]
     },
     "metadata": {},
     "output_type": "display_data"
    },
    {
     "name": "stdout",
     "output_type": "stream",
     "text": [
      "Val Perf after 2 epochs Acc@1 0.4434\n",
      "=> Caching mask state for model.0\n",
      "=> Caching mask state for model.2\n",
      "=> Caching mask state for model.4\n",
      "\n",
      "=> Setting learned tasks of model.0 to 47\n",
      "=> Setting learned tasks of model.2 to 47\n",
      "=> Setting learned tasks of model.4 to 47\n",
      "\n",
      "Training for task 47\n",
      "=> Set task of model.0 to 47\n",
      "=> Set task of model.2 to 47\n",
      "=> Set task of model.4 to 47\n"
     ]
    },
    {
     "data": {
      "application/vnd.jupyter.widget-view+json": {
       "model_id": "585840b0021240f0afc26764c9f8077c",
       "version_major": 2,
       "version_minor": 0
      },
      "text/plain": [
       "  0%|          | 0/469 [00:00<?, ?it/s]"
      ]
     },
     "metadata": {},
     "output_type": "display_data"
    },
    {
     "name": "stdout",
     "output_type": "stream",
     "text": [
      "Validation => Loss 2.2997, Acc@1 0.2422\n",
      "============\n"
     ]
    },
    {
     "data": {
      "application/vnd.jupyter.widget-view+json": {
       "model_id": "5e28991ae60a4990899808e24bc41284",
       "version_major": 2,
       "version_minor": 0
      },
      "text/plain": [
       "  0%|          | 0/79 [00:00<?, ?it/s]"
      ]
     },
     "metadata": {},
     "output_type": "display_data"
    },
    {
     "name": "stdout",
     "output_type": "stream",
     "text": [
      "Val Perf after 1 epochs Acc@1 0.3484\n"
     ]
    },
    {
     "data": {
      "application/vnd.jupyter.widget-view+json": {
       "model_id": "15066e1434ba4344bfbcc2f57e7f15e5",
       "version_major": 2,
       "version_minor": 0
      },
      "text/plain": [
       "  0%|          | 0/469 [00:00<?, ?it/s]"
      ]
     },
     "metadata": {},
     "output_type": "display_data"
    },
    {
     "name": "stdout",
     "output_type": "stream",
     "text": [
      "Validation => Loss 2.1371, Acc@1 0.3887\n",
      "============\n"
     ]
    },
    {
     "data": {
      "application/vnd.jupyter.widget-view+json": {
       "model_id": "aeec1b4b14004cef8e7e430880bd0092",
       "version_major": 2,
       "version_minor": 0
      },
      "text/plain": [
       "  0%|          | 0/79 [00:00<?, ?it/s]"
      ]
     },
     "metadata": {},
     "output_type": "display_data"
    },
    {
     "name": "stdout",
     "output_type": "stream",
     "text": [
      "Val Perf after 2 epochs Acc@1 0.4485\n",
      "=> Caching mask state for model.0\n",
      "=> Caching mask state for model.2\n",
      "=> Caching mask state for model.4\n",
      "\n",
      "=> Setting learned tasks of model.0 to 48\n",
      "=> Setting learned tasks of model.2 to 48\n",
      "=> Setting learned tasks of model.4 to 48\n",
      "\n",
      "Training for task 48\n",
      "=> Set task of model.0 to 48\n",
      "=> Set task of model.2 to 48\n",
      "=> Set task of model.4 to 48\n"
     ]
    },
    {
     "data": {
      "application/vnd.jupyter.widget-view+json": {
       "model_id": "708dda6d73cf4e3f809b8c1dbd2d2f04",
       "version_major": 2,
       "version_minor": 0
      },
      "text/plain": [
       "  0%|          | 0/469 [00:00<?, ?it/s]"
      ]
     },
     "metadata": {},
     "output_type": "display_data"
    },
    {
     "name": "stdout",
     "output_type": "stream",
     "text": [
      "Validation => Loss 2.1702, Acc@1 0.2601\n",
      "============\n"
     ]
    },
    {
     "data": {
      "application/vnd.jupyter.widget-view+json": {
       "model_id": "a9735fff024f474d925fc33ac9909e18",
       "version_major": 2,
       "version_minor": 0
      },
      "text/plain": [
       "  0%|          | 0/79 [00:00<?, ?it/s]"
      ]
     },
     "metadata": {},
     "output_type": "display_data"
    },
    {
     "name": "stdout",
     "output_type": "stream",
     "text": [
      "Val Perf after 1 epochs Acc@1 0.3473\n"
     ]
    },
    {
     "data": {
      "application/vnd.jupyter.widget-view+json": {
       "model_id": "d804d43afbac4ac9873c7c6dde66c4c7",
       "version_major": 2,
       "version_minor": 0
      },
      "text/plain": [
       "  0%|          | 0/469 [00:00<?, ?it/s]"
      ]
     },
     "metadata": {},
     "output_type": "display_data"
    },
    {
     "name": "stdout",
     "output_type": "stream",
     "text": [
      "Validation => Loss 2.1318, Acc@1 0.3802\n",
      "============\n"
     ]
    },
    {
     "data": {
      "application/vnd.jupyter.widget-view+json": {
       "model_id": "5f1b221fca6c463fa3b92a203241fccd",
       "version_major": 2,
       "version_minor": 0
      },
      "text/plain": [
       "  0%|          | 0/79 [00:00<?, ?it/s]"
      ]
     },
     "metadata": {},
     "output_type": "display_data"
    },
    {
     "name": "stdout",
     "output_type": "stream",
     "text": [
      "Val Perf after 2 epochs Acc@1 0.4441\n",
      "=> Caching mask state for model.0\n",
      "=> Caching mask state for model.2\n",
      "=> Caching mask state for model.4\n",
      "\n",
      "=> Setting learned tasks of model.0 to 49\n",
      "=> Setting learned tasks of model.2 to 49\n",
      "=> Setting learned tasks of model.4 to 49\n",
      "\n",
      "Training for task 49\n",
      "=> Set task of model.0 to 49\n",
      "=> Set task of model.2 to 49\n",
      "=> Set task of model.4 to 49\n"
     ]
    },
    {
     "data": {
      "application/vnd.jupyter.widget-view+json": {
       "model_id": "7a99fa44674f41a586eff9c37d8371b9",
       "version_major": 2,
       "version_minor": 0
      },
      "text/plain": [
       "  0%|          | 0/469 [00:00<?, ?it/s]"
      ]
     },
     "metadata": {},
     "output_type": "display_data"
    },
    {
     "name": "stdout",
     "output_type": "stream",
     "text": [
      "Validation => Loss 2.8852, Acc@1 0.2074\n",
      "============\n"
     ]
    },
    {
     "data": {
      "application/vnd.jupyter.widget-view+json": {
       "model_id": "11b6ef5d6f24416ab337bd1070bdf7a5",
       "version_major": 2,
       "version_minor": 0
      },
      "text/plain": [
       "  0%|          | 0/79 [00:00<?, ?it/s]"
      ]
     },
     "metadata": {},
     "output_type": "display_data"
    },
    {
     "name": "stdout",
     "output_type": "stream",
     "text": [
      "Val Perf after 1 epochs Acc@1 0.2877\n"
     ]
    },
    {
     "data": {
      "application/vnd.jupyter.widget-view+json": {
       "model_id": "0a46f3cb0f2b4ff18878598b63d1eea4",
       "version_major": 2,
       "version_minor": 0
      },
      "text/plain": [
       "  0%|          | 0/469 [00:00<?, ?it/s]"
      ]
     },
     "metadata": {},
     "output_type": "display_data"
    },
    {
     "name": "stdout",
     "output_type": "stream",
     "text": [
      "Validation => Loss 2.3573, Acc@1 0.3210\n",
      "============\n"
     ]
    },
    {
     "data": {
      "application/vnd.jupyter.widget-view+json": {
       "model_id": "4ced4ea018914d8d83f39d7c9ed881c6",
       "version_major": 2,
       "version_minor": 0
      },
      "text/plain": [
       "  0%|          | 0/79 [00:00<?, ?it/s]"
      ]
     },
     "metadata": {},
     "output_type": "display_data"
    },
    {
     "name": "stdout",
     "output_type": "stream",
     "text": [
      "Val Perf after 2 epochs Acc@1 0.3758\n",
      "=> Caching mask state for model.0\n",
      "=> Caching mask state for model.2\n",
      "=> Caching mask state for model.4\n",
      "\n",
      "=> Setting learned tasks of model.0 to 50\n",
      "=> Setting learned tasks of model.2 to 50\n",
      "=> Setting learned tasks of model.4 to 50\n",
      "\n"
     ]
    }
   ],
   "source": [
    "for task in range(0, num_tasks):\n",
    "    print(f\"Training for task {task}\")\n",
    "    set_model_task(basis_model_zeros, task)\n",
    "    mnist.update_task(task)\n",
    "\n",
    "    optimizer = optim.RMSprop([p for p in basis_model_zeros.parameters() if p.requires_grad], lr=1e-3)\n",
    "    # Train for 1 epoch\n",
    "    for e in range(2):\n",
    "        train(basis_model_zeros, mnist.train_loader, optimizer, e)\n",
    "        \n",
    "        print(\"Validation\")\n",
    "        print(\"============\")\n",
    "        acc1 = evaluate(basis_model_zeros, mnist.val_loader, e)\n",
    "        \n",
    "    \n",
    "    cache_masks(basis_model_zeros)\n",
    "    print()\n",
    "    set_num_tasks_learned(basis_model_zeros, task + 1)\n",
    "    print()"
   ]
  },
  {
   "cell_type": "code",
   "execution_count": 96,
   "metadata": {
    "scrolled": false
   },
   "outputs": [
    {
     "name": "stdout",
     "output_type": "stream",
     "text": [
      "Average top 1 performance: 0.4442\n",
      "Per task performance\n",
      "Task 0: 0.7368\n",
      "Task 1: 0.4151\n",
      "Task 2: 0.4784\n",
      "Task 3: 0.4355\n",
      "Task 4: 0.4009\n",
      "Task 5: 0.4539\n",
      "Task 6: 0.4617\n",
      "Task 7: 0.4837\n",
      "Task 8: 0.4303\n",
      "Task 9: 0.4440\n",
      "Task 10: 0.4875\n",
      "Task 11: 0.4595\n",
      "Task 12: 0.4698\n",
      "Task 13: 0.3818\n",
      "Task 14: 0.4741\n",
      "Task 15: 0.4464\n",
      "Task 16: 0.3961\n",
      "Task 17: 0.4242\n",
      "Task 18: 0.4421\n",
      "Task 19: 0.4175\n",
      "Task 20: 0.3809\n",
      "Task 21: 0.4604\n",
      "Task 22: 0.3377\n",
      "Task 23: 0.4300\n",
      "Task 24: 0.4404\n",
      "Task 25: 0.4103\n",
      "Task 26: 0.3929\n",
      "Task 27: 0.4968\n",
      "Task 28: 0.4113\n",
      "Task 29: 0.5109\n",
      "Task 30: 0.4432\n",
      "Task 31: 0.4013\n",
      "Task 32: 0.4416\n",
      "Task 33: 0.4518\n",
      "Task 34: 0.3983\n",
      "Task 35: 0.4406\n",
      "Task 36: 0.4531\n",
      "Task 37: 0.4474\n",
      "Task 38: 0.4239\n",
      "Task 39: 0.4386\n",
      "Task 40: 0.4938\n",
      "Task 41: 0.4052\n",
      "Task 42: 0.4701\n",
      "Task 43: 0.4701\n",
      "Task 44: 0.4976\n",
      "Task 45: 0.4105\n",
      "Task 46: 0.4434\n",
      "Task 47: 0.4485\n",
      "Task 48: 0.4441\n",
      "Task 49: 0.3758\n"
     ]
    }
   ],
   "source": [
    "# When task ID we can simply set the mask and evaluate\n",
    "\n",
    "gg_performance = []\n",
    "for task in range(num_tasks):\n",
    "    set_model_task(basis_model_zeros, task)\n",
    "    mnist.update_task(task)\n",
    "    acc1 = evaluate(basis_model_zeros, mnist.val_loader, 0)\n",
    "    gg_performance.append(acc1.item())\n",
    "\n",
    "clear_output()\n",
    "    \n",
    "print(f\"Average top 1 performance: {(sum(gg_performance) / len(gg_performance)):.4f}\")\n",
    "\n",
    "print(\"Per task performance\")\n",
    "for t in range(num_tasks):\n",
    "    print(f\"Task {t}: {gg_performance[t]:.4f}\")"
   ]
  },
  {
   "cell_type": "code",
   "execution_count": 97,
   "metadata": {},
   "outputs": [],
   "source": [
    "performance_map['basis_mnist_task_zero_only'] = gg_performance.copy()"
   ]
  },
  {
   "cell_type": "markdown",
   "metadata": {},
   "source": [
    "## Except Final Layer"
   ]
  },
  {
   "cell_type": "markdown",
   "metadata": {},
   "source": [
    "### Model Initialization (Only New Tasks)"
   ]
  },
  {
   "cell_type": "code",
   "execution_count": 98,
   "metadata": {},
   "outputs": [],
   "source": [
    "num_tasks = 50 # For demonstration purposes, we go up to 2500 in our paper\n",
    "num_seed_tasks_learned = 40\n",
    "basis_model_hid = BasisHiddenOnlyMultitaskFC(hidden_size=300, num_tasks=num_tasks, num_seed_tasks_learned=num_seed_tasks_learned, start_at_optimal=False, sparsity=0.25)"
   ]
  },
  {
   "cell_type": "code",
   "execution_count": 99,
   "metadata": {},
   "outputs": [
    {
     "name": "stdout",
     "output_type": "stream",
     "text": [
      "=> Caching mask state for model.0\n",
      "=> Caching mask state for model.2\n",
      "=> Caching mask state for model.4\n"
     ]
    }
   ],
   "source": [
    "seed_dict_hid = model.state_dict()\n",
    "basis_dict_hid = basis_model_hid.state_dict()\n",
    "load_dict_hid = {k: seed_dict_hid[k] for k in basis_model_hid.state_dict().keys() if k in seed_dict_hid.keys()}\n",
    "basis_dict_hid.update(load_dict_hid)\n",
    "basis_model_hid.load_state_dict(basis_dict_hid, False)\n",
    "cache_masks(basis_model_hid)"
   ]
  },
  {
   "cell_type": "code",
   "execution_count": 100,
   "metadata": {
    "scrolled": true
   },
   "outputs": [
    {
     "name": "stdout",
     "output_type": "stream",
     "text": [
      "Training for task 40\n",
      "=> Set task of model.0 to 40\n",
      "=> Set task of model.2 to 40\n",
      "=> Set task of model.4 to 40\n"
     ]
    },
    {
     "data": {
      "application/vnd.jupyter.widget-view+json": {
       "model_id": "cda8d50fd1034fd4ab54cbe5d51c6440",
       "version_major": 2,
       "version_minor": 0
      },
      "text/plain": [
       "  0%|          | 0/469 [00:00<?, ?it/s]"
      ]
     },
     "metadata": {},
     "output_type": "display_data"
    },
    {
     "name": "stdout",
     "output_type": "stream",
     "text": [
      "Validation => Loss 1.9281, Acc@1 0.2803\n",
      "============\n"
     ]
    },
    {
     "data": {
      "application/vnd.jupyter.widget-view+json": {
       "model_id": "754b176557c944698eb57605f24e8e82",
       "version_major": 2,
       "version_minor": 0
      },
      "text/plain": [
       "  0%|          | 0/79 [00:00<?, ?it/s]"
      ]
     },
     "metadata": {},
     "output_type": "display_data"
    },
    {
     "name": "stdout",
     "output_type": "stream",
     "text": [
      "Val Perf after 1 epochs Acc@1 0.4800\n"
     ]
    },
    {
     "data": {
      "application/vnd.jupyter.widget-view+json": {
       "model_id": "042c272090164afc9107ba9aa0881eef",
       "version_major": 2,
       "version_minor": 0
      },
      "text/plain": [
       "  0%|          | 0/469 [00:00<?, ?it/s]"
      ]
     },
     "metadata": {},
     "output_type": "display_data"
    },
    {
     "name": "stdout",
     "output_type": "stream",
     "text": [
      "Validation => Loss 1.3655, Acc@1 0.5576\n",
      "============\n"
     ]
    },
    {
     "data": {
      "application/vnd.jupyter.widget-view+json": {
       "model_id": "4ead9d05f1524ca9a65be304f27a349a",
       "version_major": 2,
       "version_minor": 0
      },
      "text/plain": [
       "  0%|          | 0/79 [00:00<?, ?it/s]"
      ]
     },
     "metadata": {},
     "output_type": "display_data"
    },
    {
     "name": "stdout",
     "output_type": "stream",
     "text": [
      "Val Perf after 2 epochs Acc@1 0.6253\n"
     ]
    },
    {
     "data": {
      "application/vnd.jupyter.widget-view+json": {
       "model_id": "fb776d7cbeee4c03aa995e24b65c55ac",
       "version_major": 2,
       "version_minor": 0
      },
      "text/plain": [
       "  0%|          | 0/469 [00:00<?, ?it/s]"
      ]
     },
     "metadata": {},
     "output_type": "display_data"
    },
    {
     "name": "stdout",
     "output_type": "stream",
     "text": [
      "Validation => Loss 1.2554, Acc@1 0.6315\n",
      "============\n"
     ]
    },
    {
     "data": {
      "application/vnd.jupyter.widget-view+json": {
       "model_id": "c7036a59706147cb87384a730957319d",
       "version_major": 2,
       "version_minor": 0
      },
      "text/plain": [
       "  0%|          | 0/79 [00:00<?, ?it/s]"
      ]
     },
     "metadata": {},
     "output_type": "display_data"
    },
    {
     "name": "stdout",
     "output_type": "stream",
     "text": [
      "Val Perf after 3 epochs Acc@1 0.6318\n",
      "=> Caching mask state for model.0\n",
      "=> Caching mask state for model.2\n",
      "=> Caching mask state for model.4\n",
      "\n",
      "=> Setting learned tasks of model.0 to 41\n",
      "=> Setting learned tasks of model.2 to 41\n",
      "=> Setting learned tasks of model.4 to 41\n",
      "\n",
      "Training for task 41\n",
      "=> Set task of model.0 to 41\n",
      "=> Set task of model.2 to 41\n",
      "=> Set task of model.4 to 41\n"
     ]
    },
    {
     "data": {
      "application/vnd.jupyter.widget-view+json": {
       "model_id": "507db8a9ac424285a71e8885e474c017",
       "version_major": 2,
       "version_minor": 0
      },
      "text/plain": [
       "  0%|          | 0/469 [00:00<?, ?it/s]"
      ]
     },
     "metadata": {},
     "output_type": "display_data"
    },
    {
     "name": "stdout",
     "output_type": "stream",
     "text": [
      "Validation => Loss 1.9140, Acc@1 0.3161\n",
      "============\n"
     ]
    },
    {
     "data": {
      "application/vnd.jupyter.widget-view+json": {
       "model_id": "3aee551670854bcfbfd06da6b5e1ca4b",
       "version_major": 2,
       "version_minor": 0
      },
      "text/plain": [
       "  0%|          | 0/79 [00:00<?, ?it/s]"
      ]
     },
     "metadata": {},
     "output_type": "display_data"
    },
    {
     "name": "stdout",
     "output_type": "stream",
     "text": [
      "Val Perf after 1 epochs Acc@1 0.5086\n"
     ]
    },
    {
     "data": {
      "application/vnd.jupyter.widget-view+json": {
       "model_id": "ef68db3ff1fb4d688018f2c5075f5d44",
       "version_major": 2,
       "version_minor": 0
      },
      "text/plain": [
       "  0%|          | 0/469 [00:00<?, ?it/s]"
      ]
     },
     "metadata": {},
     "output_type": "display_data"
    },
    {
     "name": "stdout",
     "output_type": "stream",
     "text": [
      "Validation => Loss 1.2596, Acc@1 0.5885\n",
      "============\n"
     ]
    },
    {
     "data": {
      "application/vnd.jupyter.widget-view+json": {
       "model_id": "e0e73a3530394856854e1aada814083c",
       "version_major": 2,
       "version_minor": 0
      },
      "text/plain": [
       "  0%|          | 0/79 [00:00<?, ?it/s]"
      ]
     },
     "metadata": {},
     "output_type": "display_data"
    },
    {
     "name": "stdout",
     "output_type": "stream",
     "text": [
      "Val Perf after 2 epochs Acc@1 0.6416\n"
     ]
    },
    {
     "data": {
      "application/vnd.jupyter.widget-view+json": {
       "model_id": "52751e5f6b274e88a27fc830688b67c0",
       "version_major": 2,
       "version_minor": 0
      },
      "text/plain": [
       "  0%|          | 0/469 [00:00<?, ?it/s]"
      ]
     },
     "metadata": {},
     "output_type": "display_data"
    },
    {
     "name": "stdout",
     "output_type": "stream",
     "text": [
      "Validation => Loss 1.2363, Acc@1 0.6230\n",
      "============\n"
     ]
    },
    {
     "data": {
      "application/vnd.jupyter.widget-view+json": {
       "model_id": "c5fcf280787e49a8898c95a81bc49f95",
       "version_major": 2,
       "version_minor": 0
      },
      "text/plain": [
       "  0%|          | 0/79 [00:00<?, ?it/s]"
      ]
     },
     "metadata": {},
     "output_type": "display_data"
    },
    {
     "name": "stdout",
     "output_type": "stream",
     "text": [
      "Val Perf after 3 epochs Acc@1 0.6002\n",
      "=> Caching mask state for model.0\n",
      "=> Caching mask state for model.2\n",
      "=> Caching mask state for model.4\n",
      "\n",
      "=> Setting learned tasks of model.0 to 42\n",
      "=> Setting learned tasks of model.2 to 42\n",
      "=> Setting learned tasks of model.4 to 42\n",
      "\n",
      "Training for task 42\n",
      "=> Set task of model.0 to 42\n",
      "=> Set task of model.2 to 42\n",
      "=> Set task of model.4 to 42\n"
     ]
    },
    {
     "data": {
      "application/vnd.jupyter.widget-view+json": {
       "model_id": "3d6b6503d6f04dfea7b1e331a784a981",
       "version_major": 2,
       "version_minor": 0
      },
      "text/plain": [
       "  0%|          | 0/469 [00:00<?, ?it/s]"
      ]
     },
     "metadata": {},
     "output_type": "display_data"
    },
    {
     "name": "stdout",
     "output_type": "stream",
     "text": [
      "Validation => Loss 1.9570, Acc@1 0.3001\n",
      "============\n"
     ]
    },
    {
     "data": {
      "application/vnd.jupyter.widget-view+json": {
       "model_id": "dfe653c3dcef4981be893d48aecca6e7",
       "version_major": 2,
       "version_minor": 0
      },
      "text/plain": [
       "  0%|          | 0/79 [00:00<?, ?it/s]"
      ]
     },
     "metadata": {},
     "output_type": "display_data"
    },
    {
     "name": "stdout",
     "output_type": "stream",
     "text": [
      "Val Perf after 1 epochs Acc@1 0.5048\n"
     ]
    },
    {
     "data": {
      "application/vnd.jupyter.widget-view+json": {
       "model_id": "bc108b3f4912482aa55c0b4a3124fea8",
       "version_major": 2,
       "version_minor": 0
      },
      "text/plain": [
       "  0%|          | 0/469 [00:00<?, ?it/s]"
      ]
     },
     "metadata": {},
     "output_type": "display_data"
    },
    {
     "name": "stdout",
     "output_type": "stream",
     "text": [
      "Validation => Loss 1.3541, Acc@1 0.6064\n",
      "============\n"
     ]
    },
    {
     "data": {
      "application/vnd.jupyter.widget-view+json": {
       "model_id": "24634b3c7beb4436ba4754009933c244",
       "version_major": 2,
       "version_minor": 0
      },
      "text/plain": [
       "  0%|          | 0/79 [00:00<?, ?it/s]"
      ]
     },
     "metadata": {},
     "output_type": "display_data"
    },
    {
     "name": "stdout",
     "output_type": "stream",
     "text": [
      "Val Perf after 2 epochs Acc@1 0.6486\n"
     ]
    },
    {
     "data": {
      "application/vnd.jupyter.widget-view+json": {
       "model_id": "36585e25383f4b2f913095b5c45e8e6b",
       "version_major": 2,
       "version_minor": 0
      },
      "text/plain": [
       "  0%|          | 0/469 [00:00<?, ?it/s]"
      ]
     },
     "metadata": {},
     "output_type": "display_data"
    },
    {
     "name": "stdout",
     "output_type": "stream",
     "text": [
      "Validation => Loss 1.3125, Acc@1 0.6572\n",
      "============\n"
     ]
    },
    {
     "data": {
      "application/vnd.jupyter.widget-view+json": {
       "model_id": "7fecef77632944dba9d7729d6f418cbf",
       "version_major": 2,
       "version_minor": 0
      },
      "text/plain": [
       "  0%|          | 0/79 [00:00<?, ?it/s]"
      ]
     },
     "metadata": {},
     "output_type": "display_data"
    },
    {
     "name": "stdout",
     "output_type": "stream",
     "text": [
      "Val Perf after 3 epochs Acc@1 0.6370\n",
      "=> Caching mask state for model.0\n",
      "=> Caching mask state for model.2\n",
      "=> Caching mask state for model.4\n",
      "\n",
      "=> Setting learned tasks of model.0 to 43\n",
      "=> Setting learned tasks of model.2 to 43\n",
      "=> Setting learned tasks of model.4 to 43\n",
      "\n",
      "Training for task 43\n",
      "=> Set task of model.0 to 43\n",
      "=> Set task of model.2 to 43\n",
      "=> Set task of model.4 to 43\n"
     ]
    },
    {
     "data": {
      "application/vnd.jupyter.widget-view+json": {
       "model_id": "e52e9ed40d614f1e90ed8ea779b2613c",
       "version_major": 2,
       "version_minor": 0
      },
      "text/plain": [
       "  0%|          | 0/469 [00:00<?, ?it/s]"
      ]
     },
     "metadata": {},
     "output_type": "display_data"
    },
    {
     "name": "stdout",
     "output_type": "stream",
     "text": [
      "Validation => Loss 1.8119, Acc@1 0.2933\n",
      "============\n"
     ]
    },
    {
     "data": {
      "application/vnd.jupyter.widget-view+json": {
       "model_id": "3c9a6e07243b420bb2fe74eecda441e5",
       "version_major": 2,
       "version_minor": 0
      },
      "text/plain": [
       "  0%|          | 0/79 [00:00<?, ?it/s]"
      ]
     },
     "metadata": {},
     "output_type": "display_data"
    },
    {
     "name": "stdout",
     "output_type": "stream",
     "text": [
      "Val Perf after 1 epochs Acc@1 0.5181\n"
     ]
    },
    {
     "data": {
      "application/vnd.jupyter.widget-view+json": {
       "model_id": "845610e7729d472fab18c7fda7372d15",
       "version_major": 2,
       "version_minor": 0
      },
      "text/plain": [
       "  0%|          | 0/469 [00:00<?, ?it/s]"
      ]
     },
     "metadata": {},
     "output_type": "display_data"
    },
    {
     "name": "stdout",
     "output_type": "stream",
     "text": [
      "Validation => Loss 1.3644, Acc@1 0.5911\n",
      "============\n"
     ]
    },
    {
     "data": {
      "application/vnd.jupyter.widget-view+json": {
       "model_id": "52171efae0e3426dbcd06b0bee0907d0",
       "version_major": 2,
       "version_minor": 0
      },
      "text/plain": [
       "  0%|          | 0/79 [00:00<?, ?it/s]"
      ]
     },
     "metadata": {},
     "output_type": "display_data"
    },
    {
     "name": "stdout",
     "output_type": "stream",
     "text": [
      "Val Perf after 2 epochs Acc@1 0.6218\n"
     ]
    },
    {
     "data": {
      "application/vnd.jupyter.widget-view+json": {
       "model_id": "a701f7618b904a66bd5635de1086ce9b",
       "version_major": 2,
       "version_minor": 0
      },
      "text/plain": [
       "  0%|          | 0/469 [00:00<?, ?it/s]"
      ]
     },
     "metadata": {},
     "output_type": "display_data"
    },
    {
     "name": "stdout",
     "output_type": "stream",
     "text": [
      "Validation => Loss 1.0710, Acc@1 0.6423\n",
      "============\n"
     ]
    },
    {
     "data": {
      "application/vnd.jupyter.widget-view+json": {
       "model_id": "d6c3367dc71b40ae8fb017ecb2c46ae3",
       "version_major": 2,
       "version_minor": 0
      },
      "text/plain": [
       "  0%|          | 0/79 [00:00<?, ?it/s]"
      ]
     },
     "metadata": {},
     "output_type": "display_data"
    },
    {
     "name": "stdout",
     "output_type": "stream",
     "text": [
      "Val Perf after 3 epochs Acc@1 0.6509\n",
      "=> Caching mask state for model.0\n",
      "=> Caching mask state for model.2\n",
      "=> Caching mask state for model.4\n",
      "\n",
      "=> Setting learned tasks of model.0 to 44\n",
      "=> Setting learned tasks of model.2 to 44\n",
      "=> Setting learned tasks of model.4 to 44\n",
      "\n",
      "Training for task 44\n",
      "=> Set task of model.0 to 44\n",
      "=> Set task of model.2 to 44\n",
      "=> Set task of model.4 to 44\n"
     ]
    },
    {
     "data": {
      "application/vnd.jupyter.widget-view+json": {
       "model_id": "0e40c97c01684be3b9275f4db3782172",
       "version_major": 2,
       "version_minor": 0
      },
      "text/plain": [
       "  0%|          | 0/469 [00:00<?, ?it/s]"
      ]
     },
     "metadata": {},
     "output_type": "display_data"
    },
    {
     "name": "stdout",
     "output_type": "stream",
     "text": [
      "Validation => Loss 1.7881, Acc@1 0.3268\n",
      "============\n"
     ]
    },
    {
     "data": {
      "application/vnd.jupyter.widget-view+json": {
       "model_id": "e52af504c343463fa117b35891807185",
       "version_major": 2,
       "version_minor": 0
      },
      "text/plain": [
       "  0%|          | 0/79 [00:00<?, ?it/s]"
      ]
     },
     "metadata": {},
     "output_type": "display_data"
    },
    {
     "name": "stdout",
     "output_type": "stream",
     "text": [
      "Val Perf after 1 epochs Acc@1 0.5283\n"
     ]
    },
    {
     "data": {
      "application/vnd.jupyter.widget-view+json": {
       "model_id": "62a64207b8b9483a88a83855f7571ecd",
       "version_major": 2,
       "version_minor": 0
      },
      "text/plain": [
       "  0%|          | 0/469 [00:00<?, ?it/s]"
      ]
     },
     "metadata": {},
     "output_type": "display_data"
    },
    {
     "name": "stdout",
     "output_type": "stream",
     "text": [
      "Validation => Loss 1.4443, Acc@1 0.6087\n",
      "============\n"
     ]
    },
    {
     "data": {
      "application/vnd.jupyter.widget-view+json": {
       "model_id": "4045234f366445a1a2977d2e1a8ae5e4",
       "version_major": 2,
       "version_minor": 0
      },
      "text/plain": [
       "  0%|          | 0/79 [00:00<?, ?it/s]"
      ]
     },
     "metadata": {},
     "output_type": "display_data"
    },
    {
     "name": "stdout",
     "output_type": "stream",
     "text": [
      "Val Perf after 2 epochs Acc@1 0.6404\n"
     ]
    },
    {
     "data": {
      "application/vnd.jupyter.widget-view+json": {
       "model_id": "dbf5c61ec3f8476d936ed25e8489b150",
       "version_major": 2,
       "version_minor": 0
      },
      "text/plain": [
       "  0%|          | 0/469 [00:00<?, ?it/s]"
      ]
     },
     "metadata": {},
     "output_type": "display_data"
    },
    {
     "name": "stdout",
     "output_type": "stream",
     "text": [
      "Validation => Loss 1.1917, Acc@1 0.6436\n",
      "============\n"
     ]
    },
    {
     "data": {
      "application/vnd.jupyter.widget-view+json": {
       "model_id": "e3bf5d8deac543ccb51ca1117a32773c",
       "version_major": 2,
       "version_minor": 0
      },
      "text/plain": [
       "  0%|          | 0/79 [00:00<?, ?it/s]"
      ]
     },
     "metadata": {},
     "output_type": "display_data"
    },
    {
     "name": "stdout",
     "output_type": "stream",
     "text": [
      "Val Perf after 3 epochs Acc@1 0.6442\n",
      "=> Caching mask state for model.0\n",
      "=> Caching mask state for model.2\n",
      "=> Caching mask state for model.4\n",
      "\n",
      "=> Setting learned tasks of model.0 to 45\n",
      "=> Setting learned tasks of model.2 to 45\n",
      "=> Setting learned tasks of model.4 to 45\n",
      "\n",
      "Training for task 45\n",
      "=> Set task of model.0 to 45\n",
      "=> Set task of model.2 to 45\n",
      "=> Set task of model.4 to 45\n"
     ]
    },
    {
     "data": {
      "application/vnd.jupyter.widget-view+json": {
       "model_id": "b7bb30f6537044f5b37ed998b673aea3",
       "version_major": 2,
       "version_minor": 0
      },
      "text/plain": [
       "  0%|          | 0/469 [00:00<?, ?it/s]"
      ]
     },
     "metadata": {},
     "output_type": "display_data"
    },
    {
     "name": "stdout",
     "output_type": "stream",
     "text": [
      "Validation => Loss 1.8745, Acc@1 0.2650\n",
      "============\n"
     ]
    },
    {
     "data": {
      "application/vnd.jupyter.widget-view+json": {
       "model_id": "6b5508468fb14a3f9a85140c3eebddf0",
       "version_major": 2,
       "version_minor": 0
      },
      "text/plain": [
       "  0%|          | 0/79 [00:00<?, ?it/s]"
      ]
     },
     "metadata": {},
     "output_type": "display_data"
    },
    {
     "name": "stdout",
     "output_type": "stream",
     "text": [
      "Val Perf after 1 epochs Acc@1 0.5081\n"
     ]
    },
    {
     "data": {
      "application/vnd.jupyter.widget-view+json": {
       "model_id": "39ae018abe5447099adeeaee3ef9f31f",
       "version_major": 2,
       "version_minor": 0
      },
      "text/plain": [
       "  0%|          | 0/469 [00:00<?, ?it/s]"
      ]
     },
     "metadata": {},
     "output_type": "display_data"
    },
    {
     "name": "stdout",
     "output_type": "stream",
     "text": [
      "Validation => Loss 1.4135, Acc@1 0.5833\n",
      "============\n"
     ]
    },
    {
     "data": {
      "application/vnd.jupyter.widget-view+json": {
       "model_id": "e4c9591998904b9581165e4affd74ede",
       "version_major": 2,
       "version_minor": 0
      },
      "text/plain": [
       "  0%|          | 0/79 [00:00<?, ?it/s]"
      ]
     },
     "metadata": {},
     "output_type": "display_data"
    },
    {
     "name": "stdout",
     "output_type": "stream",
     "text": [
      "Val Perf after 2 epochs Acc@1 0.6443\n"
     ]
    },
    {
     "data": {
      "application/vnd.jupyter.widget-view+json": {
       "model_id": "826786e03d104fb3a770770779be122f",
       "version_major": 2,
       "version_minor": 0
      },
      "text/plain": [
       "  0%|          | 0/469 [00:00<?, ?it/s]"
      ]
     },
     "metadata": {},
     "output_type": "display_data"
    },
    {
     "name": "stdout",
     "output_type": "stream",
     "text": [
      "Validation => Loss 1.2032, Acc@1 0.6234\n",
      "============\n"
     ]
    },
    {
     "data": {
      "application/vnd.jupyter.widget-view+json": {
       "model_id": "05630bfddda04751a051b0cc8456af7e",
       "version_major": 2,
       "version_minor": 0
      },
      "text/plain": [
       "  0%|          | 0/79 [00:00<?, ?it/s]"
      ]
     },
     "metadata": {},
     "output_type": "display_data"
    },
    {
     "name": "stdout",
     "output_type": "stream",
     "text": [
      "Val Perf after 3 epochs Acc@1 0.6428\n",
      "=> Caching mask state for model.0\n",
      "=> Caching mask state for model.2\n",
      "=> Caching mask state for model.4\n",
      "\n",
      "=> Setting learned tasks of model.0 to 46\n",
      "=> Setting learned tasks of model.2 to 46\n",
      "=> Setting learned tasks of model.4 to 46\n",
      "\n",
      "Training for task 46\n",
      "=> Set task of model.0 to 46\n",
      "=> Set task of model.2 to 46\n",
      "=> Set task of model.4 to 46\n"
     ]
    },
    {
     "data": {
      "application/vnd.jupyter.widget-view+json": {
       "model_id": "e3fc8bdc01794718a55dce1d0c141c85",
       "version_major": 2,
       "version_minor": 0
      },
      "text/plain": [
       "  0%|          | 0/469 [00:00<?, ?it/s]"
      ]
     },
     "metadata": {},
     "output_type": "display_data"
    },
    {
     "name": "stdout",
     "output_type": "stream",
     "text": [
      "Validation => Loss 1.8048, Acc@1 0.3307\n",
      "============\n"
     ]
    },
    {
     "data": {
      "application/vnd.jupyter.widget-view+json": {
       "model_id": "1f82e6a5a5ad44fb856f1548aa1a6bf1",
       "version_major": 2,
       "version_minor": 0
      },
      "text/plain": [
       "  0%|          | 0/79 [00:00<?, ?it/s]"
      ]
     },
     "metadata": {},
     "output_type": "display_data"
    },
    {
     "name": "stdout",
     "output_type": "stream",
     "text": [
      "Val Perf after 1 epochs Acc@1 0.5452\n"
     ]
    },
    {
     "data": {
      "application/vnd.jupyter.widget-view+json": {
       "model_id": "53aee18834a747349ba5d4f160748cee",
       "version_major": 2,
       "version_minor": 0
      },
      "text/plain": [
       "  0%|          | 0/469 [00:00<?, ?it/s]"
      ]
     },
     "metadata": {},
     "output_type": "display_data"
    },
    {
     "name": "stdout",
     "output_type": "stream",
     "text": [
      "Validation => Loss 1.2577, Acc@1 0.6045\n",
      "============\n"
     ]
    },
    {
     "data": {
      "application/vnd.jupyter.widget-view+json": {
       "model_id": "f79873875fa847fab30dda639caccc75",
       "version_major": 2,
       "version_minor": 0
      },
      "text/plain": [
       "  0%|          | 0/79 [00:00<?, ?it/s]"
      ]
     },
     "metadata": {},
     "output_type": "display_data"
    },
    {
     "name": "stdout",
     "output_type": "stream",
     "text": [
      "Val Perf after 2 epochs Acc@1 0.6538\n"
     ]
    },
    {
     "data": {
      "application/vnd.jupyter.widget-view+json": {
       "model_id": "fdb2a652658440aa8d473b9725283a15",
       "version_major": 2,
       "version_minor": 0
      },
      "text/plain": [
       "  0%|          | 0/469 [00:00<?, ?it/s]"
      ]
     },
     "metadata": {},
     "output_type": "display_data"
    },
    {
     "name": "stdout",
     "output_type": "stream",
     "text": [
      "Validation => Loss 1.2813, Acc@1 0.6348\n",
      "============\n"
     ]
    },
    {
     "data": {
      "application/vnd.jupyter.widget-view+json": {
       "model_id": "4223364c0d374316b6d0b90d93df6405",
       "version_major": 2,
       "version_minor": 0
      },
      "text/plain": [
       "  0%|          | 0/79 [00:00<?, ?it/s]"
      ]
     },
     "metadata": {},
     "output_type": "display_data"
    },
    {
     "name": "stdout",
     "output_type": "stream",
     "text": [
      "Val Perf after 3 epochs Acc@1 0.6332\n",
      "=> Caching mask state for model.0\n",
      "=> Caching mask state for model.2\n",
      "=> Caching mask state for model.4\n",
      "\n",
      "=> Setting learned tasks of model.0 to 47\n",
      "=> Setting learned tasks of model.2 to 47\n",
      "=> Setting learned tasks of model.4 to 47\n",
      "\n",
      "Training for task 47\n",
      "=> Set task of model.0 to 47\n",
      "=> Set task of model.2 to 47\n",
      "=> Set task of model.4 to 47\n"
     ]
    },
    {
     "data": {
      "application/vnd.jupyter.widget-view+json": {
       "model_id": "fd60a5acd2b14974bc7dce6e10c3313d",
       "version_major": 2,
       "version_minor": 0
      },
      "text/plain": [
       "  0%|          | 0/469 [00:00<?, ?it/s]"
      ]
     },
     "metadata": {},
     "output_type": "display_data"
    },
    {
     "name": "stdout",
     "output_type": "stream",
     "text": [
      "Validation => Loss 1.8084, Acc@1 0.3682\n",
      "============\n"
     ]
    },
    {
     "data": {
      "application/vnd.jupyter.widget-view+json": {
       "model_id": "f925ee0fa3e04508a440b67d26105403",
       "version_major": 2,
       "version_minor": 0
      },
      "text/plain": [
       "  0%|          | 0/79 [00:00<?, ?it/s]"
      ]
     },
     "metadata": {},
     "output_type": "display_data"
    },
    {
     "name": "stdout",
     "output_type": "stream",
     "text": [
      "Val Perf after 1 epochs Acc@1 0.5755\n"
     ]
    },
    {
     "data": {
      "application/vnd.jupyter.widget-view+json": {
       "model_id": "f3248c4e3c7746849a39a267c498599a",
       "version_major": 2,
       "version_minor": 0
      },
      "text/plain": [
       "  0%|          | 0/469 [00:00<?, ?it/s]"
      ]
     },
     "metadata": {},
     "output_type": "display_data"
    },
    {
     "name": "stdout",
     "output_type": "stream",
     "text": [
      "Validation => Loss 1.2316, Acc@1 0.6439\n",
      "============\n"
     ]
    },
    {
     "data": {
      "application/vnd.jupyter.widget-view+json": {
       "model_id": "e799a714565c46299f904e1db85d65d7",
       "version_major": 2,
       "version_minor": 0
      },
      "text/plain": [
       "  0%|          | 0/79 [00:00<?, ?it/s]"
      ]
     },
     "metadata": {},
     "output_type": "display_data"
    },
    {
     "name": "stdout",
     "output_type": "stream",
     "text": [
      "Val Perf after 2 epochs Acc@1 0.6690\n"
     ]
    },
    {
     "data": {
      "application/vnd.jupyter.widget-view+json": {
       "model_id": "543e590b02a54ead9d0a6f1d7bb4c87d",
       "version_major": 2,
       "version_minor": 0
      },
      "text/plain": [
       "  0%|          | 0/469 [00:00<?, ?it/s]"
      ]
     },
     "metadata": {},
     "output_type": "display_data"
    },
    {
     "name": "stdout",
     "output_type": "stream",
     "text": [
      "Validation => Loss 1.0443, Acc@1 0.6719\n",
      "============\n"
     ]
    },
    {
     "data": {
      "application/vnd.jupyter.widget-view+json": {
       "model_id": "7f4cc7762f7d484484c3cfc1c86b3296",
       "version_major": 2,
       "version_minor": 0
      },
      "text/plain": [
       "  0%|          | 0/79 [00:00<?, ?it/s]"
      ]
     },
     "metadata": {},
     "output_type": "display_data"
    },
    {
     "name": "stdout",
     "output_type": "stream",
     "text": [
      "Val Perf after 3 epochs Acc@1 0.7052\n",
      "=> Caching mask state for model.0\n",
      "=> Caching mask state for model.2\n",
      "=> Caching mask state for model.4\n",
      "\n",
      "=> Setting learned tasks of model.0 to 48\n",
      "=> Setting learned tasks of model.2 to 48\n",
      "=> Setting learned tasks of model.4 to 48\n",
      "\n",
      "Training for task 48\n",
      "=> Set task of model.0 to 48\n",
      "=> Set task of model.2 to 48\n",
      "=> Set task of model.4 to 48\n"
     ]
    },
    {
     "data": {
      "application/vnd.jupyter.widget-view+json": {
       "model_id": "c6e91093e49042a9bd431241e1bb7837",
       "version_major": 2,
       "version_minor": 0
      },
      "text/plain": [
       "  0%|          | 0/469 [00:00<?, ?it/s]"
      ]
     },
     "metadata": {},
     "output_type": "display_data"
    },
    {
     "name": "stdout",
     "output_type": "stream",
     "text": [
      "Validation => Loss 1.9075, Acc@1 0.3245\n",
      "============\n"
     ]
    },
    {
     "data": {
      "application/vnd.jupyter.widget-view+json": {
       "model_id": "d5141ec291e44de0ae12d9898db8830a",
       "version_major": 2,
       "version_minor": 0
      },
      "text/plain": [
       "  0%|          | 0/79 [00:00<?, ?it/s]"
      ]
     },
     "metadata": {},
     "output_type": "display_data"
    },
    {
     "name": "stdout",
     "output_type": "stream",
     "text": [
      "Val Perf after 1 epochs Acc@1 0.5343\n"
     ]
    },
    {
     "data": {
      "application/vnd.jupyter.widget-view+json": {
       "model_id": "c54f5e87f2514d0fa0515d957f5d5ca9",
       "version_major": 2,
       "version_minor": 0
      },
      "text/plain": [
       "  0%|          | 0/469 [00:00<?, ?it/s]"
      ]
     },
     "metadata": {},
     "output_type": "display_data"
    },
    {
     "name": "stdout",
     "output_type": "stream",
     "text": [
      "Validation => Loss 1.2964, Acc@1 0.6061\n",
      "============\n"
     ]
    },
    {
     "data": {
      "application/vnd.jupyter.widget-view+json": {
       "model_id": "427278661a04471a8c10e9d3a3a2451b",
       "version_major": 2,
       "version_minor": 0
      },
      "text/plain": [
       "  0%|          | 0/79 [00:00<?, ?it/s]"
      ]
     },
     "metadata": {},
     "output_type": "display_data"
    },
    {
     "name": "stdout",
     "output_type": "stream",
     "text": [
      "Val Perf after 2 epochs Acc@1 0.6518\n"
     ]
    },
    {
     "data": {
      "application/vnd.jupyter.widget-view+json": {
       "model_id": "0bdcb1181bd44305bd06c576daedc99d",
       "version_major": 2,
       "version_minor": 0
      },
      "text/plain": [
       "  0%|          | 0/469 [00:00<?, ?it/s]"
      ]
     },
     "metadata": {},
     "output_type": "display_data"
    },
    {
     "name": "stdout",
     "output_type": "stream",
     "text": [
      "Validation => Loss 1.1945, Acc@1 0.6650\n",
      "============\n"
     ]
    },
    {
     "data": {
      "application/vnd.jupyter.widget-view+json": {
       "model_id": "d7c17209eb5948758ad3a347625ac6ce",
       "version_major": 2,
       "version_minor": 0
      },
      "text/plain": [
       "  0%|          | 0/79 [00:00<?, ?it/s]"
      ]
     },
     "metadata": {},
     "output_type": "display_data"
    },
    {
     "name": "stdout",
     "output_type": "stream",
     "text": [
      "Val Perf after 3 epochs Acc@1 0.6433\n",
      "=> Caching mask state for model.0\n",
      "=> Caching mask state for model.2\n",
      "=> Caching mask state for model.4\n",
      "\n",
      "=> Setting learned tasks of model.0 to 49\n",
      "=> Setting learned tasks of model.2 to 49\n",
      "=> Setting learned tasks of model.4 to 49\n",
      "\n",
      "Training for task 49\n",
      "=> Set task of model.0 to 49\n",
      "=> Set task of model.2 to 49\n",
      "=> Set task of model.4 to 49\n"
     ]
    },
    {
     "data": {
      "application/vnd.jupyter.widget-view+json": {
       "model_id": "99addfb907cb437cb02b1282204eba1a",
       "version_major": 2,
       "version_minor": 0
      },
      "text/plain": [
       "  0%|          | 0/469 [00:00<?, ?it/s]"
      ]
     },
     "metadata": {},
     "output_type": "display_data"
    },
    {
     "name": "stdout",
     "output_type": "stream",
     "text": [
      "Validation => Loss 1.8816, Acc@1 0.3298\n",
      "============\n"
     ]
    },
    {
     "data": {
      "application/vnd.jupyter.widget-view+json": {
       "model_id": "309a12ce2d6542f4b30c6c77541376fb",
       "version_major": 2,
       "version_minor": 0
      },
      "text/plain": [
       "  0%|          | 0/79 [00:00<?, ?it/s]"
      ]
     },
     "metadata": {},
     "output_type": "display_data"
    },
    {
     "name": "stdout",
     "output_type": "stream",
     "text": [
      "Val Perf after 1 epochs Acc@1 0.5559\n"
     ]
    },
    {
     "data": {
      "application/vnd.jupyter.widget-view+json": {
       "model_id": "15c49b28e1f548e284453f2c8fc231c6",
       "version_major": 2,
       "version_minor": 0
      },
      "text/plain": [
       "  0%|          | 0/469 [00:00<?, ?it/s]"
      ]
     },
     "metadata": {},
     "output_type": "display_data"
    },
    {
     "name": "stdout",
     "output_type": "stream",
     "text": [
      "Validation => Loss 1.6589, Acc@1 0.5908\n",
      "============\n"
     ]
    },
    {
     "data": {
      "application/vnd.jupyter.widget-view+json": {
       "model_id": "ed5e31781de54e9a9847b1b5b5914860",
       "version_major": 2,
       "version_minor": 0
      },
      "text/plain": [
       "  0%|          | 0/79 [00:00<?, ?it/s]"
      ]
     },
     "metadata": {},
     "output_type": "display_data"
    },
    {
     "name": "stdout",
     "output_type": "stream",
     "text": [
      "Val Perf after 2 epochs Acc@1 0.6141\n"
     ]
    },
    {
     "data": {
      "application/vnd.jupyter.widget-view+json": {
       "model_id": "50e7e717cd6b43458e3812912127e262",
       "version_major": 2,
       "version_minor": 0
      },
      "text/plain": [
       "  0%|          | 0/469 [00:00<?, ?it/s]"
      ]
     },
     "metadata": {},
     "output_type": "display_data"
    },
    {
     "name": "stdout",
     "output_type": "stream",
     "text": [
      "Validation => Loss 1.3841, Acc@1 0.6289\n",
      "============\n"
     ]
    },
    {
     "data": {
      "application/vnd.jupyter.widget-view+json": {
       "model_id": "432eed86c16e47348788ad7b00238b04",
       "version_major": 2,
       "version_minor": 0
      },
      "text/plain": [
       "  0%|          | 0/79 [00:00<?, ?it/s]"
      ]
     },
     "metadata": {},
     "output_type": "display_data"
    },
    {
     "name": "stdout",
     "output_type": "stream",
     "text": [
      "Val Perf after 3 epochs Acc@1 0.6051\n",
      "=> Caching mask state for model.0\n",
      "=> Caching mask state for model.2\n",
      "=> Caching mask state for model.4\n",
      "\n",
      "=> Setting learned tasks of model.0 to 50\n",
      "=> Setting learned tasks of model.2 to 50\n",
      "=> Setting learned tasks of model.4 to 50\n",
      "\n"
     ]
    }
   ],
   "source": [
    "for task in range(num_seed_tasks_learned, num_tasks):\n",
    "    print(f\"Training for task {task}\")\n",
    "    set_model_task(basis_model_hid, task)\n",
    "    mnist.update_task(task)\n",
    "\n",
    "    optimizer = optim.RMSprop([p for p in basis_model_hid.parameters() if p.requires_grad], lr=1e-4)\n",
    "    # Train for 1 epoch\n",
    "    for e in range(3):\n",
    "        train(basis_model_hid, mnist.train_loader, optimizer, e)\n",
    "        \n",
    "        print(\"Validation\")\n",
    "        print(\"============\")\n",
    "        acc1 = evaluate(basis_model_hid, mnist.val_loader, e)\n",
    "        \n",
    "    \n",
    "    cache_masks(basis_model_hid)\n",
    "    print()\n",
    "    set_num_tasks_learned(basis_model_hid, task + 1)\n",
    "    print()"
   ]
  },
  {
   "cell_type": "code",
   "execution_count": 101,
   "metadata": {},
   "outputs": [
    {
     "name": "stdout",
     "output_type": "stream",
     "text": [
      "Average top 1 performance: 0.2411\n",
      "Per task performance\n",
      "Task 0: 0.1718\n",
      "Task 1: 0.1531\n",
      "Task 2: 0.1028\n",
      "Task 3: 0.0967\n",
      "Task 4: 0.1245\n",
      "Task 5: 0.1657\n",
      "Task 6: 0.1721\n",
      "Task 7: 0.1577\n",
      "Task 8: 0.1821\n",
      "Task 9: 0.1869\n",
      "Task 10: 0.1477\n",
      "Task 11: 0.1202\n",
      "Task 12: 0.1618\n",
      "Task 13: 0.1658\n",
      "Task 14: 0.1348\n",
      "Task 15: 0.1851\n",
      "Task 16: 0.1105\n",
      "Task 17: 0.1303\n",
      "Task 18: 0.1568\n",
      "Task 19: 0.0799\n",
      "Task 20: 0.2302\n",
      "Task 21: 0.1543\n",
      "Task 22: 0.1290\n",
      "Task 23: 0.0885\n",
      "Task 24: 0.1640\n",
      "Task 25: 0.1039\n",
      "Task 26: 0.1175\n",
      "Task 27: 0.1531\n",
      "Task 28: 0.1436\n",
      "Task 29: 0.1612\n",
      "Task 30: 0.1066\n",
      "Task 31: 0.1268\n",
      "Task 32: 0.1448\n",
      "Task 33: 0.1130\n",
      "Task 34: 0.1544\n",
      "Task 35: 0.1157\n",
      "Task 36: 0.0926\n",
      "Task 37: 0.1972\n",
      "Task 38: 0.1520\n",
      "Task 39: 0.1064\n",
      "Task 40: 0.6318\n",
      "Task 41: 0.6002\n",
      "Task 42: 0.6370\n",
      "Task 43: 0.6509\n",
      "Task 44: 0.6442\n",
      "Task 45: 0.6428\n",
      "Task 46: 0.6332\n",
      "Task 47: 0.7052\n",
      "Task 48: 0.6433\n",
      "Task 49: 0.6051\n"
     ]
    }
   ],
   "source": [
    "# When task ID we can simply set the mask and evaluate\n",
    "\n",
    "gg_performance = []\n",
    "for task in range(num_tasks):\n",
    "    set_model_task(basis_model_hid, task)\n",
    "    mnist.update_task(task)\n",
    "    acc1 = evaluate(basis_model_hid, mnist.val_loader, 0)\n",
    "    gg_performance.append(acc1.item())\n",
    "\n",
    "clear_output()\n",
    "    \n",
    "print(f\"Average top 1 performance: {(sum(gg_performance) / len(gg_performance)):.4f}\")\n",
    "\n",
    "print(\"Per task performance\")\n",
    "for t in range(num_tasks):\n",
    "    print(f\"Task {t}: {gg_performance[t]:.4f}\")"
   ]
  },
  {
   "cell_type": "code",
   "execution_count": 102,
   "metadata": {},
   "outputs": [],
   "source": [
    "performance_map['basis_hybrid_mnist'] = gg_performance.copy()"
   ]
  },
  {
   "cell_type": "markdown",
   "metadata": {},
   "source": [
    "### Model Initialization (Cross task analysis, retraining last layer) -- Using 1 mask from task 0"
   ]
  },
  {
   "cell_type": "code",
   "execution_count": 103,
   "metadata": {},
   "outputs": [],
   "source": [
    "num_tasks = 10 # For demonstration purposes, we go up to 2500 in our paper\n",
    "num_seed_tasks_learned = 1\n",
    "basis_model_hidf = BasisHiddenOnlyFrozenMultitaskFC(hidden_size=300,\n",
    "                            num_tasks=num_tasks, num_seed_tasks_learned=num_seed_tasks_learned, start_at_optimal=True, sparsity=0.25)"
   ]
  },
  {
   "cell_type": "code",
   "execution_count": 104,
   "metadata": {},
   "outputs": [],
   "source": [
    "custom_state_dict = basis_model_hidf.state_dict().copy()\n",
    "custom_state_dict.update({k:v for k,v in model.state_dict().items() if k in custom_state_dict.keys()})"
   ]
  },
  {
   "cell_type": "code",
   "execution_count": 105,
   "metadata": {},
   "outputs": [],
   "source": [
    "for k in custom_state_dict.keys():\n",
    "    if k.startswith('model.0.scores.'):\n",
    "        custom_state_dict[k] = model.state_dict()['model.0.scores.0']\n",
    "    elif k.startswith('model.2.scores.'):\n",
    "        custom_state_dict[k] = model.state_dict()['model.2.scores.0']\n",
    "    elif k.startswith('model.0.basis_alphas.'):\n",
    "        custom_state_dict[k] = custom_state_dict['model.0.basis_alphas.0'] \n",
    "    elif k.startswith('model.2.basis_alphas.'):\n",
    "        custom_state_dict[k] = custom_state_dict['model.2.basis_alphas.0']"
   ]
  },
  {
   "cell_type": "code",
   "execution_count": 106,
   "metadata": {},
   "outputs": [
    {
     "name": "stdout",
     "output_type": "stream",
     "text": [
      "=> Caching mask state for model.0\n",
      "=> Caching mask state for model.2\n",
      "=> Caching mask state for model.4\n"
     ]
    }
   ],
   "source": [
    "basis_model_hidf.load_state_dict(custom_state_dict, False)\n",
    "cache_masks(basis_model_hidf)"
   ]
  },
  {
   "cell_type": "code",
   "execution_count": 107,
   "metadata": {
    "scrolled": true
   },
   "outputs": [
    {
     "name": "stdout",
     "output_type": "stream",
     "text": [
      "Training for task 1\n",
      "=> Set task of model.0 to 1\n",
      "=> Set task of model.2 to 1\n",
      "=> Set task of model.4 to 1\n"
     ]
    },
    {
     "data": {
      "application/vnd.jupyter.widget-view+json": {
       "model_id": "3e335c02b610449f91567cb4f2fcd7fa",
       "version_major": 2,
       "version_minor": 0
      },
      "text/plain": [
       "  0%|          | 0/469 [00:00<?, ?it/s]"
      ]
     },
     "metadata": {},
     "output_type": "display_data"
    },
    {
     "name": "stdout",
     "output_type": "stream",
     "text": [
      "Validation => Loss 2.4096, Acc@1 0.2702\n",
      "============\n"
     ]
    },
    {
     "data": {
      "application/vnd.jupyter.widget-view+json": {
       "model_id": "0b7e4d2d5a814c5595cffcb701c12f9c",
       "version_major": 2,
       "version_minor": 0
      },
      "text/plain": [
       "  0%|          | 0/79 [00:00<?, ?it/s]"
      ]
     },
     "metadata": {},
     "output_type": "display_data"
    },
    {
     "name": "stdout",
     "output_type": "stream",
     "text": [
      "Val Perf after 1 epochs Acc@1 0.3463\n",
      "=> Caching mask state for model.0\n",
      "=> Caching mask state for model.2\n",
      "=> Caching mask state for model.4\n",
      "\n",
      "=> Setting learned tasks of model.0 to 2\n",
      "=> Setting learned tasks of model.2 to 2\n",
      "=> Setting learned tasks of model.4 to 2\n",
      "\n",
      "Training for task 2\n",
      "=> Set task of model.0 to 2\n",
      "=> Set task of model.2 to 2\n",
      "=> Set task of model.4 to 2\n"
     ]
    },
    {
     "data": {
      "application/vnd.jupyter.widget-view+json": {
       "model_id": "f6e720d80e4e452480142894c89b1bda",
       "version_major": 2,
       "version_minor": 0
      },
      "text/plain": [
       "  0%|          | 0/469 [00:00<?, ?it/s]"
      ]
     },
     "metadata": {},
     "output_type": "display_data"
    },
    {
     "name": "stdout",
     "output_type": "stream",
     "text": [
      "Validation => Loss 2.5502, Acc@1 0.2451\n",
      "============\n"
     ]
    },
    {
     "data": {
      "application/vnd.jupyter.widget-view+json": {
       "model_id": "43d9fbf4aa6045ca8eafbe331bac7e2a",
       "version_major": 2,
       "version_minor": 0
      },
      "text/plain": [
       "  0%|          | 0/79 [00:00<?, ?it/s]"
      ]
     },
     "metadata": {},
     "output_type": "display_data"
    },
    {
     "name": "stdout",
     "output_type": "stream",
     "text": [
      "Val Perf after 1 epochs Acc@1 0.3827\n",
      "=> Caching mask state for model.0\n",
      "=> Caching mask state for model.2\n",
      "=> Caching mask state for model.4\n",
      "\n",
      "=> Setting learned tasks of model.0 to 3\n",
      "=> Setting learned tasks of model.2 to 3\n",
      "=> Setting learned tasks of model.4 to 3\n",
      "\n",
      "Training for task 3\n",
      "=> Set task of model.0 to 3\n",
      "=> Set task of model.2 to 3\n",
      "=> Set task of model.4 to 3\n"
     ]
    },
    {
     "data": {
      "application/vnd.jupyter.widget-view+json": {
       "model_id": "f860607c72cd4f44add0f676ed9c4045",
       "version_major": 2,
       "version_minor": 0
      },
      "text/plain": [
       "  0%|          | 0/469 [00:00<?, ?it/s]"
      ]
     },
     "metadata": {},
     "output_type": "display_data"
    },
    {
     "name": "stdout",
     "output_type": "stream",
     "text": [
      "Validation => Loss 2.4968, Acc@1 0.2005\n",
      "============\n"
     ]
    },
    {
     "data": {
      "application/vnd.jupyter.widget-view+json": {
       "model_id": "ea8f320471cc49f39c8db8d9fa02a256",
       "version_major": 2,
       "version_minor": 0
      },
      "text/plain": [
       "  0%|          | 0/79 [00:00<?, ?it/s]"
      ]
     },
     "metadata": {},
     "output_type": "display_data"
    },
    {
     "name": "stdout",
     "output_type": "stream",
     "text": [
      "Val Perf after 1 epochs Acc@1 0.2707\n",
      "=> Caching mask state for model.0\n",
      "=> Caching mask state for model.2\n",
      "=> Caching mask state for model.4\n",
      "\n",
      "=> Setting learned tasks of model.0 to 4\n",
      "=> Setting learned tasks of model.2 to 4\n",
      "=> Setting learned tasks of model.4 to 4\n",
      "\n",
      "Training for task 4\n",
      "=> Set task of model.0 to 4\n",
      "=> Set task of model.2 to 4\n",
      "=> Set task of model.4 to 4\n"
     ]
    },
    {
     "data": {
      "application/vnd.jupyter.widget-view+json": {
       "model_id": "9694ec0c7f374713b2dc3cc697e9385a",
       "version_major": 2,
       "version_minor": 0
      },
      "text/plain": [
       "  0%|          | 0/469 [00:00<?, ?it/s]"
      ]
     },
     "metadata": {},
     "output_type": "display_data"
    },
    {
     "name": "stdout",
     "output_type": "stream",
     "text": [
      "Validation => Loss 2.4649, Acc@1 0.2331\n",
      "============\n"
     ]
    },
    {
     "data": {
      "application/vnd.jupyter.widget-view+json": {
       "model_id": "e2dc37e47c3d4a45aa4bc67ad8936ca3",
       "version_major": 2,
       "version_minor": 0
      },
      "text/plain": [
       "  0%|          | 0/79 [00:00<?, ?it/s]"
      ]
     },
     "metadata": {},
     "output_type": "display_data"
    },
    {
     "name": "stdout",
     "output_type": "stream",
     "text": [
      "Val Perf after 1 epochs Acc@1 0.1992\n",
      "=> Caching mask state for model.0\n",
      "=> Caching mask state for model.2\n",
      "=> Caching mask state for model.4\n",
      "\n",
      "=> Setting learned tasks of model.0 to 5\n",
      "=> Setting learned tasks of model.2 to 5\n",
      "=> Setting learned tasks of model.4 to 5\n",
      "\n",
      "Training for task 5\n",
      "=> Set task of model.0 to 5\n",
      "=> Set task of model.2 to 5\n",
      "=> Set task of model.4 to 5\n"
     ]
    },
    {
     "data": {
      "application/vnd.jupyter.widget-view+json": {
       "model_id": "55f45b4909f642c0bee48a4c46bd876e",
       "version_major": 2,
       "version_minor": 0
      },
      "text/plain": [
       "  0%|          | 0/469 [00:00<?, ?it/s]"
      ]
     },
     "metadata": {},
     "output_type": "display_data"
    },
    {
     "name": "stdout",
     "output_type": "stream",
     "text": [
      "Validation => Loss 2.3769, Acc@1 0.2923\n",
      "============\n"
     ]
    },
    {
     "data": {
      "application/vnd.jupyter.widget-view+json": {
       "model_id": "33a9602073bc476298897c1376e6cf7e",
       "version_major": 2,
       "version_minor": 0
      },
      "text/plain": [
       "  0%|          | 0/79 [00:00<?, ?it/s]"
      ]
     },
     "metadata": {},
     "output_type": "display_data"
    },
    {
     "name": "stdout",
     "output_type": "stream",
     "text": [
      "Val Perf after 1 epochs Acc@1 0.4007\n",
      "=> Caching mask state for model.0\n",
      "=> Caching mask state for model.2\n",
      "=> Caching mask state for model.4\n",
      "\n",
      "=> Setting learned tasks of model.0 to 6\n",
      "=> Setting learned tasks of model.2 to 6\n",
      "=> Setting learned tasks of model.4 to 6\n",
      "\n",
      "Training for task 6\n",
      "=> Set task of model.0 to 6\n",
      "=> Set task of model.2 to 6\n",
      "=> Set task of model.4 to 6\n"
     ]
    },
    {
     "data": {
      "application/vnd.jupyter.widget-view+json": {
       "model_id": "4505f65c064d418a9eec115d44fd1ab3",
       "version_major": 2,
       "version_minor": 0
      },
      "text/plain": [
       "  0%|          | 0/469 [00:00<?, ?it/s]"
      ]
     },
     "metadata": {},
     "output_type": "display_data"
    },
    {
     "name": "stdout",
     "output_type": "stream",
     "text": [
      "Validation => Loss 2.4231, Acc@1 0.2080\n",
      "============\n"
     ]
    },
    {
     "data": {
      "application/vnd.jupyter.widget-view+json": {
       "model_id": "66b62849933c435cbb05d08c612d1c68",
       "version_major": 2,
       "version_minor": 0
      },
      "text/plain": [
       "  0%|          | 0/79 [00:00<?, ?it/s]"
      ]
     },
     "metadata": {},
     "output_type": "display_data"
    },
    {
     "name": "stdout",
     "output_type": "stream",
     "text": [
      "Val Perf after 1 epochs Acc@1 0.2606\n",
      "=> Caching mask state for model.0\n",
      "=> Caching mask state for model.2\n",
      "=> Caching mask state for model.4\n",
      "\n",
      "=> Setting learned tasks of model.0 to 7\n",
      "=> Setting learned tasks of model.2 to 7\n",
      "=> Setting learned tasks of model.4 to 7\n",
      "\n",
      "Training for task 7\n",
      "=> Set task of model.0 to 7\n",
      "=> Set task of model.2 to 7\n",
      "=> Set task of model.4 to 7\n"
     ]
    },
    {
     "data": {
      "application/vnd.jupyter.widget-view+json": {
       "model_id": "8775f8cf47484156b4888768a6af709e",
       "version_major": 2,
       "version_minor": 0
      },
      "text/plain": [
       "  0%|          | 0/469 [00:00<?, ?it/s]"
      ]
     },
     "metadata": {},
     "output_type": "display_data"
    },
    {
     "name": "stdout",
     "output_type": "stream",
     "text": [
      "Validation => Loss 2.3559, Acc@1 0.2445\n",
      "============\n"
     ]
    },
    {
     "data": {
      "application/vnd.jupyter.widget-view+json": {
       "model_id": "a17924754e4c452e887765cc45a7891b",
       "version_major": 2,
       "version_minor": 0
      },
      "text/plain": [
       "  0%|          | 0/79 [00:00<?, ?it/s]"
      ]
     },
     "metadata": {},
     "output_type": "display_data"
    },
    {
     "name": "stdout",
     "output_type": "stream",
     "text": [
      "Val Perf after 1 epochs Acc@1 0.3329\n",
      "=> Caching mask state for model.0\n",
      "=> Caching mask state for model.2\n",
      "=> Caching mask state for model.4\n",
      "\n",
      "=> Setting learned tasks of model.0 to 8\n",
      "=> Setting learned tasks of model.2 to 8\n",
      "=> Setting learned tasks of model.4 to 8\n",
      "\n",
      "Training for task 8\n",
      "=> Set task of model.0 to 8\n",
      "=> Set task of model.2 to 8\n",
      "=> Set task of model.4 to 8\n"
     ]
    },
    {
     "data": {
      "application/vnd.jupyter.widget-view+json": {
       "model_id": "592148d2db75492890438617195f6ec8",
       "version_major": 2,
       "version_minor": 0
      },
      "text/plain": [
       "  0%|          | 0/469 [00:00<?, ?it/s]"
      ]
     },
     "metadata": {},
     "output_type": "display_data"
    },
    {
     "name": "stdout",
     "output_type": "stream",
     "text": [
      "Validation => Loss 2.6467, Acc@1 0.2624\n",
      "============\n"
     ]
    },
    {
     "data": {
      "application/vnd.jupyter.widget-view+json": {
       "model_id": "e9e55591cb274e4197d1ebeacf93f0c9",
       "version_major": 2,
       "version_minor": 0
      },
      "text/plain": [
       "  0%|          | 0/79 [00:00<?, ?it/s]"
      ]
     },
     "metadata": {},
     "output_type": "display_data"
    },
    {
     "name": "stdout",
     "output_type": "stream",
     "text": [
      "Val Perf after 1 epochs Acc@1 0.3485\n",
      "=> Caching mask state for model.0\n",
      "=> Caching mask state for model.2\n",
      "=> Caching mask state for model.4\n",
      "\n",
      "=> Setting learned tasks of model.0 to 9\n",
      "=> Setting learned tasks of model.2 to 9\n",
      "=> Setting learned tasks of model.4 to 9\n",
      "\n",
      "Training for task 9\n",
      "=> Set task of model.0 to 9\n",
      "=> Set task of model.2 to 9\n",
      "=> Set task of model.4 to 9\n"
     ]
    },
    {
     "data": {
      "application/vnd.jupyter.widget-view+json": {
       "model_id": "122b7152b81a41c7a217fc4a42ab3f9b",
       "version_major": 2,
       "version_minor": 0
      },
      "text/plain": [
       "  0%|          | 0/469 [00:00<?, ?it/s]"
      ]
     },
     "metadata": {},
     "output_type": "display_data"
    },
    {
     "name": "stdout",
     "output_type": "stream",
     "text": [
      "Validation => Loss 2.2962, Acc@1 0.2357\n",
      "============\n"
     ]
    },
    {
     "data": {
      "application/vnd.jupyter.widget-view+json": {
       "model_id": "e1526a091a7a4cbf96cf26c1315fd1db",
       "version_major": 2,
       "version_minor": 0
      },
      "text/plain": [
       "  0%|          | 0/79 [00:00<?, ?it/s]"
      ]
     },
     "metadata": {},
     "output_type": "display_data"
    },
    {
     "name": "stdout",
     "output_type": "stream",
     "text": [
      "Val Perf after 1 epochs Acc@1 0.3030\n",
      "=> Caching mask state for model.0\n",
      "=> Caching mask state for model.2\n",
      "=> Caching mask state for model.4\n",
      "\n",
      "=> Setting learned tasks of model.0 to 10\n",
      "=> Setting learned tasks of model.2 to 10\n",
      "=> Setting learned tasks of model.4 to 10\n",
      "\n"
     ]
    }
   ],
   "source": [
    "for task in range(num_seed_tasks_learned, num_tasks):\n",
    "    print(f\"Training for task {task}\")\n",
    "    set_model_task(basis_model_hidf, task)\n",
    "    mnist.update_task(task)\n",
    "\n",
    "    optimizer = optim.RMSprop([p for p in basis_model_hidf.parameters() if p.requires_grad], lr=1e-4)\n",
    "    # Train for 1 epoch\n",
    "    for e in range(1):\n",
    "        train(basis_model_hidf, mnist.train_loader, optimizer, e)\n",
    "        \n",
    "        print(\"Validation\")\n",
    "        print(\"============\")\n",
    "        acc1 = evaluate(basis_model_hidf, mnist.val_loader, e)\n",
    "        \n",
    "    \n",
    "    cache_masks(basis_model_hidf)\n",
    "    print()\n",
    "    set_num_tasks_learned(basis_model_hidf, task + 1)\n",
    "    print()"
   ]
  },
  {
   "cell_type": "code",
   "execution_count": 108,
   "metadata": {},
   "outputs": [
    {
     "name": "stdout",
     "output_type": "stream",
     "text": [
      "Average top 1 performance: 0.3757\n",
      "Per task performance\n",
      "Task 0: 0.9123\n",
      "Task 1: 0.3463\n",
      "Task 2: 0.3827\n",
      "Task 3: 0.2707\n",
      "Task 4: 0.1992\n",
      "Task 5: 0.4007\n",
      "Task 6: 0.2606\n",
      "Task 7: 0.3329\n",
      "Task 8: 0.3485\n",
      "Task 9: 0.3030\n"
     ]
    }
   ],
   "source": [
    "# When task ID we can simply set the mask and evaluate\n",
    "\n",
    "gg_performance = []\n",
    "for task in range(num_tasks):\n",
    "    set_model_task(basis_model_hidf, task)\n",
    "    mnist.update_task(task)\n",
    "    acc1 = evaluate(basis_model_hidf, mnist.val_loader, 0)\n",
    "    gg_performance.append(acc1.item())\n",
    "\n",
    "clear_output()\n",
    "    \n",
    "print(f\"Average top 1 performance: {(sum(gg_performance) / len(gg_performance)):.4f}\")\n",
    "\n",
    "print(\"Per task performance\")\n",
    "for t in range(num_tasks):\n",
    "    print(f\"Task {t}: {gg_performance[t]:.4f}\")"
   ]
  },
  {
   "cell_type": "code",
   "execution_count": 109,
   "metadata": {},
   "outputs": [],
   "source": [
    "performance_map['basis_hybrid_mnist_frozen'] = gg_performance.copy()"
   ]
  },
  {
   "cell_type": "markdown",
   "metadata": {},
   "source": [
    "### Model Initialization (Only New Tasks), 40 masks from task 0 only"
   ]
  },
  {
   "cell_type": "code",
   "execution_count": 112,
   "metadata": {},
   "outputs": [],
   "source": [
    "num_tasks = 50 # For demonstration purposes, we go up to 2500 in our paper\n",
    "num_seed_tasks_learned = 40\n",
    "basis_model_zero_sh = BasisHiddenOnlyMultitaskFC(hidden_size=300, num_tasks=num_tasks, \n",
    "                                num_seed_tasks_learned=num_seed_tasks_learned, start_at_optimal=False, sparsity=0.25)"
   ]
  },
  {
   "cell_type": "code",
   "execution_count": 113,
   "metadata": {},
   "outputs": [],
   "source": [
    "seed_dict = basis_model_zero_sh.state_dict()"
   ]
  },
  {
   "cell_type": "code",
   "execution_count": 114,
   "metadata": {},
   "outputs": [],
   "source": [
    "update_dict = seed_dict.copy()"
   ]
  },
  {
   "cell_type": "code",
   "execution_count": 115,
   "metadata": {},
   "outputs": [],
   "source": [
    "assert all([(model_map[0].state_dict()['model.0.weight'] == model_map[i].state_dict()['model.0.weight']).all() for i in range(1,15)])\n",
    "update_dict['model.0.weight'] = model_map[0].state_dict()['model.0.weight']\n",
    "for task in range(40):\n",
    "    for layer in [0,2]:\n",
    "        update_dict['model.{}.scores.{}'.format(layer, task)] = model_map[task].state_dict()['model.{}.scores.0'.format(layer)]"
   ]
  },
  {
   "cell_type": "code",
   "execution_count": 116,
   "metadata": {},
   "outputs": [
    {
     "name": "stdout",
     "output_type": "stream",
     "text": [
      "=> Caching mask state for model.0\n",
      "=> Caching mask state for model.2\n",
      "=> Caching mask state for model.4\n"
     ]
    }
   ],
   "source": [
    "seed_dict.update(update_dict)\n",
    "basis_model_zero_sh.load_state_dict(seed_dict, False)\n",
    "cache_masks(basis_model_zero_sh)"
   ]
  },
  {
   "cell_type": "code",
   "execution_count": 117,
   "metadata": {},
   "outputs": [
    {
     "data": {
      "text/plain": [
       "(40, 50)"
      ]
     },
     "execution_count": 117,
     "metadata": {},
     "output_type": "execute_result"
    }
   ],
   "source": [
    "num_seed_tasks_learned, num_tasks"
   ]
  },
  {
   "cell_type": "code",
   "execution_count": 118,
   "metadata": {
    "scrolled": true
   },
   "outputs": [
    {
     "name": "stdout",
     "output_type": "stream",
     "text": [
      "Training for task 0\n",
      "=> Set task of model.0 to 0\n",
      "=> Set task of model.2 to 0\n",
      "=> Set task of model.4 to 0\n"
     ]
    },
    {
     "data": {
      "application/vnd.jupyter.widget-view+json": {
       "model_id": "c2768b7c03034db692a6b6c26c7ab7df",
       "version_major": 2,
       "version_minor": 0
      },
      "text/plain": [
       "  0%|          | 0/469 [00:00<?, ?it/s]"
      ]
     },
     "metadata": {},
     "output_type": "display_data"
    },
    {
     "name": "stdout",
     "output_type": "stream",
     "text": [
      "Validation => Loss 1.2034, Acc@1 0.4098\n",
      "============\n"
     ]
    },
    {
     "data": {
      "application/vnd.jupyter.widget-view+json": {
       "model_id": "777def344da64a7b8f5f84eab9ac8743",
       "version_major": 2,
       "version_minor": 0
      },
      "text/plain": [
       "  0%|          | 0/79 [00:00<?, ?it/s]"
      ]
     },
     "metadata": {},
     "output_type": "display_data"
    },
    {
     "name": "stdout",
     "output_type": "stream",
     "text": [
      "Val Perf after 1 epochs Acc@1 0.6935\n"
     ]
    },
    {
     "data": {
      "application/vnd.jupyter.widget-view+json": {
       "model_id": "cccf0e79e89142a0a8748ee70b8c432b",
       "version_major": 2,
       "version_minor": 0
      },
      "text/plain": [
       "  0%|          | 0/469 [00:00<?, ?it/s]"
      ]
     },
     "metadata": {},
     "output_type": "display_data"
    },
    {
     "name": "stdout",
     "output_type": "stream",
     "text": [
      "Validation => Loss 0.4785, Acc@1 0.7415\n",
      "============\n"
     ]
    },
    {
     "data": {
      "application/vnd.jupyter.widget-view+json": {
       "model_id": "f23d09657d6f4670b50aedfecc68e90c",
       "version_major": 2,
       "version_minor": 0
      },
      "text/plain": [
       "  0%|          | 0/79 [00:00<?, ?it/s]"
      ]
     },
     "metadata": {},
     "output_type": "display_data"
    },
    {
     "name": "stdout",
     "output_type": "stream",
     "text": [
      "Val Perf after 2 epochs Acc@1 0.7975\n",
      "=> Caching mask state for model.0\n",
      "=> Caching mask state for model.2\n",
      "=> Caching mask state for model.4\n",
      "\n",
      "=> Setting learned tasks of model.0 to 1\n",
      "=> Setting learned tasks of model.2 to 1\n",
      "=> Setting learned tasks of model.4 to 1\n",
      "\n",
      "Training for task 1\n",
      "=> Set task of model.0 to 1\n",
      "=> Set task of model.2 to 1\n",
      "=> Set task of model.4 to 1\n"
     ]
    },
    {
     "data": {
      "application/vnd.jupyter.widget-view+json": {
       "model_id": "5be188ab0bb94965a3ff82cc98d3448e",
       "version_major": 2,
       "version_minor": 0
      },
      "text/plain": [
       "  0%|          | 0/469 [00:00<?, ?it/s]"
      ]
     },
     "metadata": {},
     "output_type": "display_data"
    },
    {
     "name": "stdout",
     "output_type": "stream",
     "text": [
      "Validation => Loss 1.9924, Acc@1 0.3083\n",
      "============\n"
     ]
    },
    {
     "data": {
      "application/vnd.jupyter.widget-view+json": {
       "model_id": "be0edf2541b44043ae0dc920682e322d",
       "version_major": 2,
       "version_minor": 0
      },
      "text/plain": [
       "  0%|          | 0/79 [00:00<?, ?it/s]"
      ]
     },
     "metadata": {},
     "output_type": "display_data"
    },
    {
     "name": "stdout",
     "output_type": "stream",
     "text": [
      "Val Perf after 1 epochs Acc@1 0.5228\n"
     ]
    },
    {
     "data": {
      "application/vnd.jupyter.widget-view+json": {
       "model_id": "593202e3929143419a0a781a89339d9c",
       "version_major": 2,
       "version_minor": 0
      },
      "text/plain": [
       "  0%|          | 0/469 [00:00<?, ?it/s]"
      ]
     },
     "metadata": {},
     "output_type": "display_data"
    },
    {
     "name": "stdout",
     "output_type": "stream",
     "text": [
      "Validation => Loss 1.3771, Acc@1 0.5775\n",
      "============\n"
     ]
    },
    {
     "data": {
      "application/vnd.jupyter.widget-view+json": {
       "model_id": "cfbbef26ba02427d9127d6f3cde84f46",
       "version_major": 2,
       "version_minor": 0
      },
      "text/plain": [
       "  0%|          | 0/79 [00:00<?, ?it/s]"
      ]
     },
     "metadata": {},
     "output_type": "display_data"
    },
    {
     "name": "stdout",
     "output_type": "stream",
     "text": [
      "Val Perf after 2 epochs Acc@1 0.6276\n",
      "=> Caching mask state for model.0\n",
      "=> Caching mask state for model.2\n",
      "=> Caching mask state for model.4\n",
      "\n",
      "=> Setting learned tasks of model.0 to 2\n",
      "=> Setting learned tasks of model.2 to 2\n",
      "=> Setting learned tasks of model.4 to 2\n",
      "\n",
      "Training for task 2\n",
      "=> Set task of model.0 to 2\n",
      "=> Set task of model.2 to 2\n",
      "=> Set task of model.4 to 2\n"
     ]
    },
    {
     "data": {
      "application/vnd.jupyter.widget-view+json": {
       "model_id": "cef5238fae30489a81be92a89f7ba19c",
       "version_major": 2,
       "version_minor": 0
      },
      "text/plain": [
       "  0%|          | 0/469 [00:00<?, ?it/s]"
      ]
     },
     "metadata": {},
     "output_type": "display_data"
    },
    {
     "name": "stdout",
     "output_type": "stream",
     "text": [
      "Validation => Loss 2.3171, Acc@1 0.2604\n",
      "============\n"
     ]
    },
    {
     "data": {
      "application/vnd.jupyter.widget-view+json": {
       "model_id": "8b7be1f5fe3e47d0a80415192dd458b1",
       "version_major": 2,
       "version_minor": 0
      },
      "text/plain": [
       "  0%|          | 0/79 [00:00<?, ?it/s]"
      ]
     },
     "metadata": {},
     "output_type": "display_data"
    },
    {
     "name": "stdout",
     "output_type": "stream",
     "text": [
      "Val Perf after 1 epochs Acc@1 0.4323\n"
     ]
    },
    {
     "data": {
      "application/vnd.jupyter.widget-view+json": {
       "model_id": "4da5bdf593a34bcd874ce530e25ea7a4",
       "version_major": 2,
       "version_minor": 0
      },
      "text/plain": [
       "  0%|          | 0/469 [00:00<?, ?it/s]"
      ]
     },
     "metadata": {},
     "output_type": "display_data"
    },
    {
     "name": "stdout",
     "output_type": "stream",
     "text": [
      "Validation => Loss 1.6549, Acc@1 0.5293\n",
      "============\n"
     ]
    },
    {
     "data": {
      "application/vnd.jupyter.widget-view+json": {
       "model_id": "64d2f99d8d064066bae7345798ffdba2",
       "version_major": 2,
       "version_minor": 0
      },
      "text/plain": [
       "  0%|          | 0/79 [00:00<?, ?it/s]"
      ]
     },
     "metadata": {},
     "output_type": "display_data"
    },
    {
     "name": "stdout",
     "output_type": "stream",
     "text": [
      "Val Perf after 2 epochs Acc@1 0.5823\n",
      "=> Caching mask state for model.0\n",
      "=> Caching mask state for model.2\n",
      "=> Caching mask state for model.4\n",
      "\n",
      "=> Setting learned tasks of model.0 to 3\n",
      "=> Setting learned tasks of model.2 to 3\n",
      "=> Setting learned tasks of model.4 to 3\n",
      "\n",
      "Training for task 3\n",
      "=> Set task of model.0 to 3\n",
      "=> Set task of model.2 to 3\n",
      "=> Set task of model.4 to 3\n"
     ]
    },
    {
     "data": {
      "application/vnd.jupyter.widget-view+json": {
       "model_id": "dd381ef03bc24bc3b65ede3a6978f998",
       "version_major": 2,
       "version_minor": 0
      },
      "text/plain": [
       "  0%|          | 0/469 [00:00<?, ?it/s]"
      ]
     },
     "metadata": {},
     "output_type": "display_data"
    },
    {
     "name": "stdout",
     "output_type": "stream",
     "text": [
      "Validation => Loss 1.9372, Acc@1 0.2894\n",
      "============\n"
     ]
    },
    {
     "data": {
      "application/vnd.jupyter.widget-view+json": {
       "model_id": "d1c8225fd6a34b7eaba0bfc7b2b3dada",
       "version_major": 2,
       "version_minor": 0
      },
      "text/plain": [
       "  0%|          | 0/79 [00:00<?, ?it/s]"
      ]
     },
     "metadata": {},
     "output_type": "display_data"
    },
    {
     "name": "stdout",
     "output_type": "stream",
     "text": [
      "Val Perf after 1 epochs Acc@1 0.4860\n"
     ]
    },
    {
     "data": {
      "application/vnd.jupyter.widget-view+json": {
       "model_id": "46558335165149bda43779ee0117470e",
       "version_major": 2,
       "version_minor": 0
      },
      "text/plain": [
       "  0%|          | 0/469 [00:00<?, ?it/s]"
      ]
     },
     "metadata": {},
     "output_type": "display_data"
    },
    {
     "name": "stdout",
     "output_type": "stream",
     "text": [
      "Validation => Loss 1.5180, Acc@1 0.5345\n",
      "============\n"
     ]
    },
    {
     "data": {
      "application/vnd.jupyter.widget-view+json": {
       "model_id": "c397708b57a54bb89c13ab83e50103aa",
       "version_major": 2,
       "version_minor": 0
      },
      "text/plain": [
       "  0%|          | 0/79 [00:00<?, ?it/s]"
      ]
     },
     "metadata": {},
     "output_type": "display_data"
    },
    {
     "name": "stdout",
     "output_type": "stream",
     "text": [
      "Val Perf after 2 epochs Acc@1 0.5874\n",
      "=> Caching mask state for model.0\n",
      "=> Caching mask state for model.2\n",
      "=> Caching mask state for model.4\n",
      "\n",
      "=> Setting learned tasks of model.0 to 4\n",
      "=> Setting learned tasks of model.2 to 4\n",
      "=> Setting learned tasks of model.4 to 4\n",
      "\n",
      "Training for task 4\n",
      "=> Set task of model.0 to 4\n",
      "=> Set task of model.2 to 4\n",
      "=> Set task of model.4 to 4\n"
     ]
    },
    {
     "data": {
      "application/vnd.jupyter.widget-view+json": {
       "model_id": "aa4268870e094d8795889a13248aaa74",
       "version_major": 2,
       "version_minor": 0
      },
      "text/plain": [
       "  0%|          | 0/469 [00:00<?, ?it/s]"
      ]
     },
     "metadata": {},
     "output_type": "display_data"
    },
    {
     "name": "stdout",
     "output_type": "stream",
     "text": [
      "Validation => Loss 2.2453, Acc@1 0.2559\n",
      "============\n"
     ]
    },
    {
     "data": {
      "application/vnd.jupyter.widget-view+json": {
       "model_id": "2c29ebb5ab534b39918f9a5373cc398b",
       "version_major": 2,
       "version_minor": 0
      },
      "text/plain": [
       "  0%|          | 0/79 [00:00<?, ?it/s]"
      ]
     },
     "metadata": {},
     "output_type": "display_data"
    },
    {
     "name": "stdout",
     "output_type": "stream",
     "text": [
      "Val Perf after 1 epochs Acc@1 0.4470\n"
     ]
    },
    {
     "data": {
      "application/vnd.jupyter.widget-view+json": {
       "model_id": "f378a5fddd8b4a16878e2f723758d50f",
       "version_major": 2,
       "version_minor": 0
      },
      "text/plain": [
       "  0%|          | 0/469 [00:00<?, ?it/s]"
      ]
     },
     "metadata": {},
     "output_type": "display_data"
    },
    {
     "name": "stdout",
     "output_type": "stream",
     "text": [
      "Validation => Loss 1.7920, Acc@1 0.4993\n",
      "============\n"
     ]
    },
    {
     "data": {
      "application/vnd.jupyter.widget-view+json": {
       "model_id": "f5f43c21cc8b446396b8a3732746da51",
       "version_major": 2,
       "version_minor": 0
      },
      "text/plain": [
       "  0%|          | 0/79 [00:00<?, ?it/s]"
      ]
     },
     "metadata": {},
     "output_type": "display_data"
    },
    {
     "name": "stdout",
     "output_type": "stream",
     "text": [
      "Val Perf after 2 epochs Acc@1 0.5553\n",
      "=> Caching mask state for model.0\n",
      "=> Caching mask state for model.2\n",
      "=> Caching mask state for model.4\n",
      "\n",
      "=> Setting learned tasks of model.0 to 5\n",
      "=> Setting learned tasks of model.2 to 5\n",
      "=> Setting learned tasks of model.4 to 5\n",
      "\n",
      "Training for task 5\n",
      "=> Set task of model.0 to 5\n",
      "=> Set task of model.2 to 5\n",
      "=> Set task of model.4 to 5\n"
     ]
    },
    {
     "data": {
      "application/vnd.jupyter.widget-view+json": {
       "model_id": "afab73294941431a8f954e01419f08b4",
       "version_major": 2,
       "version_minor": 0
      },
      "text/plain": [
       "  0%|          | 0/469 [00:00<?, ?it/s]"
      ]
     },
     "metadata": {},
     "output_type": "display_data"
    },
    {
     "name": "stdout",
     "output_type": "stream",
     "text": [
      "Validation => Loss 1.9094, Acc@1 0.2939\n",
      "============\n"
     ]
    },
    {
     "data": {
      "application/vnd.jupyter.widget-view+json": {
       "model_id": "3588fe995ec84e349ac02c9f53c1678a",
       "version_major": 2,
       "version_minor": 0
      },
      "text/plain": [
       "  0%|          | 0/79 [00:00<?, ?it/s]"
      ]
     },
     "metadata": {},
     "output_type": "display_data"
    },
    {
     "name": "stdout",
     "output_type": "stream",
     "text": [
      "Val Perf after 1 epochs Acc@1 0.4925\n"
     ]
    },
    {
     "data": {
      "application/vnd.jupyter.widget-view+json": {
       "model_id": "019077d758dc4bbcb29a4bf2ec5a3140",
       "version_major": 2,
       "version_minor": 0
      },
      "text/plain": [
       "  0%|          | 0/469 [00:00<?, ?it/s]"
      ]
     },
     "metadata": {},
     "output_type": "display_data"
    },
    {
     "name": "stdout",
     "output_type": "stream",
     "text": [
      "Validation => Loss 1.4306, Acc@1 0.5557\n",
      "============\n"
     ]
    },
    {
     "data": {
      "application/vnd.jupyter.widget-view+json": {
       "model_id": "748b1250390742af8698194e659e9ca0",
       "version_major": 2,
       "version_minor": 0
      },
      "text/plain": [
       "  0%|          | 0/79 [00:00<?, ?it/s]"
      ]
     },
     "metadata": {},
     "output_type": "display_data"
    },
    {
     "name": "stdout",
     "output_type": "stream",
     "text": [
      "Val Perf after 2 epochs Acc@1 0.6169\n",
      "=> Caching mask state for model.0\n",
      "=> Caching mask state for model.2\n",
      "=> Caching mask state for model.4\n",
      "\n",
      "=> Setting learned tasks of model.0 to 6\n",
      "=> Setting learned tasks of model.2 to 6\n",
      "=> Setting learned tasks of model.4 to 6\n",
      "\n",
      "Training for task 6\n",
      "=> Set task of model.0 to 6\n",
      "=> Set task of model.2 to 6\n",
      "=> Set task of model.4 to 6\n"
     ]
    },
    {
     "data": {
      "application/vnd.jupyter.widget-view+json": {
       "model_id": "beb6dc591e1342339a7de71ccd6f410b",
       "version_major": 2,
       "version_minor": 0
      },
      "text/plain": [
       "  0%|          | 0/469 [00:00<?, ?it/s]"
      ]
     },
     "metadata": {},
     "output_type": "display_data"
    },
    {
     "name": "stdout",
     "output_type": "stream",
     "text": [
      "Validation => Loss 2.0946, Acc@1 0.2650\n",
      "============\n"
     ]
    },
    {
     "data": {
      "application/vnd.jupyter.widget-view+json": {
       "model_id": "0f0cd1a985694a698599cda5ba409586",
       "version_major": 2,
       "version_minor": 0
      },
      "text/plain": [
       "  0%|          | 0/79 [00:00<?, ?it/s]"
      ]
     },
     "metadata": {},
     "output_type": "display_data"
    },
    {
     "name": "stdout",
     "output_type": "stream",
     "text": [
      "Val Perf after 1 epochs Acc@1 0.4852\n"
     ]
    },
    {
     "data": {
      "application/vnd.jupyter.widget-view+json": {
       "model_id": "edb8715f3093400892d1570602c87c5b",
       "version_major": 2,
       "version_minor": 0
      },
      "text/plain": [
       "  0%|          | 0/469 [00:00<?, ?it/s]"
      ]
     },
     "metadata": {},
     "output_type": "display_data"
    },
    {
     "name": "stdout",
     "output_type": "stream",
     "text": [
      "Validation => Loss 1.5732, Acc@1 0.5430\n",
      "============\n"
     ]
    },
    {
     "data": {
      "application/vnd.jupyter.widget-view+json": {
       "model_id": "32563b085d1d41ca8ca48426bbc2e522",
       "version_major": 2,
       "version_minor": 0
      },
      "text/plain": [
       "  0%|          | 0/79 [00:00<?, ?it/s]"
      ]
     },
     "metadata": {},
     "output_type": "display_data"
    },
    {
     "name": "stdout",
     "output_type": "stream",
     "text": [
      "Val Perf after 2 epochs Acc@1 0.6039\n",
      "=> Caching mask state for model.0\n",
      "=> Caching mask state for model.2\n",
      "=> Caching mask state for model.4\n",
      "\n",
      "=> Setting learned tasks of model.0 to 7\n",
      "=> Setting learned tasks of model.2 to 7\n",
      "=> Setting learned tasks of model.4 to 7\n",
      "\n",
      "Training for task 7\n",
      "=> Set task of model.0 to 7\n",
      "=> Set task of model.2 to 7\n",
      "=> Set task of model.4 to 7\n"
     ]
    },
    {
     "data": {
      "application/vnd.jupyter.widget-view+json": {
       "model_id": "2530983a7c0540b2802db37e0061be76",
       "version_major": 2,
       "version_minor": 0
      },
      "text/plain": [
       "  0%|          | 0/469 [00:00<?, ?it/s]"
      ]
     },
     "metadata": {},
     "output_type": "display_data"
    },
    {
     "name": "stdout",
     "output_type": "stream",
     "text": [
      "Validation => Loss 1.8896, Acc@1 0.3057\n",
      "============\n"
     ]
    },
    {
     "data": {
      "application/vnd.jupyter.widget-view+json": {
       "model_id": "cfa904cfa6604b7d813d15bfbbdc7dd2",
       "version_major": 2,
       "version_minor": 0
      },
      "text/plain": [
       "  0%|          | 0/79 [00:00<?, ?it/s]"
      ]
     },
     "metadata": {},
     "output_type": "display_data"
    },
    {
     "name": "stdout",
     "output_type": "stream",
     "text": [
      "Val Perf after 1 epochs Acc@1 0.5360\n"
     ]
    },
    {
     "data": {
      "application/vnd.jupyter.widget-view+json": {
       "model_id": "b01c39023e2941b9a4595c3c15d9166a",
       "version_major": 2,
       "version_minor": 0
      },
      "text/plain": [
       "  0%|          | 0/469 [00:00<?, ?it/s]"
      ]
     },
     "metadata": {},
     "output_type": "display_data"
    },
    {
     "name": "stdout",
     "output_type": "stream",
     "text": [
      "Validation => Loss 1.4254, Acc@1 0.6087\n",
      "============\n"
     ]
    },
    {
     "data": {
      "application/vnd.jupyter.widget-view+json": {
       "model_id": "8d31d4b7e4294e4388395cf2da3eb0dc",
       "version_major": 2,
       "version_minor": 0
      },
      "text/plain": [
       "  0%|          | 0/79 [00:00<?, ?it/s]"
      ]
     },
     "metadata": {},
     "output_type": "display_data"
    },
    {
     "name": "stdout",
     "output_type": "stream",
     "text": [
      "Val Perf after 2 epochs Acc@1 0.6550\n",
      "=> Caching mask state for model.0\n",
      "=> Caching mask state for model.2\n",
      "=> Caching mask state for model.4\n",
      "\n",
      "=> Setting learned tasks of model.0 to 8\n",
      "=> Setting learned tasks of model.2 to 8\n",
      "=> Setting learned tasks of model.4 to 8\n",
      "\n",
      "Training for task 8\n",
      "=> Set task of model.0 to 8\n",
      "=> Set task of model.2 to 8\n",
      "=> Set task of model.4 to 8\n"
     ]
    },
    {
     "data": {
      "application/vnd.jupyter.widget-view+json": {
       "model_id": "4c36cb1d79594d72b0ee06fa39a30a07",
       "version_major": 2,
       "version_minor": 0
      },
      "text/plain": [
       "  0%|          | 0/469 [00:00<?, ?it/s]"
      ]
     },
     "metadata": {},
     "output_type": "display_data"
    },
    {
     "name": "stdout",
     "output_type": "stream",
     "text": [
      "Validation => Loss 2.4104, Acc@1 0.2230\n",
      "============\n"
     ]
    },
    {
     "data": {
      "application/vnd.jupyter.widget-view+json": {
       "model_id": "a374732d3bd24e1a8f5903af3f3985d2",
       "version_major": 2,
       "version_minor": 0
      },
      "text/plain": [
       "  0%|          | 0/79 [00:00<?, ?it/s]"
      ]
     },
     "metadata": {},
     "output_type": "display_data"
    },
    {
     "name": "stdout",
     "output_type": "stream",
     "text": [
      "Val Perf after 1 epochs Acc@1 0.4618\n"
     ]
    },
    {
     "data": {
      "application/vnd.jupyter.widget-view+json": {
       "model_id": "6ccea47b734c44e3b46ea6aa62257a4d",
       "version_major": 2,
       "version_minor": 0
      },
      "text/plain": [
       "  0%|          | 0/469 [00:00<?, ?it/s]"
      ]
     },
     "metadata": {},
     "output_type": "display_data"
    },
    {
     "name": "stdout",
     "output_type": "stream",
     "text": [
      "Validation => Loss 1.7487, Acc@1 0.5114\n",
      "============\n"
     ]
    },
    {
     "data": {
      "application/vnd.jupyter.widget-view+json": {
       "model_id": "e411eb65680c467f9e036490d80a250d",
       "version_major": 2,
       "version_minor": 0
      },
      "text/plain": [
       "  0%|          | 0/79 [00:00<?, ?it/s]"
      ]
     },
     "metadata": {},
     "output_type": "display_data"
    },
    {
     "name": "stdout",
     "output_type": "stream",
     "text": [
      "Val Perf after 2 epochs Acc@1 0.5928\n",
      "=> Caching mask state for model.0\n",
      "=> Caching mask state for model.2\n",
      "=> Caching mask state for model.4\n",
      "\n",
      "=> Setting learned tasks of model.0 to 9\n",
      "=> Setting learned tasks of model.2 to 9\n",
      "=> Setting learned tasks of model.4 to 9\n",
      "\n",
      "Training for task 9\n",
      "=> Set task of model.0 to 9\n",
      "=> Set task of model.2 to 9\n",
      "=> Set task of model.4 to 9\n"
     ]
    },
    {
     "data": {
      "application/vnd.jupyter.widget-view+json": {
       "model_id": "dade97cae1a641439d6d0c18452cc42d",
       "version_major": 2,
       "version_minor": 0
      },
      "text/plain": [
       "  0%|          | 0/469 [00:00<?, ?it/s]"
      ]
     },
     "metadata": {},
     "output_type": "display_data"
    },
    {
     "name": "stdout",
     "output_type": "stream",
     "text": [
      "Validation => Loss 2.0476, Acc@1 0.3008\n",
      "============\n"
     ]
    },
    {
     "data": {
      "application/vnd.jupyter.widget-view+json": {
       "model_id": "26244da4cdf04846a8e834a4128bda5d",
       "version_major": 2,
       "version_minor": 0
      },
      "text/plain": [
       "  0%|          | 0/79 [00:00<?, ?it/s]"
      ]
     },
     "metadata": {},
     "output_type": "display_data"
    },
    {
     "name": "stdout",
     "output_type": "stream",
     "text": [
      "Val Perf after 1 epochs Acc@1 0.5266\n"
     ]
    },
    {
     "data": {
      "application/vnd.jupyter.widget-view+json": {
       "model_id": "b61b6d6d884b4f9296db3d99b1245078",
       "version_major": 2,
       "version_minor": 0
      },
      "text/plain": [
       "  0%|          | 0/469 [00:00<?, ?it/s]"
      ]
     },
     "metadata": {},
     "output_type": "display_data"
    },
    {
     "name": "stdout",
     "output_type": "stream",
     "text": [
      "Validation => Loss 1.4236, Acc@1 0.5827\n",
      "============\n"
     ]
    },
    {
     "data": {
      "application/vnd.jupyter.widget-view+json": {
       "model_id": "42133549f5784b3eb66cfb090b67ae95",
       "version_major": 2,
       "version_minor": 0
      },
      "text/plain": [
       "  0%|          | 0/79 [00:00<?, ?it/s]"
      ]
     },
     "metadata": {},
     "output_type": "display_data"
    },
    {
     "name": "stdout",
     "output_type": "stream",
     "text": [
      "Val Perf after 2 epochs Acc@1 0.6393\n",
      "=> Caching mask state for model.0\n",
      "=> Caching mask state for model.2\n",
      "=> Caching mask state for model.4\n",
      "\n",
      "=> Setting learned tasks of model.0 to 10\n",
      "=> Setting learned tasks of model.2 to 10\n",
      "=> Setting learned tasks of model.4 to 10\n",
      "\n",
      "Training for task 10\n",
      "=> Set task of model.0 to 10\n",
      "=> Set task of model.2 to 10\n",
      "=> Set task of model.4 to 10\n"
     ]
    },
    {
     "data": {
      "application/vnd.jupyter.widget-view+json": {
       "model_id": "fc8a32a0a6944b4a945cc3bb5983ce19",
       "version_major": 2,
       "version_minor": 0
      },
      "text/plain": [
       "  0%|          | 0/469 [00:00<?, ?it/s]"
      ]
     },
     "metadata": {},
     "output_type": "display_data"
    },
    {
     "name": "stdout",
     "output_type": "stream",
     "text": [
      "Validation => Loss 2.0776, Acc@1 0.2897\n",
      "============\n"
     ]
    },
    {
     "data": {
      "application/vnd.jupyter.widget-view+json": {
       "model_id": "96c0d506cdce48fbb1f46383940a054f",
       "version_major": 2,
       "version_minor": 0
      },
      "text/plain": [
       "  0%|          | 0/79 [00:00<?, ?it/s]"
      ]
     },
     "metadata": {},
     "output_type": "display_data"
    },
    {
     "name": "stdout",
     "output_type": "stream",
     "text": [
      "Val Perf after 1 epochs Acc@1 0.5086\n"
     ]
    },
    {
     "data": {
      "application/vnd.jupyter.widget-view+json": {
       "model_id": "8ca325104a9b40cba7e671ba9875e53f",
       "version_major": 2,
       "version_minor": 0
      },
      "text/plain": [
       "  0%|          | 0/469 [00:00<?, ?it/s]"
      ]
     },
     "metadata": {},
     "output_type": "display_data"
    },
    {
     "name": "stdout",
     "output_type": "stream",
     "text": [
      "Validation => Loss 1.3950, Acc@1 0.5599\n",
      "============\n"
     ]
    },
    {
     "data": {
      "application/vnd.jupyter.widget-view+json": {
       "model_id": "f758cdf7dd3c47fc94c2066916147446",
       "version_major": 2,
       "version_minor": 0
      },
      "text/plain": [
       "  0%|          | 0/79 [00:00<?, ?it/s]"
      ]
     },
     "metadata": {},
     "output_type": "display_data"
    },
    {
     "name": "stdout",
     "output_type": "stream",
     "text": [
      "Val Perf after 2 epochs Acc@1 0.6088\n",
      "=> Caching mask state for model.0\n",
      "=> Caching mask state for model.2\n",
      "=> Caching mask state for model.4\n",
      "\n",
      "=> Setting learned tasks of model.0 to 11\n",
      "=> Setting learned tasks of model.2 to 11\n",
      "=> Setting learned tasks of model.4 to 11\n",
      "\n",
      "Training for task 11\n",
      "=> Set task of model.0 to 11\n",
      "=> Set task of model.2 to 11\n",
      "=> Set task of model.4 to 11\n"
     ]
    },
    {
     "data": {
      "application/vnd.jupyter.widget-view+json": {
       "model_id": "27e07c9952cc41f8ad6356a5e4532bfd",
       "version_major": 2,
       "version_minor": 0
      },
      "text/plain": [
       "  0%|          | 0/469 [00:00<?, ?it/s]"
      ]
     },
     "metadata": {},
     "output_type": "display_data"
    },
    {
     "name": "stdout",
     "output_type": "stream",
     "text": [
      "Validation => Loss 2.0807, Acc@1 0.2197\n",
      "============\n"
     ]
    },
    {
     "data": {
      "application/vnd.jupyter.widget-view+json": {
       "model_id": "a9b92c3432d9454582cceda1067ebd38",
       "version_major": 2,
       "version_minor": 0
      },
      "text/plain": [
       "  0%|          | 0/79 [00:00<?, ?it/s]"
      ]
     },
     "metadata": {},
     "output_type": "display_data"
    },
    {
     "name": "stdout",
     "output_type": "stream",
     "text": [
      "Val Perf after 1 epochs Acc@1 0.4324\n"
     ]
    },
    {
     "data": {
      "application/vnd.jupyter.widget-view+json": {
       "model_id": "b9b69a4b46ea4f6e8dc827177dccb03d",
       "version_major": 2,
       "version_minor": 0
      },
      "text/plain": [
       "  0%|          | 0/469 [00:00<?, ?it/s]"
      ]
     },
     "metadata": {},
     "output_type": "display_data"
    },
    {
     "name": "stdout",
     "output_type": "stream",
     "text": [
      "Validation => Loss 1.5193, Acc@1 0.5505\n",
      "============\n"
     ]
    },
    {
     "data": {
      "application/vnd.jupyter.widget-view+json": {
       "model_id": "d8daa7c59ac744ee83b1f9e44e5b71e9",
       "version_major": 2,
       "version_minor": 0
      },
      "text/plain": [
       "  0%|          | 0/79 [00:00<?, ?it/s]"
      ]
     },
     "metadata": {},
     "output_type": "display_data"
    },
    {
     "name": "stdout",
     "output_type": "stream",
     "text": [
      "Val Perf after 2 epochs Acc@1 0.6289\n",
      "=> Caching mask state for model.0\n",
      "=> Caching mask state for model.2\n",
      "=> Caching mask state for model.4\n",
      "\n",
      "=> Setting learned tasks of model.0 to 12\n",
      "=> Setting learned tasks of model.2 to 12\n",
      "=> Setting learned tasks of model.4 to 12\n",
      "\n",
      "Training for task 12\n",
      "=> Set task of model.0 to 12\n",
      "=> Set task of model.2 to 12\n",
      "=> Set task of model.4 to 12\n"
     ]
    },
    {
     "data": {
      "application/vnd.jupyter.widget-view+json": {
       "model_id": "dedaea7513e34c3b97be87beb7ffc6e4",
       "version_major": 2,
       "version_minor": 0
      },
      "text/plain": [
       "  0%|          | 0/469 [00:00<?, ?it/s]"
      ]
     },
     "metadata": {},
     "output_type": "display_data"
    },
    {
     "name": "stdout",
     "output_type": "stream",
     "text": [
      "Validation => Loss 2.2721, Acc@1 0.2373\n",
      "============\n"
     ]
    },
    {
     "data": {
      "application/vnd.jupyter.widget-view+json": {
       "model_id": "f0d0c5802a27435aad3fa0ff40ca623b",
       "version_major": 2,
       "version_minor": 0
      },
      "text/plain": [
       "  0%|          | 0/79 [00:00<?, ?it/s]"
      ]
     },
     "metadata": {},
     "output_type": "display_data"
    },
    {
     "name": "stdout",
     "output_type": "stream",
     "text": [
      "Val Perf after 1 epochs Acc@1 0.3667\n"
     ]
    },
    {
     "data": {
      "application/vnd.jupyter.widget-view+json": {
       "model_id": "cd3cf8c8ea1a48d8ade7ede88a264ec3",
       "version_major": 2,
       "version_minor": 0
      },
      "text/plain": [
       "  0%|          | 0/469 [00:00<?, ?it/s]"
      ]
     },
     "metadata": {},
     "output_type": "display_data"
    },
    {
     "name": "stdout",
     "output_type": "stream",
     "text": [
      "Validation => Loss 1.9665, Acc@1 0.4414\n",
      "============\n"
     ]
    },
    {
     "data": {
      "application/vnd.jupyter.widget-view+json": {
       "model_id": "5b4f7fb5005d40cc852058ff21a090d0",
       "version_major": 2,
       "version_minor": 0
      },
      "text/plain": [
       "  0%|          | 0/79 [00:00<?, ?it/s]"
      ]
     },
     "metadata": {},
     "output_type": "display_data"
    },
    {
     "name": "stdout",
     "output_type": "stream",
     "text": [
      "Val Perf after 2 epochs Acc@1 0.4964\n",
      "=> Caching mask state for model.0\n",
      "=> Caching mask state for model.2\n",
      "=> Caching mask state for model.4\n",
      "\n",
      "=> Setting learned tasks of model.0 to 13\n",
      "=> Setting learned tasks of model.2 to 13\n",
      "=> Setting learned tasks of model.4 to 13\n",
      "\n",
      "Training for task 13\n",
      "=> Set task of model.0 to 13\n",
      "=> Set task of model.2 to 13\n",
      "=> Set task of model.4 to 13\n"
     ]
    },
    {
     "data": {
      "application/vnd.jupyter.widget-view+json": {
       "model_id": "ec396ff2f8da469593b6f790b24c7ea6",
       "version_major": 2,
       "version_minor": 0
      },
      "text/plain": [
       "  0%|          | 0/469 [00:00<?, ?it/s]"
      ]
     },
     "metadata": {},
     "output_type": "display_data"
    },
    {
     "name": "stdout",
     "output_type": "stream",
     "text": [
      "Validation => Loss 2.1453, Acc@1 0.2562\n",
      "============\n"
     ]
    },
    {
     "data": {
      "application/vnd.jupyter.widget-view+json": {
       "model_id": "eaf6107acb9d4b1cad8c9113540579d8",
       "version_major": 2,
       "version_minor": 0
      },
      "text/plain": [
       "  0%|          | 0/79 [00:00<?, ?it/s]"
      ]
     },
     "metadata": {},
     "output_type": "display_data"
    },
    {
     "name": "stdout",
     "output_type": "stream",
     "text": [
      "Val Perf after 1 epochs Acc@1 0.4275\n"
     ]
    },
    {
     "data": {
      "application/vnd.jupyter.widget-view+json": {
       "model_id": "18ee7c5c91d44ef993138807ecc0bd65",
       "version_major": 2,
       "version_minor": 0
      },
      "text/plain": [
       "  0%|          | 0/469 [00:00<?, ?it/s]"
      ]
     },
     "metadata": {},
     "output_type": "display_data"
    },
    {
     "name": "stdout",
     "output_type": "stream",
     "text": [
      "Validation => Loss 1.5668, Acc@1 0.5270\n",
      "============\n"
     ]
    },
    {
     "data": {
      "application/vnd.jupyter.widget-view+json": {
       "model_id": "51bf7b9fd9494ee690abb6a8a2a2331a",
       "version_major": 2,
       "version_minor": 0
      },
      "text/plain": [
       "  0%|          | 0/79 [00:00<?, ?it/s]"
      ]
     },
     "metadata": {},
     "output_type": "display_data"
    },
    {
     "name": "stdout",
     "output_type": "stream",
     "text": [
      "Val Perf after 2 epochs Acc@1 0.5944\n",
      "=> Caching mask state for model.0\n",
      "=> Caching mask state for model.2\n",
      "=> Caching mask state for model.4\n",
      "\n",
      "=> Setting learned tasks of model.0 to 14\n",
      "=> Setting learned tasks of model.2 to 14\n",
      "=> Setting learned tasks of model.4 to 14\n",
      "\n",
      "Training for task 14\n",
      "=> Set task of model.0 to 14\n",
      "=> Set task of model.2 to 14\n",
      "=> Set task of model.4 to 14\n"
     ]
    },
    {
     "data": {
      "application/vnd.jupyter.widget-view+json": {
       "model_id": "12150bd622304c33b44b8b688152607f",
       "version_major": 2,
       "version_minor": 0
      },
      "text/plain": [
       "  0%|          | 0/469 [00:00<?, ?it/s]"
      ]
     },
     "metadata": {},
     "output_type": "display_data"
    },
    {
     "name": "stdout",
     "output_type": "stream",
     "text": [
      "Validation => Loss 1.9322, Acc@1 0.3138\n",
      "============\n"
     ]
    },
    {
     "data": {
      "application/vnd.jupyter.widget-view+json": {
       "model_id": "2e208e5dc5eb4664bd28ae0bc92ae4aa",
       "version_major": 2,
       "version_minor": 0
      },
      "text/plain": [
       "  0%|          | 0/79 [00:00<?, ?it/s]"
      ]
     },
     "metadata": {},
     "output_type": "display_data"
    },
    {
     "name": "stdout",
     "output_type": "stream",
     "text": [
      "Val Perf after 1 epochs Acc@1 0.4775\n"
     ]
    },
    {
     "data": {
      "application/vnd.jupyter.widget-view+json": {
       "model_id": "6d30b3a520d44de286b500fd4ce8b2bf",
       "version_major": 2,
       "version_minor": 0
      },
      "text/plain": [
       "  0%|          | 0/469 [00:00<?, ?it/s]"
      ]
     },
     "metadata": {},
     "output_type": "display_data"
    },
    {
     "name": "stdout",
     "output_type": "stream",
     "text": [
      "Validation => Loss 1.3939, Acc@1 0.5680\n",
      "============\n"
     ]
    },
    {
     "data": {
      "application/vnd.jupyter.widget-view+json": {
       "model_id": "090a7aa877194ab78b94d1e38dd0a211",
       "version_major": 2,
       "version_minor": 0
      },
      "text/plain": [
       "  0%|          | 0/79 [00:00<?, ?it/s]"
      ]
     },
     "metadata": {},
     "output_type": "display_data"
    },
    {
     "name": "stdout",
     "output_type": "stream",
     "text": [
      "Val Perf after 2 epochs Acc@1 0.6039\n",
      "=> Caching mask state for model.0\n",
      "=> Caching mask state for model.2\n",
      "=> Caching mask state for model.4\n",
      "\n",
      "=> Setting learned tasks of model.0 to 15\n",
      "=> Setting learned tasks of model.2 to 15\n",
      "=> Setting learned tasks of model.4 to 15\n",
      "\n",
      "Training for task 15\n",
      "=> Set task of model.0 to 15\n",
      "=> Set task of model.2 to 15\n",
      "=> Set task of model.4 to 15\n"
     ]
    },
    {
     "data": {
      "application/vnd.jupyter.widget-view+json": {
       "model_id": "7d4fab4a6389430c980102bcf031ddeb",
       "version_major": 2,
       "version_minor": 0
      },
      "text/plain": [
       "  0%|          | 0/469 [00:00<?, ?it/s]"
      ]
     },
     "metadata": {},
     "output_type": "display_data"
    },
    {
     "name": "stdout",
     "output_type": "stream",
     "text": [
      "Validation => Loss 2.0746, Acc@1 0.2380\n",
      "============\n"
     ]
    },
    {
     "data": {
      "application/vnd.jupyter.widget-view+json": {
       "model_id": "c144d4bac3bb4eb1864498d730549a80",
       "version_major": 2,
       "version_minor": 0
      },
      "text/plain": [
       "  0%|          | 0/79 [00:00<?, ?it/s]"
      ]
     },
     "metadata": {},
     "output_type": "display_data"
    },
    {
     "name": "stdout",
     "output_type": "stream",
     "text": [
      "Val Perf after 1 epochs Acc@1 0.4421\n"
     ]
    },
    {
     "data": {
      "application/vnd.jupyter.widget-view+json": {
       "model_id": "c86692fa391549dfbb11e1c4314c9864",
       "version_major": 2,
       "version_minor": 0
      },
      "text/plain": [
       "  0%|          | 0/469 [00:00<?, ?it/s]"
      ]
     },
     "metadata": {},
     "output_type": "display_data"
    },
    {
     "name": "stdout",
     "output_type": "stream",
     "text": [
      "Validation => Loss 1.5912, Acc@1 0.5303\n",
      "============\n"
     ]
    },
    {
     "data": {
      "application/vnd.jupyter.widget-view+json": {
       "model_id": "450782a6d0aa4833a411acb81ae86aec",
       "version_major": 2,
       "version_minor": 0
      },
      "text/plain": [
       "  0%|          | 0/79 [00:00<?, ?it/s]"
      ]
     },
     "metadata": {},
     "output_type": "display_data"
    },
    {
     "name": "stdout",
     "output_type": "stream",
     "text": [
      "Val Perf after 2 epochs Acc@1 0.5837\n",
      "=> Caching mask state for model.0\n",
      "=> Caching mask state for model.2\n",
      "=> Caching mask state for model.4\n",
      "\n",
      "=> Setting learned tasks of model.0 to 16\n",
      "=> Setting learned tasks of model.2 to 16\n",
      "=> Setting learned tasks of model.4 to 16\n",
      "\n",
      "Training for task 16\n",
      "=> Set task of model.0 to 16\n",
      "=> Set task of model.2 to 16\n",
      "=> Set task of model.4 to 16\n"
     ]
    },
    {
     "data": {
      "application/vnd.jupyter.widget-view+json": {
       "model_id": "095d61b30ba540a5ab81981f1df52750",
       "version_major": 2,
       "version_minor": 0
      },
      "text/plain": [
       "  0%|          | 0/469 [00:00<?, ?it/s]"
      ]
     },
     "metadata": {},
     "output_type": "display_data"
    },
    {
     "name": "stdout",
     "output_type": "stream",
     "text": [
      "Validation => Loss 2.1759, Acc@1 0.2546\n",
      "============\n"
     ]
    },
    {
     "data": {
      "application/vnd.jupyter.widget-view+json": {
       "model_id": "5329febf993c48828c8489690043d984",
       "version_major": 2,
       "version_minor": 0
      },
      "text/plain": [
       "  0%|          | 0/79 [00:00<?, ?it/s]"
      ]
     },
     "metadata": {},
     "output_type": "display_data"
    },
    {
     "name": "stdout",
     "output_type": "stream",
     "text": [
      "Val Perf after 1 epochs Acc@1 0.4098\n"
     ]
    },
    {
     "data": {
      "application/vnd.jupyter.widget-view+json": {
       "model_id": "fbd170e21ec147e98a151ae6dfe19236",
       "version_major": 2,
       "version_minor": 0
      },
      "text/plain": [
       "  0%|          | 0/469 [00:00<?, ?it/s]"
      ]
     },
     "metadata": {},
     "output_type": "display_data"
    },
    {
     "name": "stdout",
     "output_type": "stream",
     "text": [
      "Validation => Loss 1.8197, Acc@1 0.4762\n",
      "============\n"
     ]
    },
    {
     "data": {
      "application/vnd.jupyter.widget-view+json": {
       "model_id": "7a224d96be054bb79fb779b692cb074e",
       "version_major": 2,
       "version_minor": 0
      },
      "text/plain": [
       "  0%|          | 0/79 [00:00<?, ?it/s]"
      ]
     },
     "metadata": {},
     "output_type": "display_data"
    },
    {
     "name": "stdout",
     "output_type": "stream",
     "text": [
      "Val Perf after 2 epochs Acc@1 0.5528\n",
      "=> Caching mask state for model.0\n",
      "=> Caching mask state for model.2\n",
      "=> Caching mask state for model.4\n",
      "\n",
      "=> Setting learned tasks of model.0 to 17\n",
      "=> Setting learned tasks of model.2 to 17\n",
      "=> Setting learned tasks of model.4 to 17\n",
      "\n",
      "Training for task 17\n",
      "=> Set task of model.0 to 17\n",
      "=> Set task of model.2 to 17\n",
      "=> Set task of model.4 to 17\n"
     ]
    },
    {
     "data": {
      "application/vnd.jupyter.widget-view+json": {
       "model_id": "7bb90e4bebf44a25945e0307f7ecc67f",
       "version_major": 2,
       "version_minor": 0
      },
      "text/plain": [
       "  0%|          | 0/469 [00:00<?, ?it/s]"
      ]
     },
     "metadata": {},
     "output_type": "display_data"
    },
    {
     "name": "stdout",
     "output_type": "stream",
     "text": [
      "Validation => Loss 1.9920, Acc@1 0.2682\n",
      "============\n"
     ]
    },
    {
     "data": {
      "application/vnd.jupyter.widget-view+json": {
       "model_id": "91be42b184be47709f923bf1313552b8",
       "version_major": 2,
       "version_minor": 0
      },
      "text/plain": [
       "  0%|          | 0/79 [00:00<?, ?it/s]"
      ]
     },
     "metadata": {},
     "output_type": "display_data"
    },
    {
     "name": "stdout",
     "output_type": "stream",
     "text": [
      "Val Perf after 1 epochs Acc@1 0.4392\n"
     ]
    },
    {
     "data": {
      "application/vnd.jupyter.widget-view+json": {
       "model_id": "c7ca87642b5643969b2283197a733b28",
       "version_major": 2,
       "version_minor": 0
      },
      "text/plain": [
       "  0%|          | 0/469 [00:00<?, ?it/s]"
      ]
     },
     "metadata": {},
     "output_type": "display_data"
    },
    {
     "name": "stdout",
     "output_type": "stream",
     "text": [
      "Validation => Loss 1.4652, Acc@1 0.5358\n",
      "============\n"
     ]
    },
    {
     "data": {
      "application/vnd.jupyter.widget-view+json": {
       "model_id": "3199bf7cb325489fb94ab86f76b54b6f",
       "version_major": 2,
       "version_minor": 0
      },
      "text/plain": [
       "  0%|          | 0/79 [00:00<?, ?it/s]"
      ]
     },
     "metadata": {},
     "output_type": "display_data"
    },
    {
     "name": "stdout",
     "output_type": "stream",
     "text": [
      "Val Perf after 2 epochs Acc@1 0.5962\n",
      "=> Caching mask state for model.0\n",
      "=> Caching mask state for model.2\n",
      "=> Caching mask state for model.4\n",
      "\n",
      "=> Setting learned tasks of model.0 to 18\n",
      "=> Setting learned tasks of model.2 to 18\n",
      "=> Setting learned tasks of model.4 to 18\n",
      "\n",
      "Training for task 18\n",
      "=> Set task of model.0 to 18\n",
      "=> Set task of model.2 to 18\n",
      "=> Set task of model.4 to 18\n"
     ]
    },
    {
     "data": {
      "application/vnd.jupyter.widget-view+json": {
       "model_id": "c8568fc9f2834ca58ab9d2342b0e7944",
       "version_major": 2,
       "version_minor": 0
      },
      "text/plain": [
       "  0%|          | 0/469 [00:00<?, ?it/s]"
      ]
     },
     "metadata": {},
     "output_type": "display_data"
    },
    {
     "name": "stdout",
     "output_type": "stream",
     "text": [
      "Validation => Loss 2.2272, Acc@1 0.2458\n",
      "============\n"
     ]
    },
    {
     "data": {
      "application/vnd.jupyter.widget-view+json": {
       "model_id": "5de3257182af4027b185f4e453661a93",
       "version_major": 2,
       "version_minor": 0
      },
      "text/plain": [
       "  0%|          | 0/79 [00:00<?, ?it/s]"
      ]
     },
     "metadata": {},
     "output_type": "display_data"
    },
    {
     "name": "stdout",
     "output_type": "stream",
     "text": [
      "Val Perf after 1 epochs Acc@1 0.3857\n"
     ]
    },
    {
     "data": {
      "application/vnd.jupyter.widget-view+json": {
       "model_id": "76e9cd635baf45f388110353625e2532",
       "version_major": 2,
       "version_minor": 0
      },
      "text/plain": [
       "  0%|          | 0/469 [00:00<?, ?it/s]"
      ]
     },
     "metadata": {},
     "output_type": "display_data"
    },
    {
     "name": "stdout",
     "output_type": "stream",
     "text": [
      "Validation => Loss 1.7491, Acc@1 0.4974\n",
      "============\n"
     ]
    },
    {
     "data": {
      "application/vnd.jupyter.widget-view+json": {
       "model_id": "96228c81801245d0892938f2f5032fe0",
       "version_major": 2,
       "version_minor": 0
      },
      "text/plain": [
       "  0%|          | 0/79 [00:00<?, ?it/s]"
      ]
     },
     "metadata": {},
     "output_type": "display_data"
    },
    {
     "name": "stdout",
     "output_type": "stream",
     "text": [
      "Val Perf after 2 epochs Acc@1 0.5621\n",
      "=> Caching mask state for model.0\n",
      "=> Caching mask state for model.2\n",
      "=> Caching mask state for model.4\n",
      "\n",
      "=> Setting learned tasks of model.0 to 19\n",
      "=> Setting learned tasks of model.2 to 19\n",
      "=> Setting learned tasks of model.4 to 19\n",
      "\n",
      "Training for task 19\n",
      "=> Set task of model.0 to 19\n",
      "=> Set task of model.2 to 19\n",
      "=> Set task of model.4 to 19\n"
     ]
    },
    {
     "data": {
      "application/vnd.jupyter.widget-view+json": {
       "model_id": "7fb44d8a5b7e4b17a52a93e1087628ef",
       "version_major": 2,
       "version_minor": 0
      },
      "text/plain": [
       "  0%|          | 0/469 [00:00<?, ?it/s]"
      ]
     },
     "metadata": {},
     "output_type": "display_data"
    },
    {
     "name": "stdout",
     "output_type": "stream",
     "text": [
      "Validation => Loss 2.0231, Acc@1 0.2985\n",
      "============\n"
     ]
    },
    {
     "data": {
      "application/vnd.jupyter.widget-view+json": {
       "model_id": "5dfdc6651c844e48b79d21c5a2b41617",
       "version_major": 2,
       "version_minor": 0
      },
      "text/plain": [
       "  0%|          | 0/79 [00:00<?, ?it/s]"
      ]
     },
     "metadata": {},
     "output_type": "display_data"
    },
    {
     "name": "stdout",
     "output_type": "stream",
     "text": [
      "Val Perf after 1 epochs Acc@1 0.4926\n"
     ]
    },
    {
     "data": {
      "application/vnd.jupyter.widget-view+json": {
       "model_id": "c0021693cc5546839cf80477f5fd2442",
       "version_major": 2,
       "version_minor": 0
      },
      "text/plain": [
       "  0%|          | 0/469 [00:00<?, ?it/s]"
      ]
     },
     "metadata": {},
     "output_type": "display_data"
    },
    {
     "name": "stdout",
     "output_type": "stream",
     "text": [
      "Validation => Loss 1.5135, Acc@1 0.5752\n",
      "============\n"
     ]
    },
    {
     "data": {
      "application/vnd.jupyter.widget-view+json": {
       "model_id": "93bd83de8ea14223bff30a3578f71005",
       "version_major": 2,
       "version_minor": 0
      },
      "text/plain": [
       "  0%|          | 0/79 [00:00<?, ?it/s]"
      ]
     },
     "metadata": {},
     "output_type": "display_data"
    },
    {
     "name": "stdout",
     "output_type": "stream",
     "text": [
      "Val Perf after 2 epochs Acc@1 0.6361\n",
      "=> Caching mask state for model.0\n",
      "=> Caching mask state for model.2\n",
      "=> Caching mask state for model.4\n",
      "\n",
      "=> Setting learned tasks of model.0 to 20\n",
      "=> Setting learned tasks of model.2 to 20\n",
      "=> Setting learned tasks of model.4 to 20\n",
      "\n",
      "Training for task 20\n",
      "=> Set task of model.0 to 20\n",
      "=> Set task of model.2 to 20\n",
      "=> Set task of model.4 to 20\n"
     ]
    },
    {
     "data": {
      "application/vnd.jupyter.widget-view+json": {
       "model_id": "47f5016188644b93972df28ba71ed330",
       "version_major": 2,
       "version_minor": 0
      },
      "text/plain": [
       "  0%|          | 0/469 [00:00<?, ?it/s]"
      ]
     },
     "metadata": {},
     "output_type": "display_data"
    },
    {
     "name": "stdout",
     "output_type": "stream",
     "text": [
      "Validation => Loss 2.1964, Acc@1 0.2692\n",
      "============\n"
     ]
    },
    {
     "data": {
      "application/vnd.jupyter.widget-view+json": {
       "model_id": "1907a1658ae448acbe1f131ec252b826",
       "version_major": 2,
       "version_minor": 0
      },
      "text/plain": [
       "  0%|          | 0/79 [00:00<?, ?it/s]"
      ]
     },
     "metadata": {},
     "output_type": "display_data"
    },
    {
     "name": "stdout",
     "output_type": "stream",
     "text": [
      "Val Perf after 1 epochs Acc@1 0.4321\n"
     ]
    },
    {
     "data": {
      "application/vnd.jupyter.widget-view+json": {
       "model_id": "c9c112af4e9b44d8a6fdd1f8896dc347",
       "version_major": 2,
       "version_minor": 0
      },
      "text/plain": [
       "  0%|          | 0/469 [00:00<?, ?it/s]"
      ]
     },
     "metadata": {},
     "output_type": "display_data"
    },
    {
     "name": "stdout",
     "output_type": "stream",
     "text": [
      "Validation => Loss 1.6423, Acc@1 0.5169\n",
      "============\n"
     ]
    },
    {
     "data": {
      "application/vnd.jupyter.widget-view+json": {
       "model_id": "73e15fd0c07c4f478c3214f52ad9fbdb",
       "version_major": 2,
       "version_minor": 0
      },
      "text/plain": [
       "  0%|          | 0/79 [00:00<?, ?it/s]"
      ]
     },
     "metadata": {},
     "output_type": "display_data"
    },
    {
     "name": "stdout",
     "output_type": "stream",
     "text": [
      "Val Perf after 2 epochs Acc@1 0.5812\n",
      "=> Caching mask state for model.0\n",
      "=> Caching mask state for model.2\n",
      "=> Caching mask state for model.4\n",
      "\n",
      "=> Setting learned tasks of model.0 to 21\n",
      "=> Setting learned tasks of model.2 to 21\n",
      "=> Setting learned tasks of model.4 to 21\n",
      "\n",
      "Training for task 21\n",
      "=> Set task of model.0 to 21\n",
      "=> Set task of model.2 to 21\n",
      "=> Set task of model.4 to 21\n"
     ]
    },
    {
     "data": {
      "application/vnd.jupyter.widget-view+json": {
       "model_id": "f5ee6aac46da42d4a30126c90e0e2e16",
       "version_major": 2,
       "version_minor": 0
      },
      "text/plain": [
       "  0%|          | 0/469 [00:00<?, ?it/s]"
      ]
     },
     "metadata": {},
     "output_type": "display_data"
    },
    {
     "name": "stdout",
     "output_type": "stream",
     "text": [
      "Validation => Loss 1.9549, Acc@1 0.2816\n",
      "============\n"
     ]
    },
    {
     "data": {
      "application/vnd.jupyter.widget-view+json": {
       "model_id": "c6a0fae2e5bf4ac3993c91cc0776542f",
       "version_major": 2,
       "version_minor": 0
      },
      "text/plain": [
       "  0%|          | 0/79 [00:00<?, ?it/s]"
      ]
     },
     "metadata": {},
     "output_type": "display_data"
    },
    {
     "name": "stdout",
     "output_type": "stream",
     "text": [
      "Val Perf after 1 epochs Acc@1 0.5196\n"
     ]
    },
    {
     "data": {
      "application/vnd.jupyter.widget-view+json": {
       "model_id": "805d0cef470b4fada407ac30b86a865a",
       "version_major": 2,
       "version_minor": 0
      },
      "text/plain": [
       "  0%|          | 0/469 [00:00<?, ?it/s]"
      ]
     },
     "metadata": {},
     "output_type": "display_data"
    },
    {
     "name": "stdout",
     "output_type": "stream",
     "text": [
      "Validation => Loss 1.3614, Acc@1 0.5729\n",
      "============\n"
     ]
    },
    {
     "data": {
      "application/vnd.jupyter.widget-view+json": {
       "model_id": "0db61cab60224d61ac9c4d4d9fab9c25",
       "version_major": 2,
       "version_minor": 0
      },
      "text/plain": [
       "  0%|          | 0/79 [00:00<?, ?it/s]"
      ]
     },
     "metadata": {},
     "output_type": "display_data"
    },
    {
     "name": "stdout",
     "output_type": "stream",
     "text": [
      "Val Perf after 2 epochs Acc@1 0.6272\n",
      "=> Caching mask state for model.0\n",
      "=> Caching mask state for model.2\n",
      "=> Caching mask state for model.4\n",
      "\n",
      "=> Setting learned tasks of model.0 to 22\n",
      "=> Setting learned tasks of model.2 to 22\n",
      "=> Setting learned tasks of model.4 to 22\n",
      "\n",
      "Training for task 22\n",
      "=> Set task of model.0 to 22\n",
      "=> Set task of model.2 to 22\n",
      "=> Set task of model.4 to 22\n"
     ]
    },
    {
     "data": {
      "application/vnd.jupyter.widget-view+json": {
       "model_id": "02c9356f93fe4095a1af8ea31fa0f097",
       "version_major": 2,
       "version_minor": 0
      },
      "text/plain": [
       "  0%|          | 0/469 [00:00<?, ?it/s]"
      ]
     },
     "metadata": {},
     "output_type": "display_data"
    },
    {
     "name": "stdout",
     "output_type": "stream",
     "text": [
      "Validation => Loss 2.0822, Acc@1 0.2871\n",
      "============\n"
     ]
    },
    {
     "data": {
      "application/vnd.jupyter.widget-view+json": {
       "model_id": "eae137b0a9e44c1ebc1982e9fe2c2af0",
       "version_major": 2,
       "version_minor": 0
      },
      "text/plain": [
       "  0%|          | 0/79 [00:00<?, ?it/s]"
      ]
     },
     "metadata": {},
     "output_type": "display_data"
    },
    {
     "name": "stdout",
     "output_type": "stream",
     "text": [
      "Val Perf after 1 epochs Acc@1 0.4976\n"
     ]
    },
    {
     "data": {
      "application/vnd.jupyter.widget-view+json": {
       "model_id": "2dacd41578624343ad415717b44a0068",
       "version_major": 2,
       "version_minor": 0
      },
      "text/plain": [
       "  0%|          | 0/469 [00:00<?, ?it/s]"
      ]
     },
     "metadata": {},
     "output_type": "display_data"
    },
    {
     "name": "stdout",
     "output_type": "stream",
     "text": [
      "Validation => Loss 1.5472, Acc@1 0.5586\n",
      "============\n"
     ]
    },
    {
     "data": {
      "application/vnd.jupyter.widget-view+json": {
       "model_id": "2c6ebf512a924ac3b657a16404d5d98b",
       "version_major": 2,
       "version_minor": 0
      },
      "text/plain": [
       "  0%|          | 0/79 [00:00<?, ?it/s]"
      ]
     },
     "metadata": {},
     "output_type": "display_data"
    },
    {
     "name": "stdout",
     "output_type": "stream",
     "text": [
      "Val Perf after 2 epochs Acc@1 0.6218\n",
      "=> Caching mask state for model.0\n",
      "=> Caching mask state for model.2\n",
      "=> Caching mask state for model.4\n",
      "\n",
      "=> Setting learned tasks of model.0 to 23\n",
      "=> Setting learned tasks of model.2 to 23\n",
      "=> Setting learned tasks of model.4 to 23\n",
      "\n",
      "Training for task 23\n",
      "=> Set task of model.0 to 23\n",
      "=> Set task of model.2 to 23\n",
      "=> Set task of model.4 to 23\n"
     ]
    },
    {
     "data": {
      "application/vnd.jupyter.widget-view+json": {
       "model_id": "bbc77b751adc4df29239a6046cd4dfc4",
       "version_major": 2,
       "version_minor": 0
      },
      "text/plain": [
       "  0%|          | 0/469 [00:00<?, ?it/s]"
      ]
     },
     "metadata": {},
     "output_type": "display_data"
    },
    {
     "name": "stdout",
     "output_type": "stream",
     "text": [
      "Validation => Loss 2.0807, Acc@1 0.2793\n",
      "============\n"
     ]
    },
    {
     "data": {
      "application/vnd.jupyter.widget-view+json": {
       "model_id": "2ab4d1184baa4ae692b59c7f66157260",
       "version_major": 2,
       "version_minor": 0
      },
      "text/plain": [
       "  0%|          | 0/79 [00:00<?, ?it/s]"
      ]
     },
     "metadata": {},
     "output_type": "display_data"
    },
    {
     "name": "stdout",
     "output_type": "stream",
     "text": [
      "Val Perf after 1 epochs Acc@1 0.4830\n"
     ]
    },
    {
     "data": {
      "application/vnd.jupyter.widget-view+json": {
       "model_id": "d6668dfdfe314e65a117349f58dd6cb5",
       "version_major": 2,
       "version_minor": 0
      },
      "text/plain": [
       "  0%|          | 0/469 [00:00<?, ?it/s]"
      ]
     },
     "metadata": {},
     "output_type": "display_data"
    },
    {
     "name": "stdout",
     "output_type": "stream",
     "text": [
      "Validation => Loss 1.4835, Acc@1 0.5758\n",
      "============\n"
     ]
    },
    {
     "data": {
      "application/vnd.jupyter.widget-view+json": {
       "model_id": "77223310c2c44e5389c39b0d32b7e3ff",
       "version_major": 2,
       "version_minor": 0
      },
      "text/plain": [
       "  0%|          | 0/79 [00:00<?, ?it/s]"
      ]
     },
     "metadata": {},
     "output_type": "display_data"
    },
    {
     "name": "stdout",
     "output_type": "stream",
     "text": [
      "Val Perf after 2 epochs Acc@1 0.6378\n",
      "=> Caching mask state for model.0\n",
      "=> Caching mask state for model.2\n",
      "=> Caching mask state for model.4\n",
      "\n",
      "=> Setting learned tasks of model.0 to 24\n",
      "=> Setting learned tasks of model.2 to 24\n",
      "=> Setting learned tasks of model.4 to 24\n",
      "\n",
      "Training for task 24\n",
      "=> Set task of model.0 to 24\n",
      "=> Set task of model.2 to 24\n",
      "=> Set task of model.4 to 24\n"
     ]
    },
    {
     "data": {
      "application/vnd.jupyter.widget-view+json": {
       "model_id": "5b7374359d1b418394b323e8cde671f4",
       "version_major": 2,
       "version_minor": 0
      },
      "text/plain": [
       "  0%|          | 0/469 [00:00<?, ?it/s]"
      ]
     },
     "metadata": {},
     "output_type": "display_data"
    },
    {
     "name": "stdout",
     "output_type": "stream",
     "text": [
      "Validation => Loss 2.0157, Acc@1 0.2878\n",
      "============\n"
     ]
    },
    {
     "data": {
      "application/vnd.jupyter.widget-view+json": {
       "model_id": "8b01bd7593bb4b3eb3ab2616613927f0",
       "version_major": 2,
       "version_minor": 0
      },
      "text/plain": [
       "  0%|          | 0/79 [00:00<?, ?it/s]"
      ]
     },
     "metadata": {},
     "output_type": "display_data"
    },
    {
     "name": "stdout",
     "output_type": "stream",
     "text": [
      "Val Perf after 1 epochs Acc@1 0.4744\n"
     ]
    },
    {
     "data": {
      "application/vnd.jupyter.widget-view+json": {
       "model_id": "c0125bee4d974b009aed2243b83b4b20",
       "version_major": 2,
       "version_minor": 0
      },
      "text/plain": [
       "  0%|          | 0/469 [00:00<?, ?it/s]"
      ]
     },
     "metadata": {},
     "output_type": "display_data"
    },
    {
     "name": "stdout",
     "output_type": "stream",
     "text": [
      "Validation => Loss 1.6090, Acc@1 0.5544\n",
      "============\n"
     ]
    },
    {
     "data": {
      "application/vnd.jupyter.widget-view+json": {
       "model_id": "a1d41f165fa8451095d17174180757d8",
       "version_major": 2,
       "version_minor": 0
      },
      "text/plain": [
       "  0%|          | 0/79 [00:00<?, ?it/s]"
      ]
     },
     "metadata": {},
     "output_type": "display_data"
    },
    {
     "name": "stdout",
     "output_type": "stream",
     "text": [
      "Val Perf after 2 epochs Acc@1 0.6017\n",
      "=> Caching mask state for model.0\n",
      "=> Caching mask state for model.2\n",
      "=> Caching mask state for model.4\n",
      "\n",
      "=> Setting learned tasks of model.0 to 25\n",
      "=> Setting learned tasks of model.2 to 25\n",
      "=> Setting learned tasks of model.4 to 25\n",
      "\n",
      "Training for task 25\n",
      "=> Set task of model.0 to 25\n",
      "=> Set task of model.2 to 25\n",
      "=> Set task of model.4 to 25\n"
     ]
    },
    {
     "data": {
      "application/vnd.jupyter.widget-view+json": {
       "model_id": "10b2368af43e41e89b21d2269349482b",
       "version_major": 2,
       "version_minor": 0
      },
      "text/plain": [
       "  0%|          | 0/469 [00:00<?, ?it/s]"
      ]
     },
     "metadata": {},
     "output_type": "display_data"
    },
    {
     "name": "stdout",
     "output_type": "stream",
     "text": [
      "Validation => Loss 2.2134, Acc@1 0.2565\n",
      "============\n"
     ]
    },
    {
     "data": {
      "application/vnd.jupyter.widget-view+json": {
       "model_id": "8368b0b5b7d54ffbb45cd0b7e61faede",
       "version_major": 2,
       "version_minor": 0
      },
      "text/plain": [
       "  0%|          | 0/79 [00:00<?, ?it/s]"
      ]
     },
     "metadata": {},
     "output_type": "display_data"
    },
    {
     "name": "stdout",
     "output_type": "stream",
     "text": [
      "Val Perf after 1 epochs Acc@1 0.4117\n"
     ]
    },
    {
     "data": {
      "application/vnd.jupyter.widget-view+json": {
       "model_id": "a0bcf695a5264f9aad95606f2bb2ca73",
       "version_major": 2,
       "version_minor": 0
      },
      "text/plain": [
       "  0%|          | 0/469 [00:00<?, ?it/s]"
      ]
     },
     "metadata": {},
     "output_type": "display_data"
    },
    {
     "name": "stdout",
     "output_type": "stream",
     "text": [
      "Validation => Loss 1.7054, Acc@1 0.4928\n",
      "============\n"
     ]
    },
    {
     "data": {
      "application/vnd.jupyter.widget-view+json": {
       "model_id": "9f06278f273b4a8a99c3d5a700ac21c6",
       "version_major": 2,
       "version_minor": 0
      },
      "text/plain": [
       "  0%|          | 0/79 [00:00<?, ?it/s]"
      ]
     },
     "metadata": {},
     "output_type": "display_data"
    },
    {
     "name": "stdout",
     "output_type": "stream",
     "text": [
      "Val Perf after 2 epochs Acc@1 0.5391\n",
      "=> Caching mask state for model.0\n",
      "=> Caching mask state for model.2\n",
      "=> Caching mask state for model.4\n",
      "\n",
      "=> Setting learned tasks of model.0 to 26\n",
      "=> Setting learned tasks of model.2 to 26\n",
      "=> Setting learned tasks of model.4 to 26\n",
      "\n",
      "Training for task 26\n",
      "=> Set task of model.0 to 26\n",
      "=> Set task of model.2 to 26\n",
      "=> Set task of model.4 to 26\n"
     ]
    },
    {
     "data": {
      "application/vnd.jupyter.widget-view+json": {
       "model_id": "84922eed5de249fc95bb845f587fe0c9",
       "version_major": 2,
       "version_minor": 0
      },
      "text/plain": [
       "  0%|          | 0/469 [00:00<?, ?it/s]"
      ]
     },
     "metadata": {},
     "output_type": "display_data"
    },
    {
     "name": "stdout",
     "output_type": "stream",
     "text": [
      "Validation => Loss 1.9947, Acc@1 0.2741\n",
      "============\n"
     ]
    },
    {
     "data": {
      "application/vnd.jupyter.widget-view+json": {
       "model_id": "3a6c0b8130c4448497f03444881ee596",
       "version_major": 2,
       "version_minor": 0
      },
      "text/plain": [
       "  0%|          | 0/79 [00:00<?, ?it/s]"
      ]
     },
     "metadata": {},
     "output_type": "display_data"
    },
    {
     "name": "stdout",
     "output_type": "stream",
     "text": [
      "Val Perf after 1 epochs Acc@1 0.4610\n"
     ]
    },
    {
     "data": {
      "application/vnd.jupyter.widget-view+json": {
       "model_id": "d4e73406dfc144fd91c04c8d15dfefc2",
       "version_major": 2,
       "version_minor": 0
      },
      "text/plain": [
       "  0%|          | 0/469 [00:00<?, ?it/s]"
      ]
     },
     "metadata": {},
     "output_type": "display_data"
    },
    {
     "name": "stdout",
     "output_type": "stream",
     "text": [
      "Validation => Loss 1.4589, Acc@1 0.5524\n",
      "============\n"
     ]
    },
    {
     "data": {
      "application/vnd.jupyter.widget-view+json": {
       "model_id": "032676e53e8742e0bb1e2ce8f94cae94",
       "version_major": 2,
       "version_minor": 0
      },
      "text/plain": [
       "  0%|          | 0/79 [00:00<?, ?it/s]"
      ]
     },
     "metadata": {},
     "output_type": "display_data"
    },
    {
     "name": "stdout",
     "output_type": "stream",
     "text": [
      "Val Perf after 2 epochs Acc@1 0.6241\n",
      "=> Caching mask state for model.0\n",
      "=> Caching mask state for model.2\n",
      "=> Caching mask state for model.4\n",
      "\n",
      "=> Setting learned tasks of model.0 to 27\n",
      "=> Setting learned tasks of model.2 to 27\n",
      "=> Setting learned tasks of model.4 to 27\n",
      "\n",
      "Training for task 27\n",
      "=> Set task of model.0 to 27\n",
      "=> Set task of model.2 to 27\n",
      "=> Set task of model.4 to 27\n"
     ]
    },
    {
     "data": {
      "application/vnd.jupyter.widget-view+json": {
       "model_id": "c811a64f490a4ad98641f2b8f57c6262",
       "version_major": 2,
       "version_minor": 0
      },
      "text/plain": [
       "  0%|          | 0/469 [00:00<?, ?it/s]"
      ]
     },
     "metadata": {},
     "output_type": "display_data"
    },
    {
     "name": "stdout",
     "output_type": "stream",
     "text": [
      "Validation => Loss 1.8899, Acc@1 0.3187\n",
      "============\n"
     ]
    },
    {
     "data": {
      "application/vnd.jupyter.widget-view+json": {
       "model_id": "71b6a9cf54324abd8b56c14fe7180463",
       "version_major": 2,
       "version_minor": 0
      },
      "text/plain": [
       "  0%|          | 0/79 [00:00<?, ?it/s]"
      ]
     },
     "metadata": {},
     "output_type": "display_data"
    },
    {
     "name": "stdout",
     "output_type": "stream",
     "text": [
      "Val Perf after 1 epochs Acc@1 0.5316\n"
     ]
    },
    {
     "data": {
      "application/vnd.jupyter.widget-view+json": {
       "model_id": "c1a9936da9574c99a23ee074df0de876",
       "version_major": 2,
       "version_minor": 0
      },
      "text/plain": [
       "  0%|          | 0/469 [00:00<?, ?it/s]"
      ]
     },
     "metadata": {},
     "output_type": "display_data"
    },
    {
     "name": "stdout",
     "output_type": "stream",
     "text": [
      "Validation => Loss 1.3814, Acc@1 0.5944\n",
      "============\n"
     ]
    },
    {
     "data": {
      "application/vnd.jupyter.widget-view+json": {
       "model_id": "5d957dcc51d1403397ec96df0506d0e9",
       "version_major": 2,
       "version_minor": 0
      },
      "text/plain": [
       "  0%|          | 0/79 [00:00<?, ?it/s]"
      ]
     },
     "metadata": {},
     "output_type": "display_data"
    },
    {
     "name": "stdout",
     "output_type": "stream",
     "text": [
      "Val Perf after 2 epochs Acc@1 0.6468\n",
      "=> Caching mask state for model.0\n",
      "=> Caching mask state for model.2\n",
      "=> Caching mask state for model.4\n",
      "\n",
      "=> Setting learned tasks of model.0 to 28\n",
      "=> Setting learned tasks of model.2 to 28\n",
      "=> Setting learned tasks of model.4 to 28\n",
      "\n",
      "Training for task 28\n",
      "=> Set task of model.0 to 28\n",
      "=> Set task of model.2 to 28\n",
      "=> Set task of model.4 to 28\n"
     ]
    },
    {
     "data": {
      "application/vnd.jupyter.widget-view+json": {
       "model_id": "3b886735af9a469886439fc97097c86b",
       "version_major": 2,
       "version_minor": 0
      },
      "text/plain": [
       "  0%|          | 0/469 [00:00<?, ?it/s]"
      ]
     },
     "metadata": {},
     "output_type": "display_data"
    },
    {
     "name": "stdout",
     "output_type": "stream",
     "text": [
      "Validation => Loss 2.1215, Acc@1 0.2809\n",
      "============\n"
     ]
    },
    {
     "data": {
      "application/vnd.jupyter.widget-view+json": {
       "model_id": "0cc7ee7627004a68a05551af43fb5bb3",
       "version_major": 2,
       "version_minor": 0
      },
      "text/plain": [
       "  0%|          | 0/79 [00:00<?, ?it/s]"
      ]
     },
     "metadata": {},
     "output_type": "display_data"
    },
    {
     "name": "stdout",
     "output_type": "stream",
     "text": [
      "Val Perf after 1 epochs Acc@1 0.4400\n"
     ]
    },
    {
     "data": {
      "application/vnd.jupyter.widget-view+json": {
       "model_id": "c1e55e661fa94e47898cacf714331b78",
       "version_major": 2,
       "version_minor": 0
      },
      "text/plain": [
       "  0%|          | 0/469 [00:00<?, ?it/s]"
      ]
     },
     "metadata": {},
     "output_type": "display_data"
    },
    {
     "name": "stdout",
     "output_type": "stream",
     "text": [
      "Validation => Loss 1.6337, Acc@1 0.5078\n",
      "============\n"
     ]
    },
    {
     "data": {
      "application/vnd.jupyter.widget-view+json": {
       "model_id": "e669737c61474f67abe409de8f2e4b4c",
       "version_major": 2,
       "version_minor": 0
      },
      "text/plain": [
       "  0%|          | 0/79 [00:00<?, ?it/s]"
      ]
     },
     "metadata": {},
     "output_type": "display_data"
    },
    {
     "name": "stdout",
     "output_type": "stream",
     "text": [
      "Val Perf after 2 epochs Acc@1 0.6081\n",
      "=> Caching mask state for model.0\n",
      "=> Caching mask state for model.2\n",
      "=> Caching mask state for model.4\n",
      "\n",
      "=> Setting learned tasks of model.0 to 29\n",
      "=> Setting learned tasks of model.2 to 29\n",
      "=> Setting learned tasks of model.4 to 29\n",
      "\n",
      "Training for task 29\n",
      "=> Set task of model.0 to 29\n",
      "=> Set task of model.2 to 29\n",
      "=> Set task of model.4 to 29\n"
     ]
    },
    {
     "data": {
      "application/vnd.jupyter.widget-view+json": {
       "model_id": "565f2869a3a44b8c8547b848edac2fbb",
       "version_major": 2,
       "version_minor": 0
      },
      "text/plain": [
       "  0%|          | 0/469 [00:00<?, ?it/s]"
      ]
     },
     "metadata": {},
     "output_type": "display_data"
    },
    {
     "name": "stdout",
     "output_type": "stream",
     "text": [
      "Validation => Loss 2.0459, Acc@1 0.2604\n",
      "============\n"
     ]
    },
    {
     "data": {
      "application/vnd.jupyter.widget-view+json": {
       "model_id": "6698ad3f0aae450dab5a18e489e8773e",
       "version_major": 2,
       "version_minor": 0
      },
      "text/plain": [
       "  0%|          | 0/79 [00:00<?, ?it/s]"
      ]
     },
     "metadata": {},
     "output_type": "display_data"
    },
    {
     "name": "stdout",
     "output_type": "stream",
     "text": [
      "Val Perf after 1 epochs Acc@1 0.4952\n"
     ]
    },
    {
     "data": {
      "application/vnd.jupyter.widget-view+json": {
       "model_id": "07cda6aa35624b019ee8ebff2c731686",
       "version_major": 2,
       "version_minor": 0
      },
      "text/plain": [
       "  0%|          | 0/469 [00:00<?, ?it/s]"
      ]
     },
     "metadata": {},
     "output_type": "display_data"
    },
    {
     "name": "stdout",
     "output_type": "stream",
     "text": [
      "Validation => Loss 1.4024, Acc@1 0.5550\n",
      "============\n"
     ]
    },
    {
     "data": {
      "application/vnd.jupyter.widget-view+json": {
       "model_id": "74612c10b8314aa695197e4e3318b896",
       "version_major": 2,
       "version_minor": 0
      },
      "text/plain": [
       "  0%|          | 0/79 [00:00<?, ?it/s]"
      ]
     },
     "metadata": {},
     "output_type": "display_data"
    },
    {
     "name": "stdout",
     "output_type": "stream",
     "text": [
      "Val Perf after 2 epochs Acc@1 0.6235\n",
      "=> Caching mask state for model.0\n",
      "=> Caching mask state for model.2\n",
      "=> Caching mask state for model.4\n",
      "\n",
      "=> Setting learned tasks of model.0 to 30\n",
      "=> Setting learned tasks of model.2 to 30\n",
      "=> Setting learned tasks of model.4 to 30\n",
      "\n",
      "Training for task 30\n",
      "=> Set task of model.0 to 30\n",
      "=> Set task of model.2 to 30\n",
      "=> Set task of model.4 to 30\n"
     ]
    },
    {
     "data": {
      "application/vnd.jupyter.widget-view+json": {
       "model_id": "af8746ddfe4249a9b535ca705b71007c",
       "version_major": 2,
       "version_minor": 0
      },
      "text/plain": [
       "  0%|          | 0/469 [00:00<?, ?it/s]"
      ]
     },
     "metadata": {},
     "output_type": "display_data"
    },
    {
     "name": "stdout",
     "output_type": "stream",
     "text": [
      "Validation => Loss 2.3054, Acc@1 0.2650\n",
      "============\n"
     ]
    },
    {
     "data": {
      "application/vnd.jupyter.widget-view+json": {
       "model_id": "b36c486e2860499caa8709a42304e703",
       "version_major": 2,
       "version_minor": 0
      },
      "text/plain": [
       "  0%|          | 0/79 [00:00<?, ?it/s]"
      ]
     },
     "metadata": {},
     "output_type": "display_data"
    },
    {
     "name": "stdout",
     "output_type": "stream",
     "text": [
      "Val Perf after 1 epochs Acc@1 0.3820\n"
     ]
    },
    {
     "data": {
      "application/vnd.jupyter.widget-view+json": {
       "model_id": "b7d9709a93c841d5955e84fbf355146b",
       "version_major": 2,
       "version_minor": 0
      },
      "text/plain": [
       "  0%|          | 0/469 [00:00<?, ?it/s]"
      ]
     },
     "metadata": {},
     "output_type": "display_data"
    },
    {
     "name": "stdout",
     "output_type": "stream",
     "text": [
      "Validation => Loss 1.6622, Acc@1 0.4785\n",
      "============\n"
     ]
    },
    {
     "data": {
      "application/vnd.jupyter.widget-view+json": {
       "model_id": "3f8cc27a5e7747d480727faad88d78cb",
       "version_major": 2,
       "version_minor": 0
      },
      "text/plain": [
       "  0%|          | 0/79 [00:00<?, ?it/s]"
      ]
     },
     "metadata": {},
     "output_type": "display_data"
    },
    {
     "name": "stdout",
     "output_type": "stream",
     "text": [
      "Val Perf after 2 epochs Acc@1 0.5439\n",
      "=> Caching mask state for model.0\n",
      "=> Caching mask state for model.2\n",
      "=> Caching mask state for model.4\n",
      "\n",
      "=> Setting learned tasks of model.0 to 31\n",
      "=> Setting learned tasks of model.2 to 31\n",
      "=> Setting learned tasks of model.4 to 31\n",
      "\n",
      "Training for task 31\n",
      "=> Set task of model.0 to 31\n",
      "=> Set task of model.2 to 31\n",
      "=> Set task of model.4 to 31\n"
     ]
    },
    {
     "data": {
      "application/vnd.jupyter.widget-view+json": {
       "model_id": "ff267d5b2d98468ab013451b15f7c157",
       "version_major": 2,
       "version_minor": 0
      },
      "text/plain": [
       "  0%|          | 0/469 [00:00<?, ?it/s]"
      ]
     },
     "metadata": {},
     "output_type": "display_data"
    },
    {
     "name": "stdout",
     "output_type": "stream",
     "text": [
      "Validation => Loss 2.0728, Acc@1 0.2923\n",
      "============\n"
     ]
    },
    {
     "data": {
      "application/vnd.jupyter.widget-view+json": {
       "model_id": "7326afdee97a4d538497d46854c7feb3",
       "version_major": 2,
       "version_minor": 0
      },
      "text/plain": [
       "  0%|          | 0/79 [00:00<?, ?it/s]"
      ]
     },
     "metadata": {},
     "output_type": "display_data"
    },
    {
     "name": "stdout",
     "output_type": "stream",
     "text": [
      "Val Perf after 1 epochs Acc@1 0.4116\n"
     ]
    },
    {
     "data": {
      "application/vnd.jupyter.widget-view+json": {
       "model_id": "bf6d3fba2715475bbdf1842cfe0380f2",
       "version_major": 2,
       "version_minor": 0
      },
      "text/plain": [
       "  0%|          | 0/469 [00:00<?, ?it/s]"
      ]
     },
     "metadata": {},
     "output_type": "display_data"
    },
    {
     "name": "stdout",
     "output_type": "stream",
     "text": [
      "Validation => Loss 1.6790, Acc@1 0.5280\n",
      "============\n"
     ]
    },
    {
     "data": {
      "application/vnd.jupyter.widget-view+json": {
       "model_id": "c6c5773b88084098bc5a85524c078288",
       "version_major": 2,
       "version_minor": 0
      },
      "text/plain": [
       "  0%|          | 0/79 [00:00<?, ?it/s]"
      ]
     },
     "metadata": {},
     "output_type": "display_data"
    },
    {
     "name": "stdout",
     "output_type": "stream",
     "text": [
      "Val Perf after 2 epochs Acc@1 0.6180\n",
      "=> Caching mask state for model.0\n",
      "=> Caching mask state for model.2\n",
      "=> Caching mask state for model.4\n",
      "\n",
      "=> Setting learned tasks of model.0 to 32\n",
      "=> Setting learned tasks of model.2 to 32\n",
      "=> Setting learned tasks of model.4 to 32\n",
      "\n",
      "Training for task 32\n",
      "=> Set task of model.0 to 32\n",
      "=> Set task of model.2 to 32\n",
      "=> Set task of model.4 to 32\n"
     ]
    },
    {
     "data": {
      "application/vnd.jupyter.widget-view+json": {
       "model_id": "7d1527465c21447e80b18db5542e5b94",
       "version_major": 2,
       "version_minor": 0
      },
      "text/plain": [
       "  0%|          | 0/469 [00:00<?, ?it/s]"
      ]
     },
     "metadata": {},
     "output_type": "display_data"
    },
    {
     "name": "stdout",
     "output_type": "stream",
     "text": [
      "Validation => Loss 2.0788, Acc@1 0.2321\n",
      "============\n"
     ]
    },
    {
     "data": {
      "application/vnd.jupyter.widget-view+json": {
       "model_id": "6b0c676d8bc74a16a2732354410bdace",
       "version_major": 2,
       "version_minor": 0
      },
      "text/plain": [
       "  0%|          | 0/79 [00:00<?, ?it/s]"
      ]
     },
     "metadata": {},
     "output_type": "display_data"
    },
    {
     "name": "stdout",
     "output_type": "stream",
     "text": [
      "Val Perf after 1 epochs Acc@1 0.3802\n"
     ]
    },
    {
     "data": {
      "application/vnd.jupyter.widget-view+json": {
       "model_id": "cc8f7512195244318e444f899d54008b",
       "version_major": 2,
       "version_minor": 0
      },
      "text/plain": [
       "  0%|          | 0/469 [00:00<?, ?it/s]"
      ]
     },
     "metadata": {},
     "output_type": "display_data"
    },
    {
     "name": "stdout",
     "output_type": "stream",
     "text": [
      "Validation => Loss 1.6997, Acc@1 0.4740\n",
      "============\n"
     ]
    },
    {
     "data": {
      "application/vnd.jupyter.widget-view+json": {
       "model_id": "046ca9d5b3494ef99528f4e647980bab",
       "version_major": 2,
       "version_minor": 0
      },
      "text/plain": [
       "  0%|          | 0/79 [00:00<?, ?it/s]"
      ]
     },
     "metadata": {},
     "output_type": "display_data"
    },
    {
     "name": "stdout",
     "output_type": "stream",
     "text": [
      "Val Perf after 2 epochs Acc@1 0.5326\n",
      "=> Caching mask state for model.0\n",
      "=> Caching mask state for model.2\n",
      "=> Caching mask state for model.4\n",
      "\n",
      "=> Setting learned tasks of model.0 to 33\n",
      "=> Setting learned tasks of model.2 to 33\n",
      "=> Setting learned tasks of model.4 to 33\n",
      "\n",
      "Training for task 33\n",
      "=> Set task of model.0 to 33\n",
      "=> Set task of model.2 to 33\n",
      "=> Set task of model.4 to 33\n"
     ]
    },
    {
     "data": {
      "application/vnd.jupyter.widget-view+json": {
       "model_id": "c6f957cb45264735b5a4819557d9b071",
       "version_major": 2,
       "version_minor": 0
      },
      "text/plain": [
       "  0%|          | 0/469 [00:00<?, ?it/s]"
      ]
     },
     "metadata": {},
     "output_type": "display_data"
    },
    {
     "name": "stdout",
     "output_type": "stream",
     "text": [
      "Validation => Loss 2.2559, Acc@1 0.2305\n",
      "============\n"
     ]
    },
    {
     "data": {
      "application/vnd.jupyter.widget-view+json": {
       "model_id": "3d56c34285ed41c98ba2f641c8d00e80",
       "version_major": 2,
       "version_minor": 0
      },
      "text/plain": [
       "  0%|          | 0/79 [00:00<?, ?it/s]"
      ]
     },
     "metadata": {},
     "output_type": "display_data"
    },
    {
     "name": "stdout",
     "output_type": "stream",
     "text": [
      "Val Perf after 1 epochs Acc@1 0.4170\n"
     ]
    },
    {
     "data": {
      "application/vnd.jupyter.widget-view+json": {
       "model_id": "b6325c8b0a1c4be3af8617d4aac809e1",
       "version_major": 2,
       "version_minor": 0
      },
      "text/plain": [
       "  0%|          | 0/469 [00:00<?, ?it/s]"
      ]
     },
     "metadata": {},
     "output_type": "display_data"
    },
    {
     "name": "stdout",
     "output_type": "stream",
     "text": [
      "Validation => Loss 1.6936, Acc@1 0.5000\n",
      "============\n"
     ]
    },
    {
     "data": {
      "application/vnd.jupyter.widget-view+json": {
       "model_id": "8ef1d1614e2e44608da87b090656c952",
       "version_major": 2,
       "version_minor": 0
      },
      "text/plain": [
       "  0%|          | 0/79 [00:00<?, ?it/s]"
      ]
     },
     "metadata": {},
     "output_type": "display_data"
    },
    {
     "name": "stdout",
     "output_type": "stream",
     "text": [
      "Val Perf after 2 epochs Acc@1 0.5622\n",
      "=> Caching mask state for model.0\n",
      "=> Caching mask state for model.2\n",
      "=> Caching mask state for model.4\n",
      "\n",
      "=> Setting learned tasks of model.0 to 34\n",
      "=> Setting learned tasks of model.2 to 34\n",
      "=> Setting learned tasks of model.4 to 34\n",
      "\n",
      "Training for task 34\n",
      "=> Set task of model.0 to 34\n",
      "=> Set task of model.2 to 34\n",
      "=> Set task of model.4 to 34\n"
     ]
    },
    {
     "data": {
      "application/vnd.jupyter.widget-view+json": {
       "model_id": "6305b5e852a54e6aa7560201f386fe8c",
       "version_major": 2,
       "version_minor": 0
      },
      "text/plain": [
       "  0%|          | 0/469 [00:00<?, ?it/s]"
      ]
     },
     "metadata": {},
     "output_type": "display_data"
    },
    {
     "name": "stdout",
     "output_type": "stream",
     "text": [
      "Validation => Loss 2.4050, Acc@1 0.2240\n",
      "============\n"
     ]
    },
    {
     "data": {
      "application/vnd.jupyter.widget-view+json": {
       "model_id": "8ae2fe2427994d8bbd9ee1b62be3ae3d",
       "version_major": 2,
       "version_minor": 0
      },
      "text/plain": [
       "  0%|          | 0/79 [00:00<?, ?it/s]"
      ]
     },
     "metadata": {},
     "output_type": "display_data"
    },
    {
     "name": "stdout",
     "output_type": "stream",
     "text": [
      "Val Perf after 1 epochs Acc@1 0.4244\n"
     ]
    },
    {
     "data": {
      "application/vnd.jupyter.widget-view+json": {
       "model_id": "898696d95e4644049056beb0c8e51766",
       "version_major": 2,
       "version_minor": 0
      },
      "text/plain": [
       "  0%|          | 0/469 [00:00<?, ?it/s]"
      ]
     },
     "metadata": {},
     "output_type": "display_data"
    },
    {
     "name": "stdout",
     "output_type": "stream",
     "text": [
      "Validation => Loss 1.8511, Acc@1 0.4974\n",
      "============\n"
     ]
    },
    {
     "data": {
      "application/vnd.jupyter.widget-view+json": {
       "model_id": "0c1e68f7130f482f9a4df0b8ff828c01",
       "version_major": 2,
       "version_minor": 0
      },
      "text/plain": [
       "  0%|          | 0/79 [00:00<?, ?it/s]"
      ]
     },
     "metadata": {},
     "output_type": "display_data"
    },
    {
     "name": "stdout",
     "output_type": "stream",
     "text": [
      "Val Perf after 2 epochs Acc@1 0.5398\n",
      "=> Caching mask state for model.0\n",
      "=> Caching mask state for model.2\n",
      "=> Caching mask state for model.4\n",
      "\n",
      "=> Setting learned tasks of model.0 to 35\n",
      "=> Setting learned tasks of model.2 to 35\n",
      "=> Setting learned tasks of model.4 to 35\n",
      "\n",
      "Training for task 35\n",
      "=> Set task of model.0 to 35\n",
      "=> Set task of model.2 to 35\n",
      "=> Set task of model.4 to 35\n"
     ]
    },
    {
     "data": {
      "application/vnd.jupyter.widget-view+json": {
       "model_id": "9211819ae5864f0db9a4f3308c62d8cd",
       "version_major": 2,
       "version_minor": 0
      },
      "text/plain": [
       "  0%|          | 0/469 [00:00<?, ?it/s]"
      ]
     },
     "metadata": {},
     "output_type": "display_data"
    },
    {
     "name": "stdout",
     "output_type": "stream",
     "text": [
      "Validation => Loss 2.1095, Acc@1 0.2340\n",
      "============\n"
     ]
    },
    {
     "data": {
      "application/vnd.jupyter.widget-view+json": {
       "model_id": "2d2249ce552f47d49f7b6197b5767d28",
       "version_major": 2,
       "version_minor": 0
      },
      "text/plain": [
       "  0%|          | 0/79 [00:00<?, ?it/s]"
      ]
     },
     "metadata": {},
     "output_type": "display_data"
    },
    {
     "name": "stdout",
     "output_type": "stream",
     "text": [
      "Val Perf after 1 epochs Acc@1 0.4717\n"
     ]
    },
    {
     "data": {
      "application/vnd.jupyter.widget-view+json": {
       "model_id": "40e8b61ea6b04a3b8d136d15cb708565",
       "version_major": 2,
       "version_minor": 0
      },
      "text/plain": [
       "  0%|          | 0/469 [00:00<?, ?it/s]"
      ]
     },
     "metadata": {},
     "output_type": "display_data"
    },
    {
     "name": "stdout",
     "output_type": "stream",
     "text": [
      "Validation => Loss 1.5683, Acc@1 0.5443\n",
      "============\n"
     ]
    },
    {
     "data": {
      "application/vnd.jupyter.widget-view+json": {
       "model_id": "dcb5f4af9123496abe92253d8a3a7b18",
       "version_major": 2,
       "version_minor": 0
      },
      "text/plain": [
       "  0%|          | 0/79 [00:00<?, ?it/s]"
      ]
     },
     "metadata": {},
     "output_type": "display_data"
    },
    {
     "name": "stdout",
     "output_type": "stream",
     "text": [
      "Val Perf after 2 epochs Acc@1 0.5965\n",
      "=> Caching mask state for model.0\n",
      "=> Caching mask state for model.2\n",
      "=> Caching mask state for model.4\n",
      "\n",
      "=> Setting learned tasks of model.0 to 36\n",
      "=> Setting learned tasks of model.2 to 36\n",
      "=> Setting learned tasks of model.4 to 36\n",
      "\n",
      "Training for task 36\n",
      "=> Set task of model.0 to 36\n",
      "=> Set task of model.2 to 36\n",
      "=> Set task of model.4 to 36\n"
     ]
    },
    {
     "data": {
      "application/vnd.jupyter.widget-view+json": {
       "model_id": "b07e3b5ba326496fb54085e433839d14",
       "version_major": 2,
       "version_minor": 0
      },
      "text/plain": [
       "  0%|          | 0/469 [00:00<?, ?it/s]"
      ]
     },
     "metadata": {},
     "output_type": "display_data"
    },
    {
     "name": "stdout",
     "output_type": "stream",
     "text": [
      "Validation => Loss 2.1974, Acc@1 0.2350\n",
      "============\n"
     ]
    },
    {
     "data": {
      "application/vnd.jupyter.widget-view+json": {
       "model_id": "03dc7c13c77e4d839364a96415341ea9",
       "version_major": 2,
       "version_minor": 0
      },
      "text/plain": [
       "  0%|          | 0/79 [00:00<?, ?it/s]"
      ]
     },
     "metadata": {},
     "output_type": "display_data"
    },
    {
     "name": "stdout",
     "output_type": "stream",
     "text": [
      "Val Perf after 1 epochs Acc@1 0.4053\n"
     ]
    },
    {
     "data": {
      "application/vnd.jupyter.widget-view+json": {
       "model_id": "9a7b838577764d9eb8166a474ac8f4be",
       "version_major": 2,
       "version_minor": 0
      },
      "text/plain": [
       "  0%|          | 0/469 [00:00<?, ?it/s]"
      ]
     },
     "metadata": {},
     "output_type": "display_data"
    },
    {
     "name": "stdout",
     "output_type": "stream",
     "text": [
      "Validation => Loss 1.8563, Acc@1 0.5000\n",
      "============\n"
     ]
    },
    {
     "data": {
      "application/vnd.jupyter.widget-view+json": {
       "model_id": "89eac5c14b4a4540b83c8c6c1c262ca4",
       "version_major": 2,
       "version_minor": 0
      },
      "text/plain": [
       "  0%|          | 0/79 [00:00<?, ?it/s]"
      ]
     },
     "metadata": {},
     "output_type": "display_data"
    },
    {
     "name": "stdout",
     "output_type": "stream",
     "text": [
      "Val Perf after 2 epochs Acc@1 0.5153\n",
      "=> Caching mask state for model.0\n",
      "=> Caching mask state for model.2\n",
      "=> Caching mask state for model.4\n",
      "\n",
      "=> Setting learned tasks of model.0 to 37\n",
      "=> Setting learned tasks of model.2 to 37\n",
      "=> Setting learned tasks of model.4 to 37\n",
      "\n",
      "Training for task 37\n",
      "=> Set task of model.0 to 37\n",
      "=> Set task of model.2 to 37\n",
      "=> Set task of model.4 to 37\n"
     ]
    },
    {
     "data": {
      "application/vnd.jupyter.widget-view+json": {
       "model_id": "5112064dc0874ab1b289329470338d22",
       "version_major": 2,
       "version_minor": 0
      },
      "text/plain": [
       "  0%|          | 0/469 [00:00<?, ?it/s]"
      ]
     },
     "metadata": {},
     "output_type": "display_data"
    },
    {
     "name": "stdout",
     "output_type": "stream",
     "text": [
      "Validation => Loss 2.2925, Acc@1 0.2331\n",
      "============\n"
     ]
    },
    {
     "data": {
      "application/vnd.jupyter.widget-view+json": {
       "model_id": "3c44d17a80324e73ae3fd62372822ea7",
       "version_major": 2,
       "version_minor": 0
      },
      "text/plain": [
       "  0%|          | 0/79 [00:00<?, ?it/s]"
      ]
     },
     "metadata": {},
     "output_type": "display_data"
    },
    {
     "name": "stdout",
     "output_type": "stream",
     "text": [
      "Val Perf after 1 epochs Acc@1 0.3901\n"
     ]
    },
    {
     "data": {
      "application/vnd.jupyter.widget-view+json": {
       "model_id": "80d1080af8294ce38584ea9c68606ce5",
       "version_major": 2,
       "version_minor": 0
      },
      "text/plain": [
       "  0%|          | 0/469 [00:00<?, ?it/s]"
      ]
     },
     "metadata": {},
     "output_type": "display_data"
    },
    {
     "name": "stdout",
     "output_type": "stream",
     "text": [
      "Validation => Loss 1.8642, Acc@1 0.4792\n",
      "============\n"
     ]
    },
    {
     "data": {
      "application/vnd.jupyter.widget-view+json": {
       "model_id": "7945f3a2a2da4f858798d529064d97ef",
       "version_major": 2,
       "version_minor": 0
      },
      "text/plain": [
       "  0%|          | 0/79 [00:00<?, ?it/s]"
      ]
     },
     "metadata": {},
     "output_type": "display_data"
    },
    {
     "name": "stdout",
     "output_type": "stream",
     "text": [
      "Val Perf after 2 epochs Acc@1 0.5290\n",
      "=> Caching mask state for model.0\n",
      "=> Caching mask state for model.2\n",
      "=> Caching mask state for model.4\n",
      "\n",
      "=> Setting learned tasks of model.0 to 38\n",
      "=> Setting learned tasks of model.2 to 38\n",
      "=> Setting learned tasks of model.4 to 38\n",
      "\n",
      "Training for task 38\n",
      "=> Set task of model.0 to 38\n",
      "=> Set task of model.2 to 38\n",
      "=> Set task of model.4 to 38\n"
     ]
    },
    {
     "data": {
      "application/vnd.jupyter.widget-view+json": {
       "model_id": "57c25922f1104494a2434973e2e5f410",
       "version_major": 2,
       "version_minor": 0
      },
      "text/plain": [
       "  0%|          | 0/469 [00:00<?, ?it/s]"
      ]
     },
     "metadata": {},
     "output_type": "display_data"
    },
    {
     "name": "stdout",
     "output_type": "stream",
     "text": [
      "Validation => Loss 2.1567, Acc@1 0.2969\n",
      "============\n"
     ]
    },
    {
     "data": {
      "application/vnd.jupyter.widget-view+json": {
       "model_id": "d247448988b54d7d84218b25191f44bb",
       "version_major": 2,
       "version_minor": 0
      },
      "text/plain": [
       "  0%|          | 0/79 [00:00<?, ?it/s]"
      ]
     },
     "metadata": {},
     "output_type": "display_data"
    },
    {
     "name": "stdout",
     "output_type": "stream",
     "text": [
      "Val Perf after 1 epochs Acc@1 0.4646\n"
     ]
    },
    {
     "data": {
      "application/vnd.jupyter.widget-view+json": {
       "model_id": "f5f684082c8f4eb6a09d67c2b615e1bc",
       "version_major": 2,
       "version_minor": 0
      },
      "text/plain": [
       "  0%|          | 0/469 [00:00<?, ?it/s]"
      ]
     },
     "metadata": {},
     "output_type": "display_data"
    },
    {
     "name": "stdout",
     "output_type": "stream",
     "text": [
      "Validation => Loss 1.6993, Acc@1 0.5326\n",
      "============\n"
     ]
    },
    {
     "data": {
      "application/vnd.jupyter.widget-view+json": {
       "model_id": "756848b1fa024497b5ac9b893416e5bf",
       "version_major": 2,
       "version_minor": 0
      },
      "text/plain": [
       "  0%|          | 0/79 [00:00<?, ?it/s]"
      ]
     },
     "metadata": {},
     "output_type": "display_data"
    },
    {
     "name": "stdout",
     "output_type": "stream",
     "text": [
      "Val Perf after 2 epochs Acc@1 0.5938\n",
      "=> Caching mask state for model.0\n",
      "=> Caching mask state for model.2\n",
      "=> Caching mask state for model.4\n",
      "\n",
      "=> Setting learned tasks of model.0 to 39\n",
      "=> Setting learned tasks of model.2 to 39\n",
      "=> Setting learned tasks of model.4 to 39\n",
      "\n",
      "Training for task 39\n",
      "=> Set task of model.0 to 39\n",
      "=> Set task of model.2 to 39\n",
      "=> Set task of model.4 to 39\n"
     ]
    },
    {
     "data": {
      "application/vnd.jupyter.widget-view+json": {
       "model_id": "5e98b16b136c427ebd45b3e47485855c",
       "version_major": 2,
       "version_minor": 0
      },
      "text/plain": [
       "  0%|          | 0/469 [00:00<?, ?it/s]"
      ]
     },
     "metadata": {},
     "output_type": "display_data"
    },
    {
     "name": "stdout",
     "output_type": "stream",
     "text": [
      "Validation => Loss 2.1808, Acc@1 0.2454\n",
      "============\n"
     ]
    },
    {
     "data": {
      "application/vnd.jupyter.widget-view+json": {
       "model_id": "387e36a44de3452a974020f788ba2470",
       "version_major": 2,
       "version_minor": 0
      },
      "text/plain": [
       "  0%|          | 0/79 [00:00<?, ?it/s]"
      ]
     },
     "metadata": {},
     "output_type": "display_data"
    },
    {
     "name": "stdout",
     "output_type": "stream",
     "text": [
      "Val Perf after 1 epochs Acc@1 0.4506\n"
     ]
    },
    {
     "data": {
      "application/vnd.jupyter.widget-view+json": {
       "model_id": "1c55d48629ec4d948d234e29008950d5",
       "version_major": 2,
       "version_minor": 0
      },
      "text/plain": [
       "  0%|          | 0/469 [00:00<?, ?it/s]"
      ]
     },
     "metadata": {},
     "output_type": "display_data"
    },
    {
     "name": "stdout",
     "output_type": "stream",
     "text": [
      "Validation => Loss 1.5985, Acc@1 0.5251\n",
      "============\n"
     ]
    },
    {
     "data": {
      "application/vnd.jupyter.widget-view+json": {
       "model_id": "7fc9347ff3cf46abac6cf7212ff45e95",
       "version_major": 2,
       "version_minor": 0
      },
      "text/plain": [
       "  0%|          | 0/79 [00:00<?, ?it/s]"
      ]
     },
     "metadata": {},
     "output_type": "display_data"
    },
    {
     "name": "stdout",
     "output_type": "stream",
     "text": [
      "Val Perf after 2 epochs Acc@1 0.5993\n",
      "=> Caching mask state for model.0\n",
      "=> Caching mask state for model.2\n",
      "=> Caching mask state for model.4\n",
      "\n",
      "=> Setting learned tasks of model.0 to 40\n",
      "=> Setting learned tasks of model.2 to 40\n",
      "=> Setting learned tasks of model.4 to 40\n",
      "\n",
      "Training for task 40\n",
      "=> Set task of model.0 to 40\n",
      "=> Set task of model.2 to 40\n",
      "=> Set task of model.4 to 40\n"
     ]
    },
    {
     "data": {
      "application/vnd.jupyter.widget-view+json": {
       "model_id": "82c1e9ae3a884970a331518683cb1492",
       "version_major": 2,
       "version_minor": 0
      },
      "text/plain": [
       "  0%|          | 0/469 [00:00<?, ?it/s]"
      ]
     },
     "metadata": {},
     "output_type": "display_data"
    },
    {
     "name": "stdout",
     "output_type": "stream",
     "text": [
      "Validation => Loss 2.1846, Acc@1 0.2572\n",
      "============\n"
     ]
    },
    {
     "data": {
      "application/vnd.jupyter.widget-view+json": {
       "model_id": "f5c149d665bf4419b3da624bc0cb9f1d",
       "version_major": 2,
       "version_minor": 0
      },
      "text/plain": [
       "  0%|          | 0/79 [00:00<?, ?it/s]"
      ]
     },
     "metadata": {},
     "output_type": "display_data"
    },
    {
     "name": "stdout",
     "output_type": "stream",
     "text": [
      "Val Perf after 1 epochs Acc@1 0.4325\n"
     ]
    },
    {
     "data": {
      "application/vnd.jupyter.widget-view+json": {
       "model_id": "849140887f094beba06564859c467348",
       "version_major": 2,
       "version_minor": 0
      },
      "text/plain": [
       "  0%|          | 0/469 [00:00<?, ?it/s]"
      ]
     },
     "metadata": {},
     "output_type": "display_data"
    },
    {
     "name": "stdout",
     "output_type": "stream",
     "text": [
      "Validation => Loss 1.6575, Acc@1 0.5146\n",
      "============\n"
     ]
    },
    {
     "data": {
      "application/vnd.jupyter.widget-view+json": {
       "model_id": "6fc0aa18ad0b4e0dbd86ab97aa7e5a5a",
       "version_major": 2,
       "version_minor": 0
      },
      "text/plain": [
       "  0%|          | 0/79 [00:00<?, ?it/s]"
      ]
     },
     "metadata": {},
     "output_type": "display_data"
    },
    {
     "name": "stdout",
     "output_type": "stream",
     "text": [
      "Val Perf after 2 epochs Acc@1 0.5908\n",
      "=> Caching mask state for model.0\n",
      "=> Caching mask state for model.2\n",
      "=> Caching mask state for model.4\n",
      "\n",
      "=> Setting learned tasks of model.0 to 41\n",
      "=> Setting learned tasks of model.2 to 41\n",
      "=> Setting learned tasks of model.4 to 41\n",
      "\n",
      "Training for task 41\n",
      "=> Set task of model.0 to 41\n",
      "=> Set task of model.2 to 41\n",
      "=> Set task of model.4 to 41\n"
     ]
    },
    {
     "data": {
      "application/vnd.jupyter.widget-view+json": {
       "model_id": "1f572121bb8248b8a85eddc8ae34b1d1",
       "version_major": 2,
       "version_minor": 0
      },
      "text/plain": [
       "  0%|          | 0/469 [00:00<?, ?it/s]"
      ]
     },
     "metadata": {},
     "output_type": "display_data"
    },
    {
     "name": "stdout",
     "output_type": "stream",
     "text": [
      "Validation => Loss 2.0979, Acc@1 0.2441\n",
      "============\n"
     ]
    },
    {
     "data": {
      "application/vnd.jupyter.widget-view+json": {
       "model_id": "1b40d49995ab49278636a9ff6b012a6a",
       "version_major": 2,
       "version_minor": 0
      },
      "text/plain": [
       "  0%|          | 0/79 [00:00<?, ?it/s]"
      ]
     },
     "metadata": {},
     "output_type": "display_data"
    },
    {
     "name": "stdout",
     "output_type": "stream",
     "text": [
      "Val Perf after 1 epochs Acc@1 0.4216\n"
     ]
    },
    {
     "data": {
      "application/vnd.jupyter.widget-view+json": {
       "model_id": "b553d9ba1ff34c7793819398566d1530",
       "version_major": 2,
       "version_minor": 0
      },
      "text/plain": [
       "  0%|          | 0/469 [00:00<?, ?it/s]"
      ]
     },
     "metadata": {},
     "output_type": "display_data"
    },
    {
     "name": "stdout",
     "output_type": "stream",
     "text": [
      "Validation => Loss 1.6874, Acc@1 0.5026\n",
      "============\n"
     ]
    },
    {
     "data": {
      "application/vnd.jupyter.widget-view+json": {
       "model_id": "2848a61d35594eec9cc5a15194605189",
       "version_major": 2,
       "version_minor": 0
      },
      "text/plain": [
       "  0%|          | 0/79 [00:00<?, ?it/s]"
      ]
     },
     "metadata": {},
     "output_type": "display_data"
    },
    {
     "name": "stdout",
     "output_type": "stream",
     "text": [
      "Val Perf after 2 epochs Acc@1 0.5667\n",
      "=> Caching mask state for model.0\n",
      "=> Caching mask state for model.2\n",
      "=> Caching mask state for model.4\n",
      "\n",
      "=> Setting learned tasks of model.0 to 42\n",
      "=> Setting learned tasks of model.2 to 42\n",
      "=> Setting learned tasks of model.4 to 42\n",
      "\n",
      "Training for task 42\n",
      "=> Set task of model.0 to 42\n",
      "=> Set task of model.2 to 42\n",
      "=> Set task of model.4 to 42\n"
     ]
    },
    {
     "data": {
      "application/vnd.jupyter.widget-view+json": {
       "model_id": "1eac7426e2084a2e87a1ffa39c4ed76c",
       "version_major": 2,
       "version_minor": 0
      },
      "text/plain": [
       "  0%|          | 0/469 [00:00<?, ?it/s]"
      ]
     },
     "metadata": {},
     "output_type": "display_data"
    },
    {
     "name": "stdout",
     "output_type": "stream",
     "text": [
      "Validation => Loss 2.1439, Acc@1 0.2357\n",
      "============\n"
     ]
    },
    {
     "data": {
      "application/vnd.jupyter.widget-view+json": {
       "model_id": "2f25737a19124c59908ef0329faf5612",
       "version_major": 2,
       "version_minor": 0
      },
      "text/plain": [
       "  0%|          | 0/79 [00:00<?, ?it/s]"
      ]
     },
     "metadata": {},
     "output_type": "display_data"
    },
    {
     "name": "stdout",
     "output_type": "stream",
     "text": [
      "Val Perf after 1 epochs Acc@1 0.4126\n"
     ]
    },
    {
     "data": {
      "application/vnd.jupyter.widget-view+json": {
       "model_id": "9b860ac8708c4079bf661dce92805066",
       "version_major": 2,
       "version_minor": 0
      },
      "text/plain": [
       "  0%|          | 0/469 [00:00<?, ?it/s]"
      ]
     },
     "metadata": {},
     "output_type": "display_data"
    },
    {
     "name": "stdout",
     "output_type": "stream",
     "text": [
      "Validation => Loss 1.4997, Acc@1 0.5436\n",
      "============\n"
     ]
    },
    {
     "data": {
      "application/vnd.jupyter.widget-view+json": {
       "model_id": "4f8fb81ac3af452a8074e1e8f41b190e",
       "version_major": 2,
       "version_minor": 0
      },
      "text/plain": [
       "  0%|          | 0/79 [00:00<?, ?it/s]"
      ]
     },
     "metadata": {},
     "output_type": "display_data"
    },
    {
     "name": "stdout",
     "output_type": "stream",
     "text": [
      "Val Perf after 2 epochs Acc@1 0.6050\n",
      "=> Caching mask state for model.0\n",
      "=> Caching mask state for model.2\n",
      "=> Caching mask state for model.4\n",
      "\n",
      "=> Setting learned tasks of model.0 to 43\n",
      "=> Setting learned tasks of model.2 to 43\n",
      "=> Setting learned tasks of model.4 to 43\n",
      "\n",
      "Training for task 43\n",
      "=> Set task of model.0 to 43\n",
      "=> Set task of model.2 to 43\n",
      "=> Set task of model.4 to 43\n"
     ]
    },
    {
     "data": {
      "application/vnd.jupyter.widget-view+json": {
       "model_id": "cdcca250bc8049a9848a55a10a6dec85",
       "version_major": 2,
       "version_minor": 0
      },
      "text/plain": [
       "  0%|          | 0/469 [00:00<?, ?it/s]"
      ]
     },
     "metadata": {},
     "output_type": "display_data"
    },
    {
     "name": "stdout",
     "output_type": "stream",
     "text": [
      "Validation => Loss 2.0552, Acc@1 0.2520\n",
      "============\n"
     ]
    },
    {
     "data": {
      "application/vnd.jupyter.widget-view+json": {
       "model_id": "be0aaf94f6c74516afd5deb4cec5de09",
       "version_major": 2,
       "version_minor": 0
      },
      "text/plain": [
       "  0%|          | 0/79 [00:00<?, ?it/s]"
      ]
     },
     "metadata": {},
     "output_type": "display_data"
    },
    {
     "name": "stdout",
     "output_type": "stream",
     "text": [
      "Val Perf after 1 epochs Acc@1 0.4570\n"
     ]
    },
    {
     "data": {
      "application/vnd.jupyter.widget-view+json": {
       "model_id": "a134ccb016784372a1aab5e109408e30",
       "version_major": 2,
       "version_minor": 0
      },
      "text/plain": [
       "  0%|          | 0/469 [00:00<?, ?it/s]"
      ]
     },
     "metadata": {},
     "output_type": "display_data"
    },
    {
     "name": "stdout",
     "output_type": "stream",
     "text": [
      "Validation => Loss 1.5639, Acc@1 0.5130\n",
      "============\n"
     ]
    },
    {
     "data": {
      "application/vnd.jupyter.widget-view+json": {
       "model_id": "413314198b244c93a032e2129eb3a691",
       "version_major": 2,
       "version_minor": 0
      },
      "text/plain": [
       "  0%|          | 0/79 [00:00<?, ?it/s]"
      ]
     },
     "metadata": {},
     "output_type": "display_data"
    },
    {
     "name": "stdout",
     "output_type": "stream",
     "text": [
      "Val Perf after 2 epochs Acc@1 0.6045\n",
      "=> Caching mask state for model.0\n",
      "=> Caching mask state for model.2\n",
      "=> Caching mask state for model.4\n",
      "\n",
      "=> Setting learned tasks of model.0 to 44\n",
      "=> Setting learned tasks of model.2 to 44\n",
      "=> Setting learned tasks of model.4 to 44\n",
      "\n",
      "Training for task 44\n",
      "=> Set task of model.0 to 44\n",
      "=> Set task of model.2 to 44\n",
      "=> Set task of model.4 to 44\n"
     ]
    },
    {
     "data": {
      "application/vnd.jupyter.widget-view+json": {
       "model_id": "90284eca042042dd9163aac47f1f24c5",
       "version_major": 2,
       "version_minor": 0
      },
      "text/plain": [
       "  0%|          | 0/469 [00:00<?, ?it/s]"
      ]
     },
     "metadata": {},
     "output_type": "display_data"
    },
    {
     "name": "stdout",
     "output_type": "stream",
     "text": [
      "Validation => Loss 2.0255, Acc@1 0.2627\n",
      "============\n"
     ]
    },
    {
     "data": {
      "application/vnd.jupyter.widget-view+json": {
       "model_id": "e62e7197d2d94c72ad4e4d60f6d6cc07",
       "version_major": 2,
       "version_minor": 0
      },
      "text/plain": [
       "  0%|          | 0/79 [00:00<?, ?it/s]"
      ]
     },
     "metadata": {},
     "output_type": "display_data"
    },
    {
     "name": "stdout",
     "output_type": "stream",
     "text": [
      "Val Perf after 1 epochs Acc@1 0.4213\n"
     ]
    },
    {
     "data": {
      "application/vnd.jupyter.widget-view+json": {
       "model_id": "59e7e727097a4f0487075a3ceb6ae9b3",
       "version_major": 2,
       "version_minor": 0
      },
      "text/plain": [
       "  0%|          | 0/469 [00:00<?, ?it/s]"
      ]
     },
     "metadata": {},
     "output_type": "display_data"
    },
    {
     "name": "stdout",
     "output_type": "stream",
     "text": [
      "Validation => Loss 1.6356, Acc@1 0.5013\n",
      "============\n"
     ]
    },
    {
     "data": {
      "application/vnd.jupyter.widget-view+json": {
       "model_id": "cf8f9374b86240ecbf4f0f4bdbcaeb42",
       "version_major": 2,
       "version_minor": 0
      },
      "text/plain": [
       "  0%|          | 0/79 [00:00<?, ?it/s]"
      ]
     },
     "metadata": {},
     "output_type": "display_data"
    },
    {
     "name": "stdout",
     "output_type": "stream",
     "text": [
      "Val Perf after 2 epochs Acc@1 0.5648\n",
      "=> Caching mask state for model.0\n",
      "=> Caching mask state for model.2\n",
      "=> Caching mask state for model.4\n",
      "\n",
      "=> Setting learned tasks of model.0 to 45\n",
      "=> Setting learned tasks of model.2 to 45\n",
      "=> Setting learned tasks of model.4 to 45\n",
      "\n",
      "Training for task 45\n",
      "=> Set task of model.0 to 45\n",
      "=> Set task of model.2 to 45\n",
      "=> Set task of model.4 to 45\n"
     ]
    },
    {
     "data": {
      "application/vnd.jupyter.widget-view+json": {
       "model_id": "68b2c4e405184a488db220727fcc791a",
       "version_major": 2,
       "version_minor": 0
      },
      "text/plain": [
       "  0%|          | 0/469 [00:00<?, ?it/s]"
      ]
     },
     "metadata": {},
     "output_type": "display_data"
    },
    {
     "name": "stdout",
     "output_type": "stream",
     "text": [
      "Validation => Loss 2.2914, Acc@1 0.2415\n",
      "============\n"
     ]
    },
    {
     "data": {
      "application/vnd.jupyter.widget-view+json": {
       "model_id": "6eacc99164ac4449813d1c65c42b8cdf",
       "version_major": 2,
       "version_minor": 0
      },
      "text/plain": [
       "  0%|          | 0/79 [00:00<?, ?it/s]"
      ]
     },
     "metadata": {},
     "output_type": "display_data"
    },
    {
     "name": "stdout",
     "output_type": "stream",
     "text": [
      "Val Perf after 1 epochs Acc@1 0.4374\n"
     ]
    },
    {
     "data": {
      "application/vnd.jupyter.widget-view+json": {
       "model_id": "21433d3cf0d340e8bb90afff65f139f6",
       "version_major": 2,
       "version_minor": 0
      },
      "text/plain": [
       "  0%|          | 0/469 [00:00<?, ?it/s]"
      ]
     },
     "metadata": {},
     "output_type": "display_data"
    },
    {
     "name": "stdout",
     "output_type": "stream",
     "text": [
      "Validation => Loss 1.7430, Acc@1 0.5130\n",
      "============\n"
     ]
    },
    {
     "data": {
      "application/vnd.jupyter.widget-view+json": {
       "model_id": "e509da438fcd4796b1f5c69540c30834",
       "version_major": 2,
       "version_minor": 0
      },
      "text/plain": [
       "  0%|          | 0/79 [00:00<?, ?it/s]"
      ]
     },
     "metadata": {},
     "output_type": "display_data"
    },
    {
     "name": "stdout",
     "output_type": "stream",
     "text": [
      "Val Perf after 2 epochs Acc@1 0.5782\n",
      "=> Caching mask state for model.0\n",
      "=> Caching mask state for model.2\n",
      "=> Caching mask state for model.4\n",
      "\n",
      "=> Setting learned tasks of model.0 to 46\n",
      "=> Setting learned tasks of model.2 to 46\n",
      "=> Setting learned tasks of model.4 to 46\n",
      "\n",
      "Training for task 46\n",
      "=> Set task of model.0 to 46\n",
      "=> Set task of model.2 to 46\n",
      "=> Set task of model.4 to 46\n"
     ]
    },
    {
     "data": {
      "application/vnd.jupyter.widget-view+json": {
       "model_id": "efab91afc7394f749fb6ab195e4432ac",
       "version_major": 2,
       "version_minor": 0
      },
      "text/plain": [
       "  0%|          | 0/469 [00:00<?, ?it/s]"
      ]
     },
     "metadata": {},
     "output_type": "display_data"
    },
    {
     "name": "stdout",
     "output_type": "stream",
     "text": [
      "Validation => Loss 1.8855, Acc@1 0.3454\n",
      "============\n"
     ]
    },
    {
     "data": {
      "application/vnd.jupyter.widget-view+json": {
       "model_id": "e01886901d3248efa13efe9afbd7feb5",
       "version_major": 2,
       "version_minor": 0
      },
      "text/plain": [
       "  0%|          | 0/79 [00:00<?, ?it/s]"
      ]
     },
     "metadata": {},
     "output_type": "display_data"
    },
    {
     "name": "stdout",
     "output_type": "stream",
     "text": [
      "Val Perf after 1 epochs Acc@1 0.5087\n"
     ]
    },
    {
     "data": {
      "application/vnd.jupyter.widget-view+json": {
       "model_id": "3ff5628bcf5248ac83e8d4ac32cbefdc",
       "version_major": 2,
       "version_minor": 0
      },
      "text/plain": [
       "  0%|          | 0/469 [00:00<?, ?it/s]"
      ]
     },
     "metadata": {},
     "output_type": "display_data"
    },
    {
     "name": "stdout",
     "output_type": "stream",
     "text": [
      "Validation => Loss 1.3328, Acc@1 0.5745\n",
      "============\n"
     ]
    },
    {
     "data": {
      "application/vnd.jupyter.widget-view+json": {
       "model_id": "e630d1ec74404271a919c69cedbc84ae",
       "version_major": 2,
       "version_minor": 0
      },
      "text/plain": [
       "  0%|          | 0/79 [00:00<?, ?it/s]"
      ]
     },
     "metadata": {},
     "output_type": "display_data"
    },
    {
     "name": "stdout",
     "output_type": "stream",
     "text": [
      "Val Perf after 2 epochs Acc@1 0.6323\n",
      "=> Caching mask state for model.0\n",
      "=> Caching mask state for model.2\n",
      "=> Caching mask state for model.4\n",
      "\n",
      "=> Setting learned tasks of model.0 to 47\n",
      "=> Setting learned tasks of model.2 to 47\n",
      "=> Setting learned tasks of model.4 to 47\n",
      "\n",
      "Training for task 47\n",
      "=> Set task of model.0 to 47\n",
      "=> Set task of model.2 to 47\n",
      "=> Set task of model.4 to 47\n"
     ]
    },
    {
     "data": {
      "application/vnd.jupyter.widget-view+json": {
       "model_id": "28145588e61e45ea8b015ddd686050d6",
       "version_major": 2,
       "version_minor": 0
      },
      "text/plain": [
       "  0%|          | 0/469 [00:00<?, ?it/s]"
      ]
     },
     "metadata": {},
     "output_type": "display_data"
    },
    {
     "name": "stdout",
     "output_type": "stream",
     "text": [
      "Validation => Loss 2.1218, Acc@1 0.2871\n",
      "============\n"
     ]
    },
    {
     "data": {
      "application/vnd.jupyter.widget-view+json": {
       "model_id": "6ea14d96ba064a17865899e81726c9b3",
       "version_major": 2,
       "version_minor": 0
      },
      "text/plain": [
       "  0%|          | 0/79 [00:00<?, ?it/s]"
      ]
     },
     "metadata": {},
     "output_type": "display_data"
    },
    {
     "name": "stdout",
     "output_type": "stream",
     "text": [
      "Val Perf after 1 epochs Acc@1 0.5095\n"
     ]
    },
    {
     "data": {
      "application/vnd.jupyter.widget-view+json": {
       "model_id": "783fd9fd880c47f3991cd31c9d648760",
       "version_major": 2,
       "version_minor": 0
      },
      "text/plain": [
       "  0%|          | 0/469 [00:00<?, ?it/s]"
      ]
     },
     "metadata": {},
     "output_type": "display_data"
    },
    {
     "name": "stdout",
     "output_type": "stream",
     "text": [
      "Validation => Loss 1.6784, Acc@1 0.5755\n",
      "============\n"
     ]
    },
    {
     "data": {
      "application/vnd.jupyter.widget-view+json": {
       "model_id": "14e474b3e011454ba18832bdf740a171",
       "version_major": 2,
       "version_minor": 0
      },
      "text/plain": [
       "  0%|          | 0/79 [00:00<?, ?it/s]"
      ]
     },
     "metadata": {},
     "output_type": "display_data"
    },
    {
     "name": "stdout",
     "output_type": "stream",
     "text": [
      "Val Perf after 2 epochs Acc@1 0.6278\n",
      "=> Caching mask state for model.0\n",
      "=> Caching mask state for model.2\n",
      "=> Caching mask state for model.4\n",
      "\n",
      "=> Setting learned tasks of model.0 to 48\n",
      "=> Setting learned tasks of model.2 to 48\n",
      "=> Setting learned tasks of model.4 to 48\n",
      "\n",
      "Training for task 48\n",
      "=> Set task of model.0 to 48\n",
      "=> Set task of model.2 to 48\n",
      "=> Set task of model.4 to 48\n"
     ]
    },
    {
     "data": {
      "application/vnd.jupyter.widget-view+json": {
       "model_id": "dd40a18ed3a64632b6cf31f7fcef026b",
       "version_major": 2,
       "version_minor": 0
      },
      "text/plain": [
       "  0%|          | 0/469 [00:00<?, ?it/s]"
      ]
     },
     "metadata": {},
     "output_type": "display_data"
    },
    {
     "name": "stdout",
     "output_type": "stream",
     "text": [
      "Validation => Loss 2.1371, Acc@1 0.2412\n",
      "============\n"
     ]
    },
    {
     "data": {
      "application/vnd.jupyter.widget-view+json": {
       "model_id": "cdd4d8bd69fd4e21b0e8aca4766b50e5",
       "version_major": 2,
       "version_minor": 0
      },
      "text/plain": [
       "  0%|          | 0/79 [00:00<?, ?it/s]"
      ]
     },
     "metadata": {},
     "output_type": "display_data"
    },
    {
     "name": "stdout",
     "output_type": "stream",
     "text": [
      "Val Perf after 1 epochs Acc@1 0.3851\n"
     ]
    },
    {
     "data": {
      "application/vnd.jupyter.widget-view+json": {
       "model_id": "b399e3d46eea4f16848ca27a9ac58624",
       "version_major": 2,
       "version_minor": 0
      },
      "text/plain": [
       "  0%|          | 0/469 [00:00<?, ?it/s]"
      ]
     },
     "metadata": {},
     "output_type": "display_data"
    },
    {
     "name": "stdout",
     "output_type": "stream",
     "text": [
      "Validation => Loss 1.7507, Acc@1 0.4727\n",
      "============\n"
     ]
    },
    {
     "data": {
      "application/vnd.jupyter.widget-view+json": {
       "model_id": "05e65462d4cc4f39923cc286c6fec515",
       "version_major": 2,
       "version_minor": 0
      },
      "text/plain": [
       "  0%|          | 0/79 [00:00<?, ?it/s]"
      ]
     },
     "metadata": {},
     "output_type": "display_data"
    },
    {
     "name": "stdout",
     "output_type": "stream",
     "text": [
      "Val Perf after 2 epochs Acc@1 0.5461\n",
      "=> Caching mask state for model.0\n",
      "=> Caching mask state for model.2\n",
      "=> Caching mask state for model.4\n",
      "\n",
      "=> Setting learned tasks of model.0 to 49\n",
      "=> Setting learned tasks of model.2 to 49\n",
      "=> Setting learned tasks of model.4 to 49\n",
      "\n",
      "Training for task 49\n",
      "=> Set task of model.0 to 49\n",
      "=> Set task of model.2 to 49\n",
      "=> Set task of model.4 to 49\n"
     ]
    },
    {
     "data": {
      "application/vnd.jupyter.widget-view+json": {
       "model_id": "05a4d0104b2944fba80329af268a3485",
       "version_major": 2,
       "version_minor": 0
      },
      "text/plain": [
       "  0%|          | 0/469 [00:00<?, ?it/s]"
      ]
     },
     "metadata": {},
     "output_type": "display_data"
    },
    {
     "name": "stdout",
     "output_type": "stream",
     "text": [
      "Validation => Loss 2.4320, Acc@1 0.2624\n",
      "============\n"
     ]
    },
    {
     "data": {
      "application/vnd.jupyter.widget-view+json": {
       "model_id": "2e1c22620eb44054a1ab4657a567a1de",
       "version_major": 2,
       "version_minor": 0
      },
      "text/plain": [
       "  0%|          | 0/79 [00:00<?, ?it/s]"
      ]
     },
     "metadata": {},
     "output_type": "display_data"
    },
    {
     "name": "stdout",
     "output_type": "stream",
     "text": [
      "Val Perf after 1 epochs Acc@1 0.4323\n"
     ]
    },
    {
     "data": {
      "application/vnd.jupyter.widget-view+json": {
       "model_id": "9f0574d203f24b9f9bc363d002bd6192",
       "version_major": 2,
       "version_minor": 0
      },
      "text/plain": [
       "  0%|          | 0/469 [00:00<?, ?it/s]"
      ]
     },
     "metadata": {},
     "output_type": "display_data"
    },
    {
     "name": "stdout",
     "output_type": "stream",
     "text": [
      "Validation => Loss 1.6666, Acc@1 0.5023\n",
      "============\n"
     ]
    },
    {
     "data": {
      "application/vnd.jupyter.widget-view+json": {
       "model_id": "e76aad17259847b98f626a4701507e1c",
       "version_major": 2,
       "version_minor": 0
      },
      "text/plain": [
       "  0%|          | 0/79 [00:00<?, ?it/s]"
      ]
     },
     "metadata": {},
     "output_type": "display_data"
    },
    {
     "name": "stdout",
     "output_type": "stream",
     "text": [
      "Val Perf after 2 epochs Acc@1 0.5746\n",
      "=> Caching mask state for model.0\n",
      "=> Caching mask state for model.2\n",
      "=> Caching mask state for model.4\n",
      "\n",
      "=> Setting learned tasks of model.0 to 50\n",
      "=> Setting learned tasks of model.2 to 50\n",
      "=> Setting learned tasks of model.4 to 50\n",
      "\n"
     ]
    }
   ],
   "source": [
    "for task in range(0, num_tasks):\n",
    "    print(f\"Training for task {task}\")\n",
    "    set_model_task(basis_model_zero_sh, task)\n",
    "    mnist.update_task(task)\n",
    "\n",
    "    optimizer = optim.RMSprop([p for p in basis_model_zero_sh.parameters() if p.requires_grad], lr=1e-4)\n",
    "    # Train for 1 epoch\n",
    "    for e in range(2):\n",
    "        train(basis_model_zero_sh, mnist.train_loader, optimizer, e)\n",
    "        \n",
    "        print(\"Validation\")\n",
    "        print(\"============\")\n",
    "        acc1 = evaluate(basis_model_zero_sh, mnist.val_loader, e)\n",
    "        \n",
    "    \n",
    "    cache_masks(basis_model_zero_sh)\n",
    "    print()\n",
    "    set_num_tasks_learned(basis_model_zero_sh, task + 1)\n",
    "    print()"
   ]
  },
  {
   "cell_type": "code",
   "execution_count": 119,
   "metadata": {
    "scrolled": false
   },
   "outputs": [
    {
     "name": "stdout",
     "output_type": "stream",
     "text": [
      "Average top 1 performance: 0.5951\n",
      "Per task performance\n",
      "Task 0: 0.7975\n",
      "Task 1: 0.6276\n",
      "Task 2: 0.5823\n",
      "Task 3: 0.5874\n",
      "Task 4: 0.5553\n",
      "Task 5: 0.6169\n",
      "Task 6: 0.6039\n",
      "Task 7: 0.6550\n",
      "Task 8: 0.5928\n",
      "Task 9: 0.6393\n",
      "Task 10: 0.6088\n",
      "Task 11: 0.6289\n",
      "Task 12: 0.4964\n",
      "Task 13: 0.5944\n",
      "Task 14: 0.6039\n",
      "Task 15: 0.5837\n",
      "Task 16: 0.5528\n",
      "Task 17: 0.5962\n",
      "Task 18: 0.5621\n",
      "Task 19: 0.6361\n",
      "Task 20: 0.5812\n",
      "Task 21: 0.6272\n",
      "Task 22: 0.6218\n",
      "Task 23: 0.6378\n",
      "Task 24: 0.6017\n",
      "Task 25: 0.5391\n",
      "Task 26: 0.6241\n",
      "Task 27: 0.6468\n",
      "Task 28: 0.6081\n",
      "Task 29: 0.6235\n",
      "Task 30: 0.5439\n",
      "Task 31: 0.6180\n",
      "Task 32: 0.5326\n",
      "Task 33: 0.5622\n",
      "Task 34: 0.5398\n",
      "Task 35: 0.5965\n",
      "Task 36: 0.5153\n",
      "Task 37: 0.5290\n",
      "Task 38: 0.5938\n",
      "Task 39: 0.5993\n",
      "Task 40: 0.5908\n",
      "Task 41: 0.5667\n",
      "Task 42: 0.6050\n",
      "Task 43: 0.6045\n",
      "Task 44: 0.5648\n",
      "Task 45: 0.5782\n",
      "Task 46: 0.6323\n",
      "Task 47: 0.6278\n",
      "Task 48: 0.5461\n",
      "Task 49: 0.5746\n"
     ]
    }
   ],
   "source": [
    "# When task ID we can simply set the mask and evaluate\n",
    "\n",
    "gg_performance = []\n",
    "for task in range(num_tasks):\n",
    "    set_model_task(basis_model_zero_sh, task)\n",
    "    mnist.update_task(task)\n",
    "    acc1 = evaluate(basis_model_zero_sh, mnist.val_loader, 0)\n",
    "    gg_performance.append(acc1.item())\n",
    "\n",
    "clear_output()\n",
    "    \n",
    "print(f\"Average top 1 performance: {(sum(gg_performance) / len(gg_performance)):.4f}\")\n",
    "\n",
    "print(\"Per task performance\")\n",
    "for t in range(num_tasks):\n",
    "    print(f\"Task {t}: {gg_performance[t]:.4f}\")"
   ]
  },
  {
   "cell_type": "code",
   "execution_count": 120,
   "metadata": {},
   "outputs": [],
   "source": [
    "performance_map['basis_hybrid_mnist_task_zero_only'] = gg_performance.copy()"
   ]
  },
  {
   "cell_type": "code",
   "execution_count": null,
   "metadata": {},
   "outputs": [],
   "source": []
  },
  {
   "cell_type": "code",
   "execution_count": null,
   "metadata": {},
   "outputs": [],
   "source": []
  },
  {
   "cell_type": "code",
   "execution_count": null,
   "metadata": {},
   "outputs": [],
   "source": []
  },
  {
   "cell_type": "code",
   "execution_count": null,
   "metadata": {},
   "outputs": [],
   "source": []
  },
  {
   "cell_type": "code",
   "execution_count": null,
   "metadata": {},
   "outputs": [],
   "source": []
  },
  {
   "cell_type": "code",
   "execution_count": 121,
   "metadata": {},
   "outputs": [],
   "source": [
    "import pandas as pd\n",
    "import matplotlib.pyplot as plt\n",
    "\n",
    "%matplotlib inline"
   ]
  },
  {
   "cell_type": "code",
   "execution_count": 122,
   "metadata": {},
   "outputs": [],
   "source": [
    "perf_map_copy = performance_map.copy()\n",
    "for k in performance_map.keys():\n",
    "    if 'frozen' in k:\n",
    "        perf_map_copy[k] = [0.0]*40 + performance_map[k]"
   ]
  },
  {
   "cell_type": "code",
   "execution_count": 123,
   "metadata": {},
   "outputs": [],
   "source": [
    "df = pd.DataFrame(perf_map_copy)"
   ]
  },
  {
   "cell_type": "code",
   "execution_count": 124,
   "metadata": {},
   "outputs": [],
   "source": [
    "df.loc[:40, 'Seen'] = True\n",
    "df.loc[40:, 'Seen'] = False"
   ]
  },
  {
   "cell_type": "code",
   "execution_count": 135,
   "metadata": {},
   "outputs": [
    {
     "data": {
      "text/plain": [
       "<AxesSubplot:xlabel='Task'>"
      ]
     },
     "execution_count": 135,
     "metadata": {},
     "output_type": "execute_result"
    },
    {
     "data": {
      "image/png": "[encoded data removed]",
      "text/plain": [
       "<Figure size 1440x576 with 1 Axes>"
      ]
     },
     "metadata": {
      "needs_background": "light"
     },
     "output_type": "display_data"
    }
   ],
   "source": [
    "df.reset_index().rename(columns={'index': 'Task'}).set_index('Task')[[c for c in df.columns if 'hybrid' not in c]].loc[40:].plot(figsize=(20,8)) #.style.background_gradient(low=df.min().min(), high=df.max().max(), axis=1).plot()"
   ]
  }
 ],
 "metadata": {
  "@webio": {
   "lastCommId": null,
   "lastKernelId": null
  },
  "kernelspec": {
   "display_name": "Python 3",
   "language": "python",
   "name": "python3"
  },
  "language_info": {
   "codemirror_mode": {
    "name": "ipython",
    "version": 3
   },
   "file_extension": ".py",
   "mimetype": "text/x-python",
   "name": "python",
   "nbconvert_exporter": "python",
   "pygments_lexer": "ipython3",
   "version": "3.7.10"
  }
 },
 "nbformat": 4,
 "nbformat_minor": 2
}
